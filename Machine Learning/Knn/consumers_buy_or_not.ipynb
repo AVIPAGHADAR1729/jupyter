{
 "cells": [
  {
   "cell_type": "code",
   "execution_count": 443,
   "metadata": {
    "ExecuteTime": {
     "end_time": "2020-12-19T05:55:55.368857Z",
     "start_time": "2020-12-19T05:55:55.242941Z"
    }
   },
   "outputs": [],
   "source": [
    "#import libraries\n",
    "import numpy \n",
    "import numpy as np\n",
    "import pandas as pd\n",
    "import seaborn as sns\n",
    "import matplotlib.pyplot as plt\n",
    "from sklearn import metrics\n",
    "import matplotlib.patches as mpatches\n",
    "from sklearn.metrics import classification_report\n",
    "from sklearn.metrics import confusion_matrix\n",
    "import scipy.stats as st \n",
    "import dtale \n",
    "import warnings\n",
    "warnings.filterwarnings('ignore')\n",
    "import pandas_profiling as pdp\n",
    "from sklearn.model_selection import train_test_split\n",
    "from sklearn.neighbors import KNeighborsClassifier\n",
    "from sklearn.metrics import roc_curve"
   ]
  },
  {
   "cell_type": "code",
   "execution_count": 444,
   "metadata": {
    "ExecuteTime": {
     "end_time": "2020-12-19T05:55:55.511786Z",
     "start_time": "2020-12-19T05:55:55.373852Z"
    }
   },
   "outputs": [],
   "source": [
    "fd_dlvry=pd.read_csv('../../data/Banglore_food_delivery/onlinedeliverydata.csv')"
   ]
  },
  {
   "cell_type": "code",
   "execution_count": 445,
   "metadata": {
    "ExecuteTime": {
     "end_time": "2020-12-19T05:55:55.607745Z",
     "start_time": "2020-12-19T05:55:55.516783Z"
    }
   },
   "outputs": [],
   "source": [
    "fd_ori=fd_dlvry.copy(deep=True)\n",
    "#future uses one copy create"
   ]
  },
  {
   "cell_type": "code",
   "execution_count": 446,
   "metadata": {
    "ExecuteTime": {
     "end_time": "2020-12-19T05:55:55.693694Z",
     "start_time": "2020-12-19T05:55:55.610740Z"
    }
   },
   "outputs": [
    {
     "data": {
      "text/plain": [
       "(388, 55)"
      ]
     },
     "execution_count": 446,
     "metadata": {},
     "output_type": "execute_result"
    }
   ],
   "source": [
    "fd_dlvry.shape"
   ]
  },
  {
   "cell_type": "code",
   "execution_count": 447,
   "metadata": {
    "ExecuteTime": {
     "end_time": "2020-12-19T05:55:55.847605Z",
     "start_time": "2020-12-19T05:55:55.696691Z"
    }
   },
   "outputs": [
    {
     "data": {
      "text/html": [
       "<div>\n",
       "<style scoped>\n",
       "    .dataframe tbody tr th:only-of-type {\n",
       "        vertical-align: middle;\n",
       "    }\n",
       "\n",
       "    .dataframe tbody tr th {\n",
       "        vertical-align: top;\n",
       "    }\n",
       "\n",
       "    .dataframe thead th {\n",
       "        text-align: right;\n",
       "    }\n",
       "</style>\n",
       "<table border=\"1\" class=\"dataframe\">\n",
       "  <thead>\n",
       "    <tr style=\"text-align: right;\">\n",
       "      <th></th>\n",
       "      <th>Age</th>\n",
       "      <th>Gender</th>\n",
       "      <th>Marital Status</th>\n",
       "      <th>Occupation</th>\n",
       "      <th>Monthly Income</th>\n",
       "      <th>Educational Qualifications</th>\n",
       "      <th>Family size</th>\n",
       "      <th>latitude</th>\n",
       "      <th>longitude</th>\n",
       "      <th>Pin code</th>\n",
       "      <th>...</th>\n",
       "      <th>Less Delivery time</th>\n",
       "      <th>High Quality of package</th>\n",
       "      <th>Number of calls</th>\n",
       "      <th>Politeness</th>\n",
       "      <th>Freshness</th>\n",
       "      <th>Temperature</th>\n",
       "      <th>Good Taste</th>\n",
       "      <th>Good Quantity</th>\n",
       "      <th>Output</th>\n",
       "      <th>Reviews</th>\n",
       "    </tr>\n",
       "  </thead>\n",
       "  <tbody>\n",
       "    <tr>\n",
       "      <th>0</th>\n",
       "      <td>20</td>\n",
       "      <td>Female</td>\n",
       "      <td>Single</td>\n",
       "      <td>Student</td>\n",
       "      <td>No Income</td>\n",
       "      <td>Post Graduate</td>\n",
       "      <td>4</td>\n",
       "      <td>12.9766</td>\n",
       "      <td>77.5993</td>\n",
       "      <td>560001</td>\n",
       "      <td>...</td>\n",
       "      <td>Moderately Important</td>\n",
       "      <td>Moderately Important</td>\n",
       "      <td>Moderately Important</td>\n",
       "      <td>Moderately Important</td>\n",
       "      <td>Moderately Important</td>\n",
       "      <td>Moderately Important</td>\n",
       "      <td>Moderately Important</td>\n",
       "      <td>Moderately Important</td>\n",
       "      <td>Yes</td>\n",
       "      <td>Nil\\n</td>\n",
       "    </tr>\n",
       "    <tr>\n",
       "      <th>1</th>\n",
       "      <td>24</td>\n",
       "      <td>Female</td>\n",
       "      <td>Single</td>\n",
       "      <td>Student</td>\n",
       "      <td>Below Rs.10000</td>\n",
       "      <td>Graduate</td>\n",
       "      <td>3</td>\n",
       "      <td>12.9770</td>\n",
       "      <td>77.5773</td>\n",
       "      <td>560009</td>\n",
       "      <td>...</td>\n",
       "      <td>Very Important</td>\n",
       "      <td>Very Important</td>\n",
       "      <td>Very Important</td>\n",
       "      <td>Very Important</td>\n",
       "      <td>Very Important</td>\n",
       "      <td>Very Important</td>\n",
       "      <td>Very Important</td>\n",
       "      <td>Very Important</td>\n",
       "      <td>Yes</td>\n",
       "      <td>Nil</td>\n",
       "    </tr>\n",
       "    <tr>\n",
       "      <th>2</th>\n",
       "      <td>22</td>\n",
       "      <td>Male</td>\n",
       "      <td>Single</td>\n",
       "      <td>Student</td>\n",
       "      <td>Below Rs.10000</td>\n",
       "      <td>Post Graduate</td>\n",
       "      <td>3</td>\n",
       "      <td>12.9551</td>\n",
       "      <td>77.6593</td>\n",
       "      <td>560017</td>\n",
       "      <td>...</td>\n",
       "      <td>Important</td>\n",
       "      <td>Very Important</td>\n",
       "      <td>Moderately Important</td>\n",
       "      <td>Very Important</td>\n",
       "      <td>Very Important</td>\n",
       "      <td>Important</td>\n",
       "      <td>Very Important</td>\n",
       "      <td>Moderately Important</td>\n",
       "      <td>Yes</td>\n",
       "      <td>Many a times payment gateways are an issue, so...</td>\n",
       "    </tr>\n",
       "    <tr>\n",
       "      <th>3</th>\n",
       "      <td>22</td>\n",
       "      <td>Female</td>\n",
       "      <td>Single</td>\n",
       "      <td>Student</td>\n",
       "      <td>No Income</td>\n",
       "      <td>Graduate</td>\n",
       "      <td>6</td>\n",
       "      <td>12.9473</td>\n",
       "      <td>77.5616</td>\n",
       "      <td>560019</td>\n",
       "      <td>...</td>\n",
       "      <td>Very Important</td>\n",
       "      <td>Important</td>\n",
       "      <td>Moderately Important</td>\n",
       "      <td>Very Important</td>\n",
       "      <td>Very Important</td>\n",
       "      <td>Very Important</td>\n",
       "      <td>Very Important</td>\n",
       "      <td>Important</td>\n",
       "      <td>Yes</td>\n",
       "      <td>nil</td>\n",
       "    </tr>\n",
       "    <tr>\n",
       "      <th>4</th>\n",
       "      <td>22</td>\n",
       "      <td>Male</td>\n",
       "      <td>Single</td>\n",
       "      <td>Student</td>\n",
       "      <td>Below Rs.10000</td>\n",
       "      <td>Post Graduate</td>\n",
       "      <td>4</td>\n",
       "      <td>12.9850</td>\n",
       "      <td>77.5533</td>\n",
       "      <td>560010</td>\n",
       "      <td>...</td>\n",
       "      <td>Important</td>\n",
       "      <td>Important</td>\n",
       "      <td>Moderately Important</td>\n",
       "      <td>Important</td>\n",
       "      <td>Important</td>\n",
       "      <td>Important</td>\n",
       "      <td>Very Important</td>\n",
       "      <td>Very Important</td>\n",
       "      <td>Yes</td>\n",
       "      <td>NIL</td>\n",
       "    </tr>\n",
       "  </tbody>\n",
       "</table>\n",
       "<p>5 rows × 55 columns</p>\n",
       "</div>"
      ],
      "text/plain": [
       "   Age  Gender Marital Status Occupation  Monthly Income  \\\n",
       "0   20  Female         Single    Student       No Income   \n",
       "1   24  Female         Single    Student  Below Rs.10000   \n",
       "2   22    Male         Single    Student  Below Rs.10000   \n",
       "3   22  Female         Single    Student       No Income   \n",
       "4   22    Male         Single    Student  Below Rs.10000   \n",
       "\n",
       "  Educational Qualifications  Family size  latitude  longitude  Pin code  ...  \\\n",
       "0              Post Graduate            4   12.9766    77.5993    560001  ...   \n",
       "1                   Graduate            3   12.9770    77.5773    560009  ...   \n",
       "2              Post Graduate            3   12.9551    77.6593    560017  ...   \n",
       "3                   Graduate            6   12.9473    77.5616    560019  ...   \n",
       "4              Post Graduate            4   12.9850    77.5533    560010  ...   \n",
       "\n",
       "     Less Delivery time High Quality of package       Number of calls  \\\n",
       "0  Moderately Important    Moderately Important  Moderately Important   \n",
       "1        Very Important          Very Important        Very Important   \n",
       "2             Important          Very Important  Moderately Important   \n",
       "3        Very Important               Important  Moderately Important   \n",
       "4             Important               Important  Moderately Important   \n",
       "\n",
       "             Politeness            Freshness            Temperature  \\\n",
       "0  Moderately Important  Moderately Important  Moderately Important   \n",
       "1        Very Important        Very Important        Very Important   \n",
       "2        Very Important        Very Important             Important   \n",
       "3        Very Important        Very Important        Very Important   \n",
       "4             Important             Important             Important   \n",
       "\n",
       "            Good Taste          Good Quantity Output  \\\n",
       "0  Moderately Important  Moderately Important    Yes   \n",
       "1        Very Important        Very Important    Yes   \n",
       "2        Very Important  Moderately Important    Yes   \n",
       "3        Very Important             Important    Yes   \n",
       "4        Very Important        Very Important    Yes   \n",
       "\n",
       "                                             Reviews  \n",
       "0                                              Nil\\n  \n",
       "1                                                Nil  \n",
       "2  Many a times payment gateways are an issue, so...  \n",
       "3                                                nil  \n",
       "4                                                NIL  \n",
       "\n",
       "[5 rows x 55 columns]"
      ]
     },
     "execution_count": 447,
     "metadata": {},
     "output_type": "execute_result"
    }
   ],
   "source": [
    "fd_dlvry.head()"
   ]
  },
  {
   "cell_type": "code",
   "execution_count": 448,
   "metadata": {
    "ExecuteTime": {
     "end_time": "2020-12-19T05:55:55.978652Z",
     "start_time": "2020-12-19T05:55:55.851602Z"
    }
   },
   "outputs": [
    {
     "name": "stdout",
     "output_type": "stream",
     "text": [
      "<class 'pandas.core.frame.DataFrame'>\n",
      "RangeIndex: 388 entries, 0 to 387\n",
      "Data columns (total 55 columns):\n",
      " #   Column                                     Non-Null Count  Dtype  \n",
      "---  ------                                     --------------  -----  \n",
      " 0   Age                                        388 non-null    int64  \n",
      " 1   Gender                                     388 non-null    object \n",
      " 2   Marital Status                             388 non-null    object \n",
      " 3   Occupation                                 388 non-null    object \n",
      " 4   Monthly Income                             388 non-null    object \n",
      " 5   Educational Qualifications                 388 non-null    object \n",
      " 6   Family size                                388 non-null    int64  \n",
      " 7   latitude                                   388 non-null    float64\n",
      " 8   longitude                                  388 non-null    float64\n",
      " 9   Pin code                                   388 non-null    int64  \n",
      " 10  Medium (P1)                                388 non-null    object \n",
      " 11  Medium (P2)                                388 non-null    object \n",
      " 12  Meal(P1)                                   388 non-null    object \n",
      " 13  Meal(P2)                                   388 non-null    object \n",
      " 14  Perference(P1)                             388 non-null    object \n",
      " 15  Perference(P2)                             388 non-null    object \n",
      " 16  Ease and convenient                        388 non-null    object \n",
      " 17  Time saving                                388 non-null    object \n",
      " 18  More restaurant choices                    388 non-null    object \n",
      " 19  Easy Payment option                        388 non-null    object \n",
      " 20  More Offers and Discount                   388 non-null    object \n",
      " 21  Good Food quality                          388 non-null    object \n",
      " 22  Good Tracking system                       388 non-null    object \n",
      " 23  Self Cooking                               388 non-null    object \n",
      " 24  Health Concern                             388 non-null    object \n",
      " 25  Late Delivery                              388 non-null    object \n",
      " 26  Poor Hygiene                               388 non-null    object \n",
      " 27  Bad past experience                        388 non-null    object \n",
      " 28  Unavailability                             388 non-null    object \n",
      " 29  Unaffordable                               388 non-null    object \n",
      " 30  Long delivery time                         388 non-null    object \n",
      " 31  Delay of delivery person getting assigned  388 non-null    object \n",
      " 32  Delay of delivery person picking up food   388 non-null    object \n",
      " 33  Wrong order delivered                      388 non-null    object \n",
      " 34  Missing item                               388 non-null    object \n",
      " 35  Order placed by mistake                    388 non-null    object \n",
      " 36  Influence of time                          388 non-null    object \n",
      " 37  Order Time                                 388 non-null    object \n",
      " 38  Maximum wait time                          388 non-null    object \n",
      " 39  Residence in busy location                 388 non-null    object \n",
      " 40  Google Maps Accuracy                       388 non-null    object \n",
      " 41  Good Road Condition                        388 non-null    object \n",
      " 42  Low quantity low time                      388 non-null    object \n",
      " 43  Delivery person ability                    388 non-null    object \n",
      " 44  Influence of rating                        388 non-null    object \n",
      " 45  Less Delivery time                         388 non-null    object \n",
      " 46  High Quality of package                    388 non-null    object \n",
      " 47  Number of calls                            388 non-null    object \n",
      " 48  Politeness                                 388 non-null    object \n",
      " 49  Freshness                                  388 non-null    object \n",
      " 50  Temperature                                388 non-null    object \n",
      " 51  Good Taste                                 388 non-null    object \n",
      " 52  Good Quantity                              388 non-null    object \n",
      " 53  Output                                     388 non-null    object \n",
      " 54  Reviews                                    388 non-null    object \n",
      "dtypes: float64(2), int64(3), object(50)\n",
      "memory usage: 166.8+ KB\n"
     ]
    }
   ],
   "source": [
    "fd_dlvry.info()"
   ]
  },
  {
   "cell_type": "code",
   "execution_count": 449,
   "metadata": {
    "ExecuteTime": {
     "end_time": "2020-12-19T05:55:56.068611Z",
     "start_time": "2020-12-19T05:55:55.985648Z"
    }
   },
   "outputs": [],
   "source": [
    "# d = dtale.show(fd_dlvry)\n",
    "# d.open_browser()\n",
    "#we can use datle library for EDA"
   ]
  },
  {
   "cell_type": "code",
   "execution_count": 450,
   "metadata": {
    "ExecuteTime": {
     "end_time": "2020-12-19T05:55:56.161560Z",
     "start_time": "2020-12-19T05:55:56.072608Z"
    }
   },
   "outputs": [],
   "source": [
    "#looking data with pdp.ProfileReport \n",
    "# data = pd.read_csv('../../data/Banglore_food_delivery/onlinedeliverydata.csv')\n",
    "\n",
    "# #Creating the Exploratory Data Analysis of our dataset\n",
    "# report = pdp.ProfileReport(data, title='Pandas Profiling Report')"
   ]
  },
  {
   "cell_type": "code",
   "execution_count": 510,
   "metadata": {
    "ExecuteTime": {
     "end_time": "2020-12-19T06:21:49.975800Z",
     "start_time": "2020-12-19T06:21:43.796132Z"
    },
    "scrolled": true
   },
   "outputs": [
    {
     "data": {
      "application/vnd.jupyter.widget-view+json": {
       "model_id": "e95d909914d84ba4bc6a08bc3cc28212",
       "version_major": 2,
       "version_minor": 0
      },
      "text/plain": [
       "VBox(children=(Tab(children=(Tab(children=(GridBox(children=(VBox(children=(GridspecLayout(children=(HTML(valu…"
      ]
     },
     "metadata": {},
     "output_type": "display_data"
    }
   ],
   "source": [
    "report.widgets"
   ]
  },
  {
   "cell_type": "code",
   "execution_count": 511,
   "metadata": {
    "ExecuteTime": {
     "end_time": "2020-12-19T06:21:49.985776Z",
     "start_time": "2020-12-19T06:21:49.978779Z"
    }
   },
   "outputs": [],
   "source": [
    "#this library i found on google it's helpful for cleaning data,imputing value and lable encoding\n",
    "import  datacleaner as dc # pip install datacleaner"
   ]
  },
  {
   "cell_type": "code",
   "execution_count": 453,
   "metadata": {
    "ExecuteTime": {
     "end_time": "2020-12-19T05:56:06.560386Z",
     "start_time": "2020-12-19T05:56:06.081658Z"
    },
    "scrolled": true
   },
   "outputs": [
    {
     "data": {
      "text/html": [
       "<div>\n",
       "<style scoped>\n",
       "    .dataframe tbody tr th:only-of-type {\n",
       "        vertical-align: middle;\n",
       "    }\n",
       "\n",
       "    .dataframe tbody tr th {\n",
       "        vertical-align: top;\n",
       "    }\n",
       "\n",
       "    .dataframe thead th {\n",
       "        text-align: right;\n",
       "    }\n",
       "</style>\n",
       "<table border=\"1\" class=\"dataframe\">\n",
       "  <thead>\n",
       "    <tr style=\"text-align: right;\">\n",
       "      <th></th>\n",
       "      <th>Age</th>\n",
       "      <th>Gender</th>\n",
       "      <th>Marital Status</th>\n",
       "      <th>Occupation</th>\n",
       "      <th>Monthly Income</th>\n",
       "      <th>Educational Qualifications</th>\n",
       "      <th>Family size</th>\n",
       "      <th>latitude</th>\n",
       "      <th>longitude</th>\n",
       "      <th>Pin code</th>\n",
       "      <th>...</th>\n",
       "      <th>Less Delivery time</th>\n",
       "      <th>High Quality of package</th>\n",
       "      <th>Number of calls</th>\n",
       "      <th>Politeness</th>\n",
       "      <th>Freshness</th>\n",
       "      <th>Temperature</th>\n",
       "      <th>Good Taste</th>\n",
       "      <th>Good Quantity</th>\n",
       "      <th>Output</th>\n",
       "      <th>Reviews</th>\n",
       "    </tr>\n",
       "  </thead>\n",
       "  <tbody>\n",
       "    <tr>\n",
       "      <th>0</th>\n",
       "      <td>20</td>\n",
       "      <td>0</td>\n",
       "      <td>2</td>\n",
       "      <td>3</td>\n",
       "      <td>4</td>\n",
       "      <td>2</td>\n",
       "      <td>4</td>\n",
       "      <td>12.9766</td>\n",
       "      <td>77.5993</td>\n",
       "      <td>560001</td>\n",
       "      <td>...</td>\n",
       "      <td>1</td>\n",
       "      <td>1</td>\n",
       "      <td>1</td>\n",
       "      <td>1</td>\n",
       "      <td>1</td>\n",
       "      <td>1</td>\n",
       "      <td>1</td>\n",
       "      <td>1</td>\n",
       "      <td>1</td>\n",
       "      <td>136</td>\n",
       "    </tr>\n",
       "    <tr>\n",
       "      <th>1</th>\n",
       "      <td>24</td>\n",
       "      <td>0</td>\n",
       "      <td>2</td>\n",
       "      <td>3</td>\n",
       "      <td>2</td>\n",
       "      <td>0</td>\n",
       "      <td>3</td>\n",
       "      <td>12.9770</td>\n",
       "      <td>77.5773</td>\n",
       "      <td>560009</td>\n",
       "      <td>...</td>\n",
       "      <td>4</td>\n",
       "      <td>4</td>\n",
       "      <td>4</td>\n",
       "      <td>4</td>\n",
       "      <td>4</td>\n",
       "      <td>4</td>\n",
       "      <td>4</td>\n",
       "      <td>4</td>\n",
       "      <td>1</td>\n",
       "      <td>135</td>\n",
       "    </tr>\n",
       "    <tr>\n",
       "      <th>2</th>\n",
       "      <td>22</td>\n",
       "      <td>1</td>\n",
       "      <td>2</td>\n",
       "      <td>3</td>\n",
       "      <td>2</td>\n",
       "      <td>2</td>\n",
       "      <td>3</td>\n",
       "      <td>12.9551</td>\n",
       "      <td>77.6593</td>\n",
       "      <td>560017</td>\n",
       "      <td>...</td>\n",
       "      <td>0</td>\n",
       "      <td>4</td>\n",
       "      <td>1</td>\n",
       "      <td>4</td>\n",
       "      <td>4</td>\n",
       "      <td>0</td>\n",
       "      <td>4</td>\n",
       "      <td>1</td>\n",
       "      <td>1</td>\n",
       "      <td>119</td>\n",
       "    </tr>\n",
       "    <tr>\n",
       "      <th>3</th>\n",
       "      <td>22</td>\n",
       "      <td>0</td>\n",
       "      <td>2</td>\n",
       "      <td>3</td>\n",
       "      <td>4</td>\n",
       "      <td>0</td>\n",
       "      <td>6</td>\n",
       "      <td>12.9473</td>\n",
       "      <td>77.5616</td>\n",
       "      <td>560019</td>\n",
       "      <td>...</td>\n",
       "      <td>4</td>\n",
       "      <td>0</td>\n",
       "      <td>1</td>\n",
       "      <td>4</td>\n",
       "      <td>4</td>\n",
       "      <td>4</td>\n",
       "      <td>4</td>\n",
       "      <td>0</td>\n",
       "      <td>1</td>\n",
       "      <td>176</td>\n",
       "    </tr>\n",
       "    <tr>\n",
       "      <th>4</th>\n",
       "      <td>22</td>\n",
       "      <td>1</td>\n",
       "      <td>2</td>\n",
       "      <td>3</td>\n",
       "      <td>2</td>\n",
       "      <td>2</td>\n",
       "      <td>4</td>\n",
       "      <td>12.9850</td>\n",
       "      <td>77.5533</td>\n",
       "      <td>560010</td>\n",
       "      <td>...</td>\n",
       "      <td>0</td>\n",
       "      <td>0</td>\n",
       "      <td>1</td>\n",
       "      <td>0</td>\n",
       "      <td>0</td>\n",
       "      <td>0</td>\n",
       "      <td>4</td>\n",
       "      <td>4</td>\n",
       "      <td>1</td>\n",
       "      <td>129</td>\n",
       "    </tr>\n",
       "  </tbody>\n",
       "</table>\n",
       "<p>5 rows × 55 columns</p>\n",
       "</div>"
      ],
      "text/plain": [
       "   Age  Gender  Marital Status  Occupation  Monthly Income  \\\n",
       "0   20       0               2           3               4   \n",
       "1   24       0               2           3               2   \n",
       "2   22       1               2           3               2   \n",
       "3   22       0               2           3               4   \n",
       "4   22       1               2           3               2   \n",
       "\n",
       "   Educational Qualifications  Family size  latitude  longitude  Pin code  \\\n",
       "0                           2            4   12.9766    77.5993    560001   \n",
       "1                           0            3   12.9770    77.5773    560009   \n",
       "2                           2            3   12.9551    77.6593    560017   \n",
       "3                           0            6   12.9473    77.5616    560019   \n",
       "4                           2            4   12.9850    77.5533    560010   \n",
       "\n",
       "   ...  Less Delivery time  High Quality of package  Number of calls  \\\n",
       "0  ...                   1                        1                1   \n",
       "1  ...                   4                        4                4   \n",
       "2  ...                   0                        4                1   \n",
       "3  ...                   4                        0                1   \n",
       "4  ...                   0                        0                1   \n",
       "\n",
       "   Politeness  Freshness   Temperature  Good Taste   Good Quantity  Output  \\\n",
       "0           1           1            1            1              1       1   \n",
       "1           4           4            4            4              4       1   \n",
       "2           4           4            0            4              1       1   \n",
       "3           4           4            4            4              0       1   \n",
       "4           0           0            0            4              4       1   \n",
       "\n",
       "   Reviews  \n",
       "0      136  \n",
       "1      135  \n",
       "2      119  \n",
       "3      176  \n",
       "4      129  \n",
       "\n",
       "[5 rows x 55 columns]"
      ]
     },
     "execution_count": 453,
     "metadata": {},
     "output_type": "execute_result"
    }
   ],
   "source": [
    "dc.autoclean(fd_dlvry).head()"
   ]
  },
  {
   "cell_type": "code",
   "execution_count": 454,
   "metadata": {
    "ExecuteTime": {
     "end_time": "2020-12-19T05:56:06.639341Z",
     "start_time": "2020-12-19T05:56:06.566381Z"
    }
   },
   "outputs": [
    {
     "data": {
      "text/html": [
       "<div>\n",
       "<style scoped>\n",
       "    .dataframe tbody tr th:only-of-type {\n",
       "        vertical-align: middle;\n",
       "    }\n",
       "\n",
       "    .dataframe tbody tr th {\n",
       "        vertical-align: top;\n",
       "    }\n",
       "\n",
       "    .dataframe thead th {\n",
       "        text-align: right;\n",
       "    }\n",
       "</style>\n",
       "<table border=\"1\" class=\"dataframe\">\n",
       "  <thead>\n",
       "    <tr style=\"text-align: right;\">\n",
       "      <th></th>\n",
       "      <th>Age</th>\n",
       "      <th>Gender</th>\n",
       "      <th>Marital Status</th>\n",
       "      <th>Occupation</th>\n",
       "      <th>Monthly Income</th>\n",
       "      <th>Educational Qualifications</th>\n",
       "      <th>Family size</th>\n",
       "      <th>latitude</th>\n",
       "      <th>longitude</th>\n",
       "      <th>Pin code</th>\n",
       "      <th>...</th>\n",
       "      <th>Less Delivery time</th>\n",
       "      <th>High Quality of package</th>\n",
       "      <th>Number of calls</th>\n",
       "      <th>Politeness</th>\n",
       "      <th>Freshness</th>\n",
       "      <th>Temperature</th>\n",
       "      <th>Good Taste</th>\n",
       "      <th>Good Quantity</th>\n",
       "      <th>Output</th>\n",
       "      <th>Reviews</th>\n",
       "    </tr>\n",
       "  </thead>\n",
       "  <tbody>\n",
       "    <tr>\n",
       "      <th>0</th>\n",
       "      <td>20</td>\n",
       "      <td>0</td>\n",
       "      <td>2</td>\n",
       "      <td>3</td>\n",
       "      <td>4</td>\n",
       "      <td>2</td>\n",
       "      <td>4</td>\n",
       "      <td>12.9766</td>\n",
       "      <td>77.5993</td>\n",
       "      <td>560001</td>\n",
       "      <td>...</td>\n",
       "      <td>1</td>\n",
       "      <td>1</td>\n",
       "      <td>1</td>\n",
       "      <td>1</td>\n",
       "      <td>1</td>\n",
       "      <td>1</td>\n",
       "      <td>1</td>\n",
       "      <td>1</td>\n",
       "      <td>1</td>\n",
       "      <td>136</td>\n",
       "    </tr>\n",
       "    <tr>\n",
       "      <th>1</th>\n",
       "      <td>24</td>\n",
       "      <td>0</td>\n",
       "      <td>2</td>\n",
       "      <td>3</td>\n",
       "      <td>2</td>\n",
       "      <td>0</td>\n",
       "      <td>3</td>\n",
       "      <td>12.9770</td>\n",
       "      <td>77.5773</td>\n",
       "      <td>560009</td>\n",
       "      <td>...</td>\n",
       "      <td>4</td>\n",
       "      <td>4</td>\n",
       "      <td>4</td>\n",
       "      <td>4</td>\n",
       "      <td>4</td>\n",
       "      <td>4</td>\n",
       "      <td>4</td>\n",
       "      <td>4</td>\n",
       "      <td>1</td>\n",
       "      <td>135</td>\n",
       "    </tr>\n",
       "    <tr>\n",
       "      <th>2</th>\n",
       "      <td>22</td>\n",
       "      <td>1</td>\n",
       "      <td>2</td>\n",
       "      <td>3</td>\n",
       "      <td>2</td>\n",
       "      <td>2</td>\n",
       "      <td>3</td>\n",
       "      <td>12.9551</td>\n",
       "      <td>77.6593</td>\n",
       "      <td>560017</td>\n",
       "      <td>...</td>\n",
       "      <td>0</td>\n",
       "      <td>4</td>\n",
       "      <td>1</td>\n",
       "      <td>4</td>\n",
       "      <td>4</td>\n",
       "      <td>0</td>\n",
       "      <td>4</td>\n",
       "      <td>1</td>\n",
       "      <td>1</td>\n",
       "      <td>119</td>\n",
       "    </tr>\n",
       "    <tr>\n",
       "      <th>3</th>\n",
       "      <td>22</td>\n",
       "      <td>0</td>\n",
       "      <td>2</td>\n",
       "      <td>3</td>\n",
       "      <td>4</td>\n",
       "      <td>0</td>\n",
       "      <td>6</td>\n",
       "      <td>12.9473</td>\n",
       "      <td>77.5616</td>\n",
       "      <td>560019</td>\n",
       "      <td>...</td>\n",
       "      <td>4</td>\n",
       "      <td>0</td>\n",
       "      <td>1</td>\n",
       "      <td>4</td>\n",
       "      <td>4</td>\n",
       "      <td>4</td>\n",
       "      <td>4</td>\n",
       "      <td>0</td>\n",
       "      <td>1</td>\n",
       "      <td>176</td>\n",
       "    </tr>\n",
       "    <tr>\n",
       "      <th>4</th>\n",
       "      <td>22</td>\n",
       "      <td>1</td>\n",
       "      <td>2</td>\n",
       "      <td>3</td>\n",
       "      <td>2</td>\n",
       "      <td>2</td>\n",
       "      <td>4</td>\n",
       "      <td>12.9850</td>\n",
       "      <td>77.5533</td>\n",
       "      <td>560010</td>\n",
       "      <td>...</td>\n",
       "      <td>0</td>\n",
       "      <td>0</td>\n",
       "      <td>1</td>\n",
       "      <td>0</td>\n",
       "      <td>0</td>\n",
       "      <td>0</td>\n",
       "      <td>4</td>\n",
       "      <td>4</td>\n",
       "      <td>1</td>\n",
       "      <td>129</td>\n",
       "    </tr>\n",
       "  </tbody>\n",
       "</table>\n",
       "<p>5 rows × 55 columns</p>\n",
       "</div>"
      ],
      "text/plain": [
       "   Age  Gender  Marital Status  Occupation  Monthly Income  \\\n",
       "0   20       0               2           3               4   \n",
       "1   24       0               2           3               2   \n",
       "2   22       1               2           3               2   \n",
       "3   22       0               2           3               4   \n",
       "4   22       1               2           3               2   \n",
       "\n",
       "   Educational Qualifications  Family size  latitude  longitude  Pin code  \\\n",
       "0                           2            4   12.9766    77.5993    560001   \n",
       "1                           0            3   12.9770    77.5773    560009   \n",
       "2                           2            3   12.9551    77.6593    560017   \n",
       "3                           0            6   12.9473    77.5616    560019   \n",
       "4                           2            4   12.9850    77.5533    560010   \n",
       "\n",
       "   ...  Less Delivery time  High Quality of package  Number of calls  \\\n",
       "0  ...                   1                        1                1   \n",
       "1  ...                   4                        4                4   \n",
       "2  ...                   0                        4                1   \n",
       "3  ...                   4                        0                1   \n",
       "4  ...                   0                        0                1   \n",
       "\n",
       "   Politeness  Freshness   Temperature  Good Taste   Good Quantity  Output  \\\n",
       "0           1           1            1            1              1       1   \n",
       "1           4           4            4            4              4       1   \n",
       "2           4           4            0            4              1       1   \n",
       "3           4           4            4            4              0       1   \n",
       "4           0           0            0            4              4       1   \n",
       "\n",
       "   Reviews  \n",
       "0      136  \n",
       "1      135  \n",
       "2      119  \n",
       "3      176  \n",
       "4      129  \n",
       "\n",
       "[5 rows x 55 columns]"
      ]
     },
     "execution_count": 454,
     "metadata": {},
     "output_type": "execute_result"
    }
   ],
   "source": [
    "fd_dlvry.head() "
   ]
  },
  {
   "cell_type": "code",
   "execution_count": 455,
   "metadata": {
    "ExecuteTime": {
     "end_time": "2020-12-19T05:56:06.767265Z",
     "start_time": "2020-12-19T05:56:06.643336Z"
    }
   },
   "outputs": [
    {
     "data": {
      "text/html": [
       "<div>\n",
       "<style scoped>\n",
       "    .dataframe tbody tr th:only-of-type {\n",
       "        vertical-align: middle;\n",
       "    }\n",
       "\n",
       "    .dataframe tbody tr th {\n",
       "        vertical-align: top;\n",
       "    }\n",
       "\n",
       "    .dataframe thead th {\n",
       "        text-align: right;\n",
       "    }\n",
       "</style>\n",
       "<table border=\"1\" class=\"dataframe\">\n",
       "  <thead>\n",
       "    <tr style=\"text-align: right;\">\n",
       "      <th></th>\n",
       "      <th>Age</th>\n",
       "      <th>Gender</th>\n",
       "      <th>Marital Status</th>\n",
       "      <th>Occupation</th>\n",
       "      <th>Monthly Income</th>\n",
       "      <th>Educational Qualifications</th>\n",
       "      <th>Family size</th>\n",
       "      <th>latitude</th>\n",
       "      <th>longitude</th>\n",
       "      <th>Pin code</th>\n",
       "      <th>...</th>\n",
       "      <th>Less Delivery time</th>\n",
       "      <th>High Quality of package</th>\n",
       "      <th>Number of calls</th>\n",
       "      <th>Politeness</th>\n",
       "      <th>Freshness</th>\n",
       "      <th>Temperature</th>\n",
       "      <th>Good Taste</th>\n",
       "      <th>Good Quantity</th>\n",
       "      <th>Output</th>\n",
       "      <th>Reviews</th>\n",
       "    </tr>\n",
       "  </thead>\n",
       "  <tbody>\n",
       "    <tr>\n",
       "      <th>0</th>\n",
       "      <td>20</td>\n",
       "      <td>Female</td>\n",
       "      <td>Single</td>\n",
       "      <td>Student</td>\n",
       "      <td>No Income</td>\n",
       "      <td>Post Graduate</td>\n",
       "      <td>4</td>\n",
       "      <td>12.9766</td>\n",
       "      <td>77.5993</td>\n",
       "      <td>560001</td>\n",
       "      <td>...</td>\n",
       "      <td>Moderately Important</td>\n",
       "      <td>Moderately Important</td>\n",
       "      <td>Moderately Important</td>\n",
       "      <td>Moderately Important</td>\n",
       "      <td>Moderately Important</td>\n",
       "      <td>Moderately Important</td>\n",
       "      <td>Moderately Important</td>\n",
       "      <td>Moderately Important</td>\n",
       "      <td>Yes</td>\n",
       "      <td>Nil\\n</td>\n",
       "    </tr>\n",
       "    <tr>\n",
       "      <th>1</th>\n",
       "      <td>24</td>\n",
       "      <td>Female</td>\n",
       "      <td>Single</td>\n",
       "      <td>Student</td>\n",
       "      <td>Below Rs.10000</td>\n",
       "      <td>Graduate</td>\n",
       "      <td>3</td>\n",
       "      <td>12.9770</td>\n",
       "      <td>77.5773</td>\n",
       "      <td>560009</td>\n",
       "      <td>...</td>\n",
       "      <td>Very Important</td>\n",
       "      <td>Very Important</td>\n",
       "      <td>Very Important</td>\n",
       "      <td>Very Important</td>\n",
       "      <td>Very Important</td>\n",
       "      <td>Very Important</td>\n",
       "      <td>Very Important</td>\n",
       "      <td>Very Important</td>\n",
       "      <td>Yes</td>\n",
       "      <td>Nil</td>\n",
       "    </tr>\n",
       "    <tr>\n",
       "      <th>2</th>\n",
       "      <td>22</td>\n",
       "      <td>Male</td>\n",
       "      <td>Single</td>\n",
       "      <td>Student</td>\n",
       "      <td>Below Rs.10000</td>\n",
       "      <td>Post Graduate</td>\n",
       "      <td>3</td>\n",
       "      <td>12.9551</td>\n",
       "      <td>77.6593</td>\n",
       "      <td>560017</td>\n",
       "      <td>...</td>\n",
       "      <td>Important</td>\n",
       "      <td>Very Important</td>\n",
       "      <td>Moderately Important</td>\n",
       "      <td>Very Important</td>\n",
       "      <td>Very Important</td>\n",
       "      <td>Important</td>\n",
       "      <td>Very Important</td>\n",
       "      <td>Moderately Important</td>\n",
       "      <td>Yes</td>\n",
       "      <td>Many a times payment gateways are an issue, so...</td>\n",
       "    </tr>\n",
       "    <tr>\n",
       "      <th>3</th>\n",
       "      <td>22</td>\n",
       "      <td>Female</td>\n",
       "      <td>Single</td>\n",
       "      <td>Student</td>\n",
       "      <td>No Income</td>\n",
       "      <td>Graduate</td>\n",
       "      <td>6</td>\n",
       "      <td>12.9473</td>\n",
       "      <td>77.5616</td>\n",
       "      <td>560019</td>\n",
       "      <td>...</td>\n",
       "      <td>Very Important</td>\n",
       "      <td>Important</td>\n",
       "      <td>Moderately Important</td>\n",
       "      <td>Very Important</td>\n",
       "      <td>Very Important</td>\n",
       "      <td>Very Important</td>\n",
       "      <td>Very Important</td>\n",
       "      <td>Important</td>\n",
       "      <td>Yes</td>\n",
       "      <td>nil</td>\n",
       "    </tr>\n",
       "    <tr>\n",
       "      <th>4</th>\n",
       "      <td>22</td>\n",
       "      <td>Male</td>\n",
       "      <td>Single</td>\n",
       "      <td>Student</td>\n",
       "      <td>Below Rs.10000</td>\n",
       "      <td>Post Graduate</td>\n",
       "      <td>4</td>\n",
       "      <td>12.9850</td>\n",
       "      <td>77.5533</td>\n",
       "      <td>560010</td>\n",
       "      <td>...</td>\n",
       "      <td>Important</td>\n",
       "      <td>Important</td>\n",
       "      <td>Moderately Important</td>\n",
       "      <td>Important</td>\n",
       "      <td>Important</td>\n",
       "      <td>Important</td>\n",
       "      <td>Very Important</td>\n",
       "      <td>Very Important</td>\n",
       "      <td>Yes</td>\n",
       "      <td>NIL</td>\n",
       "    </tr>\n",
       "  </tbody>\n",
       "</table>\n",
       "<p>5 rows × 55 columns</p>\n",
       "</div>"
      ],
      "text/plain": [
       "   Age  Gender Marital Status Occupation  Monthly Income  \\\n",
       "0   20  Female         Single    Student       No Income   \n",
       "1   24  Female         Single    Student  Below Rs.10000   \n",
       "2   22    Male         Single    Student  Below Rs.10000   \n",
       "3   22  Female         Single    Student       No Income   \n",
       "4   22    Male         Single    Student  Below Rs.10000   \n",
       "\n",
       "  Educational Qualifications  Family size  latitude  longitude  Pin code  ...  \\\n",
       "0              Post Graduate            4   12.9766    77.5993    560001  ...   \n",
       "1                   Graduate            3   12.9770    77.5773    560009  ...   \n",
       "2              Post Graduate            3   12.9551    77.6593    560017  ...   \n",
       "3                   Graduate            6   12.9473    77.5616    560019  ...   \n",
       "4              Post Graduate            4   12.9850    77.5533    560010  ...   \n",
       "\n",
       "     Less Delivery time High Quality of package       Number of calls  \\\n",
       "0  Moderately Important    Moderately Important  Moderately Important   \n",
       "1        Very Important          Very Important        Very Important   \n",
       "2             Important          Very Important  Moderately Important   \n",
       "3        Very Important               Important  Moderately Important   \n",
       "4             Important               Important  Moderately Important   \n",
       "\n",
       "             Politeness            Freshness            Temperature  \\\n",
       "0  Moderately Important  Moderately Important  Moderately Important   \n",
       "1        Very Important        Very Important        Very Important   \n",
       "2        Very Important        Very Important             Important   \n",
       "3        Very Important        Very Important        Very Important   \n",
       "4             Important             Important             Important   \n",
       "\n",
       "            Good Taste          Good Quantity Output  \\\n",
       "0  Moderately Important  Moderately Important    Yes   \n",
       "1        Very Important        Very Important    Yes   \n",
       "2        Very Important  Moderately Important    Yes   \n",
       "3        Very Important             Important    Yes   \n",
       "4        Very Important        Very Important    Yes   \n",
       "\n",
       "                                             Reviews  \n",
       "0                                              Nil\\n  \n",
       "1                                                Nil  \n",
       "2  Many a times payment gateways are an issue, so...  \n",
       "3                                                nil  \n",
       "4                                                NIL  \n",
       "\n",
       "[5 rows x 55 columns]"
      ]
     },
     "execution_count": 455,
     "metadata": {},
     "output_type": "execute_result"
    }
   ],
   "source": [
    "fd_ori.head()"
   ]
  },
  {
   "cell_type": "code",
   "execution_count": 456,
   "metadata": {
    "ExecuteTime": {
     "end_time": "2020-12-19T05:56:06.837280Z",
     "start_time": "2020-12-19T05:56:06.771264Z"
    }
   },
   "outputs": [
    {
     "data": {
      "text/plain": [
       "Index(['Age', 'Gender', 'Marital Status', 'Occupation', 'Monthly Income',\n",
       "       'Educational Qualifications', 'Family size', 'latitude', 'longitude',\n",
       "       'Pin code', 'Medium (P1)', 'Medium (P2)', 'Meal(P1)', 'Meal(P2)',\n",
       "       'Perference(P1)', 'Perference(P2)', 'Ease and convenient',\n",
       "       'Time saving', 'More restaurant choices', 'Easy Payment option',\n",
       "       'More Offers and Discount', 'Good Food quality', 'Good Tracking system',\n",
       "       'Self Cooking', 'Health Concern', 'Late Delivery', 'Poor Hygiene',\n",
       "       'Bad past experience', 'Unavailability', 'Unaffordable',\n",
       "       'Long delivery time', 'Delay of delivery person getting assigned',\n",
       "       'Delay of delivery person picking up food', 'Wrong order delivered',\n",
       "       'Missing item', 'Order placed by mistake', 'Influence of time',\n",
       "       'Order Time', 'Maximum wait time', 'Residence in busy location',\n",
       "       'Google Maps Accuracy', 'Good Road Condition', 'Low quantity low time',\n",
       "       'Delivery person ability', 'Influence of rating', 'Less Delivery time',\n",
       "       'High Quality of package', 'Number of calls', 'Politeness',\n",
       "       'Freshness ', 'Temperature', 'Good Taste ', 'Good Quantity', 'Output',\n",
       "       'Reviews'],\n",
       "      dtype='object')"
      ]
     },
     "execution_count": 456,
     "metadata": {},
     "output_type": "execute_result"
    }
   ],
   "source": [
    "l1=(fd_ori.columns[:])\n",
    "l1"
   ]
  },
  {
   "cell_type": "code",
   "execution_count": 457,
   "metadata": {
    "ExecuteTime": {
     "end_time": "2020-12-19T05:56:06.982198Z",
     "start_time": "2020-12-19T05:56:06.841279Z"
    },
    "scrolled": true
   },
   "outputs": [
    {
     "name": "stdout",
     "output_type": "stream",
     "text": [
      "<class 'pandas.core.frame.DataFrame'>\n",
      "RangeIndex: 388 entries, 0 to 387\n",
      "Data columns (total 55 columns):\n",
      " #   Column                                     Non-Null Count  Dtype  \n",
      "---  ------                                     --------------  -----  \n",
      " 0   Age                                        388 non-null    int64  \n",
      " 1   Gender                                     388 non-null    int32  \n",
      " 2   Marital Status                             388 non-null    int32  \n",
      " 3   Occupation                                 388 non-null    int32  \n",
      " 4   Monthly Income                             388 non-null    int32  \n",
      " 5   Educational Qualifications                 388 non-null    int32  \n",
      " 6   Family size                                388 non-null    int64  \n",
      " 7   latitude                                   388 non-null    float64\n",
      " 8   longitude                                  388 non-null    float64\n",
      " 9   Pin code                                   388 non-null    int64  \n",
      " 10  Medium (P1)                                388 non-null    int32  \n",
      " 11  Medium (P2)                                388 non-null    int32  \n",
      " 12  Meal(P1)                                   388 non-null    int32  \n",
      " 13  Meal(P2)                                   388 non-null    int32  \n",
      " 14  Perference(P1)                             388 non-null    int32  \n",
      " 15  Perference(P2)                             388 non-null    int32  \n",
      " 16  Ease and convenient                        388 non-null    int32  \n",
      " 17  Time saving                                388 non-null    int32  \n",
      " 18  More restaurant choices                    388 non-null    int32  \n",
      " 19  Easy Payment option                        388 non-null    int32  \n",
      " 20  More Offers and Discount                   388 non-null    int32  \n",
      " 21  Good Food quality                          388 non-null    int32  \n",
      " 22  Good Tracking system                       388 non-null    int32  \n",
      " 23  Self Cooking                               388 non-null    int32  \n",
      " 24  Health Concern                             388 non-null    int32  \n",
      " 25  Late Delivery                              388 non-null    int32  \n",
      " 26  Poor Hygiene                               388 non-null    int32  \n",
      " 27  Bad past experience                        388 non-null    int32  \n",
      " 28  Unavailability                             388 non-null    int32  \n",
      " 29  Unaffordable                               388 non-null    int32  \n",
      " 30  Long delivery time                         388 non-null    int32  \n",
      " 31  Delay of delivery person getting assigned  388 non-null    int32  \n",
      " 32  Delay of delivery person picking up food   388 non-null    int32  \n",
      " 33  Wrong order delivered                      388 non-null    int32  \n",
      " 34  Missing item                               388 non-null    int32  \n",
      " 35  Order placed by mistake                    388 non-null    int32  \n",
      " 36  Influence of time                          388 non-null    int32  \n",
      " 37  Order Time                                 388 non-null    int32  \n",
      " 38  Maximum wait time                          388 non-null    int32  \n",
      " 39  Residence in busy location                 388 non-null    int32  \n",
      " 40  Google Maps Accuracy                       388 non-null    int32  \n",
      " 41  Good Road Condition                        388 non-null    int32  \n",
      " 42  Low quantity low time                      388 non-null    int32  \n",
      " 43  Delivery person ability                    388 non-null    int32  \n",
      " 44  Influence of rating                        388 non-null    int32  \n",
      " 45  Less Delivery time                         388 non-null    int32  \n",
      " 46  High Quality of package                    388 non-null    int32  \n",
      " 47  Number of calls                            388 non-null    int32  \n",
      " 48  Politeness                                 388 non-null    int32  \n",
      " 49  Freshness                                  388 non-null    int32  \n",
      " 50  Temperature                                388 non-null    int32  \n",
      " 51  Good Taste                                 388 non-null    int32  \n",
      " 52  Good Quantity                              388 non-null    int32  \n",
      " 53  Output                                     388 non-null    int32  \n",
      " 54  Reviews                                    388 non-null    int32  \n",
      "dtypes: float64(2), int32(50), int64(3)\n",
      "memory usage: 91.1 KB\n"
     ]
    }
   ],
   "source": [
    "fd_dlvry.info()"
   ]
  },
  {
   "cell_type": "code",
   "execution_count": 458,
   "metadata": {
    "ExecuteTime": {
     "end_time": "2020-12-19T05:56:07.081158Z",
     "start_time": "2020-12-19T05:56:06.997211Z"
    }
   },
   "outputs": [
    {
     "data": {
      "text/plain": [
       "Index(['Age', 'Gender', 'Marital Status', 'Occupation', 'Monthly Income',\n",
       "       'Educational Qualifications', 'Family size', 'latitude', 'longitude',\n",
       "       'Pin code', 'Medium (P1)', 'Medium (P2)', 'Meal(P1)', 'Meal(P2)',\n",
       "       'Perference(P1)', 'Perference(P2)', 'Ease and convenient',\n",
       "       'Time saving', 'More restaurant choices', 'Easy Payment option',\n",
       "       'More Offers and Discount', 'Good Food quality', 'Good Tracking system',\n",
       "       'Self Cooking', 'Health Concern', 'Late Delivery', 'Poor Hygiene',\n",
       "       'Bad past experience', 'Unavailability', 'Unaffordable',\n",
       "       'Long delivery time', 'Delay of delivery person getting assigned',\n",
       "       'Delay of delivery person picking up food', 'Wrong order delivered',\n",
       "       'Missing item', 'Order placed by mistake', 'Influence of time',\n",
       "       'Order Time', 'Maximum wait time', 'Residence in busy location',\n",
       "       'Google Maps Accuracy', 'Good Road Condition', 'Low quantity low time',\n",
       "       'Delivery person ability', 'Influence of rating', 'Less Delivery time',\n",
       "       'High Quality of package', 'Number of calls', 'Politeness',\n",
       "       'Freshness ', 'Temperature', 'Good Taste ', 'Good Quantity', 'Output'],\n",
       "      dtype='object')"
      ]
     },
     "execution_count": 458,
     "metadata": {},
     "output_type": "execute_result"
    }
   ],
   "source": [
    "df=fd_ori.drop('Reviews',axis=1) #drop reviews because it's take NLP in future i will try it\n",
    "df.columns"
   ]
  },
  {
   "cell_type": "code",
   "execution_count": 459,
   "metadata": {
    "ExecuteTime": {
     "end_time": "2020-12-19T05:56:07.211197Z",
     "start_time": "2020-12-19T05:56:07.091136Z"
    }
   },
   "outputs": [],
   "source": [
    "%matplotlib inline"
   ]
  },
  {
   "cell_type": "code",
   "execution_count": 460,
   "metadata": {
    "ExecuteTime": {
     "end_time": "2020-12-19T05:56:07.354115Z",
     "start_time": "2020-12-19T05:56:07.216193Z"
    }
   },
   "outputs": [],
   "source": [
    "# we needs to back map for lable encoding \n",
    "lbl=dict()\n",
    "for i in fd_ori.columns:\n",
    "    if i not in  ['latitude','longitude','Pin code','Output','Reviews']:\n",
    "                  lbl[i]=dict(zip(fd_ori[i].unique(), fd_dlvry[i].unique()))\n",
    "    "
   ]
  },
  {
   "cell_type": "code",
   "execution_count": 461,
   "metadata": {
    "ExecuteTime": {
     "end_time": "2020-12-19T05:56:07.503660Z",
     "start_time": "2020-12-19T05:56:07.357114Z"
    }
   },
   "outputs": [
    {
     "data": {
      "text/plain": [
       "{'Age': {20: 20,\n",
       "  24: 24,\n",
       "  22: 22,\n",
       "  27: 27,\n",
       "  23: 23,\n",
       "  21: 21,\n",
       "  28: 28,\n",
       "  25: 25,\n",
       "  32: 32,\n",
       "  30: 30,\n",
       "  31: 31,\n",
       "  26: 26,\n",
       "  18: 18,\n",
       "  19: 19,\n",
       "  33: 33,\n",
       "  29: 29},\n",
       " 'Gender': {'Female': 0, 'Male': 1},\n",
       " 'Marital Status': {'Single': 2, 'Married': 0, 'Prefer not to say': 1},\n",
       " 'Occupation': {'Student': 3,\n",
       "  'Employee': 0,\n",
       "  'Self Employeed': 2,\n",
       "  'House wife': 1},\n",
       " 'Monthly Income': {'No Income': 4,\n",
       "  'Below Rs.10000': 2,\n",
       "  'More than 50000': 3,\n",
       "  '10001 to 25000': 0,\n",
       "  '25001 to 50000': 1},\n",
       " 'Educational Qualifications': {'Post Graduate': 2,\n",
       "  'Graduate': 0,\n",
       "  'Ph.D': 1,\n",
       "  'Uneducated': 4,\n",
       "  'School': 3},\n",
       " 'Family size': {4: 4, 3: 3, 6: 6, 2: 2, 5: 5, 1: 1},\n",
       " 'Medium (P1)': {'Food delivery apps': 1,\n",
       "  'Walk-in': 2,\n",
       "  'Direct call': 0,\n",
       "  'Web browser': 3},\n",
       " 'Medium (P2)': {' Web browser': 2, ' Direct call': 0, ' Walk-in': 1},\n",
       " 'Meal(P1)': {'Breakfast': 0, 'Snacks': 3, 'Lunch': 2, 'Dinner': 1},\n",
       " 'Meal(P2)': {' Lunch': 1, ' Dinner': 0, ' Snacks': 2},\n",
       " 'Perference(P1)': {'Non Veg foods (Lunch / Dinner)': 1,\n",
       "  'Veg foods (Breakfast / Lunch / Dinner)': 3,\n",
       "  'Bakery items (snacks)': 0,\n",
       "  'Sweets': 2},\n",
       " 'Perference(P2)': {' Bakery items (snacks)': 0,\n",
       "  ' Veg foods (Breakfast / Lunch / Dinner)': 3,\n",
       "  ' Ice cream / Cool drinks': 1,\n",
       "  ' Sweets': 2},\n",
       " 'Ease and convenient': {'Neutral': 2,\n",
       "  'Strongly agree': 3,\n",
       "  'Agree': 0,\n",
       "  'Strongly disagree': 4,\n",
       "  'Disagree': 1},\n",
       " 'Time saving': {'Neutral': 2,\n",
       "  'Strongly agree': 3,\n",
       "  'Agree': 0,\n",
       "  'Disagree': 1,\n",
       "  'Strongly disagree': 4},\n",
       " 'More restaurant choices': {'Neutral': 2,\n",
       "  'Strongly agree': 3,\n",
       "  'Agree': 0,\n",
       "  'Strongly disagree': 4,\n",
       "  'Disagree': 1},\n",
       " 'Easy Payment option': {'Neutral': 2,\n",
       "  'Strongly agree': 3,\n",
       "  'Agree': 0,\n",
       "  'Disagree': 1,\n",
       "  'Strongly disagree': 4},\n",
       " 'More Offers and Discount': {'Neutral': 2,\n",
       "  'Strongly agree': 3,\n",
       "  'Agree': 0,\n",
       "  'Disagree': 1,\n",
       "  'Strongly disagree': 4},\n",
       " 'Good Food quality': {'Neutral': 2,\n",
       "  'Disagree': 1,\n",
       "  'Agree': 0,\n",
       "  'Strongly agree': 3,\n",
       "  'Strongly disagree': 4},\n",
       " 'Good Tracking system': {'Neutral': 2,\n",
       "  'Agree': 0,\n",
       "  'Strongly agree': 3,\n",
       "  'Disagree': 1,\n",
       "  'Strongly disagree': 4},\n",
       " 'Self Cooking': {'Neutral': 2,\n",
       "  'Strongly agree': 3,\n",
       "  'Disagree': 1,\n",
       "  'Agree': 0,\n",
       "  'Strongly disagree': 4},\n",
       " 'Health Concern': {'Neutral': 2,\n",
       "  'Strongly agree': 3,\n",
       "  'Agree': 0,\n",
       "  'Strongly disagree': 4,\n",
       "  'Disagree': 1},\n",
       " 'Late Delivery': {'Neutral': 2,\n",
       "  'Agree': 0,\n",
       "  'Strongly agree': 3,\n",
       "  'Disagree': 1,\n",
       "  'Strongly disagree': 4},\n",
       " 'Poor Hygiene': {'Neutral': 2,\n",
       "  'Strongly agree': 3,\n",
       "  'Agree': 0,\n",
       "  'Disagree': 1,\n",
       "  'Strongly disagree': 4},\n",
       " 'Bad past experience': {'Neutral': 2,\n",
       "  'Strongly agree': 3,\n",
       "  'Agree': 0,\n",
       "  'Disagree': 1,\n",
       "  'Strongly disagree': 4},\n",
       " 'Unavailability': {'Neutral': 2,\n",
       "  'Strongly agree': 3,\n",
       "  'Agree': 0,\n",
       "  'Disagree': 1,\n",
       "  'Strongly disagree': 4},\n",
       " 'Unaffordable': {'Neutral': 2,\n",
       "  'Strongly agree': 3,\n",
       "  'Agree': 0,\n",
       "  'Disagree': 1,\n",
       "  'Strongly disagree': 4},\n",
       " 'Long delivery time': {'Agree': 0,\n",
       "  'Strongly agree': 3,\n",
       "  'Neutral': 2,\n",
       "  'Disagree': 1,\n",
       "  'Strongly disagree': 4},\n",
       " 'Delay of delivery person getting assigned': {'Agree': 0,\n",
       "  'Strongly agree': 3,\n",
       "  'Disagree': 1,\n",
       "  'Neutral': 2,\n",
       "  'Strongly disagree': 4},\n",
       " 'Delay of delivery person picking up food': {'Agree': 0,\n",
       "  'Strongly agree': 3,\n",
       "  'Neutral': 2,\n",
       "  'Disagree': 1,\n",
       "  'Strongly disagree': 4},\n",
       " 'Wrong order delivered': {'Agree': 0,\n",
       "  'Strongly agree': 3,\n",
       "  'Disagree': 1,\n",
       "  'Neutral': 2,\n",
       "  'Strongly disagree': 4},\n",
       " 'Missing item': {'Agree': 0,\n",
       "  'Strongly agree': 3,\n",
       "  'Disagree': 1,\n",
       "  'Neutral': 2,\n",
       "  'Strongly disagree': 4},\n",
       " 'Order placed by mistake': {'Agree': 0,\n",
       "  'Strongly agree': 3,\n",
       "  'Neutral': 2,\n",
       "  'Disagree': 1,\n",
       "  'Strongly disagree': 4},\n",
       " 'Influence of time': {'Yes': 2, 'No': 1, 'Maybe': 0},\n",
       " 'Order Time': {'Weekend (Sat & Sun)': 2,\n",
       "  'Anytime (Mon-Sun)': 0,\n",
       "  'Weekdays (Mon-Fri)': 1},\n",
       " 'Maximum wait time': {'30 minutes': 1,\n",
       "  '45 minutes': 2,\n",
       "  '60 minutes': 3,\n",
       "  'More than 60 minutes': 4,\n",
       "  '15 minutes': 0},\n",
       " 'Residence in busy location': {'Agree': 0,\n",
       "  'Strongly Agree': 3,\n",
       "  'Disagree': 1,\n",
       "  'Neutral': 2,\n",
       "  'Strongly disagree': 4},\n",
       " 'Google Maps Accuracy': {'Neutral': 2,\n",
       "  'Strongly Agree': 3,\n",
       "  'Agree': 0,\n",
       "  'Disagree': 1,\n",
       "  'Strongly disagree': 4},\n",
       " 'Good Road Condition': {'Neutral': 2,\n",
       "  'Disagree': 1,\n",
       "  'Agree': 0,\n",
       "  'Strongly Agree': 3,\n",
       "  'Strongly disagree': 4},\n",
       " 'Low quantity low time': {'Neutral': 2,\n",
       "  'Strongly disagree': 4,\n",
       "  'Agree': 0,\n",
       "  'Disagree': 1,\n",
       "  'Strongly Agree': 3},\n",
       " 'Delivery person ability': {'Neutral': 2,\n",
       "  'Agree': 0,\n",
       "  'Strongly Agree': 3,\n",
       "  'Disagree': 1,\n",
       "  'Strongly disagree': 4},\n",
       " 'Influence of rating': {'Yes': 2, 'Maybe': 0, 'No': 1},\n",
       " 'Less Delivery time': {'Moderately Important': 1,\n",
       "  'Very Important': 4,\n",
       "  'Important': 0,\n",
       "  'Slightly Important': 2,\n",
       "  'Unimportant': 3},\n",
       " 'High Quality of package': {'Moderately Important': 1,\n",
       "  'Very Important': 4,\n",
       "  'Important': 0,\n",
       "  'Unimportant': 3,\n",
       "  'Slightly Important': 2},\n",
       " 'Number of calls': {'Moderately Important': 1,\n",
       "  'Very Important': 4,\n",
       "  'Unimportant': 3,\n",
       "  'Important': 0,\n",
       "  'Slightly Important': 2},\n",
       " 'Politeness': {'Moderately Important': 1,\n",
       "  'Very Important': 4,\n",
       "  'Important': 0,\n",
       "  'Slightly Important': 2,\n",
       "  'Unimportant': 3},\n",
       " 'Freshness ': {'Moderately Important': 1,\n",
       "  'Very Important': 4,\n",
       "  'Important': 0,\n",
       "  'Slightly Important': 2,\n",
       "  'Unimportant': 3},\n",
       " 'Temperature': {'Moderately Important': 1,\n",
       "  'Very Important': 4,\n",
       "  'Important': 0,\n",
       "  'Slightly Important': 2,\n",
       "  'Unimportant': 3},\n",
       " 'Good Taste ': {'Moderately Important': 1,\n",
       "  'Very Important': 4,\n",
       "  'Important': 0,\n",
       "  'Slightly Important': 2,\n",
       "  'Unimportant': 3},\n",
       " 'Good Quantity': {'Moderately Important': 1,\n",
       "  'Very Important': 4,\n",
       "  'Important': 0,\n",
       "  'Slightly Important': 2,\n",
       "  'Unimportant': 3}}"
      ]
     },
     "execution_count": 461,
     "metadata": {},
     "output_type": "execute_result"
    }
   ],
   "source": [
    "lbl"
   ]
  },
  {
   "cell_type": "code",
   "execution_count": 462,
   "metadata": {
    "ExecuteTime": {
     "end_time": "2020-12-19T05:56:07.632586Z",
     "start_time": "2020-12-19T05:56:07.507658Z"
    },
    "code_folding": []
   },
   "outputs": [
    {
     "data": {
      "text/plain": [
       "(14.400829771230695,\n",
       " 0.1087642877559111,\n",
       " 9,\n",
       " array([[16.1185567 ,  1.22938144,  7.37628866, 28.2757732 ],\n",
       "        [27.67525773,  2.11082474, 12.66494845, 48.54896907],\n",
       "        [36.49484536,  2.78350515, 16.70103093, 64.02061856],\n",
       "        [37.71134021,  2.87628866, 17.25773196, 66.15463918]]))"
      ]
     },
     "execution_count": 462,
     "metadata": {},
     "output_type": "execute_result"
    }
   ],
   "source": [
    "# practice chi-squared test\n",
    "df=pd.crosstab(fd_ori['Meal(P1)'],fd_ori['Occupation'])\n",
    "df\n",
    "\n",
    "stat, p, dof, expected = st.chi2_contingency(df,correction=True)\n",
    "stat, p, dof, expected\n",
    "\n",
    "\n"
   ]
  },
  {
   "cell_type": "markdown",
   "metadata": {},
   "source": [
    "<b> method 1: Feature selection Cramér's V</b>"
   ]
  },
  {
   "cell_type": "code",
   "execution_count": 463,
   "metadata": {
    "ExecuteTime": {
     "end_time": "2020-12-19T05:56:09.142411Z",
     "start_time": "2020-12-19T05:56:07.636585Z"
    },
    "scrolled": true
   },
   "outputs": [
    {
     "data": {
      "text/plain": [
       "{'Output': [('Age', 0.41916612670006054),\n",
       "  ('Ease and convenient', 0.6944483749782563),\n",
       "  ('Time saving', 0.6333333550979008),\n",
       "  ('More restaurant choices', 0.5897138785369491),\n",
       "  ('Easy Payment option', 0.5571767618313485),\n",
       "  ('More Offers and Discount', 0.5564505912203883),\n",
       "  ('Good Food quality', 0.4243449172824401),\n",
       "  ('Good Tracking system', 0.41749280981704445),\n",
       "  ('Maximum wait time', 0.4135981980209824)]}"
      ]
     },
     "execution_count": 463,
     "metadata": {},
     "output_type": "execute_result"
    }
   ],
   "source": [
    "#Cramer's V perform for find relation between \n",
    "crv={}\n",
    "l1=[]\n",
    "for i in fd_ori.columns:\n",
    "    if i not in  ['latitude','longitude','Pin code','Output','Reviews']:\n",
    "        '''we are not using lat and long because in EDA all location diffrent (reference dtale lib)'''\n",
    "        df=pd.crosstab(fd_ori['Output'],fd_ori[i])\n",
    "        stat, p, dof, expected = st.chi2_contingency(df,correction=True)\n",
    "        t=min(df.shape)-1\n",
    "        deno=sum(df.sum())*t\n",
    "        x=numpy.sqrt(stat / deno)\n",
    "        if(x>0.41): #thresold\n",
    "             l1.append((i,x))\n",
    "\n",
    "\n",
    "crv['Output']=l1\n",
    "        \n",
    "crv"
   ]
  },
  {
   "cell_type": "code",
   "execution_count": 464,
   "metadata": {
    "ExecuteTime": {
     "end_time": "2020-12-19T05:56:09.158404Z",
     "start_time": "2020-12-19T05:56:09.147409Z"
    },
    "code_folding": []
   },
   "outputs": [
    {
     "data": {
      "text/plain": [
       "['Age',\n",
       " 'Ease and convenient',\n",
       " 'Time saving',\n",
       " 'More restaurant choices',\n",
       " 'Easy Payment option',\n",
       " 'More Offers and Discount',\n",
       " 'Good Food quality',\n",
       " 'Good Tracking system',\n",
       " 'Maximum wait time']"
      ]
     },
     "execution_count": 464,
     "metadata": {},
     "output_type": "execute_result"
    }
   ],
   "source": [
    "#Extract the feature from above dictionary \n",
    "basic_f0=[]\n",
    "for i in l1:\n",
    "    basic_f0.append(i[0])\n",
    "\n",
    "basic_f0"
   ]
  },
  {
   "cell_type": "code",
   "execution_count": 465,
   "metadata": {
    "ExecuteTime": {
     "end_time": "2020-12-19T05:56:09.252350Z",
     "start_time": "2020-12-19T05:56:09.161400Z"
    }
   },
   "outputs": [],
   "source": [
    "X=fd_dlvry[basic_f0] # select X \n",
    "y=fd_dlvry['Output'] # select Y\n"
   ]
  },
  {
   "cell_type": "code",
   "execution_count": 466,
   "metadata": {
    "ExecuteTime": {
     "end_time": "2020-12-19T05:56:09.383275Z",
     "start_time": "2020-12-19T05:56:09.256346Z"
    }
   },
   "outputs": [],
   "source": [
    "%matplotlib inline"
   ]
  },
  {
   "cell_type": "code",
   "execution_count": 467,
   "metadata": {
    "ExecuteTime": {
     "end_time": "2020-12-19T05:56:09.486217Z",
     "start_time": "2020-12-19T05:56:09.387271Z"
    },
    "scrolled": true
   },
   "outputs": [
    {
     "data": {
      "text/plain": [
       "['Age',\n",
       " 'Ease and convenient',\n",
       " 'Time saving',\n",
       " 'More restaurant choices',\n",
       " 'Easy Payment option',\n",
       " 'More Offers and Discount',\n",
       " 'Good Food quality',\n",
       " 'Good Tracking system',\n",
       " 'Maximum wait time']"
      ]
     },
     "execution_count": 467,
     "metadata": {},
     "output_type": "execute_result"
    }
   ],
   "source": [
    "basic_f0"
   ]
  },
  {
   "cell_type": "code",
   "execution_count": 468,
   "metadata": {
    "ExecuteTime": {
     "end_time": "2020-12-19T05:56:09.877004Z",
     "start_time": "2020-12-19T05:56:09.490213Z"
    },
    "scrolled": true
   },
   "outputs": [
    {
     "data": {
      "text/plain": [
       "<AxesSubplot:xlabel='Output', ylabel='count'>"
      ]
     },
     "execution_count": 468,
     "metadata": {},
     "output_type": "execute_result"
    },
    {
     "data": {
      "image/png": "[encoded data removed]",
      "text/plain": [
       "<Figure size 432x288 with 1 Axes>"
      ]
     },
     "metadata": {
      "needs_background": "light"
     },
     "output_type": "display_data"
    }
   ],
   "source": [
    "sns.countplot(fd_ori['Output']) # look target feature"
   ]
  },
  {
   "cell_type": "markdown",
   "metadata": {
    "ExecuteTime": {
     "end_time": "2020-12-19T04:21:54.351232Z",
     "start_time": "2020-12-19T04:21:54.343232Z"
    }
   },
   "source": [
    "<h1> KNN Algorithm </h1>"
   ]
  },
  {
   "cell_type": "code",
   "execution_count": 469,
   "metadata": {
    "ExecuteTime": {
     "end_time": "2020-12-19T05:56:09.895990Z",
     "start_time": "2020-12-19T05:56:09.881999Z"
    }
   },
   "outputs": [],
   "source": [
    "# train_test_split by sklearn \n",
    "X=fd_dlvry[basic_f0]\n",
    "y=fd_dlvry['Output']\n",
    "X_train, X_test, y_train, y_test = train_test_split(X, y, test_size = 0.33)"
   ]
  },
  {
   "cell_type": "code",
   "execution_count": 470,
   "metadata": {
    "ExecuteTime": {
     "end_time": "2020-12-19T05:56:11.233977Z",
     "start_time": "2020-12-19T05:56:09.900987Z"
    }
   },
   "outputs": [
    {
     "data": {
      "image/png": "[encoded data removed]",
      "text/plain": [
       "<Figure size 432x288 with 1 Axes>"
      ]
     },
     "metadata": {
      "needs_background": "light"
     },
     "output_type": "display_data"
    }
   ],
   "source": [
    "#select best knneighbour find \n",
    "plt.figure()\n",
    "training_accuracy = []\n",
    "test_accuracy = []\n",
    "# try n_neighbors from 1 to 10\n",
    "neighbors_settings = range(1, 11)\n",
    "for i in neighbors_settings:\n",
    "    clf = KNeighborsClassifier(n_neighbors=i)\n",
    "    clf.fit(X_train, y_train)\n",
    "    training_accuracy.append(clf.score(X_train, y_train))\n",
    "    # record generalization accuracy\n",
    "    test_accuracy.append(clf.score(X_test, y_test))\n",
    "plt.plot(neighbors_settings,training_accuracy,label=\"training accuracy\")\n",
    "plt.plot(neighbors_settings,test_accuracy,label=\"test accuracy\")\n",
    "plt.ylabel(\"Accuracy\")\n",
    "plt.xlabel(\"n_neighbors\")\n",
    "plt.legend()\n",
    "\n",
    "plt.show()"
   ]
  },
  {
   "cell_type": "code",
   "execution_count": 471,
   "metadata": {
    "ExecuteTime": {
     "end_time": "2020-12-19T05:56:12.941642Z",
     "start_time": "2020-12-19T05:56:11.237974Z"
    }
   },
   "outputs": [
    {
     "data": {
      "image/png": "[encoded data removed]",
      "text/plain": [
       "<Figure size 432x288 with 1 Axes>"
      ]
     },
     "metadata": {
      "needs_background": "light"
     },
     "output_type": "display_data"
    }
   ],
   "source": [
    "# appropriate test size find \n",
    "plt.figure()\n",
    "training_accuracy = []\n",
    "test_accuracy = []\n",
    "# try n_neighbors from 1 to 10\n",
    "test_size= numpy.arange(0.1, 0.9,0.05)\n",
    "knn = KNeighborsClassifier(n_neighbors = 3,p=1)\n",
    "for i in test_size:\n",
    "    \n",
    "        X_train, X_test, y_train, y_test = train_test_split(X, y, test_size = i)\n",
    "        knn.fit(X_train, y_train)\n",
    "        training_accuracy.append(knn.score(X_test, y_test))\n",
    "        test_accuracy.append(knn.score(X_train, y_train))\n",
    "  \n",
    "\n",
    "    \n",
    "plt.plot(test_size,training_accuracy,label=\"training accuracy\")\n",
    "plt.plot(test_size,test_accuracy,label=\"test accuracy\")\n",
    "plt.ylabel(\"Accuracy\")\n",
    "plt.xlabel(\"test_size\")\n",
    "plt.legend()\n",
    "\n",
    "plt.show()"
   ]
  },
  {
   "cell_type": "code",
   "execution_count": 472,
   "metadata": {
    "ExecuteTime": {
     "end_time": "2020-12-19T05:56:12.956633Z",
     "start_time": "2020-12-19T05:56:12.945640Z"
    }
   },
   "outputs": [],
   "source": [
    "#split data\n",
    "X_train,X_test,y_train,y_test=train_test_split(X,y,test_size=0.30)"
   ]
  },
  {
   "cell_type": "code",
   "execution_count": 473,
   "metadata": {
    "ExecuteTime": {
     "end_time": "2020-12-19T05:56:13.129533Z",
     "start_time": "2020-12-19T05:56:12.966628Z"
    }
   },
   "outputs": [
    {
     "data": {
      "text/plain": [
       "0.8803418803418803"
      ]
     },
     "execution_count": 473,
     "metadata": {},
     "output_type": "execute_result"
    }
   ],
   "source": [
    "# fit data and perform the knn algo\n",
    "neigh = KNeighborsClassifier(n_neighbors=5,p=1)\n",
    "\n",
    "knn=neigh.fit(X_train,y_train)\n",
    "\n",
    "knn.score(X_test,y_test)\n"
   ]
  },
  {
   "cell_type": "code",
   "execution_count": 474,
   "metadata": {
    "ExecuteTime": {
     "end_time": "2020-12-19T05:56:13.218482Z",
     "start_time": "2020-12-19T05:56:13.137529Z"
    }
   },
   "outputs": [],
   "source": [
    "#y_pred for confusion matrix\n",
    "y_pred=knn.predict(X_test)"
   ]
  },
  {
   "cell_type": "code",
   "execution_count": 475,
   "metadata": {
    "ExecuteTime": {
     "end_time": "2020-12-19T05:56:13.315428Z",
     "start_time": "2020-12-19T05:56:13.221481Z"
    }
   },
   "outputs": [
    {
     "data": {
      "text/plain": [
       "array([[13, 12],\n",
       "       [ 2, 90]], dtype=int64)"
      ]
     },
     "execution_count": 475,
     "metadata": {},
     "output_type": "execute_result"
    }
   ],
   "source": [
    "#confusion matrix \n",
    "cf_matrix_n=confusion_matrix(y_test, y_pred)\n",
    "cf_matrix_n"
   ]
  },
  {
   "cell_type": "code",
   "execution_count": 476,
   "metadata": {
    "ExecuteTime": {
     "end_time": "2020-12-19T05:56:13.410373Z",
     "start_time": "2020-12-19T05:56:13.318428Z"
    },
    "scrolled": false
   },
   "outputs": [
    {
     "name": "stdout",
     "output_type": "stream",
     "text": [
      "              precision    recall  f1-score   support\n",
      "\n",
      "           0       0.87      0.52      0.65        25\n",
      "           1       0.88      0.98      0.93        92\n",
      "\n",
      "    accuracy                           0.88       117\n",
      "   macro avg       0.87      0.75      0.79       117\n",
      "weighted avg       0.88      0.88      0.87       117\n",
      "\n"
     ]
    }
   ],
   "source": [
    "#classification report \n",
    "print(classification_report(y_test,y_pred))"
   ]
  },
  {
   "cell_type": "code",
   "execution_count": 477,
   "metadata": {
    "ExecuteTime": {
     "end_time": "2020-12-19T05:56:13.987558Z",
     "start_time": "2020-12-19T05:56:13.415371Z"
    }
   },
   "outputs": [
    {
     "data": {
      "image/png": "[encoded data removed]",
      "text/plain": [
       "<Figure size 432x288 with 1 Axes>"
      ]
     },
     "metadata": {
      "needs_background": "light"
     },
     "output_type": "display_data"
    }
   ],
   "source": [
    "from sklearn.metrics import roc_curve\n",
    "fpr, tpr, thresholds=roc_curve(y_test, y_pred)\n",
    "AUC=round(metrics.auc(fpr, tpr),2)\n",
    "\n",
    "pyplot.plot([0,1], [0,1], linestyle='--', label='No Skill')\n",
    "pyplot.plot(fpr, tpr, marker='.', label=f'knn AUC={AUC}')\n",
    "# axis labels\n",
    "pyplot.xlabel('False Positive Rate')\n",
    "pyplot.ylabel('True Positive Rate')\n",
    "pyplot.legend()\n",
    "# show the plot\n",
    "pyplot.show()\n"
   ]
  },
  {
   "cell_type": "markdown",
   "metadata": {
    "ExecuteTime": {
     "end_time": "2020-12-19T04:23:45.286574Z",
     "start_time": "2020-12-19T04:23:45.278579Z"
    }
   },
   "source": [
    "<b> Conclusion: </b>"
   ]
  },
  {
   "cell_type": "code",
   "execution_count": 478,
   "metadata": {
    "ExecuteTime": {
     "end_time": "2020-12-19T05:56:14.003548Z",
     "start_time": "2020-12-19T05:56:13.992555Z"
    }
   },
   "outputs": [
    {
     "data": {
      "text/plain": [
       "'Here weighted avg f1-score is good and AUC is greate but problems here Knn is not learning something\\nknn just use more memory space for perform operation and mostly features are categorical so noise affect\\non this algorithms\\n'"
      ]
     },
     "execution_count": 478,
     "metadata": {},
     "output_type": "execute_result"
    }
   ],
   "source": [
    "'''Here weighted avg f1-score is good and AUC is greate but problems here Knn is not learning something\n",
    "knn just use more memory space for perform operation and mostly features are categorical so noise affect\n",
    "on this algorithms\n",
    "'''"
   ]
  },
  {
   "cell_type": "markdown",
   "metadata": {},
   "source": [
    "<b>method 2: feature selection using sklearn </b>"
   ]
  },
  {
   "cell_type": "code",
   "execution_count": 479,
   "metadata": {
    "ExecuteTime": {
     "end_time": "2020-12-19T05:56:14.099493Z",
     "start_time": "2020-12-19T05:56:14.008547Z"
    }
   },
   "outputs": [],
   "source": [
    "from sklearn.feature_selection import SelectKBest\n",
    "from sklearn.feature_selection import chi2,mutual_info_classif"
   ]
  },
  {
   "cell_type": "code",
   "execution_count": 480,
   "metadata": {
    "ExecuteTime": {
     "end_time": "2020-12-19T05:56:14.188597Z",
     "start_time": "2020-12-19T05:56:14.104489Z"
    }
   },
   "outputs": [],
   "source": [
    "def select_features(X_train, y_train, X_test):\n",
    "    fs = SelectKBest(score_func=chi2, k='all')\n",
    "    fs.fit(X_train, y_train)\n",
    "    X_train_fs = fs.transform(X_train)\n",
    "    X_test_fs = fs.transform(X_test)\n",
    "    return X_train_fs, X_test_fs, fs"
   ]
  },
  {
   "cell_type": "code",
   "execution_count": 481,
   "metadata": {
    "ExecuteTime": {
     "end_time": "2020-12-19T05:56:14.311521Z",
     "start_time": "2020-12-19T05:56:14.193590Z"
    }
   },
   "outputs": [],
   "source": [
    "#select feature \n",
    "l1=['latitude','longitude','Pin code','Output','Reviews']\n",
    "X=fd_dlvry[fd_dlvry.columns[~fd_dlvry.columns.isin(l1)]]\n",
    "y=fd_dlvry['Output']"
   ]
  },
  {
   "cell_type": "code",
   "execution_count": 482,
   "metadata": {
    "ExecuteTime": {
     "end_time": "2020-12-19T05:56:14.412496Z",
     "start_time": "2020-12-19T05:56:14.316522Z"
    }
   },
   "outputs": [],
   "source": [
    "X_train, X_test, y_train, y_test = train_test_split(X, y, test_size=0.33, random_state=1)"
   ]
  },
  {
   "cell_type": "code",
   "execution_count": 483,
   "metadata": {
    "ExecuteTime": {
     "end_time": "2020-12-19T05:56:15.041535Z",
     "start_time": "2020-12-19T05:56:14.418488Z"
    }
   },
   "outputs": [
    {
     "name": "stdout",
     "output_type": "stream",
     "text": [
      "Feature 0: 5.775843\n",
      "Feature 1: 0.050707\n",
      "Feature 2: 8.878872\n",
      "Feature 3: 11.481908\n",
      "Feature 4: 8.522746\n",
      "Feature 5: 4.281083\n",
      "Feature 6: 0.001270\n",
      "Feature 7: 0.138066\n",
      "Feature 8: 0.581195\n",
      "Feature 9: 0.002500\n",
      "Feature 10: 0.026935\n",
      "Feature 11: 5.239782\n",
      "Feature 12: 0.203801\n",
      "Feature 13: 1.129992\n",
      "Feature 14: 0.008433\n",
      "Feature 15: 2.615032\n",
      "Feature 16: 11.648659\n",
      "Feature 17: 4.442978\n",
      "Feature 18: 0.990350\n",
      "Feature 19: 4.313863\n",
      "Feature 20: 28.633078\n",
      "Feature 21: 3.403516\n",
      "Feature 22: 6.913503\n",
      "Feature 23: 1.316698\n",
      "Feature 24: 10.272694\n",
      "Feature 25: 1.181614\n",
      "Feature 26: 12.468379\n",
      "Feature 27: 0.331531\n",
      "Feature 28: 0.000623\n",
      "Feature 29: 13.069233\n",
      "Feature 30: 0.080404\n",
      "Feature 31: 4.176640\n",
      "Feature 32: 0.414170\n",
      "Feature 33: 0.672130\n",
      "Feature 34: 19.153763\n",
      "Feature 35: 16.784984\n",
      "Feature 36: 2.426668\n",
      "Feature 37: 4.887514\n",
      "Feature 38: 3.034687\n",
      "Feature 39: 6.235995\n",
      "Feature 40: 0.069998\n",
      "Feature 41: 0.441142\n",
      "Feature 42: 2.922871\n",
      "Feature 43: 0.000010\n",
      "Feature 44: 0.436843\n",
      "Feature 45: 4.010297\n",
      "Feature 46: 2.450028\n",
      "Feature 47: 0.932977\n",
      "Feature 48: 5.190358\n",
      "Feature 49: 1.063934\n"
     ]
    },
    {
     "data": {
      "image/png": "[encoded data removed]",
      "text/plain": [
       "<Figure size 432x288 with 1 Axes>"
      ]
     },
     "metadata": {
      "needs_background": "light"
     },
     "output_type": "display_data"
    }
   ],
   "source": [
    "X_train_fs, X_test_fs, fs = select_features(X_train, y_train, X_test)\n",
    "for i in range(len(fs.scores_)):\n",
    "     print('Feature %d: %f' % (i, fs.scores_[i]))\n",
    "# plot the scores\n",
    "plt.bar([i for i in range(len(fs.scores_))], fs.scores_)\n",
    "\n",
    "plt.show()"
   ]
  },
  {
   "cell_type": "code",
   "execution_count": null,
   "metadata": {},
   "outputs": [],
   "source": []
  },
  {
   "cell_type": "code",
   "execution_count": 484,
   "metadata": {
    "ExecuteTime": {
     "end_time": "2020-12-19T05:56:15.054527Z",
     "start_time": "2020-12-19T05:56:15.046530Z"
    }
   },
   "outputs": [
    {
     "name": "stdout",
     "output_type": "stream",
     "text": [
      "Occupation\n",
      "Easy Payment option\n",
      "Self Cooking\n",
      "Bad past experience\n",
      "Unaffordable\n",
      "Delay of delivery person picking up food\n",
      "Order Time\n",
      "Maximum wait time\n"
     ]
    }
   ],
   "source": [
    "# Extract feature \n",
    "basic_f1=[]\n",
    "for i in range(len(fs.scores_)):\n",
    "    if(fs.scores_[i]>10): # set Thresold\n",
    "        print(X_test.columns[i])\n",
    "        basic_f1.append(X_test.columns[i])"
   ]
  },
  {
   "cell_type": "code",
   "execution_count": 485,
   "metadata": {
    "ExecuteTime": {
     "end_time": "2020-12-19T05:56:15.231440Z",
     "start_time": "2020-12-19T05:56:15.057524Z"
    }
   },
   "outputs": [],
   "source": [
    "X=fd_dlvry[basic_f1]\n",
    "y=fd_dlvry['Output']"
   ]
  },
  {
   "cell_type": "code",
   "execution_count": 486,
   "metadata": {
    "ExecuteTime": {
     "end_time": "2020-12-19T05:56:16.727319Z",
     "start_time": "2020-12-19T05:56:15.235437Z"
    },
    "code_folding": []
   },
   "outputs": [
    {
     "data": {
      "image/png": "[encoded data removed]",
      "text/plain": [
       "<Figure size 432x288 with 1 Axes>"
      ]
     },
     "metadata": {
      "needs_background": "light"
     },
     "output_type": "display_data"
    }
   ],
   "source": [
    "#neighbour find \n",
    "plt.figure()\n",
    "training_accuracy = []\n",
    "test_accuracy = []\n",
    "# try n_neighbors from 1 to 10\n",
    "neighbors_settings = range(1, 11)\n",
    "for i in neighbors_settings:\n",
    "    clf = KNeighborsClassifier(n_neighbors=i,p=1)\n",
    "    clf.fit(X_train, y_train)\n",
    "    training_accuracy.append(clf.score(X_train, y_train))\n",
    "    # record generalization accuracy\n",
    "    test_accuracy.append(clf.score(X_test, y_test))\n",
    "plt.plot(neighbors_settings,training_accuracy,label=\"training accuracy\")\n",
    "plt.plot(neighbors_settings,test_accuracy,label=\"test accuracy\")\n",
    "plt.ylabel(\"Accuracy\")\n",
    "plt.xlabel(\"n_neighbors\")\n",
    "plt.legend()\n",
    "\n",
    "plt.show()"
   ]
  },
  {
   "cell_type": "code",
   "execution_count": 487,
   "metadata": {
    "ExecuteTime": {
     "end_time": "2020-12-19T05:56:16.739314Z",
     "start_time": "2020-12-19T05:56:16.732316Z"
    },
    "code_folding": [
     0
    ]
   },
   "outputs": [],
   "source": [
    "# here some Extra work it's take long time to running\n",
    "# plt.figure()\n",
    "# training_accuracy = []\n",
    "# test_accuracy = []\n",
    "# # try n_neighbors from 1 to 10\n",
    "# test_size= numpy.arange(0.1, 0.9,0.05)\n",
    "# knn = KNeighborsClassifier(n_neighbors = 3)\n",
    "# for i in test_size:\n",
    "    \n",
    "    \n",
    "#     test_score = []\n",
    "#     train_score=[]\n",
    "#     for j in range(1,1000):\n",
    "#         X_train, X_test, y_train, y_test = train_test_split(X, y, test_size = i,random_state=6)\n",
    "#         knn.fit(X_train, y_train)\n",
    "#         test_score.append(knn.score(X_test, y_test))\n",
    "#         train_score.append(knn.score(X_train, y_train))\n",
    "  \n",
    "\n",
    "       \n",
    "#     training_accuracy.append(np.mean(train_score))\n",
    "#     # record generalization accuracy\n",
    "#     test_accuracy.append(np.mean(test_score))\n",
    "\n",
    "# plt.plot(test_size,training_accuracy,label=\"training accuracy\")\n",
    "# plt.plot(test_size,test_accuracy,label=\"test accuracy\")\n",
    "# plt.ylabel(\"Accuracy\")\n",
    "# plt.xlabel(\"test_size\")\n",
    "# plt.legend()\n",
    "\n",
    "# plt.show()"
   ]
  },
  {
   "cell_type": "code",
   "execution_count": 488,
   "metadata": {
    "ExecuteTime": {
     "end_time": "2020-12-19T05:56:18.624503Z",
     "start_time": "2020-12-19T05:56:16.744348Z"
    },
    "code_folding": []
   },
   "outputs": [
    {
     "data": {
      "image/png": "[encoded data removed]",
      "text/plain": [
       "<Figure size 432x288 with 1 Axes>"
      ]
     },
     "metadata": {
      "needs_background": "light"
     },
     "output_type": "display_data"
    }
   ],
   "source": [
    "# appropriate test size find \n",
    "plt.figure()\n",
    "training_accuracy = []\n",
    "test_accuracy = []\n",
    "# try n_neighbors from 1 to 10\n",
    "test_size= numpy.arange(0.1, 0.9,0.05)\n",
    "knn = KNeighborsClassifier(n_neighbors = 5)\n",
    "for i in test_size:\n",
    "    \n",
    "        X_train, X_test, y_train, y_test = train_test_split(X, y, test_size = i)\n",
    "        knn.fit(X_train, y_train)\n",
    "        training_accuracy.append(knn.score(X_train,y_train))\n",
    "        test_accuracy.append(knn.score(X_test,y_test))\n",
    "  \n",
    "\n",
    "    \n",
    "plt.plot(test_size,training_accuracy,label=\"training accuracy\")\n",
    "plt.plot(test_size,test_accuracy,label=\"test accuracy\")\n",
    "plt.ylabel(\"Accuracy\")\n",
    "plt.xlabel(\"test_size\")\n",
    "plt.legend()\n",
    "\n",
    "plt.show()"
   ]
  },
  {
   "cell_type": "code",
   "execution_count": 489,
   "metadata": {
    "ExecuteTime": {
     "end_time": "2020-12-19T05:56:18.668488Z",
     "start_time": "2020-12-19T05:56:18.627501Z"
    }
   },
   "outputs": [
    {
     "data": {
      "text/plain": [
       "0.8076923076923077"
      ]
     },
     "execution_count": 489,
     "metadata": {},
     "output_type": "execute_result"
    }
   ],
   "source": [
    "#split data into test data and train data\n",
    "X_train,X_test,y_train,y_test=train_test_split(X,y,test_size=0.4)\n",
    "\n",
    "neigh = KNeighborsClassifier(n_neighbors=5)\n",
    "\n",
    "knn=neigh.fit(X_train,y_train)\n",
    "\n",
    "knn.score(X_test,y_test)"
   ]
  },
  {
   "cell_type": "code",
   "execution_count": 490,
   "metadata": {
    "ExecuteTime": {
     "end_time": "2020-12-19T05:56:18.856391Z",
     "start_time": "2020-12-19T05:56:18.672486Z"
    }
   },
   "outputs": [],
   "source": [
    "y_pred=knn.predict(X_test)"
   ]
  },
  {
   "cell_type": "code",
   "execution_count": 491,
   "metadata": {
    "ExecuteTime": {
     "end_time": "2020-12-19T05:56:19.041286Z",
     "start_time": "2020-12-19T05:56:18.860389Z"
    }
   },
   "outputs": [
    {
     "data": {
      "text/plain": [
       "array([[ 19,  20],\n",
       "       [ 10, 107]], dtype=int64)"
      ]
     },
     "execution_count": 491,
     "metadata": {},
     "output_type": "execute_result"
    }
   ],
   "source": [
    "#confusion matrix \n",
    "cf_matrix_n=confusion_matrix(y_test, y_pred)\n",
    "cf_matrix_n"
   ]
  },
  {
   "cell_type": "code",
   "execution_count": 492,
   "metadata": {
    "ExecuteTime": {
     "end_time": "2020-12-19T05:56:19.279692Z",
     "start_time": "2020-12-19T05:56:19.044284Z"
    }
   },
   "outputs": [
    {
     "name": "stdout",
     "output_type": "stream",
     "text": [
      "              precision    recall  f1-score   support\n",
      "\n",
      "           0       0.66      0.49      0.56        39\n",
      "           1       0.84      0.91      0.88       117\n",
      "\n",
      "    accuracy                           0.81       156\n",
      "   macro avg       0.75      0.70      0.72       156\n",
      "weighted avg       0.80      0.81      0.80       156\n",
      "\n"
     ]
    }
   ],
   "source": [
    "#classification report\n",
    "print(classification_report(y_test,y_pred))"
   ]
  },
  {
   "cell_type": "code",
   "execution_count": 493,
   "metadata": {
    "ExecuteTime": {
     "end_time": "2020-12-19T05:56:19.728446Z",
     "start_time": "2020-12-19T05:56:19.284686Z"
    },
    "scrolled": true
   },
   "outputs": [
    {
     "data": {
      "image/png": "[encoded data removed]",
      "text/plain": [
       "<Figure size 432x288 with 1 Axes>"
      ]
     },
     "metadata": {
      "needs_background": "light"
     },
     "output_type": "display_data"
    }
   ],
   "source": [
    "from sklearn.metrics import roc_curve\n",
    "fpr, tpr, thresholds=roc_curve(y_test, y_pred)\n",
    "AUC=round(metrics.auc(fpr, tpr),2)\n",
    "\n",
    "pyplot.plot([0,1], [0,1], linestyle='--', label='No Skill')\n",
    "pyplot.plot(fpr, tpr, marker='.', label=f'knn AUC={AUC}')\n",
    "# axis labels\n",
    "pyplot.xlabel('False Positive Rate')\n",
    "pyplot.ylabel('True Positive Rate')\n",
    "pyplot.legend()\n",
    "# show the plot\n",
    "pyplot.show()\n"
   ]
  },
  {
   "cell_type": "markdown",
   "metadata": {},
   "source": [
    "<b> Conclusion:</b>"
   ]
  },
  {
   "cell_type": "code",
   "execution_count": 494,
   "metadata": {
    "ExecuteTime": {
     "end_time": "2020-12-19T05:56:19.742439Z",
     "start_time": "2020-12-19T05:56:19.733445Z"
    }
   },
   "outputs": [
    {
     "data": {
      "text/plain": [
       "'feature selection method affect our model,AUC decrease as compare to the first one'"
      ]
     },
     "execution_count": 494,
     "metadata": {},
     "output_type": "execute_result"
    }
   ],
   "source": [
    "'''feature selection method affect our model,AUC decrease as compare to the first one'''"
   ]
  },
  {
   "cell_type": "markdown",
   "metadata": {},
   "source": [
    "<b><h1> Logistics Regression</h1> </b>\n"
   ]
  },
  {
   "cell_type": "code",
   "execution_count": 495,
   "metadata": {
    "ExecuteTime": {
     "end_time": "2020-12-19T05:56:19.840382Z",
     "start_time": "2020-12-19T05:56:19.747436Z"
    }
   },
   "outputs": [],
   "source": [
    "from sklearn.linear_model import LogisticRegression"
   ]
  },
  {
   "cell_type": "code",
   "execution_count": 496,
   "metadata": {
    "ExecuteTime": {
     "end_time": "2020-12-19T05:56:19.921336Z",
     "start_time": "2020-12-19T05:56:19.844381Z"
    }
   },
   "outputs": [],
   "source": [
    "# Here we are using  both method for feature selection  means we takes union both feature union"
   ]
  },
  {
   "cell_type": "code",
   "execution_count": 497,
   "metadata": {
    "ExecuteTime": {
     "end_time": "2020-12-19T05:56:20.011292Z",
     "start_time": "2020-12-19T05:56:19.925335Z"
    }
   },
   "outputs": [],
   "source": [
    "f_feature=list(set(basic_f0).union(set(basic_f1)))"
   ]
  },
  {
   "cell_type": "code",
   "execution_count": 498,
   "metadata": {
    "ExecuteTime": {
     "end_time": "2020-12-19T05:56:20.159892Z",
     "start_time": "2020-12-19T05:56:20.016291Z"
    }
   },
   "outputs": [
    {
     "data": {
      "text/plain": [
       "['Time saving',\n",
       " 'Good Food quality',\n",
       " 'Good Tracking system',\n",
       " 'Occupation',\n",
       " 'Age',\n",
       " 'More Offers and Discount',\n",
       " 'Delay of delivery person picking up food',\n",
       " 'Order Time',\n",
       " 'Easy Payment option',\n",
       " 'Maximum wait time',\n",
       " 'Unaffordable',\n",
       " 'Bad past experience',\n",
       " 'Self Cooking',\n",
       " 'Ease and convenient',\n",
       " 'More restaurant choices']"
      ]
     },
     "execution_count": 498,
     "metadata": {},
     "output_type": "execute_result"
    }
   ],
   "source": [
    "f_feature"
   ]
  },
  {
   "cell_type": "code",
   "execution_count": 499,
   "metadata": {
    "ExecuteTime": {
     "end_time": "2020-12-19T05:56:20.288819Z",
     "start_time": "2020-12-19T05:56:20.164889Z"
    }
   },
   "outputs": [],
   "source": [
    "# Now we need to use some domain knowlegde for selecting feature \n",
    "'''Group 1: {'Ease and convenient','Easy Payment option'}\n",
    "   Group 2 :{'Order Time','Time saving','Delay of delivery person picking up food','Maximum wait time'}'''\n",
    "f_feature=['Ease and convenient','Self Cooking','Maximum wait time','More restaurant choices',\n",
    " 'Unaffordable','More Offers and Discount','Good Food quality','Good Tracking system','Age','Bad past experience']"
   ]
  },
  {
   "cell_type": "code",
   "execution_count": 500,
   "metadata": {
    "ExecuteTime": {
     "end_time": "2020-12-19T05:56:20.425740Z",
     "start_time": "2020-12-19T05:56:20.292816Z"
    }
   },
   "outputs": [],
   "source": [
    "#select X,y \n",
    "X=fd_dlvry[f_feature]\n",
    "y=fd_dlvry['Output']"
   ]
  },
  {
   "cell_type": "code",
   "execution_count": 501,
   "metadata": {
    "ExecuteTime": {
     "end_time": "2020-12-19T05:56:20.599646Z",
     "start_time": "2020-12-19T05:56:20.429738Z"
    }
   },
   "outputs": [
    {
     "data": {
      "text/plain": [
       "['Ease and convenient',\n",
       " 'Self Cooking',\n",
       " 'Maximum wait time',\n",
       " 'More restaurant choices',\n",
       " 'Unaffordable',\n",
       " 'More Offers and Discount',\n",
       " 'Good Food quality',\n",
       " 'Good Tracking system',\n",
       " 'Age',\n",
       " 'Bad past experience']"
      ]
     },
     "execution_count": 501,
     "metadata": {},
     "output_type": "execute_result"
    }
   ],
   "source": [
    "f_feature"
   ]
  },
  {
   "cell_type": "code",
   "execution_count": 502,
   "metadata": {
    "ExecuteTime": {
     "end_time": "2020-12-19T05:56:20.744563Z",
     "start_time": "2020-12-19T05:56:20.603646Z"
    }
   },
   "outputs": [],
   "source": [
    "Lg=LogisticRegression()"
   ]
  },
  {
   "cell_type": "code",
   "execution_count": 503,
   "metadata": {
    "ExecuteTime": {
     "end_time": "2020-12-19T05:57:08.469270Z",
     "start_time": "2020-12-19T05:56:20.750560Z"
    },
    "code_folding": []
   },
   "outputs": [
    {
     "data": {
      "image/png": "[encoded data removed]",
      "text/plain": [
       "<Figure size 432x288 with 1 Axes>"
      ]
     },
     "metadata": {
      "needs_background": "light"
     },
     "output_type": "display_data"
    }
   ],
   "source": [
    "#\n",
    "plt.figure()\n",
    "training_accuracy = []\n",
    "test_accuracy = []\n",
    "# try n_neighbors from 1 to 10\n",
    "test_size= numpy.arange(0.1, 0.9,0.05)\n",
    "\n",
    "for i in test_size:\n",
    "        t_s=[]\n",
    "        tn_=[]\n",
    "        for j in range(0,50):\n",
    "            X_train, X_test, y_train, y_test = train_test_split(X, y, test_size = i)\n",
    "            Lg.fit(X_train, y_train)\n",
    "            \n",
    "            t_s.append(Lg.score(X_test,y_test))\n",
    "            tn_.append(Lg.score(X_train,y_train))\n",
    "        training_accuracy.append(np.mean(t_s))\n",
    "        test_accuracy.append(np.mean(tn_))\n",
    "\n",
    "\n",
    "    \n",
    "plt.plot(test_size,training_accuracy,label=\"training accuracy\")\n",
    "plt.plot(test_size,test_accuracy,label=\"test accuracy\")\n",
    "plt.ylabel(\"Accuracy\")\n",
    "plt.xlabel(\"test_size\")\n",
    "plt.legend()\n",
    "\n",
    "plt.show()\n",
    "\n",
    "\n"
   ]
  },
  {
   "cell_type": "code",
   "execution_count": 504,
   "metadata": {
    "ExecuteTime": {
     "end_time": "2020-12-19T05:57:08.559731Z",
     "start_time": "2020-12-19T05:57:08.472272Z"
    }
   },
   "outputs": [
    {
     "data": {
      "text/plain": [
       "0.8205128205128205"
      ]
     },
     "execution_count": 504,
     "metadata": {},
     "output_type": "execute_result"
    }
   ],
   "source": [
    "#data split into train and test size \n",
    "X_train,X_test,y_train,y_test=train_test_split(X,y,test_size=0.3)\n",
    "Lg.fit(X_train,y_train)\n",
    "Lg.score(X_test,y_test)"
   ]
  },
  {
   "cell_type": "code",
   "execution_count": 505,
   "metadata": {
    "ExecuteTime": {
     "end_time": "2020-12-19T05:57:08.659644Z",
     "start_time": "2020-12-19T05:57:08.563728Z"
    }
   },
   "outputs": [],
   "source": [
    "y_pred=Lg.predict(X_test)"
   ]
  },
  {
   "cell_type": "code",
   "execution_count": 506,
   "metadata": {
    "ExecuteTime": {
     "end_time": "2020-12-19T05:57:08.779575Z",
     "start_time": "2020-12-19T05:57:08.663640Z"
    }
   },
   "outputs": [
    {
     "data": {
      "text/plain": [
       "array([[15, 13],\n",
       "       [ 8, 81]], dtype=int64)"
      ]
     },
     "execution_count": 506,
     "metadata": {},
     "output_type": "execute_result"
    }
   ],
   "source": [
    "cf_matrix=confusion_matrix(y_test, y_pred)\n",
    "cf_matrix"
   ]
  },
  {
   "cell_type": "code",
   "execution_count": 507,
   "metadata": {
    "ExecuteTime": {
     "end_time": "2020-12-19T05:57:08.889523Z",
     "start_time": "2020-12-19T05:57:08.784572Z"
    }
   },
   "outputs": [
    {
     "name": "stdout",
     "output_type": "stream",
     "text": [
      "              precision    recall  f1-score   support\n",
      "\n",
      "           0       0.65      0.54      0.59        28\n",
      "           1       0.86      0.91      0.89        89\n",
      "\n",
      "    accuracy                           0.82       117\n",
      "   macro avg       0.76      0.72      0.74       117\n",
      "weighted avg       0.81      0.82      0.81       117\n",
      "\n"
     ]
    }
   ],
   "source": [
    "print(classification_report(y_test,y_pred))"
   ]
  },
  {
   "cell_type": "code",
   "execution_count": 508,
   "metadata": {
    "ExecuteTime": {
     "end_time": "2020-12-19T05:57:09.546234Z",
     "start_time": "2020-12-19T05:57:08.894518Z"
    },
    "scrolled": true
   },
   "outputs": [
    {
     "data": {
      "image/png": "[encoded data removed]",
      "text/plain": [
       "<Figure size 720x432 with 1 Axes>"
      ]
     },
     "metadata": {
      "needs_background": "light"
     },
     "output_type": "display_data"
    }
   ],
   "source": [
    "thresolds = [0.2,0.3,0.4,0.5,0.55,0.6,0.62,0.65,0.7,0.8]\n",
    "plt.figure(figsize=(10,6))\n",
    "for i in thresolds:\n",
    "    y_pred_proba = (Lg.predict_proba(X_test)[:,1]>=i).astype(int)\n",
    "    fpr, tpr, m= metrics.roc_curve(y_test,  y_pred_proba)\n",
    "    auc = metrics.roc_auc_score(y_test, y_pred_proba)\n",
    "    plt.plot(fpr,tpr,label=f\"data 1, auc={auc} thresold={i}\")\n",
    "    plt.legend(loc=4)\n",
    "\n",
    "\n",
    "\n",
    "plt.xlabel('fpr')\n",
    "plt.ylabel('tpr')\n",
    "plt.show()"
   ]
  },
  {
   "cell_type": "code",
   "execution_count": 509,
   "metadata": {
    "ExecuteTime": {
     "end_time": "2020-12-19T05:57:09.560206Z",
     "start_time": "2020-12-19T05:57:09.550213Z"
    }
   },
   "outputs": [
    {
     "data": {
      "text/plain": [
       "'In Knn weighted avg f1-score is good and AUC is great but problems in Knn is not learning something\\nknn just use more memory space for perform operation and mostly features are categorical so noise affect\\non this algorithms. Here we can see if we set thresold 0.65 in Logistics regression we get better model  and here algorithms \\nsomething learn \\n'"
      ]
     },
     "execution_count": 509,
     "metadata": {},
     "output_type": "execute_result"
    }
   ],
   "source": [
    "'''In Knn weighted avg f1-score is good and AUC is great but problems in Knn is not learning something\n",
    "knn just use more memory space for perform operation and mostly features are categorical so noise affect\n",
    "on this algorithms. Here we can see if we set thresold 0.65 in Logistics regression we get better model  and here algorithms \n",
    "something learn \n",
    "'''"
   ]
  },
  {
   "cell_type": "markdown",
   "metadata": {},
   "source": [
    "<b> Final Model </b>"
   ]
  },
  {
   "cell_type": "code",
   "execution_count": 521,
   "metadata": {
    "ExecuteTime": {
     "end_time": "2020-12-19T06:30:33.964146Z",
     "start_time": "2020-12-19T06:30:33.956151Z"
    }
   },
   "outputs": [],
   "source": [
    "#select X,y \n",
    "X=fd_dlvry[f_feature]\n",
    "y=fd_dlvry['Output']"
   ]
  },
  {
   "cell_type": "code",
   "execution_count": 524,
   "metadata": {
    "ExecuteTime": {
     "end_time": "2020-12-19T10:34:25.763059Z",
     "start_time": "2020-12-19T10:34:25.683107Z"
    }
   },
   "outputs": [
    {
     "name": "stdout",
     "output_type": "stream",
     "text": [
      "Training score= 0.8293650793650794\n",
      "Test score= 0.8308823529411765\n"
     ]
    }
   ],
   "source": [
    "X_train, X_test, y_train, y_test = train_test_split(X, y, test_size = 0.35)\n",
    "Lg=LogisticRegression()\n",
    "Lg.fit(X_train, y_train)\n",
    "print(\"Training score=\",Lg.score(X_train,y_train))\n",
    "print(\"Test score=\",Lg.score(X_test,y_test))"
   ]
  },
  {
   "cell_type": "code",
   "execution_count": 525,
   "metadata": {
    "ExecuteTime": {
     "end_time": "2020-12-19T10:34:26.659557Z",
     "start_time": "2020-12-19T10:34:26.650562Z"
    }
   },
   "outputs": [],
   "source": [
    "y_pred_proba = (Lg.predict_proba(X_test)[:,1]>=0.65).astype(int)"
   ]
  },
  {
   "cell_type": "code",
   "execution_count": 529,
   "metadata": {
    "ExecuteTime": {
     "end_time": "2020-12-19T10:35:36.623733Z",
     "start_time": "2020-12-19T10:35:36.611739Z"
    }
   },
   "outputs": [
    {
     "data": {
      "text/plain": [
       "array([[19, 13],\n",
       "       [ 9, 95]], dtype=int64)"
      ]
     },
     "execution_count": 529,
     "metadata": {},
     "output_type": "execute_result"
    }
   ],
   "source": [
    "cf_matrix=confusion_matrix(y_test, y_pred_proba)\n",
    "cf_matrix"
   ]
  },
  {
   "cell_type": "code",
   "execution_count": 531,
   "metadata": {
    "ExecuteTime": {
     "end_time": "2020-12-19T10:35:42.775192Z",
     "start_time": "2020-12-19T10:35:42.760201Z"
    }
   },
   "outputs": [
    {
     "name": "stdout",
     "output_type": "stream",
     "text": [
      "              precision    recall  f1-score   support\n",
      "\n",
      "           0       0.68      0.59      0.63        32\n",
      "           1       0.88      0.91      0.90       104\n",
      "\n",
      "    accuracy                           0.84       136\n",
      "   macro avg       0.78      0.75      0.76       136\n",
      "weighted avg       0.83      0.84      0.83       136\n",
      "\n"
     ]
    }
   ],
   "source": [
    "print(classification_report(y_test,y_pred_proba))"
   ]
  },
  {
   "cell_type": "markdown",
   "metadata": {},
   "source": [
    "<b> thank you :) </b> "
   ]
  },
  {
   "cell_type": "code",
   "execution_count": null,
   "metadata": {},
   "outputs": [],
   "source": []
  }
 ],
 "metadata": {
  "kernelspec": {
   "display_name": "Python 3",
   "language": "python",
   "name": "python3"
  },
  "language_info": {
   "codemirror_mode": {
    "name": "ipython",
    "version": 3
   },
   "file_extension": ".py",
   "mimetype": "text/x-python",
   "name": "python",
   "nbconvert_exporter": "python",
   "pygments_lexer": "ipython3",
   "version": "3.7.9"
  },
  "toc": {
   "base_numbering": 1,
   "nav_menu": {},
   "number_sections": true,
   "sideBar": true,
   "skip_h1_title": false,
   "title_cell": "Table of Contents",
   "title_sidebar": "Contents",
   "toc_cell": false,
   "toc_position": {},
   "toc_section_display": true,
   "toc_window_display": false
  }
 },
 "nbformat": 4,
 "nbformat_minor": 4
}
