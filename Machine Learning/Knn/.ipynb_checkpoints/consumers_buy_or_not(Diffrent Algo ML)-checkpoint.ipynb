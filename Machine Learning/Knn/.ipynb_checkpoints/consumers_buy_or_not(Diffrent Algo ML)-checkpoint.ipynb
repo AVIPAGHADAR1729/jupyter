{
 "cells": [
  {
   "cell_type": "code",
   "execution_count": 1,
   "metadata": {
    "ExecuteTime": {
     "end_time": "2021-02-11T09:57:15.868923Z",
     "start_time": "2021-02-11T09:56:30.265293Z"
    }
   },
   "outputs": [],
   "source": [
    "#import libraries\n",
    "import numpy \n",
    "import numpy as np\n",
    "import pandas as pd\n",
    "import seaborn as sns\n",
    "import matplotlib.pyplot as plt\n",
    "from sklearn import metrics\n",
    "import matplotlib.patches as mpatches\n",
    "from sklearn.metrics import classification_report\n",
    "from sklearn.metrics import confusion_matrix\n",
    "import scipy.stats as st \n",
    "import dtale \n",
    "import warnings\n",
    "from sklearn.tree import DecisionTreeClassifier\n",
    "from sklearn.model_selection import cross_val_score\n",
    "warnings.filterwarnings('ignore')\n",
    "import pandas_profiling as pdp\n",
    "from sklearn.model_selection import train_test_split\n",
    "from sklearn.neighbors import KNeighborsClassifier\n",
    "from sklearn.metrics import roc_curve"
   ]
  },
  {
   "cell_type": "code",
   "execution_count": 2,
   "metadata": {
    "ExecuteTime": {
     "end_time": "2021-02-11T09:57:16.364348Z",
     "start_time": "2021-02-11T09:57:15.871930Z"
    }
   },
   "outputs": [],
   "source": [
    "fd_dlvry=pd.read_csv('../../data/Banglore_food_delivery/onlinedeliverydata.csv')"
   ]
  },
  {
   "cell_type": "code",
   "execution_count": 3,
   "metadata": {
    "ExecuteTime": {
     "end_time": "2021-02-11T09:57:16.374801Z",
     "start_time": "2021-02-11T09:57:16.367801Z"
    }
   },
   "outputs": [],
   "source": [
    "fd_ori=fd_dlvry.copy(deep=True)\n",
    "#future uses one copy create"
   ]
  },
  {
   "cell_type": "code",
   "execution_count": 4,
   "metadata": {
    "ExecuteTime": {
     "end_time": "2021-02-11T09:57:16.552266Z",
     "start_time": "2021-02-11T09:57:16.380795Z"
    }
   },
   "outputs": [
    {
     "data": {
      "text/plain": [
       "(388, 55)"
      ]
     },
     "execution_count": 4,
     "metadata": {},
     "output_type": "execute_result"
    }
   ],
   "source": [
    "fd_dlvry.shape"
   ]
  },
  {
   "cell_type": "code",
   "execution_count": 5,
   "metadata": {
    "ExecuteTime": {
     "end_time": "2021-02-11T09:57:17.022236Z",
     "start_time": "2021-02-11T09:57:16.557263Z"
    },
    "scrolled": true
   },
   "outputs": [
    {
     "data": {
      "text/html": [
       "<div>\n",
       "<style scoped>\n",
       "    .dataframe tbody tr th:only-of-type {\n",
       "        vertical-align: middle;\n",
       "    }\n",
       "\n",
       "    .dataframe tbody tr th {\n",
       "        vertical-align: top;\n",
       "    }\n",
       "\n",
       "    .dataframe thead th {\n",
       "        text-align: right;\n",
       "    }\n",
       "</style>\n",
       "<table border=\"1\" class=\"dataframe\">\n",
       "  <thead>\n",
       "    <tr style=\"text-align: right;\">\n",
       "      <th></th>\n",
       "      <th>Age</th>\n",
       "      <th>Gender</th>\n",
       "      <th>Marital Status</th>\n",
       "      <th>Occupation</th>\n",
       "      <th>Monthly Income</th>\n",
       "      <th>Educational Qualifications</th>\n",
       "      <th>Family size</th>\n",
       "      <th>latitude</th>\n",
       "      <th>longitude</th>\n",
       "      <th>Pin code</th>\n",
       "      <th>...</th>\n",
       "      <th>Less Delivery time</th>\n",
       "      <th>High Quality of package</th>\n",
       "      <th>Number of calls</th>\n",
       "      <th>Politeness</th>\n",
       "      <th>Freshness</th>\n",
       "      <th>Temperature</th>\n",
       "      <th>Good Taste</th>\n",
       "      <th>Good Quantity</th>\n",
       "      <th>Output</th>\n",
       "      <th>Reviews</th>\n",
       "    </tr>\n",
       "  </thead>\n",
       "  <tbody>\n",
       "    <tr>\n",
       "      <th>0</th>\n",
       "      <td>20</td>\n",
       "      <td>Female</td>\n",
       "      <td>Single</td>\n",
       "      <td>Student</td>\n",
       "      <td>No Income</td>\n",
       "      <td>Post Graduate</td>\n",
       "      <td>4</td>\n",
       "      <td>12.9766</td>\n",
       "      <td>77.5993</td>\n",
       "      <td>560001</td>\n",
       "      <td>...</td>\n",
       "      <td>Moderately Important</td>\n",
       "      <td>Moderately Important</td>\n",
       "      <td>Moderately Important</td>\n",
       "      <td>Moderately Important</td>\n",
       "      <td>Moderately Important</td>\n",
       "      <td>Moderately Important</td>\n",
       "      <td>Moderately Important</td>\n",
       "      <td>Moderately Important</td>\n",
       "      <td>Yes</td>\n",
       "      <td>Nil\\n</td>\n",
       "    </tr>\n",
       "    <tr>\n",
       "      <th>1</th>\n",
       "      <td>24</td>\n",
       "      <td>Female</td>\n",
       "      <td>Single</td>\n",
       "      <td>Student</td>\n",
       "      <td>Below Rs.10000</td>\n",
       "      <td>Graduate</td>\n",
       "      <td>3</td>\n",
       "      <td>12.9770</td>\n",
       "      <td>77.5773</td>\n",
       "      <td>560009</td>\n",
       "      <td>...</td>\n",
       "      <td>Very Important</td>\n",
       "      <td>Very Important</td>\n",
       "      <td>Very Important</td>\n",
       "      <td>Very Important</td>\n",
       "      <td>Very Important</td>\n",
       "      <td>Very Important</td>\n",
       "      <td>Very Important</td>\n",
       "      <td>Very Important</td>\n",
       "      <td>Yes</td>\n",
       "      <td>Nil</td>\n",
       "    </tr>\n",
       "    <tr>\n",
       "      <th>2</th>\n",
       "      <td>22</td>\n",
       "      <td>Male</td>\n",
       "      <td>Single</td>\n",
       "      <td>Student</td>\n",
       "      <td>Below Rs.10000</td>\n",
       "      <td>Post Graduate</td>\n",
       "      <td>3</td>\n",
       "      <td>12.9551</td>\n",
       "      <td>77.6593</td>\n",
       "      <td>560017</td>\n",
       "      <td>...</td>\n",
       "      <td>Important</td>\n",
       "      <td>Very Important</td>\n",
       "      <td>Moderately Important</td>\n",
       "      <td>Very Important</td>\n",
       "      <td>Very Important</td>\n",
       "      <td>Important</td>\n",
       "      <td>Very Important</td>\n",
       "      <td>Moderately Important</td>\n",
       "      <td>Yes</td>\n",
       "      <td>Many a times payment gateways are an issue, so...</td>\n",
       "    </tr>\n",
       "    <tr>\n",
       "      <th>3</th>\n",
       "      <td>22</td>\n",
       "      <td>Female</td>\n",
       "      <td>Single</td>\n",
       "      <td>Student</td>\n",
       "      <td>No Income</td>\n",
       "      <td>Graduate</td>\n",
       "      <td>6</td>\n",
       "      <td>12.9473</td>\n",
       "      <td>77.5616</td>\n",
       "      <td>560019</td>\n",
       "      <td>...</td>\n",
       "      <td>Very Important</td>\n",
       "      <td>Important</td>\n",
       "      <td>Moderately Important</td>\n",
       "      <td>Very Important</td>\n",
       "      <td>Very Important</td>\n",
       "      <td>Very Important</td>\n",
       "      <td>Very Important</td>\n",
       "      <td>Important</td>\n",
       "      <td>Yes</td>\n",
       "      <td>nil</td>\n",
       "    </tr>\n",
       "    <tr>\n",
       "      <th>4</th>\n",
       "      <td>22</td>\n",
       "      <td>Male</td>\n",
       "      <td>Single</td>\n",
       "      <td>Student</td>\n",
       "      <td>Below Rs.10000</td>\n",
       "      <td>Post Graduate</td>\n",
       "      <td>4</td>\n",
       "      <td>12.9850</td>\n",
       "      <td>77.5533</td>\n",
       "      <td>560010</td>\n",
       "      <td>...</td>\n",
       "      <td>Important</td>\n",
       "      <td>Important</td>\n",
       "      <td>Moderately Important</td>\n",
       "      <td>Important</td>\n",
       "      <td>Important</td>\n",
       "      <td>Important</td>\n",
       "      <td>Very Important</td>\n",
       "      <td>Very Important</td>\n",
       "      <td>Yes</td>\n",
       "      <td>NIL</td>\n",
       "    </tr>\n",
       "  </tbody>\n",
       "</table>\n",
       "<p>5 rows × 55 columns</p>\n",
       "</div>"
      ],
      "text/plain": [
       "   Age  Gender Marital Status Occupation  Monthly Income  \\\n",
       "0   20  Female         Single    Student       No Income   \n",
       "1   24  Female         Single    Student  Below Rs.10000   \n",
       "2   22    Male         Single    Student  Below Rs.10000   \n",
       "3   22  Female         Single    Student       No Income   \n",
       "4   22    Male         Single    Student  Below Rs.10000   \n",
       "\n",
       "  Educational Qualifications  Family size  latitude  longitude  Pin code  ...  \\\n",
       "0              Post Graduate            4   12.9766    77.5993    560001  ...   \n",
       "1                   Graduate            3   12.9770    77.5773    560009  ...   \n",
       "2              Post Graduate            3   12.9551    77.6593    560017  ...   \n",
       "3                   Graduate            6   12.9473    77.5616    560019  ...   \n",
       "4              Post Graduate            4   12.9850    77.5533    560010  ...   \n",
       "\n",
       "     Less Delivery time High Quality of package       Number of calls  \\\n",
       "0  Moderately Important    Moderately Important  Moderately Important   \n",
       "1        Very Important          Very Important        Very Important   \n",
       "2             Important          Very Important  Moderately Important   \n",
       "3        Very Important               Important  Moderately Important   \n",
       "4             Important               Important  Moderately Important   \n",
       "\n",
       "             Politeness            Freshness            Temperature  \\\n",
       "0  Moderately Important  Moderately Important  Moderately Important   \n",
       "1        Very Important        Very Important        Very Important   \n",
       "2        Very Important        Very Important             Important   \n",
       "3        Very Important        Very Important        Very Important   \n",
       "4             Important             Important             Important   \n",
       "\n",
       "            Good Taste          Good Quantity Output  \\\n",
       "0  Moderately Important  Moderately Important    Yes   \n",
       "1        Very Important        Very Important    Yes   \n",
       "2        Very Important  Moderately Important    Yes   \n",
       "3        Very Important             Important    Yes   \n",
       "4        Very Important        Very Important    Yes   \n",
       "\n",
       "                                             Reviews  \n",
       "0                                              Nil\\n  \n",
       "1                                                Nil  \n",
       "2  Many a times payment gateways are an issue, so...  \n",
       "3                                                nil  \n",
       "4                                                NIL  \n",
       "\n",
       "[5 rows x 55 columns]"
      ]
     },
     "execution_count": 5,
     "metadata": {},
     "output_type": "execute_result"
    }
   ],
   "source": [
    "fd_dlvry.head()"
   ]
  },
  {
   "cell_type": "code",
   "execution_count": null,
   "metadata": {},
   "outputs": [],
   "source": []
  },
  {
   "cell_type": "code",
   "execution_count": 6,
   "metadata": {
    "ExecuteTime": {
     "end_time": "2021-02-11T09:57:17.276048Z",
     "start_time": "2021-02-11T09:57:17.026219Z"
    }
   },
   "outputs": [
    {
     "name": "stdout",
     "output_type": "stream",
     "text": [
      "<class 'pandas.core.frame.DataFrame'>\n",
      "RangeIndex: 388 entries, 0 to 387\n",
      "Data columns (total 55 columns):\n",
      " #   Column                                     Non-Null Count  Dtype  \n",
      "---  ------                                     --------------  -----  \n",
      " 0   Age                                        388 non-null    int64  \n",
      " 1   Gender                                     388 non-null    object \n",
      " 2   Marital Status                             388 non-null    object \n",
      " 3   Occupation                                 388 non-null    object \n",
      " 4   Monthly Income                             388 non-null    object \n",
      " 5   Educational Qualifications                 388 non-null    object \n",
      " 6   Family size                                388 non-null    int64  \n",
      " 7   latitude                                   388 non-null    float64\n",
      " 8   longitude                                  388 non-null    float64\n",
      " 9   Pin code                                   388 non-null    int64  \n",
      " 10  Medium (P1)                                388 non-null    object \n",
      " 11  Medium (P2)                                388 non-null    object \n",
      " 12  Meal(P1)                                   388 non-null    object \n",
      " 13  Meal(P2)                                   388 non-null    object \n",
      " 14  Perference(P1)                             388 non-null    object \n",
      " 15  Perference(P2)                             388 non-null    object \n",
      " 16  Ease and convenient                        388 non-null    object \n",
      " 17  Time saving                                388 non-null    object \n",
      " 18  More restaurant choices                    388 non-null    object \n",
      " 19  Easy Payment option                        388 non-null    object \n",
      " 20  More Offers and Discount                   388 non-null    object \n",
      " 21  Good Food quality                          388 non-null    object \n",
      " 22  Good Tracking system                       388 non-null    object \n",
      " 23  Self Cooking                               388 non-null    object \n",
      " 24  Health Concern                             388 non-null    object \n",
      " 25  Late Delivery                              388 non-null    object \n",
      " 26  Poor Hygiene                               388 non-null    object \n",
      " 27  Bad past experience                        388 non-null    object \n",
      " 28  Unavailability                             388 non-null    object \n",
      " 29  Unaffordable                               388 non-null    object \n",
      " 30  Long delivery time                         388 non-null    object \n",
      " 31  Delay of delivery person getting assigned  388 non-null    object \n",
      " 32  Delay of delivery person picking up food   388 non-null    object \n",
      " 33  Wrong order delivered                      388 non-null    object \n",
      " 34  Missing item                               388 non-null    object \n",
      " 35  Order placed by mistake                    388 non-null    object \n",
      " 36  Influence of time                          388 non-null    object \n",
      " 37  Order Time                                 388 non-null    object \n",
      " 38  Maximum wait time                          388 non-null    object \n",
      " 39  Residence in busy location                 388 non-null    object \n",
      " 40  Google Maps Accuracy                       388 non-null    object \n",
      " 41  Good Road Condition                        388 non-null    object \n",
      " 42  Low quantity low time                      388 non-null    object \n",
      " 43  Delivery person ability                    388 non-null    object \n",
      " 44  Influence of rating                        388 non-null    object \n",
      " 45  Less Delivery time                         388 non-null    object \n",
      " 46  High Quality of package                    388 non-null    object \n",
      " 47  Number of calls                            388 non-null    object \n",
      " 48  Politeness                                 388 non-null    object \n",
      " 49  Freshness                                  388 non-null    object \n",
      " 50  Temperature                                388 non-null    object \n",
      " 51  Good Taste                                 388 non-null    object \n",
      " 52  Good Quantity                              388 non-null    object \n",
      " 53  Output                                     388 non-null    object \n",
      " 54  Reviews                                    388 non-null    object \n",
      "dtypes: float64(2), int64(3), object(50)\n",
      "memory usage: 166.8+ KB\n"
     ]
    }
   ],
   "source": [
    "fd_dlvry.info()"
   ]
  },
  {
   "cell_type": "code",
   "execution_count": 7,
   "metadata": {
    "ExecuteTime": {
     "end_time": "2021-02-11T09:57:17.284044Z",
     "start_time": "2021-02-11T09:57:17.280046Z"
    }
   },
   "outputs": [],
   "source": [
    "# d = dtale.show(fd_dlvry)\n",
    "# d.open_browser()\n",
    "#we can use datle library for EDA"
   ]
  },
  {
   "cell_type": "code",
   "execution_count": 8,
   "metadata": {
    "ExecuteTime": {
     "end_time": "2021-02-11T09:57:17.405520Z",
     "start_time": "2021-02-11T09:57:17.292039Z"
    }
   },
   "outputs": [],
   "source": [
    "#looking data with pdp.ProfileReport \n",
    "# data = pd.read_csv('../../data/Banglore_food_delivery/onlinedeliverydata.csv')\n",
    "\n",
    "# #Creating the Exploratory Data Analysis of our dataset\n",
    "# report = pdp.ProfileReport(data, title='Pandas Profiling Report')"
   ]
  },
  {
   "cell_type": "code",
   "execution_count": 9,
   "metadata": {
    "ExecuteTime": {
     "end_time": "2021-02-11T09:57:17.544440Z",
     "start_time": "2021-02-11T09:57:17.411515Z"
    },
    "scrolled": true
   },
   "outputs": [],
   "source": [
    "# report.widgets"
   ]
  },
  {
   "cell_type": "code",
   "execution_count": 10,
   "metadata": {
    "ExecuteTime": {
     "end_time": "2021-02-11T09:57:17.864329Z",
     "start_time": "2021-02-11T09:57:17.548437Z"
    }
   },
   "outputs": [],
   "source": [
    "#this library i found on google it's helpful for cleaning data,imputing value and lable encoding\n",
    "import  datacleaner as dc # pip install datacleaner"
   ]
  },
  {
   "cell_type": "code",
   "execution_count": 11,
   "metadata": {
    "ExecuteTime": {
     "end_time": "2021-02-11T09:57:19.075341Z",
     "start_time": "2021-02-11T09:57:17.867331Z"
    },
    "scrolled": true
   },
   "outputs": [
    {
     "data": {
      "text/html": [
       "<div>\n",
       "<style scoped>\n",
       "    .dataframe tbody tr th:only-of-type {\n",
       "        vertical-align: middle;\n",
       "    }\n",
       "\n",
       "    .dataframe tbody tr th {\n",
       "        vertical-align: top;\n",
       "    }\n",
       "\n",
       "    .dataframe thead th {\n",
       "        text-align: right;\n",
       "    }\n",
       "</style>\n",
       "<table border=\"1\" class=\"dataframe\">\n",
       "  <thead>\n",
       "    <tr style=\"text-align: right;\">\n",
       "      <th></th>\n",
       "      <th>Age</th>\n",
       "      <th>Gender</th>\n",
       "      <th>Marital Status</th>\n",
       "      <th>Occupation</th>\n",
       "      <th>Monthly Income</th>\n",
       "      <th>Educational Qualifications</th>\n",
       "      <th>Family size</th>\n",
       "      <th>latitude</th>\n",
       "      <th>longitude</th>\n",
       "      <th>Pin code</th>\n",
       "      <th>...</th>\n",
       "      <th>Less Delivery time</th>\n",
       "      <th>High Quality of package</th>\n",
       "      <th>Number of calls</th>\n",
       "      <th>Politeness</th>\n",
       "      <th>Freshness</th>\n",
       "      <th>Temperature</th>\n",
       "      <th>Good Taste</th>\n",
       "      <th>Good Quantity</th>\n",
       "      <th>Output</th>\n",
       "      <th>Reviews</th>\n",
       "    </tr>\n",
       "  </thead>\n",
       "  <tbody>\n",
       "    <tr>\n",
       "      <th>0</th>\n",
       "      <td>20</td>\n",
       "      <td>0</td>\n",
       "      <td>2</td>\n",
       "      <td>3</td>\n",
       "      <td>4</td>\n",
       "      <td>2</td>\n",
       "      <td>4</td>\n",
       "      <td>12.9766</td>\n",
       "      <td>77.5993</td>\n",
       "      <td>560001</td>\n",
       "      <td>...</td>\n",
       "      <td>1</td>\n",
       "      <td>1</td>\n",
       "      <td>1</td>\n",
       "      <td>1</td>\n",
       "      <td>1</td>\n",
       "      <td>1</td>\n",
       "      <td>1</td>\n",
       "      <td>1</td>\n",
       "      <td>1</td>\n",
       "      <td>136</td>\n",
       "    </tr>\n",
       "    <tr>\n",
       "      <th>1</th>\n",
       "      <td>24</td>\n",
       "      <td>0</td>\n",
       "      <td>2</td>\n",
       "      <td>3</td>\n",
       "      <td>2</td>\n",
       "      <td>0</td>\n",
       "      <td>3</td>\n",
       "      <td>12.9770</td>\n",
       "      <td>77.5773</td>\n",
       "      <td>560009</td>\n",
       "      <td>...</td>\n",
       "      <td>4</td>\n",
       "      <td>4</td>\n",
       "      <td>4</td>\n",
       "      <td>4</td>\n",
       "      <td>4</td>\n",
       "      <td>4</td>\n",
       "      <td>4</td>\n",
       "      <td>4</td>\n",
       "      <td>1</td>\n",
       "      <td>135</td>\n",
       "    </tr>\n",
       "    <tr>\n",
       "      <th>2</th>\n",
       "      <td>22</td>\n",
       "      <td>1</td>\n",
       "      <td>2</td>\n",
       "      <td>3</td>\n",
       "      <td>2</td>\n",
       "      <td>2</td>\n",
       "      <td>3</td>\n",
       "      <td>12.9551</td>\n",
       "      <td>77.6593</td>\n",
       "      <td>560017</td>\n",
       "      <td>...</td>\n",
       "      <td>0</td>\n",
       "      <td>4</td>\n",
       "      <td>1</td>\n",
       "      <td>4</td>\n",
       "      <td>4</td>\n",
       "      <td>0</td>\n",
       "      <td>4</td>\n",
       "      <td>1</td>\n",
       "      <td>1</td>\n",
       "      <td>119</td>\n",
       "    </tr>\n",
       "    <tr>\n",
       "      <th>3</th>\n",
       "      <td>22</td>\n",
       "      <td>0</td>\n",
       "      <td>2</td>\n",
       "      <td>3</td>\n",
       "      <td>4</td>\n",
       "      <td>0</td>\n",
       "      <td>6</td>\n",
       "      <td>12.9473</td>\n",
       "      <td>77.5616</td>\n",
       "      <td>560019</td>\n",
       "      <td>...</td>\n",
       "      <td>4</td>\n",
       "      <td>0</td>\n",
       "      <td>1</td>\n",
       "      <td>4</td>\n",
       "      <td>4</td>\n",
       "      <td>4</td>\n",
       "      <td>4</td>\n",
       "      <td>0</td>\n",
       "      <td>1</td>\n",
       "      <td>176</td>\n",
       "    </tr>\n",
       "    <tr>\n",
       "      <th>4</th>\n",
       "      <td>22</td>\n",
       "      <td>1</td>\n",
       "      <td>2</td>\n",
       "      <td>3</td>\n",
       "      <td>2</td>\n",
       "      <td>2</td>\n",
       "      <td>4</td>\n",
       "      <td>12.9850</td>\n",
       "      <td>77.5533</td>\n",
       "      <td>560010</td>\n",
       "      <td>...</td>\n",
       "      <td>0</td>\n",
       "      <td>0</td>\n",
       "      <td>1</td>\n",
       "      <td>0</td>\n",
       "      <td>0</td>\n",
       "      <td>0</td>\n",
       "      <td>4</td>\n",
       "      <td>4</td>\n",
       "      <td>1</td>\n",
       "      <td>129</td>\n",
       "    </tr>\n",
       "  </tbody>\n",
       "</table>\n",
       "<p>5 rows × 55 columns</p>\n",
       "</div>"
      ],
      "text/plain": [
       "   Age  Gender  Marital Status  Occupation  Monthly Income  \\\n",
       "0   20       0               2           3               4   \n",
       "1   24       0               2           3               2   \n",
       "2   22       1               2           3               2   \n",
       "3   22       0               2           3               4   \n",
       "4   22       1               2           3               2   \n",
       "\n",
       "   Educational Qualifications  Family size  latitude  longitude  Pin code  \\\n",
       "0                           2            4   12.9766    77.5993    560001   \n",
       "1                           0            3   12.9770    77.5773    560009   \n",
       "2                           2            3   12.9551    77.6593    560017   \n",
       "3                           0            6   12.9473    77.5616    560019   \n",
       "4                           2            4   12.9850    77.5533    560010   \n",
       "\n",
       "   ...  Less Delivery time  High Quality of package  Number of calls  \\\n",
       "0  ...                   1                        1                1   \n",
       "1  ...                   4                        4                4   \n",
       "2  ...                   0                        4                1   \n",
       "3  ...                   4                        0                1   \n",
       "4  ...                   0                        0                1   \n",
       "\n",
       "   Politeness  Freshness   Temperature  Good Taste   Good Quantity  Output  \\\n",
       "0           1           1            1            1              1       1   \n",
       "1           4           4            4            4              4       1   \n",
       "2           4           4            0            4              1       1   \n",
       "3           4           4            4            4              0       1   \n",
       "4           0           0            0            4              4       1   \n",
       "\n",
       "   Reviews  \n",
       "0      136  \n",
       "1      135  \n",
       "2      119  \n",
       "3      176  \n",
       "4      129  \n",
       "\n",
       "[5 rows x 55 columns]"
      ]
     },
     "execution_count": 11,
     "metadata": {},
     "output_type": "execute_result"
    }
   ],
   "source": [
    "dc.autoclean(fd_dlvry).head() "
   ]
  },
  {
   "cell_type": "code",
   "execution_count": 12,
   "metadata": {
    "ExecuteTime": {
     "end_time": "2021-02-11T09:57:19.135304Z",
     "start_time": "2021-02-11T09:57:19.078338Z"
    }
   },
   "outputs": [
    {
     "data": {
      "text/html": [
       "<div>\n",
       "<style scoped>\n",
       "    .dataframe tbody tr th:only-of-type {\n",
       "        vertical-align: middle;\n",
       "    }\n",
       "\n",
       "    .dataframe tbody tr th {\n",
       "        vertical-align: top;\n",
       "    }\n",
       "\n",
       "    .dataframe thead th {\n",
       "        text-align: right;\n",
       "    }\n",
       "</style>\n",
       "<table border=\"1\" class=\"dataframe\">\n",
       "  <thead>\n",
       "    <tr style=\"text-align: right;\">\n",
       "      <th></th>\n",
       "      <th>Age</th>\n",
       "      <th>Gender</th>\n",
       "      <th>Marital Status</th>\n",
       "      <th>Occupation</th>\n",
       "      <th>Monthly Income</th>\n",
       "      <th>Educational Qualifications</th>\n",
       "      <th>Family size</th>\n",
       "      <th>latitude</th>\n",
       "      <th>longitude</th>\n",
       "      <th>Pin code</th>\n",
       "      <th>...</th>\n",
       "      <th>Less Delivery time</th>\n",
       "      <th>High Quality of package</th>\n",
       "      <th>Number of calls</th>\n",
       "      <th>Politeness</th>\n",
       "      <th>Freshness</th>\n",
       "      <th>Temperature</th>\n",
       "      <th>Good Taste</th>\n",
       "      <th>Good Quantity</th>\n",
       "      <th>Output</th>\n",
       "      <th>Reviews</th>\n",
       "    </tr>\n",
       "  </thead>\n",
       "  <tbody>\n",
       "    <tr>\n",
       "      <th>0</th>\n",
       "      <td>20</td>\n",
       "      <td>0</td>\n",
       "      <td>2</td>\n",
       "      <td>3</td>\n",
       "      <td>4</td>\n",
       "      <td>2</td>\n",
       "      <td>4</td>\n",
       "      <td>12.9766</td>\n",
       "      <td>77.5993</td>\n",
       "      <td>560001</td>\n",
       "      <td>...</td>\n",
       "      <td>1</td>\n",
       "      <td>1</td>\n",
       "      <td>1</td>\n",
       "      <td>1</td>\n",
       "      <td>1</td>\n",
       "      <td>1</td>\n",
       "      <td>1</td>\n",
       "      <td>1</td>\n",
       "      <td>1</td>\n",
       "      <td>136</td>\n",
       "    </tr>\n",
       "    <tr>\n",
       "      <th>1</th>\n",
       "      <td>24</td>\n",
       "      <td>0</td>\n",
       "      <td>2</td>\n",
       "      <td>3</td>\n",
       "      <td>2</td>\n",
       "      <td>0</td>\n",
       "      <td>3</td>\n",
       "      <td>12.9770</td>\n",
       "      <td>77.5773</td>\n",
       "      <td>560009</td>\n",
       "      <td>...</td>\n",
       "      <td>4</td>\n",
       "      <td>4</td>\n",
       "      <td>4</td>\n",
       "      <td>4</td>\n",
       "      <td>4</td>\n",
       "      <td>4</td>\n",
       "      <td>4</td>\n",
       "      <td>4</td>\n",
       "      <td>1</td>\n",
       "      <td>135</td>\n",
       "    </tr>\n",
       "    <tr>\n",
       "      <th>2</th>\n",
       "      <td>22</td>\n",
       "      <td>1</td>\n",
       "      <td>2</td>\n",
       "      <td>3</td>\n",
       "      <td>2</td>\n",
       "      <td>2</td>\n",
       "      <td>3</td>\n",
       "      <td>12.9551</td>\n",
       "      <td>77.6593</td>\n",
       "      <td>560017</td>\n",
       "      <td>...</td>\n",
       "      <td>0</td>\n",
       "      <td>4</td>\n",
       "      <td>1</td>\n",
       "      <td>4</td>\n",
       "      <td>4</td>\n",
       "      <td>0</td>\n",
       "      <td>4</td>\n",
       "      <td>1</td>\n",
       "      <td>1</td>\n",
       "      <td>119</td>\n",
       "    </tr>\n",
       "    <tr>\n",
       "      <th>3</th>\n",
       "      <td>22</td>\n",
       "      <td>0</td>\n",
       "      <td>2</td>\n",
       "      <td>3</td>\n",
       "      <td>4</td>\n",
       "      <td>0</td>\n",
       "      <td>6</td>\n",
       "      <td>12.9473</td>\n",
       "      <td>77.5616</td>\n",
       "      <td>560019</td>\n",
       "      <td>...</td>\n",
       "      <td>4</td>\n",
       "      <td>0</td>\n",
       "      <td>1</td>\n",
       "      <td>4</td>\n",
       "      <td>4</td>\n",
       "      <td>4</td>\n",
       "      <td>4</td>\n",
       "      <td>0</td>\n",
       "      <td>1</td>\n",
       "      <td>176</td>\n",
       "    </tr>\n",
       "    <tr>\n",
       "      <th>4</th>\n",
       "      <td>22</td>\n",
       "      <td>1</td>\n",
       "      <td>2</td>\n",
       "      <td>3</td>\n",
       "      <td>2</td>\n",
       "      <td>2</td>\n",
       "      <td>4</td>\n",
       "      <td>12.9850</td>\n",
       "      <td>77.5533</td>\n",
       "      <td>560010</td>\n",
       "      <td>...</td>\n",
       "      <td>0</td>\n",
       "      <td>0</td>\n",
       "      <td>1</td>\n",
       "      <td>0</td>\n",
       "      <td>0</td>\n",
       "      <td>0</td>\n",
       "      <td>4</td>\n",
       "      <td>4</td>\n",
       "      <td>1</td>\n",
       "      <td>129</td>\n",
       "    </tr>\n",
       "  </tbody>\n",
       "</table>\n",
       "<p>5 rows × 55 columns</p>\n",
       "</div>"
      ],
      "text/plain": [
       "   Age  Gender  Marital Status  Occupation  Monthly Income  \\\n",
       "0   20       0               2           3               4   \n",
       "1   24       0               2           3               2   \n",
       "2   22       1               2           3               2   \n",
       "3   22       0               2           3               4   \n",
       "4   22       1               2           3               2   \n",
       "\n",
       "   Educational Qualifications  Family size  latitude  longitude  Pin code  \\\n",
       "0                           2            4   12.9766    77.5993    560001   \n",
       "1                           0            3   12.9770    77.5773    560009   \n",
       "2                           2            3   12.9551    77.6593    560017   \n",
       "3                           0            6   12.9473    77.5616    560019   \n",
       "4                           2            4   12.9850    77.5533    560010   \n",
       "\n",
       "   ...  Less Delivery time  High Quality of package  Number of calls  \\\n",
       "0  ...                   1                        1                1   \n",
       "1  ...                   4                        4                4   \n",
       "2  ...                   0                        4                1   \n",
       "3  ...                   4                        0                1   \n",
       "4  ...                   0                        0                1   \n",
       "\n",
       "   Politeness  Freshness   Temperature  Good Taste   Good Quantity  Output  \\\n",
       "0           1           1            1            1              1       1   \n",
       "1           4           4            4            4              4       1   \n",
       "2           4           4            0            4              1       1   \n",
       "3           4           4            4            4              0       1   \n",
       "4           0           0            0            4              4       1   \n",
       "\n",
       "   Reviews  \n",
       "0      136  \n",
       "1      135  \n",
       "2      119  \n",
       "3      176  \n",
       "4      129  \n",
       "\n",
       "[5 rows x 55 columns]"
      ]
     },
     "execution_count": 12,
     "metadata": {},
     "output_type": "execute_result"
    }
   ],
   "source": [
    "fd_dlvry.head() "
   ]
  },
  {
   "cell_type": "code",
   "execution_count": 13,
   "metadata": {
    "ExecuteTime": {
     "end_time": "2021-02-11T09:57:19.252237Z",
     "start_time": "2021-02-11T09:57:19.138302Z"
    }
   },
   "outputs": [
    {
     "data": {
      "text/html": [
       "<div>\n",
       "<style scoped>\n",
       "    .dataframe tbody tr th:only-of-type {\n",
       "        vertical-align: middle;\n",
       "    }\n",
       "\n",
       "    .dataframe tbody tr th {\n",
       "        vertical-align: top;\n",
       "    }\n",
       "\n",
       "    .dataframe thead th {\n",
       "        text-align: right;\n",
       "    }\n",
       "</style>\n",
       "<table border=\"1\" class=\"dataframe\">\n",
       "  <thead>\n",
       "    <tr style=\"text-align: right;\">\n",
       "      <th></th>\n",
       "      <th>Age</th>\n",
       "      <th>Gender</th>\n",
       "      <th>Marital Status</th>\n",
       "      <th>Occupation</th>\n",
       "      <th>Monthly Income</th>\n",
       "      <th>Educational Qualifications</th>\n",
       "      <th>Family size</th>\n",
       "      <th>latitude</th>\n",
       "      <th>longitude</th>\n",
       "      <th>Pin code</th>\n",
       "      <th>...</th>\n",
       "      <th>Less Delivery time</th>\n",
       "      <th>High Quality of package</th>\n",
       "      <th>Number of calls</th>\n",
       "      <th>Politeness</th>\n",
       "      <th>Freshness</th>\n",
       "      <th>Temperature</th>\n",
       "      <th>Good Taste</th>\n",
       "      <th>Good Quantity</th>\n",
       "      <th>Output</th>\n",
       "      <th>Reviews</th>\n",
       "    </tr>\n",
       "  </thead>\n",
       "  <tbody>\n",
       "    <tr>\n",
       "      <th>0</th>\n",
       "      <td>20</td>\n",
       "      <td>Female</td>\n",
       "      <td>Single</td>\n",
       "      <td>Student</td>\n",
       "      <td>No Income</td>\n",
       "      <td>Post Graduate</td>\n",
       "      <td>4</td>\n",
       "      <td>12.9766</td>\n",
       "      <td>77.5993</td>\n",
       "      <td>560001</td>\n",
       "      <td>...</td>\n",
       "      <td>Moderately Important</td>\n",
       "      <td>Moderately Important</td>\n",
       "      <td>Moderately Important</td>\n",
       "      <td>Moderately Important</td>\n",
       "      <td>Moderately Important</td>\n",
       "      <td>Moderately Important</td>\n",
       "      <td>Moderately Important</td>\n",
       "      <td>Moderately Important</td>\n",
       "      <td>Yes</td>\n",
       "      <td>Nil\\n</td>\n",
       "    </tr>\n",
       "    <tr>\n",
       "      <th>1</th>\n",
       "      <td>24</td>\n",
       "      <td>Female</td>\n",
       "      <td>Single</td>\n",
       "      <td>Student</td>\n",
       "      <td>Below Rs.10000</td>\n",
       "      <td>Graduate</td>\n",
       "      <td>3</td>\n",
       "      <td>12.9770</td>\n",
       "      <td>77.5773</td>\n",
       "      <td>560009</td>\n",
       "      <td>...</td>\n",
       "      <td>Very Important</td>\n",
       "      <td>Very Important</td>\n",
       "      <td>Very Important</td>\n",
       "      <td>Very Important</td>\n",
       "      <td>Very Important</td>\n",
       "      <td>Very Important</td>\n",
       "      <td>Very Important</td>\n",
       "      <td>Very Important</td>\n",
       "      <td>Yes</td>\n",
       "      <td>Nil</td>\n",
       "    </tr>\n",
       "    <tr>\n",
       "      <th>2</th>\n",
       "      <td>22</td>\n",
       "      <td>Male</td>\n",
       "      <td>Single</td>\n",
       "      <td>Student</td>\n",
       "      <td>Below Rs.10000</td>\n",
       "      <td>Post Graduate</td>\n",
       "      <td>3</td>\n",
       "      <td>12.9551</td>\n",
       "      <td>77.6593</td>\n",
       "      <td>560017</td>\n",
       "      <td>...</td>\n",
       "      <td>Important</td>\n",
       "      <td>Very Important</td>\n",
       "      <td>Moderately Important</td>\n",
       "      <td>Very Important</td>\n",
       "      <td>Very Important</td>\n",
       "      <td>Important</td>\n",
       "      <td>Very Important</td>\n",
       "      <td>Moderately Important</td>\n",
       "      <td>Yes</td>\n",
       "      <td>Many a times payment gateways are an issue, so...</td>\n",
       "    </tr>\n",
       "    <tr>\n",
       "      <th>3</th>\n",
       "      <td>22</td>\n",
       "      <td>Female</td>\n",
       "      <td>Single</td>\n",
       "      <td>Student</td>\n",
       "      <td>No Income</td>\n",
       "      <td>Graduate</td>\n",
       "      <td>6</td>\n",
       "      <td>12.9473</td>\n",
       "      <td>77.5616</td>\n",
       "      <td>560019</td>\n",
       "      <td>...</td>\n",
       "      <td>Very Important</td>\n",
       "      <td>Important</td>\n",
       "      <td>Moderately Important</td>\n",
       "      <td>Very Important</td>\n",
       "      <td>Very Important</td>\n",
       "      <td>Very Important</td>\n",
       "      <td>Very Important</td>\n",
       "      <td>Important</td>\n",
       "      <td>Yes</td>\n",
       "      <td>nil</td>\n",
       "    </tr>\n",
       "    <tr>\n",
       "      <th>4</th>\n",
       "      <td>22</td>\n",
       "      <td>Male</td>\n",
       "      <td>Single</td>\n",
       "      <td>Student</td>\n",
       "      <td>Below Rs.10000</td>\n",
       "      <td>Post Graduate</td>\n",
       "      <td>4</td>\n",
       "      <td>12.9850</td>\n",
       "      <td>77.5533</td>\n",
       "      <td>560010</td>\n",
       "      <td>...</td>\n",
       "      <td>Important</td>\n",
       "      <td>Important</td>\n",
       "      <td>Moderately Important</td>\n",
       "      <td>Important</td>\n",
       "      <td>Important</td>\n",
       "      <td>Important</td>\n",
       "      <td>Very Important</td>\n",
       "      <td>Very Important</td>\n",
       "      <td>Yes</td>\n",
       "      <td>NIL</td>\n",
       "    </tr>\n",
       "  </tbody>\n",
       "</table>\n",
       "<p>5 rows × 55 columns</p>\n",
       "</div>"
      ],
      "text/plain": [
       "   Age  Gender Marital Status Occupation  Monthly Income  \\\n",
       "0   20  Female         Single    Student       No Income   \n",
       "1   24  Female         Single    Student  Below Rs.10000   \n",
       "2   22    Male         Single    Student  Below Rs.10000   \n",
       "3   22  Female         Single    Student       No Income   \n",
       "4   22    Male         Single    Student  Below Rs.10000   \n",
       "\n",
       "  Educational Qualifications  Family size  latitude  longitude  Pin code  ...  \\\n",
       "0              Post Graduate            4   12.9766    77.5993    560001  ...   \n",
       "1                   Graduate            3   12.9770    77.5773    560009  ...   \n",
       "2              Post Graduate            3   12.9551    77.6593    560017  ...   \n",
       "3                   Graduate            6   12.9473    77.5616    560019  ...   \n",
       "4              Post Graduate            4   12.9850    77.5533    560010  ...   \n",
       "\n",
       "     Less Delivery time High Quality of package       Number of calls  \\\n",
       "0  Moderately Important    Moderately Important  Moderately Important   \n",
       "1        Very Important          Very Important        Very Important   \n",
       "2             Important          Very Important  Moderately Important   \n",
       "3        Very Important               Important  Moderately Important   \n",
       "4             Important               Important  Moderately Important   \n",
       "\n",
       "             Politeness            Freshness            Temperature  \\\n",
       "0  Moderately Important  Moderately Important  Moderately Important   \n",
       "1        Very Important        Very Important        Very Important   \n",
       "2        Very Important        Very Important             Important   \n",
       "3        Very Important        Very Important        Very Important   \n",
       "4             Important             Important             Important   \n",
       "\n",
       "            Good Taste          Good Quantity Output  \\\n",
       "0  Moderately Important  Moderately Important    Yes   \n",
       "1        Very Important        Very Important    Yes   \n",
       "2        Very Important  Moderately Important    Yes   \n",
       "3        Very Important             Important    Yes   \n",
       "4        Very Important        Very Important    Yes   \n",
       "\n",
       "                                             Reviews  \n",
       "0                                              Nil\\n  \n",
       "1                                                Nil  \n",
       "2  Many a times payment gateways are an issue, so...  \n",
       "3                                                nil  \n",
       "4                                                NIL  \n",
       "\n",
       "[5 rows x 55 columns]"
      ]
     },
     "execution_count": 13,
     "metadata": {},
     "output_type": "execute_result"
    }
   ],
   "source": [
    "fd_ori.head()"
   ]
  },
  {
   "cell_type": "code",
   "execution_count": 14,
   "metadata": {
    "ExecuteTime": {
     "end_time": "2021-02-11T09:57:19.369175Z",
     "start_time": "2021-02-11T09:57:19.256236Z"
    }
   },
   "outputs": [
    {
     "data": {
      "text/plain": [
       "Index(['Age', 'Gender', 'Marital Status', 'Occupation', 'Monthly Income',\n",
       "       'Educational Qualifications', 'Family size', 'latitude', 'longitude',\n",
       "       'Pin code', 'Medium (P1)', 'Medium (P2)', 'Meal(P1)', 'Meal(P2)',\n",
       "       'Perference(P1)', 'Perference(P2)', 'Ease and convenient',\n",
       "       'Time saving', 'More restaurant choices', 'Easy Payment option',\n",
       "       'More Offers and Discount', 'Good Food quality', 'Good Tracking system',\n",
       "       'Self Cooking', 'Health Concern', 'Late Delivery', 'Poor Hygiene',\n",
       "       'Bad past experience', 'Unavailability', 'Unaffordable',\n",
       "       'Long delivery time', 'Delay of delivery person getting assigned',\n",
       "       'Delay of delivery person picking up food', 'Wrong order delivered',\n",
       "       'Missing item', 'Order placed by mistake', 'Influence of time',\n",
       "       'Order Time', 'Maximum wait time', 'Residence in busy location',\n",
       "       'Google Maps Accuracy', 'Good Road Condition', 'Low quantity low time',\n",
       "       'Delivery person ability', 'Influence of rating', 'Less Delivery time',\n",
       "       'High Quality of package', 'Number of calls', 'Politeness',\n",
       "       'Freshness ', 'Temperature', 'Good Taste ', 'Good Quantity', 'Output',\n",
       "       'Reviews'],\n",
       "      dtype='object')"
      ]
     },
     "execution_count": 14,
     "metadata": {},
     "output_type": "execute_result"
    }
   ],
   "source": [
    "l1=(fd_ori.columns[:])\n",
    "l1"
   ]
  },
  {
   "cell_type": "code",
   "execution_count": 15,
   "metadata": {
    "ExecuteTime": {
     "end_time": "2021-02-11T09:57:19.535078Z",
     "start_time": "2021-02-11T09:57:19.373168Z"
    },
    "scrolled": true
   },
   "outputs": [
    {
     "name": "stdout",
     "output_type": "stream",
     "text": [
      "<class 'pandas.core.frame.DataFrame'>\n",
      "RangeIndex: 388 entries, 0 to 387\n",
      "Data columns (total 55 columns):\n",
      " #   Column                                     Non-Null Count  Dtype  \n",
      "---  ------                                     --------------  -----  \n",
      " 0   Age                                        388 non-null    int64  \n",
      " 1   Gender                                     388 non-null    int32  \n",
      " 2   Marital Status                             388 non-null    int32  \n",
      " 3   Occupation                                 388 non-null    int32  \n",
      " 4   Monthly Income                             388 non-null    int32  \n",
      " 5   Educational Qualifications                 388 non-null    int32  \n",
      " 6   Family size                                388 non-null    int64  \n",
      " 7   latitude                                   388 non-null    float64\n",
      " 8   longitude                                  388 non-null    float64\n",
      " 9   Pin code                                   388 non-null    int64  \n",
      " 10  Medium (P1)                                388 non-null    int32  \n",
      " 11  Medium (P2)                                388 non-null    int32  \n",
      " 12  Meal(P1)                                   388 non-null    int32  \n",
      " 13  Meal(P2)                                   388 non-null    int32  \n",
      " 14  Perference(P1)                             388 non-null    int32  \n",
      " 15  Perference(P2)                             388 non-null    int32  \n",
      " 16  Ease and convenient                        388 non-null    int32  \n",
      " 17  Time saving                                388 non-null    int32  \n",
      " 18  More restaurant choices                    388 non-null    int32  \n",
      " 19  Easy Payment option                        388 non-null    int32  \n",
      " 20  More Offers and Discount                   388 non-null    int32  \n",
      " 21  Good Food quality                          388 non-null    int32  \n",
      " 22  Good Tracking system                       388 non-null    int32  \n",
      " 23  Self Cooking                               388 non-null    int32  \n",
      " 24  Health Concern                             388 non-null    int32  \n",
      " 25  Late Delivery                              388 non-null    int32  \n",
      " 26  Poor Hygiene                               388 non-null    int32  \n",
      " 27  Bad past experience                        388 non-null    int32  \n",
      " 28  Unavailability                             388 non-null    int32  \n",
      " 29  Unaffordable                               388 non-null    int32  \n",
      " 30  Long delivery time                         388 non-null    int32  \n",
      " 31  Delay of delivery person getting assigned  388 non-null    int32  \n",
      " 32  Delay of delivery person picking up food   388 non-null    int32  \n",
      " 33  Wrong order delivered                      388 non-null    int32  \n",
      " 34  Missing item                               388 non-null    int32  \n",
      " 35  Order placed by mistake                    388 non-null    int32  \n",
      " 36  Influence of time                          388 non-null    int32  \n",
      " 37  Order Time                                 388 non-null    int32  \n",
      " 38  Maximum wait time                          388 non-null    int32  \n",
      " 39  Residence in busy location                 388 non-null    int32  \n",
      " 40  Google Maps Accuracy                       388 non-null    int32  \n",
      " 41  Good Road Condition                        388 non-null    int32  \n",
      " 42  Low quantity low time                      388 non-null    int32  \n",
      " 43  Delivery person ability                    388 non-null    int32  \n",
      " 44  Influence of rating                        388 non-null    int32  \n",
      " 45  Less Delivery time                         388 non-null    int32  \n",
      " 46  High Quality of package                    388 non-null    int32  \n",
      " 47  Number of calls                            388 non-null    int32  \n",
      " 48  Politeness                                 388 non-null    int32  \n",
      " 49  Freshness                                  388 non-null    int32  \n",
      " 50  Temperature                                388 non-null    int32  \n",
      " 51  Good Taste                                 388 non-null    int32  \n",
      " 52  Good Quantity                              388 non-null    int32  \n",
      " 53  Output                                     388 non-null    int32  \n",
      " 54  Reviews                                    388 non-null    int32  \n",
      "dtypes: float64(2), int32(50), int64(3)\n",
      "memory usage: 91.1 KB\n"
     ]
    }
   ],
   "source": [
    "fd_dlvry.info()"
   ]
  },
  {
   "cell_type": "code",
   "execution_count": 16,
   "metadata": {
    "ExecuteTime": {
     "end_time": "2021-02-11T09:57:19.626024Z",
     "start_time": "2021-02-11T09:57:19.539073Z"
    }
   },
   "outputs": [
    {
     "data": {
      "text/plain": [
       "Index(['Age', 'Gender', 'Marital Status', 'Occupation', 'Monthly Income',\n",
       "       'Educational Qualifications', 'Family size', 'latitude', 'longitude',\n",
       "       'Pin code', 'Medium (P1)', 'Medium (P2)', 'Meal(P1)', 'Meal(P2)',\n",
       "       'Perference(P1)', 'Perference(P2)', 'Ease and convenient',\n",
       "       'Time saving', 'More restaurant choices', 'Easy Payment option',\n",
       "       'More Offers and Discount', 'Good Food quality', 'Good Tracking system',\n",
       "       'Self Cooking', 'Health Concern', 'Late Delivery', 'Poor Hygiene',\n",
       "       'Bad past experience', 'Unavailability', 'Unaffordable',\n",
       "       'Long delivery time', 'Delay of delivery person getting assigned',\n",
       "       'Delay of delivery person picking up food', 'Wrong order delivered',\n",
       "       'Missing item', 'Order placed by mistake', 'Influence of time',\n",
       "       'Order Time', 'Maximum wait time', 'Residence in busy location',\n",
       "       'Google Maps Accuracy', 'Good Road Condition', 'Low quantity low time',\n",
       "       'Delivery person ability', 'Influence of rating', 'Less Delivery time',\n",
       "       'High Quality of package', 'Number of calls', 'Politeness',\n",
       "       'Freshness ', 'Temperature', 'Good Taste ', 'Good Quantity', 'Output'],\n",
       "      dtype='object')"
      ]
     },
     "execution_count": 16,
     "metadata": {},
     "output_type": "execute_result"
    }
   ],
   "source": [
    "df=fd_ori.drop('Reviews',axis=1) #drop reviews because it's take NLP in future i will try it\n",
    "df.columns"
   ]
  },
  {
   "cell_type": "code",
   "execution_count": null,
   "metadata": {},
   "outputs": [],
   "source": []
  },
  {
   "cell_type": "code",
   "execution_count": 17,
   "metadata": {
    "ExecuteTime": {
     "end_time": "2021-02-11T09:57:19.765946Z",
     "start_time": "2021-02-11T09:57:19.630022Z"
    }
   },
   "outputs": [],
   "source": [
    "%matplotlib inline"
   ]
  },
  {
   "cell_type": "code",
   "execution_count": 18,
   "metadata": {
    "ExecuteTime": {
     "end_time": "2021-02-11T09:57:19.885879Z",
     "start_time": "2021-02-11T09:57:19.769942Z"
    }
   },
   "outputs": [],
   "source": [
    "# we needs to back map for lable encoding \n",
    "lbl=dict()\n",
    "for i in fd_ori.columns:\n",
    "    if i not in  ['latitude','longitude','Pin code','Output','Reviews']:\n",
    "                  lbl[i]=dict(zip(fd_ori[i].unique(), fd_dlvry[i].unique()))\n",
    "    "
   ]
  },
  {
   "cell_type": "code",
   "execution_count": 19,
   "metadata": {
    "ExecuteTime": {
     "end_time": "2021-02-11T09:57:20.050782Z",
     "start_time": "2021-02-11T09:57:19.889873Z"
    },
    "scrolled": false
   },
   "outputs": [
    {
     "data": {
      "text/plain": [
       "{'Age': {20: 20,\n",
       "  24: 24,\n",
       "  22: 22,\n",
       "  27: 27,\n",
       "  23: 23,\n",
       "  21: 21,\n",
       "  28: 28,\n",
       "  25: 25,\n",
       "  32: 32,\n",
       "  30: 30,\n",
       "  31: 31,\n",
       "  26: 26,\n",
       "  18: 18,\n",
       "  19: 19,\n",
       "  33: 33,\n",
       "  29: 29},\n",
       " 'Gender': {'Female': 0, 'Male': 1},\n",
       " 'Marital Status': {'Single': 2, 'Married': 0, 'Prefer not to say': 1},\n",
       " 'Occupation': {'Student': 3,\n",
       "  'Employee': 0,\n",
       "  'Self Employeed': 2,\n",
       "  'House wife': 1},\n",
       " 'Monthly Income': {'No Income': 4,\n",
       "  'Below Rs.10000': 2,\n",
       "  'More than 50000': 3,\n",
       "  '10001 to 25000': 0,\n",
       "  '25001 to 50000': 1},\n",
       " 'Educational Qualifications': {'Post Graduate': 2,\n",
       "  'Graduate': 0,\n",
       "  'Ph.D': 1,\n",
       "  'Uneducated': 4,\n",
       "  'School': 3},\n",
       " 'Family size': {4: 4, 3: 3, 6: 6, 2: 2, 5: 5, 1: 1},\n",
       " 'Medium (P1)': {'Food delivery apps': 1,\n",
       "  'Walk-in': 2,\n",
       "  'Direct call': 0,\n",
       "  'Web browser': 3},\n",
       " 'Medium (P2)': {' Web browser': 2, ' Direct call': 0, ' Walk-in': 1},\n",
       " 'Meal(P1)': {'Breakfast': 0, 'Snacks': 3, 'Lunch': 2, 'Dinner': 1},\n",
       " 'Meal(P2)': {' Lunch': 1, ' Dinner': 0, ' Snacks': 2},\n",
       " 'Perference(P1)': {'Non Veg foods (Lunch / Dinner)': 1,\n",
       "  'Veg foods (Breakfast / Lunch / Dinner)': 3,\n",
       "  'Bakery items (snacks)': 0,\n",
       "  'Sweets': 2},\n",
       " 'Perference(P2)': {' Bakery items (snacks)': 0,\n",
       "  ' Veg foods (Breakfast / Lunch / Dinner)': 3,\n",
       "  ' Ice cream / Cool drinks': 1,\n",
       "  ' Sweets': 2},\n",
       " 'Ease and convenient': {'Neutral': 2,\n",
       "  'Strongly agree': 3,\n",
       "  'Agree': 0,\n",
       "  'Strongly disagree': 4,\n",
       "  'Disagree': 1},\n",
       " 'Time saving': {'Neutral': 2,\n",
       "  'Strongly agree': 3,\n",
       "  'Agree': 0,\n",
       "  'Disagree': 1,\n",
       "  'Strongly disagree': 4},\n",
       " 'More restaurant choices': {'Neutral': 2,\n",
       "  'Strongly agree': 3,\n",
       "  'Agree': 0,\n",
       "  'Strongly disagree': 4,\n",
       "  'Disagree': 1},\n",
       " 'Easy Payment option': {'Neutral': 2,\n",
       "  'Strongly agree': 3,\n",
       "  'Agree': 0,\n",
       "  'Disagree': 1,\n",
       "  'Strongly disagree': 4},\n",
       " 'More Offers and Discount': {'Neutral': 2,\n",
       "  'Strongly agree': 3,\n",
       "  'Agree': 0,\n",
       "  'Disagree': 1,\n",
       "  'Strongly disagree': 4},\n",
       " 'Good Food quality': {'Neutral': 2,\n",
       "  'Disagree': 1,\n",
       "  'Agree': 0,\n",
       "  'Strongly agree': 3,\n",
       "  'Strongly disagree': 4},\n",
       " 'Good Tracking system': {'Neutral': 2,\n",
       "  'Agree': 0,\n",
       "  'Strongly agree': 3,\n",
       "  'Disagree': 1,\n",
       "  'Strongly disagree': 4},\n",
       " 'Self Cooking': {'Neutral': 2,\n",
       "  'Strongly agree': 3,\n",
       "  'Disagree': 1,\n",
       "  'Agree': 0,\n",
       "  'Strongly disagree': 4},\n",
       " 'Health Concern': {'Neutral': 2,\n",
       "  'Strongly agree': 3,\n",
       "  'Agree': 0,\n",
       "  'Strongly disagree': 4,\n",
       "  'Disagree': 1},\n",
       " 'Late Delivery': {'Neutral': 2,\n",
       "  'Agree': 0,\n",
       "  'Strongly agree': 3,\n",
       "  'Disagree': 1,\n",
       "  'Strongly disagree': 4},\n",
       " 'Poor Hygiene': {'Neutral': 2,\n",
       "  'Strongly agree': 3,\n",
       "  'Agree': 0,\n",
       "  'Disagree': 1,\n",
       "  'Strongly disagree': 4},\n",
       " 'Bad past experience': {'Neutral': 2,\n",
       "  'Strongly agree': 3,\n",
       "  'Agree': 0,\n",
       "  'Disagree': 1,\n",
       "  'Strongly disagree': 4},\n",
       " 'Unavailability': {'Neutral': 2,\n",
       "  'Strongly agree': 3,\n",
       "  'Agree': 0,\n",
       "  'Disagree': 1,\n",
       "  'Strongly disagree': 4},\n",
       " 'Unaffordable': {'Neutral': 2,\n",
       "  'Strongly agree': 3,\n",
       "  'Agree': 0,\n",
       "  'Disagree': 1,\n",
       "  'Strongly disagree': 4},\n",
       " 'Long delivery time': {'Agree': 0,\n",
       "  'Strongly agree': 3,\n",
       "  'Neutral': 2,\n",
       "  'Disagree': 1,\n",
       "  'Strongly disagree': 4},\n",
       " 'Delay of delivery person getting assigned': {'Agree': 0,\n",
       "  'Strongly agree': 3,\n",
       "  'Disagree': 1,\n",
       "  'Neutral': 2,\n",
       "  'Strongly disagree': 4},\n",
       " 'Delay of delivery person picking up food': {'Agree': 0,\n",
       "  'Strongly agree': 3,\n",
       "  'Neutral': 2,\n",
       "  'Disagree': 1,\n",
       "  'Strongly disagree': 4},\n",
       " 'Wrong order delivered': {'Agree': 0,\n",
       "  'Strongly agree': 3,\n",
       "  'Disagree': 1,\n",
       "  'Neutral': 2,\n",
       "  'Strongly disagree': 4},\n",
       " 'Missing item': {'Agree': 0,\n",
       "  'Strongly agree': 3,\n",
       "  'Disagree': 1,\n",
       "  'Neutral': 2,\n",
       "  'Strongly disagree': 4},\n",
       " 'Order placed by mistake': {'Agree': 0,\n",
       "  'Strongly agree': 3,\n",
       "  'Neutral': 2,\n",
       "  'Disagree': 1,\n",
       "  'Strongly disagree': 4},\n",
       " 'Influence of time': {'Yes': 2, 'No': 1, 'Maybe': 0},\n",
       " 'Order Time': {'Weekend (Sat & Sun)': 2,\n",
       "  'Anytime (Mon-Sun)': 0,\n",
       "  'Weekdays (Mon-Fri)': 1},\n",
       " 'Maximum wait time': {'30 minutes': 1,\n",
       "  '45 minutes': 2,\n",
       "  '60 minutes': 3,\n",
       "  'More than 60 minutes': 4,\n",
       "  '15 minutes': 0},\n",
       " 'Residence in busy location': {'Agree': 0,\n",
       "  'Strongly Agree': 3,\n",
       "  'Disagree': 1,\n",
       "  'Neutral': 2,\n",
       "  'Strongly disagree': 4},\n",
       " 'Google Maps Accuracy': {'Neutral': 2,\n",
       "  'Strongly Agree': 3,\n",
       "  'Agree': 0,\n",
       "  'Disagree': 1,\n",
       "  'Strongly disagree': 4},\n",
       " 'Good Road Condition': {'Neutral': 2,\n",
       "  'Disagree': 1,\n",
       "  'Agree': 0,\n",
       "  'Strongly Agree': 3,\n",
       "  'Strongly disagree': 4},\n",
       " 'Low quantity low time': {'Neutral': 2,\n",
       "  'Strongly disagree': 4,\n",
       "  'Agree': 0,\n",
       "  'Disagree': 1,\n",
       "  'Strongly Agree': 3},\n",
       " 'Delivery person ability': {'Neutral': 2,\n",
       "  'Agree': 0,\n",
       "  'Strongly Agree': 3,\n",
       "  'Disagree': 1,\n",
       "  'Strongly disagree': 4},\n",
       " 'Influence of rating': {'Yes': 2, 'Maybe': 0, 'No': 1},\n",
       " 'Less Delivery time': {'Moderately Important': 1,\n",
       "  'Very Important': 4,\n",
       "  'Important': 0,\n",
       "  'Slightly Important': 2,\n",
       "  'Unimportant': 3},\n",
       " 'High Quality of package': {'Moderately Important': 1,\n",
       "  'Very Important': 4,\n",
       "  'Important': 0,\n",
       "  'Unimportant': 3,\n",
       "  'Slightly Important': 2},\n",
       " 'Number of calls': {'Moderately Important': 1,\n",
       "  'Very Important': 4,\n",
       "  'Unimportant': 3,\n",
       "  'Important': 0,\n",
       "  'Slightly Important': 2},\n",
       " 'Politeness': {'Moderately Important': 1,\n",
       "  'Very Important': 4,\n",
       "  'Important': 0,\n",
       "  'Slightly Important': 2,\n",
       "  'Unimportant': 3},\n",
       " 'Freshness ': {'Moderately Important': 1,\n",
       "  'Very Important': 4,\n",
       "  'Important': 0,\n",
       "  'Slightly Important': 2,\n",
       "  'Unimportant': 3},\n",
       " 'Temperature': {'Moderately Important': 1,\n",
       "  'Very Important': 4,\n",
       "  'Important': 0,\n",
       "  'Slightly Important': 2,\n",
       "  'Unimportant': 3},\n",
       " 'Good Taste ': {'Moderately Important': 1,\n",
       "  'Very Important': 4,\n",
       "  'Important': 0,\n",
       "  'Slightly Important': 2,\n",
       "  'Unimportant': 3},\n",
       " 'Good Quantity': {'Moderately Important': 1,\n",
       "  'Very Important': 4,\n",
       "  'Important': 0,\n",
       "  'Slightly Important': 2,\n",
       "  'Unimportant': 3}}"
      ]
     },
     "execution_count": 19,
     "metadata": {},
     "output_type": "execute_result"
    }
   ],
   "source": [
    "lbl"
   ]
  },
  {
   "cell_type": "code",
   "execution_count": 20,
   "metadata": {
    "ExecuteTime": {
     "end_time": "2021-02-11T09:57:20.254666Z",
     "start_time": "2021-02-11T09:57:20.054779Z"
    },
    "code_folding": []
   },
   "outputs": [],
   "source": [
    "# practice chi-squared test\n",
    "# df=pd.crosstab(fd_ori['Meal(P1)'],fd_ori['Occupation'])\n",
    "# df\n",
    "\n",
    "# stat, p, dof, expected = st.chi2_contingency(df,correction=True)\n",
    "# stat, p, dof, expected\n",
    "\n",
    "\n"
   ]
  },
  {
   "cell_type": "markdown",
   "metadata": {},
   "source": [
    "#  method 1: Feature selection Cramér's V"
   ]
  },
  {
   "cell_type": "code",
   "execution_count": 21,
   "metadata": {
    "ExecuteTime": {
     "end_time": "2021-02-11T09:57:22.112407Z",
     "start_time": "2021-02-11T09:57:20.258664Z"
    },
    "scrolled": true
   },
   "outputs": [
    {
     "data": {
      "text/plain": [
       "{'Output': [('Age', 0.41916612670006054),\n",
       "  ('Ease and convenient', 0.6944483749782563),\n",
       "  ('Time saving', 0.6333333550979008),\n",
       "  ('More restaurant choices', 0.5897138785369491),\n",
       "  ('Easy Payment option', 0.5571767618313485),\n",
       "  ('More Offers and Discount', 0.5564505912203883),\n",
       "  ('Good Food quality', 0.4243449172824401),\n",
       "  ('Good Tracking system', 0.41749280981704445),\n",
       "  ('Maximum wait time', 0.4135981980209824)]}"
      ]
     },
     "execution_count": 21,
     "metadata": {},
     "output_type": "execute_result"
    }
   ],
   "source": [
    "#Cramer's V perform for find relation between \n",
    "crv={}\n",
    "l1=[]\n",
    "for i in fd_ori.columns:\n",
    "    if i not in  ['latitude','longitude','Pin code','Output','Reviews']:\n",
    "        '''we are not using lat and long because in EDA all location diffrent (reference dtale lib)'''\n",
    "        df=pd.crosstab(fd_ori['Output'],fd_ori[i])\n",
    "        stat, p, dof, expected = st.chi2_contingency(df,correction=True)\n",
    "        t=min(df.shape)-1\n",
    "        deno=sum(df.sum())*t\n",
    "        x=numpy.sqrt(stat / deno)\n",
    "        if(x>0.41): #thresold\n",
    "             l1.append((i,x))\n",
    "\n",
    "\n",
    "crv['Output']=l1\n",
    "        \n",
    "crv"
   ]
  },
  {
   "cell_type": "code",
   "execution_count": 22,
   "metadata": {
    "ExecuteTime": {
     "end_time": "2021-02-11T09:57:22.128398Z",
     "start_time": "2021-02-11T09:57:22.116406Z"
    },
    "code_folding": []
   },
   "outputs": [
    {
     "data": {
      "text/plain": [
       "['Age',\n",
       " 'Ease and convenient',\n",
       " 'Time saving',\n",
       " 'More restaurant choices',\n",
       " 'Easy Payment option',\n",
       " 'More Offers and Discount',\n",
       " 'Good Food quality',\n",
       " 'Good Tracking system',\n",
       " 'Maximum wait time']"
      ]
     },
     "execution_count": 22,
     "metadata": {},
     "output_type": "execute_result"
    }
   ],
   "source": [
    "#Extract the feature from above dictionary \n",
    "basic_f0=[]\n",
    "for i in l1:\n",
    "    basic_f0.append(i[0])\n",
    "\n",
    "basic_f0"
   ]
  },
  {
   "cell_type": "code",
   "execution_count": 23,
   "metadata": {
    "ExecuteTime": {
     "end_time": "2021-02-11T09:57:22.254326Z",
     "start_time": "2021-02-11T09:57:22.142390Z"
    }
   },
   "outputs": [],
   "source": [
    "X=fd_dlvry[basic_f0] # select X \n",
    "y=fd_dlvry['Output'] # select Y\n"
   ]
  },
  {
   "cell_type": "code",
   "execution_count": 24,
   "metadata": {
    "ExecuteTime": {
     "end_time": "2021-02-11T09:57:22.352273Z",
     "start_time": "2021-02-11T09:57:22.262323Z"
    }
   },
   "outputs": [],
   "source": [
    "%matplotlib inline"
   ]
  },
  {
   "cell_type": "code",
   "execution_count": 25,
   "metadata": {
    "ExecuteTime": {
     "end_time": "2021-02-11T09:57:22.452214Z",
     "start_time": "2021-02-11T09:57:22.357268Z"
    },
    "scrolled": true
   },
   "outputs": [
    {
     "data": {
      "text/plain": [
       "['Age',\n",
       " 'Ease and convenient',\n",
       " 'Time saving',\n",
       " 'More restaurant choices',\n",
       " 'Easy Payment option',\n",
       " 'More Offers and Discount',\n",
       " 'Good Food quality',\n",
       " 'Good Tracking system',\n",
       " 'Maximum wait time']"
      ]
     },
     "execution_count": 25,
     "metadata": {},
     "output_type": "execute_result"
    }
   ],
   "source": [
    "basic_f0"
   ]
  },
  {
   "cell_type": "code",
   "execution_count": 26,
   "metadata": {
    "ExecuteTime": {
     "end_time": "2021-02-11T09:57:23.856008Z",
     "start_time": "2021-02-11T09:57:22.457211Z"
    },
    "scrolled": true
   },
   "outputs": [
    {
     "data": {
      "text/plain": [
       "<AxesSubplot:xlabel='Output', ylabel='count'>"
      ]
     },
     "execution_count": 26,
     "metadata": {},
     "output_type": "execute_result"
    },
    {
     "data": {
      "image/png": "[encoded data removed]",
      "text/plain": [
       "<Figure size 432x288 with 1 Axes>"
      ]
     },
     "metadata": {
      "needs_background": "light"
     },
     "output_type": "display_data"
    }
   ],
   "source": [
    "sns.countplot(fd_ori['Output']) # look target feature"
   ]
  },
  {
   "cell_type": "markdown",
   "metadata": {
    "ExecuteTime": {
     "end_time": "2020-12-19T04:21:54.351232Z",
     "start_time": "2020-12-19T04:21:54.343232Z"
    }
   },
   "source": [
    "#  KNN Algorithm  "
   ]
  },
  {
   "cell_type": "code",
   "execution_count": 27,
   "metadata": {
    "ExecuteTime": {
     "end_time": "2021-02-11T09:57:25.552827Z",
     "start_time": "2021-02-11T09:57:23.859006Z"
    }
   },
   "outputs": [],
   "source": [
    "# train_test_split by sklearn \n",
    "X=fd_dlvry[basic_f0]\n",
    "y=fd_dlvry['Output']\n",
    "# from imblearn.under_sampling import NearMiss\n",
    "# nm=NearMiss()\n",
    "# Make data balanced\n",
    "from imblearn.over_sampling import RandomOverSampler\n",
    "nm=RandomOverSampler(0.5)\n",
    "X,y=nm.fit_sample(X,y)\n",
    "X_train, X_test, y_train, y_test = train_test_split(X, y, test_size = 0.33)"
   ]
  },
  {
   "cell_type": "code",
   "execution_count": 28,
   "metadata": {
    "ExecuteTime": {
     "end_time": "2021-02-11T09:57:25.589788Z",
     "start_time": "2021-02-11T09:57:25.556806Z"
    }
   },
   "outputs": [
    {
     "data": {
      "text/plain": [
       "1    301\n",
       "0     87\n",
       "Name: Output, dtype: int64"
      ]
     },
     "execution_count": 28,
     "metadata": {},
     "output_type": "execute_result"
    }
   ],
   "source": [
    "fd_dlvry['Output'].value_counts()"
   ]
  },
  {
   "cell_type": "code",
   "execution_count": 29,
   "metadata": {
    "ExecuteTime": {
     "end_time": "2021-02-11T09:57:25.811679Z",
     "start_time": "2021-02-11T09:57:25.594784Z"
    }
   },
   "outputs": [
    {
     "data": {
      "text/plain": [
       "((451, 9), (451,))"
      ]
     },
     "execution_count": 29,
     "metadata": {},
     "output_type": "execute_result"
    }
   ],
   "source": [
    "X.shape,y.shape"
   ]
  },
  {
   "cell_type": "code",
   "execution_count": 30,
   "metadata": {
    "ExecuteTime": {
     "end_time": "2021-02-11T09:57:26.882880Z",
     "start_time": "2021-02-11T09:57:25.815658Z"
    }
   },
   "outputs": [
    {
     "data": {
      "image/png": "[encoded data removed]",
      "text/plain": [
       "<Figure size 432x288 with 1 Axes>"
      ]
     },
     "metadata": {
      "needs_background": "light"
     },
     "output_type": "display_data"
    }
   ],
   "source": [
    "#select best knneighbour find \n",
    "plt.figure()\n",
    "training_accuracy = []\n",
    "test_accuracy = []\n",
    "# try n_neighbors from 1 to 10\n",
    "neighbors_settings = range(1, 11)\n",
    "for i in neighbors_settings:\n",
    "    clf = KNeighborsClassifier(n_neighbors=i)\n",
    "    clf.fit(X_train, y_train)\n",
    "    training_accuracy.append(clf.score(X_train, y_train))\n",
    "    # record generalization accuracy\n",
    "    test_accuracy.append(clf.score(X_test, y_test))\n",
    "plt.plot(neighbors_settings,training_accuracy,label=\"training accuracy\")\n",
    "plt.plot(neighbors_settings,test_accuracy,label=\"test accuracy\")\n",
    "plt.ylabel(\"Accuracy\")\n",
    "plt.xlabel(\"n_neighbors\")\n",
    "plt.legend()\n",
    "\n",
    "plt.show()"
   ]
  },
  {
   "cell_type": "code",
   "execution_count": 31,
   "metadata": {
    "ExecuteTime": {
     "end_time": "2021-02-11T09:57:28.070182Z",
     "start_time": "2021-02-11T09:57:26.886860Z"
    }
   },
   "outputs": [
    {
     "data": {
      "image/png": "[encoded data removed]",
      "text/plain": [
       "<Figure size 432x288 with 1 Axes>"
      ]
     },
     "metadata": {
      "needs_background": "light"
     },
     "output_type": "display_data"
    }
   ],
   "source": [
    "# appropriate test size find \n",
    "plt.figure()\n",
    "training_accuracy = []\n",
    "test_accuracy = []\n",
    "# try n_neighbors from 1 to 10\n",
    "test_size= numpy.arange(0.1, 0.9,0.05)\n",
    "knn = KNeighborsClassifier(n_neighbors = 3,p=1)\n",
    "for i in test_size:\n",
    "    \n",
    "        X_train, X_test, y_train, y_test = train_test_split(X, y, test_size = i)\n",
    "        knn.fit(X_train, y_train)\n",
    "        training_accuracy.append(knn.score(X_test, y_test))\n",
    "        test_accuracy.append(knn.score(X_train, y_train))\n",
    "  \n",
    "\n",
    "    \n",
    "plt.plot(test_size,training_accuracy,label=\"training accuracy\")\n",
    "plt.plot(test_size,test_accuracy,label=\"test accuracy\")\n",
    "plt.ylabel(\"Accuracy\")\n",
    "plt.xlabel(\"test_size\")\n",
    "plt.legend()\n",
    "\n",
    "plt.show()"
   ]
  },
  {
   "cell_type": "code",
   "execution_count": 32,
   "metadata": {
    "ExecuteTime": {
     "end_time": "2021-02-11T09:57:28.085175Z",
     "start_time": "2021-02-11T09:57:28.075181Z"
    }
   },
   "outputs": [],
   "source": [
    "#split data\n",
    "X_train,X_test,y_train,y_test=train_test_split(X,y,test_size=0.25)"
   ]
  },
  {
   "cell_type": "code",
   "execution_count": 33,
   "metadata": {
    "ExecuteTime": {
     "end_time": "2021-02-11T09:57:28.324038Z",
     "start_time": "2021-02-11T09:57:28.089172Z"
    }
   },
   "outputs": [
    {
     "data": {
      "text/plain": [
       "0.8495575221238938"
      ]
     },
     "execution_count": 33,
     "metadata": {},
     "output_type": "execute_result"
    }
   ],
   "source": [
    "# fit data and perform the knn algo\n",
    "neigh = KNeighborsClassifier(n_neighbors=5,p=1)\n",
    "\n",
    "knn=neigh.fit(X_train,y_train)\n",
    "\n",
    "knn.score(X_test,y_test)\n"
   ]
  },
  {
   "cell_type": "code",
   "execution_count": 34,
   "metadata": {
    "ExecuteTime": {
     "end_time": "2021-02-11T09:57:28.472954Z",
     "start_time": "2021-02-11T09:57:28.328036Z"
    }
   },
   "outputs": [],
   "source": [
    "#y_pred for confusion matrix\n",
    "y_pred=knn.predict(X_test)"
   ]
  },
  {
   "cell_type": "code",
   "execution_count": 35,
   "metadata": {
    "ExecuteTime": {
     "end_time": "2021-02-11T09:57:28.591890Z",
     "start_time": "2021-02-11T09:57:28.476952Z"
    }
   },
   "outputs": [
    {
     "data": {
      "text/plain": [
       "array([[28, 10],\n",
       "       [ 7, 68]], dtype=int64)"
      ]
     },
     "execution_count": 35,
     "metadata": {},
     "output_type": "execute_result"
    }
   ],
   "source": [
    "#confusion matrix \n",
    "cf_matrix_n=confusion_matrix(y_test, y_pred)\n",
    "cf_matrix_n"
   ]
  },
  {
   "cell_type": "code",
   "execution_count": 36,
   "metadata": {
    "ExecuteTime": {
     "end_time": "2021-02-11T09:57:28.712818Z",
     "start_time": "2021-02-11T09:57:28.595883Z"
    },
    "scrolled": false
   },
   "outputs": [
    {
     "name": "stdout",
     "output_type": "stream",
     "text": [
      "              precision    recall  f1-score   support\n",
      "\n",
      "           0       0.80      0.74      0.77        38\n",
      "           1       0.87      0.91      0.89        75\n",
      "\n",
      "    accuracy                           0.85       113\n",
      "   macro avg       0.84      0.82      0.83       113\n",
      "weighted avg       0.85      0.85      0.85       113\n",
      "\n"
     ]
    }
   ],
   "source": [
    "#classification report \n",
    "print(classification_report(y_test,y_pred))"
   ]
  },
  {
   "cell_type": "code",
   "execution_count": 37,
   "metadata": {
    "ExecuteTime": {
     "end_time": "2021-02-11T09:57:29.219531Z",
     "start_time": "2021-02-11T09:57:28.716814Z"
    }
   },
   "outputs": [
    {
     "data": {
      "image/png": "[encoded data removed]",
      "text/plain": [
       "<Figure size 432x288 with 1 Axes>"
      ]
     },
     "metadata": {
      "needs_background": "light"
     },
     "output_type": "display_data"
    }
   ],
   "source": [
    "from sklearn.metrics import roc_curve\n",
    "fpr, tpr, thresholds=roc_curve(y_test, y_pred)\n",
    "AUC=round(metrics.auc(fpr, tpr),2)\n",
    "\n",
    "plt.plot([0,1], [0,1], linestyle='--', label='No Skill')\n",
    "plt.plot(fpr, tpr, marker='.', label=f'knn AUC={AUC}')\n",
    "# axis labels\n",
    "plt.xlabel('False Positive Rate')\n",
    "plt.ylabel('True Positive Rate')\n",
    "plt.legend()\n",
    "# show the plot\n",
    "plt.show()\n"
   ]
  },
  {
   "cell_type": "code",
   "execution_count": null,
   "metadata": {},
   "outputs": [],
   "source": []
  },
  {
   "cell_type": "markdown",
   "metadata": {
    "ExecuteTime": {
     "end_time": "2020-12-19T04:23:45.286574Z",
     "start_time": "2020-12-19T04:23:45.278579Z"
    }
   },
   "source": [
    "<b> Conclusion: </b>"
   ]
  },
  {
   "cell_type": "code",
   "execution_count": 38,
   "metadata": {
    "ExecuteTime": {
     "end_time": "2021-02-11T09:57:29.231523Z",
     "start_time": "2021-02-11T09:57:29.224525Z"
    }
   },
   "outputs": [
    {
     "data": {
      "text/plain": [
       "'Here weighted avg f1-score is good and AUC is greate but problems here Knn is not learning something\\nknn just use more memory space for perform operation and mostly features are categorical so noise affect\\non this algorithms\\n'"
      ]
     },
     "execution_count": 38,
     "metadata": {},
     "output_type": "execute_result"
    }
   ],
   "source": [
    "'''Here weighted avg f1-score is good and AUC is greate but problems here Knn is not learning something\n",
    "knn just use more memory space for perform operation and mostly features are categorical so noise affect\n",
    "on this algorithms\n",
    "'''"
   ]
  },
  {
   "cell_type": "markdown",
   "metadata": {
    "ExecuteTime": {
     "end_time": "2020-12-30T12:59:28.745150Z",
     "start_time": "2020-12-30T12:59:28.737155Z"
    }
   },
   "source": [
    "<b> Cross-Validation </b>"
   ]
  },
  {
   "cell_type": "code",
   "execution_count": 39,
   "metadata": {
    "ExecuteTime": {
     "end_time": "2021-02-11T09:57:29.583319Z",
     "start_time": "2021-02-11T09:57:29.235518Z"
    }
   },
   "outputs": [
    {
     "name": "stdout",
     "output_type": "stream",
     "text": [
      "mean:=0.8627311522048364 std :0.0871205521361913\n"
     ]
    }
   ],
   "source": [
    "#without StratifiedKFold \n",
    "Knn=KNeighborsClassifier(n_neighbors=5,p=1)\n",
    "score=cross_val_score(knn,X,y,cv=12)\n",
    "print(\"mean:=\"+str(score.mean()),\"std :\"+str(score.std()))"
   ]
  },
  {
   "cell_type": "code",
   "execution_count": 40,
   "metadata": {
    "ExecuteTime": {
     "end_time": "2021-02-11T09:57:29.847168Z",
     "start_time": "2021-02-11T09:57:29.588317Z"
    }
   },
   "outputs": [
    {
     "name": "stdout",
     "output_type": "stream",
     "text": [
      "List of possible accuracy: [0.868421052631579, 0.7631578947368421, 0.868421052631579, 0.868421052631579, 0.8421052631578947, 0.8947368421052632, 0.9210526315789473, 0.8648648648648649, 0.8378378378378378, 0.9459459459459459, 0.8378378378378378, 0.8918918918918919]\n",
      "\n",
      "Maximum Accuracy That can be obtained from this model is: 94.5945945945946 %\n",
      "\n",
      "Minimum Accuracy: 76.31578947368422 %\n",
      "\n",
      "Average Accuracy That can be obtained from this model is:: 0.8670578473210053\n",
      "\n",
      "Standard Deviation is: 0.044401068890799575\n"
     ]
    }
   ],
   "source": [
    "#with StratifiedKFold \n",
    "import numpy as np\n",
    "from sklearn.model_selection import StratifiedKFold \n",
    "skf = StratifiedKFold(n_splits=12, shuffle=True, random_state=1) \n",
    "lst_accu_stratified = [] \n",
    "\n",
    "for train_index, test_index in skf.split(X, y): \n",
    "    x_train_fold, x_test_fold = X.loc[train_index,:], X.loc[test_index,:] \n",
    "    y_train_fold, y_test_fold = y[train_index], y[test_index] \n",
    "    knn.fit(x_train_fold, y_train_fold) \n",
    "    lst_accu_stratified.append(knn.score(x_test_fold, y_test_fold))\n",
    "    \n",
    "    \n",
    "print('List of possible accuracy:', lst_accu_stratified) \n",
    "print('\\nMaximum Accuracy That can be obtained from this model is:', \n",
    "      max(lst_accu_stratified)*100, '%') \n",
    "print('\\nMinimum Accuracy:', \n",
    "      min(lst_accu_stratified)*100, '%') \n",
    "print('\\nAverage Accuracy That can be obtained from this model is::',np.mean(lst_accu_stratified)) \n",
    "print('\\nStandard Deviation is:',np.std(lst_accu_stratified)) "
   ]
  },
  {
   "cell_type": "markdown",
   "metadata": {},
   "source": [
    "# method 2: feature selection using sklearn "
   ]
  },
  {
   "cell_type": "code",
   "execution_count": 41,
   "metadata": {
    "ExecuteTime": {
     "end_time": "2021-02-11T09:57:30.160074Z",
     "start_time": "2021-02-11T09:57:29.851166Z"
    }
   },
   "outputs": [],
   "source": [
    "from sklearn.feature_selection import SelectKBest\n",
    "from sklearn.feature_selection import chi2,mutual_info_classif"
   ]
  },
  {
   "cell_type": "code",
   "execution_count": 42,
   "metadata": {
    "ExecuteTime": {
     "end_time": "2021-02-11T09:57:30.171066Z",
     "start_time": "2021-02-11T09:57:30.164070Z"
    }
   },
   "outputs": [],
   "source": [
    "def select_features(X_train, y_train, X_test):\n",
    "    fs = SelectKBest(score_func=chi2, k='all')\n",
    "    fs.fit(X_train, y_train)\n",
    "    X_train_fs = fs.transform(X_train)\n",
    "    X_test_fs = fs.transform(X_test)\n",
    "    return X_train_fs, X_test_fs, fs"
   ]
  },
  {
   "cell_type": "code",
   "execution_count": 43,
   "metadata": {
    "ExecuteTime": {
     "end_time": "2021-02-11T09:57:30.348054Z",
     "start_time": "2021-02-11T09:57:30.175064Z"
    }
   },
   "outputs": [
    {
     "data": {
      "text/plain": [
       "(451, 50)"
      ]
     },
     "execution_count": 43,
     "metadata": {},
     "output_type": "execute_result"
    }
   ],
   "source": [
    "#select feature \n",
    "l1=['latitude','longitude','Pin code','Output','Reviews']\n",
    "X=fd_dlvry[fd_dlvry.columns[~fd_dlvry.columns.isin(l1)]]\n",
    "y=fd_dlvry['Output']\n",
    "nm=RandomOverSampler(0.5)\n",
    "X,y=nm.fit_sample(X,y)\n",
    "X.shape"
   ]
  },
  {
   "cell_type": "code",
   "execution_count": 44,
   "metadata": {
    "ExecuteTime": {
     "end_time": "2021-02-11T09:57:30.444999Z",
     "start_time": "2021-02-11T09:57:30.352052Z"
    }
   },
   "outputs": [],
   "source": [
    "X_train, X_test, y_train, y_test = train_test_split(X, y, test_size=0.33, random_state=1)"
   ]
  },
  {
   "cell_type": "code",
   "execution_count": 45,
   "metadata": {
    "ExecuteTime": {
     "end_time": "2021-02-11T09:57:31.192423Z",
     "start_time": "2021-02-11T09:57:30.448996Z"
    }
   },
   "outputs": [
    {
     "name": "stdout",
     "output_type": "stream",
     "text": [
      "Feature 0: 8.730701\n",
      "Feature 1: 0.715153\n",
      "Feature 2: 16.802777\n",
      "Feature 3: 16.592934\n",
      "Feature 4: 12.255176\n",
      "Feature 5: 5.803033\n",
      "Feature 6: 1.075916\n",
      "Feature 7: 0.191377\n",
      "Feature 8: 0.396758\n",
      "Feature 9: 1.469578\n",
      "Feature 10: 0.153874\n",
      "Feature 11: 5.137046\n",
      "Feature 12: 0.311901\n",
      "Feature 13: 2.248679\n",
      "Feature 14: 0.396459\n",
      "Feature 15: 3.857801\n",
      "Feature 16: 10.483954\n",
      "Feature 17: 5.088580\n",
      "Feature 18: 6.971510\n",
      "Feature 19: 0.218445\n",
      "Feature 20: 40.563973\n",
      "Feature 21: 22.436124\n",
      "Feature 22: 17.512916\n",
      "Feature 23: 0.167675\n",
      "Feature 24: 19.220146\n",
      "Feature 25: 13.837872\n",
      "Feature 26: 24.008632\n",
      "Feature 27: 4.616316\n",
      "Feature 28: 0.700992\n",
      "Feature 29: 22.120476\n",
      "Feature 30: 4.236492\n",
      "Feature 31: 0.002696\n",
      "Feature 32: 0.203484\n",
      "Feature 33: 0.177250\n",
      "Feature 34: 4.335882\n",
      "Feature 35: 20.887163\n",
      "Feature 36: 11.705879\n",
      "Feature 37: 1.434508\n",
      "Feature 38: 0.098312\n",
      "Feature 39: 6.183670\n",
      "Feature 40: 0.099957\n",
      "Feature 41: 0.007986\n",
      "Feature 42: 0.885452\n",
      "Feature 43: 1.498673\n",
      "Feature 44: 0.088054\n",
      "Feature 45: 5.529824\n",
      "Feature 46: 12.219005\n",
      "Feature 47: 3.064822\n",
      "Feature 48: 8.657000\n",
      "Feature 49: 0.524835\n"
     ]
    },
    {
     "data": {
      "image/png": "[encoded data removed]",
      "text/plain": [
       "<Figure size 432x288 with 1 Axes>"
      ]
     },
     "metadata": {
      "needs_background": "light"
     },
     "output_type": "display_data"
    }
   ],
   "source": [
    "X_train_fs, X_test_fs, fs = select_features(X_train, y_train, X_test)\n",
    "for i in range(len(fs.scores_)):\n",
    "     print('Feature %d: %f' % (i, fs.scores_[i]))\n",
    "# plot the scores\n",
    "plt.bar([i for i in range(len(fs.scores_))], fs.scores_)\n",
    "\n",
    "plt.show()"
   ]
  },
  {
   "cell_type": "code",
   "execution_count": null,
   "metadata": {},
   "outputs": [],
   "source": []
  },
  {
   "cell_type": "code",
   "execution_count": 46,
   "metadata": {
    "ExecuteTime": {
     "end_time": "2021-02-11T09:57:31.211406Z",
     "start_time": "2021-02-11T09:57:31.198416Z"
    }
   },
   "outputs": [
    {
     "name": "stdout",
     "output_type": "stream",
     "text": [
      "Marital Status\n",
      "Occupation\n",
      "Monthly Income\n",
      "Easy Payment option\n",
      "Self Cooking\n",
      "Health Concern\n",
      "Late Delivery\n",
      "Bad past experience\n",
      "Unavailability\n",
      "Unaffordable\n",
      "Delay of delivery person picking up food\n",
      "Maximum wait time\n",
      "Residence in busy location\n",
      "Freshness \n"
     ]
    }
   ],
   "source": [
    "# Extract feature \n",
    "basic_f1=[]\n",
    "for i in range(len(fs.scores_)):\n",
    "    if(fs.scores_[i]>10): # set Thresold\n",
    "        print(X_test.columns[i])\n",
    "        basic_f1.append(X_test.columns[i])"
   ]
  },
  {
   "cell_type": "markdown",
   "metadata": {},
   "source": [
    "# KNN Algorithm "
   ]
  },
  {
   "cell_type": "code",
   "execution_count": 47,
   "metadata": {
    "ExecuteTime": {
     "end_time": "2021-02-11T09:57:31.331340Z",
     "start_time": "2021-02-11T09:57:31.215404Z"
    }
   },
   "outputs": [],
   "source": [
    "X=fd_dlvry[basic_f1]\n",
    "y=fd_dlvry['Output']\n",
    "\n",
    "nm=RandomOverSampler()\n",
    "X,y=nm.fit_sample(X,y)"
   ]
  },
  {
   "cell_type": "code",
   "execution_count": 48,
   "metadata": {
    "ExecuteTime": {
     "end_time": "2021-02-11T09:57:31.433284Z",
     "start_time": "2021-02-11T09:57:31.334339Z"
    }
   },
   "outputs": [
    {
     "data": {
      "text/plain": [
       "(602, 14)"
      ]
     },
     "execution_count": 48,
     "metadata": {},
     "output_type": "execute_result"
    }
   ],
   "source": [
    "X.shape"
   ]
  },
  {
   "cell_type": "code",
   "execution_count": 49,
   "metadata": {
    "ExecuteTime": {
     "end_time": "2021-02-11T09:57:32.542681Z",
     "start_time": "2021-02-11T09:57:31.437278Z"
    },
    "code_folding": []
   },
   "outputs": [
    {
     "data": {
      "image/png": "[encoded data removed]",
      "text/plain": [
       "<Figure size 432x288 with 1 Axes>"
      ]
     },
     "metadata": {
      "needs_background": "light"
     },
     "output_type": "display_data"
    }
   ],
   "source": [
    "#neighbour find \n",
    "plt.figure()\n",
    "training_accuracy = []\n",
    "test_accuracy = []\n",
    "# try n_neighbors from 1 to 10\n",
    "neighbors_settings = range(1, 11)\n",
    "for i in neighbors_settings:\n",
    "    clf = KNeighborsClassifier(n_neighbors=i,p=1)\n",
    "    clf.fit(X_train, y_train)\n",
    "    training_accuracy.append(clf.score(X_train, y_train))\n",
    "    # record generalization accuracy\n",
    "    test_accuracy.append(clf.score(X_test, y_test))\n",
    "plt.plot(neighbors_settings,training_accuracy,label=\"training accuracy\")\n",
    "plt.plot(neighbors_settings,test_accuracy,label=\"test accuracy\")\n",
    "plt.ylabel(\"Accuracy\")\n",
    "plt.xlabel(\"n_neighbors\")\n",
    "plt.legend()\n",
    "\n",
    "plt.show()"
   ]
  },
  {
   "cell_type": "code",
   "execution_count": 50,
   "metadata": {
    "ExecuteTime": {
     "end_time": "2021-02-11T09:57:32.551677Z",
     "start_time": "2021-02-11T09:57:32.545679Z"
    },
    "code_folding": [
     0
    ]
   },
   "outputs": [],
   "source": [
    "# here some Extra work it's take long time to running\n",
    "# plt.figure()\n",
    "# training_accuracy = []\n",
    "# test_accuracy = []\n",
    "# # try n_neighbors from 1 to 10\n",
    "# test_size= numpy.arange(0.1, 0.9,0.05)\n",
    "# knn = KNeighborsClassifier(n_neighbors = 3)\n",
    "# for i in test_size:\n",
    "    \n",
    "    \n",
    "#     test_score = []\n",
    "#     train_score=[]\n",
    "#     for j in range(1,1000):\n",
    "#         X_train, X_test, y_train, y_test = train_test_split(X, y, test_size = i,random_state=6)\n",
    "#         knn.fit(X_train, y_train)\n",
    "#         test_score.append(knn.score(X_test, y_test))\n",
    "#         train_score.append(knn.score(X_train, y_train))\n",
    "  \n",
    "\n",
    "       \n",
    "#     training_accuracy.append(np.mean(train_score))\n",
    "#     # record generalization accuracy\n",
    "#     test_accuracy.append(np.mean(test_score))\n",
    "\n",
    "# plt.plot(test_size,training_accuracy,label=\"training accuracy\")\n",
    "# plt.plot(test_size,test_accuracy,label=\"test accuracy\")\n",
    "# plt.ylabel(\"Accuracy\")\n",
    "# plt.xlabel(\"test_size\")\n",
    "# plt.legend()\n",
    "\n",
    "# plt.show()"
   ]
  },
  {
   "cell_type": "code",
   "execution_count": 51,
   "metadata": {
    "ExecuteTime": {
     "end_time": "2021-02-11T09:57:33.966089Z",
     "start_time": "2021-02-11T09:57:32.555673Z"
    },
    "code_folding": []
   },
   "outputs": [
    {
     "data": {
      "image/png": "[encoded data removed]",
      "text/plain": [
       "<Figure size 432x288 with 1 Axes>"
      ]
     },
     "metadata": {
      "needs_background": "light"
     },
     "output_type": "display_data"
    }
   ],
   "source": [
    "# appropriate test size find \n",
    "plt.figure()\n",
    "training_accuracy = []\n",
    "test_accuracy = []\n",
    "# try n_neighbors from 1 to 10\n",
    "test_size= numpy.arange(0.1, 0.9,0.05)\n",
    "knn = KNeighborsClassifier(n_neighbors = 5)\n",
    "for i in test_size:\n",
    "    \n",
    "        X_train, X_test, y_train, y_test = train_test_split(X, y, test_size = i)\n",
    "        knn.fit(X_train, y_train)\n",
    "        training_accuracy.append(knn.score(X_train,y_train))\n",
    "        test_accuracy.append(knn.score(X_test,y_test))\n",
    "  \n",
    "\n",
    "    \n",
    "plt.plot(test_size,training_accuracy,label=\"training accuracy\")\n",
    "plt.plot(test_size,test_accuracy,label=\"test accuracy\")\n",
    "plt.ylabel(\"Accuracy\")\n",
    "plt.xlabel(\"test_size\")\n",
    "plt.legend()\n",
    "\n",
    "plt.show()"
   ]
  },
  {
   "cell_type": "code",
   "execution_count": 52,
   "metadata": {
    "ExecuteTime": {
     "end_time": "2021-02-11T09:57:34.020057Z",
     "start_time": "2021-02-11T09:57:33.970084Z"
    }
   },
   "outputs": [
    {
     "data": {
      "text/plain": [
       "0.8008298755186722"
      ]
     },
     "execution_count": 52,
     "metadata": {},
     "output_type": "execute_result"
    }
   ],
   "source": [
    "#split data into test data and train data\n",
    "X_train,X_test,y_train,y_test=train_test_split(X,y,test_size=0.4)\n",
    "\n",
    "neigh = KNeighborsClassifier(n_neighbors=5)\n",
    "\n",
    "knn=neigh.fit(X_train,y_train)\n",
    "\n",
    "knn.score(X_test,y_test)"
   ]
  },
  {
   "cell_type": "code",
   "execution_count": 53,
   "metadata": {
    "ExecuteTime": {
     "end_time": "2021-02-11T09:57:34.133011Z",
     "start_time": "2021-02-11T09:57:34.024053Z"
    }
   },
   "outputs": [],
   "source": [
    "y_pred=knn.predict(X_test)"
   ]
  },
  {
   "cell_type": "code",
   "execution_count": 54,
   "metadata": {
    "ExecuteTime": {
     "end_time": "2021-02-11T09:57:34.227956Z",
     "start_time": "2021-02-11T09:57:34.136989Z"
    }
   },
   "outputs": [
    {
     "data": {
      "text/plain": [
       "array([[102,  22],\n",
       "       [ 26,  91]], dtype=int64)"
      ]
     },
     "execution_count": 54,
     "metadata": {},
     "output_type": "execute_result"
    }
   ],
   "source": [
    "#confusion matrix \n",
    "cf_matrix_n=confusion_matrix(y_test, y_pred)\n",
    "cf_matrix_n"
   ]
  },
  {
   "cell_type": "code",
   "execution_count": 55,
   "metadata": {
    "ExecuteTime": {
     "end_time": "2021-02-11T09:57:34.359864Z",
     "start_time": "2021-02-11T09:57:34.231934Z"
    }
   },
   "outputs": [
    {
     "name": "stdout",
     "output_type": "stream",
     "text": [
      "              precision    recall  f1-score   support\n",
      "\n",
      "           0       0.80      0.82      0.81       124\n",
      "           1       0.81      0.78      0.79       117\n",
      "\n",
      "    accuracy                           0.80       241\n",
      "   macro avg       0.80      0.80      0.80       241\n",
      "weighted avg       0.80      0.80      0.80       241\n",
      "\n"
     ]
    }
   ],
   "source": [
    "#classification report\n",
    "print(classification_report(y_test,y_pred))"
   ]
  },
  {
   "cell_type": "code",
   "execution_count": 56,
   "metadata": {
    "ExecuteTime": {
     "end_time": "2021-02-11T09:57:34.829593Z",
     "start_time": "2021-02-11T09:57:34.363862Z"
    },
    "scrolled": true
   },
   "outputs": [
    {
     "data": {
      "image/png": "[encoded data removed]",
      "text/plain": [
       "<Figure size 432x288 with 1 Axes>"
      ]
     },
     "metadata": {
      "needs_background": "light"
     },
     "output_type": "display_data"
    }
   ],
   "source": [
    "from sklearn.metrics import roc_curve\n",
    "fpr, tpr, thresholds=roc_curve(y_test, y_pred)\n",
    "AUC=round(metrics.auc(fpr, tpr),2)\n",
    "\n",
    "plt.plot([0,1], [0,1], linestyle='--', label='No Skill')\n",
    "plt.plot(fpr, tpr, marker='.', label=f'knn AUC={AUC}')\n",
    "# axis labels\n",
    "plt.xlabel('False Positive Rate')\n",
    "plt.ylabel('True Positive Rate')\n",
    "plt.legend()\n",
    "# show the plot\n",
    "plt.show()\n"
   ]
  },
  {
   "cell_type": "markdown",
   "metadata": {},
   "source": [
    "<b> Conclusion:</b>"
   ]
  },
  {
   "cell_type": "code",
   "execution_count": 57,
   "metadata": {
    "ExecuteTime": {
     "end_time": "2021-02-11T09:57:34.841587Z",
     "start_time": "2021-02-11T09:57:34.833594Z"
    }
   },
   "outputs": [
    {
     "data": {
      "text/plain": [
       "'feature selection method affect our model,AUC decrease as compare to the first one'"
      ]
     },
     "execution_count": 57,
     "metadata": {},
     "output_type": "execute_result"
    }
   ],
   "source": [
    "'''feature selection method affect our model,AUC decrease as compare to the first one'''"
   ]
  },
  {
   "cell_type": "markdown",
   "metadata": {},
   "source": [
    "<b> Cross-Validation </b>"
   ]
  },
  {
   "cell_type": "code",
   "execution_count": 58,
   "metadata": {
    "ExecuteTime": {
     "end_time": "2021-02-11T09:57:35.242360Z",
     "start_time": "2021-02-11T09:57:34.845587Z"
    },
    "scrolled": true
   },
   "outputs": [
    {
     "name": "stdout",
     "output_type": "stream",
     "text": [
      "mean:=0.8389869281045751 std :0.0596597336774264\n"
     ]
    }
   ],
   "source": [
    "#without StratifiedKFold \n",
    "Knn=KNeighborsClassifier(n_neighbors=5,p=1)\n",
    "score=cross_val_score(knn,X,y,cv=12)\n",
    "print(\"mean:=\"+str(score.mean()),\"std :\"+str(score.std()))"
   ]
  },
  {
   "cell_type": "code",
   "execution_count": 59,
   "metadata": {
    "ExecuteTime": {
     "end_time": "2021-02-11T09:57:35.533190Z",
     "start_time": "2021-02-11T09:57:35.246355Z"
    }
   },
   "outputs": [
    {
     "name": "stdout",
     "output_type": "stream",
     "text": [
      "List of possible accuracy: [0.8627450980392157, 0.803921568627451, 0.88, 0.9, 0.84, 0.76, 0.86, 0.88, 0.74, 0.86, 0.88, 0.9]\n",
      "\n",
      "Maximum Accuracy That can be obtained from this model is: 90.0 %\n",
      "\n",
      "Minimum Accuracy: 74.0 %\n",
      "\n",
      "Average Accuracy That can be obtained from this model is:: 0.8472222222222223\n",
      "\n",
      "Standard Deviation is: 0.05032648968584316\n"
     ]
    }
   ],
   "source": [
    "#with StratifiedKFold \n",
    "import numpy as np\n",
    "from sklearn.model_selection import StratifiedKFold \n",
    "skf = StratifiedKFold(n_splits=12, shuffle=True, random_state=1) \n",
    "lst_accu_stratified = [] \n",
    "\n",
    "for train_index, test_index in skf.split(X, y): \n",
    "    x_train_fold, x_test_fold = X.loc[train_index,:], X.loc[test_index,:] \n",
    "    y_train_fold, y_test_fold = y[train_index], y[test_index] \n",
    "    knn.fit(x_train_fold, y_train_fold) \n",
    "    lst_accu_stratified.append(knn.score(x_test_fold, y_test_fold))\n",
    "    \n",
    "    \n",
    "print('List of possible accuracy:', lst_accu_stratified) \n",
    "print('\\nMaximum Accuracy That can be obtained from this model is:', \n",
    "      max(lst_accu_stratified)*100, '%') \n",
    "print('\\nMinimum Accuracy:', \n",
    "      min(lst_accu_stratified)*100, '%') \n",
    "print('\\nAverage Accuracy That can be obtained from this model is::',np.mean(lst_accu_stratified)) \n",
    "print('\\nStandard Deviation is:',np.std(lst_accu_stratified)) "
   ]
  },
  {
   "cell_type": "markdown",
   "metadata": {},
   "source": [
    "#  Logistics Regression\n"
   ]
  },
  {
   "cell_type": "code",
   "execution_count": 60,
   "metadata": {
    "ExecuteTime": {
     "end_time": "2021-02-11T09:57:35.542189Z",
     "start_time": "2021-02-11T09:57:35.536208Z"
    }
   },
   "outputs": [],
   "source": [
    "from sklearn.linear_model import LogisticRegression"
   ]
  },
  {
   "cell_type": "code",
   "execution_count": 61,
   "metadata": {
    "ExecuteTime": {
     "end_time": "2021-02-11T09:57:35.675130Z",
     "start_time": "2021-02-11T09:57:35.546187Z"
    }
   },
   "outputs": [],
   "source": [
    "# Here we are using  both method for feature selection  means we takes union both feature union\n",
    "\n",
    "f_feature=list(set(basic_f0).union(set(basic_f1)))"
   ]
  },
  {
   "cell_type": "code",
   "execution_count": 62,
   "metadata": {
    "ExecuteTime": {
     "end_time": "2021-02-11T09:57:35.876881Z",
     "start_time": "2021-02-11T09:57:35.679108Z"
    }
   },
   "outputs": [
    {
     "data": {
      "text/plain": [
       "['Marital Status',\n",
       " 'Ease and convenient',\n",
       " 'Residence in busy location',\n",
       " 'More Offers and Discount',\n",
       " 'Good Food quality',\n",
       " 'Time saving',\n",
       " 'Easy Payment option',\n",
       " 'Age',\n",
       " 'Unaffordable',\n",
       " 'Unavailability',\n",
       " 'Good Tracking system',\n",
       " 'Monthly Income',\n",
       " 'Freshness ',\n",
       " 'More restaurant choices',\n",
       " 'Health Concern',\n",
       " 'Maximum wait time',\n",
       " 'Occupation',\n",
       " 'Self Cooking',\n",
       " 'Bad past experience',\n",
       " 'Delay of delivery person picking up food',\n",
       " 'Late Delivery']"
      ]
     },
     "execution_count": 62,
     "metadata": {},
     "output_type": "execute_result"
    }
   ],
   "source": [
    "f_feature"
   ]
  },
  {
   "cell_type": "code",
   "execution_count": 63,
   "metadata": {
    "ExecuteTime": {
     "end_time": "2021-02-11T09:57:36.064100Z",
     "start_time": "2021-02-11T09:57:35.879879Z"
    }
   },
   "outputs": [],
   "source": [
    "# Now we need to use some domain knowlegde for selecting feature \n",
    "'''Group 1: {'Ease and convenient','Easy Payment option'}\n",
    "   Group 2 :{'Order Time','Time saving','Delay of delivery person picking up food','Maximum wait time'}'''\n",
    "f_feature=['Ease and convenient','Self Cooking','Maximum wait time','More restaurant choices',\n",
    " 'Unaffordable','More Offers and Discount','Good Food quality','Good Tracking system','Age','Bad past experience']"
   ]
  },
  {
   "cell_type": "code",
   "execution_count": 64,
   "metadata": {
    "ExecuteTime": {
     "end_time": "2021-02-11T09:57:36.245304Z",
     "start_time": "2021-02-11T09:57:36.068078Z"
    }
   },
   "outputs": [],
   "source": [
    "#select X,y \n",
    "\n",
    "X=fd_dlvry[f_feature]\n",
    "y=fd_dlvry['Output']\n",
    "from imblearn.under_sampling import NearMiss\n",
    "# nm=NearMiss()\n",
    "#try to making data balnaced \n",
    "nm=RandomOverSampler()\n",
    "X,y=nm.fit_sample(X,y)\n",
    "\n",
    "X_train, X_test, y_train, y_test = train_test_split(X, y, test_size = 0.33)"
   ]
  },
  {
   "cell_type": "code",
   "execution_count": 65,
   "metadata": {
    "ExecuteTime": {
     "end_time": "2021-02-11T09:57:36.426351Z",
     "start_time": "2021-02-11T09:57:36.248302Z"
    }
   },
   "outputs": [
    {
     "data": {
      "text/plain": [
       "(602, 10)"
      ]
     },
     "execution_count": 65,
     "metadata": {},
     "output_type": "execute_result"
    }
   ],
   "source": [
    "X.shape"
   ]
  },
  {
   "cell_type": "code",
   "execution_count": 66,
   "metadata": {
    "ExecuteTime": {
     "end_time": "2021-02-11T09:57:36.581385Z",
     "start_time": "2021-02-11T09:57:36.430350Z"
    }
   },
   "outputs": [
    {
     "data": {
      "text/plain": [
       "['Ease and convenient',\n",
       " 'Self Cooking',\n",
       " 'Maximum wait time',\n",
       " 'More restaurant choices',\n",
       " 'Unaffordable',\n",
       " 'More Offers and Discount',\n",
       " 'Good Food quality',\n",
       " 'Good Tracking system',\n",
       " 'Age',\n",
       " 'Bad past experience']"
      ]
     },
     "execution_count": 66,
     "metadata": {},
     "output_type": "execute_result"
    }
   ],
   "source": [
    "f_feature"
   ]
  },
  {
   "cell_type": "code",
   "execution_count": 67,
   "metadata": {
    "ExecuteTime": {
     "end_time": "2021-02-11T09:57:36.784527Z",
     "start_time": "2021-02-11T09:57:36.586378Z"
    }
   },
   "outputs": [],
   "source": [
    "Lg=LogisticRegression()"
   ]
  },
  {
   "cell_type": "code",
   "execution_count": 68,
   "metadata": {
    "ExecuteTime": {
     "end_time": "2021-02-11T09:58:07.535649Z",
     "start_time": "2021-02-11T09:57:36.799523Z"
    },
    "code_folding": []
   },
   "outputs": [
    {
     "data": {
      "image/png": "[encoded data removed]",
      "text/plain": [
       "<Figure size 432x288 with 1 Axes>"
      ]
     },
     "metadata": {
      "needs_background": "light"
     },
     "output_type": "display_data"
    }
   ],
   "source": [
    "#\n",
    "plt.figure()\n",
    "training_accuracy = []\n",
    "test_accuracy = []\n",
    "# try n_neighbors from 1 to 10\n",
    "test_size= numpy.arange(0.1, 0.9,0.05)\n",
    "\n",
    "for i in test_size:\n",
    "        t_s=[]\n",
    "        tn_=[]\n",
    "        for j in range(0,50):\n",
    "            X_train, X_test, y_train, y_test = train_test_split(X, y, test_size = i,random_state=np.random.randint(0,100))\n",
    "            Lg.fit(X_train, y_train)\n",
    "            \n",
    "            t_s.append(Lg.score(X_test,y_test))\n",
    "            tn_.append(Lg.score(X_train,y_train))\n",
    "        training_accuracy.append(np.mean(t_s))\n",
    "        test_accuracy.append(np.mean(tn_))\n",
    "\n",
    "\n",
    "    \n",
    "plt.plot(test_size,training_accuracy,label=\"training accuracy\")\n",
    "plt.plot(test_size,test_accuracy,label=\"test accuracy\")\n",
    "plt.ylabel(\"Accuracy\")\n",
    "plt.xlabel(\"test_size\")\n",
    "plt.legend()\n",
    "\n",
    "plt.show()\n",
    "\n",
    "\n"
   ]
  },
  {
   "cell_type": "code",
   "execution_count": 69,
   "metadata": {
    "ExecuteTime": {
     "end_time": "2021-02-11T09:58:07.593600Z",
     "start_time": "2021-02-11T09:58:07.540631Z"
    }
   },
   "outputs": [
    {
     "data": {
      "text/plain": [
       "0.7790055248618785"
      ]
     },
     "execution_count": 69,
     "metadata": {},
     "output_type": "execute_result"
    }
   ],
   "source": [
    "#data split into train and test size \n",
    "X_train,X_test,y_train,y_test=train_test_split(X,y,test_size=0.3)\n",
    "Lg.fit(X_train,y_train)\n",
    "Lg.score(X_test,y_test)"
   ]
  },
  {
   "cell_type": "code",
   "execution_count": 70,
   "metadata": {
    "ExecuteTime": {
     "end_time": "2021-02-11T09:58:07.707533Z",
     "start_time": "2021-02-11T09:58:07.596596Z"
    }
   },
   "outputs": [],
   "source": [
    "y_pred=Lg.predict(X_test)"
   ]
  },
  {
   "cell_type": "code",
   "execution_count": 71,
   "metadata": {
    "ExecuteTime": {
     "end_time": "2021-02-11T09:58:07.886431Z",
     "start_time": "2021-02-11T09:58:07.714529Z"
    }
   },
   "outputs": [
    {
     "data": {
      "text/plain": [
       "array([[78, 12],\n",
       "       [28, 63]], dtype=int64)"
      ]
     },
     "execution_count": 71,
     "metadata": {},
     "output_type": "execute_result"
    }
   ],
   "source": [
    "cf_matrix=confusion_matrix(y_test, y_pred)\n",
    "cf_matrix"
   ]
  },
  {
   "cell_type": "code",
   "execution_count": 72,
   "metadata": {
    "ExecuteTime": {
     "end_time": "2021-02-11T09:58:08.039344Z",
     "start_time": "2021-02-11T09:58:07.890432Z"
    }
   },
   "outputs": [
    {
     "name": "stdout",
     "output_type": "stream",
     "text": [
      "              precision    recall  f1-score   support\n",
      "\n",
      "           0       0.74      0.87      0.80        90\n",
      "           1       0.84      0.69      0.76        91\n",
      "\n",
      "    accuracy                           0.78       181\n",
      "   macro avg       0.79      0.78      0.78       181\n",
      "weighted avg       0.79      0.78      0.78       181\n",
      "\n"
     ]
    }
   ],
   "source": [
    "print(classification_report(y_test,y_pred))"
   ]
  },
  {
   "cell_type": "code",
   "execution_count": 73,
   "metadata": {
    "ExecuteTime": {
     "end_time": "2021-02-11T09:58:08.785916Z",
     "start_time": "2021-02-11T09:58:08.045340Z"
    },
    "scrolled": true
   },
   "outputs": [
    {
     "data": {
      "image/png": "[encoded data removed]",
      "text/plain": [
       "<Figure size 720x432 with 1 Axes>"
      ]
     },
     "metadata": {
      "needs_background": "light"
     },
     "output_type": "display_data"
    }
   ],
   "source": [
    "thresolds = [0.2,0.3,0.4,0.5,0.55,0.6,0.62,0.65,0.7,0.8]\n",
    "plt.figure(figsize=(10,6))\n",
    "for i in thresolds:\n",
    "    y_pred_proba = (Lg.predict_proba(X_test)[:,1]>=i).astype(int)\n",
    "    fpr, tpr, m= metrics.roc_curve(y_test,  y_pred_proba)\n",
    "    auc = metrics.roc_auc_score(y_test, y_pred_proba)\n",
    "    plt.plot(fpr,tpr,label=f\"data 1, auc={auc} thresold={i}\")\n",
    "    plt.legend(loc=4)\n",
    "\n",
    "\n",
    "\n",
    "plt.xlabel('fpr')\n",
    "plt.ylabel('tpr')\n",
    "plt.show()"
   ]
  },
  {
   "cell_type": "code",
   "execution_count": 74,
   "metadata": {
    "ExecuteTime": {
     "end_time": "2021-02-11T09:58:08.799909Z",
     "start_time": "2021-02-11T09:58:08.789915Z"
    }
   },
   "outputs": [
    {
     "data": {
      "text/plain": [
       "'In Knn weighted avg f1-score is good and AUC is great but problems in Knn is not learning something\\nknn just use more memory space for perform operation and mostly features are categorical so noise affect\\non this algorithms. Here we can see if we set thresold 0.65 in Logistics regression we get better model  and here algorithms \\nsomething learn \\n'"
      ]
     },
     "execution_count": 74,
     "metadata": {},
     "output_type": "execute_result"
    }
   ],
   "source": [
    "'''In Knn weighted avg f1-score is good and AUC is great but problems in Knn is not learning something\n",
    "knn just use more memory space for perform operation and mostly features are categorical so noise affect\n",
    "on this algorithms. Here we can see if we set thresold 0.65 in Logistics regression we get better model  and here algorithms \n",
    "something learn \n",
    "'''"
   ]
  },
  {
   "cell_type": "markdown",
   "metadata": {},
   "source": [
    "<b> Cross-Validation </b>"
   ]
  },
  {
   "cell_type": "code",
   "execution_count": 75,
   "metadata": {
    "ExecuteTime": {
     "end_time": "2021-02-11T09:58:09.317613Z",
     "start_time": "2021-02-11T09:58:08.802906Z"
    }
   },
   "outputs": [
    {
     "name": "stdout",
     "output_type": "stream",
     "text": [
      "List of possible accuracy: [0.7704918  0.81967213 0.85       0.83333333 0.78333333 0.78333333\n",
      " 0.83333333 0.8        0.73333333 0.81666667]\n",
      "\n",
      "Maximum Accuracy That can be obtained from this model is: 85.0 %\n",
      "\n",
      "Minimum Accuracy: 74.0 %\n",
      "\n",
      "Average Accuracy That can be obtained from this model is:: 0.8023497267759563\n",
      "\n",
      "Standard Deviation is: 0.03347015724255448\n"
     ]
    }
   ],
   "source": [
    "score=cross_val_score(Lg,X,y,cv=10)\n",
    "print('List of possible accuracy:', score) \n",
    "print('\\nMaximum Accuracy That can be obtained from this model is:', \n",
    "      max(score)*100, '%') \n",
    "print('\\nMinimum Accuracy:', \n",
    "      min(lst_accu_stratified)*100, '%') \n",
    "print('\\nAverage Accuracy That can be obtained from this model is::',np.mean(score)) \n",
    "print('\\nStandard Deviation is:',np.std(score)) "
   ]
  },
  {
   "cell_type": "code",
   "execution_count": 76,
   "metadata": {
    "ExecuteTime": {
     "end_time": "2021-02-11T09:58:09.815327Z",
     "start_time": "2021-02-11T09:58:09.321610Z"
    }
   },
   "outputs": [
    {
     "name": "stdout",
     "output_type": "stream",
     "text": [
      "List of possible accuracy: [0.6862745098039216, 0.7843137254901961, 0.84, 0.72, 0.84, 0.78, 0.86, 0.84, 0.86, 0.76, 0.92, 0.88]\n",
      "\n",
      "Maximum Accuracy That can be obtained from this model is: 92.0 %\n",
      "\n",
      "Minimum Accuracy: 68.62745098039215 %\n",
      "\n",
      "Average Accuracy That can be obtained from this model is:: 0.81421568627451\n",
      "\n",
      " Median Accuracy That can be obtained from this model is:: 0.84\n",
      "\n",
      "Standard Deviation is: 0.06579926385940285\n"
     ]
    }
   ],
   "source": [
    "import numpy as np\n",
    "from sklearn.model_selection import StratifiedKFold \n",
    "skf = StratifiedKFold(n_splits=12, shuffle=True, random_state=1) \n",
    "lst_accu_stratified = [] \n",
    "\n",
    "for train_index, test_index in skf.split(X, y): \n",
    "    x_train_fold, x_test_fold = X.loc[train_index,:], X.loc[test_index,:] \n",
    "    y_train_fold, y_test_fold = y[train_index], y[test_index] \n",
    "    Lg.fit(x_train_fold, y_train_fold) \n",
    "    lst_accu_stratified.append(Lg.score(x_test_fold, y_test_fold))\n",
    "    \n",
    "    \n",
    "print('List of possible accuracy:', lst_accu_stratified) \n",
    "print('\\nMaximum Accuracy That can be obtained from this model is:', \n",
    "      max(lst_accu_stratified)*100, '%') \n",
    "print('\\nMinimum Accuracy:', \n",
    "      min(lst_accu_stratified)*100, '%') \n",
    "print('\\nAverage Accuracy That can be obtained from this model is::',np.mean(lst_accu_stratified)) \n",
    "print('\\n Median Accuracy That can be obtained from this model is::',np.median(lst_accu_stratified)) \n",
    "print('\\nStandard Deviation is:',np.std(lst_accu_stratified)) "
   ]
  },
  {
   "cell_type": "code",
   "execution_count": 77,
   "metadata": {
    "ExecuteTime": {
     "end_time": "2021-02-11T09:58:10.039201Z",
     "start_time": "2021-02-11T09:58:09.818327Z"
    }
   },
   "outputs": [
    {
     "data": {
      "text/plain": [
       "array([0.77348066, 0.80662983, 0.77900552, 0.85082873, 0.81767956])"
      ]
     },
     "execution_count": 77,
     "metadata": {},
     "output_type": "execute_result"
    }
   ],
   "source": [
    "from sklearn.model_selection import ShuffleSplit\n",
    "cv = ShuffleSplit(n_splits=5, test_size=0.3, random_state=0)\n",
    "cross_val_score(Lg, X, y, cv=cv)"
   ]
  },
  {
   "cell_type": "markdown",
   "metadata": {},
   "source": [
    "# DecisionTree (feature selection with both method)  "
   ]
  },
  {
   "cell_type": "code",
   "execution_count": 78,
   "metadata": {
    "ExecuteTime": {
     "end_time": "2021-02-11T09:58:10.074180Z",
     "start_time": "2021-02-11T09:58:10.043198Z"
    }
   },
   "outputs": [
    {
     "data": {
      "text/plain": [
       "1    301\n",
       "0     87\n",
       "Name: Output, dtype: int64"
      ]
     },
     "execution_count": 78,
     "metadata": {},
     "output_type": "execute_result"
    }
   ],
   "source": [
    "X=fd_dlvry[f_feature]\n",
    "y=fd_dlvry['Output']\n",
    "nm=RandomOverSampler() # try to making data balanced \n",
    "X,y=nm.fit_sample(X,y)\n",
    "fd_dlvry['Output'].value_counts()"
   ]
  },
  {
   "cell_type": "code",
   "execution_count": 79,
   "metadata": {
    "ExecuteTime": {
     "end_time": "2021-02-11T09:58:10.429114Z",
     "start_time": "2021-02-11T09:58:10.078177Z"
    }
   },
   "outputs": [
    {
     "data": {
      "text/plain": [
       "DecisionTreeClassifier(max_depth=6, min_samples_leaf=2, min_samples_split=4,\n",
       "                       random_state=0)"
      ]
     },
     "execution_count": 79,
     "metadata": {},
     "output_type": "execute_result"
    }
   ],
   "source": [
    "X_train, X_test, y_train, y_test = train_test_split(X, y, test_size = 0.33)\n",
    "clf=DecisionTreeClassifier(random_state=0,max_depth=6,min_samples_leaf=2,min_samples_split=4)\n",
    "clf.fit(X,y)"
   ]
  },
  {
   "cell_type": "code",
   "execution_count": 80,
   "metadata": {
    "ExecuteTime": {
     "end_time": "2021-02-11T09:58:10.447123Z",
     "start_time": "2021-02-11T09:58:10.432112Z"
    }
   },
   "outputs": [
    {
     "data": {
      "text/plain": [
       "0.914572864321608"
      ]
     },
     "execution_count": 80,
     "metadata": {},
     "output_type": "execute_result"
    }
   ],
   "source": [
    "clf.score(X_test,y_test)"
   ]
  },
  {
   "cell_type": "code",
   "execution_count": 81,
   "metadata": {
    "ExecuteTime": {
     "end_time": "2021-02-11T09:58:10.584026Z",
     "start_time": "2021-02-11T09:58:10.450105Z"
    }
   },
   "outputs": [
    {
     "data": {
      "text/plain": [
       "array([1, 1, 0, 1, 1, 1, 0, 0, 0, 0, 0, 1, 1, 1, 1, 0, 1, 0, 1, 1, 0, 0,\n",
       "       0, 1, 0, 0, 0, 1, 0, 1, 1, 1, 1, 0, 1, 1, 1, 0, 0, 1, 0, 1, 0, 0,\n",
       "       1, 1, 1, 0, 1, 1, 0, 0, 0, 0, 1, 0, 1, 0, 1, 1, 1, 1, 0, 1, 1, 1,\n",
       "       0, 0, 1, 1, 0, 0, 1, 1, 1, 1, 0, 1, 1, 1, 1, 1, 1, 1, 0, 0, 1, 1,\n",
       "       0, 0, 0, 1, 1, 0, 0, 1, 1, 1, 1, 1, 0, 1, 0, 0, 0, 1, 0, 1, 1, 1,\n",
       "       0, 0, 1, 0, 1, 1, 1, 0, 0, 1, 1, 0, 1, 0, 1, 0, 1, 0, 1, 1, 0, 0,\n",
       "       0, 1, 1, 0, 1, 1, 1, 1, 0, 1, 1, 0, 1, 0, 0, 1, 0, 1, 0, 1, 0, 1,\n",
       "       1, 0, 1, 0, 1, 1, 0, 1, 0, 1, 0, 1, 1, 0, 0, 0, 0, 0, 1, 1, 0, 1,\n",
       "       1, 1, 0, 1, 0, 0, 1, 0, 0, 0, 0, 1, 0, 0, 0, 0, 0, 0, 1, 0, 1, 0,\n",
       "       0])"
      ]
     },
     "execution_count": 81,
     "metadata": {},
     "output_type": "execute_result"
    }
   ],
   "source": [
    "y_pred=clf.predict(X_test)\n",
    "y_pred"
   ]
  },
  {
   "cell_type": "code",
   "execution_count": 82,
   "metadata": {
    "ExecuteTime": {
     "end_time": "2021-02-11T09:58:10.707953Z",
     "start_time": "2021-02-11T09:58:10.589024Z"
    }
   },
   "outputs": [
    {
     "name": "stdout",
     "output_type": "stream",
     "text": [
      "[[88 12]\n",
      " [ 5 94]]\n"
     ]
    }
   ],
   "source": [
    "print(confusion_matrix(y_test,y_pred))"
   ]
  },
  {
   "cell_type": "code",
   "execution_count": 83,
   "metadata": {
    "ExecuteTime": {
     "end_time": "2021-02-11T09:58:10.846877Z",
     "start_time": "2021-02-11T09:58:10.712955Z"
    },
    "scrolled": true
   },
   "outputs": [
    {
     "name": "stdout",
     "output_type": "stream",
     "text": [
      "              precision    recall  f1-score   support\n",
      "\n",
      "           0       0.95      0.88      0.91       100\n",
      "           1       0.89      0.95      0.92        99\n",
      "\n",
      "    accuracy                           0.91       199\n",
      "   macro avg       0.92      0.91      0.91       199\n",
      "weighted avg       0.92      0.91      0.91       199\n",
      "\n"
     ]
    }
   ],
   "source": [
    "print(classification_report(y_test,y_pred))"
   ]
  },
  {
   "cell_type": "code",
   "execution_count": 84,
   "metadata": {
    "ExecuteTime": {
     "end_time": "2021-02-11T09:58:11.084740Z",
     "start_time": "2021-02-11T09:58:10.851872Z"
    }
   },
   "outputs": [
    {
     "data": {
      "text/plain": [
       "array([0.90196078, 0.98039216, 0.84      , 0.9       , 0.9       ,\n",
       "       0.9       , 0.88      , 0.9       , 0.82      , 0.98      ,\n",
       "       0.88      , 0.86      ])"
      ]
     },
     "execution_count": 84,
     "metadata": {},
     "output_type": "execute_result"
    }
   ],
   "source": [
    "cross_val_score(clf, X, y, cv=12)"
   ]
  },
  {
   "cell_type": "code",
   "execution_count": 85,
   "metadata": {
    "ExecuteTime": {
     "end_time": "2021-02-11T09:58:11.288624Z",
     "start_time": "2021-02-11T09:58:11.087741Z"
    }
   },
   "outputs": [
    {
     "name": "stdout",
     "output_type": "stream",
     "text": [
      "List of possible accuracy: [0.7058823529411765, 0.803921568627451, 0.9, 0.78, 0.76, 0.72, 0.76, 0.86, 0.76, 0.76, 0.8, 0.88]\n",
      "\n",
      "Maximum Accuracy That can be obtained from this model is: 90.0 %\n",
      "\n",
      "Minimum Accuracy: 70.58823529411765 %\n",
      "\n",
      "Average Accuracy That can be obtained from this model is:: 0.7908169934640523\n",
      "\n",
      " Median Accuracy That can be obtained from this model is:: 0.77\n",
      "\n",
      "Standard Deviation is: 0.05849613867592599\n"
     ]
    }
   ],
   "source": [
    "lst_accu_stratified = [] \n",
    "\n",
    "for train_index, test_index in skf.split(X, y): \n",
    "    x_train_fold, x_test_fold = X.loc[train_index,:], X.loc[test_index,:] \n",
    "    y_train_fold, y_test_fold = y[train_index], y[test_index] \n",
    "    clf.fit(x_train_fold, y_train_fold) \n",
    "    lst_accu_stratified.append(Lg.score(x_test_fold, y_test_fold))\n",
    "    \n",
    "    \n",
    "print('List of possible accuracy:', lst_accu_stratified) \n",
    "print('\\nMaximum Accuracy That can be obtained from this model is:', \n",
    "      max(lst_accu_stratified)*100, '%') \n",
    "print('\\nMinimum Accuracy:', \n",
    "      min(lst_accu_stratified)*100, '%') \n",
    "print('\\nAverage Accuracy That can be obtained from this model is::',np.mean(lst_accu_stratified)) \n",
    "print('\\n Median Accuracy That can be obtained from this model is::',np.median(lst_accu_stratified)) \n",
    "print('\\nStandard Deviation is:',np.std(lst_accu_stratified)) "
   ]
  },
  {
   "cell_type": "code",
   "execution_count": 86,
   "metadata": {
    "ExecuteTime": {
     "end_time": "2021-02-11T09:58:17.494790Z",
     "start_time": "2021-02-11T09:58:11.293621Z"
    }
   },
   "outputs": [
    {
     "data": {
      "text/plain": [
       "'gini.png'"
      ]
     },
     "execution_count": 86,
     "metadata": {},
     "output_type": "execute_result"
    }
   ],
   "source": [
    "import graphviz\n",
    "import sklearn.tree as tree\n",
    "# DOT data\n",
    "dot_data = tree.export_graphviz(clf, out_file=None, \n",
    "                                feature_names=X.columns,  \n",
    "                                class_names='01',\n",
    "                                filled=True)\n",
    "\n",
    "# # Draw graph\n",
    "graph = graphviz.Source(dot_data,format=\"png\") \n",
    "graph.render('gini')\n",
    "# graph"
   ]
  },
  {
   "cell_type": "markdown",
   "metadata": {},
   "source": [
    "# Feature selection with Decision Tree "
   ]
  },
  {
   "cell_type": "code",
   "execution_count": 170,
   "metadata": {
    "ExecuteTime": {
     "end_time": "2021-02-11T11:48:55.396073Z",
     "start_time": "2021-02-11T11:48:55.197188Z"
    }
   },
   "outputs": [],
   "source": [
    "fd_dlvry=pd.read_csv('../../data/Banglore_food_delivery/onlinedeliverydata.csv')\n",
    "\n",
    "fd_dlvry.drop(['Pin code','longitude','latitude','Reviews'],axis=1,inplace=True)\n",
    "\n",
    "fd_dlvry['Output']=fd_dlvry['Output'].replace({'Yes':1,'No':0})"
   ]
  },
  {
   "cell_type": "code",
   "execution_count": 171,
   "metadata": {
    "ExecuteTime": {
     "end_time": "2021-02-11T11:48:55.875213Z",
     "start_time": "2021-02-11T11:48:55.776271Z"
    }
   },
   "outputs": [
    {
     "data": {
      "text/plain": [
       "(388, 223)"
      ]
     },
     "execution_count": 171,
     "metadata": {},
     "output_type": "execute_result"
    }
   ],
   "source": [
    "fd_ori=fd_dlvry.copy(deep=True)\n",
    "df=pd.get_dummies(fd_dlvry)\n",
    "df.shape"
   ]
  },
  {
   "cell_type": "code",
   "execution_count": 172,
   "metadata": {
    "ExecuteTime": {
     "end_time": "2021-02-11T11:48:56.328312Z",
     "start_time": "2021-02-11T11:48:56.322316Z"
    }
   },
   "outputs": [],
   "source": [
    "l1=[]\n",
    "for i in df.columns:\n",
    "    if(i!='Output'):\n",
    "        l1.append(i)\n",
    "    "
   ]
  },
  {
   "cell_type": "code",
   "execution_count": 173,
   "metadata": {
    "ExecuteTime": {
     "end_time": "2021-02-11T11:48:57.074146Z",
     "start_time": "2021-02-11T11:48:56.887197Z"
    }
   },
   "outputs": [],
   "source": [
    "X=df[l1]\n",
    "y=df['Output']\n",
    "nm=RandomOverSampler()\n",
    "X,y=nm.fit_sample(X,y)\n"
   ]
  },
  {
   "cell_type": "code",
   "execution_count": 174,
   "metadata": {
    "ExecuteTime": {
     "end_time": "2021-02-11T11:48:57.717630Z",
     "start_time": "2021-02-11T11:48:57.454423Z"
    }
   },
   "outputs": [
    {
     "data": {
      "text/plain": [
       "DecisionTreeClassifier(max_depth=6, min_samples_leaf=2, min_samples_split=4,\n",
       "                       random_state=0)"
      ]
     },
     "execution_count": 174,
     "metadata": {},
     "output_type": "execute_result"
    }
   ],
   "source": [
    "X_train, X_test, y_train, y_test = train_test_split(X, y, test_size = 0.33)\n",
    "clf=DecisionTreeClassifier(random_state=0,max_depth=6,min_samples_leaf=2,min_samples_split=4)\n",
    "clf.fit(X,y)"
   ]
  },
  {
   "cell_type": "code",
   "execution_count": 175,
   "metadata": {
    "ExecuteTime": {
     "end_time": "2021-02-11T11:48:57.953644Z",
     "start_time": "2021-02-11T11:48:57.936634Z"
    }
   },
   "outputs": [
    {
     "data": {
      "text/plain": [
       "0.9849246231155779"
      ]
     },
     "execution_count": 175,
     "metadata": {},
     "output_type": "execute_result"
    }
   ],
   "source": [
    "clf.score(X_test,y_test)"
   ]
  },
  {
   "cell_type": "code",
   "execution_count": 176,
   "metadata": {
    "ExecuteTime": {
     "end_time": "2021-02-11T11:48:58.463149Z",
     "start_time": "2021-02-11T11:48:58.452157Z"
    }
   },
   "outputs": [
    {
     "data": {
      "text/plain": [
       "array([0.        , 0.        , 0.        , 0.        , 0.        ,\n",
       "       0.        , 0.        , 0.06294945, 0.        , 0.        ,\n",
       "       0.        , 0.00225468, 0.        , 0.        , 0.        ,\n",
       "       0.00217769, 0.        , 0.        , 0.0196901 , 0.        ,\n",
       "       0.        , 0.        , 0.        , 0.        , 0.        ,\n",
       "       0.        , 0.        , 0.        , 0.        , 0.        ,\n",
       "       0.        , 0.        , 0.        , 0.        , 0.        ,\n",
       "       0.        , 0.        , 0.        , 0.00871075, 0.        ,\n",
       "       0.        , 0.03067702, 0.        , 0.        , 0.45340623,\n",
       "       0.        , 0.        , 0.        , 0.        , 0.13721694,\n",
       "       0.        , 0.        , 0.        , 0.        , 0.02121283,\n",
       "       0.        , 0.        , 0.        , 0.        , 0.        ,\n",
       "       0.        , 0.        , 0.        , 0.        , 0.        ,\n",
       "       0.        , 0.        , 0.        , 0.        , 0.        ,\n",
       "       0.0312876 , 0.        , 0.        , 0.        , 0.        ,\n",
       "       0.        , 0.00405455, 0.        , 0.        , 0.00218823,\n",
       "       0.        , 0.        , 0.        , 0.        , 0.00725896,\n",
       "       0.        , 0.        , 0.        , 0.        , 0.01742151,\n",
       "       0.        , 0.        , 0.        , 0.        , 0.        ,\n",
       "       0.        , 0.        , 0.        , 0.        , 0.        ,\n",
       "       0.        , 0.        , 0.        , 0.        , 0.        ,\n",
       "       0.        , 0.        , 0.        , 0.08186928, 0.        ,\n",
       "       0.        , 0.        , 0.        , 0.        , 0.        ,\n",
       "       0.        , 0.        , 0.        , 0.        , 0.        ,\n",
       "       0.        , 0.        , 0.        , 0.        , 0.        ,\n",
       "       0.        , 0.        , 0.        , 0.        , 0.        ,\n",
       "       0.        , 0.        , 0.00964869, 0.        , 0.        ,\n",
       "       0.05420024, 0.02344687, 0.        , 0.        , 0.        ,\n",
       "       0.        , 0.        , 0.        , 0.        , 0.        ,\n",
       "       0.        , 0.        , 0.        , 0.        , 0.        ,\n",
       "       0.        , 0.        , 0.        , 0.        , 0.        ,\n",
       "       0.        , 0.        , 0.        , 0.        , 0.        ,\n",
       "       0.        , 0.        , 0.        , 0.        , 0.        ,\n",
       "       0.        , 0.        , 0.        , 0.        , 0.        ,\n",
       "       0.        , 0.        , 0.        , 0.        , 0.        ,\n",
       "       0.        , 0.        , 0.        , 0.        , 0.        ,\n",
       "       0.        , 0.        , 0.        , 0.        , 0.        ,\n",
       "       0.        , 0.        , 0.01055341, 0.        , 0.        ,\n",
       "       0.        , 0.        , 0.        , 0.        , 0.        ,\n",
       "       0.        , 0.        , 0.01325549, 0.        , 0.        ,\n",
       "       0.        , 0.        , 0.        , 0.        , 0.        ,\n",
       "       0.        , 0.        , 0.        , 0.        , 0.        ,\n",
       "       0.        , 0.        , 0.        , 0.        , 0.        ,\n",
       "       0.        , 0.        , 0.        , 0.00651947, 0.        ,\n",
       "       0.        , 0.        ])"
      ]
     },
     "execution_count": 176,
     "metadata": {},
     "output_type": "execute_result"
    }
   ],
   "source": [
    "clf.feature_importances_"
   ]
  },
  {
   "cell_type": "code",
   "execution_count": 177,
   "metadata": {
    "ExecuteTime": {
     "end_time": "2021-02-11T11:48:59.045448Z",
     "start_time": "2021-02-11T11:48:59.036453Z"
    }
   },
   "outputs": [],
   "source": [
    "def feature_extract(clf,l1):\n",
    "    values = clf.feature_importances_\n",
    "    importances = [(l1[i], values[i]) for i in range(len(l1))]\n",
    "    importances.sort(reverse=True, key=lambda x:x[1])\n",
    "    l3=[]\n",
    "    for i in importances[:12]:\n",
    "        l3.append(i[0])\n",
    "    return l3\n",
    "\n",
    "    "
   ]
  },
  {
   "cell_type": "code",
   "execution_count": 178,
   "metadata": {
    "ExecuteTime": {
     "end_time": "2021-02-11T11:48:59.598485Z",
     "start_time": "2021-02-11T11:48:59.588492Z"
    }
   },
   "outputs": [
    {
     "data": {
      "text/plain": [
       "['Ease and convenient_Disagree',\n",
       " 'Time saving_Disagree',\n",
       " 'Unaffordable_Agree',\n",
       " 'Occupation_Employee',\n",
       " 'Missing item_Neutral',\n",
       " 'Good Food quality_Neutral',\n",
       " 'Perference(P2)_ Sweets',\n",
       " 'Missing item_Strongly agree',\n",
       " 'More restaurant choices_Disagree',\n",
       " 'Educational Qualifications_Post Graduate',\n",
       " 'Late Delivery_Disagree',\n",
       " 'Politeness_Important']"
      ]
     },
     "execution_count": 178,
     "metadata": {},
     "output_type": "execute_result"
    }
   ],
   "source": [
    "feature_extract(clf,l1)"
   ]
  },
  {
   "cell_type": "code",
   "execution_count": 179,
   "metadata": {
    "ExecuteTime": {
     "end_time": "2021-02-11T11:49:00.259905Z",
     "start_time": "2021-02-11T11:49:00.157965Z"
    }
   },
   "outputs": [],
   "source": [
    "X=df[l1]\n",
    "y=df['Output']\n",
    "nm=RandomOverSampler()\n",
    "X,y=nm.fit_sample(X,y)\n"
   ]
  },
  {
   "cell_type": "code",
   "execution_count": 180,
   "metadata": {
    "ExecuteTime": {
     "end_time": "2021-02-11T11:49:00.765760Z",
     "start_time": "2021-02-11T11:49:00.728766Z"
    }
   },
   "outputs": [
    {
     "data": {
      "text/plain": [
       "DecisionTreeClassifier(max_depth=6, min_samples_leaf=2, min_samples_split=4,\n",
       "                       random_state=0)"
      ]
     },
     "execution_count": 180,
     "metadata": {},
     "output_type": "execute_result"
    }
   ],
   "source": [
    "X_train, X_test, y_train, y_test = train_test_split(X, y, test_size = 0.33)\n",
    "clf=DecisionTreeClassifier(random_state=0,max_depth=6,min_samples_leaf=2,min_samples_split=4)\n",
    "clf.fit(X,y)"
   ]
  },
  {
   "cell_type": "code",
   "execution_count": 181,
   "metadata": {
    "ExecuteTime": {
     "end_time": "2021-02-11T11:49:01.249234Z",
     "start_time": "2021-02-11T11:49:01.229244Z"
    }
   },
   "outputs": [
    {
     "data": {
      "text/plain": [
       "0.9849246231155779"
      ]
     },
     "execution_count": 181,
     "metadata": {},
     "output_type": "execute_result"
    }
   ],
   "source": [
    "clf.score(X_test,y_test)"
   ]
  },
  {
   "cell_type": "code",
   "execution_count": 182,
   "metadata": {
    "ExecuteTime": {
     "end_time": "2021-02-11T11:49:01.761072Z",
     "start_time": "2021-02-11T11:49:01.738087Z"
    }
   },
   "outputs": [
    {
     "data": {
      "text/plain": [
       "array([1, 1, 0, 1, 1, 0, 0, 0, 1, 0, 1, 0, 0, 0, 0, 0, 0, 0, 1, 0, 1, 1,\n",
       "       0, 0, 0, 0, 1, 0, 0, 0, 0, 1, 1, 0, 1, 0, 1, 0, 1, 0, 0, 0, 0, 0,\n",
       "       0, 1, 1, 1, 1, 0, 0, 1, 1, 1, 0, 0, 0, 0, 1, 0, 1, 0, 1, 0, 0, 0,\n",
       "       1, 1, 1, 1, 0, 0, 0, 0, 1, 1, 0, 0, 1, 0, 1, 0, 1, 1, 1, 1, 0, 1,\n",
       "       0, 1, 1, 0, 1, 1, 0, 1, 0, 1, 0, 0, 1, 1, 0, 1, 0, 1, 0, 1, 0, 0,\n",
       "       0, 1, 0, 0, 0, 0, 1, 0, 1, 1, 0, 0, 0, 1, 1, 0, 0, 1, 1, 1, 1, 0,\n",
       "       1, 0, 1, 0, 1, 0, 0, 0, 1, 1, 0, 0, 0, 1, 0, 0, 1, 0, 0, 1, 0, 1,\n",
       "       0, 0, 0, 1, 0, 0, 0, 0, 1, 0, 0, 1, 1, 1, 1, 1, 1, 0, 0, 1, 0, 0,\n",
       "       1, 0, 0, 0, 1, 1, 0, 0, 0, 0, 1, 1, 1, 1, 0, 0, 1, 0, 1, 0, 1, 1,\n",
       "       1], dtype=int64)"
      ]
     },
     "execution_count": 182,
     "metadata": {},
     "output_type": "execute_result"
    }
   ],
   "source": [
    "y_pred=clf.predict(X_test)\n",
    "y_pred"
   ]
  },
  {
   "cell_type": "code",
   "execution_count": 183,
   "metadata": {
    "ExecuteTime": {
     "end_time": "2021-02-11T11:49:02.422476Z",
     "start_time": "2021-02-11T11:49:02.297535Z"
    }
   },
   "outputs": [
    {
     "name": "stdout",
     "output_type": "stream",
     "text": [
      "[[107   0]\n",
      " [  3  89]]\n"
     ]
    }
   ],
   "source": [
    "print(confusion_matrix(y_test,y_pred))"
   ]
  },
  {
   "cell_type": "code",
   "execution_count": 184,
   "metadata": {
    "ExecuteTime": {
     "end_time": "2021-02-11T11:49:02.839586Z",
     "start_time": "2021-02-11T11:49:02.822601Z"
    }
   },
   "outputs": [
    {
     "name": "stdout",
     "output_type": "stream",
     "text": [
      "              precision    recall  f1-score   support\n",
      "\n",
      "           0       0.97      1.00      0.99       107\n",
      "           1       1.00      0.97      0.98        92\n",
      "\n",
      "    accuracy                           0.98       199\n",
      "   macro avg       0.99      0.98      0.98       199\n",
      "weighted avg       0.99      0.98      0.98       199\n",
      "\n"
     ]
    }
   ],
   "source": [
    "print(classification_report(y_test,y_pred))"
   ]
  },
  {
   "cell_type": "code",
   "execution_count": 185,
   "metadata": {
    "ExecuteTime": {
     "end_time": "2021-02-11T11:49:03.786451Z",
     "start_time": "2021-02-11T11:49:03.385681Z"
    }
   },
   "outputs": [
    {
     "name": "stdout",
     "output_type": "stream",
     "text": [
      "List of possible accuracy: [0.9607843137254902, 0.9215686274509803, 0.92, 1.0, 0.94, 0.88, 0.94, 0.9, 0.96, 0.88, 0.98, 0.96]\n",
      "\n",
      "Maximum Accuracy That can be obtained from this model is: 100.0 %\n",
      "\n",
      "Minimum Accuracy: 88.0 %\n",
      "\n",
      "Average Accuracy That can be obtained from this model is:: 0.9368627450980392\n",
      "\n",
      " Median Accuracy That can be obtained from this model is:: 0.94\n",
      "\n",
      "Standard Deviation is: 0.03634739189547835\n"
     ]
    }
   ],
   "source": [
    "lst_accu_stratified = [] \n",
    "x=0\n",
    "feature_common=pd.DataFrame()\n",
    "for train_index, test_index in skf.split(X, y): \n",
    "    x_train_fold, x_test_fold = X.loc[train_index,:], X.loc[test_index,:] \n",
    "    y_train_fold, y_test_fold = y[train_index], y[test_index] \n",
    "    clf.fit(x_train_fold, y_train_fold)\n",
    "    feature_common[x]=feature_extract(clf,l1)\n",
    "    x+=1\n",
    "    lst_accu_stratified.append(clf.score(x_test_fold, y_test_fold))\n",
    "    \n",
    "    \n",
    "print('List of possible accuracy:', lst_accu_stratified) \n",
    "print('\\nMaximum Accuracy That can be obtained from this model is:', \n",
    "      max(lst_accu_stratified)*100, '%') \n",
    "print('\\nMinimum Accuracy:', \n",
    "      min(lst_accu_stratified)*100, '%') \n",
    "print('\\nAverage Accuracy That can be obtained from this model is::',np.mean(lst_accu_stratified)) \n",
    "print('\\n Median Accuracy That can be obtained from this model is::',np.median(lst_accu_stratified)) \n",
    "print('\\nStandard Deviation is:',np.std(lst_accu_stratified)) "
   ]
  },
  {
   "cell_type": "code",
   "execution_count": 186,
   "metadata": {
    "ExecuteTime": {
     "end_time": "2021-02-11T11:49:04.193547Z",
     "start_time": "2021-02-11T11:49:04.146555Z"
    },
    "scrolled": true
   },
   "outputs": [
    {
     "data": {
      "text/html": [
       "<div>\n",
       "<style scoped>\n",
       "    .dataframe tbody tr th:only-of-type {\n",
       "        vertical-align: middle;\n",
       "    }\n",
       "\n",
       "    .dataframe tbody tr th {\n",
       "        vertical-align: top;\n",
       "    }\n",
       "\n",
       "    .dataframe thead th {\n",
       "        text-align: right;\n",
       "    }\n",
       "</style>\n",
       "<table border=\"1\" class=\"dataframe\">\n",
       "  <thead>\n",
       "    <tr style=\"text-align: right;\">\n",
       "      <th></th>\n",
       "      <th>0</th>\n",
       "      <th>1</th>\n",
       "      <th>2</th>\n",
       "      <th>3</th>\n",
       "      <th>4</th>\n",
       "      <th>5</th>\n",
       "      <th>6</th>\n",
       "      <th>7</th>\n",
       "      <th>8</th>\n",
       "      <th>9</th>\n",
       "      <th>10</th>\n",
       "      <th>11</th>\n",
       "    </tr>\n",
       "  </thead>\n",
       "  <tbody>\n",
       "    <tr>\n",
       "      <th>0</th>\n",
       "      <td>Ease and convenient_Disagree</td>\n",
       "      <td>Ease and convenient_Disagree</td>\n",
       "      <td>Ease and convenient_Disagree</td>\n",
       "      <td>Ease and convenient_Disagree</td>\n",
       "      <td>Ease and convenient_Disagree</td>\n",
       "      <td>Ease and convenient_Disagree</td>\n",
       "      <td>Ease and convenient_Disagree</td>\n",
       "      <td>Ease and convenient_Disagree</td>\n",
       "      <td>Ease and convenient_Disagree</td>\n",
       "      <td>Ease and convenient_Disagree</td>\n",
       "      <td>Ease and convenient_Disagree</td>\n",
       "      <td>Ease and convenient_Disagree</td>\n",
       "    </tr>\n",
       "    <tr>\n",
       "      <th>1</th>\n",
       "      <td>Time saving_Disagree</td>\n",
       "      <td>More restaurant choices_Disagree</td>\n",
       "      <td>More restaurant choices_Disagree</td>\n",
       "      <td>More restaurant choices_Disagree</td>\n",
       "      <td>Time saving_Disagree</td>\n",
       "      <td>More restaurant choices_Disagree</td>\n",
       "      <td>More restaurant choices_Disagree</td>\n",
       "      <td>Time saving_Disagree</td>\n",
       "      <td>More restaurant choices_Disagree</td>\n",
       "      <td>More restaurant choices_Disagree</td>\n",
       "      <td>More restaurant choices_Disagree</td>\n",
       "      <td>Time saving_Disagree</td>\n",
       "    </tr>\n",
       "    <tr>\n",
       "      <th>2</th>\n",
       "      <td>Unaffordable_Agree</td>\n",
       "      <td>Unaffordable_Agree</td>\n",
       "      <td>Unaffordable_Agree</td>\n",
       "      <td>Unaffordable_Agree</td>\n",
       "      <td>Occupation_Employee</td>\n",
       "      <td>Unaffordable_Agree</td>\n",
       "      <td>Unaffordable_Agree</td>\n",
       "      <td>Unaffordable_Agree</td>\n",
       "      <td>Unaffordable_Agree</td>\n",
       "      <td>Unaffordable_Agree</td>\n",
       "      <td>Unaffordable_Agree</td>\n",
       "      <td>Unaffordable_Agree</td>\n",
       "    </tr>\n",
       "    <tr>\n",
       "      <th>3</th>\n",
       "      <td>Occupation_Employee</td>\n",
       "      <td>Occupation_Student</td>\n",
       "      <td>Occupation_Student</td>\n",
       "      <td>High Quality of package_Very Important</td>\n",
       "      <td>Unaffordable_Agree</td>\n",
       "      <td>High Quality of package_Very Important</td>\n",
       "      <td>High Quality of package_Very Important</td>\n",
       "      <td>Occupation_Employee</td>\n",
       "      <td>Occupation_Student</td>\n",
       "      <td>High Quality of package_Very Important</td>\n",
       "      <td>Occupation_Student</td>\n",
       "      <td>Occupation_Employee</td>\n",
       "    </tr>\n",
       "    <tr>\n",
       "      <th>4</th>\n",
       "      <td>Politeness_Very Important</td>\n",
       "      <td>High Quality of package_Very Important</td>\n",
       "      <td>High Quality of package_Very Important</td>\n",
       "      <td>Occupation_Student</td>\n",
       "      <td>Politeness_Very Important</td>\n",
       "      <td>Occupation_Student</td>\n",
       "      <td>Occupation_Student</td>\n",
       "      <td>Unavailability_Disagree</td>\n",
       "      <td>High Quality of package_Very Important</td>\n",
       "      <td>Occupation_Student</td>\n",
       "      <td>High Quality of package_Very Important</td>\n",
       "      <td>Politeness_Very Important</td>\n",
       "    </tr>\n",
       "    <tr>\n",
       "      <th>5</th>\n",
       "      <td>Good Food quality_Neutral</td>\n",
       "      <td>Unavailability_Disagree</td>\n",
       "      <td>Marital Status_Prefer not to say</td>\n",
       "      <td>Marital Status_Prefer not to say</td>\n",
       "      <td>More restaurant choices_Disagree</td>\n",
       "      <td>Unavailability_Disagree</td>\n",
       "      <td>Unavailability_Disagree</td>\n",
       "      <td>Good Food quality_Neutral</td>\n",
       "      <td>Marital Status_Prefer not to say</td>\n",
       "      <td>Bad past experience_Disagree</td>\n",
       "      <td>Marital Status_Prefer not to say</td>\n",
       "      <td>Educational Qualifications_Post Graduate</td>\n",
       "    </tr>\n",
       "    <tr>\n",
       "      <th>6</th>\n",
       "      <td>Unavailability_Disagree</td>\n",
       "      <td>Marital Status_Prefer not to say</td>\n",
       "      <td>Unavailability_Disagree</td>\n",
       "      <td>Unavailability_Disagree</td>\n",
       "      <td>Educational Qualifications_Post Graduate</td>\n",
       "      <td>Marital Status_Prefer not to say</td>\n",
       "      <td>Missing item_Strongly agree</td>\n",
       "      <td>More restaurant choices_Disagree</td>\n",
       "      <td>Unavailability_Disagree</td>\n",
       "      <td>Unavailability_Disagree</td>\n",
       "      <td>Unavailability_Disagree</td>\n",
       "      <td>More restaurant choices_Disagree</td>\n",
       "    </tr>\n",
       "    <tr>\n",
       "      <th>7</th>\n",
       "      <td>More restaurant choices_Disagree</td>\n",
       "      <td>Late Delivery_Disagree</td>\n",
       "      <td>Late Delivery_Disagree</td>\n",
       "      <td>Late Delivery_Disagree</td>\n",
       "      <td>Missing item_Strongly agree</td>\n",
       "      <td>Bad past experience_Disagree</td>\n",
       "      <td>Bad past experience_Disagree</td>\n",
       "      <td>Delay of delivery person picking up food_Disagree</td>\n",
       "      <td>Late Delivery_Disagree</td>\n",
       "      <td>Marital Status_Prefer not to say</td>\n",
       "      <td>Bad past experience_Disagree</td>\n",
       "      <td>Missing item_Strongly agree</td>\n",
       "    </tr>\n",
       "    <tr>\n",
       "      <th>8</th>\n",
       "      <td>Missing item_Strongly agree</td>\n",
       "      <td>Delay of delivery person getting assigned_Stro...</td>\n",
       "      <td>Missing item_Strongly agree</td>\n",
       "      <td>Missing item_Strongly agree</td>\n",
       "      <td>Late Delivery_Disagree</td>\n",
       "      <td>Residence in busy location_Neutral</td>\n",
       "      <td>Marital Status_Prefer not to say</td>\n",
       "      <td>Late Delivery_Agree</td>\n",
       "      <td>Bad past experience_Disagree</td>\n",
       "      <td>Missing item_Strongly agree</td>\n",
       "      <td>Late Delivery_Disagree</td>\n",
       "      <td>Unavailability_Disagree</td>\n",
       "    </tr>\n",
       "    <tr>\n",
       "      <th>9</th>\n",
       "      <td>Late Delivery_Disagree</td>\n",
       "      <td>Meal(P1)_Breakfast</td>\n",
       "      <td>Residence in busy location_Neutral</td>\n",
       "      <td>Bad past experience_Disagree</td>\n",
       "      <td>Unavailability_Disagree</td>\n",
       "      <td>Delivery person ability_Strongly Agree</td>\n",
       "      <td>High Quality of package_Important</td>\n",
       "      <td>Missing item_Strongly agree</td>\n",
       "      <td>Residence in busy location_Neutral</td>\n",
       "      <td>Maximum wait time_45 minutes</td>\n",
       "      <td>Missing item_Strongly agree</td>\n",
       "      <td>Late Delivery_Disagree</td>\n",
       "    </tr>\n",
       "    <tr>\n",
       "      <th>10</th>\n",
       "      <td>Educational Qualifications_Post Graduate</td>\n",
       "      <td>Delay of delivery person getting assigned_Disa...</td>\n",
       "      <td>Delivery person ability_Strongly Agree</td>\n",
       "      <td>Influence of time_Maybe</td>\n",
       "      <td>Order placed by mistake_Neutral</td>\n",
       "      <td>High Quality of package_Important</td>\n",
       "      <td>Residence in busy location_Neutral</td>\n",
       "      <td>Family size</td>\n",
       "      <td>Missing item_Strongly agree</td>\n",
       "      <td>Late Delivery_Disagree</td>\n",
       "      <td>Influence of time_Maybe</td>\n",
       "      <td>Good Food quality_Neutral</td>\n",
       "    </tr>\n",
       "    <tr>\n",
       "      <th>11</th>\n",
       "      <td>Delay of delivery person getting assigned_Agree</td>\n",
       "      <td>Residence in busy location_Neutral</td>\n",
       "      <td>Delay of delivery person getting assigned_Disa...</td>\n",
       "      <td>High Quality of package_Important</td>\n",
       "      <td>Order placed by mistake_Disagree</td>\n",
       "      <td>More restaurant choices_Agree</td>\n",
       "      <td>Late Delivery_Disagree</td>\n",
       "      <td>Less Delivery time_Moderately Important</td>\n",
       "      <td>High Quality of package_Important</td>\n",
       "      <td>High Quality of package_Important</td>\n",
       "      <td>High Quality of package_Important</td>\n",
       "      <td>Self Cooking_Agree</td>\n",
       "    </tr>\n",
       "  </tbody>\n",
       "</table>\n",
       "</div>"
      ],
      "text/plain": [
       "                                                 0   \\\n",
       "0                      Ease and convenient_Disagree   \n",
       "1                              Time saving_Disagree   \n",
       "2                                Unaffordable_Agree   \n",
       "3                               Occupation_Employee   \n",
       "4                         Politeness_Very Important   \n",
       "5                         Good Food quality_Neutral   \n",
       "6                           Unavailability_Disagree   \n",
       "7                  More restaurant choices_Disagree   \n",
       "8                       Missing item_Strongly agree   \n",
       "9                            Late Delivery_Disagree   \n",
       "10         Educational Qualifications_Post Graduate   \n",
       "11  Delay of delivery person getting assigned_Agree   \n",
       "\n",
       "                                                   1   \\\n",
       "0                        Ease and convenient_Disagree   \n",
       "1                    More restaurant choices_Disagree   \n",
       "2                                  Unaffordable_Agree   \n",
       "3                                  Occupation_Student   \n",
       "4              High Quality of package_Very Important   \n",
       "5                             Unavailability_Disagree   \n",
       "6                    Marital Status_Prefer not to say   \n",
       "7                              Late Delivery_Disagree   \n",
       "8   Delay of delivery person getting assigned_Stro...   \n",
       "9                                  Meal(P1)_Breakfast   \n",
       "10  Delay of delivery person getting assigned_Disa...   \n",
       "11                 Residence in busy location_Neutral   \n",
       "\n",
       "                                                   2   \\\n",
       "0                        Ease and convenient_Disagree   \n",
       "1                    More restaurant choices_Disagree   \n",
       "2                                  Unaffordable_Agree   \n",
       "3                                  Occupation_Student   \n",
       "4              High Quality of package_Very Important   \n",
       "5                    Marital Status_Prefer not to say   \n",
       "6                             Unavailability_Disagree   \n",
       "7                              Late Delivery_Disagree   \n",
       "8                         Missing item_Strongly agree   \n",
       "9                  Residence in busy location_Neutral   \n",
       "10             Delivery person ability_Strongly Agree   \n",
       "11  Delay of delivery person getting assigned_Disa...   \n",
       "\n",
       "                                        3   \\\n",
       "0             Ease and convenient_Disagree   \n",
       "1         More restaurant choices_Disagree   \n",
       "2                       Unaffordable_Agree   \n",
       "3   High Quality of package_Very Important   \n",
       "4                       Occupation_Student   \n",
       "5         Marital Status_Prefer not to say   \n",
       "6                  Unavailability_Disagree   \n",
       "7                   Late Delivery_Disagree   \n",
       "8              Missing item_Strongly agree   \n",
       "9             Bad past experience_Disagree   \n",
       "10                 Influence of time_Maybe   \n",
       "11       High Quality of package_Important   \n",
       "\n",
       "                                          4   \\\n",
       "0               Ease and convenient_Disagree   \n",
       "1                       Time saving_Disagree   \n",
       "2                        Occupation_Employee   \n",
       "3                         Unaffordable_Agree   \n",
       "4                  Politeness_Very Important   \n",
       "5           More restaurant choices_Disagree   \n",
       "6   Educational Qualifications_Post Graduate   \n",
       "7                Missing item_Strongly agree   \n",
       "8                     Late Delivery_Disagree   \n",
       "9                    Unavailability_Disagree   \n",
       "10           Order placed by mistake_Neutral   \n",
       "11          Order placed by mistake_Disagree   \n",
       "\n",
       "                                        5   \\\n",
       "0             Ease and convenient_Disagree   \n",
       "1         More restaurant choices_Disagree   \n",
       "2                       Unaffordable_Agree   \n",
       "3   High Quality of package_Very Important   \n",
       "4                       Occupation_Student   \n",
       "5                  Unavailability_Disagree   \n",
       "6         Marital Status_Prefer not to say   \n",
       "7             Bad past experience_Disagree   \n",
       "8       Residence in busy location_Neutral   \n",
       "9   Delivery person ability_Strongly Agree   \n",
       "10       High Quality of package_Important   \n",
       "11           More restaurant choices_Agree   \n",
       "\n",
       "                                        6   \\\n",
       "0             Ease and convenient_Disagree   \n",
       "1         More restaurant choices_Disagree   \n",
       "2                       Unaffordable_Agree   \n",
       "3   High Quality of package_Very Important   \n",
       "4                       Occupation_Student   \n",
       "5                  Unavailability_Disagree   \n",
       "6              Missing item_Strongly agree   \n",
       "7             Bad past experience_Disagree   \n",
       "8         Marital Status_Prefer not to say   \n",
       "9        High Quality of package_Important   \n",
       "10      Residence in busy location_Neutral   \n",
       "11                  Late Delivery_Disagree   \n",
       "\n",
       "                                                   7   \\\n",
       "0                        Ease and convenient_Disagree   \n",
       "1                                Time saving_Disagree   \n",
       "2                                  Unaffordable_Agree   \n",
       "3                                 Occupation_Employee   \n",
       "4                             Unavailability_Disagree   \n",
       "5                           Good Food quality_Neutral   \n",
       "6                    More restaurant choices_Disagree   \n",
       "7   Delay of delivery person picking up food_Disagree   \n",
       "8                                 Late Delivery_Agree   \n",
       "9                         Missing item_Strongly agree   \n",
       "10                                        Family size   \n",
       "11            Less Delivery time_Moderately Important   \n",
       "\n",
       "                                        8   \\\n",
       "0             Ease and convenient_Disagree   \n",
       "1         More restaurant choices_Disagree   \n",
       "2                       Unaffordable_Agree   \n",
       "3                       Occupation_Student   \n",
       "4   High Quality of package_Very Important   \n",
       "5         Marital Status_Prefer not to say   \n",
       "6                  Unavailability_Disagree   \n",
       "7                   Late Delivery_Disagree   \n",
       "8             Bad past experience_Disagree   \n",
       "9       Residence in busy location_Neutral   \n",
       "10             Missing item_Strongly agree   \n",
       "11       High Quality of package_Important   \n",
       "\n",
       "                                        9   \\\n",
       "0             Ease and convenient_Disagree   \n",
       "1         More restaurant choices_Disagree   \n",
       "2                       Unaffordable_Agree   \n",
       "3   High Quality of package_Very Important   \n",
       "4                       Occupation_Student   \n",
       "5             Bad past experience_Disagree   \n",
       "6                  Unavailability_Disagree   \n",
       "7         Marital Status_Prefer not to say   \n",
       "8              Missing item_Strongly agree   \n",
       "9             Maximum wait time_45 minutes   \n",
       "10                  Late Delivery_Disagree   \n",
       "11       High Quality of package_Important   \n",
       "\n",
       "                                        10  \\\n",
       "0             Ease and convenient_Disagree   \n",
       "1         More restaurant choices_Disagree   \n",
       "2                       Unaffordable_Agree   \n",
       "3                       Occupation_Student   \n",
       "4   High Quality of package_Very Important   \n",
       "5         Marital Status_Prefer not to say   \n",
       "6                  Unavailability_Disagree   \n",
       "7             Bad past experience_Disagree   \n",
       "8                   Late Delivery_Disagree   \n",
       "9              Missing item_Strongly agree   \n",
       "10                 Influence of time_Maybe   \n",
       "11       High Quality of package_Important   \n",
       "\n",
       "                                          11  \n",
       "0               Ease and convenient_Disagree  \n",
       "1                       Time saving_Disagree  \n",
       "2                         Unaffordable_Agree  \n",
       "3                        Occupation_Employee  \n",
       "4                  Politeness_Very Important  \n",
       "5   Educational Qualifications_Post Graduate  \n",
       "6           More restaurant choices_Disagree  \n",
       "7                Missing item_Strongly agree  \n",
       "8                    Unavailability_Disagree  \n",
       "9                     Late Delivery_Disagree  \n",
       "10                 Good Food quality_Neutral  \n",
       "11                        Self Cooking_Agree  "
      ]
     },
     "execution_count": 186,
     "metadata": {},
     "output_type": "execute_result"
    }
   ],
   "source": [
    "feature_common"
   ]
  },
  {
   "cell_type": "code",
   "execution_count": 191,
   "metadata": {
    "ExecuteTime": {
     "end_time": "2021-02-11T11:50:30.988219Z",
     "start_time": "2021-02-11T11:50:30.982222Z"
    }
   },
   "outputs": [],
   "source": [
    "l2=feature_extract(clf,l1)"
   ]
  },
  {
   "cell_type": "code",
   "execution_count": 195,
   "metadata": {
    "ExecuteTime": {
     "end_time": "2021-02-11T11:52:22.315677Z",
     "start_time": "2021-02-11T11:52:22.308679Z"
    }
   },
   "outputs": [],
   "source": [
    "relation_between_feature=pd.DataFrame(index=l2)"
   ]
  },
  {
   "cell_type": "code",
   "execution_count": 196,
   "metadata": {
    "ExecuteTime": {
     "end_time": "2021-02-11T11:52:23.187421Z",
     "start_time": "2021-02-11T11:52:23.177428Z"
    },
    "scrolled": false
   },
   "outputs": [
    {
     "data": {
      "text/html": [
       "<div>\n",
       "<style scoped>\n",
       "    .dataframe tbody tr th:only-of-type {\n",
       "        vertical-align: middle;\n",
       "    }\n",
       "\n",
       "    .dataframe tbody tr th {\n",
       "        vertical-align: top;\n",
       "    }\n",
       "\n",
       "    .dataframe thead th {\n",
       "        text-align: right;\n",
       "    }\n",
       "</style>\n",
       "<table border=\"1\" class=\"dataframe\">\n",
       "  <thead>\n",
       "    <tr style=\"text-align: right;\">\n",
       "      <th></th>\n",
       "    </tr>\n",
       "  </thead>\n",
       "  <tbody>\n",
       "    <tr>\n",
       "      <th>Ease and convenient_Disagree</th>\n",
       "    </tr>\n",
       "    <tr>\n",
       "      <th>Time saving_Disagree</th>\n",
       "    </tr>\n",
       "    <tr>\n",
       "      <th>Unaffordable_Agree</th>\n",
       "    </tr>\n",
       "    <tr>\n",
       "      <th>Occupation_Employee</th>\n",
       "    </tr>\n",
       "    <tr>\n",
       "      <th>Politeness_Very Important</th>\n",
       "    </tr>\n",
       "  </tbody>\n",
       "</table>\n",
       "</div>"
      ],
      "text/plain": [
       "Empty DataFrame\n",
       "Columns: []\n",
       "Index: [Ease and convenient_Disagree, Time saving_Disagree, Unaffordable_Agree, Occupation_Employee, Politeness_Very Important]"
      ]
     },
     "execution_count": 196,
     "metadata": {},
     "output_type": "execute_result"
    }
   ],
   "source": [
    "relation_between_feature.head()"
   ]
  },
  {
   "cell_type": "code",
   "execution_count": 217,
   "metadata": {
    "ExecuteTime": {
     "end_time": "2021-02-11T12:29:41.039548Z",
     "start_time": "2021-02-11T12:29:41.006549Z"
    }
   },
   "outputs": [
    {
     "data": {
      "text/html": [
       "<div>\n",
       "<style scoped>\n",
       "    .dataframe tbody tr th:only-of-type {\n",
       "        vertical-align: middle;\n",
       "    }\n",
       "\n",
       "    .dataframe tbody tr th {\n",
       "        vertical-align: top;\n",
       "    }\n",
       "\n",
       "    .dataframe thead th {\n",
       "        text-align: right;\n",
       "    }\n",
       "</style>\n",
       "<table border=\"1\" class=\"dataframe\">\n",
       "  <thead>\n",
       "    <tr style=\"text-align: right;\">\n",
       "      <th></th>\n",
       "      <th>Ease and convenient_Disagree</th>\n",
       "      <th>Time saving_Disagree</th>\n",
       "      <th>Unaffordable_Agree</th>\n",
       "      <th>Occupation_Employee</th>\n",
       "      <th>Politeness_Very Important</th>\n",
       "      <th>Educational Qualifications_Post Graduate</th>\n",
       "      <th>More restaurant choices_Disagree</th>\n",
       "      <th>Missing item_Strongly agree</th>\n",
       "      <th>Unavailability_Disagree</th>\n",
       "      <th>Late Delivery_Disagree</th>\n",
       "      <th>Good Food quality_Neutral</th>\n",
       "      <th>Self Cooking_Agree</th>\n",
       "    </tr>\n",
       "  </thead>\n",
       "  <tbody>\n",
       "    <tr>\n",
       "      <th>0</th>\n",
       "      <td>0</td>\n",
       "      <td>0</td>\n",
       "      <td>0</td>\n",
       "      <td>0</td>\n",
       "      <td>0</td>\n",
       "      <td>1</td>\n",
       "      <td>0</td>\n",
       "      <td>0</td>\n",
       "      <td>0</td>\n",
       "      <td>0</td>\n",
       "      <td>1</td>\n",
       "      <td>0</td>\n",
       "    </tr>\n",
       "    <tr>\n",
       "      <th>1</th>\n",
       "      <td>0</td>\n",
       "      <td>0</td>\n",
       "      <td>0</td>\n",
       "      <td>0</td>\n",
       "      <td>1</td>\n",
       "      <td>0</td>\n",
       "      <td>0</td>\n",
       "      <td>1</td>\n",
       "      <td>0</td>\n",
       "      <td>0</td>\n",
       "      <td>1</td>\n",
       "      <td>0</td>\n",
       "    </tr>\n",
       "    <tr>\n",
       "      <th>2</th>\n",
       "      <td>0</td>\n",
       "      <td>0</td>\n",
       "      <td>1</td>\n",
       "      <td>0</td>\n",
       "      <td>1</td>\n",
       "      <td>1</td>\n",
       "      <td>0</td>\n",
       "      <td>0</td>\n",
       "      <td>0</td>\n",
       "      <td>0</td>\n",
       "      <td>0</td>\n",
       "      <td>0</td>\n",
       "    </tr>\n",
       "    <tr>\n",
       "      <th>3</th>\n",
       "      <td>0</td>\n",
       "      <td>0</td>\n",
       "      <td>0</td>\n",
       "      <td>0</td>\n",
       "      <td>1</td>\n",
       "      <td>0</td>\n",
       "      <td>0</td>\n",
       "      <td>0</td>\n",
       "      <td>1</td>\n",
       "      <td>0</td>\n",
       "      <td>0</td>\n",
       "      <td>1</td>\n",
       "    </tr>\n",
       "    <tr>\n",
       "      <th>4</th>\n",
       "      <td>0</td>\n",
       "      <td>0</td>\n",
       "      <td>0</td>\n",
       "      <td>0</td>\n",
       "      <td>0</td>\n",
       "      <td>1</td>\n",
       "      <td>0</td>\n",
       "      <td>0</td>\n",
       "      <td>0</td>\n",
       "      <td>0</td>\n",
       "      <td>1</td>\n",
       "      <td>1</td>\n",
       "    </tr>\n",
       "    <tr>\n",
       "      <th>...</th>\n",
       "      <td>...</td>\n",
       "      <td>...</td>\n",
       "      <td>...</td>\n",
       "      <td>...</td>\n",
       "      <td>...</td>\n",
       "      <td>...</td>\n",
       "      <td>...</td>\n",
       "      <td>...</td>\n",
       "      <td>...</td>\n",
       "      <td>...</td>\n",
       "      <td>...</td>\n",
       "      <td>...</td>\n",
       "    </tr>\n",
       "    <tr>\n",
       "      <th>597</th>\n",
       "      <td>1</td>\n",
       "      <td>1</td>\n",
       "      <td>0</td>\n",
       "      <td>0</td>\n",
       "      <td>1</td>\n",
       "      <td>1</td>\n",
       "      <td>0</td>\n",
       "      <td>1</td>\n",
       "      <td>0</td>\n",
       "      <td>0</td>\n",
       "      <td>0</td>\n",
       "      <td>1</td>\n",
       "    </tr>\n",
       "    <tr>\n",
       "      <th>598</th>\n",
       "      <td>0</td>\n",
       "      <td>0</td>\n",
       "      <td>1</td>\n",
       "      <td>1</td>\n",
       "      <td>0</td>\n",
       "      <td>0</td>\n",
       "      <td>0</td>\n",
       "      <td>0</td>\n",
       "      <td>1</td>\n",
       "      <td>0</td>\n",
       "      <td>0</td>\n",
       "      <td>1</td>\n",
       "    </tr>\n",
       "    <tr>\n",
       "      <th>599</th>\n",
       "      <td>1</td>\n",
       "      <td>0</td>\n",
       "      <td>0</td>\n",
       "      <td>1</td>\n",
       "      <td>1</td>\n",
       "      <td>0</td>\n",
       "      <td>1</td>\n",
       "      <td>0</td>\n",
       "      <td>1</td>\n",
       "      <td>0</td>\n",
       "      <td>0</td>\n",
       "      <td>1</td>\n",
       "    </tr>\n",
       "    <tr>\n",
       "      <th>600</th>\n",
       "      <td>1</td>\n",
       "      <td>0</td>\n",
       "      <td>1</td>\n",
       "      <td>0</td>\n",
       "      <td>0</td>\n",
       "      <td>0</td>\n",
       "      <td>1</td>\n",
       "      <td>0</td>\n",
       "      <td>0</td>\n",
       "      <td>0</td>\n",
       "      <td>1</td>\n",
       "      <td>1</td>\n",
       "    </tr>\n",
       "    <tr>\n",
       "      <th>601</th>\n",
       "      <td>1</td>\n",
       "      <td>1</td>\n",
       "      <td>1</td>\n",
       "      <td>0</td>\n",
       "      <td>0</td>\n",
       "      <td>0</td>\n",
       "      <td>0</td>\n",
       "      <td>0</td>\n",
       "      <td>0</td>\n",
       "      <td>0</td>\n",
       "      <td>1</td>\n",
       "      <td>1</td>\n",
       "    </tr>\n",
       "  </tbody>\n",
       "</table>\n",
       "<p>602 rows × 12 columns</p>\n",
       "</div>"
      ],
      "text/plain": [
       "     Ease and convenient_Disagree  Time saving_Disagree  Unaffordable_Agree  \\\n",
       "0                               0                     0                   0   \n",
       "1                               0                     0                   0   \n",
       "2                               0                     0                   1   \n",
       "3                               0                     0                   0   \n",
       "4                               0                     0                   0   \n",
       "..                            ...                   ...                 ...   \n",
       "597                             1                     1                   0   \n",
       "598                             0                     0                   1   \n",
       "599                             1                     0                   0   \n",
       "600                             1                     0                   1   \n",
       "601                             1                     1                   1   \n",
       "\n",
       "     Occupation_Employee  Politeness_Very Important  \\\n",
       "0                      0                          0   \n",
       "1                      0                          1   \n",
       "2                      0                          1   \n",
       "3                      0                          1   \n",
       "4                      0                          0   \n",
       "..                   ...                        ...   \n",
       "597                    0                          1   \n",
       "598                    1                          0   \n",
       "599                    1                          1   \n",
       "600                    0                          0   \n",
       "601                    0                          0   \n",
       "\n",
       "     Educational Qualifications_Post Graduate  \\\n",
       "0                                           1   \n",
       "1                                           0   \n",
       "2                                           1   \n",
       "3                                           0   \n",
       "4                                           1   \n",
       "..                                        ...   \n",
       "597                                         1   \n",
       "598                                         0   \n",
       "599                                         0   \n",
       "600                                         0   \n",
       "601                                         0   \n",
       "\n",
       "     More restaurant choices_Disagree  Missing item_Strongly agree  \\\n",
       "0                                   0                            0   \n",
       "1                                   0                            1   \n",
       "2                                   0                            0   \n",
       "3                                   0                            0   \n",
       "4                                   0                            0   \n",
       "..                                ...                          ...   \n",
       "597                                 0                            1   \n",
       "598                                 0                            0   \n",
       "599                                 1                            0   \n",
       "600                                 1                            0   \n",
       "601                                 0                            0   \n",
       "\n",
       "     Unavailability_Disagree  Late Delivery_Disagree  \\\n",
       "0                          0                       0   \n",
       "1                          0                       0   \n",
       "2                          0                       0   \n",
       "3                          1                       0   \n",
       "4                          0                       0   \n",
       "..                       ...                     ...   \n",
       "597                        0                       0   \n",
       "598                        1                       0   \n",
       "599                        1                       0   \n",
       "600                        0                       0   \n",
       "601                        0                       0   \n",
       "\n",
       "     Good Food quality_Neutral  Self Cooking_Agree  \n",
       "0                            1                   0  \n",
       "1                            1                   0  \n",
       "2                            0                   0  \n",
       "3                            0                   1  \n",
       "4                            1                   1  \n",
       "..                         ...                 ...  \n",
       "597                          0                   1  \n",
       "598                          0                   1  \n",
       "599                          0                   1  \n",
       "600                          1                   1  \n",
       "601                          1                   1  \n",
       "\n",
       "[602 rows x 12 columns]"
      ]
     },
     "execution_count": 217,
     "metadata": {},
     "output_type": "execute_result"
    }
   ],
   "source": [
    "X[l2]"
   ]
  },
  {
   "cell_type": "code",
   "execution_count": 205,
   "metadata": {
    "ExecuteTime": {
     "end_time": "2021-02-11T11:57:15.035907Z",
     "start_time": "2021-02-11T11:57:12.026627Z"
    }
   },
   "outputs": [
    {
     "data": {
      "text/plain": [
       "[0.48486266124997,\n",
       " 0.32513981856363455,\n",
       " 0.20054866828147555,\n",
       " 0.1057011288645751,\n",
       " 0.17497938643286493,\n",
       " 0.11799240790966499,\n",
       " 0.2515834771824919,\n",
       " 0.03827867727400312,\n",
       " 0.10597895269362478,\n",
       " 0.02918532256206371,\n",
       " 0.014150426982487564,\n",
       " 0.9966630081706412]"
      ]
     },
     "execution_count": 205,
     "metadata": {},
     "output_type": "execute_result"
    }
   ],
   "source": [
    "\n",
    "for i in l2:\n",
    "    l1=[]\n",
    "    for j in l2:\n",
    "        df_t=pd.crosstab(X[j],X[i])\n",
    "        stat, p, dof, expected = st.chi2_contingency(df_t,correction=True)\n",
    "        t=min(df_t.shape)-1\n",
    "        deno=sum(df_t.sum())\n",
    "        x=np.sqrt(stat / deno)\n",
    "        l1.append(x)\n",
    "    relation_between_feature[i]=l1\n",
    "    \n",
    "\n",
    "\n",
    "\n",
    "        \n"
   ]
  },
  {
   "cell_type": "code",
   "execution_count": 207,
   "metadata": {
    "ExecuteTime": {
     "end_time": "2021-02-11T11:58:32.584766Z",
     "start_time": "2021-02-11T11:57:45.263014Z"
    }
   },
   "outputs": [
    {
     "data": {
      "text/plain": [
       "<seaborn.axisgrid.PairGrid at 0x17fd91bf688>"
      ]
     },
     "execution_count": 207,
     "metadata": {},
     "output_type": "execute_result"
    },
    {
     "data": {
      "image/png": "[encoded data removed]",
      "text/plain": [
       "<Figure size 2160x2160 with 156 Axes>"
      ]
     },
     "metadata": {
      "needs_background": "light"
     },
     "output_type": "display_data"
    }
   ],
   "source": [
    "sns.pairplot(relation_between_feature)"
   ]
  },
  {
   "cell_type": "code",
   "execution_count": 211,
   "metadata": {
    "ExecuteTime": {
     "end_time": "2021-02-11T12:00:03.863530Z",
     "start_time": "2021-02-11T12:00:03.819556Z"
    },
    "scrolled": true
   },
   "outputs": [
    {
     "data": {
      "text/html": [
       "<div>\n",
       "<style scoped>\n",
       "    .dataframe tbody tr th:only-of-type {\n",
       "        vertical-align: middle;\n",
       "    }\n",
       "\n",
       "    .dataframe tbody tr th {\n",
       "        vertical-align: top;\n",
       "    }\n",
       "\n",
       "    .dataframe thead th {\n",
       "        text-align: right;\n",
       "    }\n",
       "</style>\n",
       "<table border=\"1\" class=\"dataframe\">\n",
       "  <thead>\n",
       "    <tr style=\"text-align: right;\">\n",
       "      <th></th>\n",
       "      <th>Ease and convenient_Disagree</th>\n",
       "      <th>Time saving_Disagree</th>\n",
       "      <th>Unaffordable_Agree</th>\n",
       "      <th>Occupation_Employee</th>\n",
       "      <th>Politeness_Very Important</th>\n",
       "      <th>Educational Qualifications_Post Graduate</th>\n",
       "      <th>More restaurant choices_Disagree</th>\n",
       "      <th>Missing item_Strongly agree</th>\n",
       "      <th>Unavailability_Disagree</th>\n",
       "      <th>Late Delivery_Disagree</th>\n",
       "      <th>Good Food quality_Neutral</th>\n",
       "      <th>Self Cooking_Agree</th>\n",
       "    </tr>\n",
       "  </thead>\n",
       "  <tbody>\n",
       "    <tr>\n",
       "      <th>Ease and convenient_Disagree</th>\n",
       "      <td>0.996197</td>\n",
       "      <td>0.559249</td>\n",
       "      <td>0.191517</td>\n",
       "      <td>0.134951</td>\n",
       "      <td>0.024017</td>\n",
       "      <td>0.159753</td>\n",
       "      <td>0.417534</td>\n",
       "      <td>0.000784</td>\n",
       "      <td>0.108541</td>\n",
       "      <td>0.055679</td>\n",
       "      <td>0.051766</td>\n",
       "      <td>0.484863</td>\n",
       "    </tr>\n",
       "    <tr>\n",
       "      <th>Time saving_Disagree</th>\n",
       "      <td>0.559249</td>\n",
       "      <td>0.996133</td>\n",
       "      <td>0.204918</td>\n",
       "      <td>0.092631</td>\n",
       "      <td>0.144837</td>\n",
       "      <td>0.195426</td>\n",
       "      <td>0.432623</td>\n",
       "      <td>0.066949</td>\n",
       "      <td>0.011278</td>\n",
       "      <td>0.163718</td>\n",
       "      <td>0.182592</td>\n",
       "      <td>0.325140</td>\n",
       "    </tr>\n",
       "    <tr>\n",
       "      <th>Unaffordable_Agree</th>\n",
       "      <td>0.191517</td>\n",
       "      <td>0.204918</td>\n",
       "      <td>0.995323</td>\n",
       "      <td>0.034156</td>\n",
       "      <td>0.001349</td>\n",
       "      <td>0.085151</td>\n",
       "      <td>0.012559</td>\n",
       "      <td>0.065431</td>\n",
       "      <td>0.233300</td>\n",
       "      <td>0.084670</td>\n",
       "      <td>0.000184</td>\n",
       "      <td>0.200549</td>\n",
       "    </tr>\n",
       "    <tr>\n",
       "      <th>Occupation_Employee</th>\n",
       "      <td>0.134951</td>\n",
       "      <td>0.092631</td>\n",
       "      <td>0.034156</td>\n",
       "      <td>0.996404</td>\n",
       "      <td>0.140637</td>\n",
       "      <td>0.214396</td>\n",
       "      <td>0.137665</td>\n",
       "      <td>0.027978</td>\n",
       "      <td>0.118097</td>\n",
       "      <td>0.003514</td>\n",
       "      <td>0.105143</td>\n",
       "      <td>0.105701</td>\n",
       "    </tr>\n",
       "    <tr>\n",
       "      <th>Politeness_Very Important</th>\n",
       "      <td>0.024017</td>\n",
       "      <td>0.144837</td>\n",
       "      <td>0.001349</td>\n",
       "      <td>0.140637</td>\n",
       "      <td>0.996404</td>\n",
       "      <td>0.079679</td>\n",
       "      <td>0.187385</td>\n",
       "      <td>0.149903</td>\n",
       "      <td>0.060734</td>\n",
       "      <td>0.090496</td>\n",
       "      <td>0.137474</td>\n",
       "      <td>0.174979</td>\n",
       "    </tr>\n",
       "    <tr>\n",
       "      <th>Educational Qualifications_Post Graduate</th>\n",
       "      <td>0.159753</td>\n",
       "      <td>0.195426</td>\n",
       "      <td>0.085151</td>\n",
       "      <td>0.214396</td>\n",
       "      <td>0.079679</td>\n",
       "      <td>0.996505</td>\n",
       "      <td>0.163203</td>\n",
       "      <td>0.105295</td>\n",
       "      <td>0.045272</td>\n",
       "      <td>0.090796</td>\n",
       "      <td>0.224240</td>\n",
       "      <td>0.117992</td>\n",
       "    </tr>\n",
       "    <tr>\n",
       "      <th>More restaurant choices_Disagree</th>\n",
       "      <td>0.417534</td>\n",
       "      <td>0.432623</td>\n",
       "      <td>0.012559</td>\n",
       "      <td>0.137665</td>\n",
       "      <td>0.187385</td>\n",
       "      <td>0.163203</td>\n",
       "      <td>0.995226</td>\n",
       "      <td>0.005645</td>\n",
       "      <td>0.057344</td>\n",
       "      <td>0.067732</td>\n",
       "      <td>0.195745</td>\n",
       "      <td>0.251583</td>\n",
       "    </tr>\n",
       "    <tr>\n",
       "      <th>Missing item_Strongly agree</th>\n",
       "      <td>0.000784</td>\n",
       "      <td>0.066949</td>\n",
       "      <td>0.065431</td>\n",
       "      <td>0.027978</td>\n",
       "      <td>0.149903</td>\n",
       "      <td>0.105295</td>\n",
       "      <td>0.005645</td>\n",
       "      <td>0.993906</td>\n",
       "      <td>0.079130</td>\n",
       "      <td>0.028035</td>\n",
       "      <td>0.125171</td>\n",
       "      <td>0.038279</td>\n",
       "    </tr>\n",
       "    <tr>\n",
       "      <th>Unavailability_Disagree</th>\n",
       "      <td>0.108541</td>\n",
       "      <td>0.011278</td>\n",
       "      <td>0.233300</td>\n",
       "      <td>0.118097</td>\n",
       "      <td>0.060734</td>\n",
       "      <td>0.045272</td>\n",
       "      <td>0.057344</td>\n",
       "      <td>0.079130</td>\n",
       "      <td>0.996425</td>\n",
       "      <td>0.038522</td>\n",
       "      <td>0.126780</td>\n",
       "      <td>0.105979</td>\n",
       "    </tr>\n",
       "    <tr>\n",
       "      <th>Late Delivery_Disagree</th>\n",
       "      <td>0.055679</td>\n",
       "      <td>0.163718</td>\n",
       "      <td>0.084670</td>\n",
       "      <td>0.003514</td>\n",
       "      <td>0.090496</td>\n",
       "      <td>0.090796</td>\n",
       "      <td>0.067732</td>\n",
       "      <td>0.028035</td>\n",
       "      <td>0.038522</td>\n",
       "      <td>0.993855</td>\n",
       "      <td>0.072525</td>\n",
       "      <td>0.029185</td>\n",
       "    </tr>\n",
       "    <tr>\n",
       "      <th>Good Food quality_Neutral</th>\n",
       "      <td>0.051766</td>\n",
       "      <td>0.182592</td>\n",
       "      <td>0.000184</td>\n",
       "      <td>0.105143</td>\n",
       "      <td>0.137474</td>\n",
       "      <td>0.224240</td>\n",
       "      <td>0.195745</td>\n",
       "      <td>0.125171</td>\n",
       "      <td>0.126780</td>\n",
       "      <td>0.072525</td>\n",
       "      <td>0.995458</td>\n",
       "      <td>0.014150</td>\n",
       "    </tr>\n",
       "    <tr>\n",
       "      <th>Self Cooking_Agree</th>\n",
       "      <td>0.484863</td>\n",
       "      <td>0.325140</td>\n",
       "      <td>0.200549</td>\n",
       "      <td>0.105701</td>\n",
       "      <td>0.174979</td>\n",
       "      <td>0.117992</td>\n",
       "      <td>0.251583</td>\n",
       "      <td>0.038279</td>\n",
       "      <td>0.105979</td>\n",
       "      <td>0.029185</td>\n",
       "      <td>0.014150</td>\n",
       "      <td>0.996663</td>\n",
       "    </tr>\n",
       "  </tbody>\n",
       "</table>\n",
       "</div>"
      ],
      "text/plain": [
       "                                          Ease and convenient_Disagree  \\\n",
       "Ease and convenient_Disagree                                  0.996197   \n",
       "Time saving_Disagree                                          0.559249   \n",
       "Unaffordable_Agree                                            0.191517   \n",
       "Occupation_Employee                                           0.134951   \n",
       "Politeness_Very Important                                     0.024017   \n",
       "Educational Qualifications_Post Graduate                      0.159753   \n",
       "More restaurant choices_Disagree                              0.417534   \n",
       "Missing item_Strongly agree                                   0.000784   \n",
       "Unavailability_Disagree                                       0.108541   \n",
       "Late Delivery_Disagree                                        0.055679   \n",
       "Good Food quality_Neutral                                     0.051766   \n",
       "Self Cooking_Agree                                            0.484863   \n",
       "\n",
       "                                          Time saving_Disagree  \\\n",
       "Ease and convenient_Disagree                          0.559249   \n",
       "Time saving_Disagree                                  0.996133   \n",
       "Unaffordable_Agree                                    0.204918   \n",
       "Occupation_Employee                                   0.092631   \n",
       "Politeness_Very Important                             0.144837   \n",
       "Educational Qualifications_Post Graduate              0.195426   \n",
       "More restaurant choices_Disagree                      0.432623   \n",
       "Missing item_Strongly agree                           0.066949   \n",
       "Unavailability_Disagree                               0.011278   \n",
       "Late Delivery_Disagree                                0.163718   \n",
       "Good Food quality_Neutral                             0.182592   \n",
       "Self Cooking_Agree                                    0.325140   \n",
       "\n",
       "                                          Unaffordable_Agree  \\\n",
       "Ease and convenient_Disagree                        0.191517   \n",
       "Time saving_Disagree                                0.204918   \n",
       "Unaffordable_Agree                                  0.995323   \n",
       "Occupation_Employee                                 0.034156   \n",
       "Politeness_Very Important                           0.001349   \n",
       "Educational Qualifications_Post Graduate            0.085151   \n",
       "More restaurant choices_Disagree                    0.012559   \n",
       "Missing item_Strongly agree                         0.065431   \n",
       "Unavailability_Disagree                             0.233300   \n",
       "Late Delivery_Disagree                              0.084670   \n",
       "Good Food quality_Neutral                           0.000184   \n",
       "Self Cooking_Agree                                  0.200549   \n",
       "\n",
       "                                          Occupation_Employee  \\\n",
       "Ease and convenient_Disagree                         0.134951   \n",
       "Time saving_Disagree                                 0.092631   \n",
       "Unaffordable_Agree                                   0.034156   \n",
       "Occupation_Employee                                  0.996404   \n",
       "Politeness_Very Important                            0.140637   \n",
       "Educational Qualifications_Post Graduate             0.214396   \n",
       "More restaurant choices_Disagree                     0.137665   \n",
       "Missing item_Strongly agree                          0.027978   \n",
       "Unavailability_Disagree                              0.118097   \n",
       "Late Delivery_Disagree                               0.003514   \n",
       "Good Food quality_Neutral                            0.105143   \n",
       "Self Cooking_Agree                                   0.105701   \n",
       "\n",
       "                                          Politeness_Very Important  \\\n",
       "Ease and convenient_Disagree                               0.024017   \n",
       "Time saving_Disagree                                       0.144837   \n",
       "Unaffordable_Agree                                         0.001349   \n",
       "Occupation_Employee                                        0.140637   \n",
       "Politeness_Very Important                                  0.996404   \n",
       "Educational Qualifications_Post Graduate                   0.079679   \n",
       "More restaurant choices_Disagree                           0.187385   \n",
       "Missing item_Strongly agree                                0.149903   \n",
       "Unavailability_Disagree                                    0.060734   \n",
       "Late Delivery_Disagree                                     0.090496   \n",
       "Good Food quality_Neutral                                  0.137474   \n",
       "Self Cooking_Agree                                         0.174979   \n",
       "\n",
       "                                          Educational Qualifications_Post Graduate  \\\n",
       "Ease and convenient_Disagree                                              0.159753   \n",
       "Time saving_Disagree                                                      0.195426   \n",
       "Unaffordable_Agree                                                        0.085151   \n",
       "Occupation_Employee                                                       0.214396   \n",
       "Politeness_Very Important                                                 0.079679   \n",
       "Educational Qualifications_Post Graduate                                  0.996505   \n",
       "More restaurant choices_Disagree                                          0.163203   \n",
       "Missing item_Strongly agree                                               0.105295   \n",
       "Unavailability_Disagree                                                   0.045272   \n",
       "Late Delivery_Disagree                                                    0.090796   \n",
       "Good Food quality_Neutral                                                 0.224240   \n",
       "Self Cooking_Agree                                                        0.117992   \n",
       "\n",
       "                                          More restaurant choices_Disagree  \\\n",
       "Ease and convenient_Disagree                                      0.417534   \n",
       "Time saving_Disagree                                              0.432623   \n",
       "Unaffordable_Agree                                                0.012559   \n",
       "Occupation_Employee                                               0.137665   \n",
       "Politeness_Very Important                                         0.187385   \n",
       "Educational Qualifications_Post Graduate                          0.163203   \n",
       "More restaurant choices_Disagree                                  0.995226   \n",
       "Missing item_Strongly agree                                       0.005645   \n",
       "Unavailability_Disagree                                           0.057344   \n",
       "Late Delivery_Disagree                                            0.067732   \n",
       "Good Food quality_Neutral                                         0.195745   \n",
       "Self Cooking_Agree                                                0.251583   \n",
       "\n",
       "                                          Missing item_Strongly agree  \\\n",
       "Ease and convenient_Disagree                                 0.000784   \n",
       "Time saving_Disagree                                         0.066949   \n",
       "Unaffordable_Agree                                           0.065431   \n",
       "Occupation_Employee                                          0.027978   \n",
       "Politeness_Very Important                                    0.149903   \n",
       "Educational Qualifications_Post Graduate                     0.105295   \n",
       "More restaurant choices_Disagree                             0.005645   \n",
       "Missing item_Strongly agree                                  0.993906   \n",
       "Unavailability_Disagree                                      0.079130   \n",
       "Late Delivery_Disagree                                       0.028035   \n",
       "Good Food quality_Neutral                                    0.125171   \n",
       "Self Cooking_Agree                                           0.038279   \n",
       "\n",
       "                                          Unavailability_Disagree  \\\n",
       "Ease and convenient_Disagree                             0.108541   \n",
       "Time saving_Disagree                                     0.011278   \n",
       "Unaffordable_Agree                                       0.233300   \n",
       "Occupation_Employee                                      0.118097   \n",
       "Politeness_Very Important                                0.060734   \n",
       "Educational Qualifications_Post Graduate                 0.045272   \n",
       "More restaurant choices_Disagree                         0.057344   \n",
       "Missing item_Strongly agree                              0.079130   \n",
       "Unavailability_Disagree                                  0.996425   \n",
       "Late Delivery_Disagree                                   0.038522   \n",
       "Good Food quality_Neutral                                0.126780   \n",
       "Self Cooking_Agree                                       0.105979   \n",
       "\n",
       "                                          Late Delivery_Disagree  \\\n",
       "Ease and convenient_Disagree                            0.055679   \n",
       "Time saving_Disagree                                    0.163718   \n",
       "Unaffordable_Agree                                      0.084670   \n",
       "Occupation_Employee                                     0.003514   \n",
       "Politeness_Very Important                               0.090496   \n",
       "Educational Qualifications_Post Graduate                0.090796   \n",
       "More restaurant choices_Disagree                        0.067732   \n",
       "Missing item_Strongly agree                             0.028035   \n",
       "Unavailability_Disagree                                 0.038522   \n",
       "Late Delivery_Disagree                                  0.993855   \n",
       "Good Food quality_Neutral                               0.072525   \n",
       "Self Cooking_Agree                                      0.029185   \n",
       "\n",
       "                                          Good Food quality_Neutral  \\\n",
       "Ease and convenient_Disagree                               0.051766   \n",
       "Time saving_Disagree                                       0.182592   \n",
       "Unaffordable_Agree                                         0.000184   \n",
       "Occupation_Employee                                        0.105143   \n",
       "Politeness_Very Important                                  0.137474   \n",
       "Educational Qualifications_Post Graduate                   0.224240   \n",
       "More restaurant choices_Disagree                           0.195745   \n",
       "Missing item_Strongly agree                                0.125171   \n",
       "Unavailability_Disagree                                    0.126780   \n",
       "Late Delivery_Disagree                                     0.072525   \n",
       "Good Food quality_Neutral                                  0.995458   \n",
       "Self Cooking_Agree                                         0.014150   \n",
       "\n",
       "                                          Self Cooking_Agree  \n",
       "Ease and convenient_Disagree                        0.484863  \n",
       "Time saving_Disagree                                0.325140  \n",
       "Unaffordable_Agree                                  0.200549  \n",
       "Occupation_Employee                                 0.105701  \n",
       "Politeness_Very Important                           0.174979  \n",
       "Educational Qualifications_Post Graduate            0.117992  \n",
       "More restaurant choices_Disagree                    0.251583  \n",
       "Missing item_Strongly agree                         0.038279  \n",
       "Unavailability_Disagree                             0.105979  \n",
       "Late Delivery_Disagree                              0.029185  \n",
       "Good Food quality_Neutral                           0.014150  \n",
       "Self Cooking_Agree                                  0.996663  "
      ]
     },
     "execution_count": 211,
     "metadata": {},
     "output_type": "execute_result"
    }
   ],
   "source": [
    "relation_between_feature"
   ]
  },
  {
   "cell_type": "code",
   "execution_count": 220,
   "metadata": {
    "ExecuteTime": {
     "end_time": "2021-02-11T12:34:08.149903Z",
     "start_time": "2021-02-11T12:34:08.138909Z"
    }
   },
   "outputs": [
    {
     "data": {
      "text/plain": [
       "(388, 51)"
      ]
     },
     "execution_count": 220,
     "metadata": {},
     "output_type": "execute_result"
    }
   ],
   "source": [
    "fd_dlvry.shape"
   ]
  },
  {
   "cell_type": "code",
   "execution_count": 216,
   "metadata": {
    "ExecuteTime": {
     "end_time": "2021-02-11T12:24:16.234734Z",
     "start_time": "2021-02-11T12:24:16.125804Z"
    },
    "scrolled": false
   },
   "outputs": [
    {
     "data": {
      "text/plain": [
       "{'Age': {20: 20,\n",
       "  24: 24,\n",
       "  22: 22,\n",
       "  27: 27,\n",
       "  23: 23,\n",
       "  21: 21,\n",
       "  28: 28,\n",
       "  25: 25,\n",
       "  32: 32,\n",
       "  30: 30,\n",
       "  31: 31,\n",
       "  26: 26,\n",
       "  18: 18,\n",
       "  19: 19,\n",
       "  33: 33,\n",
       "  29: 29},\n",
       " 'Gender': {'Female': 0, 'Male': 1},\n",
       " 'Marital Status': {'Single': 2, 'Married': 0, 'Prefer not to say': 1},\n",
       " 'Occupation': {'Student': 3,\n",
       "  'Employee': 0,\n",
       "  'Self Employeed': 2,\n",
       "  'House wife': 1},\n",
       " 'Monthly Income': {'No Income': 4,\n",
       "  'Below Rs.10000': 2,\n",
       "  'More than 50000': 3,\n",
       "  '10001 to 25000': 0,\n",
       "  '25001 to 50000': 1},\n",
       " 'Educational Qualifications': {'Post Graduate': 2,\n",
       "  'Graduate': 0,\n",
       "  'Ph.D': 1,\n",
       "  'Uneducated': 4,\n",
       "  'School': 3},\n",
       " 'Family size': {4: 4, 3: 3, 6: 6, 2: 2, 5: 5, 1: 1},\n",
       " 'Medium (P1)': {'Food delivery apps': 1,\n",
       "  'Walk-in': 2,\n",
       "  'Direct call': 0,\n",
       "  'Web browser': 3},\n",
       " 'Medium (P2)': {' Web browser': 2, ' Direct call': 0, ' Walk-in': 1},\n",
       " 'Meal(P1)': {'Breakfast': 0, 'Snacks': 3, 'Lunch': 2, 'Dinner': 1},\n",
       " 'Meal(P2)': {' Lunch': 1, ' Dinner': 0, ' Snacks': 2},\n",
       " 'Perference(P1)': {'Non Veg foods (Lunch / Dinner)': 1,\n",
       "  'Veg foods (Breakfast / Lunch / Dinner)': 3,\n",
       "  'Bakery items (snacks)': 0,\n",
       "  'Sweets': 2},\n",
       " 'Perference(P2)': {' Bakery items (snacks)': 0,\n",
       "  ' Veg foods (Breakfast / Lunch / Dinner)': 3,\n",
       "  ' Ice cream / Cool drinks': 1,\n",
       "  ' Sweets': 2},\n",
       " 'Ease and convenient': {'Neutral': 2,\n",
       "  'Strongly agree': 3,\n",
       "  'Agree': 0,\n",
       "  'Strongly disagree': 4,\n",
       "  'Disagree': 1},\n",
       " 'Time saving': {'Neutral': 2,\n",
       "  'Strongly agree': 3,\n",
       "  'Agree': 0,\n",
       "  'Disagree': 1,\n",
       "  'Strongly disagree': 4},\n",
       " 'More restaurant choices': {'Neutral': 2,\n",
       "  'Strongly agree': 3,\n",
       "  'Agree': 0,\n",
       "  'Strongly disagree': 4,\n",
       "  'Disagree': 1},\n",
       " 'Easy Payment option': {'Neutral': 2,\n",
       "  'Strongly agree': 3,\n",
       "  'Agree': 0,\n",
       "  'Disagree': 1,\n",
       "  'Strongly disagree': 4},\n",
       " 'More Offers and Discount': {'Neutral': 2,\n",
       "  'Strongly agree': 3,\n",
       "  'Agree': 0,\n",
       "  'Disagree': 1,\n",
       "  'Strongly disagree': 4},\n",
       " 'Good Food quality': {'Neutral': 2,\n",
       "  'Disagree': 1,\n",
       "  'Agree': 0,\n",
       "  'Strongly agree': 3,\n",
       "  'Strongly disagree': 4},\n",
       " 'Good Tracking system': {'Neutral': 2,\n",
       "  'Agree': 0,\n",
       "  'Strongly agree': 3,\n",
       "  'Disagree': 1,\n",
       "  'Strongly disagree': 4},\n",
       " 'Self Cooking': {'Neutral': 2,\n",
       "  'Strongly agree': 3,\n",
       "  'Disagree': 1,\n",
       "  'Agree': 0,\n",
       "  'Strongly disagree': 4},\n",
       " 'Health Concern': {'Neutral': 2,\n",
       "  'Strongly agree': 3,\n",
       "  'Agree': 0,\n",
       "  'Strongly disagree': 4,\n",
       "  'Disagree': 1},\n",
       " 'Late Delivery': {'Neutral': 2,\n",
       "  'Agree': 0,\n",
       "  'Strongly agree': 3,\n",
       "  'Disagree': 1,\n",
       "  'Strongly disagree': 4},\n",
       " 'Poor Hygiene': {'Neutral': 2,\n",
       "  'Strongly agree': 3,\n",
       "  'Agree': 0,\n",
       "  'Disagree': 1,\n",
       "  'Strongly disagree': 4},\n",
       " 'Bad past experience': {'Neutral': 2,\n",
       "  'Strongly agree': 3,\n",
       "  'Agree': 0,\n",
       "  'Disagree': 1,\n",
       "  'Strongly disagree': 4},\n",
       " 'Unavailability': {'Neutral': 2,\n",
       "  'Strongly agree': 3,\n",
       "  'Agree': 0,\n",
       "  'Disagree': 1,\n",
       "  'Strongly disagree': 4},\n",
       " 'Unaffordable': {'Neutral': 2,\n",
       "  'Strongly agree': 3,\n",
       "  'Agree': 0,\n",
       "  'Disagree': 1,\n",
       "  'Strongly disagree': 4},\n",
       " 'Long delivery time': {'Agree': 0,\n",
       "  'Strongly agree': 3,\n",
       "  'Neutral': 2,\n",
       "  'Disagree': 1,\n",
       "  'Strongly disagree': 4},\n",
       " 'Delay of delivery person getting assigned': {'Agree': 0,\n",
       "  'Strongly agree': 3,\n",
       "  'Disagree': 1,\n",
       "  'Neutral': 2,\n",
       "  'Strongly disagree': 4},\n",
       " 'Delay of delivery person picking up food': {'Agree': 0,\n",
       "  'Strongly agree': 3,\n",
       "  'Neutral': 2,\n",
       "  'Disagree': 1,\n",
       "  'Strongly disagree': 4},\n",
       " 'Wrong order delivered': {'Agree': 0,\n",
       "  'Strongly agree': 3,\n",
       "  'Disagree': 1,\n",
       "  'Neutral': 2,\n",
       "  'Strongly disagree': 4},\n",
       " 'Missing item': {'Agree': 0,\n",
       "  'Strongly agree': 3,\n",
       "  'Disagree': 1,\n",
       "  'Neutral': 2,\n",
       "  'Strongly disagree': 4},\n",
       " 'Order placed by mistake': {'Agree': 0,\n",
       "  'Strongly agree': 3,\n",
       "  'Neutral': 2,\n",
       "  'Disagree': 1,\n",
       "  'Strongly disagree': 4},\n",
       " 'Influence of time': {'Yes': 2, 'No': 1, 'Maybe': 0},\n",
       " 'Order Time': {'Weekend (Sat & Sun)': 2,\n",
       "  'Anytime (Mon-Sun)': 0,\n",
       "  'Weekdays (Mon-Fri)': 1},\n",
       " 'Maximum wait time': {'30 minutes': 1,\n",
       "  '45 minutes': 2,\n",
       "  '60 minutes': 3,\n",
       "  'More than 60 minutes': 4,\n",
       "  '15 minutes': 0},\n",
       " 'Residence in busy location': {'Agree': 0,\n",
       "  'Strongly Agree': 3,\n",
       "  'Disagree': 1,\n",
       "  'Neutral': 2,\n",
       "  'Strongly disagree': 4},\n",
       " 'Google Maps Accuracy': {'Neutral': 2,\n",
       "  'Strongly Agree': 3,\n",
       "  'Agree': 0,\n",
       "  'Disagree': 1,\n",
       "  'Strongly disagree': 4},\n",
       " 'Good Road Condition': {'Neutral': 2,\n",
       "  'Disagree': 1,\n",
       "  'Agree': 0,\n",
       "  'Strongly Agree': 3,\n",
       "  'Strongly disagree': 4},\n",
       " 'Low quantity low time': {'Neutral': 2,\n",
       "  'Strongly disagree': 4,\n",
       "  'Agree': 0,\n",
       "  'Disagree': 1,\n",
       "  'Strongly Agree': 3},\n",
       " 'Delivery person ability': {'Neutral': 2,\n",
       "  'Agree': 0,\n",
       "  'Strongly Agree': 3,\n",
       "  'Disagree': 1,\n",
       "  'Strongly disagree': 4},\n",
       " 'Influence of rating': {'Yes': 2, 'Maybe': 0, 'No': 1},\n",
       " 'Less Delivery time': {'Moderately Important': 1,\n",
       "  'Very Important': 4,\n",
       "  'Important': 0,\n",
       "  'Slightly Important': 2,\n",
       "  'Unimportant': 3},\n",
       " 'High Quality of package': {'Moderately Important': 1,\n",
       "  'Very Important': 4,\n",
       "  'Important': 0,\n",
       "  'Unimportant': 3,\n",
       "  'Slightly Important': 2},\n",
       " 'Number of calls': {'Moderately Important': 1,\n",
       "  'Very Important': 4,\n",
       "  'Unimportant': 3,\n",
       "  'Important': 0,\n",
       "  'Slightly Important': 2},\n",
       " 'Politeness': {'Moderately Important': 1,\n",
       "  'Very Important': 4,\n",
       "  'Important': 0,\n",
       "  'Slightly Important': 2,\n",
       "  'Unimportant': 3},\n",
       " 'Freshness ': {'Moderately Important': 1,\n",
       "  'Very Important': 4,\n",
       "  'Important': 0,\n",
       "  'Slightly Important': 2,\n",
       "  'Unimportant': 3},\n",
       " 'Temperature': {'Moderately Important': 1,\n",
       "  'Very Important': 4,\n",
       "  'Important': 0,\n",
       "  'Slightly Important': 2,\n",
       "  'Unimportant': 3},\n",
       " 'Good Taste ': {'Moderately Important': 1,\n",
       "  'Very Important': 4,\n",
       "  'Important': 0,\n",
       "  'Slightly Important': 2,\n",
       "  'Unimportant': 3},\n",
       " 'Good Quantity': {'Moderately Important': 1,\n",
       "  'Very Important': 4,\n",
       "  'Important': 0,\n",
       "  'Slightly Important': 2,\n",
       "  'Unimportant': 3}}"
      ]
     },
     "execution_count": 216,
     "metadata": {},
     "output_type": "execute_result"
    }
   ],
   "source": [
    "lbl"
   ]
  },
  {
   "cell_type": "code",
   "execution_count": 215,
   "metadata": {
    "ExecuteTime": {
     "end_time": "2021-02-11T12:23:20.912775Z",
     "start_time": "2021-02-11T12:23:20.816831Z"
    },
    "scrolled": false
   },
   "outputs": [
    {
     "data": {
      "text/html": [
       "<style  type=\"text/css\" >\n",
       "#T_1ec5d_row0_col1,#T_1ec5d_row0_col6,#T_1ec5d_row0_col11,#T_1ec5d_row1_col0,#T_1ec5d_row1_col6,#T_1ec5d_row1_col11,#T_1ec5d_row6_col0,#T_1ec5d_row6_col1,#T_1ec5d_row6_col11,#T_1ec5d_row11_col0,#T_1ec5d_row11_col1,#T_1ec5d_row11_col6{\n",
       "            background:  red;\n",
       "        }</style><table id=\"T_1ec5d_\" ><thead>    <tr>        <th class=\"blank level0\" ></th>        <th class=\"col_heading level0 col0\" >Ease and convenient_Disagree</th>        <th class=\"col_heading level0 col1\" >Time saving_Disagree</th>        <th class=\"col_heading level0 col2\" >Unaffordable_Agree</th>        <th class=\"col_heading level0 col3\" >Occupation_Employee</th>        <th class=\"col_heading level0 col4\" >Politeness_Very Important</th>        <th class=\"col_heading level0 col5\" >Educational Qualifications_Post Graduate</th>        <th class=\"col_heading level0 col6\" >More restaurant choices_Disagree</th>        <th class=\"col_heading level0 col7\" >Missing item_Strongly agree</th>        <th class=\"col_heading level0 col8\" >Unavailability_Disagree</th>        <th class=\"col_heading level0 col9\" >Late Delivery_Disagree</th>        <th class=\"col_heading level0 col10\" >Good Food quality_Neutral</th>        <th class=\"col_heading level0 col11\" >Self Cooking_Agree</th>    </tr></thead><tbody>\n",
       "                <tr>\n",
       "                        <th id=\"T_1ec5d_level0_row0\" class=\"row_heading level0 row0\" >Ease and convenient_Disagree</th>\n",
       "                        <td id=\"T_1ec5d_row0_col0\" class=\"data row0 col0\" >0.996197</td>\n",
       "                        <td id=\"T_1ec5d_row0_col1\" class=\"data row0 col1\" >0.559249</td>\n",
       "                        <td id=\"T_1ec5d_row0_col2\" class=\"data row0 col2\" >0.191517</td>\n",
       "                        <td id=\"T_1ec5d_row0_col3\" class=\"data row0 col3\" >0.134951</td>\n",
       "                        <td id=\"T_1ec5d_row0_col4\" class=\"data row0 col4\" >0.024017</td>\n",
       "                        <td id=\"T_1ec5d_row0_col5\" class=\"data row0 col5\" >0.159753</td>\n",
       "                        <td id=\"T_1ec5d_row0_col6\" class=\"data row0 col6\" >0.417534</td>\n",
       "                        <td id=\"T_1ec5d_row0_col7\" class=\"data row0 col7\" >0.000784</td>\n",
       "                        <td id=\"T_1ec5d_row0_col8\" class=\"data row0 col8\" >0.108541</td>\n",
       "                        <td id=\"T_1ec5d_row0_col9\" class=\"data row0 col9\" >0.055679</td>\n",
       "                        <td id=\"T_1ec5d_row0_col10\" class=\"data row0 col10\" >0.051766</td>\n",
       "                        <td id=\"T_1ec5d_row0_col11\" class=\"data row0 col11\" >0.484863</td>\n",
       "            </tr>\n",
       "            <tr>\n",
       "                        <th id=\"T_1ec5d_level0_row1\" class=\"row_heading level0 row1\" >Time saving_Disagree</th>\n",
       "                        <td id=\"T_1ec5d_row1_col0\" class=\"data row1 col0\" >0.559249</td>\n",
       "                        <td id=\"T_1ec5d_row1_col1\" class=\"data row1 col1\" >0.996133</td>\n",
       "                        <td id=\"T_1ec5d_row1_col2\" class=\"data row1 col2\" >0.204918</td>\n",
       "                        <td id=\"T_1ec5d_row1_col3\" class=\"data row1 col3\" >0.092631</td>\n",
       "                        <td id=\"T_1ec5d_row1_col4\" class=\"data row1 col4\" >0.144837</td>\n",
       "                        <td id=\"T_1ec5d_row1_col5\" class=\"data row1 col5\" >0.195426</td>\n",
       "                        <td id=\"T_1ec5d_row1_col6\" class=\"data row1 col6\" >0.432623</td>\n",
       "                        <td id=\"T_1ec5d_row1_col7\" class=\"data row1 col7\" >0.066949</td>\n",
       "                        <td id=\"T_1ec5d_row1_col8\" class=\"data row1 col8\" >0.011278</td>\n",
       "                        <td id=\"T_1ec5d_row1_col9\" class=\"data row1 col9\" >0.163718</td>\n",
       "                        <td id=\"T_1ec5d_row1_col10\" class=\"data row1 col10\" >0.182592</td>\n",
       "                        <td id=\"T_1ec5d_row1_col11\" class=\"data row1 col11\" >0.325140</td>\n",
       "            </tr>\n",
       "            <tr>\n",
       "                        <th id=\"T_1ec5d_level0_row2\" class=\"row_heading level0 row2\" >Unaffordable_Agree</th>\n",
       "                        <td id=\"T_1ec5d_row2_col0\" class=\"data row2 col0\" >0.191517</td>\n",
       "                        <td id=\"T_1ec5d_row2_col1\" class=\"data row2 col1\" >0.204918</td>\n",
       "                        <td id=\"T_1ec5d_row2_col2\" class=\"data row2 col2\" >0.995323</td>\n",
       "                        <td id=\"T_1ec5d_row2_col3\" class=\"data row2 col3\" >0.034156</td>\n",
       "                        <td id=\"T_1ec5d_row2_col4\" class=\"data row2 col4\" >0.001349</td>\n",
       "                        <td id=\"T_1ec5d_row2_col5\" class=\"data row2 col5\" >0.085151</td>\n",
       "                        <td id=\"T_1ec5d_row2_col6\" class=\"data row2 col6\" >0.012559</td>\n",
       "                        <td id=\"T_1ec5d_row2_col7\" class=\"data row2 col7\" >0.065431</td>\n",
       "                        <td id=\"T_1ec5d_row2_col8\" class=\"data row2 col8\" >0.233300</td>\n",
       "                        <td id=\"T_1ec5d_row2_col9\" class=\"data row2 col9\" >0.084670</td>\n",
       "                        <td id=\"T_1ec5d_row2_col10\" class=\"data row2 col10\" >0.000184</td>\n",
       "                        <td id=\"T_1ec5d_row2_col11\" class=\"data row2 col11\" >0.200549</td>\n",
       "            </tr>\n",
       "            <tr>\n",
       "                        <th id=\"T_1ec5d_level0_row3\" class=\"row_heading level0 row3\" >Occupation_Employee</th>\n",
       "                        <td id=\"T_1ec5d_row3_col0\" class=\"data row3 col0\" >0.134951</td>\n",
       "                        <td id=\"T_1ec5d_row3_col1\" class=\"data row3 col1\" >0.092631</td>\n",
       "                        <td id=\"T_1ec5d_row3_col2\" class=\"data row3 col2\" >0.034156</td>\n",
       "                        <td id=\"T_1ec5d_row3_col3\" class=\"data row3 col3\" >0.996404</td>\n",
       "                        <td id=\"T_1ec5d_row3_col4\" class=\"data row3 col4\" >0.140637</td>\n",
       "                        <td id=\"T_1ec5d_row3_col5\" class=\"data row3 col5\" >0.214396</td>\n",
       "                        <td id=\"T_1ec5d_row3_col6\" class=\"data row3 col6\" >0.137665</td>\n",
       "                        <td id=\"T_1ec5d_row3_col7\" class=\"data row3 col7\" >0.027978</td>\n",
       "                        <td id=\"T_1ec5d_row3_col8\" class=\"data row3 col8\" >0.118097</td>\n",
       "                        <td id=\"T_1ec5d_row3_col9\" class=\"data row3 col9\" >0.003514</td>\n",
       "                        <td id=\"T_1ec5d_row3_col10\" class=\"data row3 col10\" >0.105143</td>\n",
       "                        <td id=\"T_1ec5d_row3_col11\" class=\"data row3 col11\" >0.105701</td>\n",
       "            </tr>\n",
       "            <tr>\n",
       "                        <th id=\"T_1ec5d_level0_row4\" class=\"row_heading level0 row4\" >Politeness_Very Important</th>\n",
       "                        <td id=\"T_1ec5d_row4_col0\" class=\"data row4 col0\" >0.024017</td>\n",
       "                        <td id=\"T_1ec5d_row4_col1\" class=\"data row4 col1\" >0.144837</td>\n",
       "                        <td id=\"T_1ec5d_row4_col2\" class=\"data row4 col2\" >0.001349</td>\n",
       "                        <td id=\"T_1ec5d_row4_col3\" class=\"data row4 col3\" >0.140637</td>\n",
       "                        <td id=\"T_1ec5d_row4_col4\" class=\"data row4 col4\" >0.996404</td>\n",
       "                        <td id=\"T_1ec5d_row4_col5\" class=\"data row4 col5\" >0.079679</td>\n",
       "                        <td id=\"T_1ec5d_row4_col6\" class=\"data row4 col6\" >0.187385</td>\n",
       "                        <td id=\"T_1ec5d_row4_col7\" class=\"data row4 col7\" >0.149903</td>\n",
       "                        <td id=\"T_1ec5d_row4_col8\" class=\"data row4 col8\" >0.060734</td>\n",
       "                        <td id=\"T_1ec5d_row4_col9\" class=\"data row4 col9\" >0.090496</td>\n",
       "                        <td id=\"T_1ec5d_row4_col10\" class=\"data row4 col10\" >0.137474</td>\n",
       "                        <td id=\"T_1ec5d_row4_col11\" class=\"data row4 col11\" >0.174979</td>\n",
       "            </tr>\n",
       "            <tr>\n",
       "                        <th id=\"T_1ec5d_level0_row5\" class=\"row_heading level0 row5\" >Educational Qualifications_Post Graduate</th>\n",
       "                        <td id=\"T_1ec5d_row5_col0\" class=\"data row5 col0\" >0.159753</td>\n",
       "                        <td id=\"T_1ec5d_row5_col1\" class=\"data row5 col1\" >0.195426</td>\n",
       "                        <td id=\"T_1ec5d_row5_col2\" class=\"data row5 col2\" >0.085151</td>\n",
       "                        <td id=\"T_1ec5d_row5_col3\" class=\"data row5 col3\" >0.214396</td>\n",
       "                        <td id=\"T_1ec5d_row5_col4\" class=\"data row5 col4\" >0.079679</td>\n",
       "                        <td id=\"T_1ec5d_row5_col5\" class=\"data row5 col5\" >0.996505</td>\n",
       "                        <td id=\"T_1ec5d_row5_col6\" class=\"data row5 col6\" >0.163203</td>\n",
       "                        <td id=\"T_1ec5d_row5_col7\" class=\"data row5 col7\" >0.105295</td>\n",
       "                        <td id=\"T_1ec5d_row5_col8\" class=\"data row5 col8\" >0.045272</td>\n",
       "                        <td id=\"T_1ec5d_row5_col9\" class=\"data row5 col9\" >0.090796</td>\n",
       "                        <td id=\"T_1ec5d_row5_col10\" class=\"data row5 col10\" >0.224240</td>\n",
       "                        <td id=\"T_1ec5d_row5_col11\" class=\"data row5 col11\" >0.117992</td>\n",
       "            </tr>\n",
       "            <tr>\n",
       "                        <th id=\"T_1ec5d_level0_row6\" class=\"row_heading level0 row6\" >More restaurant choices_Disagree</th>\n",
       "                        <td id=\"T_1ec5d_row6_col0\" class=\"data row6 col0\" >0.417534</td>\n",
       "                        <td id=\"T_1ec5d_row6_col1\" class=\"data row6 col1\" >0.432623</td>\n",
       "                        <td id=\"T_1ec5d_row6_col2\" class=\"data row6 col2\" >0.012559</td>\n",
       "                        <td id=\"T_1ec5d_row6_col3\" class=\"data row6 col3\" >0.137665</td>\n",
       "                        <td id=\"T_1ec5d_row6_col4\" class=\"data row6 col4\" >0.187385</td>\n",
       "                        <td id=\"T_1ec5d_row6_col5\" class=\"data row6 col5\" >0.163203</td>\n",
       "                        <td id=\"T_1ec5d_row6_col6\" class=\"data row6 col6\" >0.995226</td>\n",
       "                        <td id=\"T_1ec5d_row6_col7\" class=\"data row6 col7\" >0.005645</td>\n",
       "                        <td id=\"T_1ec5d_row6_col8\" class=\"data row6 col8\" >0.057344</td>\n",
       "                        <td id=\"T_1ec5d_row6_col9\" class=\"data row6 col9\" >0.067732</td>\n",
       "                        <td id=\"T_1ec5d_row6_col10\" class=\"data row6 col10\" >0.195745</td>\n",
       "                        <td id=\"T_1ec5d_row6_col11\" class=\"data row6 col11\" >0.251583</td>\n",
       "            </tr>\n",
       "            <tr>\n",
       "                        <th id=\"T_1ec5d_level0_row7\" class=\"row_heading level0 row7\" >Missing item_Strongly agree</th>\n",
       "                        <td id=\"T_1ec5d_row7_col0\" class=\"data row7 col0\" >0.000784</td>\n",
       "                        <td id=\"T_1ec5d_row7_col1\" class=\"data row7 col1\" >0.066949</td>\n",
       "                        <td id=\"T_1ec5d_row7_col2\" class=\"data row7 col2\" >0.065431</td>\n",
       "                        <td id=\"T_1ec5d_row7_col3\" class=\"data row7 col3\" >0.027978</td>\n",
       "                        <td id=\"T_1ec5d_row7_col4\" class=\"data row7 col4\" >0.149903</td>\n",
       "                        <td id=\"T_1ec5d_row7_col5\" class=\"data row7 col5\" >0.105295</td>\n",
       "                        <td id=\"T_1ec5d_row7_col6\" class=\"data row7 col6\" >0.005645</td>\n",
       "                        <td id=\"T_1ec5d_row7_col7\" class=\"data row7 col7\" >0.993906</td>\n",
       "                        <td id=\"T_1ec5d_row7_col8\" class=\"data row7 col8\" >0.079130</td>\n",
       "                        <td id=\"T_1ec5d_row7_col9\" class=\"data row7 col9\" >0.028035</td>\n",
       "                        <td id=\"T_1ec5d_row7_col10\" class=\"data row7 col10\" >0.125171</td>\n",
       "                        <td id=\"T_1ec5d_row7_col11\" class=\"data row7 col11\" >0.038279</td>\n",
       "            </tr>\n",
       "            <tr>\n",
       "                        <th id=\"T_1ec5d_level0_row8\" class=\"row_heading level0 row8\" >Unavailability_Disagree</th>\n",
       "                        <td id=\"T_1ec5d_row8_col0\" class=\"data row8 col0\" >0.108541</td>\n",
       "                        <td id=\"T_1ec5d_row8_col1\" class=\"data row8 col1\" >0.011278</td>\n",
       "                        <td id=\"T_1ec5d_row8_col2\" class=\"data row8 col2\" >0.233300</td>\n",
       "                        <td id=\"T_1ec5d_row8_col3\" class=\"data row8 col3\" >0.118097</td>\n",
       "                        <td id=\"T_1ec5d_row8_col4\" class=\"data row8 col4\" >0.060734</td>\n",
       "                        <td id=\"T_1ec5d_row8_col5\" class=\"data row8 col5\" >0.045272</td>\n",
       "                        <td id=\"T_1ec5d_row8_col6\" class=\"data row8 col6\" >0.057344</td>\n",
       "                        <td id=\"T_1ec5d_row8_col7\" class=\"data row8 col7\" >0.079130</td>\n",
       "                        <td id=\"T_1ec5d_row8_col8\" class=\"data row8 col8\" >0.996425</td>\n",
       "                        <td id=\"T_1ec5d_row8_col9\" class=\"data row8 col9\" >0.038522</td>\n",
       "                        <td id=\"T_1ec5d_row8_col10\" class=\"data row8 col10\" >0.126780</td>\n",
       "                        <td id=\"T_1ec5d_row8_col11\" class=\"data row8 col11\" >0.105979</td>\n",
       "            </tr>\n",
       "            <tr>\n",
       "                        <th id=\"T_1ec5d_level0_row9\" class=\"row_heading level0 row9\" >Late Delivery_Disagree</th>\n",
       "                        <td id=\"T_1ec5d_row9_col0\" class=\"data row9 col0\" >0.055679</td>\n",
       "                        <td id=\"T_1ec5d_row9_col1\" class=\"data row9 col1\" >0.163718</td>\n",
       "                        <td id=\"T_1ec5d_row9_col2\" class=\"data row9 col2\" >0.084670</td>\n",
       "                        <td id=\"T_1ec5d_row9_col3\" class=\"data row9 col3\" >0.003514</td>\n",
       "                        <td id=\"T_1ec5d_row9_col4\" class=\"data row9 col4\" >0.090496</td>\n",
       "                        <td id=\"T_1ec5d_row9_col5\" class=\"data row9 col5\" >0.090796</td>\n",
       "                        <td id=\"T_1ec5d_row9_col6\" class=\"data row9 col6\" >0.067732</td>\n",
       "                        <td id=\"T_1ec5d_row9_col7\" class=\"data row9 col7\" >0.028035</td>\n",
       "                        <td id=\"T_1ec5d_row9_col8\" class=\"data row9 col8\" >0.038522</td>\n",
       "                        <td id=\"T_1ec5d_row9_col9\" class=\"data row9 col9\" >0.993855</td>\n",
       "                        <td id=\"T_1ec5d_row9_col10\" class=\"data row9 col10\" >0.072525</td>\n",
       "                        <td id=\"T_1ec5d_row9_col11\" class=\"data row9 col11\" >0.029185</td>\n",
       "            </tr>\n",
       "            <tr>\n",
       "                        <th id=\"T_1ec5d_level0_row10\" class=\"row_heading level0 row10\" >Good Food quality_Neutral</th>\n",
       "                        <td id=\"T_1ec5d_row10_col0\" class=\"data row10 col0\" >0.051766</td>\n",
       "                        <td id=\"T_1ec5d_row10_col1\" class=\"data row10 col1\" >0.182592</td>\n",
       "                        <td id=\"T_1ec5d_row10_col2\" class=\"data row10 col2\" >0.000184</td>\n",
       "                        <td id=\"T_1ec5d_row10_col3\" class=\"data row10 col3\" >0.105143</td>\n",
       "                        <td id=\"T_1ec5d_row10_col4\" class=\"data row10 col4\" >0.137474</td>\n",
       "                        <td id=\"T_1ec5d_row10_col5\" class=\"data row10 col5\" >0.224240</td>\n",
       "                        <td id=\"T_1ec5d_row10_col6\" class=\"data row10 col6\" >0.195745</td>\n",
       "                        <td id=\"T_1ec5d_row10_col7\" class=\"data row10 col7\" >0.125171</td>\n",
       "                        <td id=\"T_1ec5d_row10_col8\" class=\"data row10 col8\" >0.126780</td>\n",
       "                        <td id=\"T_1ec5d_row10_col9\" class=\"data row10 col9\" >0.072525</td>\n",
       "                        <td id=\"T_1ec5d_row10_col10\" class=\"data row10 col10\" >0.995458</td>\n",
       "                        <td id=\"T_1ec5d_row10_col11\" class=\"data row10 col11\" >0.014150</td>\n",
       "            </tr>\n",
       "            <tr>\n",
       "                        <th id=\"T_1ec5d_level0_row11\" class=\"row_heading level0 row11\" >Self Cooking_Agree</th>\n",
       "                        <td id=\"T_1ec5d_row11_col0\" class=\"data row11 col0\" >0.484863</td>\n",
       "                        <td id=\"T_1ec5d_row11_col1\" class=\"data row11 col1\" >0.325140</td>\n",
       "                        <td id=\"T_1ec5d_row11_col2\" class=\"data row11 col2\" >0.200549</td>\n",
       "                        <td id=\"T_1ec5d_row11_col3\" class=\"data row11 col3\" >0.105701</td>\n",
       "                        <td id=\"T_1ec5d_row11_col4\" class=\"data row11 col4\" >0.174979</td>\n",
       "                        <td id=\"T_1ec5d_row11_col5\" class=\"data row11 col5\" >0.117992</td>\n",
       "                        <td id=\"T_1ec5d_row11_col6\" class=\"data row11 col6\" >0.251583</td>\n",
       "                        <td id=\"T_1ec5d_row11_col7\" class=\"data row11 col7\" >0.038279</td>\n",
       "                        <td id=\"T_1ec5d_row11_col8\" class=\"data row11 col8\" >0.105979</td>\n",
       "                        <td id=\"T_1ec5d_row11_col9\" class=\"data row11 col9\" >0.029185</td>\n",
       "                        <td id=\"T_1ec5d_row11_col10\" class=\"data row11 col10\" >0.014150</td>\n",
       "                        <td id=\"T_1ec5d_row11_col11\" class=\"data row11 col11\" >0.996663</td>\n",
       "            </tr>\n",
       "    </tbody></table>"
      ],
      "text/plain": [
       "<pandas.io.formats.style.Styler at 0x17fe2fab208>"
      ]
     },
     "execution_count": 215,
     "metadata": {},
     "output_type": "execute_result"
    }
   ],
   "source": [
    "relation_between_feature.style.apply(lambda x: [\"background: red\" if v>0.25 and v<0.99 else \"\" for v in x], axis = 1)"
   ]
  },
  {
   "cell_type": "code",
   "execution_count": 221,
   "metadata": {
    "ExecuteTime": {
     "end_time": "2021-02-11T13:52:55.590914Z",
     "start_time": "2021-02-11T13:52:55.511960Z"
    }
   },
   "outputs": [],
   "source": [
    "relation_between_feature.drop([\"Time saving_Disagree\",\"Self Cooking_Agree\",\"More restaurant choices_Disagree\"],axis=1,inplace=True)"
   ]
  },
  {
   "cell_type": "code",
   "execution_count": 106,
   "metadata": {
    "ExecuteTime": {
     "end_time": "2021-02-11T09:58:21.027428Z",
     "start_time": "2021-02-11T09:58:20.298844Z"
    }
   },
   "outputs": [
    {
     "data": {
      "text/plain": [
       "'fgini.png'"
      ]
     },
     "execution_count": 106,
     "metadata": {},
     "output_type": "execute_result"
    }
   ],
   "source": [
    "import graphviz\n",
    "import sklearn.tree as tree\n",
    "# DOT data\n",
    "dot_data = tree.export_graphviz(clf, out_file=None, \n",
    "                                feature_names=X.columns,  \n",
    "                                class_names='01',\n",
    "                                filled=True)\n",
    "\n",
    "# # Draw graph\n",
    "graph = graphviz.Source(dot_data,format=\"png\") \n",
    "graph.render('fgini')\n",
    "# graph"
   ]
  }
 ],
 "metadata": {
  "kernelspec": {
   "display_name": "Python 3",
   "language": "python",
   "name": "python3"
  },
  "language_info": {
   "codemirror_mode": {
    "name": "ipython",
    "version": 3
   },
   "file_extension": ".py",
   "mimetype": "text/x-python",
   "name": "python",
   "nbconvert_exporter": "python",
   "pygments_lexer": "ipython3",
   "version": "3.7.9"
  },
  "toc": {
   "base_numbering": 1,
   "nav_menu": {
    "height": "68px",
    "width": "168px"
   },
   "number_sections": true,
   "sideBar": true,
   "skip_h1_title": false,
   "title_cell": "Table of Contents",
   "title_sidebar": "Contents",
   "toc_cell": false,
   "toc_position": {},
   "toc_section_display": true,
   "toc_window_display": true
  }
 },
 "nbformat": 4,
 "nbformat_minor": 4
}
