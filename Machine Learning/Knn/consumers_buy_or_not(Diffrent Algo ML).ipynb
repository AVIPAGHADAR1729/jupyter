{
 "cells": [
  {
   "cell_type": "code",
   "execution_count": 123,
   "metadata": {
    "ExecuteTime": {
     "end_time": "2021-02-14T04:51:16.024624Z",
     "start_time": "2021-02-14T04:51:16.010636Z"
    }
   },
   "outputs": [],
   "source": [
    "#import libraries\n",
    "import numpy \n",
    "import numpy as np\n",
    "import pandas as pd\n",
    "import seaborn as sns\n",
    "import matplotlib.pyplot as plt\n",
    "from sklearn import metrics\n",
    "import matplotlib.patches as mpatches\n",
    "from sklearn.metrics import classification_report\n",
    "from sklearn.metrics import confusion_matrix\n",
    "import scipy.stats as st \n",
    "import dtale \n",
    "import warnings\n",
    "from sklearn.model_selection import StratifiedKFold \n",
    "\n",
    "from imblearn.over_sampling import RandomOverSampler\n",
    "from sklearn.tree import DecisionTreeClassifier\n",
    "from sklearn.model_selection import cross_val_score\n",
    "warnings.filterwarnings('ignore')\n",
    "import pandas_profiling as pdp\n",
    "from sklearn.model_selection import train_test_split\n",
    "from sklearn.neighbors import KNeighborsClassifier\n",
    "from sklearn.metrics import roc_curve"
   ]
  },
  {
   "cell_type": "code",
   "execution_count": 124,
   "metadata": {
    "ExecuteTime": {
     "end_time": "2021-02-14T04:51:16.280505Z",
     "start_time": "2021-02-14T04:51:16.029621Z"
    }
   },
   "outputs": [],
   "source": [
    "fd_dlvry=pd.read_csv('../../data/Banglore_food_delivery/onlinedeliverydata.csv')"
   ]
  },
  {
   "cell_type": "code",
   "execution_count": 125,
   "metadata": {
    "ExecuteTime": {
     "end_time": "2021-02-14T04:51:16.354461Z",
     "start_time": "2021-02-14T04:51:16.285501Z"
    }
   },
   "outputs": [],
   "source": [
    "fd_ori=fd_dlvry.copy(deep=True)\n",
    "#future uses one copy create"
   ]
  },
  {
   "cell_type": "code",
   "execution_count": 126,
   "metadata": {
    "ExecuteTime": {
     "end_time": "2021-02-14T04:51:16.477392Z",
     "start_time": "2021-02-14T04:51:16.359458Z"
    }
   },
   "outputs": [
    {
     "data": {
      "text/plain": [
       "(388, 55)"
      ]
     },
     "execution_count": 126,
     "metadata": {},
     "output_type": "execute_result"
    }
   ],
   "source": [
    "fd_dlvry.shape"
   ]
  },
  {
   "cell_type": "code",
   "execution_count": 127,
   "metadata": {
    "ExecuteTime": {
     "end_time": "2021-02-14T04:51:16.648294Z",
     "start_time": "2021-02-14T04:51:16.481391Z"
    },
    "scrolled": true
   },
   "outputs": [
    {
     "data": {
      "text/html": [
       "<div>\n",
       "<style scoped>\n",
       "    .dataframe tbody tr th:only-of-type {\n",
       "        vertical-align: middle;\n",
       "    }\n",
       "\n",
       "    .dataframe tbody tr th {\n",
       "        vertical-align: top;\n",
       "    }\n",
       "\n",
       "    .dataframe thead th {\n",
       "        text-align: right;\n",
       "    }\n",
       "</style>\n",
       "<table border=\"1\" class=\"dataframe\">\n",
       "  <thead>\n",
       "    <tr style=\"text-align: right;\">\n",
       "      <th></th>\n",
       "      <th>Age</th>\n",
       "      <th>Gender</th>\n",
       "      <th>Marital Status</th>\n",
       "      <th>Occupation</th>\n",
       "      <th>Monthly Income</th>\n",
       "      <th>Educational Qualifications</th>\n",
       "      <th>Family size</th>\n",
       "      <th>latitude</th>\n",
       "      <th>longitude</th>\n",
       "      <th>Pin code</th>\n",
       "      <th>...</th>\n",
       "      <th>Less Delivery time</th>\n",
       "      <th>High Quality of package</th>\n",
       "      <th>Number of calls</th>\n",
       "      <th>Politeness</th>\n",
       "      <th>Freshness</th>\n",
       "      <th>Temperature</th>\n",
       "      <th>Good Taste</th>\n",
       "      <th>Good Quantity</th>\n",
       "      <th>Output</th>\n",
       "      <th>Reviews</th>\n",
       "    </tr>\n",
       "  </thead>\n",
       "  <tbody>\n",
       "    <tr>\n",
       "      <th>0</th>\n",
       "      <td>20</td>\n",
       "      <td>Female</td>\n",
       "      <td>Single</td>\n",
       "      <td>Student</td>\n",
       "      <td>No Income</td>\n",
       "      <td>Post Graduate</td>\n",
       "      <td>4</td>\n",
       "      <td>12.9766</td>\n",
       "      <td>77.5993</td>\n",
       "      <td>560001</td>\n",
       "      <td>...</td>\n",
       "      <td>Moderately Important</td>\n",
       "      <td>Moderately Important</td>\n",
       "      <td>Moderately Important</td>\n",
       "      <td>Moderately Important</td>\n",
       "      <td>Moderately Important</td>\n",
       "      <td>Moderately Important</td>\n",
       "      <td>Moderately Important</td>\n",
       "      <td>Moderately Important</td>\n",
       "      <td>Yes</td>\n",
       "      <td>Nil\\n</td>\n",
       "    </tr>\n",
       "    <tr>\n",
       "      <th>1</th>\n",
       "      <td>24</td>\n",
       "      <td>Female</td>\n",
       "      <td>Single</td>\n",
       "      <td>Student</td>\n",
       "      <td>Below Rs.10000</td>\n",
       "      <td>Graduate</td>\n",
       "      <td>3</td>\n",
       "      <td>12.9770</td>\n",
       "      <td>77.5773</td>\n",
       "      <td>560009</td>\n",
       "      <td>...</td>\n",
       "      <td>Very Important</td>\n",
       "      <td>Very Important</td>\n",
       "      <td>Very Important</td>\n",
       "      <td>Very Important</td>\n",
       "      <td>Very Important</td>\n",
       "      <td>Very Important</td>\n",
       "      <td>Very Important</td>\n",
       "      <td>Very Important</td>\n",
       "      <td>Yes</td>\n",
       "      <td>Nil</td>\n",
       "    </tr>\n",
       "    <tr>\n",
       "      <th>2</th>\n",
       "      <td>22</td>\n",
       "      <td>Male</td>\n",
       "      <td>Single</td>\n",
       "      <td>Student</td>\n",
       "      <td>Below Rs.10000</td>\n",
       "      <td>Post Graduate</td>\n",
       "      <td>3</td>\n",
       "      <td>12.9551</td>\n",
       "      <td>77.6593</td>\n",
       "      <td>560017</td>\n",
       "      <td>...</td>\n",
       "      <td>Important</td>\n",
       "      <td>Very Important</td>\n",
       "      <td>Moderately Important</td>\n",
       "      <td>Very Important</td>\n",
       "      <td>Very Important</td>\n",
       "      <td>Important</td>\n",
       "      <td>Very Important</td>\n",
       "      <td>Moderately Important</td>\n",
       "      <td>Yes</td>\n",
       "      <td>Many a times payment gateways are an issue, so...</td>\n",
       "    </tr>\n",
       "    <tr>\n",
       "      <th>3</th>\n",
       "      <td>22</td>\n",
       "      <td>Female</td>\n",
       "      <td>Single</td>\n",
       "      <td>Student</td>\n",
       "      <td>No Income</td>\n",
       "      <td>Graduate</td>\n",
       "      <td>6</td>\n",
       "      <td>12.9473</td>\n",
       "      <td>77.5616</td>\n",
       "      <td>560019</td>\n",
       "      <td>...</td>\n",
       "      <td>Very Important</td>\n",
       "      <td>Important</td>\n",
       "      <td>Moderately Important</td>\n",
       "      <td>Very Important</td>\n",
       "      <td>Very Important</td>\n",
       "      <td>Very Important</td>\n",
       "      <td>Very Important</td>\n",
       "      <td>Important</td>\n",
       "      <td>Yes</td>\n",
       "      <td>nil</td>\n",
       "    </tr>\n",
       "    <tr>\n",
       "      <th>4</th>\n",
       "      <td>22</td>\n",
       "      <td>Male</td>\n",
       "      <td>Single</td>\n",
       "      <td>Student</td>\n",
       "      <td>Below Rs.10000</td>\n",
       "      <td>Post Graduate</td>\n",
       "      <td>4</td>\n",
       "      <td>12.9850</td>\n",
       "      <td>77.5533</td>\n",
       "      <td>560010</td>\n",
       "      <td>...</td>\n",
       "      <td>Important</td>\n",
       "      <td>Important</td>\n",
       "      <td>Moderately Important</td>\n",
       "      <td>Important</td>\n",
       "      <td>Important</td>\n",
       "      <td>Important</td>\n",
       "      <td>Very Important</td>\n",
       "      <td>Very Important</td>\n",
       "      <td>Yes</td>\n",
       "      <td>NIL</td>\n",
       "    </tr>\n",
       "  </tbody>\n",
       "</table>\n",
       "<p>5 rows × 55 columns</p>\n",
       "</div>"
      ],
      "text/plain": [
       "   Age  Gender Marital Status Occupation  Monthly Income  \\\n",
       "0   20  Female         Single    Student       No Income   \n",
       "1   24  Female         Single    Student  Below Rs.10000   \n",
       "2   22    Male         Single    Student  Below Rs.10000   \n",
       "3   22  Female         Single    Student       No Income   \n",
       "4   22    Male         Single    Student  Below Rs.10000   \n",
       "\n",
       "  Educational Qualifications  Family size  latitude  longitude  Pin code  ...  \\\n",
       "0              Post Graduate            4   12.9766    77.5993    560001  ...   \n",
       "1                   Graduate            3   12.9770    77.5773    560009  ...   \n",
       "2              Post Graduate            3   12.9551    77.6593    560017  ...   \n",
       "3                   Graduate            6   12.9473    77.5616    560019  ...   \n",
       "4              Post Graduate            4   12.9850    77.5533    560010  ...   \n",
       "\n",
       "     Less Delivery time High Quality of package       Number of calls  \\\n",
       "0  Moderately Important    Moderately Important  Moderately Important   \n",
       "1        Very Important          Very Important        Very Important   \n",
       "2             Important          Very Important  Moderately Important   \n",
       "3        Very Important               Important  Moderately Important   \n",
       "4             Important               Important  Moderately Important   \n",
       "\n",
       "             Politeness            Freshness            Temperature  \\\n",
       "0  Moderately Important  Moderately Important  Moderately Important   \n",
       "1        Very Important        Very Important        Very Important   \n",
       "2        Very Important        Very Important             Important   \n",
       "3        Very Important        Very Important        Very Important   \n",
       "4             Important             Important             Important   \n",
       "\n",
       "            Good Taste          Good Quantity Output  \\\n",
       "0  Moderately Important  Moderately Important    Yes   \n",
       "1        Very Important        Very Important    Yes   \n",
       "2        Very Important  Moderately Important    Yes   \n",
       "3        Very Important             Important    Yes   \n",
       "4        Very Important        Very Important    Yes   \n",
       "\n",
       "                                             Reviews  \n",
       "0                                              Nil\\n  \n",
       "1                                                Nil  \n",
       "2  Many a times payment gateways are an issue, so...  \n",
       "3                                                nil  \n",
       "4                                                NIL  \n",
       "\n",
       "[5 rows x 55 columns]"
      ]
     },
     "execution_count": 127,
     "metadata": {},
     "output_type": "execute_result"
    }
   ],
   "source": [
    "fd_dlvry.head()"
   ]
  },
  {
   "cell_type": "code",
   "execution_count": null,
   "metadata": {},
   "outputs": [],
   "source": []
  },
  {
   "cell_type": "code",
   "execution_count": 128,
   "metadata": {
    "ExecuteTime": {
     "end_time": "2021-02-14T04:51:16.841191Z",
     "start_time": "2021-02-14T04:51:16.652291Z"
    }
   },
   "outputs": [
    {
     "name": "stdout",
     "output_type": "stream",
     "text": [
      "<class 'pandas.core.frame.DataFrame'>\n",
      "RangeIndex: 388 entries, 0 to 387\n",
      "Data columns (total 55 columns):\n",
      " #   Column                                     Non-Null Count  Dtype  \n",
      "---  ------                                     --------------  -----  \n",
      " 0   Age                                        388 non-null    int64  \n",
      " 1   Gender                                     388 non-null    object \n",
      " 2   Marital Status                             388 non-null    object \n",
      " 3   Occupation                                 388 non-null    object \n",
      " 4   Monthly Income                             388 non-null    object \n",
      " 5   Educational Qualifications                 388 non-null    object \n",
      " 6   Family size                                388 non-null    int64  \n",
      " 7   latitude                                   388 non-null    float64\n",
      " 8   longitude                                  388 non-null    float64\n",
      " 9   Pin code                                   388 non-null    int64  \n",
      " 10  Medium (P1)                                388 non-null    object \n",
      " 11  Medium (P2)                                388 non-null    object \n",
      " 12  Meal(P1)                                   388 non-null    object \n",
      " 13  Meal(P2)                                   388 non-null    object \n",
      " 14  Perference(P1)                             388 non-null    object \n",
      " 15  Perference(P2)                             388 non-null    object \n",
      " 16  Ease and convenient                        388 non-null    object \n",
      " 17  Time saving                                388 non-null    object \n",
      " 18  More restaurant choices                    388 non-null    object \n",
      " 19  Easy Payment option                        388 non-null    object \n",
      " 20  More Offers and Discount                   388 non-null    object \n",
      " 21  Good Food quality                          388 non-null    object \n",
      " 22  Good Tracking system                       388 non-null    object \n",
      " 23  Self Cooking                               388 non-null    object \n",
      " 24  Health Concern                             388 non-null    object \n",
      " 25  Late Delivery                              388 non-null    object \n",
      " 26  Poor Hygiene                               388 non-null    object \n",
      " 27  Bad past experience                        388 non-null    object \n",
      " 28  Unavailability                             388 non-null    object \n",
      " 29  Unaffordable                               388 non-null    object \n",
      " 30  Long delivery time                         388 non-null    object \n",
      " 31  Delay of delivery person getting assigned  388 non-null    object \n",
      " 32  Delay of delivery person picking up food   388 non-null    object \n",
      " 33  Wrong order delivered                      388 non-null    object \n",
      " 34  Missing item                               388 non-null    object \n",
      " 35  Order placed by mistake                    388 non-null    object \n",
      " 36  Influence of time                          388 non-null    object \n",
      " 37  Order Time                                 388 non-null    object \n",
      " 38  Maximum wait time                          388 non-null    object \n",
      " 39  Residence in busy location                 388 non-null    object \n",
      " 40  Google Maps Accuracy                       388 non-null    object \n",
      " 41  Good Road Condition                        388 non-null    object \n",
      " 42  Low quantity low time                      388 non-null    object \n",
      " 43  Delivery person ability                    388 non-null    object \n",
      " 44  Influence of rating                        388 non-null    object \n",
      " 45  Less Delivery time                         388 non-null    object \n",
      " 46  High Quality of package                    388 non-null    object \n",
      " 47  Number of calls                            388 non-null    object \n",
      " 48  Politeness                                 388 non-null    object \n",
      " 49  Freshness                                  388 non-null    object \n",
      " 50  Temperature                                388 non-null    object \n",
      " 51  Good Taste                                 388 non-null    object \n",
      " 52  Good Quantity                              388 non-null    object \n",
      " 53  Output                                     388 non-null    object \n",
      " 54  Reviews                                    388 non-null    object \n",
      "dtypes: float64(2), int64(3), object(50)\n",
      "memory usage: 166.8+ KB\n"
     ]
    }
   ],
   "source": [
    "fd_dlvry.info()"
   ]
  },
  {
   "cell_type": "code",
   "execution_count": 129,
   "metadata": {
    "ExecuteTime": {
     "end_time": "2021-02-14T04:51:16.950127Z",
     "start_time": "2021-02-14T04:51:16.845188Z"
    }
   },
   "outputs": [],
   "source": [
    "# d = dtale.show(fd_dlvry)\n",
    "# d.open_browser()\n",
    "#we can use datle library for EDA"
   ]
  },
  {
   "cell_type": "code",
   "execution_count": 130,
   "metadata": {
    "ExecuteTime": {
     "end_time": "2021-02-14T04:51:17.071058Z",
     "start_time": "2021-02-14T04:51:16.959122Z"
    }
   },
   "outputs": [],
   "source": [
    "#looking data with pdp.ProfileReport \n",
    "# data = pd.read_csv('../../data/Banglore_food_delivery/onlinedeliverydata.csv')\n",
    "\n",
    "# #Creating the Exploratory Data Analysis of our dataset\n",
    "# report = pdp.ProfileReport(data, title='Pandas Profiling Report')"
   ]
  },
  {
   "cell_type": "code",
   "execution_count": 131,
   "metadata": {
    "ExecuteTime": {
     "end_time": "2021-02-14T04:51:17.290942Z",
     "start_time": "2021-02-14T04:51:17.077054Z"
    },
    "scrolled": true
   },
   "outputs": [],
   "source": [
    "# report.widgets"
   ]
  },
  {
   "cell_type": "code",
   "execution_count": 132,
   "metadata": {
    "ExecuteTime": {
     "end_time": "2021-02-14T04:51:17.654748Z",
     "start_time": "2021-02-14T04:51:17.294940Z"
    }
   },
   "outputs": [],
   "source": [
    "#this library i found on google it's helpful for cleaning data,imputing value and lable encoding\n",
    "import  datacleaner as dc # pip install datacleaner\n",
    "\n",
    "dc.autoclean(fd_dlvry).head() "
   ]
  },
  {
   "cell_type": "code",
   "execution_count": 134,
   "metadata": {
    "ExecuteTime": {
     "end_time": "2021-02-14T04:51:18.566745Z",
     "start_time": "2021-02-14T04:51:18.506799Z"
    }
   },
   "outputs": [
    {
     "data": {
      "text/html": [
       "<div>\n",
       "<style scoped>\n",
       "    .dataframe tbody tr th:only-of-type {\n",
       "        vertical-align: middle;\n",
       "    }\n",
       "\n",
       "    .dataframe tbody tr th {\n",
       "        vertical-align: top;\n",
       "    }\n",
       "\n",
       "    .dataframe thead th {\n",
       "        text-align: right;\n",
       "    }\n",
       "</style>\n",
       "<table border=\"1\" class=\"dataframe\">\n",
       "  <thead>\n",
       "    <tr style=\"text-align: right;\">\n",
       "      <th></th>\n",
       "      <th>Age</th>\n",
       "      <th>Gender</th>\n",
       "      <th>Marital Status</th>\n",
       "      <th>Occupation</th>\n",
       "      <th>Monthly Income</th>\n",
       "      <th>Educational Qualifications</th>\n",
       "      <th>Family size</th>\n",
       "      <th>latitude</th>\n",
       "      <th>longitude</th>\n",
       "      <th>Pin code</th>\n",
       "      <th>...</th>\n",
       "      <th>Less Delivery time</th>\n",
       "      <th>High Quality of package</th>\n",
       "      <th>Number of calls</th>\n",
       "      <th>Politeness</th>\n",
       "      <th>Freshness</th>\n",
       "      <th>Temperature</th>\n",
       "      <th>Good Taste</th>\n",
       "      <th>Good Quantity</th>\n",
       "      <th>Output</th>\n",
       "      <th>Reviews</th>\n",
       "    </tr>\n",
       "  </thead>\n",
       "  <tbody>\n",
       "    <tr>\n",
       "      <th>0</th>\n",
       "      <td>20</td>\n",
       "      <td>0</td>\n",
       "      <td>2</td>\n",
       "      <td>3</td>\n",
       "      <td>4</td>\n",
       "      <td>2</td>\n",
       "      <td>4</td>\n",
       "      <td>12.9766</td>\n",
       "      <td>77.5993</td>\n",
       "      <td>560001</td>\n",
       "      <td>...</td>\n",
       "      <td>1</td>\n",
       "      <td>1</td>\n",
       "      <td>1</td>\n",
       "      <td>1</td>\n",
       "      <td>1</td>\n",
       "      <td>1</td>\n",
       "      <td>1</td>\n",
       "      <td>1</td>\n",
       "      <td>1</td>\n",
       "      <td>136</td>\n",
       "    </tr>\n",
       "    <tr>\n",
       "      <th>1</th>\n",
       "      <td>24</td>\n",
       "      <td>0</td>\n",
       "      <td>2</td>\n",
       "      <td>3</td>\n",
       "      <td>2</td>\n",
       "      <td>0</td>\n",
       "      <td>3</td>\n",
       "      <td>12.9770</td>\n",
       "      <td>77.5773</td>\n",
       "      <td>560009</td>\n",
       "      <td>...</td>\n",
       "      <td>4</td>\n",
       "      <td>4</td>\n",
       "      <td>4</td>\n",
       "      <td>4</td>\n",
       "      <td>4</td>\n",
       "      <td>4</td>\n",
       "      <td>4</td>\n",
       "      <td>4</td>\n",
       "      <td>1</td>\n",
       "      <td>135</td>\n",
       "    </tr>\n",
       "    <tr>\n",
       "      <th>2</th>\n",
       "      <td>22</td>\n",
       "      <td>1</td>\n",
       "      <td>2</td>\n",
       "      <td>3</td>\n",
       "      <td>2</td>\n",
       "      <td>2</td>\n",
       "      <td>3</td>\n",
       "      <td>12.9551</td>\n",
       "      <td>77.6593</td>\n",
       "      <td>560017</td>\n",
       "      <td>...</td>\n",
       "      <td>0</td>\n",
       "      <td>4</td>\n",
       "      <td>1</td>\n",
       "      <td>4</td>\n",
       "      <td>4</td>\n",
       "      <td>0</td>\n",
       "      <td>4</td>\n",
       "      <td>1</td>\n",
       "      <td>1</td>\n",
       "      <td>119</td>\n",
       "    </tr>\n",
       "    <tr>\n",
       "      <th>3</th>\n",
       "      <td>22</td>\n",
       "      <td>0</td>\n",
       "      <td>2</td>\n",
       "      <td>3</td>\n",
       "      <td>4</td>\n",
       "      <td>0</td>\n",
       "      <td>6</td>\n",
       "      <td>12.9473</td>\n",
       "      <td>77.5616</td>\n",
       "      <td>560019</td>\n",
       "      <td>...</td>\n",
       "      <td>4</td>\n",
       "      <td>0</td>\n",
       "      <td>1</td>\n",
       "      <td>4</td>\n",
       "      <td>4</td>\n",
       "      <td>4</td>\n",
       "      <td>4</td>\n",
       "      <td>0</td>\n",
       "      <td>1</td>\n",
       "      <td>176</td>\n",
       "    </tr>\n",
       "    <tr>\n",
       "      <th>4</th>\n",
       "      <td>22</td>\n",
       "      <td>1</td>\n",
       "      <td>2</td>\n",
       "      <td>3</td>\n",
       "      <td>2</td>\n",
       "      <td>2</td>\n",
       "      <td>4</td>\n",
       "      <td>12.9850</td>\n",
       "      <td>77.5533</td>\n",
       "      <td>560010</td>\n",
       "      <td>...</td>\n",
       "      <td>0</td>\n",
       "      <td>0</td>\n",
       "      <td>1</td>\n",
       "      <td>0</td>\n",
       "      <td>0</td>\n",
       "      <td>0</td>\n",
       "      <td>4</td>\n",
       "      <td>4</td>\n",
       "      <td>1</td>\n",
       "      <td>129</td>\n",
       "    </tr>\n",
       "  </tbody>\n",
       "</table>\n",
       "<p>5 rows × 55 columns</p>\n",
       "</div>"
      ],
      "text/plain": [
       "   Age  Gender  Marital Status  Occupation  Monthly Income  \\\n",
       "0   20       0               2           3               4   \n",
       "1   24       0               2           3               2   \n",
       "2   22       1               2           3               2   \n",
       "3   22       0               2           3               4   \n",
       "4   22       1               2           3               2   \n",
       "\n",
       "   Educational Qualifications  Family size  latitude  longitude  Pin code  \\\n",
       "0                           2            4   12.9766    77.5993    560001   \n",
       "1                           0            3   12.9770    77.5773    560009   \n",
       "2                           2            3   12.9551    77.6593    560017   \n",
       "3                           0            6   12.9473    77.5616    560019   \n",
       "4                           2            4   12.9850    77.5533    560010   \n",
       "\n",
       "   ...  Less Delivery time  High Quality of package  Number of calls  \\\n",
       "0  ...                   1                        1                1   \n",
       "1  ...                   4                        4                4   \n",
       "2  ...                   0                        4                1   \n",
       "3  ...                   4                        0                1   \n",
       "4  ...                   0                        0                1   \n",
       "\n",
       "   Politeness  Freshness   Temperature  Good Taste   Good Quantity  Output  \\\n",
       "0           1           1            1            1              1       1   \n",
       "1           4           4            4            4              4       1   \n",
       "2           4           4            0            4              1       1   \n",
       "3           4           4            4            4              0       1   \n",
       "4           0           0            0            4              4       1   \n",
       "\n",
       "   Reviews  \n",
       "0      136  \n",
       "1      135  \n",
       "2      119  \n",
       "3      176  \n",
       "4      129  \n",
       "\n",
       "[5 rows x 55 columns]"
      ]
     },
     "execution_count": 134,
     "metadata": {},
     "output_type": "execute_result"
    }
   ],
   "source": [
    "fd_dlvry.head() "
   ]
  },
  {
   "cell_type": "code",
   "execution_count": 135,
   "metadata": {
    "ExecuteTime": {
     "end_time": "2021-02-14T04:51:18.723660Z",
     "start_time": "2021-02-14T04:51:18.571744Z"
    }
   },
   "outputs": [
    {
     "data": {
      "text/html": [
       "<div>\n",
       "<style scoped>\n",
       "    .dataframe tbody tr th:only-of-type {\n",
       "        vertical-align: middle;\n",
       "    }\n",
       "\n",
       "    .dataframe tbody tr th {\n",
       "        vertical-align: top;\n",
       "    }\n",
       "\n",
       "    .dataframe thead th {\n",
       "        text-align: right;\n",
       "    }\n",
       "</style>\n",
       "<table border=\"1\" class=\"dataframe\">\n",
       "  <thead>\n",
       "    <tr style=\"text-align: right;\">\n",
       "      <th></th>\n",
       "      <th>Age</th>\n",
       "      <th>Gender</th>\n",
       "      <th>Marital Status</th>\n",
       "      <th>Occupation</th>\n",
       "      <th>Monthly Income</th>\n",
       "      <th>Educational Qualifications</th>\n",
       "      <th>Family size</th>\n",
       "      <th>latitude</th>\n",
       "      <th>longitude</th>\n",
       "      <th>Pin code</th>\n",
       "      <th>...</th>\n",
       "      <th>Less Delivery time</th>\n",
       "      <th>High Quality of package</th>\n",
       "      <th>Number of calls</th>\n",
       "      <th>Politeness</th>\n",
       "      <th>Freshness</th>\n",
       "      <th>Temperature</th>\n",
       "      <th>Good Taste</th>\n",
       "      <th>Good Quantity</th>\n",
       "      <th>Output</th>\n",
       "      <th>Reviews</th>\n",
       "    </tr>\n",
       "  </thead>\n",
       "  <tbody>\n",
       "    <tr>\n",
       "      <th>0</th>\n",
       "      <td>20</td>\n",
       "      <td>Female</td>\n",
       "      <td>Single</td>\n",
       "      <td>Student</td>\n",
       "      <td>No Income</td>\n",
       "      <td>Post Graduate</td>\n",
       "      <td>4</td>\n",
       "      <td>12.9766</td>\n",
       "      <td>77.5993</td>\n",
       "      <td>560001</td>\n",
       "      <td>...</td>\n",
       "      <td>Moderately Important</td>\n",
       "      <td>Moderately Important</td>\n",
       "      <td>Moderately Important</td>\n",
       "      <td>Moderately Important</td>\n",
       "      <td>Moderately Important</td>\n",
       "      <td>Moderately Important</td>\n",
       "      <td>Moderately Important</td>\n",
       "      <td>Moderately Important</td>\n",
       "      <td>Yes</td>\n",
       "      <td>Nil\\n</td>\n",
       "    </tr>\n",
       "    <tr>\n",
       "      <th>1</th>\n",
       "      <td>24</td>\n",
       "      <td>Female</td>\n",
       "      <td>Single</td>\n",
       "      <td>Student</td>\n",
       "      <td>Below Rs.10000</td>\n",
       "      <td>Graduate</td>\n",
       "      <td>3</td>\n",
       "      <td>12.9770</td>\n",
       "      <td>77.5773</td>\n",
       "      <td>560009</td>\n",
       "      <td>...</td>\n",
       "      <td>Very Important</td>\n",
       "      <td>Very Important</td>\n",
       "      <td>Very Important</td>\n",
       "      <td>Very Important</td>\n",
       "      <td>Very Important</td>\n",
       "      <td>Very Important</td>\n",
       "      <td>Very Important</td>\n",
       "      <td>Very Important</td>\n",
       "      <td>Yes</td>\n",
       "      <td>Nil</td>\n",
       "    </tr>\n",
       "    <tr>\n",
       "      <th>2</th>\n",
       "      <td>22</td>\n",
       "      <td>Male</td>\n",
       "      <td>Single</td>\n",
       "      <td>Student</td>\n",
       "      <td>Below Rs.10000</td>\n",
       "      <td>Post Graduate</td>\n",
       "      <td>3</td>\n",
       "      <td>12.9551</td>\n",
       "      <td>77.6593</td>\n",
       "      <td>560017</td>\n",
       "      <td>...</td>\n",
       "      <td>Important</td>\n",
       "      <td>Very Important</td>\n",
       "      <td>Moderately Important</td>\n",
       "      <td>Very Important</td>\n",
       "      <td>Very Important</td>\n",
       "      <td>Important</td>\n",
       "      <td>Very Important</td>\n",
       "      <td>Moderately Important</td>\n",
       "      <td>Yes</td>\n",
       "      <td>Many a times payment gateways are an issue, so...</td>\n",
       "    </tr>\n",
       "    <tr>\n",
       "      <th>3</th>\n",
       "      <td>22</td>\n",
       "      <td>Female</td>\n",
       "      <td>Single</td>\n",
       "      <td>Student</td>\n",
       "      <td>No Income</td>\n",
       "      <td>Graduate</td>\n",
       "      <td>6</td>\n",
       "      <td>12.9473</td>\n",
       "      <td>77.5616</td>\n",
       "      <td>560019</td>\n",
       "      <td>...</td>\n",
       "      <td>Very Important</td>\n",
       "      <td>Important</td>\n",
       "      <td>Moderately Important</td>\n",
       "      <td>Very Important</td>\n",
       "      <td>Very Important</td>\n",
       "      <td>Very Important</td>\n",
       "      <td>Very Important</td>\n",
       "      <td>Important</td>\n",
       "      <td>Yes</td>\n",
       "      <td>nil</td>\n",
       "    </tr>\n",
       "    <tr>\n",
       "      <th>4</th>\n",
       "      <td>22</td>\n",
       "      <td>Male</td>\n",
       "      <td>Single</td>\n",
       "      <td>Student</td>\n",
       "      <td>Below Rs.10000</td>\n",
       "      <td>Post Graduate</td>\n",
       "      <td>4</td>\n",
       "      <td>12.9850</td>\n",
       "      <td>77.5533</td>\n",
       "      <td>560010</td>\n",
       "      <td>...</td>\n",
       "      <td>Important</td>\n",
       "      <td>Important</td>\n",
       "      <td>Moderately Important</td>\n",
       "      <td>Important</td>\n",
       "      <td>Important</td>\n",
       "      <td>Important</td>\n",
       "      <td>Very Important</td>\n",
       "      <td>Very Important</td>\n",
       "      <td>Yes</td>\n",
       "      <td>NIL</td>\n",
       "    </tr>\n",
       "  </tbody>\n",
       "</table>\n",
       "<p>5 rows × 55 columns</p>\n",
       "</div>"
      ],
      "text/plain": [
       "   Age  Gender Marital Status Occupation  Monthly Income  \\\n",
       "0   20  Female         Single    Student       No Income   \n",
       "1   24  Female         Single    Student  Below Rs.10000   \n",
       "2   22    Male         Single    Student  Below Rs.10000   \n",
       "3   22  Female         Single    Student       No Income   \n",
       "4   22    Male         Single    Student  Below Rs.10000   \n",
       "\n",
       "  Educational Qualifications  Family size  latitude  longitude  Pin code  ...  \\\n",
       "0              Post Graduate            4   12.9766    77.5993    560001  ...   \n",
       "1                   Graduate            3   12.9770    77.5773    560009  ...   \n",
       "2              Post Graduate            3   12.9551    77.6593    560017  ...   \n",
       "3                   Graduate            6   12.9473    77.5616    560019  ...   \n",
       "4              Post Graduate            4   12.9850    77.5533    560010  ...   \n",
       "\n",
       "     Less Delivery time High Quality of package       Number of calls  \\\n",
       "0  Moderately Important    Moderately Important  Moderately Important   \n",
       "1        Very Important          Very Important        Very Important   \n",
       "2             Important          Very Important  Moderately Important   \n",
       "3        Very Important               Important  Moderately Important   \n",
       "4             Important               Important  Moderately Important   \n",
       "\n",
       "             Politeness            Freshness            Temperature  \\\n",
       "0  Moderately Important  Moderately Important  Moderately Important   \n",
       "1        Very Important        Very Important        Very Important   \n",
       "2        Very Important        Very Important             Important   \n",
       "3        Very Important        Very Important        Very Important   \n",
       "4             Important             Important             Important   \n",
       "\n",
       "            Good Taste          Good Quantity Output  \\\n",
       "0  Moderately Important  Moderately Important    Yes   \n",
       "1        Very Important        Very Important    Yes   \n",
       "2        Very Important  Moderately Important    Yes   \n",
       "3        Very Important             Important    Yes   \n",
       "4        Very Important        Very Important    Yes   \n",
       "\n",
       "                                             Reviews  \n",
       "0                                              Nil\\n  \n",
       "1                                                Nil  \n",
       "2  Many a times payment gateways are an issue, so...  \n",
       "3                                                nil  \n",
       "4                                                NIL  \n",
       "\n",
       "[5 rows x 55 columns]"
      ]
     },
     "execution_count": 135,
     "metadata": {},
     "output_type": "execute_result"
    }
   ],
   "source": [
    "fd_ori.head()"
   ]
  },
  {
   "cell_type": "code",
   "execution_count": 136,
   "metadata": {
    "ExecuteTime": {
     "end_time": "2021-02-14T04:51:19.000026Z",
     "start_time": "2021-02-14T04:51:18.727657Z"
    }
   },
   "outputs": [
    {
     "data": {
      "text/plain": [
       "Index(['Age', 'Gender', 'Marital Status', 'Occupation', 'Monthly Income',\n",
       "       'Educational Qualifications', 'Family size', 'latitude', 'longitude',\n",
       "       'Pin code', 'Medium (P1)', 'Medium (P2)', 'Meal(P1)', 'Meal(P2)',\n",
       "       'Perference(P1)', 'Perference(P2)', 'Ease and convenient',\n",
       "       'Time saving', 'More restaurant choices', 'Easy Payment option',\n",
       "       'More Offers and Discount', 'Good Food quality', 'Good Tracking system',\n",
       "       'Self Cooking', 'Health Concern', 'Late Delivery', 'Poor Hygiene',\n",
       "       'Bad past experience', 'Unavailability', 'Unaffordable',\n",
       "       'Long delivery time', 'Delay of delivery person getting assigned',\n",
       "       'Delay of delivery person picking up food', 'Wrong order delivered',\n",
       "       'Missing item', 'Order placed by mistake', 'Influence of time',\n",
       "       'Order Time', 'Maximum wait time', 'Residence in busy location',\n",
       "       'Google Maps Accuracy', 'Good Road Condition', 'Low quantity low time',\n",
       "       'Delivery person ability', 'Influence of rating', 'Less Delivery time',\n",
       "       'High Quality of package', 'Number of calls', 'Politeness',\n",
       "       'Freshness ', 'Temperature', 'Good Taste ', 'Good Quantity', 'Output',\n",
       "       'Reviews'],\n",
       "      dtype='object')"
      ]
     },
     "execution_count": 136,
     "metadata": {},
     "output_type": "execute_result"
    }
   ],
   "source": [
    "l1=(fd_ori.columns[:])\n",
    "l1"
   ]
  },
  {
   "cell_type": "code",
   "execution_count": 137,
   "metadata": {
    "ExecuteTime": {
     "end_time": "2021-02-14T04:51:19.140946Z",
     "start_time": "2021-02-14T04:51:19.005023Z"
    },
    "scrolled": true
   },
   "outputs": [
    {
     "name": "stdout",
     "output_type": "stream",
     "text": [
      "<class 'pandas.core.frame.DataFrame'>\n",
      "RangeIndex: 388 entries, 0 to 387\n",
      "Data columns (total 55 columns):\n",
      " #   Column                                     Non-Null Count  Dtype  \n",
      "---  ------                                     --------------  -----  \n",
      " 0   Age                                        388 non-null    int64  \n",
      " 1   Gender                                     388 non-null    int32  \n",
      " 2   Marital Status                             388 non-null    int32  \n",
      " 3   Occupation                                 388 non-null    int32  \n",
      " 4   Monthly Income                             388 non-null    int32  \n",
      " 5   Educational Qualifications                 388 non-null    int32  \n",
      " 6   Family size                                388 non-null    int64  \n",
      " 7   latitude                                   388 non-null    float64\n",
      " 8   longitude                                  388 non-null    float64\n",
      " 9   Pin code                                   388 non-null    int64  \n",
      " 10  Medium (P1)                                388 non-null    int32  \n",
      " 11  Medium (P2)                                388 non-null    int32  \n",
      " 12  Meal(P1)                                   388 non-null    int32  \n",
      " 13  Meal(P2)                                   388 non-null    int32  \n",
      " 14  Perference(P1)                             388 non-null    int32  \n",
      " 15  Perference(P2)                             388 non-null    int32  \n",
      " 16  Ease and convenient                        388 non-null    int32  \n",
      " 17  Time saving                                388 non-null    int32  \n",
      " 18  More restaurant choices                    388 non-null    int32  \n",
      " 19  Easy Payment option                        388 non-null    int32  \n",
      " 20  More Offers and Discount                   388 non-null    int32  \n",
      " 21  Good Food quality                          388 non-null    int32  \n",
      " 22  Good Tracking system                       388 non-null    int32  \n",
      " 23  Self Cooking                               388 non-null    int32  \n",
      " 24  Health Concern                             388 non-null    int32  \n",
      " 25  Late Delivery                              388 non-null    int32  \n",
      " 26  Poor Hygiene                               388 non-null    int32  \n",
      " 27  Bad past experience                        388 non-null    int32  \n",
      " 28  Unavailability                             388 non-null    int32  \n",
      " 29  Unaffordable                               388 non-null    int32  \n",
      " 30  Long delivery time                         388 non-null    int32  \n",
      " 31  Delay of delivery person getting assigned  388 non-null    int32  \n",
      " 32  Delay of delivery person picking up food   388 non-null    int32  \n",
      " 33  Wrong order delivered                      388 non-null    int32  \n",
      " 34  Missing item                               388 non-null    int32  \n",
      " 35  Order placed by mistake                    388 non-null    int32  \n",
      " 36  Influence of time                          388 non-null    int32  \n",
      " 37  Order Time                                 388 non-null    int32  \n",
      " 38  Maximum wait time                          388 non-null    int32  \n",
      " 39  Residence in busy location                 388 non-null    int32  \n",
      " 40  Google Maps Accuracy                       388 non-null    int32  \n",
      " 41  Good Road Condition                        388 non-null    int32  \n",
      " 42  Low quantity low time                      388 non-null    int32  \n",
      " 43  Delivery person ability                    388 non-null    int32  \n",
      " 44  Influence of rating                        388 non-null    int32  \n",
      " 45  Less Delivery time                         388 non-null    int32  \n",
      " 46  High Quality of package                    388 non-null    int32  \n",
      " 47  Number of calls                            388 non-null    int32  \n",
      " 48  Politeness                                 388 non-null    int32  \n",
      " 49  Freshness                                  388 non-null    int32  \n",
      " 50  Temperature                                388 non-null    int32  \n",
      " 51  Good Taste                                 388 non-null    int32  \n",
      " 52  Good Quantity                              388 non-null    int32  \n",
      " 53  Output                                     388 non-null    int32  \n",
      " 54  Reviews                                    388 non-null    int32  \n",
      "dtypes: float64(2), int32(50), int64(3)\n",
      "memory usage: 91.1 KB\n"
     ]
    }
   ],
   "source": [
    "fd_dlvry.info()"
   ]
  },
  {
   "cell_type": "code",
   "execution_count": 138,
   "metadata": {
    "ExecuteTime": {
     "end_time": "2021-02-14T04:51:19.231894Z",
     "start_time": "2021-02-14T04:51:19.144944Z"
    }
   },
   "outputs": [
    {
     "data": {
      "text/plain": [
       "Index(['Age', 'Gender', 'Marital Status', 'Occupation', 'Monthly Income',\n",
       "       'Educational Qualifications', 'Family size', 'latitude', 'longitude',\n",
       "       'Pin code', 'Medium (P1)', 'Medium (P2)', 'Meal(P1)', 'Meal(P2)',\n",
       "       'Perference(P1)', 'Perference(P2)', 'Ease and convenient',\n",
       "       'Time saving', 'More restaurant choices', 'Easy Payment option',\n",
       "       'More Offers and Discount', 'Good Food quality', 'Good Tracking system',\n",
       "       'Self Cooking', 'Health Concern', 'Late Delivery', 'Poor Hygiene',\n",
       "       'Bad past experience', 'Unavailability', 'Unaffordable',\n",
       "       'Long delivery time', 'Delay of delivery person getting assigned',\n",
       "       'Delay of delivery person picking up food', 'Wrong order delivered',\n",
       "       'Missing item', 'Order placed by mistake', 'Influence of time',\n",
       "       'Order Time', 'Maximum wait time', 'Residence in busy location',\n",
       "       'Google Maps Accuracy', 'Good Road Condition', 'Low quantity low time',\n",
       "       'Delivery person ability', 'Influence of rating', 'Less Delivery time',\n",
       "       'High Quality of package', 'Number of calls', 'Politeness',\n",
       "       'Freshness ', 'Temperature', 'Good Taste ', 'Good Quantity', 'Output'],\n",
       "      dtype='object')"
      ]
     },
     "execution_count": 138,
     "metadata": {},
     "output_type": "execute_result"
    }
   ],
   "source": [
    "df=fd_ori.drop('Reviews',axis=1) #drop reviews because it's take NLP in future i will try it\n",
    "df.columns"
   ]
  },
  {
   "cell_type": "code",
   "execution_count": null,
   "metadata": {},
   "outputs": [],
   "source": []
  },
  {
   "cell_type": "code",
   "execution_count": 139,
   "metadata": {
    "ExecuteTime": {
     "end_time": "2021-02-14T04:51:19.395799Z",
     "start_time": "2021-02-14T04:51:19.235891Z"
    }
   },
   "outputs": [],
   "source": [
    "%matplotlib inline"
   ]
  },
  {
   "cell_type": "code",
   "execution_count": 140,
   "metadata": {
    "ExecuteTime": {
     "end_time": "2021-02-14T04:51:19.532725Z",
     "start_time": "2021-02-14T04:51:19.400797Z"
    }
   },
   "outputs": [],
   "source": [
    "# we needs to back map for lable encoding \n",
    "lbl=dict()\n",
    "for i in fd_ori.columns:\n",
    "    if i not in  ['latitude','longitude','Pin code','Output','Reviews']:\n",
    "                  lbl[i]=dict(zip(fd_ori[i].unique(), fd_dlvry[i].unique()))\n",
    "    "
   ]
  },
  {
   "cell_type": "code",
   "execution_count": 141,
   "metadata": {
    "ExecuteTime": {
     "end_time": "2021-02-14T04:51:19.635663Z",
     "start_time": "2021-02-14T04:51:19.536720Z"
    },
    "scrolled": false
   },
   "outputs": [
    {
     "data": {
      "text/plain": [
       "{'Age': {20: 20,\n",
       "  24: 24,\n",
       "  22: 22,\n",
       "  27: 27,\n",
       "  23: 23,\n",
       "  21: 21,\n",
       "  28: 28,\n",
       "  25: 25,\n",
       "  32: 32,\n",
       "  30: 30,\n",
       "  31: 31,\n",
       "  26: 26,\n",
       "  18: 18,\n",
       "  19: 19,\n",
       "  33: 33,\n",
       "  29: 29},\n",
       " 'Gender': {'Female': 0, 'Male': 1},\n",
       " 'Marital Status': {'Single': 2, 'Married': 0, 'Prefer not to say': 1},\n",
       " 'Occupation': {'Student': 3,\n",
       "  'Employee': 0,\n",
       "  'Self Employeed': 2,\n",
       "  'House wife': 1},\n",
       " 'Monthly Income': {'No Income': 4,\n",
       "  'Below Rs.10000': 2,\n",
       "  'More than 50000': 3,\n",
       "  '10001 to 25000': 0,\n",
       "  '25001 to 50000': 1},\n",
       " 'Educational Qualifications': {'Post Graduate': 2,\n",
       "  'Graduate': 0,\n",
       "  'Ph.D': 1,\n",
       "  'Uneducated': 4,\n",
       "  'School': 3},\n",
       " 'Family size': {4: 4, 3: 3, 6: 6, 2: 2, 5: 5, 1: 1},\n",
       " 'Medium (P1)': {'Food delivery apps': 1,\n",
       "  'Walk-in': 2,\n",
       "  'Direct call': 0,\n",
       "  'Web browser': 3},\n",
       " 'Medium (P2)': {' Web browser': 2, ' Direct call': 0, ' Walk-in': 1},\n",
       " 'Meal(P1)': {'Breakfast': 0, 'Snacks': 3, 'Lunch': 2, 'Dinner': 1},\n",
       " 'Meal(P2)': {' Lunch': 1, ' Dinner': 0, ' Snacks': 2},\n",
       " 'Perference(P1)': {'Non Veg foods (Lunch / Dinner)': 1,\n",
       "  'Veg foods (Breakfast / Lunch / Dinner)': 3,\n",
       "  'Bakery items (snacks)': 0,\n",
       "  'Sweets': 2},\n",
       " 'Perference(P2)': {' Bakery items (snacks)': 0,\n",
       "  ' Veg foods (Breakfast / Lunch / Dinner)': 3,\n",
       "  ' Ice cream / Cool drinks': 1,\n",
       "  ' Sweets': 2},\n",
       " 'Ease and convenient': {'Neutral': 2,\n",
       "  'Strongly agree': 3,\n",
       "  'Agree': 0,\n",
       "  'Strongly disagree': 4,\n",
       "  'Disagree': 1},\n",
       " 'Time saving': {'Neutral': 2,\n",
       "  'Strongly agree': 3,\n",
       "  'Agree': 0,\n",
       "  'Disagree': 1,\n",
       "  'Strongly disagree': 4},\n",
       " 'More restaurant choices': {'Neutral': 2,\n",
       "  'Strongly agree': 3,\n",
       "  'Agree': 0,\n",
       "  'Strongly disagree': 4,\n",
       "  'Disagree': 1},\n",
       " 'Easy Payment option': {'Neutral': 2,\n",
       "  'Strongly agree': 3,\n",
       "  'Agree': 0,\n",
       "  'Disagree': 1,\n",
       "  'Strongly disagree': 4},\n",
       " 'More Offers and Discount': {'Neutral': 2,\n",
       "  'Strongly agree': 3,\n",
       "  'Agree': 0,\n",
       "  'Disagree': 1,\n",
       "  'Strongly disagree': 4},\n",
       " 'Good Food quality': {'Neutral': 2,\n",
       "  'Disagree': 1,\n",
       "  'Agree': 0,\n",
       "  'Strongly agree': 3,\n",
       "  'Strongly disagree': 4},\n",
       " 'Good Tracking system': {'Neutral': 2,\n",
       "  'Agree': 0,\n",
       "  'Strongly agree': 3,\n",
       "  'Disagree': 1,\n",
       "  'Strongly disagree': 4},\n",
       " 'Self Cooking': {'Neutral': 2,\n",
       "  'Strongly agree': 3,\n",
       "  'Disagree': 1,\n",
       "  'Agree': 0,\n",
       "  'Strongly disagree': 4},\n",
       " 'Health Concern': {'Neutral': 2,\n",
       "  'Strongly agree': 3,\n",
       "  'Agree': 0,\n",
       "  'Strongly disagree': 4,\n",
       "  'Disagree': 1},\n",
       " 'Late Delivery': {'Neutral': 2,\n",
       "  'Agree': 0,\n",
       "  'Strongly agree': 3,\n",
       "  'Disagree': 1,\n",
       "  'Strongly disagree': 4},\n",
       " 'Poor Hygiene': {'Neutral': 2,\n",
       "  'Strongly agree': 3,\n",
       "  'Agree': 0,\n",
       "  'Disagree': 1,\n",
       "  'Strongly disagree': 4},\n",
       " 'Bad past experience': {'Neutral': 2,\n",
       "  'Strongly agree': 3,\n",
       "  'Agree': 0,\n",
       "  'Disagree': 1,\n",
       "  'Strongly disagree': 4},\n",
       " 'Unavailability': {'Neutral': 2,\n",
       "  'Strongly agree': 3,\n",
       "  'Agree': 0,\n",
       "  'Disagree': 1,\n",
       "  'Strongly disagree': 4},\n",
       " 'Unaffordable': {'Neutral': 2,\n",
       "  'Strongly agree': 3,\n",
       "  'Agree': 0,\n",
       "  'Disagree': 1,\n",
       "  'Strongly disagree': 4},\n",
       " 'Long delivery time': {'Agree': 0,\n",
       "  'Strongly agree': 3,\n",
       "  'Neutral': 2,\n",
       "  'Disagree': 1,\n",
       "  'Strongly disagree': 4},\n",
       " 'Delay of delivery person getting assigned': {'Agree': 0,\n",
       "  'Strongly agree': 3,\n",
       "  'Disagree': 1,\n",
       "  'Neutral': 2,\n",
       "  'Strongly disagree': 4},\n",
       " 'Delay of delivery person picking up food': {'Agree': 0,\n",
       "  'Strongly agree': 3,\n",
       "  'Neutral': 2,\n",
       "  'Disagree': 1,\n",
       "  'Strongly disagree': 4},\n",
       " 'Wrong order delivered': {'Agree': 0,\n",
       "  'Strongly agree': 3,\n",
       "  'Disagree': 1,\n",
       "  'Neutral': 2,\n",
       "  'Strongly disagree': 4},\n",
       " 'Missing item': {'Agree': 0,\n",
       "  'Strongly agree': 3,\n",
       "  'Disagree': 1,\n",
       "  'Neutral': 2,\n",
       "  'Strongly disagree': 4},\n",
       " 'Order placed by mistake': {'Agree': 0,\n",
       "  'Strongly agree': 3,\n",
       "  'Neutral': 2,\n",
       "  'Disagree': 1,\n",
       "  'Strongly disagree': 4},\n",
       " 'Influence of time': {'Yes': 2, 'No': 1, 'Maybe': 0},\n",
       " 'Order Time': {'Weekend (Sat & Sun)': 2,\n",
       "  'Anytime (Mon-Sun)': 0,\n",
       "  'Weekdays (Mon-Fri)': 1},\n",
       " 'Maximum wait time': {'30 minutes': 1,\n",
       "  '45 minutes': 2,\n",
       "  '60 minutes': 3,\n",
       "  'More than 60 minutes': 4,\n",
       "  '15 minutes': 0},\n",
       " 'Residence in busy location': {'Agree': 0,\n",
       "  'Strongly Agree': 3,\n",
       "  'Disagree': 1,\n",
       "  'Neutral': 2,\n",
       "  'Strongly disagree': 4},\n",
       " 'Google Maps Accuracy': {'Neutral': 2,\n",
       "  'Strongly Agree': 3,\n",
       "  'Agree': 0,\n",
       "  'Disagree': 1,\n",
       "  'Strongly disagree': 4},\n",
       " 'Good Road Condition': {'Neutral': 2,\n",
       "  'Disagree': 1,\n",
       "  'Agree': 0,\n",
       "  'Strongly Agree': 3,\n",
       "  'Strongly disagree': 4},\n",
       " 'Low quantity low time': {'Neutral': 2,\n",
       "  'Strongly disagree': 4,\n",
       "  'Agree': 0,\n",
       "  'Disagree': 1,\n",
       "  'Strongly Agree': 3},\n",
       " 'Delivery person ability': {'Neutral': 2,\n",
       "  'Agree': 0,\n",
       "  'Strongly Agree': 3,\n",
       "  'Disagree': 1,\n",
       "  'Strongly disagree': 4},\n",
       " 'Influence of rating': {'Yes': 2, 'Maybe': 0, 'No': 1},\n",
       " 'Less Delivery time': {'Moderately Important': 1,\n",
       "  'Very Important': 4,\n",
       "  'Important': 0,\n",
       "  'Slightly Important': 2,\n",
       "  'Unimportant': 3},\n",
       " 'High Quality of package': {'Moderately Important': 1,\n",
       "  'Very Important': 4,\n",
       "  'Important': 0,\n",
       "  'Unimportant': 3,\n",
       "  'Slightly Important': 2},\n",
       " 'Number of calls': {'Moderately Important': 1,\n",
       "  'Very Important': 4,\n",
       "  'Unimportant': 3,\n",
       "  'Important': 0,\n",
       "  'Slightly Important': 2},\n",
       " 'Politeness': {'Moderately Important': 1,\n",
       "  'Very Important': 4,\n",
       "  'Important': 0,\n",
       "  'Slightly Important': 2,\n",
       "  'Unimportant': 3},\n",
       " 'Freshness ': {'Moderately Important': 1,\n",
       "  'Very Important': 4,\n",
       "  'Important': 0,\n",
       "  'Slightly Important': 2,\n",
       "  'Unimportant': 3},\n",
       " 'Temperature': {'Moderately Important': 1,\n",
       "  'Very Important': 4,\n",
       "  'Important': 0,\n",
       "  'Slightly Important': 2,\n",
       "  'Unimportant': 3},\n",
       " 'Good Taste ': {'Moderately Important': 1,\n",
       "  'Very Important': 4,\n",
       "  'Important': 0,\n",
       "  'Slightly Important': 2,\n",
       "  'Unimportant': 3},\n",
       " 'Good Quantity': {'Moderately Important': 1,\n",
       "  'Very Important': 4,\n",
       "  'Important': 0,\n",
       "  'Slightly Important': 2,\n",
       "  'Unimportant': 3}}"
      ]
     },
     "execution_count": 141,
     "metadata": {},
     "output_type": "execute_result"
    }
   ],
   "source": [
    "lbl"
   ]
  },
  {
   "cell_type": "code",
   "execution_count": 142,
   "metadata": {
    "ExecuteTime": {
     "end_time": "2021-02-14T04:51:19.826062Z",
     "start_time": "2021-02-14T04:51:19.640660Z"
    },
    "code_folding": []
   },
   "outputs": [],
   "source": [
    "# practice chi-squared test\n",
    "# df=pd.crosstab(fd_ori['Meal(P1)'],fd_ori['Occupation'])\n",
    "# df\n",
    "\n",
    "# stat, p, dof, expected = st.chi2_contingency(df,correction=True)\n",
    "# stat, p, dof, expected\n",
    "\n",
    "\n"
   ]
  },
  {
   "cell_type": "markdown",
   "metadata": {},
   "source": [
    "#  method 1: Feature selection by phi coefficient"
   ]
  },
  {
   "cell_type": "code",
   "execution_count": 394,
   "metadata": {
    "ExecuteTime": {
     "end_time": "2021-02-14T07:28:47.251545Z",
     "start_time": "2021-02-14T07:28:46.183157Z"
    },
    "scrolled": true
   },
   "outputs": [
    {
     "data": {
      "text/plain": [
       "{'Output': [('Age', 0.41916612670006054),\n",
       "  ('Ease and convenient', 0.6944483749782563),\n",
       "  ('Time saving', 0.6333333550979008),\n",
       "  ('More restaurant choices', 0.5897138785369491),\n",
       "  ('Easy Payment option', 0.5571767618313485),\n",
       "  ('More Offers and Discount', 0.5564505912203883),\n",
       "  ('Good Food quality', 0.4243449172824401),\n",
       "  ('Good Tracking system', 0.41749280981704445),\n",
       "  ('Unaffordable', 0.40917014994986045),\n",
       "  ('Maximum wait time', 0.4135981980209824)]}"
      ]
     },
     "execution_count": 394,
     "metadata": {},
     "output_type": "execute_result"
    }
   ],
   "source": [
    "#Cramer's V perform for find relation between \n",
    "crv={}\n",
    "l1=[]\n",
    "for i in fd_ori.columns:\n",
    "    if i not in  ['latitude','longitude','Pin code','Output','Reviews']:\n",
    "        '''we are not using lat and long because in EDA all location diffrent (reference dtale lib)'''\n",
    "        df=pd.crosstab(fd_ori['Output'],fd_ori[i])\n",
    "        stat, p, dof, expected = st.chi2_contingency(df,correction=True)\n",
    "     \n",
    "        deno=sum(df.sum())\n",
    "        x=numpy.sqrt(stat / deno)\n",
    "        if(x>0.40): #thresold\n",
    "             l1.append((i,x))\n",
    "\n",
    "\n",
    "crv['Output']=l1\n",
    "        \n",
    "crv"
   ]
  },
  {
   "cell_type": "code",
   "execution_count": 383,
   "metadata": {
    "ExecuteTime": {
     "end_time": "2021-02-14T07:21:14.551280Z",
     "start_time": "2021-02-14T07:21:14.541287Z"
    },
    "code_folding": []
   },
   "outputs": [
    {
     "data": {
      "text/plain": [
       "['Age',\n",
       " 'Ease and convenient',\n",
       " 'Time saving',\n",
       " 'More restaurant choices',\n",
       " 'Easy Payment option',\n",
       " 'More Offers and Discount',\n",
       " 'Good Food quality',\n",
       " 'Good Tracking system',\n",
       " 'Maximum wait time']"
      ]
     },
     "execution_count": 383,
     "metadata": {},
     "output_type": "execute_result"
    }
   ],
   "source": [
    "#Extract the feature from above dictionary \n",
    "basic_f0=[]\n",
    "for i in l1:\n",
    "    basic_f0.append(i[0])\n",
    "\n",
    "basic_f0"
   ]
  },
  {
   "cell_type": "code",
   "execution_count": 145,
   "metadata": {
    "ExecuteTime": {
     "end_time": "2021-02-14T04:51:22.305101Z",
     "start_time": "2021-02-14T04:51:22.199579Z"
    }
   },
   "outputs": [],
   "source": [
    "X=fd_dlvry[basic_f0] # select X \n",
    "y=fd_dlvry['Output'] # select Y\n"
   ]
  },
  {
   "cell_type": "code",
   "execution_count": 146,
   "metadata": {
    "ExecuteTime": {
     "end_time": "2021-02-14T04:51:22.471006Z",
     "start_time": "2021-02-14T04:51:22.334083Z"
    }
   },
   "outputs": [],
   "source": [
    "%matplotlib inline"
   ]
  },
  {
   "cell_type": "code",
   "execution_count": 147,
   "metadata": {
    "ExecuteTime": {
     "end_time": "2021-02-14T04:51:22.666763Z",
     "start_time": "2021-02-14T04:51:22.490994Z"
    },
    "scrolled": true
   },
   "outputs": [
    {
     "data": {
      "text/plain": [
       "['Age',\n",
       " 'Ease and convenient',\n",
       " 'Time saving',\n",
       " 'More restaurant choices',\n",
       " 'Easy Payment option',\n",
       " 'More Offers and Discount',\n",
       " 'Good Food quality',\n",
       " 'Good Tracking system',\n",
       " 'Maximum wait time']"
      ]
     },
     "execution_count": 147,
     "metadata": {},
     "output_type": "execute_result"
    }
   ],
   "source": [
    "basic_f0"
   ]
  },
  {
   "cell_type": "code",
   "execution_count": 148,
   "metadata": {
    "ExecuteTime": {
     "end_time": "2021-02-14T04:51:23.147933Z",
     "start_time": "2021-02-14T04:51:22.670758Z"
    },
    "scrolled": true
   },
   "outputs": [
    {
     "data": {
      "text/plain": [
       "<AxesSubplot:xlabel='Output', ylabel='count'>"
      ]
     },
     "execution_count": 148,
     "metadata": {},
     "output_type": "execute_result"
    },
    {
     "data": {
      "image/png": "[encoded data removed]",
      "text/plain": [
       "<Figure size 432x288 with 1 Axes>"
      ]
     },
     "metadata": {
      "needs_background": "light"
     },
     "output_type": "display_data"
    }
   ],
   "source": [
    "sns.countplot(fd_ori['Output']) # look target feature"
   ]
  },
  {
   "cell_type": "markdown",
   "metadata": {
    "ExecuteTime": {
     "end_time": "2020-12-19T04:21:54.351232Z",
     "start_time": "2020-12-19T04:21:54.343232Z"
    }
   },
   "source": [
    "#  KNN Algorithm  "
   ]
  },
  {
   "cell_type": "code",
   "execution_count": 149,
   "metadata": {
    "ExecuteTime": {
     "end_time": "2021-02-14T04:51:23.184889Z",
     "start_time": "2021-02-14T04:51:23.151907Z"
    }
   },
   "outputs": [],
   "source": [
    "# train_test_split by sklearn \n",
    "X=fd_dlvry[basic_f0]\n",
    "y=fd_dlvry['Output']\n",
    "# from imblearn.under_sampling import NearMiss\n",
    "# nm=NearMiss()\n",
    "# Make data balanced\n",
    "from imblearn.over_sampling import RandomOverSampler\n",
    "nm=RandomOverSampler(0.5)\n",
    "X,y=nm.fit_sample(X,y)\n",
    "X_train, X_test, y_train, y_test = train_test_split(X, y, test_size = 0.33)"
   ]
  },
  {
   "cell_type": "code",
   "execution_count": 150,
   "metadata": {
    "ExecuteTime": {
     "end_time": "2021-02-14T04:51:23.374191Z",
     "start_time": "2021-02-14T04:51:23.189886Z"
    }
   },
   "outputs": [
    {
     "data": {
      "text/plain": [
       "1    301\n",
       "0     87\n",
       "Name: Output, dtype: int64"
      ]
     },
     "execution_count": 150,
     "metadata": {},
     "output_type": "execute_result"
    }
   ],
   "source": [
    "fd_dlvry['Output'].value_counts()"
   ]
  },
  {
   "cell_type": "code",
   "execution_count": 151,
   "metadata": {
    "ExecuteTime": {
     "end_time": "2021-02-14T04:51:23.485127Z",
     "start_time": "2021-02-14T04:51:23.379187Z"
    }
   },
   "outputs": [
    {
     "data": {
      "text/plain": [
       "((451, 9), (451,))"
      ]
     },
     "execution_count": 151,
     "metadata": {},
     "output_type": "execute_result"
    }
   ],
   "source": [
    "X.shape,y.shape"
   ]
  },
  {
   "cell_type": "code",
   "execution_count": 152,
   "metadata": {
    "ExecuteTime": {
     "end_time": "2021-02-14T04:51:24.579527Z",
     "start_time": "2021-02-14T04:51:23.491124Z"
    }
   },
   "outputs": [
    {
     "data": {
      "image/png": "[encoded data removed]",
      "text/plain": [
       "<Figure size 432x288 with 1 Axes>"
      ]
     },
     "metadata": {
      "needs_background": "light"
     },
     "output_type": "display_data"
    }
   ],
   "source": [
    "#select best knneighbour find \n",
    "plt.figure()\n",
    "training_accuracy = []\n",
    "test_accuracy = []\n",
    "# try n_neighbors from 1 to 10\n",
    "neighbors_settings = range(1, 11)\n",
    "for i in neighbors_settings:\n",
    "    clf = KNeighborsClassifier(n_neighbors=i)\n",
    "    clf.fit(X_train, y_train)\n",
    "    training_accuracy.append(clf.score(X_train, y_train))\n",
    "    # record generalization accuracy\n",
    "    test_accuracy.append(clf.score(X_test, y_test))\n",
    "plt.plot(neighbors_settings,training_accuracy,label=\"training accuracy\")\n",
    "plt.plot(neighbors_settings,test_accuracy,label=\"test accuracy\")\n",
    "plt.ylabel(\"Accuracy\")\n",
    "plt.xlabel(\"n_neighbors\")\n",
    "plt.legend()\n",
    "\n",
    "plt.show()"
   ]
  },
  {
   "cell_type": "code",
   "execution_count": 153,
   "metadata": {
    "ExecuteTime": {
     "end_time": "2021-02-14T04:51:25.662668Z",
     "start_time": "2021-02-14T04:51:24.583524Z"
    }
   },
   "outputs": [
    {
     "data": {
      "image/png": "[encoded data removed]",
      "text/plain": [
       "<Figure size 432x288 with 1 Axes>"
      ]
     },
     "metadata": {
      "needs_background": "light"
     },
     "output_type": "display_data"
    }
   ],
   "source": [
    "# appropriate test size find \n",
    "plt.figure()\n",
    "training_accuracy = []\n",
    "test_accuracy = []\n",
    "# try n_neighbors from 1 to 10\n",
    "test_size= numpy.arange(0.1, 0.9,0.05)\n",
    "knn = KNeighborsClassifier(n_neighbors = 3,p=1)\n",
    "for i in test_size:\n",
    "    \n",
    "        X_train, X_test, y_train, y_test = train_test_split(X, y, test_size = i)\n",
    "        knn.fit(X_train, y_train)\n",
    "        training_accuracy.append(knn.score(X_test, y_test))\n",
    "        test_accuracy.append(knn.score(X_train, y_train))\n",
    "  \n",
    "\n",
    "    \n",
    "plt.plot(test_size,training_accuracy,label=\"training accuracy\")\n",
    "plt.plot(test_size,test_accuracy,label=\"test accuracy\")\n",
    "plt.ylabel(\"Accuracy\")\n",
    "plt.xlabel(\"test_size\")\n",
    "plt.legend()\n",
    "\n",
    "plt.show()"
   ]
  },
  {
   "cell_type": "code",
   "execution_count": 154,
   "metadata": {
    "ExecuteTime": {
     "end_time": "2021-02-14T04:51:25.676660Z",
     "start_time": "2021-02-14T04:51:25.665667Z"
    }
   },
   "outputs": [],
   "source": [
    "#split data\n",
    "X_train,X_test,y_train,y_test=train_test_split(X,y,test_size=0.25)"
   ]
  },
  {
   "cell_type": "code",
   "execution_count": 155,
   "metadata": {
    "ExecuteTime": {
     "end_time": "2021-02-14T04:51:25.841379Z",
     "start_time": "2021-02-14T04:51:25.680658Z"
    }
   },
   "outputs": [
    {
     "data": {
      "text/plain": [
       "0.8938053097345132"
      ]
     },
     "execution_count": 155,
     "metadata": {},
     "output_type": "execute_result"
    }
   ],
   "source": [
    "# fit data and perform the knn algo\n",
    "neigh = KNeighborsClassifier(n_neighbors=5,p=1)\n",
    "\n",
    "knn=neigh.fit(X_train,y_train)\n",
    "\n",
    "knn.score(X_test,y_test)\n"
   ]
  },
  {
   "cell_type": "code",
   "execution_count": 156,
   "metadata": {
    "ExecuteTime": {
     "end_time": "2021-02-14T04:51:25.953317Z",
     "start_time": "2021-02-14T04:51:25.845378Z"
    }
   },
   "outputs": [],
   "source": [
    "#y_pred for confusion matrix\n",
    "y_pred=knn.predict(X_test)"
   ]
  },
  {
   "cell_type": "code",
   "execution_count": 157,
   "metadata": {
    "ExecuteTime": {
     "end_time": "2021-02-14T04:51:26.044263Z",
     "start_time": "2021-02-14T04:51:25.957314Z"
    }
   },
   "outputs": [
    {
     "data": {
      "text/plain": [
       "array([[33,  8],\n",
       "       [ 4, 68]], dtype=int64)"
      ]
     },
     "execution_count": 157,
     "metadata": {},
     "output_type": "execute_result"
    }
   ],
   "source": [
    "#confusion matrix \n",
    "cf_matrix_n=confusion_matrix(y_test, y_pred)\n",
    "cf_matrix_n"
   ]
  },
  {
   "cell_type": "code",
   "execution_count": 158,
   "metadata": {
    "ExecuteTime": {
     "end_time": "2021-02-14T04:51:26.159197Z",
     "start_time": "2021-02-14T04:51:26.048260Z"
    },
    "scrolled": false
   },
   "outputs": [
    {
     "name": "stdout",
     "output_type": "stream",
     "text": [
      "              precision    recall  f1-score   support\n",
      "\n",
      "           0       0.89      0.80      0.85        41\n",
      "           1       0.89      0.94      0.92        72\n",
      "\n",
      "    accuracy                           0.89       113\n",
      "   macro avg       0.89      0.87      0.88       113\n",
      "weighted avg       0.89      0.89      0.89       113\n",
      "\n"
     ]
    }
   ],
   "source": [
    "#classification report \n",
    "print(classification_report(y_test,y_pred))"
   ]
  },
  {
   "cell_type": "code",
   "execution_count": 159,
   "metadata": {
    "ExecuteTime": {
     "end_time": "2021-02-14T04:51:26.642922Z",
     "start_time": "2021-02-14T04:51:26.164194Z"
    }
   },
   "outputs": [
    {
     "data": {
      "image/png": "[encoded data removed]",
      "text/plain": [
       "<Figure size 432x288 with 1 Axes>"
      ]
     },
     "metadata": {
      "needs_background": "light"
     },
     "output_type": "display_data"
    }
   ],
   "source": [
    "from sklearn.metrics import roc_curve\n",
    "fpr, tpr, thresholds=roc_curve(y_test, y_pred)\n",
    "AUC=round(metrics.auc(fpr, tpr),2)\n",
    "\n",
    "plt.plot([0,1], [0,1], linestyle='--', label='No Skill')\n",
    "plt.plot(fpr, tpr, marker='.', label=f'knn AUC={AUC}')\n",
    "# axis labels\n",
    "plt.xlabel('False Positive Rate')\n",
    "plt.ylabel('True Positive Rate')\n",
    "plt.legend()\n",
    "# show the plot\n",
    "plt.show()\n"
   ]
  },
  {
   "cell_type": "code",
   "execution_count": null,
   "metadata": {},
   "outputs": [],
   "source": []
  },
  {
   "cell_type": "markdown",
   "metadata": {
    "ExecuteTime": {
     "end_time": "2020-12-19T04:23:45.286574Z",
     "start_time": "2020-12-19T04:23:45.278579Z"
    }
   },
   "source": [
    "<b> Conclusion: </b>"
   ]
  },
  {
   "cell_type": "code",
   "execution_count": 160,
   "metadata": {
    "ExecuteTime": {
     "end_time": "2021-02-14T04:51:26.655914Z",
     "start_time": "2021-02-14T04:51:26.646919Z"
    }
   },
   "outputs": [
    {
     "data": {
      "text/plain": [
       "'Here weighted avg f1-score is good and AUC is greate but problems here Knn is not learning something\\nknn just use more memory space for perform operation and mostly features are categorical so noise affect\\non this algorithms\\n'"
      ]
     },
     "execution_count": 160,
     "metadata": {},
     "output_type": "execute_result"
    }
   ],
   "source": [
    "'''Here weighted avg f1-score is good and AUC is greate but problems here Knn is not learning something\n",
    "knn just use more memory space for perform operation and mostly features are categorical so noise affect\n",
    "on this algorithms\n",
    "'''"
   ]
  },
  {
   "cell_type": "markdown",
   "metadata": {
    "ExecuteTime": {
     "end_time": "2020-12-30T12:59:28.745150Z",
     "start_time": "2020-12-30T12:59:28.737155Z"
    }
   },
   "source": [
    "<b> Cross-Validation </b>"
   ]
  },
  {
   "cell_type": "code",
   "execution_count": 161,
   "metadata": {
    "ExecuteTime": {
     "end_time": "2021-02-14T04:51:26.996719Z",
     "start_time": "2021-02-14T04:51:26.659911Z"
    }
   },
   "outputs": [
    {
     "name": "stdout",
     "output_type": "stream",
     "text": [
      "mean:=0.8982930298719771 std :0.06312809261883197\n"
     ]
    }
   ],
   "source": [
    "#without StratifiedKFold \n",
    "Knn=KNeighborsClassifier(n_neighbors=5,p=1)\n",
    "score=cross_val_score(knn,X,y,cv=12)\n",
    "print(\"mean:=\"+str(score.mean()),\"std :\"+str(score.std()))"
   ]
  },
  {
   "cell_type": "code",
   "execution_count": 162,
   "metadata": {
    "ExecuteTime": {
     "end_time": "2021-02-14T04:51:27.252584Z",
     "start_time": "2021-02-14T04:51:27.000717Z"
    }
   },
   "outputs": [
    {
     "name": "stdout",
     "output_type": "stream",
     "text": [
      "List of possible accuracy: [0.8947368421052632, 0.8157894736842105, 0.9473684210526315, 0.8421052631578947, 0.9473684210526315, 0.868421052631579, 0.8421052631578947, 0.7837837837837838, 0.8378378378378378, 0.9459459459459459, 0.8648648648648649, 0.918918918918919]\n",
      "\n",
      "Maximum Accuracy That can be obtained from this model is: 94.73684210526315 %\n",
      "\n",
      "Minimum Accuracy: 78.37837837837837 %\n",
      "\n",
      "Average Accuracy That can be obtained from this model is:: 0.8757705073494547\n",
      "\n",
      "Standard Deviation is: 0.052707080433850535\n"
     ]
    }
   ],
   "source": [
    "#with StratifiedKFold \n",
    "import numpy as np\n",
    "from sklearn.model_selection import StratifiedKFold \n",
    "skf = StratifiedKFold(n_splits=12, shuffle=True, random_state=1) \n",
    "lst_accu_stratified = [] \n",
    "\n",
    "for train_index, test_index in skf.split(X, y): \n",
    "    x_train_fold, x_test_fold = X.loc[train_index,:], X.loc[test_index,:] \n",
    "    y_train_fold, y_test_fold = y[train_index], y[test_index] \n",
    "    knn.fit(x_train_fold, y_train_fold) \n",
    "    lst_accu_stratified.append(knn.score(x_test_fold, y_test_fold))\n",
    "    \n",
    "    \n",
    "print('List of possible accuracy:', lst_accu_stratified) \n",
    "print('\\nMaximum Accuracy That can be obtained from this model is:', \n",
    "      max(lst_accu_stratified)*100, '%') \n",
    "print('\\nMinimum Accuracy:', \n",
    "      min(lst_accu_stratified)*100, '%') \n",
    "print('\\nAverage Accuracy That can be obtained from this model is::',np.mean(lst_accu_stratified)) \n",
    "print('\\nStandard Deviation is:',np.std(lst_accu_stratified)) "
   ]
  },
  {
   "cell_type": "markdown",
   "metadata": {},
   "source": [
    "# method 2: feature selection using SelectKBest"
   ]
  },
  {
   "cell_type": "code",
   "execution_count": 163,
   "metadata": {
    "ExecuteTime": {
     "end_time": "2021-02-14T04:51:27.265576Z",
     "start_time": "2021-02-14T04:51:27.258580Z"
    }
   },
   "outputs": [],
   "source": [
    "from sklearn.feature_selection import SelectKBest\n",
    "from sklearn.feature_selection import chi2,mutual_info_classif"
   ]
  },
  {
   "cell_type": "code",
   "execution_count": 164,
   "metadata": {
    "ExecuteTime": {
     "end_time": "2021-02-14T04:51:27.403496Z",
     "start_time": "2021-02-14T04:51:27.270573Z"
    }
   },
   "outputs": [],
   "source": [
    "def select_features(X_train, y_train, X_test):\n",
    "    fs = SelectKBest(score_func=chi2, k='all')\n",
    "    fs.fit(X_train, y_train)\n",
    "    X_train_fs = fs.transform(X_train)\n",
    "    X_test_fs = fs.transform(X_test)\n",
    "    return X_train_fs, X_test_fs, fs"
   ]
  },
  {
   "cell_type": "code",
   "execution_count": 165,
   "metadata": {
    "ExecuteTime": {
     "end_time": "2021-02-14T04:51:27.584401Z",
     "start_time": "2021-02-14T04:51:27.407494Z"
    }
   },
   "outputs": [
    {
     "data": {
      "text/plain": [
       "(451, 50)"
      ]
     },
     "execution_count": 165,
     "metadata": {},
     "output_type": "execute_result"
    }
   ],
   "source": [
    "#select feature \n",
    "l1=['latitude','longitude','Pin code','Output','Reviews']\n",
    "X=fd_dlvry[fd_dlvry.columns[~fd_dlvry.columns.isin(l1)]]\n",
    "y=fd_dlvry['Output']\n",
    "nm=RandomOverSampler(0.5)\n",
    "X,y=nm.fit_sample(X,y)\n",
    "X.shape"
   ]
  },
  {
   "cell_type": "code",
   "execution_count": 166,
   "metadata": {
    "ExecuteTime": {
     "end_time": "2021-02-14T04:51:27.694348Z",
     "start_time": "2021-02-14T04:51:27.588399Z"
    }
   },
   "outputs": [],
   "source": [
    "X_train, X_test, y_train, y_test = train_test_split(X, y, test_size=0.33, random_state=1)"
   ]
  },
  {
   "cell_type": "code",
   "execution_count": 167,
   "metadata": {
    "ExecuteTime": {
     "end_time": "2021-02-14T04:51:28.357229Z",
     "start_time": "2021-02-14T04:51:27.699343Z"
    }
   },
   "outputs": [
    {
     "name": "stdout",
     "output_type": "stream",
     "text": [
      "Feature 0: 5.686458\n",
      "Feature 1: 0.078317\n",
      "Feature 2: 10.738655\n",
      "Feature 3: 10.121110\n",
      "Feature 4: 9.828667\n",
      "Feature 5: 8.583840\n",
      "Feature 6: 0.079938\n",
      "Feature 7: 0.191377\n",
      "Feature 8: 0.104406\n",
      "Feature 9: 0.000391\n",
      "Feature 10: 0.548476\n",
      "Feature 11: 3.754604\n",
      "Feature 12: 0.039712\n",
      "Feature 13: 4.394215\n",
      "Feature 14: 0.489768\n",
      "Feature 15: 4.412182\n",
      "Feature 16: 11.310603\n",
      "Feature 17: 3.051233\n",
      "Feature 18: 6.588744\n",
      "Feature 19: 0.117668\n",
      "Feature 20: 45.873295\n",
      "Feature 21: 9.514518\n",
      "Feature 22: 19.617432\n",
      "Feature 23: 0.167675\n",
      "Feature 24: 17.227774\n",
      "Feature 25: 7.487221\n",
      "Feature 26: 28.230113\n",
      "Feature 27: 3.133473\n",
      "Feature 28: 0.093110\n",
      "Feature 29: 28.518917\n",
      "Feature 30: 6.473625\n",
      "Feature 31: 0.005520\n",
      "Feature 32: 0.153093\n",
      "Feature 33: 0.965501\n",
      "Feature 34: 22.907221\n",
      "Feature 35: 23.553319\n",
      "Feature 36: 8.135990\n",
      "Feature 37: 1.953752\n",
      "Feature 38: 1.797243\n",
      "Feature 39: 4.376294\n",
      "Feature 40: 0.040225\n",
      "Feature 41: 0.171271\n",
      "Feature 42: 5.036219\n",
      "Feature 43: 1.341093\n",
      "Feature 44: 0.177838\n",
      "Feature 45: 5.529824\n",
      "Feature 46: 13.093645\n",
      "Feature 47: 1.618314\n",
      "Feature 48: 9.746806\n",
      "Feature 49: 0.040807\n"
     ]
    },
    {
     "data": {
      "image/png": "[encoded data removed]",
      "text/plain": [
       "<Figure size 432x288 with 1 Axes>"
      ]
     },
     "metadata": {
      "needs_background": "light"
     },
     "output_type": "display_data"
    }
   ],
   "source": [
    "X_train_fs, X_test_fs, fs = select_features(X_train, y_train, X_test)\n",
    "for i in range(len(fs.scores_)):\n",
    "     print('Feature %d: %f' % (i, fs.scores_[i]))\n",
    "# plot the scores\n",
    "plt.bar([i for i in range(len(fs.scores_))], fs.scores_)\n",
    "\n",
    "plt.show()"
   ]
  },
  {
   "cell_type": "code",
   "execution_count": null,
   "metadata": {},
   "outputs": [],
   "source": []
  },
  {
   "cell_type": "code",
   "execution_count": 168,
   "metadata": {
    "ExecuteTime": {
     "end_time": "2021-02-14T04:51:28.373221Z",
     "start_time": "2021-02-14T04:51:28.361246Z"
    },
    "scrolled": true
   },
   "outputs": [
    {
     "name": "stdout",
     "output_type": "stream",
     "text": [
      "Marital Status\n",
      "Occupation\n",
      "Easy Payment option\n",
      "Self Cooking\n",
      "Late Delivery\n",
      "Bad past experience\n",
      "Unaffordable\n",
      "Delay of delivery person picking up food\n",
      "Order Time\n",
      "Maximum wait time\n",
      "Freshness \n"
     ]
    }
   ],
   "source": [
    "# Extract feature \n",
    "basic_f1=[]\n",
    "for i in range(len(fs.scores_)):\n",
    "    if(fs.scores_[i]>10): # set Thresold\n",
    "        print(X_test.columns[i])\n",
    "        basic_f1.append(X_test.columns[i])"
   ]
  },
  {
   "cell_type": "markdown",
   "metadata": {},
   "source": [
    "# KNN Algorithm "
   ]
  },
  {
   "cell_type": "code",
   "execution_count": 169,
   "metadata": {
    "ExecuteTime": {
     "end_time": "2021-02-14T04:51:28.504269Z",
     "start_time": "2021-02-14T04:51:28.378217Z"
    }
   },
   "outputs": [],
   "source": [
    "X=fd_dlvry[basic_f1]\n",
    "y=fd_dlvry['Output']\n",
    "\n",
    "nm=RandomOverSampler()\n",
    "X,y=nm.fit_sample(X,y)"
   ]
  },
  {
   "cell_type": "code",
   "execution_count": 170,
   "metadata": {
    "ExecuteTime": {
     "end_time": "2021-02-14T04:51:28.669949Z",
     "start_time": "2021-02-14T04:51:28.508266Z"
    }
   },
   "outputs": [
    {
     "data": {
      "text/plain": [
       "(602, 11)"
      ]
     },
     "execution_count": 170,
     "metadata": {},
     "output_type": "execute_result"
    }
   ],
   "source": [
    "X.shape"
   ]
  },
  {
   "cell_type": "code",
   "execution_count": 171,
   "metadata": {
    "ExecuteTime": {
     "end_time": "2021-02-14T04:51:29.833460Z",
     "start_time": "2021-02-14T04:51:28.673947Z"
    },
    "code_folding": []
   },
   "outputs": [
    {
     "data": {
      "image/png": "[encoded data removed]",
      "text/plain": [
       "<Figure size 432x288 with 1 Axes>"
      ]
     },
     "metadata": {
      "needs_background": "light"
     },
     "output_type": "display_data"
    }
   ],
   "source": [
    "#neighbour find \n",
    "plt.figure()\n",
    "training_accuracy = []\n",
    "test_accuracy = []\n",
    "# try n_neighbors from 1 to 10\n",
    "neighbors_settings = range(1, 11)\n",
    "for i in neighbors_settings:\n",
    "    clf = KNeighborsClassifier(n_neighbors=i,p=1)\n",
    "    clf.fit(X_train, y_train)\n",
    "    training_accuracy.append(clf.score(X_train, y_train))\n",
    "    # record generalization accuracy\n",
    "    test_accuracy.append(clf.score(X_test, y_test))\n",
    "plt.plot(neighbors_settings,training_accuracy,label=\"training accuracy\")\n",
    "plt.plot(neighbors_settings,test_accuracy,label=\"test accuracy\")\n",
    "plt.ylabel(\"Accuracy\")\n",
    "plt.xlabel(\"n_neighbors\")\n",
    "plt.legend()\n",
    "\n",
    "plt.show()"
   ]
  },
  {
   "cell_type": "code",
   "execution_count": 172,
   "metadata": {
    "ExecuteTime": {
     "end_time": "2021-02-14T04:51:29.844455Z",
     "start_time": "2021-02-14T04:51:29.837457Z"
    },
    "code_folding": [
     0
    ]
   },
   "outputs": [],
   "source": [
    "# here some Extra work it's take long time to running\n",
    "# plt.figure()\n",
    "# training_accuracy = []\n",
    "# test_accuracy = []\n",
    "# # try n_neighbors from 1 to 10\n",
    "# test_size= numpy.arange(0.1, 0.9,0.05)\n",
    "# knn = KNeighborsClassifier(n_neighbors = 3)\n",
    "# for i in test_size:\n",
    "    \n",
    "    \n",
    "#     test_score = []\n",
    "#     train_score=[]\n",
    "#     for j in range(1,1000):\n",
    "#         X_train, X_test, y_train, y_test = train_test_split(X, y, test_size = i,random_state=6)\n",
    "#         knn.fit(X_train, y_train)\n",
    "#         test_score.append(knn.score(X_test, y_test))\n",
    "#         train_score.append(knn.score(X_train, y_train))\n",
    "  \n",
    "\n",
    "       \n",
    "#     training_accuracy.append(np.mean(train_score))\n",
    "#     # record generalization accuracy\n",
    "#     test_accuracy.append(np.mean(test_score))\n",
    "\n",
    "# plt.plot(test_size,training_accuracy,label=\"training accuracy\")\n",
    "# plt.plot(test_size,test_accuracy,label=\"test accuracy\")\n",
    "# plt.ylabel(\"Accuracy\")\n",
    "# plt.xlabel(\"test_size\")\n",
    "# plt.legend()\n",
    "\n",
    "# plt.show()"
   ]
  },
  {
   "cell_type": "code",
   "execution_count": 173,
   "metadata": {
    "ExecuteTime": {
     "end_time": "2021-02-14T04:51:31.358952Z",
     "start_time": "2021-02-14T04:51:29.848451Z"
    },
    "code_folding": []
   },
   "outputs": [
    {
     "data": {
      "image/png": "[encoded data removed]",
      "text/plain": [
       "<Figure size 432x288 with 1 Axes>"
      ]
     },
     "metadata": {
      "needs_background": "light"
     },
     "output_type": "display_data"
    }
   ],
   "source": [
    "# appropriate test size find \n",
    "plt.figure()\n",
    "training_accuracy = []\n",
    "test_accuracy = []\n",
    "# try n_neighbors from 1 to 10\n",
    "test_size= numpy.arange(0.1, 0.9,0.05)\n",
    "knn = KNeighborsClassifier(n_neighbors = 5)\n",
    "for i in test_size:\n",
    "    \n",
    "        X_train, X_test, y_train, y_test = train_test_split(X, y, test_size = i)\n",
    "        knn.fit(X_train, y_train)\n",
    "        training_accuracy.append(knn.score(X_train,y_train))\n",
    "        test_accuracy.append(knn.score(X_test,y_test))\n",
    "  \n",
    "\n",
    "    \n",
    "plt.plot(test_size,training_accuracy,label=\"training accuracy\")\n",
    "plt.plot(test_size,test_accuracy,label=\"test accuracy\")\n",
    "plt.ylabel(\"Accuracy\")\n",
    "plt.xlabel(\"test_size\")\n",
    "plt.legend()\n",
    "\n",
    "plt.show()"
   ]
  },
  {
   "cell_type": "code",
   "execution_count": 174,
   "metadata": {
    "ExecuteTime": {
     "end_time": "2021-02-14T04:51:31.410923Z",
     "start_time": "2021-02-14T04:51:31.362951Z"
    }
   },
   "outputs": [
    {
     "data": {
      "text/plain": [
       "0.8008298755186722"
      ]
     },
     "execution_count": 174,
     "metadata": {},
     "output_type": "execute_result"
    }
   ],
   "source": [
    "#split data into test data and train data\n",
    "X_train,X_test,y_train,y_test=train_test_split(X,y,test_size=0.4)\n",
    "\n",
    "neigh = KNeighborsClassifier(n_neighbors=5)\n",
    "\n",
    "knn=neigh.fit(X_train,y_train)\n",
    "\n",
    "knn.score(X_test,y_test)"
   ]
  },
  {
   "cell_type": "code",
   "execution_count": 175,
   "metadata": {
    "ExecuteTime": {
     "end_time": "2021-02-14T04:51:31.539959Z",
     "start_time": "2021-02-14T04:51:31.413920Z"
    }
   },
   "outputs": [],
   "source": [
    "y_pred=knn.predict(X_test)"
   ]
  },
  {
   "cell_type": "code",
   "execution_count": 176,
   "metadata": {
    "ExecuteTime": {
     "end_time": "2021-02-14T04:51:31.635901Z",
     "start_time": "2021-02-14T04:51:31.543952Z"
    }
   },
   "outputs": [
    {
     "data": {
      "text/plain": [
       "array([[105,  20],\n",
       "       [ 28,  88]], dtype=int64)"
      ]
     },
     "execution_count": 176,
     "metadata": {},
     "output_type": "execute_result"
    }
   ],
   "source": [
    "#confusion matrix \n",
    "cf_matrix_n=confusion_matrix(y_test, y_pred)\n",
    "cf_matrix_n"
   ]
  },
  {
   "cell_type": "code",
   "execution_count": 177,
   "metadata": {
    "ExecuteTime": {
     "end_time": "2021-02-14T04:51:31.749838Z",
     "start_time": "2021-02-14T04:51:31.638899Z"
    }
   },
   "outputs": [
    {
     "name": "stdout",
     "output_type": "stream",
     "text": [
      "              precision    recall  f1-score   support\n",
      "\n",
      "           0       0.79      0.84      0.81       125\n",
      "           1       0.81      0.76      0.79       116\n",
      "\n",
      "    accuracy                           0.80       241\n",
      "   macro avg       0.80      0.80      0.80       241\n",
      "weighted avg       0.80      0.80      0.80       241\n",
      "\n"
     ]
    }
   ],
   "source": [
    "#classification report\n",
    "print(classification_report(y_test,y_pred))"
   ]
  },
  {
   "cell_type": "code",
   "execution_count": 178,
   "metadata": {
    "ExecuteTime": {
     "end_time": "2021-02-14T04:51:32.186588Z",
     "start_time": "2021-02-14T04:51:31.753832Z"
    },
    "scrolled": true
   },
   "outputs": [
    {
     "data": {
      "image/png": "[encoded data removed]",
      "text/plain": [
       "<Figure size 432x288 with 1 Axes>"
      ]
     },
     "metadata": {
      "needs_background": "light"
     },
     "output_type": "display_data"
    }
   ],
   "source": [
    "from sklearn.metrics import roc_curve\n",
    "fpr, tpr, thresholds=roc_curve(y_test, y_pred)\n",
    "AUC=round(metrics.auc(fpr, tpr),2)\n",
    "\n",
    "plt.plot([0,1], [0,1], linestyle='--', label='No Skill')\n",
    "plt.plot(fpr, tpr, marker='.', label=f'knn AUC={AUC}')\n",
    "# axis labels\n",
    "plt.xlabel('False Positive Rate')\n",
    "plt.ylabel('True Positive Rate')\n",
    "plt.legend()\n",
    "# show the plot\n",
    "plt.show()\n"
   ]
  },
  {
   "cell_type": "markdown",
   "metadata": {},
   "source": [
    "<b> Conclusion:</b>"
   ]
  },
  {
   "cell_type": "code",
   "execution_count": 179,
   "metadata": {
    "ExecuteTime": {
     "end_time": "2021-02-14T04:51:32.198578Z",
     "start_time": "2021-02-14T04:51:32.190588Z"
    }
   },
   "outputs": [
    {
     "data": {
      "text/plain": [
       "'feature selection method affect our model,AUC decrease as compare to the first one'"
      ]
     },
     "execution_count": 179,
     "metadata": {},
     "output_type": "execute_result"
    }
   ],
   "source": [
    "'''feature selection method affect our model,AUC decrease as compare to the first one'''"
   ]
  },
  {
   "cell_type": "markdown",
   "metadata": {},
   "source": [
    "<b> Cross-Validation </b>"
   ]
  },
  {
   "cell_type": "code",
   "execution_count": 180,
   "metadata": {
    "ExecuteTime": {
     "end_time": "2021-02-14T04:51:32.648321Z",
     "start_time": "2021-02-14T04:51:32.202576Z"
    },
    "scrolled": true
   },
   "outputs": [
    {
     "name": "stdout",
     "output_type": "stream",
     "text": [
      "mean:=0.8322222222222222 std :0.08091600937039224\n"
     ]
    }
   ],
   "source": [
    "#without StratifiedKFold \n",
    "Knn=KNeighborsClassifier(n_neighbors=5,p=1)\n",
    "score=cross_val_score(knn,X,y,cv=12)\n",
    "print(\"mean:=\"+str(score.mean()),\"std :\"+str(score.std()))"
   ]
  },
  {
   "cell_type": "code",
   "execution_count": 181,
   "metadata": {
    "ExecuteTime": {
     "end_time": "2021-02-14T04:51:32.962142Z",
     "start_time": "2021-02-14T04:51:32.652318Z"
    }
   },
   "outputs": [
    {
     "name": "stdout",
     "output_type": "stream",
     "text": [
      "List of possible accuracy: [0.8627450980392157, 0.8235294117647058, 0.82, 0.84, 0.76, 0.86, 0.88, 0.72, 0.84, 0.86, 0.88, 0.88]\n",
      "\n",
      "Maximum Accuracy That can be obtained from this model is: 88.0 %\n",
      "\n",
      "Minimum Accuracy: 72.0 %\n",
      "\n",
      "Average Accuracy That can be obtained from this model is:: 0.8355228758169936\n",
      "\n",
      "Standard Deviation is: 0.04773894642587382\n"
     ]
    }
   ],
   "source": [
    "#with StratifiedKFold \n",
    "import numpy as np\n",
    "from sklearn.model_selection import StratifiedKFold \n",
    "skf = StratifiedKFold(n_splits=12, shuffle=True, random_state=1) \n",
    "lst_accu_stratified = [] \n",
    "\n",
    "for train_index, test_index in skf.split(X, y): \n",
    "    x_train_fold, x_test_fold = X.loc[train_index,:], X.loc[test_index,:] \n",
    "    y_train_fold, y_test_fold = y[train_index], y[test_index] \n",
    "    knn.fit(x_train_fold, y_train_fold) \n",
    "    lst_accu_stratified.append(knn.score(x_test_fold, y_test_fold))\n",
    "    \n",
    "    \n",
    "print('List of possible accuracy:', lst_accu_stratified) \n",
    "print('\\nMaximum Accuracy That can be obtained from this model is:', \n",
    "      max(lst_accu_stratified)*100, '%') \n",
    "print('\\nMinimum Accuracy:', \n",
    "      min(lst_accu_stratified)*100, '%') \n",
    "print('\\nAverage Accuracy That can be obtained from this model is::',np.mean(lst_accu_stratified)) \n",
    "print('\\nStandard Deviation is:',np.std(lst_accu_stratified)) "
   ]
  },
  {
   "cell_type": "markdown",
   "metadata": {},
   "source": [
    "#  Logistics Regression\n"
   ]
  },
  {
   "cell_type": "code",
   "execution_count": 182,
   "metadata": {
    "ExecuteTime": {
     "end_time": "2021-02-14T04:51:32.971136Z",
     "start_time": "2021-02-14T04:51:32.966138Z"
    }
   },
   "outputs": [],
   "source": [
    "from sklearn.linear_model import LogisticRegression"
   ]
  },
  {
   "cell_type": "code",
   "execution_count": 183,
   "metadata": {
    "ExecuteTime": {
     "end_time": "2021-02-14T04:51:33.149047Z",
     "start_time": "2021-02-14T04:51:32.976132Z"
    }
   },
   "outputs": [],
   "source": [
    "# Here we are using  both method for feature selection  means we takes union both feature union\n",
    "\n",
    "f_feature=list(set(basic_f0).union(set(basic_f1)))"
   ]
  },
  {
   "cell_type": "code",
   "execution_count": 184,
   "metadata": {
    "ExecuteTime": {
     "end_time": "2021-02-14T04:51:33.297972Z",
     "start_time": "2021-02-14T04:51:33.153043Z"
    }
   },
   "outputs": [
    {
     "data": {
      "text/plain": [
       "['Good Food quality',\n",
       " 'Maximum wait time',\n",
       " 'Freshness ',\n",
       " 'Late Delivery',\n",
       " 'Self Cooking',\n",
       " 'Good Tracking system',\n",
       " 'More Offers and Discount',\n",
       " 'Time saving',\n",
       " 'Delay of delivery person picking up food',\n",
       " 'Ease and convenient',\n",
       " 'More restaurant choices',\n",
       " 'Bad past experience',\n",
       " 'Unaffordable',\n",
       " 'Marital Status',\n",
       " 'Occupation',\n",
       " 'Easy Payment option',\n",
       " 'Order Time',\n",
       " 'Age']"
      ]
     },
     "execution_count": 184,
     "metadata": {},
     "output_type": "execute_result"
    }
   ],
   "source": [
    "f_feature"
   ]
  },
  {
   "cell_type": "code",
   "execution_count": 185,
   "metadata": {
    "ExecuteTime": {
     "end_time": "2021-02-14T04:51:33.404912Z",
     "start_time": "2021-02-14T04:51:33.301970Z"
    }
   },
   "outputs": [],
   "source": [
    "# Now we need to use some domain knowlegde for selecting feature \n",
    "'''Group 1: {'Ease and convenient','Easy Payment option'}\n",
    "   Group 2 :{'Order Time','Time saving','Delay of delivery person picking up food','Maximum wait time'}'''\n",
    "f_feature=['Ease and convenient','Self Cooking','Maximum wait time','More restaurant choices',\n",
    " 'Unaffordable','More Offers and Discount','Good Food quality','Good Tracking system','Age','Bad past experience']"
   ]
  },
  {
   "cell_type": "code",
   "execution_count": 186,
   "metadata": {
    "ExecuteTime": {
     "end_time": "2021-02-14T04:51:33.603810Z",
     "start_time": "2021-02-14T04:51:33.409907Z"
    }
   },
   "outputs": [],
   "source": [
    "#select X,y \n",
    "\n",
    "X=fd_dlvry[f_feature]\n",
    "y=fd_dlvry['Output']\n",
    "from imblearn.under_sampling import NearMiss\n",
    "# nm=NearMiss()\n",
    "#try to making data balnaced \n",
    "nm=RandomOverSampler()\n",
    "X,y=nm.fit_sample(X,y)\n",
    "\n",
    "X_train, X_test, y_train, y_test = train_test_split(X, y, test_size = 0.33)"
   ]
  },
  {
   "cell_type": "code",
   "execution_count": 187,
   "metadata": {
    "ExecuteTime": {
     "end_time": "2021-02-14T04:51:34.015028Z",
     "start_time": "2021-02-14T04:51:33.607804Z"
    }
   },
   "outputs": [
    {
     "data": {
      "text/plain": [
       "(602, 10)"
      ]
     },
     "execution_count": 187,
     "metadata": {},
     "output_type": "execute_result"
    }
   ],
   "source": [
    "X.shape"
   ]
  },
  {
   "cell_type": "code",
   "execution_count": 188,
   "metadata": {
    "ExecuteTime": {
     "end_time": "2021-02-14T04:51:34.225467Z",
     "start_time": "2021-02-14T04:51:34.018026Z"
    }
   },
   "outputs": [
    {
     "data": {
      "text/plain": [
       "['Ease and convenient',\n",
       " 'Self Cooking',\n",
       " 'Maximum wait time',\n",
       " 'More restaurant choices',\n",
       " 'Unaffordable',\n",
       " 'More Offers and Discount',\n",
       " 'Good Food quality',\n",
       " 'Good Tracking system',\n",
       " 'Age',\n",
       " 'Bad past experience']"
      ]
     },
     "execution_count": 188,
     "metadata": {},
     "output_type": "execute_result"
    }
   ],
   "source": [
    "f_feature"
   ]
  },
  {
   "cell_type": "code",
   "execution_count": 189,
   "metadata": {
    "ExecuteTime": {
     "end_time": "2021-02-14T04:51:34.393258Z",
     "start_time": "2021-02-14T04:51:34.229331Z"
    }
   },
   "outputs": [],
   "source": [
    "Lg=LogisticRegression()"
   ]
  },
  {
   "cell_type": "code",
   "execution_count": 190,
   "metadata": {
    "ExecuteTime": {
     "end_time": "2021-02-14T04:52:03.272432Z",
     "start_time": "2021-02-14T04:51:34.415246Z"
    },
    "code_folding": []
   },
   "outputs": [
    {
     "data": {
      "image/png": "[encoded data removed]",
      "text/plain": [
       "<Figure size 432x288 with 1 Axes>"
      ]
     },
     "metadata": {
      "needs_background": "light"
     },
     "output_type": "display_data"
    }
   ],
   "source": [
    "#\n",
    "plt.figure()\n",
    "training_accuracy = []\n",
    "test_accuracy = []\n",
    "# try n_neighbors from 1 to 10\n",
    "test_size= numpy.arange(0.1, 0.9,0.05)\n",
    "\n",
    "for i in test_size:\n",
    "        t_s=[]\n",
    "        tn_=[]\n",
    "        for j in range(0,50):\n",
    "            X_train, X_test, y_train, y_test = train_test_split(X, y, test_size = i,random_state=np.random.randint(0,100))\n",
    "            Lg.fit(X_train, y_train)\n",
    "            \n",
    "            t_s.append(Lg.score(X_test,y_test))\n",
    "            tn_.append(Lg.score(X_train,y_train))\n",
    "        training_accuracy.append(np.mean(t_s))\n",
    "        test_accuracy.append(np.mean(tn_))\n",
    "\n",
    "\n",
    "    \n",
    "plt.plot(test_size,training_accuracy,label=\"training accuracy\")\n",
    "plt.plot(test_size,test_accuracy,label=\"test accuracy\")\n",
    "plt.ylabel(\"Accuracy\")\n",
    "plt.xlabel(\"test_size\")\n",
    "plt.legend()\n",
    "\n",
    "plt.show()\n",
    "\n",
    "\n"
   ]
  },
  {
   "cell_type": "code",
   "execution_count": 191,
   "metadata": {
    "ExecuteTime": {
     "end_time": "2021-02-14T04:52:03.333397Z",
     "start_time": "2021-02-14T04:52:03.281427Z"
    }
   },
   "outputs": [
    {
     "data": {
      "text/plain": [
       "0.8011049723756906"
      ]
     },
     "execution_count": 191,
     "metadata": {},
     "output_type": "execute_result"
    }
   ],
   "source": [
    "#data split into train and test size \n",
    "X_train,X_test,y_train,y_test=train_test_split(X,y,test_size=0.3)\n",
    "Lg.fit(X_train,y_train)\n",
    "Lg.score(X_test,y_test)"
   ]
  },
  {
   "cell_type": "code",
   "execution_count": 192,
   "metadata": {
    "ExecuteTime": {
     "end_time": "2021-02-14T04:52:03.453327Z",
     "start_time": "2021-02-14T04:52:03.336394Z"
    }
   },
   "outputs": [],
   "source": [
    "y_pred=Lg.predict(X_test)"
   ]
  },
  {
   "cell_type": "code",
   "execution_count": 193,
   "metadata": {
    "ExecuteTime": {
     "end_time": "2021-02-14T04:52:03.558268Z",
     "start_time": "2021-02-14T04:52:03.456329Z"
    }
   },
   "outputs": [
    {
     "data": {
      "text/plain": [
       "array([[73, 21],\n",
       "       [15, 72]], dtype=int64)"
      ]
     },
     "execution_count": 193,
     "metadata": {},
     "output_type": "execute_result"
    }
   ],
   "source": [
    "cf_matrix=confusion_matrix(y_test, y_pred)\n",
    "cf_matrix"
   ]
  },
  {
   "cell_type": "code",
   "execution_count": 194,
   "metadata": {
    "ExecuteTime": {
     "end_time": "2021-02-14T04:52:03.670214Z",
     "start_time": "2021-02-14T04:52:03.562267Z"
    }
   },
   "outputs": [
    {
     "name": "stdout",
     "output_type": "stream",
     "text": [
      "              precision    recall  f1-score   support\n",
      "\n",
      "           0       0.83      0.78      0.80        94\n",
      "           1       0.77      0.83      0.80        87\n",
      "\n",
      "    accuracy                           0.80       181\n",
      "   macro avg       0.80      0.80      0.80       181\n",
      "weighted avg       0.80      0.80      0.80       181\n",
      "\n"
     ]
    }
   ],
   "source": [
    "print(classification_report(y_test,y_pred))"
   ]
  },
  {
   "cell_type": "code",
   "execution_count": 195,
   "metadata": {
    "ExecuteTime": {
     "end_time": "2021-02-14T04:52:04.375158Z",
     "start_time": "2021-02-14T04:52:03.673215Z"
    },
    "scrolled": true
   },
   "outputs": [
    {
     "data": {
      "image/png": "[encoded data removed]",
      "text/plain": [
       "<Figure size 720x432 with 1 Axes>"
      ]
     },
     "metadata": {
      "needs_background": "light"
     },
     "output_type": "display_data"
    }
   ],
   "source": [
    "thresolds = [0.2,0.3,0.4,0.5,0.55,0.6,0.62,0.65,0.7,0.8]\n",
    "plt.figure(figsize=(10,6))\n",
    "for i in thresolds:\n",
    "    y_pred_proba = (Lg.predict_proba(X_test)[:,1]>=i).astype(int)\n",
    "    fpr, tpr, m= metrics.roc_curve(y_test,  y_pred_proba)\n",
    "    auc = metrics.roc_auc_score(y_test, y_pred_proba)\n",
    "    plt.plot(fpr,tpr,label=f\"data 1, auc={auc} thresold={i}\")\n",
    "    plt.legend(loc=4)\n",
    "\n",
    "\n",
    "\n",
    "plt.xlabel('fpr')\n",
    "plt.ylabel('tpr')\n",
    "plt.show()"
   ]
  },
  {
   "cell_type": "code",
   "execution_count": 196,
   "metadata": {
    "ExecuteTime": {
     "end_time": "2021-02-14T04:52:04.388151Z",
     "start_time": "2021-02-14T04:52:04.379156Z"
    }
   },
   "outputs": [
    {
     "data": {
      "text/plain": [
       "'In Knn weighted avg f1-score is good and AUC is great but problems in Knn is not learning something\\nknn just use more memory space for perform operation and mostly features are categorical so noise affect\\non this algorithms. Here we can see if we set thresold 0.65 in Logistics regression we get better model  and here algorithms \\nsomething learn \\n'"
      ]
     },
     "execution_count": 196,
     "metadata": {},
     "output_type": "execute_result"
    }
   ],
   "source": [
    "'''In Knn weighted avg f1-score is good and AUC is great but problems in Knn is not learning something\n",
    "knn just use more memory space for perform operation and mostly features are categorical so noise affect\n",
    "on this algorithms. Here we can see if we set thresold 0.65 in Logistics regression we get better model  and here algorithms \n",
    "something learn \n",
    "'''"
   ]
  },
  {
   "cell_type": "markdown",
   "metadata": {},
   "source": [
    "<b> Cross-Validation </b>"
   ]
  },
  {
   "cell_type": "code",
   "execution_count": 197,
   "metadata": {
    "ExecuteTime": {
     "end_time": "2021-02-14T04:52:05.054784Z",
     "start_time": "2021-02-14T04:52:04.393148Z"
    }
   },
   "outputs": [
    {
     "name": "stdout",
     "output_type": "stream",
     "text": [
      "List of possible accuracy: [0.73770492 0.81967213 0.85       0.8        0.75       0.78333333\n",
      " 0.81666667 0.78333333 0.7        0.76666667]\n",
      "\n",
      "Maximum Accuracy That can be obtained from this model is: 85.0 %\n",
      "\n",
      "Minimum Accuracy: 72.0 %\n",
      "\n",
      "Average Accuracy That can be obtained from this model is:: 0.7807377049180328\n",
      "\n",
      "Standard Deviation is: 0.04183509807253297\n"
     ]
    }
   ],
   "source": [
    "score=cross_val_score(Lg,X,y,cv=10)\n",
    "print('List of possible accuracy:', score) \n",
    "print('\\nMaximum Accuracy That can be obtained from this model is:', \n",
    "      max(score)*100, '%') \n",
    "print('\\nMinimum Accuracy:', \n",
    "      min(lst_accu_stratified)*100, '%') \n",
    "print('\\nAverage Accuracy That can be obtained from this model is::',np.mean(score)) \n",
    "print('\\nStandard Deviation is:',np.std(score)) "
   ]
  },
  {
   "cell_type": "code",
   "execution_count": 198,
   "metadata": {
    "ExecuteTime": {
     "end_time": "2021-02-14T04:52:05.537593Z",
     "start_time": "2021-02-14T04:52:05.058781Z"
    }
   },
   "outputs": [
    {
     "name": "stdout",
     "output_type": "stream",
     "text": [
      "List of possible accuracy: [0.7450980392156863, 0.7843137254901961, 0.86, 0.76, 0.74, 0.68, 0.84, 0.8, 0.82, 0.74, 0.8, 0.8]\n",
      "\n",
      "Maximum Accuracy That can be obtained from this model is: 86.0 %\n",
      "\n",
      "Minimum Accuracy: 68.0 %\n",
      "\n",
      "Average Accuracy That can be obtained from this model is:: 0.7807843137254903\n",
      "\n",
      " Median Accuracy That can be obtained from this model is:: 0.7921568627450981\n",
      "\n",
      "Standard Deviation is: 0.04798382828095543\n"
     ]
    }
   ],
   "source": [
    "import numpy as np\n",
    "from sklearn.model_selection import StratifiedKFold \n",
    "skf = StratifiedKFold(n_splits=12, shuffle=True, random_state=1) \n",
    "lst_accu_stratified = [] \n",
    "\n",
    "for train_index, test_index in skf.split(X, y): \n",
    "    x_train_fold, x_test_fold = X.loc[train_index,:], X.loc[test_index,:] \n",
    "    y_train_fold, y_test_fold = y[train_index], y[test_index] \n",
    "    Lg.fit(x_train_fold, y_train_fold) \n",
    "    lst_accu_stratified.append(Lg.score(x_test_fold, y_test_fold))\n",
    "    \n",
    "    \n",
    "print('List of possible accuracy:', lst_accu_stratified) \n",
    "print('\\nMaximum Accuracy That can be obtained from this model is:', \n",
    "      max(lst_accu_stratified)*100, '%') \n",
    "print('\\nMinimum Accuracy:', \n",
    "      min(lst_accu_stratified)*100, '%') \n",
    "print('\\nAverage Accuracy That can be obtained from this model is::',np.mean(lst_accu_stratified)) \n",
    "print('\\n Median Accuracy That can be obtained from this model is::',np.median(lst_accu_stratified)) \n",
    "print('\\nStandard Deviation is:',np.std(lst_accu_stratified)) "
   ]
  },
  {
   "cell_type": "code",
   "execution_count": 199,
   "metadata": {
    "ExecuteTime": {
     "end_time": "2021-02-14T04:52:05.774460Z",
     "start_time": "2021-02-14T04:52:05.543591Z"
    }
   },
   "outputs": [
    {
     "data": {
      "text/plain": [
       "array([0.75690608, 0.79005525, 0.74585635, 0.8121547 , 0.82320442])"
      ]
     },
     "execution_count": 199,
     "metadata": {},
     "output_type": "execute_result"
    }
   ],
   "source": [
    "from sklearn.model_selection import ShuffleSplit\n",
    "cv = ShuffleSplit(n_splits=5, test_size=0.3, random_state=0)\n",
    "cross_val_score(Lg, X, y, cv=cv)"
   ]
  },
  {
   "cell_type": "markdown",
   "metadata": {},
   "source": [
    "# DecisionTree (feature selection with both method)  "
   ]
  },
  {
   "cell_type": "code",
   "execution_count": 200,
   "metadata": {
    "ExecuteTime": {
     "end_time": "2021-02-14T04:52:05.814436Z",
     "start_time": "2021-02-14T04:52:05.778457Z"
    }
   },
   "outputs": [
    {
     "data": {
      "text/plain": [
       "1    301\n",
       "0     87\n",
       "Name: Output, dtype: int64"
      ]
     },
     "execution_count": 200,
     "metadata": {},
     "output_type": "execute_result"
    }
   ],
   "source": [
    "X=fd_dlvry[f_feature]\n",
    "y=fd_dlvry['Output']\n",
    "nm=RandomOverSampler() # try to making data balanced \n",
    "X,y=nm.fit_sample(X,y)\n",
    "fd_dlvry['Output'].value_counts()"
   ]
  },
  {
   "cell_type": "code",
   "execution_count": 201,
   "metadata": {
    "ExecuteTime": {
     "end_time": "2021-02-14T04:52:05.986354Z",
     "start_time": "2021-02-14T04:52:05.818434Z"
    }
   },
   "outputs": [
    {
     "data": {
      "text/plain": [
       "DecisionTreeClassifier(max_depth=6, min_samples_leaf=2, min_samples_split=4,\n",
       "                       random_state=0)"
      ]
     },
     "execution_count": 201,
     "metadata": {},
     "output_type": "execute_result"
    }
   ],
   "source": [
    "X_train, X_test, y_train, y_test = train_test_split(X, y, test_size = 0.33)\n",
    "clf=DecisionTreeClassifier(random_state=0,max_depth=6,min_samples_leaf=2,min_samples_split=4)\n",
    "clf.fit(X,y)"
   ]
  },
  {
   "cell_type": "code",
   "execution_count": 202,
   "metadata": {
    "ExecuteTime": {
     "end_time": "2021-02-14T04:52:06.113333Z",
     "start_time": "2021-02-14T04:52:05.990352Z"
    }
   },
   "outputs": [
    {
     "data": {
      "text/plain": [
       "0.9547738693467337"
      ]
     },
     "execution_count": 202,
     "metadata": {},
     "output_type": "execute_result"
    }
   ],
   "source": [
    "clf.score(X_test,y_test)"
   ]
  },
  {
   "cell_type": "code",
   "execution_count": 203,
   "metadata": {
    "ExecuteTime": {
     "end_time": "2021-02-14T04:52:06.342660Z",
     "start_time": "2021-02-14T04:52:06.116332Z"
    }
   },
   "outputs": [
    {
     "data": {
      "text/plain": [
       "array([0, 0, 0, 1, 1, 0, 0, 1, 1, 0, 0, 0, 1, 0, 0, 0, 1, 1, 0, 0, 0, 1,\n",
       "       0, 1, 1, 1, 1, 1, 0, 0, 1, 1, 0, 1, 0, 0, 1, 0, 0, 1, 1, 1, 1, 1,\n",
       "       0, 0, 0, 0, 0, 0, 1, 0, 0, 0, 0, 1, 1, 1, 1, 0, 1, 1, 1, 1, 0, 1,\n",
       "       0, 0, 0, 1, 1, 0, 1, 1, 1, 1, 0, 0, 0, 1, 1, 0, 0, 1, 0, 1, 1, 1,\n",
       "       0, 1, 1, 0, 1, 1, 1, 0, 0, 0, 1, 1, 0, 1, 1, 0, 1, 0, 0, 1, 1, 0,\n",
       "       0, 0, 0, 0, 1, 1, 0, 0, 0, 1, 0, 0, 0, 0, 0, 1, 1, 1, 0, 1, 0, 1,\n",
       "       0, 0, 0, 0, 0, 1, 0, 1, 1, 1, 1, 0, 1, 0, 1, 0, 1, 1, 1, 1, 1, 0,\n",
       "       1, 1, 1, 1, 1, 0, 0, 1, 0, 0, 0, 1, 1, 0, 1, 1, 0, 0, 1, 0, 1, 1,\n",
       "       0, 0, 1, 0, 1, 0, 1, 0, 1, 1, 0, 1, 1, 1, 0, 1, 0, 0, 0, 1, 1, 0,\n",
       "       0])"
      ]
     },
     "execution_count": 203,
     "metadata": {},
     "output_type": "execute_result"
    }
   ],
   "source": [
    "y_pred=clf.predict(X_test)\n",
    "y_pred"
   ]
  },
  {
   "cell_type": "code",
   "execution_count": 204,
   "metadata": {
    "ExecuteTime": {
     "end_time": "2021-02-14T04:52:06.590634Z",
     "start_time": "2021-02-14T04:52:06.346640Z"
    }
   },
   "outputs": [
    {
     "name": "stdout",
     "output_type": "stream",
     "text": [
      "[[95  5]\n",
      " [ 4 95]]\n"
     ]
    }
   ],
   "source": [
    "print(confusion_matrix(y_test,y_pred))"
   ]
  },
  {
   "cell_type": "code",
   "execution_count": 205,
   "metadata": {
    "ExecuteTime": {
     "end_time": "2021-02-14T04:52:06.932437Z",
     "start_time": "2021-02-14T04:52:06.593631Z"
    },
    "scrolled": true
   },
   "outputs": [
    {
     "name": "stdout",
     "output_type": "stream",
     "text": [
      "              precision    recall  f1-score   support\n",
      "\n",
      "           0       0.96      0.95      0.95       100\n",
      "           1       0.95      0.96      0.95        99\n",
      "\n",
      "    accuracy                           0.95       199\n",
      "   macro avg       0.95      0.95      0.95       199\n",
      "weighted avg       0.95      0.95      0.95       199\n",
      "\n"
     ]
    }
   ],
   "source": [
    "print(classification_report(y_test,y_pred))"
   ]
  },
  {
   "cell_type": "code",
   "execution_count": 206,
   "metadata": {
    "ExecuteTime": {
     "end_time": "2021-02-14T04:52:07.370363Z",
     "start_time": "2021-02-14T04:52:06.936436Z"
    }
   },
   "outputs": [
    {
     "data": {
      "text/plain": [
       "array([0.88235294, 0.8627451 , 0.88      , 0.88      , 0.84      ,\n",
       "       0.94      , 0.94      , 0.9       , 0.92      , 0.98      ,\n",
       "       0.94      , 0.96      ])"
      ]
     },
     "execution_count": 206,
     "metadata": {},
     "output_type": "execute_result"
    }
   ],
   "source": [
    "cross_val_score(clf, X, y, cv=12)"
   ]
  },
  {
   "cell_type": "code",
   "execution_count": 207,
   "metadata": {
    "ExecuteTime": {
     "end_time": "2021-02-14T04:52:07.544265Z",
     "start_time": "2021-02-14T04:52:07.373360Z"
    }
   },
   "outputs": [
    {
     "name": "stdout",
     "output_type": "stream",
     "text": [
      "List of possible accuracy: [0.6666666666666666, 0.7843137254901961, 0.88, 0.78, 0.8, 0.76, 0.84, 0.9, 0.82, 0.7, 0.82, 0.88]\n",
      "\n",
      "Maximum Accuracy That can be obtained from this model is: 90.0 %\n",
      "\n",
      "Minimum Accuracy: 66.66666666666666 %\n",
      "\n",
      "Average Accuracy That can be obtained from this model is:: 0.8025816993464053\n",
      "\n",
      " Median Accuracy That can be obtained from this model is:: 0.81\n",
      "\n",
      "Standard Deviation is: 0.06778879880899202\n"
     ]
    }
   ],
   "source": [
    "lst_accu_stratified = [] \n",
    "\n",
    "for train_index, test_index in skf.split(X, y): \n",
    "    x_train_fold, x_test_fold = X.loc[train_index,:], X.loc[test_index,:] \n",
    "    y_train_fold, y_test_fold = y[train_index], y[test_index] \n",
    "    clf.fit(x_train_fold, y_train_fold) \n",
    "    lst_accu_stratified.append(Lg.score(x_test_fold, y_test_fold))\n",
    "    \n",
    "    \n",
    "print('List of possible accuracy:', lst_accu_stratified) \n",
    "print('\\nMaximum Accuracy That can be obtained from this model is:', \n",
    "      max(lst_accu_stratified)*100, '%') \n",
    "print('\\nMinimum Accuracy:', \n",
    "      min(lst_accu_stratified)*100, '%') \n",
    "print('\\nAverage Accuracy That can be obtained from this model is::',np.mean(lst_accu_stratified)) \n",
    "print('\\n Median Accuracy That can be obtained from this model is::',np.median(lst_accu_stratified)) \n",
    "print('\\nStandard Deviation is:',np.std(lst_accu_stratified)) "
   ]
  },
  {
   "cell_type": "code",
   "execution_count": 208,
   "metadata": {
    "ExecuteTime": {
     "end_time": "2021-02-14T04:52:10.494592Z",
     "start_time": "2021-02-14T04:52:07.549259Z"
    }
   },
   "outputs": [
    {
     "data": {
      "text/plain": [
       "'gini.png'"
      ]
     },
     "execution_count": 208,
     "metadata": {},
     "output_type": "execute_result"
    }
   ],
   "source": [
    "import graphviz\n",
    "import sklearn.tree as tree\n",
    "# DOT data\n",
    "dot_data = tree.export_graphviz(clf, out_file=None, \n",
    "                                feature_names=X.columns,  \n",
    "                                class_names='01',\n",
    "                                filled=True)\n",
    "\n",
    "# # Draw graph\n",
    "graph = graphviz.Source(dot_data,format=\"png\") \n",
    "graph.render('gini')\n",
    "# graph"
   ]
  },
  {
   "cell_type": "markdown",
   "metadata": {},
   "source": [
    "# Feature selection with Decision Tree "
   ]
  },
  {
   "cell_type": "code",
   "execution_count": 209,
   "metadata": {
    "ExecuteTime": {
     "end_time": "2021-02-14T04:52:10.548543Z",
     "start_time": "2021-02-14T04:52:10.498572Z"
    }
   },
   "outputs": [],
   "source": [
    "fd_dlvry=pd.read_csv('../../data/Banglore_food_delivery/onlinedeliverydata.csv')\n",
    "\n",
    "fd_dlvry.drop(['Pin code','longitude','latitude','Reviews'],axis=1,inplace=True)\n",
    "\n",
    "fd_dlvry['Output']=fd_dlvry['Output'].replace({'Yes':1,'No':0})"
   ]
  },
  {
   "cell_type": "code",
   "execution_count": 210,
   "metadata": {
    "ExecuteTime": {
     "end_time": "2021-02-14T04:52:10.712290Z",
     "start_time": "2021-02-14T04:52:10.551541Z"
    }
   },
   "outputs": [
    {
     "data": {
      "text/plain": [
       "(388, 223)"
      ]
     },
     "execution_count": 210,
     "metadata": {},
     "output_type": "execute_result"
    }
   ],
   "source": [
    "fd_ori=fd_dlvry.copy(deep=True)\n",
    "df=pd.get_dummies(fd_dlvry)\n",
    "df.shape"
   ]
  },
  {
   "cell_type": "code",
   "execution_count": 211,
   "metadata": {
    "ExecuteTime": {
     "end_time": "2021-02-14T04:52:10.773086Z",
     "start_time": "2021-02-14T04:52:10.715274Z"
    }
   },
   "outputs": [],
   "source": [
    "l1=[]\n",
    "for i in df.columns:\n",
    "    if(i!='Output'):\n",
    "        l1.append(i)\n",
    "    "
   ]
  },
  {
   "cell_type": "code",
   "execution_count": 212,
   "metadata": {
    "ExecuteTime": {
     "end_time": "2021-02-14T04:52:11.063629Z",
     "start_time": "2021-02-14T04:52:10.776069Z"
    }
   },
   "outputs": [],
   "source": [
    "X=df[l1]\n",
    "y=df['Output']\n",
    "nm=RandomOverSampler()\n",
    "X,y=nm.fit_sample(X,y)\n"
   ]
  },
  {
   "cell_type": "code",
   "execution_count": 213,
   "metadata": {
    "ExecuteTime": {
     "end_time": "2021-02-14T04:52:11.208159Z",
     "start_time": "2021-02-14T04:52:11.066590Z"
    }
   },
   "outputs": [
    {
     "data": {
      "text/plain": [
       "DecisionTreeClassifier(max_depth=6, min_samples_leaf=2, min_samples_split=4,\n",
       "                       random_state=0)"
      ]
     },
     "execution_count": 213,
     "metadata": {},
     "output_type": "execute_result"
    }
   ],
   "source": [
    "X_train, X_test, y_train, y_test = train_test_split(X, y, test_size = 0.33)\n",
    "clf=DecisionTreeClassifier(random_state=0,max_depth=6,min_samples_leaf=2,min_samples_split=4)\n",
    "clf.fit(X,y)"
   ]
  },
  {
   "cell_type": "code",
   "execution_count": 214,
   "metadata": {
    "ExecuteTime": {
     "end_time": "2021-02-14T04:52:11.381896Z",
     "start_time": "2021-02-14T04:52:11.212159Z"
    }
   },
   "outputs": [
    {
     "data": {
      "text/plain": [
       "0.9698492462311558"
      ]
     },
     "execution_count": 214,
     "metadata": {},
     "output_type": "execute_result"
    }
   ],
   "source": [
    "clf.score(X_test,y_test)"
   ]
  },
  {
   "cell_type": "code",
   "execution_count": 215,
   "metadata": {
    "ExecuteTime": {
     "end_time": "2021-02-14T04:52:11.462784Z",
     "start_time": "2021-02-14T04:52:11.384877Z"
    }
   },
   "outputs": [
    {
     "data": {
      "text/plain": [
       "array([0.        , 0.        , 0.        , 0.        , 0.        ,\n",
       "       0.        , 0.        , 0.        , 0.        , 0.        ,\n",
       "       0.05125913, 0.        , 0.        , 0.        , 0.        ,\n",
       "       0.        , 0.        , 0.        , 0.        , 0.00108864,\n",
       "       0.        , 0.        , 0.        , 0.        , 0.        ,\n",
       "       0.        , 0.        , 0.        , 0.        , 0.        ,\n",
       "       0.        , 0.        , 0.        , 0.00056018, 0.        ,\n",
       "       0.        , 0.        , 0.        , 0.        , 0.        ,\n",
       "       0.        , 0.        , 0.        , 0.        , 0.50389636,\n",
       "       0.        , 0.        , 0.        , 0.        , 0.        ,\n",
       "       0.        , 0.        , 0.        , 0.        , 0.1429309 ,\n",
       "       0.        , 0.        , 0.        , 0.        , 0.        ,\n",
       "       0.        , 0.        , 0.        , 0.        , 0.        ,\n",
       "       0.        , 0.        , 0.        , 0.        , 0.        ,\n",
       "       0.        , 0.        , 0.        , 0.        , 0.        ,\n",
       "       0.00098979, 0.        , 0.        , 0.        , 0.00220054,\n",
       "       0.00221985, 0.        , 0.        , 0.        , 0.        ,\n",
       "       0.        , 0.        , 0.        , 0.00719951, 0.0248874 ,\n",
       "       0.        , 0.00119992, 0.        , 0.        , 0.        ,\n",
       "       0.        , 0.        , 0.        , 0.        , 0.02761466,\n",
       "       0.        , 0.        , 0.        , 0.        , 0.02910562,\n",
       "       0.        , 0.        , 0.        , 0.06966375, 0.        ,\n",
       "       0.        , 0.        , 0.        , 0.        , 0.        ,\n",
       "       0.        , 0.        , 0.        , 0.        , 0.01266776,\n",
       "       0.        , 0.        , 0.        , 0.        , 0.        ,\n",
       "       0.        , 0.        , 0.        , 0.        , 0.        ,\n",
       "       0.        , 0.        , 0.        , 0.        , 0.        ,\n",
       "       0.        , 0.02122706, 0.        , 0.        , 0.0029998 ,\n",
       "       0.        , 0.        , 0.        , 0.        , 0.        ,\n",
       "       0.        , 0.        , 0.        , 0.        , 0.        ,\n",
       "       0.        , 0.        , 0.        , 0.        , 0.        ,\n",
       "       0.        , 0.        , 0.        , 0.        , 0.        ,\n",
       "       0.        , 0.        , 0.        , 0.        , 0.        ,\n",
       "       0.        , 0.        , 0.        , 0.        , 0.        ,\n",
       "       0.        , 0.        , 0.        , 0.        , 0.        ,\n",
       "       0.        , 0.        , 0.        , 0.        , 0.00091774,\n",
       "       0.        , 0.        , 0.        , 0.        , 0.        ,\n",
       "       0.        , 0.        , 0.01360707, 0.        , 0.        ,\n",
       "       0.        , 0.07647808, 0.        , 0.        , 0.        ,\n",
       "       0.        , 0.        , 0.        , 0.        , 0.00077138,\n",
       "       0.        , 0.        , 0.        , 0.        , 0.        ,\n",
       "       0.        , 0.        , 0.        , 0.        , 0.        ,\n",
       "       0.        , 0.        , 0.        , 0.        , 0.        ,\n",
       "       0.        , 0.        , 0.        , 0.00651487, 0.        ,\n",
       "       0.        , 0.        ])"
      ]
     },
     "execution_count": 215,
     "metadata": {},
     "output_type": "execute_result"
    }
   ],
   "source": [
    "clf.feature_importances_"
   ]
  },
  {
   "cell_type": "code",
   "execution_count": 216,
   "metadata": {
    "ExecuteTime": {
     "end_time": "2021-02-14T04:52:11.562710Z",
     "start_time": "2021-02-14T04:52:11.466763Z"
    }
   },
   "outputs": [],
   "source": [
    "def feature_extract(clf,l1):\n",
    "    values = clf.feature_importances_\n",
    "    importances = [(l1[i], values[i]) for i in range(len(l1))]\n",
    "    importances.sort(reverse=True, key=lambda x:x[1])\n",
    "    l3=[]\n",
    "    for i in importances[:12]:\n",
    "        l3.append(i[0])\n",
    "    return l3\n",
    "\n",
    "    "
   ]
  },
  {
   "cell_type": "code",
   "execution_count": 217,
   "metadata": {
    "ExecuteTime": {
     "end_time": "2021-02-14T04:52:11.810566Z",
     "start_time": "2021-02-14T04:52:11.566706Z"
    }
   },
   "outputs": [
    {
     "data": {
      "text/plain": [
       "['Ease and convenient_Disagree',\n",
       " 'More restaurant choices_Disagree',\n",
       " 'High Quality of package_Very Important',\n",
       " 'Unaffordable_Agree',\n",
       " 'Occupation_Student',\n",
       " 'Unavailability_Disagree',\n",
       " 'Bad past experience_Disagree',\n",
       " 'Late Delivery_Disagree',\n",
       " 'Missing item_Strongly agree',\n",
       " 'High Quality of package_Important',\n",
       " 'Delay of delivery person getting assigned_Disagree',\n",
       " 'Late Delivery_Agree']"
      ]
     },
     "execution_count": 217,
     "metadata": {},
     "output_type": "execute_result"
    }
   ],
   "source": [
    "feature_extract(clf,l1)"
   ]
  },
  {
   "cell_type": "code",
   "execution_count": 218,
   "metadata": {
    "ExecuteTime": {
     "end_time": "2021-02-14T04:52:12.036435Z",
     "start_time": "2021-02-14T04:52:11.814562Z"
    }
   },
   "outputs": [],
   "source": [
    "X=df[l1]\n",
    "y=df['Output']\n",
    "nm=RandomOverSampler()\n",
    "X,y=nm.fit_sample(X,y)\n"
   ]
  },
  {
   "cell_type": "code",
   "execution_count": 219,
   "metadata": {
    "ExecuteTime": {
     "end_time": "2021-02-14T04:52:12.081414Z",
     "start_time": "2021-02-14T04:52:12.040436Z"
    }
   },
   "outputs": [
    {
     "data": {
      "text/plain": [
       "DecisionTreeClassifier(max_depth=6, min_samples_leaf=2, min_samples_split=4,\n",
       "                       random_state=0)"
      ]
     },
     "execution_count": 219,
     "metadata": {},
     "output_type": "execute_result"
    }
   ],
   "source": [
    "X_train, X_test, y_train, y_test = train_test_split(X, y, test_size = 0.33)\n",
    "clf=DecisionTreeClassifier(random_state=0,max_depth=6,min_samples_leaf=2,min_samples_split=4)\n",
    "clf.fit(X,y)"
   ]
  },
  {
   "cell_type": "code",
   "execution_count": 220,
   "metadata": {
    "ExecuteTime": {
     "end_time": "2021-02-14T04:52:12.210239Z",
     "start_time": "2021-02-14T04:52:12.085409Z"
    }
   },
   "outputs": [
    {
     "data": {
      "text/plain": [
       "0.949748743718593"
      ]
     },
     "execution_count": 220,
     "metadata": {},
     "output_type": "execute_result"
    }
   ],
   "source": [
    "clf.score(X_test,y_test)"
   ]
  },
  {
   "cell_type": "code",
   "execution_count": 221,
   "metadata": {
    "ExecuteTime": {
     "end_time": "2021-02-14T04:52:12.338218Z",
     "start_time": "2021-02-14T04:52:12.213221Z"
    }
   },
   "outputs": [
    {
     "data": {
      "text/plain": [
       "array([0, 1, 1, 0, 0, 1, 0, 1, 0, 1, 0, 0, 0, 1, 0, 1, 0, 1, 0, 1, 0, 1,\n",
       "       1, 0, 1, 0, 0, 0, 0, 1, 1, 0, 0, 0, 0, 0, 0, 1, 1, 1, 0, 1, 1, 0,\n",
       "       0, 0, 0, 0, 1, 0, 1, 1, 0, 1, 1, 0, 1, 1, 1, 0, 0, 0, 1, 1, 1, 1,\n",
       "       1, 0, 1, 0, 0, 0, 0, 0, 0, 0, 0, 1, 0, 0, 1, 1, 0, 0, 0, 0, 1, 0,\n",
       "       0, 1, 0, 0, 0, 1, 1, 0, 0, 0, 1, 1, 1, 0, 1, 1, 0, 0, 1, 1, 0, 0,\n",
       "       1, 1, 0, 1, 1, 0, 0, 1, 1, 1, 0, 1, 1, 0, 1, 0, 1, 0, 0, 0, 0, 0,\n",
       "       1, 0, 0, 0, 0, 1, 0, 1, 1, 1, 0, 1, 1, 0, 1, 1, 0, 1, 0, 1, 1, 1,\n",
       "       1, 0, 1, 0, 1, 1, 1, 1, 1, 1, 1, 1, 0, 1, 1, 1, 0, 0, 1, 1, 0, 1,\n",
       "       1, 1, 1, 1, 0, 1, 1, 1, 1, 0, 1, 1, 0, 1, 0, 1, 1, 1, 0, 1, 1, 0,\n",
       "       0], dtype=int64)"
      ]
     },
     "execution_count": 221,
     "metadata": {},
     "output_type": "execute_result"
    }
   ],
   "source": [
    "y_pred=clf.predict(X_test)\n",
    "y_pred"
   ]
  },
  {
   "cell_type": "code",
   "execution_count": 222,
   "metadata": {
    "ExecuteTime": {
     "end_time": "2021-02-14T04:52:12.474744Z",
     "start_time": "2021-02-14T04:52:12.342219Z"
    }
   },
   "outputs": [
    {
     "name": "stdout",
     "output_type": "stream",
     "text": [
      "[[92  6]\n",
      " [ 4 97]]\n"
     ]
    }
   ],
   "source": [
    "print(confusion_matrix(y_test,y_pred))"
   ]
  },
  {
   "cell_type": "code",
   "execution_count": 223,
   "metadata": {
    "ExecuteTime": {
     "end_time": "2021-02-14T04:52:12.637271Z",
     "start_time": "2021-02-14T04:52:12.477724Z"
    }
   },
   "outputs": [
    {
     "name": "stdout",
     "output_type": "stream",
     "text": [
      "              precision    recall  f1-score   support\n",
      "\n",
      "           0       0.96      0.94      0.95        98\n",
      "           1       0.94      0.96      0.95       101\n",
      "\n",
      "    accuracy                           0.95       199\n",
      "   macro avg       0.95      0.95      0.95       199\n",
      "weighted avg       0.95      0.95      0.95       199\n",
      "\n"
     ]
    }
   ],
   "source": [
    "print(classification_report(y_test,y_pred))"
   ]
  },
  {
   "cell_type": "code",
   "execution_count": 224,
   "metadata": {
    "ExecuteTime": {
     "end_time": "2021-02-14T04:52:13.162693Z",
     "start_time": "2021-02-14T04:52:12.641269Z"
    }
   },
   "outputs": [
    {
     "name": "stdout",
     "output_type": "stream",
     "text": [
      "List of possible accuracy: [0.9215686274509803, 0.9019607843137255, 0.96, 0.98, 0.92, 0.88, 0.9, 0.92, 0.92, 0.94, 0.98, 0.92]\n",
      "\n",
      "Maximum Accuracy That can be obtained from this model is: 98.0 %\n",
      "\n",
      "Minimum Accuracy: 88.0 %\n",
      "\n",
      "Average Accuracy That can be obtained from this model is:: 0.9286274509803922\n",
      "\n",
      " Median Accuracy That can be obtained from this model is:: 0.92\n",
      "\n",
      "Standard Deviation is: 0.029769501968775383\n"
     ]
    }
   ],
   "source": [
    "lst_accu_stratified = [] \n",
    "x=0\n",
    "feature_common=pd.DataFrame()\n",
    "for train_index, test_index in skf.split(X, y): \n",
    "    x_train_fold, x_test_fold = X.loc[train_index,:], X.loc[test_index,:] \n",
    "    y_train_fold, y_test_fold = y[train_index], y[test_index] \n",
    "    clf.fit(x_train_fold, y_train_fold)\n",
    "    feature_common[x]=feature_extract(clf,l1)\n",
    "    x+=1\n",
    "    lst_accu_stratified.append(clf.score(x_test_fold, y_test_fold))\n",
    "    \n",
    "    \n",
    "print('List of possible accuracy:', lst_accu_stratified) \n",
    "print('\\nMaximum Accuracy That can be obtained from this model is:', \n",
    "      max(lst_accu_stratified)*100, '%') \n",
    "print('\\nMinimum Accuracy:', \n",
    "      min(lst_accu_stratified)*100, '%') \n",
    "print('\\nAverage Accuracy That can be obtained from this model is::',np.mean(lst_accu_stratified)) \n",
    "print('\\n Median Accuracy That can be obtained from this model is::',np.median(lst_accu_stratified)) \n",
    "print('\\nStandard Deviation is:',np.std(lst_accu_stratified)) "
   ]
  },
  {
   "cell_type": "code",
   "execution_count": 225,
   "metadata": {
    "ExecuteTime": {
     "end_time": "2021-02-14T04:52:13.215664Z",
     "start_time": "2021-02-14T04:52:13.167691Z"
    },
    "scrolled": true
   },
   "outputs": [
    {
     "data": {
      "text/html": [
       "<div>\n",
       "<style scoped>\n",
       "    .dataframe tbody tr th:only-of-type {\n",
       "        vertical-align: middle;\n",
       "    }\n",
       "\n",
       "    .dataframe tbody tr th {\n",
       "        vertical-align: top;\n",
       "    }\n",
       "\n",
       "    .dataframe thead th {\n",
       "        text-align: right;\n",
       "    }\n",
       "</style>\n",
       "<table border=\"1\" class=\"dataframe\">\n",
       "  <thead>\n",
       "    <tr style=\"text-align: right;\">\n",
       "      <th></th>\n",
       "      <th>0</th>\n",
       "      <th>1</th>\n",
       "      <th>2</th>\n",
       "      <th>3</th>\n",
       "      <th>4</th>\n",
       "      <th>5</th>\n",
       "      <th>6</th>\n",
       "      <th>7</th>\n",
       "      <th>8</th>\n",
       "      <th>9</th>\n",
       "      <th>10</th>\n",
       "      <th>11</th>\n",
       "    </tr>\n",
       "  </thead>\n",
       "  <tbody>\n",
       "    <tr>\n",
       "      <th>0</th>\n",
       "      <td>Ease and convenient_Disagree</td>\n",
       "      <td>Ease and convenient_Disagree</td>\n",
       "      <td>Ease and convenient_Disagree</td>\n",
       "      <td>Ease and convenient_Disagree</td>\n",
       "      <td>Ease and convenient_Disagree</td>\n",
       "      <td>Ease and convenient_Disagree</td>\n",
       "      <td>Ease and convenient_Disagree</td>\n",
       "      <td>Ease and convenient_Disagree</td>\n",
       "      <td>Ease and convenient_Disagree</td>\n",
       "      <td>Ease and convenient_Disagree</td>\n",
       "      <td>Ease and convenient_Disagree</td>\n",
       "      <td>Ease and convenient_Disagree</td>\n",
       "    </tr>\n",
       "    <tr>\n",
       "      <th>1</th>\n",
       "      <td>Time saving_Disagree</td>\n",
       "      <td>Time saving_Disagree</td>\n",
       "      <td>Time saving_Disagree</td>\n",
       "      <td>Time saving_Disagree</td>\n",
       "      <td>Time saving_Disagree</td>\n",
       "      <td>Time saving_Disagree</td>\n",
       "      <td>Time saving_Disagree</td>\n",
       "      <td>Time saving_Disagree</td>\n",
       "      <td>Time saving_Disagree</td>\n",
       "      <td>Time saving_Disagree</td>\n",
       "      <td>Time saving_Disagree</td>\n",
       "      <td>Time saving_Disagree</td>\n",
       "    </tr>\n",
       "    <tr>\n",
       "      <th>2</th>\n",
       "      <td>Unaffordable_Strongly agree</td>\n",
       "      <td>More restaurant choices_Disagree</td>\n",
       "      <td>Unaffordable_Agree</td>\n",
       "      <td>Missing item_Neutral</td>\n",
       "      <td>Politeness_Very Important</td>\n",
       "      <td>Unaffordable_Agree</td>\n",
       "      <td>More restaurant choices_Disagree</td>\n",
       "      <td>Missing item_Neutral</td>\n",
       "      <td>Unaffordable_Agree</td>\n",
       "      <td>Missing item_Neutral</td>\n",
       "      <td>More restaurant choices_Disagree</td>\n",
       "      <td>Unaffordable_Strongly agree</td>\n",
       "    </tr>\n",
       "    <tr>\n",
       "      <th>3</th>\n",
       "      <td>Unaffordable_Agree</td>\n",
       "      <td>Missing item_Neutral</td>\n",
       "      <td>Perference(P2)_ Sweets</td>\n",
       "      <td>Unaffordable_Agree</td>\n",
       "      <td>More restaurant choices_Disagree</td>\n",
       "      <td>Unaffordable_Strongly agree</td>\n",
       "      <td>Unaffordable_Agree</td>\n",
       "      <td>More restaurant choices_Disagree</td>\n",
       "      <td>Unaffordable_Strongly agree</td>\n",
       "      <td>More restaurant choices_Disagree</td>\n",
       "      <td>Missing item_Neutral</td>\n",
       "      <td>Occupation_Employee</td>\n",
       "    </tr>\n",
       "    <tr>\n",
       "      <th>4</th>\n",
       "      <td>Occupation_Employee</td>\n",
       "      <td>Occupation_Employee</td>\n",
       "      <td>More restaurant choices_Disagree</td>\n",
       "      <td>Perference(P2)_ Sweets</td>\n",
       "      <td>Missing item_Neutral</td>\n",
       "      <td>Occupation_Employee</td>\n",
       "      <td>Perference(P2)_ Sweets</td>\n",
       "      <td>Unaffordable_Agree</td>\n",
       "      <td>Occupation_Employee</td>\n",
       "      <td>Unaffordable_Agree</td>\n",
       "      <td>Politeness_Very Important</td>\n",
       "      <td>Unaffordable_Agree</td>\n",
       "    </tr>\n",
       "    <tr>\n",
       "      <th>5</th>\n",
       "      <td>Good Food quality_Neutral</td>\n",
       "      <td>Unaffordable_Agree</td>\n",
       "      <td>Missing item_Neutral</td>\n",
       "      <td>More restaurant choices_Disagree</td>\n",
       "      <td>High Quality of package_Important</td>\n",
       "      <td>Monthly Income_10001 to 25000</td>\n",
       "      <td>Missing item_Neutral</td>\n",
       "      <td>Occupation_Employee</td>\n",
       "      <td>Educational Qualifications_Post Graduate</td>\n",
       "      <td>Occupation_Student</td>\n",
       "      <td>High Quality of package_Important</td>\n",
       "      <td>Educational Qualifications_Post Graduate</td>\n",
       "    </tr>\n",
       "    <tr>\n",
       "      <th>6</th>\n",
       "      <td>Health Concern_Agree</td>\n",
       "      <td>Educational Qualifications_Post Graduate</td>\n",
       "      <td>Good Food quality_Neutral</td>\n",
       "      <td>High Quality of package_Important</td>\n",
       "      <td>Educational Qualifications_Post Graduate</td>\n",
       "      <td>Good Food quality_Neutral</td>\n",
       "      <td>Good Food quality_Neutral</td>\n",
       "      <td>Good Food quality_Neutral</td>\n",
       "      <td>Delay of delivery person picking up food_Agree</td>\n",
       "      <td>Perference(P2)_ Sweets</td>\n",
       "      <td>Good Food quality_Neutral</td>\n",
       "      <td>Delay of delivery person picking up food_Agree</td>\n",
       "    </tr>\n",
       "    <tr>\n",
       "      <th>7</th>\n",
       "      <td>Time saving_Strongly agree</td>\n",
       "      <td>Perference(P2)_ Sweets</td>\n",
       "      <td>High Quality of package_Important</td>\n",
       "      <td>Good Food quality_Neutral</td>\n",
       "      <td>Unaffordable_Strongly disagree</td>\n",
       "      <td>Delay of delivery person picking up food_Agree</td>\n",
       "      <td>High Quality of package_Important</td>\n",
       "      <td>Perference(P2)_ Sweets</td>\n",
       "      <td>Monthly Income_10001 to 25000</td>\n",
       "      <td>Educational Qualifications_Post Graduate</td>\n",
       "      <td>Unaffordable_Strongly disagree</td>\n",
       "      <td>Long delivery time_Disagree</td>\n",
       "    </tr>\n",
       "    <tr>\n",
       "      <th>8</th>\n",
       "      <td>Missing item_Strongly agree</td>\n",
       "      <td>Delay of delivery person getting assigned_Agree</td>\n",
       "      <td>Wrong order delivered_Strongly disagree</td>\n",
       "      <td>Late Delivery_Disagree</td>\n",
       "      <td>Late Delivery_Disagree</td>\n",
       "      <td>Educational Qualifications_Post Graduate</td>\n",
       "      <td>Educational Qualifications_Post Graduate</td>\n",
       "      <td>Educational Qualifications_Graduate</td>\n",
       "      <td>Order placed by mistake_Neutral</td>\n",
       "      <td>Missing item_Strongly agree</td>\n",
       "      <td>Influence of time_No</td>\n",
       "      <td>Missing item_Strongly agree</td>\n",
       "    </tr>\n",
       "    <tr>\n",
       "      <th>9</th>\n",
       "      <td>Educational Qualifications_Post Graduate</td>\n",
       "      <td>Late Delivery_Disagree</td>\n",
       "      <td>Late Delivery_Disagree</td>\n",
       "      <td>Educational Qualifications_Post Graduate</td>\n",
       "      <td>Influence of time_No</td>\n",
       "      <td>Google Maps Accuracy_Strongly Agree</td>\n",
       "      <td>Maximum wait time_45 minutes</td>\n",
       "      <td>Late Delivery_Disagree</td>\n",
       "      <td>Missing item_Strongly agree</td>\n",
       "      <td>Order placed by mistake_Neutral</td>\n",
       "      <td>Late Delivery_Disagree</td>\n",
       "      <td>Google Maps Accuracy_Strongly Agree</td>\n",
       "    </tr>\n",
       "    <tr>\n",
       "      <th>10</th>\n",
       "      <td>Good Road Condition_Agree</td>\n",
       "      <td>Missing item_Strongly agree</td>\n",
       "      <td>Unavailability_Disagree</td>\n",
       "      <td>Unavailability_Disagree</td>\n",
       "      <td>More Offers and Discount_Strongly agree</td>\n",
       "      <td>Self Cooking_Strongly agree</td>\n",
       "      <td>Late Delivery_Disagree</td>\n",
       "      <td>Educational Qualifications_Post Graduate</td>\n",
       "      <td>Self Cooking_Strongly agree</td>\n",
       "      <td>Late Delivery_Agree</td>\n",
       "      <td>Educational Qualifications_Post Graduate</td>\n",
       "      <td>Self Cooking_Strongly agree</td>\n",
       "    </tr>\n",
       "    <tr>\n",
       "      <th>11</th>\n",
       "      <td>Monthly Income_10001 to 25000</td>\n",
       "      <td>More Offers and Discount_Strongly agree</td>\n",
       "      <td>Educational Qualifications_Post Graduate</td>\n",
       "      <td>Delivery person ability_Agree</td>\n",
       "      <td>Unaffordable_Agree</td>\n",
       "      <td>Age</td>\n",
       "      <td>Occupation_Employee</td>\n",
       "      <td>High Quality of package_Important</td>\n",
       "      <td>Wrong order delivered_Strongly disagree</td>\n",
       "      <td>High Quality of package_Important</td>\n",
       "      <td>Long delivery time_Agree</td>\n",
       "      <td>Order placed by mistake_Neutral</td>\n",
       "    </tr>\n",
       "  </tbody>\n",
       "</table>\n",
       "</div>"
      ],
      "text/plain": [
       "                                          0   \\\n",
       "0               Ease and convenient_Disagree   \n",
       "1                       Time saving_Disagree   \n",
       "2                Unaffordable_Strongly agree   \n",
       "3                         Unaffordable_Agree   \n",
       "4                        Occupation_Employee   \n",
       "5                  Good Food quality_Neutral   \n",
       "6                       Health Concern_Agree   \n",
       "7                 Time saving_Strongly agree   \n",
       "8                Missing item_Strongly agree   \n",
       "9   Educational Qualifications_Post Graduate   \n",
       "10                 Good Road Condition_Agree   \n",
       "11             Monthly Income_10001 to 25000   \n",
       "\n",
       "                                                 1   \\\n",
       "0                      Ease and convenient_Disagree   \n",
       "1                              Time saving_Disagree   \n",
       "2                  More restaurant choices_Disagree   \n",
       "3                              Missing item_Neutral   \n",
       "4                               Occupation_Employee   \n",
       "5                                Unaffordable_Agree   \n",
       "6          Educational Qualifications_Post Graduate   \n",
       "7                            Perference(P2)_ Sweets   \n",
       "8   Delay of delivery person getting assigned_Agree   \n",
       "9                            Late Delivery_Disagree   \n",
       "10                      Missing item_Strongly agree   \n",
       "11          More Offers and Discount_Strongly agree   \n",
       "\n",
       "                                          2   \\\n",
       "0               Ease and convenient_Disagree   \n",
       "1                       Time saving_Disagree   \n",
       "2                         Unaffordable_Agree   \n",
       "3                     Perference(P2)_ Sweets   \n",
       "4           More restaurant choices_Disagree   \n",
       "5                       Missing item_Neutral   \n",
       "6                  Good Food quality_Neutral   \n",
       "7          High Quality of package_Important   \n",
       "8    Wrong order delivered_Strongly disagree   \n",
       "9                     Late Delivery_Disagree   \n",
       "10                   Unavailability_Disagree   \n",
       "11  Educational Qualifications_Post Graduate   \n",
       "\n",
       "                                          3   \\\n",
       "0               Ease and convenient_Disagree   \n",
       "1                       Time saving_Disagree   \n",
       "2                       Missing item_Neutral   \n",
       "3                         Unaffordable_Agree   \n",
       "4                     Perference(P2)_ Sweets   \n",
       "5           More restaurant choices_Disagree   \n",
       "6          High Quality of package_Important   \n",
       "7                  Good Food quality_Neutral   \n",
       "8                     Late Delivery_Disagree   \n",
       "9   Educational Qualifications_Post Graduate   \n",
       "10                   Unavailability_Disagree   \n",
       "11             Delivery person ability_Agree   \n",
       "\n",
       "                                          4   \\\n",
       "0               Ease and convenient_Disagree   \n",
       "1                       Time saving_Disagree   \n",
       "2                  Politeness_Very Important   \n",
       "3           More restaurant choices_Disagree   \n",
       "4                       Missing item_Neutral   \n",
       "5          High Quality of package_Important   \n",
       "6   Educational Qualifications_Post Graduate   \n",
       "7             Unaffordable_Strongly disagree   \n",
       "8                     Late Delivery_Disagree   \n",
       "9                       Influence of time_No   \n",
       "10   More Offers and Discount_Strongly agree   \n",
       "11                        Unaffordable_Agree   \n",
       "\n",
       "                                                5   \\\n",
       "0                     Ease and convenient_Disagree   \n",
       "1                             Time saving_Disagree   \n",
       "2                               Unaffordable_Agree   \n",
       "3                      Unaffordable_Strongly agree   \n",
       "4                              Occupation_Employee   \n",
       "5                    Monthly Income_10001 to 25000   \n",
       "6                        Good Food quality_Neutral   \n",
       "7   Delay of delivery person picking up food_Agree   \n",
       "8         Educational Qualifications_Post Graduate   \n",
       "9              Google Maps Accuracy_Strongly Agree   \n",
       "10                     Self Cooking_Strongly agree   \n",
       "11                                             Age   \n",
       "\n",
       "                                          6   \\\n",
       "0               Ease and convenient_Disagree   \n",
       "1                       Time saving_Disagree   \n",
       "2           More restaurant choices_Disagree   \n",
       "3                         Unaffordable_Agree   \n",
       "4                     Perference(P2)_ Sweets   \n",
       "5                       Missing item_Neutral   \n",
       "6                  Good Food quality_Neutral   \n",
       "7          High Quality of package_Important   \n",
       "8   Educational Qualifications_Post Graduate   \n",
       "9               Maximum wait time_45 minutes   \n",
       "10                    Late Delivery_Disagree   \n",
       "11                       Occupation_Employee   \n",
       "\n",
       "                                          7   \\\n",
       "0               Ease and convenient_Disagree   \n",
       "1                       Time saving_Disagree   \n",
       "2                       Missing item_Neutral   \n",
       "3           More restaurant choices_Disagree   \n",
       "4                         Unaffordable_Agree   \n",
       "5                        Occupation_Employee   \n",
       "6                  Good Food quality_Neutral   \n",
       "7                     Perference(P2)_ Sweets   \n",
       "8        Educational Qualifications_Graduate   \n",
       "9                     Late Delivery_Disagree   \n",
       "10  Educational Qualifications_Post Graduate   \n",
       "11         High Quality of package_Important   \n",
       "\n",
       "                                                8   \\\n",
       "0                     Ease and convenient_Disagree   \n",
       "1                             Time saving_Disagree   \n",
       "2                               Unaffordable_Agree   \n",
       "3                      Unaffordable_Strongly agree   \n",
       "4                              Occupation_Employee   \n",
       "5         Educational Qualifications_Post Graduate   \n",
       "6   Delay of delivery person picking up food_Agree   \n",
       "7                    Monthly Income_10001 to 25000   \n",
       "8                  Order placed by mistake_Neutral   \n",
       "9                      Missing item_Strongly agree   \n",
       "10                     Self Cooking_Strongly agree   \n",
       "11         Wrong order delivered_Strongly disagree   \n",
       "\n",
       "                                          9   \\\n",
       "0               Ease and convenient_Disagree   \n",
       "1                       Time saving_Disagree   \n",
       "2                       Missing item_Neutral   \n",
       "3           More restaurant choices_Disagree   \n",
       "4                         Unaffordable_Agree   \n",
       "5                         Occupation_Student   \n",
       "6                     Perference(P2)_ Sweets   \n",
       "7   Educational Qualifications_Post Graduate   \n",
       "8                Missing item_Strongly agree   \n",
       "9            Order placed by mistake_Neutral   \n",
       "10                       Late Delivery_Agree   \n",
       "11         High Quality of package_Important   \n",
       "\n",
       "                                          10  \\\n",
       "0               Ease and convenient_Disagree   \n",
       "1                       Time saving_Disagree   \n",
       "2           More restaurant choices_Disagree   \n",
       "3                       Missing item_Neutral   \n",
       "4                  Politeness_Very Important   \n",
       "5          High Quality of package_Important   \n",
       "6                  Good Food quality_Neutral   \n",
       "7             Unaffordable_Strongly disagree   \n",
       "8                       Influence of time_No   \n",
       "9                     Late Delivery_Disagree   \n",
       "10  Educational Qualifications_Post Graduate   \n",
       "11                  Long delivery time_Agree   \n",
       "\n",
       "                                                11  \n",
       "0                     Ease and convenient_Disagree  \n",
       "1                             Time saving_Disagree  \n",
       "2                      Unaffordable_Strongly agree  \n",
       "3                              Occupation_Employee  \n",
       "4                               Unaffordable_Agree  \n",
       "5         Educational Qualifications_Post Graduate  \n",
       "6   Delay of delivery person picking up food_Agree  \n",
       "7                      Long delivery time_Disagree  \n",
       "8                      Missing item_Strongly agree  \n",
       "9              Google Maps Accuracy_Strongly Agree  \n",
       "10                     Self Cooking_Strongly agree  \n",
       "11                 Order placed by mistake_Neutral  "
      ]
     },
     "execution_count": 225,
     "metadata": {},
     "output_type": "execute_result"
    }
   ],
   "source": [
    "feature_common"
   ]
  },
  {
   "cell_type": "code",
   "execution_count": 226,
   "metadata": {
    "ExecuteTime": {
     "end_time": "2021-02-14T04:52:13.322602Z",
     "start_time": "2021-02-14T04:52:13.220662Z"
    }
   },
   "outputs": [],
   "source": [
    "l2=feature_extract(clf,l1)"
   ]
  },
  {
   "cell_type": "code",
   "execution_count": 227,
   "metadata": {
    "ExecuteTime": {
     "end_time": "2021-02-14T04:52:13.532958Z",
     "start_time": "2021-02-14T04:52:13.326600Z"
    }
   },
   "outputs": [],
   "source": [
    "relation_between_feature=pd.DataFrame(index=l2)"
   ]
  },
  {
   "cell_type": "code",
   "execution_count": 228,
   "metadata": {
    "ExecuteTime": {
     "end_time": "2021-02-14T04:52:13.688869Z",
     "start_time": "2021-02-14T04:52:13.536956Z"
    },
    "scrolled": false
   },
   "outputs": [
    {
     "data": {
      "text/html": [
       "<div>\n",
       "<style scoped>\n",
       "    .dataframe tbody tr th:only-of-type {\n",
       "        vertical-align: middle;\n",
       "    }\n",
       "\n",
       "    .dataframe tbody tr th {\n",
       "        vertical-align: top;\n",
       "    }\n",
       "\n",
       "    .dataframe thead th {\n",
       "        text-align: right;\n",
       "    }\n",
       "</style>\n",
       "<table border=\"1\" class=\"dataframe\">\n",
       "  <thead>\n",
       "    <tr style=\"text-align: right;\">\n",
       "      <th></th>\n",
       "    </tr>\n",
       "  </thead>\n",
       "  <tbody>\n",
       "    <tr>\n",
       "      <th>Ease and convenient_Disagree</th>\n",
       "    </tr>\n",
       "    <tr>\n",
       "      <th>Time saving_Disagree</th>\n",
       "    </tr>\n",
       "    <tr>\n",
       "      <th>Unaffordable_Strongly agree</th>\n",
       "    </tr>\n",
       "    <tr>\n",
       "      <th>Occupation_Employee</th>\n",
       "    </tr>\n",
       "    <tr>\n",
       "      <th>Unaffordable_Agree</th>\n",
       "    </tr>\n",
       "  </tbody>\n",
       "</table>\n",
       "</div>"
      ],
      "text/plain": [
       "Empty DataFrame\n",
       "Columns: []\n",
       "Index: [Ease and convenient_Disagree, Time saving_Disagree, Unaffordable_Strongly agree, Occupation_Employee, Unaffordable_Agree]"
      ]
     },
     "execution_count": 228,
     "metadata": {},
     "output_type": "execute_result"
    }
   ],
   "source": [
    "relation_between_feature.head()"
   ]
  },
  {
   "cell_type": "code",
   "execution_count": 229,
   "metadata": {
    "ExecuteTime": {
     "end_time": "2021-02-14T04:52:13.861773Z",
     "start_time": "2021-02-14T04:52:13.692867Z"
    }
   },
   "outputs": [
    {
     "data": {
      "text/html": [
       "<div>\n",
       "<style scoped>\n",
       "    .dataframe tbody tr th:only-of-type {\n",
       "        vertical-align: middle;\n",
       "    }\n",
       "\n",
       "    .dataframe tbody tr th {\n",
       "        vertical-align: top;\n",
       "    }\n",
       "\n",
       "    .dataframe thead th {\n",
       "        text-align: right;\n",
       "    }\n",
       "</style>\n",
       "<table border=\"1\" class=\"dataframe\">\n",
       "  <thead>\n",
       "    <tr style=\"text-align: right;\">\n",
       "      <th></th>\n",
       "      <th>Ease and convenient_Disagree</th>\n",
       "      <th>Time saving_Disagree</th>\n",
       "      <th>Unaffordable_Strongly agree</th>\n",
       "      <th>Occupation_Employee</th>\n",
       "      <th>Unaffordable_Agree</th>\n",
       "      <th>Educational Qualifications_Post Graduate</th>\n",
       "      <th>Delay of delivery person picking up food_Agree</th>\n",
       "      <th>Long delivery time_Disagree</th>\n",
       "      <th>Missing item_Strongly agree</th>\n",
       "      <th>Google Maps Accuracy_Strongly Agree</th>\n",
       "      <th>Self Cooking_Strongly agree</th>\n",
       "      <th>Order placed by mistake_Neutral</th>\n",
       "    </tr>\n",
       "  </thead>\n",
       "  <tbody>\n",
       "    <tr>\n",
       "      <th>0</th>\n",
       "      <td>0</td>\n",
       "      <td>0</td>\n",
       "      <td>0</td>\n",
       "      <td>0</td>\n",
       "      <td>0</td>\n",
       "      <td>1</td>\n",
       "      <td>1</td>\n",
       "      <td>0</td>\n",
       "      <td>0</td>\n",
       "      <td>0</td>\n",
       "      <td>0</td>\n",
       "      <td>0</td>\n",
       "    </tr>\n",
       "    <tr>\n",
       "      <th>1</th>\n",
       "      <td>0</td>\n",
       "      <td>0</td>\n",
       "      <td>1</td>\n",
       "      <td>0</td>\n",
       "      <td>0</td>\n",
       "      <td>0</td>\n",
       "      <td>0</td>\n",
       "      <td>0</td>\n",
       "      <td>1</td>\n",
       "      <td>0</td>\n",
       "      <td>1</td>\n",
       "      <td>0</td>\n",
       "    </tr>\n",
       "    <tr>\n",
       "      <th>2</th>\n",
       "      <td>0</td>\n",
       "      <td>0</td>\n",
       "      <td>0</td>\n",
       "      <td>0</td>\n",
       "      <td>1</td>\n",
       "      <td>1</td>\n",
       "      <td>1</td>\n",
       "      <td>0</td>\n",
       "      <td>0</td>\n",
       "      <td>1</td>\n",
       "      <td>0</td>\n",
       "      <td>1</td>\n",
       "    </tr>\n",
       "    <tr>\n",
       "      <th>3</th>\n",
       "      <td>0</td>\n",
       "      <td>0</td>\n",
       "      <td>0</td>\n",
       "      <td>0</td>\n",
       "      <td>0</td>\n",
       "      <td>0</td>\n",
       "      <td>1</td>\n",
       "      <td>0</td>\n",
       "      <td>0</td>\n",
       "      <td>0</td>\n",
       "      <td>0</td>\n",
       "      <td>1</td>\n",
       "    </tr>\n",
       "    <tr>\n",
       "      <th>4</th>\n",
       "      <td>0</td>\n",
       "      <td>0</td>\n",
       "      <td>0</td>\n",
       "      <td>0</td>\n",
       "      <td>0</td>\n",
       "      <td>1</td>\n",
       "      <td>0</td>\n",
       "      <td>0</td>\n",
       "      <td>0</td>\n",
       "      <td>0</td>\n",
       "      <td>0</td>\n",
       "      <td>0</td>\n",
       "    </tr>\n",
       "    <tr>\n",
       "      <th>...</th>\n",
       "      <td>...</td>\n",
       "      <td>...</td>\n",
       "      <td>...</td>\n",
       "      <td>...</td>\n",
       "      <td>...</td>\n",
       "      <td>...</td>\n",
       "      <td>...</td>\n",
       "      <td>...</td>\n",
       "      <td>...</td>\n",
       "      <td>...</td>\n",
       "      <td>...</td>\n",
       "      <td>...</td>\n",
       "    </tr>\n",
       "    <tr>\n",
       "      <th>597</th>\n",
       "      <td>1</td>\n",
       "      <td>0</td>\n",
       "      <td>0</td>\n",
       "      <td>0</td>\n",
       "      <td>0</td>\n",
       "      <td>1</td>\n",
       "      <td>1</td>\n",
       "      <td>1</td>\n",
       "      <td>0</td>\n",
       "      <td>0</td>\n",
       "      <td>0</td>\n",
       "      <td>0</td>\n",
       "    </tr>\n",
       "    <tr>\n",
       "      <th>598</th>\n",
       "      <td>0</td>\n",
       "      <td>1</td>\n",
       "      <td>0</td>\n",
       "      <td>0</td>\n",
       "      <td>1</td>\n",
       "      <td>0</td>\n",
       "      <td>1</td>\n",
       "      <td>0</td>\n",
       "      <td>0</td>\n",
       "      <td>0</td>\n",
       "      <td>0</td>\n",
       "      <td>0</td>\n",
       "    </tr>\n",
       "    <tr>\n",
       "      <th>599</th>\n",
       "      <td>0</td>\n",
       "      <td>0</td>\n",
       "      <td>0</td>\n",
       "      <td>1</td>\n",
       "      <td>1</td>\n",
       "      <td>1</td>\n",
       "      <td>0</td>\n",
       "      <td>0</td>\n",
       "      <td>0</td>\n",
       "      <td>1</td>\n",
       "      <td>0</td>\n",
       "      <td>1</td>\n",
       "    </tr>\n",
       "    <tr>\n",
       "      <th>600</th>\n",
       "      <td>0</td>\n",
       "      <td>0</td>\n",
       "      <td>0</td>\n",
       "      <td>0</td>\n",
       "      <td>0</td>\n",
       "      <td>1</td>\n",
       "      <td>0</td>\n",
       "      <td>1</td>\n",
       "      <td>0</td>\n",
       "      <td>1</td>\n",
       "      <td>1</td>\n",
       "      <td>0</td>\n",
       "    </tr>\n",
       "    <tr>\n",
       "      <th>601</th>\n",
       "      <td>0</td>\n",
       "      <td>0</td>\n",
       "      <td>0</td>\n",
       "      <td>1</td>\n",
       "      <td>0</td>\n",
       "      <td>0</td>\n",
       "      <td>0</td>\n",
       "      <td>1</td>\n",
       "      <td>0</td>\n",
       "      <td>0</td>\n",
       "      <td>0</td>\n",
       "      <td>0</td>\n",
       "    </tr>\n",
       "  </tbody>\n",
       "</table>\n",
       "<p>602 rows × 12 columns</p>\n",
       "</div>"
      ],
      "text/plain": [
       "     Ease and convenient_Disagree  Time saving_Disagree  \\\n",
       "0                               0                     0   \n",
       "1                               0                     0   \n",
       "2                               0                     0   \n",
       "3                               0                     0   \n",
       "4                               0                     0   \n",
       "..                            ...                   ...   \n",
       "597                             1                     0   \n",
       "598                             0                     1   \n",
       "599                             0                     0   \n",
       "600                             0                     0   \n",
       "601                             0                     0   \n",
       "\n",
       "     Unaffordable_Strongly agree  Occupation_Employee  Unaffordable_Agree  \\\n",
       "0                              0                    0                   0   \n",
       "1                              1                    0                   0   \n",
       "2                              0                    0                   1   \n",
       "3                              0                    0                   0   \n",
       "4                              0                    0                   0   \n",
       "..                           ...                  ...                 ...   \n",
       "597                            0                    0                   0   \n",
       "598                            0                    0                   1   \n",
       "599                            0                    1                   1   \n",
       "600                            0                    0                   0   \n",
       "601                            0                    1                   0   \n",
       "\n",
       "     Educational Qualifications_Post Graduate  \\\n",
       "0                                           1   \n",
       "1                                           0   \n",
       "2                                           1   \n",
       "3                                           0   \n",
       "4                                           1   \n",
       "..                                        ...   \n",
       "597                                         1   \n",
       "598                                         0   \n",
       "599                                         1   \n",
       "600                                         1   \n",
       "601                                         0   \n",
       "\n",
       "     Delay of delivery person picking up food_Agree  \\\n",
       "0                                                 1   \n",
       "1                                                 0   \n",
       "2                                                 1   \n",
       "3                                                 1   \n",
       "4                                                 0   \n",
       "..                                              ...   \n",
       "597                                               1   \n",
       "598                                               1   \n",
       "599                                               0   \n",
       "600                                               0   \n",
       "601                                               0   \n",
       "\n",
       "     Long delivery time_Disagree  Missing item_Strongly agree  \\\n",
       "0                              0                            0   \n",
       "1                              0                            1   \n",
       "2                              0                            0   \n",
       "3                              0                            0   \n",
       "4                              0                            0   \n",
       "..                           ...                          ...   \n",
       "597                            1                            0   \n",
       "598                            0                            0   \n",
       "599                            0                            0   \n",
       "600                            1                            0   \n",
       "601                            1                            0   \n",
       "\n",
       "     Google Maps Accuracy_Strongly Agree  Self Cooking_Strongly agree  \\\n",
       "0                                      0                            0   \n",
       "1                                      0                            1   \n",
       "2                                      1                            0   \n",
       "3                                      0                            0   \n",
       "4                                      0                            0   \n",
       "..                                   ...                          ...   \n",
       "597                                    0                            0   \n",
       "598                                    0                            0   \n",
       "599                                    1                            0   \n",
       "600                                    1                            1   \n",
       "601                                    0                            0   \n",
       "\n",
       "     Order placed by mistake_Neutral  \n",
       "0                                  0  \n",
       "1                                  0  \n",
       "2                                  1  \n",
       "3                                  1  \n",
       "4                                  0  \n",
       "..                               ...  \n",
       "597                                0  \n",
       "598                                0  \n",
       "599                                1  \n",
       "600                                0  \n",
       "601                                0  \n",
       "\n",
       "[602 rows x 12 columns]"
      ]
     },
     "execution_count": 229,
     "metadata": {},
     "output_type": "execute_result"
    }
   ],
   "source": [
    "X[l2]"
   ]
  },
  {
   "cell_type": "code",
   "execution_count": 230,
   "metadata": {
    "ExecuteTime": {
     "end_time": "2021-02-14T04:52:16.934458Z",
     "start_time": "2021-02-14T04:52:13.865768Z"
    }
   },
   "outputs": [],
   "source": [
    "\n",
    "for i in l2:\n",
    "    l1=[]\n",
    "    for j in l2:\n",
    "        df_t=pd.crosstab(X[j],X[i])\n",
    "        stat, p, dof, expected = st.chi2_contingency(df_t,correction=True)\n",
    "        t=min(df_t.shape)-1\n",
    "        deno=sum(df_t.sum())\n",
    "        x=np.sqrt(stat / deno)\n",
    "        l1.append(x)\n",
    "    relation_between_feature[i]=l1\n",
    "    \n",
    "\n",
    "\n",
    "\n",
    "        \n"
   ]
  },
  {
   "cell_type": "code",
   "execution_count": 232,
   "metadata": {
    "ExecuteTime": {
     "end_time": "2021-02-14T04:53:01.548428Z",
     "start_time": "2021-02-14T04:53:01.501453Z"
    },
    "scrolled": false
   },
   "outputs": [
    {
     "data": {
      "text/html": [
       "<div>\n",
       "<style scoped>\n",
       "    .dataframe tbody tr th:only-of-type {\n",
       "        vertical-align: middle;\n",
       "    }\n",
       "\n",
       "    .dataframe tbody tr th {\n",
       "        vertical-align: top;\n",
       "    }\n",
       "\n",
       "    .dataframe thead th {\n",
       "        text-align: right;\n",
       "    }\n",
       "</style>\n",
       "<table border=\"1\" class=\"dataframe\">\n",
       "  <thead>\n",
       "    <tr style=\"text-align: right;\">\n",
       "      <th></th>\n",
       "      <th>Ease and convenient_Disagree</th>\n",
       "      <th>Time saving_Disagree</th>\n",
       "      <th>Unaffordable_Strongly agree</th>\n",
       "      <th>Occupation_Employee</th>\n",
       "      <th>Unaffordable_Agree</th>\n",
       "      <th>Educational Qualifications_Post Graduate</th>\n",
       "      <th>Delay of delivery person picking up food_Agree</th>\n",
       "      <th>Long delivery time_Disagree</th>\n",
       "      <th>Missing item_Strongly agree</th>\n",
       "      <th>Google Maps Accuracy_Strongly Agree</th>\n",
       "      <th>Self Cooking_Strongly agree</th>\n",
       "      <th>Order placed by mistake_Neutral</th>\n",
       "    </tr>\n",
       "  </thead>\n",
       "  <tbody>\n",
       "    <tr>\n",
       "      <th>Ease and convenient_Disagree</th>\n",
       "      <td>0.996176</td>\n",
       "      <td>0.553332</td>\n",
       "      <td>0.043264</td>\n",
       "      <td>0.135874</td>\n",
       "      <td>0.250784</td>\n",
       "      <td>0.156718</td>\n",
       "      <td>0.176301</td>\n",
       "      <td>0.344958</td>\n",
       "      <td>0.035412</td>\n",
       "      <td>0.022203</td>\n",
       "      <td>0.136623</td>\n",
       "      <td>0.181046</td>\n",
       "    </tr>\n",
       "    <tr>\n",
       "      <th>Time saving_Disagree</th>\n",
       "      <td>0.553332</td>\n",
       "      <td>0.996247</td>\n",
       "      <td>0.066792</td>\n",
       "      <td>0.086750</td>\n",
       "      <td>0.258953</td>\n",
       "      <td>0.225717</td>\n",
       "      <td>0.224560</td>\n",
       "      <td>0.049332</td>\n",
       "      <td>0.057768</td>\n",
       "      <td>0.023082</td>\n",
       "      <td>0.053757</td>\n",
       "      <td>0.158073</td>\n",
       "    </tr>\n",
       "    <tr>\n",
       "      <th>Unaffordable_Strongly agree</th>\n",
       "      <td>0.043264</td>\n",
       "      <td>0.066792</td>\n",
       "      <td>0.990744</td>\n",
       "      <td>0.021188</td>\n",
       "      <td>0.183528</td>\n",
       "      <td>0.069091</td>\n",
       "      <td>0.090973</td>\n",
       "      <td>0.067241</td>\n",
       "      <td>0.110316</td>\n",
       "      <td>0.015200</td>\n",
       "      <td>0.133901</td>\n",
       "      <td>0.088189</td>\n",
       "    </tr>\n",
       "    <tr>\n",
       "      <th>Occupation_Employee</th>\n",
       "      <td>0.135874</td>\n",
       "      <td>0.086750</td>\n",
       "      <td>0.021188</td>\n",
       "      <td>0.996375</td>\n",
       "      <td>0.023282</td>\n",
       "      <td>0.178119</td>\n",
       "      <td>0.055138</td>\n",
       "      <td>0.097905</td>\n",
       "      <td>0.068761</td>\n",
       "      <td>0.072076</td>\n",
       "      <td>0.132178</td>\n",
       "      <td>0.125028</td>\n",
       "    </tr>\n",
       "    <tr>\n",
       "      <th>Unaffordable_Agree</th>\n",
       "      <td>0.250784</td>\n",
       "      <td>0.258953</td>\n",
       "      <td>0.183528</td>\n",
       "      <td>0.023282</td>\n",
       "      <td>0.995520</td>\n",
       "      <td>0.120789</td>\n",
       "      <td>0.013124</td>\n",
       "      <td>0.037480</td>\n",
       "      <td>0.075683</td>\n",
       "      <td>0.004110</td>\n",
       "      <td>0.073861</td>\n",
       "      <td>0.072507</td>\n",
       "    </tr>\n",
       "    <tr>\n",
       "      <th>Educational Qualifications_Post Graduate</th>\n",
       "      <td>0.156718</td>\n",
       "      <td>0.225717</td>\n",
       "      <td>0.069091</td>\n",
       "      <td>0.178119</td>\n",
       "      <td>0.120789</td>\n",
       "      <td>0.996510</td>\n",
       "      <td>0.035633</td>\n",
       "      <td>0.120603</td>\n",
       "      <td>0.155583</td>\n",
       "      <td>0.080964</td>\n",
       "      <td>0.089624</td>\n",
       "      <td>0.228314</td>\n",
       "    </tr>\n",
       "    <tr>\n",
       "      <th>Delay of delivery person picking up food_Agree</th>\n",
       "      <td>0.176301</td>\n",
       "      <td>0.224560</td>\n",
       "      <td>0.090973</td>\n",
       "      <td>0.055138</td>\n",
       "      <td>0.013124</td>\n",
       "      <td>0.035633</td>\n",
       "      <td>0.996605</td>\n",
       "      <td>0.126711</td>\n",
       "      <td>0.050491</td>\n",
       "      <td>0.046547</td>\n",
       "      <td>0.105737</td>\n",
       "      <td>0.018898</td>\n",
       "    </tr>\n",
       "    <tr>\n",
       "      <th>Long delivery time_Disagree</th>\n",
       "      <td>0.344958</td>\n",
       "      <td>0.049332</td>\n",
       "      <td>0.067241</td>\n",
       "      <td>0.097905</td>\n",
       "      <td>0.037480</td>\n",
       "      <td>0.120603</td>\n",
       "      <td>0.126711</td>\n",
       "      <td>0.996284</td>\n",
       "      <td>0.118089</td>\n",
       "      <td>0.112984</td>\n",
       "      <td>0.021907</td>\n",
       "      <td>0.131942</td>\n",
       "    </tr>\n",
       "    <tr>\n",
       "      <th>Missing item_Strongly agree</th>\n",
       "      <td>0.035412</td>\n",
       "      <td>0.057768</td>\n",
       "      <td>0.110316</td>\n",
       "      <td>0.068761</td>\n",
       "      <td>0.075683</td>\n",
       "      <td>0.155583</td>\n",
       "      <td>0.050491</td>\n",
       "      <td>0.118089</td>\n",
       "      <td>0.994052</td>\n",
       "      <td>0.065694</td>\n",
       "      <td>0.024884</td>\n",
       "      <td>0.063968</td>\n",
       "    </tr>\n",
       "    <tr>\n",
       "      <th>Google Maps Accuracy_Strongly Agree</th>\n",
       "      <td>0.022203</td>\n",
       "      <td>0.023082</td>\n",
       "      <td>0.015200</td>\n",
       "      <td>0.072076</td>\n",
       "      <td>0.004110</td>\n",
       "      <td>0.080964</td>\n",
       "      <td>0.046547</td>\n",
       "      <td>0.112984</td>\n",
       "      <td>0.065694</td>\n",
       "      <td>0.996074</td>\n",
       "      <td>0.099419</td>\n",
       "      <td>0.033049</td>\n",
       "    </tr>\n",
       "    <tr>\n",
       "      <th>Self Cooking_Strongly agree</th>\n",
       "      <td>0.136623</td>\n",
       "      <td>0.053757</td>\n",
       "      <td>0.133901</td>\n",
       "      <td>0.132178</td>\n",
       "      <td>0.073861</td>\n",
       "      <td>0.089624</td>\n",
       "      <td>0.105737</td>\n",
       "      <td>0.021907</td>\n",
       "      <td>0.024884</td>\n",
       "      <td>0.099419</td>\n",
       "      <td>0.979901</td>\n",
       "      <td>0.000040</td>\n",
       "    </tr>\n",
       "    <tr>\n",
       "      <th>Order placed by mistake_Neutral</th>\n",
       "      <td>0.181046</td>\n",
       "      <td>0.158073</td>\n",
       "      <td>0.088189</td>\n",
       "      <td>0.125028</td>\n",
       "      <td>0.072507</td>\n",
       "      <td>0.228314</td>\n",
       "      <td>0.018898</td>\n",
       "      <td>0.131942</td>\n",
       "      <td>0.063968</td>\n",
       "      <td>0.033049</td>\n",
       "      <td>0.000040</td>\n",
       "      <td>0.992867</td>\n",
       "    </tr>\n",
       "  </tbody>\n",
       "</table>\n",
       "</div>"
      ],
      "text/plain": [
       "                                                Ease and convenient_Disagree  \\\n",
       "Ease and convenient_Disagree                                        0.996176   \n",
       "Time saving_Disagree                                                0.553332   \n",
       "Unaffordable_Strongly agree                                         0.043264   \n",
       "Occupation_Employee                                                 0.135874   \n",
       "Unaffordable_Agree                                                  0.250784   \n",
       "Educational Qualifications_Post Graduate                            0.156718   \n",
       "Delay of delivery person picking up food_Agree                      0.176301   \n",
       "Long delivery time_Disagree                                         0.344958   \n",
       "Missing item_Strongly agree                                         0.035412   \n",
       "Google Maps Accuracy_Strongly Agree                                 0.022203   \n",
       "Self Cooking_Strongly agree                                         0.136623   \n",
       "Order placed by mistake_Neutral                                     0.181046   \n",
       "\n",
       "                                                Time saving_Disagree  \\\n",
       "Ease and convenient_Disagree                                0.553332   \n",
       "Time saving_Disagree                                        0.996247   \n",
       "Unaffordable_Strongly agree                                 0.066792   \n",
       "Occupation_Employee                                         0.086750   \n",
       "Unaffordable_Agree                                          0.258953   \n",
       "Educational Qualifications_Post Graduate                    0.225717   \n",
       "Delay of delivery person picking up food_Agree              0.224560   \n",
       "Long delivery time_Disagree                                 0.049332   \n",
       "Missing item_Strongly agree                                 0.057768   \n",
       "Google Maps Accuracy_Strongly Agree                         0.023082   \n",
       "Self Cooking_Strongly agree                                 0.053757   \n",
       "Order placed by mistake_Neutral                             0.158073   \n",
       "\n",
       "                                                Unaffordable_Strongly agree  \\\n",
       "Ease and convenient_Disagree                                       0.043264   \n",
       "Time saving_Disagree                                               0.066792   \n",
       "Unaffordable_Strongly agree                                        0.990744   \n",
       "Occupation_Employee                                                0.021188   \n",
       "Unaffordable_Agree                                                 0.183528   \n",
       "Educational Qualifications_Post Graduate                           0.069091   \n",
       "Delay of delivery person picking up food_Agree                     0.090973   \n",
       "Long delivery time_Disagree                                        0.067241   \n",
       "Missing item_Strongly agree                                        0.110316   \n",
       "Google Maps Accuracy_Strongly Agree                                0.015200   \n",
       "Self Cooking_Strongly agree                                        0.133901   \n",
       "Order placed by mistake_Neutral                                    0.088189   \n",
       "\n",
       "                                                Occupation_Employee  \\\n",
       "Ease and convenient_Disagree                               0.135874   \n",
       "Time saving_Disagree                                       0.086750   \n",
       "Unaffordable_Strongly agree                                0.021188   \n",
       "Occupation_Employee                                        0.996375   \n",
       "Unaffordable_Agree                                         0.023282   \n",
       "Educational Qualifications_Post Graduate                   0.178119   \n",
       "Delay of delivery person picking up food_Agree             0.055138   \n",
       "Long delivery time_Disagree                                0.097905   \n",
       "Missing item_Strongly agree                                0.068761   \n",
       "Google Maps Accuracy_Strongly Agree                        0.072076   \n",
       "Self Cooking_Strongly agree                                0.132178   \n",
       "Order placed by mistake_Neutral                            0.125028   \n",
       "\n",
       "                                                Unaffordable_Agree  \\\n",
       "Ease and convenient_Disagree                              0.250784   \n",
       "Time saving_Disagree                                      0.258953   \n",
       "Unaffordable_Strongly agree                               0.183528   \n",
       "Occupation_Employee                                       0.023282   \n",
       "Unaffordable_Agree                                        0.995520   \n",
       "Educational Qualifications_Post Graduate                  0.120789   \n",
       "Delay of delivery person picking up food_Agree            0.013124   \n",
       "Long delivery time_Disagree                               0.037480   \n",
       "Missing item_Strongly agree                               0.075683   \n",
       "Google Maps Accuracy_Strongly Agree                       0.004110   \n",
       "Self Cooking_Strongly agree                               0.073861   \n",
       "Order placed by mistake_Neutral                           0.072507   \n",
       "\n",
       "                                                Educational Qualifications_Post Graduate  \\\n",
       "Ease and convenient_Disagree                                                    0.156718   \n",
       "Time saving_Disagree                                                            0.225717   \n",
       "Unaffordable_Strongly agree                                                     0.069091   \n",
       "Occupation_Employee                                                             0.178119   \n",
       "Unaffordable_Agree                                                              0.120789   \n",
       "Educational Qualifications_Post Graduate                                        0.996510   \n",
       "Delay of delivery person picking up food_Agree                                  0.035633   \n",
       "Long delivery time_Disagree                                                     0.120603   \n",
       "Missing item_Strongly agree                                                     0.155583   \n",
       "Google Maps Accuracy_Strongly Agree                                             0.080964   \n",
       "Self Cooking_Strongly agree                                                     0.089624   \n",
       "Order placed by mistake_Neutral                                                 0.228314   \n",
       "\n",
       "                                                Delay of delivery person picking up food_Agree  \\\n",
       "Ease and convenient_Disagree                                                          0.176301   \n",
       "Time saving_Disagree                                                                  0.224560   \n",
       "Unaffordable_Strongly agree                                                           0.090973   \n",
       "Occupation_Employee                                                                   0.055138   \n",
       "Unaffordable_Agree                                                                    0.013124   \n",
       "Educational Qualifications_Post Graduate                                              0.035633   \n",
       "Delay of delivery person picking up food_Agree                                        0.996605   \n",
       "Long delivery time_Disagree                                                           0.126711   \n",
       "Missing item_Strongly agree                                                           0.050491   \n",
       "Google Maps Accuracy_Strongly Agree                                                   0.046547   \n",
       "Self Cooking_Strongly agree                                                           0.105737   \n",
       "Order placed by mistake_Neutral                                                       0.018898   \n",
       "\n",
       "                                                Long delivery time_Disagree  \\\n",
       "Ease and convenient_Disagree                                       0.344958   \n",
       "Time saving_Disagree                                               0.049332   \n",
       "Unaffordable_Strongly agree                                        0.067241   \n",
       "Occupation_Employee                                                0.097905   \n",
       "Unaffordable_Agree                                                 0.037480   \n",
       "Educational Qualifications_Post Graduate                           0.120603   \n",
       "Delay of delivery person picking up food_Agree                     0.126711   \n",
       "Long delivery time_Disagree                                        0.996284   \n",
       "Missing item_Strongly agree                                        0.118089   \n",
       "Google Maps Accuracy_Strongly Agree                                0.112984   \n",
       "Self Cooking_Strongly agree                                        0.021907   \n",
       "Order placed by mistake_Neutral                                    0.131942   \n",
       "\n",
       "                                                Missing item_Strongly agree  \\\n",
       "Ease and convenient_Disagree                                       0.035412   \n",
       "Time saving_Disagree                                               0.057768   \n",
       "Unaffordable_Strongly agree                                        0.110316   \n",
       "Occupation_Employee                                                0.068761   \n",
       "Unaffordable_Agree                                                 0.075683   \n",
       "Educational Qualifications_Post Graduate                           0.155583   \n",
       "Delay of delivery person picking up food_Agree                     0.050491   \n",
       "Long delivery time_Disagree                                        0.118089   \n",
       "Missing item_Strongly agree                                        0.994052   \n",
       "Google Maps Accuracy_Strongly Agree                                0.065694   \n",
       "Self Cooking_Strongly agree                                        0.024884   \n",
       "Order placed by mistake_Neutral                                    0.063968   \n",
       "\n",
       "                                                Google Maps Accuracy_Strongly Agree  \\\n",
       "Ease and convenient_Disagree                                               0.022203   \n",
       "Time saving_Disagree                                                       0.023082   \n",
       "Unaffordable_Strongly agree                                                0.015200   \n",
       "Occupation_Employee                                                        0.072076   \n",
       "Unaffordable_Agree                                                         0.004110   \n",
       "Educational Qualifications_Post Graduate                                   0.080964   \n",
       "Delay of delivery person picking up food_Agree                             0.046547   \n",
       "Long delivery time_Disagree                                                0.112984   \n",
       "Missing item_Strongly agree                                                0.065694   \n",
       "Google Maps Accuracy_Strongly Agree                                        0.996074   \n",
       "Self Cooking_Strongly agree                                                0.099419   \n",
       "Order placed by mistake_Neutral                                            0.033049   \n",
       "\n",
       "                                                Self Cooking_Strongly agree  \\\n",
       "Ease and convenient_Disagree                                       0.136623   \n",
       "Time saving_Disagree                                               0.053757   \n",
       "Unaffordable_Strongly agree                                        0.133901   \n",
       "Occupation_Employee                                                0.132178   \n",
       "Unaffordable_Agree                                                 0.073861   \n",
       "Educational Qualifications_Post Graduate                           0.089624   \n",
       "Delay of delivery person picking up food_Agree                     0.105737   \n",
       "Long delivery time_Disagree                                        0.021907   \n",
       "Missing item_Strongly agree                                        0.024884   \n",
       "Google Maps Accuracy_Strongly Agree                                0.099419   \n",
       "Self Cooking_Strongly agree                                        0.979901   \n",
       "Order placed by mistake_Neutral                                    0.000040   \n",
       "\n",
       "                                                Order placed by mistake_Neutral  \n",
       "Ease and convenient_Disagree                                           0.181046  \n",
       "Time saving_Disagree                                                   0.158073  \n",
       "Unaffordable_Strongly agree                                            0.088189  \n",
       "Occupation_Employee                                                    0.125028  \n",
       "Unaffordable_Agree                                                     0.072507  \n",
       "Educational Qualifications_Post Graduate                               0.228314  \n",
       "Delay of delivery person picking up food_Agree                         0.018898  \n",
       "Long delivery time_Disagree                                            0.131942  \n",
       "Missing item_Strongly agree                                            0.063968  \n",
       "Google Maps Accuracy_Strongly Agree                                    0.033049  \n",
       "Self Cooking_Strongly agree                                            0.000040  \n",
       "Order placed by mistake_Neutral                                        0.992867  "
      ]
     },
     "execution_count": 232,
     "metadata": {},
     "output_type": "execute_result"
    }
   ],
   "source": [
    "relation_between_feature"
   ]
  },
  {
   "cell_type": "code",
   "execution_count": 233,
   "metadata": {
    "ExecuteTime": {
     "end_time": "2021-02-14T04:53:01.712339Z",
     "start_time": "2021-02-14T04:53:01.551425Z"
    }
   },
   "outputs": [
    {
     "data": {
      "text/plain": [
       "(388, 51)"
      ]
     },
     "execution_count": 233,
     "metadata": {},
     "output_type": "execute_result"
    }
   ],
   "source": [
    "fd_dlvry.shape"
   ]
  },
  {
   "cell_type": "code",
   "execution_count": 235,
   "metadata": {
    "ExecuteTime": {
     "end_time": "2021-02-14T04:53:02.167197Z",
     "start_time": "2021-02-14T04:53:01.829267Z"
    },
    "scrolled": false
   },
   "outputs": [
    {
     "data": {
      "text/html": [
       "<style  type=\"text/css\" >\n",
       "#T_5acdc_row0_col1,#T_5acdc_row0_col4,#T_5acdc_row0_col7,#T_5acdc_row1_col0,#T_5acdc_row1_col4,#T_5acdc_row4_col0,#T_5acdc_row4_col1,#T_5acdc_row7_col0,#T_5acdc_row10_col10{\n",
       "            background:  red;\n",
       "        }</style><table id=\"T_5acdc_\" ><thead>    <tr>        <th class=\"blank level0\" ></th>        <th class=\"col_heading level0 col0\" >Ease and convenient_Disagree</th>        <th class=\"col_heading level0 col1\" >Time saving_Disagree</th>        <th class=\"col_heading level0 col2\" >Unaffordable_Strongly agree</th>        <th class=\"col_heading level0 col3\" >Occupation_Employee</th>        <th class=\"col_heading level0 col4\" >Unaffordable_Agree</th>        <th class=\"col_heading level0 col5\" >Educational Qualifications_Post Graduate</th>        <th class=\"col_heading level0 col6\" >Delay of delivery person picking up food_Agree</th>        <th class=\"col_heading level0 col7\" >Long delivery time_Disagree</th>        <th class=\"col_heading level0 col8\" >Missing item_Strongly agree</th>        <th class=\"col_heading level0 col9\" >Google Maps Accuracy_Strongly Agree</th>        <th class=\"col_heading level0 col10\" >Self Cooking_Strongly agree</th>        <th class=\"col_heading level0 col11\" >Order placed by mistake_Neutral</th>    </tr></thead><tbody>\n",
       "                <tr>\n",
       "                        <th id=\"T_5acdc_level0_row0\" class=\"row_heading level0 row0\" >Ease and convenient_Disagree</th>\n",
       "                        <td id=\"T_5acdc_row0_col0\" class=\"data row0 col0\" >0.996176</td>\n",
       "                        <td id=\"T_5acdc_row0_col1\" class=\"data row0 col1\" >0.553332</td>\n",
       "                        <td id=\"T_5acdc_row0_col2\" class=\"data row0 col2\" >0.043264</td>\n",
       "                        <td id=\"T_5acdc_row0_col3\" class=\"data row0 col3\" >0.135874</td>\n",
       "                        <td id=\"T_5acdc_row0_col4\" class=\"data row0 col4\" >0.250784</td>\n",
       "                        <td id=\"T_5acdc_row0_col5\" class=\"data row0 col5\" >0.156718</td>\n",
       "                        <td id=\"T_5acdc_row0_col6\" class=\"data row0 col6\" >0.176301</td>\n",
       "                        <td id=\"T_5acdc_row0_col7\" class=\"data row0 col7\" >0.344958</td>\n",
       "                        <td id=\"T_5acdc_row0_col8\" class=\"data row0 col8\" >0.035412</td>\n",
       "                        <td id=\"T_5acdc_row0_col9\" class=\"data row0 col9\" >0.022203</td>\n",
       "                        <td id=\"T_5acdc_row0_col10\" class=\"data row0 col10\" >0.136623</td>\n",
       "                        <td id=\"T_5acdc_row0_col11\" class=\"data row0 col11\" >0.181046</td>\n",
       "            </tr>\n",
       "            <tr>\n",
       "                        <th id=\"T_5acdc_level0_row1\" class=\"row_heading level0 row1\" >Time saving_Disagree</th>\n",
       "                        <td id=\"T_5acdc_row1_col0\" class=\"data row1 col0\" >0.553332</td>\n",
       "                        <td id=\"T_5acdc_row1_col1\" class=\"data row1 col1\" >0.996247</td>\n",
       "                        <td id=\"T_5acdc_row1_col2\" class=\"data row1 col2\" >0.066792</td>\n",
       "                        <td id=\"T_5acdc_row1_col3\" class=\"data row1 col3\" >0.086750</td>\n",
       "                        <td id=\"T_5acdc_row1_col4\" class=\"data row1 col4\" >0.258953</td>\n",
       "                        <td id=\"T_5acdc_row1_col5\" class=\"data row1 col5\" >0.225717</td>\n",
       "                        <td id=\"T_5acdc_row1_col6\" class=\"data row1 col6\" >0.224560</td>\n",
       "                        <td id=\"T_5acdc_row1_col7\" class=\"data row1 col7\" >0.049332</td>\n",
       "                        <td id=\"T_5acdc_row1_col8\" class=\"data row1 col8\" >0.057768</td>\n",
       "                        <td id=\"T_5acdc_row1_col9\" class=\"data row1 col9\" >0.023082</td>\n",
       "                        <td id=\"T_5acdc_row1_col10\" class=\"data row1 col10\" >0.053757</td>\n",
       "                        <td id=\"T_5acdc_row1_col11\" class=\"data row1 col11\" >0.158073</td>\n",
       "            </tr>\n",
       "            <tr>\n",
       "                        <th id=\"T_5acdc_level0_row2\" class=\"row_heading level0 row2\" >Unaffordable_Strongly agree</th>\n",
       "                        <td id=\"T_5acdc_row2_col0\" class=\"data row2 col0\" >0.043264</td>\n",
       "                        <td id=\"T_5acdc_row2_col1\" class=\"data row2 col1\" >0.066792</td>\n",
       "                        <td id=\"T_5acdc_row2_col2\" class=\"data row2 col2\" >0.990744</td>\n",
       "                        <td id=\"T_5acdc_row2_col3\" class=\"data row2 col3\" >0.021188</td>\n",
       "                        <td id=\"T_5acdc_row2_col4\" class=\"data row2 col4\" >0.183528</td>\n",
       "                        <td id=\"T_5acdc_row2_col5\" class=\"data row2 col5\" >0.069091</td>\n",
       "                        <td id=\"T_5acdc_row2_col6\" class=\"data row2 col6\" >0.090973</td>\n",
       "                        <td id=\"T_5acdc_row2_col7\" class=\"data row2 col7\" >0.067241</td>\n",
       "                        <td id=\"T_5acdc_row2_col8\" class=\"data row2 col8\" >0.110316</td>\n",
       "                        <td id=\"T_5acdc_row2_col9\" class=\"data row2 col9\" >0.015200</td>\n",
       "                        <td id=\"T_5acdc_row2_col10\" class=\"data row2 col10\" >0.133901</td>\n",
       "                        <td id=\"T_5acdc_row2_col11\" class=\"data row2 col11\" >0.088189</td>\n",
       "            </tr>\n",
       "            <tr>\n",
       "                        <th id=\"T_5acdc_level0_row3\" class=\"row_heading level0 row3\" >Occupation_Employee</th>\n",
       "                        <td id=\"T_5acdc_row3_col0\" class=\"data row3 col0\" >0.135874</td>\n",
       "                        <td id=\"T_5acdc_row3_col1\" class=\"data row3 col1\" >0.086750</td>\n",
       "                        <td id=\"T_5acdc_row3_col2\" class=\"data row3 col2\" >0.021188</td>\n",
       "                        <td id=\"T_5acdc_row3_col3\" class=\"data row3 col3\" >0.996375</td>\n",
       "                        <td id=\"T_5acdc_row3_col4\" class=\"data row3 col4\" >0.023282</td>\n",
       "                        <td id=\"T_5acdc_row3_col5\" class=\"data row3 col5\" >0.178119</td>\n",
       "                        <td id=\"T_5acdc_row3_col6\" class=\"data row3 col6\" >0.055138</td>\n",
       "                        <td id=\"T_5acdc_row3_col7\" class=\"data row3 col7\" >0.097905</td>\n",
       "                        <td id=\"T_5acdc_row3_col8\" class=\"data row3 col8\" >0.068761</td>\n",
       "                        <td id=\"T_5acdc_row3_col9\" class=\"data row3 col9\" >0.072076</td>\n",
       "                        <td id=\"T_5acdc_row3_col10\" class=\"data row3 col10\" >0.132178</td>\n",
       "                        <td id=\"T_5acdc_row3_col11\" class=\"data row3 col11\" >0.125028</td>\n",
       "            </tr>\n",
       "            <tr>\n",
       "                        <th id=\"T_5acdc_level0_row4\" class=\"row_heading level0 row4\" >Unaffordable_Agree</th>\n",
       "                        <td id=\"T_5acdc_row4_col0\" class=\"data row4 col0\" >0.250784</td>\n",
       "                        <td id=\"T_5acdc_row4_col1\" class=\"data row4 col1\" >0.258953</td>\n",
       "                        <td id=\"T_5acdc_row4_col2\" class=\"data row4 col2\" >0.183528</td>\n",
       "                        <td id=\"T_5acdc_row4_col3\" class=\"data row4 col3\" >0.023282</td>\n",
       "                        <td id=\"T_5acdc_row4_col4\" class=\"data row4 col4\" >0.995520</td>\n",
       "                        <td id=\"T_5acdc_row4_col5\" class=\"data row4 col5\" >0.120789</td>\n",
       "                        <td id=\"T_5acdc_row4_col6\" class=\"data row4 col6\" >0.013124</td>\n",
       "                        <td id=\"T_5acdc_row4_col7\" class=\"data row4 col7\" >0.037480</td>\n",
       "                        <td id=\"T_5acdc_row4_col8\" class=\"data row4 col8\" >0.075683</td>\n",
       "                        <td id=\"T_5acdc_row4_col9\" class=\"data row4 col9\" >0.004110</td>\n",
       "                        <td id=\"T_5acdc_row4_col10\" class=\"data row4 col10\" >0.073861</td>\n",
       "                        <td id=\"T_5acdc_row4_col11\" class=\"data row4 col11\" >0.072507</td>\n",
       "            </tr>\n",
       "            <tr>\n",
       "                        <th id=\"T_5acdc_level0_row5\" class=\"row_heading level0 row5\" >Educational Qualifications_Post Graduate</th>\n",
       "                        <td id=\"T_5acdc_row5_col0\" class=\"data row5 col0\" >0.156718</td>\n",
       "                        <td id=\"T_5acdc_row5_col1\" class=\"data row5 col1\" >0.225717</td>\n",
       "                        <td id=\"T_5acdc_row5_col2\" class=\"data row5 col2\" >0.069091</td>\n",
       "                        <td id=\"T_5acdc_row5_col3\" class=\"data row5 col3\" >0.178119</td>\n",
       "                        <td id=\"T_5acdc_row5_col4\" class=\"data row5 col4\" >0.120789</td>\n",
       "                        <td id=\"T_5acdc_row5_col5\" class=\"data row5 col5\" >0.996510</td>\n",
       "                        <td id=\"T_5acdc_row5_col6\" class=\"data row5 col6\" >0.035633</td>\n",
       "                        <td id=\"T_5acdc_row5_col7\" class=\"data row5 col7\" >0.120603</td>\n",
       "                        <td id=\"T_5acdc_row5_col8\" class=\"data row5 col8\" >0.155583</td>\n",
       "                        <td id=\"T_5acdc_row5_col9\" class=\"data row5 col9\" >0.080964</td>\n",
       "                        <td id=\"T_5acdc_row5_col10\" class=\"data row5 col10\" >0.089624</td>\n",
       "                        <td id=\"T_5acdc_row5_col11\" class=\"data row5 col11\" >0.228314</td>\n",
       "            </tr>\n",
       "            <tr>\n",
       "                        <th id=\"T_5acdc_level0_row6\" class=\"row_heading level0 row6\" >Delay of delivery person picking up food_Agree</th>\n",
       "                        <td id=\"T_5acdc_row6_col0\" class=\"data row6 col0\" >0.176301</td>\n",
       "                        <td id=\"T_5acdc_row6_col1\" class=\"data row6 col1\" >0.224560</td>\n",
       "                        <td id=\"T_5acdc_row6_col2\" class=\"data row6 col2\" >0.090973</td>\n",
       "                        <td id=\"T_5acdc_row6_col3\" class=\"data row6 col3\" >0.055138</td>\n",
       "                        <td id=\"T_5acdc_row6_col4\" class=\"data row6 col4\" >0.013124</td>\n",
       "                        <td id=\"T_5acdc_row6_col5\" class=\"data row6 col5\" >0.035633</td>\n",
       "                        <td id=\"T_5acdc_row6_col6\" class=\"data row6 col6\" >0.996605</td>\n",
       "                        <td id=\"T_5acdc_row6_col7\" class=\"data row6 col7\" >0.126711</td>\n",
       "                        <td id=\"T_5acdc_row6_col8\" class=\"data row6 col8\" >0.050491</td>\n",
       "                        <td id=\"T_5acdc_row6_col9\" class=\"data row6 col9\" >0.046547</td>\n",
       "                        <td id=\"T_5acdc_row6_col10\" class=\"data row6 col10\" >0.105737</td>\n",
       "                        <td id=\"T_5acdc_row6_col11\" class=\"data row6 col11\" >0.018898</td>\n",
       "            </tr>\n",
       "            <tr>\n",
       "                        <th id=\"T_5acdc_level0_row7\" class=\"row_heading level0 row7\" >Long delivery time_Disagree</th>\n",
       "                        <td id=\"T_5acdc_row7_col0\" class=\"data row7 col0\" >0.344958</td>\n",
       "                        <td id=\"T_5acdc_row7_col1\" class=\"data row7 col1\" >0.049332</td>\n",
       "                        <td id=\"T_5acdc_row7_col2\" class=\"data row7 col2\" >0.067241</td>\n",
       "                        <td id=\"T_5acdc_row7_col3\" class=\"data row7 col3\" >0.097905</td>\n",
       "                        <td id=\"T_5acdc_row7_col4\" class=\"data row7 col4\" >0.037480</td>\n",
       "                        <td id=\"T_5acdc_row7_col5\" class=\"data row7 col5\" >0.120603</td>\n",
       "                        <td id=\"T_5acdc_row7_col6\" class=\"data row7 col6\" >0.126711</td>\n",
       "                        <td id=\"T_5acdc_row7_col7\" class=\"data row7 col7\" >0.996284</td>\n",
       "                        <td id=\"T_5acdc_row7_col8\" class=\"data row7 col8\" >0.118089</td>\n",
       "                        <td id=\"T_5acdc_row7_col9\" class=\"data row7 col9\" >0.112984</td>\n",
       "                        <td id=\"T_5acdc_row7_col10\" class=\"data row7 col10\" >0.021907</td>\n",
       "                        <td id=\"T_5acdc_row7_col11\" class=\"data row7 col11\" >0.131942</td>\n",
       "            </tr>\n",
       "            <tr>\n",
       "                        <th id=\"T_5acdc_level0_row8\" class=\"row_heading level0 row8\" >Missing item_Strongly agree</th>\n",
       "                        <td id=\"T_5acdc_row8_col0\" class=\"data row8 col0\" >0.035412</td>\n",
       "                        <td id=\"T_5acdc_row8_col1\" class=\"data row8 col1\" >0.057768</td>\n",
       "                        <td id=\"T_5acdc_row8_col2\" class=\"data row8 col2\" >0.110316</td>\n",
       "                        <td id=\"T_5acdc_row8_col3\" class=\"data row8 col3\" >0.068761</td>\n",
       "                        <td id=\"T_5acdc_row8_col4\" class=\"data row8 col4\" >0.075683</td>\n",
       "                        <td id=\"T_5acdc_row8_col5\" class=\"data row8 col5\" >0.155583</td>\n",
       "                        <td id=\"T_5acdc_row8_col6\" class=\"data row8 col6\" >0.050491</td>\n",
       "                        <td id=\"T_5acdc_row8_col7\" class=\"data row8 col7\" >0.118089</td>\n",
       "                        <td id=\"T_5acdc_row8_col8\" class=\"data row8 col8\" >0.994052</td>\n",
       "                        <td id=\"T_5acdc_row8_col9\" class=\"data row8 col9\" >0.065694</td>\n",
       "                        <td id=\"T_5acdc_row8_col10\" class=\"data row8 col10\" >0.024884</td>\n",
       "                        <td id=\"T_5acdc_row8_col11\" class=\"data row8 col11\" >0.063968</td>\n",
       "            </tr>\n",
       "            <tr>\n",
       "                        <th id=\"T_5acdc_level0_row9\" class=\"row_heading level0 row9\" >Google Maps Accuracy_Strongly Agree</th>\n",
       "                        <td id=\"T_5acdc_row9_col0\" class=\"data row9 col0\" >0.022203</td>\n",
       "                        <td id=\"T_5acdc_row9_col1\" class=\"data row9 col1\" >0.023082</td>\n",
       "                        <td id=\"T_5acdc_row9_col2\" class=\"data row9 col2\" >0.015200</td>\n",
       "                        <td id=\"T_5acdc_row9_col3\" class=\"data row9 col3\" >0.072076</td>\n",
       "                        <td id=\"T_5acdc_row9_col4\" class=\"data row9 col4\" >0.004110</td>\n",
       "                        <td id=\"T_5acdc_row9_col5\" class=\"data row9 col5\" >0.080964</td>\n",
       "                        <td id=\"T_5acdc_row9_col6\" class=\"data row9 col6\" >0.046547</td>\n",
       "                        <td id=\"T_5acdc_row9_col7\" class=\"data row9 col7\" >0.112984</td>\n",
       "                        <td id=\"T_5acdc_row9_col8\" class=\"data row9 col8\" >0.065694</td>\n",
       "                        <td id=\"T_5acdc_row9_col9\" class=\"data row9 col9\" >0.996074</td>\n",
       "                        <td id=\"T_5acdc_row9_col10\" class=\"data row9 col10\" >0.099419</td>\n",
       "                        <td id=\"T_5acdc_row9_col11\" class=\"data row9 col11\" >0.033049</td>\n",
       "            </tr>\n",
       "            <tr>\n",
       "                        <th id=\"T_5acdc_level0_row10\" class=\"row_heading level0 row10\" >Self Cooking_Strongly agree</th>\n",
       "                        <td id=\"T_5acdc_row10_col0\" class=\"data row10 col0\" >0.136623</td>\n",
       "                        <td id=\"T_5acdc_row10_col1\" class=\"data row10 col1\" >0.053757</td>\n",
       "                        <td id=\"T_5acdc_row10_col2\" class=\"data row10 col2\" >0.133901</td>\n",
       "                        <td id=\"T_5acdc_row10_col3\" class=\"data row10 col3\" >0.132178</td>\n",
       "                        <td id=\"T_5acdc_row10_col4\" class=\"data row10 col4\" >0.073861</td>\n",
       "                        <td id=\"T_5acdc_row10_col5\" class=\"data row10 col5\" >0.089624</td>\n",
       "                        <td id=\"T_5acdc_row10_col6\" class=\"data row10 col6\" >0.105737</td>\n",
       "                        <td id=\"T_5acdc_row10_col7\" class=\"data row10 col7\" >0.021907</td>\n",
       "                        <td id=\"T_5acdc_row10_col8\" class=\"data row10 col8\" >0.024884</td>\n",
       "                        <td id=\"T_5acdc_row10_col9\" class=\"data row10 col9\" >0.099419</td>\n",
       "                        <td id=\"T_5acdc_row10_col10\" class=\"data row10 col10\" >0.979901</td>\n",
       "                        <td id=\"T_5acdc_row10_col11\" class=\"data row10 col11\" >0.000040</td>\n",
       "            </tr>\n",
       "            <tr>\n",
       "                        <th id=\"T_5acdc_level0_row11\" class=\"row_heading level0 row11\" >Order placed by mistake_Neutral</th>\n",
       "                        <td id=\"T_5acdc_row11_col0\" class=\"data row11 col0\" >0.181046</td>\n",
       "                        <td id=\"T_5acdc_row11_col1\" class=\"data row11 col1\" >0.158073</td>\n",
       "                        <td id=\"T_5acdc_row11_col2\" class=\"data row11 col2\" >0.088189</td>\n",
       "                        <td id=\"T_5acdc_row11_col3\" class=\"data row11 col3\" >0.125028</td>\n",
       "                        <td id=\"T_5acdc_row11_col4\" class=\"data row11 col4\" >0.072507</td>\n",
       "                        <td id=\"T_5acdc_row11_col5\" class=\"data row11 col5\" >0.228314</td>\n",
       "                        <td id=\"T_5acdc_row11_col6\" class=\"data row11 col6\" >0.018898</td>\n",
       "                        <td id=\"T_5acdc_row11_col7\" class=\"data row11 col7\" >0.131942</td>\n",
       "                        <td id=\"T_5acdc_row11_col8\" class=\"data row11 col8\" >0.063968</td>\n",
       "                        <td id=\"T_5acdc_row11_col9\" class=\"data row11 col9\" >0.033049</td>\n",
       "                        <td id=\"T_5acdc_row11_col10\" class=\"data row11 col10\" >0.000040</td>\n",
       "                        <td id=\"T_5acdc_row11_col11\" class=\"data row11 col11\" >0.992867</td>\n",
       "            </tr>\n",
       "    </tbody></table>"
      ],
      "text/plain": [
       "<pandas.io.formats.style.Styler at 0x1e1e31a5148>"
      ]
     },
     "execution_count": 235,
     "metadata": {},
     "output_type": "execute_result"
    }
   ],
   "source": [
    "relation_between_feature.style.apply(lambda x: [\"background: red\" if v>0.25 and v<0.99 else \"\" for v in x], axis = 1)"
   ]
  },
  {
   "cell_type": "code",
   "execution_count": 236,
   "metadata": {
    "ExecuteTime": {
     "end_time": "2021-02-14T04:53:02.176193Z",
     "start_time": "2021-02-14T04:53:02.171195Z"
    }
   },
   "outputs": [],
   "source": [
    "multicolinear_feature=[\"Perference(P2)_ Sweets\",\"Maximum wait time_15 minutes\",\"More restaurant choices_Disagree\"]"
   ]
  },
  {
   "cell_type": "code",
   "execution_count": 237,
   "metadata": {
    "ExecuteTime": {
     "end_time": "2021-02-14T04:53:02.289129Z",
     "start_time": "2021-02-14T04:53:02.180192Z"
    }
   },
   "outputs": [],
   "source": [
    "final_feature=list(relation_between_feature.columns)"
   ]
  },
  {
   "cell_type": "code",
   "execution_count": 238,
   "metadata": {
    "ExecuteTime": {
     "end_time": "2021-02-14T04:53:02.389071Z",
     "start_time": "2021-02-14T04:53:02.293127Z"
    }
   },
   "outputs": [
    {
     "data": {
      "text/plain": [
       "['Ease and convenient_Disagree',\n",
       " 'Time saving_Disagree',\n",
       " 'Unaffordable_Strongly agree',\n",
       " 'Occupation_Employee',\n",
       " 'Unaffordable_Agree',\n",
       " 'Educational Qualifications_Post Graduate',\n",
       " 'Delay of delivery person picking up food_Agree',\n",
       " 'Long delivery time_Disagree',\n",
       " 'Missing item_Strongly agree',\n",
       " 'Google Maps Accuracy_Strongly Agree',\n",
       " 'Self Cooking_Strongly agree',\n",
       " 'Order placed by mistake_Neutral']"
      ]
     },
     "execution_count": 238,
     "metadata": {},
     "output_type": "execute_result"
    }
   ],
   "source": [
    "final_feature"
   ]
  },
  {
   "cell_type": "code",
   "execution_count": 239,
   "metadata": {
    "ExecuteTime": {
     "end_time": "2021-02-14T04:53:02.512972Z",
     "start_time": "2021-02-14T04:53:02.393069Z"
    }
   },
   "outputs": [],
   "source": [
    "set1 = set(final_feature)\n",
    "set2 = set(multicolinear_feature)\n",
    "final_feature = list(set1 - set2)"
   ]
  },
  {
   "cell_type": "code",
   "execution_count": 240,
   "metadata": {
    "ExecuteTime": {
     "end_time": "2021-02-14T04:53:02.626903Z",
     "start_time": "2021-02-14T04:53:02.517967Z"
    }
   },
   "outputs": [
    {
     "data": {
      "text/plain": [
       "['Occupation_Employee',\n",
       " 'Educational Qualifications_Post Graduate',\n",
       " 'Google Maps Accuracy_Strongly Agree',\n",
       " 'Ease and convenient_Disagree',\n",
       " 'Delay of delivery person picking up food_Agree',\n",
       " 'Self Cooking_Strongly agree',\n",
       " 'Long delivery time_Disagree',\n",
       " 'Unaffordable_Agree',\n",
       " 'Missing item_Strongly agree',\n",
       " 'Order placed by mistake_Neutral',\n",
       " 'Unaffordable_Strongly agree',\n",
       " 'Time saving_Disagree']"
      ]
     },
     "execution_count": 240,
     "metadata": {},
     "output_type": "execute_result"
    }
   ],
   "source": [
    "final_feature"
   ]
  },
  {
   "cell_type": "code",
   "execution_count": 241,
   "metadata": {
    "ExecuteTime": {
     "end_time": "2021-02-14T04:53:03.752324Z",
     "start_time": "2021-02-14T04:53:02.629901Z"
    }
   },
   "outputs": [
    {
     "data": {
      "text/plain": [
       "'fgini.png'"
      ]
     },
     "execution_count": 241,
     "metadata": {},
     "output_type": "execute_result"
    }
   ],
   "source": [
    "\n",
    "import graphviz\n",
    "import sklearn.tree as tree\n",
    "# DOT data\n",
    "dot_data = tree.export_graphviz(clf, out_file=None, \n",
    "                                feature_names=X.columns,  \n",
    "                                class_names='01',\n",
    "                                filled=True)\n",
    "\n",
    "# # Draw graph\n",
    "graph = graphviz.Source(dot_data,format=\"png\") \n",
    "graph.render('fgini')\n",
    "# graph"
   ]
  },
  {
   "cell_type": "markdown",
   "metadata": {},
   "source": [
    "# Decesion Tree model"
   ]
  },
  {
   "cell_type": "code",
   "execution_count": 344,
   "metadata": {
    "ExecuteTime": {
     "end_time": "2021-02-14T07:07:24.284387Z",
     "start_time": "2021-02-14T07:07:24.227416Z"
    }
   },
   "outputs": [],
   "source": [
    "fd_dlvry=pd.read_csv('../../data/Banglore_food_delivery/onlinedeliverydata.csv')\n",
    "\n",
    "fd_dlvry.drop(['Pin code','longitude','latitude','Reviews'],axis=1,inplace=True)\n",
    "\n",
    "fd_dlvry['Output']=fd_dlvry['Output'].replace({'Yes':1,'No':0})"
   ]
  },
  {
   "cell_type": "code",
   "execution_count": 345,
   "metadata": {
    "ExecuteTime": {
     "end_time": "2021-02-14T07:07:25.051622Z",
     "start_time": "2021-02-14T07:07:24.988658Z"
    }
   },
   "outputs": [
    {
     "data": {
      "text/html": [
       "<div>\n",
       "<style scoped>\n",
       "    .dataframe tbody tr th:only-of-type {\n",
       "        vertical-align: middle;\n",
       "    }\n",
       "\n",
       "    .dataframe tbody tr th {\n",
       "        vertical-align: top;\n",
       "    }\n",
       "\n",
       "    .dataframe thead th {\n",
       "        text-align: right;\n",
       "    }\n",
       "</style>\n",
       "<table border=\"1\" class=\"dataframe\">\n",
       "  <thead>\n",
       "    <tr style=\"text-align: right;\">\n",
       "      <th></th>\n",
       "      <th>Age</th>\n",
       "      <th>Gender</th>\n",
       "      <th>Marital Status</th>\n",
       "      <th>Occupation</th>\n",
       "      <th>Monthly Income</th>\n",
       "      <th>Educational Qualifications</th>\n",
       "      <th>Family size</th>\n",
       "      <th>Medium (P1)</th>\n",
       "      <th>Medium (P2)</th>\n",
       "      <th>Meal(P1)</th>\n",
       "      <th>...</th>\n",
       "      <th>Influence of rating</th>\n",
       "      <th>Less Delivery time</th>\n",
       "      <th>High Quality of package</th>\n",
       "      <th>Number of calls</th>\n",
       "      <th>Politeness</th>\n",
       "      <th>Freshness</th>\n",
       "      <th>Temperature</th>\n",
       "      <th>Good Taste</th>\n",
       "      <th>Good Quantity</th>\n",
       "      <th>Output</th>\n",
       "    </tr>\n",
       "  </thead>\n",
       "  <tbody>\n",
       "    <tr>\n",
       "      <th>0</th>\n",
       "      <td>20</td>\n",
       "      <td>Female</td>\n",
       "      <td>Single</td>\n",
       "      <td>Student</td>\n",
       "      <td>No Income</td>\n",
       "      <td>Post Graduate</td>\n",
       "      <td>4</td>\n",
       "      <td>Food delivery apps</td>\n",
       "      <td>Web browser</td>\n",
       "      <td>Breakfast</td>\n",
       "      <td>...</td>\n",
       "      <td>Yes</td>\n",
       "      <td>Moderately Important</td>\n",
       "      <td>Moderately Important</td>\n",
       "      <td>Moderately Important</td>\n",
       "      <td>Moderately Important</td>\n",
       "      <td>Moderately Important</td>\n",
       "      <td>Moderately Important</td>\n",
       "      <td>Moderately Important</td>\n",
       "      <td>Moderately Important</td>\n",
       "      <td>1</td>\n",
       "    </tr>\n",
       "    <tr>\n",
       "      <th>1</th>\n",
       "      <td>24</td>\n",
       "      <td>Female</td>\n",
       "      <td>Single</td>\n",
       "      <td>Student</td>\n",
       "      <td>Below Rs.10000</td>\n",
       "      <td>Graduate</td>\n",
       "      <td>3</td>\n",
       "      <td>Food delivery apps</td>\n",
       "      <td>Web browser</td>\n",
       "      <td>Snacks</td>\n",
       "      <td>...</td>\n",
       "      <td>Yes</td>\n",
       "      <td>Very Important</td>\n",
       "      <td>Very Important</td>\n",
       "      <td>Very Important</td>\n",
       "      <td>Very Important</td>\n",
       "      <td>Very Important</td>\n",
       "      <td>Very Important</td>\n",
       "      <td>Very Important</td>\n",
       "      <td>Very Important</td>\n",
       "      <td>1</td>\n",
       "    </tr>\n",
       "    <tr>\n",
       "      <th>2</th>\n",
       "      <td>22</td>\n",
       "      <td>Male</td>\n",
       "      <td>Single</td>\n",
       "      <td>Student</td>\n",
       "      <td>Below Rs.10000</td>\n",
       "      <td>Post Graduate</td>\n",
       "      <td>3</td>\n",
       "      <td>Food delivery apps</td>\n",
       "      <td>Direct call</td>\n",
       "      <td>Lunch</td>\n",
       "      <td>...</td>\n",
       "      <td>Yes</td>\n",
       "      <td>Important</td>\n",
       "      <td>Very Important</td>\n",
       "      <td>Moderately Important</td>\n",
       "      <td>Very Important</td>\n",
       "      <td>Very Important</td>\n",
       "      <td>Important</td>\n",
       "      <td>Very Important</td>\n",
       "      <td>Moderately Important</td>\n",
       "      <td>1</td>\n",
       "    </tr>\n",
       "    <tr>\n",
       "      <th>3</th>\n",
       "      <td>22</td>\n",
       "      <td>Female</td>\n",
       "      <td>Single</td>\n",
       "      <td>Student</td>\n",
       "      <td>No Income</td>\n",
       "      <td>Graduate</td>\n",
       "      <td>6</td>\n",
       "      <td>Food delivery apps</td>\n",
       "      <td>Walk-in</td>\n",
       "      <td>Snacks</td>\n",
       "      <td>...</td>\n",
       "      <td>Yes</td>\n",
       "      <td>Very Important</td>\n",
       "      <td>Important</td>\n",
       "      <td>Moderately Important</td>\n",
       "      <td>Very Important</td>\n",
       "      <td>Very Important</td>\n",
       "      <td>Very Important</td>\n",
       "      <td>Very Important</td>\n",
       "      <td>Important</td>\n",
       "      <td>1</td>\n",
       "    </tr>\n",
       "    <tr>\n",
       "      <th>4</th>\n",
       "      <td>22</td>\n",
       "      <td>Male</td>\n",
       "      <td>Single</td>\n",
       "      <td>Student</td>\n",
       "      <td>Below Rs.10000</td>\n",
       "      <td>Post Graduate</td>\n",
       "      <td>4</td>\n",
       "      <td>Walk-in</td>\n",
       "      <td>Direct call</td>\n",
       "      <td>Lunch</td>\n",
       "      <td>...</td>\n",
       "      <td>Yes</td>\n",
       "      <td>Important</td>\n",
       "      <td>Important</td>\n",
       "      <td>Moderately Important</td>\n",
       "      <td>Important</td>\n",
       "      <td>Important</td>\n",
       "      <td>Important</td>\n",
       "      <td>Very Important</td>\n",
       "      <td>Very Important</td>\n",
       "      <td>1</td>\n",
       "    </tr>\n",
       "  </tbody>\n",
       "</table>\n",
       "<p>5 rows × 51 columns</p>\n",
       "</div>"
      ],
      "text/plain": [
       "   Age  Gender Marital Status Occupation  Monthly Income  \\\n",
       "0   20  Female         Single    Student       No Income   \n",
       "1   24  Female         Single    Student  Below Rs.10000   \n",
       "2   22    Male         Single    Student  Below Rs.10000   \n",
       "3   22  Female         Single    Student       No Income   \n",
       "4   22    Male         Single    Student  Below Rs.10000   \n",
       "\n",
       "  Educational Qualifications  Family size         Medium (P1)   Medium (P2)  \\\n",
       "0              Post Graduate            4  Food delivery apps   Web browser   \n",
       "1                   Graduate            3  Food delivery apps   Web browser   \n",
       "2              Post Graduate            3  Food delivery apps   Direct call   \n",
       "3                   Graduate            6  Food delivery apps       Walk-in   \n",
       "4              Post Graduate            4             Walk-in   Direct call   \n",
       "\n",
       "    Meal(P1)  ... Influence of rating    Less Delivery time  \\\n",
       "0  Breakfast  ...                 Yes  Moderately Important   \n",
       "1     Snacks  ...                 Yes        Very Important   \n",
       "2      Lunch  ...                 Yes             Important   \n",
       "3     Snacks  ...                 Yes        Very Important   \n",
       "4      Lunch  ...                 Yes             Important   \n",
       "\n",
       "  High Quality of package       Number of calls            Politeness  \\\n",
       "0    Moderately Important  Moderately Important  Moderately Important   \n",
       "1          Very Important        Very Important        Very Important   \n",
       "2          Very Important  Moderately Important        Very Important   \n",
       "3               Important  Moderately Important        Very Important   \n",
       "4               Important  Moderately Important             Important   \n",
       "\n",
       "             Freshness            Temperature           Good Taste   \\\n",
       "0  Moderately Important  Moderately Important  Moderately Important   \n",
       "1        Very Important        Very Important        Very Important   \n",
       "2        Very Important             Important        Very Important   \n",
       "3        Very Important        Very Important        Very Important   \n",
       "4             Important             Important        Very Important   \n",
       "\n",
       "          Good Quantity Output  \n",
       "0  Moderately Important      1  \n",
       "1        Very Important      1  \n",
       "2  Moderately Important      1  \n",
       "3             Important      1  \n",
       "4        Very Important      1  \n",
       "\n",
       "[5 rows x 51 columns]"
      ]
     },
     "execution_count": 345,
     "metadata": {},
     "output_type": "execute_result"
    }
   ],
   "source": [
    "fd_dlvry.head()"
   ]
  },
  {
   "cell_type": "code",
   "execution_count": 346,
   "metadata": {
    "ExecuteTime": {
     "end_time": "2021-02-14T07:07:25.770793Z",
     "start_time": "2021-02-14T07:07:25.663858Z"
    }
   },
   "outputs": [
    {
     "data": {
      "text/plain": [
       "(388, 223)"
      ]
     },
     "execution_count": 346,
     "metadata": {},
     "output_type": "execute_result"
    }
   ],
   "source": [
    "fd_ori=fd_dlvry.copy(deep=True)\n",
    "df=pd.get_dummies(fd_dlvry)\n",
    "df.shape"
   ]
  },
  {
   "cell_type": "code",
   "execution_count": 347,
   "metadata": {
    "ExecuteTime": {
     "end_time": "2021-02-14T07:07:26.316301Z",
     "start_time": "2021-02-14T07:07:26.308328Z"
    }
   },
   "outputs": [],
   "source": [
    "final_feature=['Unaffordable_Agree',\n",
    " 'Delay of delivery person getting assigned_Strongly agree',\n",
    " 'Long delivery time_Agree',\n",
    " 'Wrong order delivered_Strongly disagree',\n",
    " 'Missing item_Neutral',\n",
    " 'Unavailability_Disagree',\n",
    " 'Occupation_Student',\n",
    " 'Ease and convenient_Disagree',\n",
    " 'Late Delivery_Disagree']"
   ]
  },
  {
   "cell_type": "code",
   "execution_count": 348,
   "metadata": {
    "ExecuteTime": {
     "end_time": "2021-02-14T07:07:26.810509Z",
     "start_time": "2021-02-14T07:07:26.800520Z"
    }
   },
   "outputs": [
    {
     "data": {
      "text/plain": [
       "['Unaffordable_Agree',\n",
       " 'Delay of delivery person getting assigned_Strongly agree',\n",
       " 'Long delivery time_Agree',\n",
       " 'Wrong order delivered_Strongly disagree',\n",
       " 'Missing item_Neutral',\n",
       " 'Unavailability_Disagree',\n",
       " 'Occupation_Student',\n",
       " 'Ease and convenient_Disagree',\n",
       " 'Late Delivery_Disagree']"
      ]
     },
     "execution_count": 348,
     "metadata": {},
     "output_type": "execute_result"
    }
   ],
   "source": [
    "final_feature"
   ]
  },
  {
   "cell_type": "code",
   "execution_count": 349,
   "metadata": {
    "ExecuteTime": {
     "end_time": "2021-02-14T07:07:27.294214Z",
     "start_time": "2021-02-14T07:07:27.267227Z"
    }
   },
   "outputs": [],
   "source": [
    "X=df[final_feature]\n",
    "y=df['Output']\n",
    "nm=RandomOverSampler()\n",
    "X,y=nm.fit_sample(X,y)\n"
   ]
  },
  {
   "cell_type": "code",
   "execution_count": 350,
   "metadata": {
    "ExecuteTime": {
     "end_time": "2021-02-14T07:07:27.714065Z",
     "start_time": "2021-02-14T07:07:27.690079Z"
    }
   },
   "outputs": [
    {
     "data": {
      "text/plain": [
       "DecisionTreeClassifier(max_depth=6, min_samples_leaf=2, min_samples_split=4,\n",
       "                       random_state=0)"
      ]
     },
     "execution_count": 350,
     "metadata": {},
     "output_type": "execute_result"
    }
   ],
   "source": [
    "X_train, X_test, y_train, y_test = train_test_split(X, y, test_size = 0.33)\n",
    "clf=DecisionTreeClassifier(random_state=0,max_depth=6,min_samples_leaf=2,min_samples_split=4)\n",
    "clf.fit(X,y)"
   ]
  },
  {
   "cell_type": "code",
   "execution_count": 351,
   "metadata": {
    "ExecuteTime": {
     "end_time": "2021-02-14T07:07:28.167662Z",
     "start_time": "2021-02-14T07:07:28.154671Z"
    }
   },
   "outputs": [
    {
     "data": {
      "text/plain": [
       "0.8693467336683417"
      ]
     },
     "execution_count": 351,
     "metadata": {},
     "output_type": "execute_result"
    }
   ],
   "source": [
    "clf.score(X_test,y_test)"
   ]
  },
  {
   "cell_type": "code",
   "execution_count": 352,
   "metadata": {
    "ExecuteTime": {
     "end_time": "2021-02-14T07:07:28.630939Z",
     "start_time": "2021-02-14T07:07:28.614950Z"
    }
   },
   "outputs": [
    {
     "data": {
      "text/plain": [
       "array([1, 0, 1, 1, 0, 1, 1, 1, 0, 1, 1, 1, 0, 0, 0, 1, 0, 0, 1, 1, 0, 0,\n",
       "       1, 1, 0, 0, 1, 0, 0, 0, 1, 0, 0, 0, 0, 1, 0, 1, 0, 1, 0, 1, 1, 1,\n",
       "       0, 1, 0, 0, 1, 1, 0, 0, 1, 0, 1, 0, 0, 0, 1, 0, 1, 0, 1, 0, 1, 1,\n",
       "       0, 1, 1, 1, 1, 0, 0, 1, 1, 0, 1, 0, 1, 1, 1, 1, 1, 0, 1, 1, 1, 1,\n",
       "       0, 1, 1, 0, 0, 0, 0, 1, 0, 0, 0, 1, 0, 0, 1, 1, 0, 0, 1, 0, 0, 1,\n",
       "       0, 1, 1, 1, 0, 1, 1, 1, 1, 0, 0, 1, 0, 1, 1, 1, 0, 0, 0, 1, 0, 1,\n",
       "       1, 0, 0, 1, 0, 1, 1, 0, 1, 1, 1, 0, 0, 1, 0, 1, 1, 0, 1, 1, 0, 1,\n",
       "       0, 1, 1, 0, 1, 0, 1, 1, 1, 0, 1, 0, 0, 1, 1, 0, 0, 0, 1, 0, 0, 1,\n",
       "       0, 0, 1, 1, 0, 0, 0, 1, 0, 1, 0, 0, 0, 0, 1, 1, 1, 1, 0, 0, 0, 1,\n",
       "       0], dtype=int64)"
      ]
     },
     "execution_count": 352,
     "metadata": {},
     "output_type": "execute_result"
    }
   ],
   "source": [
    "y_pred=clf.predict(X_test)\n",
    "y_pred"
   ]
  },
  {
   "cell_type": "code",
   "execution_count": null,
   "metadata": {
    "ExecuteTime": {
     "end_time": "2021-02-12T05:13:36.330261Z",
     "start_time": "2021-02-12T05:13:36.295282Z"
    }
   },
   "outputs": [],
   "source": []
  },
  {
   "cell_type": "code",
   "execution_count": 251,
   "metadata": {
    "ExecuteTime": {
     "end_time": "2021-02-14T04:53:05.033679Z",
     "start_time": "2021-02-14T04:53:04.941732Z"
    }
   },
   "outputs": [
    {
     "name": "stdout",
     "output_type": "stream",
     "text": [
      "[[92 12]\n",
      " [ 9 86]]\n"
     ]
    }
   ],
   "source": [
    "print(confusion_matrix(y_test,y_pred))"
   ]
  },
  {
   "cell_type": "code",
   "execution_count": 254,
   "metadata": {
    "ExecuteTime": {
     "end_time": "2021-02-14T05:00:11.712407Z",
     "start_time": "2021-02-14T05:00:11.549508Z"
    }
   },
   "outputs": [
    {
     "name": "stdout",
     "output_type": "stream",
     "text": [
      "List of possible accuracy: [0.8823529411764706, 0.7843137254901961, 0.88, 0.9, 0.92, 0.86, 0.8, 0.9, 0.84, 0.9, 0.9, 0.88]\n",
      "\n",
      "Maximum Accuracy That can be obtained from this model is: 92.0 %\n",
      "\n",
      "Minimum Accuracy: 78.43137254901961 %\n",
      "\n",
      "Average Accuracy That can be obtained from this model is:: 0.8705555555555556\n",
      "\n",
      " Median Accuracy That can be obtained from this model is:: 0.8811764705882352\n",
      "\n",
      "Standard Deviation is: 0.04050825953985097\n"
     ]
    }
   ],
   "source": [
    "lst_accu_stratified = [] \n",
    "x=0\n",
    "x=0\n",
    "feature_common=pd.DataFrame()\n",
    "skf = StratifiedKFold(n_splits=12, shuffle=True, random_state=1) \n",
    "for train_index, test_index in skf.split(X, y): \n",
    "    x_train_fold, x_test_fold = X.loc[train_index,:], X.loc[test_index,:] \n",
    "    y_train_fold, y_test_fold = y[train_index], y[test_index] \n",
    "    clf.fit(x_train_fold, y_train_fold)\n",
    "    \n",
    "    lst_accu_stratified.append(clf.score(x_test_fold, y_test_fold))\n",
    "    \n",
    "    \n",
    "print('List of possible accuracy:', lst_accu_stratified) \n",
    "print('\\nMaximum Accuracy That can be obtained from this model is:', \n",
    "      max(lst_accu_stratified)*100, '%') \n",
    "print('\\nMinimum Accuracy:', \n",
    "      min(lst_accu_stratified)*100, '%') \n",
    "print('\\nAverage Accuracy That can be obtained from this model is::',np.mean(lst_accu_stratified)) \n",
    "print('\\n Median Accuracy That can be obtained from this model is::',np.median(lst_accu_stratified)) \n",
    "print('\\nStandard Deviation is:',np.std(lst_accu_stratified)) "
   ]
  },
  {
   "cell_type": "code",
   "execution_count": null,
   "metadata": {
    "ExecuteTime": {
     "end_time": "2021-02-14T04:53:05.224568Z",
     "start_time": "2021-02-14T04:51:17.278Z"
    }
   },
   "outputs": [],
   "source": [
    "list_1=[1,0,1,0,1,0,0,0,0]\n",
    "pre=np.array(list_1).reshape(1,-1)\n",
    "nk=dict(zip(X_test.columns,list_1))\n",
    "nk\n"
   ]
  },
  {
   "cell_type": "code",
   "execution_count": null,
   "metadata": {
    "ExecuteTime": {
     "end_time": "2021-02-14T04:53:05.227568Z",
     "start_time": "2021-02-14T04:51:17.287Z"
    }
   },
   "outputs": [],
   "source": [
    "# import graphviz\n",
    "# import sklearn.tree as tree\n",
    "# # DOT data\n",
    "# dot_data = tree.export_graphviz(clf, out_file=None, \n",
    "#                                 feature_names=X_test.columns,  \n",
    "#                                 class_names='01',\n",
    "#                                 filled=True)\n",
    "\n",
    "# # # Draw graph\n",
    "# graph = graphviz.Source(dot_data,format=\"png\") \n",
    "# graph.render('fgini')\n",
    "# # graph"
   ]
  },
  {
   "cell_type": "code",
   "execution_count": null,
   "metadata": {
    "ExecuteTime": {
     "end_time": "2021-02-14T04:53:05.230566Z",
     "start_time": "2021-02-14T04:51:17.302Z"
    }
   },
   "outputs": [],
   "source": [
    "clf.predict(pre)"
   ]
  },
  {
   "cell_type": "code",
   "execution_count": null,
   "metadata": {
    "ExecuteTime": {
     "end_time": "2021-02-14T04:53:05.233564Z",
     "start_time": "2021-02-14T04:51:17.312Z"
    }
   },
   "outputs": [],
   "source": [
    "nk.keys()"
   ]
  },
  {
   "cell_type": "code",
   "execution_count": null,
   "metadata": {
    "ExecuteTime": {
     "end_time": "2021-02-14T04:53:05.235562Z",
     "start_time": "2021-02-14T04:51:17.321Z"
    }
   },
   "outputs": [],
   "source": [
    "fd_dlvry['Missing item'].unique()"
   ]
  },
  {
   "cell_type": "markdown",
   "metadata": {},
   "source": [
    "# Random forest\n"
   ]
  },
  {
   "cell_type": "markdown",
   "metadata": {},
   "source": [
    "## Feature selection by Random forest"
   ]
  },
  {
   "cell_type": "code",
   "execution_count": 299,
   "metadata": {
    "ExecuteTime": {
     "end_time": "2021-02-14T06:10:58.782933Z",
     "start_time": "2021-02-14T06:10:58.777938Z"
    }
   },
   "outputs": [],
   "source": [
    "from sklearn.ensemble import RandomForestClassifier\n",
    "clf=RandomForestClassifier(max_depth=6,min_samples_split=4)"
   ]
  },
  {
   "cell_type": "code",
   "execution_count": 300,
   "metadata": {
    "ExecuteTime": {
     "end_time": "2021-02-14T06:10:59.452936Z",
     "start_time": "2021-02-14T06:10:59.448942Z"
    }
   },
   "outputs": [],
   "source": [
    "from sklearn.feature_selection import SelectFromModel"
   ]
  },
  {
   "cell_type": "code",
   "execution_count": 355,
   "metadata": {
    "ExecuteTime": {
     "end_time": "2021-02-14T07:13:49.973049Z",
     "start_time": "2021-02-14T07:13:49.864112Z"
    }
   },
   "outputs": [],
   "source": [
    "X=df.iloc[:,:-1]\n",
    "y=df.iloc[:,-1]\n",
    "\n",
    "nm=RandomOverSampler()\n",
    "X,y=nm.fit_sample(X,y)"
   ]
  },
  {
   "cell_type": "code",
   "execution_count": null,
   "metadata": {},
   "outputs": [],
   "source": []
  },
  {
   "cell_type": "code",
   "execution_count": 356,
   "metadata": {
    "ExecuteTime": {
     "end_time": "2021-02-14T07:13:51.501006Z",
     "start_time": "2021-02-14T07:13:51.164811Z"
    }
   },
   "outputs": [
    {
     "data": {
      "text/plain": [
       "RandomForestClassifier(max_depth=5)"
      ]
     },
     "execution_count": 356,
     "metadata": {},
     "output_type": "execute_result"
    }
   ],
   "source": [
    "X_train, X_test, y_train, y_test = train_test_split(X, y, test_size = 0.33)\n",
    "clf=RandomForestClassifier(max_depth=5,min_samples_split=2)\n",
    "clf.fit(X_train,y_train)"
   ]
  },
  {
   "cell_type": "code",
   "execution_count": 357,
   "metadata": {
    "ExecuteTime": {
     "end_time": "2021-02-14T07:13:56.209495Z",
     "start_time": "2021-02-14T07:13:52.035841Z"
    }
   },
   "outputs": [
    {
     "name": "stdout",
     "output_type": "stream",
     "text": [
      "List of possible accuracy: [0.9722222222222222, 0.8888888888888888, 0.9444444444444444, 1.0, 0.9444444444444444, 0.8611111111111112, 0.9166666666666666, 0.9722222222222222, 1.0, 0.9142857142857143, 0.8285714285714286, 0.9714285714285714]\n",
      "\n",
      "Maximum Accuracy That can be obtained from this model is: 100.0 %\n",
      "\n",
      "Minimum Accuracy: 82.85714285714286 %\n",
      "\n",
      "Average Accuracy That can be obtained from this model is:: 0.9345238095238096\n",
      "\n",
      " Median Accuracy That can be obtained from this model is:: 0.9444444444444444\n",
      "\n",
      "Standard Deviation is: 0.05196291824718776\n"
     ]
    }
   ],
   "source": [
    "lst_accu_stratified = [] \n",
    "x=0\n",
    "feature_common=pd.DataFrame()\n",
    "skf = StratifiedKFold(n_splits=12, shuffle=True, random_state=1) \n",
    "for train_index, test_index in skf.split(X, y): \n",
    "    x_train_fold, x_test_fold = X.loc[train_index,:], X.loc[test_index,:] \n",
    "    y_train_fold, y_test_fold = y[train_index], y[test_index] \n",
    "    clf.fit(x_train_fold, y_train_fold)\n",
    "    feature_common[x]=feature_extract(clf,X_train.columns)\n",
    "    x+=1\n",
    "    lst_accu_stratified.append(clf.score(x_test_fold, y_test_fold))\n",
    "   \n",
    "    \n",
    "    \n",
    "print('List of possible accuracy:', lst_accu_stratified) \n",
    "print('\\nMaximum Accuracy That can be obtained from this model is:', \n",
    "      max(lst_accu_stratified)*100, '%') \n",
    "print('\\nMinimum Accuracy:', \n",
    "      min(lst_accu_stratified)*100, '%') \n",
    "print('\\nAverage Accuracy That can be obtained from this model is::',np.mean(lst_accu_stratified)) \n",
    "print('\\n Median Accuracy That can be obtained from this model is::',np.median(lst_accu_stratified)) \n",
    "print('\\nStandard Deviation is:',np.std(lst_accu_stratified)) "
   ]
  },
  {
   "cell_type": "code",
   "execution_count": 358,
   "metadata": {
    "ExecuteTime": {
     "end_time": "2021-02-14T07:14:00.106705Z",
     "start_time": "2021-02-14T07:14:00.056736Z"
    }
   },
   "outputs": [
    {
     "data": {
      "text/html": [
       "<div>\n",
       "<style scoped>\n",
       "    .dataframe tbody tr th:only-of-type {\n",
       "        vertical-align: middle;\n",
       "    }\n",
       "\n",
       "    .dataframe tbody tr th {\n",
       "        vertical-align: top;\n",
       "    }\n",
       "\n",
       "    .dataframe thead th {\n",
       "        text-align: right;\n",
       "    }\n",
       "</style>\n",
       "<table border=\"1\" class=\"dataframe\">\n",
       "  <thead>\n",
       "    <tr style=\"text-align: right;\">\n",
       "      <th></th>\n",
       "      <th>0</th>\n",
       "      <th>1</th>\n",
       "      <th>2</th>\n",
       "      <th>3</th>\n",
       "      <th>4</th>\n",
       "      <th>5</th>\n",
       "      <th>6</th>\n",
       "      <th>7</th>\n",
       "      <th>8</th>\n",
       "      <th>9</th>\n",
       "      <th>10</th>\n",
       "      <th>11</th>\n",
       "    </tr>\n",
       "  </thead>\n",
       "  <tbody>\n",
       "    <tr>\n",
       "      <th>0</th>\n",
       "      <td>Good Quantity_Important</td>\n",
       "      <td>Good Quantity_Important</td>\n",
       "      <td>Good Quantity_Important</td>\n",
       "      <td>Good Quantity_Important</td>\n",
       "      <td>Good Quantity_Important</td>\n",
       "      <td>Good Quantity_Important</td>\n",
       "      <td>Good Quantity_Important</td>\n",
       "      <td>Good Quantity_Important</td>\n",
       "      <td>Good Quantity_Important</td>\n",
       "      <td>Good Quantity_Important</td>\n",
       "      <td>Good Quantity_Important</td>\n",
       "      <td>Good Quantity_Important</td>\n",
       "    </tr>\n",
       "    <tr>\n",
       "      <th>1</th>\n",
       "      <td>Good Taste _Very Important</td>\n",
       "      <td>Good Taste _Very Important</td>\n",
       "      <td>Good Taste _Very Important</td>\n",
       "      <td>Good Taste _Very Important</td>\n",
       "      <td>Good Taste _Very Important</td>\n",
       "      <td>Good Taste _Very Important</td>\n",
       "      <td>Good Taste _Very Important</td>\n",
       "      <td>Good Taste _Very Important</td>\n",
       "      <td>Good Taste _Very Important</td>\n",
       "      <td>Good Taste _Very Important</td>\n",
       "      <td>Good Taste _Very Important</td>\n",
       "      <td>Good Taste _Very Important</td>\n",
       "    </tr>\n",
       "    <tr>\n",
       "      <th>2</th>\n",
       "      <td>Temperature_Very Important</td>\n",
       "      <td>Temperature_Very Important</td>\n",
       "      <td>Temperature_Very Important</td>\n",
       "      <td>Temperature_Very Important</td>\n",
       "      <td>Temperature_Very Important</td>\n",
       "      <td>Good Taste _Important</td>\n",
       "      <td>Temperature_Very Important</td>\n",
       "      <td>Freshness _Very Important</td>\n",
       "      <td>Temperature_Very Important</td>\n",
       "      <td>Good Taste _Important</td>\n",
       "      <td>Freshness _Very Important</td>\n",
       "      <td>Temperature_Very Important</td>\n",
       "    </tr>\n",
       "    <tr>\n",
       "      <th>3</th>\n",
       "      <td>Good Taste _Important</td>\n",
       "      <td>Freshness _Very Important</td>\n",
       "      <td>Freshness _Very Important</td>\n",
       "      <td>Good Taste _Important</td>\n",
       "      <td>Good Taste _Important</td>\n",
       "      <td>Temperature_Very Important</td>\n",
       "      <td>Good Taste _Important</td>\n",
       "      <td>Temperature_Very Important</td>\n",
       "      <td>Freshness _Very Important</td>\n",
       "      <td>Temperature_Very Important</td>\n",
       "      <td>Good Taste _Important</td>\n",
       "      <td>Freshness _Very Important</td>\n",
       "    </tr>\n",
       "    <tr>\n",
       "      <th>4</th>\n",
       "      <td>Freshness _Very Important</td>\n",
       "      <td>Good Taste _Important</td>\n",
       "      <td>Good Taste _Important</td>\n",
       "      <td>Freshness _Very Important</td>\n",
       "      <td>Freshness _Very Important</td>\n",
       "      <td>Freshness _Very Important</td>\n",
       "      <td>Freshness _Very Important</td>\n",
       "      <td>Good Taste _Important</td>\n",
       "      <td>Good Taste _Important</td>\n",
       "      <td>Freshness _Very Important</td>\n",
       "      <td>Temperature_Very Important</td>\n",
       "      <td>Good Taste _Important</td>\n",
       "    </tr>\n",
       "    <tr>\n",
       "      <th>5</th>\n",
       "      <td>Good Taste _Moderately Important</td>\n",
       "      <td>Good Taste _Moderately Important</td>\n",
       "      <td>Good Quantity_Moderately Important</td>\n",
       "      <td>Good Taste _Moderately Important</td>\n",
       "      <td>Good Taste _Moderately Important</td>\n",
       "      <td>Good Taste _Moderately Important</td>\n",
       "      <td>Good Taste _Moderately Important</td>\n",
       "      <td>Good Taste _Moderately Important</td>\n",
       "      <td>Good Quantity_Moderately Important</td>\n",
       "      <td>Good Taste _Moderately Important</td>\n",
       "      <td>Good Taste _Moderately Important</td>\n",
       "      <td>Good Taste _Moderately Important</td>\n",
       "    </tr>\n",
       "    <tr>\n",
       "      <th>6</th>\n",
       "      <td>Good Quantity_Moderately Important</td>\n",
       "      <td>Good Quantity_Moderately Important</td>\n",
       "      <td>Good Taste _Moderately Important</td>\n",
       "      <td>Good Quantity_Moderately Important</td>\n",
       "      <td>Good Quantity_Moderately Important</td>\n",
       "      <td>Good Quantity_Moderately Important</td>\n",
       "      <td>Good Quantity_Slightly Important</td>\n",
       "      <td>Good Quantity_Moderately Important</td>\n",
       "      <td>Good Taste _Moderately Important</td>\n",
       "      <td>Good Quantity_Moderately Important</td>\n",
       "      <td>Good Quantity_Moderately Important</td>\n",
       "      <td>Good Quantity_Moderately Important</td>\n",
       "    </tr>\n",
       "    <tr>\n",
       "      <th>7</th>\n",
       "      <td>Good Quantity_Slightly Important</td>\n",
       "      <td>Good Quantity_Slightly Important</td>\n",
       "      <td>Freshness _Important</td>\n",
       "      <td>Temperature_Important</td>\n",
       "      <td>Freshness _Important</td>\n",
       "      <td>Good Quantity_Slightly Important</td>\n",
       "      <td>Freshness _Important</td>\n",
       "      <td>Good Quantity_Slightly Important</td>\n",
       "      <td>Freshness _Important</td>\n",
       "      <td>Freshness _Important</td>\n",
       "      <td>Freshness _Important</td>\n",
       "      <td>Temperature_Slightly Important</td>\n",
       "    </tr>\n",
       "    <tr>\n",
       "      <th>8</th>\n",
       "      <td>Freshness _Important</td>\n",
       "      <td>Temperature_Slightly Important</td>\n",
       "      <td>Temperature_Important</td>\n",
       "      <td>Good Quantity_Slightly Important</td>\n",
       "      <td>Temperature_Important</td>\n",
       "      <td>Freshness _Important</td>\n",
       "      <td>Good Quantity_Moderately Important</td>\n",
       "      <td>Educational Qualifications_Post Graduate</td>\n",
       "      <td>Temperature_Important</td>\n",
       "      <td>High Quality of package_Very Important</td>\n",
       "      <td>Temperature_Slightly Important</td>\n",
       "      <td>Age</td>\n",
       "    </tr>\n",
       "    <tr>\n",
       "      <th>9</th>\n",
       "      <td>Temperature_Important</td>\n",
       "      <td>Freshness _Important</td>\n",
       "      <td>Good Quantity_Slightly Important</td>\n",
       "      <td>Age</td>\n",
       "      <td>Good Quantity_Slightly Important</td>\n",
       "      <td>Educational Qualifications_Post Graduate</td>\n",
       "      <td>Temperature_Important</td>\n",
       "      <td>Freshness _Important</td>\n",
       "      <td>Good Quantity_Slightly Important</td>\n",
       "      <td>Good Quantity_Slightly Important</td>\n",
       "      <td>Temperature_Important</td>\n",
       "      <td>Temperature_Important</td>\n",
       "    </tr>\n",
       "    <tr>\n",
       "      <th>10</th>\n",
       "      <td>Age</td>\n",
       "      <td>Temperature_Important</td>\n",
       "      <td>Age</td>\n",
       "      <td>Freshness _Important</td>\n",
       "      <td>Age</td>\n",
       "      <td>Unavailability_Disagree</td>\n",
       "      <td>Temperature_Slightly Important</td>\n",
       "      <td>Temperature_Important</td>\n",
       "      <td>Missing item_Strongly agree</td>\n",
       "      <td>Temperature_Important</td>\n",
       "      <td>Good Quantity_Slightly Important</td>\n",
       "      <td>Freshness _Important</td>\n",
       "    </tr>\n",
       "    <tr>\n",
       "      <th>11</th>\n",
       "      <td>Temperature_Slightly Important</td>\n",
       "      <td>Educational Qualifications_Post Graduate</td>\n",
       "      <td>Educational Qualifications_Post Graduate</td>\n",
       "      <td>Politeness_Very Important</td>\n",
       "      <td>Educational Qualifications_Post Graduate</td>\n",
       "      <td>High Quality of package_Very Important</td>\n",
       "      <td>Less Delivery time_Very Important</td>\n",
       "      <td>Politeness_Very Important</td>\n",
       "      <td>Politeness_Very Important</td>\n",
       "      <td>Age</td>\n",
       "      <td>Educational Qualifications_Post Graduate</td>\n",
       "      <td>Good Quantity_Slightly Important</td>\n",
       "    </tr>\n",
       "  </tbody>\n",
       "</table>\n",
       "</div>"
      ],
      "text/plain": [
       "                                    0   \\\n",
       "0              Good Quantity_Important   \n",
       "1           Good Taste _Very Important   \n",
       "2           Temperature_Very Important   \n",
       "3                Good Taste _Important   \n",
       "4            Freshness _Very Important   \n",
       "5     Good Taste _Moderately Important   \n",
       "6   Good Quantity_Moderately Important   \n",
       "7     Good Quantity_Slightly Important   \n",
       "8                 Freshness _Important   \n",
       "9                Temperature_Important   \n",
       "10                                 Age   \n",
       "11      Temperature_Slightly Important   \n",
       "\n",
       "                                          1   \\\n",
       "0                    Good Quantity_Important   \n",
       "1                 Good Taste _Very Important   \n",
       "2                 Temperature_Very Important   \n",
       "3                  Freshness _Very Important   \n",
       "4                      Good Taste _Important   \n",
       "5           Good Taste _Moderately Important   \n",
       "6         Good Quantity_Moderately Important   \n",
       "7           Good Quantity_Slightly Important   \n",
       "8             Temperature_Slightly Important   \n",
       "9                       Freshness _Important   \n",
       "10                     Temperature_Important   \n",
       "11  Educational Qualifications_Post Graduate   \n",
       "\n",
       "                                          2   \\\n",
       "0                    Good Quantity_Important   \n",
       "1                 Good Taste _Very Important   \n",
       "2                 Temperature_Very Important   \n",
       "3                  Freshness _Very Important   \n",
       "4                      Good Taste _Important   \n",
       "5         Good Quantity_Moderately Important   \n",
       "6           Good Taste _Moderately Important   \n",
       "7                       Freshness _Important   \n",
       "8                      Temperature_Important   \n",
       "9           Good Quantity_Slightly Important   \n",
       "10                                       Age   \n",
       "11  Educational Qualifications_Post Graduate   \n",
       "\n",
       "                                    3   \\\n",
       "0              Good Quantity_Important   \n",
       "1           Good Taste _Very Important   \n",
       "2           Temperature_Very Important   \n",
       "3                Good Taste _Important   \n",
       "4            Freshness _Very Important   \n",
       "5     Good Taste _Moderately Important   \n",
       "6   Good Quantity_Moderately Important   \n",
       "7                Temperature_Important   \n",
       "8     Good Quantity_Slightly Important   \n",
       "9                                  Age   \n",
       "10                Freshness _Important   \n",
       "11           Politeness_Very Important   \n",
       "\n",
       "                                          4   \\\n",
       "0                    Good Quantity_Important   \n",
       "1                 Good Taste _Very Important   \n",
       "2                 Temperature_Very Important   \n",
       "3                      Good Taste _Important   \n",
       "4                  Freshness _Very Important   \n",
       "5           Good Taste _Moderately Important   \n",
       "6         Good Quantity_Moderately Important   \n",
       "7                       Freshness _Important   \n",
       "8                      Temperature_Important   \n",
       "9           Good Quantity_Slightly Important   \n",
       "10                                       Age   \n",
       "11  Educational Qualifications_Post Graduate   \n",
       "\n",
       "                                          5   \\\n",
       "0                    Good Quantity_Important   \n",
       "1                 Good Taste _Very Important   \n",
       "2                      Good Taste _Important   \n",
       "3                 Temperature_Very Important   \n",
       "4                  Freshness _Very Important   \n",
       "5           Good Taste _Moderately Important   \n",
       "6         Good Quantity_Moderately Important   \n",
       "7           Good Quantity_Slightly Important   \n",
       "8                       Freshness _Important   \n",
       "9   Educational Qualifications_Post Graduate   \n",
       "10                   Unavailability_Disagree   \n",
       "11    High Quality of package_Very Important   \n",
       "\n",
       "                                    6   \\\n",
       "0              Good Quantity_Important   \n",
       "1           Good Taste _Very Important   \n",
       "2           Temperature_Very Important   \n",
       "3                Good Taste _Important   \n",
       "4            Freshness _Very Important   \n",
       "5     Good Taste _Moderately Important   \n",
       "6     Good Quantity_Slightly Important   \n",
       "7                 Freshness _Important   \n",
       "8   Good Quantity_Moderately Important   \n",
       "9                Temperature_Important   \n",
       "10      Temperature_Slightly Important   \n",
       "11   Less Delivery time_Very Important   \n",
       "\n",
       "                                          7   \\\n",
       "0                    Good Quantity_Important   \n",
       "1                 Good Taste _Very Important   \n",
       "2                  Freshness _Very Important   \n",
       "3                 Temperature_Very Important   \n",
       "4                      Good Taste _Important   \n",
       "5           Good Taste _Moderately Important   \n",
       "6         Good Quantity_Moderately Important   \n",
       "7           Good Quantity_Slightly Important   \n",
       "8   Educational Qualifications_Post Graduate   \n",
       "9                       Freshness _Important   \n",
       "10                     Temperature_Important   \n",
       "11                 Politeness_Very Important   \n",
       "\n",
       "                                    8   \\\n",
       "0              Good Quantity_Important   \n",
       "1           Good Taste _Very Important   \n",
       "2           Temperature_Very Important   \n",
       "3            Freshness _Very Important   \n",
       "4                Good Taste _Important   \n",
       "5   Good Quantity_Moderately Important   \n",
       "6     Good Taste _Moderately Important   \n",
       "7                 Freshness _Important   \n",
       "8                Temperature_Important   \n",
       "9     Good Quantity_Slightly Important   \n",
       "10         Missing item_Strongly agree   \n",
       "11           Politeness_Very Important   \n",
       "\n",
       "                                        9   \\\n",
       "0                  Good Quantity_Important   \n",
       "1               Good Taste _Very Important   \n",
       "2                    Good Taste _Important   \n",
       "3               Temperature_Very Important   \n",
       "4                Freshness _Very Important   \n",
       "5         Good Taste _Moderately Important   \n",
       "6       Good Quantity_Moderately Important   \n",
       "7                     Freshness _Important   \n",
       "8   High Quality of package_Very Important   \n",
       "9         Good Quantity_Slightly Important   \n",
       "10                   Temperature_Important   \n",
       "11                                     Age   \n",
       "\n",
       "                                          10  \\\n",
       "0                    Good Quantity_Important   \n",
       "1                 Good Taste _Very Important   \n",
       "2                  Freshness _Very Important   \n",
       "3                      Good Taste _Important   \n",
       "4                 Temperature_Very Important   \n",
       "5           Good Taste _Moderately Important   \n",
       "6         Good Quantity_Moderately Important   \n",
       "7                       Freshness _Important   \n",
       "8             Temperature_Slightly Important   \n",
       "9                      Temperature_Important   \n",
       "10          Good Quantity_Slightly Important   \n",
       "11  Educational Qualifications_Post Graduate   \n",
       "\n",
       "                                    11  \n",
       "0              Good Quantity_Important  \n",
       "1           Good Taste _Very Important  \n",
       "2           Temperature_Very Important  \n",
       "3            Freshness _Very Important  \n",
       "4                Good Taste _Important  \n",
       "5     Good Taste _Moderately Important  \n",
       "6   Good Quantity_Moderately Important  \n",
       "7       Temperature_Slightly Important  \n",
       "8                                  Age  \n",
       "9                Temperature_Important  \n",
       "10                Freshness _Important  \n",
       "11    Good Quantity_Slightly Important  "
      ]
     },
     "execution_count": 358,
     "metadata": {},
     "output_type": "execute_result"
    }
   ],
   "source": [
    "feature_common"
   ]
  },
  {
   "cell_type": "code",
   "execution_count": 359,
   "metadata": {
    "ExecuteTime": {
     "end_time": "2021-02-14T07:14:00.933827Z",
     "start_time": "2021-02-14T07:14:00.923837Z"
    }
   },
   "outputs": [
    {
     "data": {
      "text/plain": [
       "0                      Good Quantity_Important\n",
       "1                   Good Taste _Very Important\n",
       "2                   Temperature_Very Important\n",
       "3                    Freshness _Very Important\n",
       "4                        Good Taste _Important\n",
       "5           Good Quantity_Moderately Important\n",
       "6             Good Taste _Moderately Important\n",
       "7                         Freshness _Important\n",
       "8                        Temperature_Important\n",
       "9             Good Quantity_Slightly Important\n",
       "10                                         Age\n",
       "11    Educational Qualifications_Post Graduate\n",
       "Name: 2, dtype: object"
      ]
     },
     "execution_count": 359,
     "metadata": {},
     "output_type": "execute_result"
    }
   ],
   "source": [
    "feature_common[2]"
   ]
  },
  {
   "cell_type": "markdown",
   "metadata": {},
   "source": [
    "## Build Model"
   ]
  },
  {
   "cell_type": "code",
   "execution_count": 360,
   "metadata": {
    "ExecuteTime": {
     "end_time": "2021-02-14T07:14:04.000142Z",
     "start_time": "2021-02-14T07:14:03.993140Z"
    }
   },
   "outputs": [],
   "source": [
    "X=df[feature_common[2]]\n",
    "y=df.iloc[:,-1]"
   ]
  },
  {
   "cell_type": "code",
   "execution_count": 361,
   "metadata": {
    "ExecuteTime": {
     "end_time": "2021-02-14T07:14:14.675393Z",
     "start_time": "2021-02-14T07:14:14.649412Z"
    }
   },
   "outputs": [],
   "source": [
    "\n",
    "nm=RandomOverSampler()\n",
    "X,y=nm.fit_sample(X,y)"
   ]
  },
  {
   "cell_type": "code",
   "execution_count": 362,
   "metadata": {
    "ExecuteTime": {
     "end_time": "2021-02-14T07:14:15.776763Z",
     "start_time": "2021-02-14T07:14:15.385992Z"
    }
   },
   "outputs": [
    {
     "data": {
      "text/plain": [
       "RandomForestClassifier(max_depth=3, min_samples_split=4)"
      ]
     },
     "execution_count": 362,
     "metadata": {},
     "output_type": "execute_result"
    }
   ],
   "source": [
    "X_train, X_test, y_train, y_test = train_test_split(X, y, test_size = 0.33)\n",
    "clf=RandomForestClassifier(max_depth=3,min_samples_split=4)\n",
    "clf.fit(X_train,y_train)"
   ]
  },
  {
   "cell_type": "code",
   "execution_count": 364,
   "metadata": {
    "ExecuteTime": {
     "end_time": "2021-02-14T07:14:16.885437Z",
     "start_time": "2021-02-14T07:14:16.847480Z"
    }
   },
   "outputs": [
    {
     "data": {
      "text/plain": [
       "0.8802816901408451"
      ]
     },
     "execution_count": 364,
     "metadata": {},
     "output_type": "execute_result"
    }
   ],
   "source": [
    "clf.score(X_test,y_test)"
   ]
  },
  {
   "cell_type": "code",
   "execution_count": 365,
   "metadata": {
    "ExecuteTime": {
     "end_time": "2021-02-14T07:14:17.551207Z",
     "start_time": "2021-02-14T07:14:17.512230Z"
    }
   },
   "outputs": [
    {
     "data": {
      "text/plain": [
       "array([1, 0, 1, 0, 0, 0, 0, 1, 1, 0, 0, 1, 1, 1, 0, 0, 1, 0, 1, 1, 0, 1,\n",
       "       0, 0, 0, 1, 1, 1, 0, 0, 0, 1, 1, 0, 0, 0, 1, 0, 1, 0, 0, 1, 0, 0,\n",
       "       1, 0, 1, 0, 0, 0, 0, 0, 0, 0, 0, 0, 1, 0, 0, 0, 0, 0, 0, 0, 0, 0,\n",
       "       0, 1, 1, 0, 0, 0, 0, 1, 1, 0, 1, 1, 1, 0, 1, 0, 1, 1, 0, 1, 1, 0,\n",
       "       1, 0, 0, 0, 1, 1, 1, 1, 0, 0, 0, 1, 1, 0, 1, 0, 0, 1, 0, 1, 0, 0,\n",
       "       1, 1, 1, 1, 0, 1, 1, 0, 0, 0, 1, 1, 0, 0, 0, 1, 0, 0, 1, 0, 1, 1,\n",
       "       0, 0, 0, 1, 1, 1, 0, 0, 1, 1], dtype=uint8)"
      ]
     },
     "execution_count": 365,
     "metadata": {},
     "output_type": "execute_result"
    }
   ],
   "source": [
    "y_pred=clf.predict(X_test)\n",
    "y_pred"
   ]
  },
  {
   "cell_type": "code",
   "execution_count": 366,
   "metadata": {
    "ExecuteTime": {
     "end_time": "2021-02-14T07:14:18.120439Z",
     "start_time": "2021-02-14T07:14:18.112447Z"
    },
    "scrolled": true
   },
   "outputs": [
    {
     "name": "stdout",
     "output_type": "stream",
     "text": [
      "[[69  5]\n",
      " [12 56]]\n"
     ]
    }
   ],
   "source": [
    "print(confusion_matrix(y_test,y_pred))"
   ]
  },
  {
   "cell_type": "code",
   "execution_count": 367,
   "metadata": {
    "ExecuteTime": {
     "end_time": "2021-02-14T07:14:18.729159Z",
     "start_time": "2021-02-14T07:14:18.713174Z"
    }
   },
   "outputs": [
    {
     "name": "stdout",
     "output_type": "stream",
     "text": [
      "              precision    recall  f1-score   support\n",
      "\n",
      "           0       0.85      0.93      0.89        74\n",
      "           1       0.92      0.82      0.87        68\n",
      "\n",
      "    accuracy                           0.88       142\n",
      "   macro avg       0.88      0.88      0.88       142\n",
      "weighted avg       0.88      0.88      0.88       142\n",
      "\n"
     ]
    }
   ],
   "source": [
    "print(classification_report(y_test,y_pred))"
   ]
  },
  {
   "cell_type": "code",
   "execution_count": 368,
   "metadata": {
    "ExecuteTime": {
     "end_time": "2021-02-14T07:14:22.983806Z",
     "start_time": "2021-02-14T07:14:19.495375Z"
    }
   },
   "outputs": [
    {
     "name": "stdout",
     "output_type": "stream",
     "text": [
      "List of possible accuracy: [1.0, 0.9444444444444444, 1.0, 1.0, 0.9722222222222222, 1.0, 1.0, 0.9444444444444444, 0.9714285714285714, 0.9714285714285714, 0.8571428571428571, 0.9714285714285714]\n",
      "\n",
      "Maximum Accuracy That can be obtained from this model is: 100.0 %\n",
      "\n",
      "Minimum Accuracy: 85.71428571428571 %\n",
      "\n",
      "Average Accuracy That can be obtained from this model is:: 0.969378306878307\n",
      "\n",
      " Median Accuracy That can be obtained from this model is:: 0.9718253968253968\n",
      "\n",
      "Standard Deviation is: 0.03931637723425776\n"
     ]
    }
   ],
   "source": [
    "lst_accu_stratified = [] \n",
    "x=0\n",
    "\n",
    "skf = StratifiedKFold(n_splits=12, shuffle=True, random_state=1) \n",
    "for train_index, test_index in skf.split(X, y): \n",
    "    x_train_fold, x_test_fold = X.loc[train_index,:], X.loc[test_index,:] \n",
    "    y_train_fold, y_test_fold = y[train_index], y[test_index] \n",
    "    clf.fit(x_train_fold, y_train_fold)\n",
    "    \n",
    "    lst_accu_stratified.append(clf.score(x_test_fold, y_test_fold))\n",
    "   \n",
    "    \n",
    "    \n",
    "print('List of possible accuracy:', lst_accu_stratified) \n",
    "print('\\nMaximum Accuracy That can be obtained from this model is:', \n",
    "      max(lst_accu_stratified)*100, '%') \n",
    "print('\\nMinimum Accuracy:', \n",
    "      min(lst_accu_stratified)*100, '%') \n",
    "print('\\nAverage Accuracy That can be obtained from this model is::',np.mean(lst_accu_stratified)) \n",
    "print('\\n Median Accuracy That can be obtained from this model is::',np.median(lst_accu_stratified)) \n",
    "print('\\nStandard Deviation is:',np.std(lst_accu_stratified)) "
   ]
  },
  {
   "cell_type": "markdown",
   "metadata": {},
   "source": [
    "## Using method 1 feature through build model"
   ]
  },
  {
   "cell_type": "code",
   "execution_count": 395,
   "metadata": {
    "ExecuteTime": {
     "end_time": "2021-02-14T07:33:44.925515Z",
     "start_time": "2021-02-14T07:33:44.917522Z"
    }
   },
   "outputs": [
    {
     "data": {
      "text/plain": [
       "['Ease and convenient',\n",
       " 'Self Cooking',\n",
       " 'Maximum wait time',\n",
       " 'More restaurant choices',\n",
       " 'Unaffordable',\n",
       " 'More Offers and Discount',\n",
       " 'Good Food quality',\n",
       " 'Good Tracking system',\n",
       " 'Age',\n",
       " 'Bad past experience']"
      ]
     },
     "execution_count": 395,
     "metadata": {},
     "output_type": "execute_result"
    }
   ],
   "source": [
    "f_feature"
   ]
  },
  {
   "cell_type": "code",
   "execution_count": 396,
   "metadata": {
    "ExecuteTime": {
     "end_time": "2021-02-14T07:34:00.619052Z",
     "start_time": "2021-02-14T07:34:00.594064Z"
    }
   },
   "outputs": [],
   "source": [
    "X=fd_dlvry[f_feature]\n",
    "y=fd_dlvry.iloc[:,-1]\n",
    "\n",
    "nm=RandomOverSampler()\n",
    "X,y=nm.fit_sample(X,y)"
   ]
  },
  {
   "cell_type": "code",
   "execution_count": 397,
   "metadata": {
    "ExecuteTime": {
     "end_time": "2021-02-14T07:34:01.618208Z",
     "start_time": "2021-02-14T07:34:01.549251Z"
    }
   },
   "outputs": [
    {
     "data": {
      "text/html": [
       "<div>\n",
       "<style scoped>\n",
       "    .dataframe tbody tr th:only-of-type {\n",
       "        vertical-align: middle;\n",
       "    }\n",
       "\n",
       "    .dataframe tbody tr th {\n",
       "        vertical-align: top;\n",
       "    }\n",
       "\n",
       "    .dataframe thead th {\n",
       "        text-align: right;\n",
       "    }\n",
       "</style>\n",
       "<table border=\"1\" class=\"dataframe\">\n",
       "  <thead>\n",
       "    <tr style=\"text-align: right;\">\n",
       "      <th></th>\n",
       "      <th>Age</th>\n",
       "      <th>Gender</th>\n",
       "      <th>Marital Status</th>\n",
       "      <th>Occupation</th>\n",
       "      <th>Monthly Income</th>\n",
       "      <th>Educational Qualifications</th>\n",
       "      <th>Family size</th>\n",
       "      <th>Medium (P1)</th>\n",
       "      <th>Medium (P2)</th>\n",
       "      <th>Meal(P1)</th>\n",
       "      <th>...</th>\n",
       "      <th>Influence of rating</th>\n",
       "      <th>Less Delivery time</th>\n",
       "      <th>High Quality of package</th>\n",
       "      <th>Number of calls</th>\n",
       "      <th>Politeness</th>\n",
       "      <th>Freshness</th>\n",
       "      <th>Temperature</th>\n",
       "      <th>Good Taste</th>\n",
       "      <th>Good Quantity</th>\n",
       "      <th>Output</th>\n",
       "    </tr>\n",
       "  </thead>\n",
       "  <tbody>\n",
       "    <tr>\n",
       "      <th>0</th>\n",
       "      <td>20</td>\n",
       "      <td>0</td>\n",
       "      <td>2</td>\n",
       "      <td>3</td>\n",
       "      <td>4</td>\n",
       "      <td>2</td>\n",
       "      <td>4</td>\n",
       "      <td>1</td>\n",
       "      <td>2</td>\n",
       "      <td>0</td>\n",
       "      <td>...</td>\n",
       "      <td>2</td>\n",
       "      <td>1</td>\n",
       "      <td>1</td>\n",
       "      <td>1</td>\n",
       "      <td>1</td>\n",
       "      <td>1</td>\n",
       "      <td>1</td>\n",
       "      <td>1</td>\n",
       "      <td>1</td>\n",
       "      <td>1</td>\n",
       "    </tr>\n",
       "    <tr>\n",
       "      <th>1</th>\n",
       "      <td>24</td>\n",
       "      <td>0</td>\n",
       "      <td>2</td>\n",
       "      <td>3</td>\n",
       "      <td>2</td>\n",
       "      <td>0</td>\n",
       "      <td>3</td>\n",
       "      <td>1</td>\n",
       "      <td>2</td>\n",
       "      <td>3</td>\n",
       "      <td>...</td>\n",
       "      <td>2</td>\n",
       "      <td>4</td>\n",
       "      <td>4</td>\n",
       "      <td>4</td>\n",
       "      <td>4</td>\n",
       "      <td>4</td>\n",
       "      <td>4</td>\n",
       "      <td>4</td>\n",
       "      <td>4</td>\n",
       "      <td>1</td>\n",
       "    </tr>\n",
       "    <tr>\n",
       "      <th>2</th>\n",
       "      <td>22</td>\n",
       "      <td>1</td>\n",
       "      <td>2</td>\n",
       "      <td>3</td>\n",
       "      <td>2</td>\n",
       "      <td>2</td>\n",
       "      <td>3</td>\n",
       "      <td>1</td>\n",
       "      <td>0</td>\n",
       "      <td>2</td>\n",
       "      <td>...</td>\n",
       "      <td>2</td>\n",
       "      <td>0</td>\n",
       "      <td>4</td>\n",
       "      <td>1</td>\n",
       "      <td>4</td>\n",
       "      <td>4</td>\n",
       "      <td>0</td>\n",
       "      <td>4</td>\n",
       "      <td>1</td>\n",
       "      <td>1</td>\n",
       "    </tr>\n",
       "    <tr>\n",
       "      <th>3</th>\n",
       "      <td>22</td>\n",
       "      <td>0</td>\n",
       "      <td>2</td>\n",
       "      <td>3</td>\n",
       "      <td>4</td>\n",
       "      <td>0</td>\n",
       "      <td>6</td>\n",
       "      <td>1</td>\n",
       "      <td>1</td>\n",
       "      <td>3</td>\n",
       "      <td>...</td>\n",
       "      <td>2</td>\n",
       "      <td>4</td>\n",
       "      <td>0</td>\n",
       "      <td>1</td>\n",
       "      <td>4</td>\n",
       "      <td>4</td>\n",
       "      <td>4</td>\n",
       "      <td>4</td>\n",
       "      <td>0</td>\n",
       "      <td>1</td>\n",
       "    </tr>\n",
       "    <tr>\n",
       "      <th>4</th>\n",
       "      <td>22</td>\n",
       "      <td>1</td>\n",
       "      <td>2</td>\n",
       "      <td>3</td>\n",
       "      <td>2</td>\n",
       "      <td>2</td>\n",
       "      <td>4</td>\n",
       "      <td>2</td>\n",
       "      <td>0</td>\n",
       "      <td>2</td>\n",
       "      <td>...</td>\n",
       "      <td>2</td>\n",
       "      <td>0</td>\n",
       "      <td>0</td>\n",
       "      <td>1</td>\n",
       "      <td>0</td>\n",
       "      <td>0</td>\n",
       "      <td>0</td>\n",
       "      <td>4</td>\n",
       "      <td>4</td>\n",
       "      <td>1</td>\n",
       "    </tr>\n",
       "  </tbody>\n",
       "</table>\n",
       "<p>5 rows × 51 columns</p>\n",
       "</div>"
      ],
      "text/plain": [
       "   Age  Gender  Marital Status  Occupation  Monthly Income  \\\n",
       "0   20       0               2           3               4   \n",
       "1   24       0               2           3               2   \n",
       "2   22       1               2           3               2   \n",
       "3   22       0               2           3               4   \n",
       "4   22       1               2           3               2   \n",
       "\n",
       "   Educational Qualifications  Family size  Medium (P1)  Medium (P2)  \\\n",
       "0                           2            4            1            2   \n",
       "1                           0            3            1            2   \n",
       "2                           2            3            1            0   \n",
       "3                           0            6            1            1   \n",
       "4                           2            4            2            0   \n",
       "\n",
       "   Meal(P1)  ...  Influence of rating  Less Delivery time  \\\n",
       "0         0  ...                    2                   1   \n",
       "1         3  ...                    2                   4   \n",
       "2         2  ...                    2                   0   \n",
       "3         3  ...                    2                   4   \n",
       "4         2  ...                    2                   0   \n",
       "\n",
       "   High Quality of package  Number of calls  Politeness  Freshness   \\\n",
       "0                        1                1           1           1   \n",
       "1                        4                4           4           4   \n",
       "2                        4                1           4           4   \n",
       "3                        0                1           4           4   \n",
       "4                        0                1           0           0   \n",
       "\n",
       "   Temperature  Good Taste   Good Quantity  Output  \n",
       "0            1            1              1       1  \n",
       "1            4            4              4       1  \n",
       "2            0            4              1       1  \n",
       "3            4            4              0       1  \n",
       "4            0            4              4       1  \n",
       "\n",
       "[5 rows x 51 columns]"
      ]
     },
     "execution_count": 397,
     "metadata": {},
     "output_type": "execute_result"
    }
   ],
   "source": [
    "import  datacleaner as dc # pip install datacleaner\n",
    "\n",
    "dc.autoclean(fd_dlvry).head() "
   ]
  },
  {
   "cell_type": "code",
   "execution_count": 398,
   "metadata": {
    "ExecuteTime": {
     "end_time": "2021-02-14T07:34:02.922484Z",
     "start_time": "2021-02-14T07:34:02.573670Z"
    }
   },
   "outputs": [
    {
     "data": {
      "text/plain": [
       "RandomForestClassifier(max_depth=3, min_samples_split=4)"
      ]
     },
     "execution_count": 398,
     "metadata": {},
     "output_type": "execute_result"
    }
   ],
   "source": [
    "X_train, X_test, y_train, y_test = train_test_split(X, y, test_size = 0.33)\n",
    "clf=RandomForestClassifier(max_depth=3,min_samples_split=4)\n",
    "clf.fit(X_train,y_train)"
   ]
  },
  {
   "cell_type": "code",
   "execution_count": 399,
   "metadata": {
    "ExecuteTime": {
     "end_time": "2021-02-14T07:34:03.388859Z",
     "start_time": "2021-02-14T07:34:03.351865Z"
    }
   },
   "outputs": [
    {
     "data": {
      "text/plain": [
       "0.8391959798994975"
      ]
     },
     "execution_count": 399,
     "metadata": {},
     "output_type": "execute_result"
    }
   ],
   "source": [
    "clf.score(X_test,y_test)"
   ]
  },
  {
   "cell_type": "code",
   "execution_count": 400,
   "metadata": {
    "ExecuteTime": {
     "end_time": "2021-02-14T07:34:04.107735Z",
     "start_time": "2021-02-14T07:34:04.071739Z"
    }
   },
   "outputs": [
    {
     "data": {
      "text/plain": [
       "array([1, 1, 0, 0, 0, 0, 1, 0, 1, 1, 1, 1, 0, 0, 1, 1, 0, 1, 1, 1, 1, 0,\n",
       "       0, 0, 1, 0, 1, 0, 1, 0, 1, 0, 1, 1, 1, 1, 0, 1, 0, 1, 0, 0, 1, 1,\n",
       "       0, 1, 1, 0, 1, 0, 1, 0, 0, 0, 0, 1, 0, 0, 0, 1, 1, 0, 0, 0, 1, 1,\n",
       "       1, 0, 0, 0, 1, 1, 1, 0, 0, 1, 1, 0, 1, 0, 0, 0, 0, 1, 0, 0, 1, 0,\n",
       "       1, 1, 1, 1, 0, 0, 1, 0, 1, 1, 1, 0, 1, 0, 0, 1, 0, 0, 1, 0, 1, 1,\n",
       "       1, 0, 0, 0, 0, 1, 1, 1, 1, 1, 0, 1, 1, 0, 0, 0, 0, 1, 1, 0, 0, 1,\n",
       "       1, 1, 1, 0, 1, 0, 1, 1, 0, 1, 0, 0, 0, 1, 0, 0, 0, 1, 1, 0, 1, 0,\n",
       "       0, 1, 0, 1, 1, 1, 1, 1, 1, 1, 1, 1, 1, 0, 1, 0, 0, 1, 1, 1, 1, 1,\n",
       "       0, 1, 0, 1, 1, 0, 1, 1, 1, 0, 1, 1, 0, 0, 1, 1, 1, 0, 1, 0, 1, 0,\n",
       "       1], dtype=int64)"
      ]
     },
     "execution_count": 400,
     "metadata": {},
     "output_type": "execute_result"
    }
   ],
   "source": [
    "y_pred=clf.predict(X_test)\n",
    "y_pred"
   ]
  },
  {
   "cell_type": "code",
   "execution_count": 401,
   "metadata": {
    "ExecuteTime": {
     "end_time": "2021-02-14T07:34:04.718528Z",
     "start_time": "2021-02-14T07:34:04.709520Z"
    }
   },
   "outputs": [
    {
     "name": "stdout",
     "output_type": "stream",
     "text": [
      "[[80 22]\n",
      " [10 87]]\n"
     ]
    }
   ],
   "source": [
    "print(confusion_matrix(y_test,y_pred))"
   ]
  },
  {
   "cell_type": "code",
   "execution_count": 402,
   "metadata": {
    "ExecuteTime": {
     "end_time": "2021-02-14T07:34:05.324599Z",
     "start_time": "2021-02-14T07:34:05.307612Z"
    }
   },
   "outputs": [
    {
     "name": "stdout",
     "output_type": "stream",
     "text": [
      "              precision    recall  f1-score   support\n",
      "\n",
      "           0       0.89      0.78      0.83       102\n",
      "           1       0.80      0.90      0.84        97\n",
      "\n",
      "    accuracy                           0.84       199\n",
      "   macro avg       0.84      0.84      0.84       199\n",
      "weighted avg       0.84      0.84      0.84       199\n",
      "\n"
     ]
    }
   ],
   "source": [
    "print(classification_report(y_test,y_pred))"
   ]
  },
  {
   "cell_type": "code",
   "execution_count": 403,
   "metadata": {
    "ExecuteTime": {
     "end_time": "2021-02-14T07:34:10.051712Z",
     "start_time": "2021-02-14T07:34:06.211880Z"
    }
   },
   "outputs": [
    {
     "name": "stdout",
     "output_type": "stream",
     "text": [
      "List of possible accuracy: [0.8431372549019608, 0.8823529411764706, 0.82, 0.96, 0.92, 0.88, 0.86, 0.88, 0.84, 0.86, 0.92, 0.96]\n",
      "\n",
      "Maximum Accuracy That can be obtained from this model is: 96.0 %\n",
      "\n",
      "Minimum Accuracy: 82.0 %\n",
      "\n",
      "Average Accuracy That can be obtained from this model is:: 0.8854575163398692\n",
      "\n",
      " Median Accuracy That can be obtained from this model is:: 0.88\n",
      "\n",
      "Standard Deviation is: 0.04378639866170741\n"
     ]
    }
   ],
   "source": [
    "lst_accu_stratified = [] \n",
    "x=0\n",
    "\n",
    "skf = StratifiedKFold(n_splits=12, shuffle=True, random_state=1) \n",
    "for train_index, test_index in skf.split(X, y): \n",
    "    x_train_fold, x_test_fold = X.loc[train_index,:], X.loc[test_index,:] \n",
    "    y_train_fold, y_test_fold = y[train_index], y[test_index] \n",
    "    clf.fit(x_train_fold, y_train_fold)\n",
    "    \n",
    "    lst_accu_stratified.append(clf.score(x_test_fold, y_test_fold))\n",
    "   \n",
    "    \n",
    "    \n",
    "print('List of possible accuracy:', lst_accu_stratified) \n",
    "print('\\nMaximum Accuracy That can be obtained from this model is:', \n",
    "      max(lst_accu_stratified)*100, '%') \n",
    "print('\\nMinimum Accuracy:', \n",
    "      min(lst_accu_stratified)*100, '%') \n",
    "print('\\nAverage Accuracy That can be obtained from this model is::',np.mean(lst_accu_stratified)) \n",
    "print('\\n Median Accuracy That can be obtained from this model is::',np.median(lst_accu_stratified)) \n",
    "print('\\nStandard Deviation is:',np.std(lst_accu_stratified)) "
   ]
  },
  {
   "cell_type": "code",
   "execution_count": null,
   "metadata": {},
   "outputs": [],
   "source": []
  }
 ],
 "metadata": {
  "kernelspec": {
   "display_name": "Python 3",
   "language": "python",
   "name": "python3"
  },
  "language_info": {
   "codemirror_mode": {
    "name": "ipython",
    "version": 3
   },
   "file_extension": ".py",
   "mimetype": "text/x-python",
   "name": "python",
   "nbconvert_exporter": "python",
   "pygments_lexer": "ipython3",
   "version": "3.7.9"
  },
  "toc": {
   "base_numbering": 1,
   "nav_menu": {
    "height": "68px",
    "width": "168px"
   },
   "number_sections": true,
   "sideBar": true,
   "skip_h1_title": false,
   "title_cell": "Table of Contents",
   "title_sidebar": "Contents",
   "toc_cell": false,
   "toc_position": {},
   "toc_section_display": true,
   "toc_window_display": true
  }
 },
 "nbformat": 4,
 "nbformat_minor": 4
}
