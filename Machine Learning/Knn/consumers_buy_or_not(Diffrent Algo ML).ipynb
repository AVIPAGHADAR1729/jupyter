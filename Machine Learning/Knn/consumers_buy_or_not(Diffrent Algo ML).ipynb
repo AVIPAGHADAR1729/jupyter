{
 "cells": [
  {
   "cell_type": "code",
   "execution_count": 1,
   "metadata": {
    "ExecuteTime": {
     "end_time": "2021-02-12T04:22:20.079147Z",
     "start_time": "2021-02-12T04:21:47.877947Z"
    }
   },
   "outputs": [],
   "source": [
    "#import libraries\n",
    "import numpy \n",
    "import numpy as np\n",
    "import pandas as pd\n",
    "import seaborn as sns\n",
    "import matplotlib.pyplot as plt\n",
    "from sklearn import metrics\n",
    "import matplotlib.patches as mpatches\n",
    "from sklearn.metrics import classification_report\n",
    "from sklearn.metrics import confusion_matrix\n",
    "import scipy.stats as st \n",
    "import dtale \n",
    "import warnings\n",
    "from sklearn.tree import DecisionTreeClassifier\n",
    "from sklearn.model_selection import cross_val_score\n",
    "warnings.filterwarnings('ignore')\n",
    "import pandas_profiling as pdp\n",
    "from sklearn.model_selection import train_test_split\n",
    "from sklearn.neighbors import KNeighborsClassifier\n",
    "from sklearn.metrics import roc_curve"
   ]
  },
  {
   "cell_type": "code",
   "execution_count": 2,
   "metadata": {
    "ExecuteTime": {
     "end_time": "2021-02-12T04:22:20.643507Z",
     "start_time": "2021-02-12T04:22:20.079147Z"
    }
   },
   "outputs": [],
   "source": [
    "fd_dlvry=pd.read_csv('../../data/Banglore_food_delivery/onlinedeliverydata.csv')"
   ]
  },
  {
   "cell_type": "code",
   "execution_count": 3,
   "metadata": {
    "ExecuteTime": {
     "end_time": "2021-02-12T04:22:20.654770Z",
     "start_time": "2021-02-12T04:22:20.643507Z"
    }
   },
   "outputs": [],
   "source": [
    "fd_ori=fd_dlvry.copy(deep=True)\n",
    "#future uses one copy create"
   ]
  },
  {
   "cell_type": "code",
   "execution_count": 4,
   "metadata": {
    "ExecuteTime": {
     "end_time": "2021-02-12T04:22:20.821253Z",
     "start_time": "2021-02-12T04:22:20.659767Z"
    }
   },
   "outputs": [
    {
     "data": {
      "text/plain": [
       "(388, 55)"
      ]
     },
     "execution_count": 4,
     "metadata": {},
     "output_type": "execute_result"
    }
   ],
   "source": [
    "fd_dlvry.shape"
   ]
  },
  {
   "cell_type": "code",
   "execution_count": 5,
   "metadata": {
    "ExecuteTime": {
     "end_time": "2021-02-12T04:22:21.001154Z",
     "start_time": "2021-02-12T04:22:20.825252Z"
    },
    "scrolled": true
   },
   "outputs": [
    {
     "data": {
      "text/html": [
       "<div>\n",
       "<style scoped>\n",
       "    .dataframe tbody tr th:only-of-type {\n",
       "        vertical-align: middle;\n",
       "    }\n",
       "\n",
       "    .dataframe tbody tr th {\n",
       "        vertical-align: top;\n",
       "    }\n",
       "\n",
       "    .dataframe thead th {\n",
       "        text-align: right;\n",
       "    }\n",
       "</style>\n",
       "<table border=\"1\" class=\"dataframe\">\n",
       "  <thead>\n",
       "    <tr style=\"text-align: right;\">\n",
       "      <th></th>\n",
       "      <th>Age</th>\n",
       "      <th>Gender</th>\n",
       "      <th>Marital Status</th>\n",
       "      <th>Occupation</th>\n",
       "      <th>Monthly Income</th>\n",
       "      <th>Educational Qualifications</th>\n",
       "      <th>Family size</th>\n",
       "      <th>latitude</th>\n",
       "      <th>longitude</th>\n",
       "      <th>Pin code</th>\n",
       "      <th>...</th>\n",
       "      <th>Less Delivery time</th>\n",
       "      <th>High Quality of package</th>\n",
       "      <th>Number of calls</th>\n",
       "      <th>Politeness</th>\n",
       "      <th>Freshness</th>\n",
       "      <th>Temperature</th>\n",
       "      <th>Good Taste</th>\n",
       "      <th>Good Quantity</th>\n",
       "      <th>Output</th>\n",
       "      <th>Reviews</th>\n",
       "    </tr>\n",
       "  </thead>\n",
       "  <tbody>\n",
       "    <tr>\n",
       "      <th>0</th>\n",
       "      <td>20</td>\n",
       "      <td>Female</td>\n",
       "      <td>Single</td>\n",
       "      <td>Student</td>\n",
       "      <td>No Income</td>\n",
       "      <td>Post Graduate</td>\n",
       "      <td>4</td>\n",
       "      <td>12.9766</td>\n",
       "      <td>77.5993</td>\n",
       "      <td>560001</td>\n",
       "      <td>...</td>\n",
       "      <td>Moderately Important</td>\n",
       "      <td>Moderately Important</td>\n",
       "      <td>Moderately Important</td>\n",
       "      <td>Moderately Important</td>\n",
       "      <td>Moderately Important</td>\n",
       "      <td>Moderately Important</td>\n",
       "      <td>Moderately Important</td>\n",
       "      <td>Moderately Important</td>\n",
       "      <td>Yes</td>\n",
       "      <td>Nil\\n</td>\n",
       "    </tr>\n",
       "    <tr>\n",
       "      <th>1</th>\n",
       "      <td>24</td>\n",
       "      <td>Female</td>\n",
       "      <td>Single</td>\n",
       "      <td>Student</td>\n",
       "      <td>Below Rs.10000</td>\n",
       "      <td>Graduate</td>\n",
       "      <td>3</td>\n",
       "      <td>12.9770</td>\n",
       "      <td>77.5773</td>\n",
       "      <td>560009</td>\n",
       "      <td>...</td>\n",
       "      <td>Very Important</td>\n",
       "      <td>Very Important</td>\n",
       "      <td>Very Important</td>\n",
       "      <td>Very Important</td>\n",
       "      <td>Very Important</td>\n",
       "      <td>Very Important</td>\n",
       "      <td>Very Important</td>\n",
       "      <td>Very Important</td>\n",
       "      <td>Yes</td>\n",
       "      <td>Nil</td>\n",
       "    </tr>\n",
       "    <tr>\n",
       "      <th>2</th>\n",
       "      <td>22</td>\n",
       "      <td>Male</td>\n",
       "      <td>Single</td>\n",
       "      <td>Student</td>\n",
       "      <td>Below Rs.10000</td>\n",
       "      <td>Post Graduate</td>\n",
       "      <td>3</td>\n",
       "      <td>12.9551</td>\n",
       "      <td>77.6593</td>\n",
       "      <td>560017</td>\n",
       "      <td>...</td>\n",
       "      <td>Important</td>\n",
       "      <td>Very Important</td>\n",
       "      <td>Moderately Important</td>\n",
       "      <td>Very Important</td>\n",
       "      <td>Very Important</td>\n",
       "      <td>Important</td>\n",
       "      <td>Very Important</td>\n",
       "      <td>Moderately Important</td>\n",
       "      <td>Yes</td>\n",
       "      <td>Many a times payment gateways are an issue, so...</td>\n",
       "    </tr>\n",
       "    <tr>\n",
       "      <th>3</th>\n",
       "      <td>22</td>\n",
       "      <td>Female</td>\n",
       "      <td>Single</td>\n",
       "      <td>Student</td>\n",
       "      <td>No Income</td>\n",
       "      <td>Graduate</td>\n",
       "      <td>6</td>\n",
       "      <td>12.9473</td>\n",
       "      <td>77.5616</td>\n",
       "      <td>560019</td>\n",
       "      <td>...</td>\n",
       "      <td>Very Important</td>\n",
       "      <td>Important</td>\n",
       "      <td>Moderately Important</td>\n",
       "      <td>Very Important</td>\n",
       "      <td>Very Important</td>\n",
       "      <td>Very Important</td>\n",
       "      <td>Very Important</td>\n",
       "      <td>Important</td>\n",
       "      <td>Yes</td>\n",
       "      <td>nil</td>\n",
       "    </tr>\n",
       "    <tr>\n",
       "      <th>4</th>\n",
       "      <td>22</td>\n",
       "      <td>Male</td>\n",
       "      <td>Single</td>\n",
       "      <td>Student</td>\n",
       "      <td>Below Rs.10000</td>\n",
       "      <td>Post Graduate</td>\n",
       "      <td>4</td>\n",
       "      <td>12.9850</td>\n",
       "      <td>77.5533</td>\n",
       "      <td>560010</td>\n",
       "      <td>...</td>\n",
       "      <td>Important</td>\n",
       "      <td>Important</td>\n",
       "      <td>Moderately Important</td>\n",
       "      <td>Important</td>\n",
       "      <td>Important</td>\n",
       "      <td>Important</td>\n",
       "      <td>Very Important</td>\n",
       "      <td>Very Important</td>\n",
       "      <td>Yes</td>\n",
       "      <td>NIL</td>\n",
       "    </tr>\n",
       "  </tbody>\n",
       "</table>\n",
       "<p>5 rows × 55 columns</p>\n",
       "</div>"
      ],
      "text/plain": [
       "   Age  Gender Marital Status Occupation  Monthly Income  \\\n",
       "0   20  Female         Single    Student       No Income   \n",
       "1   24  Female         Single    Student  Below Rs.10000   \n",
       "2   22    Male         Single    Student  Below Rs.10000   \n",
       "3   22  Female         Single    Student       No Income   \n",
       "4   22    Male         Single    Student  Below Rs.10000   \n",
       "\n",
       "  Educational Qualifications  Family size  latitude  longitude  Pin code  ...  \\\n",
       "0              Post Graduate            4   12.9766    77.5993    560001  ...   \n",
       "1                   Graduate            3   12.9770    77.5773    560009  ...   \n",
       "2              Post Graduate            3   12.9551    77.6593    560017  ...   \n",
       "3                   Graduate            6   12.9473    77.5616    560019  ...   \n",
       "4              Post Graduate            4   12.9850    77.5533    560010  ...   \n",
       "\n",
       "     Less Delivery time High Quality of package       Number of calls  \\\n",
       "0  Moderately Important    Moderately Important  Moderately Important   \n",
       "1        Very Important          Very Important        Very Important   \n",
       "2             Important          Very Important  Moderately Important   \n",
       "3        Very Important               Important  Moderately Important   \n",
       "4             Important               Important  Moderately Important   \n",
       "\n",
       "             Politeness            Freshness            Temperature  \\\n",
       "0  Moderately Important  Moderately Important  Moderately Important   \n",
       "1        Very Important        Very Important        Very Important   \n",
       "2        Very Important        Very Important             Important   \n",
       "3        Very Important        Very Important        Very Important   \n",
       "4             Important             Important             Important   \n",
       "\n",
       "            Good Taste          Good Quantity Output  \\\n",
       "0  Moderately Important  Moderately Important    Yes   \n",
       "1        Very Important        Very Important    Yes   \n",
       "2        Very Important  Moderately Important    Yes   \n",
       "3        Very Important             Important    Yes   \n",
       "4        Very Important        Very Important    Yes   \n",
       "\n",
       "                                             Reviews  \n",
       "0                                              Nil\\n  \n",
       "1                                                Nil  \n",
       "2  Many a times payment gateways are an issue, so...  \n",
       "3                                                nil  \n",
       "4                                                NIL  \n",
       "\n",
       "[5 rows x 55 columns]"
      ]
     },
     "execution_count": 5,
     "metadata": {},
     "output_type": "execute_result"
    }
   ],
   "source": [
    "fd_dlvry.head()"
   ]
  },
  {
   "cell_type": "code",
   "execution_count": null,
   "metadata": {},
   "outputs": [],
   "source": []
  },
  {
   "cell_type": "code",
   "execution_count": 6,
   "metadata": {
    "ExecuteTime": {
     "end_time": "2021-02-12T04:22:21.219348Z",
     "start_time": "2021-02-12T04:22:21.005151Z"
    }
   },
   "outputs": [
    {
     "name": "stdout",
     "output_type": "stream",
     "text": [
      "<class 'pandas.core.frame.DataFrame'>\n",
      "RangeIndex: 388 entries, 0 to 387\n",
      "Data columns (total 55 columns):\n",
      " #   Column                                     Non-Null Count  Dtype  \n",
      "---  ------                                     --------------  -----  \n",
      " 0   Age                                        388 non-null    int64  \n",
      " 1   Gender                                     388 non-null    object \n",
      " 2   Marital Status                             388 non-null    object \n",
      " 3   Occupation                                 388 non-null    object \n",
      " 4   Monthly Income                             388 non-null    object \n",
      " 5   Educational Qualifications                 388 non-null    object \n",
      " 6   Family size                                388 non-null    int64  \n",
      " 7   latitude                                   388 non-null    float64\n",
      " 8   longitude                                  388 non-null    float64\n",
      " 9   Pin code                                   388 non-null    int64  \n",
      " 10  Medium (P1)                                388 non-null    object \n",
      " 11  Medium (P2)                                388 non-null    object \n",
      " 12  Meal(P1)                                   388 non-null    object \n",
      " 13  Meal(P2)                                   388 non-null    object \n",
      " 14  Perference(P1)                             388 non-null    object \n",
      " 15  Perference(P2)                             388 non-null    object \n",
      " 16  Ease and convenient                        388 non-null    object \n",
      " 17  Time saving                                388 non-null    object \n",
      " 18  More restaurant choices                    388 non-null    object \n",
      " 19  Easy Payment option                        388 non-null    object \n",
      " 20  More Offers and Discount                   388 non-null    object \n",
      " 21  Good Food quality                          388 non-null    object \n",
      " 22  Good Tracking system                       388 non-null    object \n",
      " 23  Self Cooking                               388 non-null    object \n",
      " 24  Health Concern                             388 non-null    object \n",
      " 25  Late Delivery                              388 non-null    object \n",
      " 26  Poor Hygiene                               388 non-null    object \n",
      " 27  Bad past experience                        388 non-null    object \n",
      " 28  Unavailability                             388 non-null    object \n",
      " 29  Unaffordable                               388 non-null    object \n",
      " 30  Long delivery time                         388 non-null    object \n",
      " 31  Delay of delivery person getting assigned  388 non-null    object \n",
      " 32  Delay of delivery person picking up food   388 non-null    object \n",
      " 33  Wrong order delivered                      388 non-null    object \n",
      " 34  Missing item                               388 non-null    object \n",
      " 35  Order placed by mistake                    388 non-null    object \n",
      " 36  Influence of time                          388 non-null    object \n",
      " 37  Order Time                                 388 non-null    object \n",
      " 38  Maximum wait time                          388 non-null    object \n",
      " 39  Residence in busy location                 388 non-null    object \n",
      " 40  Google Maps Accuracy                       388 non-null    object \n",
      " 41  Good Road Condition                        388 non-null    object \n",
      " 42  Low quantity low time                      388 non-null    object \n",
      " 43  Delivery person ability                    388 non-null    object \n",
      " 44  Influence of rating                        388 non-null    object \n",
      " 45  Less Delivery time                         388 non-null    object \n",
      " 46  High Quality of package                    388 non-null    object \n",
      " 47  Number of calls                            388 non-null    object \n",
      " 48  Politeness                                 388 non-null    object \n",
      " 49  Freshness                                  388 non-null    object \n",
      " 50  Temperature                                388 non-null    object \n",
      " 51  Good Taste                                 388 non-null    object \n",
      " 52  Good Quantity                              388 non-null    object \n",
      " 53  Output                                     388 non-null    object \n",
      " 54  Reviews                                    388 non-null    object \n",
      "dtypes: float64(2), int64(3), object(50)\n",
      "memory usage: 166.8+ KB\n"
     ]
    }
   ],
   "source": [
    "fd_dlvry.info()"
   ]
  },
  {
   "cell_type": "code",
   "execution_count": 7,
   "metadata": {
    "ExecuteTime": {
     "end_time": "2021-02-12T04:22:21.228342Z",
     "start_time": "2021-02-12T04:22:21.223346Z"
    }
   },
   "outputs": [],
   "source": [
    "# d = dtale.show(fd_dlvry)\n",
    "# d.open_browser()\n",
    "#we can use datle library for EDA"
   ]
  },
  {
   "cell_type": "code",
   "execution_count": 8,
   "metadata": {
    "ExecuteTime": {
     "end_time": "2021-02-12T04:22:21.336281Z",
     "start_time": "2021-02-12T04:22:21.236337Z"
    }
   },
   "outputs": [],
   "source": [
    "#looking data with pdp.ProfileReport \n",
    "# data = pd.read_csv('../../data/Banglore_food_delivery/onlinedeliverydata.csv')\n",
    "\n",
    "# #Creating the Exploratory Data Analysis of our dataset\n",
    "# report = pdp.ProfileReport(data, title='Pandas Profiling Report')"
   ]
  },
  {
   "cell_type": "code",
   "execution_count": 9,
   "metadata": {
    "ExecuteTime": {
     "end_time": "2021-02-12T04:22:21.429228Z",
     "start_time": "2021-02-12T04:22:21.342278Z"
    },
    "scrolled": true
   },
   "outputs": [],
   "source": [
    "# report.widgets"
   ]
  },
  {
   "cell_type": "code",
   "execution_count": 10,
   "metadata": {
    "ExecuteTime": {
     "end_time": "2021-02-12T04:22:21.702212Z",
     "start_time": "2021-02-12T04:22:21.434226Z"
    }
   },
   "outputs": [],
   "source": [
    "#this library i found on google it's helpful for cleaning data,imputing value and lable encoding\n",
    "import  datacleaner as dc # pip install datacleaner"
   ]
  },
  {
   "cell_type": "code",
   "execution_count": 11,
   "metadata": {
    "ExecuteTime": {
     "end_time": "2021-02-12T04:22:22.141446Z",
     "start_time": "2021-02-12T04:22:21.706191Z"
    },
    "scrolled": true
   },
   "outputs": [
    {
     "data": {
      "text/html": [
       "<div>\n",
       "<style scoped>\n",
       "    .dataframe tbody tr th:only-of-type {\n",
       "        vertical-align: middle;\n",
       "    }\n",
       "\n",
       "    .dataframe tbody tr th {\n",
       "        vertical-align: top;\n",
       "    }\n",
       "\n",
       "    .dataframe thead th {\n",
       "        text-align: right;\n",
       "    }\n",
       "</style>\n",
       "<table border=\"1\" class=\"dataframe\">\n",
       "  <thead>\n",
       "    <tr style=\"text-align: right;\">\n",
       "      <th></th>\n",
       "      <th>Age</th>\n",
       "      <th>Gender</th>\n",
       "      <th>Marital Status</th>\n",
       "      <th>Occupation</th>\n",
       "      <th>Monthly Income</th>\n",
       "      <th>Educational Qualifications</th>\n",
       "      <th>Family size</th>\n",
       "      <th>latitude</th>\n",
       "      <th>longitude</th>\n",
       "      <th>Pin code</th>\n",
       "      <th>...</th>\n",
       "      <th>Less Delivery time</th>\n",
       "      <th>High Quality of package</th>\n",
       "      <th>Number of calls</th>\n",
       "      <th>Politeness</th>\n",
       "      <th>Freshness</th>\n",
       "      <th>Temperature</th>\n",
       "      <th>Good Taste</th>\n",
       "      <th>Good Quantity</th>\n",
       "      <th>Output</th>\n",
       "      <th>Reviews</th>\n",
       "    </tr>\n",
       "  </thead>\n",
       "  <tbody>\n",
       "    <tr>\n",
       "      <th>0</th>\n",
       "      <td>20</td>\n",
       "      <td>0</td>\n",
       "      <td>2</td>\n",
       "      <td>3</td>\n",
       "      <td>4</td>\n",
       "      <td>2</td>\n",
       "      <td>4</td>\n",
       "      <td>12.9766</td>\n",
       "      <td>77.5993</td>\n",
       "      <td>560001</td>\n",
       "      <td>...</td>\n",
       "      <td>1</td>\n",
       "      <td>1</td>\n",
       "      <td>1</td>\n",
       "      <td>1</td>\n",
       "      <td>1</td>\n",
       "      <td>1</td>\n",
       "      <td>1</td>\n",
       "      <td>1</td>\n",
       "      <td>1</td>\n",
       "      <td>136</td>\n",
       "    </tr>\n",
       "    <tr>\n",
       "      <th>1</th>\n",
       "      <td>24</td>\n",
       "      <td>0</td>\n",
       "      <td>2</td>\n",
       "      <td>3</td>\n",
       "      <td>2</td>\n",
       "      <td>0</td>\n",
       "      <td>3</td>\n",
       "      <td>12.9770</td>\n",
       "      <td>77.5773</td>\n",
       "      <td>560009</td>\n",
       "      <td>...</td>\n",
       "      <td>4</td>\n",
       "      <td>4</td>\n",
       "      <td>4</td>\n",
       "      <td>4</td>\n",
       "      <td>4</td>\n",
       "      <td>4</td>\n",
       "      <td>4</td>\n",
       "      <td>4</td>\n",
       "      <td>1</td>\n",
       "      <td>135</td>\n",
       "    </tr>\n",
       "    <tr>\n",
       "      <th>2</th>\n",
       "      <td>22</td>\n",
       "      <td>1</td>\n",
       "      <td>2</td>\n",
       "      <td>3</td>\n",
       "      <td>2</td>\n",
       "      <td>2</td>\n",
       "      <td>3</td>\n",
       "      <td>12.9551</td>\n",
       "      <td>77.6593</td>\n",
       "      <td>560017</td>\n",
       "      <td>...</td>\n",
       "      <td>0</td>\n",
       "      <td>4</td>\n",
       "      <td>1</td>\n",
       "      <td>4</td>\n",
       "      <td>4</td>\n",
       "      <td>0</td>\n",
       "      <td>4</td>\n",
       "      <td>1</td>\n",
       "      <td>1</td>\n",
       "      <td>119</td>\n",
       "    </tr>\n",
       "    <tr>\n",
       "      <th>3</th>\n",
       "      <td>22</td>\n",
       "      <td>0</td>\n",
       "      <td>2</td>\n",
       "      <td>3</td>\n",
       "      <td>4</td>\n",
       "      <td>0</td>\n",
       "      <td>6</td>\n",
       "      <td>12.9473</td>\n",
       "      <td>77.5616</td>\n",
       "      <td>560019</td>\n",
       "      <td>...</td>\n",
       "      <td>4</td>\n",
       "      <td>0</td>\n",
       "      <td>1</td>\n",
       "      <td>4</td>\n",
       "      <td>4</td>\n",
       "      <td>4</td>\n",
       "      <td>4</td>\n",
       "      <td>0</td>\n",
       "      <td>1</td>\n",
       "      <td>176</td>\n",
       "    </tr>\n",
       "    <tr>\n",
       "      <th>4</th>\n",
       "      <td>22</td>\n",
       "      <td>1</td>\n",
       "      <td>2</td>\n",
       "      <td>3</td>\n",
       "      <td>2</td>\n",
       "      <td>2</td>\n",
       "      <td>4</td>\n",
       "      <td>12.9850</td>\n",
       "      <td>77.5533</td>\n",
       "      <td>560010</td>\n",
       "      <td>...</td>\n",
       "      <td>0</td>\n",
       "      <td>0</td>\n",
       "      <td>1</td>\n",
       "      <td>0</td>\n",
       "      <td>0</td>\n",
       "      <td>0</td>\n",
       "      <td>4</td>\n",
       "      <td>4</td>\n",
       "      <td>1</td>\n",
       "      <td>129</td>\n",
       "    </tr>\n",
       "  </tbody>\n",
       "</table>\n",
       "<p>5 rows × 55 columns</p>\n",
       "</div>"
      ],
      "text/plain": [
       "   Age  Gender  Marital Status  Occupation  Monthly Income  \\\n",
       "0   20       0               2           3               4   \n",
       "1   24       0               2           3               2   \n",
       "2   22       1               2           3               2   \n",
       "3   22       0               2           3               4   \n",
       "4   22       1               2           3               2   \n",
       "\n",
       "   Educational Qualifications  Family size  latitude  longitude  Pin code  \\\n",
       "0                           2            4   12.9766    77.5993    560001   \n",
       "1                           0            3   12.9770    77.5773    560009   \n",
       "2                           2            3   12.9551    77.6593    560017   \n",
       "3                           0            6   12.9473    77.5616    560019   \n",
       "4                           2            4   12.9850    77.5533    560010   \n",
       "\n",
       "   ...  Less Delivery time  High Quality of package  Number of calls  \\\n",
       "0  ...                   1                        1                1   \n",
       "1  ...                   4                        4                4   \n",
       "2  ...                   0                        4                1   \n",
       "3  ...                   4                        0                1   \n",
       "4  ...                   0                        0                1   \n",
       "\n",
       "   Politeness  Freshness   Temperature  Good Taste   Good Quantity  Output  \\\n",
       "0           1           1            1            1              1       1   \n",
       "1           4           4            4            4              4       1   \n",
       "2           4           4            0            4              1       1   \n",
       "3           4           4            4            4              0       1   \n",
       "4           0           0            0            4              4       1   \n",
       "\n",
       "   Reviews  \n",
       "0      136  \n",
       "1      135  \n",
       "2      119  \n",
       "3      176  \n",
       "4      129  \n",
       "\n",
       "[5 rows x 55 columns]"
      ]
     },
     "execution_count": 11,
     "metadata": {},
     "output_type": "execute_result"
    }
   ],
   "source": [
    "dc.autoclean(fd_dlvry).head() "
   ]
  },
  {
   "cell_type": "code",
   "execution_count": 12,
   "metadata": {
    "ExecuteTime": {
     "end_time": "2021-02-12T04:22:22.206409Z",
     "start_time": "2021-02-12T04:22:22.145444Z"
    }
   },
   "outputs": [
    {
     "data": {
      "text/html": [
       "<div>\n",
       "<style scoped>\n",
       "    .dataframe tbody tr th:only-of-type {\n",
       "        vertical-align: middle;\n",
       "    }\n",
       "\n",
       "    .dataframe tbody tr th {\n",
       "        vertical-align: top;\n",
       "    }\n",
       "\n",
       "    .dataframe thead th {\n",
       "        text-align: right;\n",
       "    }\n",
       "</style>\n",
       "<table border=\"1\" class=\"dataframe\">\n",
       "  <thead>\n",
       "    <tr style=\"text-align: right;\">\n",
       "      <th></th>\n",
       "      <th>Age</th>\n",
       "      <th>Gender</th>\n",
       "      <th>Marital Status</th>\n",
       "      <th>Occupation</th>\n",
       "      <th>Monthly Income</th>\n",
       "      <th>Educational Qualifications</th>\n",
       "      <th>Family size</th>\n",
       "      <th>latitude</th>\n",
       "      <th>longitude</th>\n",
       "      <th>Pin code</th>\n",
       "      <th>...</th>\n",
       "      <th>Less Delivery time</th>\n",
       "      <th>High Quality of package</th>\n",
       "      <th>Number of calls</th>\n",
       "      <th>Politeness</th>\n",
       "      <th>Freshness</th>\n",
       "      <th>Temperature</th>\n",
       "      <th>Good Taste</th>\n",
       "      <th>Good Quantity</th>\n",
       "      <th>Output</th>\n",
       "      <th>Reviews</th>\n",
       "    </tr>\n",
       "  </thead>\n",
       "  <tbody>\n",
       "    <tr>\n",
       "      <th>0</th>\n",
       "      <td>20</td>\n",
       "      <td>0</td>\n",
       "      <td>2</td>\n",
       "      <td>3</td>\n",
       "      <td>4</td>\n",
       "      <td>2</td>\n",
       "      <td>4</td>\n",
       "      <td>12.9766</td>\n",
       "      <td>77.5993</td>\n",
       "      <td>560001</td>\n",
       "      <td>...</td>\n",
       "      <td>1</td>\n",
       "      <td>1</td>\n",
       "      <td>1</td>\n",
       "      <td>1</td>\n",
       "      <td>1</td>\n",
       "      <td>1</td>\n",
       "      <td>1</td>\n",
       "      <td>1</td>\n",
       "      <td>1</td>\n",
       "      <td>136</td>\n",
       "    </tr>\n",
       "    <tr>\n",
       "      <th>1</th>\n",
       "      <td>24</td>\n",
       "      <td>0</td>\n",
       "      <td>2</td>\n",
       "      <td>3</td>\n",
       "      <td>2</td>\n",
       "      <td>0</td>\n",
       "      <td>3</td>\n",
       "      <td>12.9770</td>\n",
       "      <td>77.5773</td>\n",
       "      <td>560009</td>\n",
       "      <td>...</td>\n",
       "      <td>4</td>\n",
       "      <td>4</td>\n",
       "      <td>4</td>\n",
       "      <td>4</td>\n",
       "      <td>4</td>\n",
       "      <td>4</td>\n",
       "      <td>4</td>\n",
       "      <td>4</td>\n",
       "      <td>1</td>\n",
       "      <td>135</td>\n",
       "    </tr>\n",
       "    <tr>\n",
       "      <th>2</th>\n",
       "      <td>22</td>\n",
       "      <td>1</td>\n",
       "      <td>2</td>\n",
       "      <td>3</td>\n",
       "      <td>2</td>\n",
       "      <td>2</td>\n",
       "      <td>3</td>\n",
       "      <td>12.9551</td>\n",
       "      <td>77.6593</td>\n",
       "      <td>560017</td>\n",
       "      <td>...</td>\n",
       "      <td>0</td>\n",
       "      <td>4</td>\n",
       "      <td>1</td>\n",
       "      <td>4</td>\n",
       "      <td>4</td>\n",
       "      <td>0</td>\n",
       "      <td>4</td>\n",
       "      <td>1</td>\n",
       "      <td>1</td>\n",
       "      <td>119</td>\n",
       "    </tr>\n",
       "    <tr>\n",
       "      <th>3</th>\n",
       "      <td>22</td>\n",
       "      <td>0</td>\n",
       "      <td>2</td>\n",
       "      <td>3</td>\n",
       "      <td>4</td>\n",
       "      <td>0</td>\n",
       "      <td>6</td>\n",
       "      <td>12.9473</td>\n",
       "      <td>77.5616</td>\n",
       "      <td>560019</td>\n",
       "      <td>...</td>\n",
       "      <td>4</td>\n",
       "      <td>0</td>\n",
       "      <td>1</td>\n",
       "      <td>4</td>\n",
       "      <td>4</td>\n",
       "      <td>4</td>\n",
       "      <td>4</td>\n",
       "      <td>0</td>\n",
       "      <td>1</td>\n",
       "      <td>176</td>\n",
       "    </tr>\n",
       "    <tr>\n",
       "      <th>4</th>\n",
       "      <td>22</td>\n",
       "      <td>1</td>\n",
       "      <td>2</td>\n",
       "      <td>3</td>\n",
       "      <td>2</td>\n",
       "      <td>2</td>\n",
       "      <td>4</td>\n",
       "      <td>12.9850</td>\n",
       "      <td>77.5533</td>\n",
       "      <td>560010</td>\n",
       "      <td>...</td>\n",
       "      <td>0</td>\n",
       "      <td>0</td>\n",
       "      <td>1</td>\n",
       "      <td>0</td>\n",
       "      <td>0</td>\n",
       "      <td>0</td>\n",
       "      <td>4</td>\n",
       "      <td>4</td>\n",
       "      <td>1</td>\n",
       "      <td>129</td>\n",
       "    </tr>\n",
       "  </tbody>\n",
       "</table>\n",
       "<p>5 rows × 55 columns</p>\n",
       "</div>"
      ],
      "text/plain": [
       "   Age  Gender  Marital Status  Occupation  Monthly Income  \\\n",
       "0   20       0               2           3               4   \n",
       "1   24       0               2           3               2   \n",
       "2   22       1               2           3               2   \n",
       "3   22       0               2           3               4   \n",
       "4   22       1               2           3               2   \n",
       "\n",
       "   Educational Qualifications  Family size  latitude  longitude  Pin code  \\\n",
       "0                           2            4   12.9766    77.5993    560001   \n",
       "1                           0            3   12.9770    77.5773    560009   \n",
       "2                           2            3   12.9551    77.6593    560017   \n",
       "3                           0            6   12.9473    77.5616    560019   \n",
       "4                           2            4   12.9850    77.5533    560010   \n",
       "\n",
       "   ...  Less Delivery time  High Quality of package  Number of calls  \\\n",
       "0  ...                   1                        1                1   \n",
       "1  ...                   4                        4                4   \n",
       "2  ...                   0                        4                1   \n",
       "3  ...                   4                        0                1   \n",
       "4  ...                   0                        0                1   \n",
       "\n",
       "   Politeness  Freshness   Temperature  Good Taste   Good Quantity  Output  \\\n",
       "0           1           1            1            1              1       1   \n",
       "1           4           4            4            4              4       1   \n",
       "2           4           4            0            4              1       1   \n",
       "3           4           4            4            4              0       1   \n",
       "4           0           0            0            4              4       1   \n",
       "\n",
       "   Reviews  \n",
       "0      136  \n",
       "1      135  \n",
       "2      119  \n",
       "3      176  \n",
       "4      129  \n",
       "\n",
       "[5 rows x 55 columns]"
      ]
     },
     "execution_count": 12,
     "metadata": {},
     "output_type": "execute_result"
    }
   ],
   "source": [
    "fd_dlvry.head() "
   ]
  },
  {
   "cell_type": "code",
   "execution_count": 13,
   "metadata": {
    "ExecuteTime": {
     "end_time": "2021-02-12T04:22:22.310349Z",
     "start_time": "2021-02-12T04:22:22.210406Z"
    }
   },
   "outputs": [
    {
     "data": {
      "text/html": [
       "<div>\n",
       "<style scoped>\n",
       "    .dataframe tbody tr th:only-of-type {\n",
       "        vertical-align: middle;\n",
       "    }\n",
       "\n",
       "    .dataframe tbody tr th {\n",
       "        vertical-align: top;\n",
       "    }\n",
       "\n",
       "    .dataframe thead th {\n",
       "        text-align: right;\n",
       "    }\n",
       "</style>\n",
       "<table border=\"1\" class=\"dataframe\">\n",
       "  <thead>\n",
       "    <tr style=\"text-align: right;\">\n",
       "      <th></th>\n",
       "      <th>Age</th>\n",
       "      <th>Gender</th>\n",
       "      <th>Marital Status</th>\n",
       "      <th>Occupation</th>\n",
       "      <th>Monthly Income</th>\n",
       "      <th>Educational Qualifications</th>\n",
       "      <th>Family size</th>\n",
       "      <th>latitude</th>\n",
       "      <th>longitude</th>\n",
       "      <th>Pin code</th>\n",
       "      <th>...</th>\n",
       "      <th>Less Delivery time</th>\n",
       "      <th>High Quality of package</th>\n",
       "      <th>Number of calls</th>\n",
       "      <th>Politeness</th>\n",
       "      <th>Freshness</th>\n",
       "      <th>Temperature</th>\n",
       "      <th>Good Taste</th>\n",
       "      <th>Good Quantity</th>\n",
       "      <th>Output</th>\n",
       "      <th>Reviews</th>\n",
       "    </tr>\n",
       "  </thead>\n",
       "  <tbody>\n",
       "    <tr>\n",
       "      <th>0</th>\n",
       "      <td>20</td>\n",
       "      <td>Female</td>\n",
       "      <td>Single</td>\n",
       "      <td>Student</td>\n",
       "      <td>No Income</td>\n",
       "      <td>Post Graduate</td>\n",
       "      <td>4</td>\n",
       "      <td>12.9766</td>\n",
       "      <td>77.5993</td>\n",
       "      <td>560001</td>\n",
       "      <td>...</td>\n",
       "      <td>Moderately Important</td>\n",
       "      <td>Moderately Important</td>\n",
       "      <td>Moderately Important</td>\n",
       "      <td>Moderately Important</td>\n",
       "      <td>Moderately Important</td>\n",
       "      <td>Moderately Important</td>\n",
       "      <td>Moderately Important</td>\n",
       "      <td>Moderately Important</td>\n",
       "      <td>Yes</td>\n",
       "      <td>Nil\\n</td>\n",
       "    </tr>\n",
       "    <tr>\n",
       "      <th>1</th>\n",
       "      <td>24</td>\n",
       "      <td>Female</td>\n",
       "      <td>Single</td>\n",
       "      <td>Student</td>\n",
       "      <td>Below Rs.10000</td>\n",
       "      <td>Graduate</td>\n",
       "      <td>3</td>\n",
       "      <td>12.9770</td>\n",
       "      <td>77.5773</td>\n",
       "      <td>560009</td>\n",
       "      <td>...</td>\n",
       "      <td>Very Important</td>\n",
       "      <td>Very Important</td>\n",
       "      <td>Very Important</td>\n",
       "      <td>Very Important</td>\n",
       "      <td>Very Important</td>\n",
       "      <td>Very Important</td>\n",
       "      <td>Very Important</td>\n",
       "      <td>Very Important</td>\n",
       "      <td>Yes</td>\n",
       "      <td>Nil</td>\n",
       "    </tr>\n",
       "    <tr>\n",
       "      <th>2</th>\n",
       "      <td>22</td>\n",
       "      <td>Male</td>\n",
       "      <td>Single</td>\n",
       "      <td>Student</td>\n",
       "      <td>Below Rs.10000</td>\n",
       "      <td>Post Graduate</td>\n",
       "      <td>3</td>\n",
       "      <td>12.9551</td>\n",
       "      <td>77.6593</td>\n",
       "      <td>560017</td>\n",
       "      <td>...</td>\n",
       "      <td>Important</td>\n",
       "      <td>Very Important</td>\n",
       "      <td>Moderately Important</td>\n",
       "      <td>Very Important</td>\n",
       "      <td>Very Important</td>\n",
       "      <td>Important</td>\n",
       "      <td>Very Important</td>\n",
       "      <td>Moderately Important</td>\n",
       "      <td>Yes</td>\n",
       "      <td>Many a times payment gateways are an issue, so...</td>\n",
       "    </tr>\n",
       "    <tr>\n",
       "      <th>3</th>\n",
       "      <td>22</td>\n",
       "      <td>Female</td>\n",
       "      <td>Single</td>\n",
       "      <td>Student</td>\n",
       "      <td>No Income</td>\n",
       "      <td>Graduate</td>\n",
       "      <td>6</td>\n",
       "      <td>12.9473</td>\n",
       "      <td>77.5616</td>\n",
       "      <td>560019</td>\n",
       "      <td>...</td>\n",
       "      <td>Very Important</td>\n",
       "      <td>Important</td>\n",
       "      <td>Moderately Important</td>\n",
       "      <td>Very Important</td>\n",
       "      <td>Very Important</td>\n",
       "      <td>Very Important</td>\n",
       "      <td>Very Important</td>\n",
       "      <td>Important</td>\n",
       "      <td>Yes</td>\n",
       "      <td>nil</td>\n",
       "    </tr>\n",
       "    <tr>\n",
       "      <th>4</th>\n",
       "      <td>22</td>\n",
       "      <td>Male</td>\n",
       "      <td>Single</td>\n",
       "      <td>Student</td>\n",
       "      <td>Below Rs.10000</td>\n",
       "      <td>Post Graduate</td>\n",
       "      <td>4</td>\n",
       "      <td>12.9850</td>\n",
       "      <td>77.5533</td>\n",
       "      <td>560010</td>\n",
       "      <td>...</td>\n",
       "      <td>Important</td>\n",
       "      <td>Important</td>\n",
       "      <td>Moderately Important</td>\n",
       "      <td>Important</td>\n",
       "      <td>Important</td>\n",
       "      <td>Important</td>\n",
       "      <td>Very Important</td>\n",
       "      <td>Very Important</td>\n",
       "      <td>Yes</td>\n",
       "      <td>NIL</td>\n",
       "    </tr>\n",
       "  </tbody>\n",
       "</table>\n",
       "<p>5 rows × 55 columns</p>\n",
       "</div>"
      ],
      "text/plain": [
       "   Age  Gender Marital Status Occupation  Monthly Income  \\\n",
       "0   20  Female         Single    Student       No Income   \n",
       "1   24  Female         Single    Student  Below Rs.10000   \n",
       "2   22    Male         Single    Student  Below Rs.10000   \n",
       "3   22  Female         Single    Student       No Income   \n",
       "4   22    Male         Single    Student  Below Rs.10000   \n",
       "\n",
       "  Educational Qualifications  Family size  latitude  longitude  Pin code  ...  \\\n",
       "0              Post Graduate            4   12.9766    77.5993    560001  ...   \n",
       "1                   Graduate            3   12.9770    77.5773    560009  ...   \n",
       "2              Post Graduate            3   12.9551    77.6593    560017  ...   \n",
       "3                   Graduate            6   12.9473    77.5616    560019  ...   \n",
       "4              Post Graduate            4   12.9850    77.5533    560010  ...   \n",
       "\n",
       "     Less Delivery time High Quality of package       Number of calls  \\\n",
       "0  Moderately Important    Moderately Important  Moderately Important   \n",
       "1        Very Important          Very Important        Very Important   \n",
       "2             Important          Very Important  Moderately Important   \n",
       "3        Very Important               Important  Moderately Important   \n",
       "4             Important               Important  Moderately Important   \n",
       "\n",
       "             Politeness            Freshness            Temperature  \\\n",
       "0  Moderately Important  Moderately Important  Moderately Important   \n",
       "1        Very Important        Very Important        Very Important   \n",
       "2        Very Important        Very Important             Important   \n",
       "3        Very Important        Very Important        Very Important   \n",
       "4             Important             Important             Important   \n",
       "\n",
       "            Good Taste          Good Quantity Output  \\\n",
       "0  Moderately Important  Moderately Important    Yes   \n",
       "1        Very Important        Very Important    Yes   \n",
       "2        Very Important  Moderately Important    Yes   \n",
       "3        Very Important             Important    Yes   \n",
       "4        Very Important        Very Important    Yes   \n",
       "\n",
       "                                             Reviews  \n",
       "0                                              Nil\\n  \n",
       "1                                                Nil  \n",
       "2  Many a times payment gateways are an issue, so...  \n",
       "3                                                nil  \n",
       "4                                                NIL  \n",
       "\n",
       "[5 rows x 55 columns]"
      ]
     },
     "execution_count": 13,
     "metadata": {},
     "output_type": "execute_result"
    }
   ],
   "source": [
    "fd_ori.head()"
   ]
  },
  {
   "cell_type": "code",
   "execution_count": 14,
   "metadata": {
    "ExecuteTime": {
     "end_time": "2021-02-12T04:22:22.388305Z",
     "start_time": "2021-02-12T04:22:22.315347Z"
    }
   },
   "outputs": [
    {
     "data": {
      "text/plain": [
       "Index(['Age', 'Gender', 'Marital Status', 'Occupation', 'Monthly Income',\n",
       "       'Educational Qualifications', 'Family size', 'latitude', 'longitude',\n",
       "       'Pin code', 'Medium (P1)', 'Medium (P2)', 'Meal(P1)', 'Meal(P2)',\n",
       "       'Perference(P1)', 'Perference(P2)', 'Ease and convenient',\n",
       "       'Time saving', 'More restaurant choices', 'Easy Payment option',\n",
       "       'More Offers and Discount', 'Good Food quality', 'Good Tracking system',\n",
       "       'Self Cooking', 'Health Concern', 'Late Delivery', 'Poor Hygiene',\n",
       "       'Bad past experience', 'Unavailability', 'Unaffordable',\n",
       "       'Long delivery time', 'Delay of delivery person getting assigned',\n",
       "       'Delay of delivery person picking up food', 'Wrong order delivered',\n",
       "       'Missing item', 'Order placed by mistake', 'Influence of time',\n",
       "       'Order Time', 'Maximum wait time', 'Residence in busy location',\n",
       "       'Google Maps Accuracy', 'Good Road Condition', 'Low quantity low time',\n",
       "       'Delivery person ability', 'Influence of rating', 'Less Delivery time',\n",
       "       'High Quality of package', 'Number of calls', 'Politeness',\n",
       "       'Freshness ', 'Temperature', 'Good Taste ', 'Good Quantity', 'Output',\n",
       "       'Reviews'],\n",
       "      dtype='object')"
      ]
     },
     "execution_count": 14,
     "metadata": {},
     "output_type": "execute_result"
    }
   ],
   "source": [
    "l1=(fd_ori.columns[:])\n",
    "l1"
   ]
  },
  {
   "cell_type": "code",
   "execution_count": 15,
   "metadata": {
    "ExecuteTime": {
     "end_time": "2021-02-12T04:22:22.519230Z",
     "start_time": "2021-02-12T04:22:22.392303Z"
    },
    "scrolled": true
   },
   "outputs": [
    {
     "name": "stdout",
     "output_type": "stream",
     "text": [
      "<class 'pandas.core.frame.DataFrame'>\n",
      "RangeIndex: 388 entries, 0 to 387\n",
      "Data columns (total 55 columns):\n",
      " #   Column                                     Non-Null Count  Dtype  \n",
      "---  ------                                     --------------  -----  \n",
      " 0   Age                                        388 non-null    int64  \n",
      " 1   Gender                                     388 non-null    int32  \n",
      " 2   Marital Status                             388 non-null    int32  \n",
      " 3   Occupation                                 388 non-null    int32  \n",
      " 4   Monthly Income                             388 non-null    int32  \n",
      " 5   Educational Qualifications                 388 non-null    int32  \n",
      " 6   Family size                                388 non-null    int64  \n",
      " 7   latitude                                   388 non-null    float64\n",
      " 8   longitude                                  388 non-null    float64\n",
      " 9   Pin code                                   388 non-null    int64  \n",
      " 10  Medium (P1)                                388 non-null    int32  \n",
      " 11  Medium (P2)                                388 non-null    int32  \n",
      " 12  Meal(P1)                                   388 non-null    int32  \n",
      " 13  Meal(P2)                                   388 non-null    int32  \n",
      " 14  Perference(P1)                             388 non-null    int32  \n",
      " 15  Perference(P2)                             388 non-null    int32  \n",
      " 16  Ease and convenient                        388 non-null    int32  \n",
      " 17  Time saving                                388 non-null    int32  \n",
      " 18  More restaurant choices                    388 non-null    int32  \n",
      " 19  Easy Payment option                        388 non-null    int32  \n",
      " 20  More Offers and Discount                   388 non-null    int32  \n",
      " 21  Good Food quality                          388 non-null    int32  \n",
      " 22  Good Tracking system                       388 non-null    int32  \n",
      " 23  Self Cooking                               388 non-null    int32  \n",
      " 24  Health Concern                             388 non-null    int32  \n",
      " 25  Late Delivery                              388 non-null    int32  \n",
      " 26  Poor Hygiene                               388 non-null    int32  \n",
      " 27  Bad past experience                        388 non-null    int32  \n",
      " 28  Unavailability                             388 non-null    int32  \n",
      " 29  Unaffordable                               388 non-null    int32  \n",
      " 30  Long delivery time                         388 non-null    int32  \n",
      " 31  Delay of delivery person getting assigned  388 non-null    int32  \n",
      " 32  Delay of delivery person picking up food   388 non-null    int32  \n",
      " 33  Wrong order delivered                      388 non-null    int32  \n",
      " 34  Missing item                               388 non-null    int32  \n",
      " 35  Order placed by mistake                    388 non-null    int32  \n",
      " 36  Influence of time                          388 non-null    int32  \n",
      " 37  Order Time                                 388 non-null    int32  \n",
      " 38  Maximum wait time                          388 non-null    int32  \n",
      " 39  Residence in busy location                 388 non-null    int32  \n",
      " 40  Google Maps Accuracy                       388 non-null    int32  \n",
      " 41  Good Road Condition                        388 non-null    int32  \n",
      " 42  Low quantity low time                      388 non-null    int32  \n",
      " 43  Delivery person ability                    388 non-null    int32  \n",
      " 44  Influence of rating                        388 non-null    int32  \n",
      " 45  Less Delivery time                         388 non-null    int32  \n",
      " 46  High Quality of package                    388 non-null    int32  \n",
      " 47  Number of calls                            388 non-null    int32  \n",
      " 48  Politeness                                 388 non-null    int32  \n",
      " 49  Freshness                                  388 non-null    int32  \n",
      " 50  Temperature                                388 non-null    int32  \n",
      " 51  Good Taste                                 388 non-null    int32  \n",
      " 52  Good Quantity                              388 non-null    int32  \n",
      " 53  Output                                     388 non-null    int32  \n",
      " 54  Reviews                                    388 non-null    int32  \n",
      "dtypes: float64(2), int32(50), int64(3)\n",
      "memory usage: 91.1 KB\n"
     ]
    }
   ],
   "source": [
    "fd_dlvry.info()"
   ]
  },
  {
   "cell_type": "code",
   "execution_count": 16,
   "metadata": {
    "ExecuteTime": {
     "end_time": "2021-02-12T04:22:22.589193Z",
     "start_time": "2021-02-12T04:22:22.523228Z"
    }
   },
   "outputs": [
    {
     "data": {
      "text/plain": [
       "Index(['Age', 'Gender', 'Marital Status', 'Occupation', 'Monthly Income',\n",
       "       'Educational Qualifications', 'Family size', 'latitude', 'longitude',\n",
       "       'Pin code', 'Medium (P1)', 'Medium (P2)', 'Meal(P1)', 'Meal(P2)',\n",
       "       'Perference(P1)', 'Perference(P2)', 'Ease and convenient',\n",
       "       'Time saving', 'More restaurant choices', 'Easy Payment option',\n",
       "       'More Offers and Discount', 'Good Food quality', 'Good Tracking system',\n",
       "       'Self Cooking', 'Health Concern', 'Late Delivery', 'Poor Hygiene',\n",
       "       'Bad past experience', 'Unavailability', 'Unaffordable',\n",
       "       'Long delivery time', 'Delay of delivery person getting assigned',\n",
       "       'Delay of delivery person picking up food', 'Wrong order delivered',\n",
       "       'Missing item', 'Order placed by mistake', 'Influence of time',\n",
       "       'Order Time', 'Maximum wait time', 'Residence in busy location',\n",
       "       'Google Maps Accuracy', 'Good Road Condition', 'Low quantity low time',\n",
       "       'Delivery person ability', 'Influence of rating', 'Less Delivery time',\n",
       "       'High Quality of package', 'Number of calls', 'Politeness',\n",
       "       'Freshness ', 'Temperature', 'Good Taste ', 'Good Quantity', 'Output'],\n",
       "      dtype='object')"
      ]
     },
     "execution_count": 16,
     "metadata": {},
     "output_type": "execute_result"
    }
   ],
   "source": [
    "df=fd_ori.drop('Reviews',axis=1) #drop reviews because it's take NLP in future i will try it\n",
    "df.columns"
   ]
  },
  {
   "cell_type": "code",
   "execution_count": null,
   "metadata": {},
   "outputs": [],
   "source": []
  },
  {
   "cell_type": "code",
   "execution_count": 17,
   "metadata": {
    "ExecuteTime": {
     "end_time": "2021-02-12T04:22:22.718116Z",
     "start_time": "2021-02-12T04:22:22.593190Z"
    }
   },
   "outputs": [],
   "source": [
    "%matplotlib inline"
   ]
  },
  {
   "cell_type": "code",
   "execution_count": 18,
   "metadata": {
    "ExecuteTime": {
     "end_time": "2021-02-12T04:22:22.834057Z",
     "start_time": "2021-02-12T04:22:22.722114Z"
    }
   },
   "outputs": [],
   "source": [
    "# we needs to back map for lable encoding \n",
    "lbl=dict()\n",
    "for i in fd_ori.columns:\n",
    "    if i not in  ['latitude','longitude','Pin code','Output','Reviews']:\n",
    "                  lbl[i]=dict(zip(fd_ori[i].unique(), fd_dlvry[i].unique()))\n",
    "    "
   ]
  },
  {
   "cell_type": "code",
   "execution_count": 19,
   "metadata": {
    "ExecuteTime": {
     "end_time": "2021-02-12T04:22:22.905010Z",
     "start_time": "2021-02-12T04:22:22.840047Z"
    },
    "scrolled": false
   },
   "outputs": [
    {
     "data": {
      "text/plain": [
       "{'Age': {20: 20,\n",
       "  24: 24,\n",
       "  22: 22,\n",
       "  27: 27,\n",
       "  23: 23,\n",
       "  21: 21,\n",
       "  28: 28,\n",
       "  25: 25,\n",
       "  32: 32,\n",
       "  30: 30,\n",
       "  31: 31,\n",
       "  26: 26,\n",
       "  18: 18,\n",
       "  19: 19,\n",
       "  33: 33,\n",
       "  29: 29},\n",
       " 'Gender': {'Female': 0, 'Male': 1},\n",
       " 'Marital Status': {'Single': 2, 'Married': 0, 'Prefer not to say': 1},\n",
       " 'Occupation': {'Student': 3,\n",
       "  'Employee': 0,\n",
       "  'Self Employeed': 2,\n",
       "  'House wife': 1},\n",
       " 'Monthly Income': {'No Income': 4,\n",
       "  'Below Rs.10000': 2,\n",
       "  'More than 50000': 3,\n",
       "  '10001 to 25000': 0,\n",
       "  '25001 to 50000': 1},\n",
       " 'Educational Qualifications': {'Post Graduate': 2,\n",
       "  'Graduate': 0,\n",
       "  'Ph.D': 1,\n",
       "  'Uneducated': 4,\n",
       "  'School': 3},\n",
       " 'Family size': {4: 4, 3: 3, 6: 6, 2: 2, 5: 5, 1: 1},\n",
       " 'Medium (P1)': {'Food delivery apps': 1,\n",
       "  'Walk-in': 2,\n",
       "  'Direct call': 0,\n",
       "  'Web browser': 3},\n",
       " 'Medium (P2)': {' Web browser': 2, ' Direct call': 0, ' Walk-in': 1},\n",
       " 'Meal(P1)': {'Breakfast': 0, 'Snacks': 3, 'Lunch': 2, 'Dinner': 1},\n",
       " 'Meal(P2)': {' Lunch': 1, ' Dinner': 0, ' Snacks': 2},\n",
       " 'Perference(P1)': {'Non Veg foods (Lunch / Dinner)': 1,\n",
       "  'Veg foods (Breakfast / Lunch / Dinner)': 3,\n",
       "  'Bakery items (snacks)': 0,\n",
       "  'Sweets': 2},\n",
       " 'Perference(P2)': {' Bakery items (snacks)': 0,\n",
       "  ' Veg foods (Breakfast / Lunch / Dinner)': 3,\n",
       "  ' Ice cream / Cool drinks': 1,\n",
       "  ' Sweets': 2},\n",
       " 'Ease and convenient': {'Neutral': 2,\n",
       "  'Strongly agree': 3,\n",
       "  'Agree': 0,\n",
       "  'Strongly disagree': 4,\n",
       "  'Disagree': 1},\n",
       " 'Time saving': {'Neutral': 2,\n",
       "  'Strongly agree': 3,\n",
       "  'Agree': 0,\n",
       "  'Disagree': 1,\n",
       "  'Strongly disagree': 4},\n",
       " 'More restaurant choices': {'Neutral': 2,\n",
       "  'Strongly agree': 3,\n",
       "  'Agree': 0,\n",
       "  'Strongly disagree': 4,\n",
       "  'Disagree': 1},\n",
       " 'Easy Payment option': {'Neutral': 2,\n",
       "  'Strongly agree': 3,\n",
       "  'Agree': 0,\n",
       "  'Disagree': 1,\n",
       "  'Strongly disagree': 4},\n",
       " 'More Offers and Discount': {'Neutral': 2,\n",
       "  'Strongly agree': 3,\n",
       "  'Agree': 0,\n",
       "  'Disagree': 1,\n",
       "  'Strongly disagree': 4},\n",
       " 'Good Food quality': {'Neutral': 2,\n",
       "  'Disagree': 1,\n",
       "  'Agree': 0,\n",
       "  'Strongly agree': 3,\n",
       "  'Strongly disagree': 4},\n",
       " 'Good Tracking system': {'Neutral': 2,\n",
       "  'Agree': 0,\n",
       "  'Strongly agree': 3,\n",
       "  'Disagree': 1,\n",
       "  'Strongly disagree': 4},\n",
       " 'Self Cooking': {'Neutral': 2,\n",
       "  'Strongly agree': 3,\n",
       "  'Disagree': 1,\n",
       "  'Agree': 0,\n",
       "  'Strongly disagree': 4},\n",
       " 'Health Concern': {'Neutral': 2,\n",
       "  'Strongly agree': 3,\n",
       "  'Agree': 0,\n",
       "  'Strongly disagree': 4,\n",
       "  'Disagree': 1},\n",
       " 'Late Delivery': {'Neutral': 2,\n",
       "  'Agree': 0,\n",
       "  'Strongly agree': 3,\n",
       "  'Disagree': 1,\n",
       "  'Strongly disagree': 4},\n",
       " 'Poor Hygiene': {'Neutral': 2,\n",
       "  'Strongly agree': 3,\n",
       "  'Agree': 0,\n",
       "  'Disagree': 1,\n",
       "  'Strongly disagree': 4},\n",
       " 'Bad past experience': {'Neutral': 2,\n",
       "  'Strongly agree': 3,\n",
       "  'Agree': 0,\n",
       "  'Disagree': 1,\n",
       "  'Strongly disagree': 4},\n",
       " 'Unavailability': {'Neutral': 2,\n",
       "  'Strongly agree': 3,\n",
       "  'Agree': 0,\n",
       "  'Disagree': 1,\n",
       "  'Strongly disagree': 4},\n",
       " 'Unaffordable': {'Neutral': 2,\n",
       "  'Strongly agree': 3,\n",
       "  'Agree': 0,\n",
       "  'Disagree': 1,\n",
       "  'Strongly disagree': 4},\n",
       " 'Long delivery time': {'Agree': 0,\n",
       "  'Strongly agree': 3,\n",
       "  'Neutral': 2,\n",
       "  'Disagree': 1,\n",
       "  'Strongly disagree': 4},\n",
       " 'Delay of delivery person getting assigned': {'Agree': 0,\n",
       "  'Strongly agree': 3,\n",
       "  'Disagree': 1,\n",
       "  'Neutral': 2,\n",
       "  'Strongly disagree': 4},\n",
       " 'Delay of delivery person picking up food': {'Agree': 0,\n",
       "  'Strongly agree': 3,\n",
       "  'Neutral': 2,\n",
       "  'Disagree': 1,\n",
       "  'Strongly disagree': 4},\n",
       " 'Wrong order delivered': {'Agree': 0,\n",
       "  'Strongly agree': 3,\n",
       "  'Disagree': 1,\n",
       "  'Neutral': 2,\n",
       "  'Strongly disagree': 4},\n",
       " 'Missing item': {'Agree': 0,\n",
       "  'Strongly agree': 3,\n",
       "  'Disagree': 1,\n",
       "  'Neutral': 2,\n",
       "  'Strongly disagree': 4},\n",
       " 'Order placed by mistake': {'Agree': 0,\n",
       "  'Strongly agree': 3,\n",
       "  'Neutral': 2,\n",
       "  'Disagree': 1,\n",
       "  'Strongly disagree': 4},\n",
       " 'Influence of time': {'Yes': 2, 'No': 1, 'Maybe': 0},\n",
       " 'Order Time': {'Weekend (Sat & Sun)': 2,\n",
       "  'Anytime (Mon-Sun)': 0,\n",
       "  'Weekdays (Mon-Fri)': 1},\n",
       " 'Maximum wait time': {'30 minutes': 1,\n",
       "  '45 minutes': 2,\n",
       "  '60 minutes': 3,\n",
       "  'More than 60 minutes': 4,\n",
       "  '15 minutes': 0},\n",
       " 'Residence in busy location': {'Agree': 0,\n",
       "  'Strongly Agree': 3,\n",
       "  'Disagree': 1,\n",
       "  'Neutral': 2,\n",
       "  'Strongly disagree': 4},\n",
       " 'Google Maps Accuracy': {'Neutral': 2,\n",
       "  'Strongly Agree': 3,\n",
       "  'Agree': 0,\n",
       "  'Disagree': 1,\n",
       "  'Strongly disagree': 4},\n",
       " 'Good Road Condition': {'Neutral': 2,\n",
       "  'Disagree': 1,\n",
       "  'Agree': 0,\n",
       "  'Strongly Agree': 3,\n",
       "  'Strongly disagree': 4},\n",
       " 'Low quantity low time': {'Neutral': 2,\n",
       "  'Strongly disagree': 4,\n",
       "  'Agree': 0,\n",
       "  'Disagree': 1,\n",
       "  'Strongly Agree': 3},\n",
       " 'Delivery person ability': {'Neutral': 2,\n",
       "  'Agree': 0,\n",
       "  'Strongly Agree': 3,\n",
       "  'Disagree': 1,\n",
       "  'Strongly disagree': 4},\n",
       " 'Influence of rating': {'Yes': 2, 'Maybe': 0, 'No': 1},\n",
       " 'Less Delivery time': {'Moderately Important': 1,\n",
       "  'Very Important': 4,\n",
       "  'Important': 0,\n",
       "  'Slightly Important': 2,\n",
       "  'Unimportant': 3},\n",
       " 'High Quality of package': {'Moderately Important': 1,\n",
       "  'Very Important': 4,\n",
       "  'Important': 0,\n",
       "  'Unimportant': 3,\n",
       "  'Slightly Important': 2},\n",
       " 'Number of calls': {'Moderately Important': 1,\n",
       "  'Very Important': 4,\n",
       "  'Unimportant': 3,\n",
       "  'Important': 0,\n",
       "  'Slightly Important': 2},\n",
       " 'Politeness': {'Moderately Important': 1,\n",
       "  'Very Important': 4,\n",
       "  'Important': 0,\n",
       "  'Slightly Important': 2,\n",
       "  'Unimportant': 3},\n",
       " 'Freshness ': {'Moderately Important': 1,\n",
       "  'Very Important': 4,\n",
       "  'Important': 0,\n",
       "  'Slightly Important': 2,\n",
       "  'Unimportant': 3},\n",
       " 'Temperature': {'Moderately Important': 1,\n",
       "  'Very Important': 4,\n",
       "  'Important': 0,\n",
       "  'Slightly Important': 2,\n",
       "  'Unimportant': 3},\n",
       " 'Good Taste ': {'Moderately Important': 1,\n",
       "  'Very Important': 4,\n",
       "  'Important': 0,\n",
       "  'Slightly Important': 2,\n",
       "  'Unimportant': 3},\n",
       " 'Good Quantity': {'Moderately Important': 1,\n",
       "  'Very Important': 4,\n",
       "  'Important': 0,\n",
       "  'Slightly Important': 2,\n",
       "  'Unimportant': 3}}"
      ]
     },
     "execution_count": 19,
     "metadata": {},
     "output_type": "execute_result"
    }
   ],
   "source": [
    "lbl"
   ]
  },
  {
   "cell_type": "code",
   "execution_count": 20,
   "metadata": {
    "ExecuteTime": {
     "end_time": "2021-02-12T04:22:22.981966Z",
     "start_time": "2021-02-12T04:22:22.909007Z"
    },
    "code_folding": []
   },
   "outputs": [],
   "source": [
    "# practice chi-squared test\n",
    "# df=pd.crosstab(fd_ori['Meal(P1)'],fd_ori['Occupation'])\n",
    "# df\n",
    "\n",
    "# stat, p, dof, expected = st.chi2_contingency(df,correction=True)\n",
    "# stat, p, dof, expected\n",
    "\n",
    "\n"
   ]
  },
  {
   "cell_type": "markdown",
   "metadata": {},
   "source": [
    "#  method 1: Feature selection Cramér's V"
   ]
  },
  {
   "cell_type": "code",
   "execution_count": 21,
   "metadata": {
    "ExecuteTime": {
     "end_time": "2021-02-12T04:22:24.884807Z",
     "start_time": "2021-02-12T04:22:22.986963Z"
    },
    "scrolled": true
   },
   "outputs": [
    {
     "data": {
      "text/plain": [
       "{'Output': [('Age', 0.41916612670006054),\n",
       "  ('Ease and convenient', 0.6944483749782563),\n",
       "  ('Time saving', 0.6333333550979008),\n",
       "  ('More restaurant choices', 0.5897138785369491),\n",
       "  ('Easy Payment option', 0.5571767618313485),\n",
       "  ('More Offers and Discount', 0.5564505912203883),\n",
       "  ('Good Food quality', 0.4243449172824401),\n",
       "  ('Good Tracking system', 0.41749280981704445),\n",
       "  ('Maximum wait time', 0.4135981980209824)]}"
      ]
     },
     "execution_count": 21,
     "metadata": {},
     "output_type": "execute_result"
    }
   ],
   "source": [
    "#Cramer's V perform for find relation between \n",
    "crv={}\n",
    "l1=[]\n",
    "for i in fd_ori.columns:\n",
    "    if i not in  ['latitude','longitude','Pin code','Output','Reviews']:\n",
    "        '''we are not using lat and long because in EDA all location diffrent (reference dtale lib)'''\n",
    "        df=pd.crosstab(fd_ori['Output'],fd_ori[i])\n",
    "        stat, p, dof, expected = st.chi2_contingency(df,correction=True)\n",
    "        t=min(df.shape)-1\n",
    "        deno=sum(df.sum())*t\n",
    "        x=numpy.sqrt(stat / deno)\n",
    "        if(x>0.41): #thresold\n",
    "             l1.append((i,x))\n",
    "\n",
    "\n",
    "crv['Output']=l1\n",
    "        \n",
    "crv"
   ]
  },
  {
   "cell_type": "code",
   "execution_count": 22,
   "metadata": {
    "ExecuteTime": {
     "end_time": "2021-02-12T04:22:24.899231Z",
     "start_time": "2021-02-12T04:22:24.889235Z"
    },
    "code_folding": []
   },
   "outputs": [
    {
     "data": {
      "text/plain": [
       "['Age',\n",
       " 'Ease and convenient',\n",
       " 'Time saving',\n",
       " 'More restaurant choices',\n",
       " 'Easy Payment option',\n",
       " 'More Offers and Discount',\n",
       " 'Good Food quality',\n",
       " 'Good Tracking system',\n",
       " 'Maximum wait time']"
      ]
     },
     "execution_count": 22,
     "metadata": {},
     "output_type": "execute_result"
    }
   ],
   "source": [
    "#Extract the feature from above dictionary \n",
    "basic_f0=[]\n",
    "for i in l1:\n",
    "    basic_f0.append(i[0])\n",
    "\n",
    "basic_f0"
   ]
  },
  {
   "cell_type": "code",
   "execution_count": 23,
   "metadata": {
    "ExecuteTime": {
     "end_time": "2021-02-12T04:22:25.027155Z",
     "start_time": "2021-02-12T04:22:24.911221Z"
    }
   },
   "outputs": [],
   "source": [
    "X=fd_dlvry[basic_f0] # select X \n",
    "y=fd_dlvry['Output'] # select Y\n"
   ]
  },
  {
   "cell_type": "code",
   "execution_count": 24,
   "metadata": {
    "ExecuteTime": {
     "end_time": "2021-02-12T04:22:25.112110Z",
     "start_time": "2021-02-12T04:22:25.035151Z"
    }
   },
   "outputs": [],
   "source": [
    "%matplotlib inline"
   ]
  },
  {
   "cell_type": "code",
   "execution_count": 25,
   "metadata": {
    "ExecuteTime": {
     "end_time": "2021-02-12T04:22:25.204054Z",
     "start_time": "2021-02-12T04:22:25.117105Z"
    },
    "scrolled": true
   },
   "outputs": [
    {
     "data": {
      "text/plain": [
       "['Age',\n",
       " 'Ease and convenient',\n",
       " 'Time saving',\n",
       " 'More restaurant choices',\n",
       " 'Easy Payment option',\n",
       " 'More Offers and Discount',\n",
       " 'Good Food quality',\n",
       " 'Good Tracking system',\n",
       " 'Maximum wait time']"
      ]
     },
     "execution_count": 25,
     "metadata": {},
     "output_type": "execute_result"
    }
   ],
   "source": [
    "basic_f0"
   ]
  },
  {
   "cell_type": "code",
   "execution_count": 26,
   "metadata": {
    "ExecuteTime": {
     "end_time": "2021-02-12T04:22:26.438212Z",
     "start_time": "2021-02-12T04:22:25.210050Z"
    },
    "scrolled": true
   },
   "outputs": [
    {
     "data": {
      "text/plain": [
       "<AxesSubplot:xlabel='Output', ylabel='count'>"
      ]
     },
     "execution_count": 26,
     "metadata": {},
     "output_type": "execute_result"
    },
    {
     "data": {
      "image/png": "[encoded data removed]",
      "text/plain": [
       "<Figure size 432x288 with 1 Axes>"
      ]
     },
     "metadata": {
      "needs_background": "light"
     },
     "output_type": "display_data"
    }
   ],
   "source": [
    "sns.countplot(fd_ori['Output']) # look target feature"
   ]
  },
  {
   "cell_type": "markdown",
   "metadata": {
    "ExecuteTime": {
     "end_time": "2020-12-19T04:21:54.351232Z",
     "start_time": "2020-12-19T04:21:54.343232Z"
    }
   },
   "source": [
    "#  KNN Algorithm  "
   ]
  },
  {
   "cell_type": "code",
   "execution_count": 27,
   "metadata": {
    "ExecuteTime": {
     "end_time": "2021-02-12T04:22:27.855648Z",
     "start_time": "2021-02-12T04:22:26.445089Z"
    }
   },
   "outputs": [],
   "source": [
    "# train_test_split by sklearn \n",
    "X=fd_dlvry[basic_f0]\n",
    "y=fd_dlvry['Output']\n",
    "# from imblearn.under_sampling import NearMiss\n",
    "# nm=NearMiss()\n",
    "# Make data balanced\n",
    "from imblearn.over_sampling import RandomOverSampler\n",
    "nm=RandomOverSampler(0.5)\n",
    "X,y=nm.fit_sample(X,y)\n",
    "X_train, X_test, y_train, y_test = train_test_split(X, y, test_size = 0.33)"
   ]
  },
  {
   "cell_type": "code",
   "execution_count": 28,
   "metadata": {
    "ExecuteTime": {
     "end_time": "2021-02-12T04:22:27.891168Z",
     "start_time": "2021-02-12T04:22:27.855648Z"
    }
   },
   "outputs": [
    {
     "data": {
      "text/plain": [
       "1    301\n",
       "0     87\n",
       "Name: Output, dtype: int64"
      ]
     },
     "execution_count": 28,
     "metadata": {},
     "output_type": "execute_result"
    }
   ],
   "source": [
    "fd_dlvry['Output'].value_counts()"
   ]
  },
  {
   "cell_type": "code",
   "execution_count": 29,
   "metadata": {
    "ExecuteTime": {
     "end_time": "2021-02-12T04:22:28.054688Z",
     "start_time": "2021-02-12T04:22:27.895164Z"
    }
   },
   "outputs": [
    {
     "data": {
      "text/plain": [
       "((451, 9), (451,))"
      ]
     },
     "execution_count": 29,
     "metadata": {},
     "output_type": "execute_result"
    }
   ],
   "source": [
    "X.shape,y.shape"
   ]
  },
  {
   "cell_type": "code",
   "execution_count": 30,
   "metadata": {
    "ExecuteTime": {
     "end_time": "2021-02-12T04:22:29.152467Z",
     "start_time": "2021-02-12T04:22:28.058686Z"
    }
   },
   "outputs": [
    {
     "data": {
      "image/png": "[encoded data removed]",
      "text/plain": [
       "<Figure size 432x288 with 1 Axes>"
      ]
     },
     "metadata": {
      "needs_background": "light"
     },
     "output_type": "display_data"
    }
   ],
   "source": [
    "#select best knneighbour find \n",
    "plt.figure()\n",
    "training_accuracy = []\n",
    "test_accuracy = []\n",
    "# try n_neighbors from 1 to 10\n",
    "neighbors_settings = range(1, 11)\n",
    "for i in neighbors_settings:\n",
    "    clf = KNeighborsClassifier(n_neighbors=i)\n",
    "    clf.fit(X_train, y_train)\n",
    "    training_accuracy.append(clf.score(X_train, y_train))\n",
    "    # record generalization accuracy\n",
    "    test_accuracy.append(clf.score(X_test, y_test))\n",
    "plt.plot(neighbors_settings,training_accuracy,label=\"training accuracy\")\n",
    "plt.plot(neighbors_settings,test_accuracy,label=\"test accuracy\")\n",
    "plt.ylabel(\"Accuracy\")\n",
    "plt.xlabel(\"n_neighbors\")\n",
    "plt.legend()\n",
    "\n",
    "plt.show()"
   ]
  },
  {
   "cell_type": "code",
   "execution_count": 31,
   "metadata": {
    "ExecuteTime": {
     "end_time": "2021-02-12T04:22:30.278705Z",
     "start_time": "2021-02-12T04:22:29.156469Z"
    }
   },
   "outputs": [
    {
     "data": {
      "image/png": "[encoded data removed]",
      "text/plain": [
       "<Figure size 432x288 with 1 Axes>"
      ]
     },
     "metadata": {
      "needs_background": "light"
     },
     "output_type": "display_data"
    }
   ],
   "source": [
    "# appropriate test size find \n",
    "plt.figure()\n",
    "training_accuracy = []\n",
    "test_accuracy = []\n",
    "# try n_neighbors from 1 to 10\n",
    "test_size= numpy.arange(0.1, 0.9,0.05)\n",
    "knn = KNeighborsClassifier(n_neighbors = 3,p=1)\n",
    "for i in test_size:\n",
    "    \n",
    "        X_train, X_test, y_train, y_test = train_test_split(X, y, test_size = i)\n",
    "        knn.fit(X_train, y_train)\n",
    "        training_accuracy.append(knn.score(X_test, y_test))\n",
    "        test_accuracy.append(knn.score(X_train, y_train))\n",
    "  \n",
    "\n",
    "    \n",
    "plt.plot(test_size,training_accuracy,label=\"training accuracy\")\n",
    "plt.plot(test_size,test_accuracy,label=\"test accuracy\")\n",
    "plt.ylabel(\"Accuracy\")\n",
    "plt.xlabel(\"test_size\")\n",
    "plt.legend()\n",
    "\n",
    "plt.show()"
   ]
  },
  {
   "cell_type": "code",
   "execution_count": 32,
   "metadata": {
    "ExecuteTime": {
     "end_time": "2021-02-12T04:22:30.292627Z",
     "start_time": "2021-02-12T04:22:30.278705Z"
    }
   },
   "outputs": [],
   "source": [
    "#split data\n",
    "X_train,X_test,y_train,y_test=train_test_split(X,y,test_size=0.25)"
   ]
  },
  {
   "cell_type": "code",
   "execution_count": 33,
   "metadata": {
    "ExecuteTime": {
     "end_time": "2021-02-12T04:22:30.438628Z",
     "start_time": "2021-02-12T04:22:30.296625Z"
    }
   },
   "outputs": [
    {
     "data": {
      "text/plain": [
       "0.8761061946902655"
      ]
     },
     "execution_count": 33,
     "metadata": {},
     "output_type": "execute_result"
    }
   ],
   "source": [
    "# fit data and perform the knn algo\n",
    "neigh = KNeighborsClassifier(n_neighbors=5,p=1)\n",
    "\n",
    "knn=neigh.fit(X_train,y_train)\n",
    "\n",
    "knn.score(X_test,y_test)\n"
   ]
  },
  {
   "cell_type": "code",
   "execution_count": 34,
   "metadata": {
    "ExecuteTime": {
     "end_time": "2021-02-12T04:22:30.545570Z",
     "start_time": "2021-02-12T04:22:30.443628Z"
    }
   },
   "outputs": [],
   "source": [
    "#y_pred for confusion matrix\n",
    "y_pred=knn.predict(X_test)"
   ]
  },
  {
   "cell_type": "code",
   "execution_count": 35,
   "metadata": {
    "ExecuteTime": {
     "end_time": "2021-02-12T04:22:30.653508Z",
     "start_time": "2021-02-12T04:22:30.549566Z"
    }
   },
   "outputs": [
    {
     "data": {
      "text/plain": [
       "array([[28,  4],\n",
       "       [10, 71]], dtype=int64)"
      ]
     },
     "execution_count": 35,
     "metadata": {},
     "output_type": "execute_result"
    }
   ],
   "source": [
    "#confusion matrix \n",
    "cf_matrix_n=confusion_matrix(y_test, y_pred)\n",
    "cf_matrix_n"
   ]
  },
  {
   "cell_type": "code",
   "execution_count": 36,
   "metadata": {
    "ExecuteTime": {
     "end_time": "2021-02-12T04:22:30.758448Z",
     "start_time": "2021-02-12T04:22:30.657505Z"
    },
    "scrolled": false
   },
   "outputs": [
    {
     "name": "stdout",
     "output_type": "stream",
     "text": [
      "              precision    recall  f1-score   support\n",
      "\n",
      "           0       0.74      0.88      0.80        32\n",
      "           1       0.95      0.88      0.91        81\n",
      "\n",
      "    accuracy                           0.88       113\n",
      "   macro avg       0.84      0.88      0.86       113\n",
      "weighted avg       0.89      0.88      0.88       113\n",
      "\n"
     ]
    }
   ],
   "source": [
    "#classification report \n",
    "print(classification_report(y_test,y_pred))"
   ]
  },
  {
   "cell_type": "code",
   "execution_count": 37,
   "metadata": {
    "ExecuteTime": {
     "end_time": "2021-02-12T04:22:31.233184Z",
     "start_time": "2021-02-12T04:22:30.761444Z"
    }
   },
   "outputs": [
    {
     "data": {
      "image/png": "[encoded data removed]",
      "text/plain": [
       "<Figure size 432x288 with 1 Axes>"
      ]
     },
     "metadata": {
      "needs_background": "light"
     },
     "output_type": "display_data"
    }
   ],
   "source": [
    "from sklearn.metrics import roc_curve\n",
    "fpr, tpr, thresholds=roc_curve(y_test, y_pred)\n",
    "AUC=round(metrics.auc(fpr, tpr),2)\n",
    "\n",
    "plt.plot([0,1], [0,1], linestyle='--', label='No Skill')\n",
    "plt.plot(fpr, tpr, marker='.', label=f'knn AUC={AUC}')\n",
    "# axis labels\n",
    "plt.xlabel('False Positive Rate')\n",
    "plt.ylabel('True Positive Rate')\n",
    "plt.legend()\n",
    "# show the plot\n",
    "plt.show()\n"
   ]
  },
  {
   "cell_type": "code",
   "execution_count": null,
   "metadata": {},
   "outputs": [],
   "source": []
  },
  {
   "cell_type": "markdown",
   "metadata": {
    "ExecuteTime": {
     "end_time": "2020-12-19T04:23:45.286574Z",
     "start_time": "2020-12-19T04:23:45.278579Z"
    }
   },
   "source": [
    "<b> Conclusion: </b>"
   ]
  },
  {
   "cell_type": "code",
   "execution_count": 38,
   "metadata": {
    "ExecuteTime": {
     "end_time": "2021-02-12T04:22:31.245171Z",
     "start_time": "2021-02-12T04:22:31.237173Z"
    }
   },
   "outputs": [
    {
     "data": {
      "text/plain": [
       "'Here weighted avg f1-score is good and AUC is greate but problems here Knn is not learning something\\nknn just use more memory space for perform operation and mostly features are categorical so noise affect\\non this algorithms\\n'"
      ]
     },
     "execution_count": 38,
     "metadata": {},
     "output_type": "execute_result"
    }
   ],
   "source": [
    "'''Here weighted avg f1-score is good and AUC is greate but problems here Knn is not learning something\n",
    "knn just use more memory space for perform operation and mostly features are categorical so noise affect\n",
    "on this algorithms\n",
    "'''"
   ]
  },
  {
   "cell_type": "markdown",
   "metadata": {
    "ExecuteTime": {
     "end_time": "2020-12-30T12:59:28.745150Z",
     "start_time": "2020-12-30T12:59:28.737155Z"
    }
   },
   "source": [
    "<b> Cross-Validation </b>"
   ]
  },
  {
   "cell_type": "code",
   "execution_count": 39,
   "metadata": {
    "ExecuteTime": {
     "end_time": "2021-02-12T04:22:31.582433Z",
     "start_time": "2021-02-12T04:22:31.250165Z"
    }
   },
   "outputs": [
    {
     "name": "stdout",
     "output_type": "stream",
     "text": [
      "mean:=0.8849573257467996 std :0.07473249127777068\n"
     ]
    }
   ],
   "source": [
    "#without StratifiedKFold \n",
    "Knn=KNeighborsClassifier(n_neighbors=5,p=1)\n",
    "score=cross_val_score(knn,X,y,cv=12)\n",
    "print(\"mean:=\"+str(score.mean()),\"std :\"+str(score.std()))"
   ]
  },
  {
   "cell_type": "code",
   "execution_count": 40,
   "metadata": {
    "ExecuteTime": {
     "end_time": "2021-02-12T04:22:31.854277Z",
     "start_time": "2021-02-12T04:22:31.590428Z"
    }
   },
   "outputs": [
    {
     "name": "stdout",
     "output_type": "stream",
     "text": [
      "List of possible accuracy: [0.868421052631579, 0.7368421052631579, 0.8947368421052632, 0.8157894736842105, 0.9210526315789473, 0.868421052631579, 0.9210526315789473, 0.8648648648648649, 0.8648648648648649, 0.9459459459459459, 0.8378378378378378, 0.9459459459459459]\n",
      "\n",
      "Maximum Accuracy That can be obtained from this model is: 94.5945945945946 %\n",
      "\n",
      "Minimum Accuracy: 73.68421052631578 %\n",
      "\n",
      "Average Accuracy That can be obtained from this model is:: 0.873814604077762\n",
      "\n",
      "Standard Deviation is: 0.056970422767758086\n"
     ]
    }
   ],
   "source": [
    "#with StratifiedKFold \n",
    "import numpy as np\n",
    "from sklearn.model_selection import StratifiedKFold \n",
    "skf = StratifiedKFold(n_splits=12, shuffle=True, random_state=1) \n",
    "lst_accu_stratified = [] \n",
    "\n",
    "for train_index, test_index in skf.split(X, y): \n",
    "    x_train_fold, x_test_fold = X.loc[train_index,:], X.loc[test_index,:] \n",
    "    y_train_fold, y_test_fold = y[train_index], y[test_index] \n",
    "    knn.fit(x_train_fold, y_train_fold) \n",
    "    lst_accu_stratified.append(knn.score(x_test_fold, y_test_fold))\n",
    "    \n",
    "    \n",
    "print('List of possible accuracy:', lst_accu_stratified) \n",
    "print('\\nMaximum Accuracy That can be obtained from this model is:', \n",
    "      max(lst_accu_stratified)*100, '%') \n",
    "print('\\nMinimum Accuracy:', \n",
    "      min(lst_accu_stratified)*100, '%') \n",
    "print('\\nAverage Accuracy That can be obtained from this model is::',np.mean(lst_accu_stratified)) \n",
    "print('\\nStandard Deviation is:',np.std(lst_accu_stratified)) "
   ]
  },
  {
   "cell_type": "markdown",
   "metadata": {},
   "source": [
    "# method 2: feature selection using sklearn "
   ]
  },
  {
   "cell_type": "code",
   "execution_count": 41,
   "metadata": {
    "ExecuteTime": {
     "end_time": "2021-02-12T04:22:32.070172Z",
     "start_time": "2021-02-12T04:22:31.858274Z"
    }
   },
   "outputs": [],
   "source": [
    "from sklearn.feature_selection import SelectKBest\n",
    "from sklearn.feature_selection import chi2,mutual_info_classif"
   ]
  },
  {
   "cell_type": "code",
   "execution_count": 42,
   "metadata": {
    "ExecuteTime": {
     "end_time": "2021-02-12T04:22:32.079149Z",
     "start_time": "2021-02-12T04:22:32.073153Z"
    }
   },
   "outputs": [],
   "source": [
    "def select_features(X_train, y_train, X_test):\n",
    "    fs = SelectKBest(score_func=chi2, k='all')\n",
    "    fs.fit(X_train, y_train)\n",
    "    X_train_fs = fs.transform(X_train)\n",
    "    X_test_fs = fs.transform(X_test)\n",
    "    return X_train_fs, X_test_fs, fs"
   ]
  },
  {
   "cell_type": "code",
   "execution_count": 43,
   "metadata": {
    "ExecuteTime": {
     "end_time": "2021-02-12T04:22:32.223067Z",
     "start_time": "2021-02-12T04:22:32.084146Z"
    }
   },
   "outputs": [
    {
     "data": {
      "text/plain": [
       "(451, 50)"
      ]
     },
     "execution_count": 43,
     "metadata": {},
     "output_type": "execute_result"
    }
   ],
   "source": [
    "#select feature \n",
    "l1=['latitude','longitude','Pin code','Output','Reviews']\n",
    "X=fd_dlvry[fd_dlvry.columns[~fd_dlvry.columns.isin(l1)]]\n",
    "y=fd_dlvry['Output']\n",
    "nm=RandomOverSampler(0.5)\n",
    "X,y=nm.fit_sample(X,y)\n",
    "X.shape"
   ]
  },
  {
   "cell_type": "code",
   "execution_count": 44,
   "metadata": {
    "ExecuteTime": {
     "end_time": "2021-02-12T04:22:32.337004Z",
     "start_time": "2021-02-12T04:22:32.227065Z"
    }
   },
   "outputs": [],
   "source": [
    "X_train, X_test, y_train, y_test = train_test_split(X, y, test_size=0.33, random_state=1)"
   ]
  },
  {
   "cell_type": "code",
   "execution_count": 45,
   "metadata": {
    "ExecuteTime": {
     "end_time": "2021-02-12T04:22:33.095204Z",
     "start_time": "2021-02-12T04:22:32.341000Z"
    }
   },
   "outputs": [
    {
     "name": "stdout",
     "output_type": "stream",
     "text": [
      "Feature 0: 10.648293\n",
      "Feature 1: 0.078317\n",
      "Feature 2: 16.802777\n",
      "Feature 3: 26.237400\n",
      "Feature 4: 11.890782\n",
      "Feature 5: 6.225110\n",
      "Feature 6: 0.138504\n",
      "Feature 7: 0.191377\n",
      "Feature 8: 1.064041\n",
      "Feature 9: 0.119076\n",
      "Feature 10: 0.013757\n",
      "Feature 11: 4.560020\n",
      "Feature 12: 0.021972\n",
      "Feature 13: 4.753241\n",
      "Feature 14: 2.199884\n",
      "Feature 15: 0.980704\n",
      "Feature 16: 9.685369\n",
      "Feature 17: 5.672560\n",
      "Feature 18: 3.133467\n",
      "Feature 19: 0.301532\n",
      "Feature 20: 31.139914\n",
      "Feature 21: 5.782612\n",
      "Feature 22: 11.461883\n",
      "Feature 23: 0.017582\n",
      "Feature 24: 14.180347\n",
      "Feature 25: 4.786544\n",
      "Feature 26: 10.439650\n",
      "Feature 27: 0.885452\n",
      "Feature 28: 0.225917\n",
      "Feature 29: 17.383996\n",
      "Feature 30: 0.200259\n",
      "Feature 31: 0.329776\n",
      "Feature 32: 0.326097\n",
      "Feature 33: 0.965501\n",
      "Feature 34: 20.344527\n",
      "Feature 35: 24.248745\n",
      "Feature 36: 9.474307\n",
      "Feature 37: 4.023048\n",
      "Feature 38: 9.093411\n",
      "Feature 39: 2.398576\n",
      "Feature 40: 0.724126\n",
      "Feature 41: 0.763631\n",
      "Feature 42: 2.221359\n",
      "Feature 43: 0.254132\n",
      "Feature 44: 0.238005\n",
      "Feature 45: 9.405965\n",
      "Feature 46: 19.055728\n",
      "Feature 47: 0.000347\n",
      "Feature 48: 8.309233\n",
      "Feature 49: 0.099929\n"
     ]
    },
    {
     "data": {
      "image/png": "[encoded data removed]",
      "text/plain": [
       "<Figure size 432x288 with 1 Axes>"
      ]
     },
     "metadata": {
      "needs_background": "light"
     },
     "output_type": "display_data"
    }
   ],
   "source": [
    "X_train_fs, X_test_fs, fs = select_features(X_train, y_train, X_test)\n",
    "for i in range(len(fs.scores_)):\n",
    "     print('Feature %d: %f' % (i, fs.scores_[i]))\n",
    "# plot the scores\n",
    "plt.bar([i for i in range(len(fs.scores_))], fs.scores_)\n",
    "\n",
    "plt.show()"
   ]
  },
  {
   "cell_type": "code",
   "execution_count": null,
   "metadata": {},
   "outputs": [],
   "source": []
  },
  {
   "cell_type": "code",
   "execution_count": 46,
   "metadata": {
    "ExecuteTime": {
     "end_time": "2021-02-12T04:22:33.110710Z",
     "start_time": "2021-02-12T04:22:33.099716Z"
    }
   },
   "outputs": [
    {
     "name": "stdout",
     "output_type": "stream",
     "text": [
      "Age\n",
      "Marital Status\n",
      "Occupation\n",
      "Monthly Income\n",
      "Self Cooking\n",
      "Late Delivery\n",
      "Bad past experience\n",
      "Unaffordable\n",
      "Delay of delivery person picking up food\n",
      "Order Time\n",
      "Maximum wait time\n",
      "Freshness \n"
     ]
    }
   ],
   "source": [
    "# Extract feature \n",
    "basic_f1=[]\n",
    "for i in range(len(fs.scores_)):\n",
    "    if(fs.scores_[i]>10): # set Thresold\n",
    "        print(X_test.columns[i])\n",
    "        basic_f1.append(X_test.columns[i])"
   ]
  },
  {
   "cell_type": "markdown",
   "metadata": {},
   "source": [
    "# KNN Algorithm "
   ]
  },
  {
   "cell_type": "code",
   "execution_count": 47,
   "metadata": {
    "ExecuteTime": {
     "end_time": "2021-02-12T04:22:33.224663Z",
     "start_time": "2021-02-12T04:22:33.117707Z"
    }
   },
   "outputs": [],
   "source": [
    "X=fd_dlvry[basic_f1]\n",
    "y=fd_dlvry['Output']\n",
    "\n",
    "nm=RandomOverSampler()\n",
    "X,y=nm.fit_sample(X,y)"
   ]
  },
  {
   "cell_type": "code",
   "execution_count": 48,
   "metadata": {
    "ExecuteTime": {
     "end_time": "2021-02-12T04:22:33.322591Z",
     "start_time": "2021-02-12T04:22:33.227644Z"
    }
   },
   "outputs": [
    {
     "data": {
      "text/plain": [
       "(602, 12)"
      ]
     },
     "execution_count": 48,
     "metadata": {},
     "output_type": "execute_result"
    }
   ],
   "source": [
    "X.shape"
   ]
  },
  {
   "cell_type": "code",
   "execution_count": 49,
   "metadata": {
    "ExecuteTime": {
     "end_time": "2021-02-12T04:22:34.400742Z",
     "start_time": "2021-02-12T04:22:33.326585Z"
    },
    "code_folding": []
   },
   "outputs": [
    {
     "data": {
      "image/png": "[encoded data removed]",
      "text/plain": [
       "<Figure size 432x288 with 1 Axes>"
      ]
     },
     "metadata": {
      "needs_background": "light"
     },
     "output_type": "display_data"
    }
   ],
   "source": [
    "#neighbour find \n",
    "plt.figure()\n",
    "training_accuracy = []\n",
    "test_accuracy = []\n",
    "# try n_neighbors from 1 to 10\n",
    "neighbors_settings = range(1, 11)\n",
    "for i in neighbors_settings:\n",
    "    clf = KNeighborsClassifier(n_neighbors=i,p=1)\n",
    "    clf.fit(X_train, y_train)\n",
    "    training_accuracy.append(clf.score(X_train, y_train))\n",
    "    # record generalization accuracy\n",
    "    test_accuracy.append(clf.score(X_test, y_test))\n",
    "plt.plot(neighbors_settings,training_accuracy,label=\"training accuracy\")\n",
    "plt.plot(neighbors_settings,test_accuracy,label=\"test accuracy\")\n",
    "plt.ylabel(\"Accuracy\")\n",
    "plt.xlabel(\"n_neighbors\")\n",
    "plt.legend()\n",
    "\n",
    "plt.show()"
   ]
  },
  {
   "cell_type": "code",
   "execution_count": 50,
   "metadata": {
    "ExecuteTime": {
     "end_time": "2021-02-12T04:22:34.412734Z",
     "start_time": "2021-02-12T04:22:34.404740Z"
    },
    "code_folding": [
     0
    ]
   },
   "outputs": [],
   "source": [
    "# here some Extra work it's take long time to running\n",
    "# plt.figure()\n",
    "# training_accuracy = []\n",
    "# test_accuracy = []\n",
    "# # try n_neighbors from 1 to 10\n",
    "# test_size= numpy.arange(0.1, 0.9,0.05)\n",
    "# knn = KNeighborsClassifier(n_neighbors = 3)\n",
    "# for i in test_size:\n",
    "    \n",
    "    \n",
    "#     test_score = []\n",
    "#     train_score=[]\n",
    "#     for j in range(1,1000):\n",
    "#         X_train, X_test, y_train, y_test = train_test_split(X, y, test_size = i,random_state=6)\n",
    "#         knn.fit(X_train, y_train)\n",
    "#         test_score.append(knn.score(X_test, y_test))\n",
    "#         train_score.append(knn.score(X_train, y_train))\n",
    "  \n",
    "\n",
    "       \n",
    "#     training_accuracy.append(np.mean(train_score))\n",
    "#     # record generalization accuracy\n",
    "#     test_accuracy.append(np.mean(test_score))\n",
    "\n",
    "# plt.plot(test_size,training_accuracy,label=\"training accuracy\")\n",
    "# plt.plot(test_size,test_accuracy,label=\"test accuracy\")\n",
    "# plt.ylabel(\"Accuracy\")\n",
    "# plt.xlabel(\"test_size\")\n",
    "# plt.legend()\n",
    "\n",
    "# plt.show()"
   ]
  },
  {
   "cell_type": "code",
   "execution_count": 51,
   "metadata": {
    "ExecuteTime": {
     "end_time": "2021-02-12T04:22:35.953080Z",
     "start_time": "2021-02-12T04:22:34.417732Z"
    },
    "code_folding": []
   },
   "outputs": [
    {
     "data": {
      "image/png": "[encoded data removed]",
      "text/plain": [
       "<Figure size 432x288 with 1 Axes>"
      ]
     },
     "metadata": {
      "needs_background": "light"
     },
     "output_type": "display_data"
    }
   ],
   "source": [
    "# appropriate test size find \n",
    "plt.figure()\n",
    "training_accuracy = []\n",
    "test_accuracy = []\n",
    "# try n_neighbors from 1 to 10\n",
    "test_size= numpy.arange(0.1, 0.9,0.05)\n",
    "knn = KNeighborsClassifier(n_neighbors = 5)\n",
    "for i in test_size:\n",
    "    \n",
    "        X_train, X_test, y_train, y_test = train_test_split(X, y, test_size = i)\n",
    "        knn.fit(X_train, y_train)\n",
    "        training_accuracy.append(knn.score(X_train,y_train))\n",
    "        test_accuracy.append(knn.score(X_test,y_test))\n",
    "  \n",
    "\n",
    "    \n",
    "plt.plot(test_size,training_accuracy,label=\"training accuracy\")\n",
    "plt.plot(test_size,test_accuracy,label=\"test accuracy\")\n",
    "plt.ylabel(\"Accuracy\")\n",
    "plt.xlabel(\"test_size\")\n",
    "plt.legend()\n",
    "\n",
    "plt.show()"
   ]
  },
  {
   "cell_type": "code",
   "execution_count": 52,
   "metadata": {
    "ExecuteTime": {
     "end_time": "2021-02-12T04:22:36.015862Z",
     "start_time": "2021-02-12T04:22:35.958899Z"
    }
   },
   "outputs": [
    {
     "data": {
      "text/plain": [
       "0.7800829875518672"
      ]
     },
     "execution_count": 52,
     "metadata": {},
     "output_type": "execute_result"
    }
   ],
   "source": [
    "#split data into test data and train data\n",
    "X_train,X_test,y_train,y_test=train_test_split(X,y,test_size=0.4)\n",
    "\n",
    "neigh = KNeighborsClassifier(n_neighbors=5)\n",
    "\n",
    "knn=neigh.fit(X_train,y_train)\n",
    "\n",
    "knn.score(X_test,y_test)"
   ]
  },
  {
   "cell_type": "code",
   "execution_count": 53,
   "metadata": {
    "ExecuteTime": {
     "end_time": "2021-02-12T04:22:36.125279Z",
     "start_time": "2021-02-12T04:22:36.021859Z"
    }
   },
   "outputs": [],
   "source": [
    "y_pred=knn.predict(X_test)"
   ]
  },
  {
   "cell_type": "code",
   "execution_count": 54,
   "metadata": {
    "ExecuteTime": {
     "end_time": "2021-02-12T04:22:36.179249Z",
     "start_time": "2021-02-12T04:22:36.129275Z"
    }
   },
   "outputs": [
    {
     "data": {
      "text/plain": [
       "array([[ 88,  25],\n",
       "       [ 28, 100]], dtype=int64)"
      ]
     },
     "execution_count": 54,
     "metadata": {},
     "output_type": "execute_result"
    }
   ],
   "source": [
    "#confusion matrix \n",
    "cf_matrix_n=confusion_matrix(y_test, y_pred)\n",
    "cf_matrix_n"
   ]
  },
  {
   "cell_type": "code",
   "execution_count": 55,
   "metadata": {
    "ExecuteTime": {
     "end_time": "2021-02-12T04:22:36.263200Z",
     "start_time": "2021-02-12T04:22:36.185255Z"
    }
   },
   "outputs": [
    {
     "name": "stdout",
     "output_type": "stream",
     "text": [
      "              precision    recall  f1-score   support\n",
      "\n",
      "           0       0.76      0.78      0.77       113\n",
      "           1       0.80      0.78      0.79       128\n",
      "\n",
      "    accuracy                           0.78       241\n",
      "   macro avg       0.78      0.78      0.78       241\n",
      "weighted avg       0.78      0.78      0.78       241\n",
      "\n"
     ]
    }
   ],
   "source": [
    "#classification report\n",
    "print(classification_report(y_test,y_pred))"
   ]
  },
  {
   "cell_type": "code",
   "execution_count": 56,
   "metadata": {
    "ExecuteTime": {
     "end_time": "2021-02-12T04:22:36.701949Z",
     "start_time": "2021-02-12T04:22:36.269196Z"
    },
    "scrolled": true
   },
   "outputs": [
    {
     "data": {
      "image/png": "[encoded data removed]",
      "text/plain": [
       "<Figure size 432x288 with 1 Axes>"
      ]
     },
     "metadata": {
      "needs_background": "light"
     },
     "output_type": "display_data"
    }
   ],
   "source": [
    "from sklearn.metrics import roc_curve\n",
    "fpr, tpr, thresholds=roc_curve(y_test, y_pred)\n",
    "AUC=round(metrics.auc(fpr, tpr),2)\n",
    "\n",
    "plt.plot([0,1], [0,1], linestyle='--', label='No Skill')\n",
    "plt.plot(fpr, tpr, marker='.', label=f'knn AUC={AUC}')\n",
    "# axis labels\n",
    "plt.xlabel('False Positive Rate')\n",
    "plt.ylabel('True Positive Rate')\n",
    "plt.legend()\n",
    "# show the plot\n",
    "plt.show()\n"
   ]
  },
  {
   "cell_type": "markdown",
   "metadata": {},
   "source": [
    "<b> Conclusion:</b>"
   ]
  },
  {
   "cell_type": "code",
   "execution_count": 57,
   "metadata": {
    "ExecuteTime": {
     "end_time": "2021-02-12T04:22:36.714942Z",
     "start_time": "2021-02-12T04:22:36.705949Z"
    }
   },
   "outputs": [
    {
     "data": {
      "text/plain": [
       "'feature selection method affect our model,AUC decrease as compare to the first one'"
      ]
     },
     "execution_count": 57,
     "metadata": {},
     "output_type": "execute_result"
    }
   ],
   "source": [
    "'''feature selection method affect our model,AUC decrease as compare to the first one'''"
   ]
  },
  {
   "cell_type": "markdown",
   "metadata": {},
   "source": [
    "<b> Cross-Validation </b>"
   ]
  },
  {
   "cell_type": "code",
   "execution_count": 58,
   "metadata": {
    "ExecuteTime": {
     "end_time": "2021-02-12T04:22:37.066740Z",
     "start_time": "2021-02-12T04:22:36.719938Z"
    },
    "scrolled": true
   },
   "outputs": [
    {
     "name": "stdout",
     "output_type": "stream",
     "text": [
      "mean:=0.8223529411764706 std :0.05276003870324306\n"
     ]
    }
   ],
   "source": [
    "#without StratifiedKFold \n",
    "Knn=KNeighborsClassifier(n_neighbors=5,p=1)\n",
    "score=cross_val_score(knn,X,y,cv=12)\n",
    "print(\"mean:=\"+str(score.mean()),\"std :\"+str(score.std()))"
   ]
  },
  {
   "cell_type": "code",
   "execution_count": 59,
   "metadata": {
    "ExecuteTime": {
     "end_time": "2021-02-12T04:22:37.365570Z",
     "start_time": "2021-02-12T04:22:37.071736Z"
    }
   },
   "outputs": [
    {
     "name": "stdout",
     "output_type": "stream",
     "text": [
      "List of possible accuracy: [0.7647058823529411, 0.8431372549019608, 0.8, 0.88, 0.76, 0.84, 0.8, 0.78, 0.74, 0.9, 0.88, 0.88]\n",
      "\n",
      "Maximum Accuracy That can be obtained from this model is: 90.0 %\n",
      "\n",
      "Minimum Accuracy: 74.0 %\n",
      "\n",
      "Average Accuracy That can be obtained from this model is:: 0.8223202614379087\n",
      "\n",
      "Standard Deviation is: 0.05285843408977901\n"
     ]
    }
   ],
   "source": [
    "#with StratifiedKFold \n",
    "import numpy as np\n",
    "from sklearn.model_selection import StratifiedKFold \n",
    "skf = StratifiedKFold(n_splits=12, shuffle=True, random_state=1) \n",
    "lst_accu_stratified = [] \n",
    "\n",
    "for train_index, test_index in skf.split(X, y): \n",
    "    x_train_fold, x_test_fold = X.loc[train_index,:], X.loc[test_index,:] \n",
    "    y_train_fold, y_test_fold = y[train_index], y[test_index] \n",
    "    knn.fit(x_train_fold, y_train_fold) \n",
    "    lst_accu_stratified.append(knn.score(x_test_fold, y_test_fold))\n",
    "    \n",
    "    \n",
    "print('List of possible accuracy:', lst_accu_stratified) \n",
    "print('\\nMaximum Accuracy That can be obtained from this model is:', \n",
    "      max(lst_accu_stratified)*100, '%') \n",
    "print('\\nMinimum Accuracy:', \n",
    "      min(lst_accu_stratified)*100, '%') \n",
    "print('\\nAverage Accuracy That can be obtained from this model is::',np.mean(lst_accu_stratified)) \n",
    "print('\\nStandard Deviation is:',np.std(lst_accu_stratified)) "
   ]
  },
  {
   "cell_type": "markdown",
   "metadata": {},
   "source": [
    "#  Logistics Regression\n"
   ]
  },
  {
   "cell_type": "code",
   "execution_count": 60,
   "metadata": {
    "ExecuteTime": {
     "end_time": "2021-02-12T04:22:37.376563Z",
     "start_time": "2021-02-12T04:22:37.370568Z"
    }
   },
   "outputs": [],
   "source": [
    "from sklearn.linear_model import LogisticRegression"
   ]
  },
  {
   "cell_type": "code",
   "execution_count": 61,
   "metadata": {
    "ExecuteTime": {
     "end_time": "2021-02-12T04:22:37.453517Z",
     "start_time": "2021-02-12T04:22:37.381562Z"
    }
   },
   "outputs": [],
   "source": [
    "# Here we are using  both method for feature selection  means we takes union both feature union\n",
    "\n",
    "f_feature=list(set(basic_f0).union(set(basic_f1)))"
   ]
  },
  {
   "cell_type": "code",
   "execution_count": 62,
   "metadata": {
    "ExecuteTime": {
     "end_time": "2021-02-12T04:22:37.531474Z",
     "start_time": "2021-02-12T04:22:37.457517Z"
    }
   },
   "outputs": [
    {
     "data": {
      "text/plain": [
       "['Time saving',\n",
       " 'Order Time',\n",
       " 'Good Food quality',\n",
       " 'Delay of delivery person picking up food',\n",
       " 'Marital Status',\n",
       " 'Ease and convenient',\n",
       " 'Maximum wait time',\n",
       " 'Self Cooking',\n",
       " 'Bad past experience',\n",
       " 'Late Delivery',\n",
       " 'More restaurant choices',\n",
       " 'Good Tracking system',\n",
       " 'Unaffordable',\n",
       " 'Monthly Income',\n",
       " 'Occupation',\n",
       " 'Freshness ',\n",
       " 'More Offers and Discount',\n",
       " 'Age',\n",
       " 'Easy Payment option']"
      ]
     },
     "execution_count": 62,
     "metadata": {},
     "output_type": "execute_result"
    }
   ],
   "source": [
    "f_feature"
   ]
  },
  {
   "cell_type": "code",
   "execution_count": 63,
   "metadata": {
    "ExecuteTime": {
     "end_time": "2021-02-12T04:22:37.607430Z",
     "start_time": "2021-02-12T04:22:37.537472Z"
    }
   },
   "outputs": [],
   "source": [
    "# Now we need to use some domain knowlegde for selecting feature \n",
    "'''Group 1: {'Ease and convenient','Easy Payment option'}\n",
    "   Group 2 :{'Order Time','Time saving','Delay of delivery person picking up food','Maximum wait time'}'''\n",
    "f_feature=['Ease and convenient','Self Cooking','Maximum wait time','More restaurant choices',\n",
    " 'Unaffordable','More Offers and Discount','Good Food quality','Good Tracking system','Age','Bad past experience']"
   ]
  },
  {
   "cell_type": "code",
   "execution_count": 64,
   "metadata": {
    "ExecuteTime": {
     "end_time": "2021-02-12T04:22:37.707377Z",
     "start_time": "2021-02-12T04:22:37.611429Z"
    }
   },
   "outputs": [],
   "source": [
    "#select X,y \n",
    "\n",
    "X=fd_dlvry[f_feature]\n",
    "y=fd_dlvry['Output']\n",
    "from imblearn.under_sampling import NearMiss\n",
    "# nm=NearMiss()\n",
    "#try to making data balnaced \n",
    "nm=RandomOverSampler()\n",
    "X,y=nm.fit_sample(X,y)\n",
    "\n",
    "X_train, X_test, y_train, y_test = train_test_split(X, y, test_size = 0.33)"
   ]
  },
  {
   "cell_type": "code",
   "execution_count": 65,
   "metadata": {
    "ExecuteTime": {
     "end_time": "2021-02-12T04:22:37.796328Z",
     "start_time": "2021-02-12T04:22:37.711371Z"
    }
   },
   "outputs": [
    {
     "data": {
      "text/plain": [
       "(602, 10)"
      ]
     },
     "execution_count": 65,
     "metadata": {},
     "output_type": "execute_result"
    }
   ],
   "source": [
    "X.shape"
   ]
  },
  {
   "cell_type": "code",
   "execution_count": 66,
   "metadata": {
    "ExecuteTime": {
     "end_time": "2021-02-12T04:22:37.872279Z",
     "start_time": "2021-02-12T04:22:37.801329Z"
    }
   },
   "outputs": [
    {
     "data": {
      "text/plain": [
       "['Ease and convenient',\n",
       " 'Self Cooking',\n",
       " 'Maximum wait time',\n",
       " 'More restaurant choices',\n",
       " 'Unaffordable',\n",
       " 'More Offers and Discount',\n",
       " 'Good Food quality',\n",
       " 'Good Tracking system',\n",
       " 'Age',\n",
       " 'Bad past experience']"
      ]
     },
     "execution_count": 66,
     "metadata": {},
     "output_type": "execute_result"
    }
   ],
   "source": [
    "f_feature"
   ]
  },
  {
   "cell_type": "code",
   "execution_count": 67,
   "metadata": {
    "ExecuteTime": {
     "end_time": "2021-02-12T04:22:37.935246Z",
     "start_time": "2021-02-12T04:22:37.876279Z"
    }
   },
   "outputs": [],
   "source": [
    "Lg=LogisticRegression()"
   ]
  },
  {
   "cell_type": "code",
   "execution_count": 68,
   "metadata": {
    "ExecuteTime": {
     "end_time": "2021-02-12T04:23:17.159812Z",
     "start_time": "2021-02-12T04:22:37.957232Z"
    },
    "code_folding": []
   },
   "outputs": [
    {
     "data": {
      "image/png": "[encoded data removed]",
      "text/plain": [
       "<Figure size 432x288 with 1 Axes>"
      ]
     },
     "metadata": {
      "needs_background": "light"
     },
     "output_type": "display_data"
    }
   ],
   "source": [
    "#\n",
    "plt.figure()\n",
    "training_accuracy = []\n",
    "test_accuracy = []\n",
    "# try n_neighbors from 1 to 10\n",
    "test_size= numpy.arange(0.1, 0.9,0.05)\n",
    "\n",
    "for i in test_size:\n",
    "        t_s=[]\n",
    "        tn_=[]\n",
    "        for j in range(0,50):\n",
    "            X_train, X_test, y_train, y_test = train_test_split(X, y, test_size = i,random_state=np.random.randint(0,100))\n",
    "            Lg.fit(X_train, y_train)\n",
    "            \n",
    "            t_s.append(Lg.score(X_test,y_test))\n",
    "            tn_.append(Lg.score(X_train,y_train))\n",
    "        training_accuracy.append(np.mean(t_s))\n",
    "        test_accuracy.append(np.mean(tn_))\n",
    "\n",
    "\n",
    "    \n",
    "plt.plot(test_size,training_accuracy,label=\"training accuracy\")\n",
    "plt.plot(test_size,test_accuracy,label=\"test accuracy\")\n",
    "plt.ylabel(\"Accuracy\")\n",
    "plt.xlabel(\"test_size\")\n",
    "plt.legend()\n",
    "\n",
    "plt.show()\n",
    "\n",
    "\n"
   ]
  },
  {
   "cell_type": "code",
   "execution_count": 69,
   "metadata": {
    "ExecuteTime": {
     "end_time": "2021-02-12T04:23:17.215395Z",
     "start_time": "2021-02-12T04:23:17.165805Z"
    }
   },
   "outputs": [
    {
     "data": {
      "text/plain": [
       "0.7292817679558011"
      ]
     },
     "execution_count": 69,
     "metadata": {},
     "output_type": "execute_result"
    }
   ],
   "source": [
    "#data split into train and test size \n",
    "X_train,X_test,y_train,y_test=train_test_split(X,y,test_size=0.3)\n",
    "Lg.fit(X_train,y_train)\n",
    "Lg.score(X_test,y_test)"
   ]
  },
  {
   "cell_type": "code",
   "execution_count": 70,
   "metadata": {
    "ExecuteTime": {
     "end_time": "2021-02-12T04:23:17.307102Z",
     "start_time": "2021-02-12T04:23:17.218909Z"
    }
   },
   "outputs": [],
   "source": [
    "y_pred=Lg.predict(X_test)"
   ]
  },
  {
   "cell_type": "code",
   "execution_count": 71,
   "metadata": {
    "ExecuteTime": {
     "end_time": "2021-02-12T04:23:17.391261Z",
     "start_time": "2021-02-12T04:23:17.312098Z"
    }
   },
   "outputs": [
    {
     "data": {
      "text/plain": [
       "array([[66, 25],\n",
       "       [24, 66]], dtype=int64)"
      ]
     },
     "execution_count": 71,
     "metadata": {},
     "output_type": "execute_result"
    }
   ],
   "source": [
    "cf_matrix=confusion_matrix(y_test, y_pred)\n",
    "cf_matrix"
   ]
  },
  {
   "cell_type": "code",
   "execution_count": 72,
   "metadata": {
    "ExecuteTime": {
     "end_time": "2021-02-12T04:23:17.505908Z",
     "start_time": "2021-02-12T04:23:17.398242Z"
    }
   },
   "outputs": [
    {
     "name": "stdout",
     "output_type": "stream",
     "text": [
      "              precision    recall  f1-score   support\n",
      "\n",
      "           0       0.73      0.73      0.73        91\n",
      "           1       0.73      0.73      0.73        90\n",
      "\n",
      "    accuracy                           0.73       181\n",
      "   macro avg       0.73      0.73      0.73       181\n",
      "weighted avg       0.73      0.73      0.73       181\n",
      "\n"
     ]
    }
   ],
   "source": [
    "print(classification_report(y_test,y_pred))"
   ]
  },
  {
   "cell_type": "code",
   "execution_count": 73,
   "metadata": {
    "ExecuteTime": {
     "end_time": "2021-02-12T04:23:18.225301Z",
     "start_time": "2021-02-12T04:23:17.508907Z"
    },
    "scrolled": true
   },
   "outputs": [
    {
     "data": {
      "image/png": "[encoded data removed]",
      "text/plain": [
       "<Figure size 720x432 with 1 Axes>"
      ]
     },
     "metadata": {
      "needs_background": "light"
     },
     "output_type": "display_data"
    }
   ],
   "source": [
    "thresolds = [0.2,0.3,0.4,0.5,0.55,0.6,0.62,0.65,0.7,0.8]\n",
    "plt.figure(figsize=(10,6))\n",
    "for i in thresolds:\n",
    "    y_pred_proba = (Lg.predict_proba(X_test)[:,1]>=i).astype(int)\n",
    "    fpr, tpr, m= metrics.roc_curve(y_test,  y_pred_proba)\n",
    "    auc = metrics.roc_auc_score(y_test, y_pred_proba)\n",
    "    plt.plot(fpr,tpr,label=f\"data 1, auc={auc} thresold={i}\")\n",
    "    plt.legend(loc=4)\n",
    "\n",
    "\n",
    "\n",
    "plt.xlabel('fpr')\n",
    "plt.ylabel('tpr')\n",
    "plt.show()"
   ]
  },
  {
   "cell_type": "code",
   "execution_count": 74,
   "metadata": {
    "ExecuteTime": {
     "end_time": "2021-02-12T04:23:18.240293Z",
     "start_time": "2021-02-12T04:23:18.228297Z"
    }
   },
   "outputs": [
    {
     "data": {
      "text/plain": [
       "'In Knn weighted avg f1-score is good and AUC is great but problems in Knn is not learning something\\nknn just use more memory space for perform operation and mostly features are categorical so noise affect\\non this algorithms. Here we can see if we set thresold 0.65 in Logistics regression we get better model  and here algorithms \\nsomething learn \\n'"
      ]
     },
     "execution_count": 74,
     "metadata": {},
     "output_type": "execute_result"
    }
   ],
   "source": [
    "'''In Knn weighted avg f1-score is good and AUC is great but problems in Knn is not learning something\n",
    "knn just use more memory space for perform operation and mostly features are categorical so noise affect\n",
    "on this algorithms. Here we can see if we set thresold 0.65 in Logistics regression we get better model  and here algorithms \n",
    "something learn \n",
    "'''"
   ]
  },
  {
   "cell_type": "markdown",
   "metadata": {},
   "source": [
    "<b> Cross-Validation </b>"
   ]
  },
  {
   "cell_type": "code",
   "execution_count": 75,
   "metadata": {
    "ExecuteTime": {
     "end_time": "2021-02-12T04:23:18.621655Z",
     "start_time": "2021-02-12T04:23:18.244288Z"
    }
   },
   "outputs": [
    {
     "name": "stdout",
     "output_type": "stream",
     "text": [
      "List of possible accuracy: [0.73770492 0.81967213 0.83333333 0.85       0.71666667 0.73333333\n",
      " 0.8        0.76666667 0.73333333 0.7       ]\n",
      "\n",
      "Maximum Accuracy That can be obtained from this model is: 85.0 %\n",
      "\n",
      "Minimum Accuracy: 74.0 %\n",
      "\n",
      "Average Accuracy That can be obtained from this model is:: 0.7690710382513661\n",
      "\n",
      "Standard Deviation is: 0.05025656055507464\n"
     ]
    }
   ],
   "source": [
    "score=cross_val_score(Lg,X,y,cv=10)\n",
    "print('List of possible accuracy:', score) \n",
    "print('\\nMaximum Accuracy That can be obtained from this model is:', \n",
    "      max(score)*100, '%') \n",
    "print('\\nMinimum Accuracy:', \n",
    "      min(lst_accu_stratified)*100, '%') \n",
    "print('\\nAverage Accuracy That can be obtained from this model is::',np.mean(score)) \n",
    "print('\\nStandard Deviation is:',np.std(score)) "
   ]
  },
  {
   "cell_type": "code",
   "execution_count": 76,
   "metadata": {
    "ExecuteTime": {
     "end_time": "2021-02-12T04:23:19.047175Z",
     "start_time": "2021-02-12T04:23:18.625655Z"
    }
   },
   "outputs": [
    {
     "name": "stdout",
     "output_type": "stream",
     "text": [
      "List of possible accuracy: [0.6862745098039216, 0.7647058823529411, 0.86, 0.74, 0.78, 0.76, 0.7, 0.8, 0.76, 0.76, 0.88, 0.82]\n",
      "\n",
      "Maximum Accuracy That can be obtained from this model is: 88.0 %\n",
      "\n",
      "Minimum Accuracy: 68.62745098039215 %\n",
      "\n",
      "Average Accuracy That can be obtained from this model is:: 0.7759150326797385\n",
      "\n",
      " Median Accuracy That can be obtained from this model is:: 0.7623529411764706\n",
      "\n",
      "Standard Deviation is: 0.055089422798305865\n"
     ]
    }
   ],
   "source": [
    "import numpy as np\n",
    "from sklearn.model_selection import StratifiedKFold \n",
    "skf = StratifiedKFold(n_splits=12, shuffle=True, random_state=1) \n",
    "lst_accu_stratified = [] \n",
    "\n",
    "for train_index, test_index in skf.split(X, y): \n",
    "    x_train_fold, x_test_fold = X.loc[train_index,:], X.loc[test_index,:] \n",
    "    y_train_fold, y_test_fold = y[train_index], y[test_index] \n",
    "    Lg.fit(x_train_fold, y_train_fold) \n",
    "    lst_accu_stratified.append(Lg.score(x_test_fold, y_test_fold))\n",
    "    \n",
    "    \n",
    "print('List of possible accuracy:', lst_accu_stratified) \n",
    "print('\\nMaximum Accuracy That can be obtained from this model is:', \n",
    "      max(lst_accu_stratified)*100, '%') \n",
    "print('\\nMinimum Accuracy:', \n",
    "      min(lst_accu_stratified)*100, '%') \n",
    "print('\\nAverage Accuracy That can be obtained from this model is::',np.mean(lst_accu_stratified)) \n",
    "print('\\n Median Accuracy That can be obtained from this model is::',np.median(lst_accu_stratified)) \n",
    "print('\\nStandard Deviation is:',np.std(lst_accu_stratified)) "
   ]
  },
  {
   "cell_type": "code",
   "execution_count": 77,
   "metadata": {
    "ExecuteTime": {
     "end_time": "2021-02-12T04:23:19.213976Z",
     "start_time": "2021-02-12T04:23:19.051173Z"
    }
   },
   "outputs": [
    {
     "data": {
      "text/plain": [
       "array([0.73480663, 0.77348066, 0.75138122, 0.82320442, 0.77900552])"
      ]
     },
     "execution_count": 77,
     "metadata": {},
     "output_type": "execute_result"
    }
   ],
   "source": [
    "from sklearn.model_selection import ShuffleSplit\n",
    "cv = ShuffleSplit(n_splits=5, test_size=0.3, random_state=0)\n",
    "cross_val_score(Lg, X, y, cv=cv)"
   ]
  },
  {
   "cell_type": "markdown",
   "metadata": {},
   "source": [
    "# DecisionTree (feature selection with both method)  "
   ]
  },
  {
   "cell_type": "code",
   "execution_count": 78,
   "metadata": {
    "ExecuteTime": {
     "end_time": "2021-02-12T04:23:19.250380Z",
     "start_time": "2021-02-12T04:23:19.218509Z"
    }
   },
   "outputs": [
    {
     "data": {
      "text/plain": [
       "1    301\n",
       "0     87\n",
       "Name: Output, dtype: int64"
      ]
     },
     "execution_count": 78,
     "metadata": {},
     "output_type": "execute_result"
    }
   ],
   "source": [
    "X=fd_dlvry[f_feature]\n",
    "y=fd_dlvry['Output']\n",
    "nm=RandomOverSampler() # try to making data balanced \n",
    "X,y=nm.fit_sample(X,y)\n",
    "fd_dlvry['Output'].value_counts()"
   ]
  },
  {
   "cell_type": "code",
   "execution_count": 79,
   "metadata": {
    "ExecuteTime": {
     "end_time": "2021-02-12T04:23:19.474075Z",
     "start_time": "2021-02-12T04:23:19.254378Z"
    }
   },
   "outputs": [
    {
     "data": {
      "text/plain": [
       "DecisionTreeClassifier(max_depth=6, min_samples_leaf=2, min_samples_split=4,\n",
       "                       random_state=0)"
      ]
     },
     "execution_count": 79,
     "metadata": {},
     "output_type": "execute_result"
    }
   ],
   "source": [
    "X_train, X_test, y_train, y_test = train_test_split(X, y, test_size = 0.33)\n",
    "clf=DecisionTreeClassifier(random_state=0,max_depth=6,min_samples_leaf=2,min_samples_split=4)\n",
    "clf.fit(X,y)"
   ]
  },
  {
   "cell_type": "code",
   "execution_count": 80,
   "metadata": {
    "ExecuteTime": {
     "end_time": "2021-02-12T04:23:19.494063Z",
     "start_time": "2021-02-12T04:23:19.478073Z"
    }
   },
   "outputs": [
    {
     "data": {
      "text/plain": [
       "0.9296482412060302"
      ]
     },
     "execution_count": 80,
     "metadata": {},
     "output_type": "execute_result"
    }
   ],
   "source": [
    "clf.score(X_test,y_test)"
   ]
  },
  {
   "cell_type": "code",
   "execution_count": 81,
   "metadata": {
    "ExecuteTime": {
     "end_time": "2021-02-12T04:23:19.586965Z",
     "start_time": "2021-02-12T04:23:19.498062Z"
    }
   },
   "outputs": [
    {
     "data": {
      "text/plain": [
       "array([1, 0, 0, 1, 1, 1, 1, 1, 1, 1, 0, 0, 0, 1, 0, 0, 1, 1, 1, 0, 1, 1,\n",
       "       0, 1, 1, 0, 1, 0, 0, 0, 0, 1, 0, 1, 0, 0, 1, 1, 1, 1, 0, 1, 1, 0,\n",
       "       0, 1, 1, 0, 1, 0, 1, 0, 0, 0, 1, 0, 0, 1, 0, 1, 1, 0, 1, 1, 0, 1,\n",
       "       1, 1, 1, 0, 1, 0, 0, 1, 1, 0, 0, 1, 0, 1, 0, 1, 1, 0, 0, 1, 0, 1,\n",
       "       1, 1, 1, 1, 1, 1, 0, 1, 1, 1, 0, 1, 1, 1, 0, 1, 0, 1, 0, 1, 0, 0,\n",
       "       0, 0, 1, 0, 1, 1, 1, 0, 1, 0, 0, 1, 1, 1, 1, 0, 1, 1, 0, 0, 0, 0,\n",
       "       1, 1, 0, 1, 0, 1, 0, 1, 1, 0, 0, 1, 0, 0, 0, 1, 1, 0, 1, 0, 1, 0,\n",
       "       1, 0, 0, 1, 1, 0, 1, 0, 0, 1, 0, 0, 0, 1, 0, 0, 1, 0, 1, 1, 1, 1,\n",
       "       1, 0, 0, 0, 0, 1, 0, 1, 0, 0, 0, 1, 1, 0, 1, 1, 0, 1, 0, 1, 0, 0,\n",
       "       1])"
      ]
     },
     "execution_count": 81,
     "metadata": {},
     "output_type": "execute_result"
    }
   ],
   "source": [
    "y_pred=clf.predict(X_test)\n",
    "y_pred"
   ]
  },
  {
   "cell_type": "code",
   "execution_count": 82,
   "metadata": {
    "ExecuteTime": {
     "end_time": "2021-02-12T04:23:19.675072Z",
     "start_time": "2021-02-12T04:23:19.591970Z"
    }
   },
   "outputs": [
    {
     "name": "stdout",
     "output_type": "stream",
     "text": [
      "[[91 12]\n",
      " [ 2 94]]\n"
     ]
    }
   ],
   "source": [
    "print(confusion_matrix(y_test,y_pred))"
   ]
  },
  {
   "cell_type": "code",
   "execution_count": 83,
   "metadata": {
    "ExecuteTime": {
     "end_time": "2021-02-12T04:23:19.788989Z",
     "start_time": "2021-02-12T04:23:19.680054Z"
    },
    "scrolled": true
   },
   "outputs": [
    {
     "name": "stdout",
     "output_type": "stream",
     "text": [
      "              precision    recall  f1-score   support\n",
      "\n",
      "           0       0.98      0.88      0.93       103\n",
      "           1       0.89      0.98      0.93        96\n",
      "\n",
      "    accuracy                           0.93       199\n",
      "   macro avg       0.93      0.93      0.93       199\n",
      "weighted avg       0.93      0.93      0.93       199\n",
      "\n"
     ]
    }
   ],
   "source": [
    "print(classification_report(y_test,y_pred))"
   ]
  },
  {
   "cell_type": "code",
   "execution_count": 84,
   "metadata": {
    "ExecuteTime": {
     "end_time": "2021-02-12T04:23:20.044842Z",
     "start_time": "2021-02-12T04:23:19.791991Z"
    }
   },
   "outputs": [
    {
     "data": {
      "text/plain": [
       "array([0.90196078, 0.84313725, 0.9       , 0.88      , 0.86      ,\n",
       "       0.98      , 0.9       , 0.96      , 0.92      , 0.98      ,\n",
       "       0.86      , 0.96      ])"
      ]
     },
     "execution_count": 84,
     "metadata": {},
     "output_type": "execute_result"
    }
   ],
   "source": [
    "cross_val_score(clf, X, y, cv=12)"
   ]
  },
  {
   "cell_type": "code",
   "execution_count": 85,
   "metadata": {
    "ExecuteTime": {
     "end_time": "2021-02-12T04:23:20.248807Z",
     "start_time": "2021-02-12T04:23:20.048844Z"
    }
   },
   "outputs": [
    {
     "name": "stdout",
     "output_type": "stream",
     "text": [
      "List of possible accuracy: [0.7450980392156863, 0.7843137254901961, 0.84, 0.8, 0.8, 0.78, 0.8, 0.86, 0.8, 0.72, 0.82, 0.8]\n",
      "\n",
      "Maximum Accuracy That can be obtained from this model is: 86.0 %\n",
      "\n",
      "Minimum Accuracy: 72.0 %\n",
      "\n",
      "Average Accuracy That can be obtained from this model is:: 0.7957843137254903\n",
      "\n",
      " Median Accuracy That can be obtained from this model is:: 0.8\n",
      "\n",
      "Standard Deviation is: 0.03587829006606706\n"
     ]
    }
   ],
   "source": [
    "lst_accu_stratified = [] \n",
    "\n",
    "for train_index, test_index in skf.split(X, y): \n",
    "    x_train_fold, x_test_fold = X.loc[train_index,:], X.loc[test_index,:] \n",
    "    y_train_fold, y_test_fold = y[train_index], y[test_index] \n",
    "    clf.fit(x_train_fold, y_train_fold) \n",
    "    lst_accu_stratified.append(Lg.score(x_test_fold, y_test_fold))\n",
    "    \n",
    "    \n",
    "print('List of possible accuracy:', lst_accu_stratified) \n",
    "print('\\nMaximum Accuracy That can be obtained from this model is:', \n",
    "      max(lst_accu_stratified)*100, '%') \n",
    "print('\\nMinimum Accuracy:', \n",
    "      min(lst_accu_stratified)*100, '%') \n",
    "print('\\nAverage Accuracy That can be obtained from this model is::',np.mean(lst_accu_stratified)) \n",
    "print('\\n Median Accuracy That can be obtained from this model is::',np.median(lst_accu_stratified)) \n",
    "print('\\nStandard Deviation is:',np.std(lst_accu_stratified)) "
   ]
  },
  {
   "cell_type": "code",
   "execution_count": 86,
   "metadata": {
    "ExecuteTime": {
     "end_time": "2021-02-12T04:23:23.030724Z",
     "start_time": "2021-02-12T04:23:20.252811Z"
    }
   },
   "outputs": [
    {
     "data": {
      "text/plain": [
       "'gini.png'"
      ]
     },
     "execution_count": 86,
     "metadata": {},
     "output_type": "execute_result"
    }
   ],
   "source": [
    "import graphviz\n",
    "import sklearn.tree as tree\n",
    "# DOT data\n",
    "dot_data = tree.export_graphviz(clf, out_file=None, \n",
    "                                feature_names=X.columns,  \n",
    "                                class_names='01',\n",
    "                                filled=True)\n",
    "\n",
    "# # Draw graph\n",
    "graph = graphviz.Source(dot_data,format=\"png\") \n",
    "graph.render('gini')\n",
    "# graph"
   ]
  },
  {
   "cell_type": "markdown",
   "metadata": {},
   "source": [
    "# Feature selection with Decision Tree "
   ]
  },
  {
   "cell_type": "code",
   "execution_count": 87,
   "metadata": {
    "ExecuteTime": {
     "end_time": "2021-02-12T04:23:23.092695Z",
     "start_time": "2021-02-12T04:23:23.035729Z"
    }
   },
   "outputs": [],
   "source": [
    "fd_dlvry=pd.read_csv('../../data/Banglore_food_delivery/onlinedeliverydata.csv')\n",
    "\n",
    "fd_dlvry.drop(['Pin code','longitude','latitude','Reviews'],axis=1,inplace=True)\n",
    "\n",
    "fd_dlvry['Output']=fd_dlvry['Output'].replace({'Yes':1,'No':0})"
   ]
  },
  {
   "cell_type": "code",
   "execution_count": 88,
   "metadata": {
    "ExecuteTime": {
     "end_time": "2021-02-12T04:23:23.203951Z",
     "start_time": "2021-02-12T04:23:23.095692Z"
    }
   },
   "outputs": [
    {
     "data": {
      "text/plain": [
       "(388, 223)"
      ]
     },
     "execution_count": 88,
     "metadata": {},
     "output_type": "execute_result"
    }
   ],
   "source": [
    "fd_ori=fd_dlvry.copy(deep=True)\n",
    "df=pd.get_dummies(fd_dlvry)\n",
    "df.shape"
   ]
  },
  {
   "cell_type": "code",
   "execution_count": 89,
   "metadata": {
    "ExecuteTime": {
     "end_time": "2021-02-12T04:23:23.215927Z",
     "start_time": "2021-02-12T04:23:23.207931Z"
    }
   },
   "outputs": [],
   "source": [
    "l1=[]\n",
    "for i in df.columns:\n",
    "    if(i!='Output'):\n",
    "        l1.append(i)\n",
    "    "
   ]
  },
  {
   "cell_type": "code",
   "execution_count": 90,
   "metadata": {
    "ExecuteTime": {
     "end_time": "2021-02-12T04:23:23.465968Z",
     "start_time": "2021-02-12T04:23:23.220924Z"
    }
   },
   "outputs": [],
   "source": [
    "X=df[l1]\n",
    "y=df['Output']\n",
    "nm=RandomOverSampler()\n",
    "X,y=nm.fit_sample(X,y)\n"
   ]
  },
  {
   "cell_type": "code",
   "execution_count": 91,
   "metadata": {
    "ExecuteTime": {
     "end_time": "2021-02-12T04:23:23.520903Z",
     "start_time": "2021-02-12T04:23:23.469929Z"
    }
   },
   "outputs": [
    {
     "data": {
      "text/plain": [
       "DecisionTreeClassifier(max_depth=6, min_samples_leaf=2, min_samples_split=4,\n",
       "                       random_state=0)"
      ]
     },
     "execution_count": 91,
     "metadata": {},
     "output_type": "execute_result"
    }
   ],
   "source": [
    "X_train, X_test, y_train, y_test = train_test_split(X, y, test_size = 0.33)\n",
    "clf=DecisionTreeClassifier(random_state=0,max_depth=6,min_samples_leaf=2,min_samples_split=4)\n",
    "clf.fit(X,y)"
   ]
  },
  {
   "cell_type": "code",
   "execution_count": 92,
   "metadata": {
    "ExecuteTime": {
     "end_time": "2021-02-12T04:23:23.572492Z",
     "start_time": "2021-02-12T04:23:23.525897Z"
    }
   },
   "outputs": [
    {
     "data": {
      "text/plain": [
       "0.9748743718592965"
      ]
     },
     "execution_count": 92,
     "metadata": {},
     "output_type": "execute_result"
    }
   ],
   "source": [
    "clf.score(X_test,y_test)"
   ]
  },
  {
   "cell_type": "code",
   "execution_count": 93,
   "metadata": {
    "ExecuteTime": {
     "end_time": "2021-02-12T04:23:23.668365Z",
     "start_time": "2021-02-12T04:23:23.576492Z"
    }
   },
   "outputs": [
    {
     "data": {
      "text/plain": [
       "array([0.        , 0.        , 0.        , 0.        , 0.        ,\n",
       "       0.02710328, 0.        , 0.        , 0.        , 0.        ,\n",
       "       0.05554075, 0.        , 0.        , 0.        , 0.        ,\n",
       "       0.        , 0.        , 0.        , 0.        , 0.        ,\n",
       "       0.        , 0.        , 0.        , 0.        , 0.        ,\n",
       "       0.        , 0.        , 0.        , 0.        , 0.        ,\n",
       "       0.        , 0.        , 0.        , 0.01027604, 0.        ,\n",
       "       0.        , 0.        , 0.        , 0.        , 0.        ,\n",
       "       0.        , 0.        , 0.        , 0.        , 0.43854729,\n",
       "       0.        , 0.        , 0.        , 0.        , 0.        ,\n",
       "       0.        , 0.        , 0.        , 0.        , 0.12868808,\n",
       "       0.        , 0.        , 0.        , 0.        , 0.        ,\n",
       "       0.        , 0.        , 0.        , 0.00075225, 0.        ,\n",
       "       0.        , 0.        , 0.        , 0.        , 0.        ,\n",
       "       0.        , 0.        , 0.        , 0.        , 0.        ,\n",
       "       0.        , 0.        , 0.        , 0.        , 0.        ,\n",
       "       0.        , 0.        , 0.        , 0.        , 0.        ,\n",
       "       0.        , 0.        , 0.        , 0.        , 0.0248867 ,\n",
       "       0.        , 0.        , 0.        , 0.        , 0.        ,\n",
       "       0.        , 0.        , 0.        , 0.        , 0.0256242 ,\n",
       "       0.        , 0.        , 0.        , 0.        , 0.03313929,\n",
       "       0.        , 0.        , 0.        , 0.08693623, 0.        ,\n",
       "       0.        , 0.        , 0.        , 0.        , 0.        ,\n",
       "       0.        , 0.        , 0.        , 0.        , 0.01296823,\n",
       "       0.        , 0.        , 0.        , 0.        , 0.        ,\n",
       "       0.        , 0.        , 0.        , 0.        , 0.        ,\n",
       "       0.        , 0.        , 0.        , 0.        , 0.        ,\n",
       "       0.        , 0.02239966, 0.        , 0.        , 0.        ,\n",
       "       0.        , 0.        , 0.        , 0.        , 0.        ,\n",
       "       0.        , 0.        , 0.        , 0.        , 0.        ,\n",
       "       0.        , 0.        , 0.        , 0.        , 0.        ,\n",
       "       0.        , 0.02474762, 0.        , 0.        , 0.        ,\n",
       "       0.        , 0.        , 0.        , 0.        , 0.        ,\n",
       "       0.        , 0.        , 0.        , 0.        , 0.        ,\n",
       "       0.        , 0.        , 0.        , 0.        , 0.        ,\n",
       "       0.        , 0.        , 0.00341967, 0.        , 0.        ,\n",
       "       0.        , 0.        , 0.        , 0.        , 0.        ,\n",
       "       0.        , 0.        , 0.01860744, 0.        , 0.        ,\n",
       "       0.        , 0.06994179, 0.00158808, 0.        , 0.        ,\n",
       "       0.        , 0.        , 0.        , 0.        , 0.        ,\n",
       "       0.        , 0.        , 0.        , 0.        , 0.        ,\n",
       "       0.        , 0.        , 0.        , 0.00329854, 0.        ,\n",
       "       0.        , 0.        , 0.        , 0.        , 0.        ,\n",
       "       0.        , 0.        , 0.        , 0.01153486, 0.        ,\n",
       "       0.        , 0.        ])"
      ]
     },
     "execution_count": 93,
     "metadata": {},
     "output_type": "execute_result"
    }
   ],
   "source": [
    "clf.feature_importances_"
   ]
  },
  {
   "cell_type": "code",
   "execution_count": 94,
   "metadata": {
    "ExecuteTime": {
     "end_time": "2021-02-12T04:23:23.750396Z",
     "start_time": "2021-02-12T04:23:23.672363Z"
    }
   },
   "outputs": [],
   "source": [
    "def feature_extract(clf,l1):\n",
    "    values = clf.feature_importances_\n",
    "    importances = [(l1[i], values[i]) for i in range(len(l1))]\n",
    "    importances.sort(reverse=True, key=lambda x:x[1])\n",
    "    l3=[]\n",
    "    for i in importances[:12]:\n",
    "        l3.append(i[0])\n",
    "    return l3\n",
    "\n",
    "    "
   ]
  },
  {
   "cell_type": "code",
   "execution_count": 95,
   "metadata": {
    "ExecuteTime": {
     "end_time": "2021-02-12T04:23:23.844608Z",
     "start_time": "2021-02-12T04:23:23.755391Z"
    }
   },
   "outputs": [
    {
     "data": {
      "text/plain": [
       "['Ease and convenient_Disagree',\n",
       " 'More restaurant choices_Disagree',\n",
       " 'Unaffordable_Agree',\n",
       " 'High Quality of package_Very Important',\n",
       " 'Occupation_Student',\n",
       " 'Unavailability_Disagree',\n",
       " 'Marital Status_Prefer not to say',\n",
       " 'Bad past experience_Disagree',\n",
       " 'Late Delivery_Disagree',\n",
       " 'Residence in busy location_Neutral',\n",
       " 'Missing item_Strongly agree',\n",
       " 'High Quality of package_Important']"
      ]
     },
     "execution_count": 95,
     "metadata": {},
     "output_type": "execute_result"
    }
   ],
   "source": [
    "feature_extract(clf,l1)"
   ]
  },
  {
   "cell_type": "code",
   "execution_count": 96,
   "metadata": {
    "ExecuteTime": {
     "end_time": "2021-02-12T04:23:24.034644Z",
     "start_time": "2021-02-12T04:23:23.844608Z"
    }
   },
   "outputs": [],
   "source": [
    "X=df[l1]\n",
    "y=df['Output']\n",
    "nm=RandomOverSampler()\n",
    "X,y=nm.fit_sample(X,y)\n"
   ]
  },
  {
   "cell_type": "code",
   "execution_count": 97,
   "metadata": {
    "ExecuteTime": {
     "end_time": "2021-02-12T04:23:24.079581Z",
     "start_time": "2021-02-12T04:23:24.034644Z"
    }
   },
   "outputs": [
    {
     "data": {
      "text/plain": [
       "DecisionTreeClassifier(max_depth=6, min_samples_leaf=2, min_samples_split=4,\n",
       "                       random_state=0)"
      ]
     },
     "execution_count": 97,
     "metadata": {},
     "output_type": "execute_result"
    }
   ],
   "source": [
    "X_train, X_test, y_train, y_test = train_test_split(X, y, test_size = 0.33)\n",
    "clf=DecisionTreeClassifier(random_state=0,max_depth=6,min_samples_leaf=2,min_samples_split=4)\n",
    "clf.fit(X,y)"
   ]
  },
  {
   "cell_type": "code",
   "execution_count": 98,
   "metadata": {
    "ExecuteTime": {
     "end_time": "2021-02-12T04:23:24.303049Z",
     "start_time": "2021-02-12T04:23:24.082575Z"
    }
   },
   "outputs": [
    {
     "data": {
      "text/plain": [
       "0.9798994974874372"
      ]
     },
     "execution_count": 98,
     "metadata": {},
     "output_type": "execute_result"
    }
   ],
   "source": [
    "clf.score(X_test,y_test)"
   ]
  },
  {
   "cell_type": "code",
   "execution_count": 99,
   "metadata": {
    "ExecuteTime": {
     "end_time": "2021-02-12T04:23:24.414684Z",
     "start_time": "2021-02-12T04:23:24.306046Z"
    }
   },
   "outputs": [
    {
     "data": {
      "text/plain": [
       "array([0, 1, 0, 0, 1, 0, 0, 1, 1, 1, 0, 1, 0, 0, 1, 1, 0, 0, 0, 0, 0, 0,\n",
       "       0, 0, 0, 0, 0, 1, 0, 0, 0, 1, 0, 1, 0, 0, 1, 1, 0, 1, 0, 0, 1, 0,\n",
       "       1, 1, 0, 0, 1, 0, 1, 1, 0, 0, 0, 1, 0, 1, 1, 0, 1, 1, 1, 1, 0, 1,\n",
       "       1, 0, 1, 1, 1, 1, 1, 0, 0, 0, 1, 0, 1, 0, 0, 1, 0, 0, 0, 1, 1, 1,\n",
       "       1, 1, 0, 0, 1, 0, 0, 1, 0, 0, 0, 1, 1, 0, 0, 1, 0, 1, 1, 1, 1, 0,\n",
       "       1, 0, 0, 0, 0, 0, 1, 0, 0, 0, 0, 1, 0, 1, 1, 1, 0, 1, 1, 1, 1, 1,\n",
       "       0, 1, 1, 0, 0, 1, 1, 0, 1, 1, 0, 1, 0, 1, 0, 1, 0, 1, 1, 1, 1, 0,\n",
       "       1, 1, 1, 0, 0, 1, 0, 1, 0, 0, 1, 0, 0, 1, 1, 1, 0, 0, 1, 0, 0, 1,\n",
       "       1, 1, 0, 0, 0, 1, 0, 0, 1, 0, 0, 0, 0, 0, 1, 0, 1, 0, 0, 0, 0, 0,\n",
       "       0], dtype=int64)"
      ]
     },
     "execution_count": 99,
     "metadata": {},
     "output_type": "execute_result"
    }
   ],
   "source": [
    "y_pred=clf.predict(X_test)\n",
    "y_pred"
   ]
  },
  {
   "cell_type": "code",
   "execution_count": 100,
   "metadata": {
    "ExecuteTime": {
     "end_time": "2021-02-12T04:23:24.478478Z",
     "start_time": "2021-02-12T04:23:24.418646Z"
    }
   },
   "outputs": [
    {
     "name": "stdout",
     "output_type": "stream",
     "text": [
      "[[104   1]\n",
      " [  3  91]]\n"
     ]
    }
   ],
   "source": [
    "print(confusion_matrix(y_test,y_pred))"
   ]
  },
  {
   "cell_type": "code",
   "execution_count": 101,
   "metadata": {
    "ExecuteTime": {
     "end_time": "2021-02-12T04:23:24.545032Z",
     "start_time": "2021-02-12T04:23:24.482049Z"
    }
   },
   "outputs": [
    {
     "name": "stdout",
     "output_type": "stream",
     "text": [
      "              precision    recall  f1-score   support\n",
      "\n",
      "           0       0.97      0.99      0.98       105\n",
      "           1       0.99      0.97      0.98        94\n",
      "\n",
      "    accuracy                           0.98       199\n",
      "   macro avg       0.98      0.98      0.98       199\n",
      "weighted avg       0.98      0.98      0.98       199\n",
      "\n"
     ]
    }
   ],
   "source": [
    "print(classification_report(y_test,y_pred))"
   ]
  },
  {
   "cell_type": "code",
   "execution_count": 102,
   "metadata": {
    "ExecuteTime": {
     "end_time": "2021-02-12T04:23:25.050644Z",
     "start_time": "2021-02-12T04:23:24.549031Z"
    }
   },
   "outputs": [
    {
     "name": "stdout",
     "output_type": "stream",
     "text": [
      "List of possible accuracy: [0.9607843137254902, 0.9215686274509803, 0.98, 0.94, 0.96, 0.9, 0.9, 0.9, 0.98, 0.88, 0.94, 0.94]\n",
      "\n",
      "Maximum Accuracy That can be obtained from this model is: 98.0 %\n",
      "\n",
      "Minimum Accuracy: 88.0 %\n",
      "\n",
      "Average Accuracy That can be obtained from this model is:: 0.9335294117647059\n",
      "\n",
      " Median Accuracy That can be obtained from this model is:: 0.94\n",
      "\n",
      "Standard Deviation is: 0.03197561707216874\n"
     ]
    }
   ],
   "source": [
    "lst_accu_stratified = [] \n",
    "x=0\n",
    "feature_common=pd.DataFrame()\n",
    "for train_index, test_index in skf.split(X, y): \n",
    "    x_train_fold, x_test_fold = X.loc[train_index,:], X.loc[test_index,:] \n",
    "    y_train_fold, y_test_fold = y[train_index], y[test_index] \n",
    "    clf.fit(x_train_fold, y_train_fold)\n",
    "    feature_common[x]=feature_extract(clf,l1)\n",
    "    x+=1\n",
    "    lst_accu_stratified.append(clf.score(x_test_fold, y_test_fold))\n",
    "    \n",
    "    \n",
    "print('List of possible accuracy:', lst_accu_stratified) \n",
    "print('\\nMaximum Accuracy That can be obtained from this model is:', \n",
    "      max(lst_accu_stratified)*100, '%') \n",
    "print('\\nMinimum Accuracy:', \n",
    "      min(lst_accu_stratified)*100, '%') \n",
    "print('\\nAverage Accuracy That can be obtained from this model is::',np.mean(lst_accu_stratified)) \n",
    "print('\\n Median Accuracy That can be obtained from this model is::',np.median(lst_accu_stratified)) \n",
    "print('\\nStandard Deviation is:',np.std(lst_accu_stratified)) "
   ]
  },
  {
   "cell_type": "code",
   "execution_count": 103,
   "metadata": {
    "ExecuteTime": {
     "end_time": "2021-02-12T04:23:25.105676Z",
     "start_time": "2021-02-12T04:23:25.050644Z"
    },
    "scrolled": true
   },
   "outputs": [
    {
     "data": {
      "text/html": [
       "<div>\n",
       "<style scoped>\n",
       "    .dataframe tbody tr th:only-of-type {\n",
       "        vertical-align: middle;\n",
       "    }\n",
       "\n",
       "    .dataframe tbody tr th {\n",
       "        vertical-align: top;\n",
       "    }\n",
       "\n",
       "    .dataframe thead th {\n",
       "        text-align: right;\n",
       "    }\n",
       "</style>\n",
       "<table border=\"1\" class=\"dataframe\">\n",
       "  <thead>\n",
       "    <tr style=\"text-align: right;\">\n",
       "      <th></th>\n",
       "      <th>0</th>\n",
       "      <th>1</th>\n",
       "      <th>2</th>\n",
       "      <th>3</th>\n",
       "      <th>4</th>\n",
       "      <th>5</th>\n",
       "      <th>6</th>\n",
       "      <th>7</th>\n",
       "      <th>8</th>\n",
       "      <th>9</th>\n",
       "      <th>10</th>\n",
       "      <th>11</th>\n",
       "    </tr>\n",
       "  </thead>\n",
       "  <tbody>\n",
       "    <tr>\n",
       "      <th>0</th>\n",
       "      <td>Ease and convenient_Disagree</td>\n",
       "      <td>Ease and convenient_Disagree</td>\n",
       "      <td>Ease and convenient_Disagree</td>\n",
       "      <td>Ease and convenient_Disagree</td>\n",
       "      <td>Ease and convenient_Disagree</td>\n",
       "      <td>Ease and convenient_Disagree</td>\n",
       "      <td>Ease and convenient_Disagree</td>\n",
       "      <td>Ease and convenient_Disagree</td>\n",
       "      <td>Ease and convenient_Disagree</td>\n",
       "      <td>Ease and convenient_Disagree</td>\n",
       "      <td>Ease and convenient_Disagree</td>\n",
       "      <td>Ease and convenient_Disagree</td>\n",
       "    </tr>\n",
       "    <tr>\n",
       "      <th>1</th>\n",
       "      <td>More restaurant choices_Disagree</td>\n",
       "      <td>Time saving_Disagree</td>\n",
       "      <td>More restaurant choices_Disagree</td>\n",
       "      <td>More restaurant choices_Disagree</td>\n",
       "      <td>More restaurant choices_Disagree</td>\n",
       "      <td>More restaurant choices_Disagree</td>\n",
       "      <td>More restaurant choices_Disagree</td>\n",
       "      <td>More restaurant choices_Disagree</td>\n",
       "      <td>More restaurant choices_Disagree</td>\n",
       "      <td>More restaurant choices_Disagree</td>\n",
       "      <td>Time saving_Disagree</td>\n",
       "      <td>More restaurant choices_Disagree</td>\n",
       "    </tr>\n",
       "    <tr>\n",
       "      <th>2</th>\n",
       "      <td>Unaffordable_Agree</td>\n",
       "      <td>Missing item_Neutral</td>\n",
       "      <td>Unaffordable_Agree</td>\n",
       "      <td>Unaffordable_Agree</td>\n",
       "      <td>Unaffordable_Agree</td>\n",
       "      <td>Unaffordable_Agree</td>\n",
       "      <td>Unaffordable_Agree</td>\n",
       "      <td>Unaffordable_Agree</td>\n",
       "      <td>Unaffordable_Agree</td>\n",
       "      <td>Unaffordable_Agree</td>\n",
       "      <td>Missing item_Neutral</td>\n",
       "      <td>Unaffordable_Agree</td>\n",
       "    </tr>\n",
       "    <tr>\n",
       "      <th>3</th>\n",
       "      <td>Occupation_Student</td>\n",
       "      <td>More restaurant choices_Disagree</td>\n",
       "      <td>Occupation_Student</td>\n",
       "      <td>Occupation_Student</td>\n",
       "      <td>Age</td>\n",
       "      <td>Occupation_Student</td>\n",
       "      <td>Occupation_Student</td>\n",
       "      <td>Occupation_Student</td>\n",
       "      <td>Occupation_Student</td>\n",
       "      <td>Occupation_Student</td>\n",
       "      <td>More restaurant choices_Disagree</td>\n",
       "      <td>Occupation_Student</td>\n",
       "    </tr>\n",
       "    <tr>\n",
       "      <th>4</th>\n",
       "      <td>Missing item_Neutral</td>\n",
       "      <td>Politeness_Very Important</td>\n",
       "      <td>Missing item_Neutral</td>\n",
       "      <td>Missing item_Neutral</td>\n",
       "      <td>High Quality of package_Very Important</td>\n",
       "      <td>High Quality of package_Very Important</td>\n",
       "      <td>Missing item_Neutral</td>\n",
       "      <td>Health Concern_Agree</td>\n",
       "      <td>Missing item_Neutral</td>\n",
       "      <td>High Quality of package_Very Important</td>\n",
       "      <td>Good Food quality_Agree</td>\n",
       "      <td>Missing item_Neutral</td>\n",
       "    </tr>\n",
       "    <tr>\n",
       "      <th>5</th>\n",
       "      <td>Maximum wait time_15 minutes</td>\n",
       "      <td>Good Taste _Important</td>\n",
       "      <td>Perference(P2)_ Sweets</td>\n",
       "      <td>Good Food quality_Agree</td>\n",
       "      <td>Unavailability_Disagree</td>\n",
       "      <td>Unavailability_Disagree</td>\n",
       "      <td>Unavailability_Disagree</td>\n",
       "      <td>Monthly Income_No Income</td>\n",
       "      <td>Maximum wait time_15 minutes</td>\n",
       "      <td>Unavailability_Disagree</td>\n",
       "      <td>Politeness_Very Important</td>\n",
       "      <td>Perference(P2)_ Sweets</td>\n",
       "    </tr>\n",
       "    <tr>\n",
       "      <th>6</th>\n",
       "      <td>Perference(P2)_ Sweets</td>\n",
       "      <td>Influence of time_No</td>\n",
       "      <td>Maximum wait time_15 minutes</td>\n",
       "      <td>Perference(P2)_ Sweets</td>\n",
       "      <td>Missing item_Disagree</td>\n",
       "      <td>Missing item_Disagree</td>\n",
       "      <td>Maximum wait time_15 minutes</td>\n",
       "      <td>Unavailability_Disagree</td>\n",
       "      <td>Unavailability_Disagree</td>\n",
       "      <td>Marital Status_Prefer not to say</td>\n",
       "      <td>Influence of time_No</td>\n",
       "      <td>Unavailability_Disagree</td>\n",
       "    </tr>\n",
       "    <tr>\n",
       "      <th>7</th>\n",
       "      <td>Unavailability_Disagree</td>\n",
       "      <td>Occupation_Student</td>\n",
       "      <td>Unavailability_Disagree</td>\n",
       "      <td>Late Delivery_Disagree</td>\n",
       "      <td>Marital Status_Prefer not to say</td>\n",
       "      <td>Marital Status_Prefer not to say</td>\n",
       "      <td>Perference(P2)_ Sweets</td>\n",
       "      <td>Late Delivery_Disagree</td>\n",
       "      <td>Perference(P2)_ Sweets</td>\n",
       "      <td>Meal(P1)_Breakfast</td>\n",
       "      <td>Unaffordable_Strongly disagree</td>\n",
       "      <td>Maximum wait time_15 minutes</td>\n",
       "    </tr>\n",
       "    <tr>\n",
       "      <th>8</th>\n",
       "      <td>Late Delivery_Disagree</td>\n",
       "      <td>Wrong order delivered_Strongly disagree</td>\n",
       "      <td>Late Delivery_Disagree</td>\n",
       "      <td>Wrong order delivered_Strongly disagree</td>\n",
       "      <td>Good Tracking system_Agree</td>\n",
       "      <td>Residence in busy location_Neutral</td>\n",
       "      <td>Delay of delivery person getting assigned_Stro...</td>\n",
       "      <td>Residence in busy location_Neutral</td>\n",
       "      <td>Late Delivery_Disagree</td>\n",
       "      <td>Maximum wait time_45 minutes</td>\n",
       "      <td>Good Food quality_Neutral</td>\n",
       "      <td>Late Delivery_Disagree</td>\n",
       "    </tr>\n",
       "    <tr>\n",
       "      <th>9</th>\n",
       "      <td>Delay of delivery person getting assigned_Stro...</td>\n",
       "      <td>Late Delivery_Disagree</td>\n",
       "      <td>Missing item_Strongly agree</td>\n",
       "      <td>Delay of delivery person getting assigned_Stro...</td>\n",
       "      <td>Late Delivery_Disagree</td>\n",
       "      <td>Late Delivery_Disagree</td>\n",
       "      <td>Wrong order delivered_Strongly disagree</td>\n",
       "      <td>Educational Qualifications_Post Graduate</td>\n",
       "      <td>Wrong order delivered_Strongly disagree</td>\n",
       "      <td>Missing item_Strongly agree</td>\n",
       "      <td>Wrong order delivered_Strongly disagree</td>\n",
       "      <td>Delay of delivery person getting assigned_Stro...</td>\n",
       "    </tr>\n",
       "    <tr>\n",
       "      <th>10</th>\n",
       "      <td>Good Tracking system_Agree</td>\n",
       "      <td>Delivery person ability_Strongly Agree</td>\n",
       "      <td>Wrong order delivered_Strongly disagree</td>\n",
       "      <td>Age</td>\n",
       "      <td>Residence in busy location_Neutral</td>\n",
       "      <td>Meal(P2)_ Lunch</td>\n",
       "      <td>Late Delivery_Disagree</td>\n",
       "      <td>Unaffordable_Strongly agree</td>\n",
       "      <td>Missing item_Strongly agree</td>\n",
       "      <td>Late Delivery_Disagree</td>\n",
       "      <td>Late Delivery_Disagree</td>\n",
       "      <td>Wrong order delivered_Strongly disagree</td>\n",
       "    </tr>\n",
       "    <tr>\n",
       "      <th>11</th>\n",
       "      <td>Wrong order delivered_Strongly disagree</td>\n",
       "      <td>Order placed by mistake_Neutral</td>\n",
       "      <td>Delay of delivery person getting assigned_Disa...</td>\n",
       "      <td>Delay of delivery person getting assigned_Disa...</td>\n",
       "      <td>Meal(P2)_ Lunch</td>\n",
       "      <td>Poor Hygiene_Disagree</td>\n",
       "      <td>Delay of delivery person getting assigned_Disa...</td>\n",
       "      <td>Meal(P2)_ Lunch</td>\n",
       "      <td>Delay of delivery person getting assigned_Disa...</td>\n",
       "      <td>Educational Qualifications_Post Graduate</td>\n",
       "      <td>Occupation_Student</td>\n",
       "      <td>Long delivery time_Agree</td>\n",
       "    </tr>\n",
       "  </tbody>\n",
       "</table>\n",
       "</div>"
      ],
      "text/plain": [
       "                                                   0   \\\n",
       "0                        Ease and convenient_Disagree   \n",
       "1                    More restaurant choices_Disagree   \n",
       "2                                  Unaffordable_Agree   \n",
       "3                                  Occupation_Student   \n",
       "4                                Missing item_Neutral   \n",
       "5                        Maximum wait time_15 minutes   \n",
       "6                              Perference(P2)_ Sweets   \n",
       "7                             Unavailability_Disagree   \n",
       "8                              Late Delivery_Disagree   \n",
       "9   Delay of delivery person getting assigned_Stro...   \n",
       "10                         Good Tracking system_Agree   \n",
       "11            Wrong order delivered_Strongly disagree   \n",
       "\n",
       "                                         1   \\\n",
       "0              Ease and convenient_Disagree   \n",
       "1                      Time saving_Disagree   \n",
       "2                      Missing item_Neutral   \n",
       "3          More restaurant choices_Disagree   \n",
       "4                 Politeness_Very Important   \n",
       "5                     Good Taste _Important   \n",
       "6                      Influence of time_No   \n",
       "7                        Occupation_Student   \n",
       "8   Wrong order delivered_Strongly disagree   \n",
       "9                    Late Delivery_Disagree   \n",
       "10   Delivery person ability_Strongly Agree   \n",
       "11          Order placed by mistake_Neutral   \n",
       "\n",
       "                                                   2   \\\n",
       "0                        Ease and convenient_Disagree   \n",
       "1                    More restaurant choices_Disagree   \n",
       "2                                  Unaffordable_Agree   \n",
       "3                                  Occupation_Student   \n",
       "4                                Missing item_Neutral   \n",
       "5                              Perference(P2)_ Sweets   \n",
       "6                        Maximum wait time_15 minutes   \n",
       "7                             Unavailability_Disagree   \n",
       "8                              Late Delivery_Disagree   \n",
       "9                         Missing item_Strongly agree   \n",
       "10            Wrong order delivered_Strongly disagree   \n",
       "11  Delay of delivery person getting assigned_Disa...   \n",
       "\n",
       "                                                   3   \\\n",
       "0                        Ease and convenient_Disagree   \n",
       "1                    More restaurant choices_Disagree   \n",
       "2                                  Unaffordable_Agree   \n",
       "3                                  Occupation_Student   \n",
       "4                                Missing item_Neutral   \n",
       "5                             Good Food quality_Agree   \n",
       "6                              Perference(P2)_ Sweets   \n",
       "7                              Late Delivery_Disagree   \n",
       "8             Wrong order delivered_Strongly disagree   \n",
       "9   Delay of delivery person getting assigned_Stro...   \n",
       "10                                                Age   \n",
       "11  Delay of delivery person getting assigned_Disa...   \n",
       "\n",
       "                                        4   \\\n",
       "0             Ease and convenient_Disagree   \n",
       "1         More restaurant choices_Disagree   \n",
       "2                       Unaffordable_Agree   \n",
       "3                                      Age   \n",
       "4   High Quality of package_Very Important   \n",
       "5                  Unavailability_Disagree   \n",
       "6                    Missing item_Disagree   \n",
       "7         Marital Status_Prefer not to say   \n",
       "8               Good Tracking system_Agree   \n",
       "9                   Late Delivery_Disagree   \n",
       "10      Residence in busy location_Neutral   \n",
       "11                         Meal(P2)_ Lunch   \n",
       "\n",
       "                                        5   \\\n",
       "0             Ease and convenient_Disagree   \n",
       "1         More restaurant choices_Disagree   \n",
       "2                       Unaffordable_Agree   \n",
       "3                       Occupation_Student   \n",
       "4   High Quality of package_Very Important   \n",
       "5                  Unavailability_Disagree   \n",
       "6                    Missing item_Disagree   \n",
       "7         Marital Status_Prefer not to say   \n",
       "8       Residence in busy location_Neutral   \n",
       "9                   Late Delivery_Disagree   \n",
       "10                         Meal(P2)_ Lunch   \n",
       "11                   Poor Hygiene_Disagree   \n",
       "\n",
       "                                                   6   \\\n",
       "0                        Ease and convenient_Disagree   \n",
       "1                    More restaurant choices_Disagree   \n",
       "2                                  Unaffordable_Agree   \n",
       "3                                  Occupation_Student   \n",
       "4                                Missing item_Neutral   \n",
       "5                             Unavailability_Disagree   \n",
       "6                        Maximum wait time_15 minutes   \n",
       "7                              Perference(P2)_ Sweets   \n",
       "8   Delay of delivery person getting assigned_Stro...   \n",
       "9             Wrong order delivered_Strongly disagree   \n",
       "10                             Late Delivery_Disagree   \n",
       "11  Delay of delivery person getting assigned_Disa...   \n",
       "\n",
       "                                          7   \\\n",
       "0               Ease and convenient_Disagree   \n",
       "1           More restaurant choices_Disagree   \n",
       "2                         Unaffordable_Agree   \n",
       "3                         Occupation_Student   \n",
       "4                       Health Concern_Agree   \n",
       "5                   Monthly Income_No Income   \n",
       "6                    Unavailability_Disagree   \n",
       "7                     Late Delivery_Disagree   \n",
       "8         Residence in busy location_Neutral   \n",
       "9   Educational Qualifications_Post Graduate   \n",
       "10               Unaffordable_Strongly agree   \n",
       "11                           Meal(P2)_ Lunch   \n",
       "\n",
       "                                                   8   \\\n",
       "0                        Ease and convenient_Disagree   \n",
       "1                    More restaurant choices_Disagree   \n",
       "2                                  Unaffordable_Agree   \n",
       "3                                  Occupation_Student   \n",
       "4                                Missing item_Neutral   \n",
       "5                        Maximum wait time_15 minutes   \n",
       "6                             Unavailability_Disagree   \n",
       "7                              Perference(P2)_ Sweets   \n",
       "8                              Late Delivery_Disagree   \n",
       "9             Wrong order delivered_Strongly disagree   \n",
       "10                        Missing item_Strongly agree   \n",
       "11  Delay of delivery person getting assigned_Disa...   \n",
       "\n",
       "                                          9   \\\n",
       "0               Ease and convenient_Disagree   \n",
       "1           More restaurant choices_Disagree   \n",
       "2                         Unaffordable_Agree   \n",
       "3                         Occupation_Student   \n",
       "4     High Quality of package_Very Important   \n",
       "5                    Unavailability_Disagree   \n",
       "6           Marital Status_Prefer not to say   \n",
       "7                         Meal(P1)_Breakfast   \n",
       "8               Maximum wait time_45 minutes   \n",
       "9                Missing item_Strongly agree   \n",
       "10                    Late Delivery_Disagree   \n",
       "11  Educational Qualifications_Post Graduate   \n",
       "\n",
       "                                         10  \\\n",
       "0              Ease and convenient_Disagree   \n",
       "1                      Time saving_Disagree   \n",
       "2                      Missing item_Neutral   \n",
       "3          More restaurant choices_Disagree   \n",
       "4                   Good Food quality_Agree   \n",
       "5                 Politeness_Very Important   \n",
       "6                      Influence of time_No   \n",
       "7            Unaffordable_Strongly disagree   \n",
       "8                 Good Food quality_Neutral   \n",
       "9   Wrong order delivered_Strongly disagree   \n",
       "10                   Late Delivery_Disagree   \n",
       "11                       Occupation_Student   \n",
       "\n",
       "                                                   11  \n",
       "0                        Ease and convenient_Disagree  \n",
       "1                    More restaurant choices_Disagree  \n",
       "2                                  Unaffordable_Agree  \n",
       "3                                  Occupation_Student  \n",
       "4                                Missing item_Neutral  \n",
       "5                              Perference(P2)_ Sweets  \n",
       "6                             Unavailability_Disagree  \n",
       "7                        Maximum wait time_15 minutes  \n",
       "8                              Late Delivery_Disagree  \n",
       "9   Delay of delivery person getting assigned_Stro...  \n",
       "10            Wrong order delivered_Strongly disagree  \n",
       "11                           Long delivery time_Agree  "
      ]
     },
     "execution_count": 103,
     "metadata": {},
     "output_type": "execute_result"
    }
   ],
   "source": [
    "feature_common"
   ]
  },
  {
   "cell_type": "code",
   "execution_count": 104,
   "metadata": {
    "ExecuteTime": {
     "end_time": "2021-02-12T04:23:25.190685Z",
     "start_time": "2021-02-12T04:23:25.105676Z"
    }
   },
   "outputs": [],
   "source": [
    "l2=feature_extract(clf,l1)"
   ]
  },
  {
   "cell_type": "code",
   "execution_count": 105,
   "metadata": {
    "ExecuteTime": {
     "end_time": "2021-02-12T04:23:25.270358Z",
     "start_time": "2021-02-12T04:23:25.195657Z"
    }
   },
   "outputs": [],
   "source": [
    "relation_between_feature=pd.DataFrame(index=l2)"
   ]
  },
  {
   "cell_type": "code",
   "execution_count": 106,
   "metadata": {
    "ExecuteTime": {
     "end_time": "2021-02-12T04:23:25.355659Z",
     "start_time": "2021-02-12T04:23:25.270358Z"
    },
    "scrolled": false
   },
   "outputs": [
    {
     "data": {
      "text/html": [
       "<div>\n",
       "<style scoped>\n",
       "    .dataframe tbody tr th:only-of-type {\n",
       "        vertical-align: middle;\n",
       "    }\n",
       "\n",
       "    .dataframe tbody tr th {\n",
       "        vertical-align: top;\n",
       "    }\n",
       "\n",
       "    .dataframe thead th {\n",
       "        text-align: right;\n",
       "    }\n",
       "</style>\n",
       "<table border=\"1\" class=\"dataframe\">\n",
       "  <thead>\n",
       "    <tr style=\"text-align: right;\">\n",
       "      <th></th>\n",
       "    </tr>\n",
       "  </thead>\n",
       "  <tbody>\n",
       "    <tr>\n",
       "      <th>Ease and convenient_Disagree</th>\n",
       "    </tr>\n",
       "    <tr>\n",
       "      <th>More restaurant choices_Disagree</th>\n",
       "    </tr>\n",
       "    <tr>\n",
       "      <th>Unaffordable_Agree</th>\n",
       "    </tr>\n",
       "    <tr>\n",
       "      <th>Occupation_Student</th>\n",
       "    </tr>\n",
       "    <tr>\n",
       "      <th>Missing item_Neutral</th>\n",
       "    </tr>\n",
       "  </tbody>\n",
       "</table>\n",
       "</div>"
      ],
      "text/plain": [
       "Empty DataFrame\n",
       "Columns: []\n",
       "Index: [Ease and convenient_Disagree, More restaurant choices_Disagree, Unaffordable_Agree, Occupation_Student, Missing item_Neutral]"
      ]
     },
     "execution_count": 106,
     "metadata": {},
     "output_type": "execute_result"
    }
   ],
   "source": [
    "relation_between_feature.head()"
   ]
  },
  {
   "cell_type": "code",
   "execution_count": 107,
   "metadata": {
    "ExecuteTime": {
     "end_time": "2021-02-12T04:23:25.460774Z",
     "start_time": "2021-02-12T04:23:25.359654Z"
    }
   },
   "outputs": [
    {
     "data": {
      "text/html": [
       "<div>\n",
       "<style scoped>\n",
       "    .dataframe tbody tr th:only-of-type {\n",
       "        vertical-align: middle;\n",
       "    }\n",
       "\n",
       "    .dataframe tbody tr th {\n",
       "        vertical-align: top;\n",
       "    }\n",
       "\n",
       "    .dataframe thead th {\n",
       "        text-align: right;\n",
       "    }\n",
       "</style>\n",
       "<table border=\"1\" class=\"dataframe\">\n",
       "  <thead>\n",
       "    <tr style=\"text-align: right;\">\n",
       "      <th></th>\n",
       "      <th>Ease and convenient_Disagree</th>\n",
       "      <th>More restaurant choices_Disagree</th>\n",
       "      <th>Unaffordable_Agree</th>\n",
       "      <th>Occupation_Student</th>\n",
       "      <th>Missing item_Neutral</th>\n",
       "      <th>Perference(P2)_ Sweets</th>\n",
       "      <th>Unavailability_Disagree</th>\n",
       "      <th>Maximum wait time_15 minutes</th>\n",
       "      <th>Late Delivery_Disagree</th>\n",
       "      <th>Delay of delivery person getting assigned_Strongly agree</th>\n",
       "      <th>Wrong order delivered_Strongly disagree</th>\n",
       "      <th>Long delivery time_Agree</th>\n",
       "    </tr>\n",
       "  </thead>\n",
       "  <tbody>\n",
       "    <tr>\n",
       "      <th>0</th>\n",
       "      <td>0</td>\n",
       "      <td>0</td>\n",
       "      <td>0</td>\n",
       "      <td>1</td>\n",
       "      <td>0</td>\n",
       "      <td>0</td>\n",
       "      <td>0</td>\n",
       "      <td>0</td>\n",
       "      <td>0</td>\n",
       "      <td>0</td>\n",
       "      <td>0</td>\n",
       "      <td>1</td>\n",
       "    </tr>\n",
       "    <tr>\n",
       "      <th>1</th>\n",
       "      <td>0</td>\n",
       "      <td>0</td>\n",
       "      <td>0</td>\n",
       "      <td>1</td>\n",
       "      <td>0</td>\n",
       "      <td>0</td>\n",
       "      <td>0</td>\n",
       "      <td>0</td>\n",
       "      <td>0</td>\n",
       "      <td>1</td>\n",
       "      <td>0</td>\n",
       "      <td>0</td>\n",
       "    </tr>\n",
       "    <tr>\n",
       "      <th>2</th>\n",
       "      <td>0</td>\n",
       "      <td>0</td>\n",
       "      <td>1</td>\n",
       "      <td>1</td>\n",
       "      <td>0</td>\n",
       "      <td>0</td>\n",
       "      <td>0</td>\n",
       "      <td>0</td>\n",
       "      <td>0</td>\n",
       "      <td>0</td>\n",
       "      <td>0</td>\n",
       "      <td>1</td>\n",
       "    </tr>\n",
       "    <tr>\n",
       "      <th>3</th>\n",
       "      <td>0</td>\n",
       "      <td>0</td>\n",
       "      <td>0</td>\n",
       "      <td>1</td>\n",
       "      <td>0</td>\n",
       "      <td>0</td>\n",
       "      <td>1</td>\n",
       "      <td>0</td>\n",
       "      <td>0</td>\n",
       "      <td>0</td>\n",
       "      <td>0</td>\n",
       "      <td>1</td>\n",
       "    </tr>\n",
       "    <tr>\n",
       "      <th>4</th>\n",
       "      <td>0</td>\n",
       "      <td>0</td>\n",
       "      <td>0</td>\n",
       "      <td>1</td>\n",
       "      <td>1</td>\n",
       "      <td>0</td>\n",
       "      <td>0</td>\n",
       "      <td>0</td>\n",
       "      <td>0</td>\n",
       "      <td>1</td>\n",
       "      <td>0</td>\n",
       "      <td>0</td>\n",
       "    </tr>\n",
       "    <tr>\n",
       "      <th>...</th>\n",
       "      <td>...</td>\n",
       "      <td>...</td>\n",
       "      <td>...</td>\n",
       "      <td>...</td>\n",
       "      <td>...</td>\n",
       "      <td>...</td>\n",
       "      <td>...</td>\n",
       "      <td>...</td>\n",
       "      <td>...</td>\n",
       "      <td>...</td>\n",
       "      <td>...</td>\n",
       "      <td>...</td>\n",
       "    </tr>\n",
       "    <tr>\n",
       "      <th>597</th>\n",
       "      <td>1</td>\n",
       "      <td>0</td>\n",
       "      <td>1</td>\n",
       "      <td>1</td>\n",
       "      <td>0</td>\n",
       "      <td>0</td>\n",
       "      <td>0</td>\n",
       "      <td>0</td>\n",
       "      <td>0</td>\n",
       "      <td>0</td>\n",
       "      <td>0</td>\n",
       "      <td>0</td>\n",
       "    </tr>\n",
       "    <tr>\n",
       "      <th>598</th>\n",
       "      <td>0</td>\n",
       "      <td>0</td>\n",
       "      <td>1</td>\n",
       "      <td>0</td>\n",
       "      <td>0</td>\n",
       "      <td>0</td>\n",
       "      <td>1</td>\n",
       "      <td>0</td>\n",
       "      <td>0</td>\n",
       "      <td>0</td>\n",
       "      <td>0</td>\n",
       "      <td>1</td>\n",
       "    </tr>\n",
       "    <tr>\n",
       "      <th>599</th>\n",
       "      <td>0</td>\n",
       "      <td>1</td>\n",
       "      <td>0</td>\n",
       "      <td>0</td>\n",
       "      <td>0</td>\n",
       "      <td>0</td>\n",
       "      <td>1</td>\n",
       "      <td>1</td>\n",
       "      <td>0</td>\n",
       "      <td>0</td>\n",
       "      <td>0</td>\n",
       "      <td>1</td>\n",
       "    </tr>\n",
       "    <tr>\n",
       "      <th>600</th>\n",
       "      <td>1</td>\n",
       "      <td>0</td>\n",
       "      <td>0</td>\n",
       "      <td>1</td>\n",
       "      <td>0</td>\n",
       "      <td>0</td>\n",
       "      <td>0</td>\n",
       "      <td>1</td>\n",
       "      <td>0</td>\n",
       "      <td>0</td>\n",
       "      <td>0</td>\n",
       "      <td>0</td>\n",
       "    </tr>\n",
       "    <tr>\n",
       "      <th>601</th>\n",
       "      <td>1</td>\n",
       "      <td>0</td>\n",
       "      <td>1</td>\n",
       "      <td>0</td>\n",
       "      <td>0</td>\n",
       "      <td>0</td>\n",
       "      <td>0</td>\n",
       "      <td>1</td>\n",
       "      <td>0</td>\n",
       "      <td>0</td>\n",
       "      <td>0</td>\n",
       "      <td>1</td>\n",
       "    </tr>\n",
       "  </tbody>\n",
       "</table>\n",
       "<p>602 rows × 12 columns</p>\n",
       "</div>"
      ],
      "text/plain": [
       "     Ease and convenient_Disagree  More restaurant choices_Disagree  \\\n",
       "0                               0                                 0   \n",
       "1                               0                                 0   \n",
       "2                               0                                 0   \n",
       "3                               0                                 0   \n",
       "4                               0                                 0   \n",
       "..                            ...                               ...   \n",
       "597                             1                                 0   \n",
       "598                             0                                 0   \n",
       "599                             0                                 1   \n",
       "600                             1                                 0   \n",
       "601                             1                                 0   \n",
       "\n",
       "     Unaffordable_Agree  Occupation_Student  Missing item_Neutral  \\\n",
       "0                     0                   1                     0   \n",
       "1                     0                   1                     0   \n",
       "2                     1                   1                     0   \n",
       "3                     0                   1                     0   \n",
       "4                     0                   1                     1   \n",
       "..                  ...                 ...                   ...   \n",
       "597                   1                   1                     0   \n",
       "598                   1                   0                     0   \n",
       "599                   0                   0                     0   \n",
       "600                   0                   1                     0   \n",
       "601                   1                   0                     0   \n",
       "\n",
       "     Perference(P2)_ Sweets  Unavailability_Disagree  \\\n",
       "0                         0                        0   \n",
       "1                         0                        0   \n",
       "2                         0                        0   \n",
       "3                         0                        1   \n",
       "4                         0                        0   \n",
       "..                      ...                      ...   \n",
       "597                       0                        0   \n",
       "598                       0                        1   \n",
       "599                       0                        1   \n",
       "600                       0                        0   \n",
       "601                       0                        0   \n",
       "\n",
       "     Maximum wait time_15 minutes  Late Delivery_Disagree  \\\n",
       "0                               0                       0   \n",
       "1                               0                       0   \n",
       "2                               0                       0   \n",
       "3                               0                       0   \n",
       "4                               0                       0   \n",
       "..                            ...                     ...   \n",
       "597                             0                       0   \n",
       "598                             0                       0   \n",
       "599                             1                       0   \n",
       "600                             1                       0   \n",
       "601                             1                       0   \n",
       "\n",
       "     Delay of delivery person getting assigned_Strongly agree  \\\n",
       "0                                                    0          \n",
       "1                                                    1          \n",
       "2                                                    0          \n",
       "3                                                    0          \n",
       "4                                                    1          \n",
       "..                                                 ...          \n",
       "597                                                  0          \n",
       "598                                                  0          \n",
       "599                                                  0          \n",
       "600                                                  0          \n",
       "601                                                  0          \n",
       "\n",
       "     Wrong order delivered_Strongly disagree  Long delivery time_Agree  \n",
       "0                                          0                         1  \n",
       "1                                          0                         0  \n",
       "2                                          0                         1  \n",
       "3                                          0                         1  \n",
       "4                                          0                         0  \n",
       "..                                       ...                       ...  \n",
       "597                                        0                         0  \n",
       "598                                        0                         1  \n",
       "599                                        0                         1  \n",
       "600                                        0                         0  \n",
       "601                                        0                         1  \n",
       "\n",
       "[602 rows x 12 columns]"
      ]
     },
     "execution_count": 107,
     "metadata": {},
     "output_type": "execute_result"
    }
   ],
   "source": [
    "X[l2]"
   ]
  },
  {
   "cell_type": "code",
   "execution_count": 108,
   "metadata": {
    "ExecuteTime": {
     "end_time": "2021-02-12T04:23:28.574397Z",
     "start_time": "2021-02-12T04:23:25.464772Z"
    }
   },
   "outputs": [],
   "source": [
    "\n",
    "for i in l2:\n",
    "    l1=[]\n",
    "    for j in l2:\n",
    "        df_t=pd.crosstab(X[j],X[i])\n",
    "        stat, p, dof, expected = st.chi2_contingency(df_t,correction=True)\n",
    "        t=min(df_t.shape)-1\n",
    "        deno=sum(df_t.sum())\n",
    "        x=np.sqrt(stat / deno)\n",
    "        l1.append(x)\n",
    "    relation_between_feature[i]=l1\n",
    "    \n",
    "\n",
    "\n",
    "\n",
    "        \n"
   ]
  },
  {
   "cell_type": "code",
   "execution_count": 109,
   "metadata": {
    "ExecuteTime": {
     "end_time": "2021-02-12T04:24:19.001183Z",
     "start_time": "2021-02-12T04:23:28.577395Z"
    }
   },
   "outputs": [
    {
     "data": {
      "text/plain": [
       "<seaborn.axisgrid.PairGrid at 0x15ca81ef788>"
      ]
     },
     "execution_count": 109,
     "metadata": {},
     "output_type": "execute_result"
    },
    {
     "data": {
      "image/png": "[encoded data removed]",
      "text/plain": [
       "<Figure size 2160x2160 with 156 Axes>"
      ]
     },
     "metadata": {
      "needs_background": "light"
     },
     "output_type": "display_data"
    }
   ],
   "source": [
    "sns.pairplot(relation_between_feature)"
   ]
  },
  {
   "cell_type": "code",
   "execution_count": 110,
   "metadata": {
    "ExecuteTime": {
     "end_time": "2021-02-12T04:24:19.055152Z",
     "start_time": "2021-02-12T04:24:19.004162Z"
    },
    "scrolled": true
   },
   "outputs": [
    {
     "data": {
      "text/html": [
       "<div>\n",
       "<style scoped>\n",
       "    .dataframe tbody tr th:only-of-type {\n",
       "        vertical-align: middle;\n",
       "    }\n",
       "\n",
       "    .dataframe tbody tr th {\n",
       "        vertical-align: top;\n",
       "    }\n",
       "\n",
       "    .dataframe thead th {\n",
       "        text-align: right;\n",
       "    }\n",
       "</style>\n",
       "<table border=\"1\" class=\"dataframe\">\n",
       "  <thead>\n",
       "    <tr style=\"text-align: right;\">\n",
       "      <th></th>\n",
       "      <th>Ease and convenient_Disagree</th>\n",
       "      <th>More restaurant choices_Disagree</th>\n",
       "      <th>Unaffordable_Agree</th>\n",
       "      <th>Occupation_Student</th>\n",
       "      <th>Missing item_Neutral</th>\n",
       "      <th>Perference(P2)_ Sweets</th>\n",
       "      <th>Unavailability_Disagree</th>\n",
       "      <th>Maximum wait time_15 minutes</th>\n",
       "      <th>Late Delivery_Disagree</th>\n",
       "      <th>Delay of delivery person getting assigned_Strongly agree</th>\n",
       "      <th>Wrong order delivered_Strongly disagree</th>\n",
       "      <th>Long delivery time_Agree</th>\n",
       "    </tr>\n",
       "  </thead>\n",
       "  <tbody>\n",
       "    <tr>\n",
       "      <th>Ease and convenient_Disagree</th>\n",
       "      <td>0.995999</td>\n",
       "      <td>0.404997</td>\n",
       "      <td>0.190178</td>\n",
       "      <td>0.183500</td>\n",
       "      <td>0.082956</td>\n",
       "      <td>0.352582</td>\n",
       "      <td>0.095367</td>\n",
       "      <td>0.357392</td>\n",
       "      <td>0.082110</td>\n",
       "      <td>0.117381</td>\n",
       "      <td>0.061740</td>\n",
       "      <td>0.092653</td>\n",
       "    </tr>\n",
       "    <tr>\n",
       "      <th>More restaurant choices_Disagree</th>\n",
       "      <td>0.404997</td>\n",
       "      <td>0.995369</td>\n",
       "      <td>0.010990</td>\n",
       "      <td>0.347674</td>\n",
       "      <td>0.003370</td>\n",
       "      <td>0.252408</td>\n",
       "      <td>0.030813</td>\n",
       "      <td>0.251455</td>\n",
       "      <td>0.047316</td>\n",
       "      <td>0.109788</td>\n",
       "      <td>0.070621</td>\n",
       "      <td>0.119507</td>\n",
       "    </tr>\n",
       "    <tr>\n",
       "      <th>Unaffordable_Agree</th>\n",
       "      <td>0.190178</td>\n",
       "      <td>0.010990</td>\n",
       "      <td>0.995299</td>\n",
       "      <td>0.085162</td>\n",
       "      <td>0.085088</td>\n",
       "      <td>0.031962</td>\n",
       "      <td>0.204847</td>\n",
       "      <td>0.115411</td>\n",
       "      <td>0.053149</td>\n",
       "      <td>0.029897</td>\n",
       "      <td>0.023620</td>\n",
       "      <td>0.021571</td>\n",
       "    </tr>\n",
       "    <tr>\n",
       "      <th>Occupation_Student</th>\n",
       "      <td>0.183500</td>\n",
       "      <td>0.347674</td>\n",
       "      <td>0.085162</td>\n",
       "      <td>0.996635</td>\n",
       "      <td>0.039387</td>\n",
       "      <td>0.044323</td>\n",
       "      <td>0.126423</td>\n",
       "      <td>0.082358</td>\n",
       "      <td>0.054027</td>\n",
       "      <td>0.042307</td>\n",
       "      <td>0.041418</td>\n",
       "      <td>0.190967</td>\n",
       "    </tr>\n",
       "    <tr>\n",
       "      <th>Missing item_Neutral</th>\n",
       "      <td>0.082956</td>\n",
       "      <td>0.003370</td>\n",
       "      <td>0.085088</td>\n",
       "      <td>0.039387</td>\n",
       "      <td>0.994275</td>\n",
       "      <td>0.181202</td>\n",
       "      <td>0.107111</td>\n",
       "      <td>0.006735</td>\n",
       "      <td>0.138876</td>\n",
       "      <td>0.098696</td>\n",
       "      <td>0.040938</td>\n",
       "      <td>0.098772</td>\n",
       "    </tr>\n",
       "    <tr>\n",
       "      <th>Perference(P2)_ Sweets</th>\n",
       "      <td>0.352582</td>\n",
       "      <td>0.252408</td>\n",
       "      <td>0.031962</td>\n",
       "      <td>0.044323</td>\n",
       "      <td>0.181202</td>\n",
       "      <td>0.994763</td>\n",
       "      <td>0.215740</td>\n",
       "      <td>0.097878</td>\n",
       "      <td>0.046639</td>\n",
       "      <td>0.105024</td>\n",
       "      <td>0.015098</td>\n",
       "      <td>0.023378</td>\n",
       "    </tr>\n",
       "    <tr>\n",
       "      <th>Unavailability_Disagree</th>\n",
       "      <td>0.095367</td>\n",
       "      <td>0.030813</td>\n",
       "      <td>0.204847</td>\n",
       "      <td>0.126423</td>\n",
       "      <td>0.107111</td>\n",
       "      <td>0.215740</td>\n",
       "      <td>0.996452</td>\n",
       "      <td>0.186992</td>\n",
       "      <td>0.010490</td>\n",
       "      <td>0.091263</td>\n",
       "      <td>0.039843</td>\n",
       "      <td>0.064370</td>\n",
       "    </tr>\n",
       "    <tr>\n",
       "      <th>Maximum wait time_15 minutes</th>\n",
       "      <td>0.357392</td>\n",
       "      <td>0.251455</td>\n",
       "      <td>0.115411</td>\n",
       "      <td>0.082358</td>\n",
       "      <td>0.006735</td>\n",
       "      <td>0.097878</td>\n",
       "      <td>0.186992</td>\n",
       "      <td>0.994553</td>\n",
       "      <td>0.056410</td>\n",
       "      <td>0.060427</td>\n",
       "      <td>0.031094</td>\n",
       "      <td>0.001597</td>\n",
       "    </tr>\n",
       "    <tr>\n",
       "      <th>Late Delivery_Disagree</th>\n",
       "      <td>0.082110</td>\n",
       "      <td>0.047316</td>\n",
       "      <td>0.053149</td>\n",
       "      <td>0.054027</td>\n",
       "      <td>0.138876</td>\n",
       "      <td>0.046639</td>\n",
       "      <td>0.010490</td>\n",
       "      <td>0.056410</td>\n",
       "      <td>0.993906</td>\n",
       "      <td>0.023251</td>\n",
       "      <td>0.023330</td>\n",
       "      <td>0.059960</td>\n",
       "    </tr>\n",
       "    <tr>\n",
       "      <th>Delay of delivery person getting assigned_Strongly agree</th>\n",
       "      <td>0.117381</td>\n",
       "      <td>0.109788</td>\n",
       "      <td>0.029897</td>\n",
       "      <td>0.042307</td>\n",
       "      <td>0.098696</td>\n",
       "      <td>0.105024</td>\n",
       "      <td>0.091263</td>\n",
       "      <td>0.060427</td>\n",
       "      <td>0.023251</td>\n",
       "      <td>0.993345</td>\n",
       "      <td>0.044092</td>\n",
       "      <td>0.043692</td>\n",
       "    </tr>\n",
       "    <tr>\n",
       "      <th>Wrong order delivered_Strongly disagree</th>\n",
       "      <td>0.061740</td>\n",
       "      <td>0.070621</td>\n",
       "      <td>0.023620</td>\n",
       "      <td>0.041418</td>\n",
       "      <td>0.040938</td>\n",
       "      <td>0.015098</td>\n",
       "      <td>0.039843</td>\n",
       "      <td>0.031094</td>\n",
       "      <td>0.023330</td>\n",
       "      <td>0.044092</td>\n",
       "      <td>0.993468</td>\n",
       "      <td>0.124387</td>\n",
       "    </tr>\n",
       "    <tr>\n",
       "      <th>Long delivery time_Agree</th>\n",
       "      <td>0.092653</td>\n",
       "      <td>0.119507</td>\n",
       "      <td>0.021571</td>\n",
       "      <td>0.190967</td>\n",
       "      <td>0.098772</td>\n",
       "      <td>0.023378</td>\n",
       "      <td>0.064370</td>\n",
       "      <td>0.001597</td>\n",
       "      <td>0.059960</td>\n",
       "      <td>0.043692</td>\n",
       "      <td>0.124387</td>\n",
       "      <td>0.996678</td>\n",
       "    </tr>\n",
       "  </tbody>\n",
       "</table>\n",
       "</div>"
      ],
      "text/plain": [
       "                                                    Ease and convenient_Disagree  \\\n",
       "Ease and convenient_Disagree                                            0.995999   \n",
       "More restaurant choices_Disagree                                        0.404997   \n",
       "Unaffordable_Agree                                                      0.190178   \n",
       "Occupation_Student                                                      0.183500   \n",
       "Missing item_Neutral                                                    0.082956   \n",
       "Perference(P2)_ Sweets                                                  0.352582   \n",
       "Unavailability_Disagree                                                 0.095367   \n",
       "Maximum wait time_15 minutes                                            0.357392   \n",
       "Late Delivery_Disagree                                                  0.082110   \n",
       "Delay of delivery person getting assigned_Stron...                      0.117381   \n",
       "Wrong order delivered_Strongly disagree                                 0.061740   \n",
       "Long delivery time_Agree                                                0.092653   \n",
       "\n",
       "                                                    More restaurant choices_Disagree  \\\n",
       "Ease and convenient_Disagree                                                0.404997   \n",
       "More restaurant choices_Disagree                                            0.995369   \n",
       "Unaffordable_Agree                                                          0.010990   \n",
       "Occupation_Student                                                          0.347674   \n",
       "Missing item_Neutral                                                        0.003370   \n",
       "Perference(P2)_ Sweets                                                      0.252408   \n",
       "Unavailability_Disagree                                                     0.030813   \n",
       "Maximum wait time_15 minutes                                                0.251455   \n",
       "Late Delivery_Disagree                                                      0.047316   \n",
       "Delay of delivery person getting assigned_Stron...                          0.109788   \n",
       "Wrong order delivered_Strongly disagree                                     0.070621   \n",
       "Long delivery time_Agree                                                    0.119507   \n",
       "\n",
       "                                                    Unaffordable_Agree  \\\n",
       "Ease and convenient_Disagree                                  0.190178   \n",
       "More restaurant choices_Disagree                              0.010990   \n",
       "Unaffordable_Agree                                            0.995299   \n",
       "Occupation_Student                                            0.085162   \n",
       "Missing item_Neutral                                          0.085088   \n",
       "Perference(P2)_ Sweets                                        0.031962   \n",
       "Unavailability_Disagree                                       0.204847   \n",
       "Maximum wait time_15 minutes                                  0.115411   \n",
       "Late Delivery_Disagree                                        0.053149   \n",
       "Delay of delivery person getting assigned_Stron...            0.029897   \n",
       "Wrong order delivered_Strongly disagree                       0.023620   \n",
       "Long delivery time_Agree                                      0.021571   \n",
       "\n",
       "                                                    Occupation_Student  \\\n",
       "Ease and convenient_Disagree                                  0.183500   \n",
       "More restaurant choices_Disagree                              0.347674   \n",
       "Unaffordable_Agree                                            0.085162   \n",
       "Occupation_Student                                            0.996635   \n",
       "Missing item_Neutral                                          0.039387   \n",
       "Perference(P2)_ Sweets                                        0.044323   \n",
       "Unavailability_Disagree                                       0.126423   \n",
       "Maximum wait time_15 minutes                                  0.082358   \n",
       "Late Delivery_Disagree                                        0.054027   \n",
       "Delay of delivery person getting assigned_Stron...            0.042307   \n",
       "Wrong order delivered_Strongly disagree                       0.041418   \n",
       "Long delivery time_Agree                                      0.190967   \n",
       "\n",
       "                                                    Missing item_Neutral  \\\n",
       "Ease and convenient_Disagree                                    0.082956   \n",
       "More restaurant choices_Disagree                                0.003370   \n",
       "Unaffordable_Agree                                              0.085088   \n",
       "Occupation_Student                                              0.039387   \n",
       "Missing item_Neutral                                            0.994275   \n",
       "Perference(P2)_ Sweets                                          0.181202   \n",
       "Unavailability_Disagree                                         0.107111   \n",
       "Maximum wait time_15 minutes                                    0.006735   \n",
       "Late Delivery_Disagree                                          0.138876   \n",
       "Delay of delivery person getting assigned_Stron...              0.098696   \n",
       "Wrong order delivered_Strongly disagree                         0.040938   \n",
       "Long delivery time_Agree                                        0.098772   \n",
       "\n",
       "                                                    Perference(P2)_ Sweets  \\\n",
       "Ease and convenient_Disagree                                      0.352582   \n",
       "More restaurant choices_Disagree                                  0.252408   \n",
       "Unaffordable_Agree                                                0.031962   \n",
       "Occupation_Student                                                0.044323   \n",
       "Missing item_Neutral                                              0.181202   \n",
       "Perference(P2)_ Sweets                                            0.994763   \n",
       "Unavailability_Disagree                                           0.215740   \n",
       "Maximum wait time_15 minutes                                      0.097878   \n",
       "Late Delivery_Disagree                                            0.046639   \n",
       "Delay of delivery person getting assigned_Stron...                0.105024   \n",
       "Wrong order delivered_Strongly disagree                           0.015098   \n",
       "Long delivery time_Agree                                          0.023378   \n",
       "\n",
       "                                                    Unavailability_Disagree  \\\n",
       "Ease and convenient_Disagree                                       0.095367   \n",
       "More restaurant choices_Disagree                                   0.030813   \n",
       "Unaffordable_Agree                                                 0.204847   \n",
       "Occupation_Student                                                 0.126423   \n",
       "Missing item_Neutral                                               0.107111   \n",
       "Perference(P2)_ Sweets                                             0.215740   \n",
       "Unavailability_Disagree                                            0.996452   \n",
       "Maximum wait time_15 minutes                                       0.186992   \n",
       "Late Delivery_Disagree                                             0.010490   \n",
       "Delay of delivery person getting assigned_Stron...                 0.091263   \n",
       "Wrong order delivered_Strongly disagree                            0.039843   \n",
       "Long delivery time_Agree                                           0.064370   \n",
       "\n",
       "                                                    Maximum wait time_15 minutes  \\\n",
       "Ease and convenient_Disagree                                            0.357392   \n",
       "More restaurant choices_Disagree                                        0.251455   \n",
       "Unaffordable_Agree                                                      0.115411   \n",
       "Occupation_Student                                                      0.082358   \n",
       "Missing item_Neutral                                                    0.006735   \n",
       "Perference(P2)_ Sweets                                                  0.097878   \n",
       "Unavailability_Disagree                                                 0.186992   \n",
       "Maximum wait time_15 minutes                                            0.994553   \n",
       "Late Delivery_Disagree                                                  0.056410   \n",
       "Delay of delivery person getting assigned_Stron...                      0.060427   \n",
       "Wrong order delivered_Strongly disagree                                 0.031094   \n",
       "Long delivery time_Agree                                                0.001597   \n",
       "\n",
       "                                                    Late Delivery_Disagree  \\\n",
       "Ease and convenient_Disagree                                      0.082110   \n",
       "More restaurant choices_Disagree                                  0.047316   \n",
       "Unaffordable_Agree                                                0.053149   \n",
       "Occupation_Student                                                0.054027   \n",
       "Missing item_Neutral                                              0.138876   \n",
       "Perference(P2)_ Sweets                                            0.046639   \n",
       "Unavailability_Disagree                                           0.010490   \n",
       "Maximum wait time_15 minutes                                      0.056410   \n",
       "Late Delivery_Disagree                                            0.993906   \n",
       "Delay of delivery person getting assigned_Stron...                0.023251   \n",
       "Wrong order delivered_Strongly disagree                           0.023330   \n",
       "Long delivery time_Agree                                          0.059960   \n",
       "\n",
       "                                                    Delay of delivery person getting assigned_Strongly agree  \\\n",
       "Ease and convenient_Disagree                                                                 0.117381          \n",
       "More restaurant choices_Disagree                                                             0.109788          \n",
       "Unaffordable_Agree                                                                           0.029897          \n",
       "Occupation_Student                                                                           0.042307          \n",
       "Missing item_Neutral                                                                         0.098696          \n",
       "Perference(P2)_ Sweets                                                                       0.105024          \n",
       "Unavailability_Disagree                                                                      0.091263          \n",
       "Maximum wait time_15 minutes                                                                 0.060427          \n",
       "Late Delivery_Disagree                                                                       0.023251          \n",
       "Delay of delivery person getting assigned_Stron...                                           0.993345          \n",
       "Wrong order delivered_Strongly disagree                                                      0.044092          \n",
       "Long delivery time_Agree                                                                     0.043692          \n",
       "\n",
       "                                                    Wrong order delivered_Strongly disagree  \\\n",
       "Ease and convenient_Disagree                                                       0.061740   \n",
       "More restaurant choices_Disagree                                                   0.070621   \n",
       "Unaffordable_Agree                                                                 0.023620   \n",
       "Occupation_Student                                                                 0.041418   \n",
       "Missing item_Neutral                                                               0.040938   \n",
       "Perference(P2)_ Sweets                                                             0.015098   \n",
       "Unavailability_Disagree                                                            0.039843   \n",
       "Maximum wait time_15 minutes                                                       0.031094   \n",
       "Late Delivery_Disagree                                                             0.023330   \n",
       "Delay of delivery person getting assigned_Stron...                                 0.044092   \n",
       "Wrong order delivered_Strongly disagree                                            0.993468   \n",
       "Long delivery time_Agree                                                           0.124387   \n",
       "\n",
       "                                                    Long delivery time_Agree  \n",
       "Ease and convenient_Disagree                                        0.092653  \n",
       "More restaurant choices_Disagree                                    0.119507  \n",
       "Unaffordable_Agree                                                  0.021571  \n",
       "Occupation_Student                                                  0.190967  \n",
       "Missing item_Neutral                                                0.098772  \n",
       "Perference(P2)_ Sweets                                              0.023378  \n",
       "Unavailability_Disagree                                             0.064370  \n",
       "Maximum wait time_15 minutes                                        0.001597  \n",
       "Late Delivery_Disagree                                              0.059960  \n",
       "Delay of delivery person getting assigned_Stron...                  0.043692  \n",
       "Wrong order delivered_Strongly disagree                             0.124387  \n",
       "Long delivery time_Agree                                            0.996678  "
      ]
     },
     "execution_count": 110,
     "metadata": {},
     "output_type": "execute_result"
    }
   ],
   "source": [
    "relation_between_feature"
   ]
  },
  {
   "cell_type": "code",
   "execution_count": 111,
   "metadata": {
    "ExecuteTime": {
     "end_time": "2021-02-12T04:24:19.155112Z",
     "start_time": "2021-02-12T04:24:19.059131Z"
    }
   },
   "outputs": [
    {
     "data": {
      "text/plain": [
       "(388, 51)"
      ]
     },
     "execution_count": 111,
     "metadata": {},
     "output_type": "execute_result"
    }
   ],
   "source": [
    "fd_dlvry.shape"
   ]
  },
  {
   "cell_type": "code",
   "execution_count": 112,
   "metadata": {
    "ExecuteTime": {
     "end_time": "2021-02-12T04:24:19.272050Z",
     "start_time": "2021-02-12T04:24:19.159109Z"
    },
    "scrolled": false
   },
   "outputs": [
    {
     "data": {
      "text/plain": [
       "{'Age': {20: 20,\n",
       "  24: 24,\n",
       "  22: 22,\n",
       "  27: 27,\n",
       "  23: 23,\n",
       "  21: 21,\n",
       "  28: 28,\n",
       "  25: 25,\n",
       "  32: 32,\n",
       "  30: 30,\n",
       "  31: 31,\n",
       "  26: 26,\n",
       "  18: 18,\n",
       "  19: 19,\n",
       "  33: 33,\n",
       "  29: 29},\n",
       " 'Gender': {'Female': 0, 'Male': 1},\n",
       " 'Marital Status': {'Single': 2, 'Married': 0, 'Prefer not to say': 1},\n",
       " 'Occupation': {'Student': 3,\n",
       "  'Employee': 0,\n",
       "  'Self Employeed': 2,\n",
       "  'House wife': 1},\n",
       " 'Monthly Income': {'No Income': 4,\n",
       "  'Below Rs.10000': 2,\n",
       "  'More than 50000': 3,\n",
       "  '10001 to 25000': 0,\n",
       "  '25001 to 50000': 1},\n",
       " 'Educational Qualifications': {'Post Graduate': 2,\n",
       "  'Graduate': 0,\n",
       "  'Ph.D': 1,\n",
       "  'Uneducated': 4,\n",
       "  'School': 3},\n",
       " 'Family size': {4: 4, 3: 3, 6: 6, 2: 2, 5: 5, 1: 1},\n",
       " 'Medium (P1)': {'Food delivery apps': 1,\n",
       "  'Walk-in': 2,\n",
       "  'Direct call': 0,\n",
       "  'Web browser': 3},\n",
       " 'Medium (P2)': {' Web browser': 2, ' Direct call': 0, ' Walk-in': 1},\n",
       " 'Meal(P1)': {'Breakfast': 0, 'Snacks': 3, 'Lunch': 2, 'Dinner': 1},\n",
       " 'Meal(P2)': {' Lunch': 1, ' Dinner': 0, ' Snacks': 2},\n",
       " 'Perference(P1)': {'Non Veg foods (Lunch / Dinner)': 1,\n",
       "  'Veg foods (Breakfast / Lunch / Dinner)': 3,\n",
       "  'Bakery items (snacks)': 0,\n",
       "  'Sweets': 2},\n",
       " 'Perference(P2)': {' Bakery items (snacks)': 0,\n",
       "  ' Veg foods (Breakfast / Lunch / Dinner)': 3,\n",
       "  ' Ice cream / Cool drinks': 1,\n",
       "  ' Sweets': 2},\n",
       " 'Ease and convenient': {'Neutral': 2,\n",
       "  'Strongly agree': 3,\n",
       "  'Agree': 0,\n",
       "  'Strongly disagree': 4,\n",
       "  'Disagree': 1},\n",
       " 'Time saving': {'Neutral': 2,\n",
       "  'Strongly agree': 3,\n",
       "  'Agree': 0,\n",
       "  'Disagree': 1,\n",
       "  'Strongly disagree': 4},\n",
       " 'More restaurant choices': {'Neutral': 2,\n",
       "  'Strongly agree': 3,\n",
       "  'Agree': 0,\n",
       "  'Strongly disagree': 4,\n",
       "  'Disagree': 1},\n",
       " 'Easy Payment option': {'Neutral': 2,\n",
       "  'Strongly agree': 3,\n",
       "  'Agree': 0,\n",
       "  'Disagree': 1,\n",
       "  'Strongly disagree': 4},\n",
       " 'More Offers and Discount': {'Neutral': 2,\n",
       "  'Strongly agree': 3,\n",
       "  'Agree': 0,\n",
       "  'Disagree': 1,\n",
       "  'Strongly disagree': 4},\n",
       " 'Good Food quality': {'Neutral': 2,\n",
       "  'Disagree': 1,\n",
       "  'Agree': 0,\n",
       "  'Strongly agree': 3,\n",
       "  'Strongly disagree': 4},\n",
       " 'Good Tracking system': {'Neutral': 2,\n",
       "  'Agree': 0,\n",
       "  'Strongly agree': 3,\n",
       "  'Disagree': 1,\n",
       "  'Strongly disagree': 4},\n",
       " 'Self Cooking': {'Neutral': 2,\n",
       "  'Strongly agree': 3,\n",
       "  'Disagree': 1,\n",
       "  'Agree': 0,\n",
       "  'Strongly disagree': 4},\n",
       " 'Health Concern': {'Neutral': 2,\n",
       "  'Strongly agree': 3,\n",
       "  'Agree': 0,\n",
       "  'Strongly disagree': 4,\n",
       "  'Disagree': 1},\n",
       " 'Late Delivery': {'Neutral': 2,\n",
       "  'Agree': 0,\n",
       "  'Strongly agree': 3,\n",
       "  'Disagree': 1,\n",
       "  'Strongly disagree': 4},\n",
       " 'Poor Hygiene': {'Neutral': 2,\n",
       "  'Strongly agree': 3,\n",
       "  'Agree': 0,\n",
       "  'Disagree': 1,\n",
       "  'Strongly disagree': 4},\n",
       " 'Bad past experience': {'Neutral': 2,\n",
       "  'Strongly agree': 3,\n",
       "  'Agree': 0,\n",
       "  'Disagree': 1,\n",
       "  'Strongly disagree': 4},\n",
       " 'Unavailability': {'Neutral': 2,\n",
       "  'Strongly agree': 3,\n",
       "  'Agree': 0,\n",
       "  'Disagree': 1,\n",
       "  'Strongly disagree': 4},\n",
       " 'Unaffordable': {'Neutral': 2,\n",
       "  'Strongly agree': 3,\n",
       "  'Agree': 0,\n",
       "  'Disagree': 1,\n",
       "  'Strongly disagree': 4},\n",
       " 'Long delivery time': {'Agree': 0,\n",
       "  'Strongly agree': 3,\n",
       "  'Neutral': 2,\n",
       "  'Disagree': 1,\n",
       "  'Strongly disagree': 4},\n",
       " 'Delay of delivery person getting assigned': {'Agree': 0,\n",
       "  'Strongly agree': 3,\n",
       "  'Disagree': 1,\n",
       "  'Neutral': 2,\n",
       "  'Strongly disagree': 4},\n",
       " 'Delay of delivery person picking up food': {'Agree': 0,\n",
       "  'Strongly agree': 3,\n",
       "  'Neutral': 2,\n",
       "  'Disagree': 1,\n",
       "  'Strongly disagree': 4},\n",
       " 'Wrong order delivered': {'Agree': 0,\n",
       "  'Strongly agree': 3,\n",
       "  'Disagree': 1,\n",
       "  'Neutral': 2,\n",
       "  'Strongly disagree': 4},\n",
       " 'Missing item': {'Agree': 0,\n",
       "  'Strongly agree': 3,\n",
       "  'Disagree': 1,\n",
       "  'Neutral': 2,\n",
       "  'Strongly disagree': 4},\n",
       " 'Order placed by mistake': {'Agree': 0,\n",
       "  'Strongly agree': 3,\n",
       "  'Neutral': 2,\n",
       "  'Disagree': 1,\n",
       "  'Strongly disagree': 4},\n",
       " 'Influence of time': {'Yes': 2, 'No': 1, 'Maybe': 0},\n",
       " 'Order Time': {'Weekend (Sat & Sun)': 2,\n",
       "  'Anytime (Mon-Sun)': 0,\n",
       "  'Weekdays (Mon-Fri)': 1},\n",
       " 'Maximum wait time': {'30 minutes': 1,\n",
       "  '45 minutes': 2,\n",
       "  '60 minutes': 3,\n",
       "  'More than 60 minutes': 4,\n",
       "  '15 minutes': 0},\n",
       " 'Residence in busy location': {'Agree': 0,\n",
       "  'Strongly Agree': 3,\n",
       "  'Disagree': 1,\n",
       "  'Neutral': 2,\n",
       "  'Strongly disagree': 4},\n",
       " 'Google Maps Accuracy': {'Neutral': 2,\n",
       "  'Strongly Agree': 3,\n",
       "  'Agree': 0,\n",
       "  'Disagree': 1,\n",
       "  'Strongly disagree': 4},\n",
       " 'Good Road Condition': {'Neutral': 2,\n",
       "  'Disagree': 1,\n",
       "  'Agree': 0,\n",
       "  'Strongly Agree': 3,\n",
       "  'Strongly disagree': 4},\n",
       " 'Low quantity low time': {'Neutral': 2,\n",
       "  'Strongly disagree': 4,\n",
       "  'Agree': 0,\n",
       "  'Disagree': 1,\n",
       "  'Strongly Agree': 3},\n",
       " 'Delivery person ability': {'Neutral': 2,\n",
       "  'Agree': 0,\n",
       "  'Strongly Agree': 3,\n",
       "  'Disagree': 1,\n",
       "  'Strongly disagree': 4},\n",
       " 'Influence of rating': {'Yes': 2, 'Maybe': 0, 'No': 1},\n",
       " 'Less Delivery time': {'Moderately Important': 1,\n",
       "  'Very Important': 4,\n",
       "  'Important': 0,\n",
       "  'Slightly Important': 2,\n",
       "  'Unimportant': 3},\n",
       " 'High Quality of package': {'Moderately Important': 1,\n",
       "  'Very Important': 4,\n",
       "  'Important': 0,\n",
       "  'Unimportant': 3,\n",
       "  'Slightly Important': 2},\n",
       " 'Number of calls': {'Moderately Important': 1,\n",
       "  'Very Important': 4,\n",
       "  'Unimportant': 3,\n",
       "  'Important': 0,\n",
       "  'Slightly Important': 2},\n",
       " 'Politeness': {'Moderately Important': 1,\n",
       "  'Very Important': 4,\n",
       "  'Important': 0,\n",
       "  'Slightly Important': 2,\n",
       "  'Unimportant': 3},\n",
       " 'Freshness ': {'Moderately Important': 1,\n",
       "  'Very Important': 4,\n",
       "  'Important': 0,\n",
       "  'Slightly Important': 2,\n",
       "  'Unimportant': 3},\n",
       " 'Temperature': {'Moderately Important': 1,\n",
       "  'Very Important': 4,\n",
       "  'Important': 0,\n",
       "  'Slightly Important': 2,\n",
       "  'Unimportant': 3},\n",
       " 'Good Taste ': {'Moderately Important': 1,\n",
       "  'Very Important': 4,\n",
       "  'Important': 0,\n",
       "  'Slightly Important': 2,\n",
       "  'Unimportant': 3},\n",
       " 'Good Quantity': {'Moderately Important': 1,\n",
       "  'Very Important': 4,\n",
       "  'Important': 0,\n",
       "  'Slightly Important': 2,\n",
       "  'Unimportant': 3}}"
      ]
     },
     "execution_count": 112,
     "metadata": {},
     "output_type": "execute_result"
    }
   ],
   "source": [
    "lbl"
   ]
  },
  {
   "cell_type": "code",
   "execution_count": 121,
   "metadata": {
    "ExecuteTime": {
     "end_time": "2021-02-12T04:27:26.040732Z",
     "start_time": "2021-02-12T04:27:25.975767Z"
    },
    "scrolled": false
   },
   "outputs": [
    {
     "data": {
      "text/html": [
       "<style  type=\"text/css\" >\n",
       "#T_b825f_row0_col1,#T_b825f_row0_col5,#T_b825f_row0_col7,#T_b825f_row1_col0,#T_b825f_row1_col3,#T_b825f_row1_col5,#T_b825f_row1_col7,#T_b825f_row3_col1,#T_b825f_row5_col0,#T_b825f_row5_col1,#T_b825f_row7_col0,#T_b825f_row7_col1{\n",
       "            background:  red;\n",
       "        }</style><table id=\"T_b825f_\" ><thead>    <tr>        <th class=\"blank level0\" ></th>        <th class=\"col_heading level0 col0\" >Ease and convenient_Disagree</th>        <th class=\"col_heading level0 col1\" >More restaurant choices_Disagree</th>        <th class=\"col_heading level0 col2\" >Unaffordable_Agree</th>        <th class=\"col_heading level0 col3\" >Occupation_Student</th>        <th class=\"col_heading level0 col4\" >Missing item_Neutral</th>        <th class=\"col_heading level0 col5\" >Perference(P2)_ Sweets</th>        <th class=\"col_heading level0 col6\" >Unavailability_Disagree</th>        <th class=\"col_heading level0 col7\" >Maximum wait time_15 minutes</th>        <th class=\"col_heading level0 col8\" >Late Delivery_Disagree</th>        <th class=\"col_heading level0 col9\" >Delay of delivery person getting assigned_Strongly agree</th>        <th class=\"col_heading level0 col10\" >Wrong order delivered_Strongly disagree</th>        <th class=\"col_heading level0 col11\" >Long delivery time_Agree</th>    </tr></thead><tbody>\n",
       "                <tr>\n",
       "                        <th id=\"T_b825f_level0_row0\" class=\"row_heading level0 row0\" >Ease and convenient_Disagree</th>\n",
       "                        <td id=\"T_b825f_row0_col0\" class=\"data row0 col0\" >0.995999</td>\n",
       "                        <td id=\"T_b825f_row0_col1\" class=\"data row0 col1\" >0.404997</td>\n",
       "                        <td id=\"T_b825f_row0_col2\" class=\"data row0 col2\" >0.190178</td>\n",
       "                        <td id=\"T_b825f_row0_col3\" class=\"data row0 col3\" >0.183500</td>\n",
       "                        <td id=\"T_b825f_row0_col4\" class=\"data row0 col4\" >0.082956</td>\n",
       "                        <td id=\"T_b825f_row0_col5\" class=\"data row0 col5\" >0.352582</td>\n",
       "                        <td id=\"T_b825f_row0_col6\" class=\"data row0 col6\" >0.095367</td>\n",
       "                        <td id=\"T_b825f_row0_col7\" class=\"data row0 col7\" >0.357392</td>\n",
       "                        <td id=\"T_b825f_row0_col8\" class=\"data row0 col8\" >0.082110</td>\n",
       "                        <td id=\"T_b825f_row0_col9\" class=\"data row0 col9\" >0.117381</td>\n",
       "                        <td id=\"T_b825f_row0_col10\" class=\"data row0 col10\" >0.061740</td>\n",
       "                        <td id=\"T_b825f_row0_col11\" class=\"data row0 col11\" >0.092653</td>\n",
       "            </tr>\n",
       "            <tr>\n",
       "                        <th id=\"T_b825f_level0_row1\" class=\"row_heading level0 row1\" >More restaurant choices_Disagree</th>\n",
       "                        <td id=\"T_b825f_row1_col0\" class=\"data row1 col0\" >0.404997</td>\n",
       "                        <td id=\"T_b825f_row1_col1\" class=\"data row1 col1\" >0.995369</td>\n",
       "                        <td id=\"T_b825f_row1_col2\" class=\"data row1 col2\" >0.010990</td>\n",
       "                        <td id=\"T_b825f_row1_col3\" class=\"data row1 col3\" >0.347674</td>\n",
       "                        <td id=\"T_b825f_row1_col4\" class=\"data row1 col4\" >0.003370</td>\n",
       "                        <td id=\"T_b825f_row1_col5\" class=\"data row1 col5\" >0.252408</td>\n",
       "                        <td id=\"T_b825f_row1_col6\" class=\"data row1 col6\" >0.030813</td>\n",
       "                        <td id=\"T_b825f_row1_col7\" class=\"data row1 col7\" >0.251455</td>\n",
       "                        <td id=\"T_b825f_row1_col8\" class=\"data row1 col8\" >0.047316</td>\n",
       "                        <td id=\"T_b825f_row1_col9\" class=\"data row1 col9\" >0.109788</td>\n",
       "                        <td id=\"T_b825f_row1_col10\" class=\"data row1 col10\" >0.070621</td>\n",
       "                        <td id=\"T_b825f_row1_col11\" class=\"data row1 col11\" >0.119507</td>\n",
       "            </tr>\n",
       "            <tr>\n",
       "                        <th id=\"T_b825f_level0_row2\" class=\"row_heading level0 row2\" >Unaffordable_Agree</th>\n",
       "                        <td id=\"T_b825f_row2_col0\" class=\"data row2 col0\" >0.190178</td>\n",
       "                        <td id=\"T_b825f_row2_col1\" class=\"data row2 col1\" >0.010990</td>\n",
       "                        <td id=\"T_b825f_row2_col2\" class=\"data row2 col2\" >0.995299</td>\n",
       "                        <td id=\"T_b825f_row2_col3\" class=\"data row2 col3\" >0.085162</td>\n",
       "                        <td id=\"T_b825f_row2_col4\" class=\"data row2 col4\" >0.085088</td>\n",
       "                        <td id=\"T_b825f_row2_col5\" class=\"data row2 col5\" >0.031962</td>\n",
       "                        <td id=\"T_b825f_row2_col6\" class=\"data row2 col6\" >0.204847</td>\n",
       "                        <td id=\"T_b825f_row2_col7\" class=\"data row2 col7\" >0.115411</td>\n",
       "                        <td id=\"T_b825f_row2_col8\" class=\"data row2 col8\" >0.053149</td>\n",
       "                        <td id=\"T_b825f_row2_col9\" class=\"data row2 col9\" >0.029897</td>\n",
       "                        <td id=\"T_b825f_row2_col10\" class=\"data row2 col10\" >0.023620</td>\n",
       "                        <td id=\"T_b825f_row2_col11\" class=\"data row2 col11\" >0.021571</td>\n",
       "            </tr>\n",
       "            <tr>\n",
       "                        <th id=\"T_b825f_level0_row3\" class=\"row_heading level0 row3\" >Occupation_Student</th>\n",
       "                        <td id=\"T_b825f_row3_col0\" class=\"data row3 col0\" >0.183500</td>\n",
       "                        <td id=\"T_b825f_row3_col1\" class=\"data row3 col1\" >0.347674</td>\n",
       "                        <td id=\"T_b825f_row3_col2\" class=\"data row3 col2\" >0.085162</td>\n",
       "                        <td id=\"T_b825f_row3_col3\" class=\"data row3 col3\" >0.996635</td>\n",
       "                        <td id=\"T_b825f_row3_col4\" class=\"data row3 col4\" >0.039387</td>\n",
       "                        <td id=\"T_b825f_row3_col5\" class=\"data row3 col5\" >0.044323</td>\n",
       "                        <td id=\"T_b825f_row3_col6\" class=\"data row3 col6\" >0.126423</td>\n",
       "                        <td id=\"T_b825f_row3_col7\" class=\"data row3 col7\" >0.082358</td>\n",
       "                        <td id=\"T_b825f_row3_col8\" class=\"data row3 col8\" >0.054027</td>\n",
       "                        <td id=\"T_b825f_row3_col9\" class=\"data row3 col9\" >0.042307</td>\n",
       "                        <td id=\"T_b825f_row3_col10\" class=\"data row3 col10\" >0.041418</td>\n",
       "                        <td id=\"T_b825f_row3_col11\" class=\"data row3 col11\" >0.190967</td>\n",
       "            </tr>\n",
       "            <tr>\n",
       "                        <th id=\"T_b825f_level0_row4\" class=\"row_heading level0 row4\" >Missing item_Neutral</th>\n",
       "                        <td id=\"T_b825f_row4_col0\" class=\"data row4 col0\" >0.082956</td>\n",
       "                        <td id=\"T_b825f_row4_col1\" class=\"data row4 col1\" >0.003370</td>\n",
       "                        <td id=\"T_b825f_row4_col2\" class=\"data row4 col2\" >0.085088</td>\n",
       "                        <td id=\"T_b825f_row4_col3\" class=\"data row4 col3\" >0.039387</td>\n",
       "                        <td id=\"T_b825f_row4_col4\" class=\"data row4 col4\" >0.994275</td>\n",
       "                        <td id=\"T_b825f_row4_col5\" class=\"data row4 col5\" >0.181202</td>\n",
       "                        <td id=\"T_b825f_row4_col6\" class=\"data row4 col6\" >0.107111</td>\n",
       "                        <td id=\"T_b825f_row4_col7\" class=\"data row4 col7\" >0.006735</td>\n",
       "                        <td id=\"T_b825f_row4_col8\" class=\"data row4 col8\" >0.138876</td>\n",
       "                        <td id=\"T_b825f_row4_col9\" class=\"data row4 col9\" >0.098696</td>\n",
       "                        <td id=\"T_b825f_row4_col10\" class=\"data row4 col10\" >0.040938</td>\n",
       "                        <td id=\"T_b825f_row4_col11\" class=\"data row4 col11\" >0.098772</td>\n",
       "            </tr>\n",
       "            <tr>\n",
       "                        <th id=\"T_b825f_level0_row5\" class=\"row_heading level0 row5\" >Perference(P2)_ Sweets</th>\n",
       "                        <td id=\"T_b825f_row5_col0\" class=\"data row5 col0\" >0.352582</td>\n",
       "                        <td id=\"T_b825f_row5_col1\" class=\"data row5 col1\" >0.252408</td>\n",
       "                        <td id=\"T_b825f_row5_col2\" class=\"data row5 col2\" >0.031962</td>\n",
       "                        <td id=\"T_b825f_row5_col3\" class=\"data row5 col3\" >0.044323</td>\n",
       "                        <td id=\"T_b825f_row5_col4\" class=\"data row5 col4\" >0.181202</td>\n",
       "                        <td id=\"T_b825f_row5_col5\" class=\"data row5 col5\" >0.994763</td>\n",
       "                        <td id=\"T_b825f_row5_col6\" class=\"data row5 col6\" >0.215740</td>\n",
       "                        <td id=\"T_b825f_row5_col7\" class=\"data row5 col7\" >0.097878</td>\n",
       "                        <td id=\"T_b825f_row5_col8\" class=\"data row5 col8\" >0.046639</td>\n",
       "                        <td id=\"T_b825f_row5_col9\" class=\"data row5 col9\" >0.105024</td>\n",
       "                        <td id=\"T_b825f_row5_col10\" class=\"data row5 col10\" >0.015098</td>\n",
       "                        <td id=\"T_b825f_row5_col11\" class=\"data row5 col11\" >0.023378</td>\n",
       "            </tr>\n",
       "            <tr>\n",
       "                        <th id=\"T_b825f_level0_row6\" class=\"row_heading level0 row6\" >Unavailability_Disagree</th>\n",
       "                        <td id=\"T_b825f_row6_col0\" class=\"data row6 col0\" >0.095367</td>\n",
       "                        <td id=\"T_b825f_row6_col1\" class=\"data row6 col1\" >0.030813</td>\n",
       "                        <td id=\"T_b825f_row6_col2\" class=\"data row6 col2\" >0.204847</td>\n",
       "                        <td id=\"T_b825f_row6_col3\" class=\"data row6 col3\" >0.126423</td>\n",
       "                        <td id=\"T_b825f_row6_col4\" class=\"data row6 col4\" >0.107111</td>\n",
       "                        <td id=\"T_b825f_row6_col5\" class=\"data row6 col5\" >0.215740</td>\n",
       "                        <td id=\"T_b825f_row6_col6\" class=\"data row6 col6\" >0.996452</td>\n",
       "                        <td id=\"T_b825f_row6_col7\" class=\"data row6 col7\" >0.186992</td>\n",
       "                        <td id=\"T_b825f_row6_col8\" class=\"data row6 col8\" >0.010490</td>\n",
       "                        <td id=\"T_b825f_row6_col9\" class=\"data row6 col9\" >0.091263</td>\n",
       "                        <td id=\"T_b825f_row6_col10\" class=\"data row6 col10\" >0.039843</td>\n",
       "                        <td id=\"T_b825f_row6_col11\" class=\"data row6 col11\" >0.064370</td>\n",
       "            </tr>\n",
       "            <tr>\n",
       "                        <th id=\"T_b825f_level0_row7\" class=\"row_heading level0 row7\" >Maximum wait time_15 minutes</th>\n",
       "                        <td id=\"T_b825f_row7_col0\" class=\"data row7 col0\" >0.357392</td>\n",
       "                        <td id=\"T_b825f_row7_col1\" class=\"data row7 col1\" >0.251455</td>\n",
       "                        <td id=\"T_b825f_row7_col2\" class=\"data row7 col2\" >0.115411</td>\n",
       "                        <td id=\"T_b825f_row7_col3\" class=\"data row7 col3\" >0.082358</td>\n",
       "                        <td id=\"T_b825f_row7_col4\" class=\"data row7 col4\" >0.006735</td>\n",
       "                        <td id=\"T_b825f_row7_col5\" class=\"data row7 col5\" >0.097878</td>\n",
       "                        <td id=\"T_b825f_row7_col6\" class=\"data row7 col6\" >0.186992</td>\n",
       "                        <td id=\"T_b825f_row7_col7\" class=\"data row7 col7\" >0.994553</td>\n",
       "                        <td id=\"T_b825f_row7_col8\" class=\"data row7 col8\" >0.056410</td>\n",
       "                        <td id=\"T_b825f_row7_col9\" class=\"data row7 col9\" >0.060427</td>\n",
       "                        <td id=\"T_b825f_row7_col10\" class=\"data row7 col10\" >0.031094</td>\n",
       "                        <td id=\"T_b825f_row7_col11\" class=\"data row7 col11\" >0.001597</td>\n",
       "            </tr>\n",
       "            <tr>\n",
       "                        <th id=\"T_b825f_level0_row8\" class=\"row_heading level0 row8\" >Late Delivery_Disagree</th>\n",
       "                        <td id=\"T_b825f_row8_col0\" class=\"data row8 col0\" >0.082110</td>\n",
       "                        <td id=\"T_b825f_row8_col1\" class=\"data row8 col1\" >0.047316</td>\n",
       "                        <td id=\"T_b825f_row8_col2\" class=\"data row8 col2\" >0.053149</td>\n",
       "                        <td id=\"T_b825f_row8_col3\" class=\"data row8 col3\" >0.054027</td>\n",
       "                        <td id=\"T_b825f_row8_col4\" class=\"data row8 col4\" >0.138876</td>\n",
       "                        <td id=\"T_b825f_row8_col5\" class=\"data row8 col5\" >0.046639</td>\n",
       "                        <td id=\"T_b825f_row8_col6\" class=\"data row8 col6\" >0.010490</td>\n",
       "                        <td id=\"T_b825f_row8_col7\" class=\"data row8 col7\" >0.056410</td>\n",
       "                        <td id=\"T_b825f_row8_col8\" class=\"data row8 col8\" >0.993906</td>\n",
       "                        <td id=\"T_b825f_row8_col9\" class=\"data row8 col9\" >0.023251</td>\n",
       "                        <td id=\"T_b825f_row8_col10\" class=\"data row8 col10\" >0.023330</td>\n",
       "                        <td id=\"T_b825f_row8_col11\" class=\"data row8 col11\" >0.059960</td>\n",
       "            </tr>\n",
       "            <tr>\n",
       "                        <th id=\"T_b825f_level0_row9\" class=\"row_heading level0 row9\" >Delay of delivery person getting assigned_Strongly agree</th>\n",
       "                        <td id=\"T_b825f_row9_col0\" class=\"data row9 col0\" >0.117381</td>\n",
       "                        <td id=\"T_b825f_row9_col1\" class=\"data row9 col1\" >0.109788</td>\n",
       "                        <td id=\"T_b825f_row9_col2\" class=\"data row9 col2\" >0.029897</td>\n",
       "                        <td id=\"T_b825f_row9_col3\" class=\"data row9 col3\" >0.042307</td>\n",
       "                        <td id=\"T_b825f_row9_col4\" class=\"data row9 col4\" >0.098696</td>\n",
       "                        <td id=\"T_b825f_row9_col5\" class=\"data row9 col5\" >0.105024</td>\n",
       "                        <td id=\"T_b825f_row9_col6\" class=\"data row9 col6\" >0.091263</td>\n",
       "                        <td id=\"T_b825f_row9_col7\" class=\"data row9 col7\" >0.060427</td>\n",
       "                        <td id=\"T_b825f_row9_col8\" class=\"data row9 col8\" >0.023251</td>\n",
       "                        <td id=\"T_b825f_row9_col9\" class=\"data row9 col9\" >0.993345</td>\n",
       "                        <td id=\"T_b825f_row9_col10\" class=\"data row9 col10\" >0.044092</td>\n",
       "                        <td id=\"T_b825f_row9_col11\" class=\"data row9 col11\" >0.043692</td>\n",
       "            </tr>\n",
       "            <tr>\n",
       "                        <th id=\"T_b825f_level0_row10\" class=\"row_heading level0 row10\" >Wrong order delivered_Strongly disagree</th>\n",
       "                        <td id=\"T_b825f_row10_col0\" class=\"data row10 col0\" >0.061740</td>\n",
       "                        <td id=\"T_b825f_row10_col1\" class=\"data row10 col1\" >0.070621</td>\n",
       "                        <td id=\"T_b825f_row10_col2\" class=\"data row10 col2\" >0.023620</td>\n",
       "                        <td id=\"T_b825f_row10_col3\" class=\"data row10 col3\" >0.041418</td>\n",
       "                        <td id=\"T_b825f_row10_col4\" class=\"data row10 col4\" >0.040938</td>\n",
       "                        <td id=\"T_b825f_row10_col5\" class=\"data row10 col5\" >0.015098</td>\n",
       "                        <td id=\"T_b825f_row10_col6\" class=\"data row10 col6\" >0.039843</td>\n",
       "                        <td id=\"T_b825f_row10_col7\" class=\"data row10 col7\" >0.031094</td>\n",
       "                        <td id=\"T_b825f_row10_col8\" class=\"data row10 col8\" >0.023330</td>\n",
       "                        <td id=\"T_b825f_row10_col9\" class=\"data row10 col9\" >0.044092</td>\n",
       "                        <td id=\"T_b825f_row10_col10\" class=\"data row10 col10\" >0.993468</td>\n",
       "                        <td id=\"T_b825f_row10_col11\" class=\"data row10 col11\" >0.124387</td>\n",
       "            </tr>\n",
       "            <tr>\n",
       "                        <th id=\"T_b825f_level0_row11\" class=\"row_heading level0 row11\" >Long delivery time_Agree</th>\n",
       "                        <td id=\"T_b825f_row11_col0\" class=\"data row11 col0\" >0.092653</td>\n",
       "                        <td id=\"T_b825f_row11_col1\" class=\"data row11 col1\" >0.119507</td>\n",
       "                        <td id=\"T_b825f_row11_col2\" class=\"data row11 col2\" >0.021571</td>\n",
       "                        <td id=\"T_b825f_row11_col3\" class=\"data row11 col3\" >0.190967</td>\n",
       "                        <td id=\"T_b825f_row11_col4\" class=\"data row11 col4\" >0.098772</td>\n",
       "                        <td id=\"T_b825f_row11_col5\" class=\"data row11 col5\" >0.023378</td>\n",
       "                        <td id=\"T_b825f_row11_col6\" class=\"data row11 col6\" >0.064370</td>\n",
       "                        <td id=\"T_b825f_row11_col7\" class=\"data row11 col7\" >0.001597</td>\n",
       "                        <td id=\"T_b825f_row11_col8\" class=\"data row11 col8\" >0.059960</td>\n",
       "                        <td id=\"T_b825f_row11_col9\" class=\"data row11 col9\" >0.043692</td>\n",
       "                        <td id=\"T_b825f_row11_col10\" class=\"data row11 col10\" >0.124387</td>\n",
       "                        <td id=\"T_b825f_row11_col11\" class=\"data row11 col11\" >0.996678</td>\n",
       "            </tr>\n",
       "    </tbody></table>"
      ],
      "text/plain": [
       "<pandas.io.formats.style.Styler at 0x15cb879a1c8>"
      ]
     },
     "execution_count": 121,
     "metadata": {},
     "output_type": "execute_result"
    }
   ],
   "source": [
    "relation_between_feature.style.apply(lambda x: [\"background: red\" if v>0.25 and v<0.99 else \"\" for v in x], axis = 1)"
   ]
  },
  {
   "cell_type": "code",
   "execution_count": 136,
   "metadata": {
    "ExecuteTime": {
     "end_time": "2021-02-12T04:31:59.267636Z",
     "start_time": "2021-02-12T04:31:59.261640Z"
    }
   },
   "outputs": [],
   "source": [
    "multicolinear_feature=[\"Perference(P2)_ Sweets\",\"Maximum wait time_15 minutes\",\"More restaurant choices_Disagree\"]"
   ]
  },
  {
   "cell_type": "code",
   "execution_count": 137,
   "metadata": {
    "ExecuteTime": {
     "end_time": "2021-02-12T04:31:59.760879Z",
     "start_time": "2021-02-12T04:31:59.755880Z"
    }
   },
   "outputs": [],
   "source": [
    "final_feature=list(relation_between_feature.columns)"
   ]
  },
  {
   "cell_type": "code",
   "execution_count": 138,
   "metadata": {
    "ExecuteTime": {
     "end_time": "2021-02-12T04:32:00.521024Z",
     "start_time": "2021-02-12T04:32:00.513029Z"
    }
   },
   "outputs": [
    {
     "data": {
      "text/plain": [
       "['Ease and convenient_Disagree',\n",
       " 'More restaurant choices_Disagree',\n",
       " 'Unaffordable_Agree',\n",
       " 'Occupation_Student',\n",
       " 'Missing item_Neutral',\n",
       " 'Perference(P2)_ Sweets',\n",
       " 'Unavailability_Disagree',\n",
       " 'Maximum wait time_15 minutes',\n",
       " 'Late Delivery_Disagree',\n",
       " 'Delay of delivery person getting assigned_Strongly agree',\n",
       " 'Wrong order delivered_Strongly disagree',\n",
       " 'Long delivery time_Agree']"
      ]
     },
     "execution_count": 138,
     "metadata": {},
     "output_type": "execute_result"
    }
   ],
   "source": [
    "final_feature"
   ]
  },
  {
   "cell_type": "code",
   "execution_count": 146,
   "metadata": {
    "ExecuteTime": {
     "end_time": "2021-02-12T04:35:49.742086Z",
     "start_time": "2021-02-12T04:35:49.736091Z"
    }
   },
   "outputs": [],
   "source": [
    "set1 = set(final_feature)\n",
    "set2 = set(multicolinear_feature)\n",
    "final_feature = list(set1 - set2)"
   ]
  },
  {
   "cell_type": "code",
   "execution_count": 148,
   "metadata": {
    "ExecuteTime": {
     "end_time": "2021-02-12T04:36:00.150467Z",
     "start_time": "2021-02-12T04:36:00.142454Z"
    }
   },
   "outputs": [
    {
     "data": {
      "text/plain": [
       "['Unaffordable_Agree',\n",
       " 'Delay of delivery person getting assigned_Strongly agree',\n",
       " 'Long delivery time_Agree',\n",
       " 'Wrong order delivered_Strongly disagree',\n",
       " 'Missing item_Neutral',\n",
       " 'Unavailability_Disagree',\n",
       " 'Occupation_Student',\n",
       " 'Ease and convenient_Disagree',\n",
       " 'Late Delivery_Disagree']"
      ]
     },
     "execution_count": 148,
     "metadata": {},
     "output_type": "execute_result"
    }
   ],
   "source": [
    "final_feature"
   ]
  },
  {
   "cell_type": "code",
   "execution_count": 140,
   "metadata": {
    "ExecuteTime": {
     "end_time": "2021-02-12T04:32:02.838842Z",
     "start_time": "2021-02-12T04:32:02.005088Z"
    }
   },
   "outputs": [
    {
     "data": {
      "text/plain": [
       "'fgini.png'"
      ]
     },
     "execution_count": 140,
     "metadata": {},
     "output_type": "execute_result"
    }
   ],
   "source": [
    "\n",
    "import graphviz\n",
    "import sklearn.tree as tree\n",
    "# DOT data\n",
    "dot_data = tree.export_graphviz(clf, out_file=None, \n",
    "                                feature_names=X.columns,  \n",
    "                                class_names='01',\n",
    "                                filled=True)\n",
    "\n",
    "# # Draw graph\n",
    "graph = graphviz.Source(dot_data,format=\"png\") \n",
    "graph.render('fgini')\n",
    "# graph"
   ]
  },
  {
   "cell_type": "markdown",
   "metadata": {},
   "source": [
    "# Final model"
   ]
  },
  {
   "cell_type": "code",
   "execution_count": 201,
   "metadata": {
    "ExecuteTime": {
     "end_time": "2021-02-12T05:32:25.172287Z",
     "start_time": "2021-02-12T05:32:24.910376Z"
    }
   },
   "outputs": [],
   "source": [
    "fd_dlvry=pd.read_csv('../../data/Banglore_food_delivery/onlinedeliverydata.csv')\n",
    "\n",
    "fd_dlvry.drop(['Pin code','longitude','latitude','Reviews'],axis=1,inplace=True)\n",
    "\n",
    "fd_dlvry['Output']=fd_dlvry['Output'].replace({'Yes':1,'No':0})"
   ]
  },
  {
   "cell_type": "code",
   "execution_count": 202,
   "metadata": {
    "ExecuteTime": {
     "end_time": "2021-02-12T05:32:25.694928Z",
     "start_time": "2021-02-12T05:32:25.584990Z"
    }
   },
   "outputs": [
    {
     "data": {
      "text/plain": [
       "(388, 223)"
      ]
     },
     "execution_count": 202,
     "metadata": {},
     "output_type": "execute_result"
    }
   ],
   "source": [
    "fd_ori=fd_dlvry.copy(deep=True)\n",
    "df=pd.get_dummies(fd_dlvry)\n",
    "df.shape"
   ]
  },
  {
   "cell_type": "code",
   "execution_count": 203,
   "metadata": {
    "ExecuteTime": {
     "end_time": "2021-02-12T05:32:26.254607Z",
     "start_time": "2021-02-12T05:32:26.227623Z"
    }
   },
   "outputs": [],
   "source": [
    "X=df[final_feature]\n",
    "y=df['Output']\n",
    "nm=RandomOverSampler()\n",
    "X,y=nm.fit_sample(X,y)\n"
   ]
  },
  {
   "cell_type": "code",
   "execution_count": 204,
   "metadata": {
    "ExecuteTime": {
     "end_time": "2021-02-12T05:32:26.903239Z",
     "start_time": "2021-02-12T05:32:26.880251Z"
    }
   },
   "outputs": [
    {
     "data": {
      "text/plain": [
       "DecisionTreeClassifier(max_depth=6, min_samples_leaf=2, min_samples_split=4,\n",
       "                       random_state=0)"
      ]
     },
     "execution_count": 204,
     "metadata": {},
     "output_type": "execute_result"
    }
   ],
   "source": [
    "X_train, X_test, y_train, y_test = train_test_split(X, y, test_size = 0.33)\n",
    "clf=DecisionTreeClassifier(random_state=0,max_depth=6,min_samples_leaf=2,min_samples_split=4)\n",
    "clf.fit(X,y)"
   ]
  },
  {
   "cell_type": "code",
   "execution_count": 205,
   "metadata": {
    "ExecuteTime": {
     "end_time": "2021-02-12T05:32:28.133535Z",
     "start_time": "2021-02-12T05:32:28.117550Z"
    }
   },
   "outputs": [
    {
     "data": {
      "text/plain": [
       "0.9045226130653267"
      ]
     },
     "execution_count": 205,
     "metadata": {},
     "output_type": "execute_result"
    }
   ],
   "source": [
    "clf.score(X_test,y_test)"
   ]
  },
  {
   "cell_type": "code",
   "execution_count": 206,
   "metadata": {
    "ExecuteTime": {
     "end_time": "2021-02-12T05:32:28.746184Z",
     "start_time": "2021-02-12T05:32:28.729194Z"
    }
   },
   "outputs": [
    {
     "data": {
      "text/plain": [
       "array([1, 1, 0, 0, 0, 1, 0, 1, 0, 0, 0, 0, 0, 1, 0, 0, 1, 0, 1, 0, 1, 0,\n",
       "       1, 0, 1, 1, 1, 0, 0, 0, 1, 0, 0, 0, 0, 1, 1, 1, 1, 1, 0, 1, 1, 1,\n",
       "       0, 0, 1, 0, 1, 0, 0, 1, 0, 0, 0, 0, 1, 1, 1, 1, 0, 0, 0, 1, 0, 0,\n",
       "       1, 0, 0, 1, 1, 1, 0, 1, 1, 1, 1, 0, 0, 1, 1, 1, 0, 1, 1, 1, 1, 1,\n",
       "       1, 1, 0, 0, 0, 1, 1, 1, 1, 0, 1, 1, 0, 1, 0, 1, 1, 1, 0, 1, 0, 1,\n",
       "       1, 1, 1, 1, 0, 1, 1, 0, 1, 0, 1, 0, 1, 0, 1, 1, 1, 1, 1, 0, 1, 1,\n",
       "       1, 1, 0, 1, 0, 0, 0, 1, 1, 1, 1, 1, 1, 0, 1, 1, 1, 1, 1, 0, 0, 1,\n",
       "       0, 0, 1, 1, 1, 0, 1, 0, 1, 1, 1, 1, 0, 1, 0, 1, 1, 1, 1, 1, 1, 0,\n",
       "       1, 0, 1, 0, 1, 1, 1, 0, 0, 1, 1, 1, 1, 1, 0, 1, 1, 1, 1, 1, 0, 1,\n",
       "       1], dtype=int64)"
      ]
     },
     "execution_count": 206,
     "metadata": {},
     "output_type": "execute_result"
    }
   ],
   "source": [
    "y_pred=clf.predict(X_test)\n",
    "y_pred"
   ]
  },
  {
   "cell_type": "code",
   "execution_count": null,
   "metadata": {
    "ExecuteTime": {
     "end_time": "2021-02-12T05:13:36.330261Z",
     "start_time": "2021-02-12T05:13:36.295282Z"
    }
   },
   "outputs": [],
   "source": []
  },
  {
   "cell_type": "code",
   "execution_count": 207,
   "metadata": {
    "ExecuteTime": {
     "end_time": "2021-02-12T05:32:30.374253Z",
     "start_time": "2021-02-12T05:32:30.364261Z"
    }
   },
   "outputs": [
    {
     "name": "stdout",
     "output_type": "stream",
     "text": [
      "[[ 73  15]\n",
      " [  4 107]]\n"
     ]
    }
   ],
   "source": [
    "print(confusion_matrix(y_test,y_pred))"
   ]
  },
  {
   "cell_type": "code",
   "execution_count": 208,
   "metadata": {
    "ExecuteTime": {
     "end_time": "2021-02-12T05:32:31.254750Z",
     "start_time": "2021-02-12T05:32:31.085849Z"
    }
   },
   "outputs": [
    {
     "name": "stdout",
     "output_type": "stream",
     "text": [
      "List of possible accuracy: [0.8627450980392157, 0.7254901960784313, 0.88, 0.9, 0.88, 0.86, 0.84, 0.92, 0.84, 0.92, 0.94, 0.88]\n",
      "\n",
      "Maximum Accuracy That can be obtained from this model is: 94.0 %\n",
      "\n",
      "Minimum Accuracy: 72.54901960784314 %\n",
      "\n",
      "Average Accuracy That can be obtained from this model is:: 0.870686274509804\n",
      "\n",
      " Median Accuracy That can be obtained from this model is:: 0.88\n",
      "\n",
      "Standard Deviation is: 0.05317429309942066\n"
     ]
    }
   ],
   "source": [
    "lst_accu_stratified = [] \n",
    "x=0\n",
    "\n",
    "for train_index, test_index in skf.split(X, y): \n",
    "    x_train_fold, x_test_fold = X.loc[train_index,:], X.loc[test_index,:] \n",
    "    y_train_fold, y_test_fold = y[train_index], y[test_index] \n",
    "    clf.fit(x_train_fold, y_train_fold)\n",
    "    lst_accu_stratified.append(clf.score(x_test_fold, y_test_fold))\n",
    "    \n",
    "    \n",
    "print('List of possible accuracy:', lst_accu_stratified) \n",
    "print('\\nMaximum Accuracy That can be obtained from this model is:', \n",
    "      max(lst_accu_stratified)*100, '%') \n",
    "print('\\nMinimum Accuracy:', \n",
    "      min(lst_accu_stratified)*100, '%') \n",
    "print('\\nAverage Accuracy That can be obtained from this model is::',np.mean(lst_accu_stratified)) \n",
    "print('\\n Median Accuracy That can be obtained from this model is::',np.median(lst_accu_stratified)) \n",
    "print('\\nStandard Deviation is:',np.std(lst_accu_stratified)) "
   ]
  },
  {
   "cell_type": "code",
   "execution_count": 219,
   "metadata": {
    "ExecuteTime": {
     "end_time": "2021-02-12T05:36:55.876543Z",
     "start_time": "2021-02-12T05:36:55.863552Z"
    }
   },
   "outputs": [
    {
     "data": {
      "text/plain": [
       "{'Unaffordable_Agree': 1,\n",
       " 'Delay of delivery person getting assigned_Strongly agree': 0,\n",
       " 'Long delivery time_Agree': 1,\n",
       " 'Wrong order delivered_Strongly disagree': 0,\n",
       " 'Missing item_Neutral': 1,\n",
       " 'Unavailability_Disagree': 0,\n",
       " 'Occupation_Student': 0,\n",
       " 'Ease and convenient_Disagree': 0,\n",
       " 'Late Delivery_Disagree': 0}"
      ]
     },
     "execution_count": 219,
     "metadata": {},
     "output_type": "execute_result"
    }
   ],
   "source": [
    "list_1=[1,0,1,0,1,0,0,0,0]\n",
    "pre=np.array(list_1).reshape(1,-1)\n",
    "nk=dict(zip(X_test.columns,list_1))\n",
    "nk\n"
   ]
  },
  {
   "cell_type": "code",
   "execution_count": 220,
   "metadata": {
    "ExecuteTime": {
     "end_time": "2021-02-12T05:36:56.352272Z",
     "start_time": "2021-02-12T05:36:56.346276Z"
    }
   },
   "outputs": [],
   "source": [
    "# import graphviz\n",
    "# import sklearn.tree as tree\n",
    "# # DOT data\n",
    "# dot_data = tree.export_graphviz(clf, out_file=None, \n",
    "#                                 feature_names=X_test.columns,  \n",
    "#                                 class_names='01',\n",
    "#                                 filled=True)\n",
    "\n",
    "# # # Draw graph\n",
    "# graph = graphviz.Source(dot_data,format=\"png\") \n",
    "# graph.render('fgini')\n",
    "# # graph"
   ]
  },
  {
   "cell_type": "code",
   "execution_count": 221,
   "metadata": {
    "ExecuteTime": {
     "end_time": "2021-02-12T05:36:57.030884Z",
     "start_time": "2021-02-12T05:36:57.021889Z"
    }
   },
   "outputs": [
    {
     "data": {
      "text/plain": [
       "array([0], dtype=int64)"
      ]
     },
     "execution_count": 221,
     "metadata": {},
     "output_type": "execute_result"
    }
   ],
   "source": [
    "clf.predict(pre)"
   ]
  },
  {
   "cell_type": "code",
   "execution_count": null,
   "metadata": {},
   "outputs": [],
   "source": []
  },
  {
   "cell_type": "code",
   "execution_count": null,
   "metadata": {},
   "outputs": [],
   "source": []
  }
 ],
 "metadata": {
  "kernelspec": {
   "display_name": "Python 3",
   "language": "python",
   "name": "python3"
  },
  "language_info": {
   "codemirror_mode": {
    "name": "ipython",
    "version": 3
   },
   "file_extension": ".py",
   "mimetype": "text/x-python",
   "name": "python",
   "nbconvert_exporter": "python",
   "pygments_lexer": "ipython3",
   "version": "3.7.9"
  },
  "toc": {
   "base_numbering": 1,
   "nav_menu": {
    "height": "68px",
    "width": "168px"
   },
   "number_sections": true,
   "sideBar": true,
   "skip_h1_title": false,
   "title_cell": "Table of Contents",
   "title_sidebar": "Contents",
   "toc_cell": false,
   "toc_position": {},
   "toc_section_display": true,
   "toc_window_display": true
  }
 },
 "nbformat": 4,
 "nbformat_minor": 4
}
