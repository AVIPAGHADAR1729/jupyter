{
 "cells": [
  {
   "cell_type": "code",
   "execution_count": 4,
   "metadata": {
    "ExecuteTime": {
     "end_time": "2020-05-30T10:05:42.780367Z",
     "start_time": "2020-05-30T10:05:33.727496Z"
    }
   },
   "outputs": [],
   "source": [
    "import numpy as np\n",
    "import scipy as sc\n",
    "from scipy import interpolate\n",
    "import matplotlib.pyplot as plt\n",
    "import sklearn.linear_model \n",
    "from sklearn.metrics import r2_score\n",
    "import statistics as st\n",
    "from sklearn.preprocessing import PolynomialFeatures\n",
    "from sklearn.linear_model import LinearRegression\n",
    "lm=LinearRegression()\n",
    "import pandas  as pd"
   ]
  },
  {
   "cell_type": "code",
   "execution_count": 7,
   "metadata": {
    "ExecuteTime": {
     "end_time": "2020-05-30T10:05:58.574235Z",
     "start_time": "2020-05-30T10:05:58.562544Z"
    }
   },
   "outputs": [],
   "source": [
    "shop=pd.read_csv(\"../data/regression1.csv\")\n",
    "shop\n",
    "mind=shop"
   ]
  },
  {
   "cell_type": "code",
   "execution_count": null,
   "metadata": {},
   "outputs": [],
   "source": []
  },
  {
   "cell_type": "code",
   "execution_count": 8,
   "metadata": {
    "ExecuteTime": {
     "end_time": "2020-05-30T10:06:02.377371Z",
     "start_time": "2020-05-30T10:06:02.346952Z"
    }
   },
   "outputs": [
    {
     "data": {
      "text/html": [
       "<div>\n",
       "<style scoped>\n",
       "    .dataframe tbody tr th:only-of-type {\n",
       "        vertical-align: middle;\n",
       "    }\n",
       "\n",
       "    .dataframe tbody tr th {\n",
       "        vertical-align: top;\n",
       "    }\n",
       "\n",
       "    .dataframe thead th {\n",
       "        text-align: right;\n",
       "    }\n",
       "</style>\n",
       "<table border=\"1\" class=\"dataframe\">\n",
       "  <thead>\n",
       "    <tr style=\"text-align: right;\">\n",
       "      <th></th>\n",
       "      <th>Day</th>\n",
       "      <th>profit</th>\n",
       "    </tr>\n",
       "  </thead>\n",
       "  <tbody>\n",
       "    <tr>\n",
       "      <th>0</th>\n",
       "      <td>1</td>\n",
       "      <td>13</td>\n",
       "    </tr>\n",
       "    <tr>\n",
       "      <th>1</th>\n",
       "      <td>2</td>\n",
       "      <td>17</td>\n",
       "    </tr>\n",
       "    <tr>\n",
       "      <th>2</th>\n",
       "      <td>3</td>\n",
       "      <td>73</td>\n",
       "    </tr>\n",
       "    <tr>\n",
       "      <th>3</th>\n",
       "      <td>4</td>\n",
       "      <td>96</td>\n",
       "    </tr>\n",
       "    <tr>\n",
       "      <th>4</th>\n",
       "      <td>5</td>\n",
       "      <td>124</td>\n",
       "    </tr>\n",
       "    <tr>\n",
       "      <th>5</th>\n",
       "      <td>6</td>\n",
       "      <td>220</td>\n",
       "    </tr>\n",
       "    <tr>\n",
       "      <th>6</th>\n",
       "      <td>7</td>\n",
       "      <td>210</td>\n",
       "    </tr>\n",
       "    <tr>\n",
       "      <th>7</th>\n",
       "      <td>8</td>\n",
       "      <td>228</td>\n",
       "    </tr>\n",
       "    <tr>\n",
       "      <th>8</th>\n",
       "      <td>9</td>\n",
       "      <td>250</td>\n",
       "    </tr>\n",
       "    <tr>\n",
       "      <th>9</th>\n",
       "      <td>10</td>\n",
       "      <td>285</td>\n",
       "    </tr>\n",
       "  </tbody>\n",
       "</table>\n",
       "</div>"
      ],
      "text/plain": [
       "   Day  profit\n",
       "0    1      13\n",
       "1    2      17\n",
       "2    3      73\n",
       "3    4      96\n",
       "4    5     124\n",
       "5    6     220\n",
       "6    7     210\n",
       "7    8     228\n",
       "8    9     250\n",
       "9   10     285"
      ]
     },
     "execution_count": 8,
     "metadata": {},
     "output_type": "execute_result"
    }
   ],
   "source": [
    "shop=shop[0:10]\n",
    "shop.iloc[5,1]=220\n",
    "mind.iloc[5,1]=220\n",
    "mind=shop\n",
    "shop"
   ]
  },
  {
   "cell_type": "code",
   "execution_count": null,
   "metadata": {},
   "outputs": [],
   "source": [
    "\n",
    "\n"
   ]
  },
  {
   "cell_type": "code",
   "execution_count": 104,
   "metadata": {},
   "outputs": [],
   "source": [
    "%matplotlib qt"
   ]
  },
  {
   "cell_type": "code",
   "execution_count": 4,
   "metadata": {},
   "outputs": [],
   "source": []
  },
  {
   "cell_type": "code",
   "execution_count": 5,
   "metadata": {},
   "outputs": [
    {
     "name": "stdout",
     "output_type": "stream",
     "text": [
      "nik\n",
      "[32.550000000000004, 30.811290322580657, 32.130882352941164, 31.916666666666668, 31.99459459459459, 31.718918918918913, 31.85833333333334, 32.21176470588236, 32.85483870967741, 32.98333333333334]\n",
      "[-28.30000000000001, -14.888709677419456, -25.31176470588227, -23.083333333333343, -23.081081081081066, -28.691891891891856, -24.80000000000004, -25.105882352941222, -27.258064516128968, -28.138888888888943]\n"
     ]
    }
   ],
   "source": [
    "p=[]\n",
    "q=[]\n",
    "for i in range(len(slop)):\n",
    "    p.append(slop[i][0][0])\n",
    "    q.append(intersect[i][0])\n",
    "print(\"nik\") \n",
    "print(p)\n",
    "print(q)\n",
    "X = shop[\"Day\"]\n",
    "a=np.reshape(X,-1)\n",
    "b=np.reshape(p,-1)\n",
    "c=np.reshape(q,-1)"
   ]
  },
  {
   "cell_type": "code",
   "execution_count": 6,
   "metadata": {},
   "outputs": [
    {
     "name": "stdout",
     "output_type": "stream",
     "text": [
      "(100,)\n"
     ]
    }
   ],
   "source": [
    "l1=np.linspace(1,10,100)\n",
    "print(l1.shape)"
   ]
  },
  {
   "cell_type": "code",
   "execution_count": 36,
   "metadata": {},
   "outputs": [],
   "source": [
    "\n",
    "# plt.plot(a,b)\n",
    "# plt.xlabel(\"X_value\")\n",
    "# plt.ylabel(\"slope\")\n",
    "# plt.xticks(a)\n",
    "# plt.figure()\n",
    "# plt.xlabel(\"X_value\")\n",
    "# plt.ylabel(\"intersection\")\n",
    "# plt.xticks(a)\n",
    "# plt.plot(a,c)"
   ]
  },
  {
   "cell_type": "code",
   "execution_count": 7,
   "metadata": {},
   "outputs": [
    {
     "name": "stdout",
     "output_type": "stream",
     "text": [
      "0.6213810925480995 4.06932075919516\n"
     ]
    }
   ],
   "source": [
    "# r=sc.stats.pearsonr(q, p)\n",
    "# print(r)\n",
    "\n"
   ]
  },
  {
   "cell_type": "code",
   "execution_count": 8,
   "metadata": {},
   "outputs": [
    {
     "name": "stdout",
     "output_type": "stream",
     "text": [
      "   Day  profit\n",
      "0    1      13\n",
      "1    2      17\n",
      "2    3      73\n",
      "3    4      96\n",
      "4    5     124\n",
      "5    6     220\n",
      "6    7     210\n",
      "7    8     228\n",
      "8    9     250\n",
      "9   10     285\n"
     ]
    }
   ],
   "source": []
  },
  {
   "cell_type": "code",
   "execution_count": null,
   "metadata": {},
   "outputs": [],
   "source": []
  },
  {
   "cell_type": "code",
   "execution_count": 9,
   "metadata": {},
   "outputs": [],
   "source": [
    "%matplotlib qt"
   ]
  },
  {
   "cell_type": "code",
   "execution_count": 10,
   "metadata": {},
   "outputs": [
    {
     "name": "stdout",
     "output_type": "stream",
     "text": [
      "(10, 1)\n",
      "[[32.07272727]] [-24.8]\n",
      "0.9560854186416361\n",
      "[[  7.27272727  39.34545455  71.41818182 103.49090909 135.56363636\n",
      "  167.63636364 199.70909091 231.78181818 263.85454545 295.92727273]]\n"
     ]
    },
    {
     "data": {
      "text/plain": [
       "Text(0, 0.5, 'profit')"
      ]
     },
     "execution_count": 10,
     "metadata": {},
     "output_type": "execute_result"
    }
   ],
   "source": [
    "X=shop[\"Day\"].values.reshape(-1,1)\n",
    "Y=shop['profit'].values.reshape(-1,1)\n",
    "lm.fit(X,Y)\n",
    "y_predict=lm.predict(X)\n",
    "print(X.shape)\n",
    "print(lm.coef_,lm.intercept_)\n",
    "coefficient_of_dermination = r2_score(Y, 32.07272727*X-24.8)\n",
    "print(coefficient_of_dermination)\n"
   ]
  },
  {
   "cell_type": "code",
   "execution_count": 11,
   "metadata": {},
   "outputs": [],
   "source": [
    "l1=[]\n",
    "l2=[]\n",
    "def mstd(m,l1):\n",
    "    sum=0\n",
    "    for i in l1:\n",
    "        sum=sum +(i-m)**2\n",
    "    return ((sum)/len(l1))**0.5\n"
   ]
  },
  {
   "cell_type": "code",
   "execution_count": 12,
   "metadata": {},
   "outputs": [
    {
     "name": "stdout",
     "output_type": "stream",
     "text": [
      "0.9128905840740573\n",
      "mean slop  32.103062293792846\n",
      "std slop 0.6213810925480995\n",
      "mean  intercept  -24.865961644756716\n",
      "std intercept 4.06932075919516\n",
      "Std X 3.0\n",
      "Mean X 5\n",
      "Std Y 99.30760293149764\n",
      "Mean Y 151\n"
     ]
    }
   ],
   "source": [
    "\n",
    "# print(mstd(lm.coef_,p))\n",
    "# print(mstd(lm.intercept_,q))\n",
    "X=shop[\"Day\"].values.reshape(-1,1)\n",
    "Y=shop['profit'].values.reshape(-1,1)\n",
    "coefficient_of_dermination = r2_score(Y, 37.42857143*X-42.14285714)\n",
    "print(coefficient_of_dermination)\n",
    "\n",
    "print(\"mean slop \",st.mean(p))\n",
    "print(\"std slop\",st.stdev(p))\n",
    "print(\"mean  intercept \",st.mean(q))\n",
    "print(\"std intercept\",st.stdev(q))\n",
    "print(\"Std X\",st.stdev(mind[\"Day\"].values))\n",
    "print(\"Mean X\",st.mean(mind[\"Day\"].values))\n",
    "print(\"Std Y\",st.stdev(mind[\"profit\"].values))\n",
    "print(\"Mean Y\",st.mean(mind[\"profit\"].values))"
   ]
  },
  {
   "cell_type": "code",
   "execution_count": 13,
   "metadata": {},
   "outputs": [
    {
     "name": "stdout",
     "output_type": "stream",
     "text": [
      "[32.550000000000004, 30.811290322580657, 32.130882352941164, 31.916666666666668, 31.99459459459459, 31.718918918918913, 31.85833333333334, 32.21176470588236, 32.85483870967741, 32.98333333333334]\n",
      "[-28.30000000000001, -14.888709677419456, -25.31176470588227, -23.083333333333343, -23.081081081081066, -28.691891891891856, -24.80000000000004, -25.105882352941222, -27.258064516128968, -28.138888888888943]\n"
     ]
    }
   ],
   "source": [
    "print(p)\n",
    "print(q)"
   ]
  },
  {
   "cell_type": "code",
   "execution_count": 14,
   "metadata": {},
   "outputs": [
    {
     "name": "stdout",
     "output_type": "stream",
     "text": [
      "0.6213810925480995 4.06932075919516\n"
     ]
    }
   ],
   "source": [
    "fm=st.stdev(p)\n",
    "fi=st.stdev(q)\n",
    "print(fm,fi)"
   ]
  },
  {
   "cell_type": "code",
   "execution_count": 20,
   "metadata": {},
   "outputs": [],
   "source": [
    "import random\n",
    "\n",
    "\n",
    "\n"
   ]
  },
  {
   "cell_type": "code",
   "execution_count": 21,
   "metadata": {},
   "outputs": [],
   "source": [
    "def si(std_s,std_i,num_trials,k):\n",
    "    sum=0\n",
    "    for i in range (num_trials):\n",
    "        sum=sum+((37.42857143-random.uniform(0,std_s))*k-42.14285714-random.uniform(0,10.06903065077034))\n",
    "    return (sum/num_trials)\n",
    "    "
   ]
  },
  {
   "cell_type": "code",
   "execution_count": 56,
   "metadata": {
    "scrolled": true
   },
   "outputs": [
    {
     "name": "stdout",
     "output_type": "stream",
     "text": [
      "[11, 12, 13, 14, 15, 16, 17, 18, 19, 20]\n",
      "[361.57630713161757, 398.3375490743003, 435.3424383666318, 471.9918552798759, 509.553438169338, 547.0234707693204, 584.0130742246911, 620.1364266962623, 658.143607334752, 695.1234363638982]\n",
      "[[  7.27272727  39.34545455  71.41818182 103.49090909 135.56363636\n",
      "  167.63636364 199.70909091 231.78181818 263.85454545 295.92727273]]\n",
      "[[328.        ]\n",
      " [360.07272727]\n",
      " [392.14545455]\n",
      " [424.21818182]\n",
      " [456.29090909]\n",
      " [488.36363636]\n",
      " [520.43636364]\n",
      " [552.50909091]\n",
      " [584.58181818]\n",
      " [616.65454545]]\n"
     ]
    }
   ],
   "source": []
  },
  {
   "cell_type": "code",
   "execution_count": 50,
   "metadata": {},
   "outputs": [
    {
     "name": "stdout",
     "output_type": "stream",
     "text": [
      "481.85714288\n"
     ]
    }
   ],
   "source": [
    "print(37.42857143*14-42.14285714)"
   ]
  },
  {
   "cell_type": "code",
   "execution_count": 141,
   "metadata": {},
   "outputs": [
    {
     "name": "stdout",
     "output_type": "stream",
     "text": [
      "19.507479155972636\n"
     ]
    }
   ],
   "source": [
    "\n",
    "\n",
    "\n"
   ]
  },
  {
   "cell_type": "code",
   "execution_count": null,
   "metadata": {},
   "outputs": [],
   "source": [
    "\n"
   ]
  },
  {
   "cell_type": "code",
   "execution_count": null,
   "metadata": {},
   "outputs": [],
   "source": []
  },
  {
   "cell_type": "code",
   "execution_count": null,
   "metadata": {},
   "outputs": [],
   "source": [
    "\n"
   ]
  },
  {
   "cell_type": "code",
   "execution_count": null,
   "metadata": {},
   "outputs": [],
   "source": []
  },
  {
   "cell_type": "code",
   "execution_count": null,
   "metadata": {},
   "outputs": [],
   "source": []
  },
  {
   "cell_type": "code",
   "execution_count": null,
   "metadata": {},
   "outputs": [],
   "source": []
  },
  {
   "cell_type": "code",
   "execution_count": null,
   "metadata": {},
   "outputs": [],
   "source": []
  },
  {
   "cell_type": "code",
   "execution_count": null,
   "metadata": {},
   "outputs": [],
   "source": []
  },
  {
   "cell_type": "code",
   "execution_count": null,
   "metadata": {},
   "outputs": [],
   "source": []
  },
  {
   "cell_type": "code",
   "execution_count": null,
   "metadata": {},
   "outputs": [],
   "source": []
  },
  {
   "cell_type": "code",
   "execution_count": null,
   "metadata": {},
   "outputs": [],
   "source": []
  },
  {
   "cell_type": "code",
   "execution_count": null,
   "metadata": {},
   "outputs": [],
   "source": []
  },
  {
   "cell_type": "code",
   "execution_count": null,
   "metadata": {},
   "outputs": [],
   "source": []
  },
  {
   "cell_type": "code",
   "execution_count": null,
   "metadata": {},
   "outputs": [],
   "source": []
  },
  {
   "cell_type": "code",
   "execution_count": null,
   "metadata": {},
   "outputs": [],
   "source": []
  },
  {
   "cell_type": "code",
   "execution_count": null,
   "metadata": {},
   "outputs": [],
   "source": []
  },
  {
   "cell_type": "code",
   "execution_count": null,
   "metadata": {},
   "outputs": [],
   "source": []
  },
  {
   "cell_type": "code",
   "execution_count": null,
   "metadata": {},
   "outputs": [],
   "source": []
  },
  {
   "cell_type": "code",
   "execution_count": null,
   "metadata": {},
   "outputs": [],
   "source": []
  },
  {
   "cell_type": "code",
   "execution_count": null,
   "metadata": {},
   "outputs": [],
   "source": []
  },
  {
   "cell_type": "code",
   "execution_count": null,
   "metadata": {},
   "outputs": [],
   "source": []
  },
  {
   "cell_type": "code",
   "execution_count": null,
   "metadata": {},
   "outputs": [],
   "source": []
  },
  {
   "cell_type": "code",
   "execution_count": null,
   "metadata": {},
   "outputs": [],
   "source": []
  },
  {
   "cell_type": "code",
   "execution_count": 14,
   "metadata": {},
   "outputs": [],
   "source": [
    "# coefficient_of_dermination = r2_score(y, p(x))\n",
    "# def mio(j):\n",
    "#         y1=fm*j+fi\n",
    "#         y2=fm*j-fi\n",
    "#         y3=fi-fm*j\n",
    "#         X = shop[\"Day\"].values.reshape(-1,1)\n",
    "#         Y= shop['profit'].values.reshape(-1,1)\n",
    "\n",
    "#         lm.fit(X,Y)\n",
    "        \n",
    "#         lm.intercept_\n",
    "#         y=lm.coef_*j+lm.intercept_\n",
    "#         print(\"reg\",y,i)\n",
    "#         print(\"first:\",y+y1,i)\n",
    "#         print(\"second:\",y+y2,i)\n",
    "#         print(\"third:\",y+y3,i)\n",
    "#         print((3*y+y2+y3)/4)\n",
    "# for i in range(11,20):\n",
    "#     mio(i)\n",
    "    "
   ]
  },
  {
   "cell_type": "code",
   "execution_count": null,
   "metadata": {},
   "outputs": [],
   "source": []
  },
  {
   "cell_type": "code",
   "execution_count": null,
   "metadata": {},
   "outputs": [],
   "source": []
  },
  {
   "cell_type": "code",
   "execution_count": null,
   "metadata": {},
   "outputs": [],
   "source": []
  },
  {
   "cell_type": "code",
   "execution_count": null,
   "metadata": {},
   "outputs": [],
   "source": []
  },
  {
   "cell_type": "code",
   "execution_count": null,
   "metadata": {},
   "outputs": [],
   "source": []
  },
  {
   "cell_type": "code",
   "execution_count": null,
   "metadata": {},
   "outputs": [],
   "source": []
  },
  {
   "cell_type": "code",
   "execution_count": null,
   "metadata": {},
   "outputs": [],
   "source": []
  },
  {
   "cell_type": "code",
   "execution_count": null,
   "metadata": {},
   "outputs": [],
   "source": []
  },
  {
   "cell_type": "code",
   "execution_count": null,
   "metadata": {},
   "outputs": [],
   "source": []
  },
  {
   "cell_type": "code",
   "execution_count": null,
   "metadata": {},
   "outputs": [],
   "source": []
  },
  {
   "cell_type": "code",
   "execution_count": null,
   "metadata": {},
   "outputs": [],
   "source": []
  },
  {
   "cell_type": "code",
   "execution_count": null,
   "metadata": {},
   "outputs": [],
   "source": []
  },
  {
   "cell_type": "code",
   "execution_count": null,
   "metadata": {},
   "outputs": [],
   "source": []
  },
  {
   "cell_type": "code",
   "execution_count": null,
   "metadata": {},
   "outputs": [],
   "source": [
    "\n"
   ]
  },
  {
   "cell_type": "code",
   "execution_count": null,
   "metadata": {},
   "outputs": [],
   "source": []
  },
  {
   "cell_type": "code",
   "execution_count": null,
   "metadata": {},
   "outputs": [],
   "source": []
  },
  {
   "cell_type": "code",
   "execution_count": null,
   "metadata": {},
   "outputs": [],
   "source": []
  },
  {
   "cell_type": "code",
   "execution_count": null,
   "metadata": {},
   "outputs": [],
   "source": [
    "\n"
   ]
  },
  {
   "cell_type": "code",
   "execution_count": null,
   "metadata": {},
   "outputs": [],
   "source": []
  }
 ],
 "metadata": {
  "kernelspec": {
   "display_name": "Python 3",
   "language": "python",
   "name": "python3"
  },
  "language_info": {
   "codemirror_mode": {
    "name": "ipython",
    "version": 3
   },
   "file_extension": ".py",
   "mimetype": "text/x-python",
   "name": "python",
   "nbconvert_exporter": "python",
   "pygments_lexer": "ipython3",
   "version": "3.7.6"
  },
  "toc": {
   "base_numbering": 1,
   "nav_menu": {},
   "number_sections": true,
   "sideBar": true,
   "skip_h1_title": false,
   "title_cell": "Table of Contents",
   "title_sidebar": "Contents",
   "toc_cell": false,
   "toc_position": {},
   "toc_section_display": true,
   "toc_window_display": false
  }
 },
 "nbformat": 4,
 "nbformat_minor": 4
}
