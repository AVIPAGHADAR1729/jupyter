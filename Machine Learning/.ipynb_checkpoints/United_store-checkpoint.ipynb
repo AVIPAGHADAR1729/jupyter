{
 "cells": [
  {
   "cell_type": "code",
   "execution_count": 1,
   "metadata": {
    "ExecuteTime": {
     "end_time": "2020-05-30T11:36:07.937742Z",
     "start_time": "2020-05-30T11:35:57.923009Z"
    }
   },
   "outputs": [],
   "source": [
    "import pandas as pd\n",
    "import matplotlib.pylab as plt\n",
    "store = pd.read_csv(\"../data/US_store.csv\", encoding='unicode_escape')"
   ]
  },
  {
   "cell_type": "code",
   "execution_count": 2,
   "metadata": {
    "ExecuteTime": {
     "end_time": "2020-05-30T11:36:08.006349Z",
     "start_time": "2020-05-30T11:36:07.937742Z"
    },
    "scrolled": true
   },
   "outputs": [
    {
     "name": "stdout",
     "output_type": "stream",
     "text": [
      "<class 'pandas.core.frame.DataFrame'>\n",
      "RangeIndex: 9994 entries, 0 to 9993\n",
      "Data columns (total 21 columns):\n",
      " #   Column         Non-Null Count  Dtype  \n",
      "---  ------         --------------  -----  \n",
      " 0   Row ID         9994 non-null   int64  \n",
      " 1   Order ID       9994 non-null   object \n",
      " 2   Order Date     9994 non-null   object \n",
      " 3   Ship Date      9994 non-null   object \n",
      " 4   Ship Mode      9994 non-null   object \n",
      " 5   Customer ID    9994 non-null   object \n",
      " 6   Customer Name  9994 non-null   object \n",
      " 7   Segment        9994 non-null   object \n",
      " 8   Country        9994 non-null   object \n",
      " 9   City           9994 non-null   object \n",
      " 10  State          9994 non-null   object \n",
      " 11  Postal Code    9994 non-null   int64  \n",
      " 12  Region         9994 non-null   object \n",
      " 13  Product ID     9994 non-null   object \n",
      " 14  Category       9994 non-null   object \n",
      " 15  Sub-Category   9994 non-null   object \n",
      " 16  Product Name   9994 non-null   object \n",
      " 17  Sales          9994 non-null   float64\n",
      " 18  Quantity       9994 non-null   int64  \n",
      " 19  Discount       9994 non-null   float64\n",
      " 20  Profit         9994 non-null   float64\n",
      "dtypes: float64(3), int64(3), object(15)\n",
      "memory usage: 1.6+ MB\n"
     ]
    }
   ],
   "source": [
    "store.head()\n",
    "store.info()"
   ]
  },
  {
   "cell_type": "code",
   "execution_count": 4,
   "metadata": {
    "ExecuteTime": {
     "end_time": "2020-05-27T04:17:55.375589Z",
     "start_time": "2020-05-27T04:17:55.346078Z"
    },
    "scrolled": true
   },
   "outputs": [],
   "source": [
    "''' selection Data '''\n",
    "\n",
    "st1 = store.iloc[0:, [2, 17, 18]]\n",
    "subc_quantity = store.iloc[0:, [15, 18]]\n",
    "subc_profit = store.iloc[0:, [15, 20]]\n",
    "st2 = st1.dropna()\n",
    "''' months vs subcatagory '''\n",
    "st3 = store.iloc[0:, [2, 15, 17, 18]]"
   ]
  },
  {
   "cell_type": "code",
   "execution_count": null,
   "metadata": {
    "ExecuteTime": {
     "end_time": "2020-05-26T11:59:04.537518Z",
     "start_time": "2020-05-26T11:59:04.381847Z"
    }
   },
   "outputs": [],
   "source": []
  },
  {
   "cell_type": "code",
   "execution_count": null,
   "metadata": {
    "ExecuteTime": {
     "end_time": "2020-05-26T12:01:49.078516Z",
     "start_time": "2020-05-26T12:01:49.067553Z"
    }
   },
   "outputs": [],
   "source": []
  },
  {
   "cell_type": "code",
   "execution_count": null,
   "metadata": {},
   "outputs": [],
   "source": []
  },
  {
   "cell_type": "code",
   "execution_count": null,
   "metadata": {},
   "outputs": [],
   "source": []
  },
  {
   "cell_type": "code",
   "execution_count": 5,
   "metadata": {
    "ExecuteTime": {
     "end_time": "2020-05-27T04:18:05.080334Z",
     "start_time": "2020-05-27T04:18:04.926423Z"
    }
   },
   "outputs": [
    {
     "data": {
      "text/html": [
       "<div>\n",
       "<style scoped>\n",
       "    .dataframe tbody tr th:only-of-type {\n",
       "        vertical-align: middle;\n",
       "    }\n",
       "\n",
       "    .dataframe tbody tr th {\n",
       "        vertical-align: top;\n",
       "    }\n",
       "\n",
       "    .dataframe thead th {\n",
       "        text-align: right;\n",
       "    }\n",
       "</style>\n",
       "<table border=\"1\" class=\"dataframe\">\n",
       "  <thead>\n",
       "    <tr style=\"text-align: right;\">\n",
       "      <th></th>\n",
       "      <th>Sub-Category</th>\n",
       "      <th>Profit</th>\n",
       "    </tr>\n",
       "  </thead>\n",
       "  <tbody>\n",
       "    <tr>\n",
       "      <th>0</th>\n",
       "      <td>Copiers</td>\n",
       "      <td>55617.8249</td>\n",
       "    </tr>\n",
       "    <tr>\n",
       "      <th>1</th>\n",
       "      <td>Phones</td>\n",
       "      <td>44515.7306</td>\n",
       "    </tr>\n",
       "    <tr>\n",
       "      <th>2</th>\n",
       "      <td>Accessories</td>\n",
       "      <td>41936.6357</td>\n",
       "    </tr>\n",
       "    <tr>\n",
       "      <th>3</th>\n",
       "      <td>Paper</td>\n",
       "      <td>34053.5693</td>\n",
       "    </tr>\n",
       "    <tr>\n",
       "      <th>4</th>\n",
       "      <td>Binders</td>\n",
       "      <td>30221.7633</td>\n",
       "    </tr>\n",
       "    <tr>\n",
       "      <th>5</th>\n",
       "      <td>Chairs</td>\n",
       "      <td>26590.1663</td>\n",
       "    </tr>\n",
       "    <tr>\n",
       "      <th>6</th>\n",
       "      <td>Storage</td>\n",
       "      <td>21278.8264</td>\n",
       "    </tr>\n",
       "    <tr>\n",
       "      <th>7</th>\n",
       "      <td>Appliances</td>\n",
       "      <td>18138.0054</td>\n",
       "    </tr>\n",
       "    <tr>\n",
       "      <th>8</th>\n",
       "      <td>Furnishings</td>\n",
       "      <td>13059.1436</td>\n",
       "    </tr>\n",
       "    <tr>\n",
       "      <th>9</th>\n",
       "      <td>Envelopes</td>\n",
       "      <td>6964.1767</td>\n",
       "    </tr>\n",
       "    <tr>\n",
       "      <th>10</th>\n",
       "      <td>Art</td>\n",
       "      <td>6527.7870</td>\n",
       "    </tr>\n",
       "    <tr>\n",
       "      <th>11</th>\n",
       "      <td>Labels</td>\n",
       "      <td>5546.2540</td>\n",
       "    </tr>\n",
       "    <tr>\n",
       "      <th>12</th>\n",
       "      <td>Machines</td>\n",
       "      <td>3384.7569</td>\n",
       "    </tr>\n",
       "    <tr>\n",
       "      <th>13</th>\n",
       "      <td>Fasteners</td>\n",
       "      <td>949.5182</td>\n",
       "    </tr>\n",
       "    <tr>\n",
       "      <th>14</th>\n",
       "      <td>Supplies</td>\n",
       "      <td>-1189.0995</td>\n",
       "    </tr>\n",
       "    <tr>\n",
       "      <th>15</th>\n",
       "      <td>Bookcases</td>\n",
       "      <td>-3472.5560</td>\n",
       "    </tr>\n",
       "    <tr>\n",
       "      <th>16</th>\n",
       "      <td>Tables</td>\n",
       "      <td>-17725.4811</td>\n",
       "    </tr>\n",
       "  </tbody>\n",
       "</table>\n",
       "</div>"
      ],
      "text/plain": [
       "   Sub-Category      Profit\n",
       "0       Copiers  55617.8249\n",
       "1        Phones  44515.7306\n",
       "2   Accessories  41936.6357\n",
       "3         Paper  34053.5693\n",
       "4       Binders  30221.7633\n",
       "5        Chairs  26590.1663\n",
       "6       Storage  21278.8264\n",
       "7    Appliances  18138.0054\n",
       "8   Furnishings  13059.1436\n",
       "9     Envelopes   6964.1767\n",
       "10          Art   6527.7870\n",
       "11       Labels   5546.2540\n",
       "12     Machines   3384.7569\n",
       "13    Fasteners    949.5182\n",
       "14     Supplies  -1189.0995\n",
       "15    Bookcases  -3472.5560\n",
       "16       Tables -17725.4811"
      ]
     },
     "execution_count": 5,
     "metadata": {},
     "output_type": "execute_result"
    }
   ],
   "source": [
    "subc_profit = subc_profit.groupby(['Sub-Category']).agg({\"Profit\": sum})\n",
    "subc_profit = subc_profit.sort_values(by='Profit', ascending=False)\n",
    "subc_profit.reset_index(inplace=True)\n",
    "subc_profit"
   ]
  },
  {
   "cell_type": "code",
   "execution_count": 6,
   "metadata": {
    "ExecuteTime": {
     "end_time": "2020-05-27T04:18:10.909602Z",
     "start_time": "2020-05-27T04:18:10.869400Z"
    }
   },
   "outputs": [],
   "source": [
    "'''quantity wise decending sorting '''\n",
    "\n",
    "subc_quantity = subc_quantity.groupby(['Sub-Category']).agg({\"Quantity\": sum})\n",
    "subc_quantity = subc_quantity.sort_values(by='Quantity', ascending=False)\n",
    "subc_quantity.reset_index(inplace=True)"
   ]
  },
  {
   "cell_type": "markdown",
   "metadata": {},
   "source": []
  },
  {
   "cell_type": "code",
   "execution_count": 251,
   "metadata": {
    "ExecuteTime": {
     "end_time": "2020-05-26T16:38:29.069361Z",
     "start_time": "2020-05-26T16:38:29.056042Z"
    }
   },
   "outputs": [
    {
     "data": {
      "text/plain": [
       "'converting order date into date'"
      ]
     },
     "execution_count": 251,
     "metadata": {},
     "output_type": "execute_result"
    }
   ],
   "source": [
    "'''converting order date into date'''\n",
    "\n",
    "# st2['total']=st1['Sales']*st1['Quantity']\n",
    "# st2['M2']=st2['Order Date'].str.split('/',n=-1)[0][0]\n",
    "# st2[\"M2\"]=st2[\"M2\"].astype(int)"
   ]
  },
  {
   "cell_type": "code",
   "execution_count": 7,
   "metadata": {
    "ExecuteTime": {
     "end_time": "2020-05-27T04:18:15.576761Z",
     "start_time": "2020-05-27T04:18:15.483391Z"
    }
   },
   "outputs": [],
   "source": [
    "'''converting order date into date'''\n",
    "\n",
    "st2['Order Date'] = pd.to_datetime(st2['Order Date'])\n",
    "st2['M'] = pd.DatetimeIndex(st2['Order Date']).month\n",
    "st2['Y'] = pd.DatetimeIndex(st2['Order Date']).year\n",
    "final = st2.groupby(['Y', 'M']).agg({\"Quantity\": sum})\n",
    "final.reset_index(inplace=True)"
   ]
  },
  {
   "cell_type": "code",
   "execution_count": null,
   "metadata": {
    "ExecuteTime": {
     "end_time": "2020-05-25T19:01:12.283931Z",
     "start_time": "2020-05-25T19:01:12.252172Z"
    }
   },
   "outputs": [],
   "source": []
  },
  {
   "cell_type": "code",
   "execution_count": 8,
   "metadata": {
    "ExecuteTime": {
     "end_time": "2020-05-27T04:18:19.900735Z",
     "start_time": "2020-05-27T04:18:19.863828Z"
    }
   },
   "outputs": [
    {
     "data": {
      "text/html": [
       "<div>\n",
       "<style scoped>\n",
       "    .dataframe tbody tr th:only-of-type {\n",
       "        vertical-align: middle;\n",
       "    }\n",
       "\n",
       "    .dataframe tbody tr th {\n",
       "        vertical-align: top;\n",
       "    }\n",
       "\n",
       "    .dataframe thead th {\n",
       "        text-align: right;\n",
       "    }\n",
       "</style>\n",
       "<table border=\"1\" class=\"dataframe\">\n",
       "  <thead>\n",
       "    <tr style=\"text-align: right;\">\n",
       "      <th></th>\n",
       "      <th>Y</th>\n",
       "      <th>M</th>\n",
       "      <th>Quantity</th>\n",
       "    </tr>\n",
       "  </thead>\n",
       "  <tbody>\n",
       "    <tr>\n",
       "      <th>36</th>\n",
       "      <td>2017</td>\n",
       "      <td>1</td>\n",
       "      <td>923</td>\n",
       "    </tr>\n",
       "    <tr>\n",
       "      <th>37</th>\n",
       "      <td>2017</td>\n",
       "      <td>2</td>\n",
       "      <td>895</td>\n",
       "    </tr>\n",
       "    <tr>\n",
       "      <th>38</th>\n",
       "      <td>2017</td>\n",
       "      <td>3</td>\n",
       "      <td>1138</td>\n",
       "    </tr>\n",
       "    <tr>\n",
       "      <th>39</th>\n",
       "      <td>2017</td>\n",
       "      <td>4</td>\n",
       "      <td>803</td>\n",
       "    </tr>\n",
       "    <tr>\n",
       "      <th>40</th>\n",
       "      <td>2017</td>\n",
       "      <td>5</td>\n",
       "      <td>892</td>\n",
       "    </tr>\n",
       "    <tr>\n",
       "      <th>41</th>\n",
       "      <td>2017</td>\n",
       "      <td>6</td>\n",
       "      <td>879</td>\n",
       "    </tr>\n",
       "    <tr>\n",
       "      <th>42</th>\n",
       "      <td>2017</td>\n",
       "      <td>7</td>\n",
       "      <td>898</td>\n",
       "    </tr>\n",
       "    <tr>\n",
       "      <th>43</th>\n",
       "      <td>2017</td>\n",
       "      <td>8</td>\n",
       "      <td>981</td>\n",
       "    </tr>\n",
       "    <tr>\n",
       "      <th>44</th>\n",
       "      <td>2017</td>\n",
       "      <td>9</td>\n",
       "      <td>1382</td>\n",
       "    </tr>\n",
       "    <tr>\n",
       "      <th>45</th>\n",
       "      <td>2017</td>\n",
       "      <td>10</td>\n",
       "      <td>991</td>\n",
       "    </tr>\n",
       "    <tr>\n",
       "      <th>46</th>\n",
       "      <td>2017</td>\n",
       "      <td>11</td>\n",
       "      <td>1509</td>\n",
       "    </tr>\n",
       "    <tr>\n",
       "      <th>47</th>\n",
       "      <td>2017</td>\n",
       "      <td>12</td>\n",
       "      <td>1185</td>\n",
       "    </tr>\n",
       "  </tbody>\n",
       "</table>\n",
       "</div>"
      ],
      "text/plain": [
       "       Y   M  Quantity\n",
       "36  2017   1       923\n",
       "37  2017   2       895\n",
       "38  2017   3      1138\n",
       "39  2017   4       803\n",
       "40  2017   5       892\n",
       "41  2017   6       879\n",
       "42  2017   7       898\n",
       "43  2017   8       981\n",
       "44  2017   9      1382\n",
       "45  2017  10       991\n",
       "46  2017  11      1509\n",
       "47  2017  12      1185"
      ]
     },
     "execution_count": 8,
     "metadata": {},
     "output_type": "execute_result"
    }
   ],
   "source": [
    "'''filtering Data year'''\n",
    "x1 = final[(final['Y'] == 2014)]\n",
    "x2 = final[(final['Y'] == 2015)]\n",
    "x3 = final[(final['Y'] == 2016)]\n",
    "x4 = final[(final['Y'] == 2017)]\n",
    "x4"
   ]
  },
  {
   "cell_type": "code",
   "execution_count": null,
   "metadata": {
    "ExecuteTime": {
     "end_time": "2020-05-25T19:01:41.835577Z",
     "start_time": "2020-05-25T19:01:41.820944Z"
    }
   },
   "outputs": [],
   "source": []
  },
  {
   "cell_type": "code",
   "execution_count": null,
   "metadata": {
    "ExecuteTime": {
     "end_time": "2020-05-25T19:53:13.974649Z",
     "start_time": "2020-05-25T19:53:13.954152Z"
    }
   },
   "outputs": [],
   "source": []
  },
  {
   "cell_type": "code",
   "execution_count": null,
   "metadata": {
    "ExecuteTime": {
     "end_time": "2020-05-25T18:42:52.643408Z",
     "start_time": "2020-05-25T18:42:52.630637Z"
    }
   },
   "outputs": [],
   "source": []
  },
  {
   "cell_type": "code",
   "execution_count": null,
   "metadata": {
    "ExecuteTime": {
     "end_time": "2020-05-25T19:24:08.200612Z",
     "start_time": "2020-05-25T19:24:08.159598Z"
    }
   },
   "outputs": [],
   "source": []
  },
  {
   "cell_type": "code",
   "execution_count": 11,
   "metadata": {
    "ExecuteTime": {
     "end_time": "2020-05-27T04:18:53.348604Z",
     "start_time": "2020-05-27T04:18:52.779308Z"
    }
   },
   "outputs": [],
   "source": [
    "%matplotlib qt"
   ]
  },
  {
   "cell_type": "code",
   "execution_count": 255,
   "metadata": {
    "ExecuteTime": {
     "end_time": "2020-05-26T16:38:34.254524Z",
     "start_time": "2020-05-26T16:38:34.048791Z"
    }
   },
   "outputs": [
    {
     "data": {
      "text/plain": [
       "Text(0, 0.5, 'Quntity')"
      ]
     },
     "execution_count": 255,
     "metadata": {},
     "output_type": "execute_result"
    }
   ],
   "source": [
    "''' ploting '''\n",
    "''' total quantity of monthly (year) vs month Name '''\n",
    "w = 0.2\n",
    "month_lst = [1, 2, 3, 4, 5, 6, 7, 8, 9, 10, 11, 12]\n",
    "plt.bar(month_lst, x1[\"Quantity\"], label=2014, width=w, color=\"g\")\n",
    "plt.bar([x + 0.2 for x in month_lst],\n",
    "        x2[\"Quantity\"],\n",
    "        label=2015,\n",
    "        width=w,\n",
    "        color=\"purple\")\n",
    "plt.bar([x + 0.4 for x in month_lst],\n",
    "        x3[\"Quantity\"],\n",
    "        label=2016,\n",
    "        width=w,\n",
    "        color=\"b\")\n",
    "plt.bar([x + 0.6 for x in month_lst],\n",
    "        x4[\"Quantity\"],\n",
    "        label=2017,\n",
    "        width=w,\n",
    "        color=\"orange\")\n",
    "plt.legend([2014, 2015, 2016, 2017])\n",
    "plt.xlabel(\"Month\")\n",
    "\n",
    "plt.xticks(month_lst)\n",
    "plt.ylabel(\"Quntity\")"
   ]
  },
  {
   "cell_type": "code",
   "execution_count": 256,
   "metadata": {
    "ExecuteTime": {
     "end_time": "2020-05-26T16:38:34.714334Z",
     "start_time": "2020-05-26T16:38:34.583301Z"
    }
   },
   "outputs": [
    {
     "data": {
      "text/plain": [
       "([0, 1, 2, 3, 4, 5, 6, 7, 8, 9, 10, 11, 12, 13, 14, 15, 16],\n",
       " <a list of 17 Text xticklabel objects>)"
      ]
     },
     "execution_count": 256,
     "metadata": {},
     "output_type": "execute_result"
    }
   ],
   "source": [
    "''' ploting subc_quantity'''\n",
    "plt.figure()\n",
    "plt.plot(subc_quantity['Sub-Category'], subc_quantity['Quantity'])\n",
    "plt.xlabel('Sub-Category')\n",
    "plt.ylabel(\"Quntity\")\n",
    "plt.xticks(rotation=70)"
   ]
  },
  {
   "cell_type": "code",
   "execution_count": 257,
   "metadata": {
    "ExecuteTime": {
     "end_time": "2020-05-26T16:38:35.438267Z",
     "start_time": "2020-05-26T16:38:35.300461Z"
    }
   },
   "outputs": [
    {
     "data": {
      "text/plain": [
       "([0, 1, 2, 3, 4, 5, 6, 7, 8, 9, 10, 11, 12, 13, 14, 15, 16],\n",
       " <a list of 17 Text xticklabel objects>)"
      ]
     },
     "execution_count": 257,
     "metadata": {},
     "output_type": "execute_result"
    }
   ],
   "source": [
    "''' ploting subc_profit'''\n",
    "plt.figure()\n",
    "plt.plot(subc_profit['Sub-Category'], subc_profit['Profit'])\n",
    "plt.xlabel('Sub-Category')\n",
    "plt.ylabel('Profit')\n",
    "plt.xticks(rotation=70)\n",
    "# subc_profit.plot.bar('Sub-Category','Profit')"
   ]
  },
  {
   "cell_type": "markdown",
   "metadata": {},
   "source": [
    "#summry step:\n",
    "<!-- \n",
    "step1:import file adding the encoding =unicode_escape or engine='%%python'\n",
    "step2:clean data\n",
    "step3:selcete your data appropriate  coloumn\n",
    "step4:select your data with iloc beacause maybe here column name space\n",
    "step5:conversion your column appropriate  data type\n",
    "step6:manuplating your data(e.g grouping apply filter,ascending)\n",
    "step7:plot your data with appropriate plot (e.g histogram,scatter)\n",
    "      Note:check x and y size equal -->"
   ]
  },
  {
   "cell_type": "code",
   "execution_count": 258,
   "metadata": {
    "ExecuteTime": {
     "end_time": "2020-05-26T16:38:36.646388Z",
     "start_time": "2020-05-26T16:38:36.629446Z"
    }
   },
   "outputs": [
    {
     "data": {
      "text/plain": [
       "' monthly subcatgory vs quantity 2014 year '"
      ]
     },
     "execution_count": 258,
     "metadata": {},
     "output_type": "execute_result"
    }
   ],
   "source": [
    "''' monthly subcatgory vs quantity 2014 year '''"
   ]
  },
  {
   "cell_type": "code",
   "execution_count": null,
   "metadata": {},
   "outputs": [],
   "source": []
  },
  {
   "cell_type": "code",
   "execution_count": 305,
   "metadata": {
    "ExecuteTime": {
     "end_time": "2020-05-26T17:02:54.442003Z",
     "start_time": "2020-05-26T17:02:54.362635Z"
    }
   },
   "outputs": [
    {
     "data": {
      "text/html": [
       "<div>\n",
       "<style scoped>\n",
       "    .dataframe tbody tr th:only-of-type {\n",
       "        vertical-align: middle;\n",
       "    }\n",
       "\n",
       "    .dataframe tbody tr th {\n",
       "        vertical-align: top;\n",
       "    }\n",
       "\n",
       "    .dataframe thead th {\n",
       "        text-align: right;\n",
       "    }\n",
       "</style>\n",
       "<table border=\"1\" class=\"dataframe\">\n",
       "  <thead>\n",
       "    <tr style=\"text-align: right;\">\n",
       "      <th></th>\n",
       "      <th>Sub-Category</th>\n",
       "      <th>Sales</th>\n",
       "      <th>Quantity</th>\n",
       "      <th>M</th>\n",
       "      <th>Y</th>\n",
       "    </tr>\n",
       "  </thead>\n",
       "  <tbody>\n",
       "    <tr>\n",
       "      <th>5</th>\n",
       "      <td>Furnishings</td>\n",
       "      <td>48.860</td>\n",
       "      <td>7</td>\n",
       "      <td>9</td>\n",
       "      <td>2014</td>\n",
       "    </tr>\n",
       "    <tr>\n",
       "      <th>6</th>\n",
       "      <td>Art</td>\n",
       "      <td>7.280</td>\n",
       "      <td>4</td>\n",
       "      <td>9</td>\n",
       "      <td>2014</td>\n",
       "    </tr>\n",
       "    <tr>\n",
       "      <th>7</th>\n",
       "      <td>Phones</td>\n",
       "      <td>907.152</td>\n",
       "      <td>6</td>\n",
       "      <td>9</td>\n",
       "      <td>2014</td>\n",
       "    </tr>\n",
       "    <tr>\n",
       "      <th>8</th>\n",
       "      <td>Binders</td>\n",
       "      <td>18.504</td>\n",
       "      <td>3</td>\n",
       "      <td>9</td>\n",
       "      <td>2014</td>\n",
       "    </tr>\n",
       "    <tr>\n",
       "      <th>9</th>\n",
       "      <td>Appliances</td>\n",
       "      <td>114.900</td>\n",
       "      <td>5</td>\n",
       "      <td>9</td>\n",
       "      <td>2014</td>\n",
       "    </tr>\n",
       "    <tr>\n",
       "      <th>...</th>\n",
       "      <td>...</td>\n",
       "      <td>...</td>\n",
       "      <td>...</td>\n",
       "      <td>...</td>\n",
       "      <td>...</td>\n",
       "    </tr>\n",
       "    <tr>\n",
       "      <th>9946</th>\n",
       "      <td>Accessories</td>\n",
       "      <td>151.200</td>\n",
       "      <td>3</td>\n",
       "      <td>2</td>\n",
       "      <td>2014</td>\n",
       "    </tr>\n",
       "    <tr>\n",
       "      <th>9956</th>\n",
       "      <td>Paper</td>\n",
       "      <td>46.350</td>\n",
       "      <td>5</td>\n",
       "      <td>11</td>\n",
       "      <td>2014</td>\n",
       "    </tr>\n",
       "    <tr>\n",
       "      <th>9957</th>\n",
       "      <td>Paper</td>\n",
       "      <td>223.920</td>\n",
       "      <td>4</td>\n",
       "      <td>11</td>\n",
       "      <td>2014</td>\n",
       "    </tr>\n",
       "    <tr>\n",
       "      <th>9958</th>\n",
       "      <td>Supplies</td>\n",
       "      <td>7.300</td>\n",
       "      <td>2</td>\n",
       "      <td>11</td>\n",
       "      <td>2014</td>\n",
       "    </tr>\n",
       "    <tr>\n",
       "      <th>9989</th>\n",
       "      <td>Furnishings</td>\n",
       "      <td>25.248</td>\n",
       "      <td>3</td>\n",
       "      <td>1</td>\n",
       "      <td>2014</td>\n",
       "    </tr>\n",
       "  </tbody>\n",
       "</table>\n",
       "<p>1993 rows × 5 columns</p>\n",
       "</div>"
      ],
      "text/plain": [
       "     Sub-Category    Sales  Quantity   M     Y\n",
       "5     Furnishings   48.860         7   9  2014\n",
       "6             Art    7.280         4   9  2014\n",
       "7          Phones  907.152         6   9  2014\n",
       "8         Binders   18.504         3   9  2014\n",
       "9      Appliances  114.900         5   9  2014\n",
       "...           ...      ...       ...  ..   ...\n",
       "9946  Accessories  151.200         3   2  2014\n",
       "9956        Paper   46.350         5  11  2014\n",
       "9957        Paper  223.920         4  11  2014\n",
       "9958     Supplies    7.300         2  11  2014\n",
       "9989  Furnishings   25.248         3   1  2014\n",
       "\n",
       "[1993 rows x 5 columns]"
      ]
     },
     "execution_count": 305,
     "metadata": {},
     "output_type": "execute_result"
    }
   ],
   "source": [
    "# st3=st3.dropna()\n",
    "# st3\n",
    "# f=st3.loc[:,['Sub-Category','Sales','Quantity','M','Y']]\n",
    "# f"
   ]
  },
  {
   "cell_type": "code",
   "execution_count": 12,
   "metadata": {
    "ExecuteTime": {
     "end_time": "2020-05-27T04:18:57.784429Z",
     "start_time": "2020-05-27T04:18:57.749070Z"
    }
   },
   "outputs": [],
   "source": [
    "def month_stdq_year(year):\n",
    "    st3 = store.iloc[0:, [2, 15, 17, 18]]\n",
    "    st3['Order Date'] = pd.to_datetime(st3['Order Date'])\n",
    "    st3['M'] = pd.DatetimeIndex(st3['Order Date']).month\n",
    "    st3['Y'] = pd.DatetimeIndex(st3['Order Date']).year\n",
    "    st3['Y'] = st3['Y'].astype(int)\n",
    "    st3 = st3.loc[:, ['Sub-Category', 'Sales', 'Quantity', 'M', 'Y']]\n",
    "    f = st3[st3['Y'] == year]\n",
    "\n",
    "    final = f.groupby(['Sub-Category', 'M']).agg({\n",
    "        \"Quantity\": sum,\n",
    "        'Sales': 'mean'\n",
    "    })\n",
    "\n",
    "    final.reset_index(inplace=True)\n",
    "    final = final[['Sub-Category', 'M', \"Quantity\", 'Sales']]\n",
    "\n",
    "    m = list(final['Sub-Category'].unique())\n",
    "    x = []\n",
    "    l1 = []\n",
    "    l2 = []\n",
    "    fio = 0\n",
    "\n",
    "    for i in m:\n",
    "        fio = final[(final['Sub-Category'] == i)]\n",
    "        x.append(fio['Quantity'].std() * fio['Sales'].mean())\n",
    "\n",
    "    l1, l2 = zip(*sorted(zip(x, m)))\n",
    "    plt.figure()\n",
    "    plt.title(str(year))\n",
    "    plt.bar(list(l2), list(l1))\n",
    "    plt.xticks(rotation=90)\n",
    "    #             plt.legend(str(year),fontsize=\"xx-small\",loc=2)\n",
    "    plt.xlabel(\"Things\")\n",
    "    plt.ylabel(\"losses of quantity \")\n",
    "    plt.xticks(m)"
   ]
  },
  {
   "cell_type": "code",
   "execution_count": 13,
   "metadata": {
    "ExecuteTime": {
     "end_time": "2020-05-27T04:18:59.044665Z",
     "start_time": "2020-05-27T04:18:58.251124Z"
    }
   },
   "outputs": [],
   "source": [
    "list1 = [2014, 2015, 2016, 2017]\n",
    "for i in list1:\n",
    "    month_stdq_year(i)"
   ]
  },
  {
   "cell_type": "code",
   "execution_count": null,
   "metadata": {
    "ExecuteTime": {
     "end_time": "2020-05-26T10:00:40.278546Z",
     "start_time": "2020-05-26T10:00:39.866657Z"
    }
   },
   "outputs": [],
   "source": [
    "#"
   ]
  },
  {
   "cell_type": "code",
   "execution_count": null,
   "metadata": {},
   "outputs": [],
   "source": [
    "print(\"Testing_github\")"
   ]
  },
  {
   "cell_type": "code",
   "execution_count": null,
   "metadata": {},
   "outputs": [],
   "source": []
  },
  {
   "cell_type": "code",
   "execution_count": null,
   "metadata": {},
   "outputs": [],
   "source": []
  },
  {
   "cell_type": "code",
   "execution_count": null,
   "metadata": {},
   "outputs": [],
   "source": []
  },
  {
   "cell_type": "code",
   "execution_count": null,
   "metadata": {},
   "outputs": [],
   "source": []
  },
  {
   "cell_type": "code",
   "execution_count": null,
   "metadata": {},
   "outputs": [],
   "source": []
  },
  {
   "cell_type": "code",
   "execution_count": null,
   "metadata": {},
   "outputs": [],
   "source": []
  },
  {
   "cell_type": "code",
   "execution_count": null,
   "metadata": {},
   "outputs": [],
   "source": []
  },
  {
   "cell_type": "code",
   "execution_count": null,
   "metadata": {},
   "outputs": [],
   "source": [
    "#x = [1,1,2,3,3,5,7,8,9,10,\n",
    "#      10,11,11,13,13,15,16,17,18,18,\n",
    "#      18,19,20,21,21,23,24,24,25,25,\n",
    "#      25,25,26,26,26,27,27,27,27,27,\n",
    "#      29,30,30,31,33,34,34,34,35,36,\n",
    "#      36,37,37,38,38,39,40,41,41,42,\n",
    "#      43,44,45,45,46,47,48,48,49,50,\n",
    "#      51,52,53,54,55,55,56,57,58,60,\n",
    "#      61,63,64,65,66,68,70,71,72,74,\n",
    "#      75,77,81,83,84,87,89,90,90,91\n",
    "#      ]\n",
    "# plt.figure()\n",
    "# plt.hist(x, bins=10)\n",
    "# plt.xticks(x)\n",
    "# plt.xticks(rotation=90)\n",
    "# plt.show()"
   ]
  }
 ],
 "metadata": {
  "kernelspec": {
   "display_name": "Python 3",
   "language": "python",
   "name": "python3"
  },
  "language_info": {
   "codemirror_mode": {
    "name": "ipython",
    "version": 3
   },
   "file_extension": ".py",
   "mimetype": "text/x-python",
   "name": "python",
   "nbconvert_exporter": "python",
   "pygments_lexer": "ipython3",
   "version": "3.7.6"
  },
  "toc": {
   "base_numbering": 1,
   "nav_menu": {},
   "number_sections": true,
   "sideBar": true,
   "skip_h1_title": false,
   "title_cell": "Table of Contents",
   "title_sidebar": "Contents",
   "toc_cell": false,
   "toc_position": {},
   "toc_section_display": true,
   "toc_window_display": false
  }
 },
 "nbformat": 4,
 "nbformat_minor": 4
}
