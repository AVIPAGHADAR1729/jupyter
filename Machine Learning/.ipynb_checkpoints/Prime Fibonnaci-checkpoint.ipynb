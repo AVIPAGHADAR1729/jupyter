{
 "cells": [
  {
   "cell_type": "code",
   "execution_count": 160,
   "metadata": {
    "ExecuteTime": {
     "end_time": "2020-06-19T08:22:11.518296Z",
     "start_time": "2020-06-19T08:22:11.502687Z"
    }
   },
   "outputs": [],
   "source": [
    "x=30\n",
    "y=70\n"
   ]
  },
  {
   "cell_type": "code",
   "execution_count": null,
   "metadata": {
    "ExecuteTime": {
     "end_time": "2020-06-19T08:20:23.883248Z",
     "start_time": "2020-06-19T08:20:23.852000Z"
    }
   },
   "outputs": [],
   "source": []
  },
  {
   "cell_type": "code",
   "execution_count": 161,
   "metadata": {
    "ExecuteTime": {
     "end_time": "2020-06-19T08:22:17.166692Z",
     "start_time": "2020-06-19T08:22:17.135479Z"
    }
   },
   "outputs": [],
   "source": [
    " "
   ]
  },
  {
   "cell_type": "code",
   "execution_count": 162,
   "metadata": {
    "ExecuteTime": {
     "end_time": "2020-06-19T08:22:17.723211Z",
     "start_time": "2020-06-19T08:22:17.685455Z"
    }
   },
   "outputs": [],
   "source": [
    "def check_Prime(i):\n",
    "    for j in range(2, i):\n",
    "        if(i % j == 0):\n",
    "            break\n",
    "    else:\n",
    "        return i"
   ]
  },
  {
   "cell_type": "code",
   "execution_count": 163,
   "metadata": {
    "ExecuteTime": {
     "end_time": "2020-06-19T08:22:29.434053Z",
     "start_time": "2020-06-19T08:22:29.418427Z"
    }
   },
   "outputs": [],
   "source": [
    "prime_number = []\n",
    "for i in range(x, y):\n",
    "    if(i == check_Prime(i)):\n",
    "        prime_number.append(i)"
   ]
  },
  {
   "cell_type": "code",
   "execution_count": 164,
   "metadata": {
    "ExecuteTime": {
     "end_time": "2020-06-19T08:22:29.908524Z",
     "start_time": "2020-06-19T08:22:29.892901Z"
    }
   },
   "outputs": [],
   "source": [
    "P=prime_number[:]\n"
   ]
  },
  {
   "cell_type": "code",
   "execution_count": 165,
   "metadata": {
    "ExecuteTime": {
     "end_time": "2020-06-19T08:22:30.459333Z",
     "start_time": "2020-06-19T08:22:30.428100Z"
    }
   },
   "outputs": [],
   "source": [
    "my_dict = {}\n",
    "for i in range(len(prime_number)):\n",
    "    for j in range(len(prime_number)):\n",
    "        if(prime_number[i] == P[j]):\n",
    "            pass\n",
    "        else:\n",
    "            x = str(prime_number[i])+str(prime_number[j])\n",
    "            x = int(x)\n",
    "            my_dict[x] = x"
   ]
  },
  {
   "cell_type": "code",
   "execution_count": 166,
   "metadata": {
    "ExecuteTime": {
     "end_time": "2020-06-19T08:22:30.964320Z",
     "start_time": "2020-06-19T08:22:30.948710Z"
    }
   },
   "outputs": [],
   "source": [
    "combination_list=list(my_dict.keys())\n"
   ]
  },
  {
   "cell_type": "code",
   "execution_count": 170,
   "metadata": {
    "ExecuteTime": {
     "end_time": "2020-06-19T08:22:53.002111Z",
     "start_time": "2020-06-19T08:22:52.955222Z"
    }
   },
   "outputs": [],
   "source": [
    "prime_numberList2=[]\n",
    "for i in combination_list:\n",
    "    if(i==check_Prime(i)):\n",
    "        prime_numberList2.append(i)"
   ]
  },
  {
   "cell_type": "code",
   "execution_count": 168,
   "metadata": {
    "ExecuteTime": {
     "end_time": "2020-06-19T08:22:34.021594Z",
     "start_time": "2020-06-19T08:22:33.990405Z"
    }
   },
   "outputs": [],
   "source": [
    "lowest=min(prime_numberList2)\n",
    "highest=max(prime_numberList2)"
   ]
  },
  {
   "cell_type": "code",
   "execution_count": null,
   "metadata": {},
   "outputs": [],
   "source": [
    "def Find_Fibonaci(y,z,x):\n",
    "    sum_list=[y,z]\n",
    "    for i in range(x-2):\n",
    "        m=sum_list[i]+sum_list[i+1]\n",
    "        sum_list.append(m)\n",
    "    return sum_list[-1]     "
   ]
  },
  {
   "cell_type": "code",
   "execution_count": 169,
   "metadata": {
    "ExecuteTime": {
     "end_time": "2020-06-19T08:22:34.783127Z",
     "start_time": "2020-06-19T08:22:34.760963Z"
    }
   },
   "outputs": [
    {
     "name": "stdout",
     "output_type": "stream",
     "text": [
      "2027041\n"
     ]
    }
   ],
   "source": [
    "print(Find_Fibonaci(lowest,highest,len(prime_numberList2)))"
   ]
  },
  {
   "cell_type": "code",
   "execution_count": null,
   "metadata": {},
   "outputs": [],
   "source": []
  }
 ],
 "metadata": {
  "kernelspec": {
   "display_name": "Python 3",
   "language": "python",
   "name": "python3"
  },
  "language_info": {
   "codemirror_mode": {
    "name": "ipython",
    "version": 3
   },
   "file_extension": ".py",
   "mimetype": "text/x-python",
   "name": "python",
   "nbconvert_exporter": "python",
   "pygments_lexer": "ipython3",
   "version": "3.7.6"
  },
  "toc": {
   "base_numbering": 1,
   "nav_menu": {},
   "number_sections": true,
   "sideBar": true,
   "skip_h1_title": false,
   "title_cell": "Table of Contents",
   "title_sidebar": "Contents",
   "toc_cell": false,
   "toc_position": {},
   "toc_section_display": true,
   "toc_window_display": false
  }
 },
 "nbformat": 4,
 "nbformat_minor": 4
}
