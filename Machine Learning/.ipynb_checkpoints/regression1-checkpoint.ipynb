{
 "cells": [
  {
   "cell_type": "code",
   "execution_count": null,
   "metadata": {
    "ExecuteTime": {
     "end_time": "2020-05-08T05:54:14.431340Z",
     "start_time": "2020-05-08T05:54:06.957839Z"
    }
   },
   "outputs": [],
   "source": [
    "import pandas as pd\n",
    "shop=pd.read_csv('../../../Documents/regression1.csv')\n"
   ]
  },
  {
   "cell_type": "code",
   "execution_count": null,
   "metadata": {
    "ExecuteTime": {
     "end_time": "2020-05-08T05:54:14.492918Z",
     "start_time": "2020-05-08T05:54:14.435137Z"
    }
   },
   "outputs": [],
   "source": [
    "shop\n"
   ]
  },
  {
   "cell_type": "code",
   "execution_count": null,
   "metadata": {
    "ExecuteTime": {
     "end_time": "2020-05-08T05:54:14.600862Z",
     "start_time": "2020-05-08T05:54:14.498900Z"
    }
   },
   "outputs": [],
   "source": []
  },
  {
   "cell_type": "code",
   "execution_count": null,
   "metadata": {
    "ExecuteTime": {
     "end_time": "2020-05-08T05:54:14.709089Z",
     "start_time": "2020-05-08T05:54:14.605853Z"
    }
   },
   "outputs": [],
   "source": [
    "\n",
    "import numpy as np\n",
    "import scipy \n",
    "from scipy import interpolate\n",
    "import matplotlib.pyplot as plt\n",
    "import sklearn.linear_model \n",
    "from sklearn.metrics import r2_score\n",
    "from sklearn.linear_model import LinearRegression\n",
    "lm=LinearRegression()\n",
    "\n"
   ]
  },
  {
   "cell_type": "code",
   "execution_count": null,
   "metadata": {},
   "outputs": [],
   "source": [
    "Day = shop[\"Day\"].values.reshape(-1,1)\n",
    "profit= shop['profit'].values.reshape(-1,1)\n",
    "lm.fit(Day,profit)\n",
    "print(lm.coef_)\n",
    "# coefficient_of_dermination = r2_score(profit,)\n",
    "# print(r_squared)\n",
    "print(lm.intercept_)\n",
    "plt.xlabel(\"Day\")\n",
    "plt.ylabel(\"Sales ($)\")\n",
    "y_pre=lm.predict(Day)\n",
    "print(shop['Day'].values)\n",
    "print(shop['profit'].values)\n",
    "print(y_pre)"
   ]
  },
  {
   "cell_type": "code",
   "execution_count": null,
   "metadata": {
    "ExecuteTime": {
     "end_time": "2020-05-08T13:50:36.802611Z",
     "start_time": "2020-05-08T13:50:36.077624Z"
    }
   },
   "outputs": [],
   "source": [
    "\n",
    "# for i in range(10,20):\n",
    "#     l1.append(([i]))\n",
    "# y1_pre=lm.predict(l1)\n",
    "plt.scatter(shop['Day'],shop['profit'],color='blue')\n",
    "plt.plot(shop['Day'], y_pre, color='green', linewidth=2)\n",
    "plt.grid()\n",
    "plt.xticks(shop['Day'])\n",
    "plt.yticks(shop['profit'])\n",
    "plt.show()"
   ]
  },
  {
   "cell_type": "code",
   "execution_count": null,
   "metadata": {},
   "outputs": [],
   "source": [
    "import ipywidgets \n",
    "import numpy as np\n",
    "import scipy \n",
    "from scipy import interpolate\n",
    "import matplotlib.pyplot as plt\n",
    "import sklearn.linear_model \n",
    "from sklearn.linear_model import LinearRegression\n",
    "lm=LinearRegression()"
   ]
  },
  {
   "cell_type": "code",
   "execution_count": null,
   "metadata": {},
   "outputs": [],
   "source": [
    "Day = shop[\"Day\"].values.reshape(-1,1)\n",
    "profit= shop['profit'].values.reshape(-1,1)\n",
    "print(shop['Day'].values)\n",
    "print(shop['profit'].values)\n",
    "lm.fit(Day,profit)\n",
    "print(lm.coef_)\n",
    "print(lm.intercept_)\n"
   ]
  },
  {
   "cell_type": "code",
   "execution_count": null,
   "metadata": {},
   "outputs": [],
   "source": [
    "plt.xlabel(\"Day\")\n",
    "plt.ylabel(\"Sales ($)\")\n",
    "y_pre=lm.predict(Day)\n",
    "l1=[]\n",
    "for i in range(10,20):\n",
    "    l1.append(([i]))\n",
    "y1_pre=lm.predict(l1)\n",
    "plt.scatter(shop['Day'],shop['profit'],color='blue')\n",
    "plt.plot(Day, y_pre, color='green', linewidth=2)\n"
   ]
  },
  {
   "cell_type": "code",
   "execution_count": null,
   "metadata": {
    "ExecuteTime": {
     "end_time": "2020-05-08T11:32:57.271997Z",
     "start_time": "2020-05-08T11:32:56.922991Z"
    },
    "scrolled": true
   },
   "outputs": [],
   "source": [
    "\n",
    "# x_new = np.linspace(1,10,100)\n",
    "# a_BSpline = interpolate.make_interp_spline(shop['Day'], shop['profit'])\n",
    "# y_new = a_BSpline(x_new)\n",
    "# plt.plot(x_new, y_new)\n",
    "plt.grid()\n",
    "plt.xticks(shop['Day'])\n",
    "plt.yticks(shop['profit'])\n",
    "plt.show()\n",
    "# x=0\n",
    "# y=(2.07878*x**2)/2+8.266*x\n",
    "# for i in shop['Day'].values:\n",
    "#     x+=(2.07878*i**2)/2+8.266*i\n",
    "# print(x)\n",
    "# print((shop['profit'].values).sum())"
   ]
  },
  {
   "cell_type": "code",
   "execution_count": null,
   "metadata": {
    "ExecuteTime": {
     "end_time": "2020-05-08T09:22:07.394149Z",
     "start_time": "2020-05-08T09:22:07.368188Z"
    }
   },
   "outputs": [],
   "source": []
  },
  {
   "cell_type": "code",
   "execution_count": null,
   "metadata": {
    "ExecuteTime": {
     "end_time": "2020-05-08T05:54:25.847910Z",
     "start_time": "2020-05-08T05:54:07.006Z"
    }
   },
   "outputs": [],
   "source": []
  },
  {
   "cell_type": "code",
   "execution_count": null,
   "metadata": {
    "ExecuteTime": {
     "end_time": "2020-05-08T07:35:32.906041Z",
     "start_time": "2020-05-08T07:35:32.647022Z"
    }
   },
   "outputs": [],
   "source": []
  },
  {
   "cell_type": "code",
   "execution_count": null,
   "metadata": {},
   "outputs": [],
   "source": []
  }
 ],
 "metadata": {
  "kernelspec": {
   "display_name": "Python 3",
   "language": "python",
   "name": "python3"
  },
  "language_info": {
   "codemirror_mode": {
    "name": "ipython",
    "version": 3
   },
   "file_extension": ".py",
   "mimetype": "text/x-python",
   "name": "python",
   "nbconvert_exporter": "python",
   "pygments_lexer": "ipython3",
   "version": "3.7.6"
  }
 },
 "nbformat": 4,
 "nbformat_minor": 2
}
