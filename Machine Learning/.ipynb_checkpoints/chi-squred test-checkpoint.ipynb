{
 "cells": [
  {
   "cell_type": "code",
   "execution_count": 1,
   "metadata": {
    "ExecuteTime": {
     "end_time": "2020-09-26T04:17:17.363808Z",
     "start_time": "2020-09-26T04:17:13.753922Z"
    }
   },
   "outputs": [],
   "source": [
    "import pandas as pd \n",
    "import numpy as np\n",
    "import seaborn as sns\n",
    "import matplotlib.pyplot as plt\n",
    "import scipy.stats as st \n",
    "import warnings\n",
    "warnings.filterwarnings(\"ignore\")"
   ]
  },
  {
   "cell_type": "markdown",
   "metadata": {},
   "source": [
    "<b> Example:1 </b>"
   ]
  },
  {
   "cell_type": "code",
   "execution_count": 2,
   "metadata": {
    "ExecuteTime": {
     "end_time": "2020-09-26T04:17:17.399516Z",
     "start_time": "2020-09-26T04:17:17.378825Z"
    }
   },
   "outputs": [
    {
     "data": {
      "text/plain": [
       "'      Science,\\tMath,\\tArt\\nMale         20,      30,    15\\nFemale       20,      15,    30 \\n'"
      ]
     },
     "execution_count": 2,
     "metadata": {},
     "output_type": "execute_result"
    }
   ],
   "source": [
    "\n",
    "'''      Science,\tMath,\tArt\n",
    "Male         20,      30,    15\n",
    "Female       20,      15,    30 \n",
    "'''"
   ]
  },
  {
   "cell_type": "markdown",
   "metadata": {},
   "source": [
    "<b> Question:is Subject prefernce independent from the gender ? </b>"
   ]
  },
  {
   "cell_type": "code",
   "execution_count": null,
   "metadata": {},
   "outputs": [],
   "source": []
  },
  {
   "cell_type": "code",
   "execution_count": 3,
   "metadata": {
    "ExecuteTime": {
     "end_time": "2020-09-26T04:17:17.623967Z",
     "start_time": "2020-09-26T04:17:17.613860Z"
    }
   },
   "outputs": [],
   "source": [
    "df=pd.DataFrame({'Science':[20,20],'Math':[30,15],'Art':[15,30]},index=['Male','Female'])"
   ]
  },
  {
   "cell_type": "code",
   "execution_count": 4,
   "metadata": {
    "ExecuteTime": {
     "end_time": "2020-09-26T04:17:19.038856Z",
     "start_time": "2020-09-26T04:17:19.013778Z"
    }
   },
   "outputs": [
    {
     "data": {
      "text/plain": [
       "(10.0,\n",
       " 0.006737946999085468,\n",
       " 2,\n",
       " array([[20. , 22.5, 22.5],\n",
       "        [20. , 22.5, 22.5]]))"
      ]
     },
     "execution_count": 4,
     "metadata": {},
     "output_type": "execute_result"
    }
   ],
   "source": [
    "stat, p, dof, expected = st.chi2_contingency(df,correction=True)\n",
    "stat, p, dof, expected"
   ]
  },
  {
   "cell_type": "code",
   "execution_count": 5,
   "metadata": {
    "ExecuteTime": {
     "end_time": "2020-09-26T04:17:19.601596Z",
     "start_time": "2020-09-26T04:17:19.573882Z"
    }
   },
   "outputs": [],
   "source": [
    "prob = 0.95\n",
    "critical = st.chi2.ppf(prob, dof)"
   ]
  },
  {
   "cell_type": "code",
   "execution_count": 6,
   "metadata": {
    "ExecuteTime": {
     "end_time": "2020-09-26T04:17:20.202182Z",
     "start_time": "2020-09-26T04:17:20.194059Z"
    }
   },
   "outputs": [
    {
     "data": {
      "text/plain": [
       "5.991464547107979"
      ]
     },
     "execution_count": 6,
     "metadata": {},
     "output_type": "execute_result"
    }
   ],
   "source": [
    "critical"
   ]
  },
  {
   "cell_type": "code",
   "execution_count": 7,
   "metadata": {
    "ExecuteTime": {
     "end_time": "2020-09-26T04:17:20.858922Z",
     "start_time": "2020-09-26T04:17:20.843841Z"
    }
   },
   "outputs": [
    {
     "name": "stdout",
     "output_type": "stream",
     "text": [
      "significance=0.050, p=0.007\n",
      "Dependent (reject H0)\n"
     ]
    }
   ],
   "source": [
    "alpha = 1.0 - prob\n",
    "print('significance=%.3f, p=%.3f' % (alpha, p))\n",
    "if p <= alpha:\n",
    "    print('Dependent (reject H0)')\n",
    "else:\n",
    "    print('Independent (fail to reject H0)')"
   ]
  },
  {
   "cell_type": "code",
   "execution_count": 8,
   "metadata": {
    "ExecuteTime": {
     "end_time": "2020-09-26T04:17:21.443867Z",
     "start_time": "2020-09-26T04:17:21.413783Z"
    }
   },
   "outputs": [],
   "source": [
    "table = [[10, 20, 30],\n",
    "          [6,  9,  17]]\n",
    "\n"
   ]
  },
  {
   "cell_type": "code",
   "execution_count": 9,
   "metadata": {
    "ExecuteTime": {
     "end_time": "2020-09-26T04:17:21.923709Z",
     "start_time": "2020-09-26T04:17:21.903756Z"
    }
   },
   "outputs": [
    {
     "data": {
      "text/plain": [
       "(0.27157465150403504,\n",
       " 0.873028283380073,\n",
       " 2,\n",
       " array([[10.43478261, 18.91304348, 30.65217391],\n",
       "        [ 5.56521739, 10.08695652, 16.34782609]]))"
      ]
     },
     "execution_count": 9,
     "metadata": {},
     "output_type": "execute_result"
    }
   ],
   "source": [
    "stat, p, dof, expected = st.chi2_contingency(table,correction=True)\n",
    "stat, p, dof, expected"
   ]
  },
  {
   "cell_type": "code",
   "execution_count": 10,
   "metadata": {
    "ExecuteTime": {
     "end_time": "2020-09-26T04:17:22.443886Z",
     "start_time": "2020-09-26T04:17:22.428636Z"
    }
   },
   "outputs": [
    {
     "name": "stdout",
     "output_type": "stream",
     "text": [
      "significance=0.050, p=0.873\n",
      "Independent (fail to reject H0)\n"
     ]
    }
   ],
   "source": [
    "alpha = 1.0 - prob\n",
    "print('significance=%.3f, p=%.3f' % (alpha, p))\n",
    "if p <= alpha:\n",
    "    print('Dependent (reject H0)')\n",
    "else:\n",
    "    print('Independent (fail to reject H0)')"
   ]
  },
  {
   "cell_type": "markdown",
   "metadata": {},
   "source": [
    "<b> when we have expected frequency available below method use </b>"
   ]
  },
  {
   "cell_type": "code",
   "execution_count": 11,
   "metadata": {
    "ExecuteTime": {
     "end_time": "2020-09-26T04:17:23.384097Z",
     "start_time": "2020-09-26T04:17:23.368721Z"
    }
   },
   "outputs": [
    {
     "data": {
      "text/plain": [
       "(3, 2)"
      ]
     },
     "execution_count": 11,
     "metadata": {},
     "output_type": "execute_result"
    }
   ],
   "source": [
    "table1=np.array(table)\n",
    "table1=table1.reshape(3,2)\n",
    "table1.shape\n"
   ]
  },
  {
   "cell_type": "code",
   "execution_count": 12,
   "metadata": {
    "ExecuteTime": {
     "end_time": "2020-09-26T04:17:23.663886Z",
     "start_time": "2020-09-26T04:17:23.633966Z"
    }
   },
   "outputs": [],
   "source": [
    "chisq,p=st.chisquare(table1)"
   ]
  },
  {
   "cell_type": "code",
   "execution_count": 13,
   "metadata": {
    "ExecuteTime": {
     "end_time": "2020-09-26T04:17:23.963762Z",
     "start_time": "2020-09-26T04:17:23.868580Z"
    }
   },
   "outputs": [
    {
     "data": {
      "text/plain": [
       "(array([17.18367347,  7.58139535]), array([0.00018561, 0.02257984]))"
      ]
     },
     "execution_count": 13,
     "metadata": {},
     "output_type": "execute_result"
    }
   ],
   "source": [
    "chisq,p"
   ]
  },
  {
   "cell_type": "code",
   "execution_count": 14,
   "metadata": {
    "ExecuteTime": {
     "end_time": "2020-09-26T04:17:24.663868Z",
     "start_time": "2020-09-26T04:17:24.648734Z"
    }
   },
   "outputs": [
    {
     "data": {
      "text/plain": [
       "Power_divergenceResult(statistic=2.0109589041095894, pvalue=0.8476265939155094)"
      ]
     },
     "execution_count": 14,
     "metadata": {},
     "output_type": "execute_result"
    }
   ],
   "source": [
    "st.chisquare([16, 18, 16, 14, 12, 12], f_exp=[14.6, 14.6, 14.6, 14.6, 14.6, 14.6])\n",
    "#if not expected then fill this value by mean value"
   ]
  },
  {
   "cell_type": "code",
   "execution_count": 91,
   "metadata": {
    "ExecuteTime": {
     "end_time": "2020-09-26T04:50:08.258588Z",
     "start_time": "2020-09-26T04:50:08.250097Z"
    }
   },
   "outputs": [],
   "source": [
    "Drug=pd.DataFrame({'X-Drug':[10,20,15],'Y-Drug':[25,16,20]},index=['A','B','C'])"
   ]
  },
  {
   "cell_type": "code",
   "execution_count": 92,
   "metadata": {
    "ExecuteTime": {
     "end_time": "2020-09-26T04:50:08.833747Z",
     "start_time": "2020-09-26T04:50:08.808724Z"
    }
   },
   "outputs": [
    {
     "data": {
      "text/html": [
       "<div>\n",
       "<style scoped>\n",
       "    .dataframe tbody tr th:only-of-type {\n",
       "        vertical-align: middle;\n",
       "    }\n",
       "\n",
       "    .dataframe tbody tr th {\n",
       "        vertical-align: top;\n",
       "    }\n",
       "\n",
       "    .dataframe thead th {\n",
       "        text-align: right;\n",
       "    }\n",
       "</style>\n",
       "<table border=\"1\" class=\"dataframe\">\n",
       "  <thead>\n",
       "    <tr style=\"text-align: right;\">\n",
       "      <th></th>\n",
       "      <th>X-Drug</th>\n",
       "      <th>Y-Drug</th>\n",
       "    </tr>\n",
       "  </thead>\n",
       "  <tbody>\n",
       "    <tr>\n",
       "      <th>A</th>\n",
       "      <td>10</td>\n",
       "      <td>25</td>\n",
       "    </tr>\n",
       "    <tr>\n",
       "      <th>B</th>\n",
       "      <td>20</td>\n",
       "      <td>16</td>\n",
       "    </tr>\n",
       "    <tr>\n",
       "      <th>C</th>\n",
       "      <td>15</td>\n",
       "      <td>20</td>\n",
       "    </tr>\n",
       "  </tbody>\n",
       "</table>\n",
       "</div>"
      ],
      "text/plain": [
       "   X-Drug  Y-Drug\n",
       "A      10      25\n",
       "B      20      16\n",
       "C      15      20"
      ]
     },
     "execution_count": 92,
     "metadata": {},
     "output_type": "execute_result"
    }
   ],
   "source": [
    "Drug # here value indicates the weights looses by drugs Man:A,B,C"
   ]
  },
  {
   "cell_type": "markdown",
   "metadata": {},
   "source": [
    "<b> Question: here man loose weights it is independents from the diffrents drugs </b>\n",
    "    "
   ]
  },
  {
   "cell_type": "markdown",
   "metadata": {},
   "source": [
    "<b> Method:1</b>"
   ]
  },
  {
   "cell_type": "code",
   "execution_count": 93,
   "metadata": {
    "ExecuteTime": {
     "end_time": "2020-09-26T04:50:11.168679Z",
     "start_time": "2020-09-26T04:50:11.163636Z"
    }
   },
   "outputs": [],
   "source": [
    "#H0: xdrug=ydrugs equal of weights loss\n",
    "# H1:  xdrug != ydrugs not equal "
   ]
  },
  {
   "cell_type": "code",
   "execution_count": 94,
   "metadata": {
    "ExecuteTime": {
     "end_time": "2020-09-26T04:50:11.898653Z",
     "start_time": "2020-09-26T04:50:11.878446Z"
    }
   },
   "outputs": [
    {
     "data": {
      "text/plain": [
       "(5.292797872032844,\n",
       " 0.07090609124006292,\n",
       " 2,\n",
       " array([[14.85849057, 20.14150943],\n",
       "        [15.28301887, 20.71698113],\n",
       "        [14.85849057, 20.14150943]]))"
      ]
     },
     "execution_count": 94,
     "metadata": {},
     "output_type": "execute_result"
    }
   ],
   "source": [
    "chis, p, dof, expected = st.chi2_contingency(Drug,correction=True)\n",
    "chis, p, dof, expected"
   ]
  },
  {
   "cell_type": "code",
   "execution_count": 95,
   "metadata": {
    "ExecuteTime": {
     "end_time": "2020-09-26T04:50:12.653473Z",
     "start_time": "2020-09-26T04:50:12.638303Z"
    }
   },
   "outputs": [],
   "source": [
    "prob = 0.95\n",
    "critical = st.chi2.ppf(prob, dof)"
   ]
  },
  {
   "cell_type": "code",
   "execution_count": 54,
   "metadata": {
    "ExecuteTime": {
     "end_time": "2020-09-26T04:33:45.735363Z",
     "start_time": "2020-09-26T04:33:45.725299Z"
    }
   },
   "outputs": [
    {
     "data": {
      "text/plain": [
       "5.991464547107979"
      ]
     },
     "execution_count": 54,
     "metadata": {},
     "output_type": "execute_result"
    }
   ],
   "source": [
    "critical"
   ]
  },
  {
   "cell_type": "code",
   "execution_count": 96,
   "metadata": {
    "ExecuteTime": {
     "end_time": "2020-09-26T04:50:18.218306Z",
     "start_time": "2020-09-26T04:50:18.198397Z"
    }
   },
   "outputs": [
    {
     "name": "stdout",
     "output_type": "stream",
     "text": [
      "significance=0.050, p=0.071\n",
      "Independent (fail to reject H0)\n"
     ]
    }
   ],
   "source": [
    "alpha = 1.0 - prob\n",
    "print('significance=%.3f, p=%.3f' % (alpha, p))\n",
    "if p <= alpha:\n",
    "    print('Dependent (reject H0)')\n",
    "else:\n",
    "    print('Independent (fail to reject H0)')"
   ]
  },
  {
   "cell_type": "code",
   "execution_count": 97,
   "metadata": {
    "ExecuteTime": {
     "end_time": "2020-09-26T04:50:19.738567Z",
     "start_time": "2020-09-26T04:50:19.718452Z"
    }
   },
   "outputs": [],
   "source": [
    "#conclusion : boths  drugs effect the same in terms of weightlosabss\n"
   ]
  },
  {
   "cell_type": "markdown",
   "metadata": {},
   "source": [
    "<b> Method:2</b>"
   ]
  },
  {
   "cell_type": "code",
   "execution_count": 98,
   "metadata": {
    "ExecuteTime": {
     "end_time": "2020-09-26T04:50:20.878372Z",
     "start_time": "2020-09-26T04:50:20.838488Z"
    }
   },
   "outputs": [
    {
     "data": {
      "text/html": [
       "<div>\n",
       "<style scoped>\n",
       "    .dataframe tbody tr th:only-of-type {\n",
       "        vertical-align: middle;\n",
       "    }\n",
       "\n",
       "    .dataframe tbody tr th {\n",
       "        vertical-align: top;\n",
       "    }\n",
       "\n",
       "    .dataframe thead th {\n",
       "        text-align: right;\n",
       "    }\n",
       "</style>\n",
       "<table border=\"1\" class=\"dataframe\">\n",
       "  <thead>\n",
       "    <tr style=\"text-align: right;\">\n",
       "      <th></th>\n",
       "      <th>X-Drug</th>\n",
       "      <th>Y-Drug</th>\n",
       "      <th>R-sum</th>\n",
       "    </tr>\n",
       "  </thead>\n",
       "  <tbody>\n",
       "    <tr>\n",
       "      <th>A</th>\n",
       "      <td>10</td>\n",
       "      <td>25</td>\n",
       "      <td>35</td>\n",
       "    </tr>\n",
       "    <tr>\n",
       "      <th>B</th>\n",
       "      <td>20</td>\n",
       "      <td>16</td>\n",
       "      <td>36</td>\n",
       "    </tr>\n",
       "    <tr>\n",
       "      <th>C</th>\n",
       "      <td>15</td>\n",
       "      <td>20</td>\n",
       "      <td>35</td>\n",
       "    </tr>\n",
       "    <tr>\n",
       "      <th>Total</th>\n",
       "      <td>45</td>\n",
       "      <td>61</td>\n",
       "      <td>106</td>\n",
       "    </tr>\n",
       "  </tbody>\n",
       "</table>\n",
       "</div>"
      ],
      "text/plain": [
       "       X-Drug  Y-Drug  R-sum\n",
       "A          10      25     35\n",
       "B          20      16     36\n",
       "C          15      20     35\n",
       "Total      45      61    106"
      ]
     },
     "execution_count": 98,
     "metadata": {},
     "output_type": "execute_result"
    }
   ],
   "source": [
    "Drug['R-sum']=Drug.sum(axis=1)\n",
    "Drug.loc['Total']=Drug.sum(axis=0)\n",
    "Drug"
   ]
  },
  {
   "cell_type": "code",
   "execution_count": 99,
   "metadata": {
    "ExecuteTime": {
     "end_time": "2020-09-26T04:50:21.418442Z",
     "start_time": "2020-09-26T04:50:21.381223Z"
    }
   },
   "outputs": [],
   "source": [
    "for i in Drug.columns:\n",
    "       Drug[i+'expected'] =Drug.loc[:, 'R-sum']*Drug.loc['Total', i]/Drug.loc['Total', 'R-sum']"
   ]
  },
  {
   "cell_type": "code",
   "execution_count": 100,
   "metadata": {
    "ExecuteTime": {
     "end_time": "2020-09-26T04:50:21.658582Z",
     "start_time": "2020-09-26T04:50:21.628387Z"
    }
   },
   "outputs": [
    {
     "data": {
      "text/html": [
       "<div>\n",
       "<style scoped>\n",
       "    .dataframe tbody tr th:only-of-type {\n",
       "        vertical-align: middle;\n",
       "    }\n",
       "\n",
       "    .dataframe tbody tr th {\n",
       "        vertical-align: top;\n",
       "    }\n",
       "\n",
       "    .dataframe thead th {\n",
       "        text-align: right;\n",
       "    }\n",
       "</style>\n",
       "<table border=\"1\" class=\"dataframe\">\n",
       "  <thead>\n",
       "    <tr style=\"text-align: right;\">\n",
       "      <th></th>\n",
       "      <th>X-Drug</th>\n",
       "      <th>Y-Drug</th>\n",
       "      <th>R-sum</th>\n",
       "      <th>X-Drugexpected</th>\n",
       "      <th>Y-Drugexpected</th>\n",
       "      <th>R-sumexpected</th>\n",
       "    </tr>\n",
       "  </thead>\n",
       "  <tbody>\n",
       "    <tr>\n",
       "      <th>A</th>\n",
       "      <td>10</td>\n",
       "      <td>25</td>\n",
       "      <td>35</td>\n",
       "      <td>14.858491</td>\n",
       "      <td>20.141509</td>\n",
       "      <td>35.0</td>\n",
       "    </tr>\n",
       "    <tr>\n",
       "      <th>B</th>\n",
       "      <td>20</td>\n",
       "      <td>16</td>\n",
       "      <td>36</td>\n",
       "      <td>15.283019</td>\n",
       "      <td>20.716981</td>\n",
       "      <td>36.0</td>\n",
       "    </tr>\n",
       "    <tr>\n",
       "      <th>C</th>\n",
       "      <td>15</td>\n",
       "      <td>20</td>\n",
       "      <td>35</td>\n",
       "      <td>14.858491</td>\n",
       "      <td>20.141509</td>\n",
       "      <td>35.0</td>\n",
       "    </tr>\n",
       "    <tr>\n",
       "      <th>Total</th>\n",
       "      <td>45</td>\n",
       "      <td>61</td>\n",
       "      <td>106</td>\n",
       "      <td>45.000000</td>\n",
       "      <td>61.000000</td>\n",
       "      <td>106.0</td>\n",
       "    </tr>\n",
       "  </tbody>\n",
       "</table>\n",
       "</div>"
      ],
      "text/plain": [
       "       X-Drug  Y-Drug  R-sum  X-Drugexpected  Y-Drugexpected  R-sumexpected\n",
       "A          10      25     35       14.858491       20.141509           35.0\n",
       "B          20      16     36       15.283019       20.716981           36.0\n",
       "C          15      20     35       14.858491       20.141509           35.0\n",
       "Total      45      61    106       45.000000       61.000000          106.0"
      ]
     },
     "execution_count": 100,
     "metadata": {},
     "output_type": "execute_result"
    }
   ],
   "source": [
    "Drug"
   ]
  },
  {
   "cell_type": "code",
   "execution_count": 101,
   "metadata": {
    "ExecuteTime": {
     "end_time": "2020-09-26T04:50:21.868730Z",
     "start_time": "2020-09-26T04:50:21.838370Z"
    }
   },
   "outputs": [],
   "source": [
    "chiq=0\n",
    "for i, j in zip(['X-Drug', 'Y-Drug'], ['X-Drugexpected', 'Y-Drugexpected']):\n",
    "        chiq=chiq+((Drug.loc[:,i]-Drug.loc[:,j])**2/Drug.loc[:,j]).sum()"
   ]
  },
  {
   "cell_type": "code",
   "execution_count": 102,
   "metadata": {
    "ExecuteTime": {
     "end_time": "2020-09-26T04:50:22.048502Z",
     "start_time": "2020-09-26T04:50:22.028810Z"
    }
   },
   "outputs": [
    {
     "data": {
      "text/plain": [
       "5.292797872032844"
      ]
     },
     "execution_count": 102,
     "metadata": {},
     "output_type": "execute_result"
    }
   ],
   "source": [
    "chiq"
   ]
  },
  {
   "cell_type": "code",
   "execution_count": 103,
   "metadata": {
    "ExecuteTime": {
     "end_time": "2020-09-26T04:50:22.263697Z",
     "start_time": "2020-09-26T04:50:22.238392Z"
    }
   },
   "outputs": [
    {
     "data": {
      "text/plain": [
       "2"
      ]
     },
     "execution_count": 103,
     "metadata": {},
     "output_type": "execute_result"
    }
   ],
   "source": [
    "dof"
   ]
  },
  {
   "cell_type": "code",
   "execution_count": null,
   "metadata": {},
   "outputs": [],
   "source": []
  },
  {
   "cell_type": "code",
   "execution_count": null,
   "metadata": {},
   "outputs": [],
   "source": []
  }
 ],
 "metadata": {
  "kernelspec": {
   "display_name": "Python 3",
   "language": "python",
   "name": "python3"
  },
  "language_info": {
   "codemirror_mode": {
    "name": "ipython",
    "version": 3
   },
   "file_extension": ".py",
   "mimetype": "text/x-python",
   "name": "python",
   "nbconvert_exporter": "python",
   "pygments_lexer": "ipython3",
   "version": "3.7.6"
  },
  "toc": {
   "base_numbering": 1,
   "nav_menu": {},
   "number_sections": true,
   "sideBar": true,
   "skip_h1_title": false,
   "title_cell": "Table of Contents",
   "title_sidebar": "Contents",
   "toc_cell": false,
   "toc_position": {},
   "toc_section_display": true,
   "toc_window_display": false
  }
 },
 "nbformat": 4,
 "nbformat_minor": 4
}
