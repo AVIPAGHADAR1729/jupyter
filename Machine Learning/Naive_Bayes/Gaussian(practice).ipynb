{
 "cells": [
  {
   "cell_type": "code",
   "execution_count": 6,
   "id": "nasty-posting",
   "metadata": {
    "ExecuteTime": {
     "end_time": "2021-02-13T05:38:32.446731Z",
     "start_time": "2021-02-13T05:38:32.429739Z"
    }
   },
   "outputs": [
    {
     "name": "stdout",
     "output_type": "stream",
     "text": [
      "(100, 2) (100,)\n",
      "[[-0.79415228  2.10495117]\n",
      " [-9.15155186 -4.81286449]\n",
      " [-3.10367371  3.90202401]\n",
      " [-1.42946517  5.16850105]\n",
      " [-7.4693868  -4.20198333]]\n",
      "[0 1 0 0 1]\n"
     ]
    }
   ],
   "source": [
    "from sklearn.datasets import make_blobs\n",
    "from scipy.stats import norm\n",
    "from numpy import mean\n",
    "from numpy import std\n",
    "# generate 2d classification dataset\n",
    "X, y = make_blobs(n_samples=100, centers=2, n_features=2, random_state=1)\n",
    "# summarize\n",
    "print(X.shape, y.shape)\n",
    "print(X[:5])\n",
    "print(y[:5])"
   ]
  },
  {
   "cell_type": "code",
   "execution_count": 7,
   "id": "continuing-respect",
   "metadata": {
    "ExecuteTime": {
     "end_time": "2021-02-13T05:38:36.789472Z",
     "start_time": "2021-02-13T05:38:36.784479Z"
    }
   },
   "outputs": [],
   "source": [
    "\n",
    "\n",
    "# fit a probability distribution to a univariate data sample\n",
    "\n",
    "\n",
    "def fit_distribution(data):\n",
    "    # estimate parameters\n",
    "    mu = mean(data)\n",
    "    sigma = std(data)\n",
    "    print(mu, sigma)\n",
    "    # fit distribution\n",
    "    dist = norm(mu, sigma)\n",
    "    return dist"
   ]
  },
  {
   "cell_type": "code",
   "execution_count": 8,
   "id": "organizational-soldier",
   "metadata": {
    "ExecuteTime": {
     "end_time": "2021-02-13T05:38:37.452359Z",
     "start_time": "2021-02-13T05:38:37.442365Z"
    }
   },
   "outputs": [
    {
     "name": "stdout",
     "output_type": "stream",
     "text": [
      "(50, 2) (50, 2)\n"
     ]
    }
   ],
   "source": [
    "Xy0 = X[y == 0]\n",
    "Xy1 = X[y == 1]\n",
    "print(Xy0.shape, Xy1.shape)"
   ]
  },
  {
   "cell_type": "code",
   "execution_count": 9,
   "id": "vital-formula",
   "metadata": {
    "ExecuteTime": {
     "end_time": "2021-02-13T05:38:38.083655Z",
     "start_time": "2021-02-13T05:38:38.076657Z"
    }
   },
   "outputs": [
    {
     "name": "stdout",
     "output_type": "stream",
     "text": [
      "0.5 0.5\n"
     ]
    }
   ],
   "source": [
    "priory0 = len(Xy0) / len(X)\n",
    "priory1 = len(Xy1) / len(X)\n",
    "print(priory0, priory1)"
   ]
  },
  {
   "cell_type": "code",
   "execution_count": 10,
   "id": "small-latest",
   "metadata": {
    "ExecuteTime": {
     "end_time": "2021-02-13T05:38:38.789415Z",
     "start_time": "2021-02-13T05:38:38.740593Z"
    }
   },
   "outputs": [
    {
     "name": "stdout",
     "output_type": "stream",
     "text": [
      "-1.5632888906409914 0.787444265443213\n",
      "4.426680361487157 0.958296071258367\n",
      "-9.681177100524485 0.8943078901048118\n",
      "-3.9713794295185845 0.9308177595208521\n"
     ]
    }
   ],
   "source": [
    "X1y0 = fit_distribution(Xy0[:, 0])\n",
    "X2y0 = fit_distribution(Xy0[:, 1])\n",
    "# create PDFs for y==1\n",
    "X1y1 = fit_distribution(Xy1[:, 0])\n",
    "X2y1 = fit_distribution(Xy1[:, 1])"
   ]
  },
  {
   "cell_type": "code",
   "execution_count": 11,
   "id": "adolescent-contemporary",
   "metadata": {
    "ExecuteTime": {
     "end_time": "2021-02-13T05:42:58.606142Z",
     "start_time": "2021-02-13T05:42:58.600144Z"
    }
   },
   "outputs": [],
   "source": [
    "def probability(X, prior, dist1, dist2):\n",
    "    return prior * dist1.pdf(X[0]) * dist2.pdf(X[1])"
   ]
  },
  {
   "cell_type": "code",
   "execution_count": 14,
   "id": "chubby-consumer",
   "metadata": {
    "ExecuteTime": {
     "end_time": "2021-02-13T05:58:18.732513Z",
     "start_time": "2021-02-13T05:58:18.712527Z"
    }
   },
   "outputs": [
    {
     "name": "stdout",
     "output_type": "stream",
     "text": [
      "-1.5632888906409914 0.787444265443213\n",
      "4.426680361487157 0.958296071258367\n",
      "-9.681177100524485 0.8943078901048118\n",
      "-3.9713794295185845 0.9308177595208521\n",
      "P(y=0 | [-9.15155186 -4.81286449]) = 0.000\n",
      "P(y=1 | [-9.15155186 -4.81286449]) = 5.331\n",
      "Truth: y=1\n"
     ]
    }
   ],
   "source": [
    "distX1y0 = fit_distribution(Xy0[:, 0])\n",
    "distX2y0 = fit_distribution(Xy0[:, 1])\n",
    "# create PDFs for y==1\n",
    "distX1y1 = fit_distribution(Xy1[:, 0])\n",
    "distX2y1 = fit_distribution(Xy1[:, 1])\n",
    "# classify one example\n",
    "Xsample, ysample = X[1], y[1]\n",
    "py0 = probability(Xsample, priory0, distX1y0, distX2y0)\n",
    "py1 = probability(Xsample, priory1, distX1y1, distX2y1)\n",
    "print('P(y=0 | %s) = %.3f' % (Xsample, py0*100))\n",
    "print('P(y=1 | %s) = %.3f' % (Xsample, py1*100))\n",
    "print('Truth: y=%d' % ysample)"
   ]
  },
  {
   "cell_type": "code",
   "execution_count": 15,
   "id": "neutral-rouge",
   "metadata": {
    "ExecuteTime": {
     "end_time": "2021-02-13T05:58:38.509980Z",
     "start_time": "2021-02-13T05:58:38.482995Z"
    }
   },
   "outputs": [
    {
     "data": {
      "text/plain": [
       "(array([-9.15155186, -4.81286449]), 1)"
      ]
     },
     "execution_count": 15,
     "metadata": {},
     "output_type": "execute_result"
    }
   ],
   "source": [
    "X[1], y[1]"
   ]
  },
  {
   "cell_type": "code",
   "execution_count": null,
   "id": "floppy-wiring",
   "metadata": {},
   "outputs": [],
   "source": []
  }
 ],
 "metadata": {
  "kernelspec": {
   "display_name": "Python 3",
   "language": "python",
   "name": "python3"
  },
  "language_info": {
   "codemirror_mode": {
    "name": "ipython",
    "version": 3
   },
   "file_extension": ".py",
   "mimetype": "text/x-python",
   "name": "python",
   "nbconvert_exporter": "python",
   "pygments_lexer": "ipython3",
   "version": "3.7.9"
  },
  "toc": {
   "base_numbering": 1,
   "nav_menu": {},
   "number_sections": true,
   "sideBar": true,
   "skip_h1_title": false,
   "title_cell": "Table of Contents",
   "title_sidebar": "Contents",
   "toc_cell": false,
   "toc_position": {},
   "toc_section_display": true,
   "toc_window_display": false
  }
 },
 "nbformat": 4,
 "nbformat_minor": 5
}
