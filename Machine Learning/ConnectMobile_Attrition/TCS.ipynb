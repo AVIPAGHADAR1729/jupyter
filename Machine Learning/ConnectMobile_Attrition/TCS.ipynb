{
 "cells": [
  {
   "cell_type": "code",
   "execution_count": 7,
   "id": "polar-chuck",
   "metadata": {
    "ExecuteTime": {
     "end_time": "2021-02-19T08:29:31.715655Z",
     "start_time": "2021-02-19T08:29:31.698663Z"
    }
   },
   "outputs": [],
   "source": [
    "import pandas\n",
    "import matplotlib.pyplot as plt\n",
    "from sklearn import model_selection\n",
    "from sklearn.linear_model import LogisticRegression\n",
    "from sklearn.tree import DecisionTreeClassifier\n",
    "from sklearn.neighbors import KNeighborsClassifier\n",
    "from sklearn.discriminant_analysis import LinearDiscriminantAnalysis\n",
    "from sklearn.naive_bayes import GaussianNB\n",
    "from sklearn.svm import SVC\n",
    "\n",
    "from scipy import stats\n",
    "from sklearn.metrics import accuracy_score, average_precision_score\n",
    "from sklearn.model_selection import train_test_split\n",
    "from sklearn import metrics\n",
    "from sklearn.metrics import roc_curve, auc, roc_auc_score\n",
    "from sklearn.model_selection import train_test_split\n",
    "from sklearn.metrics import classification_report\n",
    "from sklearn.linear_model import LogisticRegression, SGDClassifier, PassiveAggressiveClassifier, Lasso\n",
    "from sklearn.neighbors import KNeighborsClassifier, NearestCentroid\n",
    "from sklearn.model_selection import KFold, cross_val_score, StratifiedKFold\n",
    "from sklearn import preprocessing\n",
    "from sklearn import tree\n",
    "from sklearn.naive_bayes import GaussianNB, BernoulliNB, MultinomialNB\n",
    "from sklearn import svm\n",
    "from sklearn.ensemble import RandomForestClassifier, ExtraTreesClassifier\n",
    "from sklearn.discriminant_analysis import LinearDiscriminantAnalysis, QuadraticDiscriminantAnalysis\n",
    "from sklearn.ensemble import AdaBoostClassifier, BaggingClassifier, GradientBoostingClassifier, IsolationForest, VotingClassifier\n",
    "import xgboost as xgb\n",
    "from sklearn.neural_network import MLPClassifier\n",
    "from sklearn.preprocessing import StandardScaler, Normalizer, PolynomialFeatures\n",
    "from sklearn.decomposition import PCA, KernelPCA, FastICA, SparsePCA\n",
    "from sklearn.pipeline import Pipeline\n",
    "from sklearn.cluster import FeatureAgglomeration\n",
    "from sklearn.kernel_approximation import RBFSampler\n",
    "# from sklearn.preprocessing importabs\n",
    "from sklearn.impute import SimpleImputer\n",
    "import random\n",
    "\n",
    "import warnings\n",
    "import statsmodels.api as sm\n",
    "warnings.filterwarnings('ignore')\n"
   ]
  },
  {
   "cell_type": "code",
   "execution_count": null,
   "id": "significant-bridge",
   "metadata": {},
   "outputs": [],
   "source": [
    "def cat_to_contiues(df=None, target='label', list_con='list_of_contiues_feature'):\n",
    "    list1=[]\n",
    "    for i in list_con:\n",
    "        data1=connect_mobile_remove_outlier[connect_mobile_remove_outlier[target]==0][i]\n",
    "        data2=connect_mobile_remove_outlier[connect_mobile_remove_outlier[target]==1][i]\n",
    "        print(\"class 0 mean,median,std \",np.mean(data1), np.median(data1),np.std(data1))\n",
    "        print(\"class 1,mean,median,std \",np.mean(data2), np.median(data2),np.std(data2))\n",
    "        stat, p = stests.ztest(data1, data2)\n",
    "        print('Statistics=%.3f, p=%.3f' % (stat, p))\n",
    "        # interpret\n",
    "        alpha = 0.05\n",
    "        if p > alpha:\n",
    "            print(i,'Same mean (fail to reject H0)')\n",
    "        else:\n",
    "            print(i,'Different mean (reject H0) ')\n",
    "            list1.append(i)\n",
    "            "
   ]
  },
  {
   "cell_type": "code",
   "execution_count": 6,
   "id": "permanent-vietnam",
   "metadata": {
    "ExecuteTime": {
     "end_time": "2021-02-19T08:17:57.806245Z",
     "start_time": "2021-02-19T08:17:57.797254Z"
    },
    "code_folding": []
   },
   "outputs": [],
   "source": [
    "def cat_to_cat(df=None, target='label', list_cate='list_of_cat_feature'):\n",
    "    l1 = []\n",
    "    for i in list_cate:\n",
    "            df_t = pd.crosstab(df[target], df[i])\n",
    "            stat, p, dof, expected = st.chi2_contingency(df_t, correction=True)\n",
    "            deno = sum(df.sum())\n",
    "            x = numpy.sqrt(stat / deno)\n",
    "            if(x > 0.25):  # thresold\n",
    "                 l1.append(i)\n",
    "    return l1"
   ]
  },
  {
   "cell_type": "code",
   "execution_count": null,
   "id": "dated-round",
   "metadata": {},
   "outputs": [],
   "source": [
    "def select_features(X_train, y_train, X_test):\n",
    "    fs = SelectKBest(score_func=chi2, k='all')\n",
    "    fs.fit(X_train, y_train)\n",
    "\n",
    "    X_train_fs = fs.transform(X_train)\n",
    "    X_test_fs = fs.transform(X_test)\n",
    "    return X_train_fs, X_test_fs, fs"
   ]
  },
  {
   "cell_type": "code",
   "execution_count": null,
   "id": "meaning-preference",
   "metadata": {},
   "outputs": [],
   "source": [
    "import pandas as pd\n",
    "connect_mobile = pd.read_excel('Connect_Mobile__Attrition_Data_file.xlsx')\n",
    "connect_mobile.head()"
   ]
  },
  {
   "cell_type": "code",
   "execution_count": null,
   "id": "rapid-security",
   "metadata": {},
   "outputs": [],
   "source": [
    "from sklearn.decomposition import PCA\n",
    "pca = PCA(n_components=3)\n",
    "\n",
    "principalComponents = pca.fit_transform(connect_mobile_remove_outlier.iloc[:,:-1])\n",
    "pca = PCA(n_components=3)\n",
    "finalDf = pd.concat([principalDf, connect_mobile_remove_outlier['active_cust']] ,axis = 1) \n",
    "px.scatter_3d(data_frame=finalDf,x='pc1',y='pc2',z='pc3',\n",
    "              color='active_cust')"
   ]
  },
  {
   "cell_type": "code",
   "execution_count": null,
   "id": "extra-brighton",
   "metadata": {},
   "outputs": [],
   "source": [
    "df=connect_mobile.copy()"
   ]
  },
  {
   "cell_type": "code",
   "execution_count": null,
   "id": "respiratory-genesis",
   "metadata": {},
   "outputs": [],
   "source": [
    "df=df.sample(frac=0.2)\n",
    "X = df.iloc[:,1:]\n",
    "Y = df.iloc[:,0]"
   ]
  },
  {
   "cell_type": "code",
   "execution_count": null,
   "id": "adjustable-investing",
   "metadata": {},
   "outputs": [],
   "source": [
    "# load dataset\n",
    "model=[]\n",
    "# prepare configuration for cross validation test harness\n",
    "seed = 7\n",
    "# prepare models\n",
    "models.append(('Random Forest', RandomForestClassifier()))\n",
    "models.append(('Bernoulli', BernoulliNB()))\n",
    "models.append(('AdaBoost', AdaBoostClassifier()))\n",
    "models.append(('QDA', QuadraticDiscriminantAnalysis()))\n",
    "models.append(('Gradient', GradientBoostingClassifier()))\n",
    "models.append(('SGD', SGDClassifier()))\n",
    "models.append(('LR', LogisticRegression()))\n",
    "models.append(('LDA', LinearDiscriminantAnalysis()))\n",
    "models.append(('KNN', KNeighborsClassifier()))\n",
    "models.append(('CART', DecisionTreeClassifier()))\n",
    "models.append(('NB', GaussianNB()))\n",
    "\n",
    "# models.append(('SVM', SVC()))\n",
    "# evaluate each model in turn\n",
    "results = []\n",
    "names = []\n",
    "scoring = 'accuracy'\n",
    "for name, model in models:\n",
    "    kfold = model_selection.KFold(n_splits=10, random_state=seed)\n",
    "    cv_results = model_selection.cross_val_score(\n",
    "        model, X, Y, cv=kfold, scoring=scoring)\n",
    "    results.append(cv_results)\n",
    "    names.append(name)\n",
    "    msg = \"%s: %f (%f)\" % (name, cv_results.mean(), cv_results.std())\n",
    "    print(msg)\n",
    "# boxplot algorithm comparison\n"
   ]
  },
  {
   "cell_type": "code",
   "execution_count": null,
   "id": "unlikely-nursery",
   "metadata": {},
   "outputs": [],
   "source": [
    "fig = plt.figure()\n",
    "fig.suptitle('Algorithm Comparison')\n",
    "ax = fig.add_subplot(111)\n",
    "plt.boxplot(results)\n",
    "ax.set_xticklabels(names)\n",
    "plt.xticks(rotation=90)\n",
    "plt.show()"
   ]
  }
 ],
 "metadata": {
  "kernelspec": {
   "display_name": "Python 3",
   "language": "python",
   "name": "python3"
  },
  "language_info": {
   "codemirror_mode": {
    "name": "ipython",
    "version": 3
   },
   "file_extension": ".py",
   "mimetype": "text/x-python",
   "name": "python",
   "nbconvert_exporter": "python",
   "pygments_lexer": "ipython3",
   "version": "3.7.9"
  },
  "toc": {
   "base_numbering": 1,
   "nav_menu": {},
   "number_sections": true,
   "sideBar": true,
   "skip_h1_title": false,
   "title_cell": "Table of Contents",
   "title_sidebar": "Contents",
   "toc_cell": false,
   "toc_position": {},
   "toc_section_display": true,
   "toc_window_display": false
  }
 },
 "nbformat": 4,
 "nbformat_minor": 5
}
