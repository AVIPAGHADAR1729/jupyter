{
 "cells": [
  {
   "cell_type": "code",
   "execution_count": 2,
   "id": "dangerous-grace",
   "metadata": {
    "ExecuteTime": {
     "end_time": "2021-02-19T07:26:34.452703Z",
     "start_time": "2021-02-19T07:25:24.972447Z"
    }
   },
   "outputs": [],
   "source": [
    "import numpy \n",
    "import numpy as np\n",
    "import pandas as pd\n",
    "import seaborn as sns\n",
    "import matplotlib.pyplot as plt\n",
    "from sklearn import metrics\n",
    "import matplotlib.patches as mpatches\n",
    "from sklearn.metrics import classification_report\n",
    "from sklearn.metrics import confusion_matrix\n",
    "import scipy.stats as st \n",
    "import dtale \n",
    "import warnings\n",
    "import random\n",
    "from sklearn.model_selection import StratifiedKFold \n",
    "import plotly.express as px\n",
    "from imblearn.over_sampling import RandomOverSampler\n",
    "from sklearn.tree import DecisionTreeClassifier\n",
    "from sklearn.model_selection import cross_val_score\n",
    "warnings.filterwarnings('ignore')\n",
    "import pandas_profiling as pdp\n",
    "from sklearn.model_selection import train_test_split\n",
    "from sklearn.neighbors import KNeighborsClassifier\n",
    "from sklearn.metrics import roc_curve\n",
    "from statsmodels.stats import weightstats as stests\n",
    "import pandas_profiling as pp\n",
    "from sklearn.preprocessing import StandardScaler"
   ]
  },
  {
   "cell_type": "code",
   "execution_count": 2,
   "id": "front-samoa",
   "metadata": {
    "ExecuteTime": {
     "end_time": "2021-02-19T05:35:31.551312Z",
     "start_time": "2021-02-19T05:34:36.998318Z"
    },
    "scrolled": false
   },
   "outputs": [
    {
     "data": {
      "text/html": [
       "<div>\n",
       "<style scoped>\n",
       "    .dataframe tbody tr th:only-of-type {\n",
       "        vertical-align: middle;\n",
       "    }\n",
       "\n",
       "    .dataframe tbody tr th {\n",
       "        vertical-align: top;\n",
       "    }\n",
       "\n",
       "    .dataframe thead th {\n",
       "        text-align: right;\n",
       "    }\n",
       "</style>\n",
       "<table border=\"1\" class=\"dataframe\">\n",
       "  <thead>\n",
       "    <tr style=\"text-align: right;\">\n",
       "      <th></th>\n",
       "      <th>active_cust</th>\n",
       "      <th>income</th>\n",
       "      <th>expenditure</th>\n",
       "      <th>months_on_network</th>\n",
       "      <th>Num_complaints</th>\n",
       "      <th>number_plan_changes</th>\n",
       "      <th>relocated</th>\n",
       "      <th>monthly_bill</th>\n",
       "      <th>technical_issues_per_month</th>\n",
       "      <th>Speed_test_result</th>\n",
       "    </tr>\n",
       "  </thead>\n",
       "  <tbody>\n",
       "    <tr>\n",
       "      <th>0</th>\n",
       "      <td>0</td>\n",
       "      <td>1586</td>\n",
       "      <td>1268.8</td>\n",
       "      <td>85</td>\n",
       "      <td>4</td>\n",
       "      <td>1</td>\n",
       "      <td>0</td>\n",
       "      <td>121</td>\n",
       "      <td>4</td>\n",
       "      <td>85</td>\n",
       "    </tr>\n",
       "    <tr>\n",
       "      <th>1</th>\n",
       "      <td>0</td>\n",
       "      <td>1581</td>\n",
       "      <td>1264.8</td>\n",
       "      <td>85</td>\n",
       "      <td>4</td>\n",
       "      <td>1</td>\n",
       "      <td>0</td>\n",
       "      <td>133</td>\n",
       "      <td>4</td>\n",
       "      <td>85</td>\n",
       "    </tr>\n",
       "    <tr>\n",
       "      <th>2</th>\n",
       "      <td>0</td>\n",
       "      <td>1594</td>\n",
       "      <td>1275.2</td>\n",
       "      <td>82</td>\n",
       "      <td>4</td>\n",
       "      <td>1</td>\n",
       "      <td>0</td>\n",
       "      <td>118</td>\n",
       "      <td>4</td>\n",
       "      <td>85</td>\n",
       "    </tr>\n",
       "    <tr>\n",
       "      <th>3</th>\n",
       "      <td>0</td>\n",
       "      <td>1594</td>\n",
       "      <td>1275.2</td>\n",
       "      <td>82</td>\n",
       "      <td>4</td>\n",
       "      <td>1</td>\n",
       "      <td>0</td>\n",
       "      <td>123</td>\n",
       "      <td>4</td>\n",
       "      <td>85</td>\n",
       "    </tr>\n",
       "    <tr>\n",
       "      <th>4</th>\n",
       "      <td>1</td>\n",
       "      <td>1609</td>\n",
       "      <td>1287.2</td>\n",
       "      <td>80</td>\n",
       "      <td>4</td>\n",
       "      <td>1</td>\n",
       "      <td>0</td>\n",
       "      <td>177</td>\n",
       "      <td>4</td>\n",
       "      <td>85</td>\n",
       "    </tr>\n",
       "  </tbody>\n",
       "</table>\n",
       "</div>"
      ],
      "text/plain": [
       "   active_cust  income  expenditure  months_on_network  Num_complaints  \\\n",
       "0            0    1586       1268.8                 85               4   \n",
       "1            0    1581       1264.8                 85               4   \n",
       "2            0    1594       1275.2                 82               4   \n",
       "3            0    1594       1275.2                 82               4   \n",
       "4            1    1609       1287.2                 80               4   \n",
       "\n",
       "   number_plan_changes  relocated  monthly_bill  technical_issues_per_month  \\\n",
       "0                    1          0           121                           4   \n",
       "1                    1          0           133                           4   \n",
       "2                    1          0           118                           4   \n",
       "3                    1          0           123                           4   \n",
       "4                    1          0           177                           4   \n",
       "\n",
       "   Speed_test_result  \n",
       "0                 85  \n",
       "1                 85  \n",
       "2                 85  \n",
       "3                 85  \n",
       "4                 85  "
      ]
     },
     "execution_count": 2,
     "metadata": {},
     "output_type": "execute_result"
    }
   ],
   "source": [
    "connect_mobile=pd.read_excel('Connect_Mobile__Attrition_Data_file.xlsx')\n",
    "connect_mobile.head()"
   ]
  },
  {
   "cell_type": "code",
   "execution_count": 4,
   "id": "patient-portuguese",
   "metadata": {
    "ExecuteTime": {
     "end_time": "2021-02-19T05:39:35.852402Z",
     "start_time": "2021-02-19T05:39:35.838429Z"
    }
   },
   "outputs": [],
   "source": [
    "df=connect_mobile.copy()"
   ]
  },
  {
   "cell_type": "code",
   "execution_count": 11,
   "id": "continent-crazy",
   "metadata": {
    "ExecuteTime": {
     "end_time": "2021-02-19T05:40:38.612343Z",
     "start_time": "2021-02-19T05:40:38.469423Z"
    }
   },
   "outputs": [
    {
     "data": {
      "text/html": [
       "<div>\n",
       "<style scoped>\n",
       "    .dataframe tbody tr th:only-of-type {\n",
       "        vertical-align: middle;\n",
       "    }\n",
       "\n",
       "    .dataframe tbody tr th {\n",
       "        vertical-align: top;\n",
       "    }\n",
       "\n",
       "    .dataframe thead th {\n",
       "        text-align: right;\n",
       "    }\n",
       "</style>\n",
       "<table border=\"1\" class=\"dataframe\">\n",
       "  <thead>\n",
       "    <tr style=\"text-align: right;\">\n",
       "      <th></th>\n",
       "      <th>active_cust</th>\n",
       "      <th>income</th>\n",
       "      <th>expenditure</th>\n",
       "      <th>months_on_network</th>\n",
       "      <th>Num_complaints</th>\n",
       "      <th>number_plan_changes</th>\n",
       "      <th>relocated</th>\n",
       "      <th>monthly_bill</th>\n",
       "      <th>technical_issues_per_month</th>\n",
       "      <th>Speed_test_result</th>\n",
       "    </tr>\n",
       "  </thead>\n",
       "  <tbody>\n",
       "    <tr>\n",
       "      <th>count</th>\n",
       "      <td>100000.000000</td>\n",
       "      <td>100000.000000</td>\n",
       "      <td>100000.000000</td>\n",
       "      <td>100000.000000</td>\n",
       "      <td>100000.000000</td>\n",
       "      <td>100000.000000</td>\n",
       "      <td>100000.000000</td>\n",
       "      <td>100000.000000</td>\n",
       "      <td>100000.00000</td>\n",
       "      <td>100000.000000</td>\n",
       "    </tr>\n",
       "    <tr>\n",
       "      <th>mean</th>\n",
       "      <td>0.578590</td>\n",
       "      <td>1855.279910</td>\n",
       "      <td>1409.669662</td>\n",
       "      <td>58.402450</td>\n",
       "      <td>4.012840</td>\n",
       "      <td>1.385410</td>\n",
       "      <td>0.123480</td>\n",
       "      <td>95.816450</td>\n",
       "      <td>3.31673</td>\n",
       "      <td>81.668540</td>\n",
       "    </tr>\n",
       "    <tr>\n",
       "      <th>std</th>\n",
       "      <td>0.493787</td>\n",
       "      <td>2712.385257</td>\n",
       "      <td>2174.330870</td>\n",
       "      <td>18.643736</td>\n",
       "      <td>0.285265</td>\n",
       "      <td>1.617101</td>\n",
       "      <td>0.328989</td>\n",
       "      <td>50.161327</td>\n",
       "      <td>1.24147</td>\n",
       "      <td>9.952554</td>\n",
       "    </tr>\n",
       "    <tr>\n",
       "      <th>min</th>\n",
       "      <td>0.000000</td>\n",
       "      <td>1130.000000</td>\n",
       "      <td>904.000000</td>\n",
       "      <td>-20.000000</td>\n",
       "      <td>3.000000</td>\n",
       "      <td>0.000000</td>\n",
       "      <td>0.000000</td>\n",
       "      <td>30.000000</td>\n",
       "      <td>1.00000</td>\n",
       "      <td>72.000000</td>\n",
       "    </tr>\n",
       "    <tr>\n",
       "      <th>25%</th>\n",
       "      <td>0.000000</td>\n",
       "      <td>1674.000000</td>\n",
       "      <td>1248.650000</td>\n",
       "      <td>47.000000</td>\n",
       "      <td>4.000000</td>\n",
       "      <td>0.000000</td>\n",
       "      <td>0.000000</td>\n",
       "      <td>45.000000</td>\n",
       "      <td>3.00000</td>\n",
       "      <td>78.000000</td>\n",
       "    </tr>\n",
       "    <tr>\n",
       "      <th>50%</th>\n",
       "      <td>1.000000</td>\n",
       "      <td>1805.000000</td>\n",
       "      <td>1358.400000</td>\n",
       "      <td>56.000000</td>\n",
       "      <td>4.000000</td>\n",
       "      <td>1.000000</td>\n",
       "      <td>0.000000</td>\n",
       "      <td>87.000000</td>\n",
       "      <td>4.00000</td>\n",
       "      <td>81.000000</td>\n",
       "    </tr>\n",
       "    <tr>\n",
       "      <th>75%</th>\n",
       "      <td>1.000000</td>\n",
       "      <td>1907.000000</td>\n",
       "      <td>1494.400000</td>\n",
       "      <td>70.000000</td>\n",
       "      <td>4.000000</td>\n",
       "      <td>2.000000</td>\n",
       "      <td>0.000000</td>\n",
       "      <td>133.000000</td>\n",
       "      <td>4.00000</td>\n",
       "      <td>85.000000</td>\n",
       "    </tr>\n",
       "    <tr>\n",
       "      <th>max</th>\n",
       "      <td>1.000000</td>\n",
       "      <td>229821.000000</td>\n",
       "      <td>183856.800000</td>\n",
       "      <td>449.000000</td>\n",
       "      <td>6.000000</td>\n",
       "      <td>9.000000</td>\n",
       "      <td>1.000000</td>\n",
       "      <td>181.000000</td>\n",
       "      <td>7.00000</td>\n",
       "      <td>332.000000</td>\n",
       "    </tr>\n",
       "  </tbody>\n",
       "</table>\n",
       "</div>"
      ],
      "text/plain": [
       "         active_cust         income    expenditure  months_on_network  \\\n",
       "count  100000.000000  100000.000000  100000.000000      100000.000000   \n",
       "mean        0.578590    1855.279910    1409.669662          58.402450   \n",
       "std         0.493787    2712.385257    2174.330870          18.643736   \n",
       "min         0.000000    1130.000000     904.000000         -20.000000   \n",
       "25%         0.000000    1674.000000    1248.650000          47.000000   \n",
       "50%         1.000000    1805.000000    1358.400000          56.000000   \n",
       "75%         1.000000    1907.000000    1494.400000          70.000000   \n",
       "max         1.000000  229821.000000  183856.800000         449.000000   \n",
       "\n",
       "       Num_complaints  number_plan_changes      relocated   monthly_bill  \\\n",
       "count   100000.000000        100000.000000  100000.000000  100000.000000   \n",
       "mean         4.012840             1.385410       0.123480      95.816450   \n",
       "std          0.285265             1.617101       0.328989      50.161327   \n",
       "min          3.000000             0.000000       0.000000      30.000000   \n",
       "25%          4.000000             0.000000       0.000000      45.000000   \n",
       "50%          4.000000             1.000000       0.000000      87.000000   \n",
       "75%          4.000000             2.000000       0.000000     133.000000   \n",
       "max          6.000000             9.000000       1.000000     181.000000   \n",
       "\n",
       "       technical_issues_per_month  Speed_test_result  \n",
       "count                100000.00000      100000.000000  \n",
       "mean                      3.31673          81.668540  \n",
       "std                       1.24147           9.952554  \n",
       "min                       1.00000          72.000000  \n",
       "25%                       3.00000          78.000000  \n",
       "50%                       4.00000          81.000000  \n",
       "75%                       4.00000          85.000000  \n",
       "max                       7.00000         332.000000  "
      ]
     },
     "execution_count": 11,
     "metadata": {},
     "output_type": "execute_result"
    }
   ],
   "source": [
    "df.describe()"
   ]
  },
  {
   "cell_type": "code",
   "execution_count": 9,
   "id": "embedded-garage",
   "metadata": {
    "ExecuteTime": {
     "end_time": "2021-02-19T05:40:21.738408Z",
     "start_time": "2021-02-19T05:40:21.675377Z"
    }
   },
   "outputs": [],
   "source": [
    "likely_cat={}\n",
    "for var in df.columns:\n",
    "    likely_cat[var] = 1*df[var].nunique()/df[var].count() < 0.05"
   ]
  },
  {
   "cell_type": "code",
   "execution_count": 10,
   "id": "protecting-asthma",
   "metadata": {
    "ExecuteTime": {
     "end_time": "2021-02-19T05:40:22.543658Z",
     "start_time": "2021-02-19T05:40:22.534682Z"
    }
   },
   "outputs": [
    {
     "data": {
      "text/plain": [
       "{'active_cust': True,\n",
       " 'income': True,\n",
       " 'expenditure': True,\n",
       " 'months_on_network': True,\n",
       " 'Num_complaints': True,\n",
       " 'number_plan_changes': True,\n",
       " 'relocated': True,\n",
       " 'monthly_bill': True,\n",
       " 'technical_issues_per_month': True,\n",
       " 'Speed_test_result': True}"
      ]
     },
     "execution_count": 10,
     "metadata": {},
     "output_type": "execute_result"
    }
   ],
   "source": [
    "likely_cat"
   ]
  },
  {
   "cell_type": "code",
   "execution_count": 23,
   "id": "electric-korean",
   "metadata": {
    "ExecuteTime": {
     "end_time": "2021-02-19T05:50:58.475911Z",
     "start_time": "2021-02-19T05:50:58.462919Z"
    }
   },
   "outputs": [],
   "source": [
    "def cat_to_to(df=None ,target='label',list_cate='list_of_cat_feature'):\n",
    "    l1=[]\n",
    "    for i in list_cate:\n",
    "            df_t=pd.crosstab(df[target],df[i])\n",
    "            stat, p, dof, expected = st.chi2_contingency(df_t,correction=True)\n",
    "            deno=sum(df.sum())\n",
    "            x=numpy.sqrt(stat / deno)\n",
    "            if(x>0.25): #thresold\n",
    "                 l1.append(i)\n",
    "        return l1\n",
    "        "
   ]
  },
  {
   "cell_type": "code",
   "execution_count": 24,
   "id": "serious-somerset",
   "metadata": {
    "ExecuteTime": {
     "end_time": "2021-02-19T05:51:48.719407Z",
     "start_time": "2021-02-19T05:51:48.637450Z"
    }
   },
   "outputs": [
    {
     "name": "stdout",
     "output_type": "stream",
     "text": [
      "<class 'pandas.core.frame.DataFrame'>\n",
      "RangeIndex: 100000 entries, 0 to 99999\n",
      "Data columns (total 10 columns):\n",
      " #   Column                      Non-Null Count   Dtype  \n",
      "---  ------                      --------------   -----  \n",
      " 0   active_cust                 100000 non-null  int64  \n",
      " 1   income                      100000 non-null  int64  \n",
      " 2   expenditure                 100000 non-null  float64\n",
      " 3   months_on_network           100000 non-null  int64  \n",
      " 4   Num_complaints              100000 non-null  int64  \n",
      " 5   number_plan_changes         100000 non-null  int64  \n",
      " 6   relocated                   100000 non-null  int64  \n",
      " 7   monthly_bill                100000 non-null  int64  \n",
      " 8   technical_issues_per_month  100000 non-null  int64  \n",
      " 9   Speed_test_result           100000 non-null  int64  \n",
      "dtypes: float64(1), int64(9)\n",
      "memory usage: 7.6 MB\n"
     ]
    }
   ],
   "source": [
    "df.info()"
   ]
  },
  {
   "cell_type": "code",
   "execution_count": null,
   "id": "competent-mattress",
   "metadata": {},
   "outputs": [],
   "source": [
    "from sklearn.decomposition import PCA\n",
    "pca = PCA(n_components=3)\n",
    "principalComponents = pca.fit_transform(connect_mobile_remove_outlier.iloc[:,:-1])"
   ]
  },
  {
   "cell_type": "code",
   "execution_count": null,
   "id": "supposed-senegal",
   "metadata": {},
   "outputs": [],
   "source": [
    "principalDf = pd.DataFrame(data = principalComponents\n",
    "             , columns = ['pc1', 'pc2','pc3'])"
   ]
  },
  {
   "cell_type": "code",
   "execution_count": null,
   "id": "touched-carnival",
   "metadata": {},
   "outputs": [],
   "source": [
    "finalDf = pd.concat([principalDf, connect_mobile_remove_outlier['active_cust']] ,axis = 1) "
   ]
  },
  {
   "cell_type": "code",
   "execution_count": null,
   "id": "everyday-collaboration",
   "metadata": {},
   "outputs": [],
   "source": [
    "px.scatter_3d(data_frame=finalDf,x='pc1',y='pc2',z='pc3',\n",
    "              color='active_cust')"
   ]
  },
  {
   "cell_type": "markdown",
   "id": "distinguished-scanning",
   "metadata": {},
   "source": [
    "# Random Forest "
   ]
  },
  {
   "cell_type": "code",
   "execution_count": null,
   "id": "regular-vaccine",
   "metadata": {},
   "outputs": [],
   "source": [
    "from sklearn.ensemble import RandomForestClassifier\n",
    "X_train, X_test, y_train, y_test = train_test_split(X, y, test_size=0.33)\n",
    "clf = RandomForestClassifier(max_depth=6, min_samples_split=2)\n",
    "clf.fit(X_train, y_train)\n",
    "print(clf.score(X_test, y_test))\n",
    "y_pred = clf.predict(X_test)\n",
    "print(confusion_matrix(y_test, y_pred))\n",
    "print((classification_report(y_test, y_pred)))"
   ]
  },
  {
   "cell_type": "code",
   "execution_count": null,
   "id": "removable-demonstration",
   "metadata": {},
   "outputs": [],
   "source": [
    "lst_accu_stratified = [] \n",
    "x=0\n",
    "feature_common=pd.DataFrame()\n",
    "skf = StratifiedKFold(n_splits=12, shuffle=True, random_state=1) \n",
    "for train_index, test_index in skf.split(X, y): \n",
    "    x_train_fold, x_test_fold = X.loc[train_index,:], X.loc[test_index,:] \n",
    "    y_train_fold, y_test_fold = y[train_index], y[test_index] \n",
    "    clf.fit(x_train_fold, y_train_fold)\n",
    "#     feature_common[x]=feature_extract(clf,X_train.columns)\n",
    "#     x+=1\n",
    "    lst_accu_stratified.append(clf.score(x_test_fold, y_test_fold))\n",
    "   \n",
    "    \n",
    "    \n",
    "print('List of possible accuracy:', lst_accu_stratified) \n",
    "print('\\nMaximum Accuracy That can be obtained from this model is:', \n",
    "      max(lst_accu_stratified)*100, '%') \n",
    "print('\\nMinimum Accuracy:', \n",
    "      min(lst_accu_stratified)*100, '%') \n",
    "print('\\nAverage Accuracy That can be obtained from this model is::',np.mean(lst_accu_stratified)) \n",
    "print('\\n Median Accuracy That can be obtained from this model is::',np.median(lst_accu_stratified)) \n",
    "print('\\nStandard Deviation is:',np.std(lst_accu_stratified))"
   ]
  },
  {
   "cell_type": "code",
   "execution_count": null,
   "id": "dried-peeing",
   "metadata": {},
   "outputs": [],
   "source": [
    "from sklearn.model_selection import RandomizedSearchCV,GridSearchCV\n",
    "n_estimators = [int(x) for x in np.linspace(start = 5 , stop = 15, num = 10)]\n",
    "max_features = ['auto', 'log2']\n",
    "\n",
    "max_depth = [int(x) for x in np.linspace(5, 10, num = 2)] \n",
    "\n",
    "max_depth.append(None)\n",
    "\n",
    "bootstrap = [True, False]\n",
    "\n",
    "r_grid = {'n_estimators': n_estimators,\n",
    "\n",
    "               'max_features': max_features,\n",
    "\n",
    "               'max_depth': max_depth,\n",
    "\n",
    "               'bootstrap': bootstrap}\n",
    "\n",
    "print(r_grid)"
   ]
  },
  {
   "cell_type": "code",
   "execution_count": null,
   "id": "immediate-truth",
   "metadata": {},
   "outputs": [],
   "source": [
    "clf=RandomForestClassifier()"
   ]
  },
  {
   "cell_type": "code",
   "execution_count": null,
   "id": "informed-identification",
   "metadata": {},
   "outputs": [],
   "source": [
    "grid_clf_f = GridSearchCV(estimator=clf, param_grid=r_grid,\n",
    "                                scoring='f1', cv = 5, verbose=2, \n",
    "                                n_jobs=-1, return_train_score=True)"
   ]
  },
  {
   "cell_type": "code",
   "execution_count": null,
   "id": "specialized-endorsement",
   "metadata": {},
   "outputs": [],
   "source": [
    "grid_clf_f.fit(X_train, y_train)\n",
    "print(grid_clf_f.best_params_)\n"
   ]
  },
  {
   "cell_type": "markdown",
   "id": "ambient-financing",
   "metadata": {
    "heading_collapsed": true
   },
   "source": [
    "## Recreate Model "
   ]
  },
  {
   "cell_type": "code",
   "execution_count": null,
   "id": "speaking-soundtrack",
   "metadata": {
    "hidden": true
   },
   "outputs": [],
   "source": [
    "params={'bootstrap': False, 'max_depth': 10, 'max_features': 'auto', 'n_estimators': 15}\n",
    "\n",
    "re_rfr=RandomForestClassifier(**params)\n",
    "\n",
    "re_rfr.fit(X_train,y_train)\n",
    "\n",
    "re_rfr.score(X_test,y_test)"
   ]
  },
  {
   "cell_type": "code",
   "execution_count": null,
   "id": "supported-norwegian",
   "metadata": {
    "hidden": true
   },
   "outputs": [],
   "source": [
    "y_pred=re_rfr.predict(X_test)\n",
    "y_pred"
   ]
  },
  {
   "cell_type": "code",
   "execution_count": null,
   "id": "elegant-sense",
   "metadata": {
    "hidden": true
   },
   "outputs": [],
   "source": [
    "print(confusion_matrix(y_test,y_pred))"
   ]
  },
  {
   "cell_type": "code",
   "execution_count": null,
   "id": "bizarre-pepper",
   "metadata": {
    "hidden": true
   },
   "outputs": [],
   "source": [
    "print((classification_report(y_test,y_pred)))"
   ]
  },
  {
   "cell_type": "markdown",
   "id": "killing-union",
   "metadata": {
    "heading_collapsed": true
   },
   "source": [
    "# SVM\n"
   ]
  },
  {
   "cell_type": "code",
   "execution_count": null,
   "id": "threatened-basin",
   "metadata": {
    "hidden": true
   },
   "outputs": [],
   "source": [
    "X_train, X_test, y_train, y_test = train_test_split(X, y_binary_imbalanced, random_state=0)\n",
    "\n",
    "# Accuracy of Support Vector Machine classifier\n",
    "from sklearn.svm import SVC\n",
    "\n",
    "svm = SVC(kernel='rbf', C=1).fit(X_train, y_train)\n",
    "svm.score(X_test, y_test)"
   ]
  },
  {
   "cell_type": "code",
   "execution_count": null,
   "id": "reliable-interim",
   "metadata": {
    "hidden": true
   },
   "outputs": [],
   "source": [
    "svm = SVC(kernel='linear', C=1).fit(X_train, y_train)\n",
    "svm_predicted = svm.predict(X_test)\n",
    "confusion = confusion_matrix(y_test, svm_predicted)\n"
   ]
  },
  {
   "cell_type": "markdown",
   "id": "unsigned-possession",
   "metadata": {
    "ExecuteTime": {
     "end_time": "2021-02-19T07:15:31.042027Z",
     "start_time": "2021-02-19T07:15:31.036046Z"
    }
   },
   "source": [
    "# compare algorithms"
   ]
  },
  {
   "cell_type": "code",
   "execution_count": 2,
   "id": "historical-maple",
   "metadata": {
    "ExecuteTime": {
     "end_time": "2021-02-19T07:43:02.525444Z",
     "start_time": "2021-02-19T07:42:23.292979Z"
    }
   },
   "outputs": [
    {
     "data": {
      "text/html": [
       "<div>\n",
       "<style scoped>\n",
       "    .dataframe tbody tr th:only-of-type {\n",
       "        vertical-align: middle;\n",
       "    }\n",
       "\n",
       "    .dataframe tbody tr th {\n",
       "        vertical-align: top;\n",
       "    }\n",
       "\n",
       "    .dataframe thead th {\n",
       "        text-align: right;\n",
       "    }\n",
       "</style>\n",
       "<table border=\"1\" class=\"dataframe\">\n",
       "  <thead>\n",
       "    <tr style=\"text-align: right;\">\n",
       "      <th></th>\n",
       "      <th>active_cust</th>\n",
       "      <th>income</th>\n",
       "      <th>expenditure</th>\n",
       "      <th>months_on_network</th>\n",
       "      <th>Num_complaints</th>\n",
       "      <th>number_plan_changes</th>\n",
       "      <th>relocated</th>\n",
       "      <th>monthly_bill</th>\n",
       "      <th>technical_issues_per_month</th>\n",
       "      <th>Speed_test_result</th>\n",
       "    </tr>\n",
       "  </thead>\n",
       "  <tbody>\n",
       "    <tr>\n",
       "      <th>0</th>\n",
       "      <td>0</td>\n",
       "      <td>1586</td>\n",
       "      <td>1268.8</td>\n",
       "      <td>85</td>\n",
       "      <td>4</td>\n",
       "      <td>1</td>\n",
       "      <td>0</td>\n",
       "      <td>121</td>\n",
       "      <td>4</td>\n",
       "      <td>85</td>\n",
       "    </tr>\n",
       "    <tr>\n",
       "      <th>1</th>\n",
       "      <td>0</td>\n",
       "      <td>1581</td>\n",
       "      <td>1264.8</td>\n",
       "      <td>85</td>\n",
       "      <td>4</td>\n",
       "      <td>1</td>\n",
       "      <td>0</td>\n",
       "      <td>133</td>\n",
       "      <td>4</td>\n",
       "      <td>85</td>\n",
       "    </tr>\n",
       "    <tr>\n",
       "      <th>2</th>\n",
       "      <td>0</td>\n",
       "      <td>1594</td>\n",
       "      <td>1275.2</td>\n",
       "      <td>82</td>\n",
       "      <td>4</td>\n",
       "      <td>1</td>\n",
       "      <td>0</td>\n",
       "      <td>118</td>\n",
       "      <td>4</td>\n",
       "      <td>85</td>\n",
       "    </tr>\n",
       "    <tr>\n",
       "      <th>3</th>\n",
       "      <td>0</td>\n",
       "      <td>1594</td>\n",
       "      <td>1275.2</td>\n",
       "      <td>82</td>\n",
       "      <td>4</td>\n",
       "      <td>1</td>\n",
       "      <td>0</td>\n",
       "      <td>123</td>\n",
       "      <td>4</td>\n",
       "      <td>85</td>\n",
       "    </tr>\n",
       "    <tr>\n",
       "      <th>4</th>\n",
       "      <td>1</td>\n",
       "      <td>1609</td>\n",
       "      <td>1287.2</td>\n",
       "      <td>80</td>\n",
       "      <td>4</td>\n",
       "      <td>1</td>\n",
       "      <td>0</td>\n",
       "      <td>177</td>\n",
       "      <td>4</td>\n",
       "      <td>85</td>\n",
       "    </tr>\n",
       "  </tbody>\n",
       "</table>\n",
       "</div>"
      ],
      "text/plain": [
       "   active_cust  income  expenditure  months_on_network  Num_complaints  \\\n",
       "0            0    1586       1268.8                 85               4   \n",
       "1            0    1581       1264.8                 85               4   \n",
       "2            0    1594       1275.2                 82               4   \n",
       "3            0    1594       1275.2                 82               4   \n",
       "4            1    1609       1287.2                 80               4   \n",
       "\n",
       "   number_plan_changes  relocated  monthly_bill  technical_issues_per_month  \\\n",
       "0                    1          0           121                           4   \n",
       "1                    1          0           133                           4   \n",
       "2                    1          0           118                           4   \n",
       "3                    1          0           123                           4   \n",
       "4                    1          0           177                           4   \n",
       "\n",
       "   Speed_test_result  \n",
       "0                 85  \n",
       "1                 85  \n",
       "2                 85  \n",
       "3                 85  \n",
       "4                 85  "
      ]
     },
     "execution_count": 2,
     "metadata": {},
     "output_type": "execute_result"
    }
   ],
   "source": [
    "import pandas as pd\n",
    "connect_mobile=pd.read_excel('Connect_Mobile__Attrition_Data_file.xlsx')\n",
    "connect_mobile.head()"
   ]
  },
  {
   "cell_type": "code",
   "execution_count": 3,
   "id": "available-perfume",
   "metadata": {
    "ExecuteTime": {
     "end_time": "2021-02-19T07:43:02.543435Z",
     "start_time": "2021-02-19T07:43:02.529438Z"
    }
   },
   "outputs": [],
   "source": [
    "df=connect_mobile.copy()"
   ]
  },
  {
   "cell_type": "code",
   "execution_count": 4,
   "id": "professional-appeal",
   "metadata": {
    "ExecuteTime": {
     "end_time": "2021-02-19T07:43:32.133844Z",
     "start_time": "2021-02-19T07:43:32.109837Z"
    }
   },
   "outputs": [],
   "source": [
    "# dataframe = df[:,]\n",
    "# array = dataframe.values\n",
    "df=df.sample(frac=0.2)\n",
    "X = df.iloc[:,1:]\n",
    "Y = df.iloc[:,0]"
   ]
  },
  {
   "cell_type": "code",
   "execution_count": 20,
   "id": "alpha-cursor",
   "metadata": {
    "ExecuteTime": {
     "end_time": "2021-02-19T07:57:14.240300Z",
     "start_time": "2021-02-19T07:57:00.272734Z"
    }
   },
   "outputs": [],
   "source": [
    "import pandas\n",
    "import matplotlib.pyplot as plt\n",
    "from sklearn import model_selection\n",
    "from sklearn.linear_model import LogisticRegression\n",
    "from sklearn.tree import DecisionTreeClassifier\n",
    "from sklearn.neighbors import KNeighborsClassifier\n",
    "from sklearn.discriminant_analysis import LinearDiscriminantAnalysis\n",
    "from sklearn.naive_bayes import GaussianNB\n",
    "from sklearn.svm import SVC\n",
    "\n",
    "from scipy import stats\n",
    "from sklearn.metrics import accuracy_score, average_precision_score\n",
    "from sklearn.model_selection import train_test_split\n",
    "from sklearn import metrics\n",
    "from sklearn.metrics import roc_curve, auc, roc_auc_score\n",
    "from sklearn.model_selection import train_test_split\n",
    "from sklearn.metrics import classification_report\n",
    "from sklearn.linear_model import LogisticRegression, SGDClassifier, PassiveAggressiveClassifier, Lasso\n",
    "from sklearn.neighbors import KNeighborsClassifier, NearestCentroid\n",
    "from sklearn.model_selection import KFold, cross_val_score, StratifiedKFold\n",
    "from sklearn import preprocessing\n",
    "from sklearn import tree\n",
    "from sklearn.naive_bayes import GaussianNB, BernoulliNB, MultinomialNB\n",
    "from sklearn import svm\n",
    "from sklearn.ensemble import RandomForestClassifier, ExtraTreesClassifier\n",
    "from sklearn.discriminant_analysis import LinearDiscriminantAnalysis, QuadraticDiscriminantAnalysis\n",
    "from sklearn.ensemble import AdaBoostClassifier, BaggingClassifier, GradientBoostingClassifier, IsolationForest, VotingClassifier\n",
    "import xgboost as xgb\n",
    "from sklearn.neural_network import MLPClassifier\n",
    "from sklearn.preprocessing import StandardScaler, Normalizer, PolynomialFeatures\n",
    "from sklearn.decomposition import PCA, KernelPCA, FastICA, SparsePCA\n",
    "from sklearn.pipeline import Pipeline\n",
    "from sklearn.cluster import FeatureAgglomeration\n",
    "from sklearn.kernel_approximation import RBFSampler\n",
    "# from sklearn.preprocessing importabs\n",
    "from sklearn.impute import SimpleImputer\n",
    "import random\n",
    "\n",
    "import warnings\n",
    "import statsmodels.api as sm\n",
    "warnings.filterwarnings('ignore')\n"
   ]
  },
  {
   "cell_type": "code",
   "execution_count": 25,
   "id": "atlantic-message",
   "metadata": {
    "ExecuteTime": {
     "end_time": "2021-02-19T08:09:40.282042Z",
     "start_time": "2021-02-19T08:05:50.969469Z"
    }
   },
   "outputs": [
    {
     "name": "stdout",
     "output_type": "stream",
     "text": [
      "Random Forest: 0.891600 (0.005472)\n",
      "Bernoulli: 0.681200 (0.012143)\n",
      "Random Forest: 0.891700 (0.006380)\n",
      "Bernoulli: 0.681200 (0.012143)\n",
      "AdaBoost: 0.837150 (0.008127)\n",
      "QDA: 0.551650 (0.012702)\n",
      "Gradient: 0.866100 (0.008273)\n",
      "SGD: 0.556700 (0.066962)\n",
      "LR: 0.691450 (0.023383)\n",
      "LDA: 0.740550 (0.010690)\n",
      "KNN: 0.724200 (0.011442)\n",
      "CART: 0.849300 (0.008289)\n",
      "NB: 0.487900 (0.028503)\n",
      "Random Forest: 0.892550 (0.005336)\n",
      "Bernoulli: 0.681200 (0.012143)\n",
      "AdaBoost: 0.837150 (0.008127)\n",
      "QDA: 0.551650 (0.012702)\n",
      "Gradient: 0.866100 (0.008273)\n",
      "SGD: 0.552250 (0.064505)\n",
      "LR: 0.691450 (0.023383)\n",
      "LDA: 0.740550 (0.010690)\n",
      "KNN: 0.724200 (0.011442)\n",
      "CART: 0.849750 (0.007454)\n",
      "NB: 0.487900 (0.028503)\n"
     ]
    }
   ],
   "source": [
    "# load dataset\n",
    "model=[]\n",
    "# prepare configuration for cross validation test harness\n",
    "seed = 7\n",
    "# prepare models\n",
    "models.append(('Random Forest', RandomForestClassifier()))\n",
    "models.append(('Bernoulli', BernoulliNB()))\n",
    "models.append(('AdaBoost', AdaBoostClassifier()))\n",
    "models.append(('QDA', QuadraticDiscriminantAnalysis()))\n",
    "models.append(('Gradient', GradientBoostingClassifier()))\n",
    "models.append(('SGD', SGDClassifier()))\n",
    "models.append(('LR', LogisticRegression()))\n",
    "models.append(('LDA', LinearDiscriminantAnalysis()))\n",
    "models.append(('KNN', KNeighborsClassifier()))\n",
    "models.append(('CART', DecisionTreeClassifier()))\n",
    "models.append(('NB', GaussianNB()))\n",
    "\n",
    "# models.append(('SVM', SVC()))\n",
    "# evaluate each model in turn\n",
    "results = []\n",
    "names = []\n",
    "scoring = 'accuracy'\n",
    "for name, model in models:\n",
    "    kfold = model_selection.KFold(n_splits=10, random_state=seed)\n",
    "    cv_results = model_selection.cross_val_score(\n",
    "        model, X, Y, cv=kfold, scoring=scoring)\n",
    "    results.append(cv_results)\n",
    "    names.append(name)\n",
    "    msg = \"%s: %f (%f)\" % (name, cv_results.mean(), cv_results.std())\n",
    "    print(msg)\n",
    "# boxplot algorithm comparison\n"
   ]
  },
  {
   "cell_type": "code",
   "execution_count": 24,
   "id": "orange-hindu",
   "metadata": {
    "ExecuteTime": {
     "end_time": "2021-02-19T08:04:25.891705Z",
     "start_time": "2021-02-19T08:04:25.293213Z"
    }
   },
   "outputs": [
    {
     "data": {
      "image/png": "[encoded data removed]",
      "text/plain": [
       "<Figure size 432x288 with 1 Axes>"
      ]
     },
     "metadata": {
      "needs_background": "light"
     },
     "output_type": "display_data"
    }
   ],
   "source": [
    "fig = plt.figure()\n",
    "fig.suptitle('Algorithm Comparison')\n",
    "ax = fig.add_subplot(111)\n",
    "plt.boxplot(results)\n",
    "ax.set_xticklabels(names)\n",
    "plt.xticks(rotation=90)\n",
    "plt.show()"
   ]
  },
  {
   "cell_type": "code",
   "execution_count": null,
   "id": "increasing-richards",
   "metadata": {},
   "outputs": [],
   "source": []
  }
 ],
 "metadata": {
  "kernelspec": {
   "display_name": "Python 3",
   "language": "python",
   "name": "python3"
  },
  "language_info": {
   "codemirror_mode": {
    "name": "ipython",
    "version": 3
   },
   "file_extension": ".py",
   "mimetype": "text/x-python",
   "name": "python",
   "nbconvert_exporter": "python",
   "pygments_lexer": "ipython3",
   "version": "3.7.9"
  },
  "toc": {
   "base_numbering": 1,
   "nav_menu": {},
   "number_sections": true,
   "sideBar": true,
   "skip_h1_title": false,
   "title_cell": "Table of Contents",
   "title_sidebar": "Contents",
   "toc_cell": false,
   "toc_position": {},
   "toc_section_display": true,
   "toc_window_display": false
  }
 },
 "nbformat": 4,
 "nbformat_minor": 5
}
