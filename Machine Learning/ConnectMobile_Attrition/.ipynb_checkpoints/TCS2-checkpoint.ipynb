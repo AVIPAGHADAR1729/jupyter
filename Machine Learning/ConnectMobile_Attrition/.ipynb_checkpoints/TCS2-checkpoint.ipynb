{
 "cells": [
  {
   "cell_type": "markdown",
   "id": "other-transcript",
   "metadata": {},
   "source": [
    "<b> Problem Statement:</b>\n",
    "Data were collected on 81 patients undergoing corrective spinal surgery The objective was to determine important risk factors for kyphosis following surgery. The risk factors are age in years, the starting vertebrae level of the surgery and the number of levels involved.\n",
    "Please follow and perform below steps in detail in ipython notebook. "
   ]
  },
  {
   "cell_type": "markdown",
   "id": "dedicated-ontario",
   "metadata": {},
   "source": [
    " # Q-1: Load the dataset and print the metadata in the notebook. 3M"
   ]
  },
  {
   "cell_type": "code",
   "execution_count": 1,
   "id": "interpreted-context",
   "metadata": {
    "ExecuteTime": {
     "end_time": "2021-02-19T09:46:58.146462Z",
     "start_time": "2021-02-19T09:46:57.240649Z"
    },
    "scrolled": true
   },
   "outputs": [
    {
     "data": {
      "text/html": [
       "<div>\n",
       "<style scoped>\n",
       "    .dataframe tbody tr th:only-of-type {\n",
       "        vertical-align: middle;\n",
       "    }\n",
       "\n",
       "    .dataframe tbody tr th {\n",
       "        vertical-align: top;\n",
       "    }\n",
       "\n",
       "    .dataframe thead th {\n",
       "        text-align: right;\n",
       "    }\n",
       "</style>\n",
       "<table border=\"1\" class=\"dataframe\">\n",
       "  <thead>\n",
       "    <tr style=\"text-align: right;\">\n",
       "      <th></th>\n",
       "      <th>Kyphosis</th>\n",
       "      <th>Age</th>\n",
       "      <th>Number</th>\n",
       "      <th>Start</th>\n",
       "    </tr>\n",
       "  </thead>\n",
       "  <tbody>\n",
       "    <tr>\n",
       "      <th>0</th>\n",
       "      <td>absent</td>\n",
       "      <td>71</td>\n",
       "      <td>3</td>\n",
       "      <td>5</td>\n",
       "    </tr>\n",
       "    <tr>\n",
       "      <th>1</th>\n",
       "      <td>absent</td>\n",
       "      <td>158</td>\n",
       "      <td>3</td>\n",
       "      <td>14</td>\n",
       "    </tr>\n",
       "    <tr>\n",
       "      <th>2</th>\n",
       "      <td>present</td>\n",
       "      <td>128</td>\n",
       "      <td>4</td>\n",
       "      <td>5</td>\n",
       "    </tr>\n",
       "    <tr>\n",
       "      <th>3</th>\n",
       "      <td>absent</td>\n",
       "      <td>2</td>\n",
       "      <td>5</td>\n",
       "      <td>1</td>\n",
       "    </tr>\n",
       "    <tr>\n",
       "      <th>4</th>\n",
       "      <td>absent</td>\n",
       "      <td>1</td>\n",
       "      <td>4</td>\n",
       "      <td>15</td>\n",
       "    </tr>\n",
       "  </tbody>\n",
       "</table>\n",
       "</div>"
      ],
      "text/plain": [
       "  Kyphosis  Age  Number  Start\n",
       "0   absent   71       3      5\n",
       "1   absent  158       3     14\n",
       "2  present  128       4      5\n",
       "3   absent    2       5      1\n",
       "4   absent    1       4     15"
      ]
     },
     "execution_count": 1,
     "metadata": {},
     "output_type": "execute_result"
    }
   ],
   "source": [
    "import pandas as pd \n",
    "df=pd.read_csv('kyphosis.csv')\n",
    "df_ori=df.copy(deep=True)\n",
    "df.head()"
   ]
  },
  {
   "cell_type": "code",
   "execution_count": 2,
   "id": "varying-electron",
   "metadata": {
    "ExecuteTime": {
     "end_time": "2021-02-19T09:46:58.166455Z",
     "start_time": "2021-02-19T09:46:58.152461Z"
    }
   },
   "outputs": [],
   "source": [
    "df['Kyphosis']=df['Kyphosis'].replace({'absent':0,'present':1})"
   ]
  },
  {
   "cell_type": "code",
   "execution_count": 3,
   "id": "breeding-prevention",
   "metadata": {
    "ExecuteTime": {
     "end_time": "2021-02-19T09:46:58.392211Z",
     "start_time": "2021-02-19T09:46:58.170453Z"
    }
   },
   "outputs": [
    {
     "name": "stdout",
     "output_type": "stream",
     "text": [
      "<class 'pandas.core.frame.DataFrame'>\n",
      "RangeIndex: 81 entries, 0 to 80\n",
      "Data columns (total 4 columns):\n",
      " #   Column    Non-Null Count  Dtype\n",
      "---  ------    --------------  -----\n",
      " 0   Kyphosis  81 non-null     int64\n",
      " 1   Age       81 non-null     int64\n",
      " 2   Number    81 non-null     int64\n",
      " 3   Start     81 non-null     int64\n",
      "dtypes: int64(4)\n",
      "memory usage: 2.7 KB\n"
     ]
    }
   ],
   "source": [
    "df.info()"
   ]
  },
  {
   "cell_type": "code",
   "execution_count": 4,
   "id": "owned-sudan",
   "metadata": {
    "ExecuteTime": {
     "end_time": "2021-02-19T09:46:58.507485Z",
     "start_time": "2021-02-19T09:46:58.398208Z"
    }
   },
   "outputs": [
    {
     "data": {
      "text/html": [
       "<div>\n",
       "<style scoped>\n",
       "    .dataframe tbody tr th:only-of-type {\n",
       "        vertical-align: middle;\n",
       "    }\n",
       "\n",
       "    .dataframe tbody tr th {\n",
       "        vertical-align: top;\n",
       "    }\n",
       "\n",
       "    .dataframe thead th {\n",
       "        text-align: right;\n",
       "    }\n",
       "</style>\n",
       "<table border=\"1\" class=\"dataframe\">\n",
       "  <thead>\n",
       "    <tr style=\"text-align: right;\">\n",
       "      <th></th>\n",
       "      <th>Kyphosis</th>\n",
       "      <th>Age</th>\n",
       "      <th>Number</th>\n",
       "      <th>Start</th>\n",
       "    </tr>\n",
       "  </thead>\n",
       "  <tbody>\n",
       "    <tr>\n",
       "      <th>count</th>\n",
       "      <td>81.000000</td>\n",
       "      <td>81.000000</td>\n",
       "      <td>81.000000</td>\n",
       "      <td>81.000000</td>\n",
       "    </tr>\n",
       "    <tr>\n",
       "      <th>mean</th>\n",
       "      <td>0.209877</td>\n",
       "      <td>83.654321</td>\n",
       "      <td>4.049383</td>\n",
       "      <td>11.493827</td>\n",
       "    </tr>\n",
       "    <tr>\n",
       "      <th>std</th>\n",
       "      <td>0.409758</td>\n",
       "      <td>58.104251</td>\n",
       "      <td>1.619423</td>\n",
       "      <td>4.883962</td>\n",
       "    </tr>\n",
       "    <tr>\n",
       "      <th>min</th>\n",
       "      <td>0.000000</td>\n",
       "      <td>1.000000</td>\n",
       "      <td>2.000000</td>\n",
       "      <td>1.000000</td>\n",
       "    </tr>\n",
       "    <tr>\n",
       "      <th>25%</th>\n",
       "      <td>0.000000</td>\n",
       "      <td>26.000000</td>\n",
       "      <td>3.000000</td>\n",
       "      <td>9.000000</td>\n",
       "    </tr>\n",
       "    <tr>\n",
       "      <th>50%</th>\n",
       "      <td>0.000000</td>\n",
       "      <td>87.000000</td>\n",
       "      <td>4.000000</td>\n",
       "      <td>13.000000</td>\n",
       "    </tr>\n",
       "    <tr>\n",
       "      <th>75%</th>\n",
       "      <td>0.000000</td>\n",
       "      <td>130.000000</td>\n",
       "      <td>5.000000</td>\n",
       "      <td>16.000000</td>\n",
       "    </tr>\n",
       "    <tr>\n",
       "      <th>max</th>\n",
       "      <td>1.000000</td>\n",
       "      <td>206.000000</td>\n",
       "      <td>10.000000</td>\n",
       "      <td>18.000000</td>\n",
       "    </tr>\n",
       "  </tbody>\n",
       "</table>\n",
       "</div>"
      ],
      "text/plain": [
       "        Kyphosis         Age     Number      Start\n",
       "count  81.000000   81.000000  81.000000  81.000000\n",
       "mean    0.209877   83.654321   4.049383  11.493827\n",
       "std     0.409758   58.104251   1.619423   4.883962\n",
       "min     0.000000    1.000000   2.000000   1.000000\n",
       "25%     0.000000   26.000000   3.000000   9.000000\n",
       "50%     0.000000   87.000000   4.000000  13.000000\n",
       "75%     0.000000  130.000000   5.000000  16.000000\n",
       "max     1.000000  206.000000  10.000000  18.000000"
      ]
     },
     "execution_count": 4,
     "metadata": {},
     "output_type": "execute_result"
    }
   ],
   "source": [
    "df.describe()"
   ]
  },
  {
   "cell_type": "code",
   "execution_count": 5,
   "id": "spatial-riverside",
   "metadata": {
    "ExecuteTime": {
     "end_time": "2021-02-19T09:47:00.660622Z",
     "start_time": "2021-02-19T09:46:58.511465Z"
    }
   },
   "outputs": [
    {
     "data": {
      "text/plain": [
       "<AxesSubplot:>"
      ]
     },
     "execution_count": 5,
     "metadata": {},
     "output_type": "execute_result"
    },
    {
     "data": {
      "image/png": "[encoded data removed]",
      "text/plain": [
       "<Figure size 432x288 with 2 Axes>"
      ]
     },
     "metadata": {
      "needs_background": "light"
     },
     "output_type": "display_data"
    }
   ],
   "source": [
    "import seaborn as sns \n",
    "sns.heatmap(df.isnull())"
   ]
  },
  {
   "cell_type": "code",
   "execution_count": 6,
   "id": "spread-council",
   "metadata": {
    "ExecuteTime": {
     "end_time": "2021-02-19T09:47:00.669616Z",
     "start_time": "2021-02-19T09:47:00.664618Z"
    }
   },
   "outputs": [],
   "source": [
    "# Here zero missiing value "
   ]
  },
  {
   "cell_type": "markdown",
   "id": "persistent-veteran",
   "metadata": {},
   "source": [
    "# Q-3: Print a pairplot of the dataset. 3M"
   ]
  },
  {
   "cell_type": "code",
   "execution_count": 7,
   "id": "surface-career",
   "metadata": {
    "ExecuteTime": {
     "end_time": "2021-02-19T09:47:04.450954Z",
     "start_time": "2021-02-19T09:47:00.674611Z"
    }
   },
   "outputs": [
    {
     "data": {
      "text/plain": [
       "<seaborn.axisgrid.PairGrid at 0x195cd38e408>"
      ]
     },
     "execution_count": 7,
     "metadata": {},
     "output_type": "execute_result"
    },
    {
     "data": {
      "image/png": "[encoded data removed]",
      "text/plain": [
       "<Figure size 591.625x540 with 12 Axes>"
      ]
     },
     "metadata": {
      "needs_background": "light"
     },
     "output_type": "display_data"
    }
   ],
   "source": [
    "sns.pairplot(df,hue='Kyphosis')"
   ]
  },
  {
   "cell_type": "markdown",
   "id": "private-geology",
   "metadata": {},
   "source": [
    "# Q-3: Perform splitting of train and test data. 2M"
   ]
  },
  {
   "cell_type": "code",
   "execution_count": 8,
   "id": "complicated-turning",
   "metadata": {
    "ExecuteTime": {
     "end_time": "2021-02-19T09:47:04.463933Z",
     "start_time": "2021-02-19T09:47:04.455941Z"
    }
   },
   "outputs": [],
   "source": [
    "X=df.iloc[:,1:]\n",
    "y=df.iloc[:,0]"
   ]
  },
  {
   "cell_type": "code",
   "execution_count": 9,
   "id": "established-baltimore",
   "metadata": {
    "ExecuteTime": {
     "end_time": "2021-02-19T09:47:04.595309Z",
     "start_time": "2021-02-19T09:47:04.466926Z"
    }
   },
   "outputs": [
    {
     "data": {
      "text/plain": [
       "(81, 3)"
      ]
     },
     "execution_count": 9,
     "metadata": {},
     "output_type": "execute_result"
    }
   ],
   "source": [
    "X.shape"
   ]
  },
  {
   "cell_type": "code",
   "execution_count": 10,
   "id": "charitable-somewhere",
   "metadata": {
    "ExecuteTime": {
     "end_time": "2021-02-19T09:47:04.921819Z",
     "start_time": "2021-02-19T09:47:04.599304Z"
    }
   },
   "outputs": [
    {
     "data": {
      "text/plain": [
       "(54, 3)"
      ]
     },
     "execution_count": 10,
     "metadata": {},
     "output_type": "execute_result"
    }
   ],
   "source": [
    "from sklearn.model_selection import train_test_split\n",
    "X_train, X_test, y_train, y_test = train_test_split(X, y, test_size = 0.33)\n",
    "X_train.shape"
   ]
  },
  {
   "cell_type": "markdown",
   "id": "desirable-complexity",
   "metadata": {},
   "source": [
    "# Q-4: Perform feature scaling on independent variables 2M"
   ]
  },
  {
   "cell_type": "code",
   "execution_count": 11,
   "id": "immune-killing",
   "metadata": {
    "ExecuteTime": {
     "end_time": "2021-02-19T09:47:04.931817Z",
     "start_time": "2021-02-19T09:47:04.924836Z"
    }
   },
   "outputs": [],
   "source": [
    "import sklearn.preprocessing as pre \n",
    "import numpy as np\n"
   ]
  },
  {
   "cell_type": "code",
   "execution_count": 12,
   "id": "narrative-nightlife",
   "metadata": {
    "ExecuteTime": {
     "end_time": "2021-02-19T09:47:05.055561Z",
     "start_time": "2021-02-19T09:47:04.936813Z"
    }
   },
   "outputs": [],
   "source": [
    "scaler = pre.StandardScaler().fit(X_train)\n",
    "X_train=scaler.transform(X_train) \n",
    "X_test=scaler.transform(X_test) "
   ]
  },
  {
   "cell_type": "code",
   "execution_count": 13,
   "id": "adapted-messenger",
   "metadata": {
    "ExecuteTime": {
     "end_time": "2021-02-19T09:47:05.159689Z",
     "start_time": "2021-02-19T09:47:05.058563Z"
    }
   },
   "outputs": [
    {
     "data": {
      "text/plain": [
       "(54, 3)"
      ]
     },
     "execution_count": 13,
     "metadata": {},
     "output_type": "execute_result"
    }
   ],
   "source": [
    "X_train.shape"
   ]
  },
  {
   "cell_type": "code",
   "execution_count": 14,
   "id": "architectural-porter",
   "metadata": {
    "ExecuteTime": {
     "end_time": "2021-02-19T09:47:05.260497Z",
     "start_time": "2021-02-19T09:47:05.162690Z"
    }
   },
   "outputs": [
    {
     "data": {
      "text/plain": [
       "(27, 3)"
      ]
     },
     "execution_count": 14,
     "metadata": {},
     "output_type": "execute_result"
    }
   ],
   "source": [
    "X_test.shape"
   ]
  },
  {
   "cell_type": "markdown",
   "id": "twenty-mainland",
   "metadata": {},
   "source": [
    "# Q-5: Build a classifier model using AdaBoost Classifier algorithm. 3M  "
   ]
  },
  {
   "cell_type": "code",
   "execution_count": 15,
   "id": "serial-grave",
   "metadata": {
    "ExecuteTime": {
     "end_time": "2021-02-19T09:47:05.658755Z",
     "start_time": "2021-02-19T09:47:05.263495Z"
    }
   },
   "outputs": [
    {
     "data": {
      "text/plain": [
       "AdaBoostClassifier()"
      ]
     },
     "execution_count": 15,
     "metadata": {},
     "output_type": "execute_result"
    }
   ],
   "source": [
    "from sklearn.ensemble import AdaBoostClassifier\n",
    "clf=AdaBoostClassifier()\n",
    "clf.fit(X_train,y_train)"
   ]
  },
  {
   "cell_type": "code",
   "execution_count": 16,
   "id": "african-humor",
   "metadata": {
    "ExecuteTime": {
     "end_time": "2021-02-19T09:47:05.694719Z",
     "start_time": "2021-02-19T09:47:05.661735Z"
    }
   },
   "outputs": [
    {
     "data": {
      "text/plain": [
       "0.7777777777777778"
      ]
     },
     "execution_count": 16,
     "metadata": {},
     "output_type": "execute_result"
    }
   ],
   "source": [
    "clf.score(X_test,y_test)"
   ]
  },
  {
   "cell_type": "markdown",
   "id": "champion-competition",
   "metadata": {},
   "source": [
    "# Q-6: Print classification report and plot confusion matrix. 3M"
   ]
  },
  {
   "cell_type": "code",
   "execution_count": 17,
   "id": "ordered-authorization",
   "metadata": {
    "ExecuteTime": {
     "end_time": "2021-02-19T09:47:05.790716Z",
     "start_time": "2021-02-19T09:47:05.703712Z"
    }
   },
   "outputs": [],
   "source": [
    "from sklearn.metrics import confusion_matrix"
   ]
  },
  {
   "cell_type": "code",
   "execution_count": 18,
   "id": "middle-circumstances",
   "metadata": {
    "ExecuteTime": {
     "end_time": "2021-02-19T09:47:05.897851Z",
     "start_time": "2021-02-19T09:47:05.793716Z"
    }
   },
   "outputs": [],
   "source": [
    "y_pred=clf.predict(X_test)"
   ]
  },
  {
   "cell_type": "code",
   "execution_count": 19,
   "id": "thirty-plane",
   "metadata": {
    "ExecuteTime": {
     "end_time": "2021-02-19T09:47:06.015779Z",
     "start_time": "2021-02-19T09:47:05.902838Z"
    }
   },
   "outputs": [
    {
     "name": "stdout",
     "output_type": "stream",
     "text": [
      "[[19  0]\n",
      " [ 6  2]]\n"
     ]
    }
   ],
   "source": [
    "print(confusion_matrix(y_test,y_pred))"
   ]
  },
  {
   "cell_type": "code",
   "execution_count": 20,
   "id": "academic-smooth",
   "metadata": {
    "ExecuteTime": {
     "end_time": "2021-02-19T09:47:06.125123Z",
     "start_time": "2021-02-19T09:47:06.019777Z"
    }
   },
   "outputs": [
    {
     "name": "stdout",
     "output_type": "stream",
     "text": [
      "              precision    recall  f1-score   support\n",
      "\n",
      "           0       0.76      1.00      0.86        19\n",
      "           1       1.00      0.25      0.40         8\n",
      "\n",
      "    accuracy                           0.78        27\n",
      "   macro avg       0.88      0.62      0.63        27\n",
      "weighted avg       0.83      0.78      0.73        27\n",
      "\n"
     ]
    }
   ],
   "source": [
    "from sklearn.metrics import classification_report\n",
    "print(classification_report(y_test,y_pred))"
   ]
  },
  {
   "cell_type": "code",
   "execution_count": 21,
   "id": "intellectual-powder",
   "metadata": {
    "ExecuteTime": {
     "end_time": "2021-02-19T09:47:06.245856Z",
     "start_time": "2021-02-19T09:47:06.128121Z"
    }
   },
   "outputs": [],
   "source": [
    "from sklearn.metrics import plot_confusion_matrix"
   ]
  },
  {
   "cell_type": "code",
   "execution_count": 22,
   "id": "printable-lodging",
   "metadata": {
    "ExecuteTime": {
     "end_time": "2021-02-19T09:47:06.680659Z",
     "start_time": "2021-02-19T09:47:06.253850Z"
    },
    "scrolled": true
   },
   "outputs": [
    {
     "data": {
      "text/plain": [
       "<sklearn.metrics._plot.confusion_matrix.ConfusionMatrixDisplay at 0x195d0e72d08>"
      ]
     },
     "execution_count": 22,
     "metadata": {},
     "output_type": "execute_result"
    },
    {
     "data": {
      "image/png": "[encoded data removed]",
      "text/plain": [
       "<Figure size 432x288 with 2 Axes>"
      ]
     },
     "metadata": {
      "needs_background": "light"
     },
     "output_type": "display_data"
    }
   ],
   "source": [
    "plot_confusion_matrix(clf, X_test, y_test) "
   ]
  },
  {
   "cell_type": "markdown",
   "id": "intelligent-tsunami",
   "metadata": {},
   "source": [
    "# Q-7: Find out the stratified cross validation accuracy 2M"
   ]
  },
  {
   "cell_type": "code",
   "execution_count": null,
   "id": "chemical-willow",
   "metadata": {},
   "outputs": [],
   "source": []
  },
  {
   "cell_type": "code",
   "execution_count": 29,
   "id": "serious-genome",
   "metadata": {
    "ExecuteTime": {
     "end_time": "2021-02-19T09:48:04.087992Z",
     "start_time": "2021-02-19T09:48:04.082997Z"
    }
   },
   "outputs": [],
   "source": [
    "from sklearn import model_selection \n",
    "from sklearn.model_selection import cross_val_score"
   ]
  },
  {
   "cell_type": "code",
   "execution_count": 30,
   "id": "endangered-bronze",
   "metadata": {
    "ExecuteTime": {
     "end_time": "2021-02-19T09:48:04.639319Z",
     "start_time": "2021-02-19T09:48:04.634322Z"
    }
   },
   "outputs": [],
   "source": [
    "scoring='accuracy'\n",
    "clf=AdaBoostClassifier(n_estimators=100, random_state=0)"
   ]
  },
  {
   "cell_type": "code",
   "execution_count": 31,
   "id": "convenient-peninsula",
   "metadata": {
    "ExecuteTime": {
     "end_time": "2021-02-19T09:48:08.041203Z",
     "start_time": "2021-02-19T09:48:05.146514Z"
    }
   },
   "outputs": [
    {
     "name": "stderr",
     "output_type": "stream",
     "text": [
      "C:\\Users\\nikhil\\Anaconda3\\lib\\site-packages\\sklearn\\model_selection\\_split.py:297: FutureWarning: Setting a random_state has no effect since shuffle is False. This will raise an error in 0.24. You should leave random_state to its default (None), or set shuffle=True.\n",
      "  FutureWarning\n"
     ]
    }
   ],
   "source": [
    "kfold = model_selection.StratifiedKFold(n_splits=10, random_state=2)\n",
    "cv_results =cross_val_score(clf, X, y, cv=kfold, scoring=scoring)"
   ]
  },
  {
   "cell_type": "markdown",
   "id": "informative-architecture",
   "metadata": {},
   "source": [
    "##  Summary"
   ]
  },
  {
   "cell_type": "code",
   "execution_count": 32,
   "id": "neutral-merchandise",
   "metadata": {
    "ExecuteTime": {
     "end_time": "2021-02-19T09:48:09.703897Z",
     "start_time": "2021-02-19T09:48:09.696898Z"
    }
   },
   "outputs": [
    {
     "name": "stdout",
     "output_type": "stream",
     "text": [
      "mean 0.8013888888888889\n",
      "mean 0.12835768167291137\n"
     ]
    }
   ],
   "source": [
    "print(\"mean\",np.mean(cv_results))\n",
    "print(\"mean\",np.std(cv_results))"
   ]
  },
  {
   "cell_type": "code",
   "execution_count": null,
   "id": "false-proposition",
   "metadata": {},
   "outputs": [],
   "source": []
  }
 ],
 "metadata": {
  "kernelspec": {
   "display_name": "Python 3",
   "language": "python",
   "name": "python3"
  },
  "language_info": {
   "codemirror_mode": {
    "name": "ipython",
    "version": 3
   },
   "file_extension": ".py",
   "mimetype": "text/x-python",
   "name": "python",
   "nbconvert_exporter": "python",
   "pygments_lexer": "ipython3",
   "version": "3.7.9"
  },
  "toc": {
   "base_numbering": 1,
   "nav_menu": {},
   "number_sections": true,
   "sideBar": true,
   "skip_h1_title": false,
   "title_cell": "Table of Contents",
   "title_sidebar": "Contents",
   "toc_cell": false,
   "toc_position": {},
   "toc_section_display": true,
   "toc_window_display": false
  }
 },
 "nbformat": 4,
 "nbformat_minor": 5
}
