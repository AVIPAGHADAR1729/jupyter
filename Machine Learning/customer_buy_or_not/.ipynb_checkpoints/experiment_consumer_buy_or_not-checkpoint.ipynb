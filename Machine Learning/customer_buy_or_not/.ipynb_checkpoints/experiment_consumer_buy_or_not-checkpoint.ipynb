{
 "cells": [
  {
   "cell_type": "code",
   "execution_count": 1,
   "metadata": {
    "ExecuteTime": {
     "end_time": "2020-12-15T05:09:43.520634Z",
     "start_time": "2020-12-15T05:08:58.780850Z"
    }
   },
   "outputs": [],
   "source": [
    "import numpy \n",
    "import numpy as np\n",
    "import pandas as pd\n",
    "import seaborn as sns\n",
    "import matplotlib.pyplot as plt\n",
    "import matplotlib.cm as cm\n",
    "from matplotlib.colors import ListedColormap, BoundaryNorm\n",
    "from sklearn import neighbors\n",
    "from pywaffle import Waffle \n",
    "import matplotlib.patches as mpatches\n",
    "from sklearn import metrics\n",
    "import graphviz\n",
    "from sklearn.metrics import classification_report\n",
    "from sklearn.metrics import confusion_matrix\n",
    "from sklearn.tree import export_graphviz\n",
    "import matplotlib.patches as mpatches\n",
    "import plotly.express as px \n",
    "import statsmodels.api as sm\n",
    "import scipy.stats as st \n",
    "import dtale \n",
    "import pandas_profiling as pdp\n",
    "from sklearn.model_selection import train_test_split\n",
    "from sklearn.neighbors import KNeighborsClassifier\n",
    "import matplotlib.pyplot as plt\n",
    "from matplotlib_venn import venn2,venn3, venn3_circles\n",
    "import phik\n",
    "import  datacleaner as dc\n",
    "from statsmodels.graphics.mosaicplot import mosaic"
   ]
  },
  {
   "cell_type": "code",
   "execution_count": 2,
   "metadata": {
    "ExecuteTime": {
     "end_time": "2020-12-15T05:10:00.385776Z",
     "start_time": "2020-12-15T05:10:00.302820Z"
    }
   },
   "outputs": [],
   "source": [
    "fd_dlvry=pd.read_csv('../../data/Banglore_food_delivery/onlinedeliverydata.csv')"
   ]
  },
  {
   "cell_type": "code",
   "execution_count": 3,
   "metadata": {
    "ExecuteTime": {
     "end_time": "2020-12-15T05:10:01.167450Z",
     "start_time": "2020-12-15T05:10:01.160454Z"
    }
   },
   "outputs": [],
   "source": [
    "fd_ori=fd_dlvry.copy(deep=True)\n"
   ]
  },
  {
   "cell_type": "code",
   "execution_count": 4,
   "metadata": {
    "ExecuteTime": {
     "end_time": "2020-12-15T05:10:02.125794Z",
     "start_time": "2020-12-15T05:10:02.036845Z"
    }
   },
   "outputs": [
    {
     "data": {
      "text/html": [
       "<div>\n",
       "<style scoped>\n",
       "    .dataframe tbody tr th:only-of-type {\n",
       "        vertical-align: middle;\n",
       "    }\n",
       "\n",
       "    .dataframe tbody tr th {\n",
       "        vertical-align: top;\n",
       "    }\n",
       "\n",
       "    .dataframe thead th {\n",
       "        text-align: right;\n",
       "    }\n",
       "</style>\n",
       "<table border=\"1\" class=\"dataframe\">\n",
       "  <thead>\n",
       "    <tr style=\"text-align: right;\">\n",
       "      <th></th>\n",
       "      <th>Age</th>\n",
       "      <th>Gender</th>\n",
       "      <th>Marital Status</th>\n",
       "      <th>Occupation</th>\n",
       "      <th>Monthly Income</th>\n",
       "      <th>Educational Qualifications</th>\n",
       "      <th>Family size</th>\n",
       "      <th>latitude</th>\n",
       "      <th>longitude</th>\n",
       "      <th>Pin code</th>\n",
       "      <th>...</th>\n",
       "      <th>Less Delivery time</th>\n",
       "      <th>High Quality of package</th>\n",
       "      <th>Number of calls</th>\n",
       "      <th>Politeness</th>\n",
       "      <th>Freshness</th>\n",
       "      <th>Temperature</th>\n",
       "      <th>Good Taste</th>\n",
       "      <th>Good Quantity</th>\n",
       "      <th>Output</th>\n",
       "      <th>Reviews</th>\n",
       "    </tr>\n",
       "  </thead>\n",
       "  <tbody>\n",
       "    <tr>\n",
       "      <th>0</th>\n",
       "      <td>20</td>\n",
       "      <td>Female</td>\n",
       "      <td>Single</td>\n",
       "      <td>Student</td>\n",
       "      <td>No Income</td>\n",
       "      <td>Post Graduate</td>\n",
       "      <td>4</td>\n",
       "      <td>12.9766</td>\n",
       "      <td>77.5993</td>\n",
       "      <td>560001</td>\n",
       "      <td>...</td>\n",
       "      <td>Moderately Important</td>\n",
       "      <td>Moderately Important</td>\n",
       "      <td>Moderately Important</td>\n",
       "      <td>Moderately Important</td>\n",
       "      <td>Moderately Important</td>\n",
       "      <td>Moderately Important</td>\n",
       "      <td>Moderately Important</td>\n",
       "      <td>Moderately Important</td>\n",
       "      <td>Yes</td>\n",
       "      <td>Nil\\n</td>\n",
       "    </tr>\n",
       "    <tr>\n",
       "      <th>1</th>\n",
       "      <td>24</td>\n",
       "      <td>Female</td>\n",
       "      <td>Single</td>\n",
       "      <td>Student</td>\n",
       "      <td>Below Rs.10000</td>\n",
       "      <td>Graduate</td>\n",
       "      <td>3</td>\n",
       "      <td>12.9770</td>\n",
       "      <td>77.5773</td>\n",
       "      <td>560009</td>\n",
       "      <td>...</td>\n",
       "      <td>Very Important</td>\n",
       "      <td>Very Important</td>\n",
       "      <td>Very Important</td>\n",
       "      <td>Very Important</td>\n",
       "      <td>Very Important</td>\n",
       "      <td>Very Important</td>\n",
       "      <td>Very Important</td>\n",
       "      <td>Very Important</td>\n",
       "      <td>Yes</td>\n",
       "      <td>Nil</td>\n",
       "    </tr>\n",
       "    <tr>\n",
       "      <th>2</th>\n",
       "      <td>22</td>\n",
       "      <td>Male</td>\n",
       "      <td>Single</td>\n",
       "      <td>Student</td>\n",
       "      <td>Below Rs.10000</td>\n",
       "      <td>Post Graduate</td>\n",
       "      <td>3</td>\n",
       "      <td>12.9551</td>\n",
       "      <td>77.6593</td>\n",
       "      <td>560017</td>\n",
       "      <td>...</td>\n",
       "      <td>Important</td>\n",
       "      <td>Very Important</td>\n",
       "      <td>Moderately Important</td>\n",
       "      <td>Very Important</td>\n",
       "      <td>Very Important</td>\n",
       "      <td>Important</td>\n",
       "      <td>Very Important</td>\n",
       "      <td>Moderately Important</td>\n",
       "      <td>Yes</td>\n",
       "      <td>Many a times payment gateways are an issue, so...</td>\n",
       "    </tr>\n",
       "    <tr>\n",
       "      <th>3</th>\n",
       "      <td>22</td>\n",
       "      <td>Female</td>\n",
       "      <td>Single</td>\n",
       "      <td>Student</td>\n",
       "      <td>No Income</td>\n",
       "      <td>Graduate</td>\n",
       "      <td>6</td>\n",
       "      <td>12.9473</td>\n",
       "      <td>77.5616</td>\n",
       "      <td>560019</td>\n",
       "      <td>...</td>\n",
       "      <td>Very Important</td>\n",
       "      <td>Important</td>\n",
       "      <td>Moderately Important</td>\n",
       "      <td>Very Important</td>\n",
       "      <td>Very Important</td>\n",
       "      <td>Very Important</td>\n",
       "      <td>Very Important</td>\n",
       "      <td>Important</td>\n",
       "      <td>Yes</td>\n",
       "      <td>nil</td>\n",
       "    </tr>\n",
       "    <tr>\n",
       "      <th>4</th>\n",
       "      <td>22</td>\n",
       "      <td>Male</td>\n",
       "      <td>Single</td>\n",
       "      <td>Student</td>\n",
       "      <td>Below Rs.10000</td>\n",
       "      <td>Post Graduate</td>\n",
       "      <td>4</td>\n",
       "      <td>12.9850</td>\n",
       "      <td>77.5533</td>\n",
       "      <td>560010</td>\n",
       "      <td>...</td>\n",
       "      <td>Important</td>\n",
       "      <td>Important</td>\n",
       "      <td>Moderately Important</td>\n",
       "      <td>Important</td>\n",
       "      <td>Important</td>\n",
       "      <td>Important</td>\n",
       "      <td>Very Important</td>\n",
       "      <td>Very Important</td>\n",
       "      <td>Yes</td>\n",
       "      <td>NIL</td>\n",
       "    </tr>\n",
       "  </tbody>\n",
       "</table>\n",
       "<p>5 rows × 55 columns</p>\n",
       "</div>"
      ],
      "text/plain": [
       "   Age  Gender Marital Status Occupation  Monthly Income  \\\n",
       "0   20  Female         Single    Student       No Income   \n",
       "1   24  Female         Single    Student  Below Rs.10000   \n",
       "2   22    Male         Single    Student  Below Rs.10000   \n",
       "3   22  Female         Single    Student       No Income   \n",
       "4   22    Male         Single    Student  Below Rs.10000   \n",
       "\n",
       "  Educational Qualifications  Family size  latitude  longitude  Pin code  ...  \\\n",
       "0              Post Graduate            4   12.9766    77.5993    560001  ...   \n",
       "1                   Graduate            3   12.9770    77.5773    560009  ...   \n",
       "2              Post Graduate            3   12.9551    77.6593    560017  ...   \n",
       "3                   Graduate            6   12.9473    77.5616    560019  ...   \n",
       "4              Post Graduate            4   12.9850    77.5533    560010  ...   \n",
       "\n",
       "     Less Delivery time High Quality of package       Number of calls  \\\n",
       "0  Moderately Important    Moderately Important  Moderately Important   \n",
       "1        Very Important          Very Important        Very Important   \n",
       "2             Important          Very Important  Moderately Important   \n",
       "3        Very Important               Important  Moderately Important   \n",
       "4             Important               Important  Moderately Important   \n",
       "\n",
       "             Politeness            Freshness            Temperature  \\\n",
       "0  Moderately Important  Moderately Important  Moderately Important   \n",
       "1        Very Important        Very Important        Very Important   \n",
       "2        Very Important        Very Important             Important   \n",
       "3        Very Important        Very Important        Very Important   \n",
       "4             Important             Important             Important   \n",
       "\n",
       "            Good Taste          Good Quantity Output  \\\n",
       "0  Moderately Important  Moderately Important    Yes   \n",
       "1        Very Important        Very Important    Yes   \n",
       "2        Very Important  Moderately Important    Yes   \n",
       "3        Very Important             Important    Yes   \n",
       "4        Very Important        Very Important    Yes   \n",
       "\n",
       "                                             Reviews  \n",
       "0                                              Nil\\n  \n",
       "1                                                Nil  \n",
       "2  Many a times payment gateways are an issue, so...  \n",
       "3                                                nil  \n",
       "4                                                NIL  \n",
       "\n",
       "[5 rows x 55 columns]"
      ]
     },
     "execution_count": 4,
     "metadata": {},
     "output_type": "execute_result"
    }
   ],
   "source": [
    "fd_dlvry.head()"
   ]
  },
  {
   "cell_type": "code",
   "execution_count": 5,
   "metadata": {
    "ExecuteTime": {
     "end_time": "2020-12-15T05:10:03.135823Z",
     "start_time": "2020-12-15T05:10:03.126831Z"
    }
   },
   "outputs": [
    {
     "data": {
      "text/plain": [
       "(388, 55)"
      ]
     },
     "execution_count": 5,
     "metadata": {},
     "output_type": "execute_result"
    }
   ],
   "source": [
    "fd_dlvry.shape"
   ]
  },
  {
   "cell_type": "code",
   "execution_count": 6,
   "metadata": {
    "ExecuteTime": {
     "end_time": "2020-12-15T05:10:03.991165Z",
     "start_time": "2020-12-15T05:10:03.954656Z"
    }
   },
   "outputs": [
    {
     "name": "stdout",
     "output_type": "stream",
     "text": [
      "<class 'pandas.core.frame.DataFrame'>\n",
      "RangeIndex: 388 entries, 0 to 387\n",
      "Data columns (total 55 columns):\n",
      " #   Column                                     Non-Null Count  Dtype  \n",
      "---  ------                                     --------------  -----  \n",
      " 0   Age                                        388 non-null    int64  \n",
      " 1   Gender                                     388 non-null    object \n",
      " 2   Marital Status                             388 non-null    object \n",
      " 3   Occupation                                 388 non-null    object \n",
      " 4   Monthly Income                             388 non-null    object \n",
      " 5   Educational Qualifications                 388 non-null    object \n",
      " 6   Family size                                388 non-null    int64  \n",
      " 7   latitude                                   388 non-null    float64\n",
      " 8   longitude                                  388 non-null    float64\n",
      " 9   Pin code                                   388 non-null    int64  \n",
      " 10  Medium (P1)                                388 non-null    object \n",
      " 11  Medium (P2)                                388 non-null    object \n",
      " 12  Meal(P1)                                   388 non-null    object \n",
      " 13  Meal(P2)                                   388 non-null    object \n",
      " 14  Perference(P1)                             388 non-null    object \n",
      " 15  Perference(P2)                             388 non-null    object \n",
      " 16  Ease and convenient                        388 non-null    object \n",
      " 17  Time saving                                388 non-null    object \n",
      " 18  More restaurant choices                    388 non-null    object \n",
      " 19  Easy Payment option                        388 non-null    object \n",
      " 20  More Offers and Discount                   388 non-null    object \n",
      " 21  Good Food quality                          388 non-null    object \n",
      " 22  Good Tracking system                       388 non-null    object \n",
      " 23  Self Cooking                               388 non-null    object \n",
      " 24  Health Concern                             388 non-null    object \n",
      " 25  Late Delivery                              388 non-null    object \n",
      " 26  Poor Hygiene                               388 non-null    object \n",
      " 27  Bad past experience                        388 non-null    object \n",
      " 28  Unavailability                             388 non-null    object \n",
      " 29  Unaffordable                               388 non-null    object \n",
      " 30  Long delivery time                         388 non-null    object \n",
      " 31  Delay of delivery person getting assigned  388 non-null    object \n",
      " 32  Delay of delivery person picking up food   388 non-null    object \n",
      " 33  Wrong order delivered                      388 non-null    object \n",
      " 34  Missing item                               388 non-null    object \n",
      " 35  Order placed by mistake                    388 non-null    object \n",
      " 36  Influence of time                          388 non-null    object \n",
      " 37  Order Time                                 388 non-null    object \n",
      " 38  Maximum wait time                          388 non-null    object \n",
      " 39  Residence in busy location                 388 non-null    object \n",
      " 40  Google Maps Accuracy                       388 non-null    object \n",
      " 41  Good Road Condition                        388 non-null    object \n",
      " 42  Low quantity low time                      388 non-null    object \n",
      " 43  Delivery person ability                    388 non-null    object \n",
      " 44  Influence of rating                        388 non-null    object \n",
      " 45  Less Delivery time                         388 non-null    object \n",
      " 46  High Quality of package                    388 non-null    object \n",
      " 47  Number of calls                            388 non-null    object \n",
      " 48  Politeness                                 388 non-null    object \n",
      " 49  Freshness                                  388 non-null    object \n",
      " 50  Temperature                                388 non-null    object \n",
      " 51  Good Taste                                 388 non-null    object \n",
      " 52  Good Quantity                              388 non-null    object \n",
      " 53  Output                                     388 non-null    object \n",
      " 54  Reviews                                    388 non-null    object \n",
      "dtypes: float64(2), int64(3), object(50)\n",
      "memory usage: 166.8+ KB\n"
     ]
    }
   ],
   "source": [
    "fd_dlvry.info()"
   ]
  },
  {
   "cell_type": "code",
   "execution_count": 7,
   "metadata": {
    "ExecuteTime": {
     "end_time": "2020-12-15T05:10:06.037562Z",
     "start_time": "2020-12-15T05:10:05.107548Z"
    }
   },
   "outputs": [],
   "source": [
    "m=dc.autoclean(fd_dlvry)"
   ]
  },
  {
   "cell_type": "code",
   "execution_count": 8,
   "metadata": {
    "ExecuteTime": {
     "end_time": "2020-12-15T05:10:06.119520Z",
     "start_time": "2020-12-15T05:10:06.040564Z"
    }
   },
   "outputs": [
    {
     "data": {
      "text/html": [
       "<div>\n",
       "<style scoped>\n",
       "    .dataframe tbody tr th:only-of-type {\n",
       "        vertical-align: middle;\n",
       "    }\n",
       "\n",
       "    .dataframe tbody tr th {\n",
       "        vertical-align: top;\n",
       "    }\n",
       "\n",
       "    .dataframe thead th {\n",
       "        text-align: right;\n",
       "    }\n",
       "</style>\n",
       "<table border=\"1\" class=\"dataframe\">\n",
       "  <thead>\n",
       "    <tr style=\"text-align: right;\">\n",
       "      <th></th>\n",
       "      <th>Age</th>\n",
       "      <th>Gender</th>\n",
       "      <th>Marital Status</th>\n",
       "      <th>Occupation</th>\n",
       "      <th>Monthly Income</th>\n",
       "      <th>Educational Qualifications</th>\n",
       "      <th>Family size</th>\n",
       "      <th>latitude</th>\n",
       "      <th>longitude</th>\n",
       "      <th>Pin code</th>\n",
       "      <th>...</th>\n",
       "      <th>Less Delivery time</th>\n",
       "      <th>High Quality of package</th>\n",
       "      <th>Number of calls</th>\n",
       "      <th>Politeness</th>\n",
       "      <th>Freshness</th>\n",
       "      <th>Temperature</th>\n",
       "      <th>Good Taste</th>\n",
       "      <th>Good Quantity</th>\n",
       "      <th>Output</th>\n",
       "      <th>Reviews</th>\n",
       "    </tr>\n",
       "  </thead>\n",
       "  <tbody>\n",
       "    <tr>\n",
       "      <th>0</th>\n",
       "      <td>20</td>\n",
       "      <td>0</td>\n",
       "      <td>2</td>\n",
       "      <td>3</td>\n",
       "      <td>4</td>\n",
       "      <td>2</td>\n",
       "      <td>4</td>\n",
       "      <td>12.9766</td>\n",
       "      <td>77.5993</td>\n",
       "      <td>560001</td>\n",
       "      <td>...</td>\n",
       "      <td>1</td>\n",
       "      <td>1</td>\n",
       "      <td>1</td>\n",
       "      <td>1</td>\n",
       "      <td>1</td>\n",
       "      <td>1</td>\n",
       "      <td>1</td>\n",
       "      <td>1</td>\n",
       "      <td>1</td>\n",
       "      <td>136</td>\n",
       "    </tr>\n",
       "    <tr>\n",
       "      <th>1</th>\n",
       "      <td>24</td>\n",
       "      <td>0</td>\n",
       "      <td>2</td>\n",
       "      <td>3</td>\n",
       "      <td>2</td>\n",
       "      <td>0</td>\n",
       "      <td>3</td>\n",
       "      <td>12.9770</td>\n",
       "      <td>77.5773</td>\n",
       "      <td>560009</td>\n",
       "      <td>...</td>\n",
       "      <td>4</td>\n",
       "      <td>4</td>\n",
       "      <td>4</td>\n",
       "      <td>4</td>\n",
       "      <td>4</td>\n",
       "      <td>4</td>\n",
       "      <td>4</td>\n",
       "      <td>4</td>\n",
       "      <td>1</td>\n",
       "      <td>135</td>\n",
       "    </tr>\n",
       "    <tr>\n",
       "      <th>2</th>\n",
       "      <td>22</td>\n",
       "      <td>1</td>\n",
       "      <td>2</td>\n",
       "      <td>3</td>\n",
       "      <td>2</td>\n",
       "      <td>2</td>\n",
       "      <td>3</td>\n",
       "      <td>12.9551</td>\n",
       "      <td>77.6593</td>\n",
       "      <td>560017</td>\n",
       "      <td>...</td>\n",
       "      <td>0</td>\n",
       "      <td>4</td>\n",
       "      <td>1</td>\n",
       "      <td>4</td>\n",
       "      <td>4</td>\n",
       "      <td>0</td>\n",
       "      <td>4</td>\n",
       "      <td>1</td>\n",
       "      <td>1</td>\n",
       "      <td>119</td>\n",
       "    </tr>\n",
       "    <tr>\n",
       "      <th>3</th>\n",
       "      <td>22</td>\n",
       "      <td>0</td>\n",
       "      <td>2</td>\n",
       "      <td>3</td>\n",
       "      <td>4</td>\n",
       "      <td>0</td>\n",
       "      <td>6</td>\n",
       "      <td>12.9473</td>\n",
       "      <td>77.5616</td>\n",
       "      <td>560019</td>\n",
       "      <td>...</td>\n",
       "      <td>4</td>\n",
       "      <td>0</td>\n",
       "      <td>1</td>\n",
       "      <td>4</td>\n",
       "      <td>4</td>\n",
       "      <td>4</td>\n",
       "      <td>4</td>\n",
       "      <td>0</td>\n",
       "      <td>1</td>\n",
       "      <td>176</td>\n",
       "    </tr>\n",
       "    <tr>\n",
       "      <th>4</th>\n",
       "      <td>22</td>\n",
       "      <td>1</td>\n",
       "      <td>2</td>\n",
       "      <td>3</td>\n",
       "      <td>2</td>\n",
       "      <td>2</td>\n",
       "      <td>4</td>\n",
       "      <td>12.9850</td>\n",
       "      <td>77.5533</td>\n",
       "      <td>560010</td>\n",
       "      <td>...</td>\n",
       "      <td>0</td>\n",
       "      <td>0</td>\n",
       "      <td>1</td>\n",
       "      <td>0</td>\n",
       "      <td>0</td>\n",
       "      <td>0</td>\n",
       "      <td>4</td>\n",
       "      <td>4</td>\n",
       "      <td>1</td>\n",
       "      <td>129</td>\n",
       "    </tr>\n",
       "    <tr>\n",
       "      <th>...</th>\n",
       "      <td>...</td>\n",
       "      <td>...</td>\n",
       "      <td>...</td>\n",
       "      <td>...</td>\n",
       "      <td>...</td>\n",
       "      <td>...</td>\n",
       "      <td>...</td>\n",
       "      <td>...</td>\n",
       "      <td>...</td>\n",
       "      <td>...</td>\n",
       "      <td>...</td>\n",
       "      <td>...</td>\n",
       "      <td>...</td>\n",
       "      <td>...</td>\n",
       "      <td>...</td>\n",
       "      <td>...</td>\n",
       "      <td>...</td>\n",
       "      <td>...</td>\n",
       "      <td>...</td>\n",
       "      <td>...</td>\n",
       "      <td>...</td>\n",
       "    </tr>\n",
       "    <tr>\n",
       "      <th>383</th>\n",
       "      <td>23</td>\n",
       "      <td>0</td>\n",
       "      <td>2</td>\n",
       "      <td>3</td>\n",
       "      <td>4</td>\n",
       "      <td>2</td>\n",
       "      <td>2</td>\n",
       "      <td>12.9766</td>\n",
       "      <td>77.5993</td>\n",
       "      <td>560001</td>\n",
       "      <td>...</td>\n",
       "      <td>0</td>\n",
       "      <td>0</td>\n",
       "      <td>0</td>\n",
       "      <td>0</td>\n",
       "      <td>0</td>\n",
       "      <td>0</td>\n",
       "      <td>0</td>\n",
       "      <td>0</td>\n",
       "      <td>1</td>\n",
       "      <td>135</td>\n",
       "    </tr>\n",
       "    <tr>\n",
       "      <th>384</th>\n",
       "      <td>23</td>\n",
       "      <td>0</td>\n",
       "      <td>2</td>\n",
       "      <td>3</td>\n",
       "      <td>4</td>\n",
       "      <td>2</td>\n",
       "      <td>4</td>\n",
       "      <td>12.9854</td>\n",
       "      <td>77.7081</td>\n",
       "      <td>560048</td>\n",
       "      <td>...</td>\n",
       "      <td>1</td>\n",
       "      <td>4</td>\n",
       "      <td>1</td>\n",
       "      <td>1</td>\n",
       "      <td>1</td>\n",
       "      <td>1</td>\n",
       "      <td>4</td>\n",
       "      <td>4</td>\n",
       "      <td>1</td>\n",
       "      <td>135</td>\n",
       "    </tr>\n",
       "    <tr>\n",
       "      <th>385</th>\n",
       "      <td>22</td>\n",
       "      <td>0</td>\n",
       "      <td>2</td>\n",
       "      <td>3</td>\n",
       "      <td>4</td>\n",
       "      <td>2</td>\n",
       "      <td>5</td>\n",
       "      <td>12.9850</td>\n",
       "      <td>77.5533</td>\n",
       "      <td>560010</td>\n",
       "      <td>...</td>\n",
       "      <td>0</td>\n",
       "      <td>4</td>\n",
       "      <td>0</td>\n",
       "      <td>0</td>\n",
       "      <td>4</td>\n",
       "      <td>4</td>\n",
       "      <td>4</td>\n",
       "      <td>4</td>\n",
       "      <td>1</td>\n",
       "      <td>135</td>\n",
       "    </tr>\n",
       "    <tr>\n",
       "      <th>386</th>\n",
       "      <td>23</td>\n",
       "      <td>1</td>\n",
       "      <td>2</td>\n",
       "      <td>3</td>\n",
       "      <td>2</td>\n",
       "      <td>2</td>\n",
       "      <td>2</td>\n",
       "      <td>12.9770</td>\n",
       "      <td>77.5773</td>\n",
       "      <td>560009</td>\n",
       "      <td>...</td>\n",
       "      <td>0</td>\n",
       "      <td>4</td>\n",
       "      <td>0</td>\n",
       "      <td>4</td>\n",
       "      <td>4</td>\n",
       "      <td>0</td>\n",
       "      <td>4</td>\n",
       "      <td>4</td>\n",
       "      <td>1</td>\n",
       "      <td>116</td>\n",
       "    </tr>\n",
       "    <tr>\n",
       "      <th>387</th>\n",
       "      <td>23</td>\n",
       "      <td>1</td>\n",
       "      <td>2</td>\n",
       "      <td>3</td>\n",
       "      <td>4</td>\n",
       "      <td>2</td>\n",
       "      <td>5</td>\n",
       "      <td>12.8988</td>\n",
       "      <td>77.5764</td>\n",
       "      <td>560078</td>\n",
       "      <td>...</td>\n",
       "      <td>2</td>\n",
       "      <td>3</td>\n",
       "      <td>2</td>\n",
       "      <td>1</td>\n",
       "      <td>1</td>\n",
       "      <td>1</td>\n",
       "      <td>1</td>\n",
       "      <td>2</td>\n",
       "      <td>1</td>\n",
       "      <td>135</td>\n",
       "    </tr>\n",
       "  </tbody>\n",
       "</table>\n",
       "<p>388 rows × 55 columns</p>\n",
       "</div>"
      ],
      "text/plain": [
       "     Age  Gender  Marital Status  Occupation  Monthly Income  \\\n",
       "0     20       0               2           3               4   \n",
       "1     24       0               2           3               2   \n",
       "2     22       1               2           3               2   \n",
       "3     22       0               2           3               4   \n",
       "4     22       1               2           3               2   \n",
       "..   ...     ...             ...         ...             ...   \n",
       "383   23       0               2           3               4   \n",
       "384   23       0               2           3               4   \n",
       "385   22       0               2           3               4   \n",
       "386   23       1               2           3               2   \n",
       "387   23       1               2           3               4   \n",
       "\n",
       "     Educational Qualifications  Family size  latitude  longitude  Pin code  \\\n",
       "0                             2            4   12.9766    77.5993    560001   \n",
       "1                             0            3   12.9770    77.5773    560009   \n",
       "2                             2            3   12.9551    77.6593    560017   \n",
       "3                             0            6   12.9473    77.5616    560019   \n",
       "4                             2            4   12.9850    77.5533    560010   \n",
       "..                          ...          ...       ...        ...       ...   \n",
       "383                           2            2   12.9766    77.5993    560001   \n",
       "384                           2            4   12.9854    77.7081    560048   \n",
       "385                           2            5   12.9850    77.5533    560010   \n",
       "386                           2            2   12.9770    77.5773    560009   \n",
       "387                           2            5   12.8988    77.5764    560078   \n",
       "\n",
       "     ...  Less Delivery time  High Quality of package  Number of calls  \\\n",
       "0    ...                   1                        1                1   \n",
       "1    ...                   4                        4                4   \n",
       "2    ...                   0                        4                1   \n",
       "3    ...                   4                        0                1   \n",
       "4    ...                   0                        0                1   \n",
       "..   ...                 ...                      ...              ...   \n",
       "383  ...                   0                        0                0   \n",
       "384  ...                   1                        4                1   \n",
       "385  ...                   0                        4                0   \n",
       "386  ...                   0                        4                0   \n",
       "387  ...                   2                        3                2   \n",
       "\n",
       "     Politeness  Freshness   Temperature  Good Taste   Good Quantity  Output  \\\n",
       "0             1           1            1            1              1       1   \n",
       "1             4           4            4            4              4       1   \n",
       "2             4           4            0            4              1       1   \n",
       "3             4           4            4            4              0       1   \n",
       "4             0           0            0            4              4       1   \n",
       "..          ...         ...          ...          ...            ...     ...   \n",
       "383           0           0            0            0              0       1   \n",
       "384           1           1            1            4              4       1   \n",
       "385           0           4            4            4              4       1   \n",
       "386           4           4            0            4              4       1   \n",
       "387           1           1            1            1              2       1   \n",
       "\n",
       "     Reviews  \n",
       "0        136  \n",
       "1        135  \n",
       "2        119  \n",
       "3        176  \n",
       "4        129  \n",
       "..       ...  \n",
       "383      135  \n",
       "384      135  \n",
       "385      135  \n",
       "386      116  \n",
       "387      135  \n",
       "\n",
       "[388 rows x 55 columns]"
      ]
     },
     "execution_count": 8,
     "metadata": {},
     "output_type": "execute_result"
    }
   ],
   "source": [
    "m"
   ]
  },
  {
   "cell_type": "code",
   "execution_count": 9,
   "metadata": {
    "ExecuteTime": {
     "end_time": "2020-12-15T05:10:07.168114Z",
     "start_time": "2020-12-15T05:10:07.047659Z"
    }
   },
   "outputs": [],
   "source": [
    "data = pd.read_csv('../../data/Banglore_food_delivery/onlinedeliverydata.csv')\n",
    "\n",
    "#Creating the Exploratory Data Analysis of our dataset\n",
    "report = pdp.ProfileReport(data, title='Pandas Profiling Report')"
   ]
  },
  {
   "cell_type": "code",
   "execution_count": 10,
   "metadata": {
    "ExecuteTime": {
     "end_time": "2020-12-15T05:10:10.152843Z",
     "start_time": "2020-12-15T05:10:10.147843Z"
    }
   },
   "outputs": [],
   "source": [
    "# report.widgets"
   ]
  },
  {
   "cell_type": "code",
   "execution_count": 11,
   "metadata": {
    "ExecuteTime": {
     "end_time": "2020-12-15T05:10:10.738368Z",
     "start_time": "2020-12-15T05:10:10.687740Z"
    }
   },
   "outputs": [
    {
     "data": {
      "text/html": [
       "<div>\n",
       "<style scoped>\n",
       "    .dataframe tbody tr th:only-of-type {\n",
       "        vertical-align: middle;\n",
       "    }\n",
       "\n",
       "    .dataframe tbody tr th {\n",
       "        vertical-align: top;\n",
       "    }\n",
       "\n",
       "    .dataframe thead th {\n",
       "        text-align: right;\n",
       "    }\n",
       "</style>\n",
       "<table border=\"1\" class=\"dataframe\">\n",
       "  <thead>\n",
       "    <tr style=\"text-align: right;\">\n",
       "      <th></th>\n",
       "      <th>Age</th>\n",
       "      <th>Gender</th>\n",
       "      <th>Marital Status</th>\n",
       "      <th>Occupation</th>\n",
       "      <th>Monthly Income</th>\n",
       "      <th>Educational Qualifications</th>\n",
       "      <th>Family size</th>\n",
       "      <th>latitude</th>\n",
       "      <th>longitude</th>\n",
       "      <th>Pin code</th>\n",
       "      <th>...</th>\n",
       "      <th>Less Delivery time</th>\n",
       "      <th>High Quality of package</th>\n",
       "      <th>Number of calls</th>\n",
       "      <th>Politeness</th>\n",
       "      <th>Freshness</th>\n",
       "      <th>Temperature</th>\n",
       "      <th>Good Taste</th>\n",
       "      <th>Good Quantity</th>\n",
       "      <th>Output</th>\n",
       "      <th>Reviews</th>\n",
       "    </tr>\n",
       "  </thead>\n",
       "  <tbody>\n",
       "    <tr>\n",
       "      <th>0</th>\n",
       "      <td>20</td>\n",
       "      <td>Female</td>\n",
       "      <td>Single</td>\n",
       "      <td>Student</td>\n",
       "      <td>No Income</td>\n",
       "      <td>Post Graduate</td>\n",
       "      <td>4</td>\n",
       "      <td>12.9766</td>\n",
       "      <td>77.5993</td>\n",
       "      <td>560001</td>\n",
       "      <td>...</td>\n",
       "      <td>Moderately Important</td>\n",
       "      <td>Moderately Important</td>\n",
       "      <td>Moderately Important</td>\n",
       "      <td>Moderately Important</td>\n",
       "      <td>Moderately Important</td>\n",
       "      <td>Moderately Important</td>\n",
       "      <td>Moderately Important</td>\n",
       "      <td>Moderately Important</td>\n",
       "      <td>Yes</td>\n",
       "      <td>Nil\\n</td>\n",
       "    </tr>\n",
       "    <tr>\n",
       "      <th>1</th>\n",
       "      <td>24</td>\n",
       "      <td>Female</td>\n",
       "      <td>Single</td>\n",
       "      <td>Student</td>\n",
       "      <td>Below Rs.10000</td>\n",
       "      <td>Graduate</td>\n",
       "      <td>3</td>\n",
       "      <td>12.9770</td>\n",
       "      <td>77.5773</td>\n",
       "      <td>560009</td>\n",
       "      <td>...</td>\n",
       "      <td>Very Important</td>\n",
       "      <td>Very Important</td>\n",
       "      <td>Very Important</td>\n",
       "      <td>Very Important</td>\n",
       "      <td>Very Important</td>\n",
       "      <td>Very Important</td>\n",
       "      <td>Very Important</td>\n",
       "      <td>Very Important</td>\n",
       "      <td>Yes</td>\n",
       "      <td>Nil</td>\n",
       "    </tr>\n",
       "    <tr>\n",
       "      <th>2</th>\n",
       "      <td>22</td>\n",
       "      <td>Male</td>\n",
       "      <td>Single</td>\n",
       "      <td>Student</td>\n",
       "      <td>Below Rs.10000</td>\n",
       "      <td>Post Graduate</td>\n",
       "      <td>3</td>\n",
       "      <td>12.9551</td>\n",
       "      <td>77.6593</td>\n",
       "      <td>560017</td>\n",
       "      <td>...</td>\n",
       "      <td>Important</td>\n",
       "      <td>Very Important</td>\n",
       "      <td>Moderately Important</td>\n",
       "      <td>Very Important</td>\n",
       "      <td>Very Important</td>\n",
       "      <td>Important</td>\n",
       "      <td>Very Important</td>\n",
       "      <td>Moderately Important</td>\n",
       "      <td>Yes</td>\n",
       "      <td>Many a times payment gateways are an issue, so...</td>\n",
       "    </tr>\n",
       "    <tr>\n",
       "      <th>3</th>\n",
       "      <td>22</td>\n",
       "      <td>Female</td>\n",
       "      <td>Single</td>\n",
       "      <td>Student</td>\n",
       "      <td>No Income</td>\n",
       "      <td>Graduate</td>\n",
       "      <td>6</td>\n",
       "      <td>12.9473</td>\n",
       "      <td>77.5616</td>\n",
       "      <td>560019</td>\n",
       "      <td>...</td>\n",
       "      <td>Very Important</td>\n",
       "      <td>Important</td>\n",
       "      <td>Moderately Important</td>\n",
       "      <td>Very Important</td>\n",
       "      <td>Very Important</td>\n",
       "      <td>Very Important</td>\n",
       "      <td>Very Important</td>\n",
       "      <td>Important</td>\n",
       "      <td>Yes</td>\n",
       "      <td>nil</td>\n",
       "    </tr>\n",
       "    <tr>\n",
       "      <th>4</th>\n",
       "      <td>22</td>\n",
       "      <td>Male</td>\n",
       "      <td>Single</td>\n",
       "      <td>Student</td>\n",
       "      <td>Below Rs.10000</td>\n",
       "      <td>Post Graduate</td>\n",
       "      <td>4</td>\n",
       "      <td>12.9850</td>\n",
       "      <td>77.5533</td>\n",
       "      <td>560010</td>\n",
       "      <td>...</td>\n",
       "      <td>Important</td>\n",
       "      <td>Important</td>\n",
       "      <td>Moderately Important</td>\n",
       "      <td>Important</td>\n",
       "      <td>Important</td>\n",
       "      <td>Important</td>\n",
       "      <td>Very Important</td>\n",
       "      <td>Very Important</td>\n",
       "      <td>Yes</td>\n",
       "      <td>NIL</td>\n",
       "    </tr>\n",
       "  </tbody>\n",
       "</table>\n",
       "<p>5 rows × 55 columns</p>\n",
       "</div>"
      ],
      "text/plain": [
       "   Age  Gender Marital Status Occupation  Monthly Income  \\\n",
       "0   20  Female         Single    Student       No Income   \n",
       "1   24  Female         Single    Student  Below Rs.10000   \n",
       "2   22    Male         Single    Student  Below Rs.10000   \n",
       "3   22  Female         Single    Student       No Income   \n",
       "4   22    Male         Single    Student  Below Rs.10000   \n",
       "\n",
       "  Educational Qualifications  Family size  latitude  longitude  Pin code  ...  \\\n",
       "0              Post Graduate            4   12.9766    77.5993    560001  ...   \n",
       "1                   Graduate            3   12.9770    77.5773    560009  ...   \n",
       "2              Post Graduate            3   12.9551    77.6593    560017  ...   \n",
       "3                   Graduate            6   12.9473    77.5616    560019  ...   \n",
       "4              Post Graduate            4   12.9850    77.5533    560010  ...   \n",
       "\n",
       "     Less Delivery time High Quality of package       Number of calls  \\\n",
       "0  Moderately Important    Moderately Important  Moderately Important   \n",
       "1        Very Important          Very Important        Very Important   \n",
       "2             Important          Very Important  Moderately Important   \n",
       "3        Very Important               Important  Moderately Important   \n",
       "4             Important               Important  Moderately Important   \n",
       "\n",
       "             Politeness            Freshness            Temperature  \\\n",
       "0  Moderately Important  Moderately Important  Moderately Important   \n",
       "1        Very Important        Very Important        Very Important   \n",
       "2        Very Important        Very Important             Important   \n",
       "3        Very Important        Very Important        Very Important   \n",
       "4             Important             Important             Important   \n",
       "\n",
       "            Good Taste          Good Quantity Output  \\\n",
       "0  Moderately Important  Moderately Important    Yes   \n",
       "1        Very Important        Very Important    Yes   \n",
       "2        Very Important  Moderately Important    Yes   \n",
       "3        Very Important             Important    Yes   \n",
       "4        Very Important        Very Important    Yes   \n",
       "\n",
       "                                             Reviews  \n",
       "0                                              Nil\\n  \n",
       "1                                                Nil  \n",
       "2  Many a times payment gateways are an issue, so...  \n",
       "3                                                nil  \n",
       "4                                                NIL  \n",
       "\n",
       "[5 rows x 55 columns]"
      ]
     },
     "execution_count": 11,
     "metadata": {},
     "output_type": "execute_result"
    }
   ],
   "source": [
    "fd_ori.head()"
   ]
  },
  {
   "cell_type": "code",
   "execution_count": 12,
   "metadata": {
    "ExecuteTime": {
     "end_time": "2020-12-15T05:10:10.883059Z",
     "start_time": "2020-12-15T05:10:10.861073Z"
    }
   },
   "outputs": [],
   "source": [
    "df=fd_ori.copy()"
   ]
  },
  {
   "cell_type": "code",
   "execution_count": 13,
   "metadata": {
    "ExecuteTime": {
     "end_time": "2020-12-15T05:10:11.410985Z",
     "start_time": "2020-12-15T05:10:11.363032Z"
    }
   },
   "outputs": [],
   "source": [
    "\n",
    "\n",
    "likely_cat = {}\n",
    "for var in df.columns:\n",
    "    likely_cat[var] = 1.*df[var].nunique()/df[var].count() < 0.05"
   ]
  },
  {
   "cell_type": "code",
   "execution_count": 14,
   "metadata": {
    "ExecuteTime": {
     "end_time": "2020-12-15T05:10:12.508935Z",
     "start_time": "2020-12-15T05:10:12.495942Z"
    }
   },
   "outputs": [
    {
     "data": {
      "text/plain": [
       "{'Age': True,\n",
       " 'Gender': True,\n",
       " 'Marital Status': True,\n",
       " 'Occupation': True,\n",
       " 'Monthly Income': True,\n",
       " 'Educational Qualifications': True,\n",
       " 'Family size': True,\n",
       " 'latitude': False,\n",
       " 'longitude': False,\n",
       " 'Pin code': False,\n",
       " 'Medium (P1)': True,\n",
       " 'Medium (P2)': True,\n",
       " 'Meal(P1)': True,\n",
       " 'Meal(P2)': True,\n",
       " 'Perference(P1)': True,\n",
       " 'Perference(P2)': True,\n",
       " 'Ease and convenient': True,\n",
       " 'Time saving': True,\n",
       " 'More restaurant choices': True,\n",
       " 'Easy Payment option': True,\n",
       " 'More Offers and Discount': True,\n",
       " 'Good Food quality': True,\n",
       " 'Good Tracking system': True,\n",
       " 'Self Cooking': True,\n",
       " 'Health Concern': True,\n",
       " 'Late Delivery': True,\n",
       " 'Poor Hygiene': True,\n",
       " 'Bad past experience': True,\n",
       " 'Unavailability': True,\n",
       " 'Unaffordable': True,\n",
       " 'Long delivery time': True,\n",
       " 'Delay of delivery person getting assigned': True,\n",
       " 'Delay of delivery person picking up food': True,\n",
       " 'Wrong order delivered': True,\n",
       " 'Missing item': True,\n",
       " 'Order placed by mistake': True,\n",
       " 'Influence of time': True,\n",
       " 'Order Time': True,\n",
       " 'Maximum wait time': True,\n",
       " 'Residence in busy location': True,\n",
       " 'Google Maps Accuracy': True,\n",
       " 'Good Road Condition': True,\n",
       " 'Low quantity low time': True,\n",
       " 'Delivery person ability': True,\n",
       " 'Influence of rating': True,\n",
       " 'Less Delivery time': True,\n",
       " 'High Quality of package': True,\n",
       " 'Number of calls': True,\n",
       " 'Politeness': True,\n",
       " 'Freshness ': True,\n",
       " 'Temperature': True,\n",
       " 'Good Taste ': True,\n",
       " 'Good Quantity': True,\n",
       " 'Output': True,\n",
       " 'Reviews': False}"
      ]
     },
     "execution_count": 14,
     "metadata": {},
     "output_type": "execute_result"
    }
   ],
   "source": [
    "likely_cat"
   ]
  },
  {
   "cell_type": "markdown",
   "metadata": {
    "ExecuteTime": {
     "end_time": "2020-12-13T05:49:15.006812Z",
     "start_time": "2020-12-13T05:49:14.996820Z"
    }
   },
   "source": [
    "<b> feature selection </b>"
   ]
  },
  {
   "cell_type": "code",
   "execution_count": 15,
   "metadata": {
    "ExecuteTime": {
     "end_time": "2020-12-15T05:10:14.173444Z",
     "start_time": "2020-12-15T05:10:13.947813Z"
    }
   },
   "outputs": [
    {
     "data": {
      "text/plain": [
       "388"
      ]
     },
     "execution_count": 15,
     "metadata": {},
     "output_type": "execute_result"
    }
   ],
   "source": [
    "df=pd.crosstab(fd_ori['Meal(P1)'],fd_ori['Occupation'])\n",
    "sum(df.sum())"
   ]
  },
  {
   "cell_type": "code",
   "execution_count": 17,
   "metadata": {
    "ExecuteTime": {
     "end_time": "2020-12-15T05:15:20.951099Z",
     "start_time": "2020-12-15T05:15:19.853019Z"
    }
   },
   "outputs": [
    {
     "data": {
      "text/plain": [
       "{'Output': [('Age', 0.41916612670006054),\n",
       "  ('Ease and convenient', 0.6944483749782563),\n",
       "  ('Time saving', 0.6333333550979008),\n",
       "  ('More restaurant choices', 0.5897138785369491),\n",
       "  ('Easy Payment option', 0.5571767618313485),\n",
       "  ('More Offers and Discount', 0.5564505912203883),\n",
       "  ('Good Food quality', 0.4243449172824401),\n",
       "  ('Good Tracking system', 0.41749280981704445),\n",
       "  ('Self Cooking', 0.3403727423216874),\n",
       "  ('Health Concern', 0.3079956343776662),\n",
       "  ('Late Delivery', 0.34652652235757503),\n",
       "  ('Unaffordable', 0.40917014994986045),\n",
       "  ('Maximum wait time', 0.4135981980209824)]}"
      ]
     },
     "execution_count": 17,
     "metadata": {},
     "output_type": "execute_result"
    }
   ],
   "source": [
    "crv={}\n",
    "l1=[]\n",
    "for i in fd_ori.columns:\n",
    "    if i not in  ['latitude','longitude','Pin code','Output','Reviews']:\n",
    "        df=pd.crosstab(fd_ori['Output'],fd_ori[i])\n",
    "        stat, p, dof, expected = st.chi2_contingency(df,correction=True)\n",
    "        t=min(df.shape)-1\n",
    "        deno=sum(df.sum())*t\n",
    "        x=numpy.sqrt(stat / deno)\n",
    "        if(x>0.3):\n",
    "             l1.append((i,x))\n",
    "\n",
    "\n",
    "crv['Output']=l1\n",
    "        \n",
    "crv\n",
    "    \n",
    "    "
   ]
  },
  {
   "cell_type": "code",
   "execution_count": 18,
   "metadata": {
    "ExecuteTime": {
     "end_time": "2020-12-15T05:15:24.908028Z",
     "start_time": "2020-12-15T05:15:24.900034Z"
    }
   },
   "outputs": [
    {
     "data": {
      "text/plain": [
       "['Age',\n",
       " 'Ease and convenient',\n",
       " 'Time saving',\n",
       " 'More restaurant choices',\n",
       " 'Easy Payment option',\n",
       " 'More Offers and Discount',\n",
       " 'Good Food quality',\n",
       " 'Good Tracking system',\n",
       " 'Self Cooking',\n",
       " 'Health Concern',\n",
       " 'Late Delivery',\n",
       " 'Unaffordable',\n",
       " 'Maximum wait time']"
      ]
     },
     "execution_count": 18,
     "metadata": {},
     "output_type": "execute_result"
    }
   ],
   "source": [
    "basic_f0=[]\n",
    "for i in l1:\n",
    "    basic_f0.append(i[0])\n",
    "\n",
    "basic_f0"
   ]
  },
  {
   "cell_type": "code",
   "execution_count": 64,
   "metadata": {
    "ExecuteTime": {
     "end_time": "2020-12-14T11:09:25.498575Z",
     "start_time": "2020-12-14T11:09:25.277614Z"
    },
    "collapsed": true
   },
   "outputs": [
    {
     "data": {
      "text/plain": [
       "<Figure size 1440x576 with 0 Axes>"
      ]
     },
     "metadata": {},
     "output_type": "display_data"
    },
    {
     "data": {
      "image/png": "[encoded data removed]",
      "text/plain": [
       "<Figure size 432x288 with 1 Axes>"
      ]
     },
     "metadata": {},
     "output_type": "display_data"
    }
   ],
   "source": [
    "plt.figure(figsize=(20,8))\n",
    "mosaic(fd_ori,['Output','Unaffordable'],statistic=True,axes_label=False)\n",
    "plt.show()"
   ]
  },
  {
   "cell_type": "code",
   "execution_count": 65,
   "metadata": {
    "ExecuteTime": {
     "end_time": "2020-12-14T11:09:26.138996Z",
     "start_time": "2020-12-14T11:09:26.127986Z"
    }
   },
   "outputs": [
    {
     "data": {
      "text/plain": [
       "1    301\n",
       "0     87\n",
       "Name: Output, dtype: int64"
      ]
     },
     "execution_count": 65,
     "metadata": {},
     "output_type": "execute_result"
    }
   ],
   "source": [
    "fd_dlvry.Output.value_counts()"
   ]
  },
  {
   "cell_type": "code",
   "execution_count": 66,
   "metadata": {
    "ExecuteTime": {
     "end_time": "2020-12-14T11:09:27.060107Z",
     "start_time": "2020-12-14T11:09:26.700551Z"
    },
    "collapsed": true
   },
   "outputs": [
    {
     "data": {
      "image/png": "[encoded data removed]",
      "text/plain": [
       "<Waffle size 432x288 with 1 Axes>"
      ]
     },
     "metadata": {},
     "output_type": "display_data"
    }
   ],
   "source": [
    "data = {'Democratic': 48, 'Republican': 46, 'Libertarian': 3}\n",
    "fig = plt.figure(\n",
    "    FigureClass=Waffle, \n",
    "    rows=5, \n",
    "    values=data, \n",
    "    colors=(\"#983D3D\", \"#232066\", \"#DCB732\"),\n",
    "    title={'label': 'Vote Percentage in 2016 US Presidential Election', 'loc': 'left'},\n",
    "    labels=[\"{0} ({1}%)\".format(k, v) for k, v in data.items()],\n",
    "    legend={'loc': 'lower left', 'bbox_to_anchor': (0, -0.4), 'ncol': len(data), 'framealpha': 0}\n",
    ")\n",
    "fig.gca().set_facecolor('#EEEEEE')\n",
    "fig.set_facecolor('#EEEEEE')\n",
    "plt.show()\n"
   ]
  },
  {
   "cell_type": "code",
   "execution_count": 94,
   "metadata": {
    "ExecuteTime": {
     "end_time": "2020-12-14T11:34:22.684197Z",
     "start_time": "2020-12-14T11:34:22.677199Z"
    }
   },
   "outputs": [],
   "source": [
    "%matplotlib inline"
   ]
  },
  {
   "cell_type": "code",
   "execution_count": 100,
   "metadata": {
    "ExecuteTime": {
     "end_time": "2020-12-14T11:36:20.621769Z",
     "start_time": "2020-12-14T11:35:52.757521Z"
    },
    "code_folding": [],
    "collapsed": true
   },
   "outputs": [
    {
     "data": {
      "image/png": "[encoded data removed]",
      "text/plain": [
       "<Waffle size 720x360 with 1 Axes>"
      ]
     },
     "metadata": {},
     "output_type": "display_data"
    },
    {
     "data": {
      "image/png": "[encoded data removed]",
      "text/plain": [
       "<Waffle size 720x360 with 1 Axes>"
      ]
     },
     "metadata": {},
     "output_type": "display_data"
    },
    {
     "data": {
      "image/png": "[encoded data removed]",
      "text/plain": [
       "<Waffle size 720x360 with 1 Axes>"
      ]
     },
     "metadata": {},
     "output_type": "display_data"
    },
    {
     "data": {
      "image/png": "[encoded data removed]",
      "text/plain": [
       "<Waffle size 720x360 with 1 Axes>"
      ]
     },
     "metadata": {},
     "output_type": "display_data"
    },
    {
     "data": {
      "image/png": "[encoded data removed]",
      "text/plain": [
       "<Waffle size 720x360 with 1 Axes>"
      ]
     },
     "metadata": {},
     "output_type": "display_data"
    },
    {
     "data": {
      "image/png": "[encoded data removed]",
      "text/plain": [
       "<Waffle size 720x360 with 1 Axes>"
      ]
     },
     "metadata": {},
     "output_type": "display_data"
    },
    {
     "data": {
      "image/png": "[encoded data removed]",
      "text/plain": [
       "<Waffle size 720x360 with 1 Axes>"
      ]
     },
     "metadata": {},
     "output_type": "display_data"
    },
    {
     "data": {
      "image/png": "[encoded data removed]",
      "text/plain": [
       "<Waffle size 720x360 with 1 Axes>"
      ]
     },
     "metadata": {},
     "output_type": "display_data"
    },
    {
     "data": {
      "image/png": "[encoded data removed]",
      "text/plain": [
       "<Waffle size 720x360 with 1 Axes>"
      ]
     },
     "metadata": {},
     "output_type": "display_data"
    },
    {
     "data": {
      "image/png": "[encoded data removed]",
      "text/plain": [
       "<Waffle size 720x360 with 1 Axes>"
      ]
     },
     "metadata": {},
     "output_type": "display_data"
    }
   ],
   "source": [
    "plt.figure(figsize=(10,8))\n",
    "plt.close()\n",
    "for i in basic_f0:\n",
    "    fig = plt.figure(\n",
    "        FigureClass=Waffle, \n",
    "        rows=20, \n",
    "        values=dict(fd_ori[i].value_counts()), \n",
    "        legend={'loc': 'upper left', 'bbox_to_anchor': (1, 1)},\n",
    "        icons='child', \n",
    "        title={'label': i, 'loc': 'left'},\n",
    "        icon_size=18, \n",
    "        icon_legend=True,\n",
    "        figsize=(10,5)\n",
    "\n",
    "    )\n",
    "    fig.gca().set_facecolor('#EEEEEE')\n",
    "    fig.set_facecolor('#EEEEEE')\n",
    "    plt.show()"
   ]
  },
  {
   "cell_type": "code",
   "execution_count": null,
   "metadata": {},
   "outputs": [],
   "source": []
  },
  {
   "cell_type": "code",
   "execution_count": null,
   "metadata": {},
   "outputs": [],
   "source": []
  }
 ],
 "metadata": {
  "kernelspec": {
   "display_name": "Python 3",
   "language": "python",
   "name": "python3"
  },
  "language_info": {
   "codemirror_mode": {
    "name": "ipython",
    "version": 3
   },
   "file_extension": ".py",
   "mimetype": "text/x-python",
   "name": "python",
   "nbconvert_exporter": "python",
   "pygments_lexer": "ipython3",
   "version": "3.7.9"
  },
  "toc": {
   "base_numbering": 1,
   "nav_menu": {},
   "number_sections": true,
   "sideBar": true,
   "skip_h1_title": false,
   "title_cell": "Table of Contents",
   "title_sidebar": "Contents",
   "toc_cell": false,
   "toc_position": {},
   "toc_section_display": true,
   "toc_window_display": false
  }
 },
 "nbformat": 4,
 "nbformat_minor": 4
}
