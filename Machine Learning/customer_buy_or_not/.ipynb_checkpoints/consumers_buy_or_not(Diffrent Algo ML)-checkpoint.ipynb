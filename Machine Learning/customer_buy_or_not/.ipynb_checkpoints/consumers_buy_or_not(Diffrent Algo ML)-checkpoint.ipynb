{
 "cells": [
  {
   "cell_type": "code",
   "execution_count": 1,
   "metadata": {
    "ExecuteTime": {
     "end_time": "2021-02-22T03:48:18.198025Z",
     "start_time": "2021-02-22T03:47:29.924920Z"
    }
   },
   "outputs": [],
   "source": [
    "#import libraries\n",
    "import numpy \n",
    "import numpy as np\n",
    "import pandas as pd\n",
    "import seaborn as sns\n",
    "import matplotlib.pyplot as plt\n",
    "from sklearn import metrics\n",
    "import matplotlib.patches as mpatches\n",
    "from sklearn.metrics import classification_report\n",
    "from sklearn.metrics import confusion_matrix\n",
    "import scipy.stats as st \n",
    "import dtale \n",
    "import warnings\n",
    "from sklearn.model_selection import StratifiedKFold \n",
    "\n",
    "from imblearn.over_sampling import RandomOverSampler\n",
    "from sklearn.tree import DecisionTreeClassifier\n",
    "from sklearn.model_selection import cross_val_score\n",
    "warnings.filterwarnings('ignore')\n",
    "import pandas_profiling as pdp\n",
    "from sklearn.model_selection import train_test_split\n",
    "from sklearn.neighbors import KNeighborsClassifier\n",
    "from sklearn.metrics import roc_curve"
   ]
  },
  {
   "cell_type": "code",
   "execution_count": 2,
   "metadata": {
    "ExecuteTime": {
     "end_time": "2021-02-22T03:48:18.262987Z",
     "start_time": "2021-02-22T03:48:18.200986Z"
    }
   },
   "outputs": [],
   "source": [
    "fd_dlvry=pd.read_csv('../../data/Banglore_food_delivery/onlinedeliverydata.csv')"
   ]
  },
  {
   "cell_type": "code",
   "execution_count": 3,
   "metadata": {
    "ExecuteTime": {
     "end_time": "2021-02-22T03:48:18.314940Z",
     "start_time": "2021-02-22T03:48:18.265945Z"
    }
   },
   "outputs": [],
   "source": [
    "fd_ori=fd_dlvry.copy(deep=True)\n",
    "#future uses one copy create"
   ]
  },
  {
   "cell_type": "code",
   "execution_count": 4,
   "metadata": {
    "ExecuteTime": {
     "end_time": "2021-02-22T03:48:18.434951Z",
     "start_time": "2021-02-22T03:48:18.318937Z"
    }
   },
   "outputs": [
    {
     "data": {
      "text/plain": [
       "(388, 55)"
      ]
     },
     "execution_count": 4,
     "metadata": {},
     "output_type": "execute_result"
    }
   ],
   "source": [
    "fd_dlvry.shape"
   ]
  },
  {
   "cell_type": "code",
   "execution_count": 5,
   "metadata": {
    "ExecuteTime": {
     "end_time": "2021-02-22T03:48:18.668897Z",
     "start_time": "2021-02-22T03:48:18.439950Z"
    },
    "scrolled": true
   },
   "outputs": [
    {
     "data": {
      "text/html": [
       "<div>\n",
       "<style scoped>\n",
       "    .dataframe tbody tr th:only-of-type {\n",
       "        vertical-align: middle;\n",
       "    }\n",
       "\n",
       "    .dataframe tbody tr th {\n",
       "        vertical-align: top;\n",
       "    }\n",
       "\n",
       "    .dataframe thead th {\n",
       "        text-align: right;\n",
       "    }\n",
       "</style>\n",
       "<table border=\"1\" class=\"dataframe\">\n",
       "  <thead>\n",
       "    <tr style=\"text-align: right;\">\n",
       "      <th></th>\n",
       "      <th>Age</th>\n",
       "      <th>Gender</th>\n",
       "      <th>Marital Status</th>\n",
       "      <th>Occupation</th>\n",
       "      <th>Monthly Income</th>\n",
       "      <th>Educational Qualifications</th>\n",
       "      <th>Family size</th>\n",
       "      <th>latitude</th>\n",
       "      <th>longitude</th>\n",
       "      <th>Pin code</th>\n",
       "      <th>...</th>\n",
       "      <th>Less Delivery time</th>\n",
       "      <th>High Quality of package</th>\n",
       "      <th>Number of calls</th>\n",
       "      <th>Politeness</th>\n",
       "      <th>Freshness</th>\n",
       "      <th>Temperature</th>\n",
       "      <th>Good Taste</th>\n",
       "      <th>Good Quantity</th>\n",
       "      <th>Output</th>\n",
       "      <th>Reviews</th>\n",
       "    </tr>\n",
       "  </thead>\n",
       "  <tbody>\n",
       "    <tr>\n",
       "      <th>0</th>\n",
       "      <td>20</td>\n",
       "      <td>Female</td>\n",
       "      <td>Single</td>\n",
       "      <td>Student</td>\n",
       "      <td>No Income</td>\n",
       "      <td>Post Graduate</td>\n",
       "      <td>4</td>\n",
       "      <td>12.9766</td>\n",
       "      <td>77.5993</td>\n",
       "      <td>560001</td>\n",
       "      <td>...</td>\n",
       "      <td>Moderately Important</td>\n",
       "      <td>Moderately Important</td>\n",
       "      <td>Moderately Important</td>\n",
       "      <td>Moderately Important</td>\n",
       "      <td>Moderately Important</td>\n",
       "      <td>Moderately Important</td>\n",
       "      <td>Moderately Important</td>\n",
       "      <td>Moderately Important</td>\n",
       "      <td>Yes</td>\n",
       "      <td>Nil\\n</td>\n",
       "    </tr>\n",
       "    <tr>\n",
       "      <th>1</th>\n",
       "      <td>24</td>\n",
       "      <td>Female</td>\n",
       "      <td>Single</td>\n",
       "      <td>Student</td>\n",
       "      <td>Below Rs.10000</td>\n",
       "      <td>Graduate</td>\n",
       "      <td>3</td>\n",
       "      <td>12.9770</td>\n",
       "      <td>77.5773</td>\n",
       "      <td>560009</td>\n",
       "      <td>...</td>\n",
       "      <td>Very Important</td>\n",
       "      <td>Very Important</td>\n",
       "      <td>Very Important</td>\n",
       "      <td>Very Important</td>\n",
       "      <td>Very Important</td>\n",
       "      <td>Very Important</td>\n",
       "      <td>Very Important</td>\n",
       "      <td>Very Important</td>\n",
       "      <td>Yes</td>\n",
       "      <td>Nil</td>\n",
       "    </tr>\n",
       "    <tr>\n",
       "      <th>2</th>\n",
       "      <td>22</td>\n",
       "      <td>Male</td>\n",
       "      <td>Single</td>\n",
       "      <td>Student</td>\n",
       "      <td>Below Rs.10000</td>\n",
       "      <td>Post Graduate</td>\n",
       "      <td>3</td>\n",
       "      <td>12.9551</td>\n",
       "      <td>77.6593</td>\n",
       "      <td>560017</td>\n",
       "      <td>...</td>\n",
       "      <td>Important</td>\n",
       "      <td>Very Important</td>\n",
       "      <td>Moderately Important</td>\n",
       "      <td>Very Important</td>\n",
       "      <td>Very Important</td>\n",
       "      <td>Important</td>\n",
       "      <td>Very Important</td>\n",
       "      <td>Moderately Important</td>\n",
       "      <td>Yes</td>\n",
       "      <td>Many a times payment gateways are an issue, so...</td>\n",
       "    </tr>\n",
       "    <tr>\n",
       "      <th>3</th>\n",
       "      <td>22</td>\n",
       "      <td>Female</td>\n",
       "      <td>Single</td>\n",
       "      <td>Student</td>\n",
       "      <td>No Income</td>\n",
       "      <td>Graduate</td>\n",
       "      <td>6</td>\n",
       "      <td>12.9473</td>\n",
       "      <td>77.5616</td>\n",
       "      <td>560019</td>\n",
       "      <td>...</td>\n",
       "      <td>Very Important</td>\n",
       "      <td>Important</td>\n",
       "      <td>Moderately Important</td>\n",
       "      <td>Very Important</td>\n",
       "      <td>Very Important</td>\n",
       "      <td>Very Important</td>\n",
       "      <td>Very Important</td>\n",
       "      <td>Important</td>\n",
       "      <td>Yes</td>\n",
       "      <td>nil</td>\n",
       "    </tr>\n",
       "    <tr>\n",
       "      <th>4</th>\n",
       "      <td>22</td>\n",
       "      <td>Male</td>\n",
       "      <td>Single</td>\n",
       "      <td>Student</td>\n",
       "      <td>Below Rs.10000</td>\n",
       "      <td>Post Graduate</td>\n",
       "      <td>4</td>\n",
       "      <td>12.9850</td>\n",
       "      <td>77.5533</td>\n",
       "      <td>560010</td>\n",
       "      <td>...</td>\n",
       "      <td>Important</td>\n",
       "      <td>Important</td>\n",
       "      <td>Moderately Important</td>\n",
       "      <td>Important</td>\n",
       "      <td>Important</td>\n",
       "      <td>Important</td>\n",
       "      <td>Very Important</td>\n",
       "      <td>Very Important</td>\n",
       "      <td>Yes</td>\n",
       "      <td>NIL</td>\n",
       "    </tr>\n",
       "  </tbody>\n",
       "</table>\n",
       "<p>5 rows × 55 columns</p>\n",
       "</div>"
      ],
      "text/plain": [
       "   Age  Gender Marital Status Occupation  Monthly Income  \\\n",
       "0   20  Female         Single    Student       No Income   \n",
       "1   24  Female         Single    Student  Below Rs.10000   \n",
       "2   22    Male         Single    Student  Below Rs.10000   \n",
       "3   22  Female         Single    Student       No Income   \n",
       "4   22    Male         Single    Student  Below Rs.10000   \n",
       "\n",
       "  Educational Qualifications  Family size  latitude  longitude  Pin code  ...  \\\n",
       "0              Post Graduate            4   12.9766    77.5993    560001  ...   \n",
       "1                   Graduate            3   12.9770    77.5773    560009  ...   \n",
       "2              Post Graduate            3   12.9551    77.6593    560017  ...   \n",
       "3                   Graduate            6   12.9473    77.5616    560019  ...   \n",
       "4              Post Graduate            4   12.9850    77.5533    560010  ...   \n",
       "\n",
       "     Less Delivery time High Quality of package       Number of calls  \\\n",
       "0  Moderately Important    Moderately Important  Moderately Important   \n",
       "1        Very Important          Very Important        Very Important   \n",
       "2             Important          Very Important  Moderately Important   \n",
       "3        Very Important               Important  Moderately Important   \n",
       "4             Important               Important  Moderately Important   \n",
       "\n",
       "             Politeness            Freshness            Temperature  \\\n",
       "0  Moderately Important  Moderately Important  Moderately Important   \n",
       "1        Very Important        Very Important        Very Important   \n",
       "2        Very Important        Very Important             Important   \n",
       "3        Very Important        Very Important        Very Important   \n",
       "4             Important             Important             Important   \n",
       "\n",
       "            Good Taste          Good Quantity Output  \\\n",
       "0  Moderately Important  Moderately Important    Yes   \n",
       "1        Very Important        Very Important    Yes   \n",
       "2        Very Important  Moderately Important    Yes   \n",
       "3        Very Important             Important    Yes   \n",
       "4        Very Important        Very Important    Yes   \n",
       "\n",
       "                                             Reviews  \n",
       "0                                              Nil\\n  \n",
       "1                                                Nil  \n",
       "2  Many a times payment gateways are an issue, so...  \n",
       "3                                                nil  \n",
       "4                                                NIL  \n",
       "\n",
       "[5 rows x 55 columns]"
      ]
     },
     "execution_count": 5,
     "metadata": {},
     "output_type": "execute_result"
    }
   ],
   "source": [
    "fd_dlvry.head()"
   ]
  },
  {
   "cell_type": "code",
   "execution_count": null,
   "metadata": {},
   "outputs": [],
   "source": []
  },
  {
   "cell_type": "code",
   "execution_count": 6,
   "metadata": {
    "ExecuteTime": {
     "end_time": "2021-02-22T03:48:18.734856Z",
     "start_time": "2021-02-22T03:48:18.672892Z"
    }
   },
   "outputs": [
    {
     "name": "stdout",
     "output_type": "stream",
     "text": [
      "<class 'pandas.core.frame.DataFrame'>\n",
      "RangeIndex: 388 entries, 0 to 387\n",
      "Data columns (total 55 columns):\n",
      " #   Column                                     Non-Null Count  Dtype  \n",
      "---  ------                                     --------------  -----  \n",
      " 0   Age                                        388 non-null    int64  \n",
      " 1   Gender                                     388 non-null    object \n",
      " 2   Marital Status                             388 non-null    object \n",
      " 3   Occupation                                 388 non-null    object \n",
      " 4   Monthly Income                             388 non-null    object \n",
      " 5   Educational Qualifications                 388 non-null    object \n",
      " 6   Family size                                388 non-null    int64  \n",
      " 7   latitude                                   388 non-null    float64\n",
      " 8   longitude                                  388 non-null    float64\n",
      " 9   Pin code                                   388 non-null    int64  \n",
      " 10  Medium (P1)                                388 non-null    object \n",
      " 11  Medium (P2)                                388 non-null    object \n",
      " 12  Meal(P1)                                   388 non-null    object \n",
      " 13  Meal(P2)                                   388 non-null    object \n",
      " 14  Perference(P1)                             388 non-null    object \n",
      " 15  Perference(P2)                             388 non-null    object \n",
      " 16  Ease and convenient                        388 non-null    object \n",
      " 17  Time saving                                388 non-null    object \n",
      " 18  More restaurant choices                    388 non-null    object \n",
      " 19  Easy Payment option                        388 non-null    object \n",
      " 20  More Offers and Discount                   388 non-null    object \n",
      " 21  Good Food quality                          388 non-null    object \n",
      " 22  Good Tracking system                       388 non-null    object \n",
      " 23  Self Cooking                               388 non-null    object \n",
      " 24  Health Concern                             388 non-null    object \n",
      " 25  Late Delivery                              388 non-null    object \n",
      " 26  Poor Hygiene                               388 non-null    object \n",
      " 27  Bad past experience                        388 non-null    object \n",
      " 28  Unavailability                             388 non-null    object \n",
      " 29  Unaffordable                               388 non-null    object \n",
      " 30  Long delivery time                         388 non-null    object \n",
      " 31  Delay of delivery person getting assigned  388 non-null    object \n",
      " 32  Delay of delivery person picking up food   388 non-null    object \n",
      " 33  Wrong order delivered                      388 non-null    object \n",
      " 34  Missing item                               388 non-null    object \n",
      " 35  Order placed by mistake                    388 non-null    object \n",
      " 36  Influence of time                          388 non-null    object \n",
      " 37  Order Time                                 388 non-null    object \n",
      " 38  Maximum wait time                          388 non-null    object \n",
      " 39  Residence in busy location                 388 non-null    object \n",
      " 40  Google Maps Accuracy                       388 non-null    object \n",
      " 41  Good Road Condition                        388 non-null    object \n",
      " 42  Low quantity low time                      388 non-null    object \n",
      " 43  Delivery person ability                    388 non-null    object \n",
      " 44  Influence of rating                        388 non-null    object \n",
      " 45  Less Delivery time                         388 non-null    object \n",
      " 46  High Quality of package                    388 non-null    object \n",
      " 47  Number of calls                            388 non-null    object \n",
      " 48  Politeness                                 388 non-null    object \n",
      " 49  Freshness                                  388 non-null    object \n",
      " 50  Temperature                                388 non-null    object \n",
      " 51  Good Taste                                 388 non-null    object \n",
      " 52  Good Quantity                              388 non-null    object \n",
      " 53  Output                                     388 non-null    object \n",
      " 54  Reviews                                    388 non-null    object \n",
      "dtypes: float64(2), int64(3), object(50)\n",
      "memory usage: 166.8+ KB\n"
     ]
    }
   ],
   "source": [
    "fd_dlvry.info()"
   ]
  },
  {
   "cell_type": "code",
   "execution_count": 7,
   "metadata": {
    "ExecuteTime": {
     "end_time": "2021-02-22T03:48:18.855786Z",
     "start_time": "2021-02-22T03:48:18.739854Z"
    }
   },
   "outputs": [],
   "source": [
    "# d = dtale.show(fd_dlvry)\n",
    "# d.open_browser()\n",
    "#we can use datle library for EDA"
   ]
  },
  {
   "cell_type": "code",
   "execution_count": 8,
   "metadata": {
    "ExecuteTime": {
     "end_time": "2021-02-22T03:48:19.000703Z",
     "start_time": "2021-02-22T03:48:18.861783Z"
    }
   },
   "outputs": [],
   "source": [
    "#looking data with pdp.ProfileReport \n",
    "# data = pd.read_csv('../../data/Banglore_food_delivery/onlinedeliverydata.csv')\n",
    "\n",
    "# #Creating the Exploratory Data Analysis of our dataset\n",
    "# report = pdp.ProfileReport(data, title='Pandas Profiling Report')"
   ]
  },
  {
   "cell_type": "code",
   "execution_count": 9,
   "metadata": {
    "ExecuteTime": {
     "end_time": "2021-02-22T03:48:19.199593Z",
     "start_time": "2021-02-22T03:48:19.006700Z"
    },
    "scrolled": true
   },
   "outputs": [],
   "source": [
    "# report.widgets"
   ]
  },
  {
   "cell_type": "code",
   "execution_count": 10,
   "metadata": {
    "ExecuteTime": {
     "end_time": "2021-02-22T03:48:21.353554Z",
     "start_time": "2021-02-22T03:48:19.203586Z"
    }
   },
   "outputs": [
    {
     "data": {
      "text/html": [
       "<div>\n",
       "<style scoped>\n",
       "    .dataframe tbody tr th:only-of-type {\n",
       "        vertical-align: middle;\n",
       "    }\n",
       "\n",
       "    .dataframe tbody tr th {\n",
       "        vertical-align: top;\n",
       "    }\n",
       "\n",
       "    .dataframe thead th {\n",
       "        text-align: right;\n",
       "    }\n",
       "</style>\n",
       "<table border=\"1\" class=\"dataframe\">\n",
       "  <thead>\n",
       "    <tr style=\"text-align: right;\">\n",
       "      <th></th>\n",
       "      <th>Age</th>\n",
       "      <th>Gender</th>\n",
       "      <th>Marital Status</th>\n",
       "      <th>Occupation</th>\n",
       "      <th>Monthly Income</th>\n",
       "      <th>Educational Qualifications</th>\n",
       "      <th>Family size</th>\n",
       "      <th>latitude</th>\n",
       "      <th>longitude</th>\n",
       "      <th>Pin code</th>\n",
       "      <th>...</th>\n",
       "      <th>Less Delivery time</th>\n",
       "      <th>High Quality of package</th>\n",
       "      <th>Number of calls</th>\n",
       "      <th>Politeness</th>\n",
       "      <th>Freshness</th>\n",
       "      <th>Temperature</th>\n",
       "      <th>Good Taste</th>\n",
       "      <th>Good Quantity</th>\n",
       "      <th>Output</th>\n",
       "      <th>Reviews</th>\n",
       "    </tr>\n",
       "  </thead>\n",
       "  <tbody>\n",
       "    <tr>\n",
       "      <th>0</th>\n",
       "      <td>20</td>\n",
       "      <td>0</td>\n",
       "      <td>2</td>\n",
       "      <td>3</td>\n",
       "      <td>4</td>\n",
       "      <td>2</td>\n",
       "      <td>4</td>\n",
       "      <td>12.9766</td>\n",
       "      <td>77.5993</td>\n",
       "      <td>560001</td>\n",
       "      <td>...</td>\n",
       "      <td>1</td>\n",
       "      <td>1</td>\n",
       "      <td>1</td>\n",
       "      <td>1</td>\n",
       "      <td>1</td>\n",
       "      <td>1</td>\n",
       "      <td>1</td>\n",
       "      <td>1</td>\n",
       "      <td>1</td>\n",
       "      <td>136</td>\n",
       "    </tr>\n",
       "    <tr>\n",
       "      <th>1</th>\n",
       "      <td>24</td>\n",
       "      <td>0</td>\n",
       "      <td>2</td>\n",
       "      <td>3</td>\n",
       "      <td>2</td>\n",
       "      <td>0</td>\n",
       "      <td>3</td>\n",
       "      <td>12.9770</td>\n",
       "      <td>77.5773</td>\n",
       "      <td>560009</td>\n",
       "      <td>...</td>\n",
       "      <td>4</td>\n",
       "      <td>4</td>\n",
       "      <td>4</td>\n",
       "      <td>4</td>\n",
       "      <td>4</td>\n",
       "      <td>4</td>\n",
       "      <td>4</td>\n",
       "      <td>4</td>\n",
       "      <td>1</td>\n",
       "      <td>135</td>\n",
       "    </tr>\n",
       "    <tr>\n",
       "      <th>2</th>\n",
       "      <td>22</td>\n",
       "      <td>1</td>\n",
       "      <td>2</td>\n",
       "      <td>3</td>\n",
       "      <td>2</td>\n",
       "      <td>2</td>\n",
       "      <td>3</td>\n",
       "      <td>12.9551</td>\n",
       "      <td>77.6593</td>\n",
       "      <td>560017</td>\n",
       "      <td>...</td>\n",
       "      <td>0</td>\n",
       "      <td>4</td>\n",
       "      <td>1</td>\n",
       "      <td>4</td>\n",
       "      <td>4</td>\n",
       "      <td>0</td>\n",
       "      <td>4</td>\n",
       "      <td>1</td>\n",
       "      <td>1</td>\n",
       "      <td>119</td>\n",
       "    </tr>\n",
       "    <tr>\n",
       "      <th>3</th>\n",
       "      <td>22</td>\n",
       "      <td>0</td>\n",
       "      <td>2</td>\n",
       "      <td>3</td>\n",
       "      <td>4</td>\n",
       "      <td>0</td>\n",
       "      <td>6</td>\n",
       "      <td>12.9473</td>\n",
       "      <td>77.5616</td>\n",
       "      <td>560019</td>\n",
       "      <td>...</td>\n",
       "      <td>4</td>\n",
       "      <td>0</td>\n",
       "      <td>1</td>\n",
       "      <td>4</td>\n",
       "      <td>4</td>\n",
       "      <td>4</td>\n",
       "      <td>4</td>\n",
       "      <td>0</td>\n",
       "      <td>1</td>\n",
       "      <td>176</td>\n",
       "    </tr>\n",
       "    <tr>\n",
       "      <th>4</th>\n",
       "      <td>22</td>\n",
       "      <td>1</td>\n",
       "      <td>2</td>\n",
       "      <td>3</td>\n",
       "      <td>2</td>\n",
       "      <td>2</td>\n",
       "      <td>4</td>\n",
       "      <td>12.9850</td>\n",
       "      <td>77.5533</td>\n",
       "      <td>560010</td>\n",
       "      <td>...</td>\n",
       "      <td>0</td>\n",
       "      <td>0</td>\n",
       "      <td>1</td>\n",
       "      <td>0</td>\n",
       "      <td>0</td>\n",
       "      <td>0</td>\n",
       "      <td>4</td>\n",
       "      <td>4</td>\n",
       "      <td>1</td>\n",
       "      <td>129</td>\n",
       "    </tr>\n",
       "  </tbody>\n",
       "</table>\n",
       "<p>5 rows × 55 columns</p>\n",
       "</div>"
      ],
      "text/plain": [
       "   Age  Gender  Marital Status  Occupation  Monthly Income  \\\n",
       "0   20       0               2           3               4   \n",
       "1   24       0               2           3               2   \n",
       "2   22       1               2           3               2   \n",
       "3   22       0               2           3               4   \n",
       "4   22       1               2           3               2   \n",
       "\n",
       "   Educational Qualifications  Family size  latitude  longitude  Pin code  \\\n",
       "0                           2            4   12.9766    77.5993    560001   \n",
       "1                           0            3   12.9770    77.5773    560009   \n",
       "2                           2            3   12.9551    77.6593    560017   \n",
       "3                           0            6   12.9473    77.5616    560019   \n",
       "4                           2            4   12.9850    77.5533    560010   \n",
       "\n",
       "   ...  Less Delivery time  High Quality of package  Number of calls  \\\n",
       "0  ...                   1                        1                1   \n",
       "1  ...                   4                        4                4   \n",
       "2  ...                   0                        4                1   \n",
       "3  ...                   4                        0                1   \n",
       "4  ...                   0                        0                1   \n",
       "\n",
       "   Politeness  Freshness   Temperature  Good Taste   Good Quantity  Output  \\\n",
       "0           1           1            1            1              1       1   \n",
       "1           4           4            4            4              4       1   \n",
       "2           4           4            0            4              1       1   \n",
       "3           4           4            4            4              0       1   \n",
       "4           0           0            0            4              4       1   \n",
       "\n",
       "   Reviews  \n",
       "0      136  \n",
       "1      135  \n",
       "2      119  \n",
       "3      176  \n",
       "4      129  \n",
       "\n",
       "[5 rows x 55 columns]"
      ]
     },
     "execution_count": 10,
     "metadata": {},
     "output_type": "execute_result"
    }
   ],
   "source": [
    "#this library i found on google it's helpful for cleaning data,imputing value and lable encoding\n",
    "import  datacleaner as dc # pip install datacleaner\n",
    "\n",
    "dc.autoclean(fd_dlvry).head() "
   ]
  },
  {
   "cell_type": "code",
   "execution_count": 11,
   "metadata": {
    "ExecuteTime": {
     "end_time": "2021-02-22T03:48:21.413521Z",
     "start_time": "2021-02-22T03:48:21.357551Z"
    }
   },
   "outputs": [
    {
     "data": {
      "text/html": [
       "<div>\n",
       "<style scoped>\n",
       "    .dataframe tbody tr th:only-of-type {\n",
       "        vertical-align: middle;\n",
       "    }\n",
       "\n",
       "    .dataframe tbody tr th {\n",
       "        vertical-align: top;\n",
       "    }\n",
       "\n",
       "    .dataframe thead th {\n",
       "        text-align: right;\n",
       "    }\n",
       "</style>\n",
       "<table border=\"1\" class=\"dataframe\">\n",
       "  <thead>\n",
       "    <tr style=\"text-align: right;\">\n",
       "      <th></th>\n",
       "      <th>Age</th>\n",
       "      <th>Gender</th>\n",
       "      <th>Marital Status</th>\n",
       "      <th>Occupation</th>\n",
       "      <th>Monthly Income</th>\n",
       "      <th>Educational Qualifications</th>\n",
       "      <th>Family size</th>\n",
       "      <th>latitude</th>\n",
       "      <th>longitude</th>\n",
       "      <th>Pin code</th>\n",
       "      <th>...</th>\n",
       "      <th>Less Delivery time</th>\n",
       "      <th>High Quality of package</th>\n",
       "      <th>Number of calls</th>\n",
       "      <th>Politeness</th>\n",
       "      <th>Freshness</th>\n",
       "      <th>Temperature</th>\n",
       "      <th>Good Taste</th>\n",
       "      <th>Good Quantity</th>\n",
       "      <th>Output</th>\n",
       "      <th>Reviews</th>\n",
       "    </tr>\n",
       "  </thead>\n",
       "  <tbody>\n",
       "    <tr>\n",
       "      <th>0</th>\n",
       "      <td>20</td>\n",
       "      <td>0</td>\n",
       "      <td>2</td>\n",
       "      <td>3</td>\n",
       "      <td>4</td>\n",
       "      <td>2</td>\n",
       "      <td>4</td>\n",
       "      <td>12.9766</td>\n",
       "      <td>77.5993</td>\n",
       "      <td>560001</td>\n",
       "      <td>...</td>\n",
       "      <td>1</td>\n",
       "      <td>1</td>\n",
       "      <td>1</td>\n",
       "      <td>1</td>\n",
       "      <td>1</td>\n",
       "      <td>1</td>\n",
       "      <td>1</td>\n",
       "      <td>1</td>\n",
       "      <td>1</td>\n",
       "      <td>136</td>\n",
       "    </tr>\n",
       "    <tr>\n",
       "      <th>1</th>\n",
       "      <td>24</td>\n",
       "      <td>0</td>\n",
       "      <td>2</td>\n",
       "      <td>3</td>\n",
       "      <td>2</td>\n",
       "      <td>0</td>\n",
       "      <td>3</td>\n",
       "      <td>12.9770</td>\n",
       "      <td>77.5773</td>\n",
       "      <td>560009</td>\n",
       "      <td>...</td>\n",
       "      <td>4</td>\n",
       "      <td>4</td>\n",
       "      <td>4</td>\n",
       "      <td>4</td>\n",
       "      <td>4</td>\n",
       "      <td>4</td>\n",
       "      <td>4</td>\n",
       "      <td>4</td>\n",
       "      <td>1</td>\n",
       "      <td>135</td>\n",
       "    </tr>\n",
       "    <tr>\n",
       "      <th>2</th>\n",
       "      <td>22</td>\n",
       "      <td>1</td>\n",
       "      <td>2</td>\n",
       "      <td>3</td>\n",
       "      <td>2</td>\n",
       "      <td>2</td>\n",
       "      <td>3</td>\n",
       "      <td>12.9551</td>\n",
       "      <td>77.6593</td>\n",
       "      <td>560017</td>\n",
       "      <td>...</td>\n",
       "      <td>0</td>\n",
       "      <td>4</td>\n",
       "      <td>1</td>\n",
       "      <td>4</td>\n",
       "      <td>4</td>\n",
       "      <td>0</td>\n",
       "      <td>4</td>\n",
       "      <td>1</td>\n",
       "      <td>1</td>\n",
       "      <td>119</td>\n",
       "    </tr>\n",
       "    <tr>\n",
       "      <th>3</th>\n",
       "      <td>22</td>\n",
       "      <td>0</td>\n",
       "      <td>2</td>\n",
       "      <td>3</td>\n",
       "      <td>4</td>\n",
       "      <td>0</td>\n",
       "      <td>6</td>\n",
       "      <td>12.9473</td>\n",
       "      <td>77.5616</td>\n",
       "      <td>560019</td>\n",
       "      <td>...</td>\n",
       "      <td>4</td>\n",
       "      <td>0</td>\n",
       "      <td>1</td>\n",
       "      <td>4</td>\n",
       "      <td>4</td>\n",
       "      <td>4</td>\n",
       "      <td>4</td>\n",
       "      <td>0</td>\n",
       "      <td>1</td>\n",
       "      <td>176</td>\n",
       "    </tr>\n",
       "    <tr>\n",
       "      <th>4</th>\n",
       "      <td>22</td>\n",
       "      <td>1</td>\n",
       "      <td>2</td>\n",
       "      <td>3</td>\n",
       "      <td>2</td>\n",
       "      <td>2</td>\n",
       "      <td>4</td>\n",
       "      <td>12.9850</td>\n",
       "      <td>77.5533</td>\n",
       "      <td>560010</td>\n",
       "      <td>...</td>\n",
       "      <td>0</td>\n",
       "      <td>0</td>\n",
       "      <td>1</td>\n",
       "      <td>0</td>\n",
       "      <td>0</td>\n",
       "      <td>0</td>\n",
       "      <td>4</td>\n",
       "      <td>4</td>\n",
       "      <td>1</td>\n",
       "      <td>129</td>\n",
       "    </tr>\n",
       "  </tbody>\n",
       "</table>\n",
       "<p>5 rows × 55 columns</p>\n",
       "</div>"
      ],
      "text/plain": [
       "   Age  Gender  Marital Status  Occupation  Monthly Income  \\\n",
       "0   20       0               2           3               4   \n",
       "1   24       0               2           3               2   \n",
       "2   22       1               2           3               2   \n",
       "3   22       0               2           3               4   \n",
       "4   22       1               2           3               2   \n",
       "\n",
       "   Educational Qualifications  Family size  latitude  longitude  Pin code  \\\n",
       "0                           2            4   12.9766    77.5993    560001   \n",
       "1                           0            3   12.9770    77.5773    560009   \n",
       "2                           2            3   12.9551    77.6593    560017   \n",
       "3                           0            6   12.9473    77.5616    560019   \n",
       "4                           2            4   12.9850    77.5533    560010   \n",
       "\n",
       "   ...  Less Delivery time  High Quality of package  Number of calls  \\\n",
       "0  ...                   1                        1                1   \n",
       "1  ...                   4                        4                4   \n",
       "2  ...                   0                        4                1   \n",
       "3  ...                   4                        0                1   \n",
       "4  ...                   0                        0                1   \n",
       "\n",
       "   Politeness  Freshness   Temperature  Good Taste   Good Quantity  Output  \\\n",
       "0           1           1            1            1              1       1   \n",
       "1           4           4            4            4              4       1   \n",
       "2           4           4            0            4              1       1   \n",
       "3           4           4            4            4              0       1   \n",
       "4           0           0            0            4              4       1   \n",
       "\n",
       "   Reviews  \n",
       "0      136  \n",
       "1      135  \n",
       "2      119  \n",
       "3      176  \n",
       "4      129  \n",
       "\n",
       "[5 rows x 55 columns]"
      ]
     },
     "execution_count": 11,
     "metadata": {},
     "output_type": "execute_result"
    }
   ],
   "source": [
    "fd_dlvry.head() "
   ]
  },
  {
   "cell_type": "code",
   "execution_count": 12,
   "metadata": {
    "ExecuteTime": {
     "end_time": "2021-02-22T03:48:21.504470Z",
     "start_time": "2021-02-22T03:48:21.417516Z"
    }
   },
   "outputs": [
    {
     "data": {
      "text/html": [
       "<div>\n",
       "<style scoped>\n",
       "    .dataframe tbody tr th:only-of-type {\n",
       "        vertical-align: middle;\n",
       "    }\n",
       "\n",
       "    .dataframe tbody tr th {\n",
       "        vertical-align: top;\n",
       "    }\n",
       "\n",
       "    .dataframe thead th {\n",
       "        text-align: right;\n",
       "    }\n",
       "</style>\n",
       "<table border=\"1\" class=\"dataframe\">\n",
       "  <thead>\n",
       "    <tr style=\"text-align: right;\">\n",
       "      <th></th>\n",
       "      <th>Age</th>\n",
       "      <th>Gender</th>\n",
       "      <th>Marital Status</th>\n",
       "      <th>Occupation</th>\n",
       "      <th>Monthly Income</th>\n",
       "      <th>Educational Qualifications</th>\n",
       "      <th>Family size</th>\n",
       "      <th>latitude</th>\n",
       "      <th>longitude</th>\n",
       "      <th>Pin code</th>\n",
       "      <th>...</th>\n",
       "      <th>Less Delivery time</th>\n",
       "      <th>High Quality of package</th>\n",
       "      <th>Number of calls</th>\n",
       "      <th>Politeness</th>\n",
       "      <th>Freshness</th>\n",
       "      <th>Temperature</th>\n",
       "      <th>Good Taste</th>\n",
       "      <th>Good Quantity</th>\n",
       "      <th>Output</th>\n",
       "      <th>Reviews</th>\n",
       "    </tr>\n",
       "  </thead>\n",
       "  <tbody>\n",
       "    <tr>\n",
       "      <th>0</th>\n",
       "      <td>20</td>\n",
       "      <td>Female</td>\n",
       "      <td>Single</td>\n",
       "      <td>Student</td>\n",
       "      <td>No Income</td>\n",
       "      <td>Post Graduate</td>\n",
       "      <td>4</td>\n",
       "      <td>12.9766</td>\n",
       "      <td>77.5993</td>\n",
       "      <td>560001</td>\n",
       "      <td>...</td>\n",
       "      <td>Moderately Important</td>\n",
       "      <td>Moderately Important</td>\n",
       "      <td>Moderately Important</td>\n",
       "      <td>Moderately Important</td>\n",
       "      <td>Moderately Important</td>\n",
       "      <td>Moderately Important</td>\n",
       "      <td>Moderately Important</td>\n",
       "      <td>Moderately Important</td>\n",
       "      <td>Yes</td>\n",
       "      <td>Nil\\n</td>\n",
       "    </tr>\n",
       "    <tr>\n",
       "      <th>1</th>\n",
       "      <td>24</td>\n",
       "      <td>Female</td>\n",
       "      <td>Single</td>\n",
       "      <td>Student</td>\n",
       "      <td>Below Rs.10000</td>\n",
       "      <td>Graduate</td>\n",
       "      <td>3</td>\n",
       "      <td>12.9770</td>\n",
       "      <td>77.5773</td>\n",
       "      <td>560009</td>\n",
       "      <td>...</td>\n",
       "      <td>Very Important</td>\n",
       "      <td>Very Important</td>\n",
       "      <td>Very Important</td>\n",
       "      <td>Very Important</td>\n",
       "      <td>Very Important</td>\n",
       "      <td>Very Important</td>\n",
       "      <td>Very Important</td>\n",
       "      <td>Very Important</td>\n",
       "      <td>Yes</td>\n",
       "      <td>Nil</td>\n",
       "    </tr>\n",
       "    <tr>\n",
       "      <th>2</th>\n",
       "      <td>22</td>\n",
       "      <td>Male</td>\n",
       "      <td>Single</td>\n",
       "      <td>Student</td>\n",
       "      <td>Below Rs.10000</td>\n",
       "      <td>Post Graduate</td>\n",
       "      <td>3</td>\n",
       "      <td>12.9551</td>\n",
       "      <td>77.6593</td>\n",
       "      <td>560017</td>\n",
       "      <td>...</td>\n",
       "      <td>Important</td>\n",
       "      <td>Very Important</td>\n",
       "      <td>Moderately Important</td>\n",
       "      <td>Very Important</td>\n",
       "      <td>Very Important</td>\n",
       "      <td>Important</td>\n",
       "      <td>Very Important</td>\n",
       "      <td>Moderately Important</td>\n",
       "      <td>Yes</td>\n",
       "      <td>Many a times payment gateways are an issue, so...</td>\n",
       "    </tr>\n",
       "    <tr>\n",
       "      <th>3</th>\n",
       "      <td>22</td>\n",
       "      <td>Female</td>\n",
       "      <td>Single</td>\n",
       "      <td>Student</td>\n",
       "      <td>No Income</td>\n",
       "      <td>Graduate</td>\n",
       "      <td>6</td>\n",
       "      <td>12.9473</td>\n",
       "      <td>77.5616</td>\n",
       "      <td>560019</td>\n",
       "      <td>...</td>\n",
       "      <td>Very Important</td>\n",
       "      <td>Important</td>\n",
       "      <td>Moderately Important</td>\n",
       "      <td>Very Important</td>\n",
       "      <td>Very Important</td>\n",
       "      <td>Very Important</td>\n",
       "      <td>Very Important</td>\n",
       "      <td>Important</td>\n",
       "      <td>Yes</td>\n",
       "      <td>nil</td>\n",
       "    </tr>\n",
       "    <tr>\n",
       "      <th>4</th>\n",
       "      <td>22</td>\n",
       "      <td>Male</td>\n",
       "      <td>Single</td>\n",
       "      <td>Student</td>\n",
       "      <td>Below Rs.10000</td>\n",
       "      <td>Post Graduate</td>\n",
       "      <td>4</td>\n",
       "      <td>12.9850</td>\n",
       "      <td>77.5533</td>\n",
       "      <td>560010</td>\n",
       "      <td>...</td>\n",
       "      <td>Important</td>\n",
       "      <td>Important</td>\n",
       "      <td>Moderately Important</td>\n",
       "      <td>Important</td>\n",
       "      <td>Important</td>\n",
       "      <td>Important</td>\n",
       "      <td>Very Important</td>\n",
       "      <td>Very Important</td>\n",
       "      <td>Yes</td>\n",
       "      <td>NIL</td>\n",
       "    </tr>\n",
       "  </tbody>\n",
       "</table>\n",
       "<p>5 rows × 55 columns</p>\n",
       "</div>"
      ],
      "text/plain": [
       "   Age  Gender Marital Status Occupation  Monthly Income  \\\n",
       "0   20  Female         Single    Student       No Income   \n",
       "1   24  Female         Single    Student  Below Rs.10000   \n",
       "2   22    Male         Single    Student  Below Rs.10000   \n",
       "3   22  Female         Single    Student       No Income   \n",
       "4   22    Male         Single    Student  Below Rs.10000   \n",
       "\n",
       "  Educational Qualifications  Family size  latitude  longitude  Pin code  ...  \\\n",
       "0              Post Graduate            4   12.9766    77.5993    560001  ...   \n",
       "1                   Graduate            3   12.9770    77.5773    560009  ...   \n",
       "2              Post Graduate            3   12.9551    77.6593    560017  ...   \n",
       "3                   Graduate            6   12.9473    77.5616    560019  ...   \n",
       "4              Post Graduate            4   12.9850    77.5533    560010  ...   \n",
       "\n",
       "     Less Delivery time High Quality of package       Number of calls  \\\n",
       "0  Moderately Important    Moderately Important  Moderately Important   \n",
       "1        Very Important          Very Important        Very Important   \n",
       "2             Important          Very Important  Moderately Important   \n",
       "3        Very Important               Important  Moderately Important   \n",
       "4             Important               Important  Moderately Important   \n",
       "\n",
       "             Politeness            Freshness            Temperature  \\\n",
       "0  Moderately Important  Moderately Important  Moderately Important   \n",
       "1        Very Important        Very Important        Very Important   \n",
       "2        Very Important        Very Important             Important   \n",
       "3        Very Important        Very Important        Very Important   \n",
       "4             Important             Important             Important   \n",
       "\n",
       "            Good Taste          Good Quantity Output  \\\n",
       "0  Moderately Important  Moderately Important    Yes   \n",
       "1        Very Important        Very Important    Yes   \n",
       "2        Very Important  Moderately Important    Yes   \n",
       "3        Very Important             Important    Yes   \n",
       "4        Very Important        Very Important    Yes   \n",
       "\n",
       "                                             Reviews  \n",
       "0                                              Nil\\n  \n",
       "1                                                Nil  \n",
       "2  Many a times payment gateways are an issue, so...  \n",
       "3                                                nil  \n",
       "4                                                NIL  \n",
       "\n",
       "[5 rows x 55 columns]"
      ]
     },
     "execution_count": 12,
     "metadata": {},
     "output_type": "execute_result"
    }
   ],
   "source": [
    "fd_ori.head()"
   ]
  },
  {
   "cell_type": "code",
   "execution_count": 13,
   "metadata": {
    "ExecuteTime": {
     "end_time": "2021-02-22T03:48:21.602412Z",
     "start_time": "2021-02-22T03:48:21.508466Z"
    }
   },
   "outputs": [
    {
     "data": {
      "text/plain": [
       "Index(['Age', 'Gender', 'Marital Status', 'Occupation', 'Monthly Income',\n",
       "       'Educational Qualifications', 'Family size', 'latitude', 'longitude',\n",
       "       'Pin code', 'Medium (P1)', 'Medium (P2)', 'Meal(P1)', 'Meal(P2)',\n",
       "       'Perference(P1)', 'Perference(P2)', 'Ease and convenient',\n",
       "       'Time saving', 'More restaurant choices', 'Easy Payment option',\n",
       "       'More Offers and Discount', 'Good Food quality', 'Good Tracking system',\n",
       "       'Self Cooking', 'Health Concern', 'Late Delivery', 'Poor Hygiene',\n",
       "       'Bad past experience', 'Unavailability', 'Unaffordable',\n",
       "       'Long delivery time', 'Delay of delivery person getting assigned',\n",
       "       'Delay of delivery person picking up food', 'Wrong order delivered',\n",
       "       'Missing item', 'Order placed by mistake', 'Influence of time',\n",
       "       'Order Time', 'Maximum wait time', 'Residence in busy location',\n",
       "       'Google Maps Accuracy', 'Good Road Condition', 'Low quantity low time',\n",
       "       'Delivery person ability', 'Influence of rating', 'Less Delivery time',\n",
       "       'High Quality of package', 'Number of calls', 'Politeness',\n",
       "       'Freshness ', 'Temperature', 'Good Taste ', 'Good Quantity', 'Output',\n",
       "       'Reviews'],\n",
       "      dtype='object')"
      ]
     },
     "execution_count": 13,
     "metadata": {},
     "output_type": "execute_result"
    }
   ],
   "source": [
    "l1=(fd_ori.columns[:])\n",
    "l1"
   ]
  },
  {
   "cell_type": "code",
   "execution_count": 14,
   "metadata": {
    "ExecuteTime": {
     "end_time": "2021-02-22T03:48:21.762456Z",
     "start_time": "2021-02-22T03:48:21.605413Z"
    },
    "scrolled": true
   },
   "outputs": [
    {
     "name": "stdout",
     "output_type": "stream",
     "text": [
      "<class 'pandas.core.frame.DataFrame'>\n",
      "RangeIndex: 388 entries, 0 to 387\n",
      "Data columns (total 55 columns):\n",
      " #   Column                                     Non-Null Count  Dtype  \n",
      "---  ------                                     --------------  -----  \n",
      " 0   Age                                        388 non-null    int64  \n",
      " 1   Gender                                     388 non-null    int32  \n",
      " 2   Marital Status                             388 non-null    int32  \n",
      " 3   Occupation                                 388 non-null    int32  \n",
      " 4   Monthly Income                             388 non-null    int32  \n",
      " 5   Educational Qualifications                 388 non-null    int32  \n",
      " 6   Family size                                388 non-null    int64  \n",
      " 7   latitude                                   388 non-null    float64\n",
      " 8   longitude                                  388 non-null    float64\n",
      " 9   Pin code                                   388 non-null    int64  \n",
      " 10  Medium (P1)                                388 non-null    int32  \n",
      " 11  Medium (P2)                                388 non-null    int32  \n",
      " 12  Meal(P1)                                   388 non-null    int32  \n",
      " 13  Meal(P2)                                   388 non-null    int32  \n",
      " 14  Perference(P1)                             388 non-null    int32  \n",
      " 15  Perference(P2)                             388 non-null    int32  \n",
      " 16  Ease and convenient                        388 non-null    int32  \n",
      " 17  Time saving                                388 non-null    int32  \n",
      " 18  More restaurant choices                    388 non-null    int32  \n",
      " 19  Easy Payment option                        388 non-null    int32  \n",
      " 20  More Offers and Discount                   388 non-null    int32  \n",
      " 21  Good Food quality                          388 non-null    int32  \n",
      " 22  Good Tracking system                       388 non-null    int32  \n",
      " 23  Self Cooking                               388 non-null    int32  \n",
      " 24  Health Concern                             388 non-null    int32  \n",
      " 25  Late Delivery                              388 non-null    int32  \n",
      " 26  Poor Hygiene                               388 non-null    int32  \n",
      " 27  Bad past experience                        388 non-null    int32  \n",
      " 28  Unavailability                             388 non-null    int32  \n",
      " 29  Unaffordable                               388 non-null    int32  \n",
      " 30  Long delivery time                         388 non-null    int32  \n",
      " 31  Delay of delivery person getting assigned  388 non-null    int32  \n",
      " 32  Delay of delivery person picking up food   388 non-null    int32  \n",
      " 33  Wrong order delivered                      388 non-null    int32  \n",
      " 34  Missing item                               388 non-null    int32  \n",
      " 35  Order placed by mistake                    388 non-null    int32  \n",
      " 36  Influence of time                          388 non-null    int32  \n",
      " 37  Order Time                                 388 non-null    int32  \n",
      " 38  Maximum wait time                          388 non-null    int32  \n",
      " 39  Residence in busy location                 388 non-null    int32  \n",
      " 40  Google Maps Accuracy                       388 non-null    int32  \n",
      " 41  Good Road Condition                        388 non-null    int32  \n",
      " 42  Low quantity low time                      388 non-null    int32  \n",
      " 43  Delivery person ability                    388 non-null    int32  \n",
      " 44  Influence of rating                        388 non-null    int32  \n",
      " 45  Less Delivery time                         388 non-null    int32  \n",
      " 46  High Quality of package                    388 non-null    int32  \n",
      " 47  Number of calls                            388 non-null    int32  \n",
      " 48  Politeness                                 388 non-null    int32  \n",
      " 49  Freshness                                  388 non-null    int32  \n",
      " 50  Temperature                                388 non-null    int32  \n",
      " 51  Good Taste                                 388 non-null    int32  \n",
      " 52  Good Quantity                              388 non-null    int32  \n",
      " 53  Output                                     388 non-null    int32  \n",
      " 54  Reviews                                    388 non-null    int32  \n",
      "dtypes: float64(2), int32(50), int64(3)\n",
      "memory usage: 91.1 KB\n"
     ]
    }
   ],
   "source": [
    "fd_dlvry.info()"
   ]
  },
  {
   "cell_type": "code",
   "execution_count": 15,
   "metadata": {
    "ExecuteTime": {
     "end_time": "2021-02-22T03:48:21.912602Z",
     "start_time": "2021-02-22T03:48:21.765443Z"
    }
   },
   "outputs": [
    {
     "data": {
      "text/plain": [
       "Index(['Age', 'Gender', 'Marital Status', 'Occupation', 'Monthly Income',\n",
       "       'Educational Qualifications', 'Family size', 'latitude', 'longitude',\n",
       "       'Pin code', 'Medium (P1)', 'Medium (P2)', 'Meal(P1)', 'Meal(P2)',\n",
       "       'Perference(P1)', 'Perference(P2)', 'Ease and convenient',\n",
       "       'Time saving', 'More restaurant choices', 'Easy Payment option',\n",
       "       'More Offers and Discount', 'Good Food quality', 'Good Tracking system',\n",
       "       'Self Cooking', 'Health Concern', 'Late Delivery', 'Poor Hygiene',\n",
       "       'Bad past experience', 'Unavailability', 'Unaffordable',\n",
       "       'Long delivery time', 'Delay of delivery person getting assigned',\n",
       "       'Delay of delivery person picking up food', 'Wrong order delivered',\n",
       "       'Missing item', 'Order placed by mistake', 'Influence of time',\n",
       "       'Order Time', 'Maximum wait time', 'Residence in busy location',\n",
       "       'Google Maps Accuracy', 'Good Road Condition', 'Low quantity low time',\n",
       "       'Delivery person ability', 'Influence of rating', 'Less Delivery time',\n",
       "       'High Quality of package', 'Number of calls', 'Politeness',\n",
       "       'Freshness ', 'Temperature', 'Good Taste ', 'Good Quantity', 'Output'],\n",
       "      dtype='object')"
      ]
     },
     "execution_count": 15,
     "metadata": {},
     "output_type": "execute_result"
    }
   ],
   "source": [
    "df=fd_ori.drop('Reviews',axis=1) #drop reviews because it's take NLP in future i will try it\n",
    "df.columns"
   ]
  },
  {
   "cell_type": "code",
   "execution_count": null,
   "metadata": {},
   "outputs": [],
   "source": []
  },
  {
   "cell_type": "code",
   "execution_count": 16,
   "metadata": {
    "ExecuteTime": {
     "end_time": "2021-02-22T03:48:22.031522Z",
     "start_time": "2021-02-22T03:48:21.915583Z"
    }
   },
   "outputs": [],
   "source": [
    "%matplotlib inline"
   ]
  },
  {
   "cell_type": "code",
   "execution_count": 17,
   "metadata": {
    "ExecuteTime": {
     "end_time": "2021-02-22T03:48:22.284282Z",
     "start_time": "2021-02-22T03:48:22.034521Z"
    }
   },
   "outputs": [],
   "source": [
    "# we needs to back map for lable encoding \n",
    "lbl=dict()\n",
    "for i in fd_ori.columns:\n",
    "    if i not in  ['latitude','longitude','Pin code','Output','Reviews']:\n",
    "                  lbl[i]=dict(zip(fd_ori[i].unique(), fd_dlvry[i].unique()))\n",
    "    "
   ]
  },
  {
   "cell_type": "code",
   "execution_count": 18,
   "metadata": {
    "ExecuteTime": {
     "end_time": "2021-02-22T03:48:22.325915Z",
     "start_time": "2021-02-22T03:48:22.287243Z"
    },
    "scrolled": false
   },
   "outputs": [
    {
     "data": {
      "text/plain": [
       "{'Age': {20: 20,\n",
       "  24: 24,\n",
       "  22: 22,\n",
       "  27: 27,\n",
       "  23: 23,\n",
       "  21: 21,\n",
       "  28: 28,\n",
       "  25: 25,\n",
       "  32: 32,\n",
       "  30: 30,\n",
       "  31: 31,\n",
       "  26: 26,\n",
       "  18: 18,\n",
       "  19: 19,\n",
       "  33: 33,\n",
       "  29: 29},\n",
       " 'Gender': {'Female': 0, 'Male': 1},\n",
       " 'Marital Status': {'Single': 2, 'Married': 0, 'Prefer not to say': 1},\n",
       " 'Occupation': {'Student': 3,\n",
       "  'Employee': 0,\n",
       "  'Self Employeed': 2,\n",
       "  'House wife': 1},\n",
       " 'Monthly Income': {'No Income': 4,\n",
       "  'Below Rs.10000': 2,\n",
       "  'More than 50000': 3,\n",
       "  '10001 to 25000': 0,\n",
       "  '25001 to 50000': 1},\n",
       " 'Educational Qualifications': {'Post Graduate': 2,\n",
       "  'Graduate': 0,\n",
       "  'Ph.D': 1,\n",
       "  'Uneducated': 4,\n",
       "  'School': 3},\n",
       " 'Family size': {4: 4, 3: 3, 6: 6, 2: 2, 5: 5, 1: 1},\n",
       " 'Medium (P1)': {'Food delivery apps': 1,\n",
       "  'Walk-in': 2,\n",
       "  'Direct call': 0,\n",
       "  'Web browser': 3},\n",
       " 'Medium (P2)': {' Web browser': 2, ' Direct call': 0, ' Walk-in': 1},\n",
       " 'Meal(P1)': {'Breakfast': 0, 'Snacks': 3, 'Lunch': 2, 'Dinner': 1},\n",
       " 'Meal(P2)': {' Lunch': 1, ' Dinner': 0, ' Snacks': 2},\n",
       " 'Perference(P1)': {'Non Veg foods (Lunch / Dinner)': 1,\n",
       "  'Veg foods (Breakfast / Lunch / Dinner)': 3,\n",
       "  'Bakery items (snacks)': 0,\n",
       "  'Sweets': 2},\n",
       " 'Perference(P2)': {' Bakery items (snacks)': 0,\n",
       "  ' Veg foods (Breakfast / Lunch / Dinner)': 3,\n",
       "  ' Ice cream / Cool drinks': 1,\n",
       "  ' Sweets': 2},\n",
       " 'Ease and convenient': {'Neutral': 2,\n",
       "  'Strongly agree': 3,\n",
       "  'Agree': 0,\n",
       "  'Strongly disagree': 4,\n",
       "  'Disagree': 1},\n",
       " 'Time saving': {'Neutral': 2,\n",
       "  'Strongly agree': 3,\n",
       "  'Agree': 0,\n",
       "  'Disagree': 1,\n",
       "  'Strongly disagree': 4},\n",
       " 'More restaurant choices': {'Neutral': 2,\n",
       "  'Strongly agree': 3,\n",
       "  'Agree': 0,\n",
       "  'Strongly disagree': 4,\n",
       "  'Disagree': 1},\n",
       " 'Easy Payment option': {'Neutral': 2,\n",
       "  'Strongly agree': 3,\n",
       "  'Agree': 0,\n",
       "  'Disagree': 1,\n",
       "  'Strongly disagree': 4},\n",
       " 'More Offers and Discount': {'Neutral': 2,\n",
       "  'Strongly agree': 3,\n",
       "  'Agree': 0,\n",
       "  'Disagree': 1,\n",
       "  'Strongly disagree': 4},\n",
       " 'Good Food quality': {'Neutral': 2,\n",
       "  'Disagree': 1,\n",
       "  'Agree': 0,\n",
       "  'Strongly agree': 3,\n",
       "  'Strongly disagree': 4},\n",
       " 'Good Tracking system': {'Neutral': 2,\n",
       "  'Agree': 0,\n",
       "  'Strongly agree': 3,\n",
       "  'Disagree': 1,\n",
       "  'Strongly disagree': 4},\n",
       " 'Self Cooking': {'Neutral': 2,\n",
       "  'Strongly agree': 3,\n",
       "  'Disagree': 1,\n",
       "  'Agree': 0,\n",
       "  'Strongly disagree': 4},\n",
       " 'Health Concern': {'Neutral': 2,\n",
       "  'Strongly agree': 3,\n",
       "  'Agree': 0,\n",
       "  'Strongly disagree': 4,\n",
       "  'Disagree': 1},\n",
       " 'Late Delivery': {'Neutral': 2,\n",
       "  'Agree': 0,\n",
       "  'Strongly agree': 3,\n",
       "  'Disagree': 1,\n",
       "  'Strongly disagree': 4},\n",
       " 'Poor Hygiene': {'Neutral': 2,\n",
       "  'Strongly agree': 3,\n",
       "  'Agree': 0,\n",
       "  'Disagree': 1,\n",
       "  'Strongly disagree': 4},\n",
       " 'Bad past experience': {'Neutral': 2,\n",
       "  'Strongly agree': 3,\n",
       "  'Agree': 0,\n",
       "  'Disagree': 1,\n",
       "  'Strongly disagree': 4},\n",
       " 'Unavailability': {'Neutral': 2,\n",
       "  'Strongly agree': 3,\n",
       "  'Agree': 0,\n",
       "  'Disagree': 1,\n",
       "  'Strongly disagree': 4},\n",
       " 'Unaffordable': {'Neutral': 2,\n",
       "  'Strongly agree': 3,\n",
       "  'Agree': 0,\n",
       "  'Disagree': 1,\n",
       "  'Strongly disagree': 4},\n",
       " 'Long delivery time': {'Agree': 0,\n",
       "  'Strongly agree': 3,\n",
       "  'Neutral': 2,\n",
       "  'Disagree': 1,\n",
       "  'Strongly disagree': 4},\n",
       " 'Delay of delivery person getting assigned': {'Agree': 0,\n",
       "  'Strongly agree': 3,\n",
       "  'Disagree': 1,\n",
       "  'Neutral': 2,\n",
       "  'Strongly disagree': 4},\n",
       " 'Delay of delivery person picking up food': {'Agree': 0,\n",
       "  'Strongly agree': 3,\n",
       "  'Neutral': 2,\n",
       "  'Disagree': 1,\n",
       "  'Strongly disagree': 4},\n",
       " 'Wrong order delivered': {'Agree': 0,\n",
       "  'Strongly agree': 3,\n",
       "  'Disagree': 1,\n",
       "  'Neutral': 2,\n",
       "  'Strongly disagree': 4},\n",
       " 'Missing item': {'Agree': 0,\n",
       "  'Strongly agree': 3,\n",
       "  'Disagree': 1,\n",
       "  'Neutral': 2,\n",
       "  'Strongly disagree': 4},\n",
       " 'Order placed by mistake': {'Agree': 0,\n",
       "  'Strongly agree': 3,\n",
       "  'Neutral': 2,\n",
       "  'Disagree': 1,\n",
       "  'Strongly disagree': 4},\n",
       " 'Influence of time': {'Yes': 2, 'No': 1, 'Maybe': 0},\n",
       " 'Order Time': {'Weekend (Sat & Sun)': 2,\n",
       "  'Anytime (Mon-Sun)': 0,\n",
       "  'Weekdays (Mon-Fri)': 1},\n",
       " 'Maximum wait time': {'30 minutes': 1,\n",
       "  '45 minutes': 2,\n",
       "  '60 minutes': 3,\n",
       "  'More than 60 minutes': 4,\n",
       "  '15 minutes': 0},\n",
       " 'Residence in busy location': {'Agree': 0,\n",
       "  'Strongly Agree': 3,\n",
       "  'Disagree': 1,\n",
       "  'Neutral': 2,\n",
       "  'Strongly disagree': 4},\n",
       " 'Google Maps Accuracy': {'Neutral': 2,\n",
       "  'Strongly Agree': 3,\n",
       "  'Agree': 0,\n",
       "  'Disagree': 1,\n",
       "  'Strongly disagree': 4},\n",
       " 'Good Road Condition': {'Neutral': 2,\n",
       "  'Disagree': 1,\n",
       "  'Agree': 0,\n",
       "  'Strongly Agree': 3,\n",
       "  'Strongly disagree': 4},\n",
       " 'Low quantity low time': {'Neutral': 2,\n",
       "  'Strongly disagree': 4,\n",
       "  'Agree': 0,\n",
       "  'Disagree': 1,\n",
       "  'Strongly Agree': 3},\n",
       " 'Delivery person ability': {'Neutral': 2,\n",
       "  'Agree': 0,\n",
       "  'Strongly Agree': 3,\n",
       "  'Disagree': 1,\n",
       "  'Strongly disagree': 4},\n",
       " 'Influence of rating': {'Yes': 2, 'Maybe': 0, 'No': 1},\n",
       " 'Less Delivery time': {'Moderately Important': 1,\n",
       "  'Very Important': 4,\n",
       "  'Important': 0,\n",
       "  'Slightly Important': 2,\n",
       "  'Unimportant': 3},\n",
       " 'High Quality of package': {'Moderately Important': 1,\n",
       "  'Very Important': 4,\n",
       "  'Important': 0,\n",
       "  'Unimportant': 3,\n",
       "  'Slightly Important': 2},\n",
       " 'Number of calls': {'Moderately Important': 1,\n",
       "  'Very Important': 4,\n",
       "  'Unimportant': 3,\n",
       "  'Important': 0,\n",
       "  'Slightly Important': 2},\n",
       " 'Politeness': {'Moderately Important': 1,\n",
       "  'Very Important': 4,\n",
       "  'Important': 0,\n",
       "  'Slightly Important': 2,\n",
       "  'Unimportant': 3},\n",
       " 'Freshness ': {'Moderately Important': 1,\n",
       "  'Very Important': 4,\n",
       "  'Important': 0,\n",
       "  'Slightly Important': 2,\n",
       "  'Unimportant': 3},\n",
       " 'Temperature': {'Moderately Important': 1,\n",
       "  'Very Important': 4,\n",
       "  'Important': 0,\n",
       "  'Slightly Important': 2,\n",
       "  'Unimportant': 3},\n",
       " 'Good Taste ': {'Moderately Important': 1,\n",
       "  'Very Important': 4,\n",
       "  'Important': 0,\n",
       "  'Slightly Important': 2,\n",
       "  'Unimportant': 3},\n",
       " 'Good Quantity': {'Moderately Important': 1,\n",
       "  'Very Important': 4,\n",
       "  'Important': 0,\n",
       "  'Slightly Important': 2,\n",
       "  'Unimportant': 3}}"
      ]
     },
     "execution_count": 18,
     "metadata": {},
     "output_type": "execute_result"
    }
   ],
   "source": [
    "lbl"
   ]
  },
  {
   "cell_type": "code",
   "execution_count": 19,
   "metadata": {
    "ExecuteTime": {
     "end_time": "2021-02-22T03:48:22.439025Z",
     "start_time": "2021-02-22T03:48:22.328895Z"
    },
    "code_folding": []
   },
   "outputs": [],
   "source": [
    "# practice chi-squared test\n",
    "# df=pd.crosstab(fd_ori['Meal(P1)'],fd_ori['Occupation'])\n",
    "# df\n",
    "\n",
    "# stat, p, dof, expected = st.chi2_contingency(df,correction=True)\n",
    "# stat, p, dof, expected\n",
    "\n",
    "\n"
   ]
  },
  {
   "cell_type": "markdown",
   "metadata": {},
   "source": [
    "#  method 1: Feature selection by phi coefficient"
   ]
  },
  {
   "cell_type": "code",
   "execution_count": 20,
   "metadata": {
    "ExecuteTime": {
     "end_time": "2021-02-22T03:48:24.136165Z",
     "start_time": "2021-02-22T03:48:22.442005Z"
    },
    "scrolled": true
   },
   "outputs": [
    {
     "data": {
      "text/plain": [
       "{'Output': [('Age', 0.41916612670006054),\n",
       "  ('Ease and convenient', 0.6944483749782563),\n",
       "  ('Time saving', 0.6333333550979008),\n",
       "  ('More restaurant choices', 0.5897138785369491),\n",
       "  ('Easy Payment option', 0.5571767618313485),\n",
       "  ('More Offers and Discount', 0.5564505912203883),\n",
       "  ('Good Food quality', 0.4243449172824401),\n",
       "  ('Good Tracking system', 0.41749280981704445),\n",
       "  ('Unaffordable', 0.40917014994986045),\n",
       "  ('Maximum wait time', 0.4135981980209824)]}"
      ]
     },
     "execution_count": 20,
     "metadata": {},
     "output_type": "execute_result"
    }
   ],
   "source": [
    "#phi perform for find relation between \n",
    "crv={}\n",
    "l1=[]\n",
    "for i in fd_ori.columns:\n",
    "    if i not in  ['latitude','longitude','Pin code','Output','Reviews']:\n",
    "        '''we are not using lat and long because in EDA all location diffrent (reference dtale lib)'''\n",
    "        df=pd.crosstab(fd_ori['Output'],fd_ori[i])\n",
    "        stat, p, dof, expected = st.chi2_contingency(df,correction=True)\n",
    "     \n",
    "        deno=sum(df.sum())\n",
    "        x=numpy.sqrt(stat / deno)\n",
    "        if(x>0.40): #thresold\n",
    "             l1.append((i,x))\n",
    "\n",
    "\n",
    "crv['Output']=l1\n",
    "        \n",
    "crv"
   ]
  },
  {
   "cell_type": "code",
   "execution_count": 21,
   "metadata": {
    "ExecuteTime": {
     "end_time": "2021-02-22T03:48:24.151155Z",
     "start_time": "2021-02-22T03:48:24.140158Z"
    },
    "code_folding": []
   },
   "outputs": [
    {
     "data": {
      "text/plain": [
       "['Age',\n",
       " 'Ease and convenient',\n",
       " 'Time saving',\n",
       " 'More restaurant choices',\n",
       " 'Easy Payment option',\n",
       " 'More Offers and Discount',\n",
       " 'Good Food quality',\n",
       " 'Good Tracking system',\n",
       " 'Unaffordable',\n",
       " 'Maximum wait time']"
      ]
     },
     "execution_count": 21,
     "metadata": {},
     "output_type": "execute_result"
    }
   ],
   "source": [
    "#Extract the feature from above dictionary \n",
    "basic_f0=[]\n",
    "for i in l1:\n",
    "    basic_f0.append(i[0])\n",
    "\n",
    "basic_f0"
   ]
  },
  {
   "cell_type": "code",
   "execution_count": 22,
   "metadata": {
    "ExecuteTime": {
     "end_time": "2021-02-22T03:48:24.333066Z",
     "start_time": "2021-02-22T03:48:24.155153Z"
    }
   },
   "outputs": [],
   "source": [
    "X=fd_dlvry[basic_f0] # select X \n",
    "y=fd_dlvry['Output'] # select Y\n"
   ]
  },
  {
   "cell_type": "code",
   "execution_count": 23,
   "metadata": {
    "ExecuteTime": {
     "end_time": "2021-02-22T03:48:24.472966Z",
     "start_time": "2021-02-22T03:48:24.342044Z"
    }
   },
   "outputs": [],
   "source": [
    "%matplotlib inline"
   ]
  },
  {
   "cell_type": "code",
   "execution_count": 24,
   "metadata": {
    "ExecuteTime": {
     "end_time": "2021-02-22T03:48:24.596897Z",
     "start_time": "2021-02-22T03:48:24.480962Z"
    },
    "scrolled": true
   },
   "outputs": [
    {
     "data": {
      "text/plain": [
       "['Age',\n",
       " 'Ease and convenient',\n",
       " 'Time saving',\n",
       " 'More restaurant choices',\n",
       " 'Easy Payment option',\n",
       " 'More Offers and Discount',\n",
       " 'Good Food quality',\n",
       " 'Good Tracking system',\n",
       " 'Unaffordable',\n",
       " 'Maximum wait time']"
      ]
     },
     "execution_count": 24,
     "metadata": {},
     "output_type": "execute_result"
    }
   ],
   "source": [
    "basic_f0"
   ]
  },
  {
   "cell_type": "code",
   "execution_count": 25,
   "metadata": {
    "ExecuteTime": {
     "end_time": "2021-02-22T03:48:25.326622Z",
     "start_time": "2021-02-22T03:48:24.600896Z"
    },
    "scrolled": true
   },
   "outputs": [
    {
     "data": {
      "text/plain": [
       "<AxesSubplot:xlabel='Output', ylabel='count'>"
      ]
     },
     "execution_count": 25,
     "metadata": {},
     "output_type": "execute_result"
    },
    {
     "data": {
      "image/png": "[encoded data removed]",
      "text/plain": [
       "<Figure size 432x288 with 1 Axes>"
      ]
     },
     "metadata": {
      "needs_background": "light"
     },
     "output_type": "display_data"
    }
   ],
   "source": [
    "sns.countplot(fd_ori['Output']) # look target feature"
   ]
  },
  {
   "cell_type": "markdown",
   "metadata": {
    "ExecuteTime": {
     "end_time": "2020-12-19T04:21:54.351232Z",
     "start_time": "2020-12-19T04:21:54.343232Z"
    }
   },
   "source": [
    "#  KNN Algorithm  "
   ]
  },
  {
   "cell_type": "code",
   "execution_count": 26,
   "metadata": {
    "ExecuteTime": {
     "end_time": "2021-02-22T03:48:25.354610Z",
     "start_time": "2021-02-22T03:48:25.329622Z"
    }
   },
   "outputs": [],
   "source": [
    "# train_test_split by sklearn \n",
    "X=fd_dlvry[basic_f0]\n",
    "y=fd_dlvry['Output']\n",
    "# from imblearn.under_sampling import NearMiss\n",
    "# nm=NearMiss()\n",
    "# Make data balanced\n",
    "from imblearn.over_sampling import RandomOverSampler\n",
    "nm=RandomOverSampler(0.5)\n",
    "X,y=nm.fit_sample(X,y)\n",
    "X_train, X_test, y_train, y_test = train_test_split(X, y, test_size = 0.33)"
   ]
  },
  {
   "cell_type": "code",
   "execution_count": 27,
   "metadata": {
    "ExecuteTime": {
     "end_time": "2021-02-22T03:48:25.451027Z",
     "start_time": "2021-02-22T03:48:25.357604Z"
    }
   },
   "outputs": [
    {
     "data": {
      "text/plain": [
       "1    301\n",
       "0     87\n",
       "Name: Output, dtype: int64"
      ]
     },
     "execution_count": 27,
     "metadata": {},
     "output_type": "execute_result"
    }
   ],
   "source": [
    "fd_dlvry['Output'].value_counts()"
   ]
  },
  {
   "cell_type": "code",
   "execution_count": 28,
   "metadata": {
    "ExecuteTime": {
     "end_time": "2021-02-22T03:48:25.595072Z",
     "start_time": "2021-02-22T03:48:25.454011Z"
    }
   },
   "outputs": [
    {
     "data": {
      "text/plain": [
       "((451, 10), (451,))"
      ]
     },
     "execution_count": 28,
     "metadata": {},
     "output_type": "execute_result"
    }
   ],
   "source": [
    "X.shape,y.shape"
   ]
  },
  {
   "cell_type": "code",
   "execution_count": 29,
   "metadata": {
    "ExecuteTime": {
     "end_time": "2021-02-22T03:48:26.576503Z",
     "start_time": "2021-02-22T03:48:25.599062Z"
    }
   },
   "outputs": [
    {
     "data": {
      "image/png": "[encoded data removed]",
      "text/plain": [
       "<Figure size 432x288 with 1 Axes>"
      ]
     },
     "metadata": {
      "needs_background": "light"
     },
     "output_type": "display_data"
    }
   ],
   "source": [
    "#select best knneighbour find \n",
    "plt.figure()\n",
    "training_accuracy = []\n",
    "test_accuracy = []\n",
    "# try n_neighbors from 1 to 10\n",
    "neighbors_settings = range(1, 11)\n",
    "for i in neighbors_settings:\n",
    "    clf = KNeighborsClassifier(n_neighbors=i)\n",
    "    clf.fit(X_train, y_train)\n",
    "    training_accuracy.append(clf.score(X_train, y_train))\n",
    "    # record generalization accuracy\n",
    "    test_accuracy.append(clf.score(X_test, y_test))\n",
    "plt.plot(neighbors_settings,training_accuracy,label=\"training accuracy\")\n",
    "plt.plot(neighbors_settings,test_accuracy,label=\"test accuracy\")\n",
    "plt.ylabel(\"Accuracy\")\n",
    "plt.xlabel(\"n_neighbors\")\n",
    "plt.legend()\n",
    "\n",
    "plt.show()"
   ]
  },
  {
   "cell_type": "code",
   "execution_count": 30,
   "metadata": {
    "ExecuteTime": {
     "end_time": "2021-02-22T03:48:27.722849Z",
     "start_time": "2021-02-22T03:48:26.580502Z"
    }
   },
   "outputs": [
    {
     "data": {
      "image/png": "[encoded data removed]",
      "text/plain": [
       "<Figure size 432x288 with 1 Axes>"
      ]
     },
     "metadata": {
      "needs_background": "light"
     },
     "output_type": "display_data"
    }
   ],
   "source": [
    "# appropriate test size find \n",
    "plt.figure()\n",
    "training_accuracy = []\n",
    "test_accuracy = []\n",
    "# try n_neighbors from 1 to 10\n",
    "test_size= numpy.arange(0.1, 0.9,0.05)\n",
    "knn = KNeighborsClassifier(n_neighbors = 3,p=1)\n",
    "for i in test_size:\n",
    "    \n",
    "        X_train, X_test, y_train, y_test = train_test_split(X, y, test_size = i)\n",
    "        knn.fit(X_train, y_train)\n",
    "        training_accuracy.append(knn.score(X_test, y_test))\n",
    "        test_accuracy.append(knn.score(X_train, y_train))\n",
    "  \n",
    "\n",
    "    \n",
    "plt.plot(test_size,training_accuracy,label=\"training accuracy\")\n",
    "plt.plot(test_size,test_accuracy,label=\"test accuracy\")\n",
    "plt.ylabel(\"Accuracy\")\n",
    "plt.xlabel(\"test_size\")\n",
    "plt.legend()\n",
    "\n",
    "plt.show()"
   ]
  },
  {
   "cell_type": "code",
   "execution_count": 31,
   "metadata": {
    "ExecuteTime": {
     "end_time": "2021-02-22T03:48:27.734840Z",
     "start_time": "2021-02-22T03:48:27.726848Z"
    }
   },
   "outputs": [],
   "source": [
    "#split data\n",
    "X_train,X_test,y_train,y_test=train_test_split(X,y,test_size=0.25)"
   ]
  },
  {
   "cell_type": "code",
   "execution_count": 32,
   "metadata": {
    "ExecuteTime": {
     "end_time": "2021-02-22T03:48:27.911737Z",
     "start_time": "2021-02-22T03:48:27.738843Z"
    }
   },
   "outputs": [
    {
     "data": {
      "text/plain": [
       "0.8584070796460177"
      ]
     },
     "execution_count": 32,
     "metadata": {},
     "output_type": "execute_result"
    }
   ],
   "source": [
    "# fit data and perform the knn algo\n",
    "neigh = KNeighborsClassifier(n_neighbors=5,p=1)\n",
    "\n",
    "knn=neigh.fit(X_train,y_train)\n",
    "\n",
    "knn.score(X_test,y_test)\n"
   ]
  },
  {
   "cell_type": "code",
   "execution_count": 33,
   "metadata": {
    "ExecuteTime": {
     "end_time": "2021-02-22T03:48:28.026676Z",
     "start_time": "2021-02-22T03:48:27.915738Z"
    }
   },
   "outputs": [],
   "source": [
    "#y_pred for confusion matrix\n",
    "y_pred=knn.predict(X_test)"
   ]
  },
  {
   "cell_type": "code",
   "execution_count": 34,
   "metadata": {
    "ExecuteTime": {
     "end_time": "2021-02-22T03:48:28.138611Z",
     "start_time": "2021-02-22T03:48:28.030670Z"
    }
   },
   "outputs": [
    {
     "data": {
      "text/plain": [
       "array([[26, 10],\n",
       "       [ 6, 71]], dtype=int64)"
      ]
     },
     "execution_count": 34,
     "metadata": {},
     "output_type": "execute_result"
    }
   ],
   "source": [
    "#confusion matrix \n",
    "cf_matrix_n=confusion_matrix(y_test, y_pred)\n",
    "cf_matrix_n"
   ]
  },
  {
   "cell_type": "code",
   "execution_count": 35,
   "metadata": {
    "ExecuteTime": {
     "end_time": "2021-02-22T03:48:28.272343Z",
     "start_time": "2021-02-22T03:48:28.142606Z"
    },
    "scrolled": false
   },
   "outputs": [
    {
     "name": "stdout",
     "output_type": "stream",
     "text": [
      "              precision    recall  f1-score   support\n",
      "\n",
      "           0       0.81      0.72      0.76        36\n",
      "           1       0.88      0.92      0.90        77\n",
      "\n",
      "    accuracy                           0.86       113\n",
      "   macro avg       0.84      0.82      0.83       113\n",
      "weighted avg       0.86      0.86      0.86       113\n",
      "\n"
     ]
    }
   ],
   "source": [
    "#classification report \n",
    "print(classification_report(y_test,y_pred))"
   ]
  },
  {
   "cell_type": "code",
   "execution_count": 36,
   "metadata": {
    "ExecuteTime": {
     "end_time": "2021-02-22T03:48:28.836066Z",
     "start_time": "2021-02-22T03:48:28.275323Z"
    }
   },
   "outputs": [
    {
     "data": {
      "image/png": "[encoded data removed]",
      "text/plain": [
       "<Figure size 432x288 with 1 Axes>"
      ]
     },
     "metadata": {
      "needs_background": "light"
     },
     "output_type": "display_data"
    }
   ],
   "source": [
    "from sklearn.metrics import roc_curve\n",
    "fpr, tpr, thresholds=roc_curve(y_test, y_pred)\n",
    "AUC=round(metrics.auc(fpr, tpr),2)\n",
    "\n",
    "plt.plot([0,1], [0,1], linestyle='--', label='No Skill')\n",
    "plt.plot(fpr, tpr, marker='.', label=f'knn AUC={AUC}')\n",
    "# axis labels\n",
    "plt.xlabel('False Positive Rate')\n",
    "plt.ylabel('True Positive Rate')\n",
    "plt.legend()\n",
    "# show the plot\n",
    "plt.show()\n"
   ]
  },
  {
   "cell_type": "markdown",
   "metadata": {
    "ExecuteTime": {
     "end_time": "2020-12-19T04:23:45.286574Z",
     "start_time": "2020-12-19T04:23:45.278579Z"
    }
   },
   "source": [
    "<b> Conclusion: </b>"
   ]
  },
  {
   "cell_type": "code",
   "execution_count": 37,
   "metadata": {
    "ExecuteTime": {
     "end_time": "2021-02-22T03:48:28.849055Z",
     "start_time": "2021-02-22T03:48:28.840061Z"
    }
   },
   "outputs": [
    {
     "data": {
      "text/plain": [
       "'Here weighted avg f1-score is good and AUC is greate but problems here Knn is not learning something\\nknn just use more memory space for perform operation and mostly features are categorical so noise affect\\non this algorithms\\n'"
      ]
     },
     "execution_count": 37,
     "metadata": {},
     "output_type": "execute_result"
    }
   ],
   "source": [
    "'''Here weighted avg f1-score is good and AUC is greate but problems here Knn is not learning something\n",
    "knn just use more memory space for perform operation and mostly features are categorical so noise affect\n",
    "on this algorithms\n",
    "'''"
   ]
  },
  {
   "cell_type": "markdown",
   "metadata": {
    "ExecuteTime": {
     "end_time": "2020-12-30T12:59:28.745150Z",
     "start_time": "2020-12-30T12:59:28.737155Z"
    }
   },
   "source": [
    "<b> Cross-Validation </b>"
   ]
  },
  {
   "cell_type": "code",
   "execution_count": 38,
   "metadata": {
    "ExecuteTime": {
     "end_time": "2021-02-22T03:48:29.136891Z",
     "start_time": "2021-02-22T03:48:28.853053Z"
    }
   },
   "outputs": [
    {
     "name": "stdout",
     "output_type": "stream",
     "text": [
      "mean:=0.9027975343764817 std :0.05686516102725065\n"
     ]
    }
   ],
   "source": [
    "#without StratifiedKFold \n",
    "Knn=KNeighborsClassifier(n_neighbors=5,p=1)\n",
    "score=cross_val_score(knn,X,y,cv=12)\n",
    "print(\"mean:=\"+str(score.mean()),\"std :\"+str(score.std()))"
   ]
  },
  {
   "cell_type": "code",
   "execution_count": 39,
   "metadata": {
    "ExecuteTime": {
     "end_time": "2021-02-22T03:48:29.366760Z",
     "start_time": "2021-02-22T03:48:29.139889Z"
    }
   },
   "outputs": [
    {
     "name": "stdout",
     "output_type": "stream",
     "text": [
      "List of possible accuracy: [0.9210526315789473, 0.7894736842105263, 0.9210526315789473, 0.868421052631579, 0.9473684210526315, 0.8421052631578947, 0.9210526315789473, 0.9459459459459459, 0.918918918918919, 0.9459459459459459, 0.8648648648648649, 0.8648648648648649]\n",
      "\n",
      "Maximum Accuracy That can be obtained from this model is: 94.73684210526315 %\n",
      "\n",
      "Minimum Accuracy: 78.94736842105263 %\n",
      "\n",
      "Average Accuracy That can be obtained from this model is:: 0.8959222380275013\n",
      "\n",
      "Standard Deviation is: 0.04742354133708013\n"
     ]
    }
   ],
   "source": [
    "#with StratifiedKFold \n",
    "import numpy as np\n",
    "from sklearn.model_selection import StratifiedKFold \n",
    "skf = StratifiedKFold(n_splits=12, shuffle=True, random_state=1) \n",
    "lst_accu_stratified = [] \n",
    "\n",
    "for train_index, test_index in skf.split(X, y): \n",
    "    x_train_fold, x_test_fold = X.loc[train_index,:], X.loc[test_index,:] \n",
    "    y_train_fold, y_test_fold = y[train_index], y[test_index] \n",
    "    knn.fit(x_train_fold, y_train_fold) \n",
    "    lst_accu_stratified.append(knn.score(x_test_fold, y_test_fold))\n",
    "    \n",
    "    \n",
    "print('List of possible accuracy:', lst_accu_stratified) \n",
    "print('\\nMaximum Accuracy That can be obtained from this model is:', \n",
    "      max(lst_accu_stratified)*100, '%') \n",
    "print('\\nMinimum Accuracy:', \n",
    "      min(lst_accu_stratified)*100, '%') \n",
    "print('\\nAverage Accuracy That can be obtained from this model is::',np.mean(lst_accu_stratified)) \n",
    "print('\\nStandard Deviation is:',np.std(lst_accu_stratified)) "
   ]
  },
  {
   "cell_type": "markdown",
   "metadata": {},
   "source": [
    "# method 2: feature selection using SelectKBest"
   ]
  },
  {
   "cell_type": "code",
   "execution_count": 40,
   "metadata": {
    "ExecuteTime": {
     "end_time": "2021-02-22T03:48:29.598645Z",
     "start_time": "2021-02-22T03:48:29.371756Z"
    }
   },
   "outputs": [],
   "source": [
    "from sklearn.feature_selection import SelectKBest\n",
    "from sklearn.feature_selection import chi2,mutual_info_classif"
   ]
  },
  {
   "cell_type": "code",
   "execution_count": 41,
   "metadata": {
    "ExecuteTime": {
     "end_time": "2021-02-22T03:48:29.611621Z",
     "start_time": "2021-02-22T03:48:29.602624Z"
    }
   },
   "outputs": [],
   "source": [
    "def select_features(X_train, y_train, X_test):\n",
    "    fs = SelectKBest(score_func=chi2, k='all')\n",
    "    fs.fit(X_train, y_train)\n",
    "    X_train_fs = fs.transform(X_train)\n",
    "    X_test_fs = fs.transform(X_test)\n",
    "    return X_train_fs, X_test_fs, fs"
   ]
  },
  {
   "cell_type": "code",
   "execution_count": 42,
   "metadata": {
    "ExecuteTime": {
     "end_time": "2021-02-22T03:48:29.765531Z",
     "start_time": "2021-02-22T03:48:29.615619Z"
    }
   },
   "outputs": [
    {
     "data": {
      "text/plain": [
       "(451, 50)"
      ]
     },
     "execution_count": 42,
     "metadata": {},
     "output_type": "execute_result"
    }
   ],
   "source": [
    "#select feature \n",
    "l1=['latitude','longitude','Pin code','Output','Reviews']\n",
    "X=fd_dlvry[fd_dlvry.columns[~fd_dlvry.columns.isin(l1)]]\n",
    "y=fd_dlvry['Output']\n",
    "nm=RandomOverSampler(0.5)\n",
    "X,y=nm.fit_sample(X,y)\n",
    "X.shape"
   ]
  },
  {
   "cell_type": "code",
   "execution_count": 43,
   "metadata": {
    "ExecuteTime": {
     "end_time": "2021-02-22T03:48:29.954032Z",
     "start_time": "2021-02-22T03:48:29.769528Z"
    }
   },
   "outputs": [],
   "source": [
    "X_train, X_test, y_train, y_test = train_test_split(X, y, test_size=0.33, random_state=1)"
   ]
  },
  {
   "cell_type": "code",
   "execution_count": 44,
   "metadata": {
    "ExecuteTime": {
     "end_time": "2021-02-22T03:48:30.472252Z",
     "start_time": "2021-02-22T03:48:29.956994Z"
    }
   },
   "outputs": [
    {
     "name": "stdout",
     "output_type": "stream",
     "text": [
      "Feature 0: 11.842973\n",
      "Feature 1: 0.246858\n",
      "Feature 2: 20.769452\n",
      "Feature 3: 30.514774\n",
      "Feature 4: 17.994555\n",
      "Feature 5: 12.612822\n",
      "Feature 6: 0.467535\n",
      "Feature 7: 0.191377\n",
      "Feature 8: 0.868414\n",
      "Feature 9: 0.601921\n",
      "Feature 10: 0.859552\n",
      "Feature 11: 4.014986\n",
      "Feature 12: 0.021972\n",
      "Feature 13: 1.996571\n",
      "Feature 14: 1.793446\n",
      "Feature 15: 1.125728\n",
      "Feature 16: 6.779153\n",
      "Feature 17: 4.009424\n",
      "Feature 18: 4.232827\n",
      "Feature 19: 0.802484\n",
      "Feature 20: 47.266003\n",
      "Feature 21: 13.710051\n",
      "Feature 22: 17.512916\n",
      "Feature 23: 0.000004\n",
      "Feature 24: 17.878026\n",
      "Feature 25: 10.395570\n",
      "Feature 26: 24.008632\n",
      "Feature 27: 3.133473\n",
      "Feature 28: 1.632717\n",
      "Feature 29: 22.120476\n",
      "Feature 30: 3.689462\n",
      "Feature 31: 0.315671\n",
      "Feature 32: 4.988135\n",
      "Feature 33: 0.371258\n",
      "Feature 34: 7.922298\n",
      "Feature 35: 18.402377\n",
      "Feature 36: 10.931482\n",
      "Feature 37: 7.265941\n",
      "Feature 38: 1.431049\n",
      "Feature 39: 8.809431\n",
      "Feature 40: 0.241595\n",
      "Feature 41: 0.121579\n",
      "Feature 42: 2.221359\n",
      "Feature 43: 0.687886\n",
      "Feature 44: 1.891763\n",
      "Feature 45: 16.432237\n",
      "Feature 46: 9.792326\n",
      "Feature 47: 4.681633\n",
      "Feature 48: 7.311907\n",
      "Feature 49: 0.000909\n"
     ]
    },
    {
     "data": {
      "image/png": "[encoded data removed]",
      "text/plain": [
       "<Figure size 432x288 with 1 Axes>"
      ]
     },
     "metadata": {
      "needs_background": "light"
     },
     "output_type": "display_data"
    }
   ],
   "source": [
    "X_train_fs, X_test_fs, fs = select_features(X_train, y_train, X_test)\n",
    "for i in range(len(fs.scores_)):\n",
    "     print('Feature %d: %f' % (i, fs.scores_[i]))\n",
    "# plot the scores\n",
    "plt.bar([i for i in range(len(fs.scores_))], fs.scores_)\n",
    "\n",
    "plt.show()"
   ]
  },
  {
   "cell_type": "code",
   "execution_count": null,
   "metadata": {},
   "outputs": [],
   "source": []
  },
  {
   "cell_type": "code",
   "execution_count": 45,
   "metadata": {
    "ExecuteTime": {
     "end_time": "2021-02-22T03:48:30.485228Z",
     "start_time": "2021-02-22T03:48:30.475232Z"
    },
    "scrolled": true
   },
   "outputs": [
    {
     "name": "stdout",
     "output_type": "stream",
     "text": [
      "Age\n",
      "Marital Status\n",
      "Occupation\n",
      "Monthly Income\n",
      "Educational Qualifications\n",
      "Self Cooking\n",
      "Health Concern\n",
      "Late Delivery\n",
      "Bad past experience\n",
      "Unavailability\n",
      "Unaffordable\n",
      "Delay of delivery person picking up food\n",
      "Maximum wait time\n",
      "Residence in busy location\n",
      "Politeness\n"
     ]
    }
   ],
   "source": [
    "# Extract feature \n",
    "basic_f1=[]\n",
    "for i in range(len(fs.scores_)):\n",
    "    if(fs.scores_[i]>10): # set Thresold\n",
    "        print(X_test.columns[i])\n",
    "        basic_f1.append(X_test.columns[i])"
   ]
  },
  {
   "cell_type": "markdown",
   "metadata": {},
   "source": [
    "# KNN Algorithm "
   ]
  },
  {
   "cell_type": "code",
   "execution_count": 46,
   "metadata": {
    "ExecuteTime": {
     "end_time": "2021-02-22T03:48:30.683336Z",
     "start_time": "2021-02-22T03:48:30.492222Z"
    }
   },
   "outputs": [],
   "source": [
    "X=fd_dlvry[basic_f1]\n",
    "y=fd_dlvry['Output']\n",
    "\n",
    "nm=RandomOverSampler()\n",
    "X,y=nm.fit_sample(X,y)"
   ]
  },
  {
   "cell_type": "code",
   "execution_count": 47,
   "metadata": {
    "ExecuteTime": {
     "end_time": "2021-02-22T03:48:30.921180Z",
     "start_time": "2021-02-22T03:48:30.686315Z"
    }
   },
   "outputs": [
    {
     "data": {
      "text/plain": [
       "(602, 15)"
      ]
     },
     "execution_count": 47,
     "metadata": {},
     "output_type": "execute_result"
    }
   ],
   "source": [
    "X.shape"
   ]
  },
  {
   "cell_type": "code",
   "execution_count": 48,
   "metadata": {
    "ExecuteTime": {
     "end_time": "2021-02-22T03:48:32.159471Z",
     "start_time": "2021-02-22T03:48:30.925178Z"
    },
    "code_folding": []
   },
   "outputs": [
    {
     "data": {
      "image/png": "[encoded data removed]",
      "text/plain": [
       "<Figure size 432x288 with 1 Axes>"
      ]
     },
     "metadata": {
      "needs_background": "light"
     },
     "output_type": "display_data"
    }
   ],
   "source": [
    "#neighbour find \n",
    "plt.figure()\n",
    "training_accuracy = []\n",
    "test_accuracy = []\n",
    "# try n_neighbors from 1 to 10\n",
    "neighbors_settings = range(1, 11)\n",
    "for i in neighbors_settings:\n",
    "    clf = KNeighborsClassifier(n_neighbors=i,p=1)\n",
    "    clf.fit(X_train, y_train)\n",
    "    training_accuracy.append(clf.score(X_train, y_train))\n",
    "    # record generalization accuracy\n",
    "    test_accuracy.append(clf.score(X_test, y_test))\n",
    "plt.plot(neighbors_settings,training_accuracy,label=\"training accuracy\")\n",
    "plt.plot(neighbors_settings,test_accuracy,label=\"test accuracy\")\n",
    "plt.ylabel(\"Accuracy\")\n",
    "plt.xlabel(\"n_neighbors\")\n",
    "plt.legend()\n",
    "\n",
    "plt.show()"
   ]
  },
  {
   "cell_type": "code",
   "execution_count": 49,
   "metadata": {
    "ExecuteTime": {
     "end_time": "2021-02-22T03:48:32.170467Z",
     "start_time": "2021-02-22T03:48:32.163468Z"
    },
    "code_folding": [
     0
    ]
   },
   "outputs": [],
   "source": [
    "# here some Extra work it's take long time to running\n",
    "# plt.figure()\n",
    "# training_accuracy = []\n",
    "# test_accuracy = []\n",
    "# # try n_neighbors from 1 to 10\n",
    "# test_size= numpy.arange(0.1, 0.9,0.05)\n",
    "# knn = KNeighborsClassifier(n_neighbors = 3)\n",
    "# for i in test_size:\n",
    "    \n",
    "    \n",
    "#     test_score = []\n",
    "#     train_score=[]\n",
    "#     for j in range(1,1000):\n",
    "#         X_train, X_test, y_train, y_test = train_test_split(X, y, test_size = i,random_state=6)\n",
    "#         knn.fit(X_train, y_train)\n",
    "#         test_score.append(knn.score(X_test, y_test))\n",
    "#         train_score.append(knn.score(X_train, y_train))\n",
    "  \n",
    "\n",
    "       \n",
    "#     training_accuracy.append(np.mean(train_score))\n",
    "#     # record generalization accuracy\n",
    "#     test_accuracy.append(np.mean(test_score))\n",
    "\n",
    "# plt.plot(test_size,training_accuracy,label=\"training accuracy\")\n",
    "# plt.plot(test_size,test_accuracy,label=\"test accuracy\")\n",
    "# plt.ylabel(\"Accuracy\")\n",
    "# plt.xlabel(\"test_size\")\n",
    "# plt.legend()\n",
    "\n",
    "# plt.show()"
   ]
  },
  {
   "cell_type": "code",
   "execution_count": 50,
   "metadata": {
    "ExecuteTime": {
     "end_time": "2021-02-22T03:48:33.587265Z",
     "start_time": "2021-02-22T03:48:32.174463Z"
    },
    "code_folding": []
   },
   "outputs": [
    {
     "data": {
      "image/png": "[encoded data removed]",
      "text/plain": [
       "<Figure size 432x288 with 1 Axes>"
      ]
     },
     "metadata": {
      "needs_background": "light"
     },
     "output_type": "display_data"
    }
   ],
   "source": [
    "# appropriate test size find \n",
    "plt.figure()\n",
    "training_accuracy = []\n",
    "test_accuracy = []\n",
    "# try n_neighbors from 1 to 10\n",
    "test_size= numpy.arange(0.1, 0.9,0.05)\n",
    "knn = KNeighborsClassifier(n_neighbors = 5)\n",
    "for i in test_size:\n",
    "    \n",
    "        X_train, X_test, y_train, y_test = train_test_split(X, y, test_size = i)\n",
    "        knn.fit(X_train, y_train)\n",
    "        training_accuracy.append(knn.score(X_train,y_train))\n",
    "        test_accuracy.append(knn.score(X_test,y_test))\n",
    "  \n",
    "\n",
    "    \n",
    "plt.plot(test_size,training_accuracy,label=\"training accuracy\")\n",
    "plt.plot(test_size,test_accuracy,label=\"test accuracy\")\n",
    "plt.ylabel(\"Accuracy\")\n",
    "plt.xlabel(\"test_size\")\n",
    "plt.legend()\n",
    "\n",
    "plt.show()"
   ]
  },
  {
   "cell_type": "code",
   "execution_count": 51,
   "metadata": {
    "ExecuteTime": {
     "end_time": "2021-02-22T03:48:33.637235Z",
     "start_time": "2021-02-22T03:48:33.590262Z"
    }
   },
   "outputs": [
    {
     "data": {
      "text/plain": [
       "0.7883817427385892"
      ]
     },
     "execution_count": 51,
     "metadata": {},
     "output_type": "execute_result"
    }
   ],
   "source": [
    "#split data into test data and train data\n",
    "X_train,X_test,y_train,y_test=train_test_split(X,y,test_size=0.4)\n",
    "\n",
    "neigh = KNeighborsClassifier(n_neighbors=5)\n",
    "\n",
    "knn=neigh.fit(X_train,y_train)\n",
    "\n",
    "knn.score(X_test,y_test)"
   ]
  },
  {
   "cell_type": "code",
   "execution_count": 52,
   "metadata": {
    "ExecuteTime": {
     "end_time": "2021-02-22T03:48:33.744436Z",
     "start_time": "2021-02-22T03:48:33.641235Z"
    }
   },
   "outputs": [],
   "source": [
    "y_pred=knn.predict(X_test)"
   ]
  },
  {
   "cell_type": "code",
   "execution_count": 53,
   "metadata": {
    "ExecuteTime": {
     "end_time": "2021-02-22T03:48:33.850446Z",
     "start_time": "2021-02-22T03:48:33.747392Z"
    }
   },
   "outputs": [
    {
     "data": {
      "text/plain": [
       "array([[96, 17],\n",
       "       [34, 94]], dtype=int64)"
      ]
     },
     "execution_count": 53,
     "metadata": {},
     "output_type": "execute_result"
    }
   ],
   "source": [
    "#confusion matrix \n",
    "cf_matrix_n=confusion_matrix(y_test, y_pred)\n",
    "cf_matrix_n"
   ]
  },
  {
   "cell_type": "code",
   "execution_count": 54,
   "metadata": {
    "ExecuteTime": {
     "end_time": "2021-02-22T03:48:33.964654Z",
     "start_time": "2021-02-22T03:48:33.853446Z"
    }
   },
   "outputs": [
    {
     "name": "stdout",
     "output_type": "stream",
     "text": [
      "              precision    recall  f1-score   support\n",
      "\n",
      "           0       0.74      0.85      0.79       113\n",
      "           1       0.85      0.73      0.79       128\n",
      "\n",
      "    accuracy                           0.79       241\n",
      "   macro avg       0.79      0.79      0.79       241\n",
      "weighted avg       0.80      0.79      0.79       241\n",
      "\n"
     ]
    }
   ],
   "source": [
    "#classification report\n",
    "print(classification_report(y_test,y_pred))"
   ]
  },
  {
   "cell_type": "code",
   "execution_count": 55,
   "metadata": {
    "ExecuteTime": {
     "end_time": "2021-02-22T03:48:34.324777Z",
     "start_time": "2021-02-22T03:48:33.967649Z"
    },
    "scrolled": true
   },
   "outputs": [
    {
     "data": {
      "image/png": "[encoded data removed]",
      "text/plain": [
       "<Figure size 432x288 with 1 Axes>"
      ]
     },
     "metadata": {
      "needs_background": "light"
     },
     "output_type": "display_data"
    }
   ],
   "source": [
    "from sklearn.metrics import roc_curve\n",
    "fpr, tpr, thresholds=roc_curve(y_test, y_pred)\n",
    "AUC=round(metrics.auc(fpr, tpr),2)\n",
    "\n",
    "plt.plot([0,1], [0,1], linestyle='--', label='No Skill')\n",
    "plt.plot(fpr, tpr, marker='.', label=f'knn AUC={AUC}')\n",
    "# axis labels\n",
    "plt.xlabel('False Positive Rate')\n",
    "plt.ylabel('True Positive Rate')\n",
    "plt.legend()\n",
    "# show the plot\n",
    "plt.show()\n"
   ]
  },
  {
   "cell_type": "markdown",
   "metadata": {},
   "source": [
    "<b> Conclusion:</b>"
   ]
  },
  {
   "cell_type": "code",
   "execution_count": 56,
   "metadata": {
    "ExecuteTime": {
     "end_time": "2021-02-22T03:48:34.335772Z",
     "start_time": "2021-02-22T03:48:34.327776Z"
    }
   },
   "outputs": [
    {
     "data": {
      "text/plain": [
       "'feature selection method affect our model,AUC decrease as compare to the first one'"
      ]
     },
     "execution_count": 56,
     "metadata": {},
     "output_type": "execute_result"
    }
   ],
   "source": [
    "'''feature selection method affect our model,AUC decrease as compare to the first one'''"
   ]
  },
  {
   "cell_type": "markdown",
   "metadata": {},
   "source": [
    "<b> Cross-Validation </b>"
   ]
  },
  {
   "cell_type": "code",
   "execution_count": 57,
   "metadata": {
    "ExecuteTime": {
     "end_time": "2021-02-22T03:48:34.634187Z",
     "start_time": "2021-02-22T03:48:34.339769Z"
    },
    "scrolled": true
   },
   "outputs": [
    {
     "name": "stdout",
     "output_type": "stream",
     "text": [
      "mean:=0.8204901960784313 std :0.07999313135321963\n"
     ]
    }
   ],
   "source": [
    "#without StratifiedKFold \n",
    "Knn=KNeighborsClassifier(n_neighbors=5,p=1)\n",
    "score=cross_val_score(knn,X,y,cv=12)\n",
    "print(\"mean:=\"+str(score.mean()),\"std :\"+str(score.std()))"
   ]
  },
  {
   "cell_type": "code",
   "execution_count": 58,
   "metadata": {
    "ExecuteTime": {
     "end_time": "2021-02-22T03:48:34.912026Z",
     "start_time": "2021-02-22T03:48:34.637185Z"
    }
   },
   "outputs": [
    {
     "name": "stdout",
     "output_type": "stream",
     "text": [
      "List of possible accuracy: [0.8235294117647058, 0.8627450980392157, 0.78, 0.92, 0.76, 0.78, 0.86, 0.8, 0.76, 0.84, 0.8, 0.88]\n",
      "\n",
      "Maximum Accuracy That can be obtained from this model is: 92.0 %\n",
      "\n",
      "Minimum Accuracy: 76.0 %\n",
      "\n",
      "Average Accuracy That can be obtained from this model is:: 0.8221895424836604\n",
      "\n",
      "Standard Deviation is: 0.048804090503370354\n"
     ]
    }
   ],
   "source": [
    "#with StratifiedKFold \n",
    "import numpy as np\n",
    "from sklearn.model_selection import StratifiedKFold \n",
    "skf = StratifiedKFold(n_splits=12, shuffle=True, random_state=1) \n",
    "lst_accu_stratified = [] \n",
    "\n",
    "for train_index, test_index in skf.split(X, y): \n",
    "    x_train_fold, x_test_fold = X.loc[train_index,:], X.loc[test_index,:] \n",
    "    y_train_fold, y_test_fold = y[train_index], y[test_index] \n",
    "    knn.fit(x_train_fold, y_train_fold) \n",
    "    lst_accu_stratified.append(knn.score(x_test_fold, y_test_fold))\n",
    "    \n",
    "    \n",
    "print('List of possible accuracy:', lst_accu_stratified) \n",
    "print('\\nMaximum Accuracy That can be obtained from this model is:', \n",
    "      max(lst_accu_stratified)*100, '%') \n",
    "print('\\nMinimum Accuracy:', \n",
    "      min(lst_accu_stratified)*100, '%') \n",
    "print('\\nAverage Accuracy That can be obtained from this model is::',np.mean(lst_accu_stratified)) \n",
    "print('\\nStandard Deviation is:',np.std(lst_accu_stratified)) "
   ]
  },
  {
   "cell_type": "markdown",
   "metadata": {},
   "source": [
    "#  Logistics Regression\n"
   ]
  },
  {
   "cell_type": "code",
   "execution_count": 59,
   "metadata": {
    "ExecuteTime": {
     "end_time": "2021-02-22T03:48:34.921018Z",
     "start_time": "2021-02-22T03:48:34.916025Z"
    }
   },
   "outputs": [],
   "source": [
    "from sklearn.linear_model import LogisticRegression"
   ]
  },
  {
   "cell_type": "code",
   "execution_count": 60,
   "metadata": {
    "ExecuteTime": {
     "end_time": "2021-02-22T03:48:35.033955Z",
     "start_time": "2021-02-22T03:48:34.925017Z"
    }
   },
   "outputs": [],
   "source": [
    "# Here we are using  both method for feature selection  means we takes union both feature union\n",
    "\n",
    "f_feature=list(set(basic_f0).union(set(basic_f1)))"
   ]
  },
  {
   "cell_type": "code",
   "execution_count": 61,
   "metadata": {
    "ExecuteTime": {
     "end_time": "2021-02-22T03:48:35.171895Z",
     "start_time": "2021-02-22T03:48:35.037960Z"
    }
   },
   "outputs": [
    {
     "data": {
      "text/plain": [
       "['Ease and convenient',\n",
       " 'Occupation',\n",
       " 'Good Food quality',\n",
       " 'Maximum wait time',\n",
       " 'Time saving',\n",
       " 'Self Cooking',\n",
       " 'Monthly Income',\n",
       " 'Politeness',\n",
       " 'Delay of delivery person picking up food',\n",
       " 'Unavailability',\n",
       " 'More restaurant choices',\n",
       " 'Easy Payment option',\n",
       " 'More Offers and Discount',\n",
       " 'Health Concern',\n",
       " 'Unaffordable',\n",
       " 'Educational Qualifications',\n",
       " 'Late Delivery',\n",
       " 'Marital Status',\n",
       " 'Residence in busy location',\n",
       " 'Bad past experience',\n",
       " 'Good Tracking system',\n",
       " 'Age']"
      ]
     },
     "execution_count": 61,
     "metadata": {},
     "output_type": "execute_result"
    }
   ],
   "source": [
    "f_feature"
   ]
  },
  {
   "cell_type": "markdown",
   "metadata": {
    "ExecuteTime": {
     "end_time": "2021-02-22T04:01:37.917350Z",
     "start_time": "2021-02-22T04:01:37.909356Z"
    }
   },
   "source": [
    "# Now we need to use some domain knowlegde for selecting feature\n",
    "Group 1: {'Ease and convenient','Easy Payment option'}\\\n",
    "Group 2 :{'Order Time','Time saving','Delay of delivery person picking up food','Maximum wait time'}\\\n",
    "f_feature=['Ease and convenient','Self Cooking','Maximum wait time','More restaurant choices',\n",
    "  'Unaffordable', 'More Offers and Discount', 'Good Food quality', 'Good Tracking system', 'Age', 'Bad past experience']"
   ]
  },
  {
   "cell_type": "code",
   "execution_count": 66,
   "metadata": {
    "ExecuteTime": {
     "end_time": "2021-02-22T04:03:12.524662Z",
     "start_time": "2021-02-22T04:03:12.489179Z"
    }
   },
   "outputs": [],
   "source": [
    "#select X,y \n",
    "\n",
    "X=fd_dlvry[f_feature]\n",
    "y=fd_dlvry['Output']\n",
    "from imblearn.under_sampling import NearMiss\n",
    "# nm=NearMiss()\n",
    "#try to making data balnaced \n",
    "nm=RandomOverSampler()\n",
    "X,y=nm.fit_sample(X,y)\n",
    "\n",
    "X_train, X_test, y_train, y_test = train_test_split(X, y, test_size = 0.33)"
   ]
  },
  {
   "cell_type": "code",
   "execution_count": 67,
   "metadata": {
    "ExecuteTime": {
     "end_time": "2021-02-22T04:03:13.377307Z",
     "start_time": "2021-02-22T04:03:13.369317Z"
    }
   },
   "outputs": [
    {
     "data": {
      "text/plain": [
       "(602, 22)"
      ]
     },
     "execution_count": 67,
     "metadata": {},
     "output_type": "execute_result"
    }
   ],
   "source": [
    "X.shape"
   ]
  },
  {
   "cell_type": "code",
   "execution_count": 68,
   "metadata": {
    "ExecuteTime": {
     "end_time": "2021-02-22T04:03:13.858911Z",
     "start_time": "2021-02-22T04:03:13.851916Z"
    }
   },
   "outputs": [
    {
     "data": {
      "text/plain": [
       "['Ease and convenient',\n",
       " 'Occupation',\n",
       " 'Good Food quality',\n",
       " 'Maximum wait time',\n",
       " 'Time saving',\n",
       " 'Self Cooking',\n",
       " 'Monthly Income',\n",
       " 'Politeness',\n",
       " 'Delay of delivery person picking up food',\n",
       " 'Unavailability',\n",
       " 'More restaurant choices',\n",
       " 'Easy Payment option',\n",
       " 'More Offers and Discount',\n",
       " 'Health Concern',\n",
       " 'Unaffordable',\n",
       " 'Educational Qualifications',\n",
       " 'Late Delivery',\n",
       " 'Marital Status',\n",
       " 'Residence in busy location',\n",
       " 'Bad past experience',\n",
       " 'Good Tracking system',\n",
       " 'Age']"
      ]
     },
     "execution_count": 68,
     "metadata": {},
     "output_type": "execute_result"
    }
   ],
   "source": [
    "f_feature"
   ]
  },
  {
   "cell_type": "code",
   "execution_count": 69,
   "metadata": {
    "ExecuteTime": {
     "end_time": "2021-02-22T04:03:14.341918Z",
     "start_time": "2021-02-22T04:03:14.336924Z"
    }
   },
   "outputs": [],
   "source": [
    "Lg=LogisticRegression()"
   ]
  },
  {
   "cell_type": "code",
   "execution_count": 70,
   "metadata": {
    "ExecuteTime": {
     "end_time": "2021-02-22T04:03:57.780815Z",
     "start_time": "2021-02-22T04:03:14.834234Z"
    },
    "code_folding": []
   },
   "outputs": [
    {
     "data": {
      "image/png": "[encoded data removed]",
      "text/plain": [
       "<Figure size 432x288 with 1 Axes>"
      ]
     },
     "metadata": {
      "needs_background": "light"
     },
     "output_type": "display_data"
    }
   ],
   "source": [
    "#\n",
    "plt.figure()\n",
    "training_accuracy = []\n",
    "test_accuracy = []\n",
    "# try n_neighbors from 1 to 10\n",
    "test_size= numpy.arange(0.1, 0.9,0.05)\n",
    "\n",
    "for i in test_size:\n",
    "        t_s=[]\n",
    "        tn_=[]\n",
    "        for j in range(0,50):\n",
    "            X_train, X_test, y_train, y_test = train_test_split(X, y, test_size = i,random_state=np.random.randint(0,100))\n",
    "            Lg.fit(X_train, y_train)\n",
    "            \n",
    "            t_s.append(Lg.score(X_test,y_test))\n",
    "            tn_.append(Lg.score(X_train,y_train))\n",
    "        training_accuracy.append(np.mean(t_s))\n",
    "        test_accuracy.append(np.mean(tn_))\n",
    "\n",
    "\n",
    "    \n",
    "plt.plot(test_size,training_accuracy,label=\"training accuracy\")\n",
    "plt.plot(test_size,test_accuracy,label=\"test accuracy\")\n",
    "plt.ylabel(\"Accuracy\")\n",
    "plt.xlabel(\"test_size\")\n",
    "plt.legend()\n",
    "\n",
    "plt.show()\n",
    "\n",
    "\n"
   ]
  },
  {
   "cell_type": "code",
   "execution_count": 71,
   "metadata": {
    "ExecuteTime": {
     "end_time": "2021-02-22T04:03:57.839782Z",
     "start_time": "2021-02-22T04:03:57.784813Z"
    }
   },
   "outputs": [
    {
     "data": {
      "text/plain": [
       "0.7679558011049724"
      ]
     },
     "execution_count": 71,
     "metadata": {},
     "output_type": "execute_result"
    }
   ],
   "source": [
    "#data split into train and test size \n",
    "X_train,X_test,y_train,y_test=train_test_split(X,y,test_size=0.3)\n",
    "Lg.fit(X_train,y_train)\n",
    "Lg.score(X_test,y_test)"
   ]
  },
  {
   "cell_type": "code",
   "execution_count": 72,
   "metadata": {
    "ExecuteTime": {
     "end_time": "2021-02-22T04:03:57.992697Z",
     "start_time": "2021-02-22T04:03:57.844781Z"
    }
   },
   "outputs": [],
   "source": [
    "y_pred=Lg.predict(X_test)"
   ]
  },
  {
   "cell_type": "code",
   "execution_count": 73,
   "metadata": {
    "ExecuteTime": {
     "end_time": "2021-02-22T04:03:58.115736Z",
     "start_time": "2021-02-22T04:03:57.997690Z"
    }
   },
   "outputs": [
    {
     "data": {
      "text/plain": [
       "array([[72, 23],\n",
       "       [19, 67]], dtype=int64)"
      ]
     },
     "execution_count": 73,
     "metadata": {},
     "output_type": "execute_result"
    }
   ],
   "source": [
    "cf_matrix=confusion_matrix(y_test, y_pred)\n",
    "cf_matrix"
   ]
  },
  {
   "cell_type": "code",
   "execution_count": 74,
   "metadata": {
    "ExecuteTime": {
     "end_time": "2021-02-22T04:03:58.220672Z",
     "start_time": "2021-02-22T04:03:58.119730Z"
    }
   },
   "outputs": [
    {
     "name": "stdout",
     "output_type": "stream",
     "text": [
      "              precision    recall  f1-score   support\n",
      "\n",
      "           0       0.79      0.76      0.77        95\n",
      "           1       0.74      0.78      0.76        86\n",
      "\n",
      "    accuracy                           0.77       181\n",
      "   macro avg       0.77      0.77      0.77       181\n",
      "weighted avg       0.77      0.77      0.77       181\n",
      "\n"
     ]
    }
   ],
   "source": [
    "print(classification_report(y_test,y_pred))"
   ]
  },
  {
   "cell_type": "code",
   "execution_count": 75,
   "metadata": {
    "ExecuteTime": {
     "end_time": "2021-02-22T04:03:59.063190Z",
     "start_time": "2021-02-22T04:03:58.224670Z"
    },
    "scrolled": true
   },
   "outputs": [
    {
     "data": {
      "image/png": "[encoded data removed]",
      "text/plain": [
       "<Figure size 720x432 with 1 Axes>"
      ]
     },
     "metadata": {
      "needs_background": "light"
     },
     "output_type": "display_data"
    }
   ],
   "source": [
    "thresolds = [0.2,0.3,0.4,0.5,0.55,0.6,0.62,0.65,0.7,0.8]\n",
    "plt.figure(figsize=(10,6))\n",
    "for i in thresolds:\n",
    "    y_pred_proba = (Lg.predict_proba(X_test)[:,1]>=i).astype(int)\n",
    "    fpr, tpr, m= metrics.roc_curve(y_test,  y_pred_proba)\n",
    "    auc = metrics.roc_auc_score(y_test, y_pred_proba)\n",
    "    plt.plot(fpr,tpr,label=f\"data 1, auc={auc} thresold={i}\")\n",
    "    plt.legend(loc=4)\n",
    "\n",
    "\n",
    "\n",
    "plt.xlabel('fpr')\n",
    "plt.ylabel('tpr')\n",
    "plt.show()"
   ]
  },
  {
   "cell_type": "code",
   "execution_count": 76,
   "metadata": {
    "ExecuteTime": {
     "end_time": "2021-02-22T04:03:59.075183Z",
     "start_time": "2021-02-22T04:03:59.066188Z"
    }
   },
   "outputs": [
    {
     "data": {
      "text/plain": [
       "'In Knn weighted avg f1-score is good and AUC is great but problems in Knn is not learning something\\nknn just use more memory space for perform operation and mostly features are categorical so noise affect\\non this algorithms. Here we can see if we set thresold 0.65 in Logistics regression we get better model  and here algorithms \\nsomething learn \\n'"
      ]
     },
     "execution_count": 76,
     "metadata": {},
     "output_type": "execute_result"
    }
   ],
   "source": [
    "'''In Knn weighted avg f1-score is good and AUC is great but problems in Knn is not learning something\n",
    "knn just use more memory space for perform operation and mostly features are categorical so noise affect\n",
    "on this algorithms. Here we can see if we set thresold 0.65 in Logistics regression we get better model  and here algorithms \n",
    "something learn \n",
    "'''"
   ]
  },
  {
   "cell_type": "markdown",
   "metadata": {},
   "source": [
    "<b> Cross-Validation </b>"
   ]
  },
  {
   "cell_type": "code",
   "execution_count": 77,
   "metadata": {
    "ExecuteTime": {
     "end_time": "2021-02-22T04:03:59.820756Z",
     "start_time": "2021-02-22T04:03:59.082180Z"
    }
   },
   "outputs": [
    {
     "name": "stdout",
     "output_type": "stream",
     "text": [
      "List of possible accuracy: [0.68852459 0.80327869 0.88333333 0.8        0.83333333 0.76666667\n",
      " 0.76666667 0.76666667 0.71666667 0.73333333]\n",
      "\n",
      "Maximum Accuracy That can be obtained from this model is: 88.33333333333333 %\n",
      "\n",
      "Minimum Accuracy: 76.0 %\n",
      "\n",
      "Average Accuracy That can be obtained from this model is:: 0.7758469945355192\n",
      "\n",
      "Standard Deviation is: 0.054204813296113666\n"
     ]
    }
   ],
   "source": [
    "score=cross_val_score(Lg,X,y,cv=10)\n",
    "print('List of possible accuracy:', score) \n",
    "print('\\nMaximum Accuracy That can be obtained from this model is:', \n",
    "      max(score)*100, '%') \n",
    "print('\\nMinimum Accuracy:', \n",
    "      min(lst_accu_stratified)*100, '%') \n",
    "print('\\nAverage Accuracy That can be obtained from this model is::',np.mean(score)) \n",
    "print('\\nStandard Deviation is:',np.std(score)) "
   ]
  },
  {
   "cell_type": "code",
   "execution_count": 78,
   "metadata": {
    "ExecuteTime": {
     "end_time": "2021-02-22T04:04:00.601308Z",
     "start_time": "2021-02-22T04:03:59.826751Z"
    }
   },
   "outputs": [
    {
     "name": "stdout",
     "output_type": "stream",
     "text": [
      "List of possible accuracy: [0.803921568627451, 0.7647058823529411, 0.88, 0.72, 0.9, 0.84, 0.8, 0.8, 0.76, 0.72, 0.72, 0.82]\n",
      "\n",
      "Maximum Accuracy That can be obtained from this model is: 90.0 %\n",
      "\n",
      "Minimum Accuracy: 72.0 %\n",
      "\n",
      "Average Accuracy That can be obtained from this model is:: 0.7940522875816994\n",
      "\n",
      " Median Accuracy That can be obtained from this model is:: 0.8\n",
      "\n",
      "Standard Deviation is: 0.05776139861884013\n"
     ]
    }
   ],
   "source": [
    "import numpy as np\n",
    "from sklearn.model_selection import StratifiedKFold \n",
    "skf = StratifiedKFold(n_splits=12, shuffle=True, random_state=1) \n",
    "lst_accu_stratified = [] \n",
    "\n",
    "for train_index, test_index in skf.split(X, y): \n",
    "    x_train_fold, x_test_fold = X.loc[train_index,:], X.loc[test_index,:] \n",
    "    y_train_fold, y_test_fold = y[train_index], y[test_index] \n",
    "    Lg.fit(x_train_fold, y_train_fold) \n",
    "    lst_accu_stratified.append(Lg.score(x_test_fold, y_test_fold))\n",
    "    \n",
    "    \n",
    "print('List of possible accuracy:', lst_accu_stratified) \n",
    "print('\\nMaximum Accuracy That can be obtained from this model is:', \n",
    "      max(lst_accu_stratified)*100, '%') \n",
    "print('\\nMinimum Accuracy:', \n",
    "      min(lst_accu_stratified)*100, '%') \n",
    "print('\\nAverage Accuracy That can be obtained from this model is::',np.mean(lst_accu_stratified)) \n",
    "print('\\n Median Accuracy That can be obtained from this model is::',np.median(lst_accu_stratified)) \n",
    "print('\\nStandard Deviation is:',np.std(lst_accu_stratified)) "
   ]
  },
  {
   "cell_type": "code",
   "execution_count": 79,
   "metadata": {
    "ExecuteTime": {
     "end_time": "2021-02-22T04:04:00.946113Z",
     "start_time": "2021-02-22T04:04:00.605307Z"
    }
   },
   "outputs": [
    {
     "data": {
      "text/plain": [
       "array([0.78453039, 0.71823204, 0.74033149, 0.74585635, 0.77900552])"
      ]
     },
     "execution_count": 79,
     "metadata": {},
     "output_type": "execute_result"
    }
   ],
   "source": [
    "from sklearn.model_selection import ShuffleSplit\n",
    "cv = ShuffleSplit(n_splits=5, test_size=0.3, random_state=0)\n",
    "cross_val_score(Lg, X, y, cv=cv)"
   ]
  },
  {
   "cell_type": "markdown",
   "metadata": {},
   "source": [
    "# DecisionTree (feature selection with both method)  "
   ]
  },
  {
   "cell_type": "code",
   "execution_count": 80,
   "metadata": {
    "ExecuteTime": {
     "end_time": "2021-02-22T04:04:00.982091Z",
     "start_time": "2021-02-22T04:04:00.949110Z"
    }
   },
   "outputs": [
    {
     "data": {
      "text/plain": [
       "1    301\n",
       "0     87\n",
       "Name: Output, dtype: int64"
      ]
     },
     "execution_count": 80,
     "metadata": {},
     "output_type": "execute_result"
    }
   ],
   "source": [
    "X=fd_dlvry[f_feature]\n",
    "y=fd_dlvry['Output']\n",
    "nm=RandomOverSampler() # try to making data balanced \n",
    "X,y=nm.fit_sample(X,y)\n",
    "fd_dlvry['Output'].value_counts()"
   ]
  },
  {
   "cell_type": "code",
   "execution_count": 81,
   "metadata": {
    "ExecuteTime": {
     "end_time": "2021-02-22T04:04:01.147016Z",
     "start_time": "2021-02-22T04:04:00.985089Z"
    }
   },
   "outputs": [
    {
     "data": {
      "text/plain": [
       "DecisionTreeClassifier(max_depth=6, min_samples_leaf=2, min_samples_split=4,\n",
       "                       random_state=0)"
      ]
     },
     "execution_count": 81,
     "metadata": {},
     "output_type": "execute_result"
    }
   ],
   "source": [
    "X_train, X_test, y_train, y_test = train_test_split(X, y, test_size = 0.33)\n",
    "clf=DecisionTreeClassifier(random_state=0,max_depth=6,min_samples_leaf=2,min_samples_split=4)\n",
    "clf.fit(X,y)"
   ]
  },
  {
   "cell_type": "code",
   "execution_count": 82,
   "metadata": {
    "ExecuteTime": {
     "end_time": "2021-02-22T04:04:01.248037Z",
     "start_time": "2021-02-22T04:04:01.150994Z"
    }
   },
   "outputs": [
    {
     "data": {
      "text/plain": [
       "0.9698492462311558"
      ]
     },
     "execution_count": 82,
     "metadata": {},
     "output_type": "execute_result"
    }
   ],
   "source": [
    "clf.score(X_test,y_test)"
   ]
  },
  {
   "cell_type": "code",
   "execution_count": 83,
   "metadata": {
    "ExecuteTime": {
     "end_time": "2021-02-22T04:04:01.384334Z",
     "start_time": "2021-02-22T04:04:01.252031Z"
    }
   },
   "outputs": [
    {
     "data": {
      "text/plain": [
       "array([1, 1, 0, 0, 0, 0, 1, 0, 0, 0, 0, 0, 1, 0, 0, 0, 1, 1, 1, 1, 0, 1,\n",
       "       1, 0, 0, 0, 0, 1, 0, 0, 1, 1, 1, 1, 1, 0, 1, 0, 1, 1, 0, 0, 1, 0,\n",
       "       0, 0, 0, 1, 1, 1, 1, 0, 1, 1, 1, 1, 0, 1, 0, 0, 0, 1, 0, 1, 1, 0,\n",
       "       0, 0, 1, 0, 1, 1, 0, 1, 1, 0, 0, 0, 0, 0, 0, 1, 1, 0, 1, 1, 0, 0,\n",
       "       1, 0, 0, 1, 0, 0, 1, 1, 0, 0, 0, 1, 1, 1, 1, 0, 0, 0, 1, 1, 0, 1,\n",
       "       1, 0, 1, 1, 0, 0, 0, 0, 1, 1, 1, 0, 0, 0, 1, 0, 1, 0, 1, 0, 0, 0,\n",
       "       0, 0, 0, 1, 1, 0, 1, 1, 0, 0, 0, 1, 1, 1, 1, 0, 0, 1, 1, 0, 1, 0,\n",
       "       1, 0, 1, 0, 0, 1, 0, 1, 1, 1, 0, 1, 1, 1, 1, 1, 0, 1, 0, 0, 0, 0,\n",
       "       1, 1, 1, 0, 0, 1, 1, 1, 0, 0, 1, 0, 1, 1, 1, 0, 0, 0, 0, 1, 1, 0,\n",
       "       0])"
      ]
     },
     "execution_count": 83,
     "metadata": {},
     "output_type": "execute_result"
    }
   ],
   "source": [
    "y_pred=clf.predict(X_test)\n",
    "y_pred"
   ]
  },
  {
   "cell_type": "code",
   "execution_count": 84,
   "metadata": {
    "ExecuteTime": {
     "end_time": "2021-02-22T04:04:01.497268Z",
     "start_time": "2021-02-22T04:04:01.388328Z"
    }
   },
   "outputs": [
    {
     "name": "stdout",
     "output_type": "stream",
     "text": [
      "[[100   3]\n",
      " [  3  93]]\n"
     ]
    }
   ],
   "source": [
    "print(confusion_matrix(y_test,y_pred))"
   ]
  },
  {
   "cell_type": "code",
   "execution_count": 85,
   "metadata": {
    "ExecuteTime": {
     "end_time": "2021-02-22T04:04:01.625196Z",
     "start_time": "2021-02-22T04:04:01.502262Z"
    },
    "scrolled": true
   },
   "outputs": [
    {
     "name": "stdout",
     "output_type": "stream",
     "text": [
      "              precision    recall  f1-score   support\n",
      "\n",
      "           0       0.97      0.97      0.97       103\n",
      "           1       0.97      0.97      0.97        96\n",
      "\n",
      "    accuracy                           0.97       199\n",
      "   macro avg       0.97      0.97      0.97       199\n",
      "weighted avg       0.97      0.97      0.97       199\n",
      "\n"
     ]
    }
   ],
   "source": [
    "print(classification_report(y_test,y_pred))"
   ]
  },
  {
   "cell_type": "code",
   "execution_count": 86,
   "metadata": {
    "ExecuteTime": {
     "end_time": "2021-02-22T04:04:02.101922Z",
     "start_time": "2021-02-22T04:04:01.629191Z"
    }
   },
   "outputs": [
    {
     "data": {
      "text/plain": [
       "array([0.94117647, 0.88235294, 0.84      , 0.94      , 0.9       ,\n",
       "       0.94      , 0.92      , 0.98      , 0.9       , 0.98      ,\n",
       "       0.96      , 0.96      ])"
      ]
     },
     "execution_count": 86,
     "metadata": {},
     "output_type": "execute_result"
    }
   ],
   "source": [
    "cross_val_score(clf, X, y, cv=12)"
   ]
  },
  {
   "cell_type": "code",
   "execution_count": 87,
   "metadata": {
    "ExecuteTime": {
     "end_time": "2021-02-22T04:04:02.299806Z",
     "start_time": "2021-02-22T04:04:02.105916Z"
    }
   },
   "outputs": [
    {
     "name": "stdout",
     "output_type": "stream",
     "text": [
      "List of possible accuracy: [0.803921568627451, 0.7254901960784313, 0.84, 0.7, 0.84, 0.78, 0.82, 0.74, 0.86, 0.78, 0.84, 0.86]\n",
      "\n",
      "Maximum Accuracy That can be obtained from this model is: 86.0 %\n",
      "\n",
      "Minimum Accuracy: 70.0 %\n",
      "\n",
      "Average Accuracy That can be obtained from this model is:: 0.7991176470588236\n",
      "\n",
      " Median Accuracy That can be obtained from this model is:: 0.8119607843137255\n",
      "\n",
      "Standard Deviation is: 0.05192763154973208\n"
     ]
    }
   ],
   "source": [
    "lst_accu_stratified = [] \n",
    "\n",
    "for train_index, test_index in skf.split(X, y): \n",
    "    x_train_fold, x_test_fold = X.loc[train_index,:], X.loc[test_index,:] \n",
    "    y_train_fold, y_test_fold = y[train_index], y[test_index] \n",
    "    clf.fit(x_train_fold, y_train_fold) \n",
    "    lst_accu_stratified.append(Lg.score(x_test_fold, y_test_fold))\n",
    "    \n",
    "    \n",
    "print('List of possible accuracy:', lst_accu_stratified) \n",
    "print('\\nMaximum Accuracy That can be obtained from this model is:', \n",
    "      max(lst_accu_stratified)*100, '%') \n",
    "print('\\nMinimum Accuracy:', \n",
    "      min(lst_accu_stratified)*100, '%') \n",
    "print('\\nAverage Accuracy That can be obtained from this model is::',np.mean(lst_accu_stratified)) \n",
    "print('\\n Median Accuracy That can be obtained from this model is::',np.median(lst_accu_stratified)) \n",
    "print('\\nStandard Deviation is:',np.std(lst_accu_stratified)) "
   ]
  },
  {
   "cell_type": "code",
   "execution_count": 88,
   "metadata": {
    "ExecuteTime": {
     "end_time": "2021-02-22T04:04:05.358316Z",
     "start_time": "2021-02-22T04:04:02.304805Z"
    }
   },
   "outputs": [
    {
     "data": {
      "text/plain": [
       "'gini.png'"
      ]
     },
     "execution_count": 88,
     "metadata": {},
     "output_type": "execute_result"
    }
   ],
   "source": [
    "import graphviz\n",
    "import sklearn.tree as tree\n",
    "# DOT data\n",
    "dot_data = tree.export_graphviz(clf, out_file=None, \n",
    "                                feature_names=X.columns,  \n",
    "                                class_names='01',\n",
    "                                filled=True)\n",
    "\n",
    "# # Draw graph\n",
    "graph = graphviz.Source(dot_data,format=\"png\") \n",
    "graph.render('gini')\n",
    "# graph"
   ]
  },
  {
   "cell_type": "markdown",
   "metadata": {},
   "source": [
    "# Feature selection with Decision Tree "
   ]
  },
  {
   "cell_type": "code",
   "execution_count": 89,
   "metadata": {
    "ExecuteTime": {
     "end_time": "2021-02-22T04:04:05.404308Z",
     "start_time": "2021-02-22T04:04:05.362320Z"
    }
   },
   "outputs": [],
   "source": [
    "fd_dlvry=pd.read_csv('../../data/Banglore_food_delivery/onlinedeliverydata.csv')\n",
    "\n",
    "fd_dlvry.drop(['Pin code','longitude','latitude','Reviews'],axis=1,inplace=True)\n",
    "\n",
    "fd_dlvry['Output']=fd_dlvry['Output'].replace({'Yes':1,'No':0})"
   ]
  },
  {
   "cell_type": "code",
   "execution_count": 90,
   "metadata": {
    "ExecuteTime": {
     "end_time": "2021-02-22T04:04:05.565217Z",
     "start_time": "2021-02-22T04:04:05.407289Z"
    }
   },
   "outputs": [
    {
     "data": {
      "text/plain": [
       "(388, 223)"
      ]
     },
     "execution_count": 90,
     "metadata": {},
     "output_type": "execute_result"
    }
   ],
   "source": [
    "fd_ori=fd_dlvry.copy(deep=True)\n",
    "df=pd.get_dummies(fd_dlvry)\n",
    "df.shape"
   ]
  },
  {
   "cell_type": "code",
   "execution_count": 91,
   "metadata": {
    "ExecuteTime": {
     "end_time": "2021-02-22T04:04:05.623168Z",
     "start_time": "2021-02-22T04:04:05.568197Z"
    }
   },
   "outputs": [],
   "source": [
    "l1=[]\n",
    "for i in df.columns:\n",
    "    if(i!='Output'):\n",
    "        l1.append(i)\n",
    "    "
   ]
  },
  {
   "cell_type": "code",
   "execution_count": 92,
   "metadata": {
    "ExecuteTime": {
     "end_time": "2021-02-22T04:04:05.858034Z",
     "start_time": "2021-02-22T04:04:05.635161Z"
    }
   },
   "outputs": [],
   "source": [
    "X=df[l1]\n",
    "y=df['Output']\n",
    "nm=RandomOverSampler()\n",
    "X,y=nm.fit_sample(X,y)\n"
   ]
  },
  {
   "cell_type": "code",
   "execution_count": 93,
   "metadata": {
    "ExecuteTime": {
     "end_time": "2021-02-22T04:04:05.962971Z",
     "start_time": "2021-02-22T04:04:05.864030Z"
    }
   },
   "outputs": [
    {
     "data": {
      "text/plain": [
       "DecisionTreeClassifier(max_depth=6, min_samples_leaf=2, min_samples_split=4,\n",
       "                       random_state=0)"
      ]
     },
     "execution_count": 93,
     "metadata": {},
     "output_type": "execute_result"
    }
   ],
   "source": [
    "X_train, X_test, y_train, y_test = train_test_split(X, y, test_size = 0.33)\n",
    "clf=DecisionTreeClassifier(random_state=0,max_depth=6,min_samples_leaf=2,min_samples_split=4)\n",
    "clf.fit(X,y)"
   ]
  },
  {
   "cell_type": "code",
   "execution_count": 94,
   "metadata": {
    "ExecuteTime": {
     "end_time": "2021-02-22T04:04:06.041928Z",
     "start_time": "2021-02-22T04:04:05.965969Z"
    }
   },
   "outputs": [
    {
     "data": {
      "text/plain": [
       "0.9798994974874372"
      ]
     },
     "execution_count": 94,
     "metadata": {},
     "output_type": "execute_result"
    }
   ],
   "source": [
    "clf.score(X_test,y_test)"
   ]
  },
  {
   "cell_type": "code",
   "execution_count": 95,
   "metadata": {
    "ExecuteTime": {
     "end_time": "2021-02-22T04:04:06.171734Z",
     "start_time": "2021-02-22T04:04:06.044924Z"
    }
   },
   "outputs": [
    {
     "data": {
      "text/plain": [
       "array([0.        , 0.        , 0.        , 0.        , 0.        ,\n",
       "       0.02036164, 0.        , 0.        , 0.        , 0.        ,\n",
       "       0.06295556, 0.        , 0.        , 0.        , 0.        ,\n",
       "       0.        , 0.        , 0.        , 0.00852644, 0.        ,\n",
       "       0.        , 0.        , 0.        , 0.        , 0.        ,\n",
       "       0.        , 0.        , 0.        , 0.02280365, 0.        ,\n",
       "       0.        , 0.        , 0.        , 0.00421829, 0.        ,\n",
       "       0.        , 0.        , 0.        , 0.        , 0.        ,\n",
       "       0.        , 0.        , 0.        , 0.        , 0.39043902,\n",
       "       0.        , 0.        , 0.        , 0.        , 0.01184228,\n",
       "       0.        , 0.        , 0.        , 0.        , 0.16862023,\n",
       "       0.        , 0.        , 0.        , 0.        , 0.        ,\n",
       "       0.        , 0.        , 0.        , 0.        , 0.        ,\n",
       "       0.        , 0.        , 0.        , 0.        , 0.        ,\n",
       "       0.        , 0.        , 0.        , 0.        , 0.        ,\n",
       "       0.        , 0.        , 0.        , 0.        , 0.00188784,\n",
       "       0.        , 0.        , 0.        , 0.        , 0.        ,\n",
       "       0.        , 0.        , 0.        , 0.        , 0.02538606,\n",
       "       0.        , 0.        , 0.        , 0.        , 0.        ,\n",
       "       0.        , 0.        , 0.        , 0.        , 0.        ,\n",
       "       0.        , 0.        , 0.        , 0.        , 0.03347262,\n",
       "       0.        , 0.        , 0.        , 0.09881135, 0.        ,\n",
       "       0.        , 0.        , 0.        , 0.        , 0.        ,\n",
       "       0.        , 0.        , 0.        , 0.        , 0.01292654,\n",
       "       0.        , 0.        , 0.        , 0.        , 0.        ,\n",
       "       0.        , 0.        , 0.        , 0.        , 0.        ,\n",
       "       0.        , 0.        , 0.00105918, 0.        , 0.        ,\n",
       "       0.        , 0.02262144, 0.        , 0.        , 0.        ,\n",
       "       0.        , 0.        , 0.        , 0.        , 0.        ,\n",
       "       0.        , 0.        , 0.        , 0.        , 0.        ,\n",
       "       0.        , 0.        , 0.        , 0.        , 0.        ,\n",
       "       0.        , 0.01674836, 0.        , 0.        , 0.        ,\n",
       "       0.        , 0.        , 0.        , 0.        , 0.        ,\n",
       "       0.        , 0.        , 0.        , 0.        , 0.        ,\n",
       "       0.        , 0.        , 0.        , 0.        , 0.        ,\n",
       "       0.        , 0.        , 0.00223181, 0.        , 0.        ,\n",
       "       0.        , 0.        , 0.        , 0.        , 0.        ,\n",
       "       0.        , 0.        , 0.01342914, 0.        , 0.        ,\n",
       "       0.        , 0.06377913, 0.        , 0.        , 0.        ,\n",
       "       0.        , 0.        , 0.        , 0.        , 0.        ,\n",
       "       0.        , 0.01297501, 0.        , 0.        , 0.        ,\n",
       "       0.        , 0.        , 0.        , 0.        , 0.        ,\n",
       "       0.        , 0.        , 0.        , 0.        , 0.        ,\n",
       "       0.        , 0.        , 0.        , 0.0049044 , 0.        ,\n",
       "       0.        , 0.        ])"
      ]
     },
     "execution_count": 95,
     "metadata": {},
     "output_type": "execute_result"
    }
   ],
   "source": [
    "clf.feature_importances_"
   ]
  },
  {
   "cell_type": "code",
   "execution_count": 96,
   "metadata": {
    "ExecuteTime": {
     "end_time": "2021-02-22T04:04:06.278287Z",
     "start_time": "2021-02-22T04:04:06.175717Z"
    }
   },
   "outputs": [],
   "source": [
    "def feature_extract(clf,l1):\n",
    "    values = clf.feature_importances_\n",
    "    importances = [(l1[i], values[i]) for i in range(len(l1))]\n",
    "    importances.sort(reverse=True, key=lambda x:x[1])\n",
    "    l3=[]\n",
    "    for i in importances[:12]:\n",
    "        l3.append(i[0])\n",
    "    return l3\n",
    "\n",
    "    "
   ]
  },
  {
   "cell_type": "code",
   "execution_count": 97,
   "metadata": {
    "ExecuteTime": {
     "end_time": "2021-02-22T04:04:06.469158Z",
     "start_time": "2021-02-22T04:04:06.282265Z"
    }
   },
   "outputs": [
    {
     "data": {
      "text/plain": [
       "['Ease and convenient_Disagree',\n",
       " 'More restaurant choices_Disagree',\n",
       " 'Unaffordable_Agree',\n",
       " 'High Quality of package_Very Important',\n",
       " 'Occupation_Student',\n",
       " 'Unavailability_Disagree',\n",
       " 'Late Delivery_Disagree',\n",
       " 'Meal(P1)_Breakfast',\n",
       " 'Missing item_Strongly agree',\n",
       " 'Marital Status_Prefer not to say',\n",
       " 'Residence in busy location_Neutral',\n",
       " 'High Quality of package_Important']"
      ]
     },
     "execution_count": 97,
     "metadata": {},
     "output_type": "execute_result"
    }
   ],
   "source": [
    "feature_extract(clf,l1)"
   ]
  },
  {
   "cell_type": "code",
   "execution_count": 98,
   "metadata": {
    "ExecuteTime": {
     "end_time": "2021-02-22T04:04:06.691033Z",
     "start_time": "2021-02-22T04:04:06.473155Z"
    }
   },
   "outputs": [],
   "source": [
    "X=df[l1]\n",
    "y=df['Output']\n",
    "nm=RandomOverSampler()\n",
    "X,y=nm.fit_sample(X,y)\n"
   ]
  },
  {
   "cell_type": "code",
   "execution_count": 99,
   "metadata": {
    "ExecuteTime": {
     "end_time": "2021-02-22T04:04:06.733010Z",
     "start_time": "2021-02-22T04:04:06.695028Z"
    }
   },
   "outputs": [
    {
     "data": {
      "text/plain": [
       "DecisionTreeClassifier(max_depth=6, min_samples_leaf=2, min_samples_split=4,\n",
       "                       random_state=0)"
      ]
     },
     "execution_count": 99,
     "metadata": {},
     "output_type": "execute_result"
    }
   ],
   "source": [
    "X_train, X_test, y_train, y_test = train_test_split(X, y, test_size = 0.33)\n",
    "clf=DecisionTreeClassifier(random_state=0,max_depth=6,min_samples_leaf=2,min_samples_split=4)\n",
    "clf.fit(X,y)"
   ]
  },
  {
   "cell_type": "code",
   "execution_count": 100,
   "metadata": {
    "ExecuteTime": {
     "end_time": "2021-02-22T04:04:06.911397Z",
     "start_time": "2021-02-22T04:04:06.737007Z"
    }
   },
   "outputs": [
    {
     "data": {
      "text/plain": [
       "0.964824120603015"
      ]
     },
     "execution_count": 100,
     "metadata": {},
     "output_type": "execute_result"
    }
   ],
   "source": [
    "clf.score(X_test,y_test)"
   ]
  },
  {
   "cell_type": "code",
   "execution_count": 101,
   "metadata": {
    "ExecuteTime": {
     "end_time": "2021-02-22T04:04:07.020334Z",
     "start_time": "2021-02-22T04:04:06.914398Z"
    }
   },
   "outputs": [
    {
     "data": {
      "text/plain": [
       "array([1, 0, 0, 1, 0, 1, 0, 1, 0, 1, 0, 0, 0, 1, 1, 1, 0, 1, 0, 1, 1, 0,\n",
       "       0, 0, 0, 1, 1, 0, 0, 0, 1, 0, 1, 0, 0, 0, 0, 1, 1, 0, 1, 0, 1, 1,\n",
       "       1, 0, 1, 1, 0, 1, 1, 1, 1, 1, 0, 1, 0, 0, 0, 1, 1, 0, 1, 1, 0, 1,\n",
       "       0, 1, 1, 0, 0, 0, 0, 0, 1, 0, 1, 1, 1, 1, 0, 0, 0, 1, 1, 0, 1, 1,\n",
       "       1, 0, 0, 1, 0, 0, 1, 1, 1, 0, 1, 0, 1, 0, 1, 0, 0, 0, 1, 0, 0, 1,\n",
       "       0, 0, 1, 1, 1, 1, 1, 1, 1, 0, 1, 0, 1, 1, 0, 0, 0, 0, 1, 0, 1, 1,\n",
       "       1, 0, 0, 1, 0, 1, 1, 0, 0, 0, 1, 1, 0, 1, 1, 1, 1, 1, 1, 0, 1, 0,\n",
       "       0, 0, 0, 0, 0, 0, 1, 0, 1, 1, 1, 1, 1, 0, 0, 0, 1, 0, 0, 1, 0, 1,\n",
       "       1, 1, 1, 1, 0, 1, 1, 0, 1, 1, 0, 0, 0, 0, 0, 1, 0, 1, 0, 0, 1, 1,\n",
       "       0], dtype=int64)"
      ]
     },
     "execution_count": 101,
     "metadata": {},
     "output_type": "execute_result"
    }
   ],
   "source": [
    "y_pred=clf.predict(X_test)\n",
    "y_pred"
   ]
  },
  {
   "cell_type": "code",
   "execution_count": 102,
   "metadata": {
    "ExecuteTime": {
     "end_time": "2021-02-22T04:04:07.123276Z",
     "start_time": "2021-02-22T04:04:07.023333Z"
    }
   },
   "outputs": [
    {
     "name": "stdout",
     "output_type": "stream",
     "text": [
      "[[ 92   2]\n",
      " [  5 100]]\n"
     ]
    }
   ],
   "source": [
    "print(confusion_matrix(y_test,y_pred))"
   ]
  },
  {
   "cell_type": "code",
   "execution_count": 103,
   "metadata": {
    "ExecuteTime": {
     "end_time": "2021-02-22T04:04:07.255204Z",
     "start_time": "2021-02-22T04:04:07.127277Z"
    }
   },
   "outputs": [
    {
     "name": "stdout",
     "output_type": "stream",
     "text": [
      "              precision    recall  f1-score   support\n",
      "\n",
      "           0       0.95      0.98      0.96        94\n",
      "           1       0.98      0.95      0.97       105\n",
      "\n",
      "    accuracy                           0.96       199\n",
      "   macro avg       0.96      0.97      0.96       199\n",
      "weighted avg       0.97      0.96      0.96       199\n",
      "\n"
     ]
    }
   ],
   "source": [
    "print(classification_report(y_test,y_pred))"
   ]
  },
  {
   "cell_type": "code",
   "execution_count": 104,
   "metadata": {
    "ExecuteTime": {
     "end_time": "2021-02-22T04:04:07.830869Z",
     "start_time": "2021-02-22T04:04:07.259198Z"
    }
   },
   "outputs": [
    {
     "name": "stdout",
     "output_type": "stream",
     "text": [
      "List of possible accuracy: [0.9215686274509803, 0.9411764705882353, 0.98, 0.98, 0.92, 0.88, 0.88, 0.9, 0.94, 0.84, 0.96, 0.9]\n",
      "\n",
      "Maximum Accuracy That can be obtained from this model is: 98.0 %\n",
      "\n",
      "Minimum Accuracy: 84.0 %\n",
      "\n",
      "Average Accuracy That can be obtained from this model is:: 0.9202287581699345\n",
      "\n",
      " Median Accuracy That can be obtained from this model is:: 0.9207843137254902\n",
      "\n",
      "Standard Deviation is: 0.04087610909305766\n"
     ]
    }
   ],
   "source": [
    "lst_accu_stratified = [] \n",
    "x=0\n",
    "feature_common=pd.DataFrame()\n",
    "for train_index, test_index in skf.split(X, y): \n",
    "    x_train_fold, x_test_fold = X.loc[train_index,:], X.loc[test_index,:] \n",
    "    y_train_fold, y_test_fold = y[train_index], y[test_index] \n",
    "    clf.fit(x_train_fold, y_train_fold)\n",
    "    feature_common[x]=feature_extract(clf,l1)\n",
    "    x+=1\n",
    "    lst_accu_stratified.append(clf.score(x_test_fold, y_test_fold))\n",
    "    \n",
    "    \n",
    "print('List of possible accuracy:', lst_accu_stratified) \n",
    "print('\\nMaximum Accuracy That can be obtained from this model is:', \n",
    "      max(lst_accu_stratified)*100, '%') \n",
    "print('\\nMinimum Accuracy:', \n",
    "      min(lst_accu_stratified)*100, '%') \n",
    "print('\\nAverage Accuracy That can be obtained from this model is::',np.mean(lst_accu_stratified)) \n",
    "print('\\n Median Accuracy That can be obtained from this model is::',np.median(lst_accu_stratified)) \n",
    "print('\\nStandard Deviation is:',np.std(lst_accu_stratified)) "
   ]
  },
  {
   "cell_type": "code",
   "execution_count": 105,
   "metadata": {
    "ExecuteTime": {
     "end_time": "2021-02-22T04:04:07.880845Z",
     "start_time": "2021-02-22T04:04:07.834869Z"
    },
    "scrolled": true
   },
   "outputs": [
    {
     "data": {
      "text/html": [
       "<div>\n",
       "<style scoped>\n",
       "    .dataframe tbody tr th:only-of-type {\n",
       "        vertical-align: middle;\n",
       "    }\n",
       "\n",
       "    .dataframe tbody tr th {\n",
       "        vertical-align: top;\n",
       "    }\n",
       "\n",
       "    .dataframe thead th {\n",
       "        text-align: right;\n",
       "    }\n",
       "</style>\n",
       "<table border=\"1\" class=\"dataframe\">\n",
       "  <thead>\n",
       "    <tr style=\"text-align: right;\">\n",
       "      <th></th>\n",
       "      <th>0</th>\n",
       "      <th>1</th>\n",
       "      <th>2</th>\n",
       "      <th>3</th>\n",
       "      <th>4</th>\n",
       "      <th>5</th>\n",
       "      <th>6</th>\n",
       "      <th>7</th>\n",
       "      <th>8</th>\n",
       "      <th>9</th>\n",
       "      <th>10</th>\n",
       "      <th>11</th>\n",
       "    </tr>\n",
       "  </thead>\n",
       "  <tbody>\n",
       "    <tr>\n",
       "      <th>0</th>\n",
       "      <td>Ease and convenient_Disagree</td>\n",
       "      <td>Ease and convenient_Disagree</td>\n",
       "      <td>Ease and convenient_Disagree</td>\n",
       "      <td>Ease and convenient_Disagree</td>\n",
       "      <td>Ease and convenient_Disagree</td>\n",
       "      <td>Ease and convenient_Disagree</td>\n",
       "      <td>Ease and convenient_Disagree</td>\n",
       "      <td>Ease and convenient_Disagree</td>\n",
       "      <td>Ease and convenient_Disagree</td>\n",
       "      <td>Ease and convenient_Disagree</td>\n",
       "      <td>Ease and convenient_Disagree</td>\n",
       "      <td>Ease and convenient_Disagree</td>\n",
       "    </tr>\n",
       "    <tr>\n",
       "      <th>1</th>\n",
       "      <td>Time saving_Disagree</td>\n",
       "      <td>Time saving_Disagree</td>\n",
       "      <td>Time saving_Disagree</td>\n",
       "      <td>More restaurant choices_Disagree</td>\n",
       "      <td>Time saving_Disagree</td>\n",
       "      <td>Time saving_Disagree</td>\n",
       "      <td>More restaurant choices_Disagree</td>\n",
       "      <td>Time saving_Disagree</td>\n",
       "      <td>Time saving_Disagree</td>\n",
       "      <td>Time saving_Disagree</td>\n",
       "      <td>Time saving_Disagree</td>\n",
       "      <td>Time saving_Disagree</td>\n",
       "    </tr>\n",
       "    <tr>\n",
       "      <th>2</th>\n",
       "      <td>Politeness_Very Important</td>\n",
       "      <td>Occupation_Employee</td>\n",
       "      <td>Occupation_Employee</td>\n",
       "      <td>Unaffordable_Agree</td>\n",
       "      <td>Occupation_Employee</td>\n",
       "      <td>Occupation_Employee</td>\n",
       "      <td>Unaffordable_Agree</td>\n",
       "      <td>Occupation_Employee</td>\n",
       "      <td>Unaffordable_Strongly agree</td>\n",
       "      <td>Occupation_Student</td>\n",
       "      <td>Missing item_Neutral</td>\n",
       "      <td>Occupation_Employee</td>\n",
       "    </tr>\n",
       "    <tr>\n",
       "      <th>3</th>\n",
       "      <td>More restaurant choices_Disagree</td>\n",
       "      <td>Meal(P1)_Lunch</td>\n",
       "      <td>Unaffordable_Strongly agree</td>\n",
       "      <td>Occupation_Student</td>\n",
       "      <td>Unaffordable_Agree</td>\n",
       "      <td>Unaffordable_Strongly agree</td>\n",
       "      <td>Unavailability_Disagree</td>\n",
       "      <td>Meal(P1)_Lunch</td>\n",
       "      <td>Occupation_Employee</td>\n",
       "      <td>Meal(P1)_Lunch</td>\n",
       "      <td>Occupation_Employee</td>\n",
       "      <td>Unaffordable_Strongly agree</td>\n",
       "    </tr>\n",
       "    <tr>\n",
       "      <th>4</th>\n",
       "      <td>Missing item_Neutral</td>\n",
       "      <td>More restaurant choices_Disagree</td>\n",
       "      <td>Unaffordable_Agree</td>\n",
       "      <td>Missing item_Neutral</td>\n",
       "      <td>Unaffordable_Strongly agree</td>\n",
       "      <td>Unaffordable_Agree</td>\n",
       "      <td>Occupation_Student</td>\n",
       "      <td>Unaffordable_Agree</td>\n",
       "      <td>Unaffordable_Agree</td>\n",
       "      <td>More restaurant choices_Disagree</td>\n",
       "      <td>More restaurant choices_Disagree</td>\n",
       "      <td>Unaffordable_Agree</td>\n",
       "    </tr>\n",
       "    <tr>\n",
       "      <th>5</th>\n",
       "      <td>Good Food quality_Neutral</td>\n",
       "      <td>Unaffordable_Agree</td>\n",
       "      <td>Good Food quality_Neutral</td>\n",
       "      <td>Unavailability_Disagree</td>\n",
       "      <td>Time saving_Strongly agree</td>\n",
       "      <td>Good Food quality_Agree</td>\n",
       "      <td>Late Delivery_Strongly agree</td>\n",
       "      <td>Good Food quality_Neutral</td>\n",
       "      <td>Good Food quality_Neutral</td>\n",
       "      <td>Unaffordable_Agree</td>\n",
       "      <td>Unaffordable_Agree</td>\n",
       "      <td>Good Food quality_Agree</td>\n",
       "    </tr>\n",
       "    <tr>\n",
       "      <th>6</th>\n",
       "      <td>Unaffordable_Strongly disagree</td>\n",
       "      <td>Influence of rating_Maybe</td>\n",
       "      <td>Time saving_Strongly agree</td>\n",
       "      <td>Maximum wait time_15 minutes</td>\n",
       "      <td>Good Food quality_Neutral</td>\n",
       "      <td>Good Food quality_Neutral</td>\n",
       "      <td>Missing item_Strongly agree</td>\n",
       "      <td>More restaurant choices_Disagree</td>\n",
       "      <td>Delay of delivery person picking up food_Agree</td>\n",
       "      <td>Influence of rating_Maybe</td>\n",
       "      <td>Good Food quality_Neutral</td>\n",
       "      <td>Meal(P2)_ Snacks</td>\n",
       "    </tr>\n",
       "    <tr>\n",
       "      <th>7</th>\n",
       "      <td>Influence of time_No</td>\n",
       "      <td>Good Food quality_Neutral</td>\n",
       "      <td>Good Taste _Important</td>\n",
       "      <td>Late Delivery_Disagree</td>\n",
       "      <td>Missing item_Strongly agree</td>\n",
       "      <td>Google Maps Accuracy_Strongly Agree</td>\n",
       "      <td>Maximum wait time_15 minutes</td>\n",
       "      <td>Educational Qualifications_Graduate</td>\n",
       "      <td>Good Taste _Important</td>\n",
       "      <td>Good Food quality_Neutral</td>\n",
       "      <td>Late Delivery_Disagree</td>\n",
       "      <td>Educational Qualifications_Post Graduate</td>\n",
       "    </tr>\n",
       "    <tr>\n",
       "      <th>8</th>\n",
       "      <td>Late Delivery_Disagree</td>\n",
       "      <td>Number of calls_Important</td>\n",
       "      <td>Missing item_Strongly agree</td>\n",
       "      <td>Delay of delivery person getting assigned_Stro...</td>\n",
       "      <td>Less Delivery time_Very Important</td>\n",
       "      <td>Delay of delivery person picking up food_Agree</td>\n",
       "      <td>Late Delivery_Disagree</td>\n",
       "      <td>Influence of rating_Maybe</td>\n",
       "      <td>High Quality of package_Important</td>\n",
       "      <td>More Offers and Discount_Agree</td>\n",
       "      <td>Perference(P2)_ Sweets</td>\n",
       "      <td>Missing item_Strongly agree</td>\n",
       "    </tr>\n",
       "    <tr>\n",
       "      <th>9</th>\n",
       "      <td>Unaffordable_Agree</td>\n",
       "      <td>Delay of delivery person getting assigned_Stro...</td>\n",
       "      <td>Time saving_Strongly disagree</td>\n",
       "      <td>Perference(P2)_ Sweets</td>\n",
       "      <td>Less Delivery time_Moderately Important</td>\n",
       "      <td>Wrong order delivered_Strongly disagree</td>\n",
       "      <td>High Quality of package_Important</td>\n",
       "      <td>Family size</td>\n",
       "      <td>Missing item_Strongly agree</td>\n",
       "      <td>Late Delivery_Disagree</td>\n",
       "      <td>Missing item_Strongly agree</td>\n",
       "      <td>Time saving_Strongly disagree</td>\n",
       "    </tr>\n",
       "    <tr>\n",
       "      <th>10</th>\n",
       "      <td>Good Tracking system_Agree</td>\n",
       "      <td>Late Delivery_Disagree</td>\n",
       "      <td>Wrong order delivered_Strongly disagree</td>\n",
       "      <td>Delay of delivery person getting assigned_Disa...</td>\n",
       "      <td>Time saving_Strongly disagree</td>\n",
       "      <td>Less Delivery time_Moderately Important</td>\n",
       "      <td>Delay of delivery person getting assigned_Disa...</td>\n",
       "      <td>Less Delivery time_Moderately Important</td>\n",
       "      <td>Educational Qualifications_Post Graduate</td>\n",
       "      <td>Missing item_Disagree</td>\n",
       "      <td>Less Delivery time_Moderately Important</td>\n",
       "      <td>Wrong order delivered_Strongly disagree</td>\n",
       "    </tr>\n",
       "    <tr>\n",
       "      <th>11</th>\n",
       "      <td>Less Delivery time_Moderately Important</td>\n",
       "      <td>Occupation_Student</td>\n",
       "      <td>Less Delivery time_Moderately Important</td>\n",
       "      <td>Good Tracking system_Agree</td>\n",
       "      <td>Wrong order delivered_Strongly disagree</td>\n",
       "      <td>Long delivery time_Agree</td>\n",
       "      <td>High Quality of package_Very Important</td>\n",
       "      <td>Number of calls_Very Important</td>\n",
       "      <td>Time saving_Strongly disagree</td>\n",
       "      <td>Age</td>\n",
       "      <td>Missing item_Disagree</td>\n",
       "      <td>Order placed by mistake_Neutral</td>\n",
       "    </tr>\n",
       "  </tbody>\n",
       "</table>\n",
       "</div>"
      ],
      "text/plain": [
       "                                         0   \\\n",
       "0              Ease and convenient_Disagree   \n",
       "1                      Time saving_Disagree   \n",
       "2                 Politeness_Very Important   \n",
       "3          More restaurant choices_Disagree   \n",
       "4                      Missing item_Neutral   \n",
       "5                 Good Food quality_Neutral   \n",
       "6            Unaffordable_Strongly disagree   \n",
       "7                      Influence of time_No   \n",
       "8                    Late Delivery_Disagree   \n",
       "9                        Unaffordable_Agree   \n",
       "10               Good Tracking system_Agree   \n",
       "11  Less Delivery time_Moderately Important   \n",
       "\n",
       "                                                   1   \\\n",
       "0                        Ease and convenient_Disagree   \n",
       "1                                Time saving_Disagree   \n",
       "2                                 Occupation_Employee   \n",
       "3                                      Meal(P1)_Lunch   \n",
       "4                    More restaurant choices_Disagree   \n",
       "5                                  Unaffordable_Agree   \n",
       "6                           Influence of rating_Maybe   \n",
       "7                           Good Food quality_Neutral   \n",
       "8                           Number of calls_Important   \n",
       "9   Delay of delivery person getting assigned_Stro...   \n",
       "10                             Late Delivery_Disagree   \n",
       "11                                 Occupation_Student   \n",
       "\n",
       "                                         2   \\\n",
       "0              Ease and convenient_Disagree   \n",
       "1                      Time saving_Disagree   \n",
       "2                       Occupation_Employee   \n",
       "3               Unaffordable_Strongly agree   \n",
       "4                        Unaffordable_Agree   \n",
       "5                 Good Food quality_Neutral   \n",
       "6                Time saving_Strongly agree   \n",
       "7                     Good Taste _Important   \n",
       "8               Missing item_Strongly agree   \n",
       "9             Time saving_Strongly disagree   \n",
       "10  Wrong order delivered_Strongly disagree   \n",
       "11  Less Delivery time_Moderately Important   \n",
       "\n",
       "                                                   3   \\\n",
       "0                        Ease and convenient_Disagree   \n",
       "1                    More restaurant choices_Disagree   \n",
       "2                                  Unaffordable_Agree   \n",
       "3                                  Occupation_Student   \n",
       "4                                Missing item_Neutral   \n",
       "5                             Unavailability_Disagree   \n",
       "6                        Maximum wait time_15 minutes   \n",
       "7                              Late Delivery_Disagree   \n",
       "8   Delay of delivery person getting assigned_Stro...   \n",
       "9                              Perference(P2)_ Sweets   \n",
       "10  Delay of delivery person getting assigned_Disa...   \n",
       "11                         Good Tracking system_Agree   \n",
       "\n",
       "                                         4   \\\n",
       "0              Ease and convenient_Disagree   \n",
       "1                      Time saving_Disagree   \n",
       "2                       Occupation_Employee   \n",
       "3                        Unaffordable_Agree   \n",
       "4               Unaffordable_Strongly agree   \n",
       "5                Time saving_Strongly agree   \n",
       "6                 Good Food quality_Neutral   \n",
       "7               Missing item_Strongly agree   \n",
       "8         Less Delivery time_Very Important   \n",
       "9   Less Delivery time_Moderately Important   \n",
       "10            Time saving_Strongly disagree   \n",
       "11  Wrong order delivered_Strongly disagree   \n",
       "\n",
       "                                                5   \\\n",
       "0                     Ease and convenient_Disagree   \n",
       "1                             Time saving_Disagree   \n",
       "2                              Occupation_Employee   \n",
       "3                      Unaffordable_Strongly agree   \n",
       "4                               Unaffordable_Agree   \n",
       "5                          Good Food quality_Agree   \n",
       "6                        Good Food quality_Neutral   \n",
       "7              Google Maps Accuracy_Strongly Agree   \n",
       "8   Delay of delivery person picking up food_Agree   \n",
       "9          Wrong order delivered_Strongly disagree   \n",
       "10         Less Delivery time_Moderately Important   \n",
       "11                        Long delivery time_Agree   \n",
       "\n",
       "                                                   6   \\\n",
       "0                        Ease and convenient_Disagree   \n",
       "1                    More restaurant choices_Disagree   \n",
       "2                                  Unaffordable_Agree   \n",
       "3                             Unavailability_Disagree   \n",
       "4                                  Occupation_Student   \n",
       "5                        Late Delivery_Strongly agree   \n",
       "6                         Missing item_Strongly agree   \n",
       "7                        Maximum wait time_15 minutes   \n",
       "8                              Late Delivery_Disagree   \n",
       "9                   High Quality of package_Important   \n",
       "10  Delay of delivery person getting assigned_Disa...   \n",
       "11             High Quality of package_Very Important   \n",
       "\n",
       "                                         7   \\\n",
       "0              Ease and convenient_Disagree   \n",
       "1                      Time saving_Disagree   \n",
       "2                       Occupation_Employee   \n",
       "3                            Meal(P1)_Lunch   \n",
       "4                        Unaffordable_Agree   \n",
       "5                 Good Food quality_Neutral   \n",
       "6          More restaurant choices_Disagree   \n",
       "7       Educational Qualifications_Graduate   \n",
       "8                 Influence of rating_Maybe   \n",
       "9                               Family size   \n",
       "10  Less Delivery time_Moderately Important   \n",
       "11           Number of calls_Very Important   \n",
       "\n",
       "                                                8   \\\n",
       "0                     Ease and convenient_Disagree   \n",
       "1                             Time saving_Disagree   \n",
       "2                      Unaffordable_Strongly agree   \n",
       "3                              Occupation_Employee   \n",
       "4                               Unaffordable_Agree   \n",
       "5                        Good Food quality_Neutral   \n",
       "6   Delay of delivery person picking up food_Agree   \n",
       "7                            Good Taste _Important   \n",
       "8                High Quality of package_Important   \n",
       "9                      Missing item_Strongly agree   \n",
       "10        Educational Qualifications_Post Graduate   \n",
       "11                   Time saving_Strongly disagree   \n",
       "\n",
       "                                  9                                        10  \\\n",
       "0       Ease and convenient_Disagree             Ease and convenient_Disagree   \n",
       "1               Time saving_Disagree                     Time saving_Disagree   \n",
       "2                 Occupation_Student                     Missing item_Neutral   \n",
       "3                     Meal(P1)_Lunch                      Occupation_Employee   \n",
       "4   More restaurant choices_Disagree         More restaurant choices_Disagree   \n",
       "5                 Unaffordable_Agree                       Unaffordable_Agree   \n",
       "6          Influence of rating_Maybe                Good Food quality_Neutral   \n",
       "7          Good Food quality_Neutral                   Late Delivery_Disagree   \n",
       "8     More Offers and Discount_Agree                   Perference(P2)_ Sweets   \n",
       "9             Late Delivery_Disagree              Missing item_Strongly agree   \n",
       "10             Missing item_Disagree  Less Delivery time_Moderately Important   \n",
       "11                               Age                    Missing item_Disagree   \n",
       "\n",
       "                                          11  \n",
       "0               Ease and convenient_Disagree  \n",
       "1                       Time saving_Disagree  \n",
       "2                        Occupation_Employee  \n",
       "3                Unaffordable_Strongly agree  \n",
       "4                         Unaffordable_Agree  \n",
       "5                    Good Food quality_Agree  \n",
       "6                           Meal(P2)_ Snacks  \n",
       "7   Educational Qualifications_Post Graduate  \n",
       "8                Missing item_Strongly agree  \n",
       "9              Time saving_Strongly disagree  \n",
       "10   Wrong order delivered_Strongly disagree  \n",
       "11           Order placed by mistake_Neutral  "
      ]
     },
     "execution_count": 105,
     "metadata": {},
     "output_type": "execute_result"
    }
   ],
   "source": [
    "feature_common"
   ]
  },
  {
   "cell_type": "code",
   "execution_count": 106,
   "metadata": {
    "ExecuteTime": {
     "end_time": "2021-02-22T04:04:08.115711Z",
     "start_time": "2021-02-22T04:04:07.884840Z"
    }
   },
   "outputs": [],
   "source": [
    "l2=feature_extract(clf,l1)"
   ]
  },
  {
   "cell_type": "code",
   "execution_count": 107,
   "metadata": {
    "ExecuteTime": {
     "end_time": "2021-02-22T04:04:08.230645Z",
     "start_time": "2021-02-22T04:04:08.119711Z"
    }
   },
   "outputs": [],
   "source": [
    "relation_between_feature=pd.DataFrame(index=l2)"
   ]
  },
  {
   "cell_type": "code",
   "execution_count": 108,
   "metadata": {
    "ExecuteTime": {
     "end_time": "2021-02-22T04:04:08.356572Z",
     "start_time": "2021-02-22T04:04:08.234639Z"
    },
    "scrolled": false
   },
   "outputs": [
    {
     "data": {
      "text/html": [
       "<div>\n",
       "<style scoped>\n",
       "    .dataframe tbody tr th:only-of-type {\n",
       "        vertical-align: middle;\n",
       "    }\n",
       "\n",
       "    .dataframe tbody tr th {\n",
       "        vertical-align: top;\n",
       "    }\n",
       "\n",
       "    .dataframe thead th {\n",
       "        text-align: right;\n",
       "    }\n",
       "</style>\n",
       "<table border=\"1\" class=\"dataframe\">\n",
       "  <thead>\n",
       "    <tr style=\"text-align: right;\">\n",
       "      <th></th>\n",
       "    </tr>\n",
       "  </thead>\n",
       "  <tbody>\n",
       "    <tr>\n",
       "      <th>Ease and convenient_Disagree</th>\n",
       "    </tr>\n",
       "    <tr>\n",
       "      <th>Time saving_Disagree</th>\n",
       "    </tr>\n",
       "    <tr>\n",
       "      <th>Occupation_Employee</th>\n",
       "    </tr>\n",
       "    <tr>\n",
       "      <th>Unaffordable_Strongly agree</th>\n",
       "    </tr>\n",
       "    <tr>\n",
       "      <th>Unaffordable_Agree</th>\n",
       "    </tr>\n",
       "  </tbody>\n",
       "</table>\n",
       "</div>"
      ],
      "text/plain": [
       "Empty DataFrame\n",
       "Columns: []\n",
       "Index: [Ease and convenient_Disagree, Time saving_Disagree, Occupation_Employee, Unaffordable_Strongly agree, Unaffordable_Agree]"
      ]
     },
     "execution_count": 108,
     "metadata": {},
     "output_type": "execute_result"
    }
   ],
   "source": [
    "relation_between_feature.head()"
   ]
  },
  {
   "cell_type": "code",
   "execution_count": 109,
   "metadata": {
    "ExecuteTime": {
     "end_time": "2021-02-22T04:04:08.544846Z",
     "start_time": "2021-02-22T04:04:08.360568Z"
    }
   },
   "outputs": [
    {
     "data": {
      "text/html": [
       "<div>\n",
       "<style scoped>\n",
       "    .dataframe tbody tr th:only-of-type {\n",
       "        vertical-align: middle;\n",
       "    }\n",
       "\n",
       "    .dataframe tbody tr th {\n",
       "        vertical-align: top;\n",
       "    }\n",
       "\n",
       "    .dataframe thead th {\n",
       "        text-align: right;\n",
       "    }\n",
       "</style>\n",
       "<table border=\"1\" class=\"dataframe\">\n",
       "  <thead>\n",
       "    <tr style=\"text-align: right;\">\n",
       "      <th></th>\n",
       "      <th>Ease and convenient_Disagree</th>\n",
       "      <th>Time saving_Disagree</th>\n",
       "      <th>Occupation_Employee</th>\n",
       "      <th>Unaffordable_Strongly agree</th>\n",
       "      <th>Unaffordable_Agree</th>\n",
       "      <th>Good Food quality_Agree</th>\n",
       "      <th>Meal(P2)_ Snacks</th>\n",
       "      <th>Educational Qualifications_Post Graduate</th>\n",
       "      <th>Missing item_Strongly agree</th>\n",
       "      <th>Time saving_Strongly disagree</th>\n",
       "      <th>Wrong order delivered_Strongly disagree</th>\n",
       "      <th>Order placed by mistake_Neutral</th>\n",
       "    </tr>\n",
       "  </thead>\n",
       "  <tbody>\n",
       "    <tr>\n",
       "      <th>0</th>\n",
       "      <td>0</td>\n",
       "      <td>0</td>\n",
       "      <td>0</td>\n",
       "      <td>0</td>\n",
       "      <td>0</td>\n",
       "      <td>0</td>\n",
       "      <td>0</td>\n",
       "      <td>1</td>\n",
       "      <td>0</td>\n",
       "      <td>0</td>\n",
       "      <td>0</td>\n",
       "      <td>0</td>\n",
       "    </tr>\n",
       "    <tr>\n",
       "      <th>1</th>\n",
       "      <td>0</td>\n",
       "      <td>0</td>\n",
       "      <td>0</td>\n",
       "      <td>1</td>\n",
       "      <td>0</td>\n",
       "      <td>0</td>\n",
       "      <td>0</td>\n",
       "      <td>0</td>\n",
       "      <td>1</td>\n",
       "      <td>0</td>\n",
       "      <td>0</td>\n",
       "      <td>0</td>\n",
       "    </tr>\n",
       "    <tr>\n",
       "      <th>2</th>\n",
       "      <td>0</td>\n",
       "      <td>0</td>\n",
       "      <td>0</td>\n",
       "      <td>0</td>\n",
       "      <td>1</td>\n",
       "      <td>0</td>\n",
       "      <td>1</td>\n",
       "      <td>1</td>\n",
       "      <td>0</td>\n",
       "      <td>0</td>\n",
       "      <td>0</td>\n",
       "      <td>1</td>\n",
       "    </tr>\n",
       "    <tr>\n",
       "      <th>3</th>\n",
       "      <td>0</td>\n",
       "      <td>0</td>\n",
       "      <td>0</td>\n",
       "      <td>0</td>\n",
       "      <td>0</td>\n",
       "      <td>1</td>\n",
       "      <td>0</td>\n",
       "      <td>0</td>\n",
       "      <td>0</td>\n",
       "      <td>0</td>\n",
       "      <td>0</td>\n",
       "      <td>1</td>\n",
       "    </tr>\n",
       "    <tr>\n",
       "      <th>4</th>\n",
       "      <td>0</td>\n",
       "      <td>0</td>\n",
       "      <td>0</td>\n",
       "      <td>0</td>\n",
       "      <td>0</td>\n",
       "      <td>0</td>\n",
       "      <td>0</td>\n",
       "      <td>1</td>\n",
       "      <td>0</td>\n",
       "      <td>0</td>\n",
       "      <td>0</td>\n",
       "      <td>0</td>\n",
       "    </tr>\n",
       "    <tr>\n",
       "      <th>...</th>\n",
       "      <td>...</td>\n",
       "      <td>...</td>\n",
       "      <td>...</td>\n",
       "      <td>...</td>\n",
       "      <td>...</td>\n",
       "      <td>...</td>\n",
       "      <td>...</td>\n",
       "      <td>...</td>\n",
       "      <td>...</td>\n",
       "      <td>...</td>\n",
       "      <td>...</td>\n",
       "      <td>...</td>\n",
       "    </tr>\n",
       "    <tr>\n",
       "      <th>597</th>\n",
       "      <td>0</td>\n",
       "      <td>1</td>\n",
       "      <td>0</td>\n",
       "      <td>0</td>\n",
       "      <td>0</td>\n",
       "      <td>1</td>\n",
       "      <td>0</td>\n",
       "      <td>0</td>\n",
       "      <td>0</td>\n",
       "      <td>0</td>\n",
       "      <td>0</td>\n",
       "      <td>0</td>\n",
       "    </tr>\n",
       "    <tr>\n",
       "      <th>598</th>\n",
       "      <td>0</td>\n",
       "      <td>0</td>\n",
       "      <td>1</td>\n",
       "      <td>0</td>\n",
       "      <td>0</td>\n",
       "      <td>1</td>\n",
       "      <td>1</td>\n",
       "      <td>0</td>\n",
       "      <td>0</td>\n",
       "      <td>0</td>\n",
       "      <td>1</td>\n",
       "      <td>0</td>\n",
       "    </tr>\n",
       "    <tr>\n",
       "      <th>599</th>\n",
       "      <td>1</td>\n",
       "      <td>1</td>\n",
       "      <td>0</td>\n",
       "      <td>0</td>\n",
       "      <td>0</td>\n",
       "      <td>1</td>\n",
       "      <td>0</td>\n",
       "      <td>0</td>\n",
       "      <td>1</td>\n",
       "      <td>0</td>\n",
       "      <td>0</td>\n",
       "      <td>0</td>\n",
       "    </tr>\n",
       "    <tr>\n",
       "      <th>600</th>\n",
       "      <td>1</td>\n",
       "      <td>0</td>\n",
       "      <td>0</td>\n",
       "      <td>0</td>\n",
       "      <td>0</td>\n",
       "      <td>0</td>\n",
       "      <td>0</td>\n",
       "      <td>1</td>\n",
       "      <td>0</td>\n",
       "      <td>0</td>\n",
       "      <td>0</td>\n",
       "      <td>0</td>\n",
       "    </tr>\n",
       "    <tr>\n",
       "      <th>601</th>\n",
       "      <td>0</td>\n",
       "      <td>1</td>\n",
       "      <td>1</td>\n",
       "      <td>1</td>\n",
       "      <td>0</td>\n",
       "      <td>1</td>\n",
       "      <td>1</td>\n",
       "      <td>0</td>\n",
       "      <td>0</td>\n",
       "      <td>0</td>\n",
       "      <td>0</td>\n",
       "      <td>0</td>\n",
       "    </tr>\n",
       "  </tbody>\n",
       "</table>\n",
       "<p>602 rows × 12 columns</p>\n",
       "</div>"
      ],
      "text/plain": [
       "     Ease and convenient_Disagree  Time saving_Disagree  Occupation_Employee  \\\n",
       "0                               0                     0                    0   \n",
       "1                               0                     0                    0   \n",
       "2                               0                     0                    0   \n",
       "3                               0                     0                    0   \n",
       "4                               0                     0                    0   \n",
       "..                            ...                   ...                  ...   \n",
       "597                             0                     1                    0   \n",
       "598                             0                     0                    1   \n",
       "599                             1                     1                    0   \n",
       "600                             1                     0                    0   \n",
       "601                             0                     1                    1   \n",
       "\n",
       "     Unaffordable_Strongly agree  Unaffordable_Agree  Good Food quality_Agree  \\\n",
       "0                              0                   0                        0   \n",
       "1                              1                   0                        0   \n",
       "2                              0                   1                        0   \n",
       "3                              0                   0                        1   \n",
       "4                              0                   0                        0   \n",
       "..                           ...                 ...                      ...   \n",
       "597                            0                   0                        1   \n",
       "598                            0                   0                        1   \n",
       "599                            0                   0                        1   \n",
       "600                            0                   0                        0   \n",
       "601                            1                   0                        1   \n",
       "\n",
       "     Meal(P2)_ Snacks  Educational Qualifications_Post Graduate  \\\n",
       "0                   0                                         1   \n",
       "1                   0                                         0   \n",
       "2                   1                                         1   \n",
       "3                   0                                         0   \n",
       "4                   0                                         1   \n",
       "..                ...                                       ...   \n",
       "597                 0                                         0   \n",
       "598                 1                                         0   \n",
       "599                 0                                         0   \n",
       "600                 0                                         1   \n",
       "601                 1                                         0   \n",
       "\n",
       "     Missing item_Strongly agree  Time saving_Strongly disagree  \\\n",
       "0                              0                              0   \n",
       "1                              1                              0   \n",
       "2                              0                              0   \n",
       "3                              0                              0   \n",
       "4                              0                              0   \n",
       "..                           ...                            ...   \n",
       "597                            0                              0   \n",
       "598                            0                              0   \n",
       "599                            1                              0   \n",
       "600                            0                              0   \n",
       "601                            0                              0   \n",
       "\n",
       "     Wrong order delivered_Strongly disagree  Order placed by mistake_Neutral  \n",
       "0                                          0                                0  \n",
       "1                                          0                                0  \n",
       "2                                          0                                1  \n",
       "3                                          0                                1  \n",
       "4                                          0                                0  \n",
       "..                                       ...                              ...  \n",
       "597                                        0                                0  \n",
       "598                                        1                                0  \n",
       "599                                        0                                0  \n",
       "600                                        0                                0  \n",
       "601                                        0                                0  \n",
       "\n",
       "[602 rows x 12 columns]"
      ]
     },
     "execution_count": 109,
     "metadata": {},
     "output_type": "execute_result"
    }
   ],
   "source": [
    "X[l2]"
   ]
  },
  {
   "cell_type": "code",
   "execution_count": 110,
   "metadata": {
    "ExecuteTime": {
     "end_time": "2021-02-22T04:04:11.772424Z",
     "start_time": "2021-02-22T04:04:08.548827Z"
    }
   },
   "outputs": [],
   "source": [
    "\n",
    "for i in l2:\n",
    "    l1=[]\n",
    "    for j in l2:\n",
    "        df_t=pd.crosstab(X[j],X[i])\n",
    "        stat, p, dof, expected = st.chi2_contingency(df_t,correction=True)\n",
    "        t=min(df_t.shape)-1\n",
    "        deno=sum(df_t.sum())\n",
    "        x=np.sqrt(stat / deno)\n",
    "        l1.append(x)\n",
    "    relation_between_feature[i]=l1\n",
    "    \n",
    "\n",
    "\n",
    "\n",
    "        \n"
   ]
  },
  {
   "cell_type": "code",
   "execution_count": 111,
   "metadata": {
    "ExecuteTime": {
     "end_time": "2021-02-22T04:04:11.822575Z",
     "start_time": "2021-02-22T04:04:11.772424Z"
    },
    "scrolled": false
   },
   "outputs": [
    {
     "data": {
      "text/html": [
       "<div>\n",
       "<style scoped>\n",
       "    .dataframe tbody tr th:only-of-type {\n",
       "        vertical-align: middle;\n",
       "    }\n",
       "\n",
       "    .dataframe tbody tr th {\n",
       "        vertical-align: top;\n",
       "    }\n",
       "\n",
       "    .dataframe thead th {\n",
       "        text-align: right;\n",
       "    }\n",
       "</style>\n",
       "<table border=\"1\" class=\"dataframe\">\n",
       "  <thead>\n",
       "    <tr style=\"text-align: right;\">\n",
       "      <th></th>\n",
       "      <th>Ease and convenient_Disagree</th>\n",
       "      <th>Time saving_Disagree</th>\n",
       "      <th>Occupation_Employee</th>\n",
       "      <th>Unaffordable_Strongly agree</th>\n",
       "      <th>Unaffordable_Agree</th>\n",
       "      <th>Good Food quality_Agree</th>\n",
       "      <th>Meal(P2)_ Snacks</th>\n",
       "      <th>Educational Qualifications_Post Graduate</th>\n",
       "      <th>Missing item_Strongly agree</th>\n",
       "      <th>Time saving_Strongly disagree</th>\n",
       "      <th>Wrong order delivered_Strongly disagree</th>\n",
       "      <th>Order placed by mistake_Neutral</th>\n",
       "    </tr>\n",
       "  </thead>\n",
       "  <tbody>\n",
       "    <tr>\n",
       "      <th>Ease and convenient_Disagree</th>\n",
       "      <td>0.996144</td>\n",
       "      <td>0.557043</td>\n",
       "      <td>0.087204</td>\n",
       "      <td>0.025648</td>\n",
       "      <td>0.275115</td>\n",
       "      <td>0.175527</td>\n",
       "      <td>0.087209</td>\n",
       "      <td>0.169459</td>\n",
       "      <td>0.028754</td>\n",
       "      <td>0.055114</td>\n",
       "      <td>0.059760</td>\n",
       "      <td>0.188068</td>\n",
       "    </tr>\n",
       "    <tr>\n",
       "      <th>Time saving_Disagree</th>\n",
       "      <td>0.557043</td>\n",
       "      <td>0.996266</td>\n",
       "      <td>0.083572</td>\n",
       "      <td>0.046109</td>\n",
       "      <td>0.294606</td>\n",
       "      <td>0.052999</td>\n",
       "      <td>0.016442</td>\n",
       "      <td>0.214602</td>\n",
       "      <td>0.039405</td>\n",
       "      <td>0.106038</td>\n",
       "      <td>0.019020</td>\n",
       "      <td>0.170776</td>\n",
       "    </tr>\n",
       "    <tr>\n",
       "      <th>Occupation_Employee</th>\n",
       "      <td>0.087204</td>\n",
       "      <td>0.083572</td>\n",
       "      <td>0.996390</td>\n",
       "      <td>0.042840</td>\n",
       "      <td>0.011112</td>\n",
       "      <td>0.107554</td>\n",
       "      <td>0.058618</td>\n",
       "      <td>0.166532</td>\n",
       "      <td>0.012283</td>\n",
       "      <td>0.026717</td>\n",
       "      <td>0.159143</td>\n",
       "      <td>0.117352</td>\n",
       "    </tr>\n",
       "    <tr>\n",
       "      <th>Unaffordable_Strongly agree</th>\n",
       "      <td>0.025648</td>\n",
       "      <td>0.046109</td>\n",
       "      <td>0.042840</td>\n",
       "      <td>0.990156</td>\n",
       "      <td>0.180380</td>\n",
       "      <td>0.078071</td>\n",
       "      <td>0.268815</td>\n",
       "      <td>0.035417</td>\n",
       "      <td>0.131857</td>\n",
       "      <td>0.178187</td>\n",
       "      <td>0.088799</td>\n",
       "      <td>0.083210</td>\n",
       "    </tr>\n",
       "    <tr>\n",
       "      <th>Unaffordable_Agree</th>\n",
       "      <td>0.275115</td>\n",
       "      <td>0.294606</td>\n",
       "      <td>0.011112</td>\n",
       "      <td>0.180380</td>\n",
       "      <td>0.995618</td>\n",
       "      <td>0.040878</td>\n",
       "      <td>0.075804</td>\n",
       "      <td>0.111483</td>\n",
       "      <td>0.074229</td>\n",
       "      <td>0.010284</td>\n",
       "      <td>0.077824</td>\n",
       "      <td>0.068050</td>\n",
       "    </tr>\n",
       "    <tr>\n",
       "      <th>Good Food quality_Agree</th>\n",
       "      <td>0.175527</td>\n",
       "      <td>0.052999</td>\n",
       "      <td>0.107554</td>\n",
       "      <td>0.078071</td>\n",
       "      <td>0.040878</td>\n",
       "      <td>0.996464</td>\n",
       "      <td>0.008103</td>\n",
       "      <td>0.018358</td>\n",
       "      <td>0.168519</td>\n",
       "      <td>0.053980</td>\n",
       "      <td>0.043785</td>\n",
       "      <td>0.151094</td>\n",
       "    </tr>\n",
       "    <tr>\n",
       "      <th>Meal(P2)_ Snacks</th>\n",
       "      <td>0.087209</td>\n",
       "      <td>0.016442</td>\n",
       "      <td>0.058618</td>\n",
       "      <td>0.268815</td>\n",
       "      <td>0.075804</td>\n",
       "      <td>0.008103</td>\n",
       "      <td>0.992385</td>\n",
       "      <td>0.002887</td>\n",
       "      <td>0.021681</td>\n",
       "      <td>0.046700</td>\n",
       "      <td>0.001296</td>\n",
       "      <td>0.168164</td>\n",
       "    </tr>\n",
       "    <tr>\n",
       "      <th>Educational Qualifications_Post Graduate</th>\n",
       "      <td>0.169459</td>\n",
       "      <td>0.214602</td>\n",
       "      <td>0.166532</td>\n",
       "      <td>0.035417</td>\n",
       "      <td>0.111483</td>\n",
       "      <td>0.018358</td>\n",
       "      <td>0.002887</td>\n",
       "      <td>0.996488</td>\n",
       "      <td>0.086214</td>\n",
       "      <td>0.013582</td>\n",
       "      <td>0.167903</td>\n",
       "      <td>0.224414</td>\n",
       "    </tr>\n",
       "    <tr>\n",
       "      <th>Missing item_Strongly agree</th>\n",
       "      <td>0.028754</td>\n",
       "      <td>0.039405</td>\n",
       "      <td>0.012283</td>\n",
       "      <td>0.131857</td>\n",
       "      <td>0.074229</td>\n",
       "      <td>0.168519</td>\n",
       "      <td>0.021681</td>\n",
       "      <td>0.086214</td>\n",
       "      <td>0.993855</td>\n",
       "      <td>0.082078</td>\n",
       "      <td>0.171219</td>\n",
       "      <td>0.032419</td>\n",
       "    </tr>\n",
       "    <tr>\n",
       "      <th>Time saving_Strongly disagree</th>\n",
       "      <td>0.055114</td>\n",
       "      <td>0.106038</td>\n",
       "      <td>0.026717</td>\n",
       "      <td>0.178187</td>\n",
       "      <td>0.010284</td>\n",
       "      <td>0.053980</td>\n",
       "      <td>0.046700</td>\n",
       "      <td>0.013582</td>\n",
       "      <td>0.082078</td>\n",
       "      <td>0.967897</td>\n",
       "      <td>0.007143</td>\n",
       "      <td>0.019757</td>\n",
       "    </tr>\n",
       "    <tr>\n",
       "      <th>Wrong order delivered_Strongly disagree</th>\n",
       "      <td>0.059760</td>\n",
       "      <td>0.019020</td>\n",
       "      <td>0.159143</td>\n",
       "      <td>0.088799</td>\n",
       "      <td>0.077824</td>\n",
       "      <td>0.043785</td>\n",
       "      <td>0.001296</td>\n",
       "      <td>0.167903</td>\n",
       "      <td>0.171219</td>\n",
       "      <td>0.007143</td>\n",
       "      <td>0.993151</td>\n",
       "      <td>0.124930</td>\n",
       "    </tr>\n",
       "    <tr>\n",
       "      <th>Order placed by mistake_Neutral</th>\n",
       "      <td>0.188068</td>\n",
       "      <td>0.170776</td>\n",
       "      <td>0.117352</td>\n",
       "      <td>0.083210</td>\n",
       "      <td>0.068050</td>\n",
       "      <td>0.151094</td>\n",
       "      <td>0.168164</td>\n",
       "      <td>0.224414</td>\n",
       "      <td>0.032419</td>\n",
       "      <td>0.019757</td>\n",
       "      <td>0.124930</td>\n",
       "      <td>0.992867</td>\n",
       "    </tr>\n",
       "  </tbody>\n",
       "</table>\n",
       "</div>"
      ],
      "text/plain": [
       "                                          Ease and convenient_Disagree  \\\n",
       "Ease and convenient_Disagree                                  0.996144   \n",
       "Time saving_Disagree                                          0.557043   \n",
       "Occupation_Employee                                           0.087204   \n",
       "Unaffordable_Strongly agree                                   0.025648   \n",
       "Unaffordable_Agree                                            0.275115   \n",
       "Good Food quality_Agree                                       0.175527   \n",
       "Meal(P2)_ Snacks                                              0.087209   \n",
       "Educational Qualifications_Post Graduate                      0.169459   \n",
       "Missing item_Strongly agree                                   0.028754   \n",
       "Time saving_Strongly disagree                                 0.055114   \n",
       "Wrong order delivered_Strongly disagree                       0.059760   \n",
       "Order placed by mistake_Neutral                               0.188068   \n",
       "\n",
       "                                          Time saving_Disagree  \\\n",
       "Ease and convenient_Disagree                          0.557043   \n",
       "Time saving_Disagree                                  0.996266   \n",
       "Occupation_Employee                                   0.083572   \n",
       "Unaffordable_Strongly agree                           0.046109   \n",
       "Unaffordable_Agree                                    0.294606   \n",
       "Good Food quality_Agree                               0.052999   \n",
       "Meal(P2)_ Snacks                                      0.016442   \n",
       "Educational Qualifications_Post Graduate              0.214602   \n",
       "Missing item_Strongly agree                           0.039405   \n",
       "Time saving_Strongly disagree                         0.106038   \n",
       "Wrong order delivered_Strongly disagree               0.019020   \n",
       "Order placed by mistake_Neutral                       0.170776   \n",
       "\n",
       "                                          Occupation_Employee  \\\n",
       "Ease and convenient_Disagree                         0.087204   \n",
       "Time saving_Disagree                                 0.083572   \n",
       "Occupation_Employee                                  0.996390   \n",
       "Unaffordable_Strongly agree                          0.042840   \n",
       "Unaffordable_Agree                                   0.011112   \n",
       "Good Food quality_Agree                              0.107554   \n",
       "Meal(P2)_ Snacks                                     0.058618   \n",
       "Educational Qualifications_Post Graduate             0.166532   \n",
       "Missing item_Strongly agree                          0.012283   \n",
       "Time saving_Strongly disagree                        0.026717   \n",
       "Wrong order delivered_Strongly disagree              0.159143   \n",
       "Order placed by mistake_Neutral                      0.117352   \n",
       "\n",
       "                                          Unaffordable_Strongly agree  \\\n",
       "Ease and convenient_Disagree                                 0.025648   \n",
       "Time saving_Disagree                                         0.046109   \n",
       "Occupation_Employee                                          0.042840   \n",
       "Unaffordable_Strongly agree                                  0.990156   \n",
       "Unaffordable_Agree                                           0.180380   \n",
       "Good Food quality_Agree                                      0.078071   \n",
       "Meal(P2)_ Snacks                                             0.268815   \n",
       "Educational Qualifications_Post Graduate                     0.035417   \n",
       "Missing item_Strongly agree                                  0.131857   \n",
       "Time saving_Strongly disagree                                0.178187   \n",
       "Wrong order delivered_Strongly disagree                      0.088799   \n",
       "Order placed by mistake_Neutral                              0.083210   \n",
       "\n",
       "                                          Unaffordable_Agree  \\\n",
       "Ease and convenient_Disagree                        0.275115   \n",
       "Time saving_Disagree                                0.294606   \n",
       "Occupation_Employee                                 0.011112   \n",
       "Unaffordable_Strongly agree                         0.180380   \n",
       "Unaffordable_Agree                                  0.995618   \n",
       "Good Food quality_Agree                             0.040878   \n",
       "Meal(P2)_ Snacks                                    0.075804   \n",
       "Educational Qualifications_Post Graduate            0.111483   \n",
       "Missing item_Strongly agree                         0.074229   \n",
       "Time saving_Strongly disagree                       0.010284   \n",
       "Wrong order delivered_Strongly disagree             0.077824   \n",
       "Order placed by mistake_Neutral                     0.068050   \n",
       "\n",
       "                                          Good Food quality_Agree  \\\n",
       "Ease and convenient_Disagree                             0.175527   \n",
       "Time saving_Disagree                                     0.052999   \n",
       "Occupation_Employee                                      0.107554   \n",
       "Unaffordable_Strongly agree                              0.078071   \n",
       "Unaffordable_Agree                                       0.040878   \n",
       "Good Food quality_Agree                                  0.996464   \n",
       "Meal(P2)_ Snacks                                         0.008103   \n",
       "Educational Qualifications_Post Graduate                 0.018358   \n",
       "Missing item_Strongly agree                              0.168519   \n",
       "Time saving_Strongly disagree                            0.053980   \n",
       "Wrong order delivered_Strongly disagree                  0.043785   \n",
       "Order placed by mistake_Neutral                          0.151094   \n",
       "\n",
       "                                          Meal(P2)_ Snacks  \\\n",
       "Ease and convenient_Disagree                      0.087209   \n",
       "Time saving_Disagree                              0.016442   \n",
       "Occupation_Employee                               0.058618   \n",
       "Unaffordable_Strongly agree                       0.268815   \n",
       "Unaffordable_Agree                                0.075804   \n",
       "Good Food quality_Agree                           0.008103   \n",
       "Meal(P2)_ Snacks                                  0.992385   \n",
       "Educational Qualifications_Post Graduate          0.002887   \n",
       "Missing item_Strongly agree                       0.021681   \n",
       "Time saving_Strongly disagree                     0.046700   \n",
       "Wrong order delivered_Strongly disagree           0.001296   \n",
       "Order placed by mistake_Neutral                   0.168164   \n",
       "\n",
       "                                          Educational Qualifications_Post Graduate  \\\n",
       "Ease and convenient_Disagree                                              0.169459   \n",
       "Time saving_Disagree                                                      0.214602   \n",
       "Occupation_Employee                                                       0.166532   \n",
       "Unaffordable_Strongly agree                                               0.035417   \n",
       "Unaffordable_Agree                                                        0.111483   \n",
       "Good Food quality_Agree                                                   0.018358   \n",
       "Meal(P2)_ Snacks                                                          0.002887   \n",
       "Educational Qualifications_Post Graduate                                  0.996488   \n",
       "Missing item_Strongly agree                                               0.086214   \n",
       "Time saving_Strongly disagree                                             0.013582   \n",
       "Wrong order delivered_Strongly disagree                                   0.167903   \n",
       "Order placed by mistake_Neutral                                           0.224414   \n",
       "\n",
       "                                          Missing item_Strongly agree  \\\n",
       "Ease and convenient_Disagree                                 0.028754   \n",
       "Time saving_Disagree                                         0.039405   \n",
       "Occupation_Employee                                          0.012283   \n",
       "Unaffordable_Strongly agree                                  0.131857   \n",
       "Unaffordable_Agree                                           0.074229   \n",
       "Good Food quality_Agree                                      0.168519   \n",
       "Meal(P2)_ Snacks                                             0.021681   \n",
       "Educational Qualifications_Post Graduate                     0.086214   \n",
       "Missing item_Strongly agree                                  0.993855   \n",
       "Time saving_Strongly disagree                                0.082078   \n",
       "Wrong order delivered_Strongly disagree                      0.171219   \n",
       "Order placed by mistake_Neutral                              0.032419   \n",
       "\n",
       "                                          Time saving_Strongly disagree  \\\n",
       "Ease and convenient_Disagree                                   0.055114   \n",
       "Time saving_Disagree                                           0.106038   \n",
       "Occupation_Employee                                            0.026717   \n",
       "Unaffordable_Strongly agree                                    0.178187   \n",
       "Unaffordable_Agree                                             0.010284   \n",
       "Good Food quality_Agree                                        0.053980   \n",
       "Meal(P2)_ Snacks                                               0.046700   \n",
       "Educational Qualifications_Post Graduate                       0.013582   \n",
       "Missing item_Strongly agree                                    0.082078   \n",
       "Time saving_Strongly disagree                                  0.967897   \n",
       "Wrong order delivered_Strongly disagree                        0.007143   \n",
       "Order placed by mistake_Neutral                                0.019757   \n",
       "\n",
       "                                          Wrong order delivered_Strongly disagree  \\\n",
       "Ease and convenient_Disagree                                             0.059760   \n",
       "Time saving_Disagree                                                     0.019020   \n",
       "Occupation_Employee                                                      0.159143   \n",
       "Unaffordable_Strongly agree                                              0.088799   \n",
       "Unaffordable_Agree                                                       0.077824   \n",
       "Good Food quality_Agree                                                  0.043785   \n",
       "Meal(P2)_ Snacks                                                         0.001296   \n",
       "Educational Qualifications_Post Graduate                                 0.167903   \n",
       "Missing item_Strongly agree                                              0.171219   \n",
       "Time saving_Strongly disagree                                            0.007143   \n",
       "Wrong order delivered_Strongly disagree                                  0.993151   \n",
       "Order placed by mistake_Neutral                                          0.124930   \n",
       "\n",
       "                                          Order placed by mistake_Neutral  \n",
       "Ease and convenient_Disagree                                     0.188068  \n",
       "Time saving_Disagree                                             0.170776  \n",
       "Occupation_Employee                                              0.117352  \n",
       "Unaffordable_Strongly agree                                      0.083210  \n",
       "Unaffordable_Agree                                               0.068050  \n",
       "Good Food quality_Agree                                          0.151094  \n",
       "Meal(P2)_ Snacks                                                 0.168164  \n",
       "Educational Qualifications_Post Graduate                         0.224414  \n",
       "Missing item_Strongly agree                                      0.032419  \n",
       "Time saving_Strongly disagree                                    0.019757  \n",
       "Wrong order delivered_Strongly disagree                          0.124930  \n",
       "Order placed by mistake_Neutral                                  0.992867  "
      ]
     },
     "execution_count": 111,
     "metadata": {},
     "output_type": "execute_result"
    }
   ],
   "source": [
    "relation_between_feature"
   ]
  },
  {
   "cell_type": "code",
   "execution_count": 112,
   "metadata": {
    "ExecuteTime": {
     "end_time": "2021-02-22T04:04:12.247193Z",
     "start_time": "2021-02-22T04:04:11.826575Z"
    }
   },
   "outputs": [
    {
     "data": {
      "text/plain": [
       "(388, 51)"
      ]
     },
     "execution_count": 112,
     "metadata": {},
     "output_type": "execute_result"
    }
   ],
   "source": [
    "fd_dlvry.shape"
   ]
  },
  {
   "cell_type": "code",
   "execution_count": 113,
   "metadata": {
    "ExecuteTime": {
     "end_time": "2021-02-22T04:04:12.712168Z",
     "start_time": "2021-02-22T04:04:12.251193Z"
    },
    "scrolled": false
   },
   "outputs": [
    {
     "data": {
      "text/html": [
       "<style  type=\"text/css\" >\n",
       "#T_a2c5d_row0_col1,#T_a2c5d_row0_col4,#T_a2c5d_row1_col0,#T_a2c5d_row1_col4,#T_a2c5d_row3_col6,#T_a2c5d_row4_col0,#T_a2c5d_row4_col1,#T_a2c5d_row6_col3,#T_a2c5d_row9_col9{\n",
       "            background:  red;\n",
       "        }</style><table id=\"T_a2c5d_\" ><thead>    <tr>        <th class=\"blank level0\" ></th>        <th class=\"col_heading level0 col0\" >Ease and convenient_Disagree</th>        <th class=\"col_heading level0 col1\" >Time saving_Disagree</th>        <th class=\"col_heading level0 col2\" >Occupation_Employee</th>        <th class=\"col_heading level0 col3\" >Unaffordable_Strongly agree</th>        <th class=\"col_heading level0 col4\" >Unaffordable_Agree</th>        <th class=\"col_heading level0 col5\" >Good Food quality_Agree</th>        <th class=\"col_heading level0 col6\" >Meal(P2)_ Snacks</th>        <th class=\"col_heading level0 col7\" >Educational Qualifications_Post Graduate</th>        <th class=\"col_heading level0 col8\" >Missing item_Strongly agree</th>        <th class=\"col_heading level0 col9\" >Time saving_Strongly disagree</th>        <th class=\"col_heading level0 col10\" >Wrong order delivered_Strongly disagree</th>        <th class=\"col_heading level0 col11\" >Order placed by mistake_Neutral</th>    </tr></thead><tbody>\n",
       "                <tr>\n",
       "                        <th id=\"T_a2c5d_level0_row0\" class=\"row_heading level0 row0\" >Ease and convenient_Disagree</th>\n",
       "                        <td id=\"T_a2c5d_row0_col0\" class=\"data row0 col0\" >0.996144</td>\n",
       "                        <td id=\"T_a2c5d_row0_col1\" class=\"data row0 col1\" >0.557043</td>\n",
       "                        <td id=\"T_a2c5d_row0_col2\" class=\"data row0 col2\" >0.087204</td>\n",
       "                        <td id=\"T_a2c5d_row0_col3\" class=\"data row0 col3\" >0.025648</td>\n",
       "                        <td id=\"T_a2c5d_row0_col4\" class=\"data row0 col4\" >0.275115</td>\n",
       "                        <td id=\"T_a2c5d_row0_col5\" class=\"data row0 col5\" >0.175527</td>\n",
       "                        <td id=\"T_a2c5d_row0_col6\" class=\"data row0 col6\" >0.087209</td>\n",
       "                        <td id=\"T_a2c5d_row0_col7\" class=\"data row0 col7\" >0.169459</td>\n",
       "                        <td id=\"T_a2c5d_row0_col8\" class=\"data row0 col8\" >0.028754</td>\n",
       "                        <td id=\"T_a2c5d_row0_col9\" class=\"data row0 col9\" >0.055114</td>\n",
       "                        <td id=\"T_a2c5d_row0_col10\" class=\"data row0 col10\" >0.059760</td>\n",
       "                        <td id=\"T_a2c5d_row0_col11\" class=\"data row0 col11\" >0.188068</td>\n",
       "            </tr>\n",
       "            <tr>\n",
       "                        <th id=\"T_a2c5d_level0_row1\" class=\"row_heading level0 row1\" >Time saving_Disagree</th>\n",
       "                        <td id=\"T_a2c5d_row1_col0\" class=\"data row1 col0\" >0.557043</td>\n",
       "                        <td id=\"T_a2c5d_row1_col1\" class=\"data row1 col1\" >0.996266</td>\n",
       "                        <td id=\"T_a2c5d_row1_col2\" class=\"data row1 col2\" >0.083572</td>\n",
       "                        <td id=\"T_a2c5d_row1_col3\" class=\"data row1 col3\" >0.046109</td>\n",
       "                        <td id=\"T_a2c5d_row1_col4\" class=\"data row1 col4\" >0.294606</td>\n",
       "                        <td id=\"T_a2c5d_row1_col5\" class=\"data row1 col5\" >0.052999</td>\n",
       "                        <td id=\"T_a2c5d_row1_col6\" class=\"data row1 col6\" >0.016442</td>\n",
       "                        <td id=\"T_a2c5d_row1_col7\" class=\"data row1 col7\" >0.214602</td>\n",
       "                        <td id=\"T_a2c5d_row1_col8\" class=\"data row1 col8\" >0.039405</td>\n",
       "                        <td id=\"T_a2c5d_row1_col9\" class=\"data row1 col9\" >0.106038</td>\n",
       "                        <td id=\"T_a2c5d_row1_col10\" class=\"data row1 col10\" >0.019020</td>\n",
       "                        <td id=\"T_a2c5d_row1_col11\" class=\"data row1 col11\" >0.170776</td>\n",
       "            </tr>\n",
       "            <tr>\n",
       "                        <th id=\"T_a2c5d_level0_row2\" class=\"row_heading level0 row2\" >Occupation_Employee</th>\n",
       "                        <td id=\"T_a2c5d_row2_col0\" class=\"data row2 col0\" >0.087204</td>\n",
       "                        <td id=\"T_a2c5d_row2_col1\" class=\"data row2 col1\" >0.083572</td>\n",
       "                        <td id=\"T_a2c5d_row2_col2\" class=\"data row2 col2\" >0.996390</td>\n",
       "                        <td id=\"T_a2c5d_row2_col3\" class=\"data row2 col3\" >0.042840</td>\n",
       "                        <td id=\"T_a2c5d_row2_col4\" class=\"data row2 col4\" >0.011112</td>\n",
       "                        <td id=\"T_a2c5d_row2_col5\" class=\"data row2 col5\" >0.107554</td>\n",
       "                        <td id=\"T_a2c5d_row2_col6\" class=\"data row2 col6\" >0.058618</td>\n",
       "                        <td id=\"T_a2c5d_row2_col7\" class=\"data row2 col7\" >0.166532</td>\n",
       "                        <td id=\"T_a2c5d_row2_col8\" class=\"data row2 col8\" >0.012283</td>\n",
       "                        <td id=\"T_a2c5d_row2_col9\" class=\"data row2 col9\" >0.026717</td>\n",
       "                        <td id=\"T_a2c5d_row2_col10\" class=\"data row2 col10\" >0.159143</td>\n",
       "                        <td id=\"T_a2c5d_row2_col11\" class=\"data row2 col11\" >0.117352</td>\n",
       "            </tr>\n",
       "            <tr>\n",
       "                        <th id=\"T_a2c5d_level0_row3\" class=\"row_heading level0 row3\" >Unaffordable_Strongly agree</th>\n",
       "                        <td id=\"T_a2c5d_row3_col0\" class=\"data row3 col0\" >0.025648</td>\n",
       "                        <td id=\"T_a2c5d_row3_col1\" class=\"data row3 col1\" >0.046109</td>\n",
       "                        <td id=\"T_a2c5d_row3_col2\" class=\"data row3 col2\" >0.042840</td>\n",
       "                        <td id=\"T_a2c5d_row3_col3\" class=\"data row3 col3\" >0.990156</td>\n",
       "                        <td id=\"T_a2c5d_row3_col4\" class=\"data row3 col4\" >0.180380</td>\n",
       "                        <td id=\"T_a2c5d_row3_col5\" class=\"data row3 col5\" >0.078071</td>\n",
       "                        <td id=\"T_a2c5d_row3_col6\" class=\"data row3 col6\" >0.268815</td>\n",
       "                        <td id=\"T_a2c5d_row3_col7\" class=\"data row3 col7\" >0.035417</td>\n",
       "                        <td id=\"T_a2c5d_row3_col8\" class=\"data row3 col8\" >0.131857</td>\n",
       "                        <td id=\"T_a2c5d_row3_col9\" class=\"data row3 col9\" >0.178187</td>\n",
       "                        <td id=\"T_a2c5d_row3_col10\" class=\"data row3 col10\" >0.088799</td>\n",
       "                        <td id=\"T_a2c5d_row3_col11\" class=\"data row3 col11\" >0.083210</td>\n",
       "            </tr>\n",
       "            <tr>\n",
       "                        <th id=\"T_a2c5d_level0_row4\" class=\"row_heading level0 row4\" >Unaffordable_Agree</th>\n",
       "                        <td id=\"T_a2c5d_row4_col0\" class=\"data row4 col0\" >0.275115</td>\n",
       "                        <td id=\"T_a2c5d_row4_col1\" class=\"data row4 col1\" >0.294606</td>\n",
       "                        <td id=\"T_a2c5d_row4_col2\" class=\"data row4 col2\" >0.011112</td>\n",
       "                        <td id=\"T_a2c5d_row4_col3\" class=\"data row4 col3\" >0.180380</td>\n",
       "                        <td id=\"T_a2c5d_row4_col4\" class=\"data row4 col4\" >0.995618</td>\n",
       "                        <td id=\"T_a2c5d_row4_col5\" class=\"data row4 col5\" >0.040878</td>\n",
       "                        <td id=\"T_a2c5d_row4_col6\" class=\"data row4 col6\" >0.075804</td>\n",
       "                        <td id=\"T_a2c5d_row4_col7\" class=\"data row4 col7\" >0.111483</td>\n",
       "                        <td id=\"T_a2c5d_row4_col8\" class=\"data row4 col8\" >0.074229</td>\n",
       "                        <td id=\"T_a2c5d_row4_col9\" class=\"data row4 col9\" >0.010284</td>\n",
       "                        <td id=\"T_a2c5d_row4_col10\" class=\"data row4 col10\" >0.077824</td>\n",
       "                        <td id=\"T_a2c5d_row4_col11\" class=\"data row4 col11\" >0.068050</td>\n",
       "            </tr>\n",
       "            <tr>\n",
       "                        <th id=\"T_a2c5d_level0_row5\" class=\"row_heading level0 row5\" >Good Food quality_Agree</th>\n",
       "                        <td id=\"T_a2c5d_row5_col0\" class=\"data row5 col0\" >0.175527</td>\n",
       "                        <td id=\"T_a2c5d_row5_col1\" class=\"data row5 col1\" >0.052999</td>\n",
       "                        <td id=\"T_a2c5d_row5_col2\" class=\"data row5 col2\" >0.107554</td>\n",
       "                        <td id=\"T_a2c5d_row5_col3\" class=\"data row5 col3\" >0.078071</td>\n",
       "                        <td id=\"T_a2c5d_row5_col4\" class=\"data row5 col4\" >0.040878</td>\n",
       "                        <td id=\"T_a2c5d_row5_col5\" class=\"data row5 col5\" >0.996464</td>\n",
       "                        <td id=\"T_a2c5d_row5_col6\" class=\"data row5 col6\" >0.008103</td>\n",
       "                        <td id=\"T_a2c5d_row5_col7\" class=\"data row5 col7\" >0.018358</td>\n",
       "                        <td id=\"T_a2c5d_row5_col8\" class=\"data row5 col8\" >0.168519</td>\n",
       "                        <td id=\"T_a2c5d_row5_col9\" class=\"data row5 col9\" >0.053980</td>\n",
       "                        <td id=\"T_a2c5d_row5_col10\" class=\"data row5 col10\" >0.043785</td>\n",
       "                        <td id=\"T_a2c5d_row5_col11\" class=\"data row5 col11\" >0.151094</td>\n",
       "            </tr>\n",
       "            <tr>\n",
       "                        <th id=\"T_a2c5d_level0_row6\" class=\"row_heading level0 row6\" >Meal(P2)_ Snacks</th>\n",
       "                        <td id=\"T_a2c5d_row6_col0\" class=\"data row6 col0\" >0.087209</td>\n",
       "                        <td id=\"T_a2c5d_row6_col1\" class=\"data row6 col1\" >0.016442</td>\n",
       "                        <td id=\"T_a2c5d_row6_col2\" class=\"data row6 col2\" >0.058618</td>\n",
       "                        <td id=\"T_a2c5d_row6_col3\" class=\"data row6 col3\" >0.268815</td>\n",
       "                        <td id=\"T_a2c5d_row6_col4\" class=\"data row6 col4\" >0.075804</td>\n",
       "                        <td id=\"T_a2c5d_row6_col5\" class=\"data row6 col5\" >0.008103</td>\n",
       "                        <td id=\"T_a2c5d_row6_col6\" class=\"data row6 col6\" >0.992385</td>\n",
       "                        <td id=\"T_a2c5d_row6_col7\" class=\"data row6 col7\" >0.002887</td>\n",
       "                        <td id=\"T_a2c5d_row6_col8\" class=\"data row6 col8\" >0.021681</td>\n",
       "                        <td id=\"T_a2c5d_row6_col9\" class=\"data row6 col9\" >0.046700</td>\n",
       "                        <td id=\"T_a2c5d_row6_col10\" class=\"data row6 col10\" >0.001296</td>\n",
       "                        <td id=\"T_a2c5d_row6_col11\" class=\"data row6 col11\" >0.168164</td>\n",
       "            </tr>\n",
       "            <tr>\n",
       "                        <th id=\"T_a2c5d_level0_row7\" class=\"row_heading level0 row7\" >Educational Qualifications_Post Graduate</th>\n",
       "                        <td id=\"T_a2c5d_row7_col0\" class=\"data row7 col0\" >0.169459</td>\n",
       "                        <td id=\"T_a2c5d_row7_col1\" class=\"data row7 col1\" >0.214602</td>\n",
       "                        <td id=\"T_a2c5d_row7_col2\" class=\"data row7 col2\" >0.166532</td>\n",
       "                        <td id=\"T_a2c5d_row7_col3\" class=\"data row7 col3\" >0.035417</td>\n",
       "                        <td id=\"T_a2c5d_row7_col4\" class=\"data row7 col4\" >0.111483</td>\n",
       "                        <td id=\"T_a2c5d_row7_col5\" class=\"data row7 col5\" >0.018358</td>\n",
       "                        <td id=\"T_a2c5d_row7_col6\" class=\"data row7 col6\" >0.002887</td>\n",
       "                        <td id=\"T_a2c5d_row7_col7\" class=\"data row7 col7\" >0.996488</td>\n",
       "                        <td id=\"T_a2c5d_row7_col8\" class=\"data row7 col8\" >0.086214</td>\n",
       "                        <td id=\"T_a2c5d_row7_col9\" class=\"data row7 col9\" >0.013582</td>\n",
       "                        <td id=\"T_a2c5d_row7_col10\" class=\"data row7 col10\" >0.167903</td>\n",
       "                        <td id=\"T_a2c5d_row7_col11\" class=\"data row7 col11\" >0.224414</td>\n",
       "            </tr>\n",
       "            <tr>\n",
       "                        <th id=\"T_a2c5d_level0_row8\" class=\"row_heading level0 row8\" >Missing item_Strongly agree</th>\n",
       "                        <td id=\"T_a2c5d_row8_col0\" class=\"data row8 col0\" >0.028754</td>\n",
       "                        <td id=\"T_a2c5d_row8_col1\" class=\"data row8 col1\" >0.039405</td>\n",
       "                        <td id=\"T_a2c5d_row8_col2\" class=\"data row8 col2\" >0.012283</td>\n",
       "                        <td id=\"T_a2c5d_row8_col3\" class=\"data row8 col3\" >0.131857</td>\n",
       "                        <td id=\"T_a2c5d_row8_col4\" class=\"data row8 col4\" >0.074229</td>\n",
       "                        <td id=\"T_a2c5d_row8_col5\" class=\"data row8 col5\" >0.168519</td>\n",
       "                        <td id=\"T_a2c5d_row8_col6\" class=\"data row8 col6\" >0.021681</td>\n",
       "                        <td id=\"T_a2c5d_row8_col7\" class=\"data row8 col7\" >0.086214</td>\n",
       "                        <td id=\"T_a2c5d_row8_col8\" class=\"data row8 col8\" >0.993855</td>\n",
       "                        <td id=\"T_a2c5d_row8_col9\" class=\"data row8 col9\" >0.082078</td>\n",
       "                        <td id=\"T_a2c5d_row8_col10\" class=\"data row8 col10\" >0.171219</td>\n",
       "                        <td id=\"T_a2c5d_row8_col11\" class=\"data row8 col11\" >0.032419</td>\n",
       "            </tr>\n",
       "            <tr>\n",
       "                        <th id=\"T_a2c5d_level0_row9\" class=\"row_heading level0 row9\" >Time saving_Strongly disagree</th>\n",
       "                        <td id=\"T_a2c5d_row9_col0\" class=\"data row9 col0\" >0.055114</td>\n",
       "                        <td id=\"T_a2c5d_row9_col1\" class=\"data row9 col1\" >0.106038</td>\n",
       "                        <td id=\"T_a2c5d_row9_col2\" class=\"data row9 col2\" >0.026717</td>\n",
       "                        <td id=\"T_a2c5d_row9_col3\" class=\"data row9 col3\" >0.178187</td>\n",
       "                        <td id=\"T_a2c5d_row9_col4\" class=\"data row9 col4\" >0.010284</td>\n",
       "                        <td id=\"T_a2c5d_row9_col5\" class=\"data row9 col5\" >0.053980</td>\n",
       "                        <td id=\"T_a2c5d_row9_col6\" class=\"data row9 col6\" >0.046700</td>\n",
       "                        <td id=\"T_a2c5d_row9_col7\" class=\"data row9 col7\" >0.013582</td>\n",
       "                        <td id=\"T_a2c5d_row9_col8\" class=\"data row9 col8\" >0.082078</td>\n",
       "                        <td id=\"T_a2c5d_row9_col9\" class=\"data row9 col9\" >0.967897</td>\n",
       "                        <td id=\"T_a2c5d_row9_col10\" class=\"data row9 col10\" >0.007143</td>\n",
       "                        <td id=\"T_a2c5d_row9_col11\" class=\"data row9 col11\" >0.019757</td>\n",
       "            </tr>\n",
       "            <tr>\n",
       "                        <th id=\"T_a2c5d_level0_row10\" class=\"row_heading level0 row10\" >Wrong order delivered_Strongly disagree</th>\n",
       "                        <td id=\"T_a2c5d_row10_col0\" class=\"data row10 col0\" >0.059760</td>\n",
       "                        <td id=\"T_a2c5d_row10_col1\" class=\"data row10 col1\" >0.019020</td>\n",
       "                        <td id=\"T_a2c5d_row10_col2\" class=\"data row10 col2\" >0.159143</td>\n",
       "                        <td id=\"T_a2c5d_row10_col3\" class=\"data row10 col3\" >0.088799</td>\n",
       "                        <td id=\"T_a2c5d_row10_col4\" class=\"data row10 col4\" >0.077824</td>\n",
       "                        <td id=\"T_a2c5d_row10_col5\" class=\"data row10 col5\" >0.043785</td>\n",
       "                        <td id=\"T_a2c5d_row10_col6\" class=\"data row10 col6\" >0.001296</td>\n",
       "                        <td id=\"T_a2c5d_row10_col7\" class=\"data row10 col7\" >0.167903</td>\n",
       "                        <td id=\"T_a2c5d_row10_col8\" class=\"data row10 col8\" >0.171219</td>\n",
       "                        <td id=\"T_a2c5d_row10_col9\" class=\"data row10 col9\" >0.007143</td>\n",
       "                        <td id=\"T_a2c5d_row10_col10\" class=\"data row10 col10\" >0.993151</td>\n",
       "                        <td id=\"T_a2c5d_row10_col11\" class=\"data row10 col11\" >0.124930</td>\n",
       "            </tr>\n",
       "            <tr>\n",
       "                        <th id=\"T_a2c5d_level0_row11\" class=\"row_heading level0 row11\" >Order placed by mistake_Neutral</th>\n",
       "                        <td id=\"T_a2c5d_row11_col0\" class=\"data row11 col0\" >0.188068</td>\n",
       "                        <td id=\"T_a2c5d_row11_col1\" class=\"data row11 col1\" >0.170776</td>\n",
       "                        <td id=\"T_a2c5d_row11_col2\" class=\"data row11 col2\" >0.117352</td>\n",
       "                        <td id=\"T_a2c5d_row11_col3\" class=\"data row11 col3\" >0.083210</td>\n",
       "                        <td id=\"T_a2c5d_row11_col4\" class=\"data row11 col4\" >0.068050</td>\n",
       "                        <td id=\"T_a2c5d_row11_col5\" class=\"data row11 col5\" >0.151094</td>\n",
       "                        <td id=\"T_a2c5d_row11_col6\" class=\"data row11 col6\" >0.168164</td>\n",
       "                        <td id=\"T_a2c5d_row11_col7\" class=\"data row11 col7\" >0.224414</td>\n",
       "                        <td id=\"T_a2c5d_row11_col8\" class=\"data row11 col8\" >0.032419</td>\n",
       "                        <td id=\"T_a2c5d_row11_col9\" class=\"data row11 col9\" >0.019757</td>\n",
       "                        <td id=\"T_a2c5d_row11_col10\" class=\"data row11 col10\" >0.124930</td>\n",
       "                        <td id=\"T_a2c5d_row11_col11\" class=\"data row11 col11\" >0.992867</td>\n",
       "            </tr>\n",
       "    </tbody></table>"
      ],
      "text/plain": [
       "<pandas.io.formats.style.Styler at 0x1c02b775588>"
      ]
     },
     "execution_count": 113,
     "metadata": {},
     "output_type": "execute_result"
    }
   ],
   "source": [
    "relation_between_feature.style.apply(lambda x: [\"background: red\" if v>0.25 and v<0.99 else \"\" for v in x], axis = 1)"
   ]
  },
  {
   "cell_type": "code",
   "execution_count": 114,
   "metadata": {
    "ExecuteTime": {
     "end_time": "2021-02-22T04:04:12.721161Z",
     "start_time": "2021-02-22T04:04:12.715162Z"
    }
   },
   "outputs": [],
   "source": [
    "multicolinear_feature=[\"Perference(P2)_ Sweets\",\"Maximum wait time_15 minutes\",\"More restaurant choices_Disagree\"]"
   ]
  },
  {
   "cell_type": "code",
   "execution_count": 115,
   "metadata": {
    "ExecuteTime": {
     "end_time": "2021-02-22T04:04:12.889082Z",
     "start_time": "2021-02-22T04:04:12.725161Z"
    }
   },
   "outputs": [],
   "source": [
    "final_feature=list(relation_between_feature.columns)"
   ]
  },
  {
   "cell_type": "code",
   "execution_count": 116,
   "metadata": {
    "ExecuteTime": {
     "end_time": "2021-02-22T04:04:13.249091Z",
     "start_time": "2021-02-22T04:04:12.894060Z"
    }
   },
   "outputs": [
    {
     "data": {
      "text/plain": [
       "['Ease and convenient_Disagree',\n",
       " 'Time saving_Disagree',\n",
       " 'Occupation_Employee',\n",
       " 'Unaffordable_Strongly agree',\n",
       " 'Unaffordable_Agree',\n",
       " 'Good Food quality_Agree',\n",
       " 'Meal(P2)_ Snacks',\n",
       " 'Educational Qualifications_Post Graduate',\n",
       " 'Missing item_Strongly agree',\n",
       " 'Time saving_Strongly disagree',\n",
       " 'Wrong order delivered_Strongly disagree',\n",
       " 'Order placed by mistake_Neutral']"
      ]
     },
     "execution_count": 116,
     "metadata": {},
     "output_type": "execute_result"
    }
   ],
   "source": [
    "final_feature"
   ]
  },
  {
   "cell_type": "code",
   "execution_count": 117,
   "metadata": {
    "ExecuteTime": {
     "end_time": "2021-02-22T04:04:13.356045Z",
     "start_time": "2021-02-22T04:04:13.252086Z"
    }
   },
   "outputs": [],
   "source": [
    "set1 = set(final_feature)\n",
    "set2 = set(multicolinear_feature)\n",
    "final_feature = list(set1 - set2)"
   ]
  },
  {
   "cell_type": "code",
   "execution_count": 118,
   "metadata": {
    "ExecuteTime": {
     "end_time": "2021-02-22T04:04:13.504940Z",
     "start_time": "2021-02-22T04:04:13.362022Z"
    }
   },
   "outputs": [
    {
     "data": {
      "text/plain": [
       "['Good Food quality_Agree',\n",
       " 'Occupation_Employee',\n",
       " 'Time saving_Strongly disagree',\n",
       " 'Ease and convenient_Disagree',\n",
       " 'Educational Qualifications_Post Graduate',\n",
       " 'Unaffordable_Agree',\n",
       " 'Unaffordable_Strongly agree',\n",
       " 'Time saving_Disagree',\n",
       " 'Meal(P2)_ Snacks',\n",
       " 'Order placed by mistake_Neutral',\n",
       " 'Missing item_Strongly agree',\n",
       " 'Wrong order delivered_Strongly disagree']"
      ]
     },
     "execution_count": 118,
     "metadata": {},
     "output_type": "execute_result"
    }
   ],
   "source": [
    "final_feature"
   ]
  },
  {
   "cell_type": "code",
   "execution_count": 119,
   "metadata": {
    "ExecuteTime": {
     "end_time": "2021-02-22T04:04:14.684155Z",
     "start_time": "2021-02-22T04:04:13.508939Z"
    }
   },
   "outputs": [
    {
     "data": {
      "text/plain": [
       "'fgini.png'"
      ]
     },
     "execution_count": 119,
     "metadata": {},
     "output_type": "execute_result"
    }
   ],
   "source": [
    "\n",
    "import graphviz\n",
    "import sklearn.tree as tree\n",
    "# DOT data\n",
    "dot_data = tree.export_graphviz(clf, out_file=None, \n",
    "                                feature_names=X.columns,  \n",
    "                                class_names='01',\n",
    "                                filled=True)\n",
    "\n",
    "# # Draw graph\n",
    "graph = graphviz.Source(dot_data,format=\"png\") \n",
    "graph.render('fgini')\n",
    "# graph"
   ]
  },
  {
   "cell_type": "markdown",
   "metadata": {},
   "source": [
    "# Decesion Tree model"
   ]
  },
  {
   "cell_type": "code",
   "execution_count": 120,
   "metadata": {
    "ExecuteTime": {
     "end_time": "2021-02-22T04:04:14.742123Z",
     "start_time": "2021-02-22T04:04:14.687139Z"
    }
   },
   "outputs": [],
   "source": [
    "fd_dlvry=pd.read_csv('../../data/Banglore_food_delivery/onlinedeliverydata.csv')\n",
    "\n",
    "fd_dlvry.drop(['Pin code','longitude','latitude','Reviews'],axis=1,inplace=True)\n",
    "\n",
    "fd_dlvry['Output']=fd_dlvry['Output'].replace({'Yes':1,'No':0})"
   ]
  },
  {
   "cell_type": "code",
   "execution_count": 121,
   "metadata": {
    "ExecuteTime": {
     "end_time": "2021-02-22T04:04:14.894035Z",
     "start_time": "2021-02-22T04:04:14.745102Z"
    }
   },
   "outputs": [
    {
     "data": {
      "text/html": [
       "<div>\n",
       "<style scoped>\n",
       "    .dataframe tbody tr th:only-of-type {\n",
       "        vertical-align: middle;\n",
       "    }\n",
       "\n",
       "    .dataframe tbody tr th {\n",
       "        vertical-align: top;\n",
       "    }\n",
       "\n",
       "    .dataframe thead th {\n",
       "        text-align: right;\n",
       "    }\n",
       "</style>\n",
       "<table border=\"1\" class=\"dataframe\">\n",
       "  <thead>\n",
       "    <tr style=\"text-align: right;\">\n",
       "      <th></th>\n",
       "      <th>Age</th>\n",
       "      <th>Gender</th>\n",
       "      <th>Marital Status</th>\n",
       "      <th>Occupation</th>\n",
       "      <th>Monthly Income</th>\n",
       "      <th>Educational Qualifications</th>\n",
       "      <th>Family size</th>\n",
       "      <th>Medium (P1)</th>\n",
       "      <th>Medium (P2)</th>\n",
       "      <th>Meal(P1)</th>\n",
       "      <th>...</th>\n",
       "      <th>Influence of rating</th>\n",
       "      <th>Less Delivery time</th>\n",
       "      <th>High Quality of package</th>\n",
       "      <th>Number of calls</th>\n",
       "      <th>Politeness</th>\n",
       "      <th>Freshness</th>\n",
       "      <th>Temperature</th>\n",
       "      <th>Good Taste</th>\n",
       "      <th>Good Quantity</th>\n",
       "      <th>Output</th>\n",
       "    </tr>\n",
       "  </thead>\n",
       "  <tbody>\n",
       "    <tr>\n",
       "      <th>0</th>\n",
       "      <td>20</td>\n",
       "      <td>Female</td>\n",
       "      <td>Single</td>\n",
       "      <td>Student</td>\n",
       "      <td>No Income</td>\n",
       "      <td>Post Graduate</td>\n",
       "      <td>4</td>\n",
       "      <td>Food delivery apps</td>\n",
       "      <td>Web browser</td>\n",
       "      <td>Breakfast</td>\n",
       "      <td>...</td>\n",
       "      <td>Yes</td>\n",
       "      <td>Moderately Important</td>\n",
       "      <td>Moderately Important</td>\n",
       "      <td>Moderately Important</td>\n",
       "      <td>Moderately Important</td>\n",
       "      <td>Moderately Important</td>\n",
       "      <td>Moderately Important</td>\n",
       "      <td>Moderately Important</td>\n",
       "      <td>Moderately Important</td>\n",
       "      <td>1</td>\n",
       "    </tr>\n",
       "    <tr>\n",
       "      <th>1</th>\n",
       "      <td>24</td>\n",
       "      <td>Female</td>\n",
       "      <td>Single</td>\n",
       "      <td>Student</td>\n",
       "      <td>Below Rs.10000</td>\n",
       "      <td>Graduate</td>\n",
       "      <td>3</td>\n",
       "      <td>Food delivery apps</td>\n",
       "      <td>Web browser</td>\n",
       "      <td>Snacks</td>\n",
       "      <td>...</td>\n",
       "      <td>Yes</td>\n",
       "      <td>Very Important</td>\n",
       "      <td>Very Important</td>\n",
       "      <td>Very Important</td>\n",
       "      <td>Very Important</td>\n",
       "      <td>Very Important</td>\n",
       "      <td>Very Important</td>\n",
       "      <td>Very Important</td>\n",
       "      <td>Very Important</td>\n",
       "      <td>1</td>\n",
       "    </tr>\n",
       "    <tr>\n",
       "      <th>2</th>\n",
       "      <td>22</td>\n",
       "      <td>Male</td>\n",
       "      <td>Single</td>\n",
       "      <td>Student</td>\n",
       "      <td>Below Rs.10000</td>\n",
       "      <td>Post Graduate</td>\n",
       "      <td>3</td>\n",
       "      <td>Food delivery apps</td>\n",
       "      <td>Direct call</td>\n",
       "      <td>Lunch</td>\n",
       "      <td>...</td>\n",
       "      <td>Yes</td>\n",
       "      <td>Important</td>\n",
       "      <td>Very Important</td>\n",
       "      <td>Moderately Important</td>\n",
       "      <td>Very Important</td>\n",
       "      <td>Very Important</td>\n",
       "      <td>Important</td>\n",
       "      <td>Very Important</td>\n",
       "      <td>Moderately Important</td>\n",
       "      <td>1</td>\n",
       "    </tr>\n",
       "    <tr>\n",
       "      <th>3</th>\n",
       "      <td>22</td>\n",
       "      <td>Female</td>\n",
       "      <td>Single</td>\n",
       "      <td>Student</td>\n",
       "      <td>No Income</td>\n",
       "      <td>Graduate</td>\n",
       "      <td>6</td>\n",
       "      <td>Food delivery apps</td>\n",
       "      <td>Walk-in</td>\n",
       "      <td>Snacks</td>\n",
       "      <td>...</td>\n",
       "      <td>Yes</td>\n",
       "      <td>Very Important</td>\n",
       "      <td>Important</td>\n",
       "      <td>Moderately Important</td>\n",
       "      <td>Very Important</td>\n",
       "      <td>Very Important</td>\n",
       "      <td>Very Important</td>\n",
       "      <td>Very Important</td>\n",
       "      <td>Important</td>\n",
       "      <td>1</td>\n",
       "    </tr>\n",
       "    <tr>\n",
       "      <th>4</th>\n",
       "      <td>22</td>\n",
       "      <td>Male</td>\n",
       "      <td>Single</td>\n",
       "      <td>Student</td>\n",
       "      <td>Below Rs.10000</td>\n",
       "      <td>Post Graduate</td>\n",
       "      <td>4</td>\n",
       "      <td>Walk-in</td>\n",
       "      <td>Direct call</td>\n",
       "      <td>Lunch</td>\n",
       "      <td>...</td>\n",
       "      <td>Yes</td>\n",
       "      <td>Important</td>\n",
       "      <td>Important</td>\n",
       "      <td>Moderately Important</td>\n",
       "      <td>Important</td>\n",
       "      <td>Important</td>\n",
       "      <td>Important</td>\n",
       "      <td>Very Important</td>\n",
       "      <td>Very Important</td>\n",
       "      <td>1</td>\n",
       "    </tr>\n",
       "  </tbody>\n",
       "</table>\n",
       "<p>5 rows × 51 columns</p>\n",
       "</div>"
      ],
      "text/plain": [
       "   Age  Gender Marital Status Occupation  Monthly Income  \\\n",
       "0   20  Female         Single    Student       No Income   \n",
       "1   24  Female         Single    Student  Below Rs.10000   \n",
       "2   22    Male         Single    Student  Below Rs.10000   \n",
       "3   22  Female         Single    Student       No Income   \n",
       "4   22    Male         Single    Student  Below Rs.10000   \n",
       "\n",
       "  Educational Qualifications  Family size         Medium (P1)   Medium (P2)  \\\n",
       "0              Post Graduate            4  Food delivery apps   Web browser   \n",
       "1                   Graduate            3  Food delivery apps   Web browser   \n",
       "2              Post Graduate            3  Food delivery apps   Direct call   \n",
       "3                   Graduate            6  Food delivery apps       Walk-in   \n",
       "4              Post Graduate            4             Walk-in   Direct call   \n",
       "\n",
       "    Meal(P1)  ... Influence of rating    Less Delivery time  \\\n",
       "0  Breakfast  ...                 Yes  Moderately Important   \n",
       "1     Snacks  ...                 Yes        Very Important   \n",
       "2      Lunch  ...                 Yes             Important   \n",
       "3     Snacks  ...                 Yes        Very Important   \n",
       "4      Lunch  ...                 Yes             Important   \n",
       "\n",
       "  High Quality of package       Number of calls            Politeness  \\\n",
       "0    Moderately Important  Moderately Important  Moderately Important   \n",
       "1          Very Important        Very Important        Very Important   \n",
       "2          Very Important  Moderately Important        Very Important   \n",
       "3               Important  Moderately Important        Very Important   \n",
       "4               Important  Moderately Important             Important   \n",
       "\n",
       "             Freshness            Temperature           Good Taste   \\\n",
       "0  Moderately Important  Moderately Important  Moderately Important   \n",
       "1        Very Important        Very Important        Very Important   \n",
       "2        Very Important             Important        Very Important   \n",
       "3        Very Important        Very Important        Very Important   \n",
       "4             Important             Important        Very Important   \n",
       "\n",
       "          Good Quantity Output  \n",
       "0  Moderately Important      1  \n",
       "1        Very Important      1  \n",
       "2  Moderately Important      1  \n",
       "3             Important      1  \n",
       "4        Very Important      1  \n",
       "\n",
       "[5 rows x 51 columns]"
      ]
     },
     "execution_count": 121,
     "metadata": {},
     "output_type": "execute_result"
    }
   ],
   "source": [
    "fd_dlvry.head()"
   ]
  },
  {
   "cell_type": "code",
   "execution_count": 122,
   "metadata": {
    "ExecuteTime": {
     "end_time": "2021-02-22T04:04:15.106895Z",
     "start_time": "2021-02-22T04:04:14.898023Z"
    }
   },
   "outputs": [
    {
     "data": {
      "text/plain": [
       "(388, 223)"
      ]
     },
     "execution_count": 122,
     "metadata": {},
     "output_type": "execute_result"
    }
   ],
   "source": [
    "fd_ori=fd_dlvry.copy(deep=True)\n",
    "df=pd.get_dummies(fd_dlvry)\n",
    "df.shape"
   ]
  },
  {
   "cell_type": "code",
   "execution_count": 123,
   "metadata": {
    "ExecuteTime": {
     "end_time": "2021-02-22T04:04:15.140876Z",
     "start_time": "2021-02-22T04:04:15.110893Z"
    }
   },
   "outputs": [],
   "source": [
    "final_feature=['Unaffordable_Agree',\n",
    " 'Delay of delivery person getting assigned_Strongly agree',\n",
    " 'Long delivery time_Agree',\n",
    " 'Wrong order delivered_Strongly disagree',\n",
    " 'Missing item_Neutral',\n",
    " 'Unavailability_Disagree',\n",
    " 'Occupation_Student',\n",
    " 'Ease and convenient_Disagree',\n",
    " 'Late Delivery_Disagree']"
   ]
  },
  {
   "cell_type": "code",
   "execution_count": 124,
   "metadata": {
    "ExecuteTime": {
     "end_time": "2021-02-22T04:04:15.256810Z",
     "start_time": "2021-02-22T04:04:15.143875Z"
    }
   },
   "outputs": [
    {
     "data": {
      "text/plain": [
       "['Unaffordable_Agree',\n",
       " 'Delay of delivery person getting assigned_Strongly agree',\n",
       " 'Long delivery time_Agree',\n",
       " 'Wrong order delivered_Strongly disagree',\n",
       " 'Missing item_Neutral',\n",
       " 'Unavailability_Disagree',\n",
       " 'Occupation_Student',\n",
       " 'Ease and convenient_Disagree',\n",
       " 'Late Delivery_Disagree']"
      ]
     },
     "execution_count": 124,
     "metadata": {},
     "output_type": "execute_result"
    }
   ],
   "source": [
    "final_feature"
   ]
  },
  {
   "cell_type": "code",
   "execution_count": 125,
   "metadata": {
    "ExecuteTime": {
     "end_time": "2021-02-22T04:04:15.388736Z",
     "start_time": "2021-02-22T04:04:15.260807Z"
    }
   },
   "outputs": [],
   "source": [
    "X=df[final_feature]\n",
    "y=df['Output']\n",
    "nm=RandomOverSampler()\n",
    "X,y=nm.fit_sample(X,y)\n"
   ]
  },
  {
   "cell_type": "code",
   "execution_count": 126,
   "metadata": {
    "ExecuteTime": {
     "end_time": "2021-02-22T04:04:15.509974Z",
     "start_time": "2021-02-22T04:04:15.392732Z"
    }
   },
   "outputs": [
    {
     "data": {
      "text/plain": [
       "DecisionTreeClassifier(max_depth=6, min_samples_leaf=2, min_samples_split=4,\n",
       "                       random_state=0)"
      ]
     },
     "execution_count": 126,
     "metadata": {},
     "output_type": "execute_result"
    }
   ],
   "source": [
    "X_train, X_test, y_train, y_test = train_test_split(X, y, test_size = 0.33)\n",
    "clf=DecisionTreeClassifier(random_state=0,max_depth=6,min_samples_leaf=2,min_samples_split=4)\n",
    "clf.fit(X,y)"
   ]
  },
  {
   "cell_type": "code",
   "execution_count": 127,
   "metadata": {
    "ExecuteTime": {
     "end_time": "2021-02-22T04:04:15.626911Z",
     "start_time": "2021-02-22T04:04:15.513973Z"
    }
   },
   "outputs": [
    {
     "data": {
      "text/plain": [
       "0.9346733668341709"
      ]
     },
     "execution_count": 127,
     "metadata": {},
     "output_type": "execute_result"
    }
   ],
   "source": [
    "clf.score(X_test,y_test)"
   ]
  },
  {
   "cell_type": "code",
   "execution_count": 128,
   "metadata": {
    "ExecuteTime": {
     "end_time": "2021-02-22T04:04:15.749838Z",
     "start_time": "2021-02-22T04:04:15.630905Z"
    }
   },
   "outputs": [
    {
     "data": {
      "text/plain": [
       "array([0, 1, 0, 1, 0, 0, 0, 0, 0, 1, 1, 0, 1, 1, 1, 1, 1, 0, 1, 1, 1, 1,\n",
       "       1, 0, 1, 0, 1, 0, 1, 0, 0, 0, 0, 0, 0, 1, 1, 1, 0, 0, 1, 1, 1, 1,\n",
       "       0, 1, 1, 1, 0, 0, 1, 0, 1, 0, 1, 1, 0, 1, 1, 1, 1, 0, 1, 0, 0, 1,\n",
       "       0, 0, 1, 1, 1, 0, 1, 1, 0, 0, 1, 1, 0, 1, 0, 1, 1, 1, 0, 1, 1, 1,\n",
       "       1, 1, 0, 0, 0, 1, 0, 1, 0, 0, 1, 1, 0, 1, 1, 0, 0, 1, 1, 1, 1, 1,\n",
       "       1, 0, 0, 0, 0, 1, 0, 1, 1, 0, 1, 0, 1, 1, 1, 1, 0, 0, 1, 0, 0, 0,\n",
       "       1, 0, 0, 0, 0, 1, 0, 0, 0, 0, 0, 0, 1, 1, 1, 0, 1, 1, 0, 1, 0, 0,\n",
       "       1, 1, 1, 1, 0, 0, 1, 0, 1, 1, 0, 1, 1, 1, 0, 0, 0, 0, 0, 1, 1, 0,\n",
       "       0, 0, 0, 0, 0, 0, 1, 0, 0, 1, 1, 1, 0, 0, 0, 0, 0, 1, 1, 1, 1, 0,\n",
       "       1], dtype=int64)"
      ]
     },
     "execution_count": 128,
     "metadata": {},
     "output_type": "execute_result"
    }
   ],
   "source": [
    "y_pred=clf.predict(X_test)\n",
    "y_pred"
   ]
  },
  {
   "cell_type": "code",
   "execution_count": null,
   "metadata": {
    "ExecuteTime": {
     "end_time": "2021-02-12T05:13:36.330261Z",
     "start_time": "2021-02-12T05:13:36.295282Z"
    }
   },
   "outputs": [],
   "source": []
  },
  {
   "cell_type": "code",
   "execution_count": 129,
   "metadata": {
    "ExecuteTime": {
     "end_time": "2021-02-22T04:04:15.871766Z",
     "start_time": "2021-02-22T04:04:15.752836Z"
    }
   },
   "outputs": [
    {
     "name": "stdout",
     "output_type": "stream",
     "text": [
      "[[89  6]\n",
      " [ 7 97]]\n"
     ]
    }
   ],
   "source": [
    "print(confusion_matrix(y_test,y_pred))"
   ]
  },
  {
   "cell_type": "code",
   "execution_count": 130,
   "metadata": {
    "ExecuteTime": {
     "end_time": "2021-02-22T04:04:16.209574Z",
     "start_time": "2021-02-22T04:04:15.877764Z"
    }
   },
   "outputs": [
    {
     "name": "stdout",
     "output_type": "stream",
     "text": [
      "List of possible accuracy: [0.8823529411764706, 0.7843137254901961, 0.88, 0.9, 0.9, 0.86, 0.86, 0.92, 0.84, 0.84, 0.92, 0.94]\n",
      "\n",
      "Maximum Accuracy That can be obtained from this model is: 94.0 %\n",
      "\n",
      "Minimum Accuracy: 78.43137254901961 %\n",
      "\n",
      "Average Accuracy That can be obtained from this model is:: 0.8772222222222221\n",
      "\n",
      " Median Accuracy That can be obtained from this model is:: 0.8811764705882352\n",
      "\n",
      "Standard Deviation is: 0.04150181408600603\n"
     ]
    }
   ],
   "source": [
    "lst_accu_stratified = [] \n",
    "x=0\n",
    "x=0\n",
    "feature_common=pd.DataFrame()\n",
    "skf = StratifiedKFold(n_splits=12, shuffle=True, random_state=1) \n",
    "for train_index, test_index in skf.split(X, y): \n",
    "    x_train_fold, x_test_fold = X.loc[train_index,:], X.loc[test_index,:] \n",
    "    y_train_fold, y_test_fold = y[train_index], y[test_index] \n",
    "    clf.fit(x_train_fold, y_train_fold)\n",
    "    \n",
    "    lst_accu_stratified.append(clf.score(x_test_fold, y_test_fold))\n",
    "    \n",
    "    \n",
    "print('List of possible accuracy:', lst_accu_stratified) \n",
    "print('\\nMaximum Accuracy That can be obtained from this model is:', \n",
    "      max(lst_accu_stratified)*100, '%') \n",
    "print('\\nMinimum Accuracy:', \n",
    "      min(lst_accu_stratified)*100, '%') \n",
    "print('\\nAverage Accuracy That can be obtained from this model is::',np.mean(lst_accu_stratified)) \n",
    "print('\\n Median Accuracy That can be obtained from this model is::',np.median(lst_accu_stratified)) \n",
    "print('\\nStandard Deviation is:',np.std(lst_accu_stratified)) "
   ]
  },
  {
   "cell_type": "code",
   "execution_count": 131,
   "metadata": {
    "ExecuteTime": {
     "end_time": "2021-02-22T04:04:16.227567Z",
     "start_time": "2021-02-22T04:04:16.213572Z"
    }
   },
   "outputs": [
    {
     "data": {
      "text/plain": [
       "{'Unaffordable_Agree': 1,\n",
       " 'Delay of delivery person getting assigned_Strongly agree': 0,\n",
       " 'Long delivery time_Agree': 1,\n",
       " 'Wrong order delivered_Strongly disagree': 0,\n",
       " 'Missing item_Neutral': 1,\n",
       " 'Unavailability_Disagree': 0,\n",
       " 'Occupation_Student': 0,\n",
       " 'Ease and convenient_Disagree': 0,\n",
       " 'Late Delivery_Disagree': 0}"
      ]
     },
     "execution_count": 131,
     "metadata": {},
     "output_type": "execute_result"
    }
   ],
   "source": [
    "list_1=[1,0,1,0,1,0,0,0,0]\n",
    "pre=np.array(list_1).reshape(1,-1)\n",
    "nk=dict(zip(X_test.columns,list_1))\n",
    "nk\n"
   ]
  },
  {
   "cell_type": "code",
   "execution_count": 132,
   "metadata": {
    "ExecuteTime": {
     "end_time": "2021-02-22T04:04:16.362485Z",
     "start_time": "2021-02-22T04:04:16.231564Z"
    }
   },
   "outputs": [],
   "source": [
    "# import graphviz\n",
    "# import sklearn.tree as tree\n",
    "# # DOT data\n",
    "# dot_data = tree.export_graphviz(clf, out_file=None, \n",
    "#                                 feature_names=X_test.columns,  \n",
    "#                                 class_names='01',\n",
    "#                                 filled=True)\n",
    "\n",
    "# # # Draw graph\n",
    "# graph = graphviz.Source(dot_data,format=\"png\") \n",
    "# graph.render('fgini')\n",
    "# # graph"
   ]
  },
  {
   "cell_type": "code",
   "execution_count": 133,
   "metadata": {
    "ExecuteTime": {
     "end_time": "2021-02-22T04:04:16.498408Z",
     "start_time": "2021-02-22T04:04:16.366484Z"
    }
   },
   "outputs": [
    {
     "data": {
      "text/plain": [
       "array([0], dtype=int64)"
      ]
     },
     "execution_count": 133,
     "metadata": {},
     "output_type": "execute_result"
    }
   ],
   "source": [
    "clf.predict(pre)"
   ]
  },
  {
   "cell_type": "code",
   "execution_count": 134,
   "metadata": {
    "ExecuteTime": {
     "end_time": "2021-02-22T04:04:16.642328Z",
     "start_time": "2021-02-22T04:04:16.502409Z"
    }
   },
   "outputs": [
    {
     "data": {
      "text/plain": [
       "dict_keys(['Unaffordable_Agree', 'Delay of delivery person getting assigned_Strongly agree', 'Long delivery time_Agree', 'Wrong order delivered_Strongly disagree', 'Missing item_Neutral', 'Unavailability_Disagree', 'Occupation_Student', 'Ease and convenient_Disagree', 'Late Delivery_Disagree'])"
      ]
     },
     "execution_count": 134,
     "metadata": {},
     "output_type": "execute_result"
    }
   ],
   "source": [
    "nk.keys()"
   ]
  },
  {
   "cell_type": "code",
   "execution_count": 135,
   "metadata": {
    "ExecuteTime": {
     "end_time": "2021-02-22T04:04:16.765259Z",
     "start_time": "2021-02-22T04:04:16.646327Z"
    }
   },
   "outputs": [
    {
     "data": {
      "text/plain": [
       "array(['Agree', 'Strongly agree', 'Disagree', 'Neutral',\n",
       "       'Strongly disagree'], dtype=object)"
      ]
     },
     "execution_count": 135,
     "metadata": {},
     "output_type": "execute_result"
    }
   ],
   "source": [
    "fd_dlvry['Missing item'].unique()"
   ]
  },
  {
   "cell_type": "markdown",
   "metadata": {},
   "source": [
    "# Random forest\n"
   ]
  },
  {
   "cell_type": "markdown",
   "metadata": {},
   "source": [
    "## Feature selection by Random forest"
   ]
  },
  {
   "cell_type": "code",
   "execution_count": 136,
   "metadata": {
    "ExecuteTime": {
     "end_time": "2021-02-22T04:04:16.928182Z",
     "start_time": "2021-02-22T04:04:16.769254Z"
    }
   },
   "outputs": [],
   "source": [
    "from sklearn.ensemble import RandomForestClassifier\n",
    "clf=RandomForestClassifier(max_depth=6,min_samples_split=4)"
   ]
  },
  {
   "cell_type": "code",
   "execution_count": 137,
   "metadata": {
    "ExecuteTime": {
     "end_time": "2021-02-22T04:04:17.050113Z",
     "start_time": "2021-02-22T04:04:16.940155Z"
    }
   },
   "outputs": [],
   "source": [
    "from sklearn.feature_selection import SelectFromModel"
   ]
  },
  {
   "cell_type": "code",
   "execution_count": 138,
   "metadata": {
    "ExecuteTime": {
     "end_time": "2021-02-22T04:04:17.304005Z",
     "start_time": "2021-02-22T04:04:17.056093Z"
    }
   },
   "outputs": [],
   "source": [
    "X=df.iloc[:,:-1]\n",
    "y=df.iloc[:,-1]\n",
    "\n",
    "nm=RandomOverSampler()\n",
    "X,y=nm.fit_sample(X,y)"
   ]
  },
  {
   "cell_type": "code",
   "execution_count": null,
   "metadata": {},
   "outputs": [],
   "source": []
  },
  {
   "cell_type": "code",
   "execution_count": 139,
   "metadata": {
    "ExecuteTime": {
     "end_time": "2021-02-22T04:04:17.681731Z",
     "start_time": "2021-02-22T04:04:17.306945Z"
    }
   },
   "outputs": [
    {
     "data": {
      "text/plain": [
       "RandomForestClassifier(max_depth=5)"
      ]
     },
     "execution_count": 139,
     "metadata": {},
     "output_type": "execute_result"
    }
   ],
   "source": [
    "X_train, X_test, y_train, y_test = train_test_split(X, y, test_size = 0.33)\n",
    "clf=RandomForestClassifier(max_depth=5,min_samples_split=2)\n",
    "clf.fit(X_train,y_train)"
   ]
  },
  {
   "cell_type": "code",
   "execution_count": 140,
   "metadata": {
    "ExecuteTime": {
     "end_time": "2021-02-22T04:04:22.098840Z",
     "start_time": "2021-02-22T04:04:17.685728Z"
    }
   },
   "outputs": [
    {
     "name": "stdout",
     "output_type": "stream",
     "text": [
      "List of possible accuracy: [0.9722222222222222, 0.8611111111111112, 0.9444444444444444, 1.0, 0.8611111111111112, 0.9444444444444444, 0.8888888888888888, 0.9166666666666666, 0.8857142857142857, 0.9428571428571428, 0.8571428571428571, 0.9428571428571428]\n",
      "\n",
      "Maximum Accuracy That can be obtained from this model is: 100.0 %\n",
      "\n",
      "Minimum Accuracy: 85.71428571428571 %\n",
      "\n",
      "Average Accuracy That can be obtained from this model is:: 0.9181216931216931\n",
      "\n",
      " Median Accuracy That can be obtained from this model is:: 0.9297619047619048\n",
      "\n",
      "Standard Deviation is: 0.04506118910965813\n"
     ]
    }
   ],
   "source": [
    "lst_accu_stratified = [] \n",
    "x=0\n",
    "feature_common=pd.DataFrame()\n",
    "skf = StratifiedKFold(n_splits=12, shuffle=True, random_state=1) \n",
    "for train_index, test_index in skf.split(X, y): \n",
    "    x_train_fold, x_test_fold = X.loc[train_index,:], X.loc[test_index,:] \n",
    "    y_train_fold, y_test_fold = y[train_index], y[test_index] \n",
    "    clf.fit(x_train_fold, y_train_fold)\n",
    "    feature_common[x]=feature_extract(clf,X_train.columns)\n",
    "    x+=1\n",
    "    lst_accu_stratified.append(clf.score(x_test_fold, y_test_fold))\n",
    "   \n",
    "    \n",
    "    \n",
    "print('List of possible accuracy:', lst_accu_stratified) \n",
    "print('\\nMaximum Accuracy That can be obtained from this model is:', \n",
    "      max(lst_accu_stratified)*100, '%') \n",
    "print('\\nMinimum Accuracy:', \n",
    "      min(lst_accu_stratified)*100, '%') \n",
    "print('\\nAverage Accuracy That can be obtained from this model is::',np.mean(lst_accu_stratified)) \n",
    "print('\\n Median Accuracy That can be obtained from this model is::',np.median(lst_accu_stratified)) \n",
    "print('\\nStandard Deviation is:',np.std(lst_accu_stratified)) "
   ]
  },
  {
   "cell_type": "code",
   "execution_count": 141,
   "metadata": {
    "ExecuteTime": {
     "end_time": "2021-02-22T04:04:22.136819Z",
     "start_time": "2021-02-22T04:04:22.102838Z"
    }
   },
   "outputs": [
    {
     "data": {
      "text/html": [
       "<div>\n",
       "<style scoped>\n",
       "    .dataframe tbody tr th:only-of-type {\n",
       "        vertical-align: middle;\n",
       "    }\n",
       "\n",
       "    .dataframe tbody tr th {\n",
       "        vertical-align: top;\n",
       "    }\n",
       "\n",
       "    .dataframe thead th {\n",
       "        text-align: right;\n",
       "    }\n",
       "</style>\n",
       "<table border=\"1\" class=\"dataframe\">\n",
       "  <thead>\n",
       "    <tr style=\"text-align: right;\">\n",
       "      <th></th>\n",
       "      <th>0</th>\n",
       "      <th>1</th>\n",
       "      <th>2</th>\n",
       "      <th>3</th>\n",
       "      <th>4</th>\n",
       "      <th>5</th>\n",
       "      <th>6</th>\n",
       "      <th>7</th>\n",
       "      <th>8</th>\n",
       "      <th>9</th>\n",
       "      <th>10</th>\n",
       "      <th>11</th>\n",
       "    </tr>\n",
       "  </thead>\n",
       "  <tbody>\n",
       "    <tr>\n",
       "      <th>0</th>\n",
       "      <td>Good Quantity_Important</td>\n",
       "      <td>Good Quantity_Important</td>\n",
       "      <td>Good Quantity_Important</td>\n",
       "      <td>Good Quantity_Important</td>\n",
       "      <td>Good Taste _Very Important</td>\n",
       "      <td>Good Quantity_Important</td>\n",
       "      <td>Good Quantity_Important</td>\n",
       "      <td>Good Quantity_Important</td>\n",
       "      <td>Good Quantity_Important</td>\n",
       "      <td>Good Quantity_Important</td>\n",
       "      <td>Good Quantity_Important</td>\n",
       "      <td>Good Quantity_Important</td>\n",
       "    </tr>\n",
       "    <tr>\n",
       "      <th>1</th>\n",
       "      <td>Good Taste _Very Important</td>\n",
       "      <td>Good Taste _Very Important</td>\n",
       "      <td>Good Taste _Very Important</td>\n",
       "      <td>Good Taste _Very Important</td>\n",
       "      <td>Good Quantity_Important</td>\n",
       "      <td>Good Taste _Very Important</td>\n",
       "      <td>Good Taste _Very Important</td>\n",
       "      <td>Good Taste _Very Important</td>\n",
       "      <td>Good Taste _Very Important</td>\n",
       "      <td>Good Taste _Very Important</td>\n",
       "      <td>Freshness _Very Important</td>\n",
       "      <td>Good Taste _Very Important</td>\n",
       "    </tr>\n",
       "    <tr>\n",
       "      <th>2</th>\n",
       "      <td>Freshness _Very Important</td>\n",
       "      <td>Temperature_Very Important</td>\n",
       "      <td>Temperature_Very Important</td>\n",
       "      <td>Freshness _Very Important</td>\n",
       "      <td>Freshness _Very Important</td>\n",
       "      <td>Freshness _Very Important</td>\n",
       "      <td>Freshness _Very Important</td>\n",
       "      <td>Temperature_Very Important</td>\n",
       "      <td>Freshness _Very Important</td>\n",
       "      <td>Temperature_Very Important</td>\n",
       "      <td>Good Taste _Very Important</td>\n",
       "      <td>Freshness _Very Important</td>\n",
       "    </tr>\n",
       "    <tr>\n",
       "      <th>3</th>\n",
       "      <td>Temperature_Very Important</td>\n",
       "      <td>Good Taste _Important</td>\n",
       "      <td>Freshness _Very Important</td>\n",
       "      <td>Temperature_Very Important</td>\n",
       "      <td>Temperature_Very Important</td>\n",
       "      <td>Temperature_Very Important</td>\n",
       "      <td>Temperature_Very Important</td>\n",
       "      <td>Freshness _Very Important</td>\n",
       "      <td>Good Taste _Important</td>\n",
       "      <td>Freshness _Very Important</td>\n",
       "      <td>Good Taste _Important</td>\n",
       "      <td>Temperature_Very Important</td>\n",
       "    </tr>\n",
       "    <tr>\n",
       "      <th>4</th>\n",
       "      <td>Good Taste _Important</td>\n",
       "      <td>Freshness _Very Important</td>\n",
       "      <td>Good Taste _Important</td>\n",
       "      <td>Good Quantity_Moderately Important</td>\n",
       "      <td>Good Taste _Important</td>\n",
       "      <td>Good Quantity_Moderately Important</td>\n",
       "      <td>Good Taste _Important</td>\n",
       "      <td>Good Taste _Moderately Important</td>\n",
       "      <td>Temperature_Very Important</td>\n",
       "      <td>Good Quantity_Moderately Important</td>\n",
       "      <td>Temperature_Very Important</td>\n",
       "      <td>Good Taste _Important</td>\n",
       "    </tr>\n",
       "    <tr>\n",
       "      <th>5</th>\n",
       "      <td>Good Quantity_Moderately Important</td>\n",
       "      <td>Good Taste _Moderately Important</td>\n",
       "      <td>Good Taste _Moderately Important</td>\n",
       "      <td>Good Taste _Moderately Important</td>\n",
       "      <td>Good Taste _Moderately Important</td>\n",
       "      <td>Good Taste _Important</td>\n",
       "      <td>Good Taste _Moderately Important</td>\n",
       "      <td>Good Taste _Important</td>\n",
       "      <td>Good Taste _Moderately Important</td>\n",
       "      <td>Good Taste _Moderately Important</td>\n",
       "      <td>Good Taste _Moderately Important</td>\n",
       "      <td>Good Quantity_Moderately Important</td>\n",
       "    </tr>\n",
       "    <tr>\n",
       "      <th>6</th>\n",
       "      <td>Good Taste _Moderately Important</td>\n",
       "      <td>Good Quantity_Moderately Important</td>\n",
       "      <td>Good Quantity_Moderately Important</td>\n",
       "      <td>Good Taste _Important</td>\n",
       "      <td>Good Quantity_Moderately Important</td>\n",
       "      <td>Good Taste _Moderately Important</td>\n",
       "      <td>Good Quantity_Moderately Important</td>\n",
       "      <td>Good Quantity_Moderately Important</td>\n",
       "      <td>Good Quantity_Moderately Important</td>\n",
       "      <td>Good Taste _Important</td>\n",
       "      <td>Good Quantity_Moderately Important</td>\n",
       "      <td>Good Taste _Moderately Important</td>\n",
       "    </tr>\n",
       "    <tr>\n",
       "      <th>7</th>\n",
       "      <td>Freshness _Important</td>\n",
       "      <td>Good Quantity_Slightly Important</td>\n",
       "      <td>Freshness _Important</td>\n",
       "      <td>Good Quantity_Slightly Important</td>\n",
       "      <td>Good Quantity_Slightly Important</td>\n",
       "      <td>Freshness _Important</td>\n",
       "      <td>Freshness _Important</td>\n",
       "      <td>Good Quantity_Slightly Important</td>\n",
       "      <td>Temperature_Slightly Important</td>\n",
       "      <td>Good Quantity_Slightly Important</td>\n",
       "      <td>Freshness _Important</td>\n",
       "      <td>Good Quantity_Slightly Important</td>\n",
       "    </tr>\n",
       "    <tr>\n",
       "      <th>8</th>\n",
       "      <td>Good Quantity_Slightly Important</td>\n",
       "      <td>Freshness _Important</td>\n",
       "      <td>Age</td>\n",
       "      <td>Freshness _Important</td>\n",
       "      <td>Missing item_Strongly agree</td>\n",
       "      <td>Good Quantity_Slightly Important</td>\n",
       "      <td>Good Quantity_Slightly Important</td>\n",
       "      <td>Temperature_Slightly Important</td>\n",
       "      <td>Good Quantity_Slightly Important</td>\n",
       "      <td>High Quality of package_Very Important</td>\n",
       "      <td>Good Quantity_Slightly Important</td>\n",
       "      <td>Freshness _Important</td>\n",
       "    </tr>\n",
       "    <tr>\n",
       "      <th>9</th>\n",
       "      <td>Age</td>\n",
       "      <td>Age</td>\n",
       "      <td>Temperature_Important</td>\n",
       "      <td>Politeness_Very Important</td>\n",
       "      <td>Freshness _Important</td>\n",
       "      <td>Age</td>\n",
       "      <td>Temperature_Important</td>\n",
       "      <td>Politeness_Very Important</td>\n",
       "      <td>Freshness _Important</td>\n",
       "      <td>Freshness _Important</td>\n",
       "      <td>Temperature_Important</td>\n",
       "      <td>Age</td>\n",
       "    </tr>\n",
       "    <tr>\n",
       "      <th>10</th>\n",
       "      <td>Missing item_Strongly agree</td>\n",
       "      <td>Temperature_Slightly Important</td>\n",
       "      <td>Temperature_Slightly Important</td>\n",
       "      <td>High Quality of package_Very Important</td>\n",
       "      <td>Temperature_Important</td>\n",
       "      <td>Influence of rating_No</td>\n",
       "      <td>Age</td>\n",
       "      <td>Temperature_Important</td>\n",
       "      <td>Temperature_Important</td>\n",
       "      <td>Age</td>\n",
       "      <td>Educational Qualifications_Post Graduate</td>\n",
       "      <td>Missing item_Strongly agree</td>\n",
       "    </tr>\n",
       "    <tr>\n",
       "      <th>11</th>\n",
       "      <td>Temperature_Slightly Important</td>\n",
       "      <td>Temperature_Important</td>\n",
       "      <td>Missing item_Strongly agree</td>\n",
       "      <td>Temperature_Slightly Important</td>\n",
       "      <td>Age</td>\n",
       "      <td>Temperature_Slightly Important</td>\n",
       "      <td>High Quality of package_Very Important</td>\n",
       "      <td>Freshness _Important</td>\n",
       "      <td>Age</td>\n",
       "      <td>Temperature_Important</td>\n",
       "      <td>Temperature_Slightly Important</td>\n",
       "      <td>Influence of rating_Yes</td>\n",
       "    </tr>\n",
       "  </tbody>\n",
       "</table>\n",
       "</div>"
      ],
      "text/plain": [
       "                                    0                                   1   \\\n",
       "0              Good Quantity_Important             Good Quantity_Important   \n",
       "1           Good Taste _Very Important          Good Taste _Very Important   \n",
       "2            Freshness _Very Important          Temperature_Very Important   \n",
       "3           Temperature_Very Important               Good Taste _Important   \n",
       "4                Good Taste _Important           Freshness _Very Important   \n",
       "5   Good Quantity_Moderately Important    Good Taste _Moderately Important   \n",
       "6     Good Taste _Moderately Important  Good Quantity_Moderately Important   \n",
       "7                 Freshness _Important    Good Quantity_Slightly Important   \n",
       "8     Good Quantity_Slightly Important                Freshness _Important   \n",
       "9                                  Age                                 Age   \n",
       "10         Missing item_Strongly agree      Temperature_Slightly Important   \n",
       "11      Temperature_Slightly Important               Temperature_Important   \n",
       "\n",
       "                                    2   \\\n",
       "0              Good Quantity_Important   \n",
       "1           Good Taste _Very Important   \n",
       "2           Temperature_Very Important   \n",
       "3            Freshness _Very Important   \n",
       "4                Good Taste _Important   \n",
       "5     Good Taste _Moderately Important   \n",
       "6   Good Quantity_Moderately Important   \n",
       "7                 Freshness _Important   \n",
       "8                                  Age   \n",
       "9                Temperature_Important   \n",
       "10      Temperature_Slightly Important   \n",
       "11         Missing item_Strongly agree   \n",
       "\n",
       "                                        3   \\\n",
       "0                  Good Quantity_Important   \n",
       "1               Good Taste _Very Important   \n",
       "2                Freshness _Very Important   \n",
       "3               Temperature_Very Important   \n",
       "4       Good Quantity_Moderately Important   \n",
       "5         Good Taste _Moderately Important   \n",
       "6                    Good Taste _Important   \n",
       "7         Good Quantity_Slightly Important   \n",
       "8                     Freshness _Important   \n",
       "9                Politeness_Very Important   \n",
       "10  High Quality of package_Very Important   \n",
       "11          Temperature_Slightly Important   \n",
       "\n",
       "                                    4                                   5   \\\n",
       "0           Good Taste _Very Important             Good Quantity_Important   \n",
       "1              Good Quantity_Important          Good Taste _Very Important   \n",
       "2            Freshness _Very Important           Freshness _Very Important   \n",
       "3           Temperature_Very Important          Temperature_Very Important   \n",
       "4                Good Taste _Important  Good Quantity_Moderately Important   \n",
       "5     Good Taste _Moderately Important               Good Taste _Important   \n",
       "6   Good Quantity_Moderately Important    Good Taste _Moderately Important   \n",
       "7     Good Quantity_Slightly Important                Freshness _Important   \n",
       "8          Missing item_Strongly agree    Good Quantity_Slightly Important   \n",
       "9                 Freshness _Important                                 Age   \n",
       "10               Temperature_Important              Influence of rating_No   \n",
       "11                                 Age      Temperature_Slightly Important   \n",
       "\n",
       "                                        6   \\\n",
       "0                  Good Quantity_Important   \n",
       "1               Good Taste _Very Important   \n",
       "2                Freshness _Very Important   \n",
       "3               Temperature_Very Important   \n",
       "4                    Good Taste _Important   \n",
       "5         Good Taste _Moderately Important   \n",
       "6       Good Quantity_Moderately Important   \n",
       "7                     Freshness _Important   \n",
       "8         Good Quantity_Slightly Important   \n",
       "9                    Temperature_Important   \n",
       "10                                     Age   \n",
       "11  High Quality of package_Very Important   \n",
       "\n",
       "                                    7                                   8   \\\n",
       "0              Good Quantity_Important             Good Quantity_Important   \n",
       "1           Good Taste _Very Important          Good Taste _Very Important   \n",
       "2           Temperature_Very Important           Freshness _Very Important   \n",
       "3            Freshness _Very Important               Good Taste _Important   \n",
       "4     Good Taste _Moderately Important          Temperature_Very Important   \n",
       "5                Good Taste _Important    Good Taste _Moderately Important   \n",
       "6   Good Quantity_Moderately Important  Good Quantity_Moderately Important   \n",
       "7     Good Quantity_Slightly Important      Temperature_Slightly Important   \n",
       "8       Temperature_Slightly Important    Good Quantity_Slightly Important   \n",
       "9            Politeness_Very Important                Freshness _Important   \n",
       "10               Temperature_Important               Temperature_Important   \n",
       "11                Freshness _Important                                 Age   \n",
       "\n",
       "                                        9   \\\n",
       "0                  Good Quantity_Important   \n",
       "1               Good Taste _Very Important   \n",
       "2               Temperature_Very Important   \n",
       "3                Freshness _Very Important   \n",
       "4       Good Quantity_Moderately Important   \n",
       "5         Good Taste _Moderately Important   \n",
       "6                    Good Taste _Important   \n",
       "7         Good Quantity_Slightly Important   \n",
       "8   High Quality of package_Very Important   \n",
       "9                     Freshness _Important   \n",
       "10                                     Age   \n",
       "11                   Temperature_Important   \n",
       "\n",
       "                                          10  \\\n",
       "0                    Good Quantity_Important   \n",
       "1                  Freshness _Very Important   \n",
       "2                 Good Taste _Very Important   \n",
       "3                      Good Taste _Important   \n",
       "4                 Temperature_Very Important   \n",
       "5           Good Taste _Moderately Important   \n",
       "6         Good Quantity_Moderately Important   \n",
       "7                       Freshness _Important   \n",
       "8           Good Quantity_Slightly Important   \n",
       "9                      Temperature_Important   \n",
       "10  Educational Qualifications_Post Graduate   \n",
       "11            Temperature_Slightly Important   \n",
       "\n",
       "                                    11  \n",
       "0              Good Quantity_Important  \n",
       "1           Good Taste _Very Important  \n",
       "2            Freshness _Very Important  \n",
       "3           Temperature_Very Important  \n",
       "4                Good Taste _Important  \n",
       "5   Good Quantity_Moderately Important  \n",
       "6     Good Taste _Moderately Important  \n",
       "7     Good Quantity_Slightly Important  \n",
       "8                 Freshness _Important  \n",
       "9                                  Age  \n",
       "10         Missing item_Strongly agree  \n",
       "11             Influence of rating_Yes  "
      ]
     },
     "execution_count": 141,
     "metadata": {},
     "output_type": "execute_result"
    }
   ],
   "source": [
    "feature_common"
   ]
  },
  {
   "cell_type": "code",
   "execution_count": 142,
   "metadata": {
    "ExecuteTime": {
     "end_time": "2021-02-22T04:04:22.283650Z",
     "start_time": "2021-02-22T04:04:22.140816Z"
    }
   },
   "outputs": [
    {
     "data": {
      "text/plain": [
       "0                Good Quantity_Important\n",
       "1             Good Taste _Very Important\n",
       "2             Temperature_Very Important\n",
       "3              Freshness _Very Important\n",
       "4                  Good Taste _Important\n",
       "5       Good Taste _Moderately Important\n",
       "6     Good Quantity_Moderately Important\n",
       "7                   Freshness _Important\n",
       "8                                    Age\n",
       "9                  Temperature_Important\n",
       "10        Temperature_Slightly Important\n",
       "11           Missing item_Strongly agree\n",
       "Name: 2, dtype: object"
      ]
     },
     "execution_count": 142,
     "metadata": {},
     "output_type": "execute_result"
    }
   ],
   "source": [
    "feature_common[2]"
   ]
  },
  {
   "cell_type": "markdown",
   "metadata": {},
   "source": [
    "## Build Model"
   ]
  },
  {
   "cell_type": "code",
   "execution_count": 143,
   "metadata": {
    "ExecuteTime": {
     "end_time": "2021-02-22T04:04:22.390590Z",
     "start_time": "2021-02-22T04:04:22.287649Z"
    }
   },
   "outputs": [],
   "source": [
    "X=df[feature_common[2]]\n",
    "y=df.iloc[:,-1]"
   ]
  },
  {
   "cell_type": "code",
   "execution_count": 144,
   "metadata": {
    "ExecuteTime": {
     "end_time": "2021-02-22T04:04:22.524512Z",
     "start_time": "2021-02-22T04:04:22.394586Z"
    }
   },
   "outputs": [],
   "source": [
    "\n",
    "nm=RandomOverSampler()\n",
    "X,y=nm.fit_sample(X,y)"
   ]
  },
  {
   "cell_type": "code",
   "execution_count": 145,
   "metadata": {
    "ExecuteTime": {
     "end_time": "2021-02-22T04:04:23.050210Z",
     "start_time": "2021-02-22T04:04:22.528511Z"
    }
   },
   "outputs": [
    {
     "data": {
      "text/plain": [
       "RandomForestClassifier(max_depth=3, min_samples_split=4)"
      ]
     },
     "execution_count": 145,
     "metadata": {},
     "output_type": "execute_result"
    }
   ],
   "source": [
    "X_train, X_test, y_train, y_test = train_test_split(X, y, test_size = 0.33)\n",
    "clf=RandomForestClassifier(max_depth=3,min_samples_split=4)\n",
    "clf.fit(X_train,y_train)"
   ]
  },
  {
   "cell_type": "code",
   "execution_count": 146,
   "metadata": {
    "ExecuteTime": {
     "end_time": "2021-02-22T04:04:23.096184Z",
     "start_time": "2021-02-22T04:04:23.054209Z"
    }
   },
   "outputs": [
    {
     "data": {
      "text/plain": [
       "0.8943661971830986"
      ]
     },
     "execution_count": 146,
     "metadata": {},
     "output_type": "execute_result"
    }
   ],
   "source": [
    "clf.score(X_test,y_test)"
   ]
  },
  {
   "cell_type": "code",
   "execution_count": 147,
   "metadata": {
    "ExecuteTime": {
     "end_time": "2021-02-22T04:04:23.230109Z",
     "start_time": "2021-02-22T04:04:23.100183Z"
    }
   },
   "outputs": [
    {
     "data": {
      "text/plain": [
       "array([1, 0, 0, 0, 1, 0, 0, 1, 1, 0, 1, 0, 0, 0, 0, 0, 1, 0, 0, 0, 0, 0,\n",
       "       0, 1, 1, 0, 0, 1, 1, 0, 0, 1, 0, 0, 0, 0, 1, 1, 1, 0, 1, 0, 0, 1,\n",
       "       0, 0, 0, 1, 1, 0, 0, 0, 0, 0, 0, 0, 0, 1, 1, 0, 0, 0, 0, 0, 1, 1,\n",
       "       0, 1, 0, 0, 0, 1, 1, 0, 0, 1, 1, 1, 0, 1, 0, 0, 0, 0, 0, 0, 0, 1,\n",
       "       1, 0, 0, 1, 0, 0, 0, 1, 1, 0, 0, 0, 0, 1, 1, 0, 1, 0, 0, 1, 1, 1,\n",
       "       0, 1, 0, 0, 1, 1, 0, 1, 0, 1, 0, 1, 0, 0, 0, 1, 1, 1, 0, 1, 0, 0,\n",
       "       0, 0, 1, 0, 0, 1, 0, 1, 1, 1], dtype=uint8)"
      ]
     },
     "execution_count": 147,
     "metadata": {},
     "output_type": "execute_result"
    }
   ],
   "source": [
    "y_pred=clf.predict(X_test)\n",
    "y_pred"
   ]
  },
  {
   "cell_type": "code",
   "execution_count": 148,
   "metadata": {
    "ExecuteTime": {
     "end_time": "2021-02-22T04:04:23.322056Z",
     "start_time": "2021-02-22T04:04:23.234110Z"
    },
    "scrolled": true
   },
   "outputs": [
    {
     "name": "stdout",
     "output_type": "stream",
     "text": [
      "[[76  4]\n",
      " [11 51]]\n"
     ]
    }
   ],
   "source": [
    "print(confusion_matrix(y_test,y_pred))"
   ]
  },
  {
   "cell_type": "code",
   "execution_count": 149,
   "metadata": {
    "ExecuteTime": {
     "end_time": "2021-02-22T04:04:23.442004Z",
     "start_time": "2021-02-22T04:04:23.327054Z"
    }
   },
   "outputs": [
    {
     "name": "stdout",
     "output_type": "stream",
     "text": [
      "              precision    recall  f1-score   support\n",
      "\n",
      "           0       0.87      0.95      0.91        80\n",
      "           1       0.93      0.82      0.87        62\n",
      "\n",
      "    accuracy                           0.89       142\n",
      "   macro avg       0.90      0.89      0.89       142\n",
      "weighted avg       0.90      0.89      0.89       142\n",
      "\n"
     ]
    }
   ],
   "source": [
    "print(classification_report(y_test,y_pred))"
   ]
  },
  {
   "cell_type": "code",
   "execution_count": 150,
   "metadata": {
    "ExecuteTime": {
     "end_time": "2021-02-22T04:04:27.103334Z",
     "start_time": "2021-02-22T04:04:23.446984Z"
    }
   },
   "outputs": [
    {
     "name": "stdout",
     "output_type": "stream",
     "text": [
      "List of possible accuracy: [0.9166666666666666, 0.9166666666666666, 0.9444444444444444, 0.9722222222222222, 0.9722222222222222, 0.9444444444444444, 0.8611111111111112, 0.9444444444444444, 0.9714285714285714, 0.9142857142857143, 0.8, 0.9428571428571428]\n",
      "\n",
      "Maximum Accuracy That can be obtained from this model is: 97.22222222222221 %\n",
      "\n",
      "Minimum Accuracy: 80.0 %\n",
      "\n",
      "Average Accuracy That can be obtained from this model is:: 0.9250661375661376\n",
      "\n",
      " Median Accuracy That can be obtained from this model is:: 0.9436507936507936\n",
      "\n",
      "Standard Deviation is: 0.04832963897286414\n"
     ]
    }
   ],
   "source": [
    "lst_accu_stratified = [] \n",
    "x=0\n",
    "\n",
    "skf = StratifiedKFold(n_splits=12, shuffle=True, random_state=1) \n",
    "for train_index, test_index in skf.split(X, y): \n",
    "    x_train_fold, x_test_fold = X.loc[train_index,:], X.loc[test_index,:] \n",
    "    y_train_fold, y_test_fold = y[train_index], y[test_index] \n",
    "    clf.fit(x_train_fold, y_train_fold)\n",
    "    \n",
    "    lst_accu_stratified.append(clf.score(x_test_fold, y_test_fold))\n",
    "   \n",
    "    \n",
    "    \n",
    "print('List of possible accuracy:', lst_accu_stratified) \n",
    "print('\\nMaximum Accuracy That can be obtained from this model is:', \n",
    "      max(lst_accu_stratified)*100, '%') \n",
    "print('\\nMinimum Accuracy:', \n",
    "      min(lst_accu_stratified)*100, '%') \n",
    "print('\\nAverage Accuracy That can be obtained from this model is::',np.mean(lst_accu_stratified)) \n",
    "print('\\n Median Accuracy That can be obtained from this model is::',np.median(lst_accu_stratified)) \n",
    "print('\\nStandard Deviation is:',np.std(lst_accu_stratified)) "
   ]
  },
  {
   "cell_type": "markdown",
   "metadata": {},
   "source": [
    "## (Final Model)Using method 1 feature through build model"
   ]
  },
  {
   "cell_type": "code",
   "execution_count": 193,
   "metadata": {
    "ExecuteTime": {
     "end_time": "2021-02-22T04:19:41.276645Z",
     "start_time": "2021-02-22T04:19:41.235666Z"
    }
   },
   "outputs": [],
   "source": [
    "fd_dlvry=pd.read_csv('../../data/Banglore_food_delivery/onlinedeliverydata.csv')\n",
    "fd_ori=fd_dlvry.copy()\n",
    "\n",
    "fd_dlvry.drop(['Pin code','longitude','latitude','Reviews'],axis=1,inplace=True)\n",
    "\n",
    "fd_dlvry['Output']=fd_dlvry['Output'].replace({'Yes':1,'No':0})"
   ]
  },
  {
   "cell_type": "code",
   "execution_count": 194,
   "metadata": {
    "ExecuteTime": {
     "end_time": "2021-02-22T04:19:42.222193Z",
     "start_time": "2021-02-22T04:19:42.214202Z"
    }
   },
   "outputs": [
    {
     "data": {
      "text/plain": [
       "['Age',\n",
       " 'Ease and convenient',\n",
       " 'Time saving',\n",
       " 'More restaurant choices',\n",
       " 'Easy Payment option',\n",
       " 'More Offers and Discount',\n",
       " 'Good Food quality',\n",
       " 'Good Tracking system',\n",
       " 'Unaffordable',\n",
       " 'Maximum wait time']"
      ]
     },
     "execution_count": 194,
     "metadata": {},
     "output_type": "execute_result"
    }
   ],
   "source": [
    "basic_f0"
   ]
  },
  {
   "cell_type": "code",
   "execution_count": 195,
   "metadata": {
    "ExecuteTime": {
     "end_time": "2021-02-22T04:19:43.932119Z",
     "start_time": "2021-02-22T04:19:43.725693Z"
    },
    "scrolled": true
   },
   "outputs": [
    {
     "data": {
      "text/html": [
       "<div>\n",
       "<style scoped>\n",
       "    .dataframe tbody tr th:only-of-type {\n",
       "        vertical-align: middle;\n",
       "    }\n",
       "\n",
       "    .dataframe tbody tr th {\n",
       "        vertical-align: top;\n",
       "    }\n",
       "\n",
       "    .dataframe thead th {\n",
       "        text-align: right;\n",
       "    }\n",
       "</style>\n",
       "<table border=\"1\" class=\"dataframe\">\n",
       "  <thead>\n",
       "    <tr style=\"text-align: right;\">\n",
       "      <th></th>\n",
       "      <th>Age</th>\n",
       "      <th>Gender</th>\n",
       "      <th>Marital Status</th>\n",
       "      <th>Occupation</th>\n",
       "      <th>Monthly Income</th>\n",
       "      <th>Educational Qualifications</th>\n",
       "      <th>Family size</th>\n",
       "      <th>Medium (P1)</th>\n",
       "      <th>Medium (P2)</th>\n",
       "      <th>Meal(P1)</th>\n",
       "      <th>...</th>\n",
       "      <th>Influence of rating</th>\n",
       "      <th>Less Delivery time</th>\n",
       "      <th>High Quality of package</th>\n",
       "      <th>Number of calls</th>\n",
       "      <th>Politeness</th>\n",
       "      <th>Freshness</th>\n",
       "      <th>Temperature</th>\n",
       "      <th>Good Taste</th>\n",
       "      <th>Good Quantity</th>\n",
       "      <th>Output</th>\n",
       "    </tr>\n",
       "  </thead>\n",
       "  <tbody>\n",
       "    <tr>\n",
       "      <th>0</th>\n",
       "      <td>20</td>\n",
       "      <td>0</td>\n",
       "      <td>2</td>\n",
       "      <td>3</td>\n",
       "      <td>4</td>\n",
       "      <td>2</td>\n",
       "      <td>4</td>\n",
       "      <td>1</td>\n",
       "      <td>2</td>\n",
       "      <td>0</td>\n",
       "      <td>...</td>\n",
       "      <td>2</td>\n",
       "      <td>1</td>\n",
       "      <td>1</td>\n",
       "      <td>1</td>\n",
       "      <td>1</td>\n",
       "      <td>1</td>\n",
       "      <td>1</td>\n",
       "      <td>1</td>\n",
       "      <td>1</td>\n",
       "      <td>1</td>\n",
       "    </tr>\n",
       "    <tr>\n",
       "      <th>1</th>\n",
       "      <td>24</td>\n",
       "      <td>0</td>\n",
       "      <td>2</td>\n",
       "      <td>3</td>\n",
       "      <td>2</td>\n",
       "      <td>0</td>\n",
       "      <td>3</td>\n",
       "      <td>1</td>\n",
       "      <td>2</td>\n",
       "      <td>3</td>\n",
       "      <td>...</td>\n",
       "      <td>2</td>\n",
       "      <td>4</td>\n",
       "      <td>4</td>\n",
       "      <td>4</td>\n",
       "      <td>4</td>\n",
       "      <td>4</td>\n",
       "      <td>4</td>\n",
       "      <td>4</td>\n",
       "      <td>4</td>\n",
       "      <td>1</td>\n",
       "    </tr>\n",
       "    <tr>\n",
       "      <th>2</th>\n",
       "      <td>22</td>\n",
       "      <td>1</td>\n",
       "      <td>2</td>\n",
       "      <td>3</td>\n",
       "      <td>2</td>\n",
       "      <td>2</td>\n",
       "      <td>3</td>\n",
       "      <td>1</td>\n",
       "      <td>0</td>\n",
       "      <td>2</td>\n",
       "      <td>...</td>\n",
       "      <td>2</td>\n",
       "      <td>0</td>\n",
       "      <td>4</td>\n",
       "      <td>1</td>\n",
       "      <td>4</td>\n",
       "      <td>4</td>\n",
       "      <td>0</td>\n",
       "      <td>4</td>\n",
       "      <td>1</td>\n",
       "      <td>1</td>\n",
       "    </tr>\n",
       "    <tr>\n",
       "      <th>3</th>\n",
       "      <td>22</td>\n",
       "      <td>0</td>\n",
       "      <td>2</td>\n",
       "      <td>3</td>\n",
       "      <td>4</td>\n",
       "      <td>0</td>\n",
       "      <td>6</td>\n",
       "      <td>1</td>\n",
       "      <td>1</td>\n",
       "      <td>3</td>\n",
       "      <td>...</td>\n",
       "      <td>2</td>\n",
       "      <td>4</td>\n",
       "      <td>0</td>\n",
       "      <td>1</td>\n",
       "      <td>4</td>\n",
       "      <td>4</td>\n",
       "      <td>4</td>\n",
       "      <td>4</td>\n",
       "      <td>0</td>\n",
       "      <td>1</td>\n",
       "    </tr>\n",
       "    <tr>\n",
       "      <th>4</th>\n",
       "      <td>22</td>\n",
       "      <td>1</td>\n",
       "      <td>2</td>\n",
       "      <td>3</td>\n",
       "      <td>2</td>\n",
       "      <td>2</td>\n",
       "      <td>4</td>\n",
       "      <td>2</td>\n",
       "      <td>0</td>\n",
       "      <td>2</td>\n",
       "      <td>...</td>\n",
       "      <td>2</td>\n",
       "      <td>0</td>\n",
       "      <td>0</td>\n",
       "      <td>1</td>\n",
       "      <td>0</td>\n",
       "      <td>0</td>\n",
       "      <td>0</td>\n",
       "      <td>4</td>\n",
       "      <td>4</td>\n",
       "      <td>1</td>\n",
       "    </tr>\n",
       "  </tbody>\n",
       "</table>\n",
       "<p>5 rows × 51 columns</p>\n",
       "</div>"
      ],
      "text/plain": [
       "   Age  Gender  Marital Status  Occupation  Monthly Income  \\\n",
       "0   20       0               2           3               4   \n",
       "1   24       0               2           3               2   \n",
       "2   22       1               2           3               2   \n",
       "3   22       0               2           3               4   \n",
       "4   22       1               2           3               2   \n",
       "\n",
       "   Educational Qualifications  Family size  Medium (P1)  Medium (P2)  \\\n",
       "0                           2            4            1            2   \n",
       "1                           0            3            1            2   \n",
       "2                           2            3            1            0   \n",
       "3                           0            6            1            1   \n",
       "4                           2            4            2            0   \n",
       "\n",
       "   Meal(P1)  ...  Influence of rating  Less Delivery time  \\\n",
       "0         0  ...                    2                   1   \n",
       "1         3  ...                    2                   4   \n",
       "2         2  ...                    2                   0   \n",
       "3         3  ...                    2                   4   \n",
       "4         2  ...                    2                   0   \n",
       "\n",
       "   High Quality of package  Number of calls  Politeness  Freshness   \\\n",
       "0                        1                1           1           1   \n",
       "1                        4                4           4           4   \n",
       "2                        4                1           4           4   \n",
       "3                        0                1           4           4   \n",
       "4                        0                1           0           0   \n",
       "\n",
       "   Temperature  Good Taste   Good Quantity  Output  \n",
       "0            1            1              1       1  \n",
       "1            4            4              4       1  \n",
       "2            0            4              1       1  \n",
       "3            4            4              0       1  \n",
       "4            0            4              4       1  \n",
       "\n",
       "[5 rows x 51 columns]"
      ]
     },
     "execution_count": 195,
     "metadata": {},
     "output_type": "execute_result"
    }
   ],
   "source": [
    "# import  datacleaner as dc # pip install datacleaner\n",
    "dc.autoclean(fd_dlvry).head() "
   ]
  },
  {
   "cell_type": "code",
   "execution_count": 196,
   "metadata": {
    "ExecuteTime": {
     "end_time": "2021-02-22T04:19:50.930307Z",
     "start_time": "2021-02-22T04:19:50.889316Z"
    }
   },
   "outputs": [],
   "source": [
    "lbl=dict()\n",
    "for i in fd_ori.columns:\n",
    "    if i not in  ['latitude','longitude','Pin code','Output','Reviews']:\n",
    "                  lbl[i]=dict(zip(fd_ori[i].unique(), fd_dlvry[i].unique()))"
   ]
  },
  {
   "cell_type": "code",
   "execution_count": 197,
   "metadata": {
    "ExecuteTime": {
     "end_time": "2021-02-22T04:19:54.158858Z",
     "start_time": "2021-02-22T04:19:54.135855Z"
    }
   },
   "outputs": [],
   "source": [
    "X=fd_dlvry[basic_f0]\n",
    "y=fd_dlvry.iloc[:,-1]\n",
    "\n",
    "nm=RandomOverSampler()\n",
    "X,y=nm.fit_sample(X,y)"
   ]
  },
  {
   "cell_type": "code",
   "execution_count": 198,
   "metadata": {
    "ExecuteTime": {
     "end_time": "2021-02-22T04:19:54.993476Z",
     "start_time": "2021-02-22T04:19:54.973492Z"
    }
   },
   "outputs": [
    {
     "data": {
      "text/html": [
       "<div>\n",
       "<style scoped>\n",
       "    .dataframe tbody tr th:only-of-type {\n",
       "        vertical-align: middle;\n",
       "    }\n",
       "\n",
       "    .dataframe tbody tr th {\n",
       "        vertical-align: top;\n",
       "    }\n",
       "\n",
       "    .dataframe thead th {\n",
       "        text-align: right;\n",
       "    }\n",
       "</style>\n",
       "<table border=\"1\" class=\"dataframe\">\n",
       "  <thead>\n",
       "    <tr style=\"text-align: right;\">\n",
       "      <th></th>\n",
       "      <th>Age</th>\n",
       "      <th>Ease and convenient</th>\n",
       "      <th>Time saving</th>\n",
       "      <th>More restaurant choices</th>\n",
       "      <th>Easy Payment option</th>\n",
       "      <th>More Offers and Discount</th>\n",
       "      <th>Good Food quality</th>\n",
       "      <th>Good Tracking system</th>\n",
       "      <th>Unaffordable</th>\n",
       "      <th>Maximum wait time</th>\n",
       "    </tr>\n",
       "  </thead>\n",
       "  <tbody>\n",
       "    <tr>\n",
       "      <th>0</th>\n",
       "      <td>20</td>\n",
       "      <td>2</td>\n",
       "      <td>2</td>\n",
       "      <td>2</td>\n",
       "      <td>2</td>\n",
       "      <td>2</td>\n",
       "      <td>2</td>\n",
       "      <td>2</td>\n",
       "      <td>2</td>\n",
       "      <td>1</td>\n",
       "    </tr>\n",
       "    <tr>\n",
       "      <th>1</th>\n",
       "      <td>24</td>\n",
       "      <td>3</td>\n",
       "      <td>3</td>\n",
       "      <td>3</td>\n",
       "      <td>3</td>\n",
       "      <td>3</td>\n",
       "      <td>2</td>\n",
       "      <td>0</td>\n",
       "      <td>3</td>\n",
       "      <td>1</td>\n",
       "    </tr>\n",
       "    <tr>\n",
       "      <th>2</th>\n",
       "      <td>22</td>\n",
       "      <td>3</td>\n",
       "      <td>3</td>\n",
       "      <td>3</td>\n",
       "      <td>2</td>\n",
       "      <td>2</td>\n",
       "      <td>1</td>\n",
       "      <td>2</td>\n",
       "      <td>0</td>\n",
       "      <td>2</td>\n",
       "    </tr>\n",
       "    <tr>\n",
       "      <th>3</th>\n",
       "      <td>22</td>\n",
       "      <td>0</td>\n",
       "      <td>0</td>\n",
       "      <td>3</td>\n",
       "      <td>0</td>\n",
       "      <td>3</td>\n",
       "      <td>0</td>\n",
       "      <td>0</td>\n",
       "      <td>2</td>\n",
       "      <td>1</td>\n",
       "    </tr>\n",
       "    <tr>\n",
       "      <th>4</th>\n",
       "      <td>22</td>\n",
       "      <td>0</td>\n",
       "      <td>0</td>\n",
       "      <td>0</td>\n",
       "      <td>0</td>\n",
       "      <td>0</td>\n",
       "      <td>2</td>\n",
       "      <td>2</td>\n",
       "      <td>1</td>\n",
       "      <td>1</td>\n",
       "    </tr>\n",
       "  </tbody>\n",
       "</table>\n",
       "</div>"
      ],
      "text/plain": [
       "   Age  Ease and convenient  Time saving  More restaurant choices  \\\n",
       "0   20                    2            2                        2   \n",
       "1   24                    3            3                        3   \n",
       "2   22                    3            3                        3   \n",
       "3   22                    0            0                        3   \n",
       "4   22                    0            0                        0   \n",
       "\n",
       "   Easy Payment option  More Offers and Discount  Good Food quality  \\\n",
       "0                    2                         2                  2   \n",
       "1                    3                         3                  2   \n",
       "2                    2                         2                  1   \n",
       "3                    0                         3                  0   \n",
       "4                    0                         0                  2   \n",
       "\n",
       "   Good Tracking system  Unaffordable  Maximum wait time  \n",
       "0                     2             2                  1  \n",
       "1                     0             3                  1  \n",
       "2                     2             0                  2  \n",
       "3                     0             2                  1  \n",
       "4                     2             1                  1  "
      ]
     },
     "execution_count": 198,
     "metadata": {},
     "output_type": "execute_result"
    }
   ],
   "source": [
    "X.head()"
   ]
  },
  {
   "cell_type": "code",
   "execution_count": 199,
   "metadata": {
    "ExecuteTime": {
     "end_time": "2021-02-22T04:19:56.274914Z",
     "start_time": "2021-02-22T04:19:55.927795Z"
    }
   },
   "outputs": [
    {
     "data": {
      "text/plain": [
       "RandomForestClassifier(max_depth=3, min_samples_split=4)"
      ]
     },
     "execution_count": 199,
     "metadata": {},
     "output_type": "execute_result"
    }
   ],
   "source": [
    "X_train, X_test, y_train, y_test = train_test_split(X, y, test_size = 0.33)\n",
    "clf=RandomForestClassifier(max_depth=3,min_samples_split=4)\n",
    "clf.fit(X_train,y_train)"
   ]
  },
  {
   "cell_type": "code",
   "execution_count": 200,
   "metadata": {
    "ExecuteTime": {
     "end_time": "2021-02-22T04:19:57.240229Z",
     "start_time": "2021-02-22T04:19:57.198243Z"
    }
   },
   "outputs": [
    {
     "data": {
      "text/plain": [
       "0.9195979899497487"
      ]
     },
     "execution_count": 200,
     "metadata": {},
     "output_type": "execute_result"
    }
   ],
   "source": [
    "clf.score(X_test,y_test)"
   ]
  },
  {
   "cell_type": "code",
   "execution_count": 201,
   "metadata": {
    "ExecuteTime": {
     "end_time": "2021-02-22T04:19:58.116566Z",
     "start_time": "2021-02-22T04:19:58.071599Z"
    }
   },
   "outputs": [
    {
     "data": {
      "text/plain": [
       "array([1, 0, 1, 1, 1, 1, 1, 1, 0, 0, 0, 1, 0, 0, 0, 0, 1, 1, 0, 0, 1, 0,\n",
       "       1, 1, 1, 1, 1, 0, 0, 1, 1, 0, 0, 1, 0, 1, 0, 1, 0, 1, 0, 0, 0, 0,\n",
       "       1, 0, 1, 0, 1, 1, 1, 0, 0, 0, 0, 0, 0, 1, 1, 0, 1, 1, 0, 1, 1, 0,\n",
       "       1, 0, 0, 1, 1, 1, 0, 1, 1, 0, 0, 1, 1, 0, 1, 0, 0, 0, 0, 0, 1, 1,\n",
       "       1, 0, 1, 1, 0, 1, 0, 1, 0, 0, 1, 0, 0, 1, 1, 1, 1, 0, 0, 1, 0, 1,\n",
       "       0, 1, 1, 0, 1, 1, 0, 1, 0, 1, 0, 0, 0, 0, 1, 1, 0, 1, 0, 1, 0, 1,\n",
       "       0, 1, 1, 1, 0, 1, 1, 0, 1, 1, 0, 1, 0, 0, 0, 0, 1, 1, 1, 0, 1, 0,\n",
       "       1, 0, 0, 0, 1, 0, 1, 0, 1, 1, 1, 0, 1, 1, 1, 0, 1, 1, 1, 0, 1, 0,\n",
       "       0, 0, 1, 0, 0, 1, 1, 1, 0, 1, 1, 0, 1, 0, 0, 1, 1, 0, 0, 1, 1, 0,\n",
       "       1], dtype=int64)"
      ]
     },
     "execution_count": 201,
     "metadata": {},
     "output_type": "execute_result"
    }
   ],
   "source": [
    "y_pred=clf.predict(X_test)\n",
    "y_pred"
   ]
  },
  {
   "cell_type": "code",
   "execution_count": 202,
   "metadata": {
    "ExecuteTime": {
     "end_time": "2021-02-22T04:19:58.834452Z",
     "start_time": "2021-02-22T04:19:58.824439Z"
    }
   },
   "outputs": [
    {
     "name": "stdout",
     "output_type": "stream",
     "text": [
      "[[90 11]\n",
      " [ 5 93]]\n"
     ]
    }
   ],
   "source": [
    "print(confusion_matrix(y_test,y_pred))"
   ]
  },
  {
   "cell_type": "code",
   "execution_count": 203,
   "metadata": {
    "ExecuteTime": {
     "end_time": "2021-02-22T04:19:59.625511Z",
     "start_time": "2021-02-22T04:19:59.609516Z"
    }
   },
   "outputs": [
    {
     "name": "stdout",
     "output_type": "stream",
     "text": [
      "              precision    recall  f1-score   support\n",
      "\n",
      "           0       0.95      0.89      0.92       101\n",
      "           1       0.89      0.95      0.92        98\n",
      "\n",
      "    accuracy                           0.92       199\n",
      "   macro avg       0.92      0.92      0.92       199\n",
      "weighted avg       0.92      0.92      0.92       199\n",
      "\n"
     ]
    }
   ],
   "source": [
    "print(classification_report(y_test,y_pred))"
   ]
  },
  {
   "cell_type": "code",
   "execution_count": 204,
   "metadata": {
    "ExecuteTime": {
     "end_time": "2021-02-22T04:20:04.857175Z",
     "start_time": "2021-02-22T04:20:00.687943Z"
    }
   },
   "outputs": [
    {
     "name": "stdout",
     "output_type": "stream",
     "text": [
      "List of possible accuracy: [0.8235294117647058, 0.9411764705882353, 0.8, 1.0, 0.86, 0.88, 0.82, 0.84, 0.82, 0.9, 0.94, 0.88]\n",
      "\n",
      "Maximum Accuracy That can be obtained from this model is: 100.0 %\n",
      "\n",
      "Minimum Accuracy: 80.0 %\n",
      "\n",
      "Average Accuracy That can be obtained from this model is:: 0.8753921568627452\n",
      "\n",
      " Median Accuracy That can be obtained from this model is:: 0.87\n",
      "\n",
      "Standard Deviation is: 0.05822134579111484\n"
     ]
    }
   ],
   "source": [
    "lst_accu_stratified = [] \n",
    "x=0\n",
    "\n",
    "skf = StratifiedKFold(n_splits=12, shuffle=True, random_state=1) \n",
    "for train_index, test_index in skf.split(X, y): \n",
    "    x_train_fold, x_test_fold = X.loc[train_index,:], X.loc[test_index,:] \n",
    "    y_train_fold, y_test_fold = y[train_index], y[test_index] \n",
    "    clf.fit(x_train_fold, y_train_fold)\n",
    "    lst_accu_stratified.append(clf.score(x_test_fold, y_test_fold))\n",
    "   \n",
    "    \n",
    "    \n",
    "print('List of possible accuracy:', lst_accu_stratified) \n",
    "print('\\nMaximum Accuracy That can be obtained from this model is:', \n",
    "      max(lst_accu_stratified)*100, '%') \n",
    "print('\\nMinimum Accuracy:', \n",
    "      min(lst_accu_stratified)*100, '%') \n",
    "print('\\nAverage Accuracy That can be obtained from this model is::',np.mean(lst_accu_stratified)) \n",
    "print('\\n Median Accuracy That can be obtained from this model is::',np.median(lst_accu_stratified)) \n",
    "print('\\nStandard Deviation is:',np.std(lst_accu_stratified)) "
   ]
  },
  {
   "cell_type": "code",
   "execution_count": 205,
   "metadata": {
    "ExecuteTime": {
     "end_time": "2021-02-22T04:20:04.879163Z",
     "start_time": "2021-02-22T04:20:04.862176Z"
    }
   },
   "outputs": [
    {
     "name": "stdout",
     "output_type": "stream",
     "text": [
      "Age [20 24 22 27 23 21 28 25 32 30 31 26 18 19 33 29]\n",
      "Ease and convenient ['Neutral' 'Strongly agree' 'Agree' 'Strongly disagree' 'Disagree']\n",
      "Time saving ['Neutral' 'Strongly agree' 'Agree' 'Disagree' 'Strongly disagree']\n",
      "More restaurant choices ['Neutral' 'Strongly agree' 'Agree' 'Strongly disagree' 'Disagree']\n",
      "Easy Payment option ['Neutral' 'Strongly agree' 'Agree' 'Disagree' 'Strongly disagree']\n",
      "More Offers and Discount ['Neutral' 'Strongly agree' 'Agree' 'Disagree' 'Strongly disagree']\n",
      "Good Food quality ['Neutral' 'Disagree' 'Agree' 'Strongly agree' 'Strongly disagree']\n",
      "Good Tracking system ['Neutral' 'Agree' 'Strongly agree' 'Disagree' 'Strongly disagree']\n",
      "Unaffordable ['Neutral' 'Strongly agree' 'Agree' 'Disagree' 'Strongly disagree']\n",
      "Maximum wait time ['30 minutes' '45 minutes' '60 minutes' 'More than 60 minutes'\n",
      " '15 minutes']\n"
     ]
    }
   ],
   "source": [
    "for i in basic_f0:\n",
    "    print(i,fd_ori[i].unique())"
   ]
  },
  {
   "cell_type": "code",
   "execution_count": 165,
   "metadata": {
    "ExecuteTime": {
     "end_time": "2021-02-22T04:12:45.287961Z",
     "start_time": "2021-02-22T04:12:45.277626Z"
    }
   },
   "outputs": [
    {
     "data": {
      "text/plain": [
       "10"
      ]
     },
     "execution_count": 165,
     "metadata": {},
     "output_type": "execute_result"
    }
   ],
   "source": [
    "len(basic_f0)"
   ]
  },
  {
   "cell_type": "code",
   "execution_count": 206,
   "metadata": {
    "ExecuteTime": {
     "end_time": "2021-02-22T04:20:10.163649Z",
     "start_time": "2021-02-22T04:20:10.126652Z"
    }
   },
   "outputs": [
    {
     "data": {
      "text/plain": [
       "{'Age': {20: 20,\n",
       "  24: 24,\n",
       "  22: 22,\n",
       "  27: 27,\n",
       "  23: 23,\n",
       "  21: 21,\n",
       "  28: 28,\n",
       "  25: 25,\n",
       "  32: 32,\n",
       "  30: 30,\n",
       "  31: 31,\n",
       "  26: 26,\n",
       "  18: 18,\n",
       "  19: 19,\n",
       "  33: 33,\n",
       "  29: 29},\n",
       " 'Gender': {'Female': 0, 'Male': 1},\n",
       " 'Marital Status': {'Single': 2, 'Married': 0, 'Prefer not to say': 1},\n",
       " 'Occupation': {'Student': 3,\n",
       "  'Employee': 0,\n",
       "  'Self Employeed': 2,\n",
       "  'House wife': 1},\n",
       " 'Monthly Income': {'No Income': 4,\n",
       "  'Below Rs.10000': 2,\n",
       "  'More than 50000': 3,\n",
       "  '10001 to 25000': 0,\n",
       "  '25001 to 50000': 1},\n",
       " 'Educational Qualifications': {'Post Graduate': 2,\n",
       "  'Graduate': 0,\n",
       "  'Ph.D': 1,\n",
       "  'Uneducated': 4,\n",
       "  'School': 3},\n",
       " 'Family size': {4: 4, 3: 3, 6: 6, 2: 2, 5: 5, 1: 1},\n",
       " 'Medium (P1)': {'Food delivery apps': 1,\n",
       "  'Walk-in': 2,\n",
       "  'Direct call': 0,\n",
       "  'Web browser': 3},\n",
       " 'Medium (P2)': {' Web browser': 2, ' Direct call': 0, ' Walk-in': 1},\n",
       " 'Meal(P1)': {'Breakfast': 0, 'Snacks': 3, 'Lunch': 2, 'Dinner': 1},\n",
       " 'Meal(P2)': {' Lunch': 1, ' Dinner': 0, ' Snacks': 2},\n",
       " 'Perference(P1)': {'Non Veg foods (Lunch / Dinner)': 1,\n",
       "  'Veg foods (Breakfast / Lunch / Dinner)': 3,\n",
       "  'Bakery items (snacks)': 0,\n",
       "  'Sweets': 2},\n",
       " 'Perference(P2)': {' Bakery items (snacks)': 0,\n",
       "  ' Veg foods (Breakfast / Lunch / Dinner)': 3,\n",
       "  ' Ice cream / Cool drinks': 1,\n",
       "  ' Sweets': 2},\n",
       " 'Ease and convenient': {'Neutral': 2,\n",
       "  'Strongly agree': 3,\n",
       "  'Agree': 0,\n",
       "  'Strongly disagree': 4,\n",
       "  'Disagree': 1},\n",
       " 'Time saving': {'Neutral': 2,\n",
       "  'Strongly agree': 3,\n",
       "  'Agree': 0,\n",
       "  'Disagree': 1,\n",
       "  'Strongly disagree': 4},\n",
       " 'More restaurant choices': {'Neutral': 2,\n",
       "  'Strongly agree': 3,\n",
       "  'Agree': 0,\n",
       "  'Strongly disagree': 4,\n",
       "  'Disagree': 1},\n",
       " 'Easy Payment option': {'Neutral': 2,\n",
       "  'Strongly agree': 3,\n",
       "  'Agree': 0,\n",
       "  'Disagree': 1,\n",
       "  'Strongly disagree': 4},\n",
       " 'More Offers and Discount': {'Neutral': 2,\n",
       "  'Strongly agree': 3,\n",
       "  'Agree': 0,\n",
       "  'Disagree': 1,\n",
       "  'Strongly disagree': 4},\n",
       " 'Good Food quality': {'Neutral': 2,\n",
       "  'Disagree': 1,\n",
       "  'Agree': 0,\n",
       "  'Strongly agree': 3,\n",
       "  'Strongly disagree': 4},\n",
       " 'Good Tracking system': {'Neutral': 2,\n",
       "  'Agree': 0,\n",
       "  'Strongly agree': 3,\n",
       "  'Disagree': 1,\n",
       "  'Strongly disagree': 4},\n",
       " 'Self Cooking': {'Neutral': 2,\n",
       "  'Strongly agree': 3,\n",
       "  'Disagree': 1,\n",
       "  'Agree': 0,\n",
       "  'Strongly disagree': 4},\n",
       " 'Health Concern': {'Neutral': 2,\n",
       "  'Strongly agree': 3,\n",
       "  'Agree': 0,\n",
       "  'Strongly disagree': 4,\n",
       "  'Disagree': 1},\n",
       " 'Late Delivery': {'Neutral': 2,\n",
       "  'Agree': 0,\n",
       "  'Strongly agree': 3,\n",
       "  'Disagree': 1,\n",
       "  'Strongly disagree': 4},\n",
       " 'Poor Hygiene': {'Neutral': 2,\n",
       "  'Strongly agree': 3,\n",
       "  'Agree': 0,\n",
       "  'Disagree': 1,\n",
       "  'Strongly disagree': 4},\n",
       " 'Bad past experience': {'Neutral': 2,\n",
       "  'Strongly agree': 3,\n",
       "  'Agree': 0,\n",
       "  'Disagree': 1,\n",
       "  'Strongly disagree': 4},\n",
       " 'Unavailability': {'Neutral': 2,\n",
       "  'Strongly agree': 3,\n",
       "  'Agree': 0,\n",
       "  'Disagree': 1,\n",
       "  'Strongly disagree': 4},\n",
       " 'Unaffordable': {'Neutral': 2,\n",
       "  'Strongly agree': 3,\n",
       "  'Agree': 0,\n",
       "  'Disagree': 1,\n",
       "  'Strongly disagree': 4},\n",
       " 'Long delivery time': {'Agree': 0,\n",
       "  'Strongly agree': 3,\n",
       "  'Neutral': 2,\n",
       "  'Disagree': 1,\n",
       "  'Strongly disagree': 4},\n",
       " 'Delay of delivery person getting assigned': {'Agree': 0,\n",
       "  'Strongly agree': 3,\n",
       "  'Disagree': 1,\n",
       "  'Neutral': 2,\n",
       "  'Strongly disagree': 4},\n",
       " 'Delay of delivery person picking up food': {'Agree': 0,\n",
       "  'Strongly agree': 3,\n",
       "  'Neutral': 2,\n",
       "  'Disagree': 1,\n",
       "  'Strongly disagree': 4},\n",
       " 'Wrong order delivered': {'Agree': 0,\n",
       "  'Strongly agree': 3,\n",
       "  'Disagree': 1,\n",
       "  'Neutral': 2,\n",
       "  'Strongly disagree': 4},\n",
       " 'Missing item': {'Agree': 0,\n",
       "  'Strongly agree': 3,\n",
       "  'Disagree': 1,\n",
       "  'Neutral': 2,\n",
       "  'Strongly disagree': 4},\n",
       " 'Order placed by mistake': {'Agree': 0,\n",
       "  'Strongly agree': 3,\n",
       "  'Neutral': 2,\n",
       "  'Disagree': 1,\n",
       "  'Strongly disagree': 4},\n",
       " 'Influence of time': {'Yes': 2, 'No': 1, 'Maybe': 0},\n",
       " 'Order Time': {'Weekend (Sat & Sun)': 2,\n",
       "  'Anytime (Mon-Sun)': 0,\n",
       "  'Weekdays (Mon-Fri)': 1},\n",
       " 'Maximum wait time': {'30 minutes': 1,\n",
       "  '45 minutes': 2,\n",
       "  '60 minutes': 3,\n",
       "  'More than 60 minutes': 4,\n",
       "  '15 minutes': 0},\n",
       " 'Residence in busy location': {'Agree': 0,\n",
       "  'Strongly Agree': 3,\n",
       "  'Disagree': 1,\n",
       "  'Neutral': 2,\n",
       "  'Strongly disagree': 4},\n",
       " 'Google Maps Accuracy': {'Neutral': 2,\n",
       "  'Strongly Agree': 3,\n",
       "  'Agree': 0,\n",
       "  'Disagree': 1,\n",
       "  'Strongly disagree': 4},\n",
       " 'Good Road Condition': {'Neutral': 2,\n",
       "  'Disagree': 1,\n",
       "  'Agree': 0,\n",
       "  'Strongly Agree': 3,\n",
       "  'Strongly disagree': 4},\n",
       " 'Low quantity low time': {'Neutral': 2,\n",
       "  'Strongly disagree': 4,\n",
       "  'Agree': 0,\n",
       "  'Disagree': 1,\n",
       "  'Strongly Agree': 3},\n",
       " 'Delivery person ability': {'Neutral': 2,\n",
       "  'Agree': 0,\n",
       "  'Strongly Agree': 3,\n",
       "  'Disagree': 1,\n",
       "  'Strongly disagree': 4},\n",
       " 'Influence of rating': {'Yes': 2, 'Maybe': 0, 'No': 1},\n",
       " 'Less Delivery time': {'Moderately Important': 1,\n",
       "  'Very Important': 4,\n",
       "  'Important': 0,\n",
       "  'Slightly Important': 2,\n",
       "  'Unimportant': 3},\n",
       " 'High Quality of package': {'Moderately Important': 1,\n",
       "  'Very Important': 4,\n",
       "  'Important': 0,\n",
       "  'Unimportant': 3,\n",
       "  'Slightly Important': 2},\n",
       " 'Number of calls': {'Moderately Important': 1,\n",
       "  'Very Important': 4,\n",
       "  'Unimportant': 3,\n",
       "  'Important': 0,\n",
       "  'Slightly Important': 2},\n",
       " 'Politeness': {'Moderately Important': 1,\n",
       "  'Very Important': 4,\n",
       "  'Important': 0,\n",
       "  'Slightly Important': 2,\n",
       "  'Unimportant': 3},\n",
       " 'Freshness ': {'Moderately Important': 1,\n",
       "  'Very Important': 4,\n",
       "  'Important': 0,\n",
       "  'Slightly Important': 2,\n",
       "  'Unimportant': 3},\n",
       " 'Temperature': {'Moderately Important': 1,\n",
       "  'Very Important': 4,\n",
       "  'Important': 0,\n",
       "  'Slightly Important': 2,\n",
       "  'Unimportant': 3},\n",
       " 'Good Taste ': {'Moderately Important': 1,\n",
       "  'Very Important': 4,\n",
       "  'Important': 0,\n",
       "  'Slightly Important': 2,\n",
       "  'Unimportant': 3},\n",
       " 'Good Quantity': {'Moderately Important': 1,\n",
       "  'Very Important': 4,\n",
       "  'Important': 0,\n",
       "  'Slightly Important': 2,\n",
       "  'Unimportant': 3}}"
      ]
     },
     "execution_count": 206,
     "metadata": {},
     "output_type": "execute_result"
    }
   ],
   "source": [
    "lbl"
   ]
  },
  {
   "cell_type": "code",
   "execution_count": 163,
   "metadata": {
    "ExecuteTime": {
     "end_time": "2021-02-22T04:10:32.021092Z",
     "start_time": "2021-02-22T04:10:31.931128Z"
    }
   },
   "outputs": [],
   "source": [
    "import pickle\n",
    "pickle.dump(clf, open('model.pkl','wb'))\n"
   ]
  },
  {
   "cell_type": "code",
   "execution_count": 164,
   "metadata": {
    "ExecuteTime": {
     "end_time": "2021-02-22T04:11:30.310559Z",
     "start_time": "2021-02-22T04:11:30.194608Z"
    }
   },
   "outputs": [],
   "source": [
    "model = pickle.load(open('model.pkl','rb'))\n"
   ]
  },
  {
   "cell_type": "code",
   "execution_count": 191,
   "metadata": {
    "ExecuteTime": {
     "end_time": "2021-02-22T04:18:21.959807Z",
     "start_time": "2021-02-22T04:18:21.926807Z"
    }
   },
   "outputs": [
    {
     "data": {
      "text/plain": [
       "array([1], dtype=int64)"
      ]
     },
     "execution_count": 191,
     "metadata": {},
     "output_type": "execute_result"
    }
   ],
   "source": [
    "clf.predict(np.array([20,2,3,1,3,2,1,1,2,3]).reshape(1,-1))"
   ]
  },
  {
   "cell_type": "code",
   "execution_count": null,
   "metadata": {},
   "outputs": [],
   "source": []
  }
 ],
 "metadata": {
  "kernelspec": {
   "display_name": "Python 3",
   "language": "python",
   "name": "python3"
  },
  "language_info": {
   "codemirror_mode": {
    "name": "ipython",
    "version": 3
   },
   "file_extension": ".py",
   "mimetype": "text/x-python",
   "name": "python",
   "nbconvert_exporter": "python",
   "pygments_lexer": "ipython3",
   "version": "3.7.9"
  },
  "toc": {
   "base_numbering": 1,
   "nav_menu": {
    "height": "68px",
    "width": "168px"
   },
   "number_sections": true,
   "sideBar": true,
   "skip_h1_title": false,
   "title_cell": "Table of Contents",
   "title_sidebar": "Contents",
   "toc_cell": false,
   "toc_position": {},
   "toc_section_display": true,
   "toc_window_display": true
  }
 },
 "nbformat": 4,
 "nbformat_minor": 4
}
