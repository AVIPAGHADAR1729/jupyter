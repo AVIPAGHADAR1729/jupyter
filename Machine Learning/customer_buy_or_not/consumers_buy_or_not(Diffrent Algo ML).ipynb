{
 "cells": [
  {
   "cell_type": "code",
   "execution_count": 1,
   "metadata": {
    "ExecuteTime": {
     "end_time": "2021-03-27T03:55:07.352095Z",
     "start_time": "2021-03-27T03:54:05.675004Z"
    }
   },
   "outputs": [],
   "source": [
    "#import libraries\n",
    "import numpy \n",
    "import numpy as np\n",
    "import pandas as pd\n",
    "import seaborn as sns\n",
    "import matplotlib.pyplot as plt\n",
    "from sklearn import metrics\n",
    "import matplotlib.patches as mpatches\n",
    "from sklearn.metrics import classification_report\n",
    "from sklearn.metrics import confusion_matrix\n",
    "import scipy.stats as st \n",
    "import dtale \n",
    "import warnings\n",
    "from sklearn.model_selection import StratifiedKFold \n",
    "\n",
    "from imblearn.over_sampling import RandomOverSampler\n",
    "from sklearn.tree import DecisionTreeClassifier\n",
    "from sklearn.model_selection import cross_val_score\n",
    "warnings.filterwarnings('ignore')\n",
    "import pandas_profiling as pdp\n",
    "from sklearn.model_selection import train_test_split\n",
    "from sklearn.neighbors import KNeighborsClassifier\n",
    "from sklearn.metrics import roc_curve"
   ]
  },
  {
   "cell_type": "code",
   "execution_count": 2,
   "metadata": {
    "ExecuteTime": {
     "end_time": "2021-03-27T03:55:07.756891Z",
     "start_time": "2021-03-27T03:55:07.352095Z"
    }
   },
   "outputs": [],
   "source": [
    "fd_dlvry=pd.read_csv('../../data/Banglore_food_delivery/onlinedeliverydata.csv')"
   ]
  },
  {
   "cell_type": "code",
   "execution_count": 3,
   "metadata": {
    "ExecuteTime": {
     "end_time": "2021-03-27T03:55:07.764854Z",
     "start_time": "2021-03-27T03:55:07.756891Z"
    }
   },
   "outputs": [],
   "source": [
    "fd_ori=fd_dlvry.copy(deep=True)\n",
    "#future uses one copy create"
   ]
  },
  {
   "cell_type": "code",
   "execution_count": 4,
   "metadata": {
    "ExecuteTime": {
     "end_time": "2021-03-27T03:55:07.930956Z",
     "start_time": "2021-03-27T03:55:07.764854Z"
    }
   },
   "outputs": [
    {
     "data": {
      "text/plain": [
       "(388, 55)"
      ]
     },
     "execution_count": 4,
     "metadata": {},
     "output_type": "execute_result"
    }
   ],
   "source": [
    "fd_dlvry.shape"
   ]
  },
  {
   "cell_type": "code",
   "execution_count": 5,
   "metadata": {
    "ExecuteTime": {
     "end_time": "2021-03-27T03:55:08.502660Z",
     "start_time": "2021-03-27T03:55:07.930956Z"
    },
    "scrolled": true
   },
   "outputs": [
    {
     "data": {
      "text/html": [
       "<div>\n",
       "<style scoped>\n",
       "    .dataframe tbody tr th:only-of-type {\n",
       "        vertical-align: middle;\n",
       "    }\n",
       "\n",
       "    .dataframe tbody tr th {\n",
       "        vertical-align: top;\n",
       "    }\n",
       "\n",
       "    .dataframe thead th {\n",
       "        text-align: right;\n",
       "    }\n",
       "</style>\n",
       "<table border=\"1\" class=\"dataframe\">\n",
       "  <thead>\n",
       "    <tr style=\"text-align: right;\">\n",
       "      <th></th>\n",
       "      <th>Age</th>\n",
       "      <th>Gender</th>\n",
       "      <th>Marital Status</th>\n",
       "      <th>Occupation</th>\n",
       "      <th>Monthly Income</th>\n",
       "      <th>Educational Qualifications</th>\n",
       "      <th>Family size</th>\n",
       "      <th>latitude</th>\n",
       "      <th>longitude</th>\n",
       "      <th>Pin code</th>\n",
       "      <th>...</th>\n",
       "      <th>Less Delivery time</th>\n",
       "      <th>High Quality of package</th>\n",
       "      <th>Number of calls</th>\n",
       "      <th>Politeness</th>\n",
       "      <th>Freshness</th>\n",
       "      <th>Temperature</th>\n",
       "      <th>Good Taste</th>\n",
       "      <th>Good Quantity</th>\n",
       "      <th>Output</th>\n",
       "      <th>Reviews</th>\n",
       "    </tr>\n",
       "  </thead>\n",
       "  <tbody>\n",
       "    <tr>\n",
       "      <th>0</th>\n",
       "      <td>20</td>\n",
       "      <td>Female</td>\n",
       "      <td>Single</td>\n",
       "      <td>Student</td>\n",
       "      <td>No Income</td>\n",
       "      <td>Post Graduate</td>\n",
       "      <td>4</td>\n",
       "      <td>12.9766</td>\n",
       "      <td>77.5993</td>\n",
       "      <td>560001</td>\n",
       "      <td>...</td>\n",
       "      <td>Moderately Important</td>\n",
       "      <td>Moderately Important</td>\n",
       "      <td>Moderately Important</td>\n",
       "      <td>Moderately Important</td>\n",
       "      <td>Moderately Important</td>\n",
       "      <td>Moderately Important</td>\n",
       "      <td>Moderately Important</td>\n",
       "      <td>Moderately Important</td>\n",
       "      <td>Yes</td>\n",
       "      <td>Nil\\n</td>\n",
       "    </tr>\n",
       "    <tr>\n",
       "      <th>1</th>\n",
       "      <td>24</td>\n",
       "      <td>Female</td>\n",
       "      <td>Single</td>\n",
       "      <td>Student</td>\n",
       "      <td>Below Rs.10000</td>\n",
       "      <td>Graduate</td>\n",
       "      <td>3</td>\n",
       "      <td>12.9770</td>\n",
       "      <td>77.5773</td>\n",
       "      <td>560009</td>\n",
       "      <td>...</td>\n",
       "      <td>Very Important</td>\n",
       "      <td>Very Important</td>\n",
       "      <td>Very Important</td>\n",
       "      <td>Very Important</td>\n",
       "      <td>Very Important</td>\n",
       "      <td>Very Important</td>\n",
       "      <td>Very Important</td>\n",
       "      <td>Very Important</td>\n",
       "      <td>Yes</td>\n",
       "      <td>Nil</td>\n",
       "    </tr>\n",
       "    <tr>\n",
       "      <th>2</th>\n",
       "      <td>22</td>\n",
       "      <td>Male</td>\n",
       "      <td>Single</td>\n",
       "      <td>Student</td>\n",
       "      <td>Below Rs.10000</td>\n",
       "      <td>Post Graduate</td>\n",
       "      <td>3</td>\n",
       "      <td>12.9551</td>\n",
       "      <td>77.6593</td>\n",
       "      <td>560017</td>\n",
       "      <td>...</td>\n",
       "      <td>Important</td>\n",
       "      <td>Very Important</td>\n",
       "      <td>Moderately Important</td>\n",
       "      <td>Very Important</td>\n",
       "      <td>Very Important</td>\n",
       "      <td>Important</td>\n",
       "      <td>Very Important</td>\n",
       "      <td>Moderately Important</td>\n",
       "      <td>Yes</td>\n",
       "      <td>Many a times payment gateways are an issue, so...</td>\n",
       "    </tr>\n",
       "    <tr>\n",
       "      <th>3</th>\n",
       "      <td>22</td>\n",
       "      <td>Female</td>\n",
       "      <td>Single</td>\n",
       "      <td>Student</td>\n",
       "      <td>No Income</td>\n",
       "      <td>Graduate</td>\n",
       "      <td>6</td>\n",
       "      <td>12.9473</td>\n",
       "      <td>77.5616</td>\n",
       "      <td>560019</td>\n",
       "      <td>...</td>\n",
       "      <td>Very Important</td>\n",
       "      <td>Important</td>\n",
       "      <td>Moderately Important</td>\n",
       "      <td>Very Important</td>\n",
       "      <td>Very Important</td>\n",
       "      <td>Very Important</td>\n",
       "      <td>Very Important</td>\n",
       "      <td>Important</td>\n",
       "      <td>Yes</td>\n",
       "      <td>nil</td>\n",
       "    </tr>\n",
       "    <tr>\n",
       "      <th>4</th>\n",
       "      <td>22</td>\n",
       "      <td>Male</td>\n",
       "      <td>Single</td>\n",
       "      <td>Student</td>\n",
       "      <td>Below Rs.10000</td>\n",
       "      <td>Post Graduate</td>\n",
       "      <td>4</td>\n",
       "      <td>12.9850</td>\n",
       "      <td>77.5533</td>\n",
       "      <td>560010</td>\n",
       "      <td>...</td>\n",
       "      <td>Important</td>\n",
       "      <td>Important</td>\n",
       "      <td>Moderately Important</td>\n",
       "      <td>Important</td>\n",
       "      <td>Important</td>\n",
       "      <td>Important</td>\n",
       "      <td>Very Important</td>\n",
       "      <td>Very Important</td>\n",
       "      <td>Yes</td>\n",
       "      <td>NIL</td>\n",
       "    </tr>\n",
       "  </tbody>\n",
       "</table>\n",
       "<p>5 rows × 55 columns</p>\n",
       "</div>"
      ],
      "text/plain": [
       "   Age  Gender Marital Status Occupation  Monthly Income  \\\n",
       "0   20  Female         Single    Student       No Income   \n",
       "1   24  Female         Single    Student  Below Rs.10000   \n",
       "2   22    Male         Single    Student  Below Rs.10000   \n",
       "3   22  Female         Single    Student       No Income   \n",
       "4   22    Male         Single    Student  Below Rs.10000   \n",
       "\n",
       "  Educational Qualifications  Family size  latitude  longitude  Pin code  ...  \\\n",
       "0              Post Graduate            4   12.9766    77.5993    560001  ...   \n",
       "1                   Graduate            3   12.9770    77.5773    560009  ...   \n",
       "2              Post Graduate            3   12.9551    77.6593    560017  ...   \n",
       "3                   Graduate            6   12.9473    77.5616    560019  ...   \n",
       "4              Post Graduate            4   12.9850    77.5533    560010  ...   \n",
       "\n",
       "     Less Delivery time High Quality of package       Number of calls  \\\n",
       "0  Moderately Important    Moderately Important  Moderately Important   \n",
       "1        Very Important          Very Important        Very Important   \n",
       "2             Important          Very Important  Moderately Important   \n",
       "3        Very Important               Important  Moderately Important   \n",
       "4             Important               Important  Moderately Important   \n",
       "\n",
       "             Politeness            Freshness            Temperature  \\\n",
       "0  Moderately Important  Moderately Important  Moderately Important   \n",
       "1        Very Important        Very Important        Very Important   \n",
       "2        Very Important        Very Important             Important   \n",
       "3        Very Important        Very Important        Very Important   \n",
       "4             Important             Important             Important   \n",
       "\n",
       "            Good Taste          Good Quantity Output  \\\n",
       "0  Moderately Important  Moderately Important    Yes   \n",
       "1        Very Important        Very Important    Yes   \n",
       "2        Very Important  Moderately Important    Yes   \n",
       "3        Very Important             Important    Yes   \n",
       "4        Very Important        Very Important    Yes   \n",
       "\n",
       "                                             Reviews  \n",
       "0                                              Nil\\n  \n",
       "1                                                Nil  \n",
       "2  Many a times payment gateways are an issue, so...  \n",
       "3                                                nil  \n",
       "4                                                NIL  \n",
       "\n",
       "[5 rows x 55 columns]"
      ]
     },
     "execution_count": 5,
     "metadata": {},
     "output_type": "execute_result"
    }
   ],
   "source": [
    "fd_dlvry.head()"
   ]
  },
  {
   "cell_type": "code",
   "execution_count": null,
   "metadata": {},
   "outputs": [],
   "source": []
  },
  {
   "cell_type": "code",
   "execution_count": 6,
   "metadata": {
    "ExecuteTime": {
     "end_time": "2021-03-27T03:55:08.782627Z",
     "start_time": "2021-03-27T03:55:08.502660Z"
    }
   },
   "outputs": [
    {
     "name": "stdout",
     "output_type": "stream",
     "text": [
      "<class 'pandas.core.frame.DataFrame'>\n",
      "RangeIndex: 388 entries, 0 to 387\n",
      "Data columns (total 55 columns):\n",
      " #   Column                                     Non-Null Count  Dtype  \n",
      "---  ------                                     --------------  -----  \n",
      " 0   Age                                        388 non-null    int64  \n",
      " 1   Gender                                     388 non-null    object \n",
      " 2   Marital Status                             388 non-null    object \n",
      " 3   Occupation                                 388 non-null    object \n",
      " 4   Monthly Income                             388 non-null    object \n",
      " 5   Educational Qualifications                 388 non-null    object \n",
      " 6   Family size                                388 non-null    int64  \n",
      " 7   latitude                                   388 non-null    float64\n",
      " 8   longitude                                  388 non-null    float64\n",
      " 9   Pin code                                   388 non-null    int64  \n",
      " 10  Medium (P1)                                388 non-null    object \n",
      " 11  Medium (P2)                                388 non-null    object \n",
      " 12  Meal(P1)                                   388 non-null    object \n",
      " 13  Meal(P2)                                   388 non-null    object \n",
      " 14  Perference(P1)                             388 non-null    object \n",
      " 15  Perference(P2)                             388 non-null    object \n",
      " 16  Ease and convenient                        388 non-null    object \n",
      " 17  Time saving                                388 non-null    object \n",
      " 18  More restaurant choices                    388 non-null    object \n",
      " 19  Easy Payment option                        388 non-null    object \n",
      " 20  More Offers and Discount                   388 non-null    object \n",
      " 21  Good Food quality                          388 non-null    object \n",
      " 22  Good Tracking system                       388 non-null    object \n",
      " 23  Self Cooking                               388 non-null    object \n",
      " 24  Health Concern                             388 non-null    object \n",
      " 25  Late Delivery                              388 non-null    object \n",
      " 26  Poor Hygiene                               388 non-null    object \n",
      " 27  Bad past experience                        388 non-null    object \n",
      " 28  Unavailability                             388 non-null    object \n",
      " 29  Unaffordable                               388 non-null    object \n",
      " 30  Long delivery time                         388 non-null    object \n",
      " 31  Delay of delivery person getting assigned  388 non-null    object \n",
      " 32  Delay of delivery person picking up food   388 non-null    object \n",
      " 33  Wrong order delivered                      388 non-null    object \n",
      " 34  Missing item                               388 non-null    object \n",
      " 35  Order placed by mistake                    388 non-null    object \n",
      " 36  Influence of time                          388 non-null    object \n",
      " 37  Order Time                                 388 non-null    object \n",
      " 38  Maximum wait time                          388 non-null    object \n",
      " 39  Residence in busy location                 388 non-null    object \n",
      " 40  Google Maps Accuracy                       388 non-null    object \n",
      " 41  Good Road Condition                        388 non-null    object \n",
      " 42  Low quantity low time                      388 non-null    object \n",
      " 43  Delivery person ability                    388 non-null    object \n",
      " 44  Influence of rating                        388 non-null    object \n",
      " 45  Less Delivery time                         388 non-null    object \n",
      " 46  High Quality of package                    388 non-null    object \n",
      " 47  Number of calls                            388 non-null    object \n",
      " 48  Politeness                                 388 non-null    object \n",
      " 49  Freshness                                  388 non-null    object \n",
      " 50  Temperature                                388 non-null    object \n",
      " 51  Good Taste                                 388 non-null    object \n",
      " 52  Good Quantity                              388 non-null    object \n",
      " 53  Output                                     388 non-null    object \n",
      " 54  Reviews                                    388 non-null    object \n",
      "dtypes: float64(2), int64(3), object(50)\n",
      "memory usage: 166.8+ KB\n"
     ]
    }
   ],
   "source": [
    "fd_dlvry.info()"
   ]
  },
  {
   "cell_type": "code",
   "execution_count": 7,
   "metadata": {
    "ExecuteTime": {
     "end_time": "2021-03-27T03:55:08.790624Z",
     "start_time": "2021-03-27T03:55:08.782627Z"
    }
   },
   "outputs": [],
   "source": [
    "# d = dtale.show(fd_dlvry)\n",
    "# d.open_browser()\n",
    "#we can use datle library for EDA"
   ]
  },
  {
   "cell_type": "code",
   "execution_count": 8,
   "metadata": {
    "ExecuteTime": {
     "end_time": "2021-03-27T03:55:08.915090Z",
     "start_time": "2021-03-27T03:55:08.790624Z"
    }
   },
   "outputs": [],
   "source": [
    "#looking data with pdp.ProfileReport \n",
    "# data = pd.read_csv('../../data/Banglore_food_delivery/onlinedeliverydata.csv')\n",
    "\n",
    "# #Creating the Exploratory Data Analysis of our dataset\n",
    "# report = pdp.ProfileReport(data, title='Pandas Profiling Report')"
   ]
  },
  {
   "cell_type": "code",
   "execution_count": 9,
   "metadata": {
    "ExecuteTime": {
     "end_time": "2021-03-27T03:55:09.149438Z",
     "start_time": "2021-03-27T03:55:08.915090Z"
    },
    "scrolled": true
   },
   "outputs": [],
   "source": [
    "# report.widgets"
   ]
  },
  {
   "cell_type": "code",
   "execution_count": 10,
   "metadata": {
    "ExecuteTime": {
     "end_time": "2021-03-27T03:55:11.744449Z",
     "start_time": "2021-03-27T03:55:09.149438Z"
    },
    "code_folding": []
   },
   "outputs": [
    {
     "data": {
      "text/html": [
       "<div>\n",
       "<style scoped>\n",
       "    .dataframe tbody tr th:only-of-type {\n",
       "        vertical-align: middle;\n",
       "    }\n",
       "\n",
       "    .dataframe tbody tr th {\n",
       "        vertical-align: top;\n",
       "    }\n",
       "\n",
       "    .dataframe thead th {\n",
       "        text-align: right;\n",
       "    }\n",
       "</style>\n",
       "<table border=\"1\" class=\"dataframe\">\n",
       "  <thead>\n",
       "    <tr style=\"text-align: right;\">\n",
       "      <th></th>\n",
       "      <th>Age</th>\n",
       "      <th>Gender</th>\n",
       "      <th>Marital Status</th>\n",
       "      <th>Occupation</th>\n",
       "      <th>Monthly Income</th>\n",
       "      <th>Educational Qualifications</th>\n",
       "      <th>Family size</th>\n",
       "      <th>latitude</th>\n",
       "      <th>longitude</th>\n",
       "      <th>Pin code</th>\n",
       "      <th>...</th>\n",
       "      <th>Less Delivery time</th>\n",
       "      <th>High Quality of package</th>\n",
       "      <th>Number of calls</th>\n",
       "      <th>Politeness</th>\n",
       "      <th>Freshness</th>\n",
       "      <th>Temperature</th>\n",
       "      <th>Good Taste</th>\n",
       "      <th>Good Quantity</th>\n",
       "      <th>Output</th>\n",
       "      <th>Reviews</th>\n",
       "    </tr>\n",
       "  </thead>\n",
       "  <tbody>\n",
       "    <tr>\n",
       "      <th>0</th>\n",
       "      <td>20</td>\n",
       "      <td>0</td>\n",
       "      <td>2</td>\n",
       "      <td>3</td>\n",
       "      <td>4</td>\n",
       "      <td>2</td>\n",
       "      <td>4</td>\n",
       "      <td>12.9766</td>\n",
       "      <td>77.5993</td>\n",
       "      <td>560001</td>\n",
       "      <td>...</td>\n",
       "      <td>1</td>\n",
       "      <td>1</td>\n",
       "      <td>1</td>\n",
       "      <td>1</td>\n",
       "      <td>1</td>\n",
       "      <td>1</td>\n",
       "      <td>1</td>\n",
       "      <td>1</td>\n",
       "      <td>1</td>\n",
       "      <td>136</td>\n",
       "    </tr>\n",
       "    <tr>\n",
       "      <th>1</th>\n",
       "      <td>24</td>\n",
       "      <td>0</td>\n",
       "      <td>2</td>\n",
       "      <td>3</td>\n",
       "      <td>2</td>\n",
       "      <td>0</td>\n",
       "      <td>3</td>\n",
       "      <td>12.9770</td>\n",
       "      <td>77.5773</td>\n",
       "      <td>560009</td>\n",
       "      <td>...</td>\n",
       "      <td>4</td>\n",
       "      <td>4</td>\n",
       "      <td>4</td>\n",
       "      <td>4</td>\n",
       "      <td>4</td>\n",
       "      <td>4</td>\n",
       "      <td>4</td>\n",
       "      <td>4</td>\n",
       "      <td>1</td>\n",
       "      <td>135</td>\n",
       "    </tr>\n",
       "    <tr>\n",
       "      <th>2</th>\n",
       "      <td>22</td>\n",
       "      <td>1</td>\n",
       "      <td>2</td>\n",
       "      <td>3</td>\n",
       "      <td>2</td>\n",
       "      <td>2</td>\n",
       "      <td>3</td>\n",
       "      <td>12.9551</td>\n",
       "      <td>77.6593</td>\n",
       "      <td>560017</td>\n",
       "      <td>...</td>\n",
       "      <td>0</td>\n",
       "      <td>4</td>\n",
       "      <td>1</td>\n",
       "      <td>4</td>\n",
       "      <td>4</td>\n",
       "      <td>0</td>\n",
       "      <td>4</td>\n",
       "      <td>1</td>\n",
       "      <td>1</td>\n",
       "      <td>119</td>\n",
       "    </tr>\n",
       "    <tr>\n",
       "      <th>3</th>\n",
       "      <td>22</td>\n",
       "      <td>0</td>\n",
       "      <td>2</td>\n",
       "      <td>3</td>\n",
       "      <td>4</td>\n",
       "      <td>0</td>\n",
       "      <td>6</td>\n",
       "      <td>12.9473</td>\n",
       "      <td>77.5616</td>\n",
       "      <td>560019</td>\n",
       "      <td>...</td>\n",
       "      <td>4</td>\n",
       "      <td>0</td>\n",
       "      <td>1</td>\n",
       "      <td>4</td>\n",
       "      <td>4</td>\n",
       "      <td>4</td>\n",
       "      <td>4</td>\n",
       "      <td>0</td>\n",
       "      <td>1</td>\n",
       "      <td>176</td>\n",
       "    </tr>\n",
       "    <tr>\n",
       "      <th>4</th>\n",
       "      <td>22</td>\n",
       "      <td>1</td>\n",
       "      <td>2</td>\n",
       "      <td>3</td>\n",
       "      <td>2</td>\n",
       "      <td>2</td>\n",
       "      <td>4</td>\n",
       "      <td>12.9850</td>\n",
       "      <td>77.5533</td>\n",
       "      <td>560010</td>\n",
       "      <td>...</td>\n",
       "      <td>0</td>\n",
       "      <td>0</td>\n",
       "      <td>1</td>\n",
       "      <td>0</td>\n",
       "      <td>0</td>\n",
       "      <td>0</td>\n",
       "      <td>4</td>\n",
       "      <td>4</td>\n",
       "      <td>1</td>\n",
       "      <td>129</td>\n",
       "    </tr>\n",
       "  </tbody>\n",
       "</table>\n",
       "<p>5 rows × 55 columns</p>\n",
       "</div>"
      ],
      "text/plain": [
       "   Age  Gender  Marital Status  Occupation  Monthly Income  \\\n",
       "0   20       0               2           3               4   \n",
       "1   24       0               2           3               2   \n",
       "2   22       1               2           3               2   \n",
       "3   22       0               2           3               4   \n",
       "4   22       1               2           3               2   \n",
       "\n",
       "   Educational Qualifications  Family size  latitude  longitude  Pin code  \\\n",
       "0                           2            4   12.9766    77.5993    560001   \n",
       "1                           0            3   12.9770    77.5773    560009   \n",
       "2                           2            3   12.9551    77.6593    560017   \n",
       "3                           0            6   12.9473    77.5616    560019   \n",
       "4                           2            4   12.9850    77.5533    560010   \n",
       "\n",
       "   ...  Less Delivery time  High Quality of package  Number of calls  \\\n",
       "0  ...                   1                        1                1   \n",
       "1  ...                   4                        4                4   \n",
       "2  ...                   0                        4                1   \n",
       "3  ...                   4                        0                1   \n",
       "4  ...                   0                        0                1   \n",
       "\n",
       "   Politeness  Freshness   Temperature  Good Taste   Good Quantity  Output  \\\n",
       "0           1           1            1            1              1       1   \n",
       "1           4           4            4            4              4       1   \n",
       "2           4           4            0            4              1       1   \n",
       "3           4           4            4            4              0       1   \n",
       "4           0           0            0            4              4       1   \n",
       "\n",
       "   Reviews  \n",
       "0      136  \n",
       "1      135  \n",
       "2      119  \n",
       "3      176  \n",
       "4      129  \n",
       "\n",
       "[5 rows x 55 columns]"
      ]
     },
     "execution_count": 10,
     "metadata": {},
     "output_type": "execute_result"
    }
   ],
   "source": [
    "#this library i found on google it's helpful for cleaning data,imputing value and lable encoding\n",
    "import  datacleaner as dc # pip install datacleaner\n",
    "\n",
    "dc.autoclean(fd_dlvry).head() "
   ]
  },
  {
   "cell_type": "code",
   "execution_count": 11,
   "metadata": {
    "ExecuteTime": {
     "end_time": "2021-03-27T03:55:11.796265Z",
     "start_time": "2021-03-27T03:55:11.744449Z"
    }
   },
   "outputs": [
    {
     "data": {
      "text/html": [
       "<div>\n",
       "<style scoped>\n",
       "    .dataframe tbody tr th:only-of-type {\n",
       "        vertical-align: middle;\n",
       "    }\n",
       "\n",
       "    .dataframe tbody tr th {\n",
       "        vertical-align: top;\n",
       "    }\n",
       "\n",
       "    .dataframe thead th {\n",
       "        text-align: right;\n",
       "    }\n",
       "</style>\n",
       "<table border=\"1\" class=\"dataframe\">\n",
       "  <thead>\n",
       "    <tr style=\"text-align: right;\">\n",
       "      <th></th>\n",
       "      <th>Age</th>\n",
       "      <th>Gender</th>\n",
       "      <th>Marital Status</th>\n",
       "      <th>Occupation</th>\n",
       "      <th>Monthly Income</th>\n",
       "      <th>Educational Qualifications</th>\n",
       "      <th>Family size</th>\n",
       "      <th>latitude</th>\n",
       "      <th>longitude</th>\n",
       "      <th>Pin code</th>\n",
       "      <th>...</th>\n",
       "      <th>Less Delivery time</th>\n",
       "      <th>High Quality of package</th>\n",
       "      <th>Number of calls</th>\n",
       "      <th>Politeness</th>\n",
       "      <th>Freshness</th>\n",
       "      <th>Temperature</th>\n",
       "      <th>Good Taste</th>\n",
       "      <th>Good Quantity</th>\n",
       "      <th>Output</th>\n",
       "      <th>Reviews</th>\n",
       "    </tr>\n",
       "  </thead>\n",
       "  <tbody>\n",
       "    <tr>\n",
       "      <th>0</th>\n",
       "      <td>20</td>\n",
       "      <td>0</td>\n",
       "      <td>2</td>\n",
       "      <td>3</td>\n",
       "      <td>4</td>\n",
       "      <td>2</td>\n",
       "      <td>4</td>\n",
       "      <td>12.9766</td>\n",
       "      <td>77.5993</td>\n",
       "      <td>560001</td>\n",
       "      <td>...</td>\n",
       "      <td>1</td>\n",
       "      <td>1</td>\n",
       "      <td>1</td>\n",
       "      <td>1</td>\n",
       "      <td>1</td>\n",
       "      <td>1</td>\n",
       "      <td>1</td>\n",
       "      <td>1</td>\n",
       "      <td>1</td>\n",
       "      <td>136</td>\n",
       "    </tr>\n",
       "    <tr>\n",
       "      <th>1</th>\n",
       "      <td>24</td>\n",
       "      <td>0</td>\n",
       "      <td>2</td>\n",
       "      <td>3</td>\n",
       "      <td>2</td>\n",
       "      <td>0</td>\n",
       "      <td>3</td>\n",
       "      <td>12.9770</td>\n",
       "      <td>77.5773</td>\n",
       "      <td>560009</td>\n",
       "      <td>...</td>\n",
       "      <td>4</td>\n",
       "      <td>4</td>\n",
       "      <td>4</td>\n",
       "      <td>4</td>\n",
       "      <td>4</td>\n",
       "      <td>4</td>\n",
       "      <td>4</td>\n",
       "      <td>4</td>\n",
       "      <td>1</td>\n",
       "      <td>135</td>\n",
       "    </tr>\n",
       "    <tr>\n",
       "      <th>2</th>\n",
       "      <td>22</td>\n",
       "      <td>1</td>\n",
       "      <td>2</td>\n",
       "      <td>3</td>\n",
       "      <td>2</td>\n",
       "      <td>2</td>\n",
       "      <td>3</td>\n",
       "      <td>12.9551</td>\n",
       "      <td>77.6593</td>\n",
       "      <td>560017</td>\n",
       "      <td>...</td>\n",
       "      <td>0</td>\n",
       "      <td>4</td>\n",
       "      <td>1</td>\n",
       "      <td>4</td>\n",
       "      <td>4</td>\n",
       "      <td>0</td>\n",
       "      <td>4</td>\n",
       "      <td>1</td>\n",
       "      <td>1</td>\n",
       "      <td>119</td>\n",
       "    </tr>\n",
       "    <tr>\n",
       "      <th>3</th>\n",
       "      <td>22</td>\n",
       "      <td>0</td>\n",
       "      <td>2</td>\n",
       "      <td>3</td>\n",
       "      <td>4</td>\n",
       "      <td>0</td>\n",
       "      <td>6</td>\n",
       "      <td>12.9473</td>\n",
       "      <td>77.5616</td>\n",
       "      <td>560019</td>\n",
       "      <td>...</td>\n",
       "      <td>4</td>\n",
       "      <td>0</td>\n",
       "      <td>1</td>\n",
       "      <td>4</td>\n",
       "      <td>4</td>\n",
       "      <td>4</td>\n",
       "      <td>4</td>\n",
       "      <td>0</td>\n",
       "      <td>1</td>\n",
       "      <td>176</td>\n",
       "    </tr>\n",
       "    <tr>\n",
       "      <th>4</th>\n",
       "      <td>22</td>\n",
       "      <td>1</td>\n",
       "      <td>2</td>\n",
       "      <td>3</td>\n",
       "      <td>2</td>\n",
       "      <td>2</td>\n",
       "      <td>4</td>\n",
       "      <td>12.9850</td>\n",
       "      <td>77.5533</td>\n",
       "      <td>560010</td>\n",
       "      <td>...</td>\n",
       "      <td>0</td>\n",
       "      <td>0</td>\n",
       "      <td>1</td>\n",
       "      <td>0</td>\n",
       "      <td>0</td>\n",
       "      <td>0</td>\n",
       "      <td>4</td>\n",
       "      <td>4</td>\n",
       "      <td>1</td>\n",
       "      <td>129</td>\n",
       "    </tr>\n",
       "  </tbody>\n",
       "</table>\n",
       "<p>5 rows × 55 columns</p>\n",
       "</div>"
      ],
      "text/plain": [
       "   Age  Gender  Marital Status  Occupation  Monthly Income  \\\n",
       "0   20       0               2           3               4   \n",
       "1   24       0               2           3               2   \n",
       "2   22       1               2           3               2   \n",
       "3   22       0               2           3               4   \n",
       "4   22       1               2           3               2   \n",
       "\n",
       "   Educational Qualifications  Family size  latitude  longitude  Pin code  \\\n",
       "0                           2            4   12.9766    77.5993    560001   \n",
       "1                           0            3   12.9770    77.5773    560009   \n",
       "2                           2            3   12.9551    77.6593    560017   \n",
       "3                           0            6   12.9473    77.5616    560019   \n",
       "4                           2            4   12.9850    77.5533    560010   \n",
       "\n",
       "   ...  Less Delivery time  High Quality of package  Number of calls  \\\n",
       "0  ...                   1                        1                1   \n",
       "1  ...                   4                        4                4   \n",
       "2  ...                   0                        4                1   \n",
       "3  ...                   4                        0                1   \n",
       "4  ...                   0                        0                1   \n",
       "\n",
       "   Politeness  Freshness   Temperature  Good Taste   Good Quantity  Output  \\\n",
       "0           1           1            1            1              1       1   \n",
       "1           4           4            4            4              4       1   \n",
       "2           4           4            0            4              1       1   \n",
       "3           4           4            4            4              0       1   \n",
       "4           0           0            0            4              4       1   \n",
       "\n",
       "   Reviews  \n",
       "0      136  \n",
       "1      135  \n",
       "2      119  \n",
       "3      176  \n",
       "4      129  \n",
       "\n",
       "[5 rows x 55 columns]"
      ]
     },
     "execution_count": 11,
     "metadata": {},
     "output_type": "execute_result"
    }
   ],
   "source": [
    "fd_dlvry.head() "
   ]
  },
  {
   "cell_type": "code",
   "execution_count": 12,
   "metadata": {
    "ExecuteTime": {
     "end_time": "2021-03-27T03:55:12.011312Z",
     "start_time": "2021-03-27T03:55:11.796265Z"
    }
   },
   "outputs": [
    {
     "data": {
      "text/html": [
       "<div>\n",
       "<style scoped>\n",
       "    .dataframe tbody tr th:only-of-type {\n",
       "        vertical-align: middle;\n",
       "    }\n",
       "\n",
       "    .dataframe tbody tr th {\n",
       "        vertical-align: top;\n",
       "    }\n",
       "\n",
       "    .dataframe thead th {\n",
       "        text-align: right;\n",
       "    }\n",
       "</style>\n",
       "<table border=\"1\" class=\"dataframe\">\n",
       "  <thead>\n",
       "    <tr style=\"text-align: right;\">\n",
       "      <th></th>\n",
       "      <th>Age</th>\n",
       "      <th>Gender</th>\n",
       "      <th>Marital Status</th>\n",
       "      <th>Occupation</th>\n",
       "      <th>Monthly Income</th>\n",
       "      <th>Educational Qualifications</th>\n",
       "      <th>Family size</th>\n",
       "      <th>latitude</th>\n",
       "      <th>longitude</th>\n",
       "      <th>Pin code</th>\n",
       "      <th>...</th>\n",
       "      <th>Less Delivery time</th>\n",
       "      <th>High Quality of package</th>\n",
       "      <th>Number of calls</th>\n",
       "      <th>Politeness</th>\n",
       "      <th>Freshness</th>\n",
       "      <th>Temperature</th>\n",
       "      <th>Good Taste</th>\n",
       "      <th>Good Quantity</th>\n",
       "      <th>Output</th>\n",
       "      <th>Reviews</th>\n",
       "    </tr>\n",
       "  </thead>\n",
       "  <tbody>\n",
       "    <tr>\n",
       "      <th>0</th>\n",
       "      <td>20</td>\n",
       "      <td>Female</td>\n",
       "      <td>Single</td>\n",
       "      <td>Student</td>\n",
       "      <td>No Income</td>\n",
       "      <td>Post Graduate</td>\n",
       "      <td>4</td>\n",
       "      <td>12.9766</td>\n",
       "      <td>77.5993</td>\n",
       "      <td>560001</td>\n",
       "      <td>...</td>\n",
       "      <td>Moderately Important</td>\n",
       "      <td>Moderately Important</td>\n",
       "      <td>Moderately Important</td>\n",
       "      <td>Moderately Important</td>\n",
       "      <td>Moderately Important</td>\n",
       "      <td>Moderately Important</td>\n",
       "      <td>Moderately Important</td>\n",
       "      <td>Moderately Important</td>\n",
       "      <td>Yes</td>\n",
       "      <td>Nil\\n</td>\n",
       "    </tr>\n",
       "    <tr>\n",
       "      <th>1</th>\n",
       "      <td>24</td>\n",
       "      <td>Female</td>\n",
       "      <td>Single</td>\n",
       "      <td>Student</td>\n",
       "      <td>Below Rs.10000</td>\n",
       "      <td>Graduate</td>\n",
       "      <td>3</td>\n",
       "      <td>12.9770</td>\n",
       "      <td>77.5773</td>\n",
       "      <td>560009</td>\n",
       "      <td>...</td>\n",
       "      <td>Very Important</td>\n",
       "      <td>Very Important</td>\n",
       "      <td>Very Important</td>\n",
       "      <td>Very Important</td>\n",
       "      <td>Very Important</td>\n",
       "      <td>Very Important</td>\n",
       "      <td>Very Important</td>\n",
       "      <td>Very Important</td>\n",
       "      <td>Yes</td>\n",
       "      <td>Nil</td>\n",
       "    </tr>\n",
       "    <tr>\n",
       "      <th>2</th>\n",
       "      <td>22</td>\n",
       "      <td>Male</td>\n",
       "      <td>Single</td>\n",
       "      <td>Student</td>\n",
       "      <td>Below Rs.10000</td>\n",
       "      <td>Post Graduate</td>\n",
       "      <td>3</td>\n",
       "      <td>12.9551</td>\n",
       "      <td>77.6593</td>\n",
       "      <td>560017</td>\n",
       "      <td>...</td>\n",
       "      <td>Important</td>\n",
       "      <td>Very Important</td>\n",
       "      <td>Moderately Important</td>\n",
       "      <td>Very Important</td>\n",
       "      <td>Very Important</td>\n",
       "      <td>Important</td>\n",
       "      <td>Very Important</td>\n",
       "      <td>Moderately Important</td>\n",
       "      <td>Yes</td>\n",
       "      <td>Many a times payment gateways are an issue, so...</td>\n",
       "    </tr>\n",
       "    <tr>\n",
       "      <th>3</th>\n",
       "      <td>22</td>\n",
       "      <td>Female</td>\n",
       "      <td>Single</td>\n",
       "      <td>Student</td>\n",
       "      <td>No Income</td>\n",
       "      <td>Graduate</td>\n",
       "      <td>6</td>\n",
       "      <td>12.9473</td>\n",
       "      <td>77.5616</td>\n",
       "      <td>560019</td>\n",
       "      <td>...</td>\n",
       "      <td>Very Important</td>\n",
       "      <td>Important</td>\n",
       "      <td>Moderately Important</td>\n",
       "      <td>Very Important</td>\n",
       "      <td>Very Important</td>\n",
       "      <td>Very Important</td>\n",
       "      <td>Very Important</td>\n",
       "      <td>Important</td>\n",
       "      <td>Yes</td>\n",
       "      <td>nil</td>\n",
       "    </tr>\n",
       "    <tr>\n",
       "      <th>4</th>\n",
       "      <td>22</td>\n",
       "      <td>Male</td>\n",
       "      <td>Single</td>\n",
       "      <td>Student</td>\n",
       "      <td>Below Rs.10000</td>\n",
       "      <td>Post Graduate</td>\n",
       "      <td>4</td>\n",
       "      <td>12.9850</td>\n",
       "      <td>77.5533</td>\n",
       "      <td>560010</td>\n",
       "      <td>...</td>\n",
       "      <td>Important</td>\n",
       "      <td>Important</td>\n",
       "      <td>Moderately Important</td>\n",
       "      <td>Important</td>\n",
       "      <td>Important</td>\n",
       "      <td>Important</td>\n",
       "      <td>Very Important</td>\n",
       "      <td>Very Important</td>\n",
       "      <td>Yes</td>\n",
       "      <td>NIL</td>\n",
       "    </tr>\n",
       "  </tbody>\n",
       "</table>\n",
       "<p>5 rows × 55 columns</p>\n",
       "</div>"
      ],
      "text/plain": [
       "   Age  Gender Marital Status Occupation  Monthly Income  \\\n",
       "0   20  Female         Single    Student       No Income   \n",
       "1   24  Female         Single    Student  Below Rs.10000   \n",
       "2   22    Male         Single    Student  Below Rs.10000   \n",
       "3   22  Female         Single    Student       No Income   \n",
       "4   22    Male         Single    Student  Below Rs.10000   \n",
       "\n",
       "  Educational Qualifications  Family size  latitude  longitude  Pin code  ...  \\\n",
       "0              Post Graduate            4   12.9766    77.5993    560001  ...   \n",
       "1                   Graduate            3   12.9770    77.5773    560009  ...   \n",
       "2              Post Graduate            3   12.9551    77.6593    560017  ...   \n",
       "3                   Graduate            6   12.9473    77.5616    560019  ...   \n",
       "4              Post Graduate            4   12.9850    77.5533    560010  ...   \n",
       "\n",
       "     Less Delivery time High Quality of package       Number of calls  \\\n",
       "0  Moderately Important    Moderately Important  Moderately Important   \n",
       "1        Very Important          Very Important        Very Important   \n",
       "2             Important          Very Important  Moderately Important   \n",
       "3        Very Important               Important  Moderately Important   \n",
       "4             Important               Important  Moderately Important   \n",
       "\n",
       "             Politeness            Freshness            Temperature  \\\n",
       "0  Moderately Important  Moderately Important  Moderately Important   \n",
       "1        Very Important        Very Important        Very Important   \n",
       "2        Very Important        Very Important             Important   \n",
       "3        Very Important        Very Important        Very Important   \n",
       "4             Important             Important             Important   \n",
       "\n",
       "            Good Taste          Good Quantity Output  \\\n",
       "0  Moderately Important  Moderately Important    Yes   \n",
       "1        Very Important        Very Important    Yes   \n",
       "2        Very Important  Moderately Important    Yes   \n",
       "3        Very Important             Important    Yes   \n",
       "4        Very Important        Very Important    Yes   \n",
       "\n",
       "                                             Reviews  \n",
       "0                                              Nil\\n  \n",
       "1                                                Nil  \n",
       "2  Many a times payment gateways are an issue, so...  \n",
       "3                                                nil  \n",
       "4                                                NIL  \n",
       "\n",
       "[5 rows x 55 columns]"
      ]
     },
     "execution_count": 12,
     "metadata": {},
     "output_type": "execute_result"
    }
   ],
   "source": [
    "fd_ori.head()"
   ]
  },
  {
   "cell_type": "code",
   "execution_count": 13,
   "metadata": {
    "ExecuteTime": {
     "end_time": "2021-03-27T03:55:12.161130Z",
     "start_time": "2021-03-27T03:55:12.011312Z"
    }
   },
   "outputs": [
    {
     "data": {
      "text/plain": [
       "Index(['Age', 'Gender', 'Marital Status', 'Occupation', 'Monthly Income',\n",
       "       'Educational Qualifications', 'Family size', 'latitude', 'longitude',\n",
       "       'Pin code', 'Medium (P1)', 'Medium (P2)', 'Meal(P1)', 'Meal(P2)',\n",
       "       'Perference(P1)', 'Perference(P2)', 'Ease and convenient',\n",
       "       'Time saving', 'More restaurant choices', 'Easy Payment option',\n",
       "       'More Offers and Discount', 'Good Food quality', 'Good Tracking system',\n",
       "       'Self Cooking', 'Health Concern', 'Late Delivery', 'Poor Hygiene',\n",
       "       'Bad past experience', 'Unavailability', 'Unaffordable',\n",
       "       'Long delivery time', 'Delay of delivery person getting assigned',\n",
       "       'Delay of delivery person picking up food', 'Wrong order delivered',\n",
       "       'Missing item', 'Order placed by mistake', 'Influence of time',\n",
       "       'Order Time', 'Maximum wait time', 'Residence in busy location',\n",
       "       'Google Maps Accuracy', 'Good Road Condition', 'Low quantity low time',\n",
       "       'Delivery person ability', 'Influence of rating', 'Less Delivery time',\n",
       "       'High Quality of package', 'Number of calls', 'Politeness',\n",
       "       'Freshness ', 'Temperature', 'Good Taste ', 'Good Quantity', 'Output',\n",
       "       'Reviews'],\n",
       "      dtype='object')"
      ]
     },
     "execution_count": 13,
     "metadata": {},
     "output_type": "execute_result"
    }
   ],
   "source": [
    "l1=(fd_ori.columns[:])\n",
    "l1"
   ]
  },
  {
   "cell_type": "code",
   "execution_count": 14,
   "metadata": {
    "ExecuteTime": {
     "end_time": "2021-03-27T03:55:12.295384Z",
     "start_time": "2021-03-27T03:55:12.161130Z"
    },
    "scrolled": true
   },
   "outputs": [
    {
     "name": "stdout",
     "output_type": "stream",
     "text": [
      "<class 'pandas.core.frame.DataFrame'>\n",
      "RangeIndex: 388 entries, 0 to 387\n",
      "Data columns (total 55 columns):\n",
      " #   Column                                     Non-Null Count  Dtype  \n",
      "---  ------                                     --------------  -----  \n",
      " 0   Age                                        388 non-null    int64  \n",
      " 1   Gender                                     388 non-null    int32  \n",
      " 2   Marital Status                             388 non-null    int32  \n",
      " 3   Occupation                                 388 non-null    int32  \n",
      " 4   Monthly Income                             388 non-null    int32  \n",
      " 5   Educational Qualifications                 388 non-null    int32  \n",
      " 6   Family size                                388 non-null    int64  \n",
      " 7   latitude                                   388 non-null    float64\n",
      " 8   longitude                                  388 non-null    float64\n",
      " 9   Pin code                                   388 non-null    int64  \n",
      " 10  Medium (P1)                                388 non-null    int32  \n",
      " 11  Medium (P2)                                388 non-null    int32  \n",
      " 12  Meal(P1)                                   388 non-null    int32  \n",
      " 13  Meal(P2)                                   388 non-null    int32  \n",
      " 14  Perference(P1)                             388 non-null    int32  \n",
      " 15  Perference(P2)                             388 non-null    int32  \n",
      " 16  Ease and convenient                        388 non-null    int32  \n",
      " 17  Time saving                                388 non-null    int32  \n",
      " 18  More restaurant choices                    388 non-null    int32  \n",
      " 19  Easy Payment option                        388 non-null    int32  \n",
      " 20  More Offers and Discount                   388 non-null    int32  \n",
      " 21  Good Food quality                          388 non-null    int32  \n",
      " 22  Good Tracking system                       388 non-null    int32  \n",
      " 23  Self Cooking                               388 non-null    int32  \n",
      " 24  Health Concern                             388 non-null    int32  \n",
      " 25  Late Delivery                              388 non-null    int32  \n",
      " 26  Poor Hygiene                               388 non-null    int32  \n",
      " 27  Bad past experience                        388 non-null    int32  \n",
      " 28  Unavailability                             388 non-null    int32  \n",
      " 29  Unaffordable                               388 non-null    int32  \n",
      " 30  Long delivery time                         388 non-null    int32  \n",
      " 31  Delay of delivery person getting assigned  388 non-null    int32  \n",
      " 32  Delay of delivery person picking up food   388 non-null    int32  \n",
      " 33  Wrong order delivered                      388 non-null    int32  \n",
      " 34  Missing item                               388 non-null    int32  \n",
      " 35  Order placed by mistake                    388 non-null    int32  \n",
      " 36  Influence of time                          388 non-null    int32  \n",
      " 37  Order Time                                 388 non-null    int32  \n",
      " 38  Maximum wait time                          388 non-null    int32  \n",
      " 39  Residence in busy location                 388 non-null    int32  \n",
      " 40  Google Maps Accuracy                       388 non-null    int32  \n",
      " 41  Good Road Condition                        388 non-null    int32  \n",
      " 42  Low quantity low time                      388 non-null    int32  \n",
      " 43  Delivery person ability                    388 non-null    int32  \n",
      " 44  Influence of rating                        388 non-null    int32  \n",
      " 45  Less Delivery time                         388 non-null    int32  \n",
      " 46  High Quality of package                    388 non-null    int32  \n",
      " 47  Number of calls                            388 non-null    int32  \n",
      " 48  Politeness                                 388 non-null    int32  \n",
      " 49  Freshness                                  388 non-null    int32  \n",
      " 50  Temperature                                388 non-null    int32  \n",
      " 51  Good Taste                                 388 non-null    int32  \n",
      " 52  Good Quantity                              388 non-null    int32  \n",
      " 53  Output                                     388 non-null    int32  \n",
      " 54  Reviews                                    388 non-null    int32  \n",
      "dtypes: float64(2), int32(50), int64(3)\n",
      "memory usage: 91.1 KB\n"
     ]
    }
   ],
   "source": [
    "fd_dlvry.info()"
   ]
  },
  {
   "cell_type": "code",
   "execution_count": 15,
   "metadata": {
    "ExecuteTime": {
     "end_time": "2021-03-27T03:55:12.425848Z",
     "start_time": "2021-03-27T03:55:12.295384Z"
    }
   },
   "outputs": [
    {
     "data": {
      "text/plain": [
       "Index(['Age', 'Gender', 'Marital Status', 'Occupation', 'Monthly Income',\n",
       "       'Educational Qualifications', 'Family size', 'latitude', 'longitude',\n",
       "       'Pin code', 'Medium (P1)', 'Medium (P2)', 'Meal(P1)', 'Meal(P2)',\n",
       "       'Perference(P1)', 'Perference(P2)', 'Ease and convenient',\n",
       "       'Time saving', 'More restaurant choices', 'Easy Payment option',\n",
       "       'More Offers and Discount', 'Good Food quality', 'Good Tracking system',\n",
       "       'Self Cooking', 'Health Concern', 'Late Delivery', 'Poor Hygiene',\n",
       "       'Bad past experience', 'Unavailability', 'Unaffordable',\n",
       "       'Long delivery time', 'Delay of delivery person getting assigned',\n",
       "       'Delay of delivery person picking up food', 'Wrong order delivered',\n",
       "       'Missing item', 'Order placed by mistake', 'Influence of time',\n",
       "       'Order Time', 'Maximum wait time', 'Residence in busy location',\n",
       "       'Google Maps Accuracy', 'Good Road Condition', 'Low quantity low time',\n",
       "       'Delivery person ability', 'Influence of rating', 'Less Delivery time',\n",
       "       'High Quality of package', 'Number of calls', 'Politeness',\n",
       "       'Freshness ', 'Temperature', 'Good Taste ', 'Good Quantity', 'Output'],\n",
       "      dtype='object')"
      ]
     },
     "execution_count": 15,
     "metadata": {},
     "output_type": "execute_result"
    }
   ],
   "source": [
    "df=fd_ori.drop('Reviews',axis=1) #drop reviews because it's take NLP in future i will try it\n",
    "df.columns"
   ]
  },
  {
   "cell_type": "code",
   "execution_count": null,
   "metadata": {},
   "outputs": [],
   "source": []
  },
  {
   "cell_type": "code",
   "execution_count": 16,
   "metadata": {
    "ExecuteTime": {
     "end_time": "2021-03-27T03:55:12.549691Z",
     "start_time": "2021-03-27T03:55:12.425848Z"
    }
   },
   "outputs": [],
   "source": [
    "%matplotlib inline"
   ]
  },
  {
   "cell_type": "code",
   "execution_count": 17,
   "metadata": {
    "ExecuteTime": {
     "end_time": "2021-03-27T03:55:12.826397Z",
     "start_time": "2021-03-27T03:55:12.549691Z"
    }
   },
   "outputs": [],
   "source": [
    "# we needs to back map for lable encoding \n",
    "lbl=dict()\n",
    "for i in fd_ori.columns:\n",
    "    if i not in  ['latitude','longitude','Pin code','Output','Reviews']:\n",
    "                  lbl[i]=dict(zip(fd_ori[i].unique(), fd_dlvry[i].unique()))\n",
    "    "
   ]
  },
  {
   "cell_type": "code",
   "execution_count": 18,
   "metadata": {
    "ExecuteTime": {
     "end_time": "2021-03-27T03:55:12.857587Z",
     "start_time": "2021-03-27T03:55:12.826397Z"
    },
    "scrolled": false
   },
   "outputs": [
    {
     "data": {
      "text/plain": [
       "{'Age': {20: 20,\n",
       "  24: 24,\n",
       "  22: 22,\n",
       "  27: 27,\n",
       "  23: 23,\n",
       "  21: 21,\n",
       "  28: 28,\n",
       "  25: 25,\n",
       "  32: 32,\n",
       "  30: 30,\n",
       "  31: 31,\n",
       "  26: 26,\n",
       "  18: 18,\n",
       "  19: 19,\n",
       "  33: 33,\n",
       "  29: 29},\n",
       " 'Gender': {'Female': 0, 'Male': 1},\n",
       " 'Marital Status': {'Single': 2, 'Married': 0, 'Prefer not to say': 1},\n",
       " 'Occupation': {'Student': 3,\n",
       "  'Employee': 0,\n",
       "  'Self Employeed': 2,\n",
       "  'House wife': 1},\n",
       " 'Monthly Income': {'No Income': 4,\n",
       "  'Below Rs.10000': 2,\n",
       "  'More than 50000': 3,\n",
       "  '10001 to 25000': 0,\n",
       "  '25001 to 50000': 1},\n",
       " 'Educational Qualifications': {'Post Graduate': 2,\n",
       "  'Graduate': 0,\n",
       "  'Ph.D': 1,\n",
       "  'Uneducated': 4,\n",
       "  'School': 3},\n",
       " 'Family size': {4: 4, 3: 3, 6: 6, 2: 2, 5: 5, 1: 1},\n",
       " 'Medium (P1)': {'Food delivery apps': 1,\n",
       "  'Walk-in': 2,\n",
       "  'Direct call': 0,\n",
       "  'Web browser': 3},\n",
       " 'Medium (P2)': {' Web browser': 2, ' Direct call': 0, ' Walk-in': 1},\n",
       " 'Meal(P1)': {'Breakfast': 0, 'Snacks': 3, 'Lunch': 2, 'Dinner': 1},\n",
       " 'Meal(P2)': {' Lunch': 1, ' Dinner': 0, ' Snacks': 2},\n",
       " 'Perference(P1)': {'Non Veg foods (Lunch / Dinner)': 1,\n",
       "  'Veg foods (Breakfast / Lunch / Dinner)': 3,\n",
       "  'Bakery items (snacks)': 0,\n",
       "  'Sweets': 2},\n",
       " 'Perference(P2)': {' Bakery items (snacks)': 0,\n",
       "  ' Veg foods (Breakfast / Lunch / Dinner)': 3,\n",
       "  ' Ice cream / Cool drinks': 1,\n",
       "  ' Sweets': 2},\n",
       " 'Ease and convenient': {'Neutral': 2,\n",
       "  'Strongly agree': 3,\n",
       "  'Agree': 0,\n",
       "  'Strongly disagree': 4,\n",
       "  'Disagree': 1},\n",
       " 'Time saving': {'Neutral': 2,\n",
       "  'Strongly agree': 3,\n",
       "  'Agree': 0,\n",
       "  'Disagree': 1,\n",
       "  'Strongly disagree': 4},\n",
       " 'More restaurant choices': {'Neutral': 2,\n",
       "  'Strongly agree': 3,\n",
       "  'Agree': 0,\n",
       "  'Strongly disagree': 4,\n",
       "  'Disagree': 1},\n",
       " 'Easy Payment option': {'Neutral': 2,\n",
       "  'Strongly agree': 3,\n",
       "  'Agree': 0,\n",
       "  'Disagree': 1,\n",
       "  'Strongly disagree': 4},\n",
       " 'More Offers and Discount': {'Neutral': 2,\n",
       "  'Strongly agree': 3,\n",
       "  'Agree': 0,\n",
       "  'Disagree': 1,\n",
       "  'Strongly disagree': 4},\n",
       " 'Good Food quality': {'Neutral': 2,\n",
       "  'Disagree': 1,\n",
       "  'Agree': 0,\n",
       "  'Strongly agree': 3,\n",
       "  'Strongly disagree': 4},\n",
       " 'Good Tracking system': {'Neutral': 2,\n",
       "  'Agree': 0,\n",
       "  'Strongly agree': 3,\n",
       "  'Disagree': 1,\n",
       "  'Strongly disagree': 4},\n",
       " 'Self Cooking': {'Neutral': 2,\n",
       "  'Strongly agree': 3,\n",
       "  'Disagree': 1,\n",
       "  'Agree': 0,\n",
       "  'Strongly disagree': 4},\n",
       " 'Health Concern': {'Neutral': 2,\n",
       "  'Strongly agree': 3,\n",
       "  'Agree': 0,\n",
       "  'Strongly disagree': 4,\n",
       "  'Disagree': 1},\n",
       " 'Late Delivery': {'Neutral': 2,\n",
       "  'Agree': 0,\n",
       "  'Strongly agree': 3,\n",
       "  'Disagree': 1,\n",
       "  'Strongly disagree': 4},\n",
       " 'Poor Hygiene': {'Neutral': 2,\n",
       "  'Strongly agree': 3,\n",
       "  'Agree': 0,\n",
       "  'Disagree': 1,\n",
       "  'Strongly disagree': 4},\n",
       " 'Bad past experience': {'Neutral': 2,\n",
       "  'Strongly agree': 3,\n",
       "  'Agree': 0,\n",
       "  'Disagree': 1,\n",
       "  'Strongly disagree': 4},\n",
       " 'Unavailability': {'Neutral': 2,\n",
       "  'Strongly agree': 3,\n",
       "  'Agree': 0,\n",
       "  'Disagree': 1,\n",
       "  'Strongly disagree': 4},\n",
       " 'Unaffordable': {'Neutral': 2,\n",
       "  'Strongly agree': 3,\n",
       "  'Agree': 0,\n",
       "  'Disagree': 1,\n",
       "  'Strongly disagree': 4},\n",
       " 'Long delivery time': {'Agree': 0,\n",
       "  'Strongly agree': 3,\n",
       "  'Neutral': 2,\n",
       "  'Disagree': 1,\n",
       "  'Strongly disagree': 4},\n",
       " 'Delay of delivery person getting assigned': {'Agree': 0,\n",
       "  'Strongly agree': 3,\n",
       "  'Disagree': 1,\n",
       "  'Neutral': 2,\n",
       "  'Strongly disagree': 4},\n",
       " 'Delay of delivery person picking up food': {'Agree': 0,\n",
       "  'Strongly agree': 3,\n",
       "  'Neutral': 2,\n",
       "  'Disagree': 1,\n",
       "  'Strongly disagree': 4},\n",
       " 'Wrong order delivered': {'Agree': 0,\n",
       "  'Strongly agree': 3,\n",
       "  'Disagree': 1,\n",
       "  'Neutral': 2,\n",
       "  'Strongly disagree': 4},\n",
       " 'Missing item': {'Agree': 0,\n",
       "  'Strongly agree': 3,\n",
       "  'Disagree': 1,\n",
       "  'Neutral': 2,\n",
       "  'Strongly disagree': 4},\n",
       " 'Order placed by mistake': {'Agree': 0,\n",
       "  'Strongly agree': 3,\n",
       "  'Neutral': 2,\n",
       "  'Disagree': 1,\n",
       "  'Strongly disagree': 4},\n",
       " 'Influence of time': {'Yes': 2, 'No': 1, 'Maybe': 0},\n",
       " 'Order Time': {'Weekend (Sat & Sun)': 2,\n",
       "  'Anytime (Mon-Sun)': 0,\n",
       "  'Weekdays (Mon-Fri)': 1},\n",
       " 'Maximum wait time': {'30 minutes': 1,\n",
       "  '45 minutes': 2,\n",
       "  '60 minutes': 3,\n",
       "  'More than 60 minutes': 4,\n",
       "  '15 minutes': 0},\n",
       " 'Residence in busy location': {'Agree': 0,\n",
       "  'Strongly Agree': 3,\n",
       "  'Disagree': 1,\n",
       "  'Neutral': 2,\n",
       "  'Strongly disagree': 4},\n",
       " 'Google Maps Accuracy': {'Neutral': 2,\n",
       "  'Strongly Agree': 3,\n",
       "  'Agree': 0,\n",
       "  'Disagree': 1,\n",
       "  'Strongly disagree': 4},\n",
       " 'Good Road Condition': {'Neutral': 2,\n",
       "  'Disagree': 1,\n",
       "  'Agree': 0,\n",
       "  'Strongly Agree': 3,\n",
       "  'Strongly disagree': 4},\n",
       " 'Low quantity low time': {'Neutral': 2,\n",
       "  'Strongly disagree': 4,\n",
       "  'Agree': 0,\n",
       "  'Disagree': 1,\n",
       "  'Strongly Agree': 3},\n",
       " 'Delivery person ability': {'Neutral': 2,\n",
       "  'Agree': 0,\n",
       "  'Strongly Agree': 3,\n",
       "  'Disagree': 1,\n",
       "  'Strongly disagree': 4},\n",
       " 'Influence of rating': {'Yes': 2, 'Maybe': 0, 'No': 1},\n",
       " 'Less Delivery time': {'Moderately Important': 1,\n",
       "  'Very Important': 4,\n",
       "  'Important': 0,\n",
       "  'Slightly Important': 2,\n",
       "  'Unimportant': 3},\n",
       " 'High Quality of package': {'Moderately Important': 1,\n",
       "  'Very Important': 4,\n",
       "  'Important': 0,\n",
       "  'Unimportant': 3,\n",
       "  'Slightly Important': 2},\n",
       " 'Number of calls': {'Moderately Important': 1,\n",
       "  'Very Important': 4,\n",
       "  'Unimportant': 3,\n",
       "  'Important': 0,\n",
       "  'Slightly Important': 2},\n",
       " 'Politeness': {'Moderately Important': 1,\n",
       "  'Very Important': 4,\n",
       "  'Important': 0,\n",
       "  'Slightly Important': 2,\n",
       "  'Unimportant': 3},\n",
       " 'Freshness ': {'Moderately Important': 1,\n",
       "  'Very Important': 4,\n",
       "  'Important': 0,\n",
       "  'Slightly Important': 2,\n",
       "  'Unimportant': 3},\n",
       " 'Temperature': {'Moderately Important': 1,\n",
       "  'Very Important': 4,\n",
       "  'Important': 0,\n",
       "  'Slightly Important': 2,\n",
       "  'Unimportant': 3},\n",
       " 'Good Taste ': {'Moderately Important': 1,\n",
       "  'Very Important': 4,\n",
       "  'Important': 0,\n",
       "  'Slightly Important': 2,\n",
       "  'Unimportant': 3},\n",
       " 'Good Quantity': {'Moderately Important': 1,\n",
       "  'Very Important': 4,\n",
       "  'Important': 0,\n",
       "  'Slightly Important': 2,\n",
       "  'Unimportant': 3}}"
      ]
     },
     "execution_count": 18,
     "metadata": {},
     "output_type": "execute_result"
    }
   ],
   "source": [
    "lbl"
   ]
  },
  {
   "cell_type": "code",
   "execution_count": 19,
   "metadata": {
    "ExecuteTime": {
     "end_time": "2021-03-27T03:55:13.108636Z",
     "start_time": "2021-03-27T03:55:12.859675Z"
    },
    "code_folding": []
   },
   "outputs": [],
   "source": [
    "# practice chi-squared test\n",
    "# df=pd.crosstab(fd_ori['Meal(P1)'],fd_ori['Occupation'])\n",
    "# df\n",
    "\n",
    "# stat, p, dof, expected = st.chi2_contingency(df,correction=True)\n",
    "# stat, p, dof, expected\n",
    "\n",
    "\n"
   ]
  },
  {
   "cell_type": "markdown",
   "metadata": {},
   "source": [
    "#  method 1: Feature selection by phi coefficient"
   ]
  },
  {
   "cell_type": "code",
   "execution_count": 20,
   "metadata": {
    "ExecuteTime": {
     "end_time": "2021-03-27T03:55:15.080668Z",
     "start_time": "2021-03-27T03:55:13.108636Z"
    },
    "scrolled": true
   },
   "outputs": [
    {
     "data": {
      "text/plain": [
       "{'Output': [('Age', 0.41916612670006054),\n",
       "  ('Ease and convenient', 0.6944483749782563),\n",
       "  ('Time saving', 0.6333333550979008),\n",
       "  ('More restaurant choices', 0.5897138785369491),\n",
       "  ('Easy Payment option', 0.5571767618313485),\n",
       "  ('More Offers and Discount', 0.5564505912203883),\n",
       "  ('Good Food quality', 0.4243449172824401),\n",
       "  ('Good Tracking system', 0.41749280981704445),\n",
       "  ('Unaffordable', 0.40917014994986045),\n",
       "  ('Maximum wait time', 0.4135981980209824)]}"
      ]
     },
     "execution_count": 20,
     "metadata": {},
     "output_type": "execute_result"
    }
   ],
   "source": [
    "#phi perform for find relation between \n",
    "crv={}\n",
    "l1=[]\n",
    "for i in fd_ori.columns:\n",
    "    if i not in  ['latitude','longitude','Pin code','Output','Reviews']:\n",
    "        '''we are not using lat and long because in EDA all location diffrent (reference dtale lib)'''\n",
    "        df=pd.crosstab(fd_ori['Output'],fd_ori[i])\n",
    "        stat, p, dof, expected = st.chi2_contingency(df,correction=True)\n",
    "     \n",
    "        deno=sum(df.sum())\n",
    "        x=numpy.sqrt(stat / deno)\n",
    "        if(x>0.40): #thresold\n",
    "             l1.append((i,x))\n",
    "\n",
    "\n",
    "crv['Output']=l1\n",
    "        \n",
    "crv"
   ]
  },
  {
   "cell_type": "code",
   "execution_count": 21,
   "metadata": {
    "ExecuteTime": {
     "end_time": "2021-03-27T03:55:15.096666Z",
     "start_time": "2021-03-27T03:55:15.080668Z"
    },
    "code_folding": []
   },
   "outputs": [
    {
     "data": {
      "text/plain": [
       "['Age',\n",
       " 'Ease and convenient',\n",
       " 'Time saving',\n",
       " 'More restaurant choices',\n",
       " 'Easy Payment option',\n",
       " 'More Offers and Discount',\n",
       " 'Good Food quality',\n",
       " 'Good Tracking system',\n",
       " 'Unaffordable',\n",
       " 'Maximum wait time']"
      ]
     },
     "execution_count": 21,
     "metadata": {},
     "output_type": "execute_result"
    }
   ],
   "source": [
    "#Extract the feature from above dictionary \n",
    "basic_f0=[]\n",
    "for i in l1:\n",
    "    basic_f0.append(i[0])\n",
    "\n",
    "basic_f0"
   ]
  },
  {
   "cell_type": "code",
   "execution_count": 22,
   "metadata": {
    "ExecuteTime": {
     "end_time": "2021-03-27T03:55:15.263066Z",
     "start_time": "2021-03-27T03:55:15.096666Z"
    }
   },
   "outputs": [],
   "source": [
    "X=fd_dlvry[basic_f0] # select X \n",
    "y=fd_dlvry['Output'] # select Y\n"
   ]
  },
  {
   "cell_type": "code",
   "execution_count": 23,
   "metadata": {
    "ExecuteTime": {
     "end_time": "2021-03-27T03:55:15.372414Z",
     "start_time": "2021-03-27T03:55:15.263066Z"
    }
   },
   "outputs": [],
   "source": [
    "%matplotlib inline"
   ]
  },
  {
   "cell_type": "code",
   "execution_count": 24,
   "metadata": {
    "ExecuteTime": {
     "end_time": "2021-03-27T03:55:15.498882Z",
     "start_time": "2021-03-27T03:55:15.372414Z"
    },
    "scrolled": true
   },
   "outputs": [
    {
     "data": {
      "text/plain": [
       "['Age',\n",
       " 'Ease and convenient',\n",
       " 'Time saving',\n",
       " 'More restaurant choices',\n",
       " 'Easy Payment option',\n",
       " 'More Offers and Discount',\n",
       " 'Good Food quality',\n",
       " 'Good Tracking system',\n",
       " 'Unaffordable',\n",
       " 'Maximum wait time']"
      ]
     },
     "execution_count": 24,
     "metadata": {},
     "output_type": "execute_result"
    }
   ],
   "source": [
    "basic_f0"
   ]
  },
  {
   "cell_type": "code",
   "execution_count": 25,
   "metadata": {
    "ExecuteTime": {
     "end_time": "2021-03-27T03:55:16.681170Z",
     "start_time": "2021-03-27T03:55:15.498882Z"
    },
    "scrolled": true
   },
   "outputs": [
    {
     "data": {
      "text/plain": [
       "<AxesSubplot:xlabel='Output', ylabel='count'>"
      ]
     },
     "execution_count": 25,
     "metadata": {},
     "output_type": "execute_result"
    },
    {
     "data": {
      "image/png": "[encoded data removed]",
      "text/plain": [
       "<Figure size 432x288 with 1 Axes>"
      ]
     },
     "metadata": {
      "needs_background": "light"
     },
     "output_type": "display_data"
    }
   ],
   "source": [
    "sns.countplot(fd_ori['Output']) # look target feature"
   ]
  },
  {
   "cell_type": "markdown",
   "metadata": {
    "ExecuteTime": {
     "end_time": "2020-12-19T04:21:54.351232Z",
     "start_time": "2020-12-19T04:21:54.343232Z"
    }
   },
   "source": [
    "#  KNN Algorithm  "
   ]
  },
  {
   "cell_type": "code",
   "execution_count": 26,
   "metadata": {
    "ExecuteTime": {
     "end_time": "2021-03-27T03:55:16.850000Z",
     "start_time": "2021-03-27T03:55:16.681170Z"
    }
   },
   "outputs": [],
   "source": [
    "# train_test_split by sklearn \n",
    "X=fd_dlvry[basic_f0]\n",
    "y=fd_dlvry['Output']\n",
    "# from imblearn.under_sampling import NearMiss\n",
    "# nm=NearMiss()\n",
    "# Make data balanced\n",
    "from imblearn.over_sampling import RandomOverSampler\n",
    "nm=RandomOverSampler(0.5)\n",
    "X,y=nm.fit_sample(X,y)\n",
    "X_train, X_test, y_train, y_test = train_test_split(X, y, test_size = 0.33)"
   ]
  },
  {
   "cell_type": "code",
   "execution_count": 27,
   "metadata": {
    "ExecuteTime": {
     "end_time": "2021-03-27T03:55:16.936196Z",
     "start_time": "2021-03-27T03:55:16.850000Z"
    }
   },
   "outputs": [
    {
     "data": {
      "text/plain": [
       "1    301\n",
       "0     87\n",
       "Name: Output, dtype: int64"
      ]
     },
     "execution_count": 27,
     "metadata": {},
     "output_type": "execute_result"
    }
   ],
   "source": [
    "fd_dlvry['Output'].value_counts()"
   ]
  },
  {
   "cell_type": "code",
   "execution_count": 28,
   "metadata": {
    "ExecuteTime": {
     "end_time": "2021-03-27T03:55:17.099483Z",
     "start_time": "2021-03-27T03:55:16.936196Z"
    }
   },
   "outputs": [
    {
     "data": {
      "text/plain": [
       "((451, 10), (451,))"
      ]
     },
     "execution_count": 28,
     "metadata": {},
     "output_type": "execute_result"
    }
   ],
   "source": [
    "X.shape,y.shape"
   ]
  },
  {
   "cell_type": "code",
   "execution_count": 29,
   "metadata": {
    "ExecuteTime": {
     "end_time": "2021-03-27T03:55:17.958869Z",
     "start_time": "2021-03-27T03:55:17.099483Z"
    }
   },
   "outputs": [
    {
     "data": {
      "image/png": "[encoded data removed]",
      "text/plain": [
       "<Figure size 432x288 with 1 Axes>"
      ]
     },
     "metadata": {
      "needs_background": "light"
     },
     "output_type": "display_data"
    }
   ],
   "source": [
    "#select best knneighbour find \n",
    "plt.figure()\n",
    "training_accuracy = []\n",
    "test_accuracy = []\n",
    "# try n_neighbors from 1 to 10\n",
    "neighbors_settings = range(1, 11)\n",
    "for i in neighbors_settings:\n",
    "    clf = KNeighborsClassifier(n_neighbors=i)\n",
    "    clf.fit(X_train, y_train)\n",
    "    training_accuracy.append(clf.score(X_train, y_train))\n",
    "    # record generalization accuracy\n",
    "    test_accuracy.append(clf.score(X_test, y_test))\n",
    "plt.plot(neighbors_settings,training_accuracy,label=\"training accuracy\")\n",
    "plt.plot(neighbors_settings,test_accuracy,label=\"test accuracy\")\n",
    "plt.ylabel(\"Accuracy\")\n",
    "plt.xlabel(\"n_neighbors\")\n",
    "plt.legend()\n",
    "\n",
    "plt.show()"
   ]
  },
  {
   "cell_type": "code",
   "execution_count": 30,
   "metadata": {
    "ExecuteTime": {
     "end_time": "2021-03-27T03:55:18.918277Z",
     "start_time": "2021-03-27T03:55:17.958869Z"
    }
   },
   "outputs": [
    {
     "data": {
      "image/png": "[encoded data removed]",
      "text/plain": [
       "<Figure size 432x288 with 1 Axes>"
      ]
     },
     "metadata": {
      "needs_background": "light"
     },
     "output_type": "display_data"
    }
   ],
   "source": [
    "# appropriate test size find \n",
    "plt.figure()\n",
    "training_accuracy = []\n",
    "test_accuracy = []\n",
    "# try n_neighbors from 1 to 10\n",
    "test_size= numpy.arange(0.1, 0.9,0.05)\n",
    "knn = KNeighborsClassifier(n_neighbors = 3,p=1)\n",
    "for i in test_size:\n",
    "    \n",
    "        X_train, X_test, y_train, y_test = train_test_split(X, y, test_size = i)\n",
    "        knn.fit(X_train, y_train)\n",
    "        training_accuracy.append(knn.score(X_test, y_test))\n",
    "        test_accuracy.append(knn.score(X_train, y_train))\n",
    "  \n",
    "\n",
    "    \n",
    "plt.plot(test_size,training_accuracy,label=\"training accuracy\")\n",
    "plt.plot(test_size,test_accuracy,label=\"test accuracy\")\n",
    "plt.ylabel(\"Accuracy\")\n",
    "plt.xlabel(\"test_size\")\n",
    "plt.legend()\n",
    "\n",
    "plt.show()"
   ]
  },
  {
   "cell_type": "code",
   "execution_count": 31,
   "metadata": {
    "ExecuteTime": {
     "end_time": "2021-03-27T03:55:18.934275Z",
     "start_time": "2021-03-27T03:55:18.918277Z"
    }
   },
   "outputs": [],
   "source": [
    "#split data\n",
    "X_train,X_test,y_train,y_test=train_test_split(X,y,test_size=0.25)"
   ]
  },
  {
   "cell_type": "code",
   "execution_count": 32,
   "metadata": {
    "ExecuteTime": {
     "end_time": "2021-03-27T03:55:19.074077Z",
     "start_time": "2021-03-27T03:55:18.934275Z"
    }
   },
   "outputs": [
    {
     "data": {
      "text/plain": [
       "0.8938053097345132"
      ]
     },
     "execution_count": 32,
     "metadata": {},
     "output_type": "execute_result"
    }
   ],
   "source": [
    "# fit data and perform the knn algo\n",
    "neigh = KNeighborsClassifier(n_neighbors=5,p=1)\n",
    "\n",
    "knn=neigh.fit(X_train,y_train)\n",
    "\n",
    "knn.score(X_test,y_test)\n"
   ]
  },
  {
   "cell_type": "code",
   "execution_count": 33,
   "metadata": {
    "ExecuteTime": {
     "end_time": "2021-03-27T03:55:19.249409Z",
     "start_time": "2021-03-27T03:55:19.074077Z"
    }
   },
   "outputs": [],
   "source": [
    "#y_pred for confusion matrix\n",
    "y_pred=knn.predict(X_test)"
   ]
  },
  {
   "cell_type": "code",
   "execution_count": 34,
   "metadata": {
    "ExecuteTime": {
     "end_time": "2021-03-27T03:55:19.421218Z",
     "start_time": "2021-03-27T03:55:19.249409Z"
    }
   },
   "outputs": [
    {
     "data": {
      "text/plain": [
       "array([[34, 10],\n",
       "       [ 2, 67]], dtype=int64)"
      ]
     },
     "execution_count": 34,
     "metadata": {},
     "output_type": "execute_result"
    }
   ],
   "source": [
    "#confusion matrix \n",
    "cf_matrix_n=confusion_matrix(y_test, y_pred)\n",
    "cf_matrix_n"
   ]
  },
  {
   "cell_type": "code",
   "execution_count": 35,
   "metadata": {
    "ExecuteTime": {
     "end_time": "2021-03-27T03:55:19.592760Z",
     "start_time": "2021-03-27T03:55:19.425364Z"
    },
    "scrolled": false
   },
   "outputs": [
    {
     "name": "stdout",
     "output_type": "stream",
     "text": [
      "              precision    recall  f1-score   support\n",
      "\n",
      "           0       0.94      0.77      0.85        44\n",
      "           1       0.87      0.97      0.92        69\n",
      "\n",
      "    accuracy                           0.89       113\n",
      "   macro avg       0.91      0.87      0.88       113\n",
      "weighted avg       0.90      0.89      0.89       113\n",
      "\n"
     ]
    }
   ],
   "source": [
    "#classification report \n",
    "print(classification_report(y_test,y_pred))"
   ]
  },
  {
   "cell_type": "code",
   "execution_count": 36,
   "metadata": {
    "ExecuteTime": {
     "end_time": "2021-03-27T03:55:20.019181Z",
     "start_time": "2021-03-27T03:55:19.592760Z"
    }
   },
   "outputs": [
    {
     "data": {
      "image/png": "[encoded data removed]",
      "text/plain": [
       "<Figure size 432x288 with 1 Axes>"
      ]
     },
     "metadata": {
      "needs_background": "light"
     },
     "output_type": "display_data"
    }
   ],
   "source": [
    "from sklearn.metrics import roc_curve\n",
    "fpr, tpr, thresholds=roc_curve(y_test, y_pred)\n",
    "AUC=round(metrics.auc(fpr, tpr),2)\n",
    "\n",
    "plt.plot([0,1], [0,1], linestyle='--', label='No Skill')\n",
    "plt.plot(fpr, tpr, marker='.', label=f'knn AUC={AUC}')\n",
    "# axis labels\n",
    "plt.xlabel('False Positive Rate')\n",
    "plt.ylabel('True Positive Rate')\n",
    "plt.legend()\n",
    "# show the plot\n",
    "plt.show()\n"
   ]
  },
  {
   "cell_type": "markdown",
   "metadata": {
    "ExecuteTime": {
     "end_time": "2020-12-19T04:23:45.286574Z",
     "start_time": "2020-12-19T04:23:45.278579Z"
    }
   },
   "source": [
    "<b> Conclusion: </b>"
   ]
  },
  {
   "cell_type": "code",
   "execution_count": 37,
   "metadata": {
    "ExecuteTime": {
     "end_time": "2021-03-27T03:55:20.035169Z",
     "start_time": "2021-03-27T03:55:20.019181Z"
    }
   },
   "outputs": [
    {
     "data": {
      "text/plain": [
       "'Here weighted avg f1-score is good and AUC is greate but problems here Knn is not learning something\\nknn just use more memory space for perform operation and mostly features are categorical so noise affect\\non this algorithms\\n'"
      ]
     },
     "execution_count": 37,
     "metadata": {},
     "output_type": "execute_result"
    }
   ],
   "source": [
    "'''Here weighted avg f1-score is good and AUC is greate but problems here Knn is not learning something\n",
    "knn just use more memory space for perform operation and mostly features are categorical so noise affect\n",
    "on this algorithms\n",
    "'''"
   ]
  },
  {
   "cell_type": "markdown",
   "metadata": {
    "ExecuteTime": {
     "end_time": "2020-12-30T12:59:28.745150Z",
     "start_time": "2020-12-30T12:59:28.737155Z"
    }
   },
   "source": [
    "<b> Cross-Validation </b>"
   ]
  },
  {
   "cell_type": "code",
   "execution_count": 38,
   "metadata": {
    "ExecuteTime": {
     "end_time": "2021-03-27T03:55:20.347547Z",
     "start_time": "2021-03-27T03:55:20.035169Z"
    }
   },
   "outputs": [
    {
     "name": "stdout",
     "output_type": "stream",
     "text": [
      "mean:=0.9003674727358937 std :0.05067491313454995\n"
     ]
    }
   ],
   "source": [
    "#without StratifiedKFold \n",
    "Knn=KNeighborsClassifier(n_neighbors=5,p=1)\n",
    "score=cross_val_score(knn,X,y,cv=12)\n",
    "print(\"mean:=\"+str(score.mean()),\"std :\"+str(score.std()))"
   ]
  },
  {
   "cell_type": "code",
   "execution_count": 39,
   "metadata": {
    "ExecuteTime": {
     "end_time": "2021-03-27T03:55:20.541003Z",
     "start_time": "2021-03-27T03:55:20.347547Z"
    }
   },
   "outputs": [
    {
     "name": "stdout",
     "output_type": "stream",
     "text": [
      "List of possible accuracy: [0.9473684210526315, 0.8157894736842105, 0.9473684210526315, 0.868421052631579, 0.9210526315789473, 0.8421052631578947, 0.8947368421052632, 0.918918918918919, 0.8918918918918919, 0.972972972972973, 0.8648648648648649, 0.8648648648648649]\n",
      "\n",
      "Maximum Accuracy That can be obtained from this model is: 97.2972972972973 %\n",
      "\n",
      "Minimum Accuracy: 81.57894736842105 %\n",
      "\n",
      "Average Accuracy That can be obtained from this model is:: 0.8958629682313893\n",
      "\n",
      "Standard Deviation is: 0.04510283501908086\n"
     ]
    }
   ],
   "source": [
    "#with StratifiedKFold \n",
    "import numpy as np\n",
    "from sklearn.model_selection import StratifiedKFold \n",
    "skf = StratifiedKFold(n_splits=12, shuffle=True, random_state=1) \n",
    "lst_accu_stratified = [] \n",
    "\n",
    "for train_index, test_index in skf.split(X, y): \n",
    "    x_train_fold, x_test_fold = X.loc[train_index,:], X.loc[test_index,:] \n",
    "    y_train_fold, y_test_fold = y[train_index], y[test_index] \n",
    "    knn.fit(x_train_fold, y_train_fold) \n",
    "    lst_accu_stratified.append(knn.score(x_test_fold, y_test_fold))\n",
    "    \n",
    "    \n",
    "print('List of possible accuracy:', lst_accu_stratified) \n",
    "print('\\nMaximum Accuracy That can be obtained from this model is:', \n",
    "      max(lst_accu_stratified)*100, '%') \n",
    "print('\\nMinimum Accuracy:', \n",
    "      min(lst_accu_stratified)*100, '%') \n",
    "print('\\nAverage Accuracy That can be obtained from this model is::',np.mean(lst_accu_stratified)) \n",
    "print('\\nStandard Deviation is:',np.std(lst_accu_stratified)) "
   ]
  },
  {
   "cell_type": "markdown",
   "metadata": {},
   "source": [
    "# method 2: feature selection using SelectKBest"
   ]
  },
  {
   "cell_type": "code",
   "execution_count": 40,
   "metadata": {
    "ExecuteTime": {
     "end_time": "2021-03-27T03:55:20.915109Z",
     "start_time": "2021-03-27T03:55:20.541003Z"
    }
   },
   "outputs": [],
   "source": [
    "from sklearn.feature_selection import SelectKBest\n",
    "from sklearn.feature_selection import chi2,mutual_info_classif"
   ]
  },
  {
   "cell_type": "code",
   "execution_count": 41,
   "metadata": {
    "ExecuteTime": {
     "end_time": "2021-03-27T03:55:20.930678Z",
     "start_time": "2021-03-27T03:55:20.915109Z"
    }
   },
   "outputs": [],
   "source": [
    "def select_features(X_train, y_train, X_test):\n",
    "    fs = SelectKBest(score_func=chi2, k='all')\n",
    "    fs.fit(X_train, y_train)\n",
    "    X_train_fs = fs.transform(X_train)\n",
    "    X_test_fs = fs.transform(X_test)\n",
    "    return X_train_fs, X_test_fs, fs"
   ]
  },
  {
   "cell_type": "code",
   "execution_count": 42,
   "metadata": {
    "ExecuteTime": {
     "end_time": "2021-03-27T03:55:21.092428Z",
     "start_time": "2021-03-27T03:55:20.930678Z"
    }
   },
   "outputs": [
    {
     "data": {
      "text/plain": [
       "(451, 50)"
      ]
     },
     "execution_count": 42,
     "metadata": {},
     "output_type": "execute_result"
    }
   ],
   "source": [
    "#select feature \n",
    "l1=['latitude','longitude','Pin code','Output','Reviews']\n",
    "X=fd_dlvry[fd_dlvry.columns[~fd_dlvry.columns.isin(l1)]]\n",
    "y=fd_dlvry['Output']\n",
    "nm=RandomOverSampler(0.5)\n",
    "X,y=nm.fit_sample(X,y)\n",
    "X.shape"
   ]
  },
  {
   "cell_type": "code",
   "execution_count": 43,
   "metadata": {
    "ExecuteTime": {
     "end_time": "2021-03-27T03:55:21.249280Z",
     "start_time": "2021-03-27T03:55:21.092428Z"
    }
   },
   "outputs": [],
   "source": [
    "X_train, X_test, y_train, y_test = train_test_split(X, y, test_size=0.33, random_state=1)"
   ]
  },
  {
   "cell_type": "code",
   "execution_count": 44,
   "metadata": {
    "ExecuteTime": {
     "end_time": "2021-03-27T03:55:21.850803Z",
     "start_time": "2021-03-27T03:55:21.249280Z"
    }
   },
   "outputs": [
    {
     "name": "stdout",
     "output_type": "stream",
     "text": [
      "Feature 0: 9.415608\n",
      "Feature 1: 0.151066\n",
      "Feature 2: 13.306931\n",
      "Feature 3: 16.592934\n",
      "Feature 4: 11.179833\n",
      "Feature 5: 5.397129\n",
      "Feature 6: 0.037298\n",
      "Feature 7: 0.191377\n",
      "Feature 8: 2.317206\n",
      "Feature 9: 0.279845\n",
      "Feature 10: 1.078236\n",
      "Feature 11: 4.014986\n",
      "Feature 12: 0.257016\n",
      "Feature 13: 4.753241\n",
      "Feature 14: 1.264534\n",
      "Feature 15: 1.444474\n",
      "Feature 16: 6.449084\n",
      "Feature 17: 4.534075\n",
      "Feature 18: 9.986425\n",
      "Feature 19: 0.004962\n",
      "Feature 20: 38.062041\n",
      "Feature 21: 6.914500\n",
      "Feature 22: 18.199132\n",
      "Feature 23: 1.063641\n",
      "Feature 24: 26.791883\n",
      "Feature 25: 7.487221\n",
      "Feature 26: 26.779024\n",
      "Feature 27: 5.036219\n",
      "Feature 28: 0.426365\n",
      "Feature 29: 31.564630\n",
      "Feature 30: 3.182405\n",
      "Feature 31: 0.188008\n",
      "Feature 32: 0.073953\n",
      "Feature 33: 0.847665\n",
      "Feature 34: 14.740204\n",
      "Feature 35: 17.226568\n",
      "Feature 36: 14.218521\n",
      "Feature 37: 1.598336\n",
      "Feature 38: 1.995154\n",
      "Feature 39: 5.058766\n",
      "Feature 40: 1.453893\n",
      "Feature 41: 0.296579\n",
      "Feature 42: 3.836021\n",
      "Feature 43: 2.637515\n",
      "Feature 44: 0.385120\n",
      "Feature 45: 1.715209\n",
      "Feature 46: 20.171755\n",
      "Feature 47: 0.618517\n",
      "Feature 48: 19.964174\n",
      "Feature 49: 1.162726\n"
     ]
    },
    {
     "data": {
      "image/png": "[encoded data removed]",
      "text/plain": [
       "<Figure size 432x288 with 1 Axes>"
      ]
     },
     "metadata": {
      "needs_background": "light"
     },
     "output_type": "display_data"
    }
   ],
   "source": [
    "X_train_fs, X_test_fs, fs = select_features(X_train, y_train, X_test)\n",
    "for i in range(len(fs.scores_)):\n",
    "     print('Feature %d: %f' % (i, fs.scores_[i]))\n",
    "# plot the scores\n",
    "plt.bar([i for i in range(len(fs.scores_))], fs.scores_)\n",
    "\n",
    "plt.show()"
   ]
  },
  {
   "cell_type": "code",
   "execution_count": null,
   "metadata": {},
   "outputs": [],
   "source": []
  },
  {
   "cell_type": "code",
   "execution_count": 45,
   "metadata": {
    "ExecuteTime": {
     "end_time": "2021-03-27T03:55:21.871082Z",
     "start_time": "2021-03-27T03:55:21.850803Z"
    },
    "scrolled": true
   },
   "outputs": [
    {
     "name": "stdout",
     "output_type": "stream",
     "text": [
      "Marital Status\n",
      "Occupation\n",
      "Monthly Income\n",
      "Self Cooking\n",
      "Late Delivery\n",
      "Bad past experience\n",
      "Unaffordable\n",
      "Delay of delivery person picking up food\n",
      "Order Time\n",
      "Maximum wait time\n",
      "Residence in busy location\n",
      "Freshness \n",
      "Good Taste \n"
     ]
    }
   ],
   "source": [
    "# Extract feature \n",
    "basic_f1=[]\n",
    "for i in range(len(fs.scores_)):\n",
    "    if(fs.scores_[i]>10): # set Thresold\n",
    "        print(X_test.columns[i])\n",
    "        basic_f1.append(X_test.columns[i])"
   ]
  },
  {
   "cell_type": "markdown",
   "metadata": {},
   "source": [
    "# KNN Algorithm "
   ]
  },
  {
   "cell_type": "code",
   "execution_count": 46,
   "metadata": {
    "ExecuteTime": {
     "end_time": "2021-03-27T03:55:22.031765Z",
     "start_time": "2021-03-27T03:55:21.871082Z"
    }
   },
   "outputs": [],
   "source": [
    "X=fd_dlvry[basic_f1]\n",
    "y=fd_dlvry['Output']\n",
    "\n",
    "nm=RandomOverSampler()\n",
    "X,y=nm.fit_sample(X,y)"
   ]
  },
  {
   "cell_type": "code",
   "execution_count": 47,
   "metadata": {
    "ExecuteTime": {
     "end_time": "2021-03-27T03:55:22.180959Z",
     "start_time": "2021-03-27T03:55:22.031765Z"
    }
   },
   "outputs": [
    {
     "data": {
      "text/plain": [
       "(602, 13)"
      ]
     },
     "execution_count": 47,
     "metadata": {},
     "output_type": "execute_result"
    }
   ],
   "source": [
    "X.shape"
   ]
  },
  {
   "cell_type": "code",
   "execution_count": 48,
   "metadata": {
    "ExecuteTime": {
     "end_time": "2021-03-27T03:55:23.234649Z",
     "start_time": "2021-03-27T03:55:22.180959Z"
    },
    "code_folding": []
   },
   "outputs": [
    {
     "data": {
      "image/png": "[encoded data removed]",
      "text/plain": [
       "<Figure size 432x288 with 1 Axes>"
      ]
     },
     "metadata": {
      "needs_background": "light"
     },
     "output_type": "display_data"
    }
   ],
   "source": [
    "#neighbour find \n",
    "plt.figure()\n",
    "training_accuracy = []\n",
    "test_accuracy = []\n",
    "# try n_neighbors from 1 to 10\n",
    "neighbors_settings = range(1, 11)\n",
    "for i in neighbors_settings:\n",
    "    clf = KNeighborsClassifier(n_neighbors=i,p=1)\n",
    "    clf.fit(X_train, y_train)\n",
    "    training_accuracy.append(clf.score(X_train, y_train))\n",
    "    # record generalization accuracy\n",
    "    test_accuracy.append(clf.score(X_test, y_test))\n",
    "plt.plot(neighbors_settings,training_accuracy,label=\"training accuracy\")\n",
    "plt.plot(neighbors_settings,test_accuracy,label=\"test accuracy\")\n",
    "plt.ylabel(\"Accuracy\")\n",
    "plt.xlabel(\"n_neighbors\")\n",
    "plt.legend()\n",
    "\n",
    "plt.show()"
   ]
  },
  {
   "cell_type": "code",
   "execution_count": 49,
   "metadata": {
    "ExecuteTime": {
     "end_time": "2021-03-27T03:55:23.250641Z",
     "start_time": "2021-03-27T03:55:23.234649Z"
    },
    "code_folding": [
     0
    ]
   },
   "outputs": [],
   "source": [
    "# here some Extra work it's take long time to running\n",
    "# plt.figure()\n",
    "# training_accuracy = []\n",
    "# test_accuracy = []\n",
    "# # try n_neighbors from 1 to 10\n",
    "# test_size= numpy.arange(0.1, 0.9,0.05)\n",
    "# knn = KNeighborsClassifier(n_neighbors = 3)\n",
    "# for i in test_size:\n",
    "    \n",
    "    \n",
    "#     test_score = []\n",
    "#     train_score=[]\n",
    "#     for j in range(1,1000):\n",
    "#         X_train, X_test, y_train, y_test = train_test_split(X, y, test_size = i,random_state=6)\n",
    "#         knn.fit(X_train, y_train)\n",
    "#         test_score.append(knn.score(X_test, y_test))\n",
    "#         train_score.append(knn.score(X_train, y_train))\n",
    "  \n",
    "\n",
    "       \n",
    "#     training_accuracy.append(np.mean(train_score))\n",
    "#     # record generalization accuracy\n",
    "#     test_accuracy.append(np.mean(test_score))\n",
    "\n",
    "# plt.plot(test_size,training_accuracy,label=\"training accuracy\")\n",
    "# plt.plot(test_size,test_accuracy,label=\"test accuracy\")\n",
    "# plt.ylabel(\"Accuracy\")\n",
    "# plt.xlabel(\"test_size\")\n",
    "# plt.legend()\n",
    "\n",
    "# plt.show()"
   ]
  },
  {
   "cell_type": "code",
   "execution_count": 50,
   "metadata": {
    "ExecuteTime": {
     "end_time": "2021-03-27T03:55:25.218706Z",
     "start_time": "2021-03-27T03:55:23.250641Z"
    },
    "code_folding": []
   },
   "outputs": [
    {
     "data": {
      "image/png": "[encoded data removed]",
      "text/plain": [
       "<Figure size 432x288 with 1 Axes>"
      ]
     },
     "metadata": {
      "needs_background": "light"
     },
     "output_type": "display_data"
    }
   ],
   "source": [
    "# appropriate test size find \n",
    "plt.figure()\n",
    "training_accuracy = []\n",
    "test_accuracy = []\n",
    "# try n_neighbors from 1 to 10\n",
    "test_size= numpy.arange(0.1, 0.9,0.05)\n",
    "knn = KNeighborsClassifier(n_neighbors = 5)\n",
    "for i in test_size:\n",
    "    \n",
    "        X_train, X_test, y_train, y_test = train_test_split(X, y, test_size = i)\n",
    "        knn.fit(X_train, y_train)\n",
    "        training_accuracy.append(knn.score(X_train,y_train))\n",
    "        test_accuracy.append(knn.score(X_test,y_test))\n",
    "  \n",
    "\n",
    "    \n",
    "plt.plot(test_size,training_accuracy,label=\"training accuracy\")\n",
    "plt.plot(test_size,test_accuracy,label=\"test accuracy\")\n",
    "plt.ylabel(\"Accuracy\")\n",
    "plt.xlabel(\"test_size\")\n",
    "plt.legend()\n",
    "\n",
    "plt.show()"
   ]
  },
  {
   "cell_type": "code",
   "execution_count": 51,
   "metadata": {
    "ExecuteTime": {
     "end_time": "2021-03-27T03:55:25.298700Z",
     "start_time": "2021-03-27T03:55:25.218706Z"
    }
   },
   "outputs": [
    {
     "data": {
      "text/plain": [
       "0.8547717842323651"
      ]
     },
     "execution_count": 51,
     "metadata": {},
     "output_type": "execute_result"
    }
   ],
   "source": [
    "#split data into test data and train data\n",
    "X_train,X_test,y_train,y_test=train_test_split(X,y,test_size=0.4)\n",
    "\n",
    "neigh = KNeighborsClassifier(n_neighbors=5)\n",
    "\n",
    "knn=neigh.fit(X_train,y_train)\n",
    "\n",
    "knn.score(X_test,y_test)"
   ]
  },
  {
   "cell_type": "code",
   "execution_count": 52,
   "metadata": {
    "ExecuteTime": {
     "end_time": "2021-03-27T03:55:25.394694Z",
     "start_time": "2021-03-27T03:55:25.298700Z"
    }
   },
   "outputs": [],
   "source": [
    "y_pred=knn.predict(X_test)"
   ]
  },
  {
   "cell_type": "code",
   "execution_count": 53,
   "metadata": {
    "ExecuteTime": {
     "end_time": "2021-03-27T03:55:25.474837Z",
     "start_time": "2021-03-27T03:55:25.394694Z"
    }
   },
   "outputs": [
    {
     "data": {
      "text/plain": [
       "array([[111,  14],\n",
       "       [ 21,  95]], dtype=int64)"
      ]
     },
     "execution_count": 53,
     "metadata": {},
     "output_type": "execute_result"
    }
   ],
   "source": [
    "#confusion matrix \n",
    "cf_matrix_n=confusion_matrix(y_test, y_pred)\n",
    "cf_matrix_n"
   ]
  },
  {
   "cell_type": "code",
   "execution_count": 54,
   "metadata": {
    "ExecuteTime": {
     "end_time": "2021-03-27T03:55:26.193963Z",
     "start_time": "2021-03-27T03:55:25.474837Z"
    }
   },
   "outputs": [
    {
     "name": "stdout",
     "output_type": "stream",
     "text": [
      "              precision    recall  f1-score   support\n",
      "\n",
      "           0       0.84      0.89      0.86       125\n",
      "           1       0.87      0.82      0.84       116\n",
      "\n",
      "    accuracy                           0.85       241\n",
      "   macro avg       0.86      0.85      0.85       241\n",
      "weighted avg       0.86      0.85      0.85       241\n",
      "\n"
     ]
    }
   ],
   "source": [
    "#classification report\n",
    "print(classification_report(y_test,y_pred))"
   ]
  },
  {
   "cell_type": "code",
   "execution_count": 55,
   "metadata": {
    "ExecuteTime": {
     "end_time": "2021-03-27T03:55:26.654397Z",
     "start_time": "2021-03-27T03:55:26.193963Z"
    },
    "scrolled": true
   },
   "outputs": [
    {
     "data": {
      "image/png": "[encoded data removed]",
      "text/plain": [
       "<Figure size 432x288 with 1 Axes>"
      ]
     },
     "metadata": {
      "needs_background": "light"
     },
     "output_type": "display_data"
    }
   ],
   "source": [
    "from sklearn.metrics import roc_curve\n",
    "fpr, tpr, thresholds=roc_curve(y_test, y_pred)\n",
    "AUC=round(metrics.auc(fpr, tpr),2)\n",
    "\n",
    "plt.plot([0,1], [0,1], linestyle='--', label='No Skill')\n",
    "plt.plot(fpr, tpr, marker='.', label=f'knn AUC={AUC}')\n",
    "# axis labels\n",
    "plt.xlabel('False Positive Rate')\n",
    "plt.ylabel('True Positive Rate')\n",
    "plt.legend()\n",
    "# show the plot\n",
    "plt.show()\n"
   ]
  },
  {
   "cell_type": "markdown",
   "metadata": {},
   "source": [
    "<b> Conclusion:</b>"
   ]
  },
  {
   "cell_type": "code",
   "execution_count": 56,
   "metadata": {
    "ExecuteTime": {
     "end_time": "2021-03-27T03:55:26.670019Z",
     "start_time": "2021-03-27T03:55:26.654397Z"
    }
   },
   "outputs": [
    {
     "data": {
      "text/plain": [
       "'feature selection method affect our model,AUC decrease as compare to the first one'"
      ]
     },
     "execution_count": 56,
     "metadata": {},
     "output_type": "execute_result"
    }
   ],
   "source": [
    "'''feature selection method affect our model,AUC decrease as compare to the first one'''"
   ]
  },
  {
   "cell_type": "markdown",
   "metadata": {},
   "source": [
    "<b> Cross-Validation </b>"
   ]
  },
  {
   "cell_type": "code",
   "execution_count": 57,
   "metadata": {
    "ExecuteTime": {
     "end_time": "2021-03-27T03:55:27.175802Z",
     "start_time": "2021-03-27T03:55:26.670019Z"
    },
    "scrolled": true
   },
   "outputs": [
    {
     "name": "stdout",
     "output_type": "stream",
     "text": [
      "mean:=0.8722222222222222 std :0.06759898515992403\n"
     ]
    }
   ],
   "source": [
    "#without StratifiedKFold \n",
    "Knn=KNeighborsClassifier(n_neighbors=5,p=1)\n",
    "score=cross_val_score(knn,X,y,cv=12)\n",
    "print(\"mean:=\"+str(score.mean()),\"std :\"+str(score.std()))"
   ]
  },
  {
   "cell_type": "code",
   "execution_count": 58,
   "metadata": {
    "ExecuteTime": {
     "end_time": "2021-03-27T03:55:27.419015Z",
     "start_time": "2021-03-27T03:55:27.175802Z"
    }
   },
   "outputs": [
    {
     "name": "stdout",
     "output_type": "stream",
     "text": [
      "List of possible accuracy: [0.8431372549019608, 0.8823529411764706, 0.88, 0.92, 0.86, 0.84, 0.88, 0.78, 0.82, 0.92, 0.9, 0.88]\n",
      "\n",
      "Maximum Accuracy That can be obtained from this model is: 92.0 %\n",
      "\n",
      "Minimum Accuracy: 78.0 %\n",
      "\n",
      "Average Accuracy That can be obtained from this model is:: 0.8671241830065362\n",
      "\n",
      "Standard Deviation is: 0.03934352800371876\n"
     ]
    }
   ],
   "source": [
    "#with StratifiedKFold \n",
    "import numpy as np\n",
    "from sklearn.model_selection import StratifiedKFold \n",
    "skf = StratifiedKFold(n_splits=12, shuffle=True, random_state=1) \n",
    "lst_accu_stratified = [] \n",
    "\n",
    "for train_index, test_index in skf.split(X, y): \n",
    "    x_train_fold, x_test_fold = X.loc[train_index,:], X.loc[test_index,:] \n",
    "    y_train_fold, y_test_fold = y[train_index], y[test_index] \n",
    "    knn.fit(x_train_fold, y_train_fold) \n",
    "    lst_accu_stratified.append(knn.score(x_test_fold, y_test_fold))\n",
    "    \n",
    "    \n",
    "print('List of possible accuracy:', lst_accu_stratified) \n",
    "print('\\nMaximum Accuracy That can be obtained from this model is:', \n",
    "      max(lst_accu_stratified)*100, '%') \n",
    "print('\\nMinimum Accuracy:', \n",
    "      min(lst_accu_stratified)*100, '%') \n",
    "print('\\nAverage Accuracy That can be obtained from this model is::',np.mean(lst_accu_stratified)) \n",
    "print('\\nStandard Deviation is:',np.std(lst_accu_stratified)) "
   ]
  },
  {
   "cell_type": "markdown",
   "metadata": {},
   "source": [
    "#  Logistics Regression\n"
   ]
  },
  {
   "cell_type": "code",
   "execution_count": 59,
   "metadata": {
    "ExecuteTime": {
     "end_time": "2021-03-27T03:55:27.430620Z",
     "start_time": "2021-03-27T03:55:27.422619Z"
    }
   },
   "outputs": [],
   "source": [
    "from sklearn.linear_model import LogisticRegression"
   ]
  },
  {
   "cell_type": "code",
   "execution_count": 60,
   "metadata": {
    "ExecuteTime": {
     "end_time": "2021-03-27T03:55:27.583217Z",
     "start_time": "2021-03-27T03:55:27.430620Z"
    }
   },
   "outputs": [],
   "source": [
    "# Here we are using  both method for feature selection  means we takes union both feature union\n",
    "\n",
    "f_feature=list(set(basic_f0).union(set(basic_f1)))"
   ]
  },
  {
   "cell_type": "code",
   "execution_count": 61,
   "metadata": {
    "ExecuteTime": {
     "end_time": "2021-03-27T03:55:27.705815Z",
     "start_time": "2021-03-27T03:55:27.583217Z"
    }
   },
   "outputs": [
    {
     "data": {
      "text/plain": [
       "['Marital Status',\n",
       " 'Age',\n",
       " 'More Offers and Discount',\n",
       " 'Unaffordable',\n",
       " 'Good Tracking system',\n",
       " 'Monthly Income',\n",
       " 'Late Delivery',\n",
       " 'Time saving',\n",
       " 'Ease and convenient',\n",
       " 'Self Cooking',\n",
       " 'Delay of delivery person picking up food',\n",
       " 'Occupation',\n",
       " 'Maximum wait time',\n",
       " 'Bad past experience',\n",
       " 'More restaurant choices',\n",
       " 'Good Taste ',\n",
       " 'Good Food quality',\n",
       " 'Order Time',\n",
       " 'Residence in busy location',\n",
       " 'Easy Payment option',\n",
       " 'Freshness ']"
      ]
     },
     "execution_count": 61,
     "metadata": {},
     "output_type": "execute_result"
    }
   ],
   "source": [
    "f_feature"
   ]
  },
  {
   "cell_type": "markdown",
   "metadata": {
    "ExecuteTime": {
     "end_time": "2021-02-22T04:01:37.917350Z",
     "start_time": "2021-02-22T04:01:37.909356Z"
    }
   },
   "source": [
    "# Now we need to use some domain knowlegde for selecting feature\n",
    "Group 1: {'Ease and convenient','Easy Payment option'}\\\n",
    "Group 2 :{'Order Time','Time saving','Delay of delivery person picking up food','Maximum wait time'}\\\n",
    "f_feature=['Ease and convenient','Self Cooking','Maximum wait time','More restaurant choices',\n",
    "  'Unaffordable', 'More Offers and Discount', 'Good Food quality', 'Good Tracking system', 'Age', 'Bad past experience']"
   ]
  },
  {
   "cell_type": "code",
   "execution_count": 62,
   "metadata": {
    "ExecuteTime": {
     "end_time": "2021-03-27T03:55:27.999056Z",
     "start_time": "2021-03-27T03:55:27.705815Z"
    }
   },
   "outputs": [],
   "source": [
    "#select X,y \n",
    "\n",
    "X=fd_dlvry[f_feature]\n",
    "y=fd_dlvry['Output']\n",
    "from imblearn.under_sampling import NearMiss\n",
    "# nm=NearMiss()\n",
    "#try to making data balnaced \n",
    "nm=RandomOverSampler()\n",
    "X,y=nm.fit_sample(X,y)\n",
    "\n",
    "X_train, X_test, y_train, y_test = train_test_split(X, y, test_size = 0.33)"
   ]
  },
  {
   "cell_type": "code",
   "execution_count": 63,
   "metadata": {
    "ExecuteTime": {
     "end_time": "2021-03-27T03:55:28.101624Z",
     "start_time": "2021-03-27T03:55:27.999056Z"
    }
   },
   "outputs": [
    {
     "data": {
      "text/plain": [
       "(602, 21)"
      ]
     },
     "execution_count": 63,
     "metadata": {},
     "output_type": "execute_result"
    }
   ],
   "source": [
    "X.shape"
   ]
  },
  {
   "cell_type": "code",
   "execution_count": 64,
   "metadata": {
    "ExecuteTime": {
     "end_time": "2021-03-27T03:55:28.203740Z",
     "start_time": "2021-03-27T03:55:28.101624Z"
    }
   },
   "outputs": [
    {
     "data": {
      "text/plain": [
       "['Marital Status',\n",
       " 'Age',\n",
       " 'More Offers and Discount',\n",
       " 'Unaffordable',\n",
       " 'Good Tracking system',\n",
       " 'Monthly Income',\n",
       " 'Late Delivery',\n",
       " 'Time saving',\n",
       " 'Ease and convenient',\n",
       " 'Self Cooking',\n",
       " 'Delay of delivery person picking up food',\n",
       " 'Occupation',\n",
       " 'Maximum wait time',\n",
       " 'Bad past experience',\n",
       " 'More restaurant choices',\n",
       " 'Good Taste ',\n",
       " 'Good Food quality',\n",
       " 'Order Time',\n",
       " 'Residence in busy location',\n",
       " 'Easy Payment option',\n",
       " 'Freshness ']"
      ]
     },
     "execution_count": 64,
     "metadata": {},
     "output_type": "execute_result"
    }
   ],
   "source": [
    "f_feature"
   ]
  },
  {
   "cell_type": "code",
   "execution_count": 65,
   "metadata": {
    "ExecuteTime": {
     "end_time": "2021-03-27T03:55:28.316125Z",
     "start_time": "2021-03-27T03:55:28.203740Z"
    }
   },
   "outputs": [],
   "source": [
    "Lg=LogisticRegression()"
   ]
  },
  {
   "cell_type": "code",
   "execution_count": 66,
   "metadata": {
    "ExecuteTime": {
     "end_time": "2021-03-27T03:56:21.667640Z",
     "start_time": "2021-03-27T03:55:28.316125Z"
    },
    "code_folding": []
   },
   "outputs": [
    {
     "data": {
      "image/png": "[encoded data removed]",
      "text/plain": [
       "<Figure size 432x288 with 1 Axes>"
      ]
     },
     "metadata": {
      "needs_background": "light"
     },
     "output_type": "display_data"
    }
   ],
   "source": [
    "#\n",
    "plt.figure()\n",
    "training_accuracy = []\n",
    "test_accuracy = []\n",
    "# try n_neighbors from 1 to 10\n",
    "test_size= numpy.arange(0.1, 0.9,0.05)\n",
    "\n",
    "for i in test_size:\n",
    "        t_s=[]\n",
    "        tn_=[]\n",
    "        for j in range(0,50):\n",
    "            X_train, X_test, y_train, y_test = train_test_split(X, y, test_size = i,random_state=np.random.randint(0,100))\n",
    "            Lg.fit(X_train, y_train)\n",
    "            \n",
    "            t_s.append(Lg.score(X_test,y_test))\n",
    "            tn_.append(Lg.score(X_train,y_train))\n",
    "        training_accuracy.append(np.mean(t_s))\n",
    "        test_accuracy.append(np.mean(tn_))\n",
    "\n",
    "\n",
    "    \n",
    "plt.plot(test_size,training_accuracy,label=\"training accuracy\")\n",
    "plt.plot(test_size,test_accuracy,label=\"test accuracy\")\n",
    "plt.ylabel(\"Accuracy\")\n",
    "plt.xlabel(\"test_size\")\n",
    "plt.legend()\n",
    "\n",
    "plt.show()\n",
    "\n",
    "\n"
   ]
  },
  {
   "cell_type": "code",
   "execution_count": 67,
   "metadata": {
    "ExecuteTime": {
     "end_time": "2021-03-27T03:56:21.795609Z",
     "start_time": "2021-03-27T03:56:21.667640Z"
    }
   },
   "outputs": [
    {
     "data": {
      "text/plain": [
       "0.7955801104972375"
      ]
     },
     "execution_count": 67,
     "metadata": {},
     "output_type": "execute_result"
    }
   ],
   "source": [
    "#data split into train and test size \n",
    "X_train,X_test,y_train,y_test=train_test_split(X,y,test_size=0.3)\n",
    "Lg.fit(X_train,y_train)\n",
    "Lg.score(X_test,y_test)"
   ]
  },
  {
   "cell_type": "code",
   "execution_count": 68,
   "metadata": {
    "ExecuteTime": {
     "end_time": "2021-03-27T03:56:21.843604Z",
     "start_time": "2021-03-27T03:56:21.827606Z"
    }
   },
   "outputs": [],
   "source": [
    "y_pred=Lg.predict(X_test)"
   ]
  },
  {
   "cell_type": "code",
   "execution_count": 69,
   "metadata": {
    "ExecuteTime": {
     "end_time": "2021-03-27T03:56:21.963597Z",
     "start_time": "2021-03-27T03:56:21.851604Z"
    }
   },
   "outputs": [
    {
     "data": {
      "text/plain": [
       "array([[74, 23],\n",
       "       [14, 70]], dtype=int64)"
      ]
     },
     "execution_count": 69,
     "metadata": {},
     "output_type": "execute_result"
    }
   ],
   "source": [
    "cf_matrix=confusion_matrix(y_test, y_pred)\n",
    "cf_matrix"
   ]
  },
  {
   "cell_type": "code",
   "execution_count": 70,
   "metadata": {
    "ExecuteTime": {
     "end_time": "2021-03-27T03:56:22.083582Z",
     "start_time": "2021-03-27T03:56:21.963597Z"
    }
   },
   "outputs": [
    {
     "name": "stdout",
     "output_type": "stream",
     "text": [
      "              precision    recall  f1-score   support\n",
      "\n",
      "           0       0.84      0.76      0.80        97\n",
      "           1       0.75      0.83      0.79        84\n",
      "\n",
      "    accuracy                           0.80       181\n",
      "   macro avg       0.80      0.80      0.80       181\n",
      "weighted avg       0.80      0.80      0.80       181\n",
      "\n"
     ]
    }
   ],
   "source": [
    "print(classification_report(y_test,y_pred))"
   ]
  },
  {
   "cell_type": "code",
   "execution_count": 71,
   "metadata": {
    "ExecuteTime": {
     "end_time": "2021-03-27T03:56:22.835682Z",
     "start_time": "2021-03-27T03:56:22.083582Z"
    },
    "scrolled": true
   },
   "outputs": [
    {
     "data": {
      "image/png": "[encoded data removed]",
      "text/plain": [
       "<Figure size 720x432 with 1 Axes>"
      ]
     },
     "metadata": {
      "needs_background": "light"
     },
     "output_type": "display_data"
    }
   ],
   "source": [
    "thresolds = [0.2,0.3,0.4,0.5,0.55,0.6,0.62,0.65,0.7,0.8]\n",
    "plt.figure(figsize=(10,6))\n",
    "for i in thresolds:\n",
    "    y_pred_proba = (Lg.predict_proba(X_test)[:,1]>=i).astype(int)\n",
    "    fpr, tpr, m= metrics.roc_curve(y_test,  y_pred_proba)\n",
    "    auc = metrics.roc_auc_score(y_test, y_pred_proba)\n",
    "    plt.plot(fpr,tpr,label=f\"data 1, auc={auc} thresold={i}\")\n",
    "    plt.legend(loc=4)\n",
    "\n",
    "\n",
    "\n",
    "plt.xlabel('fpr')\n",
    "plt.ylabel('tpr')\n",
    "plt.show()"
   ]
  },
  {
   "cell_type": "code",
   "execution_count": 72,
   "metadata": {
    "ExecuteTime": {
     "end_time": "2021-03-27T03:56:22.851680Z",
     "start_time": "2021-03-27T03:56:22.835682Z"
    }
   },
   "outputs": [
    {
     "data": {
      "text/plain": [
       "'In Knn weighted avg f1-score is good and AUC is great but problems in Knn is not learning something\\nknn just use more memory space for perform operation and mostly features are categorical so noise affect\\non this algorithms. Here we can see if we set thresold 0.65 in Logistics regression we get better model  and here algorithms \\nsomething learn \\n'"
      ]
     },
     "execution_count": 72,
     "metadata": {},
     "output_type": "execute_result"
    }
   ],
   "source": [
    "'''In Knn weighted avg f1-score is good and AUC is great but problems in Knn is not learning something\n",
    "knn just use more memory space for perform operation and mostly features are categorical so noise affect\n",
    "on this algorithms. Here we can see if we set thresold 0.65 in Logistics regression we get better model  and here algorithms \n",
    "something learn \n",
    "'''"
   ]
  },
  {
   "cell_type": "markdown",
   "metadata": {},
   "source": [
    "<b> Cross-Validation </b>"
   ]
  },
  {
   "cell_type": "code",
   "execution_count": 73,
   "metadata": {
    "ExecuteTime": {
     "end_time": "2021-03-27T03:56:23.763771Z",
     "start_time": "2021-03-27T03:56:22.851680Z"
    }
   },
   "outputs": [
    {
     "name": "stdout",
     "output_type": "stream",
     "text": [
      "List of possible accuracy: [0.68852459 0.85245902 0.88333333 0.78333333 0.76666667 0.83333333\n",
      " 0.8        0.78333333 0.85       0.81666667]\n",
      "\n",
      "Maximum Accuracy That can be obtained from this model is: 88.33333333333333 %\n",
      "\n",
      "Minimum Accuracy: 78.0 %\n",
      "\n",
      "Average Accuracy That can be obtained from this model is:: 0.8057650273224043\n",
      "\n",
      "Standard Deviation is: 0.05229374723502377\n"
     ]
    }
   ],
   "source": [
    "score=cross_val_score(Lg,X,y,cv=10)\n",
    "print('List of possible accuracy:', score) \n",
    "print('\\nMaximum Accuracy That can be obtained from this model is:', \n",
    "      max(score)*100, '%') \n",
    "print('\\nMinimum Accuracy:', \n",
    "      min(lst_accu_stratified)*100, '%') \n",
    "print('\\nAverage Accuracy That can be obtained from this model is::',np.mean(score)) \n",
    "print('\\nStandard Deviation is:',np.std(score)) "
   ]
  },
  {
   "cell_type": "code",
   "execution_count": 74,
   "metadata": {
    "ExecuteTime": {
     "end_time": "2021-03-27T03:56:24.684778Z",
     "start_time": "2021-03-27T03:56:23.763771Z"
    }
   },
   "outputs": [
    {
     "name": "stdout",
     "output_type": "stream",
     "text": [
      "List of possible accuracy: [0.7647058823529411, 0.7647058823529411, 0.86, 0.68, 0.84, 0.78, 0.82, 0.74, 0.8, 0.78, 0.9, 0.88]\n",
      "\n",
      "Maximum Accuracy That can be obtained from this model is: 90.0 %\n",
      "\n",
      "Minimum Accuracy: 68.0 %\n",
      "\n",
      "Average Accuracy That can be obtained from this model is:: 0.8007843137254903\n",
      "\n",
      " Median Accuracy That can be obtained from this model is:: 0.79\n",
      "\n",
      "Standard Deviation is: 0.060058282598883996\n"
     ]
    }
   ],
   "source": [
    "import numpy as np\n",
    "from sklearn.model_selection import StratifiedKFold \n",
    "skf = StratifiedKFold(n_splits=12, shuffle=True, random_state=1) \n",
    "lst_accu_stratified = [] \n",
    "\n",
    "for train_index, test_index in skf.split(X, y): \n",
    "    x_train_fold, x_test_fold = X.loc[train_index,:], X.loc[test_index,:] \n",
    "    y_train_fold, y_test_fold = y[train_index], y[test_index] \n",
    "    Lg.fit(x_train_fold, y_train_fold) \n",
    "    lst_accu_stratified.append(Lg.score(x_test_fold, y_test_fold))\n",
    "    \n",
    "    \n",
    "print('List of possible accuracy:', lst_accu_stratified) \n",
    "print('\\nMaximum Accuracy That can be obtained from this model is:', \n",
    "      max(lst_accu_stratified)*100, '%') \n",
    "print('\\nMinimum Accuracy:', \n",
    "      min(lst_accu_stratified)*100, '%') \n",
    "print('\\nAverage Accuracy That can be obtained from this model is::',np.mean(lst_accu_stratified)) \n",
    "print('\\n Median Accuracy That can be obtained from this model is::',np.median(lst_accu_stratified)) \n",
    "print('\\nStandard Deviation is:',np.std(lst_accu_stratified)) "
   ]
  },
  {
   "cell_type": "code",
   "execution_count": 75,
   "metadata": {
    "ExecuteTime": {
     "end_time": "2021-03-27T03:56:25.038193Z",
     "start_time": "2021-03-27T03:56:24.684778Z"
    }
   },
   "outputs": [
    {
     "data": {
      "text/plain": [
       "array([0.75138122, 0.79005525, 0.74585635, 0.80110497, 0.79558011])"
      ]
     },
     "execution_count": 75,
     "metadata": {},
     "output_type": "execute_result"
    }
   ],
   "source": [
    "from sklearn.model_selection import ShuffleSplit\n",
    "cv = ShuffleSplit(n_splits=5, test_size=0.3, random_state=0)\n",
    "cross_val_score(Lg, X, y, cv=cv)"
   ]
  },
  {
   "cell_type": "markdown",
   "metadata": {},
   "source": [
    "# DecisionTree (feature selection with both method)  "
   ]
  },
  {
   "cell_type": "code",
   "execution_count": 76,
   "metadata": {
    "ExecuteTime": {
     "end_time": "2021-03-27T03:56:25.086186Z",
     "start_time": "2021-03-27T03:56:25.038193Z"
    }
   },
   "outputs": [
    {
     "data": {
      "text/plain": [
       "1    301\n",
       "0     87\n",
       "Name: Output, dtype: int64"
      ]
     },
     "execution_count": 76,
     "metadata": {},
     "output_type": "execute_result"
    }
   ],
   "source": [
    "X=fd_dlvry[f_feature]\n",
    "y=fd_dlvry['Output']\n",
    "nm=RandomOverSampler() # try to making data balanced \n",
    "X,y=nm.fit_sample(X,y)\n",
    "fd_dlvry['Output'].value_counts()"
   ]
  },
  {
   "cell_type": "code",
   "execution_count": 77,
   "metadata": {
    "ExecuteTime": {
     "end_time": "2021-03-27T03:56:25.222171Z",
     "start_time": "2021-03-27T03:56:25.086186Z"
    }
   },
   "outputs": [
    {
     "data": {
      "text/plain": [
       "DecisionTreeClassifier(max_depth=6, min_samples_leaf=2, min_samples_split=4,\n",
       "                       random_state=0)"
      ]
     },
     "execution_count": 77,
     "metadata": {},
     "output_type": "execute_result"
    }
   ],
   "source": [
    "X_train, X_test, y_train, y_test = train_test_split(X, y, test_size = 0.33)\n",
    "clf=DecisionTreeClassifier(random_state=0,max_depth=6,min_samples_leaf=2,min_samples_split=4)\n",
    "clf.fit(X,y)"
   ]
  },
  {
   "cell_type": "code",
   "execution_count": 78,
   "metadata": {
    "ExecuteTime": {
     "end_time": "2021-03-27T03:56:25.278170Z",
     "start_time": "2021-03-27T03:56:25.222171Z"
    }
   },
   "outputs": [
    {
     "data": {
      "text/plain": [
       "0.9396984924623115"
      ]
     },
     "execution_count": 78,
     "metadata": {},
     "output_type": "execute_result"
    }
   ],
   "source": [
    "clf.score(X_test,y_test)"
   ]
  },
  {
   "cell_type": "code",
   "execution_count": 79,
   "metadata": {
    "ExecuteTime": {
     "end_time": "2021-03-27T03:56:25.398174Z",
     "start_time": "2021-03-27T03:56:25.278170Z"
    }
   },
   "outputs": [
    {
     "data": {
      "text/plain": [
       "array([1, 1, 1, 1, 0, 0, 0, 1, 0, 1, 0, 0, 0, 1, 1, 1, 1, 1, 0, 1, 1, 0,\n",
       "       1, 0, 1, 0, 0, 0, 0, 0, 1, 0, 0, 1, 0, 0, 0, 0, 0, 0, 0, 1, 1, 1,\n",
       "       0, 1, 1, 1, 0, 1, 1, 1, 1, 0, 1, 0, 0, 0, 0, 0, 1, 1, 0, 1, 1, 1,\n",
       "       0, 0, 0, 0, 1, 1, 0, 1, 1, 0, 0, 0, 1, 0, 1, 0, 0, 0, 1, 0, 1, 1,\n",
       "       1, 1, 0, 1, 1, 1, 1, 1, 0, 0, 1, 0, 0, 0, 1, 0, 0, 1, 0, 1, 1, 1,\n",
       "       1, 1, 1, 1, 0, 1, 0, 1, 1, 0, 1, 0, 1, 0, 0, 1, 1, 0, 1, 0, 0, 1,\n",
       "       1, 1, 1, 1, 0, 1, 0, 1, 0, 0, 0, 1, 1, 0, 1, 0, 0, 0, 1, 1, 1, 1,\n",
       "       0, 1, 1, 1, 0, 0, 0, 1, 0, 1, 0, 1, 0, 0, 1, 1, 1, 0, 0, 0, 1, 1,\n",
       "       1, 0, 1, 0, 0, 1, 0, 0, 1, 0, 1, 1, 0, 1, 1, 0, 1, 0, 0, 0, 0, 1,\n",
       "       1])"
      ]
     },
     "execution_count": 79,
     "metadata": {},
     "output_type": "execute_result"
    }
   ],
   "source": [
    "y_pred=clf.predict(X_test)\n",
    "y_pred"
   ]
  },
  {
   "cell_type": "code",
   "execution_count": 80,
   "metadata": {
    "ExecuteTime": {
     "end_time": "2021-03-27T03:56:25.494146Z",
     "start_time": "2021-03-27T03:56:25.398174Z"
    }
   },
   "outputs": [
    {
     "name": "stdout",
     "output_type": "stream",
     "text": [
      "[[90  6]\n",
      " [ 6 97]]\n"
     ]
    }
   ],
   "source": [
    "print(confusion_matrix(y_test,y_pred))"
   ]
  },
  {
   "cell_type": "code",
   "execution_count": 81,
   "metadata": {
    "ExecuteTime": {
     "end_time": "2021-03-27T03:56:25.622136Z",
     "start_time": "2021-03-27T03:56:25.494146Z"
    },
    "scrolled": true
   },
   "outputs": [
    {
     "name": "stdout",
     "output_type": "stream",
     "text": [
      "              precision    recall  f1-score   support\n",
      "\n",
      "           0       0.94      0.94      0.94        96\n",
      "           1       0.94      0.94      0.94       103\n",
      "\n",
      "    accuracy                           0.94       199\n",
      "   macro avg       0.94      0.94      0.94       199\n",
      "weighted avg       0.94      0.94      0.94       199\n",
      "\n"
     ]
    }
   ],
   "source": [
    "print(classification_report(y_test,y_pred))"
   ]
  },
  {
   "cell_type": "code",
   "execution_count": 82,
   "metadata": {
    "ExecuteTime": {
     "end_time": "2021-03-27T03:56:26.045248Z",
     "start_time": "2021-03-27T03:56:25.622136Z"
    }
   },
   "outputs": [
    {
     "data": {
      "text/plain": [
       "array([0.92156863, 0.90196078, 0.84      , 0.92      , 0.92      ,\n",
       "       0.86      , 0.88      , 0.96      , 0.92      , 0.98      ,\n",
       "       0.94      , 1.        ])"
      ]
     },
     "execution_count": 82,
     "metadata": {},
     "output_type": "execute_result"
    }
   ],
   "source": [
    "cross_val_score(clf, X, y, cv=12)"
   ]
  },
  {
   "cell_type": "code",
   "execution_count": 83,
   "metadata": {
    "ExecuteTime": {
     "end_time": "2021-03-27T03:56:26.260724Z",
     "start_time": "2021-03-27T03:56:26.045248Z"
    }
   },
   "outputs": [
    {
     "name": "stdout",
     "output_type": "stream",
     "text": [
      "List of possible accuracy: [0.7843137254901961, 0.7843137254901961, 0.84, 0.8, 0.84, 0.8, 0.86, 0.76, 0.84, 0.72, 0.84, 0.84]\n",
      "\n",
      "Maximum Accuracy That can be obtained from this model is: 86.0 %\n",
      "\n",
      "Minimum Accuracy: 72.0 %\n",
      "\n",
      "Average Accuracy That can be obtained from this model is:: 0.8090522875816993\n",
      "\n",
      " Median Accuracy That can be obtained from this model is:: 0.8200000000000001\n",
      "\n",
      "Standard Deviation is: 0.039904878033531585\n"
     ]
    }
   ],
   "source": [
    "lst_accu_stratified = [] \n",
    "\n",
    "for train_index, test_index in skf.split(X, y): \n",
    "    x_train_fold, x_test_fold = X.loc[train_index,:], X.loc[test_index,:] \n",
    "    y_train_fold, y_test_fold = y[train_index], y[test_index] \n",
    "    clf.fit(x_train_fold, y_train_fold) \n",
    "    lst_accu_stratified.append(Lg.score(x_test_fold, y_test_fold))\n",
    "    \n",
    "    \n",
    "print('List of possible accuracy:', lst_accu_stratified) \n",
    "print('\\nMaximum Accuracy That can be obtained from this model is:', \n",
    "      max(lst_accu_stratified)*100, '%') \n",
    "print('\\nMinimum Accuracy:', \n",
    "      min(lst_accu_stratified)*100, '%') \n",
    "print('\\nAverage Accuracy That can be obtained from this model is::',np.mean(lst_accu_stratified)) \n",
    "print('\\n Median Accuracy That can be obtained from this model is::',np.median(lst_accu_stratified)) \n",
    "print('\\nStandard Deviation is:',np.std(lst_accu_stratified)) "
   ]
  },
  {
   "cell_type": "code",
   "execution_count": 84,
   "metadata": {
    "ExecuteTime": {
     "end_time": "2021-03-27T03:56:31.050893Z",
     "start_time": "2021-03-27T03:56:26.260724Z"
    }
   },
   "outputs": [
    {
     "data": {
      "text/plain": [
       "'gini.png'"
      ]
     },
     "execution_count": 84,
     "metadata": {},
     "output_type": "execute_result"
    }
   ],
   "source": [
    "import graphviz\n",
    "import sklearn.tree as tree\n",
    "# DOT data\n",
    "dot_data = tree.export_graphviz(clf, out_file=None, \n",
    "                                feature_names=X.columns,  \n",
    "                                class_names='01',\n",
    "                                filled=True)\n",
    "\n",
    "# # Draw graph\n",
    "graph = graphviz.Source(dot_data,format=\"png\") \n",
    "graph.render('gini')\n",
    "# graph"
   ]
  },
  {
   "cell_type": "markdown",
   "metadata": {},
   "source": [
    "# Feature selection with Decision Tree "
   ]
  },
  {
   "cell_type": "code",
   "execution_count": 85,
   "metadata": {
    "ExecuteTime": {
     "end_time": "2021-03-27T03:56:31.114887Z",
     "start_time": "2021-03-27T03:56:31.050893Z"
    }
   },
   "outputs": [],
   "source": [
    "fd_dlvry=pd.read_csv('../../data/Banglore_food_delivery/onlinedeliverydata.csv')\n",
    "\n",
    "fd_dlvry.drop(['Pin code','longitude','latitude','Reviews'],axis=1,inplace=True)\n",
    "\n",
    "fd_dlvry['Output']=fd_dlvry['Output'].replace({'Yes':1,'No':0})"
   ]
  },
  {
   "cell_type": "code",
   "execution_count": 86,
   "metadata": {
    "ExecuteTime": {
     "end_time": "2021-03-27T03:56:31.258734Z",
     "start_time": "2021-03-27T03:56:31.114887Z"
    }
   },
   "outputs": [
    {
     "data": {
      "text/plain": [
       "(388, 223)"
      ]
     },
     "execution_count": 86,
     "metadata": {},
     "output_type": "execute_result"
    }
   ],
   "source": [
    "fd_ori=fd_dlvry.copy(deep=True)\n",
    "df=pd.get_dummies(fd_dlvry)\n",
    "df.shape"
   ]
  },
  {
   "cell_type": "code",
   "execution_count": 87,
   "metadata": {
    "ExecuteTime": {
     "end_time": "2021-03-27T03:56:31.370725Z",
     "start_time": "2021-03-27T03:56:31.258734Z"
    }
   },
   "outputs": [],
   "source": [
    "l1=[]\n",
    "for i in df.columns:\n",
    "    if(i!='Output'):\n",
    "        l1.append(i)\n",
    "    "
   ]
  },
  {
   "cell_type": "code",
   "execution_count": 88,
   "metadata": {
    "ExecuteTime": {
     "end_time": "2021-03-27T03:56:31.690751Z",
     "start_time": "2021-03-27T03:56:31.370725Z"
    }
   },
   "outputs": [],
   "source": [
    "X=df[l1]\n",
    "y=df['Output']\n",
    "nm=RandomOverSampler()\n",
    "X,y=nm.fit_sample(X,y)\n"
   ]
  },
  {
   "cell_type": "code",
   "execution_count": 89,
   "metadata": {
    "ExecuteTime": {
     "end_time": "2021-03-27T03:56:31.746745Z",
     "start_time": "2021-03-27T03:56:31.690751Z"
    }
   },
   "outputs": [
    {
     "data": {
      "text/plain": [
       "DecisionTreeClassifier(max_depth=6, min_samples_leaf=2, min_samples_split=4,\n",
       "                       random_state=0)"
      ]
     },
     "execution_count": 89,
     "metadata": {},
     "output_type": "execute_result"
    }
   ],
   "source": [
    "X_train, X_test, y_train, y_test = train_test_split(X, y, test_size = 0.33)\n",
    "clf=DecisionTreeClassifier(random_state=0,max_depth=6,min_samples_leaf=2,min_samples_split=4)\n",
    "clf.fit(X,y)"
   ]
  },
  {
   "cell_type": "code",
   "execution_count": 90,
   "metadata": {
    "ExecuteTime": {
     "end_time": "2021-03-27T03:56:31.804741Z",
     "start_time": "2021-03-27T03:56:31.746745Z"
    }
   },
   "outputs": [
    {
     "data": {
      "text/plain": [
       "0.9748743718592965"
      ]
     },
     "execution_count": 90,
     "metadata": {},
     "output_type": "execute_result"
    }
   ],
   "source": [
    "clf.score(X_test,y_test)"
   ]
  },
  {
   "cell_type": "code",
   "execution_count": 91,
   "metadata": {
    "ExecuteTime": {
     "end_time": "2021-03-27T03:56:32.004725Z",
     "start_time": "2021-03-27T03:56:31.804741Z"
    }
   },
   "outputs": [
    {
     "data": {
      "text/plain": [
       "array([0.        , 0.        , 0.01185431, 0.        , 0.        ,\n",
       "       0.        , 0.        , 0.04374258, 0.        , 0.        ,\n",
       "       0.        , 0.00228767, 0.        , 0.        , 0.        ,\n",
       "       0.        , 0.        , 0.        , 0.01385569, 0.        ,\n",
       "       0.        , 0.        , 0.        , 0.        , 0.        ,\n",
       "       0.        , 0.        , 0.        , 0.        , 0.        ,\n",
       "       0.        , 0.        , 0.        , 0.        , 0.        ,\n",
       "       0.        , 0.        , 0.        , 0.        , 0.        ,\n",
       "       0.00076154, 0.        , 0.        , 0.        , 0.43024846,\n",
       "       0.        , 0.        , 0.        , 0.        , 0.19570682,\n",
       "       0.        , 0.02786269, 0.        , 0.        , 0.        ,\n",
       "       0.        , 0.        , 0.        , 0.00216689, 0.        ,\n",
       "       0.        , 0.        , 0.        , 0.02390619, 0.        ,\n",
       "       0.        , 0.        , 0.        , 0.        , 0.        ,\n",
       "       0.03377331, 0.        , 0.        , 0.        , 0.        ,\n",
       "       0.        , 0.        , 0.        , 0.        , 0.        ,\n",
       "       0.        , 0.        , 0.        , 0.        , 0.        ,\n",
       "       0.        , 0.        , 0.        , 0.        , 0.        ,\n",
       "       0.        , 0.00064394, 0.        , 0.        , 0.        ,\n",
       "       0.        , 0.        , 0.        , 0.        , 0.        ,\n",
       "       0.        , 0.        , 0.        , 0.        , 0.        ,\n",
       "       0.        , 0.        , 0.        , 0.04889996, 0.        ,\n",
       "       0.        , 0.04425715, 0.        , 0.        , 0.        ,\n",
       "       0.        , 0.        , 0.        , 0.        , 0.        ,\n",
       "       0.        , 0.        , 0.        , 0.        , 0.02831267,\n",
       "       0.        , 0.        , 0.        , 0.        , 0.        ,\n",
       "       0.        , 0.        , 0.00586978, 0.        , 0.        ,\n",
       "       0.        , 0.        , 0.        , 0.        , 0.        ,\n",
       "       0.        , 0.        , 0.        , 0.        , 0.        ,\n",
       "       0.        , 0.        , 0.        , 0.        , 0.        ,\n",
       "       0.        , 0.        , 0.        , 0.        , 0.        ,\n",
       "       0.0124188 , 0.        , 0.        , 0.        , 0.        ,\n",
       "       0.        , 0.        , 0.        , 0.        , 0.        ,\n",
       "       0.        , 0.        , 0.        , 0.        , 0.        ,\n",
       "       0.        , 0.        , 0.        , 0.        , 0.        ,\n",
       "       0.        , 0.        , 0.        , 0.        , 0.        ,\n",
       "       0.        , 0.        , 0.        , 0.        , 0.        ,\n",
       "       0.        , 0.03115814, 0.01502521, 0.        , 0.        ,\n",
       "       0.        , 0.        , 0.        , 0.        , 0.01086645,\n",
       "       0.        , 0.        , 0.        , 0.        , 0.001685  ,\n",
       "       0.        , 0.        , 0.        , 0.        , 0.        ,\n",
       "       0.        , 0.        , 0.        , 0.        , 0.        ,\n",
       "       0.        , 0.        , 0.        , 0.        , 0.        ,\n",
       "       0.        , 0.        , 0.        , 0.00503768, 0.        ,\n",
       "       0.        , 0.00965907])"
      ]
     },
     "execution_count": 91,
     "metadata": {},
     "output_type": "execute_result"
    }
   ],
   "source": [
    "clf.feature_importances_"
   ]
  },
  {
   "cell_type": "code",
   "execution_count": 92,
   "metadata": {
    "ExecuteTime": {
     "end_time": "2021-03-27T03:56:32.302505Z",
     "start_time": "2021-03-27T03:56:32.004725Z"
    }
   },
   "outputs": [],
   "source": [
    "def feature_extract(clf,l1):\n",
    "    values = clf.feature_importances_\n",
    "    importances = [(l1[i], values[i]) for i in range(len(l1))]\n",
    "    importances.sort(reverse=True, key=lambda x:x[1])\n",
    "    l3=[]\n",
    "    for i in importances[:12]:\n",
    "        l3.append(i[0])\n",
    "    return l3\n",
    "\n",
    "    "
   ]
  },
  {
   "cell_type": "code",
   "execution_count": 93,
   "metadata": {
    "ExecuteTime": {
     "end_time": "2021-03-27T03:56:32.474373Z",
     "start_time": "2021-03-27T03:56:32.302505Z"
    }
   },
   "outputs": [
    {
     "data": {
      "text/plain": [
       "['Ease and convenient_Disagree',\n",
       " 'Time saving_Disagree',\n",
       " 'Unaffordable_Agree',\n",
       " 'Unaffordable_Strongly agree',\n",
       " 'Occupation_Employee',\n",
       " 'Good Food quality_Neutral',\n",
       " 'Less Delivery time_Very Important',\n",
       " 'Delay of delivery person picking up food_Disagree',\n",
       " 'Time saving_Strongly agree',\n",
       " 'More Offers and Discount_Agree',\n",
       " 'High Quality of package_Important',\n",
       " 'Educational Qualifications_Post Graduate']"
      ]
     },
     "execution_count": 93,
     "metadata": {},
     "output_type": "execute_result"
    }
   ],
   "source": [
    "feature_extract(clf,l1)"
   ]
  },
  {
   "cell_type": "code",
   "execution_count": 94,
   "metadata": {
    "ExecuteTime": {
     "end_time": "2021-03-27T03:56:32.762215Z",
     "start_time": "2021-03-27T03:56:32.479197Z"
    }
   },
   "outputs": [],
   "source": [
    "X=df[l1]\n",
    "y=df['Output']\n",
    "nm=RandomOverSampler()\n",
    "X,y=nm.fit_sample(X,y)\n"
   ]
  },
  {
   "cell_type": "code",
   "execution_count": 95,
   "metadata": {
    "ExecuteTime": {
     "end_time": "2021-03-27T03:56:32.810210Z",
     "start_time": "2021-03-27T03:56:32.762215Z"
    }
   },
   "outputs": [
    {
     "data": {
      "text/plain": [
       "DecisionTreeClassifier(max_depth=6, min_samples_leaf=2, min_samples_split=4,\n",
       "                       random_state=0)"
      ]
     },
     "execution_count": 95,
     "metadata": {},
     "output_type": "execute_result"
    }
   ],
   "source": [
    "X_train, X_test, y_train, y_test = train_test_split(X, y, test_size = 0.33)\n",
    "clf=DecisionTreeClassifier(random_state=0,max_depth=6,min_samples_leaf=2,min_samples_split=4)\n",
    "clf.fit(X,y)"
   ]
  },
  {
   "cell_type": "code",
   "execution_count": 96,
   "metadata": {
    "ExecuteTime": {
     "end_time": "2021-03-27T03:56:32.942707Z",
     "start_time": "2021-03-27T03:56:32.813943Z"
    }
   },
   "outputs": [
    {
     "data": {
      "text/plain": [
       "0.9849246231155779"
      ]
     },
     "execution_count": 96,
     "metadata": {},
     "output_type": "execute_result"
    }
   ],
   "source": [
    "clf.score(X_test,y_test)"
   ]
  },
  {
   "cell_type": "code",
   "execution_count": 97,
   "metadata": {
    "ExecuteTime": {
     "end_time": "2021-03-27T03:56:33.078696Z",
     "start_time": "2021-03-27T03:56:32.942707Z"
    }
   },
   "outputs": [
    {
     "data": {
      "text/plain": [
       "array([1, 1, 1, 1, 1, 0, 1, 0, 0, 0, 1, 0, 0, 1, 0, 0, 1, 0, 0, 1, 1, 0,\n",
       "       1, 1, 1, 1, 0, 0, 1, 1, 1, 1, 1, 0, 0, 1, 0, 0, 0, 1, 1, 1, 1, 0,\n",
       "       1, 1, 0, 0, 0, 1, 1, 0, 0, 0, 0, 1, 1, 1, 0, 1, 0, 0, 0, 0, 0, 1,\n",
       "       1, 0, 0, 0, 1, 0, 1, 1, 1, 0, 0, 0, 1, 1, 1, 0, 0, 0, 0, 0, 1, 0,\n",
       "       0, 0, 1, 1, 1, 0, 1, 1, 1, 0, 0, 1, 0, 1, 0, 1, 1, 0, 1, 1, 0, 1,\n",
       "       0, 1, 0, 0, 0, 1, 1, 1, 1, 0, 1, 1, 0, 1, 0, 0, 0, 0, 1, 1, 1, 0,\n",
       "       0, 0, 1, 1, 0, 1, 0, 0, 1, 1, 0, 0, 0, 0, 1, 1, 0, 0, 1, 0, 1, 0,\n",
       "       1, 1, 0, 0, 0, 1, 0, 0, 0, 1, 1, 1, 0, 1, 1, 0, 1, 1, 1, 0, 1, 0,\n",
       "       0, 0, 0, 1, 0, 0, 0, 0, 1, 1, 1, 1, 0, 1, 1, 0, 1, 1, 1, 1, 0, 0,\n",
       "       1], dtype=int64)"
      ]
     },
     "execution_count": 97,
     "metadata": {},
     "output_type": "execute_result"
    }
   ],
   "source": [
    "y_pred=clf.predict(X_test)\n",
    "y_pred"
   ]
  },
  {
   "cell_type": "code",
   "execution_count": 98,
   "metadata": {
    "ExecuteTime": {
     "end_time": "2021-03-27T03:56:33.182688Z",
     "start_time": "2021-03-27T03:56:33.078696Z"
    }
   },
   "outputs": [
    {
     "name": "stdout",
     "output_type": "stream",
     "text": [
      "[[98  2]\n",
      " [ 1 98]]\n"
     ]
    }
   ],
   "source": [
    "print(confusion_matrix(y_test,y_pred))"
   ]
  },
  {
   "cell_type": "code",
   "execution_count": 99,
   "metadata": {
    "ExecuteTime": {
     "end_time": "2021-03-27T03:56:33.278678Z",
     "start_time": "2021-03-27T03:56:33.182688Z"
    }
   },
   "outputs": [
    {
     "name": "stdout",
     "output_type": "stream",
     "text": [
      "              precision    recall  f1-score   support\n",
      "\n",
      "           0       0.99      0.98      0.98       100\n",
      "           1       0.98      0.99      0.98        99\n",
      "\n",
      "    accuracy                           0.98       199\n",
      "   macro avg       0.98      0.98      0.98       199\n",
      "weighted avg       0.98      0.98      0.98       199\n",
      "\n"
     ]
    }
   ],
   "source": [
    "print(classification_report(y_test,y_pred))"
   ]
  },
  {
   "cell_type": "code",
   "execution_count": 100,
   "metadata": {
    "ExecuteTime": {
     "end_time": "2021-03-27T03:56:33.805139Z",
     "start_time": "2021-03-27T03:56:33.278678Z"
    }
   },
   "outputs": [
    {
     "name": "stdout",
     "output_type": "stream",
     "text": [
      "List of possible accuracy: [0.9607843137254902, 0.8823529411764706, 1.0, 0.96, 0.94, 0.9, 0.88, 0.96, 0.94, 0.88, 0.98, 0.94]\n",
      "\n",
      "Maximum Accuracy That can be obtained from this model is: 100.0 %\n",
      "\n",
      "Minimum Accuracy: 88.0 %\n",
      "\n",
      "Average Accuracy That can be obtained from this model is:: 0.9352614379084967\n",
      "\n",
      " Median Accuracy That can be obtained from this model is:: 0.94\n",
      "\n",
      "Standard Deviation is: 0.03903601268882222\n"
     ]
    }
   ],
   "source": [
    "lst_accu_stratified = [] \n",
    "x=0\n",
    "feature_common=pd.DataFrame()\n",
    "for train_index, test_index in skf.split(X, y): \n",
    "    x_train_fold, x_test_fold = X.loc[train_index,:], X.loc[test_index,:] \n",
    "    y_train_fold, y_test_fold = y[train_index], y[test_index] \n",
    "    clf.fit(x_train_fold, y_train_fold)\n",
    "    feature_common[x]=feature_extract(clf,l1)\n",
    "    x+=1\n",
    "    lst_accu_stratified.append(clf.score(x_test_fold, y_test_fold))\n",
    "    \n",
    "    \n",
    "print('List of possible accuracy:', lst_accu_stratified) \n",
    "print('\\nMaximum Accuracy That can be obtained from this model is:', \n",
    "      max(lst_accu_stratified)*100, '%') \n",
    "print('\\nMinimum Accuracy:', \n",
    "      min(lst_accu_stratified)*100, '%') \n",
    "print('\\nAverage Accuracy That can be obtained from this model is::',np.mean(lst_accu_stratified)) \n",
    "print('\\n Median Accuracy That can be obtained from this model is::',np.median(lst_accu_stratified)) \n",
    "print('\\nStandard Deviation is:',np.std(lst_accu_stratified)) "
   ]
  },
  {
   "cell_type": "code",
   "execution_count": 101,
   "metadata": {
    "ExecuteTime": {
     "end_time": "2021-03-27T03:56:33.869132Z",
     "start_time": "2021-03-27T03:56:33.805139Z"
    },
    "scrolled": true
   },
   "outputs": [
    {
     "data": {
      "text/html": [
       "<div>\n",
       "<style scoped>\n",
       "    .dataframe tbody tr th:only-of-type {\n",
       "        vertical-align: middle;\n",
       "    }\n",
       "\n",
       "    .dataframe tbody tr th {\n",
       "        vertical-align: top;\n",
       "    }\n",
       "\n",
       "    .dataframe thead th {\n",
       "        text-align: right;\n",
       "    }\n",
       "</style>\n",
       "<table border=\"1\" class=\"dataframe\">\n",
       "  <thead>\n",
       "    <tr style=\"text-align: right;\">\n",
       "      <th></th>\n",
       "      <th>0</th>\n",
       "      <th>1</th>\n",
       "      <th>2</th>\n",
       "      <th>3</th>\n",
       "      <th>4</th>\n",
       "      <th>5</th>\n",
       "      <th>6</th>\n",
       "      <th>7</th>\n",
       "      <th>8</th>\n",
       "      <th>9</th>\n",
       "      <th>10</th>\n",
       "      <th>11</th>\n",
       "    </tr>\n",
       "  </thead>\n",
       "  <tbody>\n",
       "    <tr>\n",
       "      <th>0</th>\n",
       "      <td>Ease and convenient_Disagree</td>\n",
       "      <td>Ease and convenient_Disagree</td>\n",
       "      <td>Ease and convenient_Disagree</td>\n",
       "      <td>Ease and convenient_Disagree</td>\n",
       "      <td>Ease and convenient_Disagree</td>\n",
       "      <td>Ease and convenient_Disagree</td>\n",
       "      <td>Ease and convenient_Disagree</td>\n",
       "      <td>Ease and convenient_Disagree</td>\n",
       "      <td>Ease and convenient_Disagree</td>\n",
       "      <td>Ease and convenient_Disagree</td>\n",
       "      <td>Ease and convenient_Disagree</td>\n",
       "      <td>Ease and convenient_Disagree</td>\n",
       "    </tr>\n",
       "    <tr>\n",
       "      <th>1</th>\n",
       "      <td>More restaurant choices_Disagree</td>\n",
       "      <td>More restaurant choices_Disagree</td>\n",
       "      <td>More restaurant choices_Disagree</td>\n",
       "      <td>More restaurant choices_Disagree</td>\n",
       "      <td>More restaurant choices_Disagree</td>\n",
       "      <td>More restaurant choices_Disagree</td>\n",
       "      <td>More restaurant choices_Disagree</td>\n",
       "      <td>More restaurant choices_Disagree</td>\n",
       "      <td>More restaurant choices_Disagree</td>\n",
       "      <td>More restaurant choices_Disagree</td>\n",
       "      <td>More restaurant choices_Disagree</td>\n",
       "      <td>More restaurant choices_Disagree</td>\n",
       "    </tr>\n",
       "    <tr>\n",
       "      <th>2</th>\n",
       "      <td>Unaffordable_Agree</td>\n",
       "      <td>Unaffordable_Agree</td>\n",
       "      <td>Unaffordable_Agree</td>\n",
       "      <td>Unaffordable_Agree</td>\n",
       "      <td>Unaffordable_Agree</td>\n",
       "      <td>Unaffordable_Agree</td>\n",
       "      <td>Unaffordable_Agree</td>\n",
       "      <td>Unaffordable_Agree</td>\n",
       "      <td>Unaffordable_Agree</td>\n",
       "      <td>Unaffordable_Agree</td>\n",
       "      <td>High Quality of package_Very Important</td>\n",
       "      <td>Unaffordable_Agree</td>\n",
       "    </tr>\n",
       "    <tr>\n",
       "      <th>3</th>\n",
       "      <td>High Quality of package_Very Important</td>\n",
       "      <td>Occupation_Student</td>\n",
       "      <td>High Quality of package_Very Important</td>\n",
       "      <td>High Quality of package_Very Important</td>\n",
       "      <td>Politeness_Very Important</td>\n",
       "      <td>High Quality of package_Very Important</td>\n",
       "      <td>Missing item_Neutral</td>\n",
       "      <td>Occupation_Student</td>\n",
       "      <td>High Quality of package_Very Important</td>\n",
       "      <td>High Quality of package_Very Important</td>\n",
       "      <td>Unaffordable_Agree</td>\n",
       "      <td>Occupation_Student</td>\n",
       "    </tr>\n",
       "    <tr>\n",
       "      <th>4</th>\n",
       "      <td>Occupation_Student</td>\n",
       "      <td>High Quality of package_Very Important</td>\n",
       "      <td>Occupation_Student</td>\n",
       "      <td>Occupation_Student</td>\n",
       "      <td>Age</td>\n",
       "      <td>Occupation_Student</td>\n",
       "      <td>Occupation_Student</td>\n",
       "      <td>High Quality of package_Very Important</td>\n",
       "      <td>Occupation_Student</td>\n",
       "      <td>Occupation_Student</td>\n",
       "      <td>Occupation_Student</td>\n",
       "      <td>Missing item_Neutral</td>\n",
       "    </tr>\n",
       "    <tr>\n",
       "      <th>5</th>\n",
       "      <td>Unavailability_Disagree</td>\n",
       "      <td>Unavailability_Disagree</td>\n",
       "      <td>Unavailability_Disagree</td>\n",
       "      <td>Marital Status_Prefer not to say</td>\n",
       "      <td>Maximum wait time_30 minutes</td>\n",
       "      <td>Unavailability_Disagree</td>\n",
       "      <td>Perference(P2)_ Sweets</td>\n",
       "      <td>Unavailability_Disagree</td>\n",
       "      <td>Unavailability_Disagree</td>\n",
       "      <td>Marital Status_Prefer not to say</td>\n",
       "      <td>Unavailability_Disagree</td>\n",
       "      <td>Perference(P2)_ Sweets</td>\n",
       "    </tr>\n",
       "    <tr>\n",
       "      <th>6</th>\n",
       "      <td>Perference(P2)_ Veg foods (Breakfast / Lunch /...</td>\n",
       "      <td>Marital Status_Prefer not to say</td>\n",
       "      <td>Marital Status_Prefer not to say</td>\n",
       "      <td>Unavailability_Disagree</td>\n",
       "      <td>Unavailability_Disagree</td>\n",
       "      <td>Marital Status_Prefer not to say</td>\n",
       "      <td>Unavailability_Disagree</td>\n",
       "      <td>Marital Status_Prefer not to say</td>\n",
       "      <td>Marital Status_Prefer not to say</td>\n",
       "      <td>Unavailability_Disagree</td>\n",
       "      <td>Marital Status_Prefer not to say</td>\n",
       "      <td>Unavailability_Disagree</td>\n",
       "    </tr>\n",
       "    <tr>\n",
       "      <th>7</th>\n",
       "      <td>Marital Status_Prefer not to say</td>\n",
       "      <td>Missing item_Disagree</td>\n",
       "      <td>Late Delivery_Disagree</td>\n",
       "      <td>Late Delivery_Disagree</td>\n",
       "      <td>Good Tracking system_Agree</td>\n",
       "      <td>Meal(P1)_Breakfast</td>\n",
       "      <td>Maximum wait time_15 minutes</td>\n",
       "      <td>Late Delivery_Disagree</td>\n",
       "      <td>Perference(P2)_ Veg foods (Breakfast / Lunch /...</td>\n",
       "      <td>Meal(P1)_Breakfast</td>\n",
       "      <td>Perference(P2)_ Veg foods (Breakfast / Lunch /...</td>\n",
       "      <td>Late Delivery_Disagree</td>\n",
       "    </tr>\n",
       "    <tr>\n",
       "      <th>8</th>\n",
       "      <td>Late Delivery_Disagree</td>\n",
       "      <td>Late Delivery_Disagree</td>\n",
       "      <td>Perference(P2)_ Veg foods (Breakfast / Lunch /...</td>\n",
       "      <td>Missing item_Strongly agree</td>\n",
       "      <td>Late Delivery_Disagree</td>\n",
       "      <td>Residence in busy location_Neutral</td>\n",
       "      <td>Delay of delivery person getting assigned_Stro...</td>\n",
       "      <td>Perference(P2)_ Veg foods (Breakfast / Lunch /...</td>\n",
       "      <td>Late Delivery_Disagree</td>\n",
       "      <td>Missing item_Strongly agree</td>\n",
       "      <td>Late Delivery_Disagree</td>\n",
       "      <td>Delay of delivery person getting assigned_Stro...</td>\n",
       "    </tr>\n",
       "    <tr>\n",
       "      <th>9</th>\n",
       "      <td>Missing item_Strongly agree</td>\n",
       "      <td>Delay of delivery person getting assigned_Stro...</td>\n",
       "      <td>Missing item_Strongly agree</td>\n",
       "      <td>Perference(P2)_ Sweets</td>\n",
       "      <td>High Quality of package_Important</td>\n",
       "      <td>Late Delivery_Disagree</td>\n",
       "      <td>High Quality of package_Important</td>\n",
       "      <td>Missing item_Strongly agree</td>\n",
       "      <td>Residence in busy location_Neutral</td>\n",
       "      <td>Maximum wait time_45 minutes</td>\n",
       "      <td>Missing item_Strongly agree</td>\n",
       "      <td>Maximum wait time_15 minutes</td>\n",
       "    </tr>\n",
       "    <tr>\n",
       "      <th>10</th>\n",
       "      <td>Residence in busy location_Neutral</td>\n",
       "      <td>Residence in busy location_Neutral</td>\n",
       "      <td>Residence in busy location_Neutral</td>\n",
       "      <td>Influence of time_Maybe</td>\n",
       "      <td>Marital Status_Prefer not to say</td>\n",
       "      <td>High Quality of package_Important</td>\n",
       "      <td>Late Delivery_Disagree</td>\n",
       "      <td>Residence in busy location_Neutral</td>\n",
       "      <td>Missing item_Strongly agree</td>\n",
       "      <td>Late Delivery_Disagree</td>\n",
       "      <td>Influence of time_Maybe</td>\n",
       "      <td>High Quality of package_Important</td>\n",
       "    </tr>\n",
       "    <tr>\n",
       "      <th>11</th>\n",
       "      <td>High Quality of package_Important</td>\n",
       "      <td>Delay of delivery person getting assigned_Disa...</td>\n",
       "      <td>Politeness_Very Important</td>\n",
       "      <td>High Quality of package_Important</td>\n",
       "      <td>Residence in busy location_Neutral</td>\n",
       "      <td>Wrong order delivered_Strongly disagree</td>\n",
       "      <td>Delay of delivery person getting assigned_Disa...</td>\n",
       "      <td>Delay of delivery person getting assigned_Disa...</td>\n",
       "      <td>High Quality of package_Important</td>\n",
       "      <td>High Quality of package_Important</td>\n",
       "      <td>High Quality of package_Important</td>\n",
       "      <td>Delivery person ability_Agree</td>\n",
       "    </tr>\n",
       "  </tbody>\n",
       "</table>\n",
       "</div>"
      ],
      "text/plain": [
       "                                                   0   \\\n",
       "0                        Ease and convenient_Disagree   \n",
       "1                    More restaurant choices_Disagree   \n",
       "2                                  Unaffordable_Agree   \n",
       "3              High Quality of package_Very Important   \n",
       "4                                  Occupation_Student   \n",
       "5                             Unavailability_Disagree   \n",
       "6   Perference(P2)_ Veg foods (Breakfast / Lunch /...   \n",
       "7                    Marital Status_Prefer not to say   \n",
       "8                              Late Delivery_Disagree   \n",
       "9                         Missing item_Strongly agree   \n",
       "10                 Residence in busy location_Neutral   \n",
       "11                  High Quality of package_Important   \n",
       "\n",
       "                                                   1   \\\n",
       "0                        Ease and convenient_Disagree   \n",
       "1                    More restaurant choices_Disagree   \n",
       "2                                  Unaffordable_Agree   \n",
       "3                                  Occupation_Student   \n",
       "4              High Quality of package_Very Important   \n",
       "5                             Unavailability_Disagree   \n",
       "6                    Marital Status_Prefer not to say   \n",
       "7                               Missing item_Disagree   \n",
       "8                              Late Delivery_Disagree   \n",
       "9   Delay of delivery person getting assigned_Stro...   \n",
       "10                 Residence in busy location_Neutral   \n",
       "11  Delay of delivery person getting assigned_Disa...   \n",
       "\n",
       "                                                   2   \\\n",
       "0                        Ease and convenient_Disagree   \n",
       "1                    More restaurant choices_Disagree   \n",
       "2                                  Unaffordable_Agree   \n",
       "3              High Quality of package_Very Important   \n",
       "4                                  Occupation_Student   \n",
       "5                             Unavailability_Disagree   \n",
       "6                    Marital Status_Prefer not to say   \n",
       "7                              Late Delivery_Disagree   \n",
       "8   Perference(P2)_ Veg foods (Breakfast / Lunch /...   \n",
       "9                         Missing item_Strongly agree   \n",
       "10                 Residence in busy location_Neutral   \n",
       "11                          Politeness_Very Important   \n",
       "\n",
       "                                        3   \\\n",
       "0             Ease and convenient_Disagree   \n",
       "1         More restaurant choices_Disagree   \n",
       "2                       Unaffordable_Agree   \n",
       "3   High Quality of package_Very Important   \n",
       "4                       Occupation_Student   \n",
       "5         Marital Status_Prefer not to say   \n",
       "6                  Unavailability_Disagree   \n",
       "7                   Late Delivery_Disagree   \n",
       "8              Missing item_Strongly agree   \n",
       "9                   Perference(P2)_ Sweets   \n",
       "10                 Influence of time_Maybe   \n",
       "11       High Quality of package_Important   \n",
       "\n",
       "                                    4   \\\n",
       "0         Ease and convenient_Disagree   \n",
       "1     More restaurant choices_Disagree   \n",
       "2                   Unaffordable_Agree   \n",
       "3            Politeness_Very Important   \n",
       "4                                  Age   \n",
       "5         Maximum wait time_30 minutes   \n",
       "6              Unavailability_Disagree   \n",
       "7           Good Tracking system_Agree   \n",
       "8               Late Delivery_Disagree   \n",
       "9    High Quality of package_Important   \n",
       "10    Marital Status_Prefer not to say   \n",
       "11  Residence in busy location_Neutral   \n",
       "\n",
       "                                         5   \\\n",
       "0              Ease and convenient_Disagree   \n",
       "1          More restaurant choices_Disagree   \n",
       "2                        Unaffordable_Agree   \n",
       "3    High Quality of package_Very Important   \n",
       "4                        Occupation_Student   \n",
       "5                   Unavailability_Disagree   \n",
       "6          Marital Status_Prefer not to say   \n",
       "7                        Meal(P1)_Breakfast   \n",
       "8        Residence in busy location_Neutral   \n",
       "9                    Late Delivery_Disagree   \n",
       "10        High Quality of package_Important   \n",
       "11  Wrong order delivered_Strongly disagree   \n",
       "\n",
       "                                                   6   \\\n",
       "0                        Ease and convenient_Disagree   \n",
       "1                    More restaurant choices_Disagree   \n",
       "2                                  Unaffordable_Agree   \n",
       "3                                Missing item_Neutral   \n",
       "4                                  Occupation_Student   \n",
       "5                              Perference(P2)_ Sweets   \n",
       "6                             Unavailability_Disagree   \n",
       "7                        Maximum wait time_15 minutes   \n",
       "8   Delay of delivery person getting assigned_Stro...   \n",
       "9                   High Quality of package_Important   \n",
       "10                             Late Delivery_Disagree   \n",
       "11  Delay of delivery person getting assigned_Disa...   \n",
       "\n",
       "                                                   7   \\\n",
       "0                        Ease and convenient_Disagree   \n",
       "1                    More restaurant choices_Disagree   \n",
       "2                                  Unaffordable_Agree   \n",
       "3                                  Occupation_Student   \n",
       "4              High Quality of package_Very Important   \n",
       "5                             Unavailability_Disagree   \n",
       "6                    Marital Status_Prefer not to say   \n",
       "7                              Late Delivery_Disagree   \n",
       "8   Perference(P2)_ Veg foods (Breakfast / Lunch /...   \n",
       "9                         Missing item_Strongly agree   \n",
       "10                 Residence in busy location_Neutral   \n",
       "11  Delay of delivery person getting assigned_Disa...   \n",
       "\n",
       "                                                   8   \\\n",
       "0                        Ease and convenient_Disagree   \n",
       "1                    More restaurant choices_Disagree   \n",
       "2                                  Unaffordable_Agree   \n",
       "3              High Quality of package_Very Important   \n",
       "4                                  Occupation_Student   \n",
       "5                             Unavailability_Disagree   \n",
       "6                    Marital Status_Prefer not to say   \n",
       "7   Perference(P2)_ Veg foods (Breakfast / Lunch /...   \n",
       "8                              Late Delivery_Disagree   \n",
       "9                  Residence in busy location_Neutral   \n",
       "10                        Missing item_Strongly agree   \n",
       "11                  High Quality of package_Important   \n",
       "\n",
       "                                        9   \\\n",
       "0             Ease and convenient_Disagree   \n",
       "1         More restaurant choices_Disagree   \n",
       "2                       Unaffordable_Agree   \n",
       "3   High Quality of package_Very Important   \n",
       "4                       Occupation_Student   \n",
       "5         Marital Status_Prefer not to say   \n",
       "6                  Unavailability_Disagree   \n",
       "7                       Meal(P1)_Breakfast   \n",
       "8              Missing item_Strongly agree   \n",
       "9             Maximum wait time_45 minutes   \n",
       "10                  Late Delivery_Disagree   \n",
       "11       High Quality of package_Important   \n",
       "\n",
       "                                                   10  \\\n",
       "0                        Ease and convenient_Disagree   \n",
       "1                    More restaurant choices_Disagree   \n",
       "2              High Quality of package_Very Important   \n",
       "3                                  Unaffordable_Agree   \n",
       "4                                  Occupation_Student   \n",
       "5                             Unavailability_Disagree   \n",
       "6                    Marital Status_Prefer not to say   \n",
       "7   Perference(P2)_ Veg foods (Breakfast / Lunch /...   \n",
       "8                              Late Delivery_Disagree   \n",
       "9                         Missing item_Strongly agree   \n",
       "10                            Influence of time_Maybe   \n",
       "11                  High Quality of package_Important   \n",
       "\n",
       "                                                   11  \n",
       "0                        Ease and convenient_Disagree  \n",
       "1                    More restaurant choices_Disagree  \n",
       "2                                  Unaffordable_Agree  \n",
       "3                                  Occupation_Student  \n",
       "4                                Missing item_Neutral  \n",
       "5                              Perference(P2)_ Sweets  \n",
       "6                             Unavailability_Disagree  \n",
       "7                              Late Delivery_Disagree  \n",
       "8   Delay of delivery person getting assigned_Stro...  \n",
       "9                        Maximum wait time_15 minutes  \n",
       "10                  High Quality of package_Important  \n",
       "11                      Delivery person ability_Agree  "
      ]
     },
     "execution_count": 101,
     "metadata": {},
     "output_type": "execute_result"
    }
   ],
   "source": [
    "feature_common"
   ]
  },
  {
   "cell_type": "code",
   "execution_count": 102,
   "metadata": {
    "ExecuteTime": {
     "end_time": "2021-03-27T03:56:33.957125Z",
     "start_time": "2021-03-27T03:56:33.869132Z"
    }
   },
   "outputs": [],
   "source": [
    "l2=feature_extract(clf,l1)"
   ]
  },
  {
   "cell_type": "code",
   "execution_count": 103,
   "metadata": {
    "ExecuteTime": {
     "end_time": "2021-03-27T03:56:34.077115Z",
     "start_time": "2021-03-27T03:56:33.957125Z"
    }
   },
   "outputs": [],
   "source": [
    "relation_between_feature=pd.DataFrame(index=l2)"
   ]
  },
  {
   "cell_type": "code",
   "execution_count": 104,
   "metadata": {
    "ExecuteTime": {
     "end_time": "2021-03-27T03:56:34.173107Z",
     "start_time": "2021-03-27T03:56:34.077115Z"
    },
    "scrolled": false
   },
   "outputs": [
    {
     "data": {
      "text/html": [
       "<div>\n",
       "<style scoped>\n",
       "    .dataframe tbody tr th:only-of-type {\n",
       "        vertical-align: middle;\n",
       "    }\n",
       "\n",
       "    .dataframe tbody tr th {\n",
       "        vertical-align: top;\n",
       "    }\n",
       "\n",
       "    .dataframe thead th {\n",
       "        text-align: right;\n",
       "    }\n",
       "</style>\n",
       "<table border=\"1\" class=\"dataframe\">\n",
       "  <thead>\n",
       "    <tr style=\"text-align: right;\">\n",
       "      <th></th>\n",
       "    </tr>\n",
       "  </thead>\n",
       "  <tbody>\n",
       "    <tr>\n",
       "      <th>Ease and convenient_Disagree</th>\n",
       "    </tr>\n",
       "    <tr>\n",
       "      <th>More restaurant choices_Disagree</th>\n",
       "    </tr>\n",
       "    <tr>\n",
       "      <th>Unaffordable_Agree</th>\n",
       "    </tr>\n",
       "    <tr>\n",
       "      <th>Occupation_Student</th>\n",
       "    </tr>\n",
       "    <tr>\n",
       "      <th>Missing item_Neutral</th>\n",
       "    </tr>\n",
       "  </tbody>\n",
       "</table>\n",
       "</div>"
      ],
      "text/plain": [
       "Empty DataFrame\n",
       "Columns: []\n",
       "Index: [Ease and convenient_Disagree, More restaurant choices_Disagree, Unaffordable_Agree, Occupation_Student, Missing item_Neutral]"
      ]
     },
     "execution_count": 104,
     "metadata": {},
     "output_type": "execute_result"
    }
   ],
   "source": [
    "relation_between_feature.head()"
   ]
  },
  {
   "cell_type": "code",
   "execution_count": 105,
   "metadata": {
    "ExecuteTime": {
     "end_time": "2021-03-27T03:56:34.277137Z",
     "start_time": "2021-03-27T03:56:34.173107Z"
    }
   },
   "outputs": [
    {
     "data": {
      "text/html": [
       "<div>\n",
       "<style scoped>\n",
       "    .dataframe tbody tr th:only-of-type {\n",
       "        vertical-align: middle;\n",
       "    }\n",
       "\n",
       "    .dataframe tbody tr th {\n",
       "        vertical-align: top;\n",
       "    }\n",
       "\n",
       "    .dataframe thead th {\n",
       "        text-align: right;\n",
       "    }\n",
       "</style>\n",
       "<table border=\"1\" class=\"dataframe\">\n",
       "  <thead>\n",
       "    <tr style=\"text-align: right;\">\n",
       "      <th></th>\n",
       "      <th>Ease and convenient_Disagree</th>\n",
       "      <th>More restaurant choices_Disagree</th>\n",
       "      <th>Unaffordable_Agree</th>\n",
       "      <th>Occupation_Student</th>\n",
       "      <th>Missing item_Neutral</th>\n",
       "      <th>Perference(P2)_ Sweets</th>\n",
       "      <th>Unavailability_Disagree</th>\n",
       "      <th>Late Delivery_Disagree</th>\n",
       "      <th>Delay of delivery person getting assigned_Strongly agree</th>\n",
       "      <th>Maximum wait time_15 minutes</th>\n",
       "      <th>High Quality of package_Important</th>\n",
       "      <th>Delivery person ability_Agree</th>\n",
       "    </tr>\n",
       "  </thead>\n",
       "  <tbody>\n",
       "    <tr>\n",
       "      <th>0</th>\n",
       "      <td>0</td>\n",
       "      <td>0</td>\n",
       "      <td>0</td>\n",
       "      <td>1</td>\n",
       "      <td>0</td>\n",
       "      <td>0</td>\n",
       "      <td>0</td>\n",
       "      <td>0</td>\n",
       "      <td>0</td>\n",
       "      <td>0</td>\n",
       "      <td>0</td>\n",
       "      <td>0</td>\n",
       "    </tr>\n",
       "    <tr>\n",
       "      <th>1</th>\n",
       "      <td>0</td>\n",
       "      <td>0</td>\n",
       "      <td>0</td>\n",
       "      <td>1</td>\n",
       "      <td>0</td>\n",
       "      <td>0</td>\n",
       "      <td>0</td>\n",
       "      <td>0</td>\n",
       "      <td>1</td>\n",
       "      <td>0</td>\n",
       "      <td>0</td>\n",
       "      <td>1</td>\n",
       "    </tr>\n",
       "    <tr>\n",
       "      <th>2</th>\n",
       "      <td>0</td>\n",
       "      <td>0</td>\n",
       "      <td>1</td>\n",
       "      <td>1</td>\n",
       "      <td>0</td>\n",
       "      <td>0</td>\n",
       "      <td>0</td>\n",
       "      <td>0</td>\n",
       "      <td>0</td>\n",
       "      <td>0</td>\n",
       "      <td>0</td>\n",
       "      <td>1</td>\n",
       "    </tr>\n",
       "    <tr>\n",
       "      <th>3</th>\n",
       "      <td>0</td>\n",
       "      <td>0</td>\n",
       "      <td>0</td>\n",
       "      <td>1</td>\n",
       "      <td>0</td>\n",
       "      <td>0</td>\n",
       "      <td>1</td>\n",
       "      <td>0</td>\n",
       "      <td>0</td>\n",
       "      <td>0</td>\n",
       "      <td>1</td>\n",
       "      <td>1</td>\n",
       "    </tr>\n",
       "    <tr>\n",
       "      <th>4</th>\n",
       "      <td>0</td>\n",
       "      <td>0</td>\n",
       "      <td>0</td>\n",
       "      <td>1</td>\n",
       "      <td>1</td>\n",
       "      <td>0</td>\n",
       "      <td>0</td>\n",
       "      <td>0</td>\n",
       "      <td>1</td>\n",
       "      <td>0</td>\n",
       "      <td>1</td>\n",
       "      <td>1</td>\n",
       "    </tr>\n",
       "    <tr>\n",
       "      <th>...</th>\n",
       "      <td>...</td>\n",
       "      <td>...</td>\n",
       "      <td>...</td>\n",
       "      <td>...</td>\n",
       "      <td>...</td>\n",
       "      <td>...</td>\n",
       "      <td>...</td>\n",
       "      <td>...</td>\n",
       "      <td>...</td>\n",
       "      <td>...</td>\n",
       "      <td>...</td>\n",
       "      <td>...</td>\n",
       "    </tr>\n",
       "    <tr>\n",
       "      <th>597</th>\n",
       "      <td>1</td>\n",
       "      <td>1</td>\n",
       "      <td>1</td>\n",
       "      <td>0</td>\n",
       "      <td>0</td>\n",
       "      <td>0</td>\n",
       "      <td>0</td>\n",
       "      <td>0</td>\n",
       "      <td>0</td>\n",
       "      <td>0</td>\n",
       "      <td>0</td>\n",
       "      <td>0</td>\n",
       "    </tr>\n",
       "    <tr>\n",
       "      <th>598</th>\n",
       "      <td>1</td>\n",
       "      <td>0</td>\n",
       "      <td>0</td>\n",
       "      <td>0</td>\n",
       "      <td>0</td>\n",
       "      <td>0</td>\n",
       "      <td>0</td>\n",
       "      <td>0</td>\n",
       "      <td>0</td>\n",
       "      <td>0</td>\n",
       "      <td>1</td>\n",
       "      <td>0</td>\n",
       "    </tr>\n",
       "    <tr>\n",
       "      <th>599</th>\n",
       "      <td>1</td>\n",
       "      <td>0</td>\n",
       "      <td>1</td>\n",
       "      <td>1</td>\n",
       "      <td>0</td>\n",
       "      <td>0</td>\n",
       "      <td>0</td>\n",
       "      <td>0</td>\n",
       "      <td>0</td>\n",
       "      <td>0</td>\n",
       "      <td>1</td>\n",
       "      <td>1</td>\n",
       "    </tr>\n",
       "    <tr>\n",
       "      <th>600</th>\n",
       "      <td>1</td>\n",
       "      <td>1</td>\n",
       "      <td>0</td>\n",
       "      <td>0</td>\n",
       "      <td>1</td>\n",
       "      <td>0</td>\n",
       "      <td>1</td>\n",
       "      <td>0</td>\n",
       "      <td>0</td>\n",
       "      <td>0</td>\n",
       "      <td>0</td>\n",
       "      <td>0</td>\n",
       "    </tr>\n",
       "    <tr>\n",
       "      <th>601</th>\n",
       "      <td>1</td>\n",
       "      <td>1</td>\n",
       "      <td>0</td>\n",
       "      <td>0</td>\n",
       "      <td>0</td>\n",
       "      <td>0</td>\n",
       "      <td>0</td>\n",
       "      <td>0</td>\n",
       "      <td>0</td>\n",
       "      <td>1</td>\n",
       "      <td>0</td>\n",
       "      <td>0</td>\n",
       "    </tr>\n",
       "  </tbody>\n",
       "</table>\n",
       "<p>602 rows × 12 columns</p>\n",
       "</div>"
      ],
      "text/plain": [
       "     Ease and convenient_Disagree  More restaurant choices_Disagree  \\\n",
       "0                               0                                 0   \n",
       "1                               0                                 0   \n",
       "2                               0                                 0   \n",
       "3                               0                                 0   \n",
       "4                               0                                 0   \n",
       "..                            ...                               ...   \n",
       "597                             1                                 1   \n",
       "598                             1                                 0   \n",
       "599                             1                                 0   \n",
       "600                             1                                 1   \n",
       "601                             1                                 1   \n",
       "\n",
       "     Unaffordable_Agree  Occupation_Student  Missing item_Neutral  \\\n",
       "0                     0                   1                     0   \n",
       "1                     0                   1                     0   \n",
       "2                     1                   1                     0   \n",
       "3                     0                   1                     0   \n",
       "4                     0                   1                     1   \n",
       "..                  ...                 ...                   ...   \n",
       "597                   1                   0                     0   \n",
       "598                   0                   0                     0   \n",
       "599                   1                   1                     0   \n",
       "600                   0                   0                     1   \n",
       "601                   0                   0                     0   \n",
       "\n",
       "     Perference(P2)_ Sweets  Unavailability_Disagree  Late Delivery_Disagree  \\\n",
       "0                         0                        0                       0   \n",
       "1                         0                        0                       0   \n",
       "2                         0                        0                       0   \n",
       "3                         0                        1                       0   \n",
       "4                         0                        0                       0   \n",
       "..                      ...                      ...                     ...   \n",
       "597                       0                        0                       0   \n",
       "598                       0                        0                       0   \n",
       "599                       0                        0                       0   \n",
       "600                       0                        1                       0   \n",
       "601                       0                        0                       0   \n",
       "\n",
       "     Delay of delivery person getting assigned_Strongly agree  \\\n",
       "0                                                    0          \n",
       "1                                                    1          \n",
       "2                                                    0          \n",
       "3                                                    0          \n",
       "4                                                    1          \n",
       "..                                                 ...          \n",
       "597                                                  0          \n",
       "598                                                  0          \n",
       "599                                                  0          \n",
       "600                                                  0          \n",
       "601                                                  0          \n",
       "\n",
       "     Maximum wait time_15 minutes  High Quality of package_Important  \\\n",
       "0                               0                                  0   \n",
       "1                               0                                  0   \n",
       "2                               0                                  0   \n",
       "3                               0                                  1   \n",
       "4                               0                                  1   \n",
       "..                            ...                                ...   \n",
       "597                             0                                  0   \n",
       "598                             0                                  1   \n",
       "599                             0                                  1   \n",
       "600                             0                                  0   \n",
       "601                             1                                  0   \n",
       "\n",
       "     Delivery person ability_Agree  \n",
       "0                                0  \n",
       "1                                1  \n",
       "2                                1  \n",
       "3                                1  \n",
       "4                                1  \n",
       "..                             ...  \n",
       "597                              0  \n",
       "598                              0  \n",
       "599                              1  \n",
       "600                              0  \n",
       "601                              0  \n",
       "\n",
       "[602 rows x 12 columns]"
      ]
     },
     "execution_count": 105,
     "metadata": {},
     "output_type": "execute_result"
    }
   ],
   "source": [
    "X[l2]"
   ]
  },
  {
   "cell_type": "code",
   "execution_count": 106,
   "metadata": {
    "ExecuteTime": {
     "end_time": "2021-03-27T03:56:37.443988Z",
     "start_time": "2021-03-27T03:56:34.277137Z"
    }
   },
   "outputs": [],
   "source": [
    "\n",
    "for i in l2:\n",
    "    l1=[]\n",
    "    for j in l2:\n",
    "        df_t=pd.crosstab(X[j],X[i])\n",
    "        stat, p, dof, expected = st.chi2_contingency(df_t,correction=True)\n",
    "        t=min(df_t.shape)-1\n",
    "        deno=sum(df_t.sum())\n",
    "        x=np.sqrt(stat / deno)\n",
    "        l1.append(x)\n",
    "    relation_between_feature[i]=l1\n",
    "    \n",
    "\n",
    "\n",
    "\n",
    "        \n"
   ]
  },
  {
   "cell_type": "code",
   "execution_count": 107,
   "metadata": {
    "ExecuteTime": {
     "end_time": "2021-03-27T03:56:37.594820Z",
     "start_time": "2021-03-27T03:56:37.443988Z"
    },
    "scrolled": false
   },
   "outputs": [
    {
     "data": {
      "text/html": [
       "<div>\n",
       "<style scoped>\n",
       "    .dataframe tbody tr th:only-of-type {\n",
       "        vertical-align: middle;\n",
       "    }\n",
       "\n",
       "    .dataframe tbody tr th {\n",
       "        vertical-align: top;\n",
       "    }\n",
       "\n",
       "    .dataframe thead th {\n",
       "        text-align: right;\n",
       "    }\n",
       "</style>\n",
       "<table border=\"1\" class=\"dataframe\">\n",
       "  <thead>\n",
       "    <tr style=\"text-align: right;\">\n",
       "      <th></th>\n",
       "      <th>Ease and convenient_Disagree</th>\n",
       "      <th>More restaurant choices_Disagree</th>\n",
       "      <th>Unaffordable_Agree</th>\n",
       "      <th>Occupation_Student</th>\n",
       "      <th>Missing item_Neutral</th>\n",
       "      <th>Perference(P2)_ Sweets</th>\n",
       "      <th>Unavailability_Disagree</th>\n",
       "      <th>Late Delivery_Disagree</th>\n",
       "      <th>Delay of delivery person getting assigned_Strongly agree</th>\n",
       "      <th>Maximum wait time_15 minutes</th>\n",
       "      <th>High Quality of package_Important</th>\n",
       "      <th>Delivery person ability_Agree</th>\n",
       "    </tr>\n",
       "  </thead>\n",
       "  <tbody>\n",
       "    <tr>\n",
       "      <th>Ease and convenient_Disagree</th>\n",
       "      <td>0.996037</td>\n",
       "      <td>0.417001</td>\n",
       "      <td>0.211617</td>\n",
       "      <td>0.212136</td>\n",
       "      <td>0.023664</td>\n",
       "      <td>0.320602</td>\n",
       "      <td>0.103344</td>\n",
       "      <td>0.088218</td>\n",
       "      <td>0.113732</td>\n",
       "      <td>0.374955</td>\n",
       "      <td>0.092123</td>\n",
       "      <td>0.104931</td>\n",
       "    </tr>\n",
       "    <tr>\n",
       "      <th>More restaurant choices_Disagree</th>\n",
       "      <td>0.417001</td>\n",
       "      <td>0.995458</td>\n",
       "      <td>0.020422</td>\n",
       "      <td>0.379936</td>\n",
       "      <td>0.037878</td>\n",
       "      <td>0.210145</td>\n",
       "      <td>0.029944</td>\n",
       "      <td>0.091298</td>\n",
       "      <td>0.089543</td>\n",
       "      <td>0.190301</td>\n",
       "      <td>0.067774</td>\n",
       "      <td>0.076595</td>\n",
       "    </tr>\n",
       "    <tr>\n",
       "      <th>Unaffordable_Agree</th>\n",
       "      <td>0.211617</td>\n",
       "      <td>0.020422</td>\n",
       "      <td>0.995346</td>\n",
       "      <td>0.074114</td>\n",
       "      <td>0.068050</td>\n",
       "      <td>0.003265</td>\n",
       "      <td>0.227203</td>\n",
       "      <td>0.095091</td>\n",
       "      <td>0.014311</td>\n",
       "      <td>0.086229</td>\n",
       "      <td>0.091915</td>\n",
       "      <td>0.052979</td>\n",
       "    </tr>\n",
       "    <tr>\n",
       "      <th>Occupation_Student</th>\n",
       "      <td>0.212136</td>\n",
       "      <td>0.379936</td>\n",
       "      <td>0.074114</td>\n",
       "      <td>0.996632</td>\n",
       "      <td>0.036932</td>\n",
       "      <td>0.039405</td>\n",
       "      <td>0.096274</td>\n",
       "      <td>0.043976</td>\n",
       "      <td>0.037865</td>\n",
       "      <td>0.085564</td>\n",
       "      <td>0.006906</td>\n",
       "      <td>0.047753</td>\n",
       "    </tr>\n",
       "    <tr>\n",
       "      <th>Missing item_Neutral</th>\n",
       "      <td>0.023664</td>\n",
       "      <td>0.037878</td>\n",
       "      <td>0.068050</td>\n",
       "      <td>0.036932</td>\n",
       "      <td>0.994317</td>\n",
       "      <td>0.126606</td>\n",
       "      <td>0.127467</td>\n",
       "      <td>0.129484</td>\n",
       "      <td>0.094933</td>\n",
       "      <td>0.017257</td>\n",
       "      <td>0.180342</td>\n",
       "      <td>0.044660</td>\n",
       "    </tr>\n",
       "    <tr>\n",
       "      <th>Perference(P2)_ Sweets</th>\n",
       "      <td>0.320602</td>\n",
       "      <td>0.210145</td>\n",
       "      <td>0.003265</td>\n",
       "      <td>0.039405</td>\n",
       "      <td>0.126606</td>\n",
       "      <td>0.994188</td>\n",
       "      <td>0.147795</td>\n",
       "      <td>0.034091</td>\n",
       "      <td>0.052801</td>\n",
       "      <td>0.023160</td>\n",
       "      <td>0.097443</td>\n",
       "      <td>0.015064</td>\n",
       "    </tr>\n",
       "    <tr>\n",
       "      <th>Unavailability_Disagree</th>\n",
       "      <td>0.103344</td>\n",
       "      <td>0.029944</td>\n",
       "      <td>0.227203</td>\n",
       "      <td>0.096274</td>\n",
       "      <td>0.127467</td>\n",
       "      <td>0.147795</td>\n",
       "      <td>0.996352</td>\n",
       "      <td>0.003843</td>\n",
       "      <td>0.072909</td>\n",
       "      <td>0.109253</td>\n",
       "      <td>0.057058</td>\n",
       "      <td>0.034446</td>\n",
       "    </tr>\n",
       "    <tr>\n",
       "      <th>Late Delivery_Disagree</th>\n",
       "      <td>0.088218</td>\n",
       "      <td>0.091298</td>\n",
       "      <td>0.095091</td>\n",
       "      <td>0.043976</td>\n",
       "      <td>0.129484</td>\n",
       "      <td>0.034091</td>\n",
       "      <td>0.003843</td>\n",
       "      <td>0.993527</td>\n",
       "      <td>0.031280</td>\n",
       "      <td>0.032441</td>\n",
       "      <td>0.019590</td>\n",
       "      <td>0.002736</td>\n",
       "    </tr>\n",
       "    <tr>\n",
       "      <th>Delay of delivery person getting assigned_Strongly agree</th>\n",
       "      <td>0.113732</td>\n",
       "      <td>0.089543</td>\n",
       "      <td>0.014311</td>\n",
       "      <td>0.037865</td>\n",
       "      <td>0.094933</td>\n",
       "      <td>0.052801</td>\n",
       "      <td>0.072909</td>\n",
       "      <td>0.031280</td>\n",
       "      <td>0.993151</td>\n",
       "      <td>0.057499</td>\n",
       "      <td>0.121975</td>\n",
       "      <td>0.001946</td>\n",
       "    </tr>\n",
       "    <tr>\n",
       "      <th>Maximum wait time_15 minutes</th>\n",
       "      <td>0.374955</td>\n",
       "      <td>0.190301</td>\n",
       "      <td>0.086229</td>\n",
       "      <td>0.085564</td>\n",
       "      <td>0.017257</td>\n",
       "      <td>0.023160</td>\n",
       "      <td>0.109253</td>\n",
       "      <td>0.032441</td>\n",
       "      <td>0.057499</td>\n",
       "      <td>0.994317</td>\n",
       "      <td>0.047317</td>\n",
       "      <td>0.106385</td>\n",
       "    </tr>\n",
       "    <tr>\n",
       "      <th>High Quality of package_Important</th>\n",
       "      <td>0.092123</td>\n",
       "      <td>0.067774</td>\n",
       "      <td>0.091915</td>\n",
       "      <td>0.006906</td>\n",
       "      <td>0.180342</td>\n",
       "      <td>0.097443</td>\n",
       "      <td>0.057058</td>\n",
       "      <td>0.019590</td>\n",
       "      <td>0.121975</td>\n",
       "      <td>0.047317</td>\n",
       "      <td>0.996540</td>\n",
       "      <td>0.052172</td>\n",
       "    </tr>\n",
       "    <tr>\n",
       "      <th>Delivery person ability_Agree</th>\n",
       "      <td>0.104931</td>\n",
       "      <td>0.076595</td>\n",
       "      <td>0.052979</td>\n",
       "      <td>0.047753</td>\n",
       "      <td>0.044660</td>\n",
       "      <td>0.015064</td>\n",
       "      <td>0.034446</td>\n",
       "      <td>0.002736</td>\n",
       "      <td>0.001946</td>\n",
       "      <td>0.106385</td>\n",
       "      <td>0.052172</td>\n",
       "      <td>0.996580</td>\n",
       "    </tr>\n",
       "  </tbody>\n",
       "</table>\n",
       "</div>"
      ],
      "text/plain": [
       "                                                    Ease and convenient_Disagree  \\\n",
       "Ease and convenient_Disagree                                            0.996037   \n",
       "More restaurant choices_Disagree                                        0.417001   \n",
       "Unaffordable_Agree                                                      0.211617   \n",
       "Occupation_Student                                                      0.212136   \n",
       "Missing item_Neutral                                                    0.023664   \n",
       "Perference(P2)_ Sweets                                                  0.320602   \n",
       "Unavailability_Disagree                                                 0.103344   \n",
       "Late Delivery_Disagree                                                  0.088218   \n",
       "Delay of delivery person getting assigned_Stron...                      0.113732   \n",
       "Maximum wait time_15 minutes                                            0.374955   \n",
       "High Quality of package_Important                                       0.092123   \n",
       "Delivery person ability_Agree                                           0.104931   \n",
       "\n",
       "                                                    More restaurant choices_Disagree  \\\n",
       "Ease and convenient_Disagree                                                0.417001   \n",
       "More restaurant choices_Disagree                                            0.995458   \n",
       "Unaffordable_Agree                                                          0.020422   \n",
       "Occupation_Student                                                          0.379936   \n",
       "Missing item_Neutral                                                        0.037878   \n",
       "Perference(P2)_ Sweets                                                      0.210145   \n",
       "Unavailability_Disagree                                                     0.029944   \n",
       "Late Delivery_Disagree                                                      0.091298   \n",
       "Delay of delivery person getting assigned_Stron...                          0.089543   \n",
       "Maximum wait time_15 minutes                                                0.190301   \n",
       "High Quality of package_Important                                           0.067774   \n",
       "Delivery person ability_Agree                                               0.076595   \n",
       "\n",
       "                                                    Unaffordable_Agree  \\\n",
       "Ease and convenient_Disagree                                  0.211617   \n",
       "More restaurant choices_Disagree                              0.020422   \n",
       "Unaffordable_Agree                                            0.995346   \n",
       "Occupation_Student                                            0.074114   \n",
       "Missing item_Neutral                                          0.068050   \n",
       "Perference(P2)_ Sweets                                        0.003265   \n",
       "Unavailability_Disagree                                       0.227203   \n",
       "Late Delivery_Disagree                                        0.095091   \n",
       "Delay of delivery person getting assigned_Stron...            0.014311   \n",
       "Maximum wait time_15 minutes                                  0.086229   \n",
       "High Quality of package_Important                             0.091915   \n",
       "Delivery person ability_Agree                                 0.052979   \n",
       "\n",
       "                                                    Occupation_Student  \\\n",
       "Ease and convenient_Disagree                                  0.212136   \n",
       "More restaurant choices_Disagree                              0.379936   \n",
       "Unaffordable_Agree                                            0.074114   \n",
       "Occupation_Student                                            0.996632   \n",
       "Missing item_Neutral                                          0.036932   \n",
       "Perference(P2)_ Sweets                                        0.039405   \n",
       "Unavailability_Disagree                                       0.096274   \n",
       "Late Delivery_Disagree                                        0.043976   \n",
       "Delay of delivery person getting assigned_Stron...            0.037865   \n",
       "Maximum wait time_15 minutes                                  0.085564   \n",
       "High Quality of package_Important                             0.006906   \n",
       "Delivery person ability_Agree                                 0.047753   \n",
       "\n",
       "                                                    Missing item_Neutral  \\\n",
       "Ease and convenient_Disagree                                    0.023664   \n",
       "More restaurant choices_Disagree                                0.037878   \n",
       "Unaffordable_Agree                                              0.068050   \n",
       "Occupation_Student                                              0.036932   \n",
       "Missing item_Neutral                                            0.994317   \n",
       "Perference(P2)_ Sweets                                          0.126606   \n",
       "Unavailability_Disagree                                         0.127467   \n",
       "Late Delivery_Disagree                                          0.129484   \n",
       "Delay of delivery person getting assigned_Stron...              0.094933   \n",
       "Maximum wait time_15 minutes                                    0.017257   \n",
       "High Quality of package_Important                               0.180342   \n",
       "Delivery person ability_Agree                                   0.044660   \n",
       "\n",
       "                                                    Perference(P2)_ Sweets  \\\n",
       "Ease and convenient_Disagree                                      0.320602   \n",
       "More restaurant choices_Disagree                                  0.210145   \n",
       "Unaffordable_Agree                                                0.003265   \n",
       "Occupation_Student                                                0.039405   \n",
       "Missing item_Neutral                                              0.126606   \n",
       "Perference(P2)_ Sweets                                            0.994188   \n",
       "Unavailability_Disagree                                           0.147795   \n",
       "Late Delivery_Disagree                                            0.034091   \n",
       "Delay of delivery person getting assigned_Stron...                0.052801   \n",
       "Maximum wait time_15 minutes                                      0.023160   \n",
       "High Quality of package_Important                                 0.097443   \n",
       "Delivery person ability_Agree                                     0.015064   \n",
       "\n",
       "                                                    Unavailability_Disagree  \\\n",
       "Ease and convenient_Disagree                                       0.103344   \n",
       "More restaurant choices_Disagree                                   0.029944   \n",
       "Unaffordable_Agree                                                 0.227203   \n",
       "Occupation_Student                                                 0.096274   \n",
       "Missing item_Neutral                                               0.127467   \n",
       "Perference(P2)_ Sweets                                             0.147795   \n",
       "Unavailability_Disagree                                            0.996352   \n",
       "Late Delivery_Disagree                                             0.003843   \n",
       "Delay of delivery person getting assigned_Stron...                 0.072909   \n",
       "Maximum wait time_15 minutes                                       0.109253   \n",
       "High Quality of package_Important                                  0.057058   \n",
       "Delivery person ability_Agree                                      0.034446   \n",
       "\n",
       "                                                    Late Delivery_Disagree  \\\n",
       "Ease and convenient_Disagree                                      0.088218   \n",
       "More restaurant choices_Disagree                                  0.091298   \n",
       "Unaffordable_Agree                                                0.095091   \n",
       "Occupation_Student                                                0.043976   \n",
       "Missing item_Neutral                                              0.129484   \n",
       "Perference(P2)_ Sweets                                            0.034091   \n",
       "Unavailability_Disagree                                           0.003843   \n",
       "Late Delivery_Disagree                                            0.993527   \n",
       "Delay of delivery person getting assigned_Stron...                0.031280   \n",
       "Maximum wait time_15 minutes                                      0.032441   \n",
       "High Quality of package_Important                                 0.019590   \n",
       "Delivery person ability_Agree                                     0.002736   \n",
       "\n",
       "                                                    Delay of delivery person getting assigned_Strongly agree  \\\n",
       "Ease and convenient_Disagree                                                                 0.113732          \n",
       "More restaurant choices_Disagree                                                             0.089543          \n",
       "Unaffordable_Agree                                                                           0.014311          \n",
       "Occupation_Student                                                                           0.037865          \n",
       "Missing item_Neutral                                                                         0.094933          \n",
       "Perference(P2)_ Sweets                                                                       0.052801          \n",
       "Unavailability_Disagree                                                                      0.072909          \n",
       "Late Delivery_Disagree                                                                       0.031280          \n",
       "Delay of delivery person getting assigned_Stron...                                           0.993151          \n",
       "Maximum wait time_15 minutes                                                                 0.057499          \n",
       "High Quality of package_Important                                                            0.121975          \n",
       "Delivery person ability_Agree                                                                0.001946          \n",
       "\n",
       "                                                    Maximum wait time_15 minutes  \\\n",
       "Ease and convenient_Disagree                                            0.374955   \n",
       "More restaurant choices_Disagree                                        0.190301   \n",
       "Unaffordable_Agree                                                      0.086229   \n",
       "Occupation_Student                                                      0.085564   \n",
       "Missing item_Neutral                                                    0.017257   \n",
       "Perference(P2)_ Sweets                                                  0.023160   \n",
       "Unavailability_Disagree                                                 0.109253   \n",
       "Late Delivery_Disagree                                                  0.032441   \n",
       "Delay of delivery person getting assigned_Stron...                      0.057499   \n",
       "Maximum wait time_15 minutes                                            0.994317   \n",
       "High Quality of package_Important                                       0.047317   \n",
       "Delivery person ability_Agree                                           0.106385   \n",
       "\n",
       "                                                    High Quality of package_Important  \\\n",
       "Ease and convenient_Disagree                                                 0.092123   \n",
       "More restaurant choices_Disagree                                             0.067774   \n",
       "Unaffordable_Agree                                                           0.091915   \n",
       "Occupation_Student                                                           0.006906   \n",
       "Missing item_Neutral                                                         0.180342   \n",
       "Perference(P2)_ Sweets                                                       0.097443   \n",
       "Unavailability_Disagree                                                      0.057058   \n",
       "Late Delivery_Disagree                                                       0.019590   \n",
       "Delay of delivery person getting assigned_Stron...                           0.121975   \n",
       "Maximum wait time_15 minutes                                                 0.047317   \n",
       "High Quality of package_Important                                            0.996540   \n",
       "Delivery person ability_Agree                                                0.052172   \n",
       "\n",
       "                                                    Delivery person ability_Agree  \n",
       "Ease and convenient_Disagree                                             0.104931  \n",
       "More restaurant choices_Disagree                                         0.076595  \n",
       "Unaffordable_Agree                                                       0.052979  \n",
       "Occupation_Student                                                       0.047753  \n",
       "Missing item_Neutral                                                     0.044660  \n",
       "Perference(P2)_ Sweets                                                   0.015064  \n",
       "Unavailability_Disagree                                                  0.034446  \n",
       "Late Delivery_Disagree                                                   0.002736  \n",
       "Delay of delivery person getting assigned_Stron...                       0.001946  \n",
       "Maximum wait time_15 minutes                                             0.106385  \n",
       "High Quality of package_Important                                        0.052172  \n",
       "Delivery person ability_Agree                                            0.996580  "
      ]
     },
     "execution_count": 107,
     "metadata": {},
     "output_type": "execute_result"
    }
   ],
   "source": [
    "relation_between_feature"
   ]
  },
  {
   "cell_type": "code",
   "execution_count": 108,
   "metadata": {
    "ExecuteTime": {
     "end_time": "2021-03-27T03:56:37.618818Z",
     "start_time": "2021-03-27T03:56:37.594820Z"
    }
   },
   "outputs": [
    {
     "data": {
      "text/plain": [
       "(388, 51)"
      ]
     },
     "execution_count": 108,
     "metadata": {},
     "output_type": "execute_result"
    }
   ],
   "source": [
    "fd_dlvry.shape"
   ]
  },
  {
   "cell_type": "code",
   "execution_count": 109,
   "metadata": {
    "ExecuteTime": {
     "end_time": "2021-03-27T03:56:37.994784Z",
     "start_time": "2021-03-27T03:56:37.626816Z"
    },
    "scrolled": false
   },
   "outputs": [
    {
     "data": {
      "text/html": [
       "<style  type=\"text/css\" >\n",
       "#T_7ec9a_row0_col1,#T_7ec9a_row0_col5,#T_7ec9a_row0_col9,#T_7ec9a_row1_col0,#T_7ec9a_row1_col3,#T_7ec9a_row3_col1,#T_7ec9a_row5_col0,#T_7ec9a_row9_col0{\n",
       "            background:  red;\n",
       "        }</style><table id=\"T_7ec9a_\" ><thead>    <tr>        <th class=\"blank level0\" ></th>        <th class=\"col_heading level0 col0\" >Ease and convenient_Disagree</th>        <th class=\"col_heading level0 col1\" >More restaurant choices_Disagree</th>        <th class=\"col_heading level0 col2\" >Unaffordable_Agree</th>        <th class=\"col_heading level0 col3\" >Occupation_Student</th>        <th class=\"col_heading level0 col4\" >Missing item_Neutral</th>        <th class=\"col_heading level0 col5\" >Perference(P2)_ Sweets</th>        <th class=\"col_heading level0 col6\" >Unavailability_Disagree</th>        <th class=\"col_heading level0 col7\" >Late Delivery_Disagree</th>        <th class=\"col_heading level0 col8\" >Delay of delivery person getting assigned_Strongly agree</th>        <th class=\"col_heading level0 col9\" >Maximum wait time_15 minutes</th>        <th class=\"col_heading level0 col10\" >High Quality of package_Important</th>        <th class=\"col_heading level0 col11\" >Delivery person ability_Agree</th>    </tr></thead><tbody>\n",
       "                <tr>\n",
       "                        <th id=\"T_7ec9a_level0_row0\" class=\"row_heading level0 row0\" >Ease and convenient_Disagree</th>\n",
       "                        <td id=\"T_7ec9a_row0_col0\" class=\"data row0 col0\" >0.996037</td>\n",
       "                        <td id=\"T_7ec9a_row0_col1\" class=\"data row0 col1\" >0.417001</td>\n",
       "                        <td id=\"T_7ec9a_row0_col2\" class=\"data row0 col2\" >0.211617</td>\n",
       "                        <td id=\"T_7ec9a_row0_col3\" class=\"data row0 col3\" >0.212136</td>\n",
       "                        <td id=\"T_7ec9a_row0_col4\" class=\"data row0 col4\" >0.023664</td>\n",
       "                        <td id=\"T_7ec9a_row0_col5\" class=\"data row0 col5\" >0.320602</td>\n",
       "                        <td id=\"T_7ec9a_row0_col6\" class=\"data row0 col6\" >0.103344</td>\n",
       "                        <td id=\"T_7ec9a_row0_col7\" class=\"data row0 col7\" >0.088218</td>\n",
       "                        <td id=\"T_7ec9a_row0_col8\" class=\"data row0 col8\" >0.113732</td>\n",
       "                        <td id=\"T_7ec9a_row0_col9\" class=\"data row0 col9\" >0.374955</td>\n",
       "                        <td id=\"T_7ec9a_row0_col10\" class=\"data row0 col10\" >0.092123</td>\n",
       "                        <td id=\"T_7ec9a_row0_col11\" class=\"data row0 col11\" >0.104931</td>\n",
       "            </tr>\n",
       "            <tr>\n",
       "                        <th id=\"T_7ec9a_level0_row1\" class=\"row_heading level0 row1\" >More restaurant choices_Disagree</th>\n",
       "                        <td id=\"T_7ec9a_row1_col0\" class=\"data row1 col0\" >0.417001</td>\n",
       "                        <td id=\"T_7ec9a_row1_col1\" class=\"data row1 col1\" >0.995458</td>\n",
       "                        <td id=\"T_7ec9a_row1_col2\" class=\"data row1 col2\" >0.020422</td>\n",
       "                        <td id=\"T_7ec9a_row1_col3\" class=\"data row1 col3\" >0.379936</td>\n",
       "                        <td id=\"T_7ec9a_row1_col4\" class=\"data row1 col4\" >0.037878</td>\n",
       "                        <td id=\"T_7ec9a_row1_col5\" class=\"data row1 col5\" >0.210145</td>\n",
       "                        <td id=\"T_7ec9a_row1_col6\" class=\"data row1 col6\" >0.029944</td>\n",
       "                        <td id=\"T_7ec9a_row1_col7\" class=\"data row1 col7\" >0.091298</td>\n",
       "                        <td id=\"T_7ec9a_row1_col8\" class=\"data row1 col8\" >0.089543</td>\n",
       "                        <td id=\"T_7ec9a_row1_col9\" class=\"data row1 col9\" >0.190301</td>\n",
       "                        <td id=\"T_7ec9a_row1_col10\" class=\"data row1 col10\" >0.067774</td>\n",
       "                        <td id=\"T_7ec9a_row1_col11\" class=\"data row1 col11\" >0.076595</td>\n",
       "            </tr>\n",
       "            <tr>\n",
       "                        <th id=\"T_7ec9a_level0_row2\" class=\"row_heading level0 row2\" >Unaffordable_Agree</th>\n",
       "                        <td id=\"T_7ec9a_row2_col0\" class=\"data row2 col0\" >0.211617</td>\n",
       "                        <td id=\"T_7ec9a_row2_col1\" class=\"data row2 col1\" >0.020422</td>\n",
       "                        <td id=\"T_7ec9a_row2_col2\" class=\"data row2 col2\" >0.995346</td>\n",
       "                        <td id=\"T_7ec9a_row2_col3\" class=\"data row2 col3\" >0.074114</td>\n",
       "                        <td id=\"T_7ec9a_row2_col4\" class=\"data row2 col4\" >0.068050</td>\n",
       "                        <td id=\"T_7ec9a_row2_col5\" class=\"data row2 col5\" >0.003265</td>\n",
       "                        <td id=\"T_7ec9a_row2_col6\" class=\"data row2 col6\" >0.227203</td>\n",
       "                        <td id=\"T_7ec9a_row2_col7\" class=\"data row2 col7\" >0.095091</td>\n",
       "                        <td id=\"T_7ec9a_row2_col8\" class=\"data row2 col8\" >0.014311</td>\n",
       "                        <td id=\"T_7ec9a_row2_col9\" class=\"data row2 col9\" >0.086229</td>\n",
       "                        <td id=\"T_7ec9a_row2_col10\" class=\"data row2 col10\" >0.091915</td>\n",
       "                        <td id=\"T_7ec9a_row2_col11\" class=\"data row2 col11\" >0.052979</td>\n",
       "            </tr>\n",
       "            <tr>\n",
       "                        <th id=\"T_7ec9a_level0_row3\" class=\"row_heading level0 row3\" >Occupation_Student</th>\n",
       "                        <td id=\"T_7ec9a_row3_col0\" class=\"data row3 col0\" >0.212136</td>\n",
       "                        <td id=\"T_7ec9a_row3_col1\" class=\"data row3 col1\" >0.379936</td>\n",
       "                        <td id=\"T_7ec9a_row3_col2\" class=\"data row3 col2\" >0.074114</td>\n",
       "                        <td id=\"T_7ec9a_row3_col3\" class=\"data row3 col3\" >0.996632</td>\n",
       "                        <td id=\"T_7ec9a_row3_col4\" class=\"data row3 col4\" >0.036932</td>\n",
       "                        <td id=\"T_7ec9a_row3_col5\" class=\"data row3 col5\" >0.039405</td>\n",
       "                        <td id=\"T_7ec9a_row3_col6\" class=\"data row3 col6\" >0.096274</td>\n",
       "                        <td id=\"T_7ec9a_row3_col7\" class=\"data row3 col7\" >0.043976</td>\n",
       "                        <td id=\"T_7ec9a_row3_col8\" class=\"data row3 col8\" >0.037865</td>\n",
       "                        <td id=\"T_7ec9a_row3_col9\" class=\"data row3 col9\" >0.085564</td>\n",
       "                        <td id=\"T_7ec9a_row3_col10\" class=\"data row3 col10\" >0.006906</td>\n",
       "                        <td id=\"T_7ec9a_row3_col11\" class=\"data row3 col11\" >0.047753</td>\n",
       "            </tr>\n",
       "            <tr>\n",
       "                        <th id=\"T_7ec9a_level0_row4\" class=\"row_heading level0 row4\" >Missing item_Neutral</th>\n",
       "                        <td id=\"T_7ec9a_row4_col0\" class=\"data row4 col0\" >0.023664</td>\n",
       "                        <td id=\"T_7ec9a_row4_col1\" class=\"data row4 col1\" >0.037878</td>\n",
       "                        <td id=\"T_7ec9a_row4_col2\" class=\"data row4 col2\" >0.068050</td>\n",
       "                        <td id=\"T_7ec9a_row4_col3\" class=\"data row4 col3\" >0.036932</td>\n",
       "                        <td id=\"T_7ec9a_row4_col4\" class=\"data row4 col4\" >0.994317</td>\n",
       "                        <td id=\"T_7ec9a_row4_col5\" class=\"data row4 col5\" >0.126606</td>\n",
       "                        <td id=\"T_7ec9a_row4_col6\" class=\"data row4 col6\" >0.127467</td>\n",
       "                        <td id=\"T_7ec9a_row4_col7\" class=\"data row4 col7\" >0.129484</td>\n",
       "                        <td id=\"T_7ec9a_row4_col8\" class=\"data row4 col8\" >0.094933</td>\n",
       "                        <td id=\"T_7ec9a_row4_col9\" class=\"data row4 col9\" >0.017257</td>\n",
       "                        <td id=\"T_7ec9a_row4_col10\" class=\"data row4 col10\" >0.180342</td>\n",
       "                        <td id=\"T_7ec9a_row4_col11\" class=\"data row4 col11\" >0.044660</td>\n",
       "            </tr>\n",
       "            <tr>\n",
       "                        <th id=\"T_7ec9a_level0_row5\" class=\"row_heading level0 row5\" >Perference(P2)_ Sweets</th>\n",
       "                        <td id=\"T_7ec9a_row5_col0\" class=\"data row5 col0\" >0.320602</td>\n",
       "                        <td id=\"T_7ec9a_row5_col1\" class=\"data row5 col1\" >0.210145</td>\n",
       "                        <td id=\"T_7ec9a_row5_col2\" class=\"data row5 col2\" >0.003265</td>\n",
       "                        <td id=\"T_7ec9a_row5_col3\" class=\"data row5 col3\" >0.039405</td>\n",
       "                        <td id=\"T_7ec9a_row5_col4\" class=\"data row5 col4\" >0.126606</td>\n",
       "                        <td id=\"T_7ec9a_row5_col5\" class=\"data row5 col5\" >0.994188</td>\n",
       "                        <td id=\"T_7ec9a_row5_col6\" class=\"data row5 col6\" >0.147795</td>\n",
       "                        <td id=\"T_7ec9a_row5_col7\" class=\"data row5 col7\" >0.034091</td>\n",
       "                        <td id=\"T_7ec9a_row5_col8\" class=\"data row5 col8\" >0.052801</td>\n",
       "                        <td id=\"T_7ec9a_row5_col9\" class=\"data row5 col9\" >0.023160</td>\n",
       "                        <td id=\"T_7ec9a_row5_col10\" class=\"data row5 col10\" >0.097443</td>\n",
       "                        <td id=\"T_7ec9a_row5_col11\" class=\"data row5 col11\" >0.015064</td>\n",
       "            </tr>\n",
       "            <tr>\n",
       "                        <th id=\"T_7ec9a_level0_row6\" class=\"row_heading level0 row6\" >Unavailability_Disagree</th>\n",
       "                        <td id=\"T_7ec9a_row6_col0\" class=\"data row6 col0\" >0.103344</td>\n",
       "                        <td id=\"T_7ec9a_row6_col1\" class=\"data row6 col1\" >0.029944</td>\n",
       "                        <td id=\"T_7ec9a_row6_col2\" class=\"data row6 col2\" >0.227203</td>\n",
       "                        <td id=\"T_7ec9a_row6_col3\" class=\"data row6 col3\" >0.096274</td>\n",
       "                        <td id=\"T_7ec9a_row6_col4\" class=\"data row6 col4\" >0.127467</td>\n",
       "                        <td id=\"T_7ec9a_row6_col5\" class=\"data row6 col5\" >0.147795</td>\n",
       "                        <td id=\"T_7ec9a_row6_col6\" class=\"data row6 col6\" >0.996352</td>\n",
       "                        <td id=\"T_7ec9a_row6_col7\" class=\"data row6 col7\" >0.003843</td>\n",
       "                        <td id=\"T_7ec9a_row6_col8\" class=\"data row6 col8\" >0.072909</td>\n",
       "                        <td id=\"T_7ec9a_row6_col9\" class=\"data row6 col9\" >0.109253</td>\n",
       "                        <td id=\"T_7ec9a_row6_col10\" class=\"data row6 col10\" >0.057058</td>\n",
       "                        <td id=\"T_7ec9a_row6_col11\" class=\"data row6 col11\" >0.034446</td>\n",
       "            </tr>\n",
       "            <tr>\n",
       "                        <th id=\"T_7ec9a_level0_row7\" class=\"row_heading level0 row7\" >Late Delivery_Disagree</th>\n",
       "                        <td id=\"T_7ec9a_row7_col0\" class=\"data row7 col0\" >0.088218</td>\n",
       "                        <td id=\"T_7ec9a_row7_col1\" class=\"data row7 col1\" >0.091298</td>\n",
       "                        <td id=\"T_7ec9a_row7_col2\" class=\"data row7 col2\" >0.095091</td>\n",
       "                        <td id=\"T_7ec9a_row7_col3\" class=\"data row7 col3\" >0.043976</td>\n",
       "                        <td id=\"T_7ec9a_row7_col4\" class=\"data row7 col4\" >0.129484</td>\n",
       "                        <td id=\"T_7ec9a_row7_col5\" class=\"data row7 col5\" >0.034091</td>\n",
       "                        <td id=\"T_7ec9a_row7_col6\" class=\"data row7 col6\" >0.003843</td>\n",
       "                        <td id=\"T_7ec9a_row7_col7\" class=\"data row7 col7\" >0.993527</td>\n",
       "                        <td id=\"T_7ec9a_row7_col8\" class=\"data row7 col8\" >0.031280</td>\n",
       "                        <td id=\"T_7ec9a_row7_col9\" class=\"data row7 col9\" >0.032441</td>\n",
       "                        <td id=\"T_7ec9a_row7_col10\" class=\"data row7 col10\" >0.019590</td>\n",
       "                        <td id=\"T_7ec9a_row7_col11\" class=\"data row7 col11\" >0.002736</td>\n",
       "            </tr>\n",
       "            <tr>\n",
       "                        <th id=\"T_7ec9a_level0_row8\" class=\"row_heading level0 row8\" >Delay of delivery person getting assigned_Strongly agree</th>\n",
       "                        <td id=\"T_7ec9a_row8_col0\" class=\"data row8 col0\" >0.113732</td>\n",
       "                        <td id=\"T_7ec9a_row8_col1\" class=\"data row8 col1\" >0.089543</td>\n",
       "                        <td id=\"T_7ec9a_row8_col2\" class=\"data row8 col2\" >0.014311</td>\n",
       "                        <td id=\"T_7ec9a_row8_col3\" class=\"data row8 col3\" >0.037865</td>\n",
       "                        <td id=\"T_7ec9a_row8_col4\" class=\"data row8 col4\" >0.094933</td>\n",
       "                        <td id=\"T_7ec9a_row8_col5\" class=\"data row8 col5\" >0.052801</td>\n",
       "                        <td id=\"T_7ec9a_row8_col6\" class=\"data row8 col6\" >0.072909</td>\n",
       "                        <td id=\"T_7ec9a_row8_col7\" class=\"data row8 col7\" >0.031280</td>\n",
       "                        <td id=\"T_7ec9a_row8_col8\" class=\"data row8 col8\" >0.993151</td>\n",
       "                        <td id=\"T_7ec9a_row8_col9\" class=\"data row8 col9\" >0.057499</td>\n",
       "                        <td id=\"T_7ec9a_row8_col10\" class=\"data row8 col10\" >0.121975</td>\n",
       "                        <td id=\"T_7ec9a_row8_col11\" class=\"data row8 col11\" >0.001946</td>\n",
       "            </tr>\n",
       "            <tr>\n",
       "                        <th id=\"T_7ec9a_level0_row9\" class=\"row_heading level0 row9\" >Maximum wait time_15 minutes</th>\n",
       "                        <td id=\"T_7ec9a_row9_col0\" class=\"data row9 col0\" >0.374955</td>\n",
       "                        <td id=\"T_7ec9a_row9_col1\" class=\"data row9 col1\" >0.190301</td>\n",
       "                        <td id=\"T_7ec9a_row9_col2\" class=\"data row9 col2\" >0.086229</td>\n",
       "                        <td id=\"T_7ec9a_row9_col3\" class=\"data row9 col3\" >0.085564</td>\n",
       "                        <td id=\"T_7ec9a_row9_col4\" class=\"data row9 col4\" >0.017257</td>\n",
       "                        <td id=\"T_7ec9a_row9_col5\" class=\"data row9 col5\" >0.023160</td>\n",
       "                        <td id=\"T_7ec9a_row9_col6\" class=\"data row9 col6\" >0.109253</td>\n",
       "                        <td id=\"T_7ec9a_row9_col7\" class=\"data row9 col7\" >0.032441</td>\n",
       "                        <td id=\"T_7ec9a_row9_col8\" class=\"data row9 col8\" >0.057499</td>\n",
       "                        <td id=\"T_7ec9a_row9_col9\" class=\"data row9 col9\" >0.994317</td>\n",
       "                        <td id=\"T_7ec9a_row9_col10\" class=\"data row9 col10\" >0.047317</td>\n",
       "                        <td id=\"T_7ec9a_row9_col11\" class=\"data row9 col11\" >0.106385</td>\n",
       "            </tr>\n",
       "            <tr>\n",
       "                        <th id=\"T_7ec9a_level0_row10\" class=\"row_heading level0 row10\" >High Quality of package_Important</th>\n",
       "                        <td id=\"T_7ec9a_row10_col0\" class=\"data row10 col0\" >0.092123</td>\n",
       "                        <td id=\"T_7ec9a_row10_col1\" class=\"data row10 col1\" >0.067774</td>\n",
       "                        <td id=\"T_7ec9a_row10_col2\" class=\"data row10 col2\" >0.091915</td>\n",
       "                        <td id=\"T_7ec9a_row10_col3\" class=\"data row10 col3\" >0.006906</td>\n",
       "                        <td id=\"T_7ec9a_row10_col4\" class=\"data row10 col4\" >0.180342</td>\n",
       "                        <td id=\"T_7ec9a_row10_col5\" class=\"data row10 col5\" >0.097443</td>\n",
       "                        <td id=\"T_7ec9a_row10_col6\" class=\"data row10 col6\" >0.057058</td>\n",
       "                        <td id=\"T_7ec9a_row10_col7\" class=\"data row10 col7\" >0.019590</td>\n",
       "                        <td id=\"T_7ec9a_row10_col8\" class=\"data row10 col8\" >0.121975</td>\n",
       "                        <td id=\"T_7ec9a_row10_col9\" class=\"data row10 col9\" >0.047317</td>\n",
       "                        <td id=\"T_7ec9a_row10_col10\" class=\"data row10 col10\" >0.996540</td>\n",
       "                        <td id=\"T_7ec9a_row10_col11\" class=\"data row10 col11\" >0.052172</td>\n",
       "            </tr>\n",
       "            <tr>\n",
       "                        <th id=\"T_7ec9a_level0_row11\" class=\"row_heading level0 row11\" >Delivery person ability_Agree</th>\n",
       "                        <td id=\"T_7ec9a_row11_col0\" class=\"data row11 col0\" >0.104931</td>\n",
       "                        <td id=\"T_7ec9a_row11_col1\" class=\"data row11 col1\" >0.076595</td>\n",
       "                        <td id=\"T_7ec9a_row11_col2\" class=\"data row11 col2\" >0.052979</td>\n",
       "                        <td id=\"T_7ec9a_row11_col3\" class=\"data row11 col3\" >0.047753</td>\n",
       "                        <td id=\"T_7ec9a_row11_col4\" class=\"data row11 col4\" >0.044660</td>\n",
       "                        <td id=\"T_7ec9a_row11_col5\" class=\"data row11 col5\" >0.015064</td>\n",
       "                        <td id=\"T_7ec9a_row11_col6\" class=\"data row11 col6\" >0.034446</td>\n",
       "                        <td id=\"T_7ec9a_row11_col7\" class=\"data row11 col7\" >0.002736</td>\n",
       "                        <td id=\"T_7ec9a_row11_col8\" class=\"data row11 col8\" >0.001946</td>\n",
       "                        <td id=\"T_7ec9a_row11_col9\" class=\"data row11 col9\" >0.106385</td>\n",
       "                        <td id=\"T_7ec9a_row11_col10\" class=\"data row11 col10\" >0.052172</td>\n",
       "                        <td id=\"T_7ec9a_row11_col11\" class=\"data row11 col11\" >0.996580</td>\n",
       "            </tr>\n",
       "    </tbody></table>"
      ],
      "text/plain": [
       "<pandas.io.formats.style.Styler at 0x161c10ad588>"
      ]
     },
     "execution_count": 109,
     "metadata": {},
     "output_type": "execute_result"
    }
   ],
   "source": [
    "relation_between_feature.style.apply(lambda x: [\"background: red\" if v>0.25 and v<0.99 else \"\" for v in x], axis = 1)"
   ]
  },
  {
   "cell_type": "code",
   "execution_count": 110,
   "metadata": {
    "ExecuteTime": {
     "end_time": "2021-03-27T03:56:38.010783Z",
     "start_time": "2021-03-27T03:56:37.994784Z"
    }
   },
   "outputs": [],
   "source": [
    "multicolinear_feature=[\"Perference(P2)_ Sweets\",\"Maximum wait time_15 minutes\",\"More restaurant choices_Disagree\"]"
   ]
  },
  {
   "cell_type": "code",
   "execution_count": 111,
   "metadata": {
    "ExecuteTime": {
     "end_time": "2021-03-27T03:56:38.194766Z",
     "start_time": "2021-03-27T03:56:38.010783Z"
    }
   },
   "outputs": [],
   "source": [
    "final_feature=list(relation_between_feature.columns)"
   ]
  },
  {
   "cell_type": "code",
   "execution_count": 112,
   "metadata": {
    "ExecuteTime": {
     "end_time": "2021-03-27T03:56:38.314755Z",
     "start_time": "2021-03-27T03:56:38.194766Z"
    }
   },
   "outputs": [
    {
     "data": {
      "text/plain": [
       "['Ease and convenient_Disagree',\n",
       " 'More restaurant choices_Disagree',\n",
       " 'Unaffordable_Agree',\n",
       " 'Occupation_Student',\n",
       " 'Missing item_Neutral',\n",
       " 'Perference(P2)_ Sweets',\n",
       " 'Unavailability_Disagree',\n",
       " 'Late Delivery_Disagree',\n",
       " 'Delay of delivery person getting assigned_Strongly agree',\n",
       " 'Maximum wait time_15 minutes',\n",
       " 'High Quality of package_Important',\n",
       " 'Delivery person ability_Agree']"
      ]
     },
     "execution_count": 112,
     "metadata": {},
     "output_type": "execute_result"
    }
   ],
   "source": [
    "final_feature"
   ]
  },
  {
   "cell_type": "code",
   "execution_count": 113,
   "metadata": {
    "ExecuteTime": {
     "end_time": "2021-03-27T03:56:38.394748Z",
     "start_time": "2021-03-27T03:56:38.314755Z"
    }
   },
   "outputs": [],
   "source": [
    "set1 = set(final_feature)\n",
    "set2 = set(multicolinear_feature)\n",
    "final_feature = list(set1 - set2)"
   ]
  },
  {
   "cell_type": "code",
   "execution_count": 114,
   "metadata": {
    "ExecuteTime": {
     "end_time": "2021-03-27T03:56:38.498741Z",
     "start_time": "2021-03-27T03:56:38.394748Z"
    }
   },
   "outputs": [
    {
     "data": {
      "text/plain": [
       "['Delivery person ability_Agree',\n",
       " 'Unavailability_Disagree',\n",
       " 'Occupation_Student',\n",
       " 'Missing item_Neutral',\n",
       " 'High Quality of package_Important',\n",
       " 'Late Delivery_Disagree',\n",
       " 'Unaffordable_Agree',\n",
       " 'Ease and convenient_Disagree',\n",
       " 'Delay of delivery person getting assigned_Strongly agree']"
      ]
     },
     "execution_count": 114,
     "metadata": {},
     "output_type": "execute_result"
    }
   ],
   "source": [
    "final_feature"
   ]
  },
  {
   "cell_type": "code",
   "execution_count": 115,
   "metadata": {
    "ExecuteTime": {
     "end_time": "2021-03-27T03:56:40.296337Z",
     "start_time": "2021-03-27T03:56:38.498741Z"
    }
   },
   "outputs": [
    {
     "data": {
      "text/plain": [
       "'fgini.png'"
      ]
     },
     "execution_count": 115,
     "metadata": {},
     "output_type": "execute_result"
    }
   ],
   "source": [
    "\n",
    "import graphviz\n",
    "import sklearn.tree as tree\n",
    "# DOT data\n",
    "dot_data = tree.export_graphviz(clf, out_file=None, \n",
    "                                feature_names=X.columns,  \n",
    "                                class_names='01',\n",
    "                                filled=True)\n",
    "\n",
    "# # Draw graph\n",
    "graph = graphviz.Source(dot_data,format=\"png\") \n",
    "graph.render('fgini')\n",
    "# graph"
   ]
  },
  {
   "cell_type": "markdown",
   "metadata": {},
   "source": [
    "# Decesion Tree model"
   ]
  },
  {
   "cell_type": "code",
   "execution_count": 116,
   "metadata": {
    "ExecuteTime": {
     "end_time": "2021-03-27T03:56:40.368327Z",
     "start_time": "2021-03-27T03:56:40.296337Z"
    }
   },
   "outputs": [],
   "source": [
    "fd_dlvry=pd.read_csv('../../data/Banglore_food_delivery/onlinedeliverydata.csv')\n",
    "\n",
    "fd_dlvry.drop(['Pin code','longitude','latitude','Reviews'],axis=1,inplace=True)\n",
    "\n",
    "fd_dlvry['Output']=fd_dlvry['Output'].replace({'Yes':1,'No':0})"
   ]
  },
  {
   "cell_type": "code",
   "execution_count": 117,
   "metadata": {
    "ExecuteTime": {
     "end_time": "2021-03-27T03:56:40.488317Z",
     "start_time": "2021-03-27T03:56:40.368327Z"
    }
   },
   "outputs": [
    {
     "data": {
      "text/html": [
       "<div>\n",
       "<style scoped>\n",
       "    .dataframe tbody tr th:only-of-type {\n",
       "        vertical-align: middle;\n",
       "    }\n",
       "\n",
       "    .dataframe tbody tr th {\n",
       "        vertical-align: top;\n",
       "    }\n",
       "\n",
       "    .dataframe thead th {\n",
       "        text-align: right;\n",
       "    }\n",
       "</style>\n",
       "<table border=\"1\" class=\"dataframe\">\n",
       "  <thead>\n",
       "    <tr style=\"text-align: right;\">\n",
       "      <th></th>\n",
       "      <th>Age</th>\n",
       "      <th>Gender</th>\n",
       "      <th>Marital Status</th>\n",
       "      <th>Occupation</th>\n",
       "      <th>Monthly Income</th>\n",
       "      <th>Educational Qualifications</th>\n",
       "      <th>Family size</th>\n",
       "      <th>Medium (P1)</th>\n",
       "      <th>Medium (P2)</th>\n",
       "      <th>Meal(P1)</th>\n",
       "      <th>...</th>\n",
       "      <th>Influence of rating</th>\n",
       "      <th>Less Delivery time</th>\n",
       "      <th>High Quality of package</th>\n",
       "      <th>Number of calls</th>\n",
       "      <th>Politeness</th>\n",
       "      <th>Freshness</th>\n",
       "      <th>Temperature</th>\n",
       "      <th>Good Taste</th>\n",
       "      <th>Good Quantity</th>\n",
       "      <th>Output</th>\n",
       "    </tr>\n",
       "  </thead>\n",
       "  <tbody>\n",
       "    <tr>\n",
       "      <th>0</th>\n",
       "      <td>20</td>\n",
       "      <td>Female</td>\n",
       "      <td>Single</td>\n",
       "      <td>Student</td>\n",
       "      <td>No Income</td>\n",
       "      <td>Post Graduate</td>\n",
       "      <td>4</td>\n",
       "      <td>Food delivery apps</td>\n",
       "      <td>Web browser</td>\n",
       "      <td>Breakfast</td>\n",
       "      <td>...</td>\n",
       "      <td>Yes</td>\n",
       "      <td>Moderately Important</td>\n",
       "      <td>Moderately Important</td>\n",
       "      <td>Moderately Important</td>\n",
       "      <td>Moderately Important</td>\n",
       "      <td>Moderately Important</td>\n",
       "      <td>Moderately Important</td>\n",
       "      <td>Moderately Important</td>\n",
       "      <td>Moderately Important</td>\n",
       "      <td>1</td>\n",
       "    </tr>\n",
       "    <tr>\n",
       "      <th>1</th>\n",
       "      <td>24</td>\n",
       "      <td>Female</td>\n",
       "      <td>Single</td>\n",
       "      <td>Student</td>\n",
       "      <td>Below Rs.10000</td>\n",
       "      <td>Graduate</td>\n",
       "      <td>3</td>\n",
       "      <td>Food delivery apps</td>\n",
       "      <td>Web browser</td>\n",
       "      <td>Snacks</td>\n",
       "      <td>...</td>\n",
       "      <td>Yes</td>\n",
       "      <td>Very Important</td>\n",
       "      <td>Very Important</td>\n",
       "      <td>Very Important</td>\n",
       "      <td>Very Important</td>\n",
       "      <td>Very Important</td>\n",
       "      <td>Very Important</td>\n",
       "      <td>Very Important</td>\n",
       "      <td>Very Important</td>\n",
       "      <td>1</td>\n",
       "    </tr>\n",
       "    <tr>\n",
       "      <th>2</th>\n",
       "      <td>22</td>\n",
       "      <td>Male</td>\n",
       "      <td>Single</td>\n",
       "      <td>Student</td>\n",
       "      <td>Below Rs.10000</td>\n",
       "      <td>Post Graduate</td>\n",
       "      <td>3</td>\n",
       "      <td>Food delivery apps</td>\n",
       "      <td>Direct call</td>\n",
       "      <td>Lunch</td>\n",
       "      <td>...</td>\n",
       "      <td>Yes</td>\n",
       "      <td>Important</td>\n",
       "      <td>Very Important</td>\n",
       "      <td>Moderately Important</td>\n",
       "      <td>Very Important</td>\n",
       "      <td>Very Important</td>\n",
       "      <td>Important</td>\n",
       "      <td>Very Important</td>\n",
       "      <td>Moderately Important</td>\n",
       "      <td>1</td>\n",
       "    </tr>\n",
       "    <tr>\n",
       "      <th>3</th>\n",
       "      <td>22</td>\n",
       "      <td>Female</td>\n",
       "      <td>Single</td>\n",
       "      <td>Student</td>\n",
       "      <td>No Income</td>\n",
       "      <td>Graduate</td>\n",
       "      <td>6</td>\n",
       "      <td>Food delivery apps</td>\n",
       "      <td>Walk-in</td>\n",
       "      <td>Snacks</td>\n",
       "      <td>...</td>\n",
       "      <td>Yes</td>\n",
       "      <td>Very Important</td>\n",
       "      <td>Important</td>\n",
       "      <td>Moderately Important</td>\n",
       "      <td>Very Important</td>\n",
       "      <td>Very Important</td>\n",
       "      <td>Very Important</td>\n",
       "      <td>Very Important</td>\n",
       "      <td>Important</td>\n",
       "      <td>1</td>\n",
       "    </tr>\n",
       "    <tr>\n",
       "      <th>4</th>\n",
       "      <td>22</td>\n",
       "      <td>Male</td>\n",
       "      <td>Single</td>\n",
       "      <td>Student</td>\n",
       "      <td>Below Rs.10000</td>\n",
       "      <td>Post Graduate</td>\n",
       "      <td>4</td>\n",
       "      <td>Walk-in</td>\n",
       "      <td>Direct call</td>\n",
       "      <td>Lunch</td>\n",
       "      <td>...</td>\n",
       "      <td>Yes</td>\n",
       "      <td>Important</td>\n",
       "      <td>Important</td>\n",
       "      <td>Moderately Important</td>\n",
       "      <td>Important</td>\n",
       "      <td>Important</td>\n",
       "      <td>Important</td>\n",
       "      <td>Very Important</td>\n",
       "      <td>Very Important</td>\n",
       "      <td>1</td>\n",
       "    </tr>\n",
       "  </tbody>\n",
       "</table>\n",
       "<p>5 rows × 51 columns</p>\n",
       "</div>"
      ],
      "text/plain": [
       "   Age  Gender Marital Status Occupation  Monthly Income  \\\n",
       "0   20  Female         Single    Student       No Income   \n",
       "1   24  Female         Single    Student  Below Rs.10000   \n",
       "2   22    Male         Single    Student  Below Rs.10000   \n",
       "3   22  Female         Single    Student       No Income   \n",
       "4   22    Male         Single    Student  Below Rs.10000   \n",
       "\n",
       "  Educational Qualifications  Family size         Medium (P1)   Medium (P2)  \\\n",
       "0              Post Graduate            4  Food delivery apps   Web browser   \n",
       "1                   Graduate            3  Food delivery apps   Web browser   \n",
       "2              Post Graduate            3  Food delivery apps   Direct call   \n",
       "3                   Graduate            6  Food delivery apps       Walk-in   \n",
       "4              Post Graduate            4             Walk-in   Direct call   \n",
       "\n",
       "    Meal(P1)  ... Influence of rating    Less Delivery time  \\\n",
       "0  Breakfast  ...                 Yes  Moderately Important   \n",
       "1     Snacks  ...                 Yes        Very Important   \n",
       "2      Lunch  ...                 Yes             Important   \n",
       "3     Snacks  ...                 Yes        Very Important   \n",
       "4      Lunch  ...                 Yes             Important   \n",
       "\n",
       "  High Quality of package       Number of calls            Politeness  \\\n",
       "0    Moderately Important  Moderately Important  Moderately Important   \n",
       "1          Very Important        Very Important        Very Important   \n",
       "2          Very Important  Moderately Important        Very Important   \n",
       "3               Important  Moderately Important        Very Important   \n",
       "4               Important  Moderately Important             Important   \n",
       "\n",
       "             Freshness            Temperature           Good Taste   \\\n",
       "0  Moderately Important  Moderately Important  Moderately Important   \n",
       "1        Very Important        Very Important        Very Important   \n",
       "2        Very Important             Important        Very Important   \n",
       "3        Very Important        Very Important        Very Important   \n",
       "4             Important             Important        Very Important   \n",
       "\n",
       "          Good Quantity Output  \n",
       "0  Moderately Important      1  \n",
       "1        Very Important      1  \n",
       "2  Moderately Important      1  \n",
       "3             Important      1  \n",
       "4        Very Important      1  \n",
       "\n",
       "[5 rows x 51 columns]"
      ]
     },
     "execution_count": 117,
     "metadata": {},
     "output_type": "execute_result"
    }
   ],
   "source": [
    "fd_dlvry.head()"
   ]
  },
  {
   "cell_type": "code",
   "execution_count": 118,
   "metadata": {
    "ExecuteTime": {
     "end_time": "2021-03-27T03:56:40.688297Z",
     "start_time": "2021-03-27T03:56:40.488317Z"
    }
   },
   "outputs": [
    {
     "data": {
      "text/plain": [
       "(388, 223)"
      ]
     },
     "execution_count": 118,
     "metadata": {},
     "output_type": "execute_result"
    }
   ],
   "source": [
    "fd_ori=fd_dlvry.copy(deep=True)\n",
    "df=pd.get_dummies(fd_dlvry)\n",
    "df.shape"
   ]
  },
  {
   "cell_type": "code",
   "execution_count": 119,
   "metadata": {
    "ExecuteTime": {
     "end_time": "2021-03-27T03:56:40.704299Z",
     "start_time": "2021-03-27T03:56:40.688297Z"
    }
   },
   "outputs": [],
   "source": [
    "final_feature=['Unaffordable_Agree',\n",
    " 'Delay of delivery person getting assigned_Strongly agree',\n",
    " 'Long delivery time_Agree',\n",
    " 'Wrong order delivered_Strongly disagree',\n",
    " 'Missing item_Neutral',\n",
    " 'Unavailability_Disagree',\n",
    " 'Occupation_Student',\n",
    " 'Ease and convenient_Disagree',\n",
    " 'Late Delivery_Disagree']"
   ]
  },
  {
   "cell_type": "code",
   "execution_count": 120,
   "metadata": {
    "ExecuteTime": {
     "end_time": "2021-03-27T03:56:40.880280Z",
     "start_time": "2021-03-27T03:56:40.704299Z"
    }
   },
   "outputs": [
    {
     "data": {
      "text/plain": [
       "['Unaffordable_Agree',\n",
       " 'Delay of delivery person getting assigned_Strongly agree',\n",
       " 'Long delivery time_Agree',\n",
       " 'Wrong order delivered_Strongly disagree',\n",
       " 'Missing item_Neutral',\n",
       " 'Unavailability_Disagree',\n",
       " 'Occupation_Student',\n",
       " 'Ease and convenient_Disagree',\n",
       " 'Late Delivery_Disagree']"
      ]
     },
     "execution_count": 120,
     "metadata": {},
     "output_type": "execute_result"
    }
   ],
   "source": [
    "final_feature"
   ]
  },
  {
   "cell_type": "code",
   "execution_count": 121,
   "metadata": {
    "ExecuteTime": {
     "end_time": "2021-03-27T03:56:41.000270Z",
     "start_time": "2021-03-27T03:56:40.880280Z"
    }
   },
   "outputs": [],
   "source": [
    "X=df[final_feature]\n",
    "y=df['Output']\n",
    "nm=RandomOverSampler()\n",
    "X,y=nm.fit_sample(X,y)\n"
   ]
  },
  {
   "cell_type": "code",
   "execution_count": 122,
   "metadata": {
    "ExecuteTime": {
     "end_time": "2021-03-27T03:56:41.096262Z",
     "start_time": "2021-03-27T03:56:41.000270Z"
    }
   },
   "outputs": [
    {
     "data": {
      "text/plain": [
       "DecisionTreeClassifier(max_depth=6, min_samples_leaf=2, min_samples_split=4,\n",
       "                       random_state=0)"
      ]
     },
     "execution_count": 122,
     "metadata": {},
     "output_type": "execute_result"
    }
   ],
   "source": [
    "X_train, X_test, y_train, y_test = train_test_split(X, y, test_size = 0.33)\n",
    "clf=DecisionTreeClassifier(random_state=0,max_depth=6,min_samples_leaf=2,min_samples_split=4)\n",
    "clf.fit(X,y)"
   ]
  },
  {
   "cell_type": "code",
   "execution_count": 123,
   "metadata": {
    "ExecuteTime": {
     "end_time": "2021-03-27T03:56:41.208255Z",
     "start_time": "2021-03-27T03:56:41.096262Z"
    }
   },
   "outputs": [
    {
     "data": {
      "text/plain": [
       "0.8994974874371859"
      ]
     },
     "execution_count": 123,
     "metadata": {},
     "output_type": "execute_result"
    }
   ],
   "source": [
    "clf.score(X_test,y_test)"
   ]
  },
  {
   "cell_type": "code",
   "execution_count": 124,
   "metadata": {
    "ExecuteTime": {
     "end_time": "2021-03-27T03:56:41.344239Z",
     "start_time": "2021-03-27T03:56:41.208255Z"
    }
   },
   "outputs": [
    {
     "data": {
      "text/plain": [
       "array([1, 1, 1, 1, 0, 0, 1, 1, 1, 0, 1, 1, 0, 1, 1, 1, 1, 1, 0, 1, 0, 0,\n",
       "       0, 1, 0, 1, 0, 1, 0, 1, 0, 0, 1, 0, 0, 1, 0, 1, 1, 1, 1, 0, 0, 0,\n",
       "       1, 0, 1, 0, 1, 0, 0, 1, 1, 1, 1, 1, 1, 1, 1, 1, 1, 1, 1, 1, 0, 1,\n",
       "       1, 0, 1, 1, 1, 1, 0, 0, 0, 1, 0, 1, 1, 1, 0, 0, 1, 0, 1, 0, 1, 0,\n",
       "       1, 0, 0, 0, 1, 1, 0, 0, 0, 0, 0, 0, 0, 1, 0, 0, 1, 1, 1, 1, 1, 1,\n",
       "       1, 0, 0, 0, 0, 0, 0, 1, 1, 1, 1, 0, 0, 0, 1, 0, 1, 1, 0, 0, 0, 1,\n",
       "       1, 0, 1, 0, 1, 1, 1, 0, 0, 1, 0, 1, 1, 1, 1, 1, 1, 0, 0, 1, 1, 0,\n",
       "       1, 1, 1, 1, 0, 0, 0, 1, 1, 1, 1, 0, 0, 0, 1, 0, 1, 1, 0, 1, 0, 1,\n",
       "       1, 1, 0, 0, 1, 1, 1, 0, 1, 0, 1, 1, 0, 0, 1, 1, 1, 1, 0, 1, 0, 1,\n",
       "       0], dtype=int64)"
      ]
     },
     "execution_count": 124,
     "metadata": {},
     "output_type": "execute_result"
    }
   ],
   "source": [
    "y_pred=clf.predict(X_test)\n",
    "y_pred"
   ]
  },
  {
   "cell_type": "code",
   "execution_count": null,
   "metadata": {
    "ExecuteTime": {
     "end_time": "2021-02-12T05:13:36.330261Z",
     "start_time": "2021-02-12T05:13:36.295282Z"
    }
   },
   "outputs": [],
   "source": []
  },
  {
   "cell_type": "code",
   "execution_count": 125,
   "metadata": {
    "ExecuteTime": {
     "end_time": "2021-03-27T03:56:41.440231Z",
     "start_time": "2021-03-27T03:56:41.344239Z"
    }
   },
   "outputs": [
    {
     "name": "stdout",
     "output_type": "stream",
     "text": [
      "[[82 17]\n",
      " [ 3 97]]\n"
     ]
    }
   ],
   "source": [
    "print(confusion_matrix(y_test,y_pred))"
   ]
  },
  {
   "cell_type": "code",
   "execution_count": 126,
   "metadata": {
    "ExecuteTime": {
     "end_time": "2021-03-27T03:56:41.840196Z",
     "start_time": "2021-03-27T03:56:41.440231Z"
    }
   },
   "outputs": [
    {
     "name": "stdout",
     "output_type": "stream",
     "text": [
      "List of possible accuracy: [0.8431372549019608, 0.7843137254901961, 0.8, 0.9, 0.86, 0.8, 0.78, 0.92, 0.82, 0.92, 0.84, 0.9]\n",
      "\n",
      "Maximum Accuracy That can be obtained from this model is: 92.0 %\n",
      "\n",
      "Minimum Accuracy: 78.0 %\n",
      "\n",
      "Average Accuracy That can be obtained from this model is:: 0.8472875816993465\n",
      "\n",
      " Median Accuracy That can be obtained from this model is:: 0.8415686274509804\n",
      "\n",
      "Standard Deviation is: 0.05006121034360947\n"
     ]
    }
   ],
   "source": [
    "lst_accu_stratified = [] \n",
    "x=0\n",
    "x=0\n",
    "feature_common=pd.DataFrame()\n",
    "skf = StratifiedKFold(n_splits=12, shuffle=True, random_state=1) \n",
    "for train_index, test_index in skf.split(X, y): \n",
    "    x_train_fold, x_test_fold = X.loc[train_index,:], X.loc[test_index,:] \n",
    "    y_train_fold, y_test_fold = y[train_index], y[test_index] \n",
    "    clf.fit(x_train_fold, y_train_fold)\n",
    "    \n",
    "    lst_accu_stratified.append(clf.score(x_test_fold, y_test_fold))\n",
    "    \n",
    "    \n",
    "print('List of possible accuracy:', lst_accu_stratified) \n",
    "print('\\nMaximum Accuracy That can be obtained from this model is:', \n",
    "      max(lst_accu_stratified)*100, '%') \n",
    "print('\\nMinimum Accuracy:', \n",
    "      min(lst_accu_stratified)*100, '%') \n",
    "print('\\nAverage Accuracy That can be obtained from this model is::',np.mean(lst_accu_stratified)) \n",
    "print('\\n Median Accuracy That can be obtained from this model is::',np.median(lst_accu_stratified)) \n",
    "print('\\nStandard Deviation is:',np.std(lst_accu_stratified)) "
   ]
  },
  {
   "cell_type": "code",
   "execution_count": 127,
   "metadata": {
    "ExecuteTime": {
     "end_time": "2021-03-27T03:56:41.864191Z",
     "start_time": "2021-03-27T03:56:41.840196Z"
    }
   },
   "outputs": [
    {
     "data": {
      "text/plain": [
       "{'Unaffordable_Agree': 1,\n",
       " 'Delay of delivery person getting assigned_Strongly agree': 0,\n",
       " 'Long delivery time_Agree': 1,\n",
       " 'Wrong order delivered_Strongly disagree': 0,\n",
       " 'Missing item_Neutral': 1,\n",
       " 'Unavailability_Disagree': 0,\n",
       " 'Occupation_Student': 0,\n",
       " 'Ease and convenient_Disagree': 0,\n",
       " 'Late Delivery_Disagree': 0}"
      ]
     },
     "execution_count": 127,
     "metadata": {},
     "output_type": "execute_result"
    }
   ],
   "source": [
    "list_1=[1,0,1,0,1,0,0,0,0]\n",
    "pre=np.array(list_1).reshape(1,-1)\n",
    "nk=dict(zip(X_test.columns,list_1))\n",
    "nk\n"
   ]
  },
  {
   "cell_type": "code",
   "execution_count": 128,
   "metadata": {
    "ExecuteTime": {
     "end_time": "2021-03-27T03:56:41.984182Z",
     "start_time": "2021-03-27T03:56:41.864191Z"
    }
   },
   "outputs": [],
   "source": [
    "# import graphviz\n",
    "# import sklearn.tree as tree\n",
    "# # DOT data\n",
    "# dot_data = tree.export_graphviz(clf, out_file=None, \n",
    "#                                 feature_names=X_test.columns,  \n",
    "#                                 class_names='01',\n",
    "#                                 filled=True)\n",
    "\n",
    "# # # Draw graph\n",
    "# graph = graphviz.Source(dot_data,format=\"png\") \n",
    "# graph.render('fgini')\n",
    "# # graph"
   ]
  },
  {
   "cell_type": "code",
   "execution_count": 129,
   "metadata": {
    "ExecuteTime": {
     "end_time": "2021-03-27T03:56:42.072176Z",
     "start_time": "2021-03-27T03:56:41.984182Z"
    }
   },
   "outputs": [
    {
     "data": {
      "text/plain": [
       "array([0], dtype=int64)"
      ]
     },
     "execution_count": 129,
     "metadata": {},
     "output_type": "execute_result"
    }
   ],
   "source": [
    "clf.predict(pre)"
   ]
  },
  {
   "cell_type": "code",
   "execution_count": 130,
   "metadata": {
    "ExecuteTime": {
     "end_time": "2021-03-27T03:56:42.176164Z",
     "start_time": "2021-03-27T03:56:42.072176Z"
    }
   },
   "outputs": [
    {
     "data": {
      "text/plain": [
       "dict_keys(['Unaffordable_Agree', 'Delay of delivery person getting assigned_Strongly agree', 'Long delivery time_Agree', 'Wrong order delivered_Strongly disagree', 'Missing item_Neutral', 'Unavailability_Disagree', 'Occupation_Student', 'Ease and convenient_Disagree', 'Late Delivery_Disagree'])"
      ]
     },
     "execution_count": 130,
     "metadata": {},
     "output_type": "execute_result"
    }
   ],
   "source": [
    "nk.keys()"
   ]
  },
  {
   "cell_type": "code",
   "execution_count": 131,
   "metadata": {
    "ExecuteTime": {
     "end_time": "2021-03-27T03:56:42.256157Z",
     "start_time": "2021-03-27T03:56:42.176164Z"
    }
   },
   "outputs": [
    {
     "data": {
      "text/plain": [
       "array(['Agree', 'Strongly agree', 'Disagree', 'Neutral',\n",
       "       'Strongly disagree'], dtype=object)"
      ]
     },
     "execution_count": 131,
     "metadata": {},
     "output_type": "execute_result"
    }
   ],
   "source": [
    "fd_dlvry['Missing item'].unique()"
   ]
  },
  {
   "cell_type": "markdown",
   "metadata": {},
   "source": [
    "# Random forest\n"
   ]
  },
  {
   "cell_type": "markdown",
   "metadata": {},
   "source": [
    "## Feature selection by Random forest"
   ]
  },
  {
   "cell_type": "code",
   "execution_count": 132,
   "metadata": {
    "ExecuteTime": {
     "end_time": "2021-03-27T03:56:42.424141Z",
     "start_time": "2021-03-27T03:56:42.256157Z"
    }
   },
   "outputs": [],
   "source": [
    "from sklearn.ensemble import RandomForestClassifier\n",
    "clf=RandomForestClassifier(max_depth=6,min_samples_split=4)"
   ]
  },
  {
   "cell_type": "code",
   "execution_count": 133,
   "metadata": {
    "ExecuteTime": {
     "end_time": "2021-03-27T03:56:42.560129Z",
     "start_time": "2021-03-27T03:56:42.424141Z"
    }
   },
   "outputs": [],
   "source": [
    "from sklearn.feature_selection import SelectFromModel"
   ]
  },
  {
   "cell_type": "code",
   "execution_count": 134,
   "metadata": {
    "ExecuteTime": {
     "end_time": "2021-03-27T03:56:42.816332Z",
     "start_time": "2021-03-27T03:56:42.560129Z"
    }
   },
   "outputs": [],
   "source": [
    "X=df.iloc[:,:-1]\n",
    "y=df.iloc[:,-1]\n",
    "\n",
    "nm=RandomOverSampler()\n",
    "X,y=nm.fit_sample(X,y)"
   ]
  },
  {
   "cell_type": "code",
   "execution_count": null,
   "metadata": {},
   "outputs": [],
   "source": []
  },
  {
   "cell_type": "code",
   "execution_count": 135,
   "metadata": {
    "ExecuteTime": {
     "end_time": "2021-03-27T03:56:43.512261Z",
     "start_time": "2021-03-27T03:56:42.816332Z"
    }
   },
   "outputs": [
    {
     "data": {
      "text/plain": [
       "RandomForestClassifier(max_depth=5)"
      ]
     },
     "execution_count": 135,
     "metadata": {},
     "output_type": "execute_result"
    }
   ],
   "source": [
    "X_train, X_test, y_train, y_test = train_test_split(X, y, test_size = 0.33)\n",
    "clf=RandomForestClassifier(max_depth=5,min_samples_split=2)\n",
    "clf.fit(X_train,y_train)"
   ]
  },
  {
   "cell_type": "code",
   "execution_count": 136,
   "metadata": {
    "ExecuteTime": {
     "end_time": "2021-03-27T03:56:56.475976Z",
     "start_time": "2021-03-27T03:56:43.512261Z"
    }
   },
   "outputs": [
    {
     "name": "stdout",
     "output_type": "stream",
     "text": [
      "List of possible accuracy: [0.9722222222222222, 0.9166666666666666, 0.9722222222222222, 0.9722222222222222, 0.9166666666666666, 0.9444444444444444, 0.8888888888888888, 0.9444444444444444, 0.9714285714285714, 0.9142857142857143, 0.7714285714285715, 0.9714285714285714]\n",
      "\n",
      "Maximum Accuracy That can be obtained from this model is: 97.22222222222221 %\n",
      "\n",
      "Minimum Accuracy: 77.14285714285715 %\n",
      "\n",
      "Average Accuracy That can be obtained from this model is:: 0.9296957671957672\n",
      "\n",
      " Median Accuracy That can be obtained from this model is:: 0.9444444444444444\n",
      "\n",
      "Standard Deviation is: 0.0552528206035971\n"
     ]
    }
   ],
   "source": [
    "lst_accu_stratified = [] \n",
    "x=0\n",
    "feature_common=pd.DataFrame()\n",
    "skf = StratifiedKFold(n_splits=12, shuffle=True, random_state=1) \n",
    "for train_index, test_index in skf.split(X, y): \n",
    "    x_train_fold, x_test_fold = X.loc[train_index,:], X.loc[test_index,:] \n",
    "    y_train_fold, y_test_fold = y[train_index], y[test_index] \n",
    "    clf.fit(x_train_fold, y_train_fold)\n",
    "    feature_common[x]=feature_extract(clf,X_train.columns)\n",
    "    x+=1\n",
    "    lst_accu_stratified.append(clf.score(x_test_fold, y_test_fold))\n",
    "   \n",
    "    \n",
    "    \n",
    "print('List of possible accuracy:', lst_accu_stratified) \n",
    "print('\\nMaximum Accuracy That can be obtained from this model is:', \n",
    "      max(lst_accu_stratified)*100, '%') \n",
    "print('\\nMinimum Accuracy:', \n",
    "      min(lst_accu_stratified)*100, '%') \n",
    "print('\\nAverage Accuracy That can be obtained from this model is::',np.mean(lst_accu_stratified)) \n",
    "print('\\n Median Accuracy That can be obtained from this model is::',np.median(lst_accu_stratified)) \n",
    "print('\\nStandard Deviation is:',np.std(lst_accu_stratified)) "
   ]
  },
  {
   "cell_type": "code",
   "execution_count": 137,
   "metadata": {
    "ExecuteTime": {
     "end_time": "2021-03-27T03:56:56.595966Z",
     "start_time": "2021-03-27T03:56:56.515974Z"
    }
   },
   "outputs": [
    {
     "data": {
      "text/html": [
       "<div>\n",
       "<style scoped>\n",
       "    .dataframe tbody tr th:only-of-type {\n",
       "        vertical-align: middle;\n",
       "    }\n",
       "\n",
       "    .dataframe tbody tr th {\n",
       "        vertical-align: top;\n",
       "    }\n",
       "\n",
       "    .dataframe thead th {\n",
       "        text-align: right;\n",
       "    }\n",
       "</style>\n",
       "<table border=\"1\" class=\"dataframe\">\n",
       "  <thead>\n",
       "    <tr style=\"text-align: right;\">\n",
       "      <th></th>\n",
       "      <th>0</th>\n",
       "      <th>1</th>\n",
       "      <th>2</th>\n",
       "      <th>3</th>\n",
       "      <th>4</th>\n",
       "      <th>5</th>\n",
       "      <th>6</th>\n",
       "      <th>7</th>\n",
       "      <th>8</th>\n",
       "      <th>9</th>\n",
       "      <th>10</th>\n",
       "      <th>11</th>\n",
       "    </tr>\n",
       "  </thead>\n",
       "  <tbody>\n",
       "    <tr>\n",
       "      <th>0</th>\n",
       "      <td>Good Quantity_Important</td>\n",
       "      <td>Good Quantity_Important</td>\n",
       "      <td>Good Quantity_Important</td>\n",
       "      <td>Good Quantity_Important</td>\n",
       "      <td>Good Quantity_Important</td>\n",
       "      <td>Good Quantity_Important</td>\n",
       "      <td>Good Quantity_Important</td>\n",
       "      <td>Good Quantity_Important</td>\n",
       "      <td>Good Quantity_Important</td>\n",
       "      <td>Good Quantity_Important</td>\n",
       "      <td>Good Quantity_Important</td>\n",
       "      <td>Good Quantity_Important</td>\n",
       "    </tr>\n",
       "    <tr>\n",
       "      <th>1</th>\n",
       "      <td>Good Taste _Very Important</td>\n",
       "      <td>Good Taste _Very Important</td>\n",
       "      <td>Good Taste _Very Important</td>\n",
       "      <td>Good Taste _Very Important</td>\n",
       "      <td>Good Taste _Very Important</td>\n",
       "      <td>Good Taste _Very Important</td>\n",
       "      <td>Good Taste _Very Important</td>\n",
       "      <td>Good Taste _Very Important</td>\n",
       "      <td>Good Taste _Very Important</td>\n",
       "      <td>Good Taste _Very Important</td>\n",
       "      <td>Good Taste _Very Important</td>\n",
       "      <td>Good Taste _Very Important</td>\n",
       "    </tr>\n",
       "    <tr>\n",
       "      <th>2</th>\n",
       "      <td>Freshness _Very Important</td>\n",
       "      <td>Freshness _Very Important</td>\n",
       "      <td>Freshness _Very Important</td>\n",
       "      <td>Freshness _Very Important</td>\n",
       "      <td>Freshness _Very Important</td>\n",
       "      <td>Freshness _Very Important</td>\n",
       "      <td>Freshness _Very Important</td>\n",
       "      <td>Temperature_Very Important</td>\n",
       "      <td>Freshness _Very Important</td>\n",
       "      <td>Freshness _Very Important</td>\n",
       "      <td>Freshness _Very Important</td>\n",
       "      <td>Freshness _Very Important</td>\n",
       "    </tr>\n",
       "    <tr>\n",
       "      <th>3</th>\n",
       "      <td>Temperature_Very Important</td>\n",
       "      <td>Good Taste _Important</td>\n",
       "      <td>Temperature_Very Important</td>\n",
       "      <td>Temperature_Very Important</td>\n",
       "      <td>Temperature_Very Important</td>\n",
       "      <td>Temperature_Very Important</td>\n",
       "      <td>Temperature_Very Important</td>\n",
       "      <td>Freshness _Very Important</td>\n",
       "      <td>Good Taste _Important</td>\n",
       "      <td>Temperature_Very Important</td>\n",
       "      <td>Temperature_Very Important</td>\n",
       "      <td>Temperature_Very Important</td>\n",
       "    </tr>\n",
       "    <tr>\n",
       "      <th>4</th>\n",
       "      <td>Good Taste _Important</td>\n",
       "      <td>Good Taste _Moderately Important</td>\n",
       "      <td>Good Taste _Important</td>\n",
       "      <td>Good Taste _Important</td>\n",
       "      <td>Good Taste _Important</td>\n",
       "      <td>Good Taste _Important</td>\n",
       "      <td>Good Taste _Important</td>\n",
       "      <td>Good Taste _Important</td>\n",
       "      <td>Temperature_Very Important</td>\n",
       "      <td>Good Taste _Important</td>\n",
       "      <td>Good Taste _Important</td>\n",
       "      <td>Good Taste _Important</td>\n",
       "    </tr>\n",
       "    <tr>\n",
       "      <th>5</th>\n",
       "      <td>Good Quantity_Moderately Important</td>\n",
       "      <td>Temperature_Very Important</td>\n",
       "      <td>Good Quantity_Moderately Important</td>\n",
       "      <td>Good Taste _Moderately Important</td>\n",
       "      <td>Good Quantity_Moderately Important</td>\n",
       "      <td>Good Taste _Moderately Important</td>\n",
       "      <td>Good Taste _Moderately Important</td>\n",
       "      <td>Good Taste _Moderately Important</td>\n",
       "      <td>Good Taste _Moderately Important</td>\n",
       "      <td>Good Quantity_Moderately Important</td>\n",
       "      <td>Good Taste _Moderately Important</td>\n",
       "      <td>Good Quantity_Moderately Important</td>\n",
       "    </tr>\n",
       "    <tr>\n",
       "      <th>6</th>\n",
       "      <td>Good Quantity_Slightly Important</td>\n",
       "      <td>Good Quantity_Moderately Important</td>\n",
       "      <td>Freshness _Important</td>\n",
       "      <td>Good Quantity_Moderately Important</td>\n",
       "      <td>Good Taste _Moderately Important</td>\n",
       "      <td>Good Quantity_Moderately Important</td>\n",
       "      <td>Good Quantity_Slightly Important</td>\n",
       "      <td>Good Quantity_Moderately Important</td>\n",
       "      <td>Good Quantity_Slightly Important</td>\n",
       "      <td>Good Taste _Moderately Important</td>\n",
       "      <td>Missing item_Strongly agree</td>\n",
       "      <td>Good Taste _Moderately Important</td>\n",
       "    </tr>\n",
       "    <tr>\n",
       "      <th>7</th>\n",
       "      <td>Freshness _Important</td>\n",
       "      <td>Good Quantity_Slightly Important</td>\n",
       "      <td>Missing item_Strongly agree</td>\n",
       "      <td>Good Quantity_Slightly Important</td>\n",
       "      <td>Freshness _Important</td>\n",
       "      <td>Freshness _Important</td>\n",
       "      <td>Missing item_Strongly agree</td>\n",
       "      <td>Freshness _Important</td>\n",
       "      <td>Good Quantity_Moderately Important</td>\n",
       "      <td>Freshness _Important</td>\n",
       "      <td>Good Quantity_Moderately Important</td>\n",
       "      <td>Freshness _Important</td>\n",
       "    </tr>\n",
       "    <tr>\n",
       "      <th>8</th>\n",
       "      <td>Good Taste _Moderately Important</td>\n",
       "      <td>Freshness _Important</td>\n",
       "      <td>Good Taste _Moderately Important</td>\n",
       "      <td>Freshness _Important</td>\n",
       "      <td>Good Quantity_Slightly Important</td>\n",
       "      <td>Good Quantity_Slightly Important</td>\n",
       "      <td>Good Quantity_Moderately Important</td>\n",
       "      <td>Temperature_Slightly Important</td>\n",
       "      <td>High Quality of package_Moderately Important</td>\n",
       "      <td>Good Quantity_Slightly Important</td>\n",
       "      <td>Unavailability_Disagree</td>\n",
       "      <td>Missing item_Strongly agree</td>\n",
       "    </tr>\n",
       "    <tr>\n",
       "      <th>9</th>\n",
       "      <td>Educational Qualifications_Post Graduate</td>\n",
       "      <td>Missing item_Strongly agree</td>\n",
       "      <td>Temperature_Important</td>\n",
       "      <td>Missing item_Strongly agree</td>\n",
       "      <td>Educational Qualifications_Post Graduate</td>\n",
       "      <td>High Quality of package_Very Important</td>\n",
       "      <td>Temperature_Slightly Important</td>\n",
       "      <td>High Quality of package_Moderately Important</td>\n",
       "      <td>High Quality of package_Very Important</td>\n",
       "      <td>High Quality of package_Very Important</td>\n",
       "      <td>Freshness _Important</td>\n",
       "      <td>Good Quantity_Slightly Important</td>\n",
       "    </tr>\n",
       "    <tr>\n",
       "      <th>10</th>\n",
       "      <td>Missing item_Strongly agree</td>\n",
       "      <td>High Quality of package_Very Important</td>\n",
       "      <td>Missing item_Disagree</td>\n",
       "      <td>High Quality of package_Very Important</td>\n",
       "      <td>Temperature_Slightly Important</td>\n",
       "      <td>Educational Qualifications_Post Graduate</td>\n",
       "      <td>Temperature_Important</td>\n",
       "      <td>Good Quantity_Slightly Important</td>\n",
       "      <td>Freshness _Important</td>\n",
       "      <td>Unavailability_Disagree</td>\n",
       "      <td>High Quality of package_Very Important</td>\n",
       "      <td>High Quality of package_Very Important</td>\n",
       "    </tr>\n",
       "    <tr>\n",
       "      <th>11</th>\n",
       "      <td>High Quality of package_Very Important</td>\n",
       "      <td>Age</td>\n",
       "      <td>Good Quantity_Slightly Important</td>\n",
       "      <td>Educational Qualifications_Post Graduate</td>\n",
       "      <td>High Quality of package_Moderately Important</td>\n",
       "      <td>High Quality of package_Moderately Important</td>\n",
       "      <td>Ease and convenient_Strongly agree</td>\n",
       "      <td>Temperature_Important</td>\n",
       "      <td>Age</td>\n",
       "      <td>Age</td>\n",
       "      <td>Age</td>\n",
       "      <td>Age</td>\n",
       "    </tr>\n",
       "  </tbody>\n",
       "</table>\n",
       "</div>"
      ],
      "text/plain": [
       "                                          0   \\\n",
       "0                    Good Quantity_Important   \n",
       "1                 Good Taste _Very Important   \n",
       "2                  Freshness _Very Important   \n",
       "3                 Temperature_Very Important   \n",
       "4                      Good Taste _Important   \n",
       "5         Good Quantity_Moderately Important   \n",
       "6           Good Quantity_Slightly Important   \n",
       "7                       Freshness _Important   \n",
       "8           Good Taste _Moderately Important   \n",
       "9   Educational Qualifications_Post Graduate   \n",
       "10               Missing item_Strongly agree   \n",
       "11    High Quality of package_Very Important   \n",
       "\n",
       "                                        1   \\\n",
       "0                  Good Quantity_Important   \n",
       "1               Good Taste _Very Important   \n",
       "2                Freshness _Very Important   \n",
       "3                    Good Taste _Important   \n",
       "4         Good Taste _Moderately Important   \n",
       "5               Temperature_Very Important   \n",
       "6       Good Quantity_Moderately Important   \n",
       "7         Good Quantity_Slightly Important   \n",
       "8                     Freshness _Important   \n",
       "9              Missing item_Strongly agree   \n",
       "10  High Quality of package_Very Important   \n",
       "11                                     Age   \n",
       "\n",
       "                                    2   \\\n",
       "0              Good Quantity_Important   \n",
       "1           Good Taste _Very Important   \n",
       "2            Freshness _Very Important   \n",
       "3           Temperature_Very Important   \n",
       "4                Good Taste _Important   \n",
       "5   Good Quantity_Moderately Important   \n",
       "6                 Freshness _Important   \n",
       "7          Missing item_Strongly agree   \n",
       "8     Good Taste _Moderately Important   \n",
       "9                Temperature_Important   \n",
       "10               Missing item_Disagree   \n",
       "11    Good Quantity_Slightly Important   \n",
       "\n",
       "                                          3   \\\n",
       "0                    Good Quantity_Important   \n",
       "1                 Good Taste _Very Important   \n",
       "2                  Freshness _Very Important   \n",
       "3                 Temperature_Very Important   \n",
       "4                      Good Taste _Important   \n",
       "5           Good Taste _Moderately Important   \n",
       "6         Good Quantity_Moderately Important   \n",
       "7           Good Quantity_Slightly Important   \n",
       "8                       Freshness _Important   \n",
       "9                Missing item_Strongly agree   \n",
       "10    High Quality of package_Very Important   \n",
       "11  Educational Qualifications_Post Graduate   \n",
       "\n",
       "                                              4   \\\n",
       "0                        Good Quantity_Important   \n",
       "1                     Good Taste _Very Important   \n",
       "2                      Freshness _Very Important   \n",
       "3                     Temperature_Very Important   \n",
       "4                          Good Taste _Important   \n",
       "5             Good Quantity_Moderately Important   \n",
       "6               Good Taste _Moderately Important   \n",
       "7                           Freshness _Important   \n",
       "8               Good Quantity_Slightly Important   \n",
       "9       Educational Qualifications_Post Graduate   \n",
       "10                Temperature_Slightly Important   \n",
       "11  High Quality of package_Moderately Important   \n",
       "\n",
       "                                              5   \\\n",
       "0                        Good Quantity_Important   \n",
       "1                     Good Taste _Very Important   \n",
       "2                      Freshness _Very Important   \n",
       "3                     Temperature_Very Important   \n",
       "4                          Good Taste _Important   \n",
       "5               Good Taste _Moderately Important   \n",
       "6             Good Quantity_Moderately Important   \n",
       "7                           Freshness _Important   \n",
       "8               Good Quantity_Slightly Important   \n",
       "9         High Quality of package_Very Important   \n",
       "10      Educational Qualifications_Post Graduate   \n",
       "11  High Quality of package_Moderately Important   \n",
       "\n",
       "                                    6   \\\n",
       "0              Good Quantity_Important   \n",
       "1           Good Taste _Very Important   \n",
       "2            Freshness _Very Important   \n",
       "3           Temperature_Very Important   \n",
       "4                Good Taste _Important   \n",
       "5     Good Taste _Moderately Important   \n",
       "6     Good Quantity_Slightly Important   \n",
       "7          Missing item_Strongly agree   \n",
       "8   Good Quantity_Moderately Important   \n",
       "9       Temperature_Slightly Important   \n",
       "10               Temperature_Important   \n",
       "11  Ease and convenient_Strongly agree   \n",
       "\n",
       "                                              7   \\\n",
       "0                        Good Quantity_Important   \n",
       "1                     Good Taste _Very Important   \n",
       "2                     Temperature_Very Important   \n",
       "3                      Freshness _Very Important   \n",
       "4                          Good Taste _Important   \n",
       "5               Good Taste _Moderately Important   \n",
       "6             Good Quantity_Moderately Important   \n",
       "7                           Freshness _Important   \n",
       "8                 Temperature_Slightly Important   \n",
       "9   High Quality of package_Moderately Important   \n",
       "10              Good Quantity_Slightly Important   \n",
       "11                         Temperature_Important   \n",
       "\n",
       "                                              8   \\\n",
       "0                        Good Quantity_Important   \n",
       "1                     Good Taste _Very Important   \n",
       "2                      Freshness _Very Important   \n",
       "3                          Good Taste _Important   \n",
       "4                     Temperature_Very Important   \n",
       "5               Good Taste _Moderately Important   \n",
       "6               Good Quantity_Slightly Important   \n",
       "7             Good Quantity_Moderately Important   \n",
       "8   High Quality of package_Moderately Important   \n",
       "9         High Quality of package_Very Important   \n",
       "10                          Freshness _Important   \n",
       "11                                           Age   \n",
       "\n",
       "                                        9   \\\n",
       "0                  Good Quantity_Important   \n",
       "1               Good Taste _Very Important   \n",
       "2                Freshness _Very Important   \n",
       "3               Temperature_Very Important   \n",
       "4                    Good Taste _Important   \n",
       "5       Good Quantity_Moderately Important   \n",
       "6         Good Taste _Moderately Important   \n",
       "7                     Freshness _Important   \n",
       "8         Good Quantity_Slightly Important   \n",
       "9   High Quality of package_Very Important   \n",
       "10                 Unavailability_Disagree   \n",
       "11                                     Age   \n",
       "\n",
       "                                        10  \\\n",
       "0                  Good Quantity_Important   \n",
       "1               Good Taste _Very Important   \n",
       "2                Freshness _Very Important   \n",
       "3               Temperature_Very Important   \n",
       "4                    Good Taste _Important   \n",
       "5         Good Taste _Moderately Important   \n",
       "6              Missing item_Strongly agree   \n",
       "7       Good Quantity_Moderately Important   \n",
       "8                  Unavailability_Disagree   \n",
       "9                     Freshness _Important   \n",
       "10  High Quality of package_Very Important   \n",
       "11                                     Age   \n",
       "\n",
       "                                        11  \n",
       "0                  Good Quantity_Important  \n",
       "1               Good Taste _Very Important  \n",
       "2                Freshness _Very Important  \n",
       "3               Temperature_Very Important  \n",
       "4                    Good Taste _Important  \n",
       "5       Good Quantity_Moderately Important  \n",
       "6         Good Taste _Moderately Important  \n",
       "7                     Freshness _Important  \n",
       "8              Missing item_Strongly agree  \n",
       "9         Good Quantity_Slightly Important  \n",
       "10  High Quality of package_Very Important  \n",
       "11                                     Age  "
      ]
     },
     "execution_count": 137,
     "metadata": {},
     "output_type": "execute_result"
    }
   ],
   "source": [
    "feature_common"
   ]
  },
  {
   "cell_type": "code",
   "execution_count": 138,
   "metadata": {
    "ExecuteTime": {
     "end_time": "2021-03-27T03:56:56.755952Z",
     "start_time": "2021-03-27T03:56:56.595966Z"
    }
   },
   "outputs": [
    {
     "data": {
      "text/plain": [
       "0                Good Quantity_Important\n",
       "1             Good Taste _Very Important\n",
       "2              Freshness _Very Important\n",
       "3             Temperature_Very Important\n",
       "4                  Good Taste _Important\n",
       "5     Good Quantity_Moderately Important\n",
       "6                   Freshness _Important\n",
       "7            Missing item_Strongly agree\n",
       "8       Good Taste _Moderately Important\n",
       "9                  Temperature_Important\n",
       "10                 Missing item_Disagree\n",
       "11      Good Quantity_Slightly Important\n",
       "Name: 2, dtype: object"
      ]
     },
     "execution_count": 138,
     "metadata": {},
     "output_type": "execute_result"
    }
   ],
   "source": [
    "feature_common[2]"
   ]
  },
  {
   "cell_type": "markdown",
   "metadata": {},
   "source": [
    "## Build Model"
   ]
  },
  {
   "cell_type": "code",
   "execution_count": 139,
   "metadata": {
    "ExecuteTime": {
     "end_time": "2021-03-27T03:56:56.891939Z",
     "start_time": "2021-03-27T03:56:56.755952Z"
    }
   },
   "outputs": [],
   "source": [
    "X=df[feature_common[2]]\n",
    "y=df.iloc[:,-1]"
   ]
  },
  {
   "cell_type": "code",
   "execution_count": 140,
   "metadata": {
    "ExecuteTime": {
     "end_time": "2021-03-27T03:56:57.011928Z",
     "start_time": "2021-03-27T03:56:56.891939Z"
    }
   },
   "outputs": [],
   "source": [
    "from  imblearn.under_sampling import RandomUnderSampler\n",
    "\n",
    "nm=RandomUnderSampler()\n",
    "X,y=nm.fit_sample(X,y)"
   ]
  },
  {
   "cell_type": "code",
   "execution_count": 141,
   "metadata": {
    "ExecuteTime": {
     "end_time": "2021-03-27T03:56:57.723865Z",
     "start_time": "2021-03-27T03:56:57.011928Z"
    }
   },
   "outputs": [
    {
     "data": {
      "text/plain": [
       "RandomForestClassifier(max_depth=6, min_samples_split=4)"
      ]
     },
     "execution_count": 141,
     "metadata": {},
     "output_type": "execute_result"
    }
   ],
   "source": [
    "X_train, X_test, y_train, y_test = train_test_split(X, y, test_size = 0.33)\n",
    "clf=RandomForestClassifier(max_depth=6,min_samples_split=4)\n",
    "clf.fit(X_train,y_train)"
   ]
  },
  {
   "cell_type": "code",
   "execution_count": 142,
   "metadata": {
    "ExecuteTime": {
     "end_time": "2021-03-27T03:56:57.787859Z",
     "start_time": "2021-03-27T03:56:57.723865Z"
    }
   },
   "outputs": [
    {
     "data": {
      "text/plain": [
       "1.0"
      ]
     },
     "execution_count": 142,
     "metadata": {},
     "output_type": "execute_result"
    }
   ],
   "source": [
    "clf.score(X_test,y_test)"
   ]
  },
  {
   "cell_type": "code",
   "execution_count": 143,
   "metadata": {
    "ExecuteTime": {
     "end_time": "2021-03-27T03:56:57.925559Z",
     "start_time": "2021-03-27T03:56:57.787859Z"
    }
   },
   "outputs": [
    {
     "data": {
      "text/plain": [
       "array([1, 0, 1, 0, 1, 0, 0, 1, 1, 0, 1, 0, 1, 0, 1, 1, 1, 0, 1, 0, 1, 1,\n",
       "       0, 0, 0, 1, 0, 1, 0, 0, 1, 1, 1, 0, 1, 0, 0, 0, 1, 1, 0, 0, 1, 0,\n",
       "       0, 0, 0, 1, 1, 0, 1, 0, 1, 0, 1, 1, 0, 1, 1, 0, 0, 1, 1, 1, 1, 0,\n",
       "       0, 0, 0, 1, 1, 1, 0, 1, 0, 1, 0, 0, 0, 0, 1, 0, 0, 0, 0, 1, 1, 0,\n",
       "       1, 1, 0, 1, 0, 1, 1, 1, 1, 0, 0, 0, 0, 0, 1, 0, 0, 1, 0, 1, 0, 1,\n",
       "       1, 1, 0, 0, 1], dtype=uint8)"
      ]
     },
     "execution_count": 143,
     "metadata": {},
     "output_type": "execute_result"
    }
   ],
   "source": [
    "y_pred=clf.predict(X_test)\n",
    "y_pred"
   ]
  },
  {
   "cell_type": "code",
   "execution_count": 144,
   "metadata": {
    "ExecuteTime": {
     "end_time": "2021-03-27T03:56:57.997551Z",
     "start_time": "2021-03-27T03:56:57.925559Z"
    },
    "scrolled": true
   },
   "outputs": [
    {
     "name": "stdout",
     "output_type": "stream",
     "text": [
      "[[59  0]\n",
      " [ 0 56]]\n"
     ]
    }
   ],
   "source": [
    "print(confusion_matrix(y_test,y_pred))"
   ]
  },
  {
   "cell_type": "code",
   "execution_count": 145,
   "metadata": {
    "ExecuteTime": {
     "end_time": "2021-03-27T03:56:58.125540Z",
     "start_time": "2021-03-27T03:56:57.997551Z"
    }
   },
   "outputs": [
    {
     "name": "stdout",
     "output_type": "stream",
     "text": [
      "              precision    recall  f1-score   support\n",
      "\n",
      "           0       1.00      1.00      1.00        59\n",
      "           1       1.00      1.00      1.00        56\n",
      "\n",
      "    accuracy                           1.00       115\n",
      "   macro avg       1.00      1.00      1.00       115\n",
      "weighted avg       1.00      1.00      1.00       115\n",
      "\n"
     ]
    }
   ],
   "source": [
    "print(classification_report(y_test,y_pred))"
   ]
  },
  {
   "cell_type": "code",
   "execution_count": 146,
   "metadata": {
    "ExecuteTime": {
     "end_time": "2021-03-27T03:57:09.603103Z",
     "start_time": "2021-03-27T03:56:58.125540Z"
    }
   },
   "outputs": [
    {
     "name": "stdout",
     "output_type": "stream",
     "text": [
      "List of possible accuracy: [1.0, 1.0, 1.0, 0.9655172413793104, 0.9655172413793104, 1.0, 1.0, 0.9310344827586207, 1.0, 1.0, 1.0, 1.0]\n",
      "\n",
      "Maximum Accuracy That can be obtained from this model is: 100.0 %\n",
      "\n",
      "Minimum Accuracy: 93.10344827586206 %\n",
      "\n",
      "Average Accuracy That can be obtained from this model is:: 0.9885057471264368\n",
      "\n",
      " Median Accuracy That can be obtained from this model is:: 1.0\n",
      "\n",
      "Standard Deviation is: 0.021503778084907707\n"
     ]
    }
   ],
   "source": [
    "lst_accu_stratified = [] \n",
    "x=0\n",
    "\n",
    "skf = StratifiedKFold(n_splits=12, shuffle=True, random_state=1) \n",
    "for train_index, test_index in skf.split(X, y): \n",
    "    x_train_fold, x_test_fold = X.loc[train_index,:], X.loc[test_index,:] \n",
    "    y_train_fold, y_test_fold = y[train_index], y[test_index] \n",
    "    clf.fit(x_train_fold, y_train_fold)\n",
    "    \n",
    "    lst_accu_stratified.append(clf.score(x_test_fold, y_test_fold))\n",
    "   \n",
    "    \n",
    "    \n",
    "print('List of possible accuracy:', lst_accu_stratified) \n",
    "print('\\nMaximum Accuracy That can be obtained from this model is:', \n",
    "      max(lst_accu_stratified)*100, '%') \n",
    "print('\\nMinimum Accuracy:', \n",
    "      min(lst_accu_stratified)*100, '%') \n",
    "print('\\nAverage Accuracy That can be obtained from this model is::',np.mean(lst_accu_stratified)) \n",
    "print('\\n Median Accuracy That can be obtained from this model is::',np.median(lst_accu_stratified)) \n",
    "print('\\nStandard Deviation is:',np.std(lst_accu_stratified)) "
   ]
  },
  {
   "cell_type": "markdown",
   "metadata": {},
   "source": [
    "## (Final Model)Using method 1 feature through build model"
   ]
  },
  {
   "cell_type": "code",
   "execution_count": 147,
   "metadata": {
    "ExecuteTime": {
     "end_time": "2021-03-27T03:57:09.683097Z",
     "start_time": "2021-03-27T03:57:09.603103Z"
    }
   },
   "outputs": [],
   "source": [
    "fd_dlvry=pd.read_csv('../../data/Banglore_food_delivery/onlinedeliverydata.csv')\n",
    "fd_ori=fd_dlvry.copy()\n",
    "\n",
    "fd_dlvry.drop(['Pin code','longitude','latitude','Reviews'],axis=1,inplace=True)\n",
    "\n",
    "fd_dlvry['Output']=fd_dlvry['Output'].replace({'Yes':1,'No':0})"
   ]
  },
  {
   "cell_type": "code",
   "execution_count": 148,
   "metadata": {
    "ExecuteTime": {
     "end_time": "2021-03-27T03:57:09.739093Z",
     "start_time": "2021-03-27T03:57:09.683097Z"
    }
   },
   "outputs": [
    {
     "data": {
      "text/plain": [
       "['Age',\n",
       " 'Ease and convenient',\n",
       " 'Time saving',\n",
       " 'More restaurant choices',\n",
       " 'Easy Payment option',\n",
       " 'More Offers and Discount',\n",
       " 'Good Food quality',\n",
       " 'Good Tracking system',\n",
       " 'Unaffordable',\n",
       " 'Maximum wait time']"
      ]
     },
     "execution_count": 148,
     "metadata": {},
     "output_type": "execute_result"
    }
   ],
   "source": [
    "basic_f0"
   ]
  },
  {
   "cell_type": "code",
   "execution_count": 149,
   "metadata": {
    "ExecuteTime": {
     "end_time": "2021-03-27T03:57:10.091061Z",
     "start_time": "2021-03-27T03:57:09.739093Z"
    },
    "scrolled": true
   },
   "outputs": [
    {
     "data": {
      "text/html": [
       "<div>\n",
       "<style scoped>\n",
       "    .dataframe tbody tr th:only-of-type {\n",
       "        vertical-align: middle;\n",
       "    }\n",
       "\n",
       "    .dataframe tbody tr th {\n",
       "        vertical-align: top;\n",
       "    }\n",
       "\n",
       "    .dataframe thead th {\n",
       "        text-align: right;\n",
       "    }\n",
       "</style>\n",
       "<table border=\"1\" class=\"dataframe\">\n",
       "  <thead>\n",
       "    <tr style=\"text-align: right;\">\n",
       "      <th></th>\n",
       "      <th>Age</th>\n",
       "      <th>Gender</th>\n",
       "      <th>Marital Status</th>\n",
       "      <th>Occupation</th>\n",
       "      <th>Monthly Income</th>\n",
       "      <th>Educational Qualifications</th>\n",
       "      <th>Family size</th>\n",
       "      <th>Medium (P1)</th>\n",
       "      <th>Medium (P2)</th>\n",
       "      <th>Meal(P1)</th>\n",
       "      <th>...</th>\n",
       "      <th>Influence of rating</th>\n",
       "      <th>Less Delivery time</th>\n",
       "      <th>High Quality of package</th>\n",
       "      <th>Number of calls</th>\n",
       "      <th>Politeness</th>\n",
       "      <th>Freshness</th>\n",
       "      <th>Temperature</th>\n",
       "      <th>Good Taste</th>\n",
       "      <th>Good Quantity</th>\n",
       "      <th>Output</th>\n",
       "    </tr>\n",
       "  </thead>\n",
       "  <tbody>\n",
       "    <tr>\n",
       "      <th>0</th>\n",
       "      <td>20</td>\n",
       "      <td>0</td>\n",
       "      <td>2</td>\n",
       "      <td>3</td>\n",
       "      <td>4</td>\n",
       "      <td>2</td>\n",
       "      <td>4</td>\n",
       "      <td>1</td>\n",
       "      <td>2</td>\n",
       "      <td>0</td>\n",
       "      <td>...</td>\n",
       "      <td>2</td>\n",
       "      <td>1</td>\n",
       "      <td>1</td>\n",
       "      <td>1</td>\n",
       "      <td>1</td>\n",
       "      <td>1</td>\n",
       "      <td>1</td>\n",
       "      <td>1</td>\n",
       "      <td>1</td>\n",
       "      <td>1</td>\n",
       "    </tr>\n",
       "    <tr>\n",
       "      <th>1</th>\n",
       "      <td>24</td>\n",
       "      <td>0</td>\n",
       "      <td>2</td>\n",
       "      <td>3</td>\n",
       "      <td>2</td>\n",
       "      <td>0</td>\n",
       "      <td>3</td>\n",
       "      <td>1</td>\n",
       "      <td>2</td>\n",
       "      <td>3</td>\n",
       "      <td>...</td>\n",
       "      <td>2</td>\n",
       "      <td>4</td>\n",
       "      <td>4</td>\n",
       "      <td>4</td>\n",
       "      <td>4</td>\n",
       "      <td>4</td>\n",
       "      <td>4</td>\n",
       "      <td>4</td>\n",
       "      <td>4</td>\n",
       "      <td>1</td>\n",
       "    </tr>\n",
       "    <tr>\n",
       "      <th>2</th>\n",
       "      <td>22</td>\n",
       "      <td>1</td>\n",
       "      <td>2</td>\n",
       "      <td>3</td>\n",
       "      <td>2</td>\n",
       "      <td>2</td>\n",
       "      <td>3</td>\n",
       "      <td>1</td>\n",
       "      <td>0</td>\n",
       "      <td>2</td>\n",
       "      <td>...</td>\n",
       "      <td>2</td>\n",
       "      <td>0</td>\n",
       "      <td>4</td>\n",
       "      <td>1</td>\n",
       "      <td>4</td>\n",
       "      <td>4</td>\n",
       "      <td>0</td>\n",
       "      <td>4</td>\n",
       "      <td>1</td>\n",
       "      <td>1</td>\n",
       "    </tr>\n",
       "    <tr>\n",
       "      <th>3</th>\n",
       "      <td>22</td>\n",
       "      <td>0</td>\n",
       "      <td>2</td>\n",
       "      <td>3</td>\n",
       "      <td>4</td>\n",
       "      <td>0</td>\n",
       "      <td>6</td>\n",
       "      <td>1</td>\n",
       "      <td>1</td>\n",
       "      <td>3</td>\n",
       "      <td>...</td>\n",
       "      <td>2</td>\n",
       "      <td>4</td>\n",
       "      <td>0</td>\n",
       "      <td>1</td>\n",
       "      <td>4</td>\n",
       "      <td>4</td>\n",
       "      <td>4</td>\n",
       "      <td>4</td>\n",
       "      <td>0</td>\n",
       "      <td>1</td>\n",
       "    </tr>\n",
       "    <tr>\n",
       "      <th>4</th>\n",
       "      <td>22</td>\n",
       "      <td>1</td>\n",
       "      <td>2</td>\n",
       "      <td>3</td>\n",
       "      <td>2</td>\n",
       "      <td>2</td>\n",
       "      <td>4</td>\n",
       "      <td>2</td>\n",
       "      <td>0</td>\n",
       "      <td>2</td>\n",
       "      <td>...</td>\n",
       "      <td>2</td>\n",
       "      <td>0</td>\n",
       "      <td>0</td>\n",
       "      <td>1</td>\n",
       "      <td>0</td>\n",
       "      <td>0</td>\n",
       "      <td>0</td>\n",
       "      <td>4</td>\n",
       "      <td>4</td>\n",
       "      <td>1</td>\n",
       "    </tr>\n",
       "  </tbody>\n",
       "</table>\n",
       "<p>5 rows × 51 columns</p>\n",
       "</div>"
      ],
      "text/plain": [
       "   Age  Gender  Marital Status  Occupation  Monthly Income  \\\n",
       "0   20       0               2           3               4   \n",
       "1   24       0               2           3               2   \n",
       "2   22       1               2           3               2   \n",
       "3   22       0               2           3               4   \n",
       "4   22       1               2           3               2   \n",
       "\n",
       "   Educational Qualifications  Family size  Medium (P1)  Medium (P2)  \\\n",
       "0                           2            4            1            2   \n",
       "1                           0            3            1            2   \n",
       "2                           2            3            1            0   \n",
       "3                           0            6            1            1   \n",
       "4                           2            4            2            0   \n",
       "\n",
       "   Meal(P1)  ...  Influence of rating  Less Delivery time  \\\n",
       "0         0  ...                    2                   1   \n",
       "1         3  ...                    2                   4   \n",
       "2         2  ...                    2                   0   \n",
       "3         3  ...                    2                   4   \n",
       "4         2  ...                    2                   0   \n",
       "\n",
       "   High Quality of package  Number of calls  Politeness  Freshness   \\\n",
       "0                        1                1           1           1   \n",
       "1                        4                4           4           4   \n",
       "2                        4                1           4           4   \n",
       "3                        0                1           4           4   \n",
       "4                        0                1           0           0   \n",
       "\n",
       "   Temperature  Good Taste   Good Quantity  Output  \n",
       "0            1            1              1       1  \n",
       "1            4            4              4       1  \n",
       "2            0            4              1       1  \n",
       "3            4            4              0       1  \n",
       "4            0            4              4       1  \n",
       "\n",
       "[5 rows x 51 columns]"
      ]
     },
     "execution_count": 149,
     "metadata": {},
     "output_type": "execute_result"
    }
   ],
   "source": [
    "# import  datacleaner as dc # pip install datacleaner\n",
    "dc.autoclean(fd_dlvry).head() "
   ]
  },
  {
   "cell_type": "code",
   "execution_count": 150,
   "metadata": {
    "ExecuteTime": {
     "end_time": "2021-03-27T03:57:10.147054Z",
     "start_time": "2021-03-27T03:57:10.091061Z"
    }
   },
   "outputs": [],
   "source": [
    "lbl=dict()\n",
    "for i in fd_ori.columns:\n",
    "    if i not in  ['latitude','longitude','Pin code','Reviews']:\n",
    "                  lbl[i]=dict(zip(fd_ori[i].unique(), fd_dlvry[i].unique()))"
   ]
  },
  {
   "cell_type": "code",
   "execution_count": 151,
   "metadata": {
    "ExecuteTime": {
     "end_time": "2021-03-27T03:57:10.379221Z",
     "start_time": "2021-03-27T03:57:10.147054Z"
    }
   },
   "outputs": [
    {
     "data": {
      "text/plain": [
       "{'Age': {20: 20,\n",
       "  24: 24,\n",
       "  22: 22,\n",
       "  27: 27,\n",
       "  23: 23,\n",
       "  21: 21,\n",
       "  28: 28,\n",
       "  25: 25,\n",
       "  32: 32,\n",
       "  30: 30,\n",
       "  31: 31,\n",
       "  26: 26,\n",
       "  18: 18,\n",
       "  19: 19,\n",
       "  33: 33,\n",
       "  29: 29},\n",
       " 'Gender': {'Female': 0, 'Male': 1},\n",
       " 'Marital Status': {'Single': 2, 'Married': 0, 'Prefer not to say': 1},\n",
       " 'Occupation': {'Student': 3,\n",
       "  'Employee': 0,\n",
       "  'Self Employeed': 2,\n",
       "  'House wife': 1},\n",
       " 'Monthly Income': {'No Income': 4,\n",
       "  'Below Rs.10000': 2,\n",
       "  'More than 50000': 3,\n",
       "  '10001 to 25000': 0,\n",
       "  '25001 to 50000': 1},\n",
       " 'Educational Qualifications': {'Post Graduate': 2,\n",
       "  'Graduate': 0,\n",
       "  'Ph.D': 1,\n",
       "  'Uneducated': 4,\n",
       "  'School': 3},\n",
       " 'Family size': {4: 4, 3: 3, 6: 6, 2: 2, 5: 5, 1: 1},\n",
       " 'Medium (P1)': {'Food delivery apps': 1,\n",
       "  'Walk-in': 2,\n",
       "  'Direct call': 0,\n",
       "  'Web browser': 3},\n",
       " 'Medium (P2)': {' Web browser': 2, ' Direct call': 0, ' Walk-in': 1},\n",
       " 'Meal(P1)': {'Breakfast': 0, 'Snacks': 3, 'Lunch': 2, 'Dinner': 1},\n",
       " 'Meal(P2)': {' Lunch': 1, ' Dinner': 0, ' Snacks': 2},\n",
       " 'Perference(P1)': {'Non Veg foods (Lunch / Dinner)': 1,\n",
       "  'Veg foods (Breakfast / Lunch / Dinner)': 3,\n",
       "  'Bakery items (snacks)': 0,\n",
       "  'Sweets': 2},\n",
       " 'Perference(P2)': {' Bakery items (snacks)': 0,\n",
       "  ' Veg foods (Breakfast / Lunch / Dinner)': 3,\n",
       "  ' Ice cream / Cool drinks': 1,\n",
       "  ' Sweets': 2},\n",
       " 'Ease and convenient': {'Neutral': 2,\n",
       "  'Strongly agree': 3,\n",
       "  'Agree': 0,\n",
       "  'Strongly disagree': 4,\n",
       "  'Disagree': 1},\n",
       " 'Time saving': {'Neutral': 2,\n",
       "  'Strongly agree': 3,\n",
       "  'Agree': 0,\n",
       "  'Disagree': 1,\n",
       "  'Strongly disagree': 4},\n",
       " 'More restaurant choices': {'Neutral': 2,\n",
       "  'Strongly agree': 3,\n",
       "  'Agree': 0,\n",
       "  'Strongly disagree': 4,\n",
       "  'Disagree': 1},\n",
       " 'Easy Payment option': {'Neutral': 2,\n",
       "  'Strongly agree': 3,\n",
       "  'Agree': 0,\n",
       "  'Disagree': 1,\n",
       "  'Strongly disagree': 4},\n",
       " 'More Offers and Discount': {'Neutral': 2,\n",
       "  'Strongly agree': 3,\n",
       "  'Agree': 0,\n",
       "  'Disagree': 1,\n",
       "  'Strongly disagree': 4},\n",
       " 'Good Food quality': {'Neutral': 2,\n",
       "  'Disagree': 1,\n",
       "  'Agree': 0,\n",
       "  'Strongly agree': 3,\n",
       "  'Strongly disagree': 4},\n",
       " 'Good Tracking system': {'Neutral': 2,\n",
       "  'Agree': 0,\n",
       "  'Strongly agree': 3,\n",
       "  'Disagree': 1,\n",
       "  'Strongly disagree': 4},\n",
       " 'Self Cooking': {'Neutral': 2,\n",
       "  'Strongly agree': 3,\n",
       "  'Disagree': 1,\n",
       "  'Agree': 0,\n",
       "  'Strongly disagree': 4},\n",
       " 'Health Concern': {'Neutral': 2,\n",
       "  'Strongly agree': 3,\n",
       "  'Agree': 0,\n",
       "  'Strongly disagree': 4,\n",
       "  'Disagree': 1},\n",
       " 'Late Delivery': {'Neutral': 2,\n",
       "  'Agree': 0,\n",
       "  'Strongly agree': 3,\n",
       "  'Disagree': 1,\n",
       "  'Strongly disagree': 4},\n",
       " 'Poor Hygiene': {'Neutral': 2,\n",
       "  'Strongly agree': 3,\n",
       "  'Agree': 0,\n",
       "  'Disagree': 1,\n",
       "  'Strongly disagree': 4},\n",
       " 'Bad past experience': {'Neutral': 2,\n",
       "  'Strongly agree': 3,\n",
       "  'Agree': 0,\n",
       "  'Disagree': 1,\n",
       "  'Strongly disagree': 4},\n",
       " 'Unavailability': {'Neutral': 2,\n",
       "  'Strongly agree': 3,\n",
       "  'Agree': 0,\n",
       "  'Disagree': 1,\n",
       "  'Strongly disagree': 4},\n",
       " 'Unaffordable': {'Neutral': 2,\n",
       "  'Strongly agree': 3,\n",
       "  'Agree': 0,\n",
       "  'Disagree': 1,\n",
       "  'Strongly disagree': 4},\n",
       " 'Long delivery time': {'Agree': 0,\n",
       "  'Strongly agree': 3,\n",
       "  'Neutral': 2,\n",
       "  'Disagree': 1,\n",
       "  'Strongly disagree': 4},\n",
       " 'Delay of delivery person getting assigned': {'Agree': 0,\n",
       "  'Strongly agree': 3,\n",
       "  'Disagree': 1,\n",
       "  'Neutral': 2,\n",
       "  'Strongly disagree': 4},\n",
       " 'Delay of delivery person picking up food': {'Agree': 0,\n",
       "  'Strongly agree': 3,\n",
       "  'Neutral': 2,\n",
       "  'Disagree': 1,\n",
       "  'Strongly disagree': 4},\n",
       " 'Wrong order delivered': {'Agree': 0,\n",
       "  'Strongly agree': 3,\n",
       "  'Disagree': 1,\n",
       "  'Neutral': 2,\n",
       "  'Strongly disagree': 4},\n",
       " 'Missing item': {'Agree': 0,\n",
       "  'Strongly agree': 3,\n",
       "  'Disagree': 1,\n",
       "  'Neutral': 2,\n",
       "  'Strongly disagree': 4},\n",
       " 'Order placed by mistake': {'Agree': 0,\n",
       "  'Strongly agree': 3,\n",
       "  'Neutral': 2,\n",
       "  'Disagree': 1,\n",
       "  'Strongly disagree': 4},\n",
       " 'Influence of time': {'Yes': 2, 'No': 1, 'Maybe': 0},\n",
       " 'Order Time': {'Weekend (Sat & Sun)': 2,\n",
       "  'Anytime (Mon-Sun)': 0,\n",
       "  'Weekdays (Mon-Fri)': 1},\n",
       " 'Maximum wait time': {'30 minutes': 1,\n",
       "  '45 minutes': 2,\n",
       "  '60 minutes': 3,\n",
       "  'More than 60 minutes': 4,\n",
       "  '15 minutes': 0},\n",
       " 'Residence in busy location': {'Agree': 0,\n",
       "  'Strongly Agree': 3,\n",
       "  'Disagree': 1,\n",
       "  'Neutral': 2,\n",
       "  'Strongly disagree': 4},\n",
       " 'Google Maps Accuracy': {'Neutral': 2,\n",
       "  'Strongly Agree': 3,\n",
       "  'Agree': 0,\n",
       "  'Disagree': 1,\n",
       "  'Strongly disagree': 4},\n",
       " 'Good Road Condition': {'Neutral': 2,\n",
       "  'Disagree': 1,\n",
       "  'Agree': 0,\n",
       "  'Strongly Agree': 3,\n",
       "  'Strongly disagree': 4},\n",
       " 'Low quantity low time': {'Neutral': 2,\n",
       "  'Strongly disagree': 4,\n",
       "  'Agree': 0,\n",
       "  'Disagree': 1,\n",
       "  'Strongly Agree': 3},\n",
       " 'Delivery person ability': {'Neutral': 2,\n",
       "  'Agree': 0,\n",
       "  'Strongly Agree': 3,\n",
       "  'Disagree': 1,\n",
       "  'Strongly disagree': 4},\n",
       " 'Influence of rating': {'Yes': 2, 'Maybe': 0, 'No': 1},\n",
       " 'Less Delivery time': {'Moderately Important': 1,\n",
       "  'Very Important': 4,\n",
       "  'Important': 0,\n",
       "  'Slightly Important': 2,\n",
       "  'Unimportant': 3},\n",
       " 'High Quality of package': {'Moderately Important': 1,\n",
       "  'Very Important': 4,\n",
       "  'Important': 0,\n",
       "  'Unimportant': 3,\n",
       "  'Slightly Important': 2},\n",
       " 'Number of calls': {'Moderately Important': 1,\n",
       "  'Very Important': 4,\n",
       "  'Unimportant': 3,\n",
       "  'Important': 0,\n",
       "  'Slightly Important': 2},\n",
       " 'Politeness': {'Moderately Important': 1,\n",
       "  'Very Important': 4,\n",
       "  'Important': 0,\n",
       "  'Slightly Important': 2,\n",
       "  'Unimportant': 3},\n",
       " 'Freshness ': {'Moderately Important': 1,\n",
       "  'Very Important': 4,\n",
       "  'Important': 0,\n",
       "  'Slightly Important': 2,\n",
       "  'Unimportant': 3},\n",
       " 'Temperature': {'Moderately Important': 1,\n",
       "  'Very Important': 4,\n",
       "  'Important': 0,\n",
       "  'Slightly Important': 2,\n",
       "  'Unimportant': 3},\n",
       " 'Good Taste ': {'Moderately Important': 1,\n",
       "  'Very Important': 4,\n",
       "  'Important': 0,\n",
       "  'Slightly Important': 2,\n",
       "  'Unimportant': 3},\n",
       " 'Good Quantity': {'Moderately Important': 1,\n",
       "  'Very Important': 4,\n",
       "  'Important': 0,\n",
       "  'Slightly Important': 2,\n",
       "  'Unimportant': 3},\n",
       " 'Output': {'Yes': 1, 'No': 0}}"
      ]
     },
     "execution_count": 151,
     "metadata": {},
     "output_type": "execute_result"
    }
   ],
   "source": [
    "lbl"
   ]
  },
  {
   "cell_type": "code",
   "execution_count": 152,
   "metadata": {
    "ExecuteTime": {
     "end_time": "2021-03-27T03:57:10.483209Z",
     "start_time": "2021-03-27T03:57:10.379221Z"
    }
   },
   "outputs": [],
   "source": [
    "X=fd_dlvry[basic_f0]\n",
    "y=fd_dlvry.iloc[:,-1]\n",
    "from  imblearn.under_sampling import RandomUnderSampler\n",
    "\n",
    "nm=RandomUnderSampler()\n",
    "X,y=nm.fit_resample(X,y)"
   ]
  },
  {
   "cell_type": "code",
   "execution_count": 153,
   "metadata": {
    "ExecuteTime": {
     "end_time": "2021-03-27T03:57:10.571202Z",
     "start_time": "2021-03-27T03:57:10.483209Z"
    },
    "scrolled": true
   },
   "outputs": [
    {
     "data": {
      "text/html": [
       "<div>\n",
       "<style scoped>\n",
       "    .dataframe tbody tr th:only-of-type {\n",
       "        vertical-align: middle;\n",
       "    }\n",
       "\n",
       "    .dataframe tbody tr th {\n",
       "        vertical-align: top;\n",
       "    }\n",
       "\n",
       "    .dataframe thead th {\n",
       "        text-align: right;\n",
       "    }\n",
       "</style>\n",
       "<table border=\"1\" class=\"dataframe\">\n",
       "  <thead>\n",
       "    <tr style=\"text-align: right;\">\n",
       "      <th></th>\n",
       "      <th>Age</th>\n",
       "      <th>Ease and convenient</th>\n",
       "      <th>Time saving</th>\n",
       "      <th>More restaurant choices</th>\n",
       "      <th>Easy Payment option</th>\n",
       "      <th>More Offers and Discount</th>\n",
       "      <th>Good Food quality</th>\n",
       "      <th>Good Tracking system</th>\n",
       "      <th>Unaffordable</th>\n",
       "      <th>Maximum wait time</th>\n",
       "    </tr>\n",
       "  </thead>\n",
       "  <tbody>\n",
       "    <tr>\n",
       "      <th>0</th>\n",
       "      <td>25</td>\n",
       "      <td>3</td>\n",
       "      <td>0</td>\n",
       "      <td>3</td>\n",
       "      <td>3</td>\n",
       "      <td>3</td>\n",
       "      <td>3</td>\n",
       "      <td>3</td>\n",
       "      <td>3</td>\n",
       "      <td>2</td>\n",
       "    </tr>\n",
       "    <tr>\n",
       "      <th>1</th>\n",
       "      <td>24</td>\n",
       "      <td>0</td>\n",
       "      <td>2</td>\n",
       "      <td>3</td>\n",
       "      <td>3</td>\n",
       "      <td>3</td>\n",
       "      <td>0</td>\n",
       "      <td>0</td>\n",
       "      <td>1</td>\n",
       "      <td>2</td>\n",
       "    </tr>\n",
       "    <tr>\n",
       "      <th>2</th>\n",
       "      <td>25</td>\n",
       "      <td>3</td>\n",
       "      <td>0</td>\n",
       "      <td>3</td>\n",
       "      <td>3</td>\n",
       "      <td>3</td>\n",
       "      <td>3</td>\n",
       "      <td>3</td>\n",
       "      <td>3</td>\n",
       "      <td>2</td>\n",
       "    </tr>\n",
       "    <tr>\n",
       "      <th>3</th>\n",
       "      <td>28</td>\n",
       "      <td>1</td>\n",
       "      <td>2</td>\n",
       "      <td>1</td>\n",
       "      <td>1</td>\n",
       "      <td>1</td>\n",
       "      <td>4</td>\n",
       "      <td>2</td>\n",
       "      <td>2</td>\n",
       "      <td>3</td>\n",
       "    </tr>\n",
       "    <tr>\n",
       "      <th>4</th>\n",
       "      <td>27</td>\n",
       "      <td>0</td>\n",
       "      <td>0</td>\n",
       "      <td>1</td>\n",
       "      <td>3</td>\n",
       "      <td>4</td>\n",
       "      <td>1</td>\n",
       "      <td>3</td>\n",
       "      <td>0</td>\n",
       "      <td>2</td>\n",
       "    </tr>\n",
       "  </tbody>\n",
       "</table>\n",
       "</div>"
      ],
      "text/plain": [
       "   Age  Ease and convenient  Time saving  More restaurant choices  \\\n",
       "0   25                    3            0                        3   \n",
       "1   24                    0            2                        3   \n",
       "2   25                    3            0                        3   \n",
       "3   28                    1            2                        1   \n",
       "4   27                    0            0                        1   \n",
       "\n",
       "   Easy Payment option  More Offers and Discount  Good Food quality  \\\n",
       "0                    3                         3                  3   \n",
       "1                    3                         3                  0   \n",
       "2                    3                         3                  3   \n",
       "3                    1                         1                  4   \n",
       "4                    3                         4                  1   \n",
       "\n",
       "   Good Tracking system  Unaffordable  Maximum wait time  \n",
       "0                     3             3                  2  \n",
       "1                     0             1                  2  \n",
       "2                     3             3                  2  \n",
       "3                     2             2                  3  \n",
       "4                     3             0                  2  "
      ]
     },
     "execution_count": 153,
     "metadata": {},
     "output_type": "execute_result"
    }
   ],
   "source": [
    "X.head()"
   ]
  },
  {
   "cell_type": "code",
   "execution_count": 154,
   "metadata": {
    "ExecuteTime": {
     "end_time": "2021-03-27T03:57:10.661756Z",
     "start_time": "2021-03-27T03:57:10.571202Z"
    }
   },
   "outputs": [
    {
     "data": {
      "text/plain": [
       "(174, 10)"
      ]
     },
     "execution_count": 154,
     "metadata": {},
     "output_type": "execute_result"
    }
   ],
   "source": [
    "X.shape"
   ]
  },
  {
   "cell_type": "code",
   "execution_count": 155,
   "metadata": {
    "ExecuteTime": {
     "end_time": "2021-03-27T03:57:11.331302Z",
     "start_time": "2021-03-27T03:57:10.661756Z"
    }
   },
   "outputs": [
    {
     "data": {
      "text/plain": [
       "RandomForestClassifier(max_depth=6, min_samples_split=4)"
      ]
     },
     "execution_count": 155,
     "metadata": {},
     "output_type": "execute_result"
    }
   ],
   "source": [
    "X_train, X_test, y_train, y_test = train_test_split(X, y, test_size = 0.33)\n",
    "clf=RandomForestClassifier(max_depth=6,min_samples_split=4)\n",
    "clf.fit(X_train,y_train)"
   ]
  },
  {
   "cell_type": "code",
   "execution_count": 156,
   "metadata": {
    "ExecuteTime": {
     "end_time": "2021-03-27T03:57:11.395300Z",
     "start_time": "2021-03-27T03:57:11.331302Z"
    }
   },
   "outputs": [
    {
     "data": {
      "text/plain": [
       "0.8620689655172413"
      ]
     },
     "execution_count": 156,
     "metadata": {},
     "output_type": "execute_result"
    }
   ],
   "source": [
    "clf.score(X_test,y_test)"
   ]
  },
  {
   "cell_type": "code",
   "execution_count": 157,
   "metadata": {
    "ExecuteTime": {
     "end_time": "2021-03-27T03:57:11.553603Z",
     "start_time": "2021-03-27T03:57:11.397180Z"
    }
   },
   "outputs": [
    {
     "data": {
      "text/plain": [
       "array([1, 0, 0, 1, 1, 0, 0, 1, 0, 1, 1, 1, 0, 0, 0, 0, 0, 1, 1, 1, 1, 1,\n",
       "       0, 0, 0, 0, 1, 0, 1, 0, 1, 0, 1, 1, 0, 1, 1, 1, 0, 1, 1, 1, 1, 1,\n",
       "       0, 1, 0, 0, 1, 0, 1, 0, 1, 1, 0, 0, 0, 1], dtype=int64)"
      ]
     },
     "execution_count": 157,
     "metadata": {},
     "output_type": "execute_result"
    }
   ],
   "source": [
    "y_pred=clf.predict(X_test)\n",
    "y_pred"
   ]
  },
  {
   "cell_type": "code",
   "execution_count": 158,
   "metadata": {
    "ExecuteTime": {
     "end_time": "2021-03-27T03:57:11.665594Z",
     "start_time": "2021-03-27T03:57:11.553603Z"
    }
   },
   "outputs": [
    {
     "name": "stdout",
     "output_type": "stream",
     "text": [
      "[[23  4]\n",
      " [ 4 27]]\n"
     ]
    }
   ],
   "source": [
    "print(confusion_matrix(y_test,y_pred))"
   ]
  },
  {
   "cell_type": "code",
   "execution_count": 159,
   "metadata": {
    "ExecuteTime": {
     "end_time": "2021-03-27T03:57:11.897573Z",
     "start_time": "2021-03-27T03:57:11.665594Z"
    }
   },
   "outputs": [
    {
     "name": "stdout",
     "output_type": "stream",
     "text": [
      "              precision    recall  f1-score   support\n",
      "\n",
      "           0       0.85      0.85      0.85        27\n",
      "           1       0.87      0.87      0.87        31\n",
      "\n",
      "    accuracy                           0.86        58\n",
      "   macro avg       0.86      0.86      0.86        58\n",
      "weighted avg       0.86      0.86      0.86        58\n",
      "\n"
     ]
    }
   ],
   "source": [
    "print(classification_report(y_test,y_pred))"
   ]
  },
  {
   "cell_type": "code",
   "execution_count": 160,
   "metadata": {
    "ExecuteTime": {
     "end_time": "2021-03-27T03:57:19.944354Z",
     "start_time": "2021-03-27T03:57:11.897573Z"
    }
   },
   "outputs": [
    {
     "name": "stdout",
     "output_type": "stream",
     "text": [
      "List of possible accuracy: [0.8666666666666667, 1.0, 0.8666666666666667, 0.8, 0.7333333333333333, 0.8666666666666667, 1.0, 0.8571428571428571, 0.9285714285714286, 1.0, 0.8571428571428571, 0.7857142857142857]\n",
      "\n",
      "Maximum Accuracy That can be obtained from this model is: 100.0 %\n",
      "\n",
      "Minimum Accuracy: 73.33333333333333 %\n",
      "\n",
      "Average Accuracy That can be obtained from this model is:: 0.8801587301587303\n",
      "\n",
      " Median Accuracy That can be obtained from this model is:: 0.8666666666666667\n",
      "\n",
      "Standard Deviation is: 0.08363513000543163\n"
     ]
    }
   ],
   "source": [
    "lst_accu_stratified = [] \n",
    "x=0\n",
    "\n",
    "skf = StratifiedKFold(n_splits=12, shuffle=True, random_state=1) \n",
    "for train_index, test_index in skf.split(X, y): \n",
    "    x_train_fold, x_test_fold = X.loc[train_index,:], X.loc[test_index,:] \n",
    "    y_train_fold, y_test_fold = y[train_index], y[test_index] \n",
    "    clf.fit(x_train_fold, y_train_fold)\n",
    "    lst_accu_stratified.append(clf.score(x_test_fold, y_test_fold))\n",
    "   \n",
    "    \n",
    "    \n",
    "print('List of possible accuracy:', lst_accu_stratified) \n",
    "print('\\nMaximum Accuracy That can be obtained from this model is:', \n",
    "      max(lst_accu_stratified)*100, '%') \n",
    "print('\\nMinimum Accuracy:', \n",
    "      min(lst_accu_stratified)*100, '%') \n",
    "print('\\nAverage Accuracy That can be obtained from this model is::',np.mean(lst_accu_stratified)) \n",
    "print('\\n Median Accuracy That can be obtained from this model is::',np.median(lst_accu_stratified)) \n",
    "print('\\nStandard Deviation is:',np.std(lst_accu_stratified)) "
   ]
  },
  {
   "cell_type": "code",
   "execution_count": 161,
   "metadata": {
    "ExecuteTime": {
     "end_time": "2021-03-27T03:57:19.968350Z",
     "start_time": "2021-03-27T03:57:19.944354Z"
    }
   },
   "outputs": [
    {
     "name": "stdout",
     "output_type": "stream",
     "text": [
      "Age [20 24 22 27 23 21 28 25 32 30 31 26 18 19 33 29]\n",
      "Ease and convenient ['Neutral' 'Strongly agree' 'Agree' 'Strongly disagree' 'Disagree']\n",
      "Time saving ['Neutral' 'Strongly agree' 'Agree' 'Disagree' 'Strongly disagree']\n",
      "More restaurant choices ['Neutral' 'Strongly agree' 'Agree' 'Strongly disagree' 'Disagree']\n",
      "Easy Payment option ['Neutral' 'Strongly agree' 'Agree' 'Disagree' 'Strongly disagree']\n",
      "More Offers and Discount ['Neutral' 'Strongly agree' 'Agree' 'Disagree' 'Strongly disagree']\n",
      "Good Food quality ['Neutral' 'Disagree' 'Agree' 'Strongly agree' 'Strongly disagree']\n",
      "Good Tracking system ['Neutral' 'Agree' 'Strongly agree' 'Disagree' 'Strongly disagree']\n",
      "Unaffordable ['Neutral' 'Strongly agree' 'Agree' 'Disagree' 'Strongly disagree']\n",
      "Maximum wait time ['30 minutes' '45 minutes' '60 minutes' 'More than 60 minutes'\n",
      " '15 minutes']\n"
     ]
    }
   ],
   "source": [
    "for i in basic_f0:\n",
    "    print(i,fd_ori[i].unique())"
   ]
  },
  {
   "cell_type": "code",
   "execution_count": 162,
   "metadata": {
    "ExecuteTime": {
     "end_time": "2021-03-27T03:57:20.088339Z",
     "start_time": "2021-03-27T03:57:19.968350Z"
    }
   },
   "outputs": [
    {
     "data": {
      "text/plain": [
       "['Age',\n",
       " 'Ease and convenient',\n",
       " 'Time saving',\n",
       " 'More restaurant choices',\n",
       " 'Easy Payment option',\n",
       " 'More Offers and Discount',\n",
       " 'Good Food quality',\n",
       " 'Good Tracking system',\n",
       " 'Unaffordable',\n",
       " 'Maximum wait time']"
      ]
     },
     "execution_count": 162,
     "metadata": {},
     "output_type": "execute_result"
    }
   ],
   "source": [
    "basic_f0"
   ]
  },
  {
   "cell_type": "code",
   "execution_count": 163,
   "metadata": {
    "ExecuteTime": {
     "end_time": "2021-03-27T03:57:20.256300Z",
     "start_time": "2021-03-27T03:57:20.088339Z"
    }
   },
   "outputs": [
    {
     "data": {
      "text/plain": [
       "{'Age': {20: 20,\n",
       "  24: 24,\n",
       "  22: 22,\n",
       "  27: 27,\n",
       "  23: 23,\n",
       "  21: 21,\n",
       "  28: 28,\n",
       "  25: 25,\n",
       "  32: 32,\n",
       "  30: 30,\n",
       "  31: 31,\n",
       "  26: 26,\n",
       "  18: 18,\n",
       "  19: 19,\n",
       "  33: 33,\n",
       "  29: 29},\n",
       " 'Gender': {'Female': 0, 'Male': 1},\n",
       " 'Marital Status': {'Single': 2, 'Married': 0, 'Prefer not to say': 1},\n",
       " 'Occupation': {'Student': 3,\n",
       "  'Employee': 0,\n",
       "  'Self Employeed': 2,\n",
       "  'House wife': 1},\n",
       " 'Monthly Income': {'No Income': 4,\n",
       "  'Below Rs.10000': 2,\n",
       "  'More than 50000': 3,\n",
       "  '10001 to 25000': 0,\n",
       "  '25001 to 50000': 1},\n",
       " 'Educational Qualifications': {'Post Graduate': 2,\n",
       "  'Graduate': 0,\n",
       "  'Ph.D': 1,\n",
       "  'Uneducated': 4,\n",
       "  'School': 3},\n",
       " 'Family size': {4: 4, 3: 3, 6: 6, 2: 2, 5: 5, 1: 1},\n",
       " 'Medium (P1)': {'Food delivery apps': 1,\n",
       "  'Walk-in': 2,\n",
       "  'Direct call': 0,\n",
       "  'Web browser': 3},\n",
       " 'Medium (P2)': {' Web browser': 2, ' Direct call': 0, ' Walk-in': 1},\n",
       " 'Meal(P1)': {'Breakfast': 0, 'Snacks': 3, 'Lunch': 2, 'Dinner': 1},\n",
       " 'Meal(P2)': {' Lunch': 1, ' Dinner': 0, ' Snacks': 2},\n",
       " 'Perference(P1)': {'Non Veg foods (Lunch / Dinner)': 1,\n",
       "  'Veg foods (Breakfast / Lunch / Dinner)': 3,\n",
       "  'Bakery items (snacks)': 0,\n",
       "  'Sweets': 2},\n",
       " 'Perference(P2)': {' Bakery items (snacks)': 0,\n",
       "  ' Veg foods (Breakfast / Lunch / Dinner)': 3,\n",
       "  ' Ice cream / Cool drinks': 1,\n",
       "  ' Sweets': 2},\n",
       " 'Ease and convenient': {'Neutral': 2,\n",
       "  'Strongly agree': 3,\n",
       "  'Agree': 0,\n",
       "  'Strongly disagree': 4,\n",
       "  'Disagree': 1},\n",
       " 'Time saving': {'Neutral': 2,\n",
       "  'Strongly agree': 3,\n",
       "  'Agree': 0,\n",
       "  'Disagree': 1,\n",
       "  'Strongly disagree': 4},\n",
       " 'More restaurant choices': {'Neutral': 2,\n",
       "  'Strongly agree': 3,\n",
       "  'Agree': 0,\n",
       "  'Strongly disagree': 4,\n",
       "  'Disagree': 1},\n",
       " 'Easy Payment option': {'Neutral': 2,\n",
       "  'Strongly agree': 3,\n",
       "  'Agree': 0,\n",
       "  'Disagree': 1,\n",
       "  'Strongly disagree': 4},\n",
       " 'More Offers and Discount': {'Neutral': 2,\n",
       "  'Strongly agree': 3,\n",
       "  'Agree': 0,\n",
       "  'Disagree': 1,\n",
       "  'Strongly disagree': 4},\n",
       " 'Good Food quality': {'Neutral': 2,\n",
       "  'Disagree': 1,\n",
       "  'Agree': 0,\n",
       "  'Strongly agree': 3,\n",
       "  'Strongly disagree': 4},\n",
       " 'Good Tracking system': {'Neutral': 2,\n",
       "  'Agree': 0,\n",
       "  'Strongly agree': 3,\n",
       "  'Disagree': 1,\n",
       "  'Strongly disagree': 4},\n",
       " 'Self Cooking': {'Neutral': 2,\n",
       "  'Strongly agree': 3,\n",
       "  'Disagree': 1,\n",
       "  'Agree': 0,\n",
       "  'Strongly disagree': 4},\n",
       " 'Health Concern': {'Neutral': 2,\n",
       "  'Strongly agree': 3,\n",
       "  'Agree': 0,\n",
       "  'Strongly disagree': 4,\n",
       "  'Disagree': 1},\n",
       " 'Late Delivery': {'Neutral': 2,\n",
       "  'Agree': 0,\n",
       "  'Strongly agree': 3,\n",
       "  'Disagree': 1,\n",
       "  'Strongly disagree': 4},\n",
       " 'Poor Hygiene': {'Neutral': 2,\n",
       "  'Strongly agree': 3,\n",
       "  'Agree': 0,\n",
       "  'Disagree': 1,\n",
       "  'Strongly disagree': 4},\n",
       " 'Bad past experience': {'Neutral': 2,\n",
       "  'Strongly agree': 3,\n",
       "  'Agree': 0,\n",
       "  'Disagree': 1,\n",
       "  'Strongly disagree': 4},\n",
       " 'Unavailability': {'Neutral': 2,\n",
       "  'Strongly agree': 3,\n",
       "  'Agree': 0,\n",
       "  'Disagree': 1,\n",
       "  'Strongly disagree': 4},\n",
       " 'Unaffordable': {'Neutral': 2,\n",
       "  'Strongly agree': 3,\n",
       "  'Agree': 0,\n",
       "  'Disagree': 1,\n",
       "  'Strongly disagree': 4},\n",
       " 'Long delivery time': {'Agree': 0,\n",
       "  'Strongly agree': 3,\n",
       "  'Neutral': 2,\n",
       "  'Disagree': 1,\n",
       "  'Strongly disagree': 4},\n",
       " 'Delay of delivery person getting assigned': {'Agree': 0,\n",
       "  'Strongly agree': 3,\n",
       "  'Disagree': 1,\n",
       "  'Neutral': 2,\n",
       "  'Strongly disagree': 4},\n",
       " 'Delay of delivery person picking up food': {'Agree': 0,\n",
       "  'Strongly agree': 3,\n",
       "  'Neutral': 2,\n",
       "  'Disagree': 1,\n",
       "  'Strongly disagree': 4},\n",
       " 'Wrong order delivered': {'Agree': 0,\n",
       "  'Strongly agree': 3,\n",
       "  'Disagree': 1,\n",
       "  'Neutral': 2,\n",
       "  'Strongly disagree': 4},\n",
       " 'Missing item': {'Agree': 0,\n",
       "  'Strongly agree': 3,\n",
       "  'Disagree': 1,\n",
       "  'Neutral': 2,\n",
       "  'Strongly disagree': 4},\n",
       " 'Order placed by mistake': {'Agree': 0,\n",
       "  'Strongly agree': 3,\n",
       "  'Neutral': 2,\n",
       "  'Disagree': 1,\n",
       "  'Strongly disagree': 4},\n",
       " 'Influence of time': {'Yes': 2, 'No': 1, 'Maybe': 0},\n",
       " 'Order Time': {'Weekend (Sat & Sun)': 2,\n",
       "  'Anytime (Mon-Sun)': 0,\n",
       "  'Weekdays (Mon-Fri)': 1},\n",
       " 'Maximum wait time': {'30 minutes': 1,\n",
       "  '45 minutes': 2,\n",
       "  '60 minutes': 3,\n",
       "  'More than 60 minutes': 4,\n",
       "  '15 minutes': 0},\n",
       " 'Residence in busy location': {'Agree': 0,\n",
       "  'Strongly Agree': 3,\n",
       "  'Disagree': 1,\n",
       "  'Neutral': 2,\n",
       "  'Strongly disagree': 4},\n",
       " 'Google Maps Accuracy': {'Neutral': 2,\n",
       "  'Strongly Agree': 3,\n",
       "  'Agree': 0,\n",
       "  'Disagree': 1,\n",
       "  'Strongly disagree': 4},\n",
       " 'Good Road Condition': {'Neutral': 2,\n",
       "  'Disagree': 1,\n",
       "  'Agree': 0,\n",
       "  'Strongly Agree': 3,\n",
       "  'Strongly disagree': 4},\n",
       " 'Low quantity low time': {'Neutral': 2,\n",
       "  'Strongly disagree': 4,\n",
       "  'Agree': 0,\n",
       "  'Disagree': 1,\n",
       "  'Strongly Agree': 3},\n",
       " 'Delivery person ability': {'Neutral': 2,\n",
       "  'Agree': 0,\n",
       "  'Strongly Agree': 3,\n",
       "  'Disagree': 1,\n",
       "  'Strongly disagree': 4},\n",
       " 'Influence of rating': {'Yes': 2, 'Maybe': 0, 'No': 1},\n",
       " 'Less Delivery time': {'Moderately Important': 1,\n",
       "  'Very Important': 4,\n",
       "  'Important': 0,\n",
       "  'Slightly Important': 2,\n",
       "  'Unimportant': 3},\n",
       " 'High Quality of package': {'Moderately Important': 1,\n",
       "  'Very Important': 4,\n",
       "  'Important': 0,\n",
       "  'Unimportant': 3,\n",
       "  'Slightly Important': 2},\n",
       " 'Number of calls': {'Moderately Important': 1,\n",
       "  'Very Important': 4,\n",
       "  'Unimportant': 3,\n",
       "  'Important': 0,\n",
       "  'Slightly Important': 2},\n",
       " 'Politeness': {'Moderately Important': 1,\n",
       "  'Very Important': 4,\n",
       "  'Important': 0,\n",
       "  'Slightly Important': 2,\n",
       "  'Unimportant': 3},\n",
       " 'Freshness ': {'Moderately Important': 1,\n",
       "  'Very Important': 4,\n",
       "  'Important': 0,\n",
       "  'Slightly Important': 2,\n",
       "  'Unimportant': 3},\n",
       " 'Temperature': {'Moderately Important': 1,\n",
       "  'Very Important': 4,\n",
       "  'Important': 0,\n",
       "  'Slightly Important': 2,\n",
       "  'Unimportant': 3},\n",
       " 'Good Taste ': {'Moderately Important': 1,\n",
       "  'Very Important': 4,\n",
       "  'Important': 0,\n",
       "  'Slightly Important': 2,\n",
       "  'Unimportant': 3},\n",
       " 'Good Quantity': {'Moderately Important': 1,\n",
       "  'Very Important': 4,\n",
       "  'Important': 0,\n",
       "  'Slightly Important': 2,\n",
       "  'Unimportant': 3},\n",
       " 'Output': {'Yes': 1, 'No': 0}}"
      ]
     },
     "execution_count": 163,
     "metadata": {},
     "output_type": "execute_result"
    }
   ],
   "source": [
    "lbl"
   ]
  },
  {
   "cell_type": "code",
   "execution_count": 164,
   "metadata": {
    "ExecuteTime": {
     "end_time": "2021-03-27T03:57:20.360294Z",
     "start_time": "2021-03-27T03:57:20.256300Z"
    }
   },
   "outputs": [],
   "source": [
    "import pickle\n",
    "pickle.dump(clf, open('model.pkl','wb'))\n"
   ]
  },
  {
   "cell_type": "code",
   "execution_count": 165,
   "metadata": {
    "ExecuteTime": {
     "end_time": "2021-03-27T03:57:20.464280Z",
     "start_time": "2021-03-27T03:57:20.360294Z"
    }
   },
   "outputs": [],
   "source": [
    "model = pickle.load(open('model.pkl','rb'))\n"
   ]
  },
  {
   "cell_type": "code",
   "execution_count": 166,
   "metadata": {
    "ExecuteTime": {
     "end_time": "2021-03-27T03:57:20.568271Z",
     "start_time": "2021-03-27T03:57:20.464280Z"
    }
   },
   "outputs": [
    {
     "data": {
      "text/plain": [
       "array([1], dtype=int64)"
      ]
     },
     "execution_count": 166,
     "metadata": {},
     "output_type": "execute_result"
    }
   ],
   "source": [
    "clf.predict(np.array([20,2,3,4,3,1,1,3,4,5]).reshape(1,-1))"
   ]
  },
  {
   "cell_type": "code",
   "execution_count": 167,
   "metadata": {
    "ExecuteTime": {
     "end_time": "2021-03-27T03:57:20.656263Z",
     "start_time": "2021-03-27T03:57:20.568271Z"
    }
   },
   "outputs": [],
   "source": [
    "\n",
    "# import graphviz\n",
    "# import sklearn.tree as tree\n",
    "# # DOT data\n",
    "# dot_data = tree.export_graphviz(clf, out_file=None, \n",
    "#                                 feature_names=X.columns,  \n",
    "#                                 class_names='01',\n",
    "#                                 filled=True)\n",
    "\n",
    "# # # Draw graph\n",
    "# graph = graphviz.Source(dot_data,format=\"png\") \n",
    "# graph.render('food_final')"
   ]
  },
  {
   "cell_type": "code",
   "execution_count": null,
   "metadata": {},
   "outputs": [],
   "source": []
  }
 ],
 "metadata": {
  "kernelspec": {
   "display_name": "Python 3",
   "language": "python",
   "name": "python3"
  },
  "language_info": {
   "codemirror_mode": {
    "name": "ipython",
    "version": 3
   },
   "file_extension": ".py",
   "mimetype": "text/x-python",
   "name": "python",
   "nbconvert_exporter": "python",
   "pygments_lexer": "ipython3",
   "version": "3.7.9"
  },
  "toc": {
   "base_numbering": 1,
   "nav_menu": {
    "height": "68px",
    "width": "168px"
   },
   "number_sections": true,
   "sideBar": true,
   "skip_h1_title": false,
   "title_cell": "Table of Contents",
   "title_sidebar": "Contents",
   "toc_cell": false,
   "toc_position": {},
   "toc_section_display": true,
   "toc_window_display": true
  }
 },
 "nbformat": 4,
 "nbformat_minor": 4
}
