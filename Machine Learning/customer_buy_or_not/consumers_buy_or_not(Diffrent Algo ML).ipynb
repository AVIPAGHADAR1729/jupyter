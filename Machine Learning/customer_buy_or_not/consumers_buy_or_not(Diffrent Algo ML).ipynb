{
 "cells": [
  {
   "cell_type": "code",
   "execution_count": 1,
   "metadata": {
    "ExecuteTime": {
     "end_time": "2021-03-09T17:49:53.008617Z",
     "start_time": "2021-03-09T17:49:09.069004Z"
    }
   },
   "outputs": [],
   "source": [
    "#import libraries\n",
    "import numpy \n",
    "import numpy as np\n",
    "import pandas as pd\n",
    "import seaborn as sns\n",
    "import matplotlib.pyplot as plt\n",
    "from sklearn import metrics\n",
    "import matplotlib.patches as mpatches\n",
    "from sklearn.metrics import classification_report\n",
    "from sklearn.metrics import confusion_matrix\n",
    "import scipy.stats as st \n",
    "import dtale \n",
    "import warnings\n",
    "from sklearn.model_selection import StratifiedKFold \n",
    "\n",
    "from imblearn.over_sampling import RandomOverSampler\n",
    "from sklearn.tree import DecisionTreeClassifier\n",
    "from sklearn.model_selection import cross_val_score\n",
    "warnings.filterwarnings('ignore')\n",
    "import pandas_profiling as pdp\n",
    "from sklearn.model_selection import train_test_split\n",
    "from sklearn.neighbors import KNeighborsClassifier\n",
    "from sklearn.metrics import roc_curve"
   ]
  },
  {
   "cell_type": "code",
   "execution_count": 2,
   "metadata": {
    "ExecuteTime": {
     "end_time": "2021-03-09T17:49:53.231491Z",
     "start_time": "2021-03-09T17:49:53.015613Z"
    }
   },
   "outputs": [],
   "source": [
    "fd_dlvry=pd.read_csv('../../data/Banglore_food_delivery/onlinedeliverydata.csv')"
   ]
  },
  {
   "cell_type": "code",
   "execution_count": 3,
   "metadata": {
    "ExecuteTime": {
     "end_time": "2021-03-09T17:49:53.241485Z",
     "start_time": "2021-03-09T17:49:53.236487Z"
    }
   },
   "outputs": [],
   "source": [
    "fd_ori=fd_dlvry.copy(deep=True)\n",
    "#future uses one copy create"
   ]
  },
  {
   "cell_type": "code",
   "execution_count": 4,
   "metadata": {
    "ExecuteTime": {
     "end_time": "2021-03-09T17:49:53.351420Z",
     "start_time": "2021-03-09T17:49:53.246481Z"
    }
   },
   "outputs": [
    {
     "data": {
      "text/plain": [
       "(388, 55)"
      ]
     },
     "execution_count": 4,
     "metadata": {},
     "output_type": "execute_result"
    }
   ],
   "source": [
    "fd_dlvry.shape"
   ]
  },
  {
   "cell_type": "code",
   "execution_count": 5,
   "metadata": {
    "ExecuteTime": {
     "end_time": "2021-03-09T17:49:53.577291Z",
     "start_time": "2021-03-09T17:49:53.354420Z"
    },
    "scrolled": true
   },
   "outputs": [
    {
     "data": {
      "text/html": [
       "<div>\n",
       "<style scoped>\n",
       "    .dataframe tbody tr th:only-of-type {\n",
       "        vertical-align: middle;\n",
       "    }\n",
       "\n",
       "    .dataframe tbody tr th {\n",
       "        vertical-align: top;\n",
       "    }\n",
       "\n",
       "    .dataframe thead th {\n",
       "        text-align: right;\n",
       "    }\n",
       "</style>\n",
       "<table border=\"1\" class=\"dataframe\">\n",
       "  <thead>\n",
       "    <tr style=\"text-align: right;\">\n",
       "      <th></th>\n",
       "      <th>Age</th>\n",
       "      <th>Gender</th>\n",
       "      <th>Marital Status</th>\n",
       "      <th>Occupation</th>\n",
       "      <th>Monthly Income</th>\n",
       "      <th>Educational Qualifications</th>\n",
       "      <th>Family size</th>\n",
       "      <th>latitude</th>\n",
       "      <th>longitude</th>\n",
       "      <th>Pin code</th>\n",
       "      <th>...</th>\n",
       "      <th>Less Delivery time</th>\n",
       "      <th>High Quality of package</th>\n",
       "      <th>Number of calls</th>\n",
       "      <th>Politeness</th>\n",
       "      <th>Freshness</th>\n",
       "      <th>Temperature</th>\n",
       "      <th>Good Taste</th>\n",
       "      <th>Good Quantity</th>\n",
       "      <th>Output</th>\n",
       "      <th>Reviews</th>\n",
       "    </tr>\n",
       "  </thead>\n",
       "  <tbody>\n",
       "    <tr>\n",
       "      <th>0</th>\n",
       "      <td>20</td>\n",
       "      <td>Female</td>\n",
       "      <td>Single</td>\n",
       "      <td>Student</td>\n",
       "      <td>No Income</td>\n",
       "      <td>Post Graduate</td>\n",
       "      <td>4</td>\n",
       "      <td>12.9766</td>\n",
       "      <td>77.5993</td>\n",
       "      <td>560001</td>\n",
       "      <td>...</td>\n",
       "      <td>Moderately Important</td>\n",
       "      <td>Moderately Important</td>\n",
       "      <td>Moderately Important</td>\n",
       "      <td>Moderately Important</td>\n",
       "      <td>Moderately Important</td>\n",
       "      <td>Moderately Important</td>\n",
       "      <td>Moderately Important</td>\n",
       "      <td>Moderately Important</td>\n",
       "      <td>Yes</td>\n",
       "      <td>Nil\\n</td>\n",
       "    </tr>\n",
       "    <tr>\n",
       "      <th>1</th>\n",
       "      <td>24</td>\n",
       "      <td>Female</td>\n",
       "      <td>Single</td>\n",
       "      <td>Student</td>\n",
       "      <td>Below Rs.10000</td>\n",
       "      <td>Graduate</td>\n",
       "      <td>3</td>\n",
       "      <td>12.9770</td>\n",
       "      <td>77.5773</td>\n",
       "      <td>560009</td>\n",
       "      <td>...</td>\n",
       "      <td>Very Important</td>\n",
       "      <td>Very Important</td>\n",
       "      <td>Very Important</td>\n",
       "      <td>Very Important</td>\n",
       "      <td>Very Important</td>\n",
       "      <td>Very Important</td>\n",
       "      <td>Very Important</td>\n",
       "      <td>Very Important</td>\n",
       "      <td>Yes</td>\n",
       "      <td>Nil</td>\n",
       "    </tr>\n",
       "    <tr>\n",
       "      <th>2</th>\n",
       "      <td>22</td>\n",
       "      <td>Male</td>\n",
       "      <td>Single</td>\n",
       "      <td>Student</td>\n",
       "      <td>Below Rs.10000</td>\n",
       "      <td>Post Graduate</td>\n",
       "      <td>3</td>\n",
       "      <td>12.9551</td>\n",
       "      <td>77.6593</td>\n",
       "      <td>560017</td>\n",
       "      <td>...</td>\n",
       "      <td>Important</td>\n",
       "      <td>Very Important</td>\n",
       "      <td>Moderately Important</td>\n",
       "      <td>Very Important</td>\n",
       "      <td>Very Important</td>\n",
       "      <td>Important</td>\n",
       "      <td>Very Important</td>\n",
       "      <td>Moderately Important</td>\n",
       "      <td>Yes</td>\n",
       "      <td>Many a times payment gateways are an issue, so...</td>\n",
       "    </tr>\n",
       "    <tr>\n",
       "      <th>3</th>\n",
       "      <td>22</td>\n",
       "      <td>Female</td>\n",
       "      <td>Single</td>\n",
       "      <td>Student</td>\n",
       "      <td>No Income</td>\n",
       "      <td>Graduate</td>\n",
       "      <td>6</td>\n",
       "      <td>12.9473</td>\n",
       "      <td>77.5616</td>\n",
       "      <td>560019</td>\n",
       "      <td>...</td>\n",
       "      <td>Very Important</td>\n",
       "      <td>Important</td>\n",
       "      <td>Moderately Important</td>\n",
       "      <td>Very Important</td>\n",
       "      <td>Very Important</td>\n",
       "      <td>Very Important</td>\n",
       "      <td>Very Important</td>\n",
       "      <td>Important</td>\n",
       "      <td>Yes</td>\n",
       "      <td>nil</td>\n",
       "    </tr>\n",
       "    <tr>\n",
       "      <th>4</th>\n",
       "      <td>22</td>\n",
       "      <td>Male</td>\n",
       "      <td>Single</td>\n",
       "      <td>Student</td>\n",
       "      <td>Below Rs.10000</td>\n",
       "      <td>Post Graduate</td>\n",
       "      <td>4</td>\n",
       "      <td>12.9850</td>\n",
       "      <td>77.5533</td>\n",
       "      <td>560010</td>\n",
       "      <td>...</td>\n",
       "      <td>Important</td>\n",
       "      <td>Important</td>\n",
       "      <td>Moderately Important</td>\n",
       "      <td>Important</td>\n",
       "      <td>Important</td>\n",
       "      <td>Important</td>\n",
       "      <td>Very Important</td>\n",
       "      <td>Very Important</td>\n",
       "      <td>Yes</td>\n",
       "      <td>NIL</td>\n",
       "    </tr>\n",
       "  </tbody>\n",
       "</table>\n",
       "<p>5 rows × 55 columns</p>\n",
       "</div>"
      ],
      "text/plain": [
       "   Age  Gender Marital Status Occupation  Monthly Income  \\\n",
       "0   20  Female         Single    Student       No Income   \n",
       "1   24  Female         Single    Student  Below Rs.10000   \n",
       "2   22    Male         Single    Student  Below Rs.10000   \n",
       "3   22  Female         Single    Student       No Income   \n",
       "4   22    Male         Single    Student  Below Rs.10000   \n",
       "\n",
       "  Educational Qualifications  Family size  latitude  longitude  Pin code  ...  \\\n",
       "0              Post Graduate            4   12.9766    77.5993    560001  ...   \n",
       "1                   Graduate            3   12.9770    77.5773    560009  ...   \n",
       "2              Post Graduate            3   12.9551    77.6593    560017  ...   \n",
       "3                   Graduate            6   12.9473    77.5616    560019  ...   \n",
       "4              Post Graduate            4   12.9850    77.5533    560010  ...   \n",
       "\n",
       "     Less Delivery time High Quality of package       Number of calls  \\\n",
       "0  Moderately Important    Moderately Important  Moderately Important   \n",
       "1        Very Important          Very Important        Very Important   \n",
       "2             Important          Very Important  Moderately Important   \n",
       "3        Very Important               Important  Moderately Important   \n",
       "4             Important               Important  Moderately Important   \n",
       "\n",
       "             Politeness            Freshness            Temperature  \\\n",
       "0  Moderately Important  Moderately Important  Moderately Important   \n",
       "1        Very Important        Very Important        Very Important   \n",
       "2        Very Important        Very Important             Important   \n",
       "3        Very Important        Very Important        Very Important   \n",
       "4             Important             Important             Important   \n",
       "\n",
       "            Good Taste          Good Quantity Output  \\\n",
       "0  Moderately Important  Moderately Important    Yes   \n",
       "1        Very Important        Very Important    Yes   \n",
       "2        Very Important  Moderately Important    Yes   \n",
       "3        Very Important             Important    Yes   \n",
       "4        Very Important        Very Important    Yes   \n",
       "\n",
       "                                             Reviews  \n",
       "0                                              Nil\\n  \n",
       "1                                                Nil  \n",
       "2  Many a times payment gateways are an issue, so...  \n",
       "3                                                nil  \n",
       "4                                                NIL  \n",
       "\n",
       "[5 rows x 55 columns]"
      ]
     },
     "execution_count": 5,
     "metadata": {},
     "output_type": "execute_result"
    }
   ],
   "source": [
    "fd_dlvry.head()"
   ]
  },
  {
   "cell_type": "code",
   "execution_count": null,
   "metadata": {},
   "outputs": [],
   "source": []
  },
  {
   "cell_type": "code",
   "execution_count": 6,
   "metadata": {
    "ExecuteTime": {
     "end_time": "2021-03-09T17:49:53.647252Z",
     "start_time": "2021-03-09T17:49:53.580289Z"
    }
   },
   "outputs": [
    {
     "name": "stdout",
     "output_type": "stream",
     "text": [
      "<class 'pandas.core.frame.DataFrame'>\n",
      "RangeIndex: 388 entries, 0 to 387\n",
      "Data columns (total 55 columns):\n",
      " #   Column                                     Non-Null Count  Dtype  \n",
      "---  ------                                     --------------  -----  \n",
      " 0   Age                                        388 non-null    int64  \n",
      " 1   Gender                                     388 non-null    object \n",
      " 2   Marital Status                             388 non-null    object \n",
      " 3   Occupation                                 388 non-null    object \n",
      " 4   Monthly Income                             388 non-null    object \n",
      " 5   Educational Qualifications                 388 non-null    object \n",
      " 6   Family size                                388 non-null    int64  \n",
      " 7   latitude                                   388 non-null    float64\n",
      " 8   longitude                                  388 non-null    float64\n",
      " 9   Pin code                                   388 non-null    int64  \n",
      " 10  Medium (P1)                                388 non-null    object \n",
      " 11  Medium (P2)                                388 non-null    object \n",
      " 12  Meal(P1)                                   388 non-null    object \n",
      " 13  Meal(P2)                                   388 non-null    object \n",
      " 14  Perference(P1)                             388 non-null    object \n",
      " 15  Perference(P2)                             388 non-null    object \n",
      " 16  Ease and convenient                        388 non-null    object \n",
      " 17  Time saving                                388 non-null    object \n",
      " 18  More restaurant choices                    388 non-null    object \n",
      " 19  Easy Payment option                        388 non-null    object \n",
      " 20  More Offers and Discount                   388 non-null    object \n",
      " 21  Good Food quality                          388 non-null    object \n",
      " 22  Good Tracking system                       388 non-null    object \n",
      " 23  Self Cooking                               388 non-null    object \n",
      " 24  Health Concern                             388 non-null    object \n",
      " 25  Late Delivery                              388 non-null    object \n",
      " 26  Poor Hygiene                               388 non-null    object \n",
      " 27  Bad past experience                        388 non-null    object \n",
      " 28  Unavailability                             388 non-null    object \n",
      " 29  Unaffordable                               388 non-null    object \n",
      " 30  Long delivery time                         388 non-null    object \n",
      " 31  Delay of delivery person getting assigned  388 non-null    object \n",
      " 32  Delay of delivery person picking up food   388 non-null    object \n",
      " 33  Wrong order delivered                      388 non-null    object \n",
      " 34  Missing item                               388 non-null    object \n",
      " 35  Order placed by mistake                    388 non-null    object \n",
      " 36  Influence of time                          388 non-null    object \n",
      " 37  Order Time                                 388 non-null    object \n",
      " 38  Maximum wait time                          388 non-null    object \n",
      " 39  Residence in busy location                 388 non-null    object \n",
      " 40  Google Maps Accuracy                       388 non-null    object \n",
      " 41  Good Road Condition                        388 non-null    object \n",
      " 42  Low quantity low time                      388 non-null    object \n",
      " 43  Delivery person ability                    388 non-null    object \n",
      " 44  Influence of rating                        388 non-null    object \n",
      " 45  Less Delivery time                         388 non-null    object \n",
      " 46  High Quality of package                    388 non-null    object \n",
      " 47  Number of calls                            388 non-null    object \n",
      " 48  Politeness                                 388 non-null    object \n",
      " 49  Freshness                                  388 non-null    object \n",
      " 50  Temperature                                388 non-null    object \n",
      " 51  Good Taste                                 388 non-null    object \n",
      " 52  Good Quantity                              388 non-null    object \n",
      " 53  Output                                     388 non-null    object \n",
      " 54  Reviews                                    388 non-null    object \n",
      "dtypes: float64(2), int64(3), object(50)\n",
      "memory usage: 166.8+ KB\n"
     ]
    }
   ],
   "source": [
    "fd_dlvry.info()"
   ]
  },
  {
   "cell_type": "code",
   "execution_count": 7,
   "metadata": {
    "ExecuteTime": {
     "end_time": "2021-03-09T17:49:53.822150Z",
     "start_time": "2021-03-09T17:49:53.658246Z"
    }
   },
   "outputs": [],
   "source": [
    "# d = dtale.show(fd_dlvry)\n",
    "# d.open_browser()\n",
    "#we can use datle library for EDA"
   ]
  },
  {
   "cell_type": "code",
   "execution_count": 8,
   "metadata": {
    "ExecuteTime": {
     "end_time": "2021-03-09T17:49:53.977063Z",
     "start_time": "2021-03-09T17:49:53.829148Z"
    }
   },
   "outputs": [],
   "source": [
    "#looking data with pdp.ProfileReport \n",
    "# data = pd.read_csv('../../data/Banglore_food_delivery/onlinedeliverydata.csv')\n",
    "\n",
    "# #Creating the Exploratory Data Analysis of our dataset\n",
    "# report = pdp.ProfileReport(data, title='Pandas Profiling Report')"
   ]
  },
  {
   "cell_type": "code",
   "execution_count": 9,
   "metadata": {
    "ExecuteTime": {
     "end_time": "2021-03-09T17:49:54.085001Z",
     "start_time": "2021-03-09T17:49:53.981061Z"
    },
    "scrolled": true
   },
   "outputs": [],
   "source": [
    "# report.widgets"
   ]
  },
  {
   "cell_type": "code",
   "execution_count": 10,
   "metadata": {
    "ExecuteTime": {
     "end_time": "2021-03-09T17:49:56.473109Z",
     "start_time": "2021-03-09T17:49:54.090000Z"
    },
    "code_folding": []
   },
   "outputs": [
    {
     "data": {
      "text/html": [
       "<div>\n",
       "<style scoped>\n",
       "    .dataframe tbody tr th:only-of-type {\n",
       "        vertical-align: middle;\n",
       "    }\n",
       "\n",
       "    .dataframe tbody tr th {\n",
       "        vertical-align: top;\n",
       "    }\n",
       "\n",
       "    .dataframe thead th {\n",
       "        text-align: right;\n",
       "    }\n",
       "</style>\n",
       "<table border=\"1\" class=\"dataframe\">\n",
       "  <thead>\n",
       "    <tr style=\"text-align: right;\">\n",
       "      <th></th>\n",
       "      <th>Age</th>\n",
       "      <th>Gender</th>\n",
       "      <th>Marital Status</th>\n",
       "      <th>Occupation</th>\n",
       "      <th>Monthly Income</th>\n",
       "      <th>Educational Qualifications</th>\n",
       "      <th>Family size</th>\n",
       "      <th>latitude</th>\n",
       "      <th>longitude</th>\n",
       "      <th>Pin code</th>\n",
       "      <th>...</th>\n",
       "      <th>Less Delivery time</th>\n",
       "      <th>High Quality of package</th>\n",
       "      <th>Number of calls</th>\n",
       "      <th>Politeness</th>\n",
       "      <th>Freshness</th>\n",
       "      <th>Temperature</th>\n",
       "      <th>Good Taste</th>\n",
       "      <th>Good Quantity</th>\n",
       "      <th>Output</th>\n",
       "      <th>Reviews</th>\n",
       "    </tr>\n",
       "  </thead>\n",
       "  <tbody>\n",
       "    <tr>\n",
       "      <th>0</th>\n",
       "      <td>20</td>\n",
       "      <td>0</td>\n",
       "      <td>2</td>\n",
       "      <td>3</td>\n",
       "      <td>4</td>\n",
       "      <td>2</td>\n",
       "      <td>4</td>\n",
       "      <td>12.9766</td>\n",
       "      <td>77.5993</td>\n",
       "      <td>560001</td>\n",
       "      <td>...</td>\n",
       "      <td>1</td>\n",
       "      <td>1</td>\n",
       "      <td>1</td>\n",
       "      <td>1</td>\n",
       "      <td>1</td>\n",
       "      <td>1</td>\n",
       "      <td>1</td>\n",
       "      <td>1</td>\n",
       "      <td>1</td>\n",
       "      <td>136</td>\n",
       "    </tr>\n",
       "    <tr>\n",
       "      <th>1</th>\n",
       "      <td>24</td>\n",
       "      <td>0</td>\n",
       "      <td>2</td>\n",
       "      <td>3</td>\n",
       "      <td>2</td>\n",
       "      <td>0</td>\n",
       "      <td>3</td>\n",
       "      <td>12.9770</td>\n",
       "      <td>77.5773</td>\n",
       "      <td>560009</td>\n",
       "      <td>...</td>\n",
       "      <td>4</td>\n",
       "      <td>4</td>\n",
       "      <td>4</td>\n",
       "      <td>4</td>\n",
       "      <td>4</td>\n",
       "      <td>4</td>\n",
       "      <td>4</td>\n",
       "      <td>4</td>\n",
       "      <td>1</td>\n",
       "      <td>135</td>\n",
       "    </tr>\n",
       "    <tr>\n",
       "      <th>2</th>\n",
       "      <td>22</td>\n",
       "      <td>1</td>\n",
       "      <td>2</td>\n",
       "      <td>3</td>\n",
       "      <td>2</td>\n",
       "      <td>2</td>\n",
       "      <td>3</td>\n",
       "      <td>12.9551</td>\n",
       "      <td>77.6593</td>\n",
       "      <td>560017</td>\n",
       "      <td>...</td>\n",
       "      <td>0</td>\n",
       "      <td>4</td>\n",
       "      <td>1</td>\n",
       "      <td>4</td>\n",
       "      <td>4</td>\n",
       "      <td>0</td>\n",
       "      <td>4</td>\n",
       "      <td>1</td>\n",
       "      <td>1</td>\n",
       "      <td>119</td>\n",
       "    </tr>\n",
       "    <tr>\n",
       "      <th>3</th>\n",
       "      <td>22</td>\n",
       "      <td>0</td>\n",
       "      <td>2</td>\n",
       "      <td>3</td>\n",
       "      <td>4</td>\n",
       "      <td>0</td>\n",
       "      <td>6</td>\n",
       "      <td>12.9473</td>\n",
       "      <td>77.5616</td>\n",
       "      <td>560019</td>\n",
       "      <td>...</td>\n",
       "      <td>4</td>\n",
       "      <td>0</td>\n",
       "      <td>1</td>\n",
       "      <td>4</td>\n",
       "      <td>4</td>\n",
       "      <td>4</td>\n",
       "      <td>4</td>\n",
       "      <td>0</td>\n",
       "      <td>1</td>\n",
       "      <td>176</td>\n",
       "    </tr>\n",
       "    <tr>\n",
       "      <th>4</th>\n",
       "      <td>22</td>\n",
       "      <td>1</td>\n",
       "      <td>2</td>\n",
       "      <td>3</td>\n",
       "      <td>2</td>\n",
       "      <td>2</td>\n",
       "      <td>4</td>\n",
       "      <td>12.9850</td>\n",
       "      <td>77.5533</td>\n",
       "      <td>560010</td>\n",
       "      <td>...</td>\n",
       "      <td>0</td>\n",
       "      <td>0</td>\n",
       "      <td>1</td>\n",
       "      <td>0</td>\n",
       "      <td>0</td>\n",
       "      <td>0</td>\n",
       "      <td>4</td>\n",
       "      <td>4</td>\n",
       "      <td>1</td>\n",
       "      <td>129</td>\n",
       "    </tr>\n",
       "  </tbody>\n",
       "</table>\n",
       "<p>5 rows × 55 columns</p>\n",
       "</div>"
      ],
      "text/plain": [
       "   Age  Gender  Marital Status  Occupation  Monthly Income  \\\n",
       "0   20       0               2           3               4   \n",
       "1   24       0               2           3               2   \n",
       "2   22       1               2           3               2   \n",
       "3   22       0               2           3               4   \n",
       "4   22       1               2           3               2   \n",
       "\n",
       "   Educational Qualifications  Family size  latitude  longitude  Pin code  \\\n",
       "0                           2            4   12.9766    77.5993    560001   \n",
       "1                           0            3   12.9770    77.5773    560009   \n",
       "2                           2            3   12.9551    77.6593    560017   \n",
       "3                           0            6   12.9473    77.5616    560019   \n",
       "4                           2            4   12.9850    77.5533    560010   \n",
       "\n",
       "   ...  Less Delivery time  High Quality of package  Number of calls  \\\n",
       "0  ...                   1                        1                1   \n",
       "1  ...                   4                        4                4   \n",
       "2  ...                   0                        4                1   \n",
       "3  ...                   4                        0                1   \n",
       "4  ...                   0                        0                1   \n",
       "\n",
       "   Politeness  Freshness   Temperature  Good Taste   Good Quantity  Output  \\\n",
       "0           1           1            1            1              1       1   \n",
       "1           4           4            4            4              4       1   \n",
       "2           4           4            0            4              1       1   \n",
       "3           4           4            4            4              0       1   \n",
       "4           0           0            0            4              4       1   \n",
       "\n",
       "   Reviews  \n",
       "0      136  \n",
       "1      135  \n",
       "2      119  \n",
       "3      176  \n",
       "4      129  \n",
       "\n",
       "[5 rows x 55 columns]"
      ]
     },
     "execution_count": 10,
     "metadata": {},
     "output_type": "execute_result"
    }
   ],
   "source": [
    "#this library i found on google it's helpful for cleaning data,imputing value and lable encoding\n",
    "import  datacleaner as dc # pip install datacleaner\n",
    "\n",
    "dc.autoclean(fd_dlvry).head() "
   ]
  },
  {
   "cell_type": "code",
   "execution_count": 11,
   "metadata": {
    "ExecuteTime": {
     "end_time": "2021-03-09T17:49:56.528081Z",
     "start_time": "2021-03-09T17:49:56.478106Z"
    }
   },
   "outputs": [
    {
     "data": {
      "text/html": [
       "<div>\n",
       "<style scoped>\n",
       "    .dataframe tbody tr th:only-of-type {\n",
       "        vertical-align: middle;\n",
       "    }\n",
       "\n",
       "    .dataframe tbody tr th {\n",
       "        vertical-align: top;\n",
       "    }\n",
       "\n",
       "    .dataframe thead th {\n",
       "        text-align: right;\n",
       "    }\n",
       "</style>\n",
       "<table border=\"1\" class=\"dataframe\">\n",
       "  <thead>\n",
       "    <tr style=\"text-align: right;\">\n",
       "      <th></th>\n",
       "      <th>Age</th>\n",
       "      <th>Gender</th>\n",
       "      <th>Marital Status</th>\n",
       "      <th>Occupation</th>\n",
       "      <th>Monthly Income</th>\n",
       "      <th>Educational Qualifications</th>\n",
       "      <th>Family size</th>\n",
       "      <th>latitude</th>\n",
       "      <th>longitude</th>\n",
       "      <th>Pin code</th>\n",
       "      <th>...</th>\n",
       "      <th>Less Delivery time</th>\n",
       "      <th>High Quality of package</th>\n",
       "      <th>Number of calls</th>\n",
       "      <th>Politeness</th>\n",
       "      <th>Freshness</th>\n",
       "      <th>Temperature</th>\n",
       "      <th>Good Taste</th>\n",
       "      <th>Good Quantity</th>\n",
       "      <th>Output</th>\n",
       "      <th>Reviews</th>\n",
       "    </tr>\n",
       "  </thead>\n",
       "  <tbody>\n",
       "    <tr>\n",
       "      <th>0</th>\n",
       "      <td>20</td>\n",
       "      <td>0</td>\n",
       "      <td>2</td>\n",
       "      <td>3</td>\n",
       "      <td>4</td>\n",
       "      <td>2</td>\n",
       "      <td>4</td>\n",
       "      <td>12.9766</td>\n",
       "      <td>77.5993</td>\n",
       "      <td>560001</td>\n",
       "      <td>...</td>\n",
       "      <td>1</td>\n",
       "      <td>1</td>\n",
       "      <td>1</td>\n",
       "      <td>1</td>\n",
       "      <td>1</td>\n",
       "      <td>1</td>\n",
       "      <td>1</td>\n",
       "      <td>1</td>\n",
       "      <td>1</td>\n",
       "      <td>136</td>\n",
       "    </tr>\n",
       "    <tr>\n",
       "      <th>1</th>\n",
       "      <td>24</td>\n",
       "      <td>0</td>\n",
       "      <td>2</td>\n",
       "      <td>3</td>\n",
       "      <td>2</td>\n",
       "      <td>0</td>\n",
       "      <td>3</td>\n",
       "      <td>12.9770</td>\n",
       "      <td>77.5773</td>\n",
       "      <td>560009</td>\n",
       "      <td>...</td>\n",
       "      <td>4</td>\n",
       "      <td>4</td>\n",
       "      <td>4</td>\n",
       "      <td>4</td>\n",
       "      <td>4</td>\n",
       "      <td>4</td>\n",
       "      <td>4</td>\n",
       "      <td>4</td>\n",
       "      <td>1</td>\n",
       "      <td>135</td>\n",
       "    </tr>\n",
       "    <tr>\n",
       "      <th>2</th>\n",
       "      <td>22</td>\n",
       "      <td>1</td>\n",
       "      <td>2</td>\n",
       "      <td>3</td>\n",
       "      <td>2</td>\n",
       "      <td>2</td>\n",
       "      <td>3</td>\n",
       "      <td>12.9551</td>\n",
       "      <td>77.6593</td>\n",
       "      <td>560017</td>\n",
       "      <td>...</td>\n",
       "      <td>0</td>\n",
       "      <td>4</td>\n",
       "      <td>1</td>\n",
       "      <td>4</td>\n",
       "      <td>4</td>\n",
       "      <td>0</td>\n",
       "      <td>4</td>\n",
       "      <td>1</td>\n",
       "      <td>1</td>\n",
       "      <td>119</td>\n",
       "    </tr>\n",
       "    <tr>\n",
       "      <th>3</th>\n",
       "      <td>22</td>\n",
       "      <td>0</td>\n",
       "      <td>2</td>\n",
       "      <td>3</td>\n",
       "      <td>4</td>\n",
       "      <td>0</td>\n",
       "      <td>6</td>\n",
       "      <td>12.9473</td>\n",
       "      <td>77.5616</td>\n",
       "      <td>560019</td>\n",
       "      <td>...</td>\n",
       "      <td>4</td>\n",
       "      <td>0</td>\n",
       "      <td>1</td>\n",
       "      <td>4</td>\n",
       "      <td>4</td>\n",
       "      <td>4</td>\n",
       "      <td>4</td>\n",
       "      <td>0</td>\n",
       "      <td>1</td>\n",
       "      <td>176</td>\n",
       "    </tr>\n",
       "    <tr>\n",
       "      <th>4</th>\n",
       "      <td>22</td>\n",
       "      <td>1</td>\n",
       "      <td>2</td>\n",
       "      <td>3</td>\n",
       "      <td>2</td>\n",
       "      <td>2</td>\n",
       "      <td>4</td>\n",
       "      <td>12.9850</td>\n",
       "      <td>77.5533</td>\n",
       "      <td>560010</td>\n",
       "      <td>...</td>\n",
       "      <td>0</td>\n",
       "      <td>0</td>\n",
       "      <td>1</td>\n",
       "      <td>0</td>\n",
       "      <td>0</td>\n",
       "      <td>0</td>\n",
       "      <td>4</td>\n",
       "      <td>4</td>\n",
       "      <td>1</td>\n",
       "      <td>129</td>\n",
       "    </tr>\n",
       "  </tbody>\n",
       "</table>\n",
       "<p>5 rows × 55 columns</p>\n",
       "</div>"
      ],
      "text/plain": [
       "   Age  Gender  Marital Status  Occupation  Monthly Income  \\\n",
       "0   20       0               2           3               4   \n",
       "1   24       0               2           3               2   \n",
       "2   22       1               2           3               2   \n",
       "3   22       0               2           3               4   \n",
       "4   22       1               2           3               2   \n",
       "\n",
       "   Educational Qualifications  Family size  latitude  longitude  Pin code  \\\n",
       "0                           2            4   12.9766    77.5993    560001   \n",
       "1                           0            3   12.9770    77.5773    560009   \n",
       "2                           2            3   12.9551    77.6593    560017   \n",
       "3                           0            6   12.9473    77.5616    560019   \n",
       "4                           2            4   12.9850    77.5533    560010   \n",
       "\n",
       "   ...  Less Delivery time  High Quality of package  Number of calls  \\\n",
       "0  ...                   1                        1                1   \n",
       "1  ...                   4                        4                4   \n",
       "2  ...                   0                        4                1   \n",
       "3  ...                   4                        0                1   \n",
       "4  ...                   0                        0                1   \n",
       "\n",
       "   Politeness  Freshness   Temperature  Good Taste   Good Quantity  Output  \\\n",
       "0           1           1            1            1              1       1   \n",
       "1           4           4            4            4              4       1   \n",
       "2           4           4            0            4              1       1   \n",
       "3           4           4            4            4              0       1   \n",
       "4           0           0            0            4              4       1   \n",
       "\n",
       "   Reviews  \n",
       "0      136  \n",
       "1      135  \n",
       "2      119  \n",
       "3      176  \n",
       "4      129  \n",
       "\n",
       "[5 rows x 55 columns]"
      ]
     },
     "execution_count": 11,
     "metadata": {},
     "output_type": "execute_result"
    }
   ],
   "source": [
    "fd_dlvry.head() "
   ]
  },
  {
   "cell_type": "code",
   "execution_count": 12,
   "metadata": {
    "ExecuteTime": {
     "end_time": "2021-03-09T17:49:56.666895Z",
     "start_time": "2021-03-09T17:49:56.532075Z"
    }
   },
   "outputs": [
    {
     "data": {
      "text/html": [
       "<div>\n",
       "<style scoped>\n",
       "    .dataframe tbody tr th:only-of-type {\n",
       "        vertical-align: middle;\n",
       "    }\n",
       "\n",
       "    .dataframe tbody tr th {\n",
       "        vertical-align: top;\n",
       "    }\n",
       "\n",
       "    .dataframe thead th {\n",
       "        text-align: right;\n",
       "    }\n",
       "</style>\n",
       "<table border=\"1\" class=\"dataframe\">\n",
       "  <thead>\n",
       "    <tr style=\"text-align: right;\">\n",
       "      <th></th>\n",
       "      <th>Age</th>\n",
       "      <th>Gender</th>\n",
       "      <th>Marital Status</th>\n",
       "      <th>Occupation</th>\n",
       "      <th>Monthly Income</th>\n",
       "      <th>Educational Qualifications</th>\n",
       "      <th>Family size</th>\n",
       "      <th>latitude</th>\n",
       "      <th>longitude</th>\n",
       "      <th>Pin code</th>\n",
       "      <th>...</th>\n",
       "      <th>Less Delivery time</th>\n",
       "      <th>High Quality of package</th>\n",
       "      <th>Number of calls</th>\n",
       "      <th>Politeness</th>\n",
       "      <th>Freshness</th>\n",
       "      <th>Temperature</th>\n",
       "      <th>Good Taste</th>\n",
       "      <th>Good Quantity</th>\n",
       "      <th>Output</th>\n",
       "      <th>Reviews</th>\n",
       "    </tr>\n",
       "  </thead>\n",
       "  <tbody>\n",
       "    <tr>\n",
       "      <th>0</th>\n",
       "      <td>20</td>\n",
       "      <td>Female</td>\n",
       "      <td>Single</td>\n",
       "      <td>Student</td>\n",
       "      <td>No Income</td>\n",
       "      <td>Post Graduate</td>\n",
       "      <td>4</td>\n",
       "      <td>12.9766</td>\n",
       "      <td>77.5993</td>\n",
       "      <td>560001</td>\n",
       "      <td>...</td>\n",
       "      <td>Moderately Important</td>\n",
       "      <td>Moderately Important</td>\n",
       "      <td>Moderately Important</td>\n",
       "      <td>Moderately Important</td>\n",
       "      <td>Moderately Important</td>\n",
       "      <td>Moderately Important</td>\n",
       "      <td>Moderately Important</td>\n",
       "      <td>Moderately Important</td>\n",
       "      <td>Yes</td>\n",
       "      <td>Nil\\n</td>\n",
       "    </tr>\n",
       "    <tr>\n",
       "      <th>1</th>\n",
       "      <td>24</td>\n",
       "      <td>Female</td>\n",
       "      <td>Single</td>\n",
       "      <td>Student</td>\n",
       "      <td>Below Rs.10000</td>\n",
       "      <td>Graduate</td>\n",
       "      <td>3</td>\n",
       "      <td>12.9770</td>\n",
       "      <td>77.5773</td>\n",
       "      <td>560009</td>\n",
       "      <td>...</td>\n",
       "      <td>Very Important</td>\n",
       "      <td>Very Important</td>\n",
       "      <td>Very Important</td>\n",
       "      <td>Very Important</td>\n",
       "      <td>Very Important</td>\n",
       "      <td>Very Important</td>\n",
       "      <td>Very Important</td>\n",
       "      <td>Very Important</td>\n",
       "      <td>Yes</td>\n",
       "      <td>Nil</td>\n",
       "    </tr>\n",
       "    <tr>\n",
       "      <th>2</th>\n",
       "      <td>22</td>\n",
       "      <td>Male</td>\n",
       "      <td>Single</td>\n",
       "      <td>Student</td>\n",
       "      <td>Below Rs.10000</td>\n",
       "      <td>Post Graduate</td>\n",
       "      <td>3</td>\n",
       "      <td>12.9551</td>\n",
       "      <td>77.6593</td>\n",
       "      <td>560017</td>\n",
       "      <td>...</td>\n",
       "      <td>Important</td>\n",
       "      <td>Very Important</td>\n",
       "      <td>Moderately Important</td>\n",
       "      <td>Very Important</td>\n",
       "      <td>Very Important</td>\n",
       "      <td>Important</td>\n",
       "      <td>Very Important</td>\n",
       "      <td>Moderately Important</td>\n",
       "      <td>Yes</td>\n",
       "      <td>Many a times payment gateways are an issue, so...</td>\n",
       "    </tr>\n",
       "    <tr>\n",
       "      <th>3</th>\n",
       "      <td>22</td>\n",
       "      <td>Female</td>\n",
       "      <td>Single</td>\n",
       "      <td>Student</td>\n",
       "      <td>No Income</td>\n",
       "      <td>Graduate</td>\n",
       "      <td>6</td>\n",
       "      <td>12.9473</td>\n",
       "      <td>77.5616</td>\n",
       "      <td>560019</td>\n",
       "      <td>...</td>\n",
       "      <td>Very Important</td>\n",
       "      <td>Important</td>\n",
       "      <td>Moderately Important</td>\n",
       "      <td>Very Important</td>\n",
       "      <td>Very Important</td>\n",
       "      <td>Very Important</td>\n",
       "      <td>Very Important</td>\n",
       "      <td>Important</td>\n",
       "      <td>Yes</td>\n",
       "      <td>nil</td>\n",
       "    </tr>\n",
       "    <tr>\n",
       "      <th>4</th>\n",
       "      <td>22</td>\n",
       "      <td>Male</td>\n",
       "      <td>Single</td>\n",
       "      <td>Student</td>\n",
       "      <td>Below Rs.10000</td>\n",
       "      <td>Post Graduate</td>\n",
       "      <td>4</td>\n",
       "      <td>12.9850</td>\n",
       "      <td>77.5533</td>\n",
       "      <td>560010</td>\n",
       "      <td>...</td>\n",
       "      <td>Important</td>\n",
       "      <td>Important</td>\n",
       "      <td>Moderately Important</td>\n",
       "      <td>Important</td>\n",
       "      <td>Important</td>\n",
       "      <td>Important</td>\n",
       "      <td>Very Important</td>\n",
       "      <td>Very Important</td>\n",
       "      <td>Yes</td>\n",
       "      <td>NIL</td>\n",
       "    </tr>\n",
       "  </tbody>\n",
       "</table>\n",
       "<p>5 rows × 55 columns</p>\n",
       "</div>"
      ],
      "text/plain": [
       "   Age  Gender Marital Status Occupation  Monthly Income  \\\n",
       "0   20  Female         Single    Student       No Income   \n",
       "1   24  Female         Single    Student  Below Rs.10000   \n",
       "2   22    Male         Single    Student  Below Rs.10000   \n",
       "3   22  Female         Single    Student       No Income   \n",
       "4   22    Male         Single    Student  Below Rs.10000   \n",
       "\n",
       "  Educational Qualifications  Family size  latitude  longitude  Pin code  ...  \\\n",
       "0              Post Graduate            4   12.9766    77.5993    560001  ...   \n",
       "1                   Graduate            3   12.9770    77.5773    560009  ...   \n",
       "2              Post Graduate            3   12.9551    77.6593    560017  ...   \n",
       "3                   Graduate            6   12.9473    77.5616    560019  ...   \n",
       "4              Post Graduate            4   12.9850    77.5533    560010  ...   \n",
       "\n",
       "     Less Delivery time High Quality of package       Number of calls  \\\n",
       "0  Moderately Important    Moderately Important  Moderately Important   \n",
       "1        Very Important          Very Important        Very Important   \n",
       "2             Important          Very Important  Moderately Important   \n",
       "3        Very Important               Important  Moderately Important   \n",
       "4             Important               Important  Moderately Important   \n",
       "\n",
       "             Politeness            Freshness            Temperature  \\\n",
       "0  Moderately Important  Moderately Important  Moderately Important   \n",
       "1        Very Important        Very Important        Very Important   \n",
       "2        Very Important        Very Important             Important   \n",
       "3        Very Important        Very Important        Very Important   \n",
       "4             Important             Important             Important   \n",
       "\n",
       "            Good Taste          Good Quantity Output  \\\n",
       "0  Moderately Important  Moderately Important    Yes   \n",
       "1        Very Important        Very Important    Yes   \n",
       "2        Very Important  Moderately Important    Yes   \n",
       "3        Very Important             Important    Yes   \n",
       "4        Very Important        Very Important    Yes   \n",
       "\n",
       "                                             Reviews  \n",
       "0                                              Nil\\n  \n",
       "1                                                Nil  \n",
       "2  Many a times payment gateways are an issue, so...  \n",
       "3                                                nil  \n",
       "4                                                NIL  \n",
       "\n",
       "[5 rows x 55 columns]"
      ]
     },
     "execution_count": 12,
     "metadata": {},
     "output_type": "execute_result"
    }
   ],
   "source": [
    "fd_ori.head()"
   ]
  },
  {
   "cell_type": "code",
   "execution_count": 13,
   "metadata": {
    "ExecuteTime": {
     "end_time": "2021-03-09T17:49:56.785828Z",
     "start_time": "2021-03-09T17:49:56.669893Z"
    }
   },
   "outputs": [
    {
     "data": {
      "text/plain": [
       "Index(['Age', 'Gender', 'Marital Status', 'Occupation', 'Monthly Income',\n",
       "       'Educational Qualifications', 'Family size', 'latitude', 'longitude',\n",
       "       'Pin code', 'Medium (P1)', 'Medium (P2)', 'Meal(P1)', 'Meal(P2)',\n",
       "       'Perference(P1)', 'Perference(P2)', 'Ease and convenient',\n",
       "       'Time saving', 'More restaurant choices', 'Easy Payment option',\n",
       "       'More Offers and Discount', 'Good Food quality', 'Good Tracking system',\n",
       "       'Self Cooking', 'Health Concern', 'Late Delivery', 'Poor Hygiene',\n",
       "       'Bad past experience', 'Unavailability', 'Unaffordable',\n",
       "       'Long delivery time', 'Delay of delivery person getting assigned',\n",
       "       'Delay of delivery person picking up food', 'Wrong order delivered',\n",
       "       'Missing item', 'Order placed by mistake', 'Influence of time',\n",
       "       'Order Time', 'Maximum wait time', 'Residence in busy location',\n",
       "       'Google Maps Accuracy', 'Good Road Condition', 'Low quantity low time',\n",
       "       'Delivery person ability', 'Influence of rating', 'Less Delivery time',\n",
       "       'High Quality of package', 'Number of calls', 'Politeness',\n",
       "       'Freshness ', 'Temperature', 'Good Taste ', 'Good Quantity', 'Output',\n",
       "       'Reviews'],\n",
       "      dtype='object')"
      ]
     },
     "execution_count": 13,
     "metadata": {},
     "output_type": "execute_result"
    }
   ],
   "source": [
    "l1=(fd_ori.columns[:])\n",
    "l1"
   ]
  },
  {
   "cell_type": "code",
   "execution_count": 14,
   "metadata": {
    "ExecuteTime": {
     "end_time": "2021-03-09T17:49:56.961726Z",
     "start_time": "2021-03-09T17:49:56.790824Z"
    },
    "scrolled": true
   },
   "outputs": [
    {
     "name": "stdout",
     "output_type": "stream",
     "text": [
      "<class 'pandas.core.frame.DataFrame'>\n",
      "RangeIndex: 388 entries, 0 to 387\n",
      "Data columns (total 55 columns):\n",
      " #   Column                                     Non-Null Count  Dtype  \n",
      "---  ------                                     --------------  -----  \n",
      " 0   Age                                        388 non-null    int64  \n",
      " 1   Gender                                     388 non-null    int32  \n",
      " 2   Marital Status                             388 non-null    int32  \n",
      " 3   Occupation                                 388 non-null    int32  \n",
      " 4   Monthly Income                             388 non-null    int32  \n",
      " 5   Educational Qualifications                 388 non-null    int32  \n",
      " 6   Family size                                388 non-null    int64  \n",
      " 7   latitude                                   388 non-null    float64\n",
      " 8   longitude                                  388 non-null    float64\n",
      " 9   Pin code                                   388 non-null    int64  \n",
      " 10  Medium (P1)                                388 non-null    int32  \n",
      " 11  Medium (P2)                                388 non-null    int32  \n",
      " 12  Meal(P1)                                   388 non-null    int32  \n",
      " 13  Meal(P2)                                   388 non-null    int32  \n",
      " 14  Perference(P1)                             388 non-null    int32  \n",
      " 15  Perference(P2)                             388 non-null    int32  \n",
      " 16  Ease and convenient                        388 non-null    int32  \n",
      " 17  Time saving                                388 non-null    int32  \n",
      " 18  More restaurant choices                    388 non-null    int32  \n",
      " 19  Easy Payment option                        388 non-null    int32  \n",
      " 20  More Offers and Discount                   388 non-null    int32  \n",
      " 21  Good Food quality                          388 non-null    int32  \n",
      " 22  Good Tracking system                       388 non-null    int32  \n",
      " 23  Self Cooking                               388 non-null    int32  \n",
      " 24  Health Concern                             388 non-null    int32  \n",
      " 25  Late Delivery                              388 non-null    int32  \n",
      " 26  Poor Hygiene                               388 non-null    int32  \n",
      " 27  Bad past experience                        388 non-null    int32  \n",
      " 28  Unavailability                             388 non-null    int32  \n",
      " 29  Unaffordable                               388 non-null    int32  \n",
      " 30  Long delivery time                         388 non-null    int32  \n",
      " 31  Delay of delivery person getting assigned  388 non-null    int32  \n",
      " 32  Delay of delivery person picking up food   388 non-null    int32  \n",
      " 33  Wrong order delivered                      388 non-null    int32  \n",
      " 34  Missing item                               388 non-null    int32  \n",
      " 35  Order placed by mistake                    388 non-null    int32  \n",
      " 36  Influence of time                          388 non-null    int32  \n",
      " 37  Order Time                                 388 non-null    int32  \n",
      " 38  Maximum wait time                          388 non-null    int32  \n",
      " 39  Residence in busy location                 388 non-null    int32  \n",
      " 40  Google Maps Accuracy                       388 non-null    int32  \n",
      " 41  Good Road Condition                        388 non-null    int32  \n",
      " 42  Low quantity low time                      388 non-null    int32  \n",
      " 43  Delivery person ability                    388 non-null    int32  \n",
      " 44  Influence of rating                        388 non-null    int32  \n",
      " 45  Less Delivery time                         388 non-null    int32  \n",
      " 46  High Quality of package                    388 non-null    int32  \n",
      " 47  Number of calls                            388 non-null    int32  \n",
      " 48  Politeness                                 388 non-null    int32  \n",
      " 49  Freshness                                  388 non-null    int32  \n",
      " 50  Temperature                                388 non-null    int32  \n",
      " 51  Good Taste                                 388 non-null    int32  \n",
      " 52  Good Quantity                              388 non-null    int32  \n",
      " 53  Output                                     388 non-null    int32  \n",
      " 54  Reviews                                    388 non-null    int32  \n",
      "dtypes: float64(2), int32(50), int64(3)\n",
      "memory usage: 91.1 KB\n"
     ]
    }
   ],
   "source": [
    "fd_dlvry.info()"
   ]
  },
  {
   "cell_type": "code",
   "execution_count": 15,
   "metadata": {
    "ExecuteTime": {
     "end_time": "2021-03-09T17:49:57.053675Z",
     "start_time": "2021-03-09T17:49:56.965727Z"
    }
   },
   "outputs": [
    {
     "data": {
      "text/plain": [
       "Index(['Age', 'Gender', 'Marital Status', 'Occupation', 'Monthly Income',\n",
       "       'Educational Qualifications', 'Family size', 'latitude', 'longitude',\n",
       "       'Pin code', 'Medium (P1)', 'Medium (P2)', 'Meal(P1)', 'Meal(P2)',\n",
       "       'Perference(P1)', 'Perference(P2)', 'Ease and convenient',\n",
       "       'Time saving', 'More restaurant choices', 'Easy Payment option',\n",
       "       'More Offers and Discount', 'Good Food quality', 'Good Tracking system',\n",
       "       'Self Cooking', 'Health Concern', 'Late Delivery', 'Poor Hygiene',\n",
       "       'Bad past experience', 'Unavailability', 'Unaffordable',\n",
       "       'Long delivery time', 'Delay of delivery person getting assigned',\n",
       "       'Delay of delivery person picking up food', 'Wrong order delivered',\n",
       "       'Missing item', 'Order placed by mistake', 'Influence of time',\n",
       "       'Order Time', 'Maximum wait time', 'Residence in busy location',\n",
       "       'Google Maps Accuracy', 'Good Road Condition', 'Low quantity low time',\n",
       "       'Delivery person ability', 'Influence of rating', 'Less Delivery time',\n",
       "       'High Quality of package', 'Number of calls', 'Politeness',\n",
       "       'Freshness ', 'Temperature', 'Good Taste ', 'Good Quantity', 'Output'],\n",
       "      dtype='object')"
      ]
     },
     "execution_count": 15,
     "metadata": {},
     "output_type": "execute_result"
    }
   ],
   "source": [
    "df=fd_ori.drop('Reviews',axis=1) #drop reviews because it's take NLP in future i will try it\n",
    "df.columns"
   ]
  },
  {
   "cell_type": "code",
   "execution_count": null,
   "metadata": {},
   "outputs": [],
   "source": []
  },
  {
   "cell_type": "code",
   "execution_count": 16,
   "metadata": {
    "ExecuteTime": {
     "end_time": "2021-03-09T17:49:57.264556Z",
     "start_time": "2021-03-09T17:49:57.058671Z"
    }
   },
   "outputs": [],
   "source": [
    "%matplotlib inline"
   ]
  },
  {
   "cell_type": "code",
   "execution_count": 17,
   "metadata": {
    "ExecuteTime": {
     "end_time": "2021-03-09T17:49:57.552389Z",
     "start_time": "2021-03-09T17:49:57.268551Z"
    }
   },
   "outputs": [],
   "source": [
    "# we needs to back map for lable encoding \n",
    "lbl=dict()\n",
    "for i in fd_ori.columns:\n",
    "    if i not in  ['latitude','longitude','Pin code','Output','Reviews']:\n",
    "                  lbl[i]=dict(zip(fd_ori[i].unique(), fd_dlvry[i].unique()))\n",
    "    "
   ]
  },
  {
   "cell_type": "code",
   "execution_count": 18,
   "metadata": {
    "ExecuteTime": {
     "end_time": "2021-03-09T17:49:57.600361Z",
     "start_time": "2021-03-09T17:49:57.556385Z"
    },
    "scrolled": false
   },
   "outputs": [
    {
     "data": {
      "text/plain": [
       "{'Age': {20: 20,\n",
       "  24: 24,\n",
       "  22: 22,\n",
       "  27: 27,\n",
       "  23: 23,\n",
       "  21: 21,\n",
       "  28: 28,\n",
       "  25: 25,\n",
       "  32: 32,\n",
       "  30: 30,\n",
       "  31: 31,\n",
       "  26: 26,\n",
       "  18: 18,\n",
       "  19: 19,\n",
       "  33: 33,\n",
       "  29: 29},\n",
       " 'Gender': {'Female': 0, 'Male': 1},\n",
       " 'Marital Status': {'Single': 2, 'Married': 0, 'Prefer not to say': 1},\n",
       " 'Occupation': {'Student': 3,\n",
       "  'Employee': 0,\n",
       "  'Self Employeed': 2,\n",
       "  'House wife': 1},\n",
       " 'Monthly Income': {'No Income': 4,\n",
       "  'Below Rs.10000': 2,\n",
       "  'More than 50000': 3,\n",
       "  '10001 to 25000': 0,\n",
       "  '25001 to 50000': 1},\n",
       " 'Educational Qualifications': {'Post Graduate': 2,\n",
       "  'Graduate': 0,\n",
       "  'Ph.D': 1,\n",
       "  'Uneducated': 4,\n",
       "  'School': 3},\n",
       " 'Family size': {4: 4, 3: 3, 6: 6, 2: 2, 5: 5, 1: 1},\n",
       " 'Medium (P1)': {'Food delivery apps': 1,\n",
       "  'Walk-in': 2,\n",
       "  'Direct call': 0,\n",
       "  'Web browser': 3},\n",
       " 'Medium (P2)': {' Web browser': 2, ' Direct call': 0, ' Walk-in': 1},\n",
       " 'Meal(P1)': {'Breakfast': 0, 'Snacks': 3, 'Lunch': 2, 'Dinner': 1},\n",
       " 'Meal(P2)': {' Lunch': 1, ' Dinner': 0, ' Snacks': 2},\n",
       " 'Perference(P1)': {'Non Veg foods (Lunch / Dinner)': 1,\n",
       "  'Veg foods (Breakfast / Lunch / Dinner)': 3,\n",
       "  'Bakery items (snacks)': 0,\n",
       "  'Sweets': 2},\n",
       " 'Perference(P2)': {' Bakery items (snacks)': 0,\n",
       "  ' Veg foods (Breakfast / Lunch / Dinner)': 3,\n",
       "  ' Ice cream / Cool drinks': 1,\n",
       "  ' Sweets': 2},\n",
       " 'Ease and convenient': {'Neutral': 2,\n",
       "  'Strongly agree': 3,\n",
       "  'Agree': 0,\n",
       "  'Strongly disagree': 4,\n",
       "  'Disagree': 1},\n",
       " 'Time saving': {'Neutral': 2,\n",
       "  'Strongly agree': 3,\n",
       "  'Agree': 0,\n",
       "  'Disagree': 1,\n",
       "  'Strongly disagree': 4},\n",
       " 'More restaurant choices': {'Neutral': 2,\n",
       "  'Strongly agree': 3,\n",
       "  'Agree': 0,\n",
       "  'Strongly disagree': 4,\n",
       "  'Disagree': 1},\n",
       " 'Easy Payment option': {'Neutral': 2,\n",
       "  'Strongly agree': 3,\n",
       "  'Agree': 0,\n",
       "  'Disagree': 1,\n",
       "  'Strongly disagree': 4},\n",
       " 'More Offers and Discount': {'Neutral': 2,\n",
       "  'Strongly agree': 3,\n",
       "  'Agree': 0,\n",
       "  'Disagree': 1,\n",
       "  'Strongly disagree': 4},\n",
       " 'Good Food quality': {'Neutral': 2,\n",
       "  'Disagree': 1,\n",
       "  'Agree': 0,\n",
       "  'Strongly agree': 3,\n",
       "  'Strongly disagree': 4},\n",
       " 'Good Tracking system': {'Neutral': 2,\n",
       "  'Agree': 0,\n",
       "  'Strongly agree': 3,\n",
       "  'Disagree': 1,\n",
       "  'Strongly disagree': 4},\n",
       " 'Self Cooking': {'Neutral': 2,\n",
       "  'Strongly agree': 3,\n",
       "  'Disagree': 1,\n",
       "  'Agree': 0,\n",
       "  'Strongly disagree': 4},\n",
       " 'Health Concern': {'Neutral': 2,\n",
       "  'Strongly agree': 3,\n",
       "  'Agree': 0,\n",
       "  'Strongly disagree': 4,\n",
       "  'Disagree': 1},\n",
       " 'Late Delivery': {'Neutral': 2,\n",
       "  'Agree': 0,\n",
       "  'Strongly agree': 3,\n",
       "  'Disagree': 1,\n",
       "  'Strongly disagree': 4},\n",
       " 'Poor Hygiene': {'Neutral': 2,\n",
       "  'Strongly agree': 3,\n",
       "  'Agree': 0,\n",
       "  'Disagree': 1,\n",
       "  'Strongly disagree': 4},\n",
       " 'Bad past experience': {'Neutral': 2,\n",
       "  'Strongly agree': 3,\n",
       "  'Agree': 0,\n",
       "  'Disagree': 1,\n",
       "  'Strongly disagree': 4},\n",
       " 'Unavailability': {'Neutral': 2,\n",
       "  'Strongly agree': 3,\n",
       "  'Agree': 0,\n",
       "  'Disagree': 1,\n",
       "  'Strongly disagree': 4},\n",
       " 'Unaffordable': {'Neutral': 2,\n",
       "  'Strongly agree': 3,\n",
       "  'Agree': 0,\n",
       "  'Disagree': 1,\n",
       "  'Strongly disagree': 4},\n",
       " 'Long delivery time': {'Agree': 0,\n",
       "  'Strongly agree': 3,\n",
       "  'Neutral': 2,\n",
       "  'Disagree': 1,\n",
       "  'Strongly disagree': 4},\n",
       " 'Delay of delivery person getting assigned': {'Agree': 0,\n",
       "  'Strongly agree': 3,\n",
       "  'Disagree': 1,\n",
       "  'Neutral': 2,\n",
       "  'Strongly disagree': 4},\n",
       " 'Delay of delivery person picking up food': {'Agree': 0,\n",
       "  'Strongly agree': 3,\n",
       "  'Neutral': 2,\n",
       "  'Disagree': 1,\n",
       "  'Strongly disagree': 4},\n",
       " 'Wrong order delivered': {'Agree': 0,\n",
       "  'Strongly agree': 3,\n",
       "  'Disagree': 1,\n",
       "  'Neutral': 2,\n",
       "  'Strongly disagree': 4},\n",
       " 'Missing item': {'Agree': 0,\n",
       "  'Strongly agree': 3,\n",
       "  'Disagree': 1,\n",
       "  'Neutral': 2,\n",
       "  'Strongly disagree': 4},\n",
       " 'Order placed by mistake': {'Agree': 0,\n",
       "  'Strongly agree': 3,\n",
       "  'Neutral': 2,\n",
       "  'Disagree': 1,\n",
       "  'Strongly disagree': 4},\n",
       " 'Influence of time': {'Yes': 2, 'No': 1, 'Maybe': 0},\n",
       " 'Order Time': {'Weekend (Sat & Sun)': 2,\n",
       "  'Anytime (Mon-Sun)': 0,\n",
       "  'Weekdays (Mon-Fri)': 1},\n",
       " 'Maximum wait time': {'30 minutes': 1,\n",
       "  '45 minutes': 2,\n",
       "  '60 minutes': 3,\n",
       "  'More than 60 minutes': 4,\n",
       "  '15 minutes': 0},\n",
       " 'Residence in busy location': {'Agree': 0,\n",
       "  'Strongly Agree': 3,\n",
       "  'Disagree': 1,\n",
       "  'Neutral': 2,\n",
       "  'Strongly disagree': 4},\n",
       " 'Google Maps Accuracy': {'Neutral': 2,\n",
       "  'Strongly Agree': 3,\n",
       "  'Agree': 0,\n",
       "  'Disagree': 1,\n",
       "  'Strongly disagree': 4},\n",
       " 'Good Road Condition': {'Neutral': 2,\n",
       "  'Disagree': 1,\n",
       "  'Agree': 0,\n",
       "  'Strongly Agree': 3,\n",
       "  'Strongly disagree': 4},\n",
       " 'Low quantity low time': {'Neutral': 2,\n",
       "  'Strongly disagree': 4,\n",
       "  'Agree': 0,\n",
       "  'Disagree': 1,\n",
       "  'Strongly Agree': 3},\n",
       " 'Delivery person ability': {'Neutral': 2,\n",
       "  'Agree': 0,\n",
       "  'Strongly Agree': 3,\n",
       "  'Disagree': 1,\n",
       "  'Strongly disagree': 4},\n",
       " 'Influence of rating': {'Yes': 2, 'Maybe': 0, 'No': 1},\n",
       " 'Less Delivery time': {'Moderately Important': 1,\n",
       "  'Very Important': 4,\n",
       "  'Important': 0,\n",
       "  'Slightly Important': 2,\n",
       "  'Unimportant': 3},\n",
       " 'High Quality of package': {'Moderately Important': 1,\n",
       "  'Very Important': 4,\n",
       "  'Important': 0,\n",
       "  'Unimportant': 3,\n",
       "  'Slightly Important': 2},\n",
       " 'Number of calls': {'Moderately Important': 1,\n",
       "  'Very Important': 4,\n",
       "  'Unimportant': 3,\n",
       "  'Important': 0,\n",
       "  'Slightly Important': 2},\n",
       " 'Politeness': {'Moderately Important': 1,\n",
       "  'Very Important': 4,\n",
       "  'Important': 0,\n",
       "  'Slightly Important': 2,\n",
       "  'Unimportant': 3},\n",
       " 'Freshness ': {'Moderately Important': 1,\n",
       "  'Very Important': 4,\n",
       "  'Important': 0,\n",
       "  'Slightly Important': 2,\n",
       "  'Unimportant': 3},\n",
       " 'Temperature': {'Moderately Important': 1,\n",
       "  'Very Important': 4,\n",
       "  'Important': 0,\n",
       "  'Slightly Important': 2,\n",
       "  'Unimportant': 3},\n",
       " 'Good Taste ': {'Moderately Important': 1,\n",
       "  'Very Important': 4,\n",
       "  'Important': 0,\n",
       "  'Slightly Important': 2,\n",
       "  'Unimportant': 3},\n",
       " 'Good Quantity': {'Moderately Important': 1,\n",
       "  'Very Important': 4,\n",
       "  'Important': 0,\n",
       "  'Slightly Important': 2,\n",
       "  'Unimportant': 3}}"
      ]
     },
     "execution_count": 18,
     "metadata": {},
     "output_type": "execute_result"
    }
   ],
   "source": [
    "lbl"
   ]
  },
  {
   "cell_type": "code",
   "execution_count": 19,
   "metadata": {
    "ExecuteTime": {
     "end_time": "2021-03-09T17:49:57.691308Z",
     "start_time": "2021-03-09T17:49:57.604359Z"
    },
    "code_folding": []
   },
   "outputs": [],
   "source": [
    "# practice chi-squared test\n",
    "# df=pd.crosstab(fd_ori['Meal(P1)'],fd_ori['Occupation'])\n",
    "# df\n",
    "\n",
    "# stat, p, dof, expected = st.chi2_contingency(df,correction=True)\n",
    "# stat, p, dof, expected\n",
    "\n",
    "\n"
   ]
  },
  {
   "cell_type": "markdown",
   "metadata": {},
   "source": [
    "#  method 1: Feature selection by phi coefficient"
   ]
  },
  {
   "cell_type": "code",
   "execution_count": 20,
   "metadata": {
    "ExecuteTime": {
     "end_time": "2021-03-09T17:49:59.547233Z",
     "start_time": "2021-03-09T17:49:57.696306Z"
    },
    "scrolled": true
   },
   "outputs": [
    {
     "data": {
      "text/plain": [
       "{'Output': [('Age', 0.41916612670006054),\n",
       "  ('Ease and convenient', 0.6944483749782563),\n",
       "  ('Time saving', 0.6333333550979008),\n",
       "  ('More restaurant choices', 0.5897138785369491),\n",
       "  ('Easy Payment option', 0.5571767618313485),\n",
       "  ('More Offers and Discount', 0.5564505912203883),\n",
       "  ('Good Food quality', 0.4243449172824401),\n",
       "  ('Good Tracking system', 0.41749280981704445),\n",
       "  ('Unaffordable', 0.40917014994986045),\n",
       "  ('Maximum wait time', 0.4135981980209824)]}"
      ]
     },
     "execution_count": 20,
     "metadata": {},
     "output_type": "execute_result"
    }
   ],
   "source": [
    "#phi perform for find relation between \n",
    "crv={}\n",
    "l1=[]\n",
    "for i in fd_ori.columns:\n",
    "    if i not in  ['latitude','longitude','Pin code','Output','Reviews']:\n",
    "        '''we are not using lat and long because in EDA all location diffrent (reference dtale lib)'''\n",
    "        df=pd.crosstab(fd_ori['Output'],fd_ori[i])\n",
    "        stat, p, dof, expected = st.chi2_contingency(df,correction=True)\n",
    "     \n",
    "        deno=sum(df.sum())\n",
    "        x=numpy.sqrt(stat / deno)\n",
    "        if(x>0.40): #thresold\n",
    "             l1.append((i,x))\n",
    "\n",
    "\n",
    "crv['Output']=l1\n",
    "        \n",
    "crv"
   ]
  },
  {
   "cell_type": "code",
   "execution_count": 21,
   "metadata": {
    "ExecuteTime": {
     "end_time": "2021-03-09T17:49:59.560244Z",
     "start_time": "2021-03-09T17:49:59.551229Z"
    },
    "code_folding": []
   },
   "outputs": [
    {
     "data": {
      "text/plain": [
       "['Age',\n",
       " 'Ease and convenient',\n",
       " 'Time saving',\n",
       " 'More restaurant choices',\n",
       " 'Easy Payment option',\n",
       " 'More Offers and Discount',\n",
       " 'Good Food quality',\n",
       " 'Good Tracking system',\n",
       " 'Unaffordable',\n",
       " 'Maximum wait time']"
      ]
     },
     "execution_count": 21,
     "metadata": {},
     "output_type": "execute_result"
    }
   ],
   "source": [
    "#Extract the feature from above dictionary \n",
    "basic_f0=[]\n",
    "for i in l1:\n",
    "    basic_f0.append(i[0])\n",
    "\n",
    "basic_f0"
   ]
  },
  {
   "cell_type": "code",
   "execution_count": 22,
   "metadata": {
    "ExecuteTime": {
     "end_time": "2021-03-09T17:49:59.690891Z",
     "start_time": "2021-03-09T17:49:59.572219Z"
    }
   },
   "outputs": [],
   "source": [
    "X=fd_dlvry[basic_f0] # select X \n",
    "y=fd_dlvry['Output'] # select Y\n"
   ]
  },
  {
   "cell_type": "code",
   "execution_count": 23,
   "metadata": {
    "ExecuteTime": {
     "end_time": "2021-03-09T17:49:59.789411Z",
     "start_time": "2021-03-09T17:49:59.697891Z"
    }
   },
   "outputs": [],
   "source": [
    "%matplotlib inline"
   ]
  },
  {
   "cell_type": "code",
   "execution_count": 24,
   "metadata": {
    "ExecuteTime": {
     "end_time": "2021-03-09T17:49:59.880222Z",
     "start_time": "2021-03-09T17:49:59.792952Z"
    },
    "scrolled": true
   },
   "outputs": [
    {
     "data": {
      "text/plain": [
       "['Age',\n",
       " 'Ease and convenient',\n",
       " 'Time saving',\n",
       " 'More restaurant choices',\n",
       " 'Easy Payment option',\n",
       " 'More Offers and Discount',\n",
       " 'Good Food quality',\n",
       " 'Good Tracking system',\n",
       " 'Unaffordable',\n",
       " 'Maximum wait time']"
      ]
     },
     "execution_count": 24,
     "metadata": {},
     "output_type": "execute_result"
    }
   ],
   "source": [
    "basic_f0"
   ]
  },
  {
   "cell_type": "code",
   "execution_count": 25,
   "metadata": {
    "ExecuteTime": {
     "end_time": "2021-03-09T17:50:00.488714Z",
     "start_time": "2021-03-09T17:49:59.884264Z"
    },
    "scrolled": true
   },
   "outputs": [
    {
     "data": {
      "text/plain": [
       "<AxesSubplot:xlabel='Output', ylabel='count'>"
      ]
     },
     "execution_count": 25,
     "metadata": {},
     "output_type": "execute_result"
    },
    {
     "data": {
      "image/png": "[encoded data removed]",
      "text/plain": [
       "<Figure size 432x288 with 1 Axes>"
      ]
     },
     "metadata": {
      "needs_background": "light"
     },
     "output_type": "display_data"
    }
   ],
   "source": [
    "sns.countplot(fd_ori['Output']) # look target feature"
   ]
  },
  {
   "cell_type": "markdown",
   "metadata": {
    "ExecuteTime": {
     "end_time": "2020-12-19T04:21:54.351232Z",
     "start_time": "2020-12-19T04:21:54.343232Z"
    }
   },
   "source": [
    "#  KNN Algorithm  "
   ]
  },
  {
   "cell_type": "code",
   "execution_count": 26,
   "metadata": {
    "ExecuteTime": {
     "end_time": "2021-03-09T17:50:00.535184Z",
     "start_time": "2021-03-09T17:50:00.488714Z"
    }
   },
   "outputs": [],
   "source": [
    "# train_test_split by sklearn \n",
    "X=fd_dlvry[basic_f0]\n",
    "y=fd_dlvry['Output']\n",
    "# from imblearn.under_sampling import NearMiss\n",
    "# nm=NearMiss()\n",
    "# Make data balanced\n",
    "from imblearn.over_sampling import RandomOverSampler\n",
    "nm=RandomOverSampler(0.5)\n",
    "X,y=nm.fit_sample(X,y)\n",
    "X_train, X_test, y_train, y_test = train_test_split(X, y, test_size = 0.33)"
   ]
  },
  {
   "cell_type": "code",
   "execution_count": 27,
   "metadata": {
    "ExecuteTime": {
     "end_time": "2021-03-09T17:50:00.781653Z",
     "start_time": "2021-03-09T17:50:00.535184Z"
    }
   },
   "outputs": [
    {
     "data": {
      "text/plain": [
       "1    301\n",
       "0     87\n",
       "Name: Output, dtype: int64"
      ]
     },
     "execution_count": 27,
     "metadata": {},
     "output_type": "execute_result"
    }
   ],
   "source": [
    "fd_dlvry['Output'].value_counts()"
   ]
  },
  {
   "cell_type": "code",
   "execution_count": 28,
   "metadata": {
    "ExecuteTime": {
     "end_time": "2021-03-09T17:50:00.896241Z",
     "start_time": "2021-03-09T17:50:00.785649Z"
    }
   },
   "outputs": [
    {
     "data": {
      "text/plain": [
       "((451, 10), (451,))"
      ]
     },
     "execution_count": 28,
     "metadata": {},
     "output_type": "execute_result"
    }
   ],
   "source": [
    "X.shape,y.shape"
   ]
  },
  {
   "cell_type": "code",
   "execution_count": 29,
   "metadata": {
    "ExecuteTime": {
     "end_time": "2021-03-09T17:50:02.105981Z",
     "start_time": "2021-03-09T17:50:00.901242Z"
    }
   },
   "outputs": [
    {
     "data": {
      "image/png": "[encoded data removed]",
      "text/plain": [
       "<Figure size 432x288 with 1 Axes>"
      ]
     },
     "metadata": {
      "needs_background": "light"
     },
     "output_type": "display_data"
    }
   ],
   "source": [
    "#select best knneighbour find \n",
    "plt.figure()\n",
    "training_accuracy = []\n",
    "test_accuracy = []\n",
    "# try n_neighbors from 1 to 10\n",
    "neighbors_settings = range(1, 11)\n",
    "for i in neighbors_settings:\n",
    "    clf = KNeighborsClassifier(n_neighbors=i)\n",
    "    clf.fit(X_train, y_train)\n",
    "    training_accuracy.append(clf.score(X_train, y_train))\n",
    "    # record generalization accuracy\n",
    "    test_accuracy.append(clf.score(X_test, y_test))\n",
    "plt.plot(neighbors_settings,training_accuracy,label=\"training accuracy\")\n",
    "plt.plot(neighbors_settings,test_accuracy,label=\"test accuracy\")\n",
    "plt.ylabel(\"Accuracy\")\n",
    "plt.xlabel(\"n_neighbors\")\n",
    "plt.legend()\n",
    "\n",
    "plt.show()"
   ]
  },
  {
   "cell_type": "code",
   "execution_count": 30,
   "metadata": {
    "ExecuteTime": {
     "end_time": "2021-03-09T17:50:03.640134Z",
     "start_time": "2021-03-09T17:50:02.105981Z"
    }
   },
   "outputs": [
    {
     "data": {
      "image/png": "[encoded data removed]",
      "text/plain": [
       "<Figure size 432x288 with 1 Axes>"
      ]
     },
     "metadata": {
      "needs_background": "light"
     },
     "output_type": "display_data"
    }
   ],
   "source": [
    "# appropriate test size find \n",
    "plt.figure()\n",
    "training_accuracy = []\n",
    "test_accuracy = []\n",
    "# try n_neighbors from 1 to 10\n",
    "test_size= numpy.arange(0.1, 0.9,0.05)\n",
    "knn = KNeighborsClassifier(n_neighbors = 3,p=1)\n",
    "for i in test_size:\n",
    "    \n",
    "        X_train, X_test, y_train, y_test = train_test_split(X, y, test_size = i)\n",
    "        knn.fit(X_train, y_train)\n",
    "        training_accuracy.append(knn.score(X_test, y_test))\n",
    "        test_accuracy.append(knn.score(X_train, y_train))\n",
    "  \n",
    "\n",
    "    \n",
    "plt.plot(test_size,training_accuracy,label=\"training accuracy\")\n",
    "plt.plot(test_size,test_accuracy,label=\"test accuracy\")\n",
    "plt.ylabel(\"Accuracy\")\n",
    "plt.xlabel(\"test_size\")\n",
    "plt.legend()\n",
    "\n",
    "plt.show()"
   ]
  },
  {
   "cell_type": "code",
   "execution_count": 31,
   "metadata": {
    "ExecuteTime": {
     "end_time": "2021-03-09T17:50:03.653576Z",
     "start_time": "2021-03-09T17:50:03.640134Z"
    }
   },
   "outputs": [],
   "source": [
    "#split data\n",
    "X_train,X_test,y_train,y_test=train_test_split(X,y,test_size=0.25)"
   ]
  },
  {
   "cell_type": "code",
   "execution_count": 32,
   "metadata": {
    "ExecuteTime": {
     "end_time": "2021-03-09T17:50:03.790881Z",
     "start_time": "2021-03-09T17:50:03.657573Z"
    }
   },
   "outputs": [
    {
     "data": {
      "text/plain": [
       "0.911504424778761"
      ]
     },
     "execution_count": 32,
     "metadata": {},
     "output_type": "execute_result"
    }
   ],
   "source": [
    "# fit data and perform the knn algo\n",
    "neigh = KNeighborsClassifier(n_neighbors=5,p=1)\n",
    "\n",
    "knn=neigh.fit(X_train,y_train)\n",
    "\n",
    "knn.score(X_test,y_test)\n"
   ]
  },
  {
   "cell_type": "code",
   "execution_count": 33,
   "metadata": {
    "ExecuteTime": {
     "end_time": "2021-03-09T17:50:03.895450Z",
     "start_time": "2021-03-09T17:50:03.790881Z"
    }
   },
   "outputs": [],
   "source": [
    "#y_pred for confusion matrix\n",
    "y_pred=knn.predict(X_test)"
   ]
  },
  {
   "cell_type": "code",
   "execution_count": 34,
   "metadata": {
    "ExecuteTime": {
     "end_time": "2021-03-09T17:50:03.966618Z",
     "start_time": "2021-03-09T17:50:03.895450Z"
    }
   },
   "outputs": [
    {
     "data": {
      "text/plain": [
       "array([[29,  8],\n",
       "       [ 2, 74]], dtype=int64)"
      ]
     },
     "execution_count": 34,
     "metadata": {},
     "output_type": "execute_result"
    }
   ],
   "source": [
    "#confusion matrix \n",
    "cf_matrix_n=confusion_matrix(y_test, y_pred)\n",
    "cf_matrix_n"
   ]
  },
  {
   "cell_type": "code",
   "execution_count": 35,
   "metadata": {
    "ExecuteTime": {
     "end_time": "2021-03-09T17:50:04.047617Z",
     "start_time": "2021-03-09T17:50:03.970616Z"
    },
    "scrolled": false
   },
   "outputs": [
    {
     "name": "stdout",
     "output_type": "stream",
     "text": [
      "              precision    recall  f1-score   support\n",
      "\n",
      "           0       0.94      0.78      0.85        37\n",
      "           1       0.90      0.97      0.94        76\n",
      "\n",
      "    accuracy                           0.91       113\n",
      "   macro avg       0.92      0.88      0.89       113\n",
      "weighted avg       0.91      0.91      0.91       113\n",
      "\n"
     ]
    }
   ],
   "source": [
    "#classification report \n",
    "print(classification_report(y_test,y_pred))"
   ]
  },
  {
   "cell_type": "code",
   "execution_count": 36,
   "metadata": {
    "ExecuteTime": {
     "end_time": "2021-03-09T17:50:04.515399Z",
     "start_time": "2021-03-09T17:50:04.051612Z"
    }
   },
   "outputs": [
    {
     "data": {
      "image/png": "[encoded data removed]",
      "text/plain": [
       "<Figure size 432x288 with 1 Axes>"
      ]
     },
     "metadata": {
      "needs_background": "light"
     },
     "output_type": "display_data"
    }
   ],
   "source": [
    "from sklearn.metrics import roc_curve\n",
    "fpr, tpr, thresholds=roc_curve(y_test, y_pred)\n",
    "AUC=round(metrics.auc(fpr, tpr),2)\n",
    "\n",
    "plt.plot([0,1], [0,1], linestyle='--', label='No Skill')\n",
    "plt.plot(fpr, tpr, marker='.', label=f'knn AUC={AUC}')\n",
    "# axis labels\n",
    "plt.xlabel('False Positive Rate')\n",
    "plt.ylabel('True Positive Rate')\n",
    "plt.legend()\n",
    "# show the plot\n",
    "plt.show()\n"
   ]
  },
  {
   "cell_type": "markdown",
   "metadata": {
    "ExecuteTime": {
     "end_time": "2020-12-19T04:23:45.286574Z",
     "start_time": "2020-12-19T04:23:45.278579Z"
    }
   },
   "source": [
    "<b> Conclusion: </b>"
   ]
  },
  {
   "cell_type": "code",
   "execution_count": 37,
   "metadata": {
    "ExecuteTime": {
     "end_time": "2021-03-09T17:50:04.526400Z",
     "start_time": "2021-03-09T17:50:04.518397Z"
    }
   },
   "outputs": [
    {
     "data": {
      "text/plain": [
       "'Here weighted avg f1-score is good and AUC is greate but problems here Knn is not learning something\\nknn just use more memory space for perform operation and mostly features are categorical so noise affect\\non this algorithms\\n'"
      ]
     },
     "execution_count": 37,
     "metadata": {},
     "output_type": "execute_result"
    }
   ],
   "source": [
    "'''Here weighted avg f1-score is good and AUC is greate but problems here Knn is not learning something\n",
    "knn just use more memory space for perform operation and mostly features are categorical so noise affect\n",
    "on this algorithms\n",
    "'''"
   ]
  },
  {
   "cell_type": "markdown",
   "metadata": {
    "ExecuteTime": {
     "end_time": "2020-12-30T12:59:28.745150Z",
     "start_time": "2020-12-30T12:59:28.737155Z"
    }
   },
   "source": [
    "<b> Cross-Validation </b>"
   ]
  },
  {
   "cell_type": "code",
   "execution_count": 38,
   "metadata": {
    "ExecuteTime": {
     "end_time": "2021-03-09T17:50:04.910877Z",
     "start_time": "2021-03-09T17:50:04.530394Z"
    }
   },
   "outputs": [
    {
     "name": "stdout",
     "output_type": "stream",
     "text": [
      "mean:=0.8985301090564248 std :0.06837587273379456\n"
     ]
    }
   ],
   "source": [
    "#without StratifiedKFold \n",
    "Knn=KNeighborsClassifier(n_neighbors=5,p=1)\n",
    "score=cross_val_score(knn,X,y,cv=12)\n",
    "print(\"mean:=\"+str(score.mean()),\"std :\"+str(score.std()))"
   ]
  },
  {
   "cell_type": "code",
   "execution_count": 39,
   "metadata": {
    "ExecuteTime": {
     "end_time": "2021-03-09T17:50:05.229898Z",
     "start_time": "2021-03-09T17:50:04.914873Z"
    }
   },
   "outputs": [
    {
     "name": "stdout",
     "output_type": "stream",
     "text": [
      "List of possible accuracy: [0.9210526315789473, 0.7368421052631579, 0.9473684210526315, 0.868421052631579, 0.9210526315789473, 0.868421052631579, 0.9736842105263158, 0.972972972972973, 0.9459459459459459, 0.8918918918918919, 0.8378378378378378, 0.8918918918918919]\n",
      "\n",
      "Maximum Accuracy That can be obtained from this model is: 97.36842105263158 %\n",
      "\n",
      "Minimum Accuracy: 73.68421052631578 %\n",
      "\n",
      "Average Accuracy That can be obtained from this model is:: 0.8981152204836415\n",
      "\n",
      "Standard Deviation is: 0.06361576618116258\n"
     ]
    }
   ],
   "source": [
    "#with StratifiedKFold \n",
    "import numpy as np\n",
    "from sklearn.model_selection import StratifiedKFold \n",
    "skf = StratifiedKFold(n_splits=12, shuffle=True, random_state=1) \n",
    "lst_accu_stratified = [] \n",
    "\n",
    "for train_index, test_index in skf.split(X, y): \n",
    "    x_train_fold, x_test_fold = X.loc[train_index,:], X.loc[test_index,:] \n",
    "    y_train_fold, y_test_fold = y[train_index], y[test_index] \n",
    "    knn.fit(x_train_fold, y_train_fold) \n",
    "    lst_accu_stratified.append(knn.score(x_test_fold, y_test_fold))\n",
    "    \n",
    "    \n",
    "print('List of possible accuracy:', lst_accu_stratified) \n",
    "print('\\nMaximum Accuracy That can be obtained from this model is:', \n",
    "      max(lst_accu_stratified)*100, '%') \n",
    "print('\\nMinimum Accuracy:', \n",
    "      min(lst_accu_stratified)*100, '%') \n",
    "print('\\nAverage Accuracy That can be obtained from this model is::',np.mean(lst_accu_stratified)) \n",
    "print('\\nStandard Deviation is:',np.std(lst_accu_stratified)) "
   ]
  },
  {
   "cell_type": "markdown",
   "metadata": {},
   "source": [
    "# method 2: feature selection using SelectKBest"
   ]
  },
  {
   "cell_type": "code",
   "execution_count": 40,
   "metadata": {
    "ExecuteTime": {
     "end_time": "2021-03-09T17:50:05.506742Z",
     "start_time": "2021-03-09T17:50:05.233895Z"
    }
   },
   "outputs": [],
   "source": [
    "from sklearn.feature_selection import SelectKBest\n",
    "from sklearn.feature_selection import chi2,mutual_info_classif"
   ]
  },
  {
   "cell_type": "code",
   "execution_count": 41,
   "metadata": {
    "ExecuteTime": {
     "end_time": "2021-03-09T17:50:05.517734Z",
     "start_time": "2021-03-09T17:50:05.510738Z"
    }
   },
   "outputs": [],
   "source": [
    "def select_features(X_train, y_train, X_test):\n",
    "    fs = SelectKBest(score_func=chi2, k='all')\n",
    "    fs.fit(X_train, y_train)\n",
    "    X_train_fs = fs.transform(X_train)\n",
    "    X_test_fs = fs.transform(X_test)\n",
    "    return X_train_fs, X_test_fs, fs"
   ]
  },
  {
   "cell_type": "code",
   "execution_count": 42,
   "metadata": {
    "ExecuteTime": {
     "end_time": "2021-03-09T17:50:05.766592Z",
     "start_time": "2021-03-09T17:50:05.521732Z"
    }
   },
   "outputs": [
    {
     "data": {
      "text/plain": [
       "(451, 50)"
      ]
     },
     "execution_count": 42,
     "metadata": {},
     "output_type": "execute_result"
    }
   ],
   "source": [
    "#select feature \n",
    "l1=['latitude','longitude','Pin code','Output','Reviews']\n",
    "X=fd_dlvry[fd_dlvry.columns[~fd_dlvry.columns.isin(l1)]]\n",
    "y=fd_dlvry['Output']\n",
    "nm=RandomOverSampler(0.5)\n",
    "X,y=nm.fit_sample(X,y)\n",
    "X.shape"
   ]
  },
  {
   "cell_type": "code",
   "execution_count": 43,
   "metadata": {
    "ExecuteTime": {
     "end_time": "2021-03-09T17:50:05.838552Z",
     "start_time": "2021-03-09T17:50:05.770588Z"
    }
   },
   "outputs": [],
   "source": [
    "X_train, X_test, y_train, y_test = train_test_split(X, y, test_size=0.33, random_state=1)"
   ]
  },
  {
   "cell_type": "code",
   "execution_count": 44,
   "metadata": {
    "ExecuteTime": {
     "end_time": "2021-03-09T17:50:06.520160Z",
     "start_time": "2021-03-09T17:50:05.843547Z"
    }
   },
   "outputs": [
    {
     "name": "stdout",
     "output_type": "stream",
     "text": [
      "Feature 0: 9.316221\n",
      "Feature 1: 0.003630\n",
      "Feature 2: 20.074741\n",
      "Feature 3: 20.505829\n",
      "Feature 4: 17.994555\n",
      "Feature 5: 8.078422\n",
      "Feature 6: 1.579549\n",
      "Feature 7: 0.191377\n",
      "Feature 8: 0.534471\n",
      "Feature 9: 0.119076\n",
      "Feature 10: 0.000492\n",
      "Feature 11: 6.061611\n",
      "Feature 12: 0.207498\n",
      "Feature 13: 4.753241\n",
      "Feature 14: 1.793446\n",
      "Feature 15: 1.125728\n",
      "Feature 16: 14.419699\n",
      "Feature 17: 10.555238\n",
      "Feature 18: 6.588744\n",
      "Feature 19: 0.169387\n",
      "Feature 20: 48.685478\n",
      "Feature 21: 9.514518\n",
      "Feature 22: 17.512916\n",
      "Feature 23: 0.018828\n",
      "Feature 24: 23.587325\n",
      "Feature 25: 7.487221\n",
      "Feature 26: 25.372040\n",
      "Feature 27: 1.705143\n",
      "Feature 28: 0.383820\n",
      "Feature 29: 32.621878\n",
      "Feature 30: 0.504429\n",
      "Feature 31: 0.031913\n",
      "Feature 32: 1.245802\n",
      "Feature 33: 0.634414\n",
      "Feature 34: 22.907221\n",
      "Feature 35: 20.249143\n",
      "Feature 36: 8.790534\n",
      "Feature 37: 7.265941\n",
      "Feature 38: 1.431049\n",
      "Feature 39: 8.809431\n",
      "Feature 40: 0.500901\n",
      "Feature 41: 0.121579\n",
      "Feature 42: 2.221359\n",
      "Feature 43: 2.220683\n",
      "Feature 44: 0.008663\n",
      "Feature 45: 6.410577\n",
      "Feature 46: 12.652167\n",
      "Feature 47: 1.061315\n",
      "Feature 48: 8.309233\n",
      "Feature 49: 0.236768\n"
     ]
    },
    {
     "data": {
      "image/png": "[encoded data removed]",
      "text/plain": [
       "<Figure size 432x288 with 1 Axes>"
      ]
     },
     "metadata": {
      "needs_background": "light"
     },
     "output_type": "display_data"
    }
   ],
   "source": [
    "X_train_fs, X_test_fs, fs = select_features(X_train, y_train, X_test)\n",
    "for i in range(len(fs.scores_)):\n",
    "     print('Feature %d: %f' % (i, fs.scores_[i]))\n",
    "# plot the scores\n",
    "plt.bar([i for i in range(len(fs.scores_))], fs.scores_)\n",
    "\n",
    "plt.show()"
   ]
  },
  {
   "cell_type": "code",
   "execution_count": null,
   "metadata": {},
   "outputs": [],
   "source": []
  },
  {
   "cell_type": "code",
   "execution_count": 45,
   "metadata": {
    "ExecuteTime": {
     "end_time": "2021-03-09T17:50:06.534151Z",
     "start_time": "2021-03-09T17:50:06.524160Z"
    },
    "scrolled": true
   },
   "outputs": [
    {
     "name": "stdout",
     "output_type": "stream",
     "text": [
      "Marital Status\n",
      "Occupation\n",
      "Monthly Income\n",
      "Easy Payment option\n",
      "More Offers and Discount\n",
      "Self Cooking\n",
      "Late Delivery\n",
      "Bad past experience\n",
      "Unaffordable\n",
      "Delay of delivery person picking up food\n",
      "Order Time\n",
      "Maximum wait time\n",
      "Freshness \n"
     ]
    }
   ],
   "source": [
    "# Extract feature \n",
    "basic_f1=[]\n",
    "for i in range(len(fs.scores_)):\n",
    "    if(fs.scores_[i]>10): # set Thresold\n",
    "        print(X_test.columns[i])\n",
    "        basic_f1.append(X_test.columns[i])"
   ]
  },
  {
   "cell_type": "markdown",
   "metadata": {},
   "source": [
    "# KNN Algorithm "
   ]
  },
  {
   "cell_type": "code",
   "execution_count": 46,
   "metadata": {
    "ExecuteTime": {
     "end_time": "2021-03-09T17:50:06.639110Z",
     "start_time": "2021-03-09T17:50:06.540148Z"
    }
   },
   "outputs": [],
   "source": [
    "X=fd_dlvry[basic_f1]\n",
    "y=fd_dlvry['Output']\n",
    "\n",
    "nm=RandomOverSampler()\n",
    "X,y=nm.fit_sample(X,y)"
   ]
  },
  {
   "cell_type": "code",
   "execution_count": 47,
   "metadata": {
    "ExecuteTime": {
     "end_time": "2021-03-09T17:50:06.729039Z",
     "start_time": "2021-03-09T17:50:06.642091Z"
    }
   },
   "outputs": [
    {
     "data": {
      "text/plain": [
       "(602, 13)"
      ]
     },
     "execution_count": 47,
     "metadata": {},
     "output_type": "execute_result"
    }
   ],
   "source": [
    "X.shape"
   ]
  },
  {
   "cell_type": "code",
   "execution_count": 48,
   "metadata": {
    "ExecuteTime": {
     "end_time": "2021-03-09T17:50:08.100463Z",
     "start_time": "2021-03-09T17:50:06.733038Z"
    },
    "code_folding": []
   },
   "outputs": [
    {
     "data": {
      "image/png": "[encoded data removed]",
      "text/plain": [
       "<Figure size 432x288 with 1 Axes>"
      ]
     },
     "metadata": {
      "needs_background": "light"
     },
     "output_type": "display_data"
    }
   ],
   "source": [
    "#neighbour find \n",
    "plt.figure()\n",
    "training_accuracy = []\n",
    "test_accuracy = []\n",
    "# try n_neighbors from 1 to 10\n",
    "neighbors_settings = range(1, 11)\n",
    "for i in neighbors_settings:\n",
    "    clf = KNeighborsClassifier(n_neighbors=i,p=1)\n",
    "    clf.fit(X_train, y_train)\n",
    "    training_accuracy.append(clf.score(X_train, y_train))\n",
    "    # record generalization accuracy\n",
    "    test_accuracy.append(clf.score(X_test, y_test))\n",
    "plt.plot(neighbors_settings,training_accuracy,label=\"training accuracy\")\n",
    "plt.plot(neighbors_settings,test_accuracy,label=\"test accuracy\")\n",
    "plt.ylabel(\"Accuracy\")\n",
    "plt.xlabel(\"n_neighbors\")\n",
    "plt.legend()\n",
    "\n",
    "plt.show()"
   ]
  },
  {
   "cell_type": "code",
   "execution_count": 49,
   "metadata": {
    "ExecuteTime": {
     "end_time": "2021-03-09T17:50:08.116086Z",
     "start_time": "2021-03-09T17:50:08.100463Z"
    },
    "code_folding": [
     0
    ]
   },
   "outputs": [],
   "source": [
    "# here some Extra work it's take long time to running\n",
    "# plt.figure()\n",
    "# training_accuracy = []\n",
    "# test_accuracy = []\n",
    "# # try n_neighbors from 1 to 10\n",
    "# test_size= numpy.arange(0.1, 0.9,0.05)\n",
    "# knn = KNeighborsClassifier(n_neighbors = 3)\n",
    "# for i in test_size:\n",
    "    \n",
    "    \n",
    "#     test_score = []\n",
    "#     train_score=[]\n",
    "#     for j in range(1,1000):\n",
    "#         X_train, X_test, y_train, y_test = train_test_split(X, y, test_size = i,random_state=6)\n",
    "#         knn.fit(X_train, y_train)\n",
    "#         test_score.append(knn.score(X_test, y_test))\n",
    "#         train_score.append(knn.score(X_train, y_train))\n",
    "  \n",
    "\n",
    "       \n",
    "#     training_accuracy.append(np.mean(train_score))\n",
    "#     # record generalization accuracy\n",
    "#     test_accuracy.append(np.mean(test_score))\n",
    "\n",
    "# plt.plot(test_size,training_accuracy,label=\"training accuracy\")\n",
    "# plt.plot(test_size,test_accuracy,label=\"test accuracy\")\n",
    "# plt.ylabel(\"Accuracy\")\n",
    "# plt.xlabel(\"test_size\")\n",
    "# plt.legend()\n",
    "\n",
    "# plt.show()"
   ]
  },
  {
   "cell_type": "code",
   "execution_count": 50,
   "metadata": {
    "ExecuteTime": {
     "end_time": "2021-03-09T17:50:09.842262Z",
     "start_time": "2021-03-09T17:50:08.116086Z"
    },
    "code_folding": []
   },
   "outputs": [
    {
     "data": {
      "image/png": "[encoded data removed]",
      "text/plain": [
       "<Figure size 432x288 with 1 Axes>"
      ]
     },
     "metadata": {
      "needs_background": "light"
     },
     "output_type": "display_data"
    }
   ],
   "source": [
    "# appropriate test size find \n",
    "plt.figure()\n",
    "training_accuracy = []\n",
    "test_accuracy = []\n",
    "# try n_neighbors from 1 to 10\n",
    "test_size= numpy.arange(0.1, 0.9,0.05)\n",
    "knn = KNeighborsClassifier(n_neighbors = 5)\n",
    "for i in test_size:\n",
    "    \n",
    "        X_train, X_test, y_train, y_test = train_test_split(X, y, test_size = i)\n",
    "        knn.fit(X_train, y_train)\n",
    "        training_accuracy.append(knn.score(X_train,y_train))\n",
    "        test_accuracy.append(knn.score(X_test,y_test))\n",
    "  \n",
    "\n",
    "    \n",
    "plt.plot(test_size,training_accuracy,label=\"training accuracy\")\n",
    "plt.plot(test_size,test_accuracy,label=\"test accuracy\")\n",
    "plt.ylabel(\"Accuracy\")\n",
    "plt.xlabel(\"test_size\")\n",
    "plt.legend()\n",
    "\n",
    "plt.show()"
   ]
  },
  {
   "cell_type": "code",
   "execution_count": 51,
   "metadata": {
    "ExecuteTime": {
     "end_time": "2021-03-09T17:50:09.904324Z",
     "start_time": "2021-03-09T17:50:09.846260Z"
    }
   },
   "outputs": [
    {
     "data": {
      "text/plain": [
       "0.7800829875518672"
      ]
     },
     "execution_count": 51,
     "metadata": {},
     "output_type": "execute_result"
    }
   ],
   "source": [
    "#split data into test data and train data\n",
    "X_train,X_test,y_train,y_test=train_test_split(X,y,test_size=0.4)\n",
    "\n",
    "neigh = KNeighborsClassifier(n_neighbors=5)\n",
    "\n",
    "knn=neigh.fit(X_train,y_train)\n",
    "\n",
    "knn.score(X_test,y_test)"
   ]
  },
  {
   "cell_type": "code",
   "execution_count": 52,
   "metadata": {
    "ExecuteTime": {
     "end_time": "2021-03-09T17:50:09.986464Z",
     "start_time": "2021-03-09T17:50:09.908323Z"
    }
   },
   "outputs": [],
   "source": [
    "y_pred=knn.predict(X_test)"
   ]
  },
  {
   "cell_type": "code",
   "execution_count": 53,
   "metadata": {
    "ExecuteTime": {
     "end_time": "2021-03-09T17:50:10.034533Z",
     "start_time": "2021-03-09T17:50:09.986464Z"
    }
   },
   "outputs": [
    {
     "data": {
      "text/plain": [
       "array([[91, 14],\n",
       "       [39, 97]], dtype=int64)"
      ]
     },
     "execution_count": 53,
     "metadata": {},
     "output_type": "execute_result"
    }
   ],
   "source": [
    "#confusion matrix \n",
    "cf_matrix_n=confusion_matrix(y_test, y_pred)\n",
    "cf_matrix_n"
   ]
  },
  {
   "cell_type": "code",
   "execution_count": 54,
   "metadata": {
    "ExecuteTime": {
     "end_time": "2021-03-09T17:50:10.121930Z",
     "start_time": "2021-03-09T17:50:10.038529Z"
    }
   },
   "outputs": [
    {
     "name": "stdout",
     "output_type": "stream",
     "text": [
      "              precision    recall  f1-score   support\n",
      "\n",
      "           0       0.70      0.87      0.77       105\n",
      "           1       0.87      0.71      0.79       136\n",
      "\n",
      "    accuracy                           0.78       241\n",
      "   macro avg       0.79      0.79      0.78       241\n",
      "weighted avg       0.80      0.78      0.78       241\n",
      "\n"
     ]
    }
   ],
   "source": [
    "#classification report\n",
    "print(classification_report(y_test,y_pred))"
   ]
  },
  {
   "cell_type": "code",
   "execution_count": 55,
   "metadata": {
    "ExecuteTime": {
     "end_time": "2021-03-09T17:50:10.564238Z",
     "start_time": "2021-03-09T17:50:10.124983Z"
    },
    "scrolled": true
   },
   "outputs": [
    {
     "data": {
      "image/png": "[encoded data removed]",
      "text/plain": [
       "<Figure size 432x288 with 1 Axes>"
      ]
     },
     "metadata": {
      "needs_background": "light"
     },
     "output_type": "display_data"
    }
   ],
   "source": [
    "from sklearn.metrics import roc_curve\n",
    "fpr, tpr, thresholds=roc_curve(y_test, y_pred)\n",
    "AUC=round(metrics.auc(fpr, tpr),2)\n",
    "\n",
    "plt.plot([0,1], [0,1], linestyle='--', label='No Skill')\n",
    "plt.plot(fpr, tpr, marker='.', label=f'knn AUC={AUC}')\n",
    "# axis labels\n",
    "plt.xlabel('False Positive Rate')\n",
    "plt.ylabel('True Positive Rate')\n",
    "plt.legend()\n",
    "# show the plot\n",
    "plt.show()\n"
   ]
  },
  {
   "cell_type": "markdown",
   "metadata": {},
   "source": [
    "<b> Conclusion:</b>"
   ]
  },
  {
   "cell_type": "code",
   "execution_count": 56,
   "metadata": {
    "ExecuteTime": {
     "end_time": "2021-03-09T17:50:10.575659Z",
     "start_time": "2021-03-09T17:50:10.564238Z"
    }
   },
   "outputs": [
    {
     "data": {
      "text/plain": [
       "'feature selection method affect our model,AUC decrease as compare to the first one'"
      ]
     },
     "execution_count": 56,
     "metadata": {},
     "output_type": "execute_result"
    }
   ],
   "source": [
    "'''feature selection method affect our model,AUC decrease as compare to the first one'''"
   ]
  },
  {
   "cell_type": "markdown",
   "metadata": {},
   "source": [
    "<b> Cross-Validation </b>"
   ]
  },
  {
   "cell_type": "code",
   "execution_count": 57,
   "metadata": {
    "ExecuteTime": {
     "end_time": "2021-03-09T17:50:10.883120Z",
     "start_time": "2021-03-09T17:50:10.577690Z"
    },
    "scrolled": true
   },
   "outputs": [
    {
     "name": "stdout",
     "output_type": "stream",
     "text": [
      "mean:=0.8405882352941175 std :0.050011788947257066\n"
     ]
    }
   ],
   "source": [
    "#without StratifiedKFold \n",
    "Knn=KNeighborsClassifier(n_neighbors=5,p=1)\n",
    "score=cross_val_score(knn,X,y,cv=12)\n",
    "print(\"mean:=\"+str(score.mean()),\"std :\"+str(score.std()))"
   ]
  },
  {
   "cell_type": "code",
   "execution_count": 58,
   "metadata": {
    "ExecuteTime": {
     "end_time": "2021-03-09T17:50:11.181320Z",
     "start_time": "2021-03-09T17:50:10.883120Z"
    }
   },
   "outputs": [
    {
     "name": "stdout",
     "output_type": "stream",
     "text": [
      "List of possible accuracy: [0.8823529411764706, 0.8627450980392157, 0.78, 0.82, 0.8, 0.84, 0.86, 0.8, 0.84, 0.86, 0.86, 0.88]\n",
      "\n",
      "Maximum Accuracy That can be obtained from this model is: 88.23529411764706 %\n",
      "\n",
      "Minimum Accuracy: 78.0 %\n",
      "\n",
      "Average Accuracy That can be obtained from this model is:: 0.8404248366013073\n",
      "\n",
      "Standard Deviation is: 0.03202726088487923\n"
     ]
    }
   ],
   "source": [
    "#with StratifiedKFold \n",
    "import numpy as np\n",
    "from sklearn.model_selection import StratifiedKFold \n",
    "skf = StratifiedKFold(n_splits=12, shuffle=True, random_state=1) \n",
    "lst_accu_stratified = [] \n",
    "\n",
    "for train_index, test_index in skf.split(X, y): \n",
    "    x_train_fold, x_test_fold = X.loc[train_index,:], X.loc[test_index,:] \n",
    "    y_train_fold, y_test_fold = y[train_index], y[test_index] \n",
    "    knn.fit(x_train_fold, y_train_fold) \n",
    "    lst_accu_stratified.append(knn.score(x_test_fold, y_test_fold))\n",
    "    \n",
    "    \n",
    "print('List of possible accuracy:', lst_accu_stratified) \n",
    "print('\\nMaximum Accuracy That can be obtained from this model is:', \n",
    "      max(lst_accu_stratified)*100, '%') \n",
    "print('\\nMinimum Accuracy:', \n",
    "      min(lst_accu_stratified)*100, '%') \n",
    "print('\\nAverage Accuracy That can be obtained from this model is::',np.mean(lst_accu_stratified)) \n",
    "print('\\nStandard Deviation is:',np.std(lst_accu_stratified)) "
   ]
  },
  {
   "cell_type": "markdown",
   "metadata": {},
   "source": [
    "#  Logistics Regression\n"
   ]
  },
  {
   "cell_type": "code",
   "execution_count": 59,
   "metadata": {
    "ExecuteTime": {
     "end_time": "2021-03-09T17:50:11.190001Z",
     "start_time": "2021-03-09T17:50:11.181320Z"
    }
   },
   "outputs": [],
   "source": [
    "from sklearn.linear_model import LogisticRegression"
   ]
  },
  {
   "cell_type": "code",
   "execution_count": 60,
   "metadata": {
    "ExecuteTime": {
     "end_time": "2021-03-09T17:50:11.259482Z",
     "start_time": "2021-03-09T17:50:11.194546Z"
    }
   },
   "outputs": [],
   "source": [
    "# Here we are using  both method for feature selection  means we takes union both feature union\n",
    "\n",
    "f_feature=list(set(basic_f0).union(set(basic_f1)))"
   ]
  },
  {
   "cell_type": "code",
   "execution_count": 61,
   "metadata": {
    "ExecuteTime": {
     "end_time": "2021-03-09T17:50:11.345966Z",
     "start_time": "2021-03-09T17:50:11.264478Z"
    }
   },
   "outputs": [
    {
     "data": {
      "text/plain": [
       "['More Offers and Discount',\n",
       " 'Maximum wait time',\n",
       " 'Monthly Income',\n",
       " 'Good Tracking system',\n",
       " 'Age',\n",
       " 'Late Delivery',\n",
       " 'More restaurant choices',\n",
       " 'Delay of delivery person picking up food',\n",
       " 'Good Food quality',\n",
       " 'Marital Status',\n",
       " 'Freshness ',\n",
       " 'Ease and convenient',\n",
       " 'Self Cooking',\n",
       " 'Time saving',\n",
       " 'Order Time',\n",
       " 'Occupation',\n",
       " 'Bad past experience',\n",
       " 'Unaffordable',\n",
       " 'Easy Payment option']"
      ]
     },
     "execution_count": 61,
     "metadata": {},
     "output_type": "execute_result"
    }
   ],
   "source": [
    "f_feature"
   ]
  },
  {
   "cell_type": "markdown",
   "metadata": {
    "ExecuteTime": {
     "end_time": "2021-02-22T04:01:37.917350Z",
     "start_time": "2021-02-22T04:01:37.909356Z"
    }
   },
   "source": [
    "# Now we need to use some domain knowlegde for selecting feature\n",
    "Group 1: {'Ease and convenient','Easy Payment option'}\\\n",
    "Group 2 :{'Order Time','Time saving','Delay of delivery person picking up food','Maximum wait time'}\\\n",
    "f_feature=['Ease and convenient','Self Cooking','Maximum wait time','More restaurant choices',\n",
    "  'Unaffordable', 'More Offers and Discount', 'Good Food quality', 'Good Tracking system', 'Age', 'Bad past experience']"
   ]
  },
  {
   "cell_type": "code",
   "execution_count": 62,
   "metadata": {
    "ExecuteTime": {
     "end_time": "2021-03-09T17:50:11.437840Z",
     "start_time": "2021-03-09T17:50:11.349965Z"
    }
   },
   "outputs": [],
   "source": [
    "#select X,y \n",
    "\n",
    "X=fd_dlvry[f_feature]\n",
    "y=fd_dlvry['Output']\n",
    "from imblearn.under_sampling import NearMiss\n",
    "# nm=NearMiss()\n",
    "#try to making data balnaced \n",
    "nm=RandomOverSampler()\n",
    "X,y=nm.fit_sample(X,y)\n",
    "\n",
    "X_train, X_test, y_train, y_test = train_test_split(X, y, test_size = 0.33)"
   ]
  },
  {
   "cell_type": "code",
   "execution_count": 63,
   "metadata": {
    "ExecuteTime": {
     "end_time": "2021-03-09T17:50:11.524975Z",
     "start_time": "2021-03-09T17:50:11.440836Z"
    }
   },
   "outputs": [
    {
     "data": {
      "text/plain": [
       "(602, 19)"
      ]
     },
     "execution_count": 63,
     "metadata": {},
     "output_type": "execute_result"
    }
   ],
   "source": [
    "X.shape"
   ]
  },
  {
   "cell_type": "code",
   "execution_count": 64,
   "metadata": {
    "ExecuteTime": {
     "end_time": "2021-03-09T17:50:11.619631Z",
     "start_time": "2021-03-09T17:50:11.528968Z"
    }
   },
   "outputs": [
    {
     "data": {
      "text/plain": [
       "['More Offers and Discount',\n",
       " 'Maximum wait time',\n",
       " 'Monthly Income',\n",
       " 'Good Tracking system',\n",
       " 'Age',\n",
       " 'Late Delivery',\n",
       " 'More restaurant choices',\n",
       " 'Delay of delivery person picking up food',\n",
       " 'Good Food quality',\n",
       " 'Marital Status',\n",
       " 'Freshness ',\n",
       " 'Ease and convenient',\n",
       " 'Self Cooking',\n",
       " 'Time saving',\n",
       " 'Order Time',\n",
       " 'Occupation',\n",
       " 'Bad past experience',\n",
       " 'Unaffordable',\n",
       " 'Easy Payment option']"
      ]
     },
     "execution_count": 64,
     "metadata": {},
     "output_type": "execute_result"
    }
   ],
   "source": [
    "f_feature"
   ]
  },
  {
   "cell_type": "code",
   "execution_count": 65,
   "metadata": {
    "ExecuteTime": {
     "end_time": "2021-03-09T17:50:11.704359Z",
     "start_time": "2021-03-09T17:50:11.623622Z"
    }
   },
   "outputs": [],
   "source": [
    "Lg=LogisticRegression()"
   ]
  },
  {
   "cell_type": "code",
   "execution_count": 66,
   "metadata": {
    "ExecuteTime": {
     "end_time": "2021-03-09T17:50:56.597359Z",
     "start_time": "2021-03-09T17:50:11.709355Z"
    },
    "code_folding": []
   },
   "outputs": [
    {
     "data": {
      "image/png": "[encoded data removed]",
      "text/plain": [
       "<Figure size 432x288 with 1 Axes>"
      ]
     },
     "metadata": {
      "needs_background": "light"
     },
     "output_type": "display_data"
    }
   ],
   "source": [
    "#\n",
    "plt.figure()\n",
    "training_accuracy = []\n",
    "test_accuracy = []\n",
    "# try n_neighbors from 1 to 10\n",
    "test_size= numpy.arange(0.1, 0.9,0.05)\n",
    "\n",
    "for i in test_size:\n",
    "        t_s=[]\n",
    "        tn_=[]\n",
    "        for j in range(0,50):\n",
    "            X_train, X_test, y_train, y_test = train_test_split(X, y, test_size = i,random_state=np.random.randint(0,100))\n",
    "            Lg.fit(X_train, y_train)\n",
    "            \n",
    "            t_s.append(Lg.score(X_test,y_test))\n",
    "            tn_.append(Lg.score(X_train,y_train))\n",
    "        training_accuracy.append(np.mean(t_s))\n",
    "        test_accuracy.append(np.mean(tn_))\n",
    "\n",
    "\n",
    "    \n",
    "plt.plot(test_size,training_accuracy,label=\"training accuracy\")\n",
    "plt.plot(test_size,test_accuracy,label=\"test accuracy\")\n",
    "plt.ylabel(\"Accuracy\")\n",
    "plt.xlabel(\"test_size\")\n",
    "plt.legend()\n",
    "\n",
    "plt.show()\n",
    "\n",
    "\n"
   ]
  },
  {
   "cell_type": "code",
   "execution_count": 67,
   "metadata": {
    "ExecuteTime": {
     "end_time": "2021-03-09T17:50:56.686309Z",
     "start_time": "2021-03-09T17:50:56.614347Z"
    }
   },
   "outputs": [
    {
     "data": {
      "text/plain": [
       "0.7403314917127072"
      ]
     },
     "execution_count": 67,
     "metadata": {},
     "output_type": "execute_result"
    }
   ],
   "source": [
    "#data split into train and test size \n",
    "X_train,X_test,y_train,y_test=train_test_split(X,y,test_size=0.3)\n",
    "Lg.fit(X_train,y_train)\n",
    "Lg.score(X_test,y_test)"
   ]
  },
  {
   "cell_type": "code",
   "execution_count": 68,
   "metadata": {
    "ExecuteTime": {
     "end_time": "2021-03-09T17:50:56.858351Z",
     "start_time": "2021-03-09T17:50:56.699449Z"
    }
   },
   "outputs": [],
   "source": [
    "y_pred=Lg.predict(X_test)"
   ]
  },
  {
   "cell_type": "code",
   "execution_count": 69,
   "metadata": {
    "ExecuteTime": {
     "end_time": "2021-03-09T17:50:56.975286Z",
     "start_time": "2021-03-09T17:50:56.865347Z"
    }
   },
   "outputs": [
    {
     "data": {
      "text/plain": [
       "array([[70, 25],\n",
       "       [22, 64]], dtype=int64)"
      ]
     },
     "execution_count": 69,
     "metadata": {},
     "output_type": "execute_result"
    }
   ],
   "source": [
    "cf_matrix=confusion_matrix(y_test, y_pred)\n",
    "cf_matrix"
   ]
  },
  {
   "cell_type": "code",
   "execution_count": 70,
   "metadata": {
    "ExecuteTime": {
     "end_time": "2021-03-09T17:50:57.102213Z",
     "start_time": "2021-03-09T17:50:56.979284Z"
    }
   },
   "outputs": [
    {
     "name": "stdout",
     "output_type": "stream",
     "text": [
      "              precision    recall  f1-score   support\n",
      "\n",
      "           0       0.76      0.74      0.75        95\n",
      "           1       0.72      0.74      0.73        86\n",
      "\n",
      "    accuracy                           0.74       181\n",
      "   macro avg       0.74      0.74      0.74       181\n",
      "weighted avg       0.74      0.74      0.74       181\n",
      "\n"
     ]
    }
   ],
   "source": [
    "print(classification_report(y_test,y_pred))"
   ]
  },
  {
   "cell_type": "code",
   "execution_count": 71,
   "metadata": {
    "ExecuteTime": {
     "end_time": "2021-03-09T17:50:58.031683Z",
     "start_time": "2021-03-09T17:50:57.107211Z"
    },
    "scrolled": true
   },
   "outputs": [
    {
     "data": {
      "image/png": "[encoded data removed]",
      "text/plain": [
       "<Figure size 720x432 with 1 Axes>"
      ]
     },
     "metadata": {
      "needs_background": "light"
     },
     "output_type": "display_data"
    }
   ],
   "source": [
    "thresolds = [0.2,0.3,0.4,0.5,0.55,0.6,0.62,0.65,0.7,0.8]\n",
    "plt.figure(figsize=(10,6))\n",
    "for i in thresolds:\n",
    "    y_pred_proba = (Lg.predict_proba(X_test)[:,1]>=i).astype(int)\n",
    "    fpr, tpr, m= metrics.roc_curve(y_test,  y_pred_proba)\n",
    "    auc = metrics.roc_auc_score(y_test, y_pred_proba)\n",
    "    plt.plot(fpr,tpr,label=f\"data 1, auc={auc} thresold={i}\")\n",
    "    plt.legend(loc=4)\n",
    "\n",
    "\n",
    "\n",
    "plt.xlabel('fpr')\n",
    "plt.ylabel('tpr')\n",
    "plt.show()"
   ]
  },
  {
   "cell_type": "code",
   "execution_count": 72,
   "metadata": {
    "ExecuteTime": {
     "end_time": "2021-03-09T17:50:58.040675Z",
     "start_time": "2021-03-09T17:50:58.034678Z"
    }
   },
   "outputs": [
    {
     "data": {
      "text/plain": [
       "'In Knn weighted avg f1-score is good and AUC is great but problems in Knn is not learning something\\nknn just use more memory space for perform operation and mostly features are categorical so noise affect\\non this algorithms. Here we can see if we set thresold 0.65 in Logistics regression we get better model  and here algorithms \\nsomething learn \\n'"
      ]
     },
     "execution_count": 72,
     "metadata": {},
     "output_type": "execute_result"
    }
   ],
   "source": [
    "'''In Knn weighted avg f1-score is good and AUC is great but problems in Knn is not learning something\n",
    "knn just use more memory space for perform operation and mostly features are categorical so noise affect\n",
    "on this algorithms. Here we can see if we set thresold 0.65 in Logistics regression we get better model  and here algorithms \n",
    "something learn \n",
    "'''"
   ]
  },
  {
   "cell_type": "markdown",
   "metadata": {},
   "source": [
    "<b> Cross-Validation </b>"
   ]
  },
  {
   "cell_type": "code",
   "execution_count": 73,
   "metadata": {
    "ExecuteTime": {
     "end_time": "2021-03-09T17:50:58.763261Z",
     "start_time": "2021-03-09T17:50:58.043673Z"
    }
   },
   "outputs": [
    {
     "name": "stdout",
     "output_type": "stream",
     "text": [
      "List of possible accuracy: [0.70491803 0.81967213 0.88333333 0.75       0.76666667 0.8\n",
      " 0.8        0.78333333 0.75       0.7       ]\n",
      "\n",
      "Maximum Accuracy That can be obtained from this model is: 88.33333333333333 %\n",
      "\n",
      "Minimum Accuracy: 78.0 %\n",
      "\n",
      "Average Accuracy That can be obtained from this model is:: 0.775792349726776\n",
      "\n",
      "Standard Deviation is: 0.05186598427565795\n"
     ]
    }
   ],
   "source": [
    "score=cross_val_score(Lg,X,y,cv=10)\n",
    "print('List of possible accuracy:', score) \n",
    "print('\\nMaximum Accuracy That can be obtained from this model is:', \n",
    "      max(score)*100, '%') \n",
    "print('\\nMinimum Accuracy:', \n",
    "      min(lst_accu_stratified)*100, '%') \n",
    "print('\\nAverage Accuracy That can be obtained from this model is::',np.mean(score)) \n",
    "print('\\nStandard Deviation is:',np.std(score)) "
   ]
  },
  {
   "cell_type": "code",
   "execution_count": 74,
   "metadata": {
    "ExecuteTime": {
     "end_time": "2021-03-09T17:50:59.420885Z",
     "start_time": "2021-03-09T17:50:58.768259Z"
    }
   },
   "outputs": [
    {
     "name": "stdout",
     "output_type": "stream",
     "text": [
      "List of possible accuracy: [0.8431372549019608, 0.7450980392156863, 0.82, 0.7, 0.86, 0.7, 0.8, 0.8, 0.76, 0.76, 0.84, 0.86]\n",
      "\n",
      "Maximum Accuracy That can be obtained from this model is: 86.0 %\n",
      "\n",
      "Minimum Accuracy: 70.0 %\n",
      "\n",
      "Average Accuracy That can be obtained from this model is:: 0.7906862745098039\n",
      "\n",
      " Median Accuracy That can be obtained from this model is:: 0.8\n",
      "\n",
      "Standard Deviation is: 0.05495005479854587\n"
     ]
    }
   ],
   "source": [
    "import numpy as np\n",
    "from sklearn.model_selection import StratifiedKFold \n",
    "skf = StratifiedKFold(n_splits=12, shuffle=True, random_state=1) \n",
    "lst_accu_stratified = [] \n",
    "\n",
    "for train_index, test_index in skf.split(X, y): \n",
    "    x_train_fold, x_test_fold = X.loc[train_index,:], X.loc[test_index,:] \n",
    "    y_train_fold, y_test_fold = y[train_index], y[test_index] \n",
    "    Lg.fit(x_train_fold, y_train_fold) \n",
    "    lst_accu_stratified.append(Lg.score(x_test_fold, y_test_fold))\n",
    "    \n",
    "    \n",
    "print('List of possible accuracy:', lst_accu_stratified) \n",
    "print('\\nMaximum Accuracy That can be obtained from this model is:', \n",
    "      max(lst_accu_stratified)*100, '%') \n",
    "print('\\nMinimum Accuracy:', \n",
    "      min(lst_accu_stratified)*100, '%') \n",
    "print('\\nAverage Accuracy That can be obtained from this model is::',np.mean(lst_accu_stratified)) \n",
    "print('\\n Median Accuracy That can be obtained from this model is::',np.median(lst_accu_stratified)) \n",
    "print('\\nStandard Deviation is:',np.std(lst_accu_stratified)) "
   ]
  },
  {
   "cell_type": "code",
   "execution_count": 75,
   "metadata": {
    "ExecuteTime": {
     "end_time": "2021-03-09T17:50:59.698725Z",
     "start_time": "2021-03-09T17:50:59.425880Z"
    }
   },
   "outputs": [
    {
     "data": {
      "text/plain": [
       "array([0.75138122, 0.74585635, 0.71823204, 0.7679558 , 0.81767956])"
      ]
     },
     "execution_count": 75,
     "metadata": {},
     "output_type": "execute_result"
    }
   ],
   "source": [
    "from sklearn.model_selection import ShuffleSplit\n",
    "cv = ShuffleSplit(n_splits=5, test_size=0.3, random_state=0)\n",
    "cross_val_score(Lg, X, y, cv=cv)"
   ]
  },
  {
   "cell_type": "markdown",
   "metadata": {},
   "source": [
    "# DecisionTree (feature selection with both method)  "
   ]
  },
  {
   "cell_type": "code",
   "execution_count": 76,
   "metadata": {
    "ExecuteTime": {
     "end_time": "2021-03-09T17:50:59.740719Z",
     "start_time": "2021-03-09T17:50:59.702722Z"
    }
   },
   "outputs": [
    {
     "data": {
      "text/plain": [
       "1    301\n",
       "0     87\n",
       "Name: Output, dtype: int64"
      ]
     },
     "execution_count": 76,
     "metadata": {},
     "output_type": "execute_result"
    }
   ],
   "source": [
    "X=fd_dlvry[f_feature]\n",
    "y=fd_dlvry['Output']\n",
    "nm=RandomOverSampler() # try to making data balanced \n",
    "X,y=nm.fit_sample(X,y)\n",
    "fd_dlvry['Output'].value_counts()"
   ]
  },
  {
   "cell_type": "code",
   "execution_count": 77,
   "metadata": {
    "ExecuteTime": {
     "end_time": "2021-03-09T17:50:59.914601Z",
     "start_time": "2021-03-09T17:50:59.744701Z"
    }
   },
   "outputs": [
    {
     "data": {
      "text/plain": [
       "DecisionTreeClassifier(max_depth=6, min_samples_leaf=2, min_samples_split=4,\n",
       "                       random_state=0)"
      ]
     },
     "execution_count": 77,
     "metadata": {},
     "output_type": "execute_result"
    }
   ],
   "source": [
    "X_train, X_test, y_train, y_test = train_test_split(X, y, test_size = 0.33)\n",
    "clf=DecisionTreeClassifier(random_state=0,max_depth=6,min_samples_leaf=2,min_samples_split=4)\n",
    "clf.fit(X,y)"
   ]
  },
  {
   "cell_type": "code",
   "execution_count": 78,
   "metadata": {
    "ExecuteTime": {
     "end_time": "2021-03-09T17:50:59.973586Z",
     "start_time": "2021-03-09T17:50:59.918599Z"
    }
   },
   "outputs": [
    {
     "data": {
      "text/plain": [
       "0.9748743718592965"
      ]
     },
     "execution_count": 78,
     "metadata": {},
     "output_type": "execute_result"
    }
   ],
   "source": [
    "clf.score(X_test,y_test)"
   ]
  },
  {
   "cell_type": "code",
   "execution_count": 79,
   "metadata": {
    "ExecuteTime": {
     "end_time": "2021-03-09T17:51:00.109490Z",
     "start_time": "2021-03-09T17:50:59.976566Z"
    }
   },
   "outputs": [
    {
     "data": {
      "text/plain": [
       "array([0, 1, 0, 1, 0, 0, 0, 0, 0, 0, 1, 0, 0, 0, 0, 0, 0, 0, 0, 0, 1, 0,\n",
       "       0, 1, 1, 0, 1, 0, 1, 0, 0, 1, 0, 0, 0, 1, 0, 0, 0, 0, 1, 0, 0, 0,\n",
       "       0, 0, 1, 0, 0, 1, 0, 0, 0, 0, 0, 1, 0, 1, 0, 1, 1, 1, 0, 0, 0, 0,\n",
       "       0, 0, 0, 1, 0, 1, 0, 0, 0, 0, 0, 1, 1, 0, 1, 1, 0, 1, 1, 0, 1, 1,\n",
       "       1, 1, 1, 1, 1, 0, 1, 0, 1, 1, 1, 1, 0, 1, 1, 1, 1, 1, 0, 0, 1, 0,\n",
       "       1, 0, 1, 1, 1, 1, 1, 1, 1, 1, 1, 1, 0, 0, 1, 1, 1, 1, 1, 0, 1, 1,\n",
       "       0, 1, 1, 1, 0, 0, 1, 0, 0, 1, 1, 0, 0, 0, 1, 1, 0, 1, 0, 1, 1, 0,\n",
       "       1, 0, 1, 0, 0, 0, 0, 1, 1, 1, 1, 1, 1, 0, 0, 1, 1, 1, 1, 1, 0, 0,\n",
       "       1, 1, 0, 1, 0, 0, 1, 1, 1, 1, 1, 1, 0, 0, 0, 1, 0, 0, 0, 0, 1, 1,\n",
       "       1])"
      ]
     },
     "execution_count": 79,
     "metadata": {},
     "output_type": "execute_result"
    }
   ],
   "source": [
    "y_pred=clf.predict(X_test)\n",
    "y_pred"
   ]
  },
  {
   "cell_type": "code",
   "execution_count": 80,
   "metadata": {
    "ExecuteTime": {
     "end_time": "2021-03-09T17:51:00.202438Z",
     "start_time": "2021-03-09T17:51:00.113488Z"
    }
   },
   "outputs": [
    {
     "name": "stdout",
     "output_type": "stream",
     "text": [
      "[[95  0]\n",
      " [ 5 99]]\n"
     ]
    }
   ],
   "source": [
    "print(confusion_matrix(y_test,y_pred))"
   ]
  },
  {
   "cell_type": "code",
   "execution_count": 81,
   "metadata": {
    "ExecuteTime": {
     "end_time": "2021-03-09T17:51:00.388334Z",
     "start_time": "2021-03-09T17:51:00.206435Z"
    },
    "scrolled": true
   },
   "outputs": [
    {
     "name": "stdout",
     "output_type": "stream",
     "text": [
      "              precision    recall  f1-score   support\n",
      "\n",
      "           0       0.95      1.00      0.97        95\n",
      "           1       1.00      0.95      0.98       104\n",
      "\n",
      "    accuracy                           0.97       199\n",
      "   macro avg       0.97      0.98      0.97       199\n",
      "weighted avg       0.98      0.97      0.97       199\n",
      "\n"
     ]
    }
   ],
   "source": [
    "print(classification_report(y_test,y_pred))"
   ]
  },
  {
   "cell_type": "code",
   "execution_count": 82,
   "metadata": {
    "ExecuteTime": {
     "end_time": "2021-03-09T17:51:00.709147Z",
     "start_time": "2021-03-09T17:51:00.392329Z"
    }
   },
   "outputs": [
    {
     "data": {
      "text/plain": [
       "array([0.92156863, 0.84313725, 0.86      , 0.96      , 0.96      ,\n",
       "       0.88      , 0.92      , 1.        , 0.9       , 0.94      ,\n",
       "       0.98      , 0.96      ])"
      ]
     },
     "execution_count": 82,
     "metadata": {},
     "output_type": "execute_result"
    }
   ],
   "source": [
    "cross_val_score(clf, X, y, cv=12)"
   ]
  },
  {
   "cell_type": "code",
   "execution_count": 83,
   "metadata": {
    "ExecuteTime": {
     "end_time": "2021-03-09T17:51:00.940019Z",
     "start_time": "2021-03-09T17:51:00.713146Z"
    }
   },
   "outputs": [
    {
     "name": "stdout",
     "output_type": "stream",
     "text": [
      "List of possible accuracy: [0.7647058823529411, 0.803921568627451, 0.8, 0.76, 0.84, 0.76, 0.8, 0.82, 0.66, 0.74, 0.86, 0.86]\n",
      "\n",
      "Maximum Accuracy That can be obtained from this model is: 86.0 %\n",
      "\n",
      "Minimum Accuracy: 66.0 %\n",
      "\n",
      "Average Accuracy That can be obtained from this model is:: 0.7890522875816993\n",
      "\n",
      " Median Accuracy That can be obtained from this model is:: 0.8\n",
      "\n",
      "Standard Deviation is: 0.05433140938924314\n"
     ]
    }
   ],
   "source": [
    "lst_accu_stratified = [] \n",
    "\n",
    "for train_index, test_index in skf.split(X, y): \n",
    "    x_train_fold, x_test_fold = X.loc[train_index,:], X.loc[test_index,:] \n",
    "    y_train_fold, y_test_fold = y[train_index], y[test_index] \n",
    "    clf.fit(x_train_fold, y_train_fold) \n",
    "    lst_accu_stratified.append(Lg.score(x_test_fold, y_test_fold))\n",
    "    \n",
    "    \n",
    "print('List of possible accuracy:', lst_accu_stratified) \n",
    "print('\\nMaximum Accuracy That can be obtained from this model is:', \n",
    "      max(lst_accu_stratified)*100, '%') \n",
    "print('\\nMinimum Accuracy:', \n",
    "      min(lst_accu_stratified)*100, '%') \n",
    "print('\\nAverage Accuracy That can be obtained from this model is::',np.mean(lst_accu_stratified)) \n",
    "print('\\n Median Accuracy That can be obtained from this model is::',np.median(lst_accu_stratified)) \n",
    "print('\\nStandard Deviation is:',np.std(lst_accu_stratified)) "
   ]
  },
  {
   "cell_type": "code",
   "execution_count": 84,
   "metadata": {
    "ExecuteTime": {
     "end_time": "2021-03-09T17:51:05.214245Z",
     "start_time": "2021-03-09T17:51:00.946023Z"
    }
   },
   "outputs": [
    {
     "data": {
      "text/plain": [
       "'gini.png'"
      ]
     },
     "execution_count": 84,
     "metadata": {},
     "output_type": "execute_result"
    }
   ],
   "source": [
    "import graphviz\n",
    "import sklearn.tree as tree\n",
    "# DOT data\n",
    "dot_data = tree.export_graphviz(clf, out_file=None, \n",
    "                                feature_names=X.columns,  \n",
    "                                class_names='01',\n",
    "                                filled=True)\n",
    "\n",
    "# # Draw graph\n",
    "graph = graphviz.Source(dot_data,format=\"png\") \n",
    "graph.render('gini')\n",
    "# graph"
   ]
  },
  {
   "cell_type": "markdown",
   "metadata": {},
   "source": [
    "# Feature selection with Decision Tree "
   ]
  },
  {
   "cell_type": "code",
   "execution_count": 85,
   "metadata": {
    "ExecuteTime": {
     "end_time": "2021-03-09T17:51:05.328282Z",
     "start_time": "2021-03-09T17:51:05.218513Z"
    }
   },
   "outputs": [],
   "source": [
    "fd_dlvry=pd.read_csv('../../data/Banglore_food_delivery/onlinedeliverydata.csv')\n",
    "\n",
    "fd_dlvry.drop(['Pin code','longitude','latitude','Reviews'],axis=1,inplace=True)\n",
    "\n",
    "fd_dlvry['Output']=fd_dlvry['Output'].replace({'Yes':1,'No':0})"
   ]
  },
  {
   "cell_type": "code",
   "execution_count": 86,
   "metadata": {
    "ExecuteTime": {
     "end_time": "2021-03-09T17:51:05.547271Z",
     "start_time": "2021-03-09T17:51:05.328282Z"
    }
   },
   "outputs": [
    {
     "data": {
      "text/plain": [
       "(388, 223)"
      ]
     },
     "execution_count": 86,
     "metadata": {},
     "output_type": "execute_result"
    }
   ],
   "source": [
    "fd_ori=fd_dlvry.copy(deep=True)\n",
    "df=pd.get_dummies(fd_dlvry)\n",
    "df.shape"
   ]
  },
  {
   "cell_type": "code",
   "execution_count": 87,
   "metadata": {
    "ExecuteTime": {
     "end_time": "2021-03-09T17:51:05.614233Z",
     "start_time": "2021-03-09T17:51:05.551270Z"
    }
   },
   "outputs": [],
   "source": [
    "l1=[]\n",
    "for i in df.columns:\n",
    "    if(i!='Output'):\n",
    "        l1.append(i)\n",
    "    "
   ]
  },
  {
   "cell_type": "code",
   "execution_count": 88,
   "metadata": {
    "ExecuteTime": {
     "end_time": "2021-03-09T17:51:06.034992Z",
     "start_time": "2021-03-09T17:51:05.618232Z"
    }
   },
   "outputs": [],
   "source": [
    "X=df[l1]\n",
    "y=df['Output']\n",
    "nm=RandomOverSampler()\n",
    "X,y=nm.fit_sample(X,y)\n"
   ]
  },
  {
   "cell_type": "code",
   "execution_count": 89,
   "metadata": {
    "ExecuteTime": {
     "end_time": "2021-03-09T17:51:06.140933Z",
     "start_time": "2021-03-09T17:51:06.039993Z"
    }
   },
   "outputs": [
    {
     "data": {
      "text/plain": [
       "DecisionTreeClassifier(max_depth=6, min_samples_leaf=2, min_samples_split=4,\n",
       "                       random_state=0)"
      ]
     },
     "execution_count": 89,
     "metadata": {},
     "output_type": "execute_result"
    }
   ],
   "source": [
    "X_train, X_test, y_train, y_test = train_test_split(X, y, test_size = 0.33)\n",
    "clf=DecisionTreeClassifier(random_state=0,max_depth=6,min_samples_leaf=2,min_samples_split=4)\n",
    "clf.fit(X,y)"
   ]
  },
  {
   "cell_type": "code",
   "execution_count": 90,
   "metadata": {
    "ExecuteTime": {
     "end_time": "2021-03-09T17:51:06.408779Z",
     "start_time": "2021-03-09T17:51:06.144929Z"
    }
   },
   "outputs": [
    {
     "data": {
      "text/plain": [
       "0.9798994974874372"
      ]
     },
     "execution_count": 90,
     "metadata": {},
     "output_type": "execute_result"
    }
   ],
   "source": [
    "clf.score(X_test,y_test)"
   ]
  },
  {
   "cell_type": "code",
   "execution_count": 91,
   "metadata": {
    "ExecuteTime": {
     "end_time": "2021-03-09T17:51:06.816550Z",
     "start_time": "2021-03-09T17:51:06.413777Z"
    }
   },
   "outputs": [
    {
     "data": {
      "text/plain": [
       "array([0.        , 0.        , 0.        , 0.        , 0.        ,\n",
       "       0.        , 0.        , 0.        , 0.        , 0.        ,\n",
       "       0.05710918, 0.        , 0.        , 0.        , 0.        ,\n",
       "       0.        , 0.00937372, 0.        , 0.        , 0.        ,\n",
       "       0.        , 0.        , 0.        , 0.        , 0.        ,\n",
       "       0.        , 0.        , 0.        , 0.        , 0.        ,\n",
       "       0.        , 0.        , 0.        , 0.        , 0.        ,\n",
       "       0.        , 0.        , 0.        , 0.        , 0.        ,\n",
       "       0.        , 0.01748027, 0.        , 0.        , 0.47272174,\n",
       "       0.        , 0.        , 0.        , 0.        , 0.        ,\n",
       "       0.        , 0.        , 0.        , 0.        , 0.15381422,\n",
       "       0.        , 0.        , 0.        , 0.        , 0.        ,\n",
       "       0.        , 0.        , 0.        , 0.        , 0.        ,\n",
       "       0.        , 0.        , 0.        , 0.        , 0.        ,\n",
       "       0.        , 0.        , 0.        , 0.        , 0.        ,\n",
       "       0.        , 0.        , 0.        , 0.        , 0.00192236,\n",
       "       0.        , 0.        , 0.        , 0.        , 0.        ,\n",
       "       0.        , 0.        , 0.        , 0.        , 0.02461933,\n",
       "       0.        , 0.        , 0.        , 0.        , 0.        ,\n",
       "       0.        , 0.        , 0.        , 0.        , 0.        ,\n",
       "       0.        , 0.        , 0.        , 0.        , 0.0316363 ,\n",
       "       0.        , 0.        , 0.        , 0.08441469, 0.        ,\n",
       "       0.        , 0.        , 0.        , 0.01278235, 0.        ,\n",
       "       0.        , 0.        , 0.        , 0.        , 0.01255137,\n",
       "       0.        , 0.02142918, 0.        , 0.        , 0.        ,\n",
       "       0.        , 0.        , 0.        , 0.        , 0.        ,\n",
       "       0.        , 0.        , 0.00765017, 0.        , 0.        ,\n",
       "       0.04049447, 0.        , 0.        , 0.        , 0.        ,\n",
       "       0.        , 0.        , 0.        , 0.        , 0.        ,\n",
       "       0.        , 0.        , 0.        , 0.        , 0.02298841,\n",
       "       0.        , 0.        , 0.        , 0.        , 0.        ,\n",
       "       0.        , 0.        , 0.        , 0.        , 0.        ,\n",
       "       0.        , 0.        , 0.        , 0.        , 0.        ,\n",
       "       0.        , 0.        , 0.        , 0.        , 0.        ,\n",
       "       0.        , 0.        , 0.        , 0.        , 0.        ,\n",
       "       0.        , 0.        , 0.        , 0.        , 0.        ,\n",
       "       0.        , 0.        , 0.        , 0.        , 0.        ,\n",
       "       0.        , 0.        , 0.01328725, 0.        , 0.        ,\n",
       "       0.        , 0.01171715, 0.        , 0.        , 0.        ,\n",
       "       0.        , 0.        , 0.        , 0.        , 0.        ,\n",
       "       0.        , 0.        , 0.        , 0.        , 0.        ,\n",
       "       0.        , 0.        , 0.        , 0.        , 0.        ,\n",
       "       0.        , 0.        , 0.        , 0.        , 0.        ,\n",
       "       0.        , 0.        , 0.        , 0.00400784, 0.        ,\n",
       "       0.        , 0.        ])"
      ]
     },
     "execution_count": 91,
     "metadata": {},
     "output_type": "execute_result"
    }
   ],
   "source": [
    "clf.feature_importances_"
   ]
  },
  {
   "cell_type": "code",
   "execution_count": 92,
   "metadata": {
    "ExecuteTime": {
     "end_time": "2021-03-09T17:51:06.982453Z",
     "start_time": "2021-03-09T17:51:06.820545Z"
    }
   },
   "outputs": [],
   "source": [
    "def feature_extract(clf,l1):\n",
    "    values = clf.feature_importances_\n",
    "    importances = [(l1[i], values[i]) for i in range(len(l1))]\n",
    "    importances.sort(reverse=True, key=lambda x:x[1])\n",
    "    l3=[]\n",
    "    for i in importances[:12]:\n",
    "        l3.append(i[0])\n",
    "    return l3\n",
    "\n",
    "    "
   ]
  },
  {
   "cell_type": "code",
   "execution_count": 93,
   "metadata": {
    "ExecuteTime": {
     "end_time": "2021-03-09T17:51:07.075397Z",
     "start_time": "2021-03-09T17:51:06.986454Z"
    }
   },
   "outputs": [
    {
     "data": {
      "text/plain": [
       "['Ease and convenient_Disagree',\n",
       " 'More restaurant choices_Disagree',\n",
       " 'Unaffordable_Agree',\n",
       " 'Occupation_Student',\n",
       " 'Missing item_Neutral',\n",
       " 'Unavailability_Disagree',\n",
       " 'Late Delivery_Disagree',\n",
       " 'Maximum wait time_15 minutes',\n",
       " 'Delay of delivery person getting assigned_Strongly agree',\n",
       " 'Perference(P2)_ Sweets',\n",
       " 'High Quality of package_Important',\n",
       " 'Long delivery time_Agree']"
      ]
     },
     "execution_count": 93,
     "metadata": {},
     "output_type": "execute_result"
    }
   ],
   "source": [
    "feature_extract(clf,l1)"
   ]
  },
  {
   "cell_type": "code",
   "execution_count": 94,
   "metadata": {
    "ExecuteTime": {
     "end_time": "2021-03-09T17:51:07.271286Z",
     "start_time": "2021-03-09T17:51:07.079395Z"
    }
   },
   "outputs": [],
   "source": [
    "X=df[l1]\n",
    "y=df['Output']\n",
    "nm=RandomOverSampler()\n",
    "X,y=nm.fit_sample(X,y)\n"
   ]
  },
  {
   "cell_type": "code",
   "execution_count": 95,
   "metadata": {
    "ExecuteTime": {
     "end_time": "2021-03-09T17:51:07.314259Z",
     "start_time": "2021-03-09T17:51:07.275283Z"
    }
   },
   "outputs": [
    {
     "data": {
      "text/plain": [
       "DecisionTreeClassifier(max_depth=6, min_samples_leaf=2, min_samples_split=4,\n",
       "                       random_state=0)"
      ]
     },
     "execution_count": 95,
     "metadata": {},
     "output_type": "execute_result"
    }
   ],
   "source": [
    "X_train, X_test, y_train, y_test = train_test_split(X, y, test_size = 0.33)\n",
    "clf=DecisionTreeClassifier(random_state=0,max_depth=6,min_samples_leaf=2,min_samples_split=4)\n",
    "clf.fit(X,y)"
   ]
  },
  {
   "cell_type": "code",
   "execution_count": 96,
   "metadata": {
    "ExecuteTime": {
     "end_time": "2021-03-09T17:51:07.405208Z",
     "start_time": "2021-03-09T17:51:07.318258Z"
    }
   },
   "outputs": [
    {
     "data": {
      "text/plain": [
       "0.9547738693467337"
      ]
     },
     "execution_count": 96,
     "metadata": {},
     "output_type": "execute_result"
    }
   ],
   "source": [
    "clf.score(X_test,y_test)"
   ]
  },
  {
   "cell_type": "code",
   "execution_count": 97,
   "metadata": {
    "ExecuteTime": {
     "end_time": "2021-03-09T17:51:07.493158Z",
     "start_time": "2021-03-09T17:51:07.409206Z"
    }
   },
   "outputs": [
    {
     "data": {
      "text/plain": [
       "array([1, 0, 1, 1, 1, 0, 0, 0, 0, 0, 1, 0, 1, 1, 0, 0, 1, 1, 0, 0, 0, 1,\n",
       "       1, 1, 0, 0, 0, 1, 0, 0, 0, 1, 0, 1, 0, 0, 0, 0, 1, 1, 1, 0, 0, 1,\n",
       "       1, 1, 1, 0, 0, 1, 1, 0, 0, 1, 1, 0, 0, 1, 0, 1, 1, 0, 0, 1, 0, 1,\n",
       "       1, 0, 1, 1, 1, 1, 1, 0, 1, 0, 0, 0, 0, 0, 1, 0, 1, 0, 1, 0, 1, 1,\n",
       "       0, 0, 0, 1, 0, 1, 0, 0, 0, 0, 1, 0, 0, 1, 0, 0, 1, 1, 1, 0, 1, 0,\n",
       "       1, 1, 1, 0, 1, 0, 1, 0, 1, 0, 1, 1, 1, 0, 1, 0, 1, 0, 1, 1, 0, 0,\n",
       "       0, 0, 1, 0, 0, 0, 0, 1, 1, 0, 1, 1, 0, 1, 1, 0, 0, 1, 1, 0, 1, 1,\n",
       "       1, 1, 0, 1, 0, 0, 1, 0, 1, 1, 0, 1, 1, 1, 0, 0, 0, 0, 1, 0, 1, 0,\n",
       "       0, 1, 1, 1, 0, 1, 1, 1, 1, 1, 0, 0, 0, 1, 0, 1, 0, 0, 0, 1, 0, 0,\n",
       "       1], dtype=int64)"
      ]
     },
     "execution_count": 97,
     "metadata": {},
     "output_type": "execute_result"
    }
   ],
   "source": [
    "y_pred=clf.predict(X_test)\n",
    "y_pred"
   ]
  },
  {
   "cell_type": "code",
   "execution_count": 98,
   "metadata": {
    "ExecuteTime": {
     "end_time": "2021-03-09T17:51:07.656065Z",
     "start_time": "2021-03-09T17:51:07.497156Z"
    }
   },
   "outputs": [
    {
     "name": "stdout",
     "output_type": "stream",
     "text": [
      "[[98  6]\n",
      " [ 3 92]]\n"
     ]
    }
   ],
   "source": [
    "print(confusion_matrix(y_test,y_pred))"
   ]
  },
  {
   "cell_type": "code",
   "execution_count": 99,
   "metadata": {
    "ExecuteTime": {
     "end_time": "2021-03-09T17:51:07.784991Z",
     "start_time": "2021-03-09T17:51:07.660063Z"
    }
   },
   "outputs": [
    {
     "name": "stdout",
     "output_type": "stream",
     "text": [
      "              precision    recall  f1-score   support\n",
      "\n",
      "           0       0.97      0.94      0.96       104\n",
      "           1       0.94      0.97      0.95        95\n",
      "\n",
      "    accuracy                           0.95       199\n",
      "   macro avg       0.95      0.96      0.95       199\n",
      "weighted avg       0.96      0.95      0.95       199\n",
      "\n"
     ]
    }
   ],
   "source": [
    "print(classification_report(y_test,y_pred))"
   ]
  },
  {
   "cell_type": "code",
   "execution_count": 100,
   "metadata": {
    "ExecuteTime": {
     "end_time": "2021-03-09T17:51:08.621512Z",
     "start_time": "2021-03-09T17:51:07.788989Z"
    }
   },
   "outputs": [
    {
     "name": "stdout",
     "output_type": "stream",
     "text": [
      "List of possible accuracy: [0.9411764705882353, 0.9411764705882353, 0.98, 1.0, 0.9, 0.94, 0.88, 0.94, 0.94, 0.86, 0.94, 0.92]\n",
      "\n",
      "Maximum Accuracy That can be obtained from this model is: 100.0 %\n",
      "\n",
      "Minimum Accuracy: 86.0 %\n",
      "\n",
      "Average Accuracy That can be obtained from this model is:: 0.931862745098039\n",
      "\n",
      " Median Accuracy That can be obtained from this model is:: 0.94\n",
      "\n",
      "Standard Deviation is: 0.03697768376333684\n"
     ]
    }
   ],
   "source": [
    "lst_accu_stratified = [] \n",
    "x=0\n",
    "feature_common=pd.DataFrame()\n",
    "for train_index, test_index in skf.split(X, y): \n",
    "    x_train_fold, x_test_fold = X.loc[train_index,:], X.loc[test_index,:] \n",
    "    y_train_fold, y_test_fold = y[train_index], y[test_index] \n",
    "    clf.fit(x_train_fold, y_train_fold)\n",
    "    feature_common[x]=feature_extract(clf,l1)\n",
    "    x+=1\n",
    "    lst_accu_stratified.append(clf.score(x_test_fold, y_test_fold))\n",
    "    \n",
    "    \n",
    "print('List of possible accuracy:', lst_accu_stratified) \n",
    "print('\\nMaximum Accuracy That can be obtained from this model is:', \n",
    "      max(lst_accu_stratified)*100, '%') \n",
    "print('\\nMinimum Accuracy:', \n",
    "      min(lst_accu_stratified)*100, '%') \n",
    "print('\\nAverage Accuracy That can be obtained from this model is::',np.mean(lst_accu_stratified)) \n",
    "print('\\n Median Accuracy That can be obtained from this model is::',np.median(lst_accu_stratified)) \n",
    "print('\\nStandard Deviation is:',np.std(lst_accu_stratified)) "
   ]
  },
  {
   "cell_type": "code",
   "execution_count": 101,
   "metadata": {
    "ExecuteTime": {
     "end_time": "2021-03-09T17:51:08.697469Z",
     "start_time": "2021-03-09T17:51:08.626510Z"
    },
    "scrolled": true
   },
   "outputs": [
    {
     "data": {
      "text/html": [
       "<div>\n",
       "<style scoped>\n",
       "    .dataframe tbody tr th:only-of-type {\n",
       "        vertical-align: middle;\n",
       "    }\n",
       "\n",
       "    .dataframe tbody tr th {\n",
       "        vertical-align: top;\n",
       "    }\n",
       "\n",
       "    .dataframe thead th {\n",
       "        text-align: right;\n",
       "    }\n",
       "</style>\n",
       "<table border=\"1\" class=\"dataframe\">\n",
       "  <thead>\n",
       "    <tr style=\"text-align: right;\">\n",
       "      <th></th>\n",
       "      <th>0</th>\n",
       "      <th>1</th>\n",
       "      <th>2</th>\n",
       "      <th>3</th>\n",
       "      <th>4</th>\n",
       "      <th>5</th>\n",
       "      <th>6</th>\n",
       "      <th>7</th>\n",
       "      <th>8</th>\n",
       "      <th>9</th>\n",
       "      <th>10</th>\n",
       "      <th>11</th>\n",
       "    </tr>\n",
       "  </thead>\n",
       "  <tbody>\n",
       "    <tr>\n",
       "      <th>0</th>\n",
       "      <td>Ease and convenient_Disagree</td>\n",
       "      <td>Ease and convenient_Disagree</td>\n",
       "      <td>Ease and convenient_Disagree</td>\n",
       "      <td>Ease and convenient_Disagree</td>\n",
       "      <td>Ease and convenient_Disagree</td>\n",
       "      <td>Ease and convenient_Disagree</td>\n",
       "      <td>Ease and convenient_Disagree</td>\n",
       "      <td>Ease and convenient_Disagree</td>\n",
       "      <td>Ease and convenient_Disagree</td>\n",
       "      <td>Ease and convenient_Disagree</td>\n",
       "      <td>Ease and convenient_Disagree</td>\n",
       "      <td>Ease and convenient_Disagree</td>\n",
       "    </tr>\n",
       "    <tr>\n",
       "      <th>1</th>\n",
       "      <td>More restaurant choices_Disagree</td>\n",
       "      <td>More restaurant choices_Disagree</td>\n",
       "      <td>More restaurant choices_Disagree</td>\n",
       "      <td>More restaurant choices_Disagree</td>\n",
       "      <td>Time saving_Disagree</td>\n",
       "      <td>More restaurant choices_Disagree</td>\n",
       "      <td>More restaurant choices_Disagree</td>\n",
       "      <td>Time saving_Disagree</td>\n",
       "      <td>More restaurant choices_Disagree</td>\n",
       "      <td>More restaurant choices_Disagree</td>\n",
       "      <td>More restaurant choices_Disagree</td>\n",
       "      <td>More restaurant choices_Disagree</td>\n",
       "    </tr>\n",
       "    <tr>\n",
       "      <th>2</th>\n",
       "      <td>Unaffordable_Agree</td>\n",
       "      <td>Unaffordable_Agree</td>\n",
       "      <td>Unaffordable_Agree</td>\n",
       "      <td>Unaffordable_Agree</td>\n",
       "      <td>Politeness_Very Important</td>\n",
       "      <td>Unaffordable_Agree</td>\n",
       "      <td>Unaffordable_Agree</td>\n",
       "      <td>Unaffordable_Agree</td>\n",
       "      <td>Unaffordable_Agree</td>\n",
       "      <td>Unaffordable_Agree</td>\n",
       "      <td>Unaffordable_Agree</td>\n",
       "      <td>Unaffordable_Agree</td>\n",
       "    </tr>\n",
       "    <tr>\n",
       "      <th>3</th>\n",
       "      <td>Missing item_Neutral</td>\n",
       "      <td>Occupation_Student</td>\n",
       "      <td>Occupation_Student</td>\n",
       "      <td>Occupation_Student</td>\n",
       "      <td>Missing item_Neutral</td>\n",
       "      <td>Missing item_Neutral</td>\n",
       "      <td>Occupation_Student</td>\n",
       "      <td>Occupation_Employee</td>\n",
       "      <td>Occupation_Student</td>\n",
       "      <td>Good Food quality_Agree</td>\n",
       "      <td>Occupation_Student</td>\n",
       "      <td>Occupation_Student</td>\n",
       "    </tr>\n",
       "    <tr>\n",
       "      <th>4</th>\n",
       "      <td>Occupation_Student</td>\n",
       "      <td>Missing item_Neutral</td>\n",
       "      <td>Missing item_Neutral</td>\n",
       "      <td>Missing item_Neutral</td>\n",
       "      <td>More restaurant choices_Disagree</td>\n",
       "      <td>Occupation_Student</td>\n",
       "      <td>Missing item_Neutral</td>\n",
       "      <td>Unaffordable_Strongly agree</td>\n",
       "      <td>Missing item_Neutral</td>\n",
       "      <td>High Quality of package_Very Important</td>\n",
       "      <td>Missing item_Neutral</td>\n",
       "      <td>Missing item_Neutral</td>\n",
       "    </tr>\n",
       "    <tr>\n",
       "      <th>5</th>\n",
       "      <td>Perference(P2)_ Sweets</td>\n",
       "      <td>Perference(P2)_ Sweets</td>\n",
       "      <td>Perference(P2)_ Sweets</td>\n",
       "      <td>Perference(P2)_ Sweets</td>\n",
       "      <td>Influence of time_No</td>\n",
       "      <td>Perference(P2)_ Sweets</td>\n",
       "      <td>Perference(P2)_ Sweets</td>\n",
       "      <td>Good Food quality_Neutral</td>\n",
       "      <td>Perference(P2)_ Sweets</td>\n",
       "      <td>Age</td>\n",
       "      <td>Perference(P2)_ Sweets</td>\n",
       "      <td>Perference(P2)_ Sweets</td>\n",
       "    </tr>\n",
       "    <tr>\n",
       "      <th>6</th>\n",
       "      <td>Unavailability_Disagree</td>\n",
       "      <td>Unavailability_Disagree</td>\n",
       "      <td>Educational Qualifications_Graduate</td>\n",
       "      <td>Unavailability_Disagree</td>\n",
       "      <td>Unaffordable_Strongly disagree</td>\n",
       "      <td>Unavailability_Disagree</td>\n",
       "      <td>High Quality of package_Important</td>\n",
       "      <td>Meal(P2)_ Snacks</td>\n",
       "      <td>Maximum wait time_15 minutes</td>\n",
       "      <td>Marital Status_Prefer not to say</td>\n",
       "      <td>Unavailability_Disagree</td>\n",
       "      <td>Unavailability_Disagree</td>\n",
       "    </tr>\n",
       "    <tr>\n",
       "      <th>7</th>\n",
       "      <td>Late Delivery_Disagree</td>\n",
       "      <td>Late Delivery_Disagree</td>\n",
       "      <td>Unavailability_Disagree</td>\n",
       "      <td>Late Delivery_Disagree</td>\n",
       "      <td>Temperature_Moderately Important</td>\n",
       "      <td>Maximum wait time_15 minutes</td>\n",
       "      <td>Unavailability_Disagree</td>\n",
       "      <td>Order placed by mistake_Strongly disagree</td>\n",
       "      <td>Medium (P2)_ Direct call</td>\n",
       "      <td>Unavailability_Disagree</td>\n",
       "      <td>Educational Qualifications_Post Graduate</td>\n",
       "      <td>Late Delivery_Disagree</td>\n",
       "    </tr>\n",
       "    <tr>\n",
       "      <th>8</th>\n",
       "      <td>Educational Qualifications_Post Graduate</td>\n",
       "      <td>Delay of delivery person getting assigned_Stro...</td>\n",
       "      <td>Late Delivery_Disagree</td>\n",
       "      <td>Educational Qualifications_Post Graduate</td>\n",
       "      <td>Late Delivery_Agree</td>\n",
       "      <td>Late Delivery_Disagree</td>\n",
       "      <td>Educational Qualifications_Graduate</td>\n",
       "      <td>More Offers and Discount_Agree</td>\n",
       "      <td>Late Delivery_Disagree</td>\n",
       "      <td>Meal(P1)_Breakfast</td>\n",
       "      <td>Late Delivery_Disagree</td>\n",
       "      <td>Delay of delivery person getting assigned_Stro...</td>\n",
       "    </tr>\n",
       "    <tr>\n",
       "      <th>9</th>\n",
       "      <td>Maximum wait time_15 minutes</td>\n",
       "      <td>Maximum wait time_15 minutes</td>\n",
       "      <td>Maximum wait time_15 minutes</td>\n",
       "      <td>High Quality of package_Important</td>\n",
       "      <td>Educational Qualifications_Post Graduate</td>\n",
       "      <td>High Quality of package_Important</td>\n",
       "      <td>Maximum wait time_15 minutes</td>\n",
       "      <td>Self Cooking_Strongly agree</td>\n",
       "      <td>Educational Qualifications_Graduate</td>\n",
       "      <td>Maximum wait time_45 minutes</td>\n",
       "      <td>Maximum wait time_15 minutes</td>\n",
       "      <td>Maximum wait time_15 minutes</td>\n",
       "    </tr>\n",
       "    <tr>\n",
       "      <th>10</th>\n",
       "      <td>High Quality of package_Important</td>\n",
       "      <td>Delay of delivery person getting assigned_Disa...</td>\n",
       "      <td>Good Tracking system_Agree</td>\n",
       "      <td>Bad past experience_Strongly disagree</td>\n",
       "      <td>Delay of delivery person getting assigned_Agree</td>\n",
       "      <td>Educational Qualifications_Post Graduate</td>\n",
       "      <td>Late Delivery_Disagree</td>\n",
       "      <td>Freshness _Slightly Important</td>\n",
       "      <td>Time saving_Disagree</td>\n",
       "      <td>Late Delivery_Disagree</td>\n",
       "      <td>Marital Status_Prefer not to say</td>\n",
       "      <td>High Quality of package_Important</td>\n",
       "    </tr>\n",
       "    <tr>\n",
       "      <th>11</th>\n",
       "      <td>High Quality of package_Very Important</td>\n",
       "      <td>High Quality of package_Important</td>\n",
       "      <td>Marital Status_Prefer not to say</td>\n",
       "      <td>Maximum wait time_15 minutes</td>\n",
       "      <td>Order placed by mistake_Neutral</td>\n",
       "      <td>Bad past experience_Strongly disagree</td>\n",
       "      <td>Late Delivery_Neutral</td>\n",
       "      <td>Less Delivery time_Moderately Important</td>\n",
       "      <td>Bad past experience_Strongly disagree</td>\n",
       "      <td>Influence of time_Maybe</td>\n",
       "      <td>High Quality of package_Very Important</td>\n",
       "      <td>Good Tracking system_Agree</td>\n",
       "    </tr>\n",
       "  </tbody>\n",
       "</table>\n",
       "</div>"
      ],
      "text/plain": [
       "                                          0   \\\n",
       "0               Ease and convenient_Disagree   \n",
       "1           More restaurant choices_Disagree   \n",
       "2                         Unaffordable_Agree   \n",
       "3                       Missing item_Neutral   \n",
       "4                         Occupation_Student   \n",
       "5                     Perference(P2)_ Sweets   \n",
       "6                    Unavailability_Disagree   \n",
       "7                     Late Delivery_Disagree   \n",
       "8   Educational Qualifications_Post Graduate   \n",
       "9               Maximum wait time_15 minutes   \n",
       "10         High Quality of package_Important   \n",
       "11    High Quality of package_Very Important   \n",
       "\n",
       "                                                   1   \\\n",
       "0                        Ease and convenient_Disagree   \n",
       "1                    More restaurant choices_Disagree   \n",
       "2                                  Unaffordable_Agree   \n",
       "3                                  Occupation_Student   \n",
       "4                                Missing item_Neutral   \n",
       "5                              Perference(P2)_ Sweets   \n",
       "6                             Unavailability_Disagree   \n",
       "7                              Late Delivery_Disagree   \n",
       "8   Delay of delivery person getting assigned_Stro...   \n",
       "9                        Maximum wait time_15 minutes   \n",
       "10  Delay of delivery person getting assigned_Disa...   \n",
       "11                  High Quality of package_Important   \n",
       "\n",
       "                                     2   \\\n",
       "0          Ease and convenient_Disagree   \n",
       "1      More restaurant choices_Disagree   \n",
       "2                    Unaffordable_Agree   \n",
       "3                    Occupation_Student   \n",
       "4                  Missing item_Neutral   \n",
       "5                Perference(P2)_ Sweets   \n",
       "6   Educational Qualifications_Graduate   \n",
       "7               Unavailability_Disagree   \n",
       "8                Late Delivery_Disagree   \n",
       "9          Maximum wait time_15 minutes   \n",
       "10           Good Tracking system_Agree   \n",
       "11     Marital Status_Prefer not to say   \n",
       "\n",
       "                                          3   \\\n",
       "0               Ease and convenient_Disagree   \n",
       "1           More restaurant choices_Disagree   \n",
       "2                         Unaffordable_Agree   \n",
       "3                         Occupation_Student   \n",
       "4                       Missing item_Neutral   \n",
       "5                     Perference(P2)_ Sweets   \n",
       "6                    Unavailability_Disagree   \n",
       "7                     Late Delivery_Disagree   \n",
       "8   Educational Qualifications_Post Graduate   \n",
       "9          High Quality of package_Important   \n",
       "10     Bad past experience_Strongly disagree   \n",
       "11              Maximum wait time_15 minutes   \n",
       "\n",
       "                                                 4   \\\n",
       "0                      Ease and convenient_Disagree   \n",
       "1                              Time saving_Disagree   \n",
       "2                         Politeness_Very Important   \n",
       "3                              Missing item_Neutral   \n",
       "4                  More restaurant choices_Disagree   \n",
       "5                              Influence of time_No   \n",
       "6                    Unaffordable_Strongly disagree   \n",
       "7                  Temperature_Moderately Important   \n",
       "8                               Late Delivery_Agree   \n",
       "9          Educational Qualifications_Post Graduate   \n",
       "10  Delay of delivery person getting assigned_Agree   \n",
       "11                  Order placed by mistake_Neutral   \n",
       "\n",
       "                                          5   \\\n",
       "0               Ease and convenient_Disagree   \n",
       "1           More restaurant choices_Disagree   \n",
       "2                         Unaffordable_Agree   \n",
       "3                       Missing item_Neutral   \n",
       "4                         Occupation_Student   \n",
       "5                     Perference(P2)_ Sweets   \n",
       "6                    Unavailability_Disagree   \n",
       "7               Maximum wait time_15 minutes   \n",
       "8                     Late Delivery_Disagree   \n",
       "9          High Quality of package_Important   \n",
       "10  Educational Qualifications_Post Graduate   \n",
       "11     Bad past experience_Strongly disagree   \n",
       "\n",
       "                                     6   \\\n",
       "0          Ease and convenient_Disagree   \n",
       "1      More restaurant choices_Disagree   \n",
       "2                    Unaffordable_Agree   \n",
       "3                    Occupation_Student   \n",
       "4                  Missing item_Neutral   \n",
       "5                Perference(P2)_ Sweets   \n",
       "6     High Quality of package_Important   \n",
       "7               Unavailability_Disagree   \n",
       "8   Educational Qualifications_Graduate   \n",
       "9          Maximum wait time_15 minutes   \n",
       "10               Late Delivery_Disagree   \n",
       "11                Late Delivery_Neutral   \n",
       "\n",
       "                                           7   \\\n",
       "0                Ease and convenient_Disagree   \n",
       "1                        Time saving_Disagree   \n",
       "2                          Unaffordable_Agree   \n",
       "3                         Occupation_Employee   \n",
       "4                 Unaffordable_Strongly agree   \n",
       "5                   Good Food quality_Neutral   \n",
       "6                            Meal(P2)_ Snacks   \n",
       "7   Order placed by mistake_Strongly disagree   \n",
       "8              More Offers and Discount_Agree   \n",
       "9                 Self Cooking_Strongly agree   \n",
       "10              Freshness _Slightly Important   \n",
       "11    Less Delivery time_Moderately Important   \n",
       "\n",
       "                                       8   \\\n",
       "0            Ease and convenient_Disagree   \n",
       "1        More restaurant choices_Disagree   \n",
       "2                      Unaffordable_Agree   \n",
       "3                      Occupation_Student   \n",
       "4                    Missing item_Neutral   \n",
       "5                  Perference(P2)_ Sweets   \n",
       "6            Maximum wait time_15 minutes   \n",
       "7                Medium (P2)_ Direct call   \n",
       "8                  Late Delivery_Disagree   \n",
       "9     Educational Qualifications_Graduate   \n",
       "10                   Time saving_Disagree   \n",
       "11  Bad past experience_Strongly disagree   \n",
       "\n",
       "                                        9   \\\n",
       "0             Ease and convenient_Disagree   \n",
       "1         More restaurant choices_Disagree   \n",
       "2                       Unaffordable_Agree   \n",
       "3                  Good Food quality_Agree   \n",
       "4   High Quality of package_Very Important   \n",
       "5                                      Age   \n",
       "6         Marital Status_Prefer not to say   \n",
       "7                  Unavailability_Disagree   \n",
       "8                       Meal(P1)_Breakfast   \n",
       "9             Maximum wait time_45 minutes   \n",
       "10                  Late Delivery_Disagree   \n",
       "11                 Influence of time_Maybe   \n",
       "\n",
       "                                          10  \\\n",
       "0               Ease and convenient_Disagree   \n",
       "1           More restaurant choices_Disagree   \n",
       "2                         Unaffordable_Agree   \n",
       "3                         Occupation_Student   \n",
       "4                       Missing item_Neutral   \n",
       "5                     Perference(P2)_ Sweets   \n",
       "6                    Unavailability_Disagree   \n",
       "7   Educational Qualifications_Post Graduate   \n",
       "8                     Late Delivery_Disagree   \n",
       "9               Maximum wait time_15 minutes   \n",
       "10          Marital Status_Prefer not to say   \n",
       "11    High Quality of package_Very Important   \n",
       "\n",
       "                                                   11  \n",
       "0                        Ease and convenient_Disagree  \n",
       "1                    More restaurant choices_Disagree  \n",
       "2                                  Unaffordable_Agree  \n",
       "3                                  Occupation_Student  \n",
       "4                                Missing item_Neutral  \n",
       "5                              Perference(P2)_ Sweets  \n",
       "6                             Unavailability_Disagree  \n",
       "7                              Late Delivery_Disagree  \n",
       "8   Delay of delivery person getting assigned_Stro...  \n",
       "9                        Maximum wait time_15 minutes  \n",
       "10                  High Quality of package_Important  \n",
       "11                         Good Tracking system_Agree  "
      ]
     },
     "execution_count": 101,
     "metadata": {},
     "output_type": "execute_result"
    }
   ],
   "source": [
    "feature_common"
   ]
  },
  {
   "cell_type": "code",
   "execution_count": 102,
   "metadata": {
    "ExecuteTime": {
     "end_time": "2021-03-09T17:51:08.755436Z",
     "start_time": "2021-03-09T17:51:08.702466Z"
    }
   },
   "outputs": [],
   "source": [
    "l2=feature_extract(clf,l1)"
   ]
  },
  {
   "cell_type": "code",
   "execution_count": 103,
   "metadata": {
    "ExecuteTime": {
     "end_time": "2021-03-09T17:51:08.847383Z",
     "start_time": "2021-03-09T17:51:08.759433Z"
    }
   },
   "outputs": [],
   "source": [
    "relation_between_feature=pd.DataFrame(index=l2)"
   ]
  },
  {
   "cell_type": "code",
   "execution_count": 104,
   "metadata": {
    "ExecuteTime": {
     "end_time": "2021-03-09T17:51:08.938331Z",
     "start_time": "2021-03-09T17:51:08.851380Z"
    },
    "scrolled": false
   },
   "outputs": [
    {
     "data": {
      "text/html": [
       "<div>\n",
       "<style scoped>\n",
       "    .dataframe tbody tr th:only-of-type {\n",
       "        vertical-align: middle;\n",
       "    }\n",
       "\n",
       "    .dataframe tbody tr th {\n",
       "        vertical-align: top;\n",
       "    }\n",
       "\n",
       "    .dataframe thead th {\n",
       "        text-align: right;\n",
       "    }\n",
       "</style>\n",
       "<table border=\"1\" class=\"dataframe\">\n",
       "  <thead>\n",
       "    <tr style=\"text-align: right;\">\n",
       "      <th></th>\n",
       "    </tr>\n",
       "  </thead>\n",
       "  <tbody>\n",
       "    <tr>\n",
       "      <th>Ease and convenient_Disagree</th>\n",
       "    </tr>\n",
       "    <tr>\n",
       "      <th>More restaurant choices_Disagree</th>\n",
       "    </tr>\n",
       "    <tr>\n",
       "      <th>Unaffordable_Agree</th>\n",
       "    </tr>\n",
       "    <tr>\n",
       "      <th>Occupation_Student</th>\n",
       "    </tr>\n",
       "    <tr>\n",
       "      <th>Missing item_Neutral</th>\n",
       "    </tr>\n",
       "  </tbody>\n",
       "</table>\n",
       "</div>"
      ],
      "text/plain": [
       "Empty DataFrame\n",
       "Columns: []\n",
       "Index: [Ease and convenient_Disagree, More restaurant choices_Disagree, Unaffordable_Agree, Occupation_Student, Missing item_Neutral]"
      ]
     },
     "execution_count": 104,
     "metadata": {},
     "output_type": "execute_result"
    }
   ],
   "source": [
    "relation_between_feature.head()"
   ]
  },
  {
   "cell_type": "code",
   "execution_count": 105,
   "metadata": {
    "ExecuteTime": {
     "end_time": "2021-03-09T17:51:09.084248Z",
     "start_time": "2021-03-09T17:51:08.942330Z"
    }
   },
   "outputs": [
    {
     "data": {
      "text/html": [
       "<div>\n",
       "<style scoped>\n",
       "    .dataframe tbody tr th:only-of-type {\n",
       "        vertical-align: middle;\n",
       "    }\n",
       "\n",
       "    .dataframe tbody tr th {\n",
       "        vertical-align: top;\n",
       "    }\n",
       "\n",
       "    .dataframe thead th {\n",
       "        text-align: right;\n",
       "    }\n",
       "</style>\n",
       "<table border=\"1\" class=\"dataframe\">\n",
       "  <thead>\n",
       "    <tr style=\"text-align: right;\">\n",
       "      <th></th>\n",
       "      <th>Ease and convenient_Disagree</th>\n",
       "      <th>More restaurant choices_Disagree</th>\n",
       "      <th>Unaffordable_Agree</th>\n",
       "      <th>Occupation_Student</th>\n",
       "      <th>Missing item_Neutral</th>\n",
       "      <th>Perference(P2)_ Sweets</th>\n",
       "      <th>Unavailability_Disagree</th>\n",
       "      <th>Late Delivery_Disagree</th>\n",
       "      <th>Delay of delivery person getting assigned_Strongly agree</th>\n",
       "      <th>Maximum wait time_15 minutes</th>\n",
       "      <th>High Quality of package_Important</th>\n",
       "      <th>Good Tracking system_Agree</th>\n",
       "    </tr>\n",
       "  </thead>\n",
       "  <tbody>\n",
       "    <tr>\n",
       "      <th>0</th>\n",
       "      <td>0</td>\n",
       "      <td>0</td>\n",
       "      <td>0</td>\n",
       "      <td>1</td>\n",
       "      <td>0</td>\n",
       "      <td>0</td>\n",
       "      <td>0</td>\n",
       "      <td>0</td>\n",
       "      <td>0</td>\n",
       "      <td>0</td>\n",
       "      <td>0</td>\n",
       "      <td>0</td>\n",
       "    </tr>\n",
       "    <tr>\n",
       "      <th>1</th>\n",
       "      <td>0</td>\n",
       "      <td>0</td>\n",
       "      <td>0</td>\n",
       "      <td>1</td>\n",
       "      <td>0</td>\n",
       "      <td>0</td>\n",
       "      <td>0</td>\n",
       "      <td>0</td>\n",
       "      <td>1</td>\n",
       "      <td>0</td>\n",
       "      <td>0</td>\n",
       "      <td>1</td>\n",
       "    </tr>\n",
       "    <tr>\n",
       "      <th>2</th>\n",
       "      <td>0</td>\n",
       "      <td>0</td>\n",
       "      <td>1</td>\n",
       "      <td>1</td>\n",
       "      <td>0</td>\n",
       "      <td>0</td>\n",
       "      <td>0</td>\n",
       "      <td>0</td>\n",
       "      <td>0</td>\n",
       "      <td>0</td>\n",
       "      <td>0</td>\n",
       "      <td>0</td>\n",
       "    </tr>\n",
       "    <tr>\n",
       "      <th>3</th>\n",
       "      <td>0</td>\n",
       "      <td>0</td>\n",
       "      <td>0</td>\n",
       "      <td>1</td>\n",
       "      <td>0</td>\n",
       "      <td>0</td>\n",
       "      <td>1</td>\n",
       "      <td>0</td>\n",
       "      <td>0</td>\n",
       "      <td>0</td>\n",
       "      <td>1</td>\n",
       "      <td>1</td>\n",
       "    </tr>\n",
       "    <tr>\n",
       "      <th>4</th>\n",
       "      <td>0</td>\n",
       "      <td>0</td>\n",
       "      <td>0</td>\n",
       "      <td>1</td>\n",
       "      <td>1</td>\n",
       "      <td>0</td>\n",
       "      <td>0</td>\n",
       "      <td>0</td>\n",
       "      <td>1</td>\n",
       "      <td>0</td>\n",
       "      <td>1</td>\n",
       "      <td>0</td>\n",
       "    </tr>\n",
       "    <tr>\n",
       "      <th>...</th>\n",
       "      <td>...</td>\n",
       "      <td>...</td>\n",
       "      <td>...</td>\n",
       "      <td>...</td>\n",
       "      <td>...</td>\n",
       "      <td>...</td>\n",
       "      <td>...</td>\n",
       "      <td>...</td>\n",
       "      <td>...</td>\n",
       "      <td>...</td>\n",
       "      <td>...</td>\n",
       "      <td>...</td>\n",
       "    </tr>\n",
       "    <tr>\n",
       "      <th>597</th>\n",
       "      <td>1</td>\n",
       "      <td>0</td>\n",
       "      <td>1</td>\n",
       "      <td>0</td>\n",
       "      <td>0</td>\n",
       "      <td>0</td>\n",
       "      <td>0</td>\n",
       "      <td>0</td>\n",
       "      <td>0</td>\n",
       "      <td>1</td>\n",
       "      <td>1</td>\n",
       "      <td>0</td>\n",
       "    </tr>\n",
       "    <tr>\n",
       "      <th>598</th>\n",
       "      <td>0</td>\n",
       "      <td>0</td>\n",
       "      <td>0</td>\n",
       "      <td>1</td>\n",
       "      <td>0</td>\n",
       "      <td>0</td>\n",
       "      <td>1</td>\n",
       "      <td>0</td>\n",
       "      <td>0</td>\n",
       "      <td>1</td>\n",
       "      <td>0</td>\n",
       "      <td>1</td>\n",
       "    </tr>\n",
       "    <tr>\n",
       "      <th>599</th>\n",
       "      <td>1</td>\n",
       "      <td>0</td>\n",
       "      <td>1</td>\n",
       "      <td>0</td>\n",
       "      <td>0</td>\n",
       "      <td>1</td>\n",
       "      <td>0</td>\n",
       "      <td>0</td>\n",
       "      <td>0</td>\n",
       "      <td>0</td>\n",
       "      <td>1</td>\n",
       "      <td>1</td>\n",
       "    </tr>\n",
       "    <tr>\n",
       "      <th>600</th>\n",
       "      <td>1</td>\n",
       "      <td>1</td>\n",
       "      <td>0</td>\n",
       "      <td>0</td>\n",
       "      <td>0</td>\n",
       "      <td>1</td>\n",
       "      <td>0</td>\n",
       "      <td>0</td>\n",
       "      <td>0</td>\n",
       "      <td>0</td>\n",
       "      <td>0</td>\n",
       "      <td>1</td>\n",
       "    </tr>\n",
       "    <tr>\n",
       "      <th>601</th>\n",
       "      <td>1</td>\n",
       "      <td>0</td>\n",
       "      <td>0</td>\n",
       "      <td>0</td>\n",
       "      <td>0</td>\n",
       "      <td>0</td>\n",
       "      <td>0</td>\n",
       "      <td>0</td>\n",
       "      <td>0</td>\n",
       "      <td>1</td>\n",
       "      <td>0</td>\n",
       "      <td>0</td>\n",
       "    </tr>\n",
       "  </tbody>\n",
       "</table>\n",
       "<p>602 rows × 12 columns</p>\n",
       "</div>"
      ],
      "text/plain": [
       "     Ease and convenient_Disagree  More restaurant choices_Disagree  \\\n",
       "0                               0                                 0   \n",
       "1                               0                                 0   \n",
       "2                               0                                 0   \n",
       "3                               0                                 0   \n",
       "4                               0                                 0   \n",
       "..                            ...                               ...   \n",
       "597                             1                                 0   \n",
       "598                             0                                 0   \n",
       "599                             1                                 0   \n",
       "600                             1                                 1   \n",
       "601                             1                                 0   \n",
       "\n",
       "     Unaffordable_Agree  Occupation_Student  Missing item_Neutral  \\\n",
       "0                     0                   1                     0   \n",
       "1                     0                   1                     0   \n",
       "2                     1                   1                     0   \n",
       "3                     0                   1                     0   \n",
       "4                     0                   1                     1   \n",
       "..                  ...                 ...                   ...   \n",
       "597                   1                   0                     0   \n",
       "598                   0                   1                     0   \n",
       "599                   1                   0                     0   \n",
       "600                   0                   0                     0   \n",
       "601                   0                   0                     0   \n",
       "\n",
       "     Perference(P2)_ Sweets  Unavailability_Disagree  Late Delivery_Disagree  \\\n",
       "0                         0                        0                       0   \n",
       "1                         0                        0                       0   \n",
       "2                         0                        0                       0   \n",
       "3                         0                        1                       0   \n",
       "4                         0                        0                       0   \n",
       "..                      ...                      ...                     ...   \n",
       "597                       0                        0                       0   \n",
       "598                       0                        1                       0   \n",
       "599                       1                        0                       0   \n",
       "600                       1                        0                       0   \n",
       "601                       0                        0                       0   \n",
       "\n",
       "     Delay of delivery person getting assigned_Strongly agree  \\\n",
       "0                                                    0          \n",
       "1                                                    1          \n",
       "2                                                    0          \n",
       "3                                                    0          \n",
       "4                                                    1          \n",
       "..                                                 ...          \n",
       "597                                                  0          \n",
       "598                                                  0          \n",
       "599                                                  0          \n",
       "600                                                  0          \n",
       "601                                                  0          \n",
       "\n",
       "     Maximum wait time_15 minutes  High Quality of package_Important  \\\n",
       "0                               0                                  0   \n",
       "1                               0                                  0   \n",
       "2                               0                                  0   \n",
       "3                               0                                  1   \n",
       "4                               0                                  1   \n",
       "..                            ...                                ...   \n",
       "597                             1                                  1   \n",
       "598                             1                                  0   \n",
       "599                             0                                  1   \n",
       "600                             0                                  0   \n",
       "601                             1                                  0   \n",
       "\n",
       "     Good Tracking system_Agree  \n",
       "0                             0  \n",
       "1                             1  \n",
       "2                             0  \n",
       "3                             1  \n",
       "4                             0  \n",
       "..                          ...  \n",
       "597                           0  \n",
       "598                           1  \n",
       "599                           1  \n",
       "600                           1  \n",
       "601                           0  \n",
       "\n",
       "[602 rows x 12 columns]"
      ]
     },
     "execution_count": 105,
     "metadata": {},
     "output_type": "execute_result"
    }
   ],
   "source": [
    "X[l2]"
   ]
  },
  {
   "cell_type": "code",
   "execution_count": 106,
   "metadata": {
    "ExecuteTime": {
     "end_time": "2021-03-09T17:51:13.238614Z",
     "start_time": "2021-03-09T17:51:09.088245Z"
    }
   },
   "outputs": [],
   "source": [
    "\n",
    "for i in l2:\n",
    "    l1=[]\n",
    "    for j in l2:\n",
    "        df_t=pd.crosstab(X[j],X[i])\n",
    "        stat, p, dof, expected = st.chi2_contingency(df_t,correction=True)\n",
    "        t=min(df_t.shape)-1\n",
    "        deno=sum(df_t.sum())\n",
    "        x=np.sqrt(stat / deno)\n",
    "        l1.append(x)\n",
    "    relation_between_feature[i]=l1\n",
    "    \n",
    "\n",
    "\n",
    "\n",
    "        \n"
   ]
  },
  {
   "cell_type": "code",
   "execution_count": 107,
   "metadata": {
    "ExecuteTime": {
     "end_time": "2021-03-09T17:51:13.307573Z",
     "start_time": "2021-03-09T17:51:13.243607Z"
    },
    "scrolled": false
   },
   "outputs": [
    {
     "data": {
      "text/html": [
       "<div>\n",
       "<style scoped>\n",
       "    .dataframe tbody tr th:only-of-type {\n",
       "        vertical-align: middle;\n",
       "    }\n",
       "\n",
       "    .dataframe tbody tr th {\n",
       "        vertical-align: top;\n",
       "    }\n",
       "\n",
       "    .dataframe thead th {\n",
       "        text-align: right;\n",
       "    }\n",
       "</style>\n",
       "<table border=\"1\" class=\"dataframe\">\n",
       "  <thead>\n",
       "    <tr style=\"text-align: right;\">\n",
       "      <th></th>\n",
       "      <th>Ease and convenient_Disagree</th>\n",
       "      <th>More restaurant choices_Disagree</th>\n",
       "      <th>Unaffordable_Agree</th>\n",
       "      <th>Occupation_Student</th>\n",
       "      <th>Missing item_Neutral</th>\n",
       "      <th>Perference(P2)_ Sweets</th>\n",
       "      <th>Unavailability_Disagree</th>\n",
       "      <th>Late Delivery_Disagree</th>\n",
       "      <th>Delay of delivery person getting assigned_Strongly agree</th>\n",
       "      <th>Maximum wait time_15 minutes</th>\n",
       "      <th>High Quality of package_Important</th>\n",
       "      <th>Good Tracking system_Agree</th>\n",
       "    </tr>\n",
       "  </thead>\n",
       "  <tbody>\n",
       "    <tr>\n",
       "      <th>Ease and convenient_Disagree</th>\n",
       "      <td>0.996166</td>\n",
       "      <td>0.425019</td>\n",
       "      <td>0.261409</td>\n",
       "      <td>0.251448</td>\n",
       "      <td>0.045275</td>\n",
       "      <td>0.348319</td>\n",
       "      <td>0.117783</td>\n",
       "      <td>0.072012</td>\n",
       "      <td>0.148865</td>\n",
       "      <td>0.317685</td>\n",
       "      <td>0.158459</td>\n",
       "      <td>0.003268</td>\n",
       "    </tr>\n",
       "    <tr>\n",
       "      <th>More restaurant choices_Disagree</th>\n",
       "      <td>0.425019</td>\n",
       "      <td>0.995226</td>\n",
       "      <td>0.048547</td>\n",
       "      <td>0.349114</td>\n",
       "      <td>0.067990</td>\n",
       "      <td>0.262024</td>\n",
       "      <td>0.033006</td>\n",
       "      <td>0.050248</td>\n",
       "      <td>0.050472</td>\n",
       "      <td>0.213920</td>\n",
       "      <td>0.065485</td>\n",
       "      <td>0.002705</td>\n",
       "    </tr>\n",
       "    <tr>\n",
       "      <th>Unaffordable_Agree</th>\n",
       "      <td>0.261409</td>\n",
       "      <td>0.048547</td>\n",
       "      <td>0.995761</td>\n",
       "      <td>0.134963</td>\n",
       "      <td>0.064384</td>\n",
       "      <td>0.038766</td>\n",
       "      <td>0.252981</td>\n",
       "      <td>0.099661</td>\n",
       "      <td>0.001045</td>\n",
       "      <td>0.096381</td>\n",
       "      <td>0.096871</td>\n",
       "      <td>0.005415</td>\n",
       "    </tr>\n",
       "    <tr>\n",
       "      <th>Occupation_Student</th>\n",
       "      <td>0.251448</td>\n",
       "      <td>0.349114</td>\n",
       "      <td>0.134963</td>\n",
       "      <td>0.996624</td>\n",
       "      <td>0.027766</td>\n",
       "      <td>0.086597</td>\n",
       "      <td>0.106001</td>\n",
       "      <td>0.051357</td>\n",
       "      <td>0.058766</td>\n",
       "      <td>0.062646</td>\n",
       "      <td>0.025576</td>\n",
       "      <td>0.007005</td>\n",
       "    </tr>\n",
       "    <tr>\n",
       "      <th>Missing item_Neutral</th>\n",
       "      <td>0.045275</td>\n",
       "      <td>0.067990</td>\n",
       "      <td>0.064384</td>\n",
       "      <td>0.027766</td>\n",
       "      <td>0.994625</td>\n",
       "      <td>0.162228</td>\n",
       "      <td>0.132716</td>\n",
       "      <td>0.145009</td>\n",
       "      <td>0.091212</td>\n",
       "      <td>0.045630</td>\n",
       "      <td>0.218654</td>\n",
       "      <td>0.012951</td>\n",
       "    </tr>\n",
       "    <tr>\n",
       "      <th>Perference(P2)_ Sweets</th>\n",
       "      <td>0.348319</td>\n",
       "      <td>0.262024</td>\n",
       "      <td>0.038766</td>\n",
       "      <td>0.086597</td>\n",
       "      <td>0.162228</td>\n",
       "      <td>0.994828</td>\n",
       "      <td>0.163920</td>\n",
       "      <td>0.029762</td>\n",
       "      <td>0.086588</td>\n",
       "      <td>0.045136</td>\n",
       "      <td>0.090874</td>\n",
       "      <td>0.135377</td>\n",
       "    </tr>\n",
       "    <tr>\n",
       "      <th>Unavailability_Disagree</th>\n",
       "      <td>0.117783</td>\n",
       "      <td>0.033006</td>\n",
       "      <td>0.252981</td>\n",
       "      <td>0.106001</td>\n",
       "      <td>0.132716</td>\n",
       "      <td>0.163920</td>\n",
       "      <td>0.996359</td>\n",
       "      <td>0.015358</td>\n",
       "      <td>0.110546</td>\n",
       "      <td>0.145113</td>\n",
       "      <td>0.035120</td>\n",
       "      <td>0.034445</td>\n",
       "    </tr>\n",
       "    <tr>\n",
       "      <th>Late Delivery_Disagree</th>\n",
       "      <td>0.072012</td>\n",
       "      <td>0.050248</td>\n",
       "      <td>0.099661</td>\n",
       "      <td>0.051357</td>\n",
       "      <td>0.145009</td>\n",
       "      <td>0.029762</td>\n",
       "      <td>0.015358</td>\n",
       "      <td>0.993697</td>\n",
       "      <td>0.020871</td>\n",
       "      <td>0.020490</td>\n",
       "      <td>0.012679</td>\n",
       "      <td>0.065983</td>\n",
       "    </tr>\n",
       "    <tr>\n",
       "      <th>Delay of delivery person getting assigned_Strongly agree</th>\n",
       "      <td>0.148865</td>\n",
       "      <td>0.050472</td>\n",
       "      <td>0.001045</td>\n",
       "      <td>0.058766</td>\n",
       "      <td>0.091212</td>\n",
       "      <td>0.086588</td>\n",
       "      <td>0.110546</td>\n",
       "      <td>0.020871</td>\n",
       "      <td>0.992554</td>\n",
       "      <td>0.066383</td>\n",
       "      <td>0.114350</td>\n",
       "      <td>0.040118</td>\n",
       "    </tr>\n",
       "    <tr>\n",
       "      <th>Maximum wait time_15 minutes</th>\n",
       "      <td>0.317685</td>\n",
       "      <td>0.213920</td>\n",
       "      <td>0.096381</td>\n",
       "      <td>0.062646</td>\n",
       "      <td>0.045630</td>\n",
       "      <td>0.045136</td>\n",
       "      <td>0.145113</td>\n",
       "      <td>0.020490</td>\n",
       "      <td>0.066383</td>\n",
       "      <td>0.993855</td>\n",
       "      <td>0.063123</td>\n",
       "      <td>0.017115</td>\n",
       "    </tr>\n",
       "    <tr>\n",
       "      <th>High Quality of package_Important</th>\n",
       "      <td>0.158459</td>\n",
       "      <td>0.065485</td>\n",
       "      <td>0.096871</td>\n",
       "      <td>0.025576</td>\n",
       "      <td>0.218654</td>\n",
       "      <td>0.090874</td>\n",
       "      <td>0.035120</td>\n",
       "      <td>0.012679</td>\n",
       "      <td>0.114350</td>\n",
       "      <td>0.063123</td>\n",
       "      <td>0.996605</td>\n",
       "      <td>0.030606</td>\n",
       "    </tr>\n",
       "    <tr>\n",
       "      <th>Good Tracking system_Agree</th>\n",
       "      <td>0.003268</td>\n",
       "      <td>0.002705</td>\n",
       "      <td>0.005415</td>\n",
       "      <td>0.007005</td>\n",
       "      <td>0.012951</td>\n",
       "      <td>0.135377</td>\n",
       "      <td>0.034445</td>\n",
       "      <td>0.065983</td>\n",
       "      <td>0.040118</td>\n",
       "      <td>0.017115</td>\n",
       "      <td>0.030606</td>\n",
       "      <td>0.996563</td>\n",
       "    </tr>\n",
       "  </tbody>\n",
       "</table>\n",
       "</div>"
      ],
      "text/plain": [
       "                                                    Ease and convenient_Disagree  \\\n",
       "Ease and convenient_Disagree                                            0.996166   \n",
       "More restaurant choices_Disagree                                        0.425019   \n",
       "Unaffordable_Agree                                                      0.261409   \n",
       "Occupation_Student                                                      0.251448   \n",
       "Missing item_Neutral                                                    0.045275   \n",
       "Perference(P2)_ Sweets                                                  0.348319   \n",
       "Unavailability_Disagree                                                 0.117783   \n",
       "Late Delivery_Disagree                                                  0.072012   \n",
       "Delay of delivery person getting assigned_Stron...                      0.148865   \n",
       "Maximum wait time_15 minutes                                            0.317685   \n",
       "High Quality of package_Important                                       0.158459   \n",
       "Good Tracking system_Agree                                              0.003268   \n",
       "\n",
       "                                                    More restaurant choices_Disagree  \\\n",
       "Ease and convenient_Disagree                                                0.425019   \n",
       "More restaurant choices_Disagree                                            0.995226   \n",
       "Unaffordable_Agree                                                          0.048547   \n",
       "Occupation_Student                                                          0.349114   \n",
       "Missing item_Neutral                                                        0.067990   \n",
       "Perference(P2)_ Sweets                                                      0.262024   \n",
       "Unavailability_Disagree                                                     0.033006   \n",
       "Late Delivery_Disagree                                                      0.050248   \n",
       "Delay of delivery person getting assigned_Stron...                          0.050472   \n",
       "Maximum wait time_15 minutes                                                0.213920   \n",
       "High Quality of package_Important                                           0.065485   \n",
       "Good Tracking system_Agree                                                  0.002705   \n",
       "\n",
       "                                                    Unaffordable_Agree  \\\n",
       "Ease and convenient_Disagree                                  0.261409   \n",
       "More restaurant choices_Disagree                              0.048547   \n",
       "Unaffordable_Agree                                            0.995761   \n",
       "Occupation_Student                                            0.134963   \n",
       "Missing item_Neutral                                          0.064384   \n",
       "Perference(P2)_ Sweets                                        0.038766   \n",
       "Unavailability_Disagree                                       0.252981   \n",
       "Late Delivery_Disagree                                        0.099661   \n",
       "Delay of delivery person getting assigned_Stron...            0.001045   \n",
       "Maximum wait time_15 minutes                                  0.096381   \n",
       "High Quality of package_Important                             0.096871   \n",
       "Good Tracking system_Agree                                    0.005415   \n",
       "\n",
       "                                                    Occupation_Student  \\\n",
       "Ease and convenient_Disagree                                  0.251448   \n",
       "More restaurant choices_Disagree                              0.349114   \n",
       "Unaffordable_Agree                                            0.134963   \n",
       "Occupation_Student                                            0.996624   \n",
       "Missing item_Neutral                                          0.027766   \n",
       "Perference(P2)_ Sweets                                        0.086597   \n",
       "Unavailability_Disagree                                       0.106001   \n",
       "Late Delivery_Disagree                                        0.051357   \n",
       "Delay of delivery person getting assigned_Stron...            0.058766   \n",
       "Maximum wait time_15 minutes                                  0.062646   \n",
       "High Quality of package_Important                             0.025576   \n",
       "Good Tracking system_Agree                                    0.007005   \n",
       "\n",
       "                                                    Missing item_Neutral  \\\n",
       "Ease and convenient_Disagree                                    0.045275   \n",
       "More restaurant choices_Disagree                                0.067990   \n",
       "Unaffordable_Agree                                              0.064384   \n",
       "Occupation_Student                                              0.027766   \n",
       "Missing item_Neutral                                            0.994625   \n",
       "Perference(P2)_ Sweets                                          0.162228   \n",
       "Unavailability_Disagree                                         0.132716   \n",
       "Late Delivery_Disagree                                          0.145009   \n",
       "Delay of delivery person getting assigned_Stron...              0.091212   \n",
       "Maximum wait time_15 minutes                                    0.045630   \n",
       "High Quality of package_Important                               0.218654   \n",
       "Good Tracking system_Agree                                      0.012951   \n",
       "\n",
       "                                                    Perference(P2)_ Sweets  \\\n",
       "Ease and convenient_Disagree                                      0.348319   \n",
       "More restaurant choices_Disagree                                  0.262024   \n",
       "Unaffordable_Agree                                                0.038766   \n",
       "Occupation_Student                                                0.086597   \n",
       "Missing item_Neutral                                              0.162228   \n",
       "Perference(P2)_ Sweets                                            0.994828   \n",
       "Unavailability_Disagree                                           0.163920   \n",
       "Late Delivery_Disagree                                            0.029762   \n",
       "Delay of delivery person getting assigned_Stron...                0.086588   \n",
       "Maximum wait time_15 minutes                                      0.045136   \n",
       "High Quality of package_Important                                 0.090874   \n",
       "Good Tracking system_Agree                                        0.135377   \n",
       "\n",
       "                                                    Unavailability_Disagree  \\\n",
       "Ease and convenient_Disagree                                       0.117783   \n",
       "More restaurant choices_Disagree                                   0.033006   \n",
       "Unaffordable_Agree                                                 0.252981   \n",
       "Occupation_Student                                                 0.106001   \n",
       "Missing item_Neutral                                               0.132716   \n",
       "Perference(P2)_ Sweets                                             0.163920   \n",
       "Unavailability_Disagree                                            0.996359   \n",
       "Late Delivery_Disagree                                             0.015358   \n",
       "Delay of delivery person getting assigned_Stron...                 0.110546   \n",
       "Maximum wait time_15 minutes                                       0.145113   \n",
       "High Quality of package_Important                                  0.035120   \n",
       "Good Tracking system_Agree                                         0.034445   \n",
       "\n",
       "                                                    Late Delivery_Disagree  \\\n",
       "Ease and convenient_Disagree                                      0.072012   \n",
       "More restaurant choices_Disagree                                  0.050248   \n",
       "Unaffordable_Agree                                                0.099661   \n",
       "Occupation_Student                                                0.051357   \n",
       "Missing item_Neutral                                              0.145009   \n",
       "Perference(P2)_ Sweets                                            0.029762   \n",
       "Unavailability_Disagree                                           0.015358   \n",
       "Late Delivery_Disagree                                            0.993697   \n",
       "Delay of delivery person getting assigned_Stron...                0.020871   \n",
       "Maximum wait time_15 minutes                                      0.020490   \n",
       "High Quality of package_Important                                 0.012679   \n",
       "Good Tracking system_Agree                                        0.065983   \n",
       "\n",
       "                                                    Delay of delivery person getting assigned_Strongly agree  \\\n",
       "Ease and convenient_Disagree                                                                 0.148865          \n",
       "More restaurant choices_Disagree                                                             0.050472          \n",
       "Unaffordable_Agree                                                                           0.001045          \n",
       "Occupation_Student                                                                           0.058766          \n",
       "Missing item_Neutral                                                                         0.091212          \n",
       "Perference(P2)_ Sweets                                                                       0.086588          \n",
       "Unavailability_Disagree                                                                      0.110546          \n",
       "Late Delivery_Disagree                                                                       0.020871          \n",
       "Delay of delivery person getting assigned_Stron...                                           0.992554          \n",
       "Maximum wait time_15 minutes                                                                 0.066383          \n",
       "High Quality of package_Important                                                            0.114350          \n",
       "Good Tracking system_Agree                                                                   0.040118          \n",
       "\n",
       "                                                    Maximum wait time_15 minutes  \\\n",
       "Ease and convenient_Disagree                                            0.317685   \n",
       "More restaurant choices_Disagree                                        0.213920   \n",
       "Unaffordable_Agree                                                      0.096381   \n",
       "Occupation_Student                                                      0.062646   \n",
       "Missing item_Neutral                                                    0.045630   \n",
       "Perference(P2)_ Sweets                                                  0.045136   \n",
       "Unavailability_Disagree                                                 0.145113   \n",
       "Late Delivery_Disagree                                                  0.020490   \n",
       "Delay of delivery person getting assigned_Stron...                      0.066383   \n",
       "Maximum wait time_15 minutes                                            0.993855   \n",
       "High Quality of package_Important                                       0.063123   \n",
       "Good Tracking system_Agree                                              0.017115   \n",
       "\n",
       "                                                    High Quality of package_Important  \\\n",
       "Ease and convenient_Disagree                                                 0.158459   \n",
       "More restaurant choices_Disagree                                             0.065485   \n",
       "Unaffordable_Agree                                                           0.096871   \n",
       "Occupation_Student                                                           0.025576   \n",
       "Missing item_Neutral                                                         0.218654   \n",
       "Perference(P2)_ Sweets                                                       0.090874   \n",
       "Unavailability_Disagree                                                      0.035120   \n",
       "Late Delivery_Disagree                                                       0.012679   \n",
       "Delay of delivery person getting assigned_Stron...                           0.114350   \n",
       "Maximum wait time_15 minutes                                                 0.063123   \n",
       "High Quality of package_Important                                            0.996605   \n",
       "Good Tracking system_Agree                                                   0.030606   \n",
       "\n",
       "                                                    Good Tracking system_Agree  \n",
       "Ease and convenient_Disagree                                          0.003268  \n",
       "More restaurant choices_Disagree                                      0.002705  \n",
       "Unaffordable_Agree                                                    0.005415  \n",
       "Occupation_Student                                                    0.007005  \n",
       "Missing item_Neutral                                                  0.012951  \n",
       "Perference(P2)_ Sweets                                                0.135377  \n",
       "Unavailability_Disagree                                               0.034445  \n",
       "Late Delivery_Disagree                                                0.065983  \n",
       "Delay of delivery person getting assigned_Stron...                    0.040118  \n",
       "Maximum wait time_15 minutes                                          0.017115  \n",
       "High Quality of package_Important                                     0.030606  \n",
       "Good Tracking system_Agree                                            0.996563  "
      ]
     },
     "execution_count": 107,
     "metadata": {},
     "output_type": "execute_result"
    }
   ],
   "source": [
    "relation_between_feature"
   ]
  },
  {
   "cell_type": "code",
   "execution_count": 108,
   "metadata": {
    "ExecuteTime": {
     "end_time": "2021-03-09T17:51:13.418164Z",
     "start_time": "2021-03-09T17:51:13.312222Z"
    }
   },
   "outputs": [
    {
     "data": {
      "text/plain": [
       "(388, 51)"
      ]
     },
     "execution_count": 108,
     "metadata": {},
     "output_type": "execute_result"
    }
   ],
   "source": [
    "fd_dlvry.shape"
   ]
  },
  {
   "cell_type": "code",
   "execution_count": 109,
   "metadata": {
    "ExecuteTime": {
     "end_time": "2021-03-09T17:51:13.895890Z",
     "start_time": "2021-03-09T17:51:13.424182Z"
    },
    "scrolled": false
   },
   "outputs": [
    {
     "data": {
      "text/html": [
       "<style  type=\"text/css\" >\n",
       "#T_fecaf_row0_col1,#T_fecaf_row0_col2,#T_fecaf_row0_col3,#T_fecaf_row0_col5,#T_fecaf_row0_col9,#T_fecaf_row1_col0,#T_fecaf_row1_col3,#T_fecaf_row1_col5,#T_fecaf_row2_col0,#T_fecaf_row2_col6,#T_fecaf_row3_col0,#T_fecaf_row3_col1,#T_fecaf_row5_col0,#T_fecaf_row5_col1,#T_fecaf_row6_col2,#T_fecaf_row9_col0{\n",
       "            background:  red;\n",
       "        }</style><table id=\"T_fecaf_\" ><thead>    <tr>        <th class=\"blank level0\" ></th>        <th class=\"col_heading level0 col0\" >Ease and convenient_Disagree</th>        <th class=\"col_heading level0 col1\" >More restaurant choices_Disagree</th>        <th class=\"col_heading level0 col2\" >Unaffordable_Agree</th>        <th class=\"col_heading level0 col3\" >Occupation_Student</th>        <th class=\"col_heading level0 col4\" >Missing item_Neutral</th>        <th class=\"col_heading level0 col5\" >Perference(P2)_ Sweets</th>        <th class=\"col_heading level0 col6\" >Unavailability_Disagree</th>        <th class=\"col_heading level0 col7\" >Late Delivery_Disagree</th>        <th class=\"col_heading level0 col8\" >Delay of delivery person getting assigned_Strongly agree</th>        <th class=\"col_heading level0 col9\" >Maximum wait time_15 minutes</th>        <th class=\"col_heading level0 col10\" >High Quality of package_Important</th>        <th class=\"col_heading level0 col11\" >Good Tracking system_Agree</th>    </tr></thead><tbody>\n",
       "                <tr>\n",
       "                        <th id=\"T_fecaf_level0_row0\" class=\"row_heading level0 row0\" >Ease and convenient_Disagree</th>\n",
       "                        <td id=\"T_fecaf_row0_col0\" class=\"data row0 col0\" >0.996166</td>\n",
       "                        <td id=\"T_fecaf_row0_col1\" class=\"data row0 col1\" >0.425019</td>\n",
       "                        <td id=\"T_fecaf_row0_col2\" class=\"data row0 col2\" >0.261409</td>\n",
       "                        <td id=\"T_fecaf_row0_col3\" class=\"data row0 col3\" >0.251448</td>\n",
       "                        <td id=\"T_fecaf_row0_col4\" class=\"data row0 col4\" >0.045275</td>\n",
       "                        <td id=\"T_fecaf_row0_col5\" class=\"data row0 col5\" >0.348319</td>\n",
       "                        <td id=\"T_fecaf_row0_col6\" class=\"data row0 col6\" >0.117783</td>\n",
       "                        <td id=\"T_fecaf_row0_col7\" class=\"data row0 col7\" >0.072012</td>\n",
       "                        <td id=\"T_fecaf_row0_col8\" class=\"data row0 col8\" >0.148865</td>\n",
       "                        <td id=\"T_fecaf_row0_col9\" class=\"data row0 col9\" >0.317685</td>\n",
       "                        <td id=\"T_fecaf_row0_col10\" class=\"data row0 col10\" >0.158459</td>\n",
       "                        <td id=\"T_fecaf_row0_col11\" class=\"data row0 col11\" >0.003268</td>\n",
       "            </tr>\n",
       "            <tr>\n",
       "                        <th id=\"T_fecaf_level0_row1\" class=\"row_heading level0 row1\" >More restaurant choices_Disagree</th>\n",
       "                        <td id=\"T_fecaf_row1_col0\" class=\"data row1 col0\" >0.425019</td>\n",
       "                        <td id=\"T_fecaf_row1_col1\" class=\"data row1 col1\" >0.995226</td>\n",
       "                        <td id=\"T_fecaf_row1_col2\" class=\"data row1 col2\" >0.048547</td>\n",
       "                        <td id=\"T_fecaf_row1_col3\" class=\"data row1 col3\" >0.349114</td>\n",
       "                        <td id=\"T_fecaf_row1_col4\" class=\"data row1 col4\" >0.067990</td>\n",
       "                        <td id=\"T_fecaf_row1_col5\" class=\"data row1 col5\" >0.262024</td>\n",
       "                        <td id=\"T_fecaf_row1_col6\" class=\"data row1 col6\" >0.033006</td>\n",
       "                        <td id=\"T_fecaf_row1_col7\" class=\"data row1 col7\" >0.050248</td>\n",
       "                        <td id=\"T_fecaf_row1_col8\" class=\"data row1 col8\" >0.050472</td>\n",
       "                        <td id=\"T_fecaf_row1_col9\" class=\"data row1 col9\" >0.213920</td>\n",
       "                        <td id=\"T_fecaf_row1_col10\" class=\"data row1 col10\" >0.065485</td>\n",
       "                        <td id=\"T_fecaf_row1_col11\" class=\"data row1 col11\" >0.002705</td>\n",
       "            </tr>\n",
       "            <tr>\n",
       "                        <th id=\"T_fecaf_level0_row2\" class=\"row_heading level0 row2\" >Unaffordable_Agree</th>\n",
       "                        <td id=\"T_fecaf_row2_col0\" class=\"data row2 col0\" >0.261409</td>\n",
       "                        <td id=\"T_fecaf_row2_col1\" class=\"data row2 col1\" >0.048547</td>\n",
       "                        <td id=\"T_fecaf_row2_col2\" class=\"data row2 col2\" >0.995761</td>\n",
       "                        <td id=\"T_fecaf_row2_col3\" class=\"data row2 col3\" >0.134963</td>\n",
       "                        <td id=\"T_fecaf_row2_col4\" class=\"data row2 col4\" >0.064384</td>\n",
       "                        <td id=\"T_fecaf_row2_col5\" class=\"data row2 col5\" >0.038766</td>\n",
       "                        <td id=\"T_fecaf_row2_col6\" class=\"data row2 col6\" >0.252981</td>\n",
       "                        <td id=\"T_fecaf_row2_col7\" class=\"data row2 col7\" >0.099661</td>\n",
       "                        <td id=\"T_fecaf_row2_col8\" class=\"data row2 col8\" >0.001045</td>\n",
       "                        <td id=\"T_fecaf_row2_col9\" class=\"data row2 col9\" >0.096381</td>\n",
       "                        <td id=\"T_fecaf_row2_col10\" class=\"data row2 col10\" >0.096871</td>\n",
       "                        <td id=\"T_fecaf_row2_col11\" class=\"data row2 col11\" >0.005415</td>\n",
       "            </tr>\n",
       "            <tr>\n",
       "                        <th id=\"T_fecaf_level0_row3\" class=\"row_heading level0 row3\" >Occupation_Student</th>\n",
       "                        <td id=\"T_fecaf_row3_col0\" class=\"data row3 col0\" >0.251448</td>\n",
       "                        <td id=\"T_fecaf_row3_col1\" class=\"data row3 col1\" >0.349114</td>\n",
       "                        <td id=\"T_fecaf_row3_col2\" class=\"data row3 col2\" >0.134963</td>\n",
       "                        <td id=\"T_fecaf_row3_col3\" class=\"data row3 col3\" >0.996624</td>\n",
       "                        <td id=\"T_fecaf_row3_col4\" class=\"data row3 col4\" >0.027766</td>\n",
       "                        <td id=\"T_fecaf_row3_col5\" class=\"data row3 col5\" >0.086597</td>\n",
       "                        <td id=\"T_fecaf_row3_col6\" class=\"data row3 col6\" >0.106001</td>\n",
       "                        <td id=\"T_fecaf_row3_col7\" class=\"data row3 col7\" >0.051357</td>\n",
       "                        <td id=\"T_fecaf_row3_col8\" class=\"data row3 col8\" >0.058766</td>\n",
       "                        <td id=\"T_fecaf_row3_col9\" class=\"data row3 col9\" >0.062646</td>\n",
       "                        <td id=\"T_fecaf_row3_col10\" class=\"data row3 col10\" >0.025576</td>\n",
       "                        <td id=\"T_fecaf_row3_col11\" class=\"data row3 col11\" >0.007005</td>\n",
       "            </tr>\n",
       "            <tr>\n",
       "                        <th id=\"T_fecaf_level0_row4\" class=\"row_heading level0 row4\" >Missing item_Neutral</th>\n",
       "                        <td id=\"T_fecaf_row4_col0\" class=\"data row4 col0\" >0.045275</td>\n",
       "                        <td id=\"T_fecaf_row4_col1\" class=\"data row4 col1\" >0.067990</td>\n",
       "                        <td id=\"T_fecaf_row4_col2\" class=\"data row4 col2\" >0.064384</td>\n",
       "                        <td id=\"T_fecaf_row4_col3\" class=\"data row4 col3\" >0.027766</td>\n",
       "                        <td id=\"T_fecaf_row4_col4\" class=\"data row4 col4\" >0.994625</td>\n",
       "                        <td id=\"T_fecaf_row4_col5\" class=\"data row4 col5\" >0.162228</td>\n",
       "                        <td id=\"T_fecaf_row4_col6\" class=\"data row4 col6\" >0.132716</td>\n",
       "                        <td id=\"T_fecaf_row4_col7\" class=\"data row4 col7\" >0.145009</td>\n",
       "                        <td id=\"T_fecaf_row4_col8\" class=\"data row4 col8\" >0.091212</td>\n",
       "                        <td id=\"T_fecaf_row4_col9\" class=\"data row4 col9\" >0.045630</td>\n",
       "                        <td id=\"T_fecaf_row4_col10\" class=\"data row4 col10\" >0.218654</td>\n",
       "                        <td id=\"T_fecaf_row4_col11\" class=\"data row4 col11\" >0.012951</td>\n",
       "            </tr>\n",
       "            <tr>\n",
       "                        <th id=\"T_fecaf_level0_row5\" class=\"row_heading level0 row5\" >Perference(P2)_ Sweets</th>\n",
       "                        <td id=\"T_fecaf_row5_col0\" class=\"data row5 col0\" >0.348319</td>\n",
       "                        <td id=\"T_fecaf_row5_col1\" class=\"data row5 col1\" >0.262024</td>\n",
       "                        <td id=\"T_fecaf_row5_col2\" class=\"data row5 col2\" >0.038766</td>\n",
       "                        <td id=\"T_fecaf_row5_col3\" class=\"data row5 col3\" >0.086597</td>\n",
       "                        <td id=\"T_fecaf_row5_col4\" class=\"data row5 col4\" >0.162228</td>\n",
       "                        <td id=\"T_fecaf_row5_col5\" class=\"data row5 col5\" >0.994828</td>\n",
       "                        <td id=\"T_fecaf_row5_col6\" class=\"data row5 col6\" >0.163920</td>\n",
       "                        <td id=\"T_fecaf_row5_col7\" class=\"data row5 col7\" >0.029762</td>\n",
       "                        <td id=\"T_fecaf_row5_col8\" class=\"data row5 col8\" >0.086588</td>\n",
       "                        <td id=\"T_fecaf_row5_col9\" class=\"data row5 col9\" >0.045136</td>\n",
       "                        <td id=\"T_fecaf_row5_col10\" class=\"data row5 col10\" >0.090874</td>\n",
       "                        <td id=\"T_fecaf_row5_col11\" class=\"data row5 col11\" >0.135377</td>\n",
       "            </tr>\n",
       "            <tr>\n",
       "                        <th id=\"T_fecaf_level0_row6\" class=\"row_heading level0 row6\" >Unavailability_Disagree</th>\n",
       "                        <td id=\"T_fecaf_row6_col0\" class=\"data row6 col0\" >0.117783</td>\n",
       "                        <td id=\"T_fecaf_row6_col1\" class=\"data row6 col1\" >0.033006</td>\n",
       "                        <td id=\"T_fecaf_row6_col2\" class=\"data row6 col2\" >0.252981</td>\n",
       "                        <td id=\"T_fecaf_row6_col3\" class=\"data row6 col3\" >0.106001</td>\n",
       "                        <td id=\"T_fecaf_row6_col4\" class=\"data row6 col4\" >0.132716</td>\n",
       "                        <td id=\"T_fecaf_row6_col5\" class=\"data row6 col5\" >0.163920</td>\n",
       "                        <td id=\"T_fecaf_row6_col6\" class=\"data row6 col6\" >0.996359</td>\n",
       "                        <td id=\"T_fecaf_row6_col7\" class=\"data row6 col7\" >0.015358</td>\n",
       "                        <td id=\"T_fecaf_row6_col8\" class=\"data row6 col8\" >0.110546</td>\n",
       "                        <td id=\"T_fecaf_row6_col9\" class=\"data row6 col9\" >0.145113</td>\n",
       "                        <td id=\"T_fecaf_row6_col10\" class=\"data row6 col10\" >0.035120</td>\n",
       "                        <td id=\"T_fecaf_row6_col11\" class=\"data row6 col11\" >0.034445</td>\n",
       "            </tr>\n",
       "            <tr>\n",
       "                        <th id=\"T_fecaf_level0_row7\" class=\"row_heading level0 row7\" >Late Delivery_Disagree</th>\n",
       "                        <td id=\"T_fecaf_row7_col0\" class=\"data row7 col0\" >0.072012</td>\n",
       "                        <td id=\"T_fecaf_row7_col1\" class=\"data row7 col1\" >0.050248</td>\n",
       "                        <td id=\"T_fecaf_row7_col2\" class=\"data row7 col2\" >0.099661</td>\n",
       "                        <td id=\"T_fecaf_row7_col3\" class=\"data row7 col3\" >0.051357</td>\n",
       "                        <td id=\"T_fecaf_row7_col4\" class=\"data row7 col4\" >0.145009</td>\n",
       "                        <td id=\"T_fecaf_row7_col5\" class=\"data row7 col5\" >0.029762</td>\n",
       "                        <td id=\"T_fecaf_row7_col6\" class=\"data row7 col6\" >0.015358</td>\n",
       "                        <td id=\"T_fecaf_row7_col7\" class=\"data row7 col7\" >0.993697</td>\n",
       "                        <td id=\"T_fecaf_row7_col8\" class=\"data row7 col8\" >0.020871</td>\n",
       "                        <td id=\"T_fecaf_row7_col9\" class=\"data row7 col9\" >0.020490</td>\n",
       "                        <td id=\"T_fecaf_row7_col10\" class=\"data row7 col10\" >0.012679</td>\n",
       "                        <td id=\"T_fecaf_row7_col11\" class=\"data row7 col11\" >0.065983</td>\n",
       "            </tr>\n",
       "            <tr>\n",
       "                        <th id=\"T_fecaf_level0_row8\" class=\"row_heading level0 row8\" >Delay of delivery person getting assigned_Strongly agree</th>\n",
       "                        <td id=\"T_fecaf_row8_col0\" class=\"data row8 col0\" >0.148865</td>\n",
       "                        <td id=\"T_fecaf_row8_col1\" class=\"data row8 col1\" >0.050472</td>\n",
       "                        <td id=\"T_fecaf_row8_col2\" class=\"data row8 col2\" >0.001045</td>\n",
       "                        <td id=\"T_fecaf_row8_col3\" class=\"data row8 col3\" >0.058766</td>\n",
       "                        <td id=\"T_fecaf_row8_col4\" class=\"data row8 col4\" >0.091212</td>\n",
       "                        <td id=\"T_fecaf_row8_col5\" class=\"data row8 col5\" >0.086588</td>\n",
       "                        <td id=\"T_fecaf_row8_col6\" class=\"data row8 col6\" >0.110546</td>\n",
       "                        <td id=\"T_fecaf_row8_col7\" class=\"data row8 col7\" >0.020871</td>\n",
       "                        <td id=\"T_fecaf_row8_col8\" class=\"data row8 col8\" >0.992554</td>\n",
       "                        <td id=\"T_fecaf_row8_col9\" class=\"data row8 col9\" >0.066383</td>\n",
       "                        <td id=\"T_fecaf_row8_col10\" class=\"data row8 col10\" >0.114350</td>\n",
       "                        <td id=\"T_fecaf_row8_col11\" class=\"data row8 col11\" >0.040118</td>\n",
       "            </tr>\n",
       "            <tr>\n",
       "                        <th id=\"T_fecaf_level0_row9\" class=\"row_heading level0 row9\" >Maximum wait time_15 minutes</th>\n",
       "                        <td id=\"T_fecaf_row9_col0\" class=\"data row9 col0\" >0.317685</td>\n",
       "                        <td id=\"T_fecaf_row9_col1\" class=\"data row9 col1\" >0.213920</td>\n",
       "                        <td id=\"T_fecaf_row9_col2\" class=\"data row9 col2\" >0.096381</td>\n",
       "                        <td id=\"T_fecaf_row9_col3\" class=\"data row9 col3\" >0.062646</td>\n",
       "                        <td id=\"T_fecaf_row9_col4\" class=\"data row9 col4\" >0.045630</td>\n",
       "                        <td id=\"T_fecaf_row9_col5\" class=\"data row9 col5\" >0.045136</td>\n",
       "                        <td id=\"T_fecaf_row9_col6\" class=\"data row9 col6\" >0.145113</td>\n",
       "                        <td id=\"T_fecaf_row9_col7\" class=\"data row9 col7\" >0.020490</td>\n",
       "                        <td id=\"T_fecaf_row9_col8\" class=\"data row9 col8\" >0.066383</td>\n",
       "                        <td id=\"T_fecaf_row9_col9\" class=\"data row9 col9\" >0.993855</td>\n",
       "                        <td id=\"T_fecaf_row9_col10\" class=\"data row9 col10\" >0.063123</td>\n",
       "                        <td id=\"T_fecaf_row9_col11\" class=\"data row9 col11\" >0.017115</td>\n",
       "            </tr>\n",
       "            <tr>\n",
       "                        <th id=\"T_fecaf_level0_row10\" class=\"row_heading level0 row10\" >High Quality of package_Important</th>\n",
       "                        <td id=\"T_fecaf_row10_col0\" class=\"data row10 col0\" >0.158459</td>\n",
       "                        <td id=\"T_fecaf_row10_col1\" class=\"data row10 col1\" >0.065485</td>\n",
       "                        <td id=\"T_fecaf_row10_col2\" class=\"data row10 col2\" >0.096871</td>\n",
       "                        <td id=\"T_fecaf_row10_col3\" class=\"data row10 col3\" >0.025576</td>\n",
       "                        <td id=\"T_fecaf_row10_col4\" class=\"data row10 col4\" >0.218654</td>\n",
       "                        <td id=\"T_fecaf_row10_col5\" class=\"data row10 col5\" >0.090874</td>\n",
       "                        <td id=\"T_fecaf_row10_col6\" class=\"data row10 col6\" >0.035120</td>\n",
       "                        <td id=\"T_fecaf_row10_col7\" class=\"data row10 col7\" >0.012679</td>\n",
       "                        <td id=\"T_fecaf_row10_col8\" class=\"data row10 col8\" >0.114350</td>\n",
       "                        <td id=\"T_fecaf_row10_col9\" class=\"data row10 col9\" >0.063123</td>\n",
       "                        <td id=\"T_fecaf_row10_col10\" class=\"data row10 col10\" >0.996605</td>\n",
       "                        <td id=\"T_fecaf_row10_col11\" class=\"data row10 col11\" >0.030606</td>\n",
       "            </tr>\n",
       "            <tr>\n",
       "                        <th id=\"T_fecaf_level0_row11\" class=\"row_heading level0 row11\" >Good Tracking system_Agree</th>\n",
       "                        <td id=\"T_fecaf_row11_col0\" class=\"data row11 col0\" >0.003268</td>\n",
       "                        <td id=\"T_fecaf_row11_col1\" class=\"data row11 col1\" >0.002705</td>\n",
       "                        <td id=\"T_fecaf_row11_col2\" class=\"data row11 col2\" >0.005415</td>\n",
       "                        <td id=\"T_fecaf_row11_col3\" class=\"data row11 col3\" >0.007005</td>\n",
       "                        <td id=\"T_fecaf_row11_col4\" class=\"data row11 col4\" >0.012951</td>\n",
       "                        <td id=\"T_fecaf_row11_col5\" class=\"data row11 col5\" >0.135377</td>\n",
       "                        <td id=\"T_fecaf_row11_col6\" class=\"data row11 col6\" >0.034445</td>\n",
       "                        <td id=\"T_fecaf_row11_col7\" class=\"data row11 col7\" >0.065983</td>\n",
       "                        <td id=\"T_fecaf_row11_col8\" class=\"data row11 col8\" >0.040118</td>\n",
       "                        <td id=\"T_fecaf_row11_col9\" class=\"data row11 col9\" >0.017115</td>\n",
       "                        <td id=\"T_fecaf_row11_col10\" class=\"data row11 col10\" >0.030606</td>\n",
       "                        <td id=\"T_fecaf_row11_col11\" class=\"data row11 col11\" >0.996563</td>\n",
       "            </tr>\n",
       "    </tbody></table>"
      ],
      "text/plain": [
       "<pandas.io.formats.style.Styler at 0x23720329708>"
      ]
     },
     "execution_count": 109,
     "metadata": {},
     "output_type": "execute_result"
    }
   ],
   "source": [
    "relation_between_feature.style.apply(lambda x: [\"background: red\" if v>0.25 and v<0.99 else \"\" for v in x], axis = 1)"
   ]
  },
  {
   "cell_type": "code",
   "execution_count": 110,
   "metadata": {
    "ExecuteTime": {
     "end_time": "2021-03-09T17:51:13.909880Z",
     "start_time": "2021-03-09T17:51:13.899886Z"
    }
   },
   "outputs": [],
   "source": [
    "multicolinear_feature=[\"Perference(P2)_ Sweets\",\"Maximum wait time_15 minutes\",\"More restaurant choices_Disagree\"]"
   ]
  },
  {
   "cell_type": "code",
   "execution_count": 111,
   "metadata": {
    "ExecuteTime": {
     "end_time": "2021-03-09T17:51:14.006824Z",
     "start_time": "2021-03-09T17:51:13.915877Z"
    }
   },
   "outputs": [],
   "source": [
    "final_feature=list(relation_between_feature.columns)"
   ]
  },
  {
   "cell_type": "code",
   "execution_count": 112,
   "metadata": {
    "ExecuteTime": {
     "end_time": "2021-03-09T17:51:14.104771Z",
     "start_time": "2021-03-09T17:51:14.011822Z"
    }
   },
   "outputs": [
    {
     "data": {
      "text/plain": [
       "['Ease and convenient_Disagree',\n",
       " 'More restaurant choices_Disagree',\n",
       " 'Unaffordable_Agree',\n",
       " 'Occupation_Student',\n",
       " 'Missing item_Neutral',\n",
       " 'Perference(P2)_ Sweets',\n",
       " 'Unavailability_Disagree',\n",
       " 'Late Delivery_Disagree',\n",
       " 'Delay of delivery person getting assigned_Strongly agree',\n",
       " 'Maximum wait time_15 minutes',\n",
       " 'High Quality of package_Important',\n",
       " 'Good Tracking system_Agree']"
      ]
     },
     "execution_count": 112,
     "metadata": {},
     "output_type": "execute_result"
    }
   ],
   "source": [
    "final_feature"
   ]
  },
  {
   "cell_type": "code",
   "execution_count": 113,
   "metadata": {
    "ExecuteTime": {
     "end_time": "2021-03-09T17:51:14.201714Z",
     "start_time": "2021-03-09T17:51:14.108767Z"
    }
   },
   "outputs": [],
   "source": [
    "set1 = set(final_feature)\n",
    "set2 = set(multicolinear_feature)\n",
    "final_feature = list(set1 - set2)"
   ]
  },
  {
   "cell_type": "code",
   "execution_count": 114,
   "metadata": {
    "ExecuteTime": {
     "end_time": "2021-03-09T17:51:14.282667Z",
     "start_time": "2021-03-09T17:51:14.205712Z"
    }
   },
   "outputs": [
    {
     "data": {
      "text/plain": [
       "['High Quality of package_Important',\n",
       " 'Occupation_Student',\n",
       " 'Unaffordable_Agree',\n",
       " 'Delay of delivery person getting assigned_Strongly agree',\n",
       " 'Late Delivery_Disagree',\n",
       " 'Good Tracking system_Agree',\n",
       " 'Missing item_Neutral',\n",
       " 'Unavailability_Disagree',\n",
       " 'Ease and convenient_Disagree']"
      ]
     },
     "execution_count": 114,
     "metadata": {},
     "output_type": "execute_result"
    }
   ],
   "source": [
    "final_feature"
   ]
  },
  {
   "cell_type": "code",
   "execution_count": 115,
   "metadata": {
    "ExecuteTime": {
     "end_time": "2021-03-09T17:51:15.402215Z",
     "start_time": "2021-03-09T17:51:14.286665Z"
    }
   },
   "outputs": [
    {
     "data": {
      "text/plain": [
       "'fgini.png'"
      ]
     },
     "execution_count": 115,
     "metadata": {},
     "output_type": "execute_result"
    }
   ],
   "source": [
    "\n",
    "import graphviz\n",
    "import sklearn.tree as tree\n",
    "# DOT data\n",
    "dot_data = tree.export_graphviz(clf, out_file=None, \n",
    "                                feature_names=X.columns,  \n",
    "                                class_names='01',\n",
    "                                filled=True)\n",
    "\n",
    "# # Draw graph\n",
    "graph = graphviz.Source(dot_data,format=\"png\") \n",
    "graph.render('fgini')\n",
    "# graph"
   ]
  },
  {
   "cell_type": "markdown",
   "metadata": {},
   "source": [
    "# Decesion Tree model"
   ]
  },
  {
   "cell_type": "code",
   "execution_count": 116,
   "metadata": {
    "ExecuteTime": {
     "end_time": "2021-03-09T17:51:15.464525Z",
     "start_time": "2021-03-09T17:51:15.402215Z"
    }
   },
   "outputs": [],
   "source": [
    "fd_dlvry=pd.read_csv('../../data/Banglore_food_delivery/onlinedeliverydata.csv')\n",
    "\n",
    "fd_dlvry.drop(['Pin code','longitude','latitude','Reviews'],axis=1,inplace=True)\n",
    "\n",
    "fd_dlvry['Output']=fd_dlvry['Output'].replace({'Yes':1,'No':0})"
   ]
  },
  {
   "cell_type": "code",
   "execution_count": 117,
   "metadata": {
    "ExecuteTime": {
     "end_time": "2021-03-09T17:51:15.625511Z",
     "start_time": "2021-03-09T17:51:15.464525Z"
    }
   },
   "outputs": [
    {
     "data": {
      "text/html": [
       "<div>\n",
       "<style scoped>\n",
       "    .dataframe tbody tr th:only-of-type {\n",
       "        vertical-align: middle;\n",
       "    }\n",
       "\n",
       "    .dataframe tbody tr th {\n",
       "        vertical-align: top;\n",
       "    }\n",
       "\n",
       "    .dataframe thead th {\n",
       "        text-align: right;\n",
       "    }\n",
       "</style>\n",
       "<table border=\"1\" class=\"dataframe\">\n",
       "  <thead>\n",
       "    <tr style=\"text-align: right;\">\n",
       "      <th></th>\n",
       "      <th>Age</th>\n",
       "      <th>Gender</th>\n",
       "      <th>Marital Status</th>\n",
       "      <th>Occupation</th>\n",
       "      <th>Monthly Income</th>\n",
       "      <th>Educational Qualifications</th>\n",
       "      <th>Family size</th>\n",
       "      <th>Medium (P1)</th>\n",
       "      <th>Medium (P2)</th>\n",
       "      <th>Meal(P1)</th>\n",
       "      <th>...</th>\n",
       "      <th>Influence of rating</th>\n",
       "      <th>Less Delivery time</th>\n",
       "      <th>High Quality of package</th>\n",
       "      <th>Number of calls</th>\n",
       "      <th>Politeness</th>\n",
       "      <th>Freshness</th>\n",
       "      <th>Temperature</th>\n",
       "      <th>Good Taste</th>\n",
       "      <th>Good Quantity</th>\n",
       "      <th>Output</th>\n",
       "    </tr>\n",
       "  </thead>\n",
       "  <tbody>\n",
       "    <tr>\n",
       "      <th>0</th>\n",
       "      <td>20</td>\n",
       "      <td>Female</td>\n",
       "      <td>Single</td>\n",
       "      <td>Student</td>\n",
       "      <td>No Income</td>\n",
       "      <td>Post Graduate</td>\n",
       "      <td>4</td>\n",
       "      <td>Food delivery apps</td>\n",
       "      <td>Web browser</td>\n",
       "      <td>Breakfast</td>\n",
       "      <td>...</td>\n",
       "      <td>Yes</td>\n",
       "      <td>Moderately Important</td>\n",
       "      <td>Moderately Important</td>\n",
       "      <td>Moderately Important</td>\n",
       "      <td>Moderately Important</td>\n",
       "      <td>Moderately Important</td>\n",
       "      <td>Moderately Important</td>\n",
       "      <td>Moderately Important</td>\n",
       "      <td>Moderately Important</td>\n",
       "      <td>1</td>\n",
       "    </tr>\n",
       "    <tr>\n",
       "      <th>1</th>\n",
       "      <td>24</td>\n",
       "      <td>Female</td>\n",
       "      <td>Single</td>\n",
       "      <td>Student</td>\n",
       "      <td>Below Rs.10000</td>\n",
       "      <td>Graduate</td>\n",
       "      <td>3</td>\n",
       "      <td>Food delivery apps</td>\n",
       "      <td>Web browser</td>\n",
       "      <td>Snacks</td>\n",
       "      <td>...</td>\n",
       "      <td>Yes</td>\n",
       "      <td>Very Important</td>\n",
       "      <td>Very Important</td>\n",
       "      <td>Very Important</td>\n",
       "      <td>Very Important</td>\n",
       "      <td>Very Important</td>\n",
       "      <td>Very Important</td>\n",
       "      <td>Very Important</td>\n",
       "      <td>Very Important</td>\n",
       "      <td>1</td>\n",
       "    </tr>\n",
       "    <tr>\n",
       "      <th>2</th>\n",
       "      <td>22</td>\n",
       "      <td>Male</td>\n",
       "      <td>Single</td>\n",
       "      <td>Student</td>\n",
       "      <td>Below Rs.10000</td>\n",
       "      <td>Post Graduate</td>\n",
       "      <td>3</td>\n",
       "      <td>Food delivery apps</td>\n",
       "      <td>Direct call</td>\n",
       "      <td>Lunch</td>\n",
       "      <td>...</td>\n",
       "      <td>Yes</td>\n",
       "      <td>Important</td>\n",
       "      <td>Very Important</td>\n",
       "      <td>Moderately Important</td>\n",
       "      <td>Very Important</td>\n",
       "      <td>Very Important</td>\n",
       "      <td>Important</td>\n",
       "      <td>Very Important</td>\n",
       "      <td>Moderately Important</td>\n",
       "      <td>1</td>\n",
       "    </tr>\n",
       "    <tr>\n",
       "      <th>3</th>\n",
       "      <td>22</td>\n",
       "      <td>Female</td>\n",
       "      <td>Single</td>\n",
       "      <td>Student</td>\n",
       "      <td>No Income</td>\n",
       "      <td>Graduate</td>\n",
       "      <td>6</td>\n",
       "      <td>Food delivery apps</td>\n",
       "      <td>Walk-in</td>\n",
       "      <td>Snacks</td>\n",
       "      <td>...</td>\n",
       "      <td>Yes</td>\n",
       "      <td>Very Important</td>\n",
       "      <td>Important</td>\n",
       "      <td>Moderately Important</td>\n",
       "      <td>Very Important</td>\n",
       "      <td>Very Important</td>\n",
       "      <td>Very Important</td>\n",
       "      <td>Very Important</td>\n",
       "      <td>Important</td>\n",
       "      <td>1</td>\n",
       "    </tr>\n",
       "    <tr>\n",
       "      <th>4</th>\n",
       "      <td>22</td>\n",
       "      <td>Male</td>\n",
       "      <td>Single</td>\n",
       "      <td>Student</td>\n",
       "      <td>Below Rs.10000</td>\n",
       "      <td>Post Graduate</td>\n",
       "      <td>4</td>\n",
       "      <td>Walk-in</td>\n",
       "      <td>Direct call</td>\n",
       "      <td>Lunch</td>\n",
       "      <td>...</td>\n",
       "      <td>Yes</td>\n",
       "      <td>Important</td>\n",
       "      <td>Important</td>\n",
       "      <td>Moderately Important</td>\n",
       "      <td>Important</td>\n",
       "      <td>Important</td>\n",
       "      <td>Important</td>\n",
       "      <td>Very Important</td>\n",
       "      <td>Very Important</td>\n",
       "      <td>1</td>\n",
       "    </tr>\n",
       "  </tbody>\n",
       "</table>\n",
       "<p>5 rows × 51 columns</p>\n",
       "</div>"
      ],
      "text/plain": [
       "   Age  Gender Marital Status Occupation  Monthly Income  \\\n",
       "0   20  Female         Single    Student       No Income   \n",
       "1   24  Female         Single    Student  Below Rs.10000   \n",
       "2   22    Male         Single    Student  Below Rs.10000   \n",
       "3   22  Female         Single    Student       No Income   \n",
       "4   22    Male         Single    Student  Below Rs.10000   \n",
       "\n",
       "  Educational Qualifications  Family size         Medium (P1)   Medium (P2)  \\\n",
       "0              Post Graduate            4  Food delivery apps   Web browser   \n",
       "1                   Graduate            3  Food delivery apps   Web browser   \n",
       "2              Post Graduate            3  Food delivery apps   Direct call   \n",
       "3                   Graduate            6  Food delivery apps       Walk-in   \n",
       "4              Post Graduate            4             Walk-in   Direct call   \n",
       "\n",
       "    Meal(P1)  ... Influence of rating    Less Delivery time  \\\n",
       "0  Breakfast  ...                 Yes  Moderately Important   \n",
       "1     Snacks  ...                 Yes        Very Important   \n",
       "2      Lunch  ...                 Yes             Important   \n",
       "3     Snacks  ...                 Yes        Very Important   \n",
       "4      Lunch  ...                 Yes             Important   \n",
       "\n",
       "  High Quality of package       Number of calls            Politeness  \\\n",
       "0    Moderately Important  Moderately Important  Moderately Important   \n",
       "1          Very Important        Very Important        Very Important   \n",
       "2          Very Important  Moderately Important        Very Important   \n",
       "3               Important  Moderately Important        Very Important   \n",
       "4               Important  Moderately Important             Important   \n",
       "\n",
       "             Freshness            Temperature           Good Taste   \\\n",
       "0  Moderately Important  Moderately Important  Moderately Important   \n",
       "1        Very Important        Very Important        Very Important   \n",
       "2        Very Important             Important        Very Important   \n",
       "3        Very Important        Very Important        Very Important   \n",
       "4             Important             Important        Very Important   \n",
       "\n",
       "          Good Quantity Output  \n",
       "0  Moderately Important      1  \n",
       "1        Very Important      1  \n",
       "2  Moderately Important      1  \n",
       "3             Important      1  \n",
       "4        Very Important      1  \n",
       "\n",
       "[5 rows x 51 columns]"
      ]
     },
     "execution_count": 117,
     "metadata": {},
     "output_type": "execute_result"
    }
   ],
   "source": [
    "fd_dlvry.head()"
   ]
  },
  {
   "cell_type": "code",
   "execution_count": 118,
   "metadata": {
    "ExecuteTime": {
     "end_time": "2021-03-09T17:51:15.845548Z",
     "start_time": "2021-03-09T17:51:15.625511Z"
    }
   },
   "outputs": [
    {
     "data": {
      "text/plain": [
       "(388, 223)"
      ]
     },
     "execution_count": 118,
     "metadata": {},
     "output_type": "execute_result"
    }
   ],
   "source": [
    "fd_ori=fd_dlvry.copy(deep=True)\n",
    "df=pd.get_dummies(fd_dlvry)\n",
    "df.shape"
   ]
  },
  {
   "cell_type": "code",
   "execution_count": 119,
   "metadata": {
    "ExecuteTime": {
     "end_time": "2021-03-09T17:51:15.859750Z",
     "start_time": "2021-03-09T17:51:15.845548Z"
    }
   },
   "outputs": [],
   "source": [
    "final_feature=['Unaffordable_Agree',\n",
    " 'Delay of delivery person getting assigned_Strongly agree',\n",
    " 'Long delivery time_Agree',\n",
    " 'Wrong order delivered_Strongly disagree',\n",
    " 'Missing item_Neutral',\n",
    " 'Unavailability_Disagree',\n",
    " 'Occupation_Student',\n",
    " 'Ease and convenient_Disagree',\n",
    " 'Late Delivery_Disagree']"
   ]
  },
  {
   "cell_type": "code",
   "execution_count": 120,
   "metadata": {
    "ExecuteTime": {
     "end_time": "2021-03-09T17:51:15.988572Z",
     "start_time": "2021-03-09T17:51:15.864747Z"
    }
   },
   "outputs": [
    {
     "data": {
      "text/plain": [
       "['Unaffordable_Agree',\n",
       " 'Delay of delivery person getting assigned_Strongly agree',\n",
       " 'Long delivery time_Agree',\n",
       " 'Wrong order delivered_Strongly disagree',\n",
       " 'Missing item_Neutral',\n",
       " 'Unavailability_Disagree',\n",
       " 'Occupation_Student',\n",
       " 'Ease and convenient_Disagree',\n",
       " 'Late Delivery_Disagree']"
      ]
     },
     "execution_count": 120,
     "metadata": {},
     "output_type": "execute_result"
    }
   ],
   "source": [
    "final_feature"
   ]
  },
  {
   "cell_type": "code",
   "execution_count": 121,
   "metadata": {
    "ExecuteTime": {
     "end_time": "2021-03-09T17:51:16.174471Z",
     "start_time": "2021-03-09T17:51:15.991569Z"
    }
   },
   "outputs": [],
   "source": [
    "X=df[final_feature]\n",
    "y=df['Output']\n",
    "nm=RandomOverSampler()\n",
    "X,y=nm.fit_sample(X,y)\n"
   ]
  },
  {
   "cell_type": "code",
   "execution_count": 122,
   "metadata": {
    "ExecuteTime": {
     "end_time": "2021-03-09T17:51:16.306185Z",
     "start_time": "2021-03-09T17:51:16.182470Z"
    }
   },
   "outputs": [
    {
     "data": {
      "text/plain": [
       "DecisionTreeClassifier(max_depth=6, min_samples_leaf=2, min_samples_split=4,\n",
       "                       random_state=0)"
      ]
     },
     "execution_count": 122,
     "metadata": {},
     "output_type": "execute_result"
    }
   ],
   "source": [
    "X_train, X_test, y_train, y_test = train_test_split(X, y, test_size = 0.33)\n",
    "clf=DecisionTreeClassifier(random_state=0,max_depth=6,min_samples_leaf=2,min_samples_split=4)\n",
    "clf.fit(X,y)"
   ]
  },
  {
   "cell_type": "code",
   "execution_count": 123,
   "metadata": {
    "ExecuteTime": {
     "end_time": "2021-03-09T17:51:16.503299Z",
     "start_time": "2021-03-09T17:51:16.306185Z"
    }
   },
   "outputs": [
    {
     "data": {
      "text/plain": [
       "0.9095477386934674"
      ]
     },
     "execution_count": 123,
     "metadata": {},
     "output_type": "execute_result"
    }
   ],
   "source": [
    "clf.score(X_test,y_test)"
   ]
  },
  {
   "cell_type": "code",
   "execution_count": 124,
   "metadata": {
    "ExecuteTime": {
     "end_time": "2021-03-09T17:51:16.709975Z",
     "start_time": "2021-03-09T17:51:16.507298Z"
    }
   },
   "outputs": [
    {
     "data": {
      "text/plain": [
       "array([0, 0, 0, 0, 1, 1, 1, 1, 1, 0, 1, 1, 0, 1, 1, 0, 1, 1, 1, 0, 1, 1,\n",
       "       0, 0, 0, 0, 0, 1, 1, 1, 0, 0, 1, 0, 0, 0, 0, 0, 0, 1, 0, 0, 1, 0,\n",
       "       1, 1, 1, 0, 1, 1, 0, 1, 1, 0, 1, 0, 1, 0, 0, 1, 1, 0, 0, 1, 1, 1,\n",
       "       1, 1, 1, 1, 1, 0, 0, 1, 0, 1, 1, 0, 0, 1, 1, 0, 1, 1, 0, 1, 0, 0,\n",
       "       1, 1, 0, 0, 1, 0, 0, 1, 0, 0, 1, 0, 1, 0, 0, 0, 1, 1, 1, 1, 0, 0,\n",
       "       1, 0, 1, 1, 0, 0, 1, 0, 1, 1, 0, 0, 1, 1, 0, 0, 0, 1, 1, 1, 1, 0,\n",
       "       0, 1, 0, 0, 0, 1, 1, 1, 1, 1, 0, 1, 0, 1, 1, 0, 0, 0, 1, 0, 1, 1,\n",
       "       0, 1, 1, 0, 0, 1, 0, 0, 1, 1, 1, 1, 0, 1, 1, 1, 1, 0, 1, 0, 1, 0,\n",
       "       0, 0, 1, 0, 0, 0, 0, 0, 0, 0, 1, 1, 0, 0, 0, 1, 0, 0, 0, 1, 1, 0,\n",
       "       0], dtype=int64)"
      ]
     },
     "execution_count": 124,
     "metadata": {},
     "output_type": "execute_result"
    }
   ],
   "source": [
    "y_pred=clf.predict(X_test)\n",
    "y_pred"
   ]
  },
  {
   "cell_type": "code",
   "execution_count": null,
   "metadata": {
    "ExecuteTime": {
     "end_time": "2021-02-12T05:13:36.330261Z",
     "start_time": "2021-02-12T05:13:36.295282Z"
    }
   },
   "outputs": [],
   "source": []
  },
  {
   "cell_type": "code",
   "execution_count": 125,
   "metadata": {
    "ExecuteTime": {
     "end_time": "2021-03-09T17:51:16.835265Z",
     "start_time": "2021-03-09T17:51:16.714974Z"
    }
   },
   "outputs": [
    {
     "name": "stdout",
     "output_type": "stream",
     "text": [
      "[[90  9]\n",
      " [ 9 91]]\n"
     ]
    }
   ],
   "source": [
    "print(confusion_matrix(y_test,y_pred))"
   ]
  },
  {
   "cell_type": "code",
   "execution_count": 126,
   "metadata": {
    "ExecuteTime": {
     "end_time": "2021-03-09T17:51:17.211529Z",
     "start_time": "2021-03-09T17:51:16.839247Z"
    }
   },
   "outputs": [
    {
     "name": "stdout",
     "output_type": "stream",
     "text": [
      "List of possible accuracy: [0.8627450980392157, 0.8235294117647058, 0.88, 0.88, 0.92, 0.82, 0.86, 0.92, 0.86, 0.94, 0.88, 0.84]\n",
      "\n",
      "Maximum Accuracy That can be obtained from this model is: 94.0 %\n",
      "\n",
      "Minimum Accuracy: 82.0 %\n",
      "\n",
      "Average Accuracy That can be obtained from this model is:: 0.8738562091503269\n",
      "\n",
      " Median Accuracy That can be obtained from this model is:: 0.8713725490196078\n",
      "\n",
      "Standard Deviation is: 0.03632458417433719\n"
     ]
    }
   ],
   "source": [
    "lst_accu_stratified = [] \n",
    "x=0\n",
    "x=0\n",
    "feature_common=pd.DataFrame()\n",
    "skf = StratifiedKFold(n_splits=12, shuffle=True, random_state=1) \n",
    "for train_index, test_index in skf.split(X, y): \n",
    "    x_train_fold, x_test_fold = X.loc[train_index,:], X.loc[test_index,:] \n",
    "    y_train_fold, y_test_fold = y[train_index], y[test_index] \n",
    "    clf.fit(x_train_fold, y_train_fold)\n",
    "    \n",
    "    lst_accu_stratified.append(clf.score(x_test_fold, y_test_fold))\n",
    "    \n",
    "    \n",
    "print('List of possible accuracy:', lst_accu_stratified) \n",
    "print('\\nMaximum Accuracy That can be obtained from this model is:', \n",
    "      max(lst_accu_stratified)*100, '%') \n",
    "print('\\nMinimum Accuracy:', \n",
    "      min(lst_accu_stratified)*100, '%') \n",
    "print('\\nAverage Accuracy That can be obtained from this model is::',np.mean(lst_accu_stratified)) \n",
    "print('\\n Median Accuracy That can be obtained from this model is::',np.median(lst_accu_stratified)) \n",
    "print('\\nStandard Deviation is:',np.std(lst_accu_stratified)) "
   ]
  },
  {
   "cell_type": "code",
   "execution_count": 127,
   "metadata": {
    "ExecuteTime": {
     "end_time": "2021-03-09T17:51:17.279134Z",
     "start_time": "2021-03-09T17:51:17.217525Z"
    }
   },
   "outputs": [
    {
     "data": {
      "text/plain": [
       "{'Unaffordable_Agree': 1,\n",
       " 'Delay of delivery person getting assigned_Strongly agree': 0,\n",
       " 'Long delivery time_Agree': 1,\n",
       " 'Wrong order delivered_Strongly disagree': 0,\n",
       " 'Missing item_Neutral': 1,\n",
       " 'Unavailability_Disagree': 0,\n",
       " 'Occupation_Student': 0,\n",
       " 'Ease and convenient_Disagree': 0,\n",
       " 'Late Delivery_Disagree': 0}"
      ]
     },
     "execution_count": 127,
     "metadata": {},
     "output_type": "execute_result"
    }
   ],
   "source": [
    "list_1=[1,0,1,0,1,0,0,0,0]\n",
    "pre=np.array(list_1).reshape(1,-1)\n",
    "nk=dict(zip(X_test.columns,list_1))\n",
    "nk\n"
   ]
  },
  {
   "cell_type": "code",
   "execution_count": 128,
   "metadata": {
    "ExecuteTime": {
     "end_time": "2021-03-09T17:51:17.411789Z",
     "start_time": "2021-03-09T17:51:17.284134Z"
    }
   },
   "outputs": [],
   "source": [
    "# import graphviz\n",
    "# import sklearn.tree as tree\n",
    "# # DOT data\n",
    "# dot_data = tree.export_graphviz(clf, out_file=None, \n",
    "#                                 feature_names=X_test.columns,  \n",
    "#                                 class_names='01',\n",
    "#                                 filled=True)\n",
    "\n",
    "# # # Draw graph\n",
    "# graph = graphviz.Source(dot_data,format=\"png\") \n",
    "# graph.render('fgini')\n",
    "# # graph"
   ]
  },
  {
   "cell_type": "code",
   "execution_count": 129,
   "metadata": {
    "ExecuteTime": {
     "end_time": "2021-03-09T17:51:17.638025Z",
     "start_time": "2021-03-09T17:51:17.416785Z"
    }
   },
   "outputs": [
    {
     "data": {
      "text/plain": [
       "array([0], dtype=int64)"
      ]
     },
     "execution_count": 129,
     "metadata": {},
     "output_type": "execute_result"
    }
   ],
   "source": [
    "clf.predict(pre)"
   ]
  },
  {
   "cell_type": "code",
   "execution_count": 130,
   "metadata": {
    "ExecuteTime": {
     "end_time": "2021-03-09T17:51:17.926540Z",
     "start_time": "2021-03-09T17:51:17.642023Z"
    }
   },
   "outputs": [
    {
     "data": {
      "text/plain": [
       "dict_keys(['Unaffordable_Agree', 'Delay of delivery person getting assigned_Strongly agree', 'Long delivery time_Agree', 'Wrong order delivered_Strongly disagree', 'Missing item_Neutral', 'Unavailability_Disagree', 'Occupation_Student', 'Ease and convenient_Disagree', 'Late Delivery_Disagree'])"
      ]
     },
     "execution_count": 130,
     "metadata": {},
     "output_type": "execute_result"
    }
   ],
   "source": [
    "nk.keys()"
   ]
  },
  {
   "cell_type": "code",
   "execution_count": 131,
   "metadata": {
    "ExecuteTime": {
     "end_time": "2021-03-09T17:51:18.052516Z",
     "start_time": "2021-03-09T17:51:17.926540Z"
    }
   },
   "outputs": [
    {
     "data": {
      "text/plain": [
       "array(['Agree', 'Strongly agree', 'Disagree', 'Neutral',\n",
       "       'Strongly disagree'], dtype=object)"
      ]
     },
     "execution_count": 131,
     "metadata": {},
     "output_type": "execute_result"
    }
   ],
   "source": [
    "fd_dlvry['Missing item'].unique()"
   ]
  },
  {
   "cell_type": "markdown",
   "metadata": {},
   "source": [
    "# Random forest\n"
   ]
  },
  {
   "cell_type": "markdown",
   "metadata": {},
   "source": [
    "## Feature selection by Random forest"
   ]
  },
  {
   "cell_type": "code",
   "execution_count": 132,
   "metadata": {
    "ExecuteTime": {
     "end_time": "2021-03-09T17:51:18.144544Z",
     "start_time": "2021-03-09T17:51:18.065507Z"
    }
   },
   "outputs": [],
   "source": [
    "from sklearn.ensemble import RandomForestClassifier\n",
    "clf=RandomForestClassifier(max_depth=6,min_samples_split=4)"
   ]
  },
  {
   "cell_type": "code",
   "execution_count": 133,
   "metadata": {
    "ExecuteTime": {
     "end_time": "2021-03-09T17:51:18.333352Z",
     "start_time": "2021-03-09T17:51:18.151047Z"
    }
   },
   "outputs": [],
   "source": [
    "from sklearn.feature_selection import SelectFromModel"
   ]
  },
  {
   "cell_type": "code",
   "execution_count": 134,
   "metadata": {
    "ExecuteTime": {
     "end_time": "2021-03-09T17:51:18.660586Z",
     "start_time": "2021-03-09T17:51:18.338348Z"
    }
   },
   "outputs": [],
   "source": [
    "X=df.iloc[:,:-1]\n",
    "y=df.iloc[:,-1]\n",
    "\n",
    "nm=RandomOverSampler()\n",
    "X,y=nm.fit_sample(X,y)"
   ]
  },
  {
   "cell_type": "code",
   "execution_count": null,
   "metadata": {},
   "outputs": [],
   "source": []
  },
  {
   "cell_type": "code",
   "execution_count": 135,
   "metadata": {
    "ExecuteTime": {
     "end_time": "2021-03-09T17:51:19.201713Z",
     "start_time": "2021-03-09T17:51:18.660586Z"
    }
   },
   "outputs": [
    {
     "data": {
      "text/plain": [
       "RandomForestClassifier(max_depth=5)"
      ]
     },
     "execution_count": 135,
     "metadata": {},
     "output_type": "execute_result"
    }
   ],
   "source": [
    "X_train, X_test, y_train, y_test = train_test_split(X, y, test_size = 0.33)\n",
    "clf=RandomForestClassifier(max_depth=5,min_samples_split=2)\n",
    "clf.fit(X_train,y_train)"
   ]
  },
  {
   "cell_type": "code",
   "execution_count": 136,
   "metadata": {
    "ExecuteTime": {
     "end_time": "2021-03-09T17:51:24.201864Z",
     "start_time": "2021-03-09T17:51:19.201713Z"
    }
   },
   "outputs": [
    {
     "name": "stdout",
     "output_type": "stream",
     "text": [
      "List of possible accuracy: [0.9444444444444444, 0.8611111111111112, 1.0, 0.9722222222222222, 0.8888888888888888, 0.8888888888888888, 0.9166666666666666, 0.9166666666666666, 0.9428571428571428, 0.9428571428571428, 0.7714285714285715, 0.9714285714285714]\n",
      "\n",
      "Maximum Accuracy That can be obtained from this model is: 100.0 %\n",
      "\n",
      "Minimum Accuracy: 77.14285714285715 %\n",
      "\n",
      "Average Accuracy That can be obtained from this model is:: 0.9181216931216931\n",
      "\n",
      " Median Accuracy That can be obtained from this model is:: 0.9297619047619048\n",
      "\n",
      "Standard Deviation is: 0.058360621819085565\n"
     ]
    }
   ],
   "source": [
    "lst_accu_stratified = [] \n",
    "x=0\n",
    "feature_common=pd.DataFrame()\n",
    "skf = StratifiedKFold(n_splits=12, shuffle=True, random_state=1) \n",
    "for train_index, test_index in skf.split(X, y): \n",
    "    x_train_fold, x_test_fold = X.loc[train_index,:], X.loc[test_index,:] \n",
    "    y_train_fold, y_test_fold = y[train_index], y[test_index] \n",
    "    clf.fit(x_train_fold, y_train_fold)\n",
    "    feature_common[x]=feature_extract(clf,X_train.columns)\n",
    "    x+=1\n",
    "    lst_accu_stratified.append(clf.score(x_test_fold, y_test_fold))\n",
    "   \n",
    "    \n",
    "    \n",
    "print('List of possible accuracy:', lst_accu_stratified) \n",
    "print('\\nMaximum Accuracy That can be obtained from this model is:', \n",
    "      max(lst_accu_stratified)*100, '%') \n",
    "print('\\nMinimum Accuracy:', \n",
    "      min(lst_accu_stratified)*100, '%') \n",
    "print('\\nAverage Accuracy That can be obtained from this model is::',np.mean(lst_accu_stratified)) \n",
    "print('\\n Median Accuracy That can be obtained from this model is::',np.median(lst_accu_stratified)) \n",
    "print('\\nStandard Deviation is:',np.std(lst_accu_stratified)) "
   ]
  },
  {
   "cell_type": "code",
   "execution_count": 137,
   "metadata": {
    "ExecuteTime": {
     "end_time": "2021-03-09T17:51:24.249439Z",
     "start_time": "2021-03-09T17:51:24.206861Z"
    }
   },
   "outputs": [
    {
     "data": {
      "text/html": [
       "<div>\n",
       "<style scoped>\n",
       "    .dataframe tbody tr th:only-of-type {\n",
       "        vertical-align: middle;\n",
       "    }\n",
       "\n",
       "    .dataframe tbody tr th {\n",
       "        vertical-align: top;\n",
       "    }\n",
       "\n",
       "    .dataframe thead th {\n",
       "        text-align: right;\n",
       "    }\n",
       "</style>\n",
       "<table border=\"1\" class=\"dataframe\">\n",
       "  <thead>\n",
       "    <tr style=\"text-align: right;\">\n",
       "      <th></th>\n",
       "      <th>0</th>\n",
       "      <th>1</th>\n",
       "      <th>2</th>\n",
       "      <th>3</th>\n",
       "      <th>4</th>\n",
       "      <th>5</th>\n",
       "      <th>6</th>\n",
       "      <th>7</th>\n",
       "      <th>8</th>\n",
       "      <th>9</th>\n",
       "      <th>10</th>\n",
       "      <th>11</th>\n",
       "    </tr>\n",
       "  </thead>\n",
       "  <tbody>\n",
       "    <tr>\n",
       "      <th>0</th>\n",
       "      <td>Good Quantity_Important</td>\n",
       "      <td>Good Quantity_Important</td>\n",
       "      <td>Good Quantity_Important</td>\n",
       "      <td>Good Quantity_Important</td>\n",
       "      <td>Good Quantity_Important</td>\n",
       "      <td>Good Quantity_Important</td>\n",
       "      <td>Good Quantity_Important</td>\n",
       "      <td>Good Quantity_Important</td>\n",
       "      <td>Good Quantity_Important</td>\n",
       "      <td>Good Quantity_Important</td>\n",
       "      <td>Good Quantity_Important</td>\n",
       "      <td>Good Quantity_Important</td>\n",
       "    </tr>\n",
       "    <tr>\n",
       "      <th>1</th>\n",
       "      <td>Good Taste _Very Important</td>\n",
       "      <td>Good Taste _Very Important</td>\n",
       "      <td>Good Taste _Very Important</td>\n",
       "      <td>Good Taste _Very Important</td>\n",
       "      <td>Good Taste _Very Important</td>\n",
       "      <td>Good Taste _Very Important</td>\n",
       "      <td>Good Taste _Very Important</td>\n",
       "      <td>Good Taste _Very Important</td>\n",
       "      <td>Good Taste _Very Important</td>\n",
       "      <td>Good Taste _Very Important</td>\n",
       "      <td>Good Taste _Very Important</td>\n",
       "      <td>Good Taste _Very Important</td>\n",
       "    </tr>\n",
       "    <tr>\n",
       "      <th>2</th>\n",
       "      <td>Freshness _Very Important</td>\n",
       "      <td>Freshness _Very Important</td>\n",
       "      <td>Temperature_Very Important</td>\n",
       "      <td>Freshness _Very Important</td>\n",
       "      <td>Freshness _Very Important</td>\n",
       "      <td>Temperature_Very Important</td>\n",
       "      <td>Temperature_Very Important</td>\n",
       "      <td>Temperature_Very Important</td>\n",
       "      <td>Freshness _Very Important</td>\n",
       "      <td>Freshness _Very Important</td>\n",
       "      <td>Freshness _Very Important</td>\n",
       "      <td>Freshness _Very Important</td>\n",
       "    </tr>\n",
       "    <tr>\n",
       "      <th>3</th>\n",
       "      <td>Temperature_Very Important</td>\n",
       "      <td>Good Taste _Important</td>\n",
       "      <td>Freshness _Very Important</td>\n",
       "      <td>Temperature_Very Important</td>\n",
       "      <td>Temperature_Very Important</td>\n",
       "      <td>Freshness _Very Important</td>\n",
       "      <td>Good Taste _Important</td>\n",
       "      <td>Freshness _Very Important</td>\n",
       "      <td>Good Taste _Important</td>\n",
       "      <td>Temperature_Very Important</td>\n",
       "      <td>Temperature_Very Important</td>\n",
       "      <td>Temperature_Very Important</td>\n",
       "    </tr>\n",
       "    <tr>\n",
       "      <th>4</th>\n",
       "      <td>Good Taste _Important</td>\n",
       "      <td>Temperature_Very Important</td>\n",
       "      <td>Good Taste _Important</td>\n",
       "      <td>Good Taste _Moderately Important</td>\n",
       "      <td>Good Taste _Important</td>\n",
       "      <td>Good Taste _Important</td>\n",
       "      <td>Good Taste _Moderately Important</td>\n",
       "      <td>Good Taste _Moderately Important</td>\n",
       "      <td>Temperature_Very Important</td>\n",
       "      <td>Good Taste _Important</td>\n",
       "      <td>Good Taste _Moderately Important</td>\n",
       "      <td>Good Taste _Important</td>\n",
       "    </tr>\n",
       "    <tr>\n",
       "      <th>5</th>\n",
       "      <td>Good Taste _Moderately Important</td>\n",
       "      <td>Good Quantity_Moderately Important</td>\n",
       "      <td>Good Taste _Moderately Important</td>\n",
       "      <td>Good Quantity_Moderately Important</td>\n",
       "      <td>Good Taste _Moderately Important</td>\n",
       "      <td>Good Taste _Moderately Important</td>\n",
       "      <td>Freshness _Very Important</td>\n",
       "      <td>Good Quantity_Moderately Important</td>\n",
       "      <td>Good Quantity_Moderately Important</td>\n",
       "      <td>Good Taste _Moderately Important</td>\n",
       "      <td>Good Quantity_Moderately Important</td>\n",
       "      <td>Good Taste _Moderately Important</td>\n",
       "    </tr>\n",
       "    <tr>\n",
       "      <th>6</th>\n",
       "      <td>Good Quantity_Moderately Important</td>\n",
       "      <td>Good Taste _Moderately Important</td>\n",
       "      <td>Good Quantity_Moderately Important</td>\n",
       "      <td>Good Taste _Important</td>\n",
       "      <td>Good Quantity_Moderately Important</td>\n",
       "      <td>Good Quantity_Moderately Important</td>\n",
       "      <td>Good Quantity_Moderately Important</td>\n",
       "      <td>Good Taste _Important</td>\n",
       "      <td>Good Quantity_Slightly Important</td>\n",
       "      <td>Good Quantity_Moderately Important</td>\n",
       "      <td>Good Taste _Important</td>\n",
       "      <td>Good Quantity_Moderately Important</td>\n",
       "    </tr>\n",
       "    <tr>\n",
       "      <th>7</th>\n",
       "      <td>Good Quantity_Slightly Important</td>\n",
       "      <td>Good Quantity_Slightly Important</td>\n",
       "      <td>Freshness _Important</td>\n",
       "      <td>Freshness _Important</td>\n",
       "      <td>Missing item_Strongly agree</td>\n",
       "      <td>Good Quantity_Slightly Important</td>\n",
       "      <td>Good Quantity_Slightly Important</td>\n",
       "      <td>Politeness_Very Important</td>\n",
       "      <td>Temperature_Important</td>\n",
       "      <td>Temperature_Important</td>\n",
       "      <td>Freshness _Important</td>\n",
       "      <td>Good Quantity_Slightly Important</td>\n",
       "    </tr>\n",
       "    <tr>\n",
       "      <th>8</th>\n",
       "      <td>Freshness _Important</td>\n",
       "      <td>Temperature_Slightly Important</td>\n",
       "      <td>Good Quantity_Slightly Important</td>\n",
       "      <td>Good Quantity_Slightly Important</td>\n",
       "      <td>Freshness _Important</td>\n",
       "      <td>Freshness _Important</td>\n",
       "      <td>High Quality of package_Very Important</td>\n",
       "      <td>High Quality of package_Moderately Important</td>\n",
       "      <td>Freshness _Important</td>\n",
       "      <td>Good Quantity_Slightly Important</td>\n",
       "      <td>Good Quantity_Slightly Important</td>\n",
       "      <td>Temperature_Important</td>\n",
       "    </tr>\n",
       "    <tr>\n",
       "      <th>9</th>\n",
       "      <td>Age</td>\n",
       "      <td>Educational Qualifications_Post Graduate</td>\n",
       "      <td>Age</td>\n",
       "      <td>Age</td>\n",
       "      <td>Politeness_Very Important</td>\n",
       "      <td>High Quality of package_Moderately Important</td>\n",
       "      <td>Freshness _Important</td>\n",
       "      <td>Good Quantity_Slightly Important</td>\n",
       "      <td>Politeness_Very Important</td>\n",
       "      <td>High Quality of package_Very Important</td>\n",
       "      <td>Unavailability_Disagree</td>\n",
       "      <td>Educational Qualifications_Post Graduate</td>\n",
       "    </tr>\n",
       "    <tr>\n",
       "      <th>10</th>\n",
       "      <td>High Quality of package_Very Important</td>\n",
       "      <td>Age</td>\n",
       "      <td>High Quality of package_Moderately Important</td>\n",
       "      <td>Less Delivery time_Very Important</td>\n",
       "      <td>Good Quantity_Slightly Important</td>\n",
       "      <td>Educational Qualifications_Post Graduate</td>\n",
       "      <td>Age</td>\n",
       "      <td>High Quality of package_Very Important</td>\n",
       "      <td>Good Taste _Moderately Important</td>\n",
       "      <td>Age</td>\n",
       "      <td>Educational Qualifications_Post Graduate</td>\n",
       "      <td>Freshness _Important</td>\n",
       "    </tr>\n",
       "    <tr>\n",
       "      <th>11</th>\n",
       "      <td>Temperature_Slightly Important</td>\n",
       "      <td>Temperature_Important</td>\n",
       "      <td>High Quality of package_Very Important</td>\n",
       "      <td>Temperature_Slightly Important</td>\n",
       "      <td>Age</td>\n",
       "      <td>Less Delivery time_Slightly Important</td>\n",
       "      <td>High Quality of package_Moderately Important</td>\n",
       "      <td>Age</td>\n",
       "      <td>High Quality of package_Very Important</td>\n",
       "      <td>High Quality of package_Moderately Important</td>\n",
       "      <td>High Quality of package_Very Important</td>\n",
       "      <td>Age</td>\n",
       "    </tr>\n",
       "  </tbody>\n",
       "</table>\n",
       "</div>"
      ],
      "text/plain": [
       "                                        0   \\\n",
       "0                  Good Quantity_Important   \n",
       "1               Good Taste _Very Important   \n",
       "2                Freshness _Very Important   \n",
       "3               Temperature_Very Important   \n",
       "4                    Good Taste _Important   \n",
       "5         Good Taste _Moderately Important   \n",
       "6       Good Quantity_Moderately Important   \n",
       "7         Good Quantity_Slightly Important   \n",
       "8                     Freshness _Important   \n",
       "9                                      Age   \n",
       "10  High Quality of package_Very Important   \n",
       "11          Temperature_Slightly Important   \n",
       "\n",
       "                                          1   \\\n",
       "0                    Good Quantity_Important   \n",
       "1                 Good Taste _Very Important   \n",
       "2                  Freshness _Very Important   \n",
       "3                      Good Taste _Important   \n",
       "4                 Temperature_Very Important   \n",
       "5         Good Quantity_Moderately Important   \n",
       "6           Good Taste _Moderately Important   \n",
       "7           Good Quantity_Slightly Important   \n",
       "8             Temperature_Slightly Important   \n",
       "9   Educational Qualifications_Post Graduate   \n",
       "10                                       Age   \n",
       "11                     Temperature_Important   \n",
       "\n",
       "                                              2   \\\n",
       "0                        Good Quantity_Important   \n",
       "1                     Good Taste _Very Important   \n",
       "2                     Temperature_Very Important   \n",
       "3                      Freshness _Very Important   \n",
       "4                          Good Taste _Important   \n",
       "5               Good Taste _Moderately Important   \n",
       "6             Good Quantity_Moderately Important   \n",
       "7                           Freshness _Important   \n",
       "8               Good Quantity_Slightly Important   \n",
       "9                                            Age   \n",
       "10  High Quality of package_Moderately Important   \n",
       "11        High Quality of package_Very Important   \n",
       "\n",
       "                                    3                                   4   \\\n",
       "0              Good Quantity_Important             Good Quantity_Important   \n",
       "1           Good Taste _Very Important          Good Taste _Very Important   \n",
       "2            Freshness _Very Important           Freshness _Very Important   \n",
       "3           Temperature_Very Important          Temperature_Very Important   \n",
       "4     Good Taste _Moderately Important               Good Taste _Important   \n",
       "5   Good Quantity_Moderately Important    Good Taste _Moderately Important   \n",
       "6                Good Taste _Important  Good Quantity_Moderately Important   \n",
       "7                 Freshness _Important         Missing item_Strongly agree   \n",
       "8     Good Quantity_Slightly Important                Freshness _Important   \n",
       "9                                  Age           Politeness_Very Important   \n",
       "10   Less Delivery time_Very Important    Good Quantity_Slightly Important   \n",
       "11      Temperature_Slightly Important                                 Age   \n",
       "\n",
       "                                              5   \\\n",
       "0                        Good Quantity_Important   \n",
       "1                     Good Taste _Very Important   \n",
       "2                     Temperature_Very Important   \n",
       "3                      Freshness _Very Important   \n",
       "4                          Good Taste _Important   \n",
       "5               Good Taste _Moderately Important   \n",
       "6             Good Quantity_Moderately Important   \n",
       "7               Good Quantity_Slightly Important   \n",
       "8                           Freshness _Important   \n",
       "9   High Quality of package_Moderately Important   \n",
       "10      Educational Qualifications_Post Graduate   \n",
       "11         Less Delivery time_Slightly Important   \n",
       "\n",
       "                                              6   \\\n",
       "0                        Good Quantity_Important   \n",
       "1                     Good Taste _Very Important   \n",
       "2                     Temperature_Very Important   \n",
       "3                          Good Taste _Important   \n",
       "4               Good Taste _Moderately Important   \n",
       "5                      Freshness _Very Important   \n",
       "6             Good Quantity_Moderately Important   \n",
       "7               Good Quantity_Slightly Important   \n",
       "8         High Quality of package_Very Important   \n",
       "9                           Freshness _Important   \n",
       "10                                           Age   \n",
       "11  High Quality of package_Moderately Important   \n",
       "\n",
       "                                              7   \\\n",
       "0                        Good Quantity_Important   \n",
       "1                     Good Taste _Very Important   \n",
       "2                     Temperature_Very Important   \n",
       "3                      Freshness _Very Important   \n",
       "4               Good Taste _Moderately Important   \n",
       "5             Good Quantity_Moderately Important   \n",
       "6                          Good Taste _Important   \n",
       "7                      Politeness_Very Important   \n",
       "8   High Quality of package_Moderately Important   \n",
       "9               Good Quantity_Slightly Important   \n",
       "10        High Quality of package_Very Important   \n",
       "11                                           Age   \n",
       "\n",
       "                                        8   \\\n",
       "0                  Good Quantity_Important   \n",
       "1               Good Taste _Very Important   \n",
       "2                Freshness _Very Important   \n",
       "3                    Good Taste _Important   \n",
       "4               Temperature_Very Important   \n",
       "5       Good Quantity_Moderately Important   \n",
       "6         Good Quantity_Slightly Important   \n",
       "7                    Temperature_Important   \n",
       "8                     Freshness _Important   \n",
       "9                Politeness_Very Important   \n",
       "10        Good Taste _Moderately Important   \n",
       "11  High Quality of package_Very Important   \n",
       "\n",
       "                                              9   \\\n",
       "0                        Good Quantity_Important   \n",
       "1                     Good Taste _Very Important   \n",
       "2                      Freshness _Very Important   \n",
       "3                     Temperature_Very Important   \n",
       "4                          Good Taste _Important   \n",
       "5               Good Taste _Moderately Important   \n",
       "6             Good Quantity_Moderately Important   \n",
       "7                          Temperature_Important   \n",
       "8               Good Quantity_Slightly Important   \n",
       "9         High Quality of package_Very Important   \n",
       "10                                           Age   \n",
       "11  High Quality of package_Moderately Important   \n",
       "\n",
       "                                          10  \\\n",
       "0                    Good Quantity_Important   \n",
       "1                 Good Taste _Very Important   \n",
       "2                  Freshness _Very Important   \n",
       "3                 Temperature_Very Important   \n",
       "4           Good Taste _Moderately Important   \n",
       "5         Good Quantity_Moderately Important   \n",
       "6                      Good Taste _Important   \n",
       "7                       Freshness _Important   \n",
       "8           Good Quantity_Slightly Important   \n",
       "9                    Unavailability_Disagree   \n",
       "10  Educational Qualifications_Post Graduate   \n",
       "11    High Quality of package_Very Important   \n",
       "\n",
       "                                          11  \n",
       "0                    Good Quantity_Important  \n",
       "1                 Good Taste _Very Important  \n",
       "2                  Freshness _Very Important  \n",
       "3                 Temperature_Very Important  \n",
       "4                      Good Taste _Important  \n",
       "5           Good Taste _Moderately Important  \n",
       "6         Good Quantity_Moderately Important  \n",
       "7           Good Quantity_Slightly Important  \n",
       "8                      Temperature_Important  \n",
       "9   Educational Qualifications_Post Graduate  \n",
       "10                      Freshness _Important  \n",
       "11                                       Age  "
      ]
     },
     "execution_count": 137,
     "metadata": {},
     "output_type": "execute_result"
    }
   ],
   "source": [
    "feature_common"
   ]
  },
  {
   "cell_type": "code",
   "execution_count": 138,
   "metadata": {
    "ExecuteTime": {
     "end_time": "2021-03-09T17:51:24.416277Z",
     "start_time": "2021-03-09T17:51:24.252436Z"
    }
   },
   "outputs": [
    {
     "data": {
      "text/plain": [
       "0                          Good Quantity_Important\n",
       "1                       Good Taste _Very Important\n",
       "2                       Temperature_Very Important\n",
       "3                        Freshness _Very Important\n",
       "4                            Good Taste _Important\n",
       "5                 Good Taste _Moderately Important\n",
       "6               Good Quantity_Moderately Important\n",
       "7                             Freshness _Important\n",
       "8                 Good Quantity_Slightly Important\n",
       "9                                              Age\n",
       "10    High Quality of package_Moderately Important\n",
       "11          High Quality of package_Very Important\n",
       "Name: 2, dtype: object"
      ]
     },
     "execution_count": 138,
     "metadata": {},
     "output_type": "execute_result"
    }
   ],
   "source": [
    "feature_common[2]"
   ]
  },
  {
   "cell_type": "markdown",
   "metadata": {},
   "source": [
    "## Build Model"
   ]
  },
  {
   "cell_type": "code",
   "execution_count": 188,
   "metadata": {
    "ExecuteTime": {
     "end_time": "2021-03-09T18:11:02.814910Z",
     "start_time": "2021-03-09T18:11:02.795917Z"
    }
   },
   "outputs": [],
   "source": [
    "X=df[feature_common[2]]\n",
    "y=df.iloc[:,-1]"
   ]
  },
  {
   "cell_type": "code",
   "execution_count": 189,
   "metadata": {
    "ExecuteTime": {
     "end_time": "2021-03-09T18:11:03.745375Z",
     "start_time": "2021-03-09T18:11:03.721388Z"
    }
   },
   "outputs": [],
   "source": [
    "from  imblearn.under_sampling import RandomUnderSampler\n",
    "\n",
    "nm=RandomUnderSampler()\n",
    "X,y=nm.fit_sample(X,y)"
   ]
  },
  {
   "cell_type": "code",
   "execution_count": 190,
   "metadata": {
    "ExecuteTime": {
     "end_time": "2021-03-09T18:11:05.052545Z",
     "start_time": "2021-03-09T18:11:04.666957Z"
    }
   },
   "outputs": [
    {
     "data": {
      "text/plain": [
       "RandomForestClassifier(max_depth=3, min_samples_split=4)"
      ]
     },
     "execution_count": 190,
     "metadata": {},
     "output_type": "execute_result"
    }
   ],
   "source": [
    "X_train, X_test, y_train, y_test = train_test_split(X, y, test_size = 0.33)\n",
    "clf=RandomForestClassifier(max_depth=6,min_samples_split=4)\n",
    "clf.fit(X_train,y_train)"
   ]
  },
  {
   "cell_type": "code",
   "execution_count": 191,
   "metadata": {
    "ExecuteTime": {
     "end_time": "2021-03-09T18:11:05.818929Z",
     "start_time": "2021-03-09T18:11:05.776955Z"
    }
   },
   "outputs": [
    {
     "data": {
      "text/plain": [
       "0.9217391304347826"
      ]
     },
     "execution_count": 191,
     "metadata": {},
     "output_type": "execute_result"
    }
   ],
   "source": [
    "clf.score(X_test,y_test)"
   ]
  },
  {
   "cell_type": "code",
   "execution_count": 192,
   "metadata": {
    "ExecuteTime": {
     "end_time": "2021-03-09T18:11:06.583320Z",
     "start_time": "2021-03-09T18:11:06.545344Z"
    }
   },
   "outputs": [
    {
     "data": {
      "text/plain": [
       "array([1, 0, 1, 1, 0, 0, 0, 1, 1, 0, 0, 0, 0, 1, 1, 1, 0, 1, 1, 1, 1, 1,\n",
       "       1, 0, 1, 0, 1, 1, 0, 0, 0, 1, 1, 0, 1, 1, 0, 1, 1, 0, 1, 1, 0, 1,\n",
       "       1, 1, 0, 1, 0, 0, 1, 1, 0, 0, 1, 0, 0, 0, 1, 1, 0, 1, 1, 0, 0, 1,\n",
       "       0, 0, 0, 1, 1, 1, 1, 1, 0, 0, 1, 0, 0, 0, 0, 0, 0, 0, 0, 0, 1, 0,\n",
       "       1, 0, 1, 1, 0, 1, 0, 0, 0, 0, 1, 0, 1, 0, 1, 0, 0, 0, 1, 0, 0, 1,\n",
       "       0, 1, 0, 0, 0], dtype=uint8)"
      ]
     },
     "execution_count": 192,
     "metadata": {},
     "output_type": "execute_result"
    }
   ],
   "source": [
    "y_pred=clf.predict(X_test)\n",
    "y_pred"
   ]
  },
  {
   "cell_type": "code",
   "execution_count": 193,
   "metadata": {
    "ExecuteTime": {
     "end_time": "2021-03-09T18:11:07.394871Z",
     "start_time": "2021-03-09T18:11:07.384874Z"
    },
    "scrolled": true
   },
   "outputs": [
    {
     "name": "stdout",
     "output_type": "stream",
     "text": [
      "[[56  4]\n",
      " [ 5 50]]\n"
     ]
    }
   ],
   "source": [
    "print(confusion_matrix(y_test,y_pred))"
   ]
  },
  {
   "cell_type": "code",
   "execution_count": 194,
   "metadata": {
    "ExecuteTime": {
     "end_time": "2021-03-09T18:11:08.155158Z",
     "start_time": "2021-03-09T18:11:08.138171Z"
    }
   },
   "outputs": [
    {
     "name": "stdout",
     "output_type": "stream",
     "text": [
      "              precision    recall  f1-score   support\n",
      "\n",
      "           0       0.92      0.93      0.93        60\n",
      "           1       0.93      0.91      0.92        55\n",
      "\n",
      "    accuracy                           0.92       115\n",
      "   macro avg       0.92      0.92      0.92       115\n",
      "weighted avg       0.92      0.92      0.92       115\n",
      "\n"
     ]
    }
   ],
   "source": [
    "print(classification_report(y_test,y_pred))"
   ]
  },
  {
   "cell_type": "code",
   "execution_count": 195,
   "metadata": {
    "ExecuteTime": {
     "end_time": "2021-03-09T18:11:13.052194Z",
     "start_time": "2021-03-09T18:11:09.044057Z"
    }
   },
   "outputs": [
    {
     "name": "stdout",
     "output_type": "stream",
     "text": [
      "List of possible accuracy: [0.896551724137931, 0.9310344827586207, 0.9310344827586207, 0.9310344827586207, 0.9310344827586207, 0.9655172413793104, 0.896551724137931, 0.9655172413793104, 1.0, 1.0, 0.9655172413793104, 0.9310344827586207]\n",
      "\n",
      "Maximum Accuracy That can be obtained from this model is: 100.0 %\n",
      "\n",
      "Minimum Accuracy: 89.65517241379311 %\n",
      "\n",
      "Average Accuracy That can be obtained from this model is:: 0.9454022988505746\n",
      "\n",
      " Median Accuracy That can be obtained from this model is:: 0.9310344827586207\n",
      "\n",
      "Standard Deviation is: 0.03288943431683793\n"
     ]
    }
   ],
   "source": [
    "lst_accu_stratified = [] \n",
    "x=0\n",
    "\n",
    "skf = StratifiedKFold(n_splits=12, shuffle=True, random_state=1) \n",
    "for train_index, test_index in skf.split(X, y): \n",
    "    x_train_fold, x_test_fold = X.loc[train_index,:], X.loc[test_index,:] \n",
    "    y_train_fold, y_test_fold = y[train_index], y[test_index] \n",
    "    clf.fit(x_train_fold, y_train_fold)\n",
    "    \n",
    "    lst_accu_stratified.append(clf.score(x_test_fold, y_test_fold))\n",
    "   \n",
    "    \n",
    "    \n",
    "print('List of possible accuracy:', lst_accu_stratified) \n",
    "print('\\nMaximum Accuracy That can be obtained from this model is:', \n",
    "      max(lst_accu_stratified)*100, '%') \n",
    "print('\\nMinimum Accuracy:', \n",
    "      min(lst_accu_stratified)*100, '%') \n",
    "print('\\nAverage Accuracy That can be obtained from this model is::',np.mean(lst_accu_stratified)) \n",
    "print('\\n Median Accuracy That can be obtained from this model is::',np.median(lst_accu_stratified)) \n",
    "print('\\nStandard Deviation is:',np.std(lst_accu_stratified)) "
   ]
  },
  {
   "cell_type": "markdown",
   "metadata": {},
   "source": [
    "## (Final Model)Using method 1 feature through build model"
   ]
  },
  {
   "cell_type": "code",
   "execution_count": 224,
   "metadata": {
    "ExecuteTime": {
     "end_time": "2021-03-09T18:14:54.763076Z",
     "start_time": "2021-03-09T18:14:54.712105Z"
    }
   },
   "outputs": [],
   "source": [
    "fd_dlvry=pd.read_csv('../../data/Banglore_food_delivery/onlinedeliverydata.csv')\n",
    "fd_ori=fd_dlvry.copy()\n",
    "\n",
    "fd_dlvry.drop(['Pin code','longitude','latitude','Reviews'],axis=1,inplace=True)\n",
    "\n",
    "fd_dlvry['Output']=fd_dlvry['Output'].replace({'Yes':1,'No':0})"
   ]
  },
  {
   "cell_type": "code",
   "execution_count": 225,
   "metadata": {
    "ExecuteTime": {
     "end_time": "2021-03-09T18:14:56.334176Z",
     "start_time": "2021-03-09T18:14:56.325186Z"
    }
   },
   "outputs": [
    {
     "data": {
      "text/plain": [
       "['Age',\n",
       " 'Ease and convenient',\n",
       " 'Time saving',\n",
       " 'More restaurant choices',\n",
       " 'Easy Payment option',\n",
       " 'More Offers and Discount',\n",
       " 'Good Food quality',\n",
       " 'Good Tracking system',\n",
       " 'Unaffordable',\n",
       " 'Maximum wait time']"
      ]
     },
     "execution_count": 225,
     "metadata": {},
     "output_type": "execute_result"
    }
   ],
   "source": [
    "basic_f0"
   ]
  },
  {
   "cell_type": "code",
   "execution_count": 226,
   "metadata": {
    "ExecuteTime": {
     "end_time": "2021-03-09T18:14:57.229663Z",
     "start_time": "2021-03-09T18:14:57.038779Z"
    },
    "scrolled": true
   },
   "outputs": [
    {
     "data": {
      "text/html": [
       "<div>\n",
       "<style scoped>\n",
       "    .dataframe tbody tr th:only-of-type {\n",
       "        vertical-align: middle;\n",
       "    }\n",
       "\n",
       "    .dataframe tbody tr th {\n",
       "        vertical-align: top;\n",
       "    }\n",
       "\n",
       "    .dataframe thead th {\n",
       "        text-align: right;\n",
       "    }\n",
       "</style>\n",
       "<table border=\"1\" class=\"dataframe\">\n",
       "  <thead>\n",
       "    <tr style=\"text-align: right;\">\n",
       "      <th></th>\n",
       "      <th>Age</th>\n",
       "      <th>Gender</th>\n",
       "      <th>Marital Status</th>\n",
       "      <th>Occupation</th>\n",
       "      <th>Monthly Income</th>\n",
       "      <th>Educational Qualifications</th>\n",
       "      <th>Family size</th>\n",
       "      <th>Medium (P1)</th>\n",
       "      <th>Medium (P2)</th>\n",
       "      <th>Meal(P1)</th>\n",
       "      <th>...</th>\n",
       "      <th>Influence of rating</th>\n",
       "      <th>Less Delivery time</th>\n",
       "      <th>High Quality of package</th>\n",
       "      <th>Number of calls</th>\n",
       "      <th>Politeness</th>\n",
       "      <th>Freshness</th>\n",
       "      <th>Temperature</th>\n",
       "      <th>Good Taste</th>\n",
       "      <th>Good Quantity</th>\n",
       "      <th>Output</th>\n",
       "    </tr>\n",
       "  </thead>\n",
       "  <tbody>\n",
       "    <tr>\n",
       "      <th>0</th>\n",
       "      <td>20</td>\n",
       "      <td>0</td>\n",
       "      <td>2</td>\n",
       "      <td>3</td>\n",
       "      <td>4</td>\n",
       "      <td>2</td>\n",
       "      <td>4</td>\n",
       "      <td>1</td>\n",
       "      <td>2</td>\n",
       "      <td>0</td>\n",
       "      <td>...</td>\n",
       "      <td>2</td>\n",
       "      <td>1</td>\n",
       "      <td>1</td>\n",
       "      <td>1</td>\n",
       "      <td>1</td>\n",
       "      <td>1</td>\n",
       "      <td>1</td>\n",
       "      <td>1</td>\n",
       "      <td>1</td>\n",
       "      <td>1</td>\n",
       "    </tr>\n",
       "    <tr>\n",
       "      <th>1</th>\n",
       "      <td>24</td>\n",
       "      <td>0</td>\n",
       "      <td>2</td>\n",
       "      <td>3</td>\n",
       "      <td>2</td>\n",
       "      <td>0</td>\n",
       "      <td>3</td>\n",
       "      <td>1</td>\n",
       "      <td>2</td>\n",
       "      <td>3</td>\n",
       "      <td>...</td>\n",
       "      <td>2</td>\n",
       "      <td>4</td>\n",
       "      <td>4</td>\n",
       "      <td>4</td>\n",
       "      <td>4</td>\n",
       "      <td>4</td>\n",
       "      <td>4</td>\n",
       "      <td>4</td>\n",
       "      <td>4</td>\n",
       "      <td>1</td>\n",
       "    </tr>\n",
       "    <tr>\n",
       "      <th>2</th>\n",
       "      <td>22</td>\n",
       "      <td>1</td>\n",
       "      <td>2</td>\n",
       "      <td>3</td>\n",
       "      <td>2</td>\n",
       "      <td>2</td>\n",
       "      <td>3</td>\n",
       "      <td>1</td>\n",
       "      <td>0</td>\n",
       "      <td>2</td>\n",
       "      <td>...</td>\n",
       "      <td>2</td>\n",
       "      <td>0</td>\n",
       "      <td>4</td>\n",
       "      <td>1</td>\n",
       "      <td>4</td>\n",
       "      <td>4</td>\n",
       "      <td>0</td>\n",
       "      <td>4</td>\n",
       "      <td>1</td>\n",
       "      <td>1</td>\n",
       "    </tr>\n",
       "    <tr>\n",
       "      <th>3</th>\n",
       "      <td>22</td>\n",
       "      <td>0</td>\n",
       "      <td>2</td>\n",
       "      <td>3</td>\n",
       "      <td>4</td>\n",
       "      <td>0</td>\n",
       "      <td>6</td>\n",
       "      <td>1</td>\n",
       "      <td>1</td>\n",
       "      <td>3</td>\n",
       "      <td>...</td>\n",
       "      <td>2</td>\n",
       "      <td>4</td>\n",
       "      <td>0</td>\n",
       "      <td>1</td>\n",
       "      <td>4</td>\n",
       "      <td>4</td>\n",
       "      <td>4</td>\n",
       "      <td>4</td>\n",
       "      <td>0</td>\n",
       "      <td>1</td>\n",
       "    </tr>\n",
       "    <tr>\n",
       "      <th>4</th>\n",
       "      <td>22</td>\n",
       "      <td>1</td>\n",
       "      <td>2</td>\n",
       "      <td>3</td>\n",
       "      <td>2</td>\n",
       "      <td>2</td>\n",
       "      <td>4</td>\n",
       "      <td>2</td>\n",
       "      <td>0</td>\n",
       "      <td>2</td>\n",
       "      <td>...</td>\n",
       "      <td>2</td>\n",
       "      <td>0</td>\n",
       "      <td>0</td>\n",
       "      <td>1</td>\n",
       "      <td>0</td>\n",
       "      <td>0</td>\n",
       "      <td>0</td>\n",
       "      <td>4</td>\n",
       "      <td>4</td>\n",
       "      <td>1</td>\n",
       "    </tr>\n",
       "  </tbody>\n",
       "</table>\n",
       "<p>5 rows × 51 columns</p>\n",
       "</div>"
      ],
      "text/plain": [
       "   Age  Gender  Marital Status  Occupation  Monthly Income  \\\n",
       "0   20       0               2           3               4   \n",
       "1   24       0               2           3               2   \n",
       "2   22       1               2           3               2   \n",
       "3   22       0               2           3               4   \n",
       "4   22       1               2           3               2   \n",
       "\n",
       "   Educational Qualifications  Family size  Medium (P1)  Medium (P2)  \\\n",
       "0                           2            4            1            2   \n",
       "1                           0            3            1            2   \n",
       "2                           2            3            1            0   \n",
       "3                           0            6            1            1   \n",
       "4                           2            4            2            0   \n",
       "\n",
       "   Meal(P1)  ...  Influence of rating  Less Delivery time  \\\n",
       "0         0  ...                    2                   1   \n",
       "1         3  ...                    2                   4   \n",
       "2         2  ...                    2                   0   \n",
       "3         3  ...                    2                   4   \n",
       "4         2  ...                    2                   0   \n",
       "\n",
       "   High Quality of package  Number of calls  Politeness  Freshness   \\\n",
       "0                        1                1           1           1   \n",
       "1                        4                4           4           4   \n",
       "2                        4                1           4           4   \n",
       "3                        0                1           4           4   \n",
       "4                        0                1           0           0   \n",
       "\n",
       "   Temperature  Good Taste   Good Quantity  Output  \n",
       "0            1            1              1       1  \n",
       "1            4            4              4       1  \n",
       "2            0            4              1       1  \n",
       "3            4            4              0       1  \n",
       "4            0            4              4       1  \n",
       "\n",
       "[5 rows x 51 columns]"
      ]
     },
     "execution_count": 226,
     "metadata": {},
     "output_type": "execute_result"
    }
   ],
   "source": [
    "# import  datacleaner as dc # pip install datacleaner\n",
    "dc.autoclean(fd_dlvry).head() "
   ]
  },
  {
   "cell_type": "code",
   "execution_count": 227,
   "metadata": {
    "ExecuteTime": {
     "end_time": "2021-03-09T18:14:57.831319Z",
     "start_time": "2021-03-09T18:14:57.783346Z"
    }
   },
   "outputs": [],
   "source": [
    "lbl=dict()\n",
    "for i in fd_ori.columns:\n",
    "    if i not in  ['latitude','longitude','Pin code','Reviews']:\n",
    "                  lbl[i]=dict(zip(fd_ori[i].unique(), fd_dlvry[i].unique()))"
   ]
  },
  {
   "cell_type": "code",
   "execution_count": 228,
   "metadata": {
    "ExecuteTime": {
     "end_time": "2021-03-09T18:14:58.486943Z",
     "start_time": "2021-03-09T18:14:58.453970Z"
    }
   },
   "outputs": [
    {
     "data": {
      "text/plain": [
       "{'Age': {20: 20,\n",
       "  24: 24,\n",
       "  22: 22,\n",
       "  27: 27,\n",
       "  23: 23,\n",
       "  21: 21,\n",
       "  28: 28,\n",
       "  25: 25,\n",
       "  32: 32,\n",
       "  30: 30,\n",
       "  31: 31,\n",
       "  26: 26,\n",
       "  18: 18,\n",
       "  19: 19,\n",
       "  33: 33,\n",
       "  29: 29},\n",
       " 'Gender': {'Female': 0, 'Male': 1},\n",
       " 'Marital Status': {'Single': 2, 'Married': 0, 'Prefer not to say': 1},\n",
       " 'Occupation': {'Student': 3,\n",
       "  'Employee': 0,\n",
       "  'Self Employeed': 2,\n",
       "  'House wife': 1},\n",
       " 'Monthly Income': {'No Income': 4,\n",
       "  'Below Rs.10000': 2,\n",
       "  'More than 50000': 3,\n",
       "  '10001 to 25000': 0,\n",
       "  '25001 to 50000': 1},\n",
       " 'Educational Qualifications': {'Post Graduate': 2,\n",
       "  'Graduate': 0,\n",
       "  'Ph.D': 1,\n",
       "  'Uneducated': 4,\n",
       "  'School': 3},\n",
       " 'Family size': {4: 4, 3: 3, 6: 6, 2: 2, 5: 5, 1: 1},\n",
       " 'Medium (P1)': {'Food delivery apps': 1,\n",
       "  'Walk-in': 2,\n",
       "  'Direct call': 0,\n",
       "  'Web browser': 3},\n",
       " 'Medium (P2)': {' Web browser': 2, ' Direct call': 0, ' Walk-in': 1},\n",
       " 'Meal(P1)': {'Breakfast': 0, 'Snacks': 3, 'Lunch': 2, 'Dinner': 1},\n",
       " 'Meal(P2)': {' Lunch': 1, ' Dinner': 0, ' Snacks': 2},\n",
       " 'Perference(P1)': {'Non Veg foods (Lunch / Dinner)': 1,\n",
       "  'Veg foods (Breakfast / Lunch / Dinner)': 3,\n",
       "  'Bakery items (snacks)': 0,\n",
       "  'Sweets': 2},\n",
       " 'Perference(P2)': {' Bakery items (snacks)': 0,\n",
       "  ' Veg foods (Breakfast / Lunch / Dinner)': 3,\n",
       "  ' Ice cream / Cool drinks': 1,\n",
       "  ' Sweets': 2},\n",
       " 'Ease and convenient': {'Neutral': 2,\n",
       "  'Strongly agree': 3,\n",
       "  'Agree': 0,\n",
       "  'Strongly disagree': 4,\n",
       "  'Disagree': 1},\n",
       " 'Time saving': {'Neutral': 2,\n",
       "  'Strongly agree': 3,\n",
       "  'Agree': 0,\n",
       "  'Disagree': 1,\n",
       "  'Strongly disagree': 4},\n",
       " 'More restaurant choices': {'Neutral': 2,\n",
       "  'Strongly agree': 3,\n",
       "  'Agree': 0,\n",
       "  'Strongly disagree': 4,\n",
       "  'Disagree': 1},\n",
       " 'Easy Payment option': {'Neutral': 2,\n",
       "  'Strongly agree': 3,\n",
       "  'Agree': 0,\n",
       "  'Disagree': 1,\n",
       "  'Strongly disagree': 4},\n",
       " 'More Offers and Discount': {'Neutral': 2,\n",
       "  'Strongly agree': 3,\n",
       "  'Agree': 0,\n",
       "  'Disagree': 1,\n",
       "  'Strongly disagree': 4},\n",
       " 'Good Food quality': {'Neutral': 2,\n",
       "  'Disagree': 1,\n",
       "  'Agree': 0,\n",
       "  'Strongly agree': 3,\n",
       "  'Strongly disagree': 4},\n",
       " 'Good Tracking system': {'Neutral': 2,\n",
       "  'Agree': 0,\n",
       "  'Strongly agree': 3,\n",
       "  'Disagree': 1,\n",
       "  'Strongly disagree': 4},\n",
       " 'Self Cooking': {'Neutral': 2,\n",
       "  'Strongly agree': 3,\n",
       "  'Disagree': 1,\n",
       "  'Agree': 0,\n",
       "  'Strongly disagree': 4},\n",
       " 'Health Concern': {'Neutral': 2,\n",
       "  'Strongly agree': 3,\n",
       "  'Agree': 0,\n",
       "  'Strongly disagree': 4,\n",
       "  'Disagree': 1},\n",
       " 'Late Delivery': {'Neutral': 2,\n",
       "  'Agree': 0,\n",
       "  'Strongly agree': 3,\n",
       "  'Disagree': 1,\n",
       "  'Strongly disagree': 4},\n",
       " 'Poor Hygiene': {'Neutral': 2,\n",
       "  'Strongly agree': 3,\n",
       "  'Agree': 0,\n",
       "  'Disagree': 1,\n",
       "  'Strongly disagree': 4},\n",
       " 'Bad past experience': {'Neutral': 2,\n",
       "  'Strongly agree': 3,\n",
       "  'Agree': 0,\n",
       "  'Disagree': 1,\n",
       "  'Strongly disagree': 4},\n",
       " 'Unavailability': {'Neutral': 2,\n",
       "  'Strongly agree': 3,\n",
       "  'Agree': 0,\n",
       "  'Disagree': 1,\n",
       "  'Strongly disagree': 4},\n",
       " 'Unaffordable': {'Neutral': 2,\n",
       "  'Strongly agree': 3,\n",
       "  'Agree': 0,\n",
       "  'Disagree': 1,\n",
       "  'Strongly disagree': 4},\n",
       " 'Long delivery time': {'Agree': 0,\n",
       "  'Strongly agree': 3,\n",
       "  'Neutral': 2,\n",
       "  'Disagree': 1,\n",
       "  'Strongly disagree': 4},\n",
       " 'Delay of delivery person getting assigned': {'Agree': 0,\n",
       "  'Strongly agree': 3,\n",
       "  'Disagree': 1,\n",
       "  'Neutral': 2,\n",
       "  'Strongly disagree': 4},\n",
       " 'Delay of delivery person picking up food': {'Agree': 0,\n",
       "  'Strongly agree': 3,\n",
       "  'Neutral': 2,\n",
       "  'Disagree': 1,\n",
       "  'Strongly disagree': 4},\n",
       " 'Wrong order delivered': {'Agree': 0,\n",
       "  'Strongly agree': 3,\n",
       "  'Disagree': 1,\n",
       "  'Neutral': 2,\n",
       "  'Strongly disagree': 4},\n",
       " 'Missing item': {'Agree': 0,\n",
       "  'Strongly agree': 3,\n",
       "  'Disagree': 1,\n",
       "  'Neutral': 2,\n",
       "  'Strongly disagree': 4},\n",
       " 'Order placed by mistake': {'Agree': 0,\n",
       "  'Strongly agree': 3,\n",
       "  'Neutral': 2,\n",
       "  'Disagree': 1,\n",
       "  'Strongly disagree': 4},\n",
       " 'Influence of time': {'Yes': 2, 'No': 1, 'Maybe': 0},\n",
       " 'Order Time': {'Weekend (Sat & Sun)': 2,\n",
       "  'Anytime (Mon-Sun)': 0,\n",
       "  'Weekdays (Mon-Fri)': 1},\n",
       " 'Maximum wait time': {'30 minutes': 1,\n",
       "  '45 minutes': 2,\n",
       "  '60 minutes': 3,\n",
       "  'More than 60 minutes': 4,\n",
       "  '15 minutes': 0},\n",
       " 'Residence in busy location': {'Agree': 0,\n",
       "  'Strongly Agree': 3,\n",
       "  'Disagree': 1,\n",
       "  'Neutral': 2,\n",
       "  'Strongly disagree': 4},\n",
       " 'Google Maps Accuracy': {'Neutral': 2,\n",
       "  'Strongly Agree': 3,\n",
       "  'Agree': 0,\n",
       "  'Disagree': 1,\n",
       "  'Strongly disagree': 4},\n",
       " 'Good Road Condition': {'Neutral': 2,\n",
       "  'Disagree': 1,\n",
       "  'Agree': 0,\n",
       "  'Strongly Agree': 3,\n",
       "  'Strongly disagree': 4},\n",
       " 'Low quantity low time': {'Neutral': 2,\n",
       "  'Strongly disagree': 4,\n",
       "  'Agree': 0,\n",
       "  'Disagree': 1,\n",
       "  'Strongly Agree': 3},\n",
       " 'Delivery person ability': {'Neutral': 2,\n",
       "  'Agree': 0,\n",
       "  'Strongly Agree': 3,\n",
       "  'Disagree': 1,\n",
       "  'Strongly disagree': 4},\n",
       " 'Influence of rating': {'Yes': 2, 'Maybe': 0, 'No': 1},\n",
       " 'Less Delivery time': {'Moderately Important': 1,\n",
       "  'Very Important': 4,\n",
       "  'Important': 0,\n",
       "  'Slightly Important': 2,\n",
       "  'Unimportant': 3},\n",
       " 'High Quality of package': {'Moderately Important': 1,\n",
       "  'Very Important': 4,\n",
       "  'Important': 0,\n",
       "  'Unimportant': 3,\n",
       "  'Slightly Important': 2},\n",
       " 'Number of calls': {'Moderately Important': 1,\n",
       "  'Very Important': 4,\n",
       "  'Unimportant': 3,\n",
       "  'Important': 0,\n",
       "  'Slightly Important': 2},\n",
       " 'Politeness': {'Moderately Important': 1,\n",
       "  'Very Important': 4,\n",
       "  'Important': 0,\n",
       "  'Slightly Important': 2,\n",
       "  'Unimportant': 3},\n",
       " 'Freshness ': {'Moderately Important': 1,\n",
       "  'Very Important': 4,\n",
       "  'Important': 0,\n",
       "  'Slightly Important': 2,\n",
       "  'Unimportant': 3},\n",
       " 'Temperature': {'Moderately Important': 1,\n",
       "  'Very Important': 4,\n",
       "  'Important': 0,\n",
       "  'Slightly Important': 2,\n",
       "  'Unimportant': 3},\n",
       " 'Good Taste ': {'Moderately Important': 1,\n",
       "  'Very Important': 4,\n",
       "  'Important': 0,\n",
       "  'Slightly Important': 2,\n",
       "  'Unimportant': 3},\n",
       " 'Good Quantity': {'Moderately Important': 1,\n",
       "  'Very Important': 4,\n",
       "  'Important': 0,\n",
       "  'Slightly Important': 2,\n",
       "  'Unimportant': 3},\n",
       " 'Output': {'Yes': 1, 'No': 0}}"
      ]
     },
     "execution_count": 228,
     "metadata": {},
     "output_type": "execute_result"
    }
   ],
   "source": [
    "lbl"
   ]
  },
  {
   "cell_type": "code",
   "execution_count": 229,
   "metadata": {
    "ExecuteTime": {
     "end_time": "2021-03-09T18:14:59.189543Z",
     "start_time": "2021-03-09T18:14:59.158561Z"
    }
   },
   "outputs": [],
   "source": [
    "X=fd_dlvry[basic_f0]\n",
    "y=fd_dlvry.iloc[:,-1]\n",
    "from  imblearn.under_sampling import RandomUnderSampler\n",
    "\n",
    "nm=RandomUnderSampler()\n",
    "X,y=nm.fit_resample(X,y)"
   ]
  },
  {
   "cell_type": "code",
   "execution_count": 230,
   "metadata": {
    "ExecuteTime": {
     "end_time": "2021-03-09T18:14:59.889139Z",
     "start_time": "2021-03-09T18:14:59.859159Z"
    },
    "scrolled": true
   },
   "outputs": [
    {
     "data": {
      "text/html": [
       "<div>\n",
       "<style scoped>\n",
       "    .dataframe tbody tr th:only-of-type {\n",
       "        vertical-align: middle;\n",
       "    }\n",
       "\n",
       "    .dataframe tbody tr th {\n",
       "        vertical-align: top;\n",
       "    }\n",
       "\n",
       "    .dataframe thead th {\n",
       "        text-align: right;\n",
       "    }\n",
       "</style>\n",
       "<table border=\"1\" class=\"dataframe\">\n",
       "  <thead>\n",
       "    <tr style=\"text-align: right;\">\n",
       "      <th></th>\n",
       "      <th>Age</th>\n",
       "      <th>Ease and convenient</th>\n",
       "      <th>Time saving</th>\n",
       "      <th>More restaurant choices</th>\n",
       "      <th>Easy Payment option</th>\n",
       "      <th>More Offers and Discount</th>\n",
       "      <th>Good Food quality</th>\n",
       "      <th>Good Tracking system</th>\n",
       "      <th>Unaffordable</th>\n",
       "      <th>Maximum wait time</th>\n",
       "    </tr>\n",
       "  </thead>\n",
       "  <tbody>\n",
       "    <tr>\n",
       "      <th>0</th>\n",
       "      <td>25</td>\n",
       "      <td>3</td>\n",
       "      <td>0</td>\n",
       "      <td>3</td>\n",
       "      <td>3</td>\n",
       "      <td>3</td>\n",
       "      <td>3</td>\n",
       "      <td>3</td>\n",
       "      <td>3</td>\n",
       "      <td>2</td>\n",
       "    </tr>\n",
       "    <tr>\n",
       "      <th>1</th>\n",
       "      <td>24</td>\n",
       "      <td>0</td>\n",
       "      <td>2</td>\n",
       "      <td>3</td>\n",
       "      <td>3</td>\n",
       "      <td>3</td>\n",
       "      <td>0</td>\n",
       "      <td>0</td>\n",
       "      <td>1</td>\n",
       "      <td>2</td>\n",
       "    </tr>\n",
       "    <tr>\n",
       "      <th>2</th>\n",
       "      <td>25</td>\n",
       "      <td>3</td>\n",
       "      <td>0</td>\n",
       "      <td>3</td>\n",
       "      <td>3</td>\n",
       "      <td>3</td>\n",
       "      <td>3</td>\n",
       "      <td>3</td>\n",
       "      <td>3</td>\n",
       "      <td>2</td>\n",
       "    </tr>\n",
       "    <tr>\n",
       "      <th>3</th>\n",
       "      <td>28</td>\n",
       "      <td>1</td>\n",
       "      <td>2</td>\n",
       "      <td>1</td>\n",
       "      <td>1</td>\n",
       "      <td>1</td>\n",
       "      <td>4</td>\n",
       "      <td>2</td>\n",
       "      <td>2</td>\n",
       "      <td>3</td>\n",
       "    </tr>\n",
       "    <tr>\n",
       "      <th>4</th>\n",
       "      <td>27</td>\n",
       "      <td>0</td>\n",
       "      <td>0</td>\n",
       "      <td>1</td>\n",
       "      <td>3</td>\n",
       "      <td>4</td>\n",
       "      <td>1</td>\n",
       "      <td>3</td>\n",
       "      <td>0</td>\n",
       "      <td>2</td>\n",
       "    </tr>\n",
       "  </tbody>\n",
       "</table>\n",
       "</div>"
      ],
      "text/plain": [
       "   Age  Ease and convenient  Time saving  More restaurant choices  \\\n",
       "0   25                    3            0                        3   \n",
       "1   24                    0            2                        3   \n",
       "2   25                    3            0                        3   \n",
       "3   28                    1            2                        1   \n",
       "4   27                    0            0                        1   \n",
       "\n",
       "   Easy Payment option  More Offers and Discount  Good Food quality  \\\n",
       "0                    3                         3                  3   \n",
       "1                    3                         3                  0   \n",
       "2                    3                         3                  3   \n",
       "3                    1                         1                  4   \n",
       "4                    3                         4                  1   \n",
       "\n",
       "   Good Tracking system  Unaffordable  Maximum wait time  \n",
       "0                     3             3                  2  \n",
       "1                     0             1                  2  \n",
       "2                     3             3                  2  \n",
       "3                     2             2                  3  \n",
       "4                     3             0                  2  "
      ]
     },
     "execution_count": 230,
     "metadata": {},
     "output_type": "execute_result"
    }
   ],
   "source": [
    "X.head()"
   ]
  },
  {
   "cell_type": "code",
   "execution_count": 231,
   "metadata": {
    "ExecuteTime": {
     "end_time": "2021-03-09T18:15:00.629717Z",
     "start_time": "2021-03-09T18:15:00.622725Z"
    }
   },
   "outputs": [
    {
     "data": {
      "text/plain": [
       "(174, 10)"
      ]
     },
     "execution_count": 231,
     "metadata": {},
     "output_type": "execute_result"
    }
   ],
   "source": [
    "X.shape"
   ]
  },
  {
   "cell_type": "code",
   "execution_count": 232,
   "metadata": {
    "ExecuteTime": {
     "end_time": "2021-03-09T18:15:01.774064Z",
     "start_time": "2021-03-09T18:15:01.414272Z"
    }
   },
   "outputs": [
    {
     "data": {
      "text/plain": [
       "RandomForestClassifier(max_depth=6, min_samples_split=4)"
      ]
     },
     "execution_count": 232,
     "metadata": {},
     "output_type": "execute_result"
    }
   ],
   "source": [
    "X_train, X_test, y_train, y_test = train_test_split(X, y, test_size = 0.33)\n",
    "clf=RandomForestClassifier(max_depth=6,min_samples_split=4)\n",
    "clf.fit(X_train,y_train)"
   ]
  },
  {
   "cell_type": "code",
   "execution_count": 233,
   "metadata": {
    "ExecuteTime": {
     "end_time": "2021-03-09T18:15:02.503643Z",
     "start_time": "2021-03-09T18:15:02.464668Z"
    }
   },
   "outputs": [
    {
     "data": {
      "text/plain": [
       "0.9827586206896551"
      ]
     },
     "execution_count": 233,
     "metadata": {},
     "output_type": "execute_result"
    }
   ],
   "source": [
    "clf.score(X_test,y_test)"
   ]
  },
  {
   "cell_type": "code",
   "execution_count": 234,
   "metadata": {
    "ExecuteTime": {
     "end_time": "2021-03-09T18:15:03.211238Z",
     "start_time": "2021-03-09T18:15:03.167264Z"
    }
   },
   "outputs": [
    {
     "data": {
      "text/plain": [
       "array([0, 0, 0, 1, 0, 1, 1, 0, 1, 0, 1, 0, 1, 1, 1, 0, 0, 0, 0, 1, 0, 0,\n",
       "       0, 1, 0, 0, 1, 0, 0, 0, 0, 0, 1, 1, 0, 0, 1, 1, 1, 0, 1, 0, 0, 1,\n",
       "       1, 1, 1, 1, 1, 0, 1, 0, 1, 0, 0, 1, 1, 0], dtype=int64)"
      ]
     },
     "execution_count": 234,
     "metadata": {},
     "output_type": "execute_result"
    }
   ],
   "source": [
    "y_pred=clf.predict(X_test)\n",
    "y_pred"
   ]
  },
  {
   "cell_type": "code",
   "execution_count": 235,
   "metadata": {
    "ExecuteTime": {
     "end_time": "2021-03-09T18:15:03.906877Z",
     "start_time": "2021-03-09T18:15:03.897880Z"
    }
   },
   "outputs": [
    {
     "name": "stdout",
     "output_type": "stream",
     "text": [
      "[[30  0]\n",
      " [ 1 27]]\n"
     ]
    }
   ],
   "source": [
    "print(confusion_matrix(y_test,y_pred))"
   ]
  },
  {
   "cell_type": "code",
   "execution_count": 236,
   "metadata": {
    "ExecuteTime": {
     "end_time": "2021-03-09T18:15:04.724406Z",
     "start_time": "2021-03-09T18:15:04.704419Z"
    }
   },
   "outputs": [
    {
     "name": "stdout",
     "output_type": "stream",
     "text": [
      "              precision    recall  f1-score   support\n",
      "\n",
      "           0       0.97      1.00      0.98        30\n",
      "           1       1.00      0.96      0.98        28\n",
      "\n",
      "    accuracy                           0.98        58\n",
      "   macro avg       0.98      0.98      0.98        58\n",
      "weighted avg       0.98      0.98      0.98        58\n",
      "\n"
     ]
    }
   ],
   "source": [
    "print(classification_report(y_test,y_pred))"
   ]
  },
  {
   "cell_type": "code",
   "execution_count": 237,
   "metadata": {
    "ExecuteTime": {
     "end_time": "2021-03-09T18:15:10.364177Z",
     "start_time": "2021-03-09T18:15:05.755818Z"
    }
   },
   "outputs": [
    {
     "name": "stdout",
     "output_type": "stream",
     "text": [
      "List of possible accuracy: [1.0, 1.0, 0.9333333333333333, 0.8666666666666667, 0.8666666666666667, 0.8666666666666667, 1.0, 1.0, 0.9285714285714286, 0.9285714285714286, 0.9285714285714286, 0.7857142857142857]\n",
      "\n",
      "Maximum Accuracy That can be obtained from this model is: 100.0 %\n",
      "\n",
      "Minimum Accuracy: 78.57142857142857 %\n",
      "\n",
      "Average Accuracy That can be obtained from this model is:: 0.9253968253968256\n",
      "\n",
      " Median Accuracy That can be obtained from this model is:: 0.9285714285714286\n",
      "\n",
      "Standard Deviation is: 0.06596379287358776\n"
     ]
    }
   ],
   "source": [
    "lst_accu_stratified = [] \n",
    "x=0\n",
    "\n",
    "skf = StratifiedKFold(n_splits=12, shuffle=True, random_state=1) \n",
    "for train_index, test_index in skf.split(X, y): \n",
    "    x_train_fold, x_test_fold = X.loc[train_index,:], X.loc[test_index,:] \n",
    "    y_train_fold, y_test_fold = y[train_index], y[test_index] \n",
    "    clf.fit(x_train_fold, y_train_fold)\n",
    "    lst_accu_stratified.append(clf.score(x_test_fold, y_test_fold))\n",
    "   \n",
    "    \n",
    "    \n",
    "print('List of possible accuracy:', lst_accu_stratified) \n",
    "print('\\nMaximum Accuracy That can be obtained from this model is:', \n",
    "      max(lst_accu_stratified)*100, '%') \n",
    "print('\\nMinimum Accuracy:', \n",
    "      min(lst_accu_stratified)*100, '%') \n",
    "print('\\nAverage Accuracy That can be obtained from this model is::',np.mean(lst_accu_stratified)) \n",
    "print('\\n Median Accuracy That can be obtained from this model is::',np.median(lst_accu_stratified)) \n",
    "print('\\nStandard Deviation is:',np.std(lst_accu_stratified)) "
   ]
  },
  {
   "cell_type": "code",
   "execution_count": 211,
   "metadata": {
    "ExecuteTime": {
     "end_time": "2021-03-09T18:11:39.956678Z",
     "start_time": "2021-03-09T18:11:39.935690Z"
    }
   },
   "outputs": [
    {
     "name": "stdout",
     "output_type": "stream",
     "text": [
      "Age [20 24 22 27 23 21 28 25 32 30 31 26 18 19 33 29]\n",
      "Ease and convenient ['Neutral' 'Strongly agree' 'Agree' 'Strongly disagree' 'Disagree']\n",
      "Time saving ['Neutral' 'Strongly agree' 'Agree' 'Disagree' 'Strongly disagree']\n",
      "More restaurant choices ['Neutral' 'Strongly agree' 'Agree' 'Strongly disagree' 'Disagree']\n",
      "Easy Payment option ['Neutral' 'Strongly agree' 'Agree' 'Disagree' 'Strongly disagree']\n",
      "More Offers and Discount ['Neutral' 'Strongly agree' 'Agree' 'Disagree' 'Strongly disagree']\n",
      "Good Food quality ['Neutral' 'Disagree' 'Agree' 'Strongly agree' 'Strongly disagree']\n",
      "Good Tracking system ['Neutral' 'Agree' 'Strongly agree' 'Disagree' 'Strongly disagree']\n",
      "Unaffordable ['Neutral' 'Strongly agree' 'Agree' 'Disagree' 'Strongly disagree']\n",
      "Maximum wait time ['30 minutes' '45 minutes' '60 minutes' 'More than 60 minutes'\n",
      " '15 minutes']\n"
     ]
    }
   ],
   "source": [
    "for i in basic_f0:\n",
    "    print(i,fd_ori[i].unique())"
   ]
  },
  {
   "cell_type": "code",
   "execution_count": 212,
   "metadata": {
    "ExecuteTime": {
     "end_time": "2021-03-09T18:11:40.148571Z",
     "start_time": "2021-03-09T18:11:39.962674Z"
    }
   },
   "outputs": [
    {
     "data": {
      "text/plain": [
       "['Age',\n",
       " 'Ease and convenient',\n",
       " 'Time saving',\n",
       " 'More restaurant choices',\n",
       " 'Easy Payment option',\n",
       " 'More Offers and Discount',\n",
       " 'Good Food quality',\n",
       " 'Good Tracking system',\n",
       " 'Unaffordable',\n",
       " 'Maximum wait time']"
      ]
     },
     "execution_count": 212,
     "metadata": {},
     "output_type": "execute_result"
    }
   ],
   "source": [
    "basic_f0"
   ]
  },
  {
   "cell_type": "code",
   "execution_count": 213,
   "metadata": {
    "ExecuteTime": {
     "end_time": "2021-03-09T18:11:40.294488Z",
     "start_time": "2021-03-09T18:11:40.154565Z"
    }
   },
   "outputs": [
    {
     "data": {
      "text/plain": [
       "{'Age': {20: 20,\n",
       "  24: 24,\n",
       "  22: 22,\n",
       "  27: 27,\n",
       "  23: 23,\n",
       "  21: 21,\n",
       "  28: 28,\n",
       "  25: 25,\n",
       "  32: 32,\n",
       "  30: 30,\n",
       "  31: 31,\n",
       "  26: 26,\n",
       "  18: 18,\n",
       "  19: 19,\n",
       "  33: 33,\n",
       "  29: 29},\n",
       " 'Gender': {'Female': 0, 'Male': 1},\n",
       " 'Marital Status': {'Single': 2, 'Married': 0, 'Prefer not to say': 1},\n",
       " 'Occupation': {'Student': 3,\n",
       "  'Employee': 0,\n",
       "  'Self Employeed': 2,\n",
       "  'House wife': 1},\n",
       " 'Monthly Income': {'No Income': 4,\n",
       "  'Below Rs.10000': 2,\n",
       "  'More than 50000': 3,\n",
       "  '10001 to 25000': 0,\n",
       "  '25001 to 50000': 1},\n",
       " 'Educational Qualifications': {'Post Graduate': 2,\n",
       "  'Graduate': 0,\n",
       "  'Ph.D': 1,\n",
       "  'Uneducated': 4,\n",
       "  'School': 3},\n",
       " 'Family size': {4: 4, 3: 3, 6: 6, 2: 2, 5: 5, 1: 1},\n",
       " 'Medium (P1)': {'Food delivery apps': 1,\n",
       "  'Walk-in': 2,\n",
       "  'Direct call': 0,\n",
       "  'Web browser': 3},\n",
       " 'Medium (P2)': {' Web browser': 2, ' Direct call': 0, ' Walk-in': 1},\n",
       " 'Meal(P1)': {'Breakfast': 0, 'Snacks': 3, 'Lunch': 2, 'Dinner': 1},\n",
       " 'Meal(P2)': {' Lunch': 1, ' Dinner': 0, ' Snacks': 2},\n",
       " 'Perference(P1)': {'Non Veg foods (Lunch / Dinner)': 1,\n",
       "  'Veg foods (Breakfast / Lunch / Dinner)': 3,\n",
       "  'Bakery items (snacks)': 0,\n",
       "  'Sweets': 2},\n",
       " 'Perference(P2)': {' Bakery items (snacks)': 0,\n",
       "  ' Veg foods (Breakfast / Lunch / Dinner)': 3,\n",
       "  ' Ice cream / Cool drinks': 1,\n",
       "  ' Sweets': 2},\n",
       " 'Ease and convenient': {'Neutral': 2,\n",
       "  'Strongly agree': 3,\n",
       "  'Agree': 0,\n",
       "  'Strongly disagree': 4,\n",
       "  'Disagree': 1},\n",
       " 'Time saving': {'Neutral': 2,\n",
       "  'Strongly agree': 3,\n",
       "  'Agree': 0,\n",
       "  'Disagree': 1,\n",
       "  'Strongly disagree': 4},\n",
       " 'More restaurant choices': {'Neutral': 2,\n",
       "  'Strongly agree': 3,\n",
       "  'Agree': 0,\n",
       "  'Strongly disagree': 4,\n",
       "  'Disagree': 1},\n",
       " 'Easy Payment option': {'Neutral': 2,\n",
       "  'Strongly agree': 3,\n",
       "  'Agree': 0,\n",
       "  'Disagree': 1,\n",
       "  'Strongly disagree': 4},\n",
       " 'More Offers and Discount': {'Neutral': 2,\n",
       "  'Strongly agree': 3,\n",
       "  'Agree': 0,\n",
       "  'Disagree': 1,\n",
       "  'Strongly disagree': 4},\n",
       " 'Good Food quality': {'Neutral': 2,\n",
       "  'Disagree': 1,\n",
       "  'Agree': 0,\n",
       "  'Strongly agree': 3,\n",
       "  'Strongly disagree': 4},\n",
       " 'Good Tracking system': {'Neutral': 2,\n",
       "  'Agree': 0,\n",
       "  'Strongly agree': 3,\n",
       "  'Disagree': 1,\n",
       "  'Strongly disagree': 4},\n",
       " 'Self Cooking': {'Neutral': 2,\n",
       "  'Strongly agree': 3,\n",
       "  'Disagree': 1,\n",
       "  'Agree': 0,\n",
       "  'Strongly disagree': 4},\n",
       " 'Health Concern': {'Neutral': 2,\n",
       "  'Strongly agree': 3,\n",
       "  'Agree': 0,\n",
       "  'Strongly disagree': 4,\n",
       "  'Disagree': 1},\n",
       " 'Late Delivery': {'Neutral': 2,\n",
       "  'Agree': 0,\n",
       "  'Strongly agree': 3,\n",
       "  'Disagree': 1,\n",
       "  'Strongly disagree': 4},\n",
       " 'Poor Hygiene': {'Neutral': 2,\n",
       "  'Strongly agree': 3,\n",
       "  'Agree': 0,\n",
       "  'Disagree': 1,\n",
       "  'Strongly disagree': 4},\n",
       " 'Bad past experience': {'Neutral': 2,\n",
       "  'Strongly agree': 3,\n",
       "  'Agree': 0,\n",
       "  'Disagree': 1,\n",
       "  'Strongly disagree': 4},\n",
       " 'Unavailability': {'Neutral': 2,\n",
       "  'Strongly agree': 3,\n",
       "  'Agree': 0,\n",
       "  'Disagree': 1,\n",
       "  'Strongly disagree': 4},\n",
       " 'Unaffordable': {'Neutral': 2,\n",
       "  'Strongly agree': 3,\n",
       "  'Agree': 0,\n",
       "  'Disagree': 1,\n",
       "  'Strongly disagree': 4},\n",
       " 'Long delivery time': {'Agree': 0,\n",
       "  'Strongly agree': 3,\n",
       "  'Neutral': 2,\n",
       "  'Disagree': 1,\n",
       "  'Strongly disagree': 4},\n",
       " 'Delay of delivery person getting assigned': {'Agree': 0,\n",
       "  'Strongly agree': 3,\n",
       "  'Disagree': 1,\n",
       "  'Neutral': 2,\n",
       "  'Strongly disagree': 4},\n",
       " 'Delay of delivery person picking up food': {'Agree': 0,\n",
       "  'Strongly agree': 3,\n",
       "  'Neutral': 2,\n",
       "  'Disagree': 1,\n",
       "  'Strongly disagree': 4},\n",
       " 'Wrong order delivered': {'Agree': 0,\n",
       "  'Strongly agree': 3,\n",
       "  'Disagree': 1,\n",
       "  'Neutral': 2,\n",
       "  'Strongly disagree': 4},\n",
       " 'Missing item': {'Agree': 0,\n",
       "  'Strongly agree': 3,\n",
       "  'Disagree': 1,\n",
       "  'Neutral': 2,\n",
       "  'Strongly disagree': 4},\n",
       " 'Order placed by mistake': {'Agree': 0,\n",
       "  'Strongly agree': 3,\n",
       "  'Neutral': 2,\n",
       "  'Disagree': 1,\n",
       "  'Strongly disagree': 4},\n",
       " 'Influence of time': {'Yes': 2, 'No': 1, 'Maybe': 0},\n",
       " 'Order Time': {'Weekend (Sat & Sun)': 2,\n",
       "  'Anytime (Mon-Sun)': 0,\n",
       "  'Weekdays (Mon-Fri)': 1},\n",
       " 'Maximum wait time': {'30 minutes': 1,\n",
       "  '45 minutes': 2,\n",
       "  '60 minutes': 3,\n",
       "  'More than 60 minutes': 4,\n",
       "  '15 minutes': 0},\n",
       " 'Residence in busy location': {'Agree': 0,\n",
       "  'Strongly Agree': 3,\n",
       "  'Disagree': 1,\n",
       "  'Neutral': 2,\n",
       "  'Strongly disagree': 4},\n",
       " 'Google Maps Accuracy': {'Neutral': 2,\n",
       "  'Strongly Agree': 3,\n",
       "  'Agree': 0,\n",
       "  'Disagree': 1,\n",
       "  'Strongly disagree': 4},\n",
       " 'Good Road Condition': {'Neutral': 2,\n",
       "  'Disagree': 1,\n",
       "  'Agree': 0,\n",
       "  'Strongly Agree': 3,\n",
       "  'Strongly disagree': 4},\n",
       " 'Low quantity low time': {'Neutral': 2,\n",
       "  'Strongly disagree': 4,\n",
       "  'Agree': 0,\n",
       "  'Disagree': 1,\n",
       "  'Strongly Agree': 3},\n",
       " 'Delivery person ability': {'Neutral': 2,\n",
       "  'Agree': 0,\n",
       "  'Strongly Agree': 3,\n",
       "  'Disagree': 1,\n",
       "  'Strongly disagree': 4},\n",
       " 'Influence of rating': {'Yes': 2, 'Maybe': 0, 'No': 1},\n",
       " 'Less Delivery time': {'Moderately Important': 1,\n",
       "  'Very Important': 4,\n",
       "  'Important': 0,\n",
       "  'Slightly Important': 2,\n",
       "  'Unimportant': 3},\n",
       " 'High Quality of package': {'Moderately Important': 1,\n",
       "  'Very Important': 4,\n",
       "  'Important': 0,\n",
       "  'Unimportant': 3,\n",
       "  'Slightly Important': 2},\n",
       " 'Number of calls': {'Moderately Important': 1,\n",
       "  'Very Important': 4,\n",
       "  'Unimportant': 3,\n",
       "  'Important': 0,\n",
       "  'Slightly Important': 2},\n",
       " 'Politeness': {'Moderately Important': 1,\n",
       "  'Very Important': 4,\n",
       "  'Important': 0,\n",
       "  'Slightly Important': 2,\n",
       "  'Unimportant': 3},\n",
       " 'Freshness ': {'Moderately Important': 1,\n",
       "  'Very Important': 4,\n",
       "  'Important': 0,\n",
       "  'Slightly Important': 2,\n",
       "  'Unimportant': 3},\n",
       " 'Temperature': {'Moderately Important': 1,\n",
       "  'Very Important': 4,\n",
       "  'Important': 0,\n",
       "  'Slightly Important': 2,\n",
       "  'Unimportant': 3},\n",
       " 'Good Taste ': {'Moderately Important': 1,\n",
       "  'Very Important': 4,\n",
       "  'Important': 0,\n",
       "  'Slightly Important': 2,\n",
       "  'Unimportant': 3},\n",
       " 'Good Quantity': {'Moderately Important': 1,\n",
       "  'Very Important': 4,\n",
       "  'Important': 0,\n",
       "  'Slightly Important': 2,\n",
       "  'Unimportant': 3},\n",
       " 'Output': {'Yes': 1, 'No': 0}}"
      ]
     },
     "execution_count": 213,
     "metadata": {},
     "output_type": "execute_result"
    }
   ],
   "source": [
    "lbl"
   ]
  },
  {
   "cell_type": "code",
   "execution_count": 214,
   "metadata": {
    "ExecuteTime": {
     "end_time": "2021-03-09T18:11:40.410436Z",
     "start_time": "2021-03-09T18:11:40.299482Z"
    }
   },
   "outputs": [],
   "source": [
    "import pickle\n",
    "pickle.dump(clf, open('model.pkl','wb'))\n"
   ]
  },
  {
   "cell_type": "code",
   "execution_count": 215,
   "metadata": {
    "ExecuteTime": {
     "end_time": "2021-03-09T18:11:40.600375Z",
     "start_time": "2021-03-09T18:11:40.569395Z"
    }
   },
   "outputs": [],
   "source": [
    "model = pickle.load(open('model.pkl','rb'))\n"
   ]
  },
  {
   "cell_type": "code",
   "execution_count": 223,
   "metadata": {
    "ExecuteTime": {
     "end_time": "2021-03-09T18:12:20.310427Z",
     "start_time": "2021-03-09T18:12:20.267450Z"
    }
   },
   "outputs": [
    {
     "data": {
      "text/plain": [
       "array([1], dtype=int64)"
      ]
     },
     "execution_count": 223,
     "metadata": {},
     "output_type": "execute_result"
    }
   ],
   "source": [
    "clf.predict(np.array([20,2,3,4,3,1,1,3,4,5]).reshape(1,-1))"
   ]
  },
  {
   "cell_type": "code",
   "execution_count": 221,
   "metadata": {
    "ExecuteTime": {
     "end_time": "2021-03-09T18:11:58.158157Z",
     "start_time": "2021-03-09T18:11:58.118179Z"
    }
   },
   "outputs": [
    {
     "ename": "AttributeError",
     "evalue": "'RandomForestClassifier' object has no attribute 'tree_'",
     "output_type": "error",
     "traceback": [
      "\u001b[1;31m---------------------------------------------------------------------------\u001b[0m",
      "\u001b[1;31mAttributeError\u001b[0m                            Traceback (most recent call last)",
      "\u001b[1;32m<ipython-input-221-f339c7c1b0f7>\u001b[0m in \u001b[0;36m<module>\u001b[1;34m\u001b[0m\n\u001b[0;32m      5\u001b[0m                                 \u001b[0mfeature_names\u001b[0m\u001b[1;33m=\u001b[0m\u001b[0mX\u001b[0m\u001b[1;33m.\u001b[0m\u001b[0mcolumns\u001b[0m\u001b[1;33m,\u001b[0m\u001b[1;33m\u001b[0m\u001b[1;33m\u001b[0m\u001b[0m\n\u001b[0;32m      6\u001b[0m                                 \u001b[0mclass_names\u001b[0m\u001b[1;33m=\u001b[0m\u001b[1;34m'01'\u001b[0m\u001b[1;33m,\u001b[0m\u001b[1;33m\u001b[0m\u001b[1;33m\u001b[0m\u001b[0m\n\u001b[1;32m----> 7\u001b[1;33m                                 filled=True)\n\u001b[0m\u001b[0;32m      8\u001b[0m \u001b[1;33m\u001b[0m\u001b[0m\n\u001b[0;32m      9\u001b[0m \u001b[1;31m# # Draw graph\u001b[0m\u001b[1;33m\u001b[0m\u001b[1;33m\u001b[0m\u001b[1;33m\u001b[0m\u001b[0m\n",
      "\u001b[1;32m~\\Anaconda3\\lib\\site-packages\\sklearn\\utils\\validation.py\u001b[0m in \u001b[0;36minner_f\u001b[1;34m(*args, **kwargs)\u001b[0m\n\u001b[0;32m     71\u001b[0m                           FutureWarning)\n\u001b[0;32m     72\u001b[0m         \u001b[0mkwargs\u001b[0m\u001b[1;33m.\u001b[0m\u001b[0mupdate\u001b[0m\u001b[1;33m(\u001b[0m\u001b[1;33m{\u001b[0m\u001b[0mk\u001b[0m\u001b[1;33m:\u001b[0m \u001b[0marg\u001b[0m \u001b[1;32mfor\u001b[0m \u001b[0mk\u001b[0m\u001b[1;33m,\u001b[0m \u001b[0marg\u001b[0m \u001b[1;32min\u001b[0m \u001b[0mzip\u001b[0m\u001b[1;33m(\u001b[0m\u001b[0msig\u001b[0m\u001b[1;33m.\u001b[0m\u001b[0mparameters\u001b[0m\u001b[1;33m,\u001b[0m \u001b[0margs\u001b[0m\u001b[1;33m)\u001b[0m\u001b[1;33m}\u001b[0m\u001b[1;33m)\u001b[0m\u001b[1;33m\u001b[0m\u001b[1;33m\u001b[0m\u001b[0m\n\u001b[1;32m---> 73\u001b[1;33m         \u001b[1;32mreturn\u001b[0m \u001b[0mf\u001b[0m\u001b[1;33m(\u001b[0m\u001b[1;33m**\u001b[0m\u001b[0mkwargs\u001b[0m\u001b[1;33m)\u001b[0m\u001b[1;33m\u001b[0m\u001b[1;33m\u001b[0m\u001b[0m\n\u001b[0m\u001b[0;32m     74\u001b[0m     \u001b[1;32mreturn\u001b[0m \u001b[0minner_f\u001b[0m\u001b[1;33m\u001b[0m\u001b[1;33m\u001b[0m\u001b[0m\n\u001b[0;32m     75\u001b[0m \u001b[1;33m\u001b[0m\u001b[0m\n",
      "\u001b[1;32m~\\Anaconda3\\lib\\site-packages\\sklearn\\tree\\_export.py\u001b[0m in \u001b[0;36mexport_graphviz\u001b[1;34m(decision_tree, out_file, max_depth, feature_names, class_names, label, filled, leaves_parallel, impurity, node_ids, proportion, rotate, rounded, special_characters, precision)\u001b[0m\n\u001b[0;32m    781\u001b[0m             \u001b[0mrounded\u001b[0m\u001b[1;33m=\u001b[0m\u001b[0mrounded\u001b[0m\u001b[1;33m,\u001b[0m \u001b[0mspecial_characters\u001b[0m\u001b[1;33m=\u001b[0m\u001b[0mspecial_characters\u001b[0m\u001b[1;33m,\u001b[0m\u001b[1;33m\u001b[0m\u001b[1;33m\u001b[0m\u001b[0m\n\u001b[0;32m    782\u001b[0m             precision=precision)\n\u001b[1;32m--> 783\u001b[1;33m         \u001b[0mexporter\u001b[0m\u001b[1;33m.\u001b[0m\u001b[0mexport\u001b[0m\u001b[1;33m(\u001b[0m\u001b[0mdecision_tree\u001b[0m\u001b[1;33m)\u001b[0m\u001b[1;33m\u001b[0m\u001b[1;33m\u001b[0m\u001b[0m\n\u001b[0m\u001b[0;32m    784\u001b[0m \u001b[1;33m\u001b[0m\u001b[0m\n\u001b[0;32m    785\u001b[0m         \u001b[1;32mif\u001b[0m \u001b[0mreturn_string\u001b[0m\u001b[1;33m:\u001b[0m\u001b[1;33m\u001b[0m\u001b[1;33m\u001b[0m\u001b[0m\n",
      "\u001b[1;32m~\\Anaconda3\\lib\\site-packages\\sklearn\\tree\\_export.py\u001b[0m in \u001b[0;36mexport\u001b[1;34m(self, decision_tree)\u001b[0m\n\u001b[0;32m    421\u001b[0m             \u001b[0mself\u001b[0m\u001b[1;33m.\u001b[0m\u001b[0mrecurse\u001b[0m\u001b[1;33m(\u001b[0m\u001b[0mdecision_tree\u001b[0m\u001b[1;33m,\u001b[0m \u001b[1;36m0\u001b[0m\u001b[1;33m,\u001b[0m \u001b[0mcriterion\u001b[0m\u001b[1;33m=\u001b[0m\u001b[1;34m\"impurity\"\u001b[0m\u001b[1;33m)\u001b[0m\u001b[1;33m\u001b[0m\u001b[1;33m\u001b[0m\u001b[0m\n\u001b[0;32m    422\u001b[0m         \u001b[1;32melse\u001b[0m\u001b[1;33m:\u001b[0m\u001b[1;33m\u001b[0m\u001b[1;33m\u001b[0m\u001b[0m\n\u001b[1;32m--> 423\u001b[1;33m             self.recurse(decision_tree.tree_, 0,\n\u001b[0m\u001b[0;32m    424\u001b[0m                          criterion=decision_tree.criterion)\n\u001b[0;32m    425\u001b[0m \u001b[1;33m\u001b[0m\u001b[0m\n",
      "\u001b[1;31mAttributeError\u001b[0m: 'RandomForestClassifier' object has no attribute 'tree_'"
     ]
    }
   ],
   "source": [
    "\n",
    "import graphviz\n",
    "import sklearn.tree as tree\n",
    "# DOT data\n",
    "dot_data = tree.export_graphviz(clf, out_file=None, \n",
    "                                feature_names=X.columns,  \n",
    "                                class_names='01',\n",
    "                                filled=True)\n",
    "\n",
    "# # Draw graph\n",
    "graph = graphviz.Source(dot_data,format=\"png\") \n",
    "graph.render('food_final')"
   ]
  },
  {
   "cell_type": "code",
   "execution_count": null,
   "metadata": {},
   "outputs": [],
   "source": []
  }
 ],
 "metadata": {
  "kernelspec": {
   "display_name": "Python 3",
   "language": "python",
   "name": "python3"
  },
  "language_info": {
   "codemirror_mode": {
    "name": "ipython",
    "version": 3
   },
   "file_extension": ".py",
   "mimetype": "text/x-python",
   "name": "python",
   "nbconvert_exporter": "python",
   "pygments_lexer": "ipython3",
   "version": "3.7.9"
  },
  "toc": {
   "base_numbering": 1,
   "nav_menu": {
    "height": "68px",
    "width": "168px"
   },
   "number_sections": true,
   "sideBar": true,
   "skip_h1_title": false,
   "title_cell": "Table of Contents",
   "title_sidebar": "Contents",
   "toc_cell": false,
   "toc_position": {},
   "toc_section_display": true,
   "toc_window_display": true
  }
 },
 "nbformat": 4,
 "nbformat_minor": 4
}
