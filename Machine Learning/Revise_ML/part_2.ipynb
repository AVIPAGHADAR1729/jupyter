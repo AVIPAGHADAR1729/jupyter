{
 "cells": [
  {
   "cell_type": "code",
   "execution_count": 3,
   "metadata": {
    "ExecuteTime": {
     "end_time": "2021-05-23T13:45:20.561820Z",
     "start_time": "2021-05-23T13:45:08.966187Z"
    }
   },
   "outputs": [],
   "source": [
    "import pandas as pd \n",
    "import numpy as np\n",
    "import matplotlib.pyplot as plt\n",
    "import seaborn as sns\n"
   ]
  },
  {
   "cell_type": "code",
   "execution_count": 4,
   "metadata": {
    "ExecuteTime": {
     "end_time": "2021-05-23T13:45:20.686840Z",
     "start_time": "2021-05-23T13:45:20.563852Z"
    }
   },
   "outputs": [
    {
     "data": {
      "text/html": [
       "<div>\n",
       "<style scoped>\n",
       "    .dataframe tbody tr th:only-of-type {\n",
       "        vertical-align: middle;\n",
       "    }\n",
       "\n",
       "    .dataframe tbody tr th {\n",
       "        vertical-align: top;\n",
       "    }\n",
       "\n",
       "    .dataframe thead th {\n",
       "        text-align: right;\n",
       "    }\n",
       "</style>\n",
       "<table border=\"1\" class=\"dataframe\">\n",
       "  <thead>\n",
       "    <tr style=\"text-align: right;\">\n",
       "      <th></th>\n",
       "      <th>Pregnancies</th>\n",
       "      <th>Gender</th>\n",
       "      <th>Glucose</th>\n",
       "      <th>BloodPressure</th>\n",
       "      <th>SkinThickness</th>\n",
       "      <th>Insulin</th>\n",
       "      <th>BMI</th>\n",
       "      <th>DiabetesPedigreeFunction</th>\n",
       "      <th>Age</th>\n",
       "      <th>Outcome</th>\n",
       "      <th>CalorieIntake</th>\n",
       "      <th>Exercise</th>\n",
       "      <th>SleepDuration</th>\n",
       "    </tr>\n",
       "  </thead>\n",
       "  <tbody>\n",
       "    <tr>\n",
       "      <th>0</th>\n",
       "      <td>0</td>\n",
       "      <td>M</td>\n",
       "      <td>148</td>\n",
       "      <td>72</td>\n",
       "      <td>35</td>\n",
       "      <td>0</td>\n",
       "      <td>33.6</td>\n",
       "      <td>0.627</td>\n",
       "      <td>50</td>\n",
       "      <td>1</td>\n",
       "      <td>2508.3</td>\n",
       "      <td>No</td>\n",
       "      <td>6</td>\n",
       "    </tr>\n",
       "    <tr>\n",
       "      <th>1</th>\n",
       "      <td>1</td>\n",
       "      <td>F</td>\n",
       "      <td>85</td>\n",
       "      <td>66</td>\n",
       "      <td>29</td>\n",
       "      <td>0</td>\n",
       "      <td>26.6</td>\n",
       "      <td>0.351</td>\n",
       "      <td>31</td>\n",
       "      <td>0</td>\n",
       "      <td>2760.0</td>\n",
       "      <td>Evening</td>\n",
       "      <td>8</td>\n",
       "    </tr>\n",
       "    <tr>\n",
       "      <th>2</th>\n",
       "      <td>0</td>\n",
       "      <td>M</td>\n",
       "      <td>183</td>\n",
       "      <td>64</td>\n",
       "      <td>0</td>\n",
       "      <td>0</td>\n",
       "      <td>23.3</td>\n",
       "      <td>0.672</td>\n",
       "      <td>32</td>\n",
       "      <td>1</td>\n",
       "      <td>6480.0</td>\n",
       "      <td>Morning</td>\n",
       "      <td>8</td>\n",
       "    </tr>\n",
       "    <tr>\n",
       "      <th>3</th>\n",
       "      <td>1</td>\n",
       "      <td>F</td>\n",
       "      <td>89</td>\n",
       "      <td>66</td>\n",
       "      <td>23</td>\n",
       "      <td>94</td>\n",
       "      <td>28.1</td>\n",
       "      <td>0.167</td>\n",
       "      <td>21</td>\n",
       "      <td>0</td>\n",
       "      <td>NaN</td>\n",
       "      <td>Evening</td>\n",
       "      <td>8</td>\n",
       "    </tr>\n",
       "    <tr>\n",
       "      <th>4</th>\n",
       "      <td>0</td>\n",
       "      <td>M</td>\n",
       "      <td>137</td>\n",
       "      <td>40</td>\n",
       "      <td>35</td>\n",
       "      <td>168</td>\n",
       "      <td>43.1</td>\n",
       "      <td>2.288</td>\n",
       "      <td>33</td>\n",
       "      <td>1</td>\n",
       "      <td>1970.0</td>\n",
       "      <td>No</td>\n",
       "      <td>9</td>\n",
       "    </tr>\n",
       "  </tbody>\n",
       "</table>\n",
       "</div>"
      ],
      "text/plain": [
       "   Pregnancies Gender  Glucose  BloodPressure  SkinThickness  Insulin   BMI  \\\n",
       "0            0      M      148             72             35        0  33.6   \n",
       "1            1      F       85             66             29        0  26.6   \n",
       "2            0      M      183             64              0        0  23.3   \n",
       "3            1      F       89             66             23       94  28.1   \n",
       "4            0      M      137             40             35      168  43.1   \n",
       "\n",
       "   DiabetesPedigreeFunction  Age  Outcome  CalorieIntake Exercise  \\\n",
       "0                     0.627   50        1         2508.3       No   \n",
       "1                     0.351   31        0         2760.0  Evening   \n",
       "2                     0.672   32        1         6480.0  Morning   \n",
       "3                     0.167   21        0            NaN  Evening   \n",
       "4                     2.288   33        1         1970.0       No   \n",
       "\n",
       "   SleepDuration  \n",
       "0              6  \n",
       "1              8  \n",
       "2              8  \n",
       "3              8  \n",
       "4              9  "
      ]
     },
     "execution_count": 4,
     "metadata": {},
     "output_type": "execute_result"
    }
   ],
   "source": [
    "diabetes_df=pd.read_csv(\"diabetes.csv\")\n",
    "diabetes_df.head()"
   ]
  },
  {
   "cell_type": "code",
   "execution_count": 5,
   "metadata": {
    "ExecuteTime": {
     "end_time": "2021-05-23T13:45:20.750836Z",
     "start_time": "2021-05-23T13:45:20.686840Z"
    }
   },
   "outputs": [
    {
     "data": {
      "text/html": [
       "<div>\n",
       "<style scoped>\n",
       "    .dataframe tbody tr th:only-of-type {\n",
       "        vertical-align: middle;\n",
       "    }\n",
       "\n",
       "    .dataframe tbody tr th {\n",
       "        vertical-align: top;\n",
       "    }\n",
       "\n",
       "    .dataframe thead th {\n",
       "        text-align: right;\n",
       "    }\n",
       "</style>\n",
       "<table border=\"1\" class=\"dataframe\">\n",
       "  <thead>\n",
       "    <tr style=\"text-align: right;\">\n",
       "      <th></th>\n",
       "      <th>Pregnancies</th>\n",
       "      <th>Gender</th>\n",
       "      <th>Glucose</th>\n",
       "      <th>BloodPressure</th>\n",
       "      <th>SkinThickness</th>\n",
       "      <th>Insulin</th>\n",
       "      <th>BMI</th>\n",
       "      <th>DiabetesPedigreeFunction</th>\n",
       "      <th>Age</th>\n",
       "      <th>CalorieIntake</th>\n",
       "      <th>Exercise</th>\n",
       "      <th>SleepDuration</th>\n",
       "      <th>Outcome</th>\n",
       "    </tr>\n",
       "  </thead>\n",
       "  <tbody>\n",
       "    <tr>\n",
       "      <th>0</th>\n",
       "      <td>0</td>\n",
       "      <td>M</td>\n",
       "      <td>148</td>\n",
       "      <td>72</td>\n",
       "      <td>35</td>\n",
       "      <td>0</td>\n",
       "      <td>33.6</td>\n",
       "      <td>0.627</td>\n",
       "      <td>50</td>\n",
       "      <td>2508.3</td>\n",
       "      <td>No</td>\n",
       "      <td>6</td>\n",
       "      <td>1</td>\n",
       "    </tr>\n",
       "    <tr>\n",
       "      <th>1</th>\n",
       "      <td>1</td>\n",
       "      <td>F</td>\n",
       "      <td>85</td>\n",
       "      <td>66</td>\n",
       "      <td>29</td>\n",
       "      <td>0</td>\n",
       "      <td>26.6</td>\n",
       "      <td>0.351</td>\n",
       "      <td>31</td>\n",
       "      <td>2760.0</td>\n",
       "      <td>Evening</td>\n",
       "      <td>8</td>\n",
       "      <td>0</td>\n",
       "    </tr>\n",
       "    <tr>\n",
       "      <th>2</th>\n",
       "      <td>0</td>\n",
       "      <td>M</td>\n",
       "      <td>183</td>\n",
       "      <td>64</td>\n",
       "      <td>0</td>\n",
       "      <td>0</td>\n",
       "      <td>23.3</td>\n",
       "      <td>0.672</td>\n",
       "      <td>32</td>\n",
       "      <td>6480.0</td>\n",
       "      <td>Morning</td>\n",
       "      <td>8</td>\n",
       "      <td>1</td>\n",
       "    </tr>\n",
       "    <tr>\n",
       "      <th>3</th>\n",
       "      <td>1</td>\n",
       "      <td>F</td>\n",
       "      <td>89</td>\n",
       "      <td>66</td>\n",
       "      <td>23</td>\n",
       "      <td>94</td>\n",
       "      <td>28.1</td>\n",
       "      <td>0.167</td>\n",
       "      <td>21</td>\n",
       "      <td>NaN</td>\n",
       "      <td>Evening</td>\n",
       "      <td>8</td>\n",
       "      <td>0</td>\n",
       "    </tr>\n",
       "    <tr>\n",
       "      <th>4</th>\n",
       "      <td>0</td>\n",
       "      <td>M</td>\n",
       "      <td>137</td>\n",
       "      <td>40</td>\n",
       "      <td>35</td>\n",
       "      <td>168</td>\n",
       "      <td>43.1</td>\n",
       "      <td>2.288</td>\n",
       "      <td>33</td>\n",
       "      <td>1970.0</td>\n",
       "      <td>No</td>\n",
       "      <td>9</td>\n",
       "      <td>1</td>\n",
       "    </tr>\n",
       "  </tbody>\n",
       "</table>\n",
       "</div>"
      ],
      "text/plain": [
       "   Pregnancies Gender  Glucose  BloodPressure  SkinThickness  Insulin   BMI  \\\n",
       "0            0      M      148             72             35        0  33.6   \n",
       "1            1      F       85             66             29        0  26.6   \n",
       "2            0      M      183             64              0        0  23.3   \n",
       "3            1      F       89             66             23       94  28.1   \n",
       "4            0      M      137             40             35      168  43.1   \n",
       "\n",
       "   DiabetesPedigreeFunction  Age  CalorieIntake Exercise  SleepDuration  \\\n",
       "0                     0.627   50         2508.3       No              6   \n",
       "1                     0.351   31         2760.0  Evening              8   \n",
       "2                     0.672   32         6480.0  Morning              8   \n",
       "3                     0.167   21            NaN  Evening              8   \n",
       "4                     2.288   33         1970.0       No              9   \n",
       "\n",
       "   Outcome  \n",
       "0        1  \n",
       "1        0  \n",
       "2        1  \n",
       "3        0  \n",
       "4        1  "
      ]
     },
     "execution_count": 5,
     "metadata": {},
     "output_type": "execute_result"
    }
   ],
   "source": [
    "l1=[col  for col in diabetes_df.columns if col!=\"Outcome\"]\n",
    "l1.append(\"Outcome\")\n",
    "diabetes_df=diabetes_df[l1]\n",
    "diabetes_df.head()"
   ]
  },
  {
   "cell_type": "markdown",
   "metadata": {},
   "source": [
    "## Data Clean\n"
   ]
  },
  {
   "cell_type": "code",
   "execution_count": 6,
   "metadata": {
    "ExecuteTime": {
     "end_time": "2021-05-23T13:45:20.854826Z",
     "start_time": "2021-05-23T13:45:20.750836Z"
    }
   },
   "outputs": [],
   "source": [
    "def data_clean(df=None):\n",
    "        df[\"Exercise\"]=df[\"Exercise\"].replace({\"No\":1,\"Evening\":2,\"Morning\":3,\"Both\":4}).astype(int)\n",
    "        df[\"Gender\"]=df[\"Gender\"].replace({\"M\":1,\"F\":0}).astype(int)\n",
    "        df[\"CalorieIntake\"].fillna(df[\"CalorieIntake\"].median(),inplace=True)\n",
    "        return df\n",
    "    \n",
    "    \n",
    "diabetes_df_clean=data_clean(diabetes_df)"
   ]
  },
  {
   "cell_type": "code",
   "execution_count": 7,
   "metadata": {
    "ExecuteTime": {
     "end_time": "2021-05-23T13:45:20.966816Z",
     "start_time": "2021-05-23T13:45:20.854826Z"
    }
   },
   "outputs": [
    {
     "data": {
      "text/html": [
       "<div>\n",
       "<style scoped>\n",
       "    .dataframe tbody tr th:only-of-type {\n",
       "        vertical-align: middle;\n",
       "    }\n",
       "\n",
       "    .dataframe tbody tr th {\n",
       "        vertical-align: top;\n",
       "    }\n",
       "\n",
       "    .dataframe thead th {\n",
       "        text-align: right;\n",
       "    }\n",
       "</style>\n",
       "<table border=\"1\" class=\"dataframe\">\n",
       "  <thead>\n",
       "    <tr style=\"text-align: right;\">\n",
       "      <th></th>\n",
       "      <th>Pregnancies</th>\n",
       "      <th>Gender</th>\n",
       "      <th>Glucose</th>\n",
       "      <th>BloodPressure</th>\n",
       "      <th>SkinThickness</th>\n",
       "      <th>Insulin</th>\n",
       "      <th>BMI</th>\n",
       "      <th>DiabetesPedigreeFunction</th>\n",
       "      <th>Age</th>\n",
       "      <th>CalorieIntake</th>\n",
       "      <th>Exercise</th>\n",
       "      <th>SleepDuration</th>\n",
       "      <th>Outcome</th>\n",
       "    </tr>\n",
       "  </thead>\n",
       "  <tbody>\n",
       "    <tr>\n",
       "      <th>0</th>\n",
       "      <td>0</td>\n",
       "      <td>1</td>\n",
       "      <td>148</td>\n",
       "      <td>72</td>\n",
       "      <td>35</td>\n",
       "      <td>0</td>\n",
       "      <td>33.6</td>\n",
       "      <td>0.627</td>\n",
       "      <td>50</td>\n",
       "      <td>2508.3</td>\n",
       "      <td>1</td>\n",
       "      <td>6</td>\n",
       "      <td>1</td>\n",
       "    </tr>\n",
       "    <tr>\n",
       "      <th>1</th>\n",
       "      <td>1</td>\n",
       "      <td>0</td>\n",
       "      <td>85</td>\n",
       "      <td>66</td>\n",
       "      <td>29</td>\n",
       "      <td>0</td>\n",
       "      <td>26.6</td>\n",
       "      <td>0.351</td>\n",
       "      <td>31</td>\n",
       "      <td>2760.0</td>\n",
       "      <td>2</td>\n",
       "      <td>8</td>\n",
       "      <td>0</td>\n",
       "    </tr>\n",
       "    <tr>\n",
       "      <th>2</th>\n",
       "      <td>0</td>\n",
       "      <td>1</td>\n",
       "      <td>183</td>\n",
       "      <td>64</td>\n",
       "      <td>0</td>\n",
       "      <td>0</td>\n",
       "      <td>23.3</td>\n",
       "      <td>0.672</td>\n",
       "      <td>32</td>\n",
       "      <td>6480.0</td>\n",
       "      <td>3</td>\n",
       "      <td>8</td>\n",
       "      <td>1</td>\n",
       "    </tr>\n",
       "    <tr>\n",
       "      <th>3</th>\n",
       "      <td>1</td>\n",
       "      <td>0</td>\n",
       "      <td>89</td>\n",
       "      <td>66</td>\n",
       "      <td>23</td>\n",
       "      <td>94</td>\n",
       "      <td>28.1</td>\n",
       "      <td>0.167</td>\n",
       "      <td>21</td>\n",
       "      <td>2893.0</td>\n",
       "      <td>2</td>\n",
       "      <td>8</td>\n",
       "      <td>0</td>\n",
       "    </tr>\n",
       "    <tr>\n",
       "      <th>4</th>\n",
       "      <td>0</td>\n",
       "      <td>1</td>\n",
       "      <td>137</td>\n",
       "      <td>40</td>\n",
       "      <td>35</td>\n",
       "      <td>168</td>\n",
       "      <td>43.1</td>\n",
       "      <td>2.288</td>\n",
       "      <td>33</td>\n",
       "      <td>1970.0</td>\n",
       "      <td>1</td>\n",
       "      <td>9</td>\n",
       "      <td>1</td>\n",
       "    </tr>\n",
       "  </tbody>\n",
       "</table>\n",
       "</div>"
      ],
      "text/plain": [
       "   Pregnancies  Gender  Glucose  BloodPressure  SkinThickness  Insulin   BMI  \\\n",
       "0            0       1      148             72             35        0  33.6   \n",
       "1            1       0       85             66             29        0  26.6   \n",
       "2            0       1      183             64              0        0  23.3   \n",
       "3            1       0       89             66             23       94  28.1   \n",
       "4            0       1      137             40             35      168  43.1   \n",
       "\n",
       "   DiabetesPedigreeFunction  Age  CalorieIntake  Exercise  SleepDuration  \\\n",
       "0                     0.627   50         2508.3         1              6   \n",
       "1                     0.351   31         2760.0         2              8   \n",
       "2                     0.672   32         6480.0         3              8   \n",
       "3                     0.167   21         2893.0         2              8   \n",
       "4                     2.288   33         1970.0         1              9   \n",
       "\n",
       "   Outcome  \n",
       "0        1  \n",
       "1        0  \n",
       "2        1  \n",
       "3        0  \n",
       "4        1  "
      ]
     },
     "execution_count": 7,
     "metadata": {},
     "output_type": "execute_result"
    }
   ],
   "source": [
    "diabetes_df_clean.head()"
   ]
  },
  {
   "cell_type": "code",
   "execution_count": 8,
   "metadata": {
    "ExecuteTime": {
     "end_time": "2021-05-23T13:45:21.102803Z",
     "start_time": "2021-05-23T13:45:20.966816Z"
    }
   },
   "outputs": [],
   "source": [
    "continue_feature=['Glucose',                 # part1 \n",
    " 'BloodPressure',\n",
    " 'SkinThickness',\n",
    " 'Insulin',\n",
    " 'BMI',\n",
    " 'DiabetesPedigreeFunction',\n",
    " 'Age',\n",
    " 'CalorieIntake',\n",
    " 'Outcome']  \n",
    "\n",
    "Lda_df=diabetes_df_clean"
   ]
  },
  {
   "cell_type": "code",
   "execution_count": 9,
   "metadata": {
    "ExecuteTime": {
     "end_time": "2021-05-23T13:45:25.699230Z",
     "start_time": "2021-05-23T13:45:22.144080Z"
    }
   },
   "outputs": [],
   "source": [
    "X=Lda_df.iloc[:,:-1]\n",
    "y=Lda_df.iloc[:,-1]\n",
    "from sklearn.model_selection import train_test_split\n",
    "X_train,X_test,y_train,y_test=train_test_split(X,y)"
   ]
  },
  {
   "cell_type": "markdown",
   "metadata": {
    "ExecuteTime": {
     "end_time": "2021-05-20T05:46:38.313722Z",
     "start_time": "2021-05-20T05:46:38.308728Z"
    }
   },
   "source": [
    "## Visuliazation Of Data by LDA\n"
   ]
  },
  {
   "cell_type": "code",
   "execution_count": null,
   "metadata": {},
   "outputs": [],
   "source": []
  },
  {
   "cell_type": "code",
   "execution_count": 10,
   "metadata": {
    "ExecuteTime": {
     "end_time": "2021-05-23T13:45:30.403644Z",
     "start_time": "2021-05-23T13:45:29.762600Z"
    }
   },
   "outputs": [],
   "source": [
    "from sklearn.discriminant_analysis import LinearDiscriminantAnalysis\n",
    "clf1=LinearDiscriminantAnalysis(\"eigen\")\n",
    "\n",
    "X_r1=clf1.fit(X,y).transform(X)\n",
    "l2=np.arange(0,len(X_r1))\n",
    "\n",
    "lda_df=pd.DataFrame(data=np.column_stack([X_r1,diabetes_df_clean[\"Outcome\"],l2]),columns=[\"X_r1\",\"Outcome\",\"l2\"])"
   ]
  },
  {
   "cell_type": "code",
   "execution_count": 11,
   "metadata": {
    "ExecuteTime": {
     "end_time": "2021-05-23T13:45:31.803079Z",
     "start_time": "2021-05-23T13:45:30.693600Z"
    }
   },
   "outputs": [
    {
     "data": {
      "text/plain": [
       "<seaborn.axisgrid.FacetGrid at 0x2b66272a2b0>"
      ]
     },
     "execution_count": 11,
     "metadata": {},
     "output_type": "execute_result"
    },
    {
     "data": {
      "image/png": "[encoded data removed]",
      "text/plain": [
       "<Figure size 413.25x360 with 1 Axes>"
      ]
     },
     "metadata": {
      "needs_background": "light"
     },
     "output_type": "display_data"
    }
   ],
   "source": [
    "sns.displot(x=lda_df[\"X_r1\"],hue=lda_df[\"Outcome\"])"
   ]
  },
  {
   "cell_type": "code",
   "execution_count": 12,
   "metadata": {
    "ExecuteTime": {
     "end_time": "2021-05-23T13:45:32.766552Z",
     "start_time": "2021-05-23T13:45:32.155048Z"
    },
    "scrolled": true
   },
   "outputs": [
    {
     "data": {
      "text/plain": [
       "<AxesSubplot:xlabel='l2', ylabel='X_r1'>"
      ]
     },
     "execution_count": 12,
     "metadata": {},
     "output_type": "execute_result"
    },
    {
     "data": {
      "image/png": "[encoded data removed]",
      "text/plain": [
       "<Figure size 432x288 with 1 Axes>"
      ]
     },
     "metadata": {
      "needs_background": "light"
     },
     "output_type": "display_data"
    }
   ],
   "source": [
    "sns.scatterplot(x=lda_df[\"l2\"],y=lda_df[\"X_r1\"],hue=lda_df[\"Outcome\"])"
   ]
  },
  {
   "cell_type": "markdown",
   "metadata": {},
   "source": [
    "## PCA"
   ]
  },
  {
   "cell_type": "code",
   "execution_count": 58,
   "metadata": {
    "ExecuteTime": {
     "end_time": "2021-05-23T15:59:48.273532Z",
     "start_time": "2021-05-23T15:59:48.251546Z"
    }
   },
   "outputs": [],
   "source": [
    "from sklearn.decomposition import PCA\n",
    "pca=PCA(n_components=2,)\n",
    "X_embedded=pca.fit_transform(X)\n",
    "\n",
    "pca_df=pd.DataFrame(data=X_embedded,columns=[\"x1\",\"x2\"])\n",
    "pca_df[\"Outcome\"]=y"
   ]
  },
  {
   "cell_type": "code",
   "execution_count": 59,
   "metadata": {
    "ExecuteTime": {
     "end_time": "2021-05-23T15:59:49.486831Z",
     "start_time": "2021-05-23T15:59:49.011103Z"
    },
    "scrolled": true
   },
   "outputs": [
    {
     "data": {
      "text/plain": [
       "<AxesSubplot:xlabel='x1', ylabel='x2'>"
      ]
     },
     "execution_count": 59,
     "metadata": {},
     "output_type": "execute_result"
    },
    {
     "data": {
      "image/png": "[encoded data removed]",
      "text/plain": [
       "<Figure size 432x288 with 1 Axes>"
      ]
     },
     "metadata": {
      "needs_background": "light"
     },
     "output_type": "display_data"
    }
   ],
   "source": [
    "sns.scatterplot(data=pca_df,x='x1',y=\"x2\",hue=\"Outcome\")"
   ]
  },
  {
   "cell_type": "code",
   "execution_count": 90,
   "metadata": {
    "ExecuteTime": {
     "end_time": "2021-05-23T16:11:37.151897Z",
     "start_time": "2021-05-23T16:11:37.121915Z"
    }
   },
   "outputs": [],
   "source": [
    "def plot_mushroom_boundary(X, y, fitted_model):\n",
    "\n",
    "    plt.figure(figsize=(9.8,5), dpi=100)\n",
    "    X=X\n",
    "    y=y\n",
    "    for i, plot_type in enumerate(['Decision Boundary', 'Decision Probabilities']):\n",
    "        plt.subplot(1,2,i+1)\n",
    "        \n",
    "        \n",
    "        mesh_step_size = 0.01  # step size in the mesh\n",
    "        x_min, x_max = X[:, 0].min() - .1, X[:, 0].max() + .1\n",
    "        y_min, y_max = X[:, 1].min() - .1, X[:, 1].max() + .1\n",
    "        xx, yy = np.meshgrid(np.arange(x_min, x_max, mesh_step_size), np.arange(y_min, y_max, mesh_step_size))\n",
    "        if i == 0:\n",
    "            Z = fitted_model.predict(np.c_[xx.ravel(), yy.ravel()])\n",
    "        else:\n",
    "            try:\n",
    "                Z = fitted_model.predict_proba(np.c_[xx.ravel(), yy.ravel()])[:,1]\n",
    "            except:\n",
    "                plt.text(0.4, 0.5, 'Probabilities Unavailable', horizontalalignment='center',\n",
    "                     verticalalignment='center', transform = plt.gca().transAxes, fontsize=12)\n",
    "                plt.axis('off')\n",
    "                break\n",
    "        Z = Z.reshape(xx.shape)\n",
    "        plt.scatter(X[y.values==0,0], X[y.values==0,1], alpha=0.4, label=\"0\", s=5)\n",
    "        plt.scatter(X[y.values==1,0], X[y.values==1,1], alpha=0.4, label=\"1\", s=5)\n",
    "        plt.imshow(Z, interpolation='nearest', cmap='RdYlBu_r', alpha=0.15, \n",
    "                   extent=(x_min, x_max, y_min, y_max), origin='lower')\n",
    "        plt.title(plot_type + '\\n' + \n",
    "                  str(fitted_model).split('(')[0]+ ' Test Accuracy: ' + str(np.round(fitted_model.score(X, y), 5)))\n",
    "        plt.gca().set_aspect('equal');\n",
    "        \n",
    "    plt.tight_layout()\n",
    "    plt.subplots_adjust(top=0.9, bottom=0.08, wspace=0.02)"
   ]
  },
  {
   "cell_type": "code",
   "execution_count": 91,
   "metadata": {
    "ExecuteTime": {
     "end_time": "2021-05-23T16:11:38.622731Z",
     "start_time": "2021-05-23T16:11:38.597746Z"
    }
   },
   "outputs": [],
   "source": [
    "from sklearn.model_selection import train_test_split\n",
    "from imblearn.under_sampling import RandomUnderSampler\n",
    "from sklearn.preprocessing import StandardScaler\n",
    "sc=StandardScaler()\n",
    "\n",
    "y_pca = pca_df[\"Outcome\"]\n",
    "X_pca = pca_df.iloc[:, :-1]\n",
    "X_pca=sc.fit_transform(X_pca)\n",
    "b = RandomUnderSampler(sampling_strategy=1)\n",
    "X_pca_balance, y_pca_balance = b.fit_resample(X_pca, y_pca)\n",
    "\n",
    "X_pca_balance_train, X_pca_balance_test, y_pca_balance_train, y_pca_balance_test = train_test_split(\n",
    "    X_pca_balance, y_pca_balance)"
   ]
  },
  {
   "cell_type": "code",
   "execution_count": 92,
   "metadata": {
    "ExecuteTime": {
     "end_time": "2021-05-23T16:11:39.294122Z",
     "start_time": "2021-05-23T16:11:39.274136Z"
    }
   },
   "outputs": [
    {
     "data": {
      "text/plain": [
       "array([[-0.72534571, -0.62140941],\n",
       "       [-0.66847297,  0.75265476],\n",
       "       [-0.51507586, -0.01568874],\n",
       "       [ 0.39036603,  0.91430587],\n",
       "       [-0.53039409,  1.10586916],\n",
       "       [-0.18065636,  1.79793042],\n",
       "       [-0.56275857, -0.61884286],\n",
       "       [-0.44348381,  0.06606248],\n",
       "       [ 0.30570895, -0.80804579],\n",
       "       [-0.61041693, -0.60022943],\n",
       "       [-0.52710359, -0.31335298],\n",
       "       [-0.45989884, -0.63297068],\n",
       "       [ 0.46094298, -0.74594361],\n",
       "       [-0.20923438,  0.54602242],\n",
       "       [ 3.77645939, -1.07393208],\n",
       "       [-0.66452221,  0.32628334],\n",
       "       [-0.43108734,  1.04143115],\n",
       "       [ 0.30621328, -0.72621125],\n",
       "       [-0.39603821, -0.62382233],\n",
       "       [ 0.43114799, -0.73553659],\n",
       "       [ 0.30629713, -0.68404594],\n",
       "       [-0.6641841 ,  2.07352971],\n",
       "       [-0.72542951, -0.62603353],\n",
       "       [ 0.1235209 , -0.24961922],\n",
       "       [-0.39568285,  0.2667505 ],\n",
       "       [ 2.5212303 ,  0.70768666],\n",
       "       [-0.40232542, -0.6761725 ],\n",
       "       [-0.53029733,  1.07077141],\n",
       "       [ 0.38364759, -0.72353301],\n",
       "       [-0.20912074,  0.88963149],\n",
       "       [ 0.18283378, -0.74167383],\n",
       "       [-0.54652534, -0.02467335],\n",
       "       [ 2.48632705,  1.88386865],\n",
       "       [-0.47940399, -0.6223544 ],\n",
       "       [ 0.42626608,  1.10561697],\n",
       "       [-0.66731943,  2.97518974],\n",
       "       [ 1.25924241,  0.33364498],\n",
       "       [-0.48522861, -0.59592706],\n",
       "       [-0.72467894,  0.52139162],\n",
       "       [ 0.38950671, -0.74233257],\n",
       "       [-0.43622244, -0.68456625],\n",
       "       [ 0.28303809,  0.39940423],\n",
       "       [ 0.39354007,  6.61946534],\n",
       "       [-0.51475792,  0.2827242 ],\n",
       "       [-0.59218173,  0.44009618],\n",
       "       [-0.43606395, -0.6302367 ],\n",
       "       [-0.66568972, -0.60242288],\n",
       "       [ 0.61657984,  0.82693966],\n",
       "       [-0.51506265, -0.61291403],\n",
       "       [-0.0854762 ,  1.16328025],\n",
       "       [ 0.42614616,  0.80523388],\n",
       "       [ 0.28274242, -0.03087496],\n",
       "       [-0.72494112,  0.20181173],\n",
       "       [ 3.7702993 , -1.13414627],\n",
       "       [ 1.37249815,  0.54442539],\n",
       "       [ 0.06384644, -0.72134439],\n",
       "       [-0.18079203,  1.32198833],\n",
       "       [-0.61033004, -0.41958921],\n",
       "       [-0.46758635, -0.6347649 ],\n",
       "       [ 0.8781928 ,  0.34266483],\n",
       "       [-0.87242701, -0.60531879],\n",
       "       [ 3.77023888, -1.1458826 ],\n",
       "       [ 0.8599085 , -0.75982375],\n",
       "       [-0.80517241, -0.61334651],\n",
       "       [ 2.52311202,  4.06998546],\n",
       "       [ 3.7777333 ,  1.63740073],\n",
       "       [ 0.46168649,  0.70988604],\n",
       "       [ 0.13186272, -0.69459043],\n",
       "       [-0.47948208, -0.2905063 ],\n",
       "       [ 2.52140217,  0.73046156],\n",
       "       [-0.51513119, -0.09325367],\n",
       "       [-0.6700312 , -0.64905598],\n",
       "       [-0.66970548, -0.59332332],\n",
       "       [-1.05703027, -0.61078445],\n",
       "       [ 1.15235038,  1.09781927],\n",
       "       [-0.66995582, -0.6263388 ],\n",
       "       [ 3.78204979, -1.14265214],\n",
       "       [ 0.38950849, -0.75674068],\n",
       "       [-1.03889573, -0.13476553],\n",
       "       [-0.59857345, -0.62904678],\n",
       "       [ 0.28229006, -0.74610138],\n",
       "       [-0.5313388 , -0.63751565],\n",
       "       [ 0.46642   , -0.8242459 ],\n",
       "       [-0.55474686,  0.16933723],\n",
       "       [ 0.13573106,  0.15436439],\n",
       "       [-0.66540674,  0.24456348],\n",
       "       [-0.51531843, -0.64171642],\n",
       "       [-0.90798275, -0.56182635],\n",
       "       [ 3.77051293, -1.10448654],\n",
       "       [ 2.1398602 ,  0.09507649],\n",
       "       [-0.39608104, -0.6165351 ],\n",
       "       [-0.80507515, -0.61826114],\n",
       "       [-0.43590529, -0.09263578],\n",
       "       [-0.43203844, -0.66588715],\n",
       "       [ 0.30617499, -0.7352051 ],\n",
       "       [-0.51435067,  0.94299917],\n",
       "       [-0.40249866, -0.5346247 ],\n",
       "       [-0.43596081, -0.6299558 ],\n",
       "       [ 2.52058119, -0.95911793],\n",
       "       [ 0.92613826,  0.74597907],\n",
       "       [ 0.30686964,  0.62867422],\n",
       "       [-0.43599144, -0.63658963],\n",
       "       [-0.6697101 , -0.58603887],\n",
       "       [ 0.9966075 , -0.82761126],\n",
       "       [-0.53138344, -0.64491168],\n",
       "       [ 2.05080301,  0.18631899],\n",
       "       [ 0.15152804, -0.66552603],\n",
       "       [ 1.90145024, -0.87934858],\n",
       "       [-0.6684816 ,  0.01273653],\n",
       "       [ 1.28222467, -0.86255954],\n",
       "       [-0.4351255 ,  0.84809844],\n",
       "       [-0.18082303,  1.42141975],\n",
       "       [-1.1935662 , -0.52547676],\n",
       "       [-0.39416671,  2.79577108],\n",
       "       [-0.66914697, -0.6095446 ],\n",
       "       [ 0.30614112, -0.753753  ],\n",
       "       [-0.81844506,  0.1817826 ],\n",
       "       [-0.18188176, -0.67240094],\n",
       "       [ 1.90125596, -0.93225766],\n",
       "       [-0.40226024, -0.6647803 ],\n",
       "       [ 2.15199311,  0.24771802],\n",
       "       [-0.43610814, -0.64725734],\n",
       "       [-0.46283097,  0.64185546],\n",
       "       [-0.66974984, -0.1277109 ],\n",
       "       [-0.66505453, -0.61971722],\n",
       "       [ 3.77650121, -1.07131073],\n",
       "       [ 2.22908661, -0.1198504 ],\n",
       "       [ 0.30618347, -0.73404404],\n",
       "       [ 1.03241948, -0.79953137],\n",
       "       [ 0.76442677, -0.79888497],\n",
       "       [ 0.55124068,  0.85058194],\n",
       "       [ 0.73465116, -0.77999829],\n",
       "       [-0.5146383 ,  0.26542181],\n",
       "       [-0.72078321,  1.26245382]])"
      ]
     },
     "execution_count": 92,
     "metadata": {},
     "output_type": "execute_result"
    }
   ],
   "source": [
    "X_pca_balance_test"
   ]
  },
  {
   "cell_type": "code",
   "execution_count": 95,
   "metadata": {
    "ExecuteTime": {
     "end_time": "2021-05-23T16:14:40.701339Z",
     "start_time": "2021-05-23T16:14:21.490534Z"
    }
   },
   "outputs": [
    {
     "data": {
      "image/png": "[encoded data removed]",
      "text/plain": [
       "<Figure size 980x500 with 2 Axes>"
      ]
     },
     "metadata": {
      "needs_background": "light"
     },
     "output_type": "display_data"
    }
   ],
   "source": [
    "from sklearn.tree import DecisionTreeClassifier\n",
    "from sklearn.discriminant_analysis import LinearDiscriminantAnalysis\n",
    "from sklearn.svm import SVC\n",
    "model = SVC()\n",
    "model.fit(X_pca_balance_train, y_pca_balance_train)\n",
    "model.score(X_pca_balance_test,y_pca_balance_test)\n",
    "plot_mushroom_boundary(X_pca_balance_test, y_pca_balance_test, model)"
   ]
  },
  {
   "cell_type": "markdown",
   "metadata": {},
   "source": [
    "### classfication using LDA"
   ]
  },
  {
   "cell_type": "code",
   "execution_count": 15,
   "metadata": {
    "ExecuteTime": {
     "end_time": "2021-05-23T13:45:35.931262Z",
     "start_time": "2021-05-23T13:45:35.899265Z"
    },
    "scrolled": true
   },
   "outputs": [
    {
     "data": {
      "text/plain": [
       "0.9270833333333334"
      ]
     },
     "execution_count": 15,
     "metadata": {},
     "output_type": "execute_result"
    }
   ],
   "source": [
    "from sklearn.discriminant_analysis import LinearDiscriminantAnalysis\n",
    "clf=LinearDiscriminantAnalysis()\n",
    "clf.fit(X_train,y_train)\n",
    "clf.score(X_test,y_test)"
   ]
  },
  {
   "cell_type": "markdown",
   "metadata": {},
   "source": [
    "## T-SNE"
   ]
  },
  {
   "cell_type": "code",
   "execution_count": 16,
   "metadata": {
    "ExecuteTime": {
     "end_time": "2021-05-23T13:46:03.088893Z",
     "start_time": "2021-05-23T13:45:37.386852Z"
    }
   },
   "outputs": [
    {
     "data": {
      "text/plain": [
       "(768, 2)"
      ]
     },
     "execution_count": 16,
     "metadata": {},
     "output_type": "execute_result"
    }
   ],
   "source": [
    "from sklearn.manifold import TSNE\n",
    "X_embedded = TSNE(n_components=2,perplexity=30.0,n_iter=5000).fit_transform(X)\n",
    "X_embedded.shape"
   ]
  },
  {
   "cell_type": "code",
   "execution_count": 17,
   "metadata": {
    "ExecuteTime": {
     "end_time": "2021-05-23T13:46:03.104892Z",
     "start_time": "2021-05-23T13:46:03.088893Z"
    }
   },
   "outputs": [],
   "source": [
    "t_sne_df=pd.DataFrame(data=X_embedded,columns=[\"x1\",\"x2\"])\n",
    "t_sne_df[\"Outcome\"]=y"
   ]
  },
  {
   "cell_type": "code",
   "execution_count": 18,
   "metadata": {
    "ExecuteTime": {
     "end_time": "2021-05-23T13:46:03.279414Z",
     "start_time": "2021-05-23T13:46:03.104892Z"
    }
   },
   "outputs": [
    {
     "data": {
      "text/html": [
       "<div>\n",
       "<style scoped>\n",
       "    .dataframe tbody tr th:only-of-type {\n",
       "        vertical-align: middle;\n",
       "    }\n",
       "\n",
       "    .dataframe tbody tr th {\n",
       "        vertical-align: top;\n",
       "    }\n",
       "\n",
       "    .dataframe thead th {\n",
       "        text-align: right;\n",
       "    }\n",
       "</style>\n",
       "<table border=\"1\" class=\"dataframe\">\n",
       "  <thead>\n",
       "    <tr style=\"text-align: right;\">\n",
       "      <th></th>\n",
       "      <th>x1</th>\n",
       "      <th>x2</th>\n",
       "      <th>Outcome</th>\n",
       "    </tr>\n",
       "  </thead>\n",
       "  <tbody>\n",
       "    <tr>\n",
       "      <th>0</th>\n",
       "      <td>40.115791</td>\n",
       "      <td>-21.895599</td>\n",
       "      <td>1</td>\n",
       "    </tr>\n",
       "    <tr>\n",
       "      <th>1</th>\n",
       "      <td>33.471294</td>\n",
       "      <td>14.436880</td>\n",
       "      <td>0</td>\n",
       "    </tr>\n",
       "    <tr>\n",
       "      <th>2</th>\n",
       "      <td>-29.581059</td>\n",
       "      <td>-24.706078</td>\n",
       "      <td>1</td>\n",
       "    </tr>\n",
       "    <tr>\n",
       "      <th>3</th>\n",
       "      <td>11.657751</td>\n",
       "      <td>24.985723</td>\n",
       "      <td>0</td>\n",
       "    </tr>\n",
       "    <tr>\n",
       "      <th>4</th>\n",
       "      <td>18.429247</td>\n",
       "      <td>-32.364784</td>\n",
       "      <td>1</td>\n",
       "    </tr>\n",
       "    <tr>\n",
       "      <th>...</th>\n",
       "      <td>...</td>\n",
       "      <td>...</td>\n",
       "      <td>...</td>\n",
       "    </tr>\n",
       "    <tr>\n",
       "      <th>763</th>\n",
       "      <td>12.041840</td>\n",
       "      <td>19.928675</td>\n",
       "      <td>0</td>\n",
       "    </tr>\n",
       "    <tr>\n",
       "      <th>764</th>\n",
       "      <td>-23.282074</td>\n",
       "      <td>55.345741</td>\n",
       "      <td>0</td>\n",
       "    </tr>\n",
       "    <tr>\n",
       "      <th>765</th>\n",
       "      <td>-27.010969</td>\n",
       "      <td>55.971645</td>\n",
       "      <td>0</td>\n",
       "    </tr>\n",
       "    <tr>\n",
       "      <th>766</th>\n",
       "      <td>-24.936596</td>\n",
       "      <td>-36.814793</td>\n",
       "      <td>1</td>\n",
       "    </tr>\n",
       "    <tr>\n",
       "      <th>767</th>\n",
       "      <td>30.749161</td>\n",
       "      <td>1.365765</td>\n",
       "      <td>0</td>\n",
       "    </tr>\n",
       "  </tbody>\n",
       "</table>\n",
       "<p>768 rows × 3 columns</p>\n",
       "</div>"
      ],
      "text/plain": [
       "            x1         x2  Outcome\n",
       "0    40.115791 -21.895599        1\n",
       "1    33.471294  14.436880        0\n",
       "2   -29.581059 -24.706078        1\n",
       "3    11.657751  24.985723        0\n",
       "4    18.429247 -32.364784        1\n",
       "..         ...        ...      ...\n",
       "763  12.041840  19.928675        0\n",
       "764 -23.282074  55.345741        0\n",
       "765 -27.010969  55.971645        0\n",
       "766 -24.936596 -36.814793        1\n",
       "767  30.749161   1.365765        0\n",
       "\n",
       "[768 rows x 3 columns]"
      ]
     },
     "execution_count": 18,
     "metadata": {},
     "output_type": "execute_result"
    }
   ],
   "source": [
    "t_sne_df"
   ]
  },
  {
   "cell_type": "code",
   "execution_count": 19,
   "metadata": {
    "ExecuteTime": {
     "end_time": "2021-05-23T13:46:03.827879Z",
     "start_time": "2021-05-23T13:46:03.279414Z"
    },
    "scrolled": true
   },
   "outputs": [
    {
     "data": {
      "text/plain": [
       "<AxesSubplot:xlabel='x1', ylabel='x2'>"
      ]
     },
     "execution_count": 19,
     "metadata": {},
     "output_type": "execute_result"
    },
    {
     "data": {
      "image/png": "[encoded data removed]",
      "text/plain": [
       "<Figure size 432x288 with 1 Axes>"
      ]
     },
     "metadata": {
      "needs_background": "light"
     },
     "output_type": "display_data"
    }
   ],
   "source": [
    "sns.scatterplot(data=t_sne_df,x='x1',y=\"x2\",hue='Outcome')"
   ]
  },
  {
   "cell_type": "markdown",
   "metadata": {},
   "source": [
    "## General Class for ml model validation"
   ]
  },
  {
   "cell_type": "code",
   "execution_count": 25,
   "metadata": {
    "ExecuteTime": {
     "end_time": "2021-05-23T13:51:34.950238Z",
     "start_time": "2021-05-23T13:51:34.910224Z"
    }
   },
   "outputs": [],
   "source": [
    "class Ml_Model(object):\n",
    "\n",
    "    def __init__(self, *arg, scaling=False, balance=False, Oversampling=False):\n",
    "        import numpy as np\n",
    "        self.X = arg[0]\n",
    "        self.y = arg[1]\n",
    "        if balance:\n",
    "\n",
    "            if not Oversampling:\n",
    "                from imblearn.under_sampling import RandomUnderSampler\n",
    "                b = RandomUnderSampler(sampling_strategy=1)\n",
    "                self.X, self.y = b.fit_resample(self.X, self.y)\n",
    "\n",
    "            else:\n",
    "                from imblearn.over_sampling import RandomOverSampler\n",
    "                b = RandomOverSampler(sampling_strategy=1)\n",
    "                self.X, self.y = b.fit_resample(self.X, self.y)\n",
    "\n",
    "        if not scaling:\n",
    "            from sklearn.model_selection import train_test_split\n",
    "            from sklearn.preprocessing import StandardScaler\n",
    "            self.X_train, self.X_test, self.y_train, self.y_test = train_test_split(\n",
    "                self.X, self.y)\n",
    "\n",
    "        else:\n",
    "            from sklearn.model_selection import train_test_split\n",
    "            from sklearn.preprocessing import StandardScaler\n",
    "            self.X_train, self.X_test, self.y_train, self.y_test = train_test_split(\n",
    "                self.X, self.y)\n",
    "\n",
    "            sc = StandardScaler()\n",
    "            self.X_train = sc.fit_transform(self.X_train)\n",
    "            self.X_test = sc.transform(self.X_test)\n",
    "\n",
    "    def pass_classifier(self, clf=None):\n",
    "        self.clf = clf\n",
    "        print(clf)\n",
    "\n",
    "        return self.clf\n",
    "\n",
    "    def fit_method_and_score(self):\n",
    "\n",
    "        clf.fit(self.X_train, self.y_train)\n",
    "       \n",
    "        \n",
    "        return clf.predict(X_test)\n",
    "\n",
    "    def classification_report(self):\n",
    "        self.y_pred = self.clf.predict(self.X_test)\n",
    "        from sklearn.metrics import classification_report\n",
    "        return print(classification_report(self.y_test, self.y_pred))\n",
    "\n",
    "    def validation(self):\n",
    "\n",
    "        from sklearn.model_selection import StratifiedKFold\n",
    "        from sklearn.metrics import f1_score\n",
    "        from sklearn.metrics import recall_score\n",
    "        from sklearn.metrics import accuracy_score\n",
    "        from sklearn.metrics import precision_score\n",
    "        from colorama import Fore, Back, Style\n",
    "\n",
    "        lst_accu_stratified = []\n",
    "        lst_recall_stratified = []\n",
    "        lst_precision_stratified = []\n",
    "\n",
    "        lst_f1_score_stratified = []\n",
    "        x = 0\n",
    "        skf = StratifiedKFold(n_splits=18, shuffle=True, random_state=1)\n",
    "        for train_index, test_index in skf.split(self.X, self.y):\n",
    "            x_train_fold, x_test_fold = self.X.loc[train_index,\n",
    "                                                   :], self.X.loc[test_index, :]\n",
    "            y_train_fold, y_test_fold = self.y[train_index], self.y[test_index]\n",
    "            self.clf.fit(x_train_fold, y_train_fold)\n",
    "            y_pre = clf.predict(self.X_test)\n",
    "#                 print(classification_report(self.y_test,y_pre))\n",
    "\n",
    "            lst_accu_stratified.append(\n",
    "                round(accuracy_score(self.y_test, y_pre), 4))\n",
    "            lst_recall_stratified.append(\n",
    "                round(recall_score(self.y_test, y_pre), 4))\n",
    "            lst_f1_score_stratified.append(\n",
    "                round(f1_score(self.y_test, y_pre), 4))\n",
    "            lst_precision_stratified.append(\n",
    "                round(precision_score(self.y_test, y_pre), 4))\n",
    "\n",
    "        for i, j in zip([\"Accuracy\", \"Recall\", \"Precision\", \"F1-Score\"], [lst_accu_stratified, lst_recall_stratified, lst_precision_stratified, lst_f1_score_stratified]):\n",
    "\n",
    "            print(Fore.BLUE+f\"\\n\\n{i} \")\n",
    "            print(Style.RESET_ALL)\n",
    "\n",
    "            print(f'List of possible {i} Score:\\n', j)\n",
    "\n",
    "            print(f'\\nMaximum {i} Score That can be obtained from this model is:', max(\n",
    "                j)*100, '%')\n",
    "            print(f'\\nMinimum {i} Score:', min(j)*100, '%')\n",
    "            print(\n",
    "                f'\\nAverage {i} Score That can be obtained from this model is::', np.mean(j))\n",
    "            print(\n",
    "                f'\\nMedian {i} Score That can be obtained from this model is::', np.median(j))\n",
    "            print('\\nStandard Deviation is:', np.std(j))\n",
    "\n",
    "        return None\n",
    "\n",
    "    "
   ]
  },
  {
   "cell_type": "markdown",
   "metadata": {},
   "source": [
    "## LDA "
   ]
  },
  {
   "cell_type": "code",
   "execution_count": 26,
   "metadata": {
    "ExecuteTime": {
     "end_time": "2021-05-23T13:51:36.445310Z",
     "start_time": "2021-05-23T13:51:36.004925Z"
    }
   },
   "outputs": [
    {
     "name": "stdout",
     "output_type": "stream",
     "text": [
      "LinearDiscriminantAnalysis()\n",
      "              precision    recall  f1-score   support\n",
      "\n",
      "           0       0.88      0.90      0.89        67\n",
      "           1       0.89      0.88      0.89        67\n",
      "\n",
      "    accuracy                           0.89       134\n",
      "   macro avg       0.89      0.89      0.89       134\n",
      "weighted avg       0.89      0.89      0.89       134\n",
      "\n",
      "\u001b[34m\n",
      "\n",
      "Accuracy \n",
      "\u001b[0m\n",
      "List of possible Accuracy Score:\n",
      " [0.903, 0.9104, 0.9104, 0.9328, 0.9104, 0.9104, 0.903, 0.9104, 0.9104, 0.903, 0.9104, 0.903, 0.9104, 0.9179, 0.9179, 0.9104, 0.9179, 0.903]\n",
      "\n",
      "Maximum Accuracy Score That can be obtained from this model is: 93.28 %\n",
      "\n",
      "Minimum Accuracy Score: 90.3 %\n",
      "\n",
      "Average Accuracy Score That can be obtained from this model is:: 0.9108388888888889\n",
      "\n",
      "Median Accuracy Score That can be obtained from this model is:: 0.9104\n",
      "\n",
      "Standard Deviation is: 0.00722973327377134\n",
      "\u001b[34m\n",
      "\n",
      "Recall \n",
      "\u001b[0m\n",
      "List of possible Recall Score:\n",
      " [0.8657, 0.8955, 0.8806, 0.9254, 0.8806, 0.8806, 0.8657, 0.8806, 0.8806, 0.8806, 0.8806, 0.8657, 0.8806, 0.9104, 0.8955, 0.8806, 0.8806, 0.8657]\n",
      "\n",
      "Maximum Recall Score That can be obtained from this model is: 92.54 %\n",
      "\n",
      "Minimum Recall Score: 86.57000000000001 %\n",
      "\n",
      "Average Recall Score That can be obtained from this model is:: 0.8830888888888889\n",
      "\n",
      "Median Recall Score That can be obtained from this model is:: 0.8806\n",
      "\n",
      "Standard Deviation is: 0.015121062899474893\n",
      "\u001b[34m\n",
      "\n",
      "Precision \n",
      "\u001b[0m\n",
      "List of possible Precision Score:\n",
      " [0.9355, 0.9231, 0.9365, 0.9394, 0.9365, 0.9365, 0.9355, 0.9365, 0.9365, 0.9219, 0.9365, 0.9355, 0.9365, 0.9242, 0.9375, 0.9365, 0.9516, 0.9355]\n",
      "\n",
      "Maximum Precision Score That can be obtained from this model is: 95.16 %\n",
      "\n",
      "Minimum Precision Score: 92.19000000000001 %\n",
      "\n",
      "Average Precision Score That can be obtained from this model is:: 0.9350944444444446\n",
      "\n",
      "Median Precision Score That can be obtained from this model is:: 0.9365\n",
      "\n",
      "Standard Deviation is: 0.0064544103975689975\n",
      "\u001b[34m\n",
      "\n",
      "F1-Score \n",
      "\u001b[0m\n",
      "List of possible F1-Score Score:\n",
      " [0.8992, 0.9091, 0.9077, 0.9323, 0.9077, 0.9077, 0.8992, 0.9077, 0.9077, 0.9008, 0.9077, 0.8992, 0.9077, 0.9173, 0.916, 0.9077, 0.9147, 0.8992]\n",
      "\n",
      "Maximum F1-Score Score That can be obtained from this model is: 93.23 %\n",
      "\n",
      "Minimum F1-Score Score: 89.92 %\n",
      "\n",
      "Average F1-Score Score That can be obtained from this model is:: 0.9082555555555554\n",
      "\n",
      "Median F1-Score Score That can be obtained from this model is:: 0.9077\n",
      "\n",
      "Standard Deviation is: 0.00798687967316275\n"
     ]
    }
   ],
   "source": [
    "from sklearn.discriminant_analysis import LinearDiscriminantAnalysis\n",
    "m1=Ml_Model(X,y,True,balance=True,Oversampling=False)\n",
    "clf=LinearDiscriminantAnalysis()\n",
    "m1.pass_classifier(clf)\n",
    "m1.fit_method_and_score()\n",
    "m1.classification_report()\n",
    "m1.validation()"
   ]
  },
  {
   "cell_type": "markdown",
   "metadata": {},
   "source": [
    "## QDA"
   ]
  },
  {
   "cell_type": "code",
   "execution_count": 27,
   "metadata": {
    "ExecuteTime": {
     "end_time": "2021-05-23T13:51:39.425687Z",
     "start_time": "2021-05-23T13:51:38.983880Z"
    }
   },
   "outputs": [
    {
     "name": "stdout",
     "output_type": "stream",
     "text": [
      "QuadraticDiscriminantAnalysis()\n",
      "              precision    recall  f1-score   support\n",
      "\n",
      "           0       0.92      0.94      0.93        64\n",
      "           1       0.94      0.93      0.94        70\n",
      "\n",
      "    accuracy                           0.93       134\n",
      "   macro avg       0.93      0.93      0.93       134\n",
      "weighted avg       0.93      0.93      0.93       134\n",
      "\n",
      "\u001b[34m\n",
      "\n",
      "Accuracy \n",
      "\u001b[0m\n",
      "List of possible Accuracy Score:\n",
      " [0.9403, 0.9328, 0.9403, 0.9403, 0.9328, 0.9478, 0.9403, 0.9478, 0.9328, 0.9328, 0.9552, 0.9328, 0.9403, 0.9478, 0.9403, 0.9403, 0.9403, 0.9328]\n",
      "\n",
      "Maximum Accuracy Score That can be obtained from this model is: 95.52000000000001 %\n",
      "\n",
      "Minimum Accuracy Score: 93.28 %\n",
      "\n",
      "Average Accuracy Score That can be obtained from this model is:: 0.9398777777777778\n",
      "\n",
      "Median Accuracy Score That can be obtained from this model is:: 0.9403\n",
      "\n",
      "Standard Deviation is: 0.0063467012915333285\n",
      "\u001b[34m\n",
      "\n",
      "Recall \n",
      "\u001b[0m\n",
      "List of possible Recall Score:\n",
      " [0.9143, 0.9143, 0.9429, 0.9429, 0.9286, 0.9286, 0.9286, 0.9286, 0.9286, 0.9286, 0.9429, 0.9286, 0.9286, 0.9286, 0.9286, 0.9429, 0.9429, 0.9286]\n",
      "\n",
      "Maximum Recall Score That can be obtained from this model is: 94.28999999999999 %\n",
      "\n",
      "Minimum Recall Score: 91.43 %\n",
      "\n",
      "Average Recall Score That can be obtained from this model is:: 0.9309833333333333\n",
      "\n",
      "Median Recall Score That can be obtained from this model is:: 0.9286\n",
      "\n",
      "Standard Deviation is: 0.008593230539855829\n",
      "\u001b[34m\n",
      "\n",
      "Precision \n",
      "\u001b[0m\n",
      "List of possible Precision Score:\n",
      " [0.9697, 0.9552, 0.9429, 0.9429, 0.942, 0.9701, 0.9559, 0.9701, 0.942, 0.942, 0.9706, 0.942, 0.9559, 0.9701, 0.9559, 0.9429, 0.9429, 0.942]\n",
      "\n",
      "Maximum Precision Score That can be obtained from this model is: 97.06 %\n",
      "\n",
      "Minimum Precision Score: 94.19999999999999 %\n",
      "\n",
      "Average Precision Score That can be obtained from this model is:: 0.9530611111111111\n",
      "\n",
      "Median Precision Score That can be obtained from this model is:: 0.94905\n",
      "\n",
      "Standard Deviation is: 0.01180612547643944\n",
      "\u001b[34m\n",
      "\n",
      "F1-Score \n",
      "\u001b[0m\n",
      "List of possible F1-Score Score:\n",
      " [0.9412, 0.9343, 0.9429, 0.9429, 0.9353, 0.9489, 0.942, 0.9489, 0.9353, 0.9353, 0.9565, 0.9353, 0.942, 0.9489, 0.942, 0.9429, 0.9429, 0.9353]\n",
      "\n",
      "Maximum F1-Score Score That can be obtained from this model is: 95.65 %\n",
      "\n",
      "Minimum F1-Score Score: 93.43 %\n",
      "\n",
      "Average F1-Score Score That can be obtained from this model is:: 0.9418222222222224\n",
      "\n",
      "Median F1-Score Score That can be obtained from this model is:: 0.942\n",
      "\n",
      "Standard Deviation is: 0.0059634586865486595\n"
     ]
    }
   ],
   "source": [
    "from sklearn.discriminant_analysis import QuadraticDiscriminantAnalysis\n",
    "m1=Ml_Model(X,y,balance=True)\n",
    "clf=QuadraticDiscriminantAnalysis()\n",
    "m1.pass_classifier(clf)\n",
    "m1.fit_method_and_score()\n",
    "m1.classification_report()\n",
    "m1.validation()"
   ]
  },
  {
   "cell_type": "markdown",
   "metadata": {},
   "source": [
    "## SVM"
   ]
  },
  {
   "cell_type": "code",
   "execution_count": 50,
   "metadata": {
    "ExecuteTime": {
     "end_time": "2021-05-23T14:24:03.007349Z",
     "start_time": "2021-05-23T14:24:02.371740Z"
    }
   },
   "outputs": [
    {
     "name": "stdout",
     "output_type": "stream",
     "text": [
      "SVC(C=8)\n",
      "              precision    recall  f1-score   support\n",
      "\n",
      "           0       0.96      0.97      0.96        67\n",
      "           1       0.97      0.96      0.96        67\n",
      "\n",
      "    accuracy                           0.96       134\n",
      "   macro avg       0.96      0.96      0.96       134\n",
      "weighted avg       0.96      0.96      0.96       134\n",
      "\n",
      "\u001b[34m\n",
      "\n",
      "Accuracy \n",
      "\u001b[0m\n",
      "List of possible Accuracy Score:\n",
      " [0.5, 0.5, 0.5, 0.5, 0.5, 0.5, 0.5, 0.5, 0.5, 0.5, 0.5, 0.5, 0.5, 0.5, 0.5, 0.5, 0.5, 0.5]\n",
      "\n",
      "Maximum Accuracy Score That can be obtained from this model is: 50.0 %\n",
      "\n",
      "Minimum Accuracy Score: 50.0 %\n",
      "\n",
      "Average Accuracy Score That can be obtained from this model is:: 0.5\n",
      "\n",
      "Median Accuracy Score That can be obtained from this model is:: 0.5\n",
      "\n",
      "Standard Deviation is: 0.0\n",
      "\u001b[34m\n",
      "\n",
      "Recall \n",
      "\u001b[0m\n",
      "List of possible Recall Score:\n",
      " [1.0, 1.0, 1.0, 1.0, 1.0, 1.0, 1.0, 1.0, 1.0, 1.0, 1.0, 1.0, 1.0, 1.0, 1.0, 1.0, 1.0, 1.0]\n",
      "\n",
      "Maximum Recall Score That can be obtained from this model is: 100.0 %\n",
      "\n",
      "Minimum Recall Score: 100.0 %\n",
      "\n",
      "Average Recall Score That can be obtained from this model is:: 1.0\n",
      "\n",
      "Median Recall Score That can be obtained from this model is:: 1.0\n",
      "\n",
      "Standard Deviation is: 0.0\n",
      "\u001b[34m\n",
      "\n",
      "Precision \n",
      "\u001b[0m\n",
      "List of possible Precision Score:\n",
      " [0.5, 0.5, 0.5, 0.5, 0.5, 0.5, 0.5, 0.5, 0.5, 0.5, 0.5, 0.5, 0.5, 0.5, 0.5, 0.5, 0.5, 0.5]\n",
      "\n",
      "Maximum Precision Score That can be obtained from this model is: 50.0 %\n",
      "\n",
      "Minimum Precision Score: 50.0 %\n",
      "\n",
      "Average Precision Score That can be obtained from this model is:: 0.5\n",
      "\n",
      "Median Precision Score That can be obtained from this model is:: 0.5\n",
      "\n",
      "Standard Deviation is: 0.0\n",
      "\u001b[34m\n",
      "\n",
      "F1-Score \n",
      "\u001b[0m\n",
      "List of possible F1-Score Score:\n",
      " [0.6667, 0.6667, 0.6667, 0.6667, 0.6667, 0.6667, 0.6667, 0.6667, 0.6667, 0.6667, 0.6667, 0.6667, 0.6667, 0.6667, 0.6667, 0.6667, 0.6667, 0.6667]\n",
      "\n",
      "Maximum F1-Score Score That can be obtained from this model is: 66.67 %\n",
      "\n",
      "Minimum F1-Score Score: 66.67 %\n",
      "\n",
      "Average F1-Score Score That can be obtained from this model is:: 0.6667000000000001\n",
      "\n",
      "Median F1-Score Score That can be obtained from this model is:: 0.6667\n",
      "\n",
      "Standard Deviation is: 1.1102230246251565e-16\n"
     ]
    }
   ],
   "source": [
    "from sklearn.svm import SVC\n",
    "m1=Ml_Model(X,y,scaling=True,balance=True)\n",
    "clf=SVC(C=8)\n",
    "m1.pass_classifier(clf)\n",
    "m1.fit_method_and_score()\n",
    "m1.classification_report()\n",
    "m1.validation()"
   ]
  },
  {
   "cell_type": "markdown",
   "metadata": {},
   "source": [
    "\n",
    "\n",
    "<h2> <a href=\"https://scikit-learn.org/stable/modules/generated/sklearn.linear_model.LogisticRegression.html\"> Logistics Regression</a> </h2>"
   ]
  },
  {
   "cell_type": "code",
   "execution_count": 29,
   "metadata": {
    "ExecuteTime": {
     "end_time": "2021-05-23T13:51:53.037213Z",
     "start_time": "2021-05-23T13:51:41.069053Z"
    },
    "scrolled": false
   },
   "outputs": [
    {
     "name": "stdout",
     "output_type": "stream",
     "text": [
      "LogisticRegression(C=1, max_iter=1000)\n",
      "              precision    recall  f1-score   support\n",
      "\n",
      "           0       0.92      0.97      0.94        61\n",
      "           1       0.97      0.93      0.95        73\n",
      "\n",
      "    accuracy                           0.95       134\n",
      "   macro avg       0.95      0.95      0.95       134\n",
      "weighted avg       0.95      0.95      0.95       134\n",
      "\n"
     ]
    },
    {
     "name": "stderr",
     "output_type": "stream",
     "text": [
      "C:\\Users\\nikhil\\anaconda3\\lib\\site-packages\\sklearn\\linear_model\\_logistic.py:763: ConvergenceWarning: lbfgs failed to converge (status=1):\n",
      "STOP: TOTAL NO. of ITERATIONS REACHED LIMIT.\n",
      "\n",
      "Increase the number of iterations (max_iter) or scale the data as shown in:\n",
      "    https://scikit-learn.org/stable/modules/preprocessing.html\n",
      "Please also refer to the documentation for alternative solver options:\n",
      "    https://scikit-learn.org/stable/modules/linear_model.html#logistic-regression\n",
      "  n_iter_i = _check_optimize_result(\n",
      "C:\\Users\\nikhil\\anaconda3\\lib\\site-packages\\sklearn\\linear_model\\_logistic.py:763: ConvergenceWarning: lbfgs failed to converge (status=1):\n",
      "STOP: TOTAL NO. of ITERATIONS REACHED LIMIT.\n",
      "\n",
      "Increase the number of iterations (max_iter) or scale the data as shown in:\n",
      "    https://scikit-learn.org/stable/modules/preprocessing.html\n",
      "Please also refer to the documentation for alternative solver options:\n",
      "    https://scikit-learn.org/stable/modules/linear_model.html#logistic-regression\n",
      "  n_iter_i = _check_optimize_result(\n",
      "C:\\Users\\nikhil\\anaconda3\\lib\\site-packages\\sklearn\\metrics\\_classification.py:1245: UndefinedMetricWarning: Precision is ill-defined and being set to 0.0 due to no predicted samples. Use `zero_division` parameter to control this behavior.\n",
      "  _warn_prf(average, modifier, msg_start, len(result))\n",
      "C:\\Users\\nikhil\\anaconda3\\lib\\site-packages\\sklearn\\linear_model\\_logistic.py:763: ConvergenceWarning: lbfgs failed to converge (status=1):\n",
      "STOP: TOTAL NO. of ITERATIONS REACHED LIMIT.\n",
      "\n",
      "Increase the number of iterations (max_iter) or scale the data as shown in:\n",
      "    https://scikit-learn.org/stable/modules/preprocessing.html\n",
      "Please also refer to the documentation for alternative solver options:\n",
      "    https://scikit-learn.org/stable/modules/linear_model.html#logistic-regression\n",
      "  n_iter_i = _check_optimize_result(\n",
      "C:\\Users\\nikhil\\anaconda3\\lib\\site-packages\\sklearn\\metrics\\_classification.py:1245: UndefinedMetricWarning: Precision is ill-defined and being set to 0.0 due to no predicted samples. Use `zero_division` parameter to control this behavior.\n",
      "  _warn_prf(average, modifier, msg_start, len(result))\n",
      "C:\\Users\\nikhil\\anaconda3\\lib\\site-packages\\sklearn\\linear_model\\_logistic.py:763: ConvergenceWarning: lbfgs failed to converge (status=1):\n",
      "STOP: TOTAL NO. of ITERATIONS REACHED LIMIT.\n",
      "\n",
      "Increase the number of iterations (max_iter) or scale the data as shown in:\n",
      "    https://scikit-learn.org/stable/modules/preprocessing.html\n",
      "Please also refer to the documentation for alternative solver options:\n",
      "    https://scikit-learn.org/stable/modules/linear_model.html#logistic-regression\n",
      "  n_iter_i = _check_optimize_result(\n",
      "C:\\Users\\nikhil\\anaconda3\\lib\\site-packages\\sklearn\\linear_model\\_logistic.py:763: ConvergenceWarning: lbfgs failed to converge (status=1):\n",
      "STOP: TOTAL NO. of ITERATIONS REACHED LIMIT.\n",
      "\n",
      "Increase the number of iterations (max_iter) or scale the data as shown in:\n",
      "    https://scikit-learn.org/stable/modules/preprocessing.html\n",
      "Please also refer to the documentation for alternative solver options:\n",
      "    https://scikit-learn.org/stable/modules/linear_model.html#logistic-regression\n",
      "  n_iter_i = _check_optimize_result(\n",
      "C:\\Users\\nikhil\\anaconda3\\lib\\site-packages\\sklearn\\metrics\\_classification.py:1245: UndefinedMetricWarning: Precision is ill-defined and being set to 0.0 due to no predicted samples. Use `zero_division` parameter to control this behavior.\n",
      "  _warn_prf(average, modifier, msg_start, len(result))\n",
      "C:\\Users\\nikhil\\anaconda3\\lib\\site-packages\\sklearn\\linear_model\\_logistic.py:763: ConvergenceWarning: lbfgs failed to converge (status=1):\n",
      "STOP: TOTAL NO. of ITERATIONS REACHED LIMIT.\n",
      "\n",
      "Increase the number of iterations (max_iter) or scale the data as shown in:\n",
      "    https://scikit-learn.org/stable/modules/preprocessing.html\n",
      "Please also refer to the documentation for alternative solver options:\n",
      "    https://scikit-learn.org/stable/modules/linear_model.html#logistic-regression\n",
      "  n_iter_i = _check_optimize_result(\n",
      "C:\\Users\\nikhil\\anaconda3\\lib\\site-packages\\sklearn\\metrics\\_classification.py:1245: UndefinedMetricWarning: Precision is ill-defined and being set to 0.0 due to no predicted samples. Use `zero_division` parameter to control this behavior.\n",
      "  _warn_prf(average, modifier, msg_start, len(result))\n",
      "C:\\Users\\nikhil\\anaconda3\\lib\\site-packages\\sklearn\\linear_model\\_logistic.py:763: ConvergenceWarning: lbfgs failed to converge (status=1):\n",
      "STOP: TOTAL NO. of ITERATIONS REACHED LIMIT.\n",
      "\n",
      "Increase the number of iterations (max_iter) or scale the data as shown in:\n",
      "    https://scikit-learn.org/stable/modules/preprocessing.html\n",
      "Please also refer to the documentation for alternative solver options:\n",
      "    https://scikit-learn.org/stable/modules/linear_model.html#logistic-regression\n",
      "  n_iter_i = _check_optimize_result(\n",
      "C:\\Users\\nikhil\\anaconda3\\lib\\site-packages\\sklearn\\linear_model\\_logistic.py:763: ConvergenceWarning: lbfgs failed to converge (status=1):\n",
      "STOP: TOTAL NO. of ITERATIONS REACHED LIMIT.\n",
      "\n",
      "Increase the number of iterations (max_iter) or scale the data as shown in:\n",
      "    https://scikit-learn.org/stable/modules/preprocessing.html\n",
      "Please also refer to the documentation for alternative solver options:\n",
      "    https://scikit-learn.org/stable/modules/linear_model.html#logistic-regression\n",
      "  n_iter_i = _check_optimize_result(\n",
      "C:\\Users\\nikhil\\anaconda3\\lib\\site-packages\\sklearn\\linear_model\\_logistic.py:763: ConvergenceWarning: lbfgs failed to converge (status=1):\n",
      "STOP: TOTAL NO. of ITERATIONS REACHED LIMIT.\n",
      "\n",
      "Increase the number of iterations (max_iter) or scale the data as shown in:\n",
      "    https://scikit-learn.org/stable/modules/preprocessing.html\n",
      "Please also refer to the documentation for alternative solver options:\n",
      "    https://scikit-learn.org/stable/modules/linear_model.html#logistic-regression\n",
      "  n_iter_i = _check_optimize_result(\n",
      "C:\\Users\\nikhil\\anaconda3\\lib\\site-packages\\sklearn\\metrics\\_classification.py:1245: UndefinedMetricWarning: Precision is ill-defined and being set to 0.0 due to no predicted samples. Use `zero_division` parameter to control this behavior.\n",
      "  _warn_prf(average, modifier, msg_start, len(result))\n",
      "C:\\Users\\nikhil\\anaconda3\\lib\\site-packages\\sklearn\\linear_model\\_logistic.py:763: ConvergenceWarning: lbfgs failed to converge (status=1):\n",
      "STOP: TOTAL NO. of ITERATIONS REACHED LIMIT.\n",
      "\n",
      "Increase the number of iterations (max_iter) or scale the data as shown in:\n",
      "    https://scikit-learn.org/stable/modules/preprocessing.html\n",
      "Please also refer to the documentation for alternative solver options:\n",
      "    https://scikit-learn.org/stable/modules/linear_model.html#logistic-regression\n",
      "  n_iter_i = _check_optimize_result(\n",
      "C:\\Users\\nikhil\\anaconda3\\lib\\site-packages\\sklearn\\metrics\\_classification.py:1245: UndefinedMetricWarning: Precision is ill-defined and being set to 0.0 due to no predicted samples. Use `zero_division` parameter to control this behavior.\n",
      "  _warn_prf(average, modifier, msg_start, len(result))\n",
      "C:\\Users\\nikhil\\anaconda3\\lib\\site-packages\\sklearn\\linear_model\\_logistic.py:763: ConvergenceWarning: lbfgs failed to converge (status=1):\n",
      "STOP: TOTAL NO. of ITERATIONS REACHED LIMIT.\n",
      "\n",
      "Increase the number of iterations (max_iter) or scale the data as shown in:\n",
      "    https://scikit-learn.org/stable/modules/preprocessing.html\n",
      "Please also refer to the documentation for alternative solver options:\n",
      "    https://scikit-learn.org/stable/modules/linear_model.html#logistic-regression\n",
      "  n_iter_i = _check_optimize_result(\n",
      "C:\\Users\\nikhil\\anaconda3\\lib\\site-packages\\sklearn\\linear_model\\_logistic.py:763: ConvergenceWarning: lbfgs failed to converge (status=1):\n",
      "STOP: TOTAL NO. of ITERATIONS REACHED LIMIT.\n",
      "\n",
      "Increase the number of iterations (max_iter) or scale the data as shown in:\n",
      "    https://scikit-learn.org/stable/modules/preprocessing.html\n",
      "Please also refer to the documentation for alternative solver options:\n",
      "    https://scikit-learn.org/stable/modules/linear_model.html#logistic-regression\n",
      "  n_iter_i = _check_optimize_result(\n",
      "C:\\Users\\nikhil\\anaconda3\\lib\\site-packages\\sklearn\\linear_model\\_logistic.py:763: ConvergenceWarning: lbfgs failed to converge (status=1):\n",
      "STOP: TOTAL NO. of ITERATIONS REACHED LIMIT.\n",
      "\n",
      "Increase the number of iterations (max_iter) or scale the data as shown in:\n",
      "    https://scikit-learn.org/stable/modules/preprocessing.html\n",
      "Please also refer to the documentation for alternative solver options:\n",
      "    https://scikit-learn.org/stable/modules/linear_model.html#logistic-regression\n",
      "  n_iter_i = _check_optimize_result(\n"
     ]
    },
    {
     "name": "stderr",
     "output_type": "stream",
     "text": [
      "C:\\Users\\nikhil\\anaconda3\\lib\\site-packages\\sklearn\\linear_model\\_logistic.py:763: ConvergenceWarning: lbfgs failed to converge (status=1):\n",
      "STOP: TOTAL NO. of ITERATIONS REACHED LIMIT.\n",
      "\n",
      "Increase the number of iterations (max_iter) or scale the data as shown in:\n",
      "    https://scikit-learn.org/stable/modules/preprocessing.html\n",
      "Please also refer to the documentation for alternative solver options:\n",
      "    https://scikit-learn.org/stable/modules/linear_model.html#logistic-regression\n",
      "  n_iter_i = _check_optimize_result(\n",
      "C:\\Users\\nikhil\\anaconda3\\lib\\site-packages\\sklearn\\linear_model\\_logistic.py:763: ConvergenceWarning: lbfgs failed to converge (status=1):\n",
      "STOP: TOTAL NO. of ITERATIONS REACHED LIMIT.\n",
      "\n",
      "Increase the number of iterations (max_iter) or scale the data as shown in:\n",
      "    https://scikit-learn.org/stable/modules/preprocessing.html\n",
      "Please also refer to the documentation for alternative solver options:\n",
      "    https://scikit-learn.org/stable/modules/linear_model.html#logistic-regression\n",
      "  n_iter_i = _check_optimize_result(\n",
      "C:\\Users\\nikhil\\anaconda3\\lib\\site-packages\\sklearn\\linear_model\\_logistic.py:763: ConvergenceWarning: lbfgs failed to converge (status=1):\n",
      "STOP: TOTAL NO. of ITERATIONS REACHED LIMIT.\n",
      "\n",
      "Increase the number of iterations (max_iter) or scale the data as shown in:\n",
      "    https://scikit-learn.org/stable/modules/preprocessing.html\n",
      "Please also refer to the documentation for alternative solver options:\n",
      "    https://scikit-learn.org/stable/modules/linear_model.html#logistic-regression\n",
      "  n_iter_i = _check_optimize_result(\n",
      "C:\\Users\\nikhil\\anaconda3\\lib\\site-packages\\sklearn\\linear_model\\_logistic.py:763: ConvergenceWarning: lbfgs failed to converge (status=1):\n",
      "STOP: TOTAL NO. of ITERATIONS REACHED LIMIT.\n",
      "\n",
      "Increase the number of iterations (max_iter) or scale the data as shown in:\n",
      "    https://scikit-learn.org/stable/modules/preprocessing.html\n",
      "Please also refer to the documentation for alternative solver options:\n",
      "    https://scikit-learn.org/stable/modules/linear_model.html#logistic-regression\n",
      "  n_iter_i = _check_optimize_result(\n",
      "C:\\Users\\nikhil\\anaconda3\\lib\\site-packages\\sklearn\\metrics\\_classification.py:1245: UndefinedMetricWarning: Precision is ill-defined and being set to 0.0 due to no predicted samples. Use `zero_division` parameter to control this behavior.\n",
      "  _warn_prf(average, modifier, msg_start, len(result))\n"
     ]
    },
    {
     "name": "stdout",
     "output_type": "stream",
     "text": [
      "\u001b[34m\n",
      "\n",
      "Accuracy \n",
      "\u001b[0m\n",
      "List of possible Accuracy Score:\n",
      " [0.5149, 0.4552, 0.4552, 0.5149, 0.4552, 0.4552, 0.4627, 0.5149, 0.4552, 0.4552, 0.5, 0.7015, 0.5224, 0.4851, 0.4851, 0.5373, 0.4552, 0.4851]\n",
      "\n",
      "Maximum Accuracy Score That can be obtained from this model is: 70.15 %\n",
      "\n",
      "Minimum Accuracy Score: 45.519999999999996 %\n",
      "\n",
      "Average Accuracy Score That can be obtained from this model is:: 0.49501666666666666\n",
      "\n",
      "Median Accuracy Score That can be obtained from this model is:: 0.4851\n",
      "\n",
      "Standard Deviation is: 0.05716492951685209\n",
      "\u001b[34m\n",
      "\n",
      "Recall \n",
      "\u001b[0m\n",
      "List of possible Recall Score:\n",
      " [0.1096, 0.0, 0.0, 0.1096, 0.0, 0.0, 0.0137, 0.1096, 0.0, 0.0, 0.0822, 0.4521, 0.1233, 0.0548, 0.0548, 0.1507, 0.0, 0.0548]\n",
      "\n",
      "Maximum Recall Score That can be obtained from this model is: 45.21 %\n",
      "\n",
      "Minimum Recall Score: 0.0 %\n",
      "\n",
      "Average Recall Score That can be obtained from this model is:: 0.07306666666666667\n",
      "\n",
      "Median Recall Score That can be obtained from this model is:: 0.0548\n",
      "\n",
      "Standard Deviation is: 0.10493401101009465\n",
      "\u001b[34m\n",
      "\n",
      "Precision \n",
      "\u001b[0m\n",
      "List of possible Precision Score:\n",
      " [1.0, 0.0, 0.0, 1.0, 0.0, 0.0, 1.0, 1.0, 0.0, 0.0, 1.0, 1.0, 1.0, 1.0, 1.0, 1.0, 0.0, 1.0]\n",
      "\n",
      "Maximum Precision Score That can be obtained from this model is: 100.0 %\n",
      "\n",
      "Minimum Precision Score: 0.0 %\n",
      "\n",
      "Average Precision Score That can be obtained from this model is:: 0.6111111111111112\n",
      "\n",
      "Median Precision Score That can be obtained from this model is:: 1.0\n",
      "\n",
      "Standard Deviation is: 0.4874980215217845\n",
      "\u001b[34m\n",
      "\n",
      "F1-Score \n",
      "\u001b[0m\n",
      "List of possible F1-Score Score:\n",
      " [0.1975, 0.0, 0.0, 0.1975, 0.0, 0.0, 0.027, 0.1975, 0.0, 0.0, 0.1519, 0.6226, 0.2195, 0.1039, 0.1039, 0.2619, 0.0, 0.1039]\n",
      "\n",
      "Maximum F1-Score Score That can be obtained from this model is: 62.260000000000005 %\n",
      "\n",
      "Minimum F1-Score Score: 0.0 %\n",
      "\n",
      "Average F1-Score Score That can be obtained from this model is:: 0.12150555555555556\n",
      "\n",
      "Median F1-Score Score That can be obtained from this model is:: 0.1039\n",
      "\n",
      "Standard Deviation is: 0.15126591917041043\n"
     ]
    },
    {
     "name": "stderr",
     "output_type": "stream",
     "text": [
      "C:\\Users\\nikhil\\anaconda3\\lib\\site-packages\\sklearn\\linear_model\\_logistic.py:763: ConvergenceWarning: lbfgs failed to converge (status=1):\n",
      "STOP: TOTAL NO. of ITERATIONS REACHED LIMIT.\n",
      "\n",
      "Increase the number of iterations (max_iter) or scale the data as shown in:\n",
      "    https://scikit-learn.org/stable/modules/preprocessing.html\n",
      "Please also refer to the documentation for alternative solver options:\n",
      "    https://scikit-learn.org/stable/modules/linear_model.html#logistic-regression\n",
      "  n_iter_i = _check_optimize_result(\n"
     ]
    }
   ],
   "source": [
    "from sklearn.linear_model import LogisticRegression\n",
    "\n",
    "m1=Ml_Model(X,y,scaling=True,balance=True)\n",
    "clf=LogisticRegression(max_iter=1000,C=1)\n",
    "m1.pass_classifier(clf)\n",
    "m1.fit_method_and_score()\n",
    "m1.classification_report()\n",
    "m1.validation()"
   ]
  },
  {
   "cell_type": "markdown",
   "metadata": {},
   "source": [
    "## MLP Classifier"
   ]
  },
  {
   "cell_type": "code",
   "execution_count": null,
   "metadata": {},
   "outputs": [],
   "source": []
  },
  {
   "cell_type": "code",
   "execution_count": 24,
   "metadata": {
    "ExecuteTime": {
     "end_time": "2021-05-23T11:10:20.756919Z",
     "start_time": "2021-05-23T11:10:10.695392Z"
    }
   },
   "outputs": [
    {
     "name": "stdout",
     "output_type": "stream",
     "text": [
      "MLPClassifier()\n",
      "              precision    recall  f1-score   support\n",
      "\n",
      "           0       0.89      0.93      0.91        71\n",
      "           1       0.92      0.87      0.89        63\n",
      "\n",
      "    accuracy                           0.90       134\n",
      "   macro avg       0.90      0.90      0.90       134\n",
      "weighted avg       0.90      0.90      0.90       134\n",
      "\n"
     ]
    },
    {
     "name": "stderr",
     "output_type": "stream",
     "text": [
      "C:\\Users\\nikhil\\anaconda3\\lib\\site-packages\\sklearn\\neural_network\\_multilayer_perceptron.py:614: ConvergenceWarning: Stochastic Optimizer: Maximum iterations (200) reached and the optimization hasn't converged yet.\n",
      "  warnings.warn(\n"
     ]
    },
    {
     "name": "stdout",
     "output_type": "stream",
     "text": [
      "\u001b[34m\n",
      "\n",
      "Accuracy \n",
      "\u001b[0m\n",
      "List of possible Accuracy Score:\n",
      " [0.6866, 0.8134, 0.6567, 0.8433, 0.7761, 0.7836, 0.7239, 0.709, 0.709, 0.709, 0.8358, 0.7463, 0.597, 0.791, 0.7239, 0.6716, 0.791, 0.6866]\n",
      "\n",
      "Maximum Accuracy Score That can be obtained from this model is: 84.33 %\n",
      "\n",
      "Minimum Accuracy Score: 59.699999999999996 %\n",
      "\n",
      "Average Accuracy Score That can be obtained from this model is:: 0.7363222222222222\n",
      "\n",
      "Median Accuracy Score That can be obtained from this model is:: 0.7239\n",
      "\n",
      "Standard Deviation is: 0.06438144621926377\n",
      "\u001b[34m\n",
      "\n",
      "Recall \n",
      "\u001b[0m\n",
      "List of possible Recall Score:\n",
      " [0.8571, 0.7619, 0.8254, 0.746, 0.7937, 0.8095, 0.4286, 0.4762, 0.381, 0.5238, 0.746, 0.7619, 0.9206, 0.5873, 0.7937, 0.3016, 0.8095, 0.3333]\n",
      "\n",
      "Maximum Recall Score That can be obtained from this model is: 92.06 %\n",
      "\n",
      "Minimum Recall Score: 30.159999999999997 %\n",
      "\n",
      "Average Recall Score That can be obtained from this model is:: 0.6587277777777777\n",
      "\n",
      "Median Recall Score That can be obtained from this model is:: 0.75395\n",
      "\n",
      "Standard Deviation is: 0.19354707668952723\n",
      "\u001b[34m\n",
      "\n",
      "Precision \n",
      "\u001b[0m\n",
      "List of possible Precision Score:\n",
      " [0.6207, 0.8276, 0.5977, 0.9038, 0.7463, 0.75, 0.9643, 0.8333, 1.0, 0.7857, 0.8868, 0.7164, 0.5421, 0.9487, 0.6757, 1.0, 0.7612, 1.0]\n",
      "\n",
      "Maximum Precision Score That can be obtained from this model is: 100.0 %\n",
      "\n",
      "Minimum Precision Score: 54.21 %\n",
      "\n",
      "Average Precision Score That can be obtained from this model is:: 0.8089055555555555\n",
      "\n",
      "Median Precision Score That can be obtained from this model is:: 0.80665\n",
      "\n",
      "Standard Deviation is: 0.14082637249946484\n",
      "\u001b[34m\n",
      "\n",
      "F1-Score \n",
      "\u001b[0m\n",
      "List of possible F1-Score Score:\n",
      " [0.72, 0.7934, 0.6933, 0.8174, 0.7692, 0.7786, 0.5934, 0.6061, 0.5517, 0.6286, 0.8103, 0.7385, 0.6824, 0.7255, 0.7299, 0.4634, 0.7846, 0.5]\n",
      "\n",
      "Maximum F1-Score Score That can be obtained from this model is: 81.74 %\n",
      "\n",
      "Minimum F1-Score Score: 46.339999999999996 %\n",
      "\n",
      "Average F1-Score Score That can be obtained from this model is:: 0.6881277777777778\n",
      "\n",
      "Median F1-Score Score That can be obtained from this model is:: 0.72275\n",
      "\n",
      "Standard Deviation is: 0.10469304766026759\n"
     ]
    }
   ],
   "source": [
    "from sklearn.neural_network import MLPClassifier\n",
    "\n",
    "m1=Ml_Model(X,y,scaling=True,balance=True)\n",
    "clf=MLPClassifier()\n",
    "m1.pass_classifier(clf)\n",
    "m1.fit_method_and_score()\n",
    "m1.classification_report()\n",
    "m1.validation()"
   ]
  },
  {
   "cell_type": "markdown",
   "metadata": {},
   "source": [
    "<h2> <a href=\"https://scikit-learn.org/stable/modules/generated/sklearn.neighbors.KNeighborsClassifier.html\">KNN Algorithms</a> </h2>"
   ]
  },
  {
   "cell_type": "code",
   "execution_count": null,
   "metadata": {},
   "outputs": [],
   "source": []
  },
  {
   "cell_type": "code",
   "execution_count": 25,
   "metadata": {
    "ExecuteTime": {
     "end_time": "2021-05-23T11:10:21.539908Z",
     "start_time": "2021-05-23T11:10:20.761915Z"
    }
   },
   "outputs": [
    {
     "name": "stdout",
     "output_type": "stream",
     "text": [
      "KNeighborsClassifier(n_jobs=-1, p=1.5, weights='distance')\n",
      "              precision    recall  f1-score   support\n",
      "\n",
      "           0       0.87      0.90      0.88        67\n",
      "           1       0.89      0.87      0.88        67\n",
      "\n",
      "    accuracy                           0.88       134\n",
      "   macro avg       0.88      0.88      0.88       134\n",
      "weighted avg       0.88      0.88      0.88       134\n",
      "\n",
      "\u001b[34m\n",
      "\n",
      "Accuracy \n",
      "\u001b[0m\n",
      "List of possible Accuracy Score:\n",
      " [0.9851, 0.9851, 0.9925, 1.0, 0.9851, 1.0, 1.0, 0.9851, 0.9925, 1.0, 1.0, 0.9925, 0.9925, 0.9925, 0.9925, 1.0, 0.9851, 1.0]\n",
      "\n",
      "Maximum Accuracy Score That can be obtained from this model is: 100.0 %\n",
      "\n",
      "Minimum Accuracy Score: 98.50999999999999 %\n",
      "\n",
      "Average Accuracy Score That can be obtained from this model is:: 0.9933611111111111\n",
      "\n",
      "Median Accuracy Score That can be obtained from this model is:: 0.9925\n",
      "\n",
      "Standard Deviation is: 0.006028648170645902\n",
      "\u001b[34m\n",
      "\n",
      "Recall \n",
      "\u001b[0m\n",
      "List of possible Recall Score:\n",
      " [1.0, 0.9851, 0.9851, 1.0, 0.9851, 1.0, 1.0, 0.9851, 1.0, 1.0, 1.0, 0.9851, 0.9851, 1.0, 1.0, 1.0, 0.9701, 1.0]\n",
      "\n",
      "Maximum Recall Score That can be obtained from this model is: 100.0 %\n",
      "\n",
      "Minimum Recall Score: 97.00999999999999 %\n",
      "\n",
      "Average Recall Score That can be obtained from this model is:: 0.9933722222222223\n",
      "\n",
      "Median Recall Score That can be obtained from this model is:: 1.0\n",
      "\n",
      "Standard Deviation is: 0.00892990018331397\n",
      "\u001b[34m\n",
      "\n",
      "Precision \n",
      "\u001b[0m\n",
      "List of possible Precision Score:\n",
      " [0.971, 0.9851, 1.0, 1.0, 0.9851, 1.0, 1.0, 0.9851, 0.9853, 1.0, 1.0, 1.0, 1.0, 0.9853, 0.9853, 1.0, 1.0, 1.0]\n",
      "\n",
      "Maximum Precision Score That can be obtained from this model is: 100.0 %\n",
      "\n",
      "Minimum Precision Score: 97.1 %\n",
      "\n",
      "Average Precision Score That can be obtained from this model is:: 0.9934555555555556\n",
      "\n",
      "Median Precision Score That can be obtained from this model is:: 1.0\n",
      "\n",
      "Standard Deviation is: 0.0087697853909015\n",
      "\u001b[34m\n",
      "\n",
      "F1-Score \n",
      "\u001b[0m\n",
      "List of possible F1-Score Score:\n",
      " [0.9853, 0.9851, 0.9925, 1.0, 0.9851, 1.0, 1.0, 0.9851, 0.9926, 1.0, 1.0, 0.9925, 0.9925, 0.9926, 0.9926, 1.0, 0.9848, 1.0]\n",
      "\n",
      "Maximum F1-Score Score That can be obtained from this model is: 100.0 %\n",
      "\n",
      "Minimum F1-Score Score: 98.48 %\n",
      "\n",
      "Average F1-Score Score That can be obtained from this model is:: 0.9933722222222223\n",
      "\n",
      "Median F1-Score Score That can be obtained from this model is:: 0.9926\n",
      "\n",
      "Standard Deviation is: 0.00603460442923014\n"
     ]
    }
   ],
   "source": [
    "from sklearn.neighbors import KNeighborsClassifier\n",
    "m1=Ml_Model(X,y,balance=True)\n",
    "clf=KNeighborsClassifier(p=1.5,n_jobs=-1,n_neighbors=5,weights=\"distance\") \n",
    "m1.pass_classifier(clf)\n",
    "m1.fit_method_and_score()\n",
    "m1.classification_report()\n",
    "m1.validation()"
   ]
  },
  {
   "cell_type": "markdown",
   "metadata": {},
   "source": [
    "## Decision Tree "
   ]
  },
  {
   "cell_type": "code",
   "execution_count": 26,
   "metadata": {
    "ExecuteTime": {
     "end_time": "2021-05-23T11:10:22.097965Z",
     "start_time": "2021-05-23T11:10:21.546902Z"
    }
   },
   "outputs": [
    {
     "name": "stdout",
     "output_type": "stream",
     "text": [
      "DecisionTreeClassifier(max_depth=4, max_features=5, max_leaf_nodes=6)\n",
      "              precision    recall  f1-score   support\n",
      "\n",
      "           0       0.74      1.00      0.85        66\n",
      "           1       1.00      0.66      0.80        68\n",
      "\n",
      "    accuracy                           0.83       134\n",
      "   macro avg       0.87      0.83      0.82       134\n",
      "weighted avg       0.87      0.83      0.82       134\n",
      "\n",
      "\u001b[34m\n",
      "\n",
      "Accuracy \n",
      "\u001b[0m\n",
      "List of possible Accuracy Score:\n",
      " [0.9925, 0.9179, 0.9925, 0.9478, 0.9552, 0.9701, 0.9254, 0.9925, 0.9925, 0.9328, 0.9627, 0.9179, 0.9925, 0.9627, 0.9925, 0.9104, 0.9925, 0.9925]\n",
      "\n",
      "Maximum Accuracy Score That can be obtained from this model is: 99.25 %\n",
      "\n",
      "Minimum Accuracy Score: 91.03999999999999 %\n",
      "\n",
      "Average Accuracy Score That can be obtained from this model is:: 0.9634944444444444\n",
      "\n",
      "Median Accuracy Score That can be obtained from this model is:: 0.9663999999999999\n",
      "\n",
      "Standard Deviation is: 0.030240379043447174\n",
      "\u001b[34m\n",
      "\n",
      "Recall \n",
      "\u001b[0m\n",
      "List of possible Recall Score:\n",
      " [0.9853, 0.8824, 0.9853, 0.8971, 0.9118, 0.9412, 0.9265, 0.9853, 0.9853, 0.8676, 0.9265, 0.8382, 0.9853, 0.9265, 0.9853, 0.8235, 0.9853, 0.9853]\n",
      "\n",
      "Maximum Recall Score That can be obtained from this model is: 98.53 %\n",
      "\n",
      "Minimum Recall Score: 82.35 %\n",
      "\n",
      "Average Recall Score That can be obtained from this model is:: 0.9346500000000001\n",
      "\n",
      "Median Recall Score That can be obtained from this model is:: 0.9338500000000001\n",
      "\n",
      "Standard Deviation is: 0.053531073530551684\n",
      "\u001b[34m\n",
      "\n",
      "Precision \n",
      "\u001b[0m\n",
      "List of possible Precision Score:\n",
      " [1.0, 0.9524, 1.0, 1.0, 1.0, 1.0, 0.9265, 1.0, 1.0, 1.0, 1.0, 1.0, 1.0, 1.0, 1.0, 1.0, 1.0, 1.0]\n",
      "\n",
      "Maximum Precision Score That can be obtained from this model is: 100.0 %\n",
      "\n",
      "Minimum Precision Score: 92.65 %\n",
      "\n",
      "Average Precision Score That can be obtained from this model is:: 0.9932722222222223\n",
      "\n",
      "Median Precision Score That can be obtained from this model is:: 1.0\n",
      "\n",
      "Standard Deviation is: 0.01951249757792157\n",
      "\u001b[34m\n",
      "\n",
      "F1-Score \n",
      "\u001b[0m\n",
      "List of possible F1-Score Score:\n",
      " [0.9926, 0.916, 0.9926, 0.9457, 0.9538, 0.9697, 0.9265, 0.9926, 0.9926, 0.9291, 0.9618, 0.912, 0.9926, 0.9618, 0.9926, 0.9032, 0.9926, 0.9926]\n",
      "\n",
      "Maximum F1-Score Score That can be obtained from this model is: 99.26 %\n",
      "\n",
      "Minimum F1-Score Score: 90.32 %\n",
      "\n",
      "Average F1-Score Score That can be obtained from this model is:: 0.9622444444444445\n",
      "\n",
      "Median F1-Score Score That can be obtained from this model is:: 0.96575\n",
      "\n",
      "Standard Deviation is: 0.03188364649126959\n"
     ]
    }
   ],
   "source": [
    "from sklearn.tree import DecisionTreeClassifier\n",
    "m1=Ml_Model(X,y,balance=True)\n",
    "clf=DecisionTreeClassifier(max_leaf_nodes=6,max_depth=4,max_features=5)\n",
    "m1.pass_classifier(clf)\n",
    "m1.fit_method_and_score()\n",
    "m1.classification_report()\n",
    "m1.validation()"
   ]
  },
  {
   "cell_type": "markdown",
   "metadata": {},
   "source": [
    "## Random Forest"
   ]
  },
  {
   "cell_type": "code",
   "execution_count": 27,
   "metadata": {
    "ExecuteTime": {
     "end_time": "2021-05-23T11:10:26.099668Z",
     "start_time": "2021-05-23T11:10:22.104961Z"
    }
   },
   "outputs": [
    {
     "name": "stdout",
     "output_type": "stream",
     "text": [
      "RandomForestClassifier(max_leaf_nodes=30, n_estimators=50)\n",
      "              precision    recall  f1-score   support\n",
      "\n",
      "           0       0.98      1.00      0.99       131\n",
      "           1       1.00      0.97      0.98        61\n",
      "\n",
      "    accuracy                           0.99       192\n",
      "   macro avg       0.99      0.98      0.99       192\n",
      "weighted avg       0.99      0.99      0.99       192\n",
      "\n",
      "\u001b[34m\n",
      "\n",
      "Accuracy \n",
      "\u001b[0m\n",
      "List of possible Accuracy Score:\n",
      " [1.0, 1.0, 1.0, 1.0, 1.0, 1.0, 1.0, 1.0, 1.0, 0.9896, 1.0, 1.0, 1.0, 1.0, 1.0, 1.0, 1.0, 1.0]\n",
      "\n",
      "Maximum Accuracy Score That can be obtained from this model is: 100.0 %\n",
      "\n",
      "Minimum Accuracy Score: 98.96000000000001 %\n",
      "\n",
      "Average Accuracy Score That can be obtained from this model is:: 0.9994222222222222\n",
      "\n",
      "Median Accuracy Score That can be obtained from this model is:: 1.0\n",
      "\n",
      "Standard Deviation is: 0.002382238805912418\n",
      "\u001b[34m\n",
      "\n",
      "Recall \n",
      "\u001b[0m\n",
      "List of possible Recall Score:\n",
      " [1.0, 1.0, 1.0, 1.0, 1.0, 1.0, 1.0, 1.0, 1.0, 0.9672, 1.0, 1.0, 1.0, 1.0, 1.0, 1.0, 1.0, 1.0]\n",
      "\n",
      "Maximum Recall Score That can be obtained from this model is: 100.0 %\n",
      "\n",
      "Minimum Recall Score: 96.72 %\n",
      "\n",
      "Average Recall Score That can be obtained from this model is:: 0.9981777777777777\n",
      "\n",
      "Median Recall Score That can be obtained from this model is:: 1.0\n",
      "\n",
      "Standard Deviation is: 0.00751321469556997\n",
      "\u001b[34m\n",
      "\n",
      "Precision \n",
      "\u001b[0m\n",
      "List of possible Precision Score:\n",
      " [1.0, 1.0, 1.0, 1.0, 1.0, 1.0, 1.0, 1.0, 1.0, 1.0, 1.0, 1.0, 1.0, 1.0, 1.0, 1.0, 1.0, 1.0]\n",
      "\n",
      "Maximum Precision Score That can be obtained from this model is: 100.0 %\n",
      "\n",
      "Minimum Precision Score: 100.0 %\n",
      "\n",
      "Average Precision Score That can be obtained from this model is:: 1.0\n",
      "\n",
      "Median Precision Score That can be obtained from this model is:: 1.0\n",
      "\n",
      "Standard Deviation is: 0.0\n",
      "\u001b[34m\n",
      "\n",
      "F1-Score \n",
      "\u001b[0m\n",
      "List of possible F1-Score Score:\n",
      " [1.0, 1.0, 1.0, 1.0, 1.0, 1.0, 1.0, 1.0, 1.0, 0.9833, 1.0, 1.0, 1.0, 1.0, 1.0, 1.0, 1.0, 1.0]\n",
      "\n",
      "Maximum F1-Score Score That can be obtained from this model is: 100.0 %\n",
      "\n",
      "Minimum F1-Score Score: 98.33 %\n",
      "\n",
      "Average F1-Score Score That can be obtained from this model is:: 0.9990722222222223\n",
      "\n",
      "Median F1-Score Score That can be obtained from this model is:: 1.0\n",
      "\n",
      "Standard Deviation is: 0.0038253257748786184\n"
     ]
    }
   ],
   "source": [
    "\n",
    "from sklearn.ensemble import RandomForestClassifier\n",
    "m1=Ml_Model(X,y)\n",
    "clf=RandomForestClassifier(n_estimators=50,max_leaf_nodes=30)\n",
    "m1.pass_classifier(clf)\n",
    "m1.fit_method_and_score()\n",
    "m1.classification_report()\n",
    "m1.validation()\n"
   ]
  },
  {
   "cell_type": "code",
   "execution_count": null,
   "metadata": {},
   "outputs": [],
   "source": []
  }
 ],
 "metadata": {
  "kernelspec": {
   "display_name": "Python 3",
   "language": "python",
   "name": "python3"
  },
  "language_info": {
   "codemirror_mode": {
    "name": "ipython",
    "version": 3
   },
   "file_extension": ".py",
   "mimetype": "text/x-python",
   "name": "python",
   "nbconvert_exporter": "python",
   "pygments_lexer": "ipython3",
   "version": "3.8.5"
  },
  "toc": {
   "base_numbering": 1,
   "nav_menu": {},
   "number_sections": true,
   "sideBar": true,
   "skip_h1_title": false,
   "title_cell": "Table of Contents",
   "title_sidebar": "Contents",
   "toc_cell": false,
   "toc_position": {},
   "toc_section_display": true,
   "toc_window_display": true
  }
 },
 "nbformat": 4,
 "nbformat_minor": 4
}
