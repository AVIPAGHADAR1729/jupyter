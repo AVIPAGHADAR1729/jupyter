{
 "cells": [
  {
   "cell_type": "code",
   "execution_count": 2,
   "metadata": {
    "ExecuteTime": {
     "end_time": "2021-06-02T03:26:45.747057Z",
     "start_time": "2021-06-02T03:26:45.739059Z"
    }
   },
   "outputs": [],
   "source": [
    "import pandas as pd \n",
    "import numpy as np\n",
    "import matplotlib.pyplot as plt\n",
    "import seaborn as sns\n",
    "import warnings\n",
    "warnings.filterwarnings(\"ignore\")\n"
   ]
  },
  {
   "cell_type": "code",
   "execution_count": 3,
   "metadata": {
    "ExecuteTime": {
     "end_time": "2021-06-02T03:26:46.487542Z",
     "start_time": "2021-06-02T03:26:46.227012Z"
    }
   },
   "outputs": [
    {
     "data": {
      "text/html": [
       "<div>\n",
       "<style scoped>\n",
       "    .dataframe tbody tr th:only-of-type {\n",
       "        vertical-align: middle;\n",
       "    }\n",
       "\n",
       "    .dataframe tbody tr th {\n",
       "        vertical-align: top;\n",
       "    }\n",
       "\n",
       "    .dataframe thead th {\n",
       "        text-align: right;\n",
       "    }\n",
       "</style>\n",
       "<table border=\"1\" class=\"dataframe\">\n",
       "  <thead>\n",
       "    <tr style=\"text-align: right;\">\n",
       "      <th></th>\n",
       "      <th>Pregnancies</th>\n",
       "      <th>Gender</th>\n",
       "      <th>Glucose</th>\n",
       "      <th>BloodPressure</th>\n",
       "      <th>SkinThickness</th>\n",
       "      <th>Insulin</th>\n",
       "      <th>BMI</th>\n",
       "      <th>DiabetesPedigreeFunction</th>\n",
       "      <th>Age</th>\n",
       "      <th>Outcome</th>\n",
       "      <th>CalorieIntake</th>\n",
       "      <th>Exercise</th>\n",
       "      <th>SleepDuration</th>\n",
       "    </tr>\n",
       "  </thead>\n",
       "  <tbody>\n",
       "    <tr>\n",
       "      <th>0</th>\n",
       "      <td>0</td>\n",
       "      <td>M</td>\n",
       "      <td>148</td>\n",
       "      <td>72</td>\n",
       "      <td>35</td>\n",
       "      <td>0</td>\n",
       "      <td>33.6</td>\n",
       "      <td>0.627</td>\n",
       "      <td>50</td>\n",
       "      <td>1</td>\n",
       "      <td>2508.3</td>\n",
       "      <td>No</td>\n",
       "      <td>6</td>\n",
       "    </tr>\n",
       "    <tr>\n",
       "      <th>1</th>\n",
       "      <td>1</td>\n",
       "      <td>F</td>\n",
       "      <td>85</td>\n",
       "      <td>66</td>\n",
       "      <td>29</td>\n",
       "      <td>0</td>\n",
       "      <td>26.6</td>\n",
       "      <td>0.351</td>\n",
       "      <td>31</td>\n",
       "      <td>0</td>\n",
       "      <td>2760.0</td>\n",
       "      <td>Evening</td>\n",
       "      <td>8</td>\n",
       "    </tr>\n",
       "    <tr>\n",
       "      <th>2</th>\n",
       "      <td>0</td>\n",
       "      <td>M</td>\n",
       "      <td>183</td>\n",
       "      <td>64</td>\n",
       "      <td>0</td>\n",
       "      <td>0</td>\n",
       "      <td>23.3</td>\n",
       "      <td>0.672</td>\n",
       "      <td>32</td>\n",
       "      <td>1</td>\n",
       "      <td>6480.0</td>\n",
       "      <td>Morning</td>\n",
       "      <td>8</td>\n",
       "    </tr>\n",
       "    <tr>\n",
       "      <th>3</th>\n",
       "      <td>1</td>\n",
       "      <td>F</td>\n",
       "      <td>89</td>\n",
       "      <td>66</td>\n",
       "      <td>23</td>\n",
       "      <td>94</td>\n",
       "      <td>28.1</td>\n",
       "      <td>0.167</td>\n",
       "      <td>21</td>\n",
       "      <td>0</td>\n",
       "      <td>NaN</td>\n",
       "      <td>Evening</td>\n",
       "      <td>8</td>\n",
       "    </tr>\n",
       "    <tr>\n",
       "      <th>4</th>\n",
       "      <td>0</td>\n",
       "      <td>M</td>\n",
       "      <td>137</td>\n",
       "      <td>40</td>\n",
       "      <td>35</td>\n",
       "      <td>168</td>\n",
       "      <td>43.1</td>\n",
       "      <td>2.288</td>\n",
       "      <td>33</td>\n",
       "      <td>1</td>\n",
       "      <td>1970.0</td>\n",
       "      <td>No</td>\n",
       "      <td>9</td>\n",
       "    </tr>\n",
       "  </tbody>\n",
       "</table>\n",
       "</div>"
      ],
      "text/plain": [
       "   Pregnancies Gender  Glucose  BloodPressure  SkinThickness  Insulin   BMI  \\\n",
       "0            0      M      148             72             35        0  33.6   \n",
       "1            1      F       85             66             29        0  26.6   \n",
       "2            0      M      183             64              0        0  23.3   \n",
       "3            1      F       89             66             23       94  28.1   \n",
       "4            0      M      137             40             35      168  43.1   \n",
       "\n",
       "   DiabetesPedigreeFunction  Age  Outcome  CalorieIntake Exercise  \\\n",
       "0                     0.627   50        1         2508.3       No   \n",
       "1                     0.351   31        0         2760.0  Evening   \n",
       "2                     0.672   32        1         6480.0  Morning   \n",
       "3                     0.167   21        0            NaN  Evening   \n",
       "4                     2.288   33        1         1970.0       No   \n",
       "\n",
       "   SleepDuration  \n",
       "0              6  \n",
       "1              8  \n",
       "2              8  \n",
       "3              8  \n",
       "4              9  "
      ]
     },
     "execution_count": 3,
     "metadata": {},
     "output_type": "execute_result"
    }
   ],
   "source": [
    "#import data \n",
    "diabetes_df=pd.read_csv(\"diabetes.csv\")\n",
    "diabetes_df.head()"
   ]
  },
  {
   "cell_type": "code",
   "execution_count": 4,
   "metadata": {
    "ExecuteTime": {
     "end_time": "2021-06-02T03:26:47.031489Z",
     "start_time": "2021-06-02T03:26:46.887510Z"
    }
   },
   "outputs": [
    {
     "name": "stdout",
     "output_type": "stream",
     "text": [
      "<class 'pandas.core.frame.DataFrame'>\n",
      "RangeIndex: 768 entries, 0 to 767\n",
      "Data columns (total 13 columns):\n",
      " #   Column                    Non-Null Count  Dtype  \n",
      "---  ------                    --------------  -----  \n",
      " 0   Pregnancies               768 non-null    int64  \n",
      " 1   Gender                    768 non-null    object \n",
      " 2   Glucose                   768 non-null    int64  \n",
      " 3   BloodPressure             768 non-null    int64  \n",
      " 4   SkinThickness             768 non-null    int64  \n",
      " 5   Insulin                   768 non-null    int64  \n",
      " 6   BMI                       768 non-null    float64\n",
      " 7   DiabetesPedigreeFunction  768 non-null    float64\n",
      " 8   Age                       768 non-null    int64  \n",
      " 9   Outcome                   768 non-null    int64  \n",
      " 10  CalorieIntake             753 non-null    float64\n",
      " 11  Exercise                  768 non-null    object \n",
      " 12  SleepDuration             768 non-null    int64  \n",
      "dtypes: float64(3), int64(8), object(2)\n",
      "memory usage: 78.1+ KB\n"
     ]
    }
   ],
   "source": [
    "diabetes_df.info()"
   ]
  },
  {
   "cell_type": "code",
   "execution_count": 5,
   "metadata": {
    "ExecuteTime": {
     "end_time": "2021-06-02T03:26:47.728161Z",
     "start_time": "2021-06-02T03:26:47.656141Z"
    }
   },
   "outputs": [
    {
     "data": {
      "text/html": [
       "<div>\n",
       "<style scoped>\n",
       "    .dataframe tbody tr th:only-of-type {\n",
       "        vertical-align: middle;\n",
       "    }\n",
       "\n",
       "    .dataframe tbody tr th {\n",
       "        vertical-align: top;\n",
       "    }\n",
       "\n",
       "    .dataframe thead th {\n",
       "        text-align: right;\n",
       "    }\n",
       "</style>\n",
       "<table border=\"1\" class=\"dataframe\">\n",
       "  <thead>\n",
       "    <tr style=\"text-align: right;\">\n",
       "      <th></th>\n",
       "      <th>Pregnancies</th>\n",
       "      <th>Gender</th>\n",
       "      <th>Glucose</th>\n",
       "      <th>BloodPressure</th>\n",
       "      <th>SkinThickness</th>\n",
       "      <th>Insulin</th>\n",
       "      <th>BMI</th>\n",
       "      <th>DiabetesPedigreeFunction</th>\n",
       "      <th>Age</th>\n",
       "      <th>CalorieIntake</th>\n",
       "      <th>Exercise</th>\n",
       "      <th>SleepDuration</th>\n",
       "      <th>Outcome</th>\n",
       "    </tr>\n",
       "  </thead>\n",
       "  <tbody>\n",
       "    <tr>\n",
       "      <th>0</th>\n",
       "      <td>0</td>\n",
       "      <td>M</td>\n",
       "      <td>148</td>\n",
       "      <td>72</td>\n",
       "      <td>35</td>\n",
       "      <td>0</td>\n",
       "      <td>33.6</td>\n",
       "      <td>0.627</td>\n",
       "      <td>50</td>\n",
       "      <td>2508.3</td>\n",
       "      <td>No</td>\n",
       "      <td>6</td>\n",
       "      <td>1</td>\n",
       "    </tr>\n",
       "    <tr>\n",
       "      <th>1</th>\n",
       "      <td>1</td>\n",
       "      <td>F</td>\n",
       "      <td>85</td>\n",
       "      <td>66</td>\n",
       "      <td>29</td>\n",
       "      <td>0</td>\n",
       "      <td>26.6</td>\n",
       "      <td>0.351</td>\n",
       "      <td>31</td>\n",
       "      <td>2760.0</td>\n",
       "      <td>Evening</td>\n",
       "      <td>8</td>\n",
       "      <td>0</td>\n",
       "    </tr>\n",
       "    <tr>\n",
       "      <th>2</th>\n",
       "      <td>0</td>\n",
       "      <td>M</td>\n",
       "      <td>183</td>\n",
       "      <td>64</td>\n",
       "      <td>0</td>\n",
       "      <td>0</td>\n",
       "      <td>23.3</td>\n",
       "      <td>0.672</td>\n",
       "      <td>32</td>\n",
       "      <td>6480.0</td>\n",
       "      <td>Morning</td>\n",
       "      <td>8</td>\n",
       "      <td>1</td>\n",
       "    </tr>\n",
       "    <tr>\n",
       "      <th>3</th>\n",
       "      <td>1</td>\n",
       "      <td>F</td>\n",
       "      <td>89</td>\n",
       "      <td>66</td>\n",
       "      <td>23</td>\n",
       "      <td>94</td>\n",
       "      <td>28.1</td>\n",
       "      <td>0.167</td>\n",
       "      <td>21</td>\n",
       "      <td>NaN</td>\n",
       "      <td>Evening</td>\n",
       "      <td>8</td>\n",
       "      <td>0</td>\n",
       "    </tr>\n",
       "    <tr>\n",
       "      <th>4</th>\n",
       "      <td>0</td>\n",
       "      <td>M</td>\n",
       "      <td>137</td>\n",
       "      <td>40</td>\n",
       "      <td>35</td>\n",
       "      <td>168</td>\n",
       "      <td>43.1</td>\n",
       "      <td>2.288</td>\n",
       "      <td>33</td>\n",
       "      <td>1970.0</td>\n",
       "      <td>No</td>\n",
       "      <td>9</td>\n",
       "      <td>1</td>\n",
       "    </tr>\n",
       "  </tbody>\n",
       "</table>\n",
       "</div>"
      ],
      "text/plain": [
       "   Pregnancies Gender  Glucose  BloodPressure  SkinThickness  Insulin   BMI  \\\n",
       "0            0      M      148             72             35        0  33.6   \n",
       "1            1      F       85             66             29        0  26.6   \n",
       "2            0      M      183             64              0        0  23.3   \n",
       "3            1      F       89             66             23       94  28.1   \n",
       "4            0      M      137             40             35      168  43.1   \n",
       "\n",
       "   DiabetesPedigreeFunction  Age  CalorieIntake Exercise  SleepDuration  \\\n",
       "0                     0.627   50         2508.3       No              6   \n",
       "1                     0.351   31         2760.0  Evening              8   \n",
       "2                     0.672   32         6480.0  Morning              8   \n",
       "3                     0.167   21            NaN  Evening              8   \n",
       "4                     2.288   33         1970.0       No              9   \n",
       "\n",
       "   Outcome  \n",
       "0        1  \n",
       "1        0  \n",
       "2        1  \n",
       "3        0  \n",
       "4        1  "
      ]
     },
     "execution_count": 5,
     "metadata": {},
     "output_type": "execute_result"
    }
   ],
   "source": [
    "# Reaarange Outcome columns \n",
    "l1=[col  for col in diabetes_df.columns if col!=\"Outcome\"]\n",
    "l1.append(\"Outcome\")\n",
    "diabetes_df=diabetes_df[l1]\n",
    "diabetes_df.head()"
   ]
  },
  {
   "cell_type": "markdown",
   "metadata": {},
   "source": [
    "## Data Clean\n"
   ]
  },
  {
   "cell_type": "code",
   "execution_count": 6,
   "metadata": {
    "ExecuteTime": {
     "end_time": "2021-06-02T03:26:49.562996Z",
     "start_time": "2021-06-02T03:26:49.538999Z"
    }
   },
   "outputs": [],
   "source": [
    "def data_clean(df=None):\n",
    "        df[\"Exercise\"]=df[\"Exercise\"].replace({\"No\":1,\"Evening\":2,\"Morning\":3,\"Both\":4}).astype(int)\n",
    "        df[\"Gender\"]=df[\"Gender\"].replace({\"M\":1,\"F\":0}).astype(int)\n",
    "        df[\"CalorieIntake\"].fillna(df[\"CalorieIntake\"].median(),inplace=True)\n",
    "        return df\n",
    "    \n",
    "    \n",
    "diabetes_df_clean=data_clean(diabetes_df)"
   ]
  },
  {
   "cell_type": "code",
   "execution_count": 7,
   "metadata": {
    "ExecuteTime": {
     "end_time": "2021-06-02T03:26:50.467086Z",
     "start_time": "2021-06-02T03:26:50.435073Z"
    },
    "scrolled": true
   },
   "outputs": [
    {
     "data": {
      "text/html": [
       "<div>\n",
       "<style scoped>\n",
       "    .dataframe tbody tr th:only-of-type {\n",
       "        vertical-align: middle;\n",
       "    }\n",
       "\n",
       "    .dataframe tbody tr th {\n",
       "        vertical-align: top;\n",
       "    }\n",
       "\n",
       "    .dataframe thead th {\n",
       "        text-align: right;\n",
       "    }\n",
       "</style>\n",
       "<table border=\"1\" class=\"dataframe\">\n",
       "  <thead>\n",
       "    <tr style=\"text-align: right;\">\n",
       "      <th></th>\n",
       "      <th>Pregnancies</th>\n",
       "      <th>Gender</th>\n",
       "      <th>Glucose</th>\n",
       "      <th>BloodPressure</th>\n",
       "      <th>SkinThickness</th>\n",
       "      <th>Insulin</th>\n",
       "      <th>BMI</th>\n",
       "      <th>DiabetesPedigreeFunction</th>\n",
       "      <th>Age</th>\n",
       "      <th>CalorieIntake</th>\n",
       "      <th>Exercise</th>\n",
       "      <th>SleepDuration</th>\n",
       "      <th>Outcome</th>\n",
       "    </tr>\n",
       "  </thead>\n",
       "  <tbody>\n",
       "    <tr>\n",
       "      <th>0</th>\n",
       "      <td>0</td>\n",
       "      <td>1</td>\n",
       "      <td>148</td>\n",
       "      <td>72</td>\n",
       "      <td>35</td>\n",
       "      <td>0</td>\n",
       "      <td>33.6</td>\n",
       "      <td>0.627</td>\n",
       "      <td>50</td>\n",
       "      <td>2508.3</td>\n",
       "      <td>1</td>\n",
       "      <td>6</td>\n",
       "      <td>1</td>\n",
       "    </tr>\n",
       "    <tr>\n",
       "      <th>1</th>\n",
       "      <td>1</td>\n",
       "      <td>0</td>\n",
       "      <td>85</td>\n",
       "      <td>66</td>\n",
       "      <td>29</td>\n",
       "      <td>0</td>\n",
       "      <td>26.6</td>\n",
       "      <td>0.351</td>\n",
       "      <td>31</td>\n",
       "      <td>2760.0</td>\n",
       "      <td>2</td>\n",
       "      <td>8</td>\n",
       "      <td>0</td>\n",
       "    </tr>\n",
       "    <tr>\n",
       "      <th>2</th>\n",
       "      <td>0</td>\n",
       "      <td>1</td>\n",
       "      <td>183</td>\n",
       "      <td>64</td>\n",
       "      <td>0</td>\n",
       "      <td>0</td>\n",
       "      <td>23.3</td>\n",
       "      <td>0.672</td>\n",
       "      <td>32</td>\n",
       "      <td>6480.0</td>\n",
       "      <td>3</td>\n",
       "      <td>8</td>\n",
       "      <td>1</td>\n",
       "    </tr>\n",
       "    <tr>\n",
       "      <th>3</th>\n",
       "      <td>1</td>\n",
       "      <td>0</td>\n",
       "      <td>89</td>\n",
       "      <td>66</td>\n",
       "      <td>23</td>\n",
       "      <td>94</td>\n",
       "      <td>28.1</td>\n",
       "      <td>0.167</td>\n",
       "      <td>21</td>\n",
       "      <td>2893.0</td>\n",
       "      <td>2</td>\n",
       "      <td>8</td>\n",
       "      <td>0</td>\n",
       "    </tr>\n",
       "    <tr>\n",
       "      <th>4</th>\n",
       "      <td>0</td>\n",
       "      <td>1</td>\n",
       "      <td>137</td>\n",
       "      <td>40</td>\n",
       "      <td>35</td>\n",
       "      <td>168</td>\n",
       "      <td>43.1</td>\n",
       "      <td>2.288</td>\n",
       "      <td>33</td>\n",
       "      <td>1970.0</td>\n",
       "      <td>1</td>\n",
       "      <td>9</td>\n",
       "      <td>1</td>\n",
       "    </tr>\n",
       "  </tbody>\n",
       "</table>\n",
       "</div>"
      ],
      "text/plain": [
       "   Pregnancies  Gender  Glucose  BloodPressure  SkinThickness  Insulin   BMI  \\\n",
       "0            0       1      148             72             35        0  33.6   \n",
       "1            1       0       85             66             29        0  26.6   \n",
       "2            0       1      183             64              0        0  23.3   \n",
       "3            1       0       89             66             23       94  28.1   \n",
       "4            0       1      137             40             35      168  43.1   \n",
       "\n",
       "   DiabetesPedigreeFunction  Age  CalorieIntake  Exercise  SleepDuration  \\\n",
       "0                     0.627   50         2508.3         1              6   \n",
       "1                     0.351   31         2760.0         2              8   \n",
       "2                     0.672   32         6480.0         3              8   \n",
       "3                     0.167   21         2893.0         2              8   \n",
       "4                     2.288   33         1970.0         1              9   \n",
       "\n",
       "   Outcome  \n",
       "0        1  \n",
       "1        0  \n",
       "2        1  \n",
       "3        0  \n",
       "4        1  "
      ]
     },
     "execution_count": 7,
     "metadata": {},
     "output_type": "execute_result"
    }
   ],
   "source": [
    "diabetes_df_clean.head()"
   ]
  },
  {
   "cell_type": "markdown",
   "metadata": {},
   "source": [
    "<b> seaborn Through visualization </b>"
   ]
  },
  {
   "cell_type": "code",
   "execution_count": 8,
   "metadata": {
    "ExecuteTime": {
     "end_time": "2021-06-02T03:26:51.899101Z",
     "start_time": "2021-06-02T03:26:51.891102Z"
    }
   },
   "outputs": [],
   "source": [
    "# sns.pairplot(diabetes_df_clean,hue=\"Outcome\")"
   ]
  },
  {
   "cell_type": "markdown",
   "metadata": {
    "ExecuteTime": {
     "end_time": "2021-05-20T05:46:38.313722Z",
     "start_time": "2021-05-20T05:46:38.308728Z"
    }
   },
   "source": [
    "## Visuliazation Of Data by LDA\n"
   ]
  },
  {
   "cell_type": "code",
   "execution_count": 9,
   "metadata": {
    "ExecuteTime": {
     "end_time": "2021-06-02T03:26:53.099025Z",
     "start_time": "2021-06-02T03:26:53.083008Z"
    }
   },
   "outputs": [],
   "source": [
    "#lda_df use for Without affecting clean dataframe\n",
    "Lda_df=diabetes_df_clean.copy()"
   ]
  },
  {
   "cell_type": "code",
   "execution_count": 10,
   "metadata": {
    "ExecuteTime": {
     "end_time": "2021-06-02T03:26:53.682423Z",
     "start_time": "2021-06-02T03:26:53.666160Z"
    }
   },
   "outputs": [],
   "source": [
    "X=Lda_df.iloc[:,:-1]\n",
    "y=Lda_df.iloc[:,-1]\n"
   ]
  },
  {
   "cell_type": "code",
   "execution_count": null,
   "metadata": {},
   "outputs": [],
   "source": []
  },
  {
   "cell_type": "code",
   "execution_count": 13,
   "metadata": {
    "ExecuteTime": {
     "end_time": "2021-06-02T03:27:42.459105Z",
     "start_time": "2021-06-02T03:27:42.435200Z"
    }
   },
   "outputs": [],
   "source": [
    "from sklearn.discriminant_analysis import LinearDiscriminantAnalysis\n",
    "clf1=LinearDiscriminantAnalysis(\"eigen\",n_components=1)\n",
    "\n",
    "X_r1=clf1.fit(X,y).transform(X)\n",
    "l2=np.ones(len(X_r1))  ## dummy variable use for X_train,X_test because they not allow 1-D array\n",
    "\n",
    "lda_df=pd.DataFrame(data=np.column_stack([X_r1,l2,diabetes_df_clean[\"Outcome\"]]),columns=[\"X_r1\",\"l2\",\"Outcome\"])"
   ]
  },
  {
   "cell_type": "code",
   "execution_count": 14,
   "metadata": {
    "ExecuteTime": {
     "end_time": "2021-06-02T03:27:43.211000Z",
     "start_time": "2021-06-02T03:27:43.187002Z"
    }
   },
   "outputs": [
    {
     "data": {
      "text/html": [
       "<div>\n",
       "<style scoped>\n",
       "    .dataframe tbody tr th:only-of-type {\n",
       "        vertical-align: middle;\n",
       "    }\n",
       "\n",
       "    .dataframe tbody tr th {\n",
       "        vertical-align: top;\n",
       "    }\n",
       "\n",
       "    .dataframe thead th {\n",
       "        text-align: right;\n",
       "    }\n",
       "</style>\n",
       "<table border=\"1\" class=\"dataframe\">\n",
       "  <thead>\n",
       "    <tr style=\"text-align: right;\">\n",
       "      <th></th>\n",
       "      <th>X_r1</th>\n",
       "      <th>l2</th>\n",
       "      <th>Outcome</th>\n",
       "    </tr>\n",
       "  </thead>\n",
       "  <tbody>\n",
       "    <tr>\n",
       "      <th>0</th>\n",
       "      <td>5.378751</td>\n",
       "      <td>1.0</td>\n",
       "      <td>1.0</td>\n",
       "    </tr>\n",
       "    <tr>\n",
       "      <th>1</th>\n",
       "      <td>3.951466</td>\n",
       "      <td>1.0</td>\n",
       "      <td>0.0</td>\n",
       "    </tr>\n",
       "    <tr>\n",
       "      <th>2</th>\n",
       "      <td>6.559834</td>\n",
       "      <td>1.0</td>\n",
       "      <td>1.0</td>\n",
       "    </tr>\n",
       "    <tr>\n",
       "      <th>3</th>\n",
       "      <td>3.996132</td>\n",
       "      <td>1.0</td>\n",
       "      <td>0.0</td>\n",
       "    </tr>\n",
       "    <tr>\n",
       "      <th>4</th>\n",
       "      <td>6.262587</td>\n",
       "      <td>1.0</td>\n",
       "      <td>1.0</td>\n",
       "    </tr>\n",
       "    <tr>\n",
       "      <th>...</th>\n",
       "      <td>...</td>\n",
       "      <td>...</td>\n",
       "      <td>...</td>\n",
       "    </tr>\n",
       "    <tr>\n",
       "      <th>763</th>\n",
       "      <td>2.882233</td>\n",
       "      <td>1.0</td>\n",
       "      <td>0.0</td>\n",
       "    </tr>\n",
       "    <tr>\n",
       "      <th>764</th>\n",
       "      <td>3.653800</td>\n",
       "      <td>1.0</td>\n",
       "      <td>0.0</td>\n",
       "    </tr>\n",
       "    <tr>\n",
       "      <th>765</th>\n",
       "      <td>3.778974</td>\n",
       "      <td>1.0</td>\n",
       "      <td>0.0</td>\n",
       "    </tr>\n",
       "    <tr>\n",
       "      <th>766</th>\n",
       "      <td>7.750035</td>\n",
       "      <td>1.0</td>\n",
       "      <td>1.0</td>\n",
       "    </tr>\n",
       "    <tr>\n",
       "      <th>767</th>\n",
       "      <td>2.422596</td>\n",
       "      <td>1.0</td>\n",
       "      <td>0.0</td>\n",
       "    </tr>\n",
       "  </tbody>\n",
       "</table>\n",
       "<p>768 rows × 3 columns</p>\n",
       "</div>"
      ],
      "text/plain": [
       "         X_r1   l2  Outcome\n",
       "0    5.378751  1.0      1.0\n",
       "1    3.951466  1.0      0.0\n",
       "2    6.559834  1.0      1.0\n",
       "3    3.996132  1.0      0.0\n",
       "4    6.262587  1.0      1.0\n",
       "..        ...  ...      ...\n",
       "763  2.882233  1.0      0.0\n",
       "764  3.653800  1.0      0.0\n",
       "765  3.778974  1.0      0.0\n",
       "766  7.750035  1.0      1.0\n",
       "767  2.422596  1.0      0.0\n",
       "\n",
       "[768 rows x 3 columns]"
      ]
     },
     "execution_count": 14,
     "metadata": {},
     "output_type": "execute_result"
    }
   ],
   "source": [
    "lda_df"
   ]
  },
  {
   "cell_type": "code",
   "execution_count": 15,
   "metadata": {
    "ExecuteTime": {
     "end_time": "2021-06-02T03:27:45.288699Z",
     "start_time": "2021-06-02T03:27:43.867038Z"
    }
   },
   "outputs": [
    {
     "data": {
      "text/plain": [
       "<seaborn.axisgrid.FacetGrid at 0x1c040657fa0>"
      ]
     },
     "execution_count": 15,
     "metadata": {},
     "output_type": "execute_result"
    },
    {
     "data": {
      "image/png": "[encoded data removed]",
      "text/plain": [
       "<Figure size 413.25x360 with 1 Axes>"
      ]
     },
     "metadata": {
      "needs_background": "light"
     },
     "output_type": "display_data"
    }
   ],
   "source": [
    "sns.displot(x=lda_df[\"X_r1\"],hue=lda_df[\"Outcome\"])"
   ]
  },
  {
   "cell_type": "code",
   "execution_count": 19,
   "metadata": {
    "ExecuteTime": {
     "end_time": "2021-06-02T03:30:22.770955Z",
     "start_time": "2021-06-02T03:30:22.754953Z"
    }
   },
   "outputs": [],
   "source": [
    "from sklearn.model_selection import train_test_split \n",
    "X_train,X_test,y_train,y_test=train_test_split(lda_df.iloc[:,:-1],lda_df[\"Outcome\"],test_size=0.33)"
   ]
  },
  {
   "cell_type": "code",
   "execution_count": 20,
   "metadata": {
    "ExecuteTime": {
     "end_time": "2021-06-02T03:30:24.032050Z",
     "start_time": "2021-06-02T03:30:23.560035Z"
    },
    "scrolled": true
   },
   "outputs": [
    {
     "name": "stdout",
     "output_type": "stream",
     "text": [
      "              precision    recall  f1-score   support\n",
      "\n",
      "         0.0       0.91      0.99      0.95       168\n",
      "         1.0       0.97      0.81      0.89        86\n",
      "\n",
      "    accuracy                           0.93       254\n",
      "   macro avg       0.94      0.90      0.92       254\n",
      "weighted avg       0.93      0.93      0.93       254\n",
      "\n"
     ]
    }
   ],
   "source": [
    "from sklearn.discriminant_analysis import LinearDiscriminantAnalysis\n",
    "clf=LinearDiscriminantAnalysis()\n",
    "clf.fit(X_train,y_train)\n",
    "clf.score(X_test,y_test)\n",
    "y_pre=clf.predict(X_test)\n",
    "from sklearn.metrics import classification_report\n",
    "print(classification_report(y_test,y_pre))"
   ]
  },
  {
   "cell_type": "markdown",
   "metadata": {},
   "source": [
    "<b>Conclusion:</b> Here We can see LDA  transformation gives best Results  <strong>0.85 recall</strong> is the best because Here  We don't Want to Consider Diabetes Patient as normal person\n",
    "<b>Note:</b> We don't perform <b>scaling </b> and </b>balanced</b> dataset operation we will do ahead."
   ]
  },
  {
   "cell_type": "markdown",
   "metadata": {},
   "source": [
    "## <a href=\"https://scikit-learn.org/stable/modules/generated/sklearn.decomposition.PCA.html\">PCA</a>"
   ]
  },
  {
   "cell_type": "code",
   "execution_count": 21,
   "metadata": {
    "ExecuteTime": {
     "end_time": "2021-06-02T03:30:27.485135Z",
     "start_time": "2021-06-02T03:30:26.781274Z"
    }
   },
   "outputs": [],
   "source": [
    "from sklearn.decomposition import PCA\n",
    "pca=PCA(n_components=2)\n",
    "X_embedded=pca.fit_transform(X)\n",
    "\n",
    "pca_df=pd.DataFrame(data=X_embedded,columns=[\"x1\",\"x2\"])\n",
    "pca_df[\"Outcome\"]=y"
   ]
  },
  {
   "cell_type": "code",
   "execution_count": 22,
   "metadata": {
    "ExecuteTime": {
     "end_time": "2021-06-02T03:30:27.589116Z",
     "start_time": "2021-06-02T03:30:27.565115Z"
    },
    "scrolled": true
   },
   "outputs": [
    {
     "data": {
      "text/html": [
       "<div>\n",
       "<style scoped>\n",
       "    .dataframe tbody tr th:only-of-type {\n",
       "        vertical-align: middle;\n",
       "    }\n",
       "\n",
       "    .dataframe tbody tr th {\n",
       "        vertical-align: top;\n",
       "    }\n",
       "\n",
       "    .dataframe thead th {\n",
       "        text-align: right;\n",
       "    }\n",
       "</style>\n",
       "<table border=\"1\" class=\"dataframe\">\n",
       "  <thead>\n",
       "    <tr style=\"text-align: right;\">\n",
       "      <th></th>\n",
       "      <th>x1</th>\n",
       "      <th>x2</th>\n",
       "      <th>Outcome</th>\n",
       "    </tr>\n",
       "  </thead>\n",
       "  <tbody>\n",
       "    <tr>\n",
       "      <th>0</th>\n",
       "      <td>-1117.059750</td>\n",
       "      <td>-67.133801</td>\n",
       "      <td>1</td>\n",
       "    </tr>\n",
       "    <tr>\n",
       "      <th>1</th>\n",
       "      <td>-865.801159</td>\n",
       "      <td>-75.117454</td>\n",
       "      <td>0</td>\n",
       "    </tr>\n",
       "    <tr>\n",
       "      <th>2</th>\n",
       "      <td>2854.635956</td>\n",
       "      <td>-98.226393</td>\n",
       "      <td>1</td>\n",
       "    </tr>\n",
       "    <tr>\n",
       "      <th>3</th>\n",
       "      <td>-732.088672</td>\n",
       "      <td>17.309048</td>\n",
       "      <td>0</td>\n",
       "    </tr>\n",
       "    <tr>\n",
       "      <th>4</th>\n",
       "      <td>-1654.140145</td>\n",
       "      <td>102.883393</td>\n",
       "      <td>1</td>\n",
       "    </tr>\n",
       "  </tbody>\n",
       "</table>\n",
       "</div>"
      ],
      "text/plain": [
       "            x1          x2  Outcome\n",
       "0 -1117.059750  -67.133801        1\n",
       "1  -865.801159  -75.117454        0\n",
       "2  2854.635956  -98.226393        1\n",
       "3  -732.088672   17.309048        0\n",
       "4 -1654.140145  102.883393        1"
      ]
     },
     "execution_count": 22,
     "metadata": {},
     "output_type": "execute_result"
    }
   ],
   "source": [
    "pca_df.head()"
   ]
  },
  {
   "cell_type": "markdown",
   "metadata": {
    "ExecuteTime": {
     "end_time": "2021-06-02T03:30:42.246027Z",
     "start_time": "2021-06-02T03:30:42.238027Z"
    }
   },
   "source": [
    "<p> Below plot capture Overall Data shape By PCA  </p> "
   ]
  },
  {
   "cell_type": "code",
   "execution_count": 24,
   "metadata": {
    "ExecuteTime": {
     "end_time": "2021-06-02T03:30:29.584402Z",
     "start_time": "2021-06-02T03:30:28.949984Z"
    }
   },
   "outputs": [
    {
     "data": {
      "text/plain": [
       "<AxesSubplot:xlabel='x1', ylabel='x2'>"
      ]
     },
     "execution_count": 24,
     "metadata": {},
     "output_type": "execute_result"
    },
    {
     "data": {
      "image/png": "[encoded data removed]",
      "text/plain": [
       "<Figure size 432x288 with 1 Axes>"
      ]
     },
     "metadata": {
      "needs_background": "light"
     },
     "output_type": "display_data"
    }
   ],
   "source": [
    "sns.scatterplot(data=pca_df,x='x1',y=\"x2\",hue=\"Outcome\")"
   ]
  },
  {
   "cell_type": "markdown",
   "metadata": {},
   "source": [
    "## <a href=\"https://scikit-learn.org/stable/modules/generated/sklearn.manifold.TSNE.html\"> T-SNE </a>"
   ]
  },
  {
   "cell_type": "markdown",
   "metadata": {},
   "source": [
    "Another Unsupervised Machine learning Algorithms"
   ]
  },
  {
   "cell_type": "code",
   "execution_count": 26,
   "metadata": {
    "ExecuteTime": {
     "end_time": "2021-06-02T03:31:26.210228Z",
     "start_time": "2021-06-02T03:30:58.222767Z"
    }
   },
   "outputs": [
    {
     "data": {
      "text/plain": [
       "(768, 2)"
      ]
     },
     "execution_count": 26,
     "metadata": {},
     "output_type": "execute_result"
    }
   ],
   "source": [
    "from sklearn.manifold import TSNE\n",
    "X_embedded = TSNE(n_components=2,perplexity=30.0,n_iter=5000).fit_transform(X)\n",
    "X_embedded.shape"
   ]
  },
  {
   "cell_type": "code",
   "execution_count": 27,
   "metadata": {
    "ExecuteTime": {
     "end_time": "2021-06-02T03:31:30.741861Z",
     "start_time": "2021-06-02T03:31:30.725873Z"
    }
   },
   "outputs": [],
   "source": [
    "t_sne_df=pd.DataFrame(data=X_embedded,columns=[\"x1\",\"x2\"])\n",
    "t_sne_df[\"Outcome\"]=y"
   ]
  },
  {
   "cell_type": "code",
   "execution_count": 28,
   "metadata": {
    "ExecuteTime": {
     "end_time": "2021-06-02T03:31:31.285852Z",
     "start_time": "2021-06-02T03:31:31.253852Z"
    }
   },
   "outputs": [
    {
     "data": {
      "text/html": [
       "<div>\n",
       "<style scoped>\n",
       "    .dataframe tbody tr th:only-of-type {\n",
       "        vertical-align: middle;\n",
       "    }\n",
       "\n",
       "    .dataframe tbody tr th {\n",
       "        vertical-align: top;\n",
       "    }\n",
       "\n",
       "    .dataframe thead th {\n",
       "        text-align: right;\n",
       "    }\n",
       "</style>\n",
       "<table border=\"1\" class=\"dataframe\">\n",
       "  <thead>\n",
       "    <tr style=\"text-align: right;\">\n",
       "      <th></th>\n",
       "      <th>x1</th>\n",
       "      <th>x2</th>\n",
       "      <th>Outcome</th>\n",
       "    </tr>\n",
       "  </thead>\n",
       "  <tbody>\n",
       "    <tr>\n",
       "      <th>0</th>\n",
       "      <td>-0.317606</td>\n",
       "      <td>-33.770275</td>\n",
       "      <td>1</td>\n",
       "    </tr>\n",
       "    <tr>\n",
       "      <th>1</th>\n",
       "      <td>15.359135</td>\n",
       "      <td>-1.809881</td>\n",
       "      <td>0</td>\n",
       "    </tr>\n",
       "    <tr>\n",
       "      <th>2</th>\n",
       "      <td>-44.311665</td>\n",
       "      <td>-0.270399</td>\n",
       "      <td>1</td>\n",
       "    </tr>\n",
       "    <tr>\n",
       "      <th>3</th>\n",
       "      <td>38.817532</td>\n",
       "      <td>1.010725</td>\n",
       "      <td>0</td>\n",
       "    </tr>\n",
       "    <tr>\n",
       "      <th>4</th>\n",
       "      <td>17.543386</td>\n",
       "      <td>-48.574162</td>\n",
       "      <td>1</td>\n",
       "    </tr>\n",
       "    <tr>\n",
       "      <th>...</th>\n",
       "      <td>...</td>\n",
       "      <td>...</td>\n",
       "      <td>...</td>\n",
       "    </tr>\n",
       "    <tr>\n",
       "      <th>763</th>\n",
       "      <td>36.638355</td>\n",
       "      <td>-3.534835</td>\n",
       "      <td>0</td>\n",
       "    </tr>\n",
       "    <tr>\n",
       "      <th>764</th>\n",
       "      <td>20.166225</td>\n",
       "      <td>42.598534</td>\n",
       "      <td>0</td>\n",
       "    </tr>\n",
       "    <tr>\n",
       "      <th>765</th>\n",
       "      <td>16.769964</td>\n",
       "      <td>44.188957</td>\n",
       "      <td>0</td>\n",
       "    </tr>\n",
       "    <tr>\n",
       "      <th>766</th>\n",
       "      <td>-48.569813</td>\n",
       "      <td>-12.225360</td>\n",
       "      <td>1</td>\n",
       "    </tr>\n",
       "    <tr>\n",
       "      <th>767</th>\n",
       "      <td>13.290783</td>\n",
       "      <td>-14.104189</td>\n",
       "      <td>0</td>\n",
       "    </tr>\n",
       "  </tbody>\n",
       "</table>\n",
       "<p>768 rows × 3 columns</p>\n",
       "</div>"
      ],
      "text/plain": [
       "            x1         x2  Outcome\n",
       "0    -0.317606 -33.770275        1\n",
       "1    15.359135  -1.809881        0\n",
       "2   -44.311665  -0.270399        1\n",
       "3    38.817532   1.010725        0\n",
       "4    17.543386 -48.574162        1\n",
       "..         ...        ...      ...\n",
       "763  36.638355  -3.534835        0\n",
       "764  20.166225  42.598534        0\n",
       "765  16.769964  44.188957        0\n",
       "766 -48.569813 -12.225360        1\n",
       "767  13.290783 -14.104189        0\n",
       "\n",
       "[768 rows x 3 columns]"
      ]
     },
     "execution_count": 28,
     "metadata": {},
     "output_type": "execute_result"
    }
   ],
   "source": [
    "t_sne_df"
   ]
  },
  {
   "cell_type": "code",
   "execution_count": 29,
   "metadata": {
    "ExecuteTime": {
     "end_time": "2021-06-02T03:31:32.102898Z",
     "start_time": "2021-06-02T03:31:31.613849Z"
    },
    "scrolled": false
   },
   "outputs": [
    {
     "data": {
      "text/plain": [
       "<AxesSubplot:xlabel='x1', ylabel='x2'>"
      ]
     },
     "execution_count": 29,
     "metadata": {},
     "output_type": "execute_result"
    },
    {
     "data": {
      "image/png": "[encoded data removed]",
      "text/plain": [
       "<Figure size 432x288 with 1 Axes>"
      ]
     },
     "metadata": {
      "needs_background": "light"
     },
     "output_type": "display_data"
    }
   ],
   "source": [
    "sns.scatterplot(data=t_sne_df,x='x1',y=\"x2\",hue='Outcome')"
   ]
  },
  {
   "cell_type": "markdown",
   "metadata": {},
   "source": [
    "## Feature Selection"
   ]
  },
  {
   "cell_type": "code",
   "execution_count": null,
   "metadata": {},
   "outputs": [],
   "source": []
  },
  {
   "cell_type": "code",
   "execution_count": 32,
   "metadata": {
    "ExecuteTime": {
     "end_time": "2021-06-02T03:31:57.811526Z",
     "start_time": "2021-06-02T03:31:56.993372Z"
    }
   },
   "outputs": [
    {
     "data": {
      "image/png": "[encoded data removed]",
      "text/plain": [
       "<Figure size 432x288 with 1 Axes>"
      ]
     },
     "metadata": {
      "needs_background": "light"
     },
     "output_type": "display_data"
    }
   ],
   "source": [
    "from matplotlib import pyplot\n",
    "from sklearn.ensemble import RandomForestClassifier\n",
    "model = RandomForestClassifier()\n",
    "# fit the model\n",
    "model.fit(X, y)\n",
    "# get importance\n",
    "importance = model.feature_importances_\n",
    "# summarize feature importance\n",
    "map_dict={}\n",
    "for i,v in zip(X.columns,importance):\n",
    "#          print('Feature: %0d, Score: %.5f' % (i,v))/abs\n",
    "         map_dict[i]=v\n",
    "    \n",
    "    \n",
    "# plot feature importance\n",
    "pyplot.bar(X.columns, importance)\n",
    "pyplot.xticks(rotation=90)\n",
    "pyplot.show()"
   ]
  },
  {
   "cell_type": "markdown",
   "metadata": {},
   "source": [
    "<b>Note</b>\n",
    "- Glucose :- Glucose Level increase then Diabetes chance Increase\n",
    "- CalorieIntake :- per day how many calorieIntake? if people take more calories than fat and sugar level increase                    so Diabetes chances Increase \n",
    "- Excercise :- In Every disease excercise will perform major role\n",
    "- sleepDuration :- If someone take less sleep it's also increase chance of diabetes, our body needs good sleep \n",
    "- BMI :- Overweighted person have more probability with context of diabetes.\n",
    "\n",
    "Other Factor Also play important role in Diabetes but we needs higher important feature so we would select above  5 Feature. "
   ]
  },
  {
   "cell_type": "code",
   "execution_count": 33,
   "metadata": {
    "ExecuteTime": {
     "end_time": "2021-06-02T03:32:03.424548Z",
     "start_time": "2021-06-02T03:32:03.408529Z"
    }
   },
   "outputs": [],
   "source": [
    "map_dict_list=dict(sorted(map_dict.items(),key=lambda kv: kv[1],reverse=True))"
   ]
  },
  {
   "cell_type": "code",
   "execution_count": 34,
   "metadata": {
    "ExecuteTime": {
     "end_time": "2021-06-02T03:32:03.888564Z",
     "start_time": "2021-06-02T03:32:03.872580Z"
    }
   },
   "outputs": [
    {
     "data": {
      "text/plain": [
       "{'CalorieIntake': 0.3666661596274284,\n",
       " 'Exercise': 0.35814760558753705,\n",
       " 'SleepDuration': 0.11994881876008312,\n",
       " 'Glucose': 0.06543325508752007,\n",
       " 'BMI': 0.02659010117913522,\n",
       " 'Age': 0.02210104400814254,\n",
       " 'DiabetesPedigreeFunction': 0.011512695637795417,\n",
       " 'Insulin': 0.011252329539574299,\n",
       " 'BloodPressure': 0.006576375322386489,\n",
       " 'SkinThickness': 0.005761968675178871,\n",
       " 'Pregnancies': 0.003709328522392456,\n",
       " 'Gender': 0.0023003180528260417}"
      ]
     },
     "execution_count": 34,
     "metadata": {},
     "output_type": "execute_result"
    }
   ],
   "source": [
    "map_dict_list"
   ]
  },
  {
   "cell_type": "code",
   "execution_count": 35,
   "metadata": {
    "ExecuteTime": {
     "end_time": "2021-06-02T03:32:08.284310Z",
     "start_time": "2021-06-02T03:32:08.228302Z"
    }
   },
   "outputs": [],
   "source": [
    "X=X[list(map_dict_list.keys())[:5]]\n",
    "y=y"
   ]
  },
  {
   "cell_type": "code",
   "execution_count": 36,
   "metadata": {
    "ExecuteTime": {
     "end_time": "2021-06-02T03:32:09.548443Z",
     "start_time": "2021-06-02T03:32:09.540445Z"
    }
   },
   "outputs": [],
   "source": [
    "##"
   ]
  },
  {
   "cell_type": "markdown",
   "metadata": {},
   "source": [
    "## General Class For ML Algorithms"
   ]
  },
  {
   "cell_type": "markdown",
   "metadata": {},
   "source": [
    "### Below Class have ability to make our data scale,handle imbalance dataset,fitting,validation and visualization."
   ]
  },
  {
   "cell_type": "code",
   "execution_count": 255,
   "metadata": {
    "ExecuteTime": {
     "end_time": "2021-06-02T07:43:29.751498Z",
     "start_time": "2021-06-02T07:43:29.689535Z"
    }
   },
   "outputs": [],
   "source": [
    "class Ml_Model(object):\n",
    "\n",
    "    def __init__(self, *arg, scaling=False, balance=False, Oversampling=False):\n",
    "        import numpy as np\n",
    "        self.X = arg[0]\n",
    "        self.y = arg[1]\n",
    "        self.sc=None\n",
    "        self.score_dict=None\n",
    "        \n",
    "        self.scaling=scaling\n",
    "   \n",
    "        if balance:\n",
    "\n",
    "            if not Oversampling:\n",
    "                from imblearn.under_sampling import RandomUnderSampler\n",
    "                b = RandomUnderSampler(sampling_strategy=1)\n",
    "                self.X, self.y = b.fit_resample(self.X, self.y)\n",
    "\n",
    "            else:\n",
    "                from imblearn.over_sampling import RandomOverSampler\n",
    "                b = RandomOverSampler(sampling_strategy=1)\n",
    "                self.X, self.y = b.fit_resample(self.X, self.y)\n",
    "\n",
    "        if not scaling:\n",
    "            from sklearn.model_selection import train_test_split\n",
    "            from sklearn.preprocessing import StandardScaler\n",
    "            self.X_train, self.X_test, self.y_train, self.y_test = train_test_split(\n",
    "                self.X, self.y)\n",
    "\n",
    "        else:\n",
    "            from sklearn.model_selection import train_test_split\n",
    "            from sklearn.preprocessing import StandardScaler\n",
    "            self.X_train, self.X_test, self.y_train, self.y_test = train_test_split(\n",
    "                self.X, self.y)\n",
    "\n",
    "            self.sc = StandardScaler()\n",
    "            self.X_train = self.sc.fit_transform(self.X_train)\n",
    "            self.X_test = self.sc.transform(self.X_test)\n",
    "            \n",
    "            \n",
    "    def train_test_split_obj(self):\n",
    "        \n",
    "        return (self.X_train,self.X_test,self.y_train,self.y_test)\n",
    "\n",
    "    def pass_classifier(self, clf=None):\n",
    "        self.clf = clf\n",
    "        print(clf)\n",
    "\n",
    "        return self.clf\n",
    "\n",
    "    def fit_method_and_score(self):\n",
    "\n",
    "        clf.fit(self.X_train, self.y_train)\n",
    "\n",
    "        return clf.predict(self.X_test)\n",
    "\n",
    "    def classification_report(self):\n",
    "        self.y_pred = self.clf.predict(self.X_test)\n",
    "        from sklearn.metrics import classification_report\n",
    "        return print(classification_report(self.y_test, self.y_pred))\n",
    "\n",
    "    def plot_mushroom_boundary(self, X, y, fitted_model):\n",
    "\n",
    "        plt.figure(figsize=(9.8, 5), dpi=100)\n",
    "        X = X\n",
    "        y = y\n",
    "        for i, plot_type in enumerate(['Decision Boundary', 'Decision Probabilities']):\n",
    "            plt.subplot(1, 2, i+1)\n",
    "\n",
    "            mesh_step_size = 0.01  # step size in the mesh\n",
    "            x_min, x_max = X[:, 0].min() - .1, X[:, 0].max() + .1\n",
    "            y_min, y_max = X[:, 1].min() - .1, X[:, 1].max() + .1\n",
    "            xx, yy = np.meshgrid(np.arange(x_min, x_max, mesh_step_size), np.arange(\n",
    "                y_min, y_max, mesh_step_size))\n",
    "            if i == 0:\n",
    "                Z = fitted_model.predict(np.c_[xx.ravel(), yy.ravel()])\n",
    "            else:\n",
    "                try:\n",
    "                    Z = fitted_model.predict_proba(\n",
    "                        np.c_[xx.ravel(), yy.ravel()])[:, 1]\n",
    "                except:\n",
    "                    plt.text(0.4, 0.5, 'Probabilities Unavailable', horizontalalignment='center',\n",
    "                             verticalalignment='center', transform=plt.gca().transAxes, fontsize=12)\n",
    "                    plt.axis('off')\n",
    "                    break\n",
    "            Z = Z.reshape(xx.shape)\n",
    "            plt.scatter(X[y.values == 0, 0], X[y.values == 0, 1],\n",
    "                        alpha=0.4, label=\"0\", s=5)\n",
    "            plt.scatter(X[y.values == 1, 0], X[y.values == 1, 1],\n",
    "                        alpha=0.4, label=\"1\", s=5)\n",
    "            plt.imshow(Z, interpolation='nearest', cmap='RdYlBu_r', alpha=0.15,\n",
    "                       extent=(x_min, x_max, y_min, y_max), origin='lower')\n",
    "            plt.title(plot_type + '\\n' +\n",
    "                      str(fitted_model).split('(')[0] + ' Test Accuracy: ' + str(np.round(fitted_model.score(X, y), 5)))\n",
    "            plt.gca().set_aspect('equal')\n",
    "\n",
    "        plt.tight_layout()\n",
    "        plt.subplots_adjust(top=0.9, bottom=0.08, wspace=0.02)\n",
    "\n",
    "    def validation(self):\n",
    "\n",
    "        from sklearn.model_selection import StratifiedKFold\n",
    "        from sklearn.metrics import f1_score\n",
    "        from sklearn.metrics import recall_score\n",
    "        from sklearn.metrics import accuracy_score\n",
    "        from sklearn.metrics import precision_score\n",
    "        from colorama import Fore, Back, Style\n",
    "\n",
    "        lst_accu_stratified = []\n",
    "        lst_recall_stratified = []\n",
    "        lst_precision_stratified = []\n",
    "\n",
    "        lst_f1_score_stratified = []\n",
    "        x = 0\n",
    "        skf = StratifiedKFold(n_splits=18, shuffle=True, random_state=1)\n",
    "      \n",
    "        for train_index, test_index in skf.split(self.X, self.y):\n",
    "            x_train_fold, x_test_fold = self.X.loc[train_index,\n",
    "                                                   :], self.X.loc[test_index, :]\n",
    "            y_train_fold, y_test_fold = self.y[train_index], self.y[test_index]\n",
    "\n",
    "            if not self.scaling :\n",
    "                         self.clf.fit(x_train_fold, y_train_fold)\n",
    "                         y_pre = clf.predict(self.X_test)\n",
    "            else:\n",
    "            \n",
    "                x_train_fold = self.sc.transform(x_train_fold)\n",
    "                x_test_fold = self.sc.transform(x_test_fold)\n",
    "                clf.fit(x_train_fold, y_train_fold)\n",
    "                y_pre = clf.predict(self.X_test)\n",
    "\n",
    "\n",
    "#                 print(classification_report(self.y_test,y_pre))\n",
    "\n",
    "            lst_accu_stratified.append(\n",
    "                round(accuracy_score(self.y_test, y_pre), 4))\n",
    "            lst_recall_stratified.append(\n",
    "                round(recall_score(self.y_test, y_pre), 4))\n",
    "            lst_f1_score_stratified.append(\n",
    "                round(f1_score(self.y_test, y_pre), 4))\n",
    "            lst_precision_stratified.append(\n",
    "                round(precision_score(self.y_test, y_pre), 4))\n",
    "\n",
    "            \n",
    "        self.score_dict=dict(zip([\"Accuracy\", \"Recall\", \"Precision\", \"F1-Score\"],\n",
    "                            [lst_accu_stratified, lst_recall_stratified, lst_precision_stratified, lst_f1_score_stratified]))\n",
    "        \n",
    "        for i, j in zip([\"Accuracy\", \"Recall\", \"Precision\", \"F1-Score\"], [lst_accu_stratified, lst_recall_stratified, lst_precision_stratified, lst_f1_score_stratified]):\n",
    "\n",
    "            print(Fore.BLUE+f\"\\n\\n{i} \")\n",
    "            print(Style.RESET_ALL)\n",
    "\n",
    "            print(f'List of possible {i} Score:\\n', j)\n",
    "\n",
    "            print(f'\\nMaximum {i} Score That can be obtained from this model is:', max(\n",
    "                j)*100, '%')\n",
    "            print(f'\\nMinimum {i} Score:', min(j)*100, '%')\n",
    "            print(\n",
    "                f'\\nAverage {i} Score That can be obtained from this model is::', np.mean(j))\n",
    "            print(\n",
    "                f'\\nMedian {i} Score That can be obtained from this model is::', np.median(j))\n",
    "            print('\\nStandard Deviation is:', np.std(j))\n",
    "            \n",
    "        return None\n",
    "            \n",
    "    def score_return(self,score=\"F1-Score\"):\n",
    "            \n",
    "            try :\n",
    "                 return (score,self.score_dict[score])\n",
    "\n",
    "            except KeyError :\n",
    "                    print()\n",
    "                    print(Fore.RED+\"KeyError : please follow  given list score format for gaining score list that created by validation function\\n\"+\n",
    "                          \":[Accuracy,Recall,Precision,F1-Score]\")\n",
    "\n",
    "\n",
    "                    print()\n",
    "                \n",
    "       \n",
    "            \n",
    "            \n",
    "\n",
    "    def visualization(self):\n",
    "        from colorama import Fore, Back, Style\n",
    "        print()\n",
    "        print(Fore.BLUE+\"\\n Below Test Acurracy Based On PCA\")\n",
    "        from sklearn.model_selection import train_test_split\n",
    "        from imblearn.under_sampling import RandomUnderSampler\n",
    "        from sklearn.preprocessing import StandardScaler\n",
    "        from sklearn.decomposition import PCA\n",
    "        pca = PCA(n_components=2,)\n",
    "        X_embedded = pca.fit_transform(self.X)\n",
    "        sc = StandardScaler()\n",
    "\n",
    "        y_pca = self.y\n",
    "        X_pca = X_embedded\n",
    "        X_pca = sc.fit_transform(X_pca)\n",
    "        b = RandomUnderSampler(sampling_strategy=1)\n",
    "        X_pca_balance, y_pca_balance = b.fit_resample(X_pca, y_pca)\n",
    "\n",
    "        X_pca_balance_train, X_pca_balance_test, y_pca_balance_train, y_pca_balance_test = train_test_split(\n",
    "            X_pca_balance, y_pca_balance)\n",
    "\n",
    "        model = self.clf\n",
    "        model.fit(X_pca_balance_train, y_pca_balance_train)\n",
    "        model.score(X_pca_balance_test, y_pca_balance_test)\n",
    "        self.plot_mushroom_boundary(X_pca_balance_test, y_pca_balance_test, model)"
   ]
  },
  {
   "cell_type": "raw",
   "metadata": {},
   "source": []
  },
  {
   "cell_type": "markdown",
   "metadata": {
    "ExecuteTime": {
     "end_time": "2021-06-01T10:27:30.638588Z",
     "start_time": "2021-06-01T10:27:30.622569Z"
    }
   },
   "source": [
    "<b style=\"font-size:16px\">Aim:</b><b style=\"font-size:16px; color:green\"> Don't Forget Our Main is Aim to identify the diabetes person and it's represented by 1\n",
    "so our main focus on       Recall </b>"
   ]
  },
  {
   "cell_type": "raw",
   "metadata": {},
   "source": []
  },
  {
   "cell_type": "markdown",
   "metadata": {},
   "source": [
    "## LDA "
   ]
  },
  {
   "cell_type": "code",
   "execution_count": 256,
   "metadata": {
    "ExecuteTime": {
     "end_time": "2021-06-02T07:43:34.393299Z",
     "start_time": "2021-06-02T07:43:33.179291Z"
    },
    "scrolled": false
   },
   "outputs": [
    {
     "name": "stdout",
     "output_type": "stream",
     "text": [
      "LinearDiscriminantAnalysis()\n",
      "              precision    recall  f1-score   support\n",
      "\n",
      "           0       0.96      0.95      0.95        73\n",
      "           1       0.94      0.95      0.94        61\n",
      "\n",
      "    accuracy                           0.95       134\n",
      "   macro avg       0.95      0.95      0.95       134\n",
      "weighted avg       0.95      0.95      0.95       134\n",
      "\n",
      "\n",
      "\u001b[34m\n",
      " Below Test Acurracy Based On PCA\n",
      "\u001b[34m\n",
      "\n",
      "Accuracy \n",
      "\u001b[0m\n",
      "List of possible Accuracy Score:\n",
      " [0.9403, 0.9403, 0.9478, 0.9478, 0.9552, 0.9478, 0.9552, 0.9478, 0.9478, 0.9552, 0.9478, 0.9478, 0.9478, 0.9478, 0.9552, 0.9552, 0.9478, 0.9478]\n",
      "\n",
      "Maximum Accuracy Score That can be obtained from this model is: 95.52000000000001 %\n",
      "\n",
      "Minimum Accuracy Score: 94.03 %\n",
      "\n",
      "Average Accuracy Score That can be obtained from this model is:: 0.9490222222222222\n",
      "\n",
      "Median Accuracy Score That can be obtained from this model is:: 0.9478\n",
      "\n",
      "Standard Deviation is: 0.004468476692410675\n",
      "\u001b[34m\n",
      "\n",
      "Recall \n",
      "\u001b[0m\n",
      "List of possible Recall Score:\n",
      " [0.918, 0.918, 0.9344, 0.9344, 0.9508, 0.9344, 0.9508, 0.9344, 0.9344, 0.9508, 0.9344, 0.9344, 0.9344, 0.9344, 0.9508, 0.9508, 0.9344, 0.9344]\n",
      "\n",
      "Maximum Recall Score That can be obtained from this model is: 95.08 %\n",
      "\n",
      "Minimum Recall Score: 91.8 %\n",
      "\n",
      "Average Recall Score That can be obtained from this model is:: 0.9371333333333334\n",
      "\n",
      "Median Recall Score That can be obtained from this model is:: 0.9344\n",
      "\n",
      "Standard Deviation is: 0.009855173486268218\n",
      "\u001b[34m\n",
      "\n",
      "Precision \n",
      "\u001b[0m\n",
      "List of possible Precision Score:\n",
      " [0.9492, 0.9492, 0.95, 0.95, 0.9508, 0.95, 0.9508, 0.95, 0.95, 0.9508, 0.95, 0.95, 0.95, 0.95, 0.9508, 0.9508, 0.95, 0.95]\n",
      "\n",
      "Maximum Precision Score That can be obtained from this model is: 95.08 %\n",
      "\n",
      "Minimum Precision Score: 94.92 %\n",
      "\n",
      "Average Precision Score That can be obtained from this model is:: 0.9501333333333333\n",
      "\n",
      "Median Precision Score That can be obtained from this model is:: 0.95\n",
      "\n",
      "Standard Deviation is: 0.00048074017006185507\n",
      "\u001b[34m\n",
      "\n",
      "F1-Score \n",
      "\u001b[0m\n",
      "List of possible F1-Score Score:\n",
      " [0.9333, 0.9333, 0.9421, 0.9421, 0.9508, 0.9421, 0.9508, 0.9421, 0.9421, 0.9508, 0.9421, 0.9421, 0.9421, 0.9421, 0.9508, 0.9508, 0.9421, 0.9421]\n",
      "\n",
      "Maximum F1-Score Score That can be obtained from this model is: 95.08 %\n",
      "\n",
      "Minimum F1-Score Score: 93.33 %\n",
      "\n",
      "Average F1-Score Score That can be obtained from this model is:: 0.943538888888889\n",
      "\n",
      "Median F1-Score Score That can be obtained from this model is:: 0.9421\n",
      "\n",
      "Standard Deviation is: 0.005249670771569998\n"
     ]
    },
    {
     "data": {
      "image/png": "[encoded data removed]",
      "text/plain": [
       "<Figure size 980x500 with 2 Axes>"
      ]
     },
     "metadata": {
      "needs_background": "light"
     },
     "output_type": "display_data"
    }
   ],
   "source": [
    "from sklearn.discriminant_analysis import LinearDiscriminantAnalysis\n",
    "m1=Ml_Model(X,y,scaling=True,balance=True,Oversampling=False)\n",
    "clf=LinearDiscriminantAnalysis()\n",
    "m1.pass_classifier(clf)\n",
    "m1.fit_method_and_score()\n",
    "m1.classification_report()\n",
    "\n",
    "m1.visualization()\n",
    "m1.validation()"
   ]
  },
  {
   "cell_type": "raw",
   "metadata": {},
   "source": []
  },
  {
   "cell_type": "markdown",
   "metadata": {},
   "source": [
    "<b> Conclusion : </b> LDA is do pretty good job on recall Median=0.9 and f1-score 0.94.\n",
    "\n",
    "**Nomination Start**\n",
    "\n",
    "Nomination List: [\"LDA\"] \n",
    "\n",
    "**In The Race Now Winner is**: LDA\n"
   ]
  },
  {
   "cell_type": "markdown",
   "metadata": {},
   "source": [
    "<b style=\"color:blue\"> We Build Box Plot For Comaparision Our </b>"
   ]
  },
  {
   "cell_type": "code",
   "execution_count": 257,
   "metadata": {
    "ExecuteTime": {
     "end_time": "2021-06-02T07:43:41.765821Z",
     "start_time": "2021-06-02T07:43:41.489856Z"
    }
   },
   "outputs": [
    {
     "data": {
      "image/png": "[encoded data removed]",
      "text/plain": [
       "<Figure size 432x288 with 1 Axes>"
      ]
     },
     "metadata": {
      "needs_background": "light"
     },
     "output_type": "display_data"
    }
   ],
   "source": [
    "recall=m1.score_return(score=\"Recall\")[1]\n",
    "recall_list=[recall]\n",
    "names=[\"LDA\"]\n",
    "fig = plt.figure()\n",
    "fig.suptitle('Algorithm Comparison')\n",
    "ax = fig.add_subplot(111)\n",
    "plt.boxplot(recall_list)\n",
    "ax.set_xticklabels(names)\n",
    "plt.title(\"Recall distribution comparision\")\n",
    "plt.ylabel(\"Recall\")\n",
    "# plt.show()\n",
    "# # plt.boxplot(recall_list)\n",
    "# plt.ylim([np.min(recall_list),np.max(recall_list)+0.001])\n",
    "\n",
    "# plt.yticks(np.arange(np.min(recall_list), np.max(recall_list), 0.001))\n",
    "\n",
    "\n",
    "plt.show()"
   ]
  },
  {
   "cell_type": "raw",
   "metadata": {},
   "source": []
  },
  {
   "cell_type": "code",
   "execution_count": null,
   "metadata": {},
   "outputs": [],
   "source": []
  },
  {
   "cell_type": "markdown",
   "metadata": {},
   "source": [
    "## QDA"
   ]
  },
  {
   "cell_type": "code",
   "execution_count": 258,
   "metadata": {
    "ExecuteTime": {
     "end_time": "2021-06-02T07:43:55.299457Z",
     "start_time": "2021-06-02T07:43:53.824305Z"
    },
    "scrolled": false
   },
   "outputs": [
    {
     "name": "stdout",
     "output_type": "stream",
     "text": [
      "QuadraticDiscriminantAnalysis()\n",
      "              precision    recall  f1-score   support\n",
      "\n",
      "           0       0.97      0.94      0.96        68\n",
      "           1       0.94      0.97      0.96        66\n",
      "\n",
      "    accuracy                           0.96       134\n",
      "   macro avg       0.96      0.96      0.96       134\n",
      "weighted avg       0.96      0.96      0.96       134\n",
      "\n",
      "\u001b[34m\n",
      "\n",
      "Accuracy \n",
      "\u001b[0m\n",
      "List of possible Accuracy Score:\n",
      " [0.9701, 0.9776, 0.9701, 0.9776, 0.9776, 0.9776, 0.9776, 0.9701, 0.9776, 0.9776, 0.9776, 0.9776, 0.9776, 0.9776, 0.9627, 0.9701, 0.9701, 0.9776]\n",
      "\n",
      "Maximum Accuracy Score That can be obtained from this model is: 97.76 %\n",
      "\n",
      "Minimum Accuracy Score: 96.27 %\n",
      "\n",
      "Average Accuracy Score That can be obtained from this model is:: 0.9746888888888888\n",
      "\n",
      "Median Accuracy Score That can be obtained from this model is:: 0.9776\n",
      "\n",
      "Standard Deviation is: 0.004414104777602647\n",
      "\u001b[34m\n",
      "\n",
      "Recall \n",
      "\u001b[0m\n",
      "List of possible Recall Score:\n",
      " [0.9848, 0.9848, 0.9848, 0.9848, 0.9848, 0.9848, 0.9848, 0.9848, 0.9848, 0.9848, 0.9848, 0.9848, 0.9848, 0.9848, 0.9697, 0.9848, 0.9848, 0.9848]\n",
      "\n",
      "Maximum Recall Score That can be obtained from this model is: 98.48 %\n",
      "\n",
      "Minimum Recall Score: 96.97 %\n",
      "\n",
      "Average Recall Score That can be obtained from this model is:: 0.9839611111111112\n",
      "\n",
      "Median Recall Score That can be obtained from this model is:: 0.9848\n",
      "\n",
      "Standard Deviation is: 0.003458827497045927\n",
      "\u001b[34m\n",
      "\n",
      "Precision \n",
      "\u001b[0m\n",
      "List of possible Precision Score:\n",
      " [0.9559, 0.9701, 0.9559, 0.9701, 0.9701, 0.9701, 0.9701, 0.9559, 0.9701, 0.9701, 0.9701, 0.9701, 0.9701, 0.9701, 0.9552, 0.9559, 0.9559, 0.9701]\n",
      "\n",
      "Maximum Precision Score That can be obtained from this model is: 97.00999999999999 %\n",
      "\n",
      "Minimum Precision Score: 95.52000000000001 %\n",
      "\n",
      "Average Precision Score That can be obtained from this model is:: 0.9653277777777777\n",
      "\n",
      "Median Precision Score That can be obtained from this model is:: 0.9701\n",
      "\n",
      "Standard Deviation is: 0.006750621827782108\n",
      "\u001b[34m\n",
      "\n",
      "F1-Score \n",
      "\u001b[0m\n",
      "List of possible F1-Score Score:\n",
      " [0.9701, 0.9774, 0.9701, 0.9774, 0.9774, 0.9774, 0.9774, 0.9701, 0.9774, 0.9774, 0.9774, 0.9774, 0.9774, 0.9774, 0.9624, 0.9701, 0.9701, 0.9774]\n",
      "\n",
      "Maximum F1-Score Score That can be obtained from this model is: 97.74000000000001 %\n",
      "\n",
      "Minimum F1-Score Score: 96.24000000000001 %\n",
      "\n",
      "Average F1-Score Score That can be obtained from this model is:: 0.9745388888888888\n",
      "\n",
      "Median F1-Score Score That can be obtained from this model is:: 0.9774\n",
      "\n",
      "Standard Deviation is: 0.004372278695103338\n",
      "\n",
      "\u001b[34m\n",
      " Below Test Acurracy Based On PCA\n"
     ]
    },
    {
     "data": {
      "image/png": "[encoded data removed]",
      "text/plain": [
       "<Figure size 980x500 with 2 Axes>"
      ]
     },
     "metadata": {
      "needs_background": "light"
     },
     "output_type": "display_data"
    }
   ],
   "source": [
    "from sklearn.discriminant_analysis import QuadraticDiscriminantAnalysis\n",
    "m1=Ml_Model(X,y,scaling=True,balance=True)\n",
    "clf=QuadraticDiscriminantAnalysis()\n",
    "m1.pass_classifier(clf)\n",
    "m1.fit_method_and_score()\n",
    "m1.classification_report()\n",
    "m1.validation()\n",
    "m1.visualization()"
   ]
  },
  {
   "cell_type": "raw",
   "metadata": {},
   "source": []
  },
  {
   "cell_type": "markdown",
   "metadata": {
    "ExecuteTime": {
     "end_time": "2021-06-01T10:37:55.456985Z",
     "start_time": "2021-06-01T10:37:55.440983Z"
    }
   },
   "source": [
    "<b> Conclusion : </b> If LDA perform well then QDA Definetly perform well and QDA get simliar recall \n",
    "\n",
    "QDA is do pretty good job on recall(Median)=0.98,and f1-score(median)= 0.97\n",
    "\n",
    "-Nomination List: [\"QDA\",LDA\"] \n",
    "\n",
    "\n",
    "\n"
   ]
  },
  {
   "cell_type": "code",
   "execution_count": 229,
   "metadata": {
    "ExecuteTime": {
     "end_time": "2021-06-02T05:09:45.842962Z",
     "start_time": "2021-06-02T05:09:45.834963Z"
    },
    "scrolled": true
   },
   "outputs": [
    {
     "data": {
      "text/plain": [
       "['LDA']"
      ]
     },
     "execution_count": 229,
     "metadata": {},
     "output_type": "execute_result"
    }
   ],
   "source": [
    "names"
   ]
  },
  {
   "cell_type": "code",
   "execution_count": 230,
   "metadata": {
    "ExecuteTime": {
     "end_time": "2021-06-02T05:09:46.723518Z",
     "start_time": "2021-06-02T05:09:45.846958Z"
    }
   },
   "outputs": [
    {
     "name": "stdout",
     "output_type": "stream",
     "text": [
      "\u001b[34m\n",
      "\n",
      "Accuracy \n",
      "\u001b[0m\n",
      "List of possible Accuracy Score:\n",
      " [0.9925, 0.9851, 0.9851, 0.9851, 0.9851, 0.9851, 0.9851, 0.9851, 0.9851, 0.9851, 0.9851, 0.9925, 0.9851, 0.9925, 0.9851, 0.9851, 0.9851, 0.9851]\n",
      "\n",
      "Maximum Accuracy Score That can be obtained from this model is: 99.25 %\n",
      "\n",
      "Minimum Accuracy Score: 98.50999999999999 %\n",
      "\n",
      "Average Accuracy Score That can be obtained from this model is:: 0.9863333333333332\n",
      "\n",
      "Median Accuracy Score That can be obtained from this model is:: 0.9851\n",
      "\n",
      "Standard Deviation is: 0.002757817172249768\n",
      "\u001b[34m\n",
      "\n",
      "Recall \n",
      "\u001b[0m\n",
      "List of possible Recall Score:\n",
      " [1.0, 1.0, 1.0, 1.0, 1.0, 1.0, 1.0, 1.0, 1.0, 1.0, 1.0, 1.0, 1.0, 1.0, 1.0, 1.0, 1.0, 1.0]\n",
      "\n",
      "Maximum Recall Score That can be obtained from this model is: 100.0 %\n",
      "\n",
      "Minimum Recall Score: 100.0 %\n",
      "\n",
      "Average Recall Score That can be obtained from this model is:: 1.0\n",
      "\n",
      "Median Recall Score That can be obtained from this model is:: 1.0\n",
      "\n",
      "Standard Deviation is: 0.0\n",
      "\u001b[34m\n",
      "\n",
      "Precision \n",
      "\u001b[0m\n",
      "List of possible Precision Score:\n",
      " [0.9848, 0.9701, 0.9701, 0.9701, 0.9701, 0.9701, 0.9701, 0.9701, 0.9701, 0.9701, 0.9701, 0.9848, 0.9701, 0.9848, 0.9701, 0.9701, 0.9701, 0.9701]\n",
      "\n",
      "Maximum Precision Score That can be obtained from this model is: 98.48 %\n",
      "\n",
      "Minimum Precision Score: 97.00999999999999 %\n",
      "\n",
      "Average Precision Score That can be obtained from this model is:: 0.9725499999999998\n",
      "\n",
      "Median Precision Score That can be obtained from this model is:: 0.9701\n",
      "\n",
      "Standard Deviation is: 0.005478366544874502\n",
      "\u001b[34m\n",
      "\n",
      "F1-Score \n",
      "\u001b[0m\n",
      "List of possible F1-Score Score:\n",
      " [0.9924, 0.9848, 0.9848, 0.9848, 0.9848, 0.9848, 0.9848, 0.9848, 0.9848, 0.9848, 0.9848, 0.9924, 0.9848, 0.9924, 0.9848, 0.9848, 0.9848, 0.9848]\n",
      "\n",
      "Maximum F1-Score Score That can be obtained from this model is: 99.24 %\n",
      "\n",
      "Minimum F1-Score Score: 98.48 %\n",
      "\n",
      "Average F1-Score Score That can be obtained from this model is:: 0.9860666666666665\n",
      "\n",
      "Median F1-Score Score That can be obtained from this model is:: 0.9848\n",
      "\n",
      "Standard Deviation is: 0.002832352771499711\n"
     ]
    },
    {
     "data": {
      "image/png": "[encoded data removed]",
      "text/plain": [
       "<Figure size 432x288 with 1 Axes>"
      ]
     },
     "metadata": {
      "needs_background": "light"
     },
     "output_type": "display_data"
    }
   ],
   "source": [
    "recall=m1.validation(\"Recall\")[1]\n",
    "recall_list.append(recall)\n",
    "\n",
    "names.append(\"QDA\")\n",
    "\n",
    "ax = fig.add_subplot(111)\n",
    "plt.boxplot(recall_list,labels=names)\n",
    "# ax.xticks(labels=names)\n",
    "# plt.show()\n",
    "# # plt.boxplot(recall_list)\n",
    "# plt.ylim([np.min(recall_list),np.max(recall_list)+0.001])\n",
    "\n",
    "# plt.yticks(np.arange(np.min(recall_list), np.max(recall_list), 0.0001))\n",
    "\n",
    "\n",
    "plt.show()"
   ]
  },
  {
   "cell_type": "markdown",
   "metadata": {},
   "source": [
    "## SVM"
   ]
  },
  {
   "cell_type": "code",
   "execution_count": 231,
   "metadata": {
    "ExecuteTime": {
     "end_time": "2021-06-02T05:10:02.853237Z",
     "start_time": "2021-06-02T05:09:46.727517Z"
    },
    "scrolled": false
   },
   "outputs": [
    {
     "name": "stdout",
     "output_type": "stream",
     "text": [
      "SVC()\n",
      "              precision    recall  f1-score   support\n",
      "\n",
      "           0       0.92      0.99      0.95        70\n",
      "           1       0.98      0.91      0.94        64\n",
      "\n",
      "    accuracy                           0.95       134\n",
      "   macro avg       0.95      0.95      0.95       134\n",
      "weighted avg       0.95      0.95      0.95       134\n",
      "\n",
      "\u001b[34m\n",
      "\n",
      "Accuracy \n",
      "\u001b[0m\n",
      "List of possible Accuracy Score:\n",
      " [0.9627, 0.9701, 0.9701, 0.9627, 0.9701, 0.9627, 0.9627, 0.9627, 0.9701, 0.9701, 0.9552, 0.9701, 0.9627, 0.9627, 0.9627, 0.9701, 0.9776, 0.9627]\n",
      "\n",
      "Maximum Accuracy Score That can be obtained from this model is: 97.76 %\n",
      "\n",
      "Minimum Accuracy Score: 95.52000000000001 %\n",
      "\n",
      "Average Accuracy Score That can be obtained from this model is:: 0.965988888888889\n",
      "\n",
      "Median Accuracy Score That can be obtained from this model is:: 0.9627\n",
      "\n",
      "Standard Deviation is: 0.005092902347481984\n",
      "\u001b[34m\n",
      "\n",
      "Recall \n",
      "\u001b[0m\n",
      "List of possible Recall Score:\n",
      " [0.9219, 0.9375, 0.9375, 0.9219, 0.9375, 0.9219, 0.9219, 0.9219, 0.9375, 0.9375, 0.9062, 0.9375, 0.9219, 0.9219, 0.9375, 0.9375, 0.9531, 0.9219]\n",
      "\n",
      "Maximum Recall Score That can be obtained from this model is: 95.30999999999999 %\n",
      "\n",
      "Minimum Recall Score: 90.62 %\n",
      "\n",
      "Average Recall Score That can be obtained from this model is:: 0.9296944444444445\n",
      "\n",
      "Median Recall Score That can be obtained from this model is:: 0.9297\n",
      "\n",
      "Standard Deviation is: 0.010732219001276367\n",
      "\u001b[34m\n",
      "\n",
      "Precision \n",
      "\u001b[0m\n",
      "List of possible Precision Score:\n",
      " [1.0, 1.0, 1.0, 1.0, 1.0, 1.0, 1.0, 1.0, 1.0, 1.0, 1.0, 1.0, 1.0, 1.0, 0.9836, 1.0, 1.0, 1.0]\n",
      "\n",
      "Maximum Precision Score That can be obtained from this model is: 100.0 %\n",
      "\n",
      "Minimum Precision Score: 98.36 %\n",
      "\n",
      "Average Precision Score That can be obtained from this model is:: 0.9990888888888888\n",
      "\n",
      "Median Precision Score That can be obtained from this model is:: 1.0\n",
      "\n",
      "Standard Deviation is: 0.003756607347784972\n",
      "\u001b[34m\n",
      "\n",
      "F1-Score \n",
      "\u001b[0m\n",
      "List of possible F1-Score Score:\n",
      " [0.9593, 0.9677, 0.9677, 0.9593, 0.9677, 0.9593, 0.9593, 0.9593, 0.9677, 0.9677, 0.9508, 0.9677, 0.9593, 0.9593, 0.96, 0.9677, 0.976, 0.9593]\n",
      "\n",
      "Maximum F1-Score Score That can be obtained from this model is: 97.6 %\n",
      "\n",
      "Minimum F1-Score Score: 95.08 %\n",
      "\n",
      "Average F1-Score Score That can be obtained from this model is:: 0.9630611111111111\n",
      "\n",
      "Median F1-Score Score That can be obtained from this model is:: 0.95965\n",
      "\n",
      "Standard Deviation is: 0.005729663446475406\n",
      "\n",
      "\u001b[34m\n",
      " Below Test Acurracy Based On PCA\n"
     ]
    },
    {
     "data": {
      "image/png": "[encoded data removed]",
      "text/plain": [
       "<Figure size 980x500 with 2 Axes>"
      ]
     },
     "metadata": {
      "needs_background": "light"
     },
     "output_type": "display_data"
    }
   ],
   "source": [
    "from sklearn.svm import SVC\n",
    "m1=Ml_Model(X,y,scaling=True,balance=True)\n",
    "clf=SVC()\n",
    "m1.pass_classifier(clf)\n",
    "m1.fit_method_and_score()\n",
    "m1.classification_report()\n",
    "m1.validation()\n",
    "m1.visualization()"
   ]
  },
  {
   "cell_type": "raw",
   "metadata": {},
   "source": []
  },
  {
   "cell_type": "markdown",
   "metadata": {
    "ExecuteTime": {
     "end_time": "2021-06-01T11:33:02.251586Z",
     "start_time": "2021-06-01T11:33:02.240596Z"
    }
   },
   "source": [
    "\n",
    "    \n",
    "\n",
    "\n",
    "\n",
    "<b> Nomination List</b>: [\"QDA\",\"SVM\",LDA\"] \n",
    "\n",
    "\n",
    "\n"
   ]
  },
  {
   "cell_type": "code",
   "execution_count": 232,
   "metadata": {
    "ExecuteTime": {
     "end_time": "2021-06-02T05:10:03.636310Z",
     "start_time": "2021-06-02T05:10:02.857236Z"
    }
   },
   "outputs": [
    {
     "name": "stdout",
     "output_type": "stream",
     "text": [
      "\u001b[34m\n",
      "\n",
      "Accuracy \n",
      "\u001b[0m\n",
      "List of possible Accuracy Score:\n",
      " [0.9627, 0.9701, 0.9701, 0.9627, 0.9701, 0.9627, 0.9627, 0.9627, 0.9701, 0.9701, 0.9552, 0.9701, 0.9627, 0.9627, 0.9627, 0.9701, 0.9776, 0.9627]\n",
      "\n",
      "Maximum Accuracy Score That can be obtained from this model is: 97.76 %\n",
      "\n",
      "Minimum Accuracy Score: 95.52000000000001 %\n",
      "\n",
      "Average Accuracy Score That can be obtained from this model is:: 0.965988888888889\n",
      "\n",
      "Median Accuracy Score That can be obtained from this model is:: 0.9627\n",
      "\n",
      "Standard Deviation is: 0.005092902347481984\n",
      "\u001b[34m\n",
      "\n",
      "Recall \n",
      "\u001b[0m\n",
      "List of possible Recall Score:\n",
      " [0.9219, 0.9375, 0.9375, 0.9219, 0.9375, 0.9219, 0.9219, 0.9219, 0.9375, 0.9375, 0.9062, 0.9375, 0.9219, 0.9219, 0.9375, 0.9375, 0.9531, 0.9219]\n",
      "\n",
      "Maximum Recall Score That can be obtained from this model is: 95.30999999999999 %\n",
      "\n",
      "Minimum Recall Score: 90.62 %\n",
      "\n",
      "Average Recall Score That can be obtained from this model is:: 0.9296944444444445\n",
      "\n",
      "Median Recall Score That can be obtained from this model is:: 0.9297\n",
      "\n",
      "Standard Deviation is: 0.010732219001276367\n",
      "\u001b[34m\n",
      "\n",
      "Precision \n",
      "\u001b[0m\n",
      "List of possible Precision Score:\n",
      " [1.0, 1.0, 1.0, 1.0, 1.0, 1.0, 1.0, 1.0, 1.0, 1.0, 1.0, 1.0, 1.0, 1.0, 0.9836, 1.0, 1.0, 1.0]\n",
      "\n",
      "Maximum Precision Score That can be obtained from this model is: 100.0 %\n",
      "\n",
      "Minimum Precision Score: 98.36 %\n",
      "\n",
      "Average Precision Score That can be obtained from this model is:: 0.9990888888888888\n",
      "\n",
      "Median Precision Score That can be obtained from this model is:: 1.0\n",
      "\n",
      "Standard Deviation is: 0.003756607347784972\n",
      "\u001b[34m\n",
      "\n",
      "F1-Score \n",
      "\u001b[0m\n",
      "List of possible F1-Score Score:\n",
      " [0.9593, 0.9677, 0.9677, 0.9593, 0.9677, 0.9593, 0.9593, 0.9593, 0.9677, 0.9677, 0.9508, 0.9677, 0.9593, 0.9593, 0.96, 0.9677, 0.976, 0.9593]\n",
      "\n",
      "Maximum F1-Score Score That can be obtained from this model is: 97.6 %\n",
      "\n",
      "Minimum F1-Score Score: 95.08 %\n",
      "\n",
      "Average F1-Score Score That can be obtained from this model is:: 0.9630611111111111\n",
      "\n",
      "Median F1-Score Score That can be obtained from this model is:: 0.95965\n",
      "\n",
      "Standard Deviation is: 0.005729663446475406\n"
     ]
    },
    {
     "data": {
      "image/png": "[encoded data removed]",
      "text/plain": [
       "<Figure size 432x288 with 1 Axes>"
      ]
     },
     "metadata": {
      "needs_background": "light"
     },
     "output_type": "display_data"
    }
   ],
   "source": [
    "recall=m1.validation(\"Recall\")[1]\n",
    "recall_list.append(recall)\n",
    "\n",
    "names.append(\"SVM\")\n",
    "\n",
    "ax = fig.add_subplot(111)\n",
    "plt.boxplot(recall_list,labels=names)\n",
    "# ax.xticks(labels=names)\n",
    "# plt.show()\n",
    "# # plt.boxplot(recall_list)\n",
    "# plt.ylim([np.min(recall_list),np.max(recall_list)+0.001])\n",
    "\n",
    "# plt.yticks(np.arange(np.min(recall_list), np.max(recall_list), 0.0001))\n",
    "\n",
    "\n",
    "plt.show()"
   ]
  },
  {
   "cell_type": "markdown",
   "metadata": {},
   "source": [
    "<b> Conclusion : </b> svm Doing Great job on Recall(median)\n",
    "    ,So Both QDA and SVM give us almost same results\n",
    "<br>\n",
    "**In The Race Now Winner is**: SVM because of low variance"
   ]
  },
  {
   "cell_type": "raw",
   "metadata": {},
   "source": []
  },
  {
   "cell_type": "markdown",
   "metadata": {},
   "source": [
    "\n",
    "\n",
    "<h2> <a href=\"https://scikit-learn.org/stable/modules/generated/sklearn.linear_model.LogisticRegression.html\"> Logistics Regression</a> </h2>"
   ]
  },
  {
   "cell_type": "code",
   "execution_count": null,
   "metadata": {},
   "outputs": [],
   "source": []
  },
  {
   "cell_type": "code",
   "execution_count": 233,
   "metadata": {
    "ExecuteTime": {
     "end_time": "2021-06-02T05:10:05.087065Z",
     "start_time": "2021-06-02T05:10:03.641306Z"
    },
    "scrolled": false
   },
   "outputs": [
    {
     "name": "stdout",
     "output_type": "stream",
     "text": [
      "LogisticRegression(C=1, max_iter=1000)\n",
      "              precision    recall  f1-score   support\n",
      "\n",
      "           0       0.84      0.97      0.90        59\n",
      "           1       0.97      0.85      0.91        75\n",
      "\n",
      "    accuracy                           0.90       134\n",
      "   macro avg       0.90      0.91      0.90       134\n",
      "weighted avg       0.91      0.90      0.90       134\n",
      "\n",
      "\u001b[34m\n",
      "\n",
      "Accuracy \n",
      "\u001b[0m\n",
      "List of possible Accuracy Score:\n",
      " [0.9104, 0.9179, 0.9254, 0.9254, 0.9104, 0.9254, 0.9254, 0.9254, 0.9254, 0.9328, 0.9328, 0.9179, 0.9403, 0.9254, 0.9254, 0.9254, 0.9328, 0.9254]\n",
      "\n",
      "Maximum Accuracy Score That can be obtained from this model is: 94.03 %\n",
      "\n",
      "Minimum Accuracy Score: 91.03999999999999 %\n",
      "\n",
      "Average Accuracy Score That can be obtained from this model is:: 0.9249611111111111\n",
      "\n",
      "Median Accuracy Score That can be obtained from this model is:: 0.9254\n",
      "\n",
      "Standard Deviation is: 0.007246925699823708\n",
      "\u001b[34m\n",
      "\n",
      "Recall \n",
      "\u001b[0m\n",
      "List of possible Recall Score:\n",
      " [0.8667, 0.88, 0.9067, 0.8933, 0.8667, 0.9067, 0.9067, 0.8933, 0.8933, 0.9067, 0.92, 0.88, 0.92, 0.8933, 0.8933, 0.9067, 0.9067, 0.8933]\n",
      "\n",
      "Maximum Recall Score That can be obtained from this model is: 92.0 %\n",
      "\n",
      "Minimum Recall Score: 86.67 %\n",
      "\n",
      "Average Recall Score That can be obtained from this model is:: 0.8963000000000001\n",
      "\n",
      "Median Recall Score That can be obtained from this model is:: 0.8933\n",
      "\n",
      "Standard Deviation is: 0.015110776140078155\n",
      "\u001b[34m\n",
      "\n",
      "Precision \n",
      "\u001b[0m\n",
      "List of possible Precision Score:\n",
      " [0.9701, 0.9706, 0.9577, 0.971, 0.9701, 0.9577, 0.9577, 0.971, 0.971, 0.9714, 0.9583, 0.9706, 0.9718, 0.971, 0.971, 0.9577, 0.9714, 0.971]\n",
      "\n",
      "Maximum Precision Score That can be obtained from this model is: 97.18 %\n",
      "\n",
      "Minimum Precision Score: 95.77 %\n",
      "\n",
      "Average Precision Score That can be obtained from this model is:: 0.9672833333333334\n",
      "\n",
      "Median Precision Score That can be obtained from this model is:: 0.9708\n",
      "\n",
      "Standard Deviation is: 0.0058836166126324365\n",
      "\u001b[34m\n",
      "\n",
      "F1-Score \n",
      "\u001b[0m\n",
      "List of possible F1-Score Score:\n",
      " [0.9155, 0.9231, 0.9315, 0.9306, 0.9155, 0.9315, 0.9315, 0.9306, 0.9306, 0.9379, 0.9388, 0.9231, 0.9452, 0.9306, 0.9306, 0.9315, 0.9379, 0.9306]\n",
      "\n",
      "Maximum F1-Score Score That can be obtained from this model is: 94.52000000000001 %\n",
      "\n",
      "Minimum F1-Score Score: 91.55 %\n",
      "\n",
      "Average F1-Score Score That can be obtained from this model is:: 0.9303666666666666\n",
      "\n",
      "Median F1-Score Score That can be obtained from this model is:: 0.9306\n",
      "\n",
      "Standard Deviation is: 0.00729444232884796\n",
      "\n",
      "\u001b[34m\n",
      " Below Test Acurracy Based On PCA\n"
     ]
    },
    {
     "data": {
      "image/png": "[encoded data removed]",
      "text/plain": [
       "<Figure size 980x500 with 2 Axes>"
      ]
     },
     "metadata": {
      "needs_background": "light"
     },
     "output_type": "display_data"
    }
   ],
   "source": [
    "from sklearn.linear_model import LogisticRegression\n",
    "\n",
    "m1=Ml_Model(X,y,scaling=True,balance=True)\n",
    "clf=LogisticRegression(max_iter=1000,C=1)\n",
    "m1.pass_classifier(clf)\n",
    "m1.fit_method_and_score()\n",
    "m1.classification_report()\n",
    "m1.validation()\n",
    "m1.visualization()"
   ]
  },
  {
   "cell_type": "raw",
   "metadata": {},
   "source": []
  },
  {
   "cell_type": "markdown",
   "metadata": {},
   "source": [
    "\n",
    "<b> Nomination List</b>: [\"QDA\",\"SVM\",LDA\",\"Lg\"] "
   ]
  },
  {
   "cell_type": "code",
   "execution_count": 234,
   "metadata": {
    "ExecuteTime": {
     "end_time": "2021-06-02T05:10:06.056865Z",
     "start_time": "2021-06-02T05:10:05.092061Z"
    },
    "scrolled": true
   },
   "outputs": [
    {
     "name": "stdout",
     "output_type": "stream",
     "text": [
      "\u001b[34m\n",
      "\n",
      "Accuracy \n",
      "\u001b[0m\n",
      "List of possible Accuracy Score:\n",
      " [0.9104, 0.9179, 0.9254, 0.9254, 0.9104, 0.9254, 0.9254, 0.9254, 0.9254, 0.9328, 0.9328, 0.9179, 0.9403, 0.9254, 0.9254, 0.9254, 0.9328, 0.9254]\n",
      "\n",
      "Maximum Accuracy Score That can be obtained from this model is: 94.03 %\n",
      "\n",
      "Minimum Accuracy Score: 91.03999999999999 %\n",
      "\n",
      "Average Accuracy Score That can be obtained from this model is:: 0.9249611111111111\n",
      "\n",
      "Median Accuracy Score That can be obtained from this model is:: 0.9254\n",
      "\n",
      "Standard Deviation is: 0.007246925699823708\n",
      "\u001b[34m\n",
      "\n",
      "Recall \n",
      "\u001b[0m\n",
      "List of possible Recall Score:\n",
      " [0.8667, 0.88, 0.9067, 0.8933, 0.8667, 0.9067, 0.9067, 0.8933, 0.8933, 0.9067, 0.92, 0.88, 0.92, 0.8933, 0.8933, 0.9067, 0.9067, 0.8933]\n",
      "\n",
      "Maximum Recall Score That can be obtained from this model is: 92.0 %\n",
      "\n",
      "Minimum Recall Score: 86.67 %\n",
      "\n",
      "Average Recall Score That can be obtained from this model is:: 0.8963000000000001\n",
      "\n",
      "Median Recall Score That can be obtained from this model is:: 0.8933\n",
      "\n",
      "Standard Deviation is: 0.015110776140078155\n",
      "\u001b[34m\n",
      "\n",
      "Precision \n",
      "\u001b[0m\n",
      "List of possible Precision Score:\n",
      " [0.9701, 0.9706, 0.9577, 0.971, 0.9701, 0.9577, 0.9577, 0.971, 0.971, 0.9714, 0.9583, 0.9706, 0.9718, 0.971, 0.971, 0.9577, 0.9714, 0.971]\n",
      "\n",
      "Maximum Precision Score That can be obtained from this model is: 97.18 %\n",
      "\n",
      "Minimum Precision Score: 95.77 %\n",
      "\n",
      "Average Precision Score That can be obtained from this model is:: 0.9672833333333334\n",
      "\n",
      "Median Precision Score That can be obtained from this model is:: 0.9708\n",
      "\n",
      "Standard Deviation is: 0.0058836166126324365\n",
      "\u001b[34m\n",
      "\n",
      "F1-Score \n",
      "\u001b[0m\n",
      "List of possible F1-Score Score:\n",
      " [0.9155, 0.9231, 0.9315, 0.9306, 0.9155, 0.9315, 0.9315, 0.9306, 0.9306, 0.9379, 0.9388, 0.9231, 0.9452, 0.9306, 0.9306, 0.9315, 0.9379, 0.9306]\n",
      "\n",
      "Maximum F1-Score Score That can be obtained from this model is: 94.52000000000001 %\n",
      "\n",
      "Minimum F1-Score Score: 91.55 %\n",
      "\n",
      "Average F1-Score Score That can be obtained from this model is:: 0.9303666666666666\n",
      "\n",
      "Median F1-Score Score That can be obtained from this model is:: 0.9306\n",
      "\n",
      "Standard Deviation is: 0.00729444232884796\n"
     ]
    },
    {
     "data": {
      "image/png": "[encoded data removed]",
      "text/plain": [
       "<Figure size 432x288 with 1 Axes>"
      ]
     },
     "metadata": {
      "needs_background": "light"
     },
     "output_type": "display_data"
    }
   ],
   "source": [
    "recall=m1.validation(\"Recall\")[1]\n",
    "recall_list.append(recall)\n",
    "\n",
    "names.append(\"Lg\")\n",
    "\n",
    "ax = fig.add_subplot(111)\n",
    "plt.boxplot(recall_list,labels=names)\n",
    "# ax.xticks(labels=names)\n",
    "# plt.show()\n",
    "# # plt.boxplot(recall_list)\n",
    "# plt.ylim([np.min(recall_list),np.max(recall_list)+0.001])\n",
    "\n",
    "# plt.yticks(np.arange(np.min(recall_list), np.max(recall_list), 0.0001))\n",
    "\n",
    "\n",
    "plt.show()"
   ]
  },
  {
   "cell_type": "markdown",
   "metadata": {
    "ExecuteTime": {
     "end_time": "2021-06-02T04:57:12.183377Z",
     "start_time": "2021-06-02T04:57:12.175382Z"
    }
   },
   "source": [
    "<b> Conclusion : </b> Still SVM  Winner\n",
    "<br>\n",
    "**In The Race Now Winner is**: SVM "
   ]
  },
  {
   "cell_type": "markdown",
   "metadata": {},
   "source": [
    "## MLP Classifier"
   ]
  },
  {
   "cell_type": "code",
   "execution_count": 235,
   "metadata": {
    "ExecuteTime": {
     "end_time": "2021-06-02T05:10:25.064906Z",
     "start_time": "2021-06-02T05:10:06.061861Z"
    }
   },
   "outputs": [
    {
     "name": "stdout",
     "output_type": "stream",
     "text": [
      "MLPClassifier()\n",
      "              precision    recall  f1-score   support\n",
      "\n",
      "           0       0.93      0.99      0.96        72\n",
      "           1       0.98      0.92      0.95        62\n",
      "\n",
      "    accuracy                           0.96       134\n",
      "   macro avg       0.96      0.95      0.95       134\n",
      "weighted avg       0.96      0.96      0.96       134\n",
      "\n",
      "\u001b[34m\n",
      "\n",
      "Accuracy \n",
      "\u001b[0m\n",
      "List of possible Accuracy Score:\n",
      " [0.9701, 0.9776, 0.9776, 0.9776, 0.9776, 0.9701, 0.9776, 0.9776, 0.9851, 0.9776, 0.9851, 0.9776, 0.9701, 0.9851, 0.9776, 0.9776, 0.9776, 0.9776]\n",
      "\n",
      "Maximum Accuracy Score That can be obtained from this model is: 98.50999999999999 %\n",
      "\n",
      "Minimum Accuracy Score: 97.00999999999999 %\n",
      "\n",
      "Average Accuracy Score That can be obtained from this model is:: 0.9775999999999999\n",
      "\n",
      "Median Accuracy Score That can be obtained from this model is:: 0.9776\n",
      "\n",
      "Standard Deviation is: 0.004330127018922198\n",
      "\u001b[34m\n",
      "\n",
      "Recall \n",
      "\u001b[0m\n",
      "List of possible Recall Score:\n",
      " [0.9516, 0.9677, 0.9677, 0.9677, 0.9677, 0.9516, 0.9677, 0.9677, 0.9677, 0.9516, 0.9677, 0.9677, 0.9516, 0.9677, 0.9677, 0.9677, 0.9677, 0.9677]\n",
      "\n",
      "Maximum Recall Score That can be obtained from this model is: 96.77 %\n",
      "\n",
      "Minimum Recall Score: 95.16 %\n",
      "\n",
      "Average Recall Score That can be obtained from this model is:: 0.9641222222222223\n",
      "\n",
      "Median Recall Score That can be obtained from this model is:: 0.9677\n",
      "\n",
      "Standard Deviation is: 0.006693409325228941\n",
      "\u001b[34m\n",
      "\n",
      "Precision \n",
      "\u001b[0m\n",
      "List of possible Precision Score:\n",
      " [0.9833, 0.9836, 0.9836, 0.9836, 0.9836, 0.9833, 0.9836, 0.9836, 1.0, 1.0, 1.0, 0.9836, 0.9833, 1.0, 0.9836, 0.9836, 0.9836, 0.9836]\n",
      "\n",
      "Maximum Precision Score That can be obtained from this model is: 100.0 %\n",
      "\n",
      "Minimum Precision Score: 98.33 %\n",
      "\n",
      "Average Precision Score That can be obtained from this model is:: 0.9871944444444443\n",
      "\n",
      "Median Precision Score That can be obtained from this model is:: 0.9836\n",
      "\n",
      "Standard Deviation is: 0.006845718225627701\n",
      "\u001b[34m\n",
      "\n",
      "F1-Score \n",
      "\u001b[0m\n",
      "List of possible F1-Score Score:\n",
      " [0.9672, 0.9756, 0.9756, 0.9756, 0.9756, 0.9672, 0.9756, 0.9756, 0.9836, 0.9752, 0.9836, 0.9756, 0.9672, 0.9836, 0.9756, 0.9756, 0.9756, 0.9756]\n",
      "\n",
      "Maximum F1-Score Score That can be obtained from this model is: 98.36 %\n",
      "\n",
      "Minimum F1-Score Score: 96.72 %\n",
      "\n",
      "Average F1-Score Score That can be obtained from this model is:: 0.9755111111111111\n",
      "\n",
      "Median F1-Score Score That can be obtained from this model is:: 0.9756\n",
      "\n",
      "Standard Deviation is: 0.004735784446212463\n",
      "\n",
      "\u001b[34m\n",
      " Below Test Acurracy Based On PCA\n"
     ]
    },
    {
     "data": {
      "image/png": "[encoded data removed]",
      "text/plain": [
       "<Figure size 980x500 with 2 Axes>"
      ]
     },
     "metadata": {
      "needs_background": "light"
     },
     "output_type": "display_data"
    }
   ],
   "source": [
    "from sklearn.neural_network import MLPClassifier\n",
    "\n",
    "m1=Ml_Model(X,y,scaling=True,balance=True)\n",
    "clf=MLPClassifier()\n",
    "m1.pass_classifier(clf)\n",
    "m1.fit_method_and_score()\n",
    "m1.classification_report()\n",
    "m1.validation()\n",
    "m1.visualization()"
   ]
  },
  {
   "cell_type": "raw",
   "metadata": {},
   "source": []
  },
  {
   "cell_type": "markdown",
   "metadata": {
    "ExecuteTime": {
     "end_time": "2021-06-02T04:57:52.236830Z",
     "start_time": "2021-06-02T04:57:52.230839Z"
    }
   },
   "source": [
    "\n",
    "<b> Nomination List</b>: [\"QDA\",\"SVM\",\"LDA\",\"Lg\",\"MLP\"] "
   ]
  },
  {
   "cell_type": "raw",
   "metadata": {},
   "source": []
  },
  {
   "cell_type": "code",
   "execution_count": 212,
   "metadata": {
    "ExecuteTime": {
     "end_time": "2021-06-02T05:04:47.145238Z",
     "start_time": "2021-06-02T05:04:31.271497Z"
    }
   },
   "outputs": [
    {
     "name": "stdout",
     "output_type": "stream",
     "text": [
      "\u001b[34m\n",
      "\n",
      "Accuracy \n",
      "\u001b[0m\n",
      "List of possible Accuracy Score:\n",
      " [0.9925, 0.9925, 0.9925, 0.9925, 0.9925, 0.9925, 0.9925, 0.9925, 0.9925, 0.9925, 0.9925, 0.9925, 0.9925, 0.9925, 0.9925, 0.9925, 0.9851, 0.9925]\n",
      "\n",
      "Maximum Accuracy Score That can be obtained from this model is: 99.25 %\n",
      "\n",
      "Minimum Accuracy Score: 98.50999999999999 %\n",
      "\n",
      "Average Accuracy Score That can be obtained from this model is:: 0.992088888888889\n",
      "\n",
      "Median Accuracy Score That can be obtained from this model is:: 0.9925\n",
      "\n",
      "Standard Deviation is: 0.001695054534976166\n",
      "\u001b[34m\n",
      "\n",
      "Recall \n",
      "\u001b[0m\n",
      "List of possible Recall Score:\n",
      " [0.9868, 0.9868, 0.9868, 0.9868, 0.9868, 0.9868, 0.9868, 0.9868, 0.9868, 0.9868, 0.9868, 0.9868, 0.9868, 0.9868, 0.9868, 0.9868, 0.9737, 0.9868]\n",
      "\n",
      "Maximum Recall Score That can be obtained from this model is: 98.68 %\n",
      "\n",
      "Minimum Recall Score: 97.37 %\n",
      "\n",
      "Average Recall Score That can be obtained from this model is:: 0.9860722222222221\n",
      "\n",
      "Median Recall Score That can be obtained from this model is:: 0.9868\n",
      "\n",
      "Standard Deviation is: 0.003000704649755075\n",
      "\u001b[34m\n",
      "\n",
      "Precision \n",
      "\u001b[0m\n",
      "List of possible Precision Score:\n",
      " [1.0, 1.0, 1.0, 1.0, 1.0, 1.0, 1.0, 1.0, 1.0, 1.0, 1.0, 1.0, 1.0, 1.0, 1.0, 1.0, 1.0, 1.0]\n",
      "\n",
      "Maximum Precision Score That can be obtained from this model is: 100.0 %\n",
      "\n",
      "Minimum Precision Score: 100.0 %\n",
      "\n",
      "Average Precision Score That can be obtained from this model is:: 1.0\n",
      "\n",
      "Median Precision Score That can be obtained from this model is:: 1.0\n",
      "\n",
      "Standard Deviation is: 0.0\n",
      "\u001b[34m\n",
      "\n",
      "F1-Score \n",
      "\u001b[0m\n",
      "List of possible F1-Score Score:\n",
      " [0.9934, 0.9934, 0.9934, 0.9934, 0.9934, 0.9934, 0.9934, 0.9934, 0.9934, 0.9934, 0.9934, 0.9934, 0.9934, 0.9934, 0.9934, 0.9934, 0.9867, 0.9934]\n",
      "\n",
      "Maximum F1-Score Score That can be obtained from this model is: 99.33999999999999 %\n",
      "\n",
      "Minimum F1-Score Score: 98.67 %\n",
      "\n",
      "Average F1-Score Score That can be obtained from this model is:: 0.9930277777777778\n",
      "\n",
      "Median F1-Score Score That can be obtained from this model is:: 0.9934\n",
      "\n",
      "Standard Deviation is: 0.001534711538424335\n"
     ]
    },
    {
     "data": {
      "image/png": "[encoded data removed]",
      "text/plain": [
       "<Figure size 432x288 with 1 Axes>"
      ]
     },
     "metadata": {
      "needs_background": "light"
     },
     "output_type": "display_data"
    }
   ],
   "source": [
    "recall=m1.validation(\"Recall\")[1]\n",
    "recall_list.append(recall)\n",
    "\n",
    "names.append(\"MLP\")\n",
    "\n",
    "ax = fig.add_subplot(111)\n",
    "plt.boxplot(recall_list,labels=names)\n",
    "# ax.xticks(labels=names)\n",
    "# plt.show()\n",
    "# # plt.boxplot(recall_list)\n",
    "# plt.ylim([np.min(recall_list),np.max(recall_list)+0.001])\n",
    "\n",
    "# plt.yticks(np.arange(np.min(recall_list), np.max(recall_list), 0.0001))\n",
    "\n",
    "\n",
    "plt.show()"
   ]
  },
  {
   "cell_type": "code",
   "execution_count": null,
   "metadata": {},
   "outputs": [],
   "source": []
  },
  {
   "cell_type": "markdown",
   "metadata": {
    "ExecuteTime": {
     "end_time": "2021-06-02T05:00:58.594233Z",
     "start_time": "2021-06-02T05:00:58.586241Z"
    }
   },
   "source": [
    "<b> Conclusion : </b> Now SVM Time is Over\n",
    "<br>\n",
    "**In The Race Now Winner is**: MLP "
   ]
  },
  {
   "cell_type": "code",
   "execution_count": null,
   "metadata": {},
   "outputs": [],
   "source": []
  },
  {
   "cell_type": "markdown",
   "metadata": {},
   "source": [
    "<h2> <a href=\"https://scikit-learn.org/stable/modules/generated/sklearn.neighbors.KNeighborsClassifier.html\">KNN Algorithms</a> </h2>"
   ]
  },
  {
   "cell_type": "code",
   "execution_count": null,
   "metadata": {},
   "outputs": [],
   "source": []
  },
  {
   "cell_type": "code",
   "execution_count": 236,
   "metadata": {
    "ExecuteTime": {
     "end_time": "2021-06-02T05:10:40.156045Z",
     "start_time": "2021-06-02T05:10:34.666202Z"
    }
   },
   "outputs": [
    {
     "name": "stdout",
     "output_type": "stream",
     "text": [
      "KNeighborsClassifier(n_jobs=-1, p=1.5, weights='distance')\n",
      "              precision    recall  f1-score   support\n",
      "\n",
      "           0       0.95      0.96      0.95        76\n",
      "           1       0.95      0.93      0.94        58\n",
      "\n",
      "    accuracy                           0.95       134\n",
      "   macro avg       0.95      0.95      0.95       134\n",
      "weighted avg       0.95      0.95      0.95       134\n",
      "\n",
      "\u001b[34m\n",
      "\n",
      "Accuracy \n",
      "\u001b[0m\n",
      "List of possible Accuracy Score:\n",
      " [0.9925, 1.0, 1.0, 0.9925, 1.0, 1.0, 1.0, 1.0, 0.9925, 1.0, 1.0, 1.0, 0.9925, 1.0, 1.0, 1.0, 1.0, 0.9925]\n",
      "\n",
      "Maximum Accuracy Score That can be obtained from this model is: 100.0 %\n",
      "\n",
      "Minimum Accuracy Score: 99.25 %\n",
      "\n",
      "Average Accuracy Score That can be obtained from this model is:: 0.9979166666666666\n",
      "\n",
      "Median Accuracy Score That can be obtained from this model is:: 1.0\n",
      "\n",
      "Standard Deviation is: 0.003359274061791041\n",
      "\u001b[34m\n",
      "\n",
      "Recall \n",
      "\u001b[0m\n",
      "List of possible Recall Score:\n",
      " [0.9828, 1.0, 1.0, 0.9828, 1.0, 1.0, 1.0, 1.0, 1.0, 1.0, 1.0, 1.0, 0.9828, 1.0, 1.0, 1.0, 1.0, 1.0]\n",
      "\n",
      "Maximum Recall Score That can be obtained from this model is: 100.0 %\n",
      "\n",
      "Minimum Recall Score: 98.28 %\n",
      "\n",
      "Average Recall Score That can be obtained from this model is:: 0.9971333333333333\n",
      "\n",
      "Median Recall Score That can be obtained from this model is:: 1.0\n",
      "\n",
      "Standard Deviation is: 0.006410061535499394\n",
      "\u001b[34m\n",
      "\n",
      "Precision \n",
      "\u001b[0m\n",
      "List of possible Precision Score:\n",
      " [1.0, 1.0, 1.0, 1.0, 1.0, 1.0, 1.0, 1.0, 0.9831, 1.0, 1.0, 1.0, 1.0, 1.0, 1.0, 1.0, 1.0, 0.9831]\n",
      "\n",
      "Maximum Precision Score That can be obtained from this model is: 100.0 %\n",
      "\n",
      "Minimum Precision Score: 98.31 %\n",
      "\n",
      "Average Precision Score That can be obtained from this model is:: 0.9981222222222222\n",
      "\n",
      "Median Precision Score That can be obtained from this model is:: 1.0\n",
      "\n",
      "Standard Deviation is: 0.005311157600912299\n",
      "\u001b[34m\n",
      "\n",
      "F1-Score \n",
      "\u001b[0m\n",
      "List of possible F1-Score Score:\n",
      " [0.9913, 1.0, 1.0, 0.9913, 1.0, 1.0, 1.0, 1.0, 0.9915, 1.0, 1.0, 1.0, 0.9913, 1.0, 1.0, 1.0, 1.0, 0.9915]\n",
      "\n",
      "Maximum F1-Score Score That can be obtained from this model is: 100.0 %\n",
      "\n",
      "Minimum F1-Score Score: 99.13 %\n",
      "\n",
      "Average F1-Score Score That can be obtained from this model is:: 0.9976055555555554\n",
      "\n",
      "Median F1-Score Score That can be obtained from this model is:: 1.0\n",
      "\n",
      "Standard Deviation is: 0.003861270979903759\n",
      "\n",
      "\u001b[34m\n",
      " Below Test Acurracy Based On PCA\n"
     ]
    },
    {
     "data": {
      "image/png": "[encoded data removed]",
      "text/plain": [
       "<Figure size 980x500 with 2 Axes>"
      ]
     },
     "metadata": {
      "needs_background": "light"
     },
     "output_type": "display_data"
    }
   ],
   "source": [
    "from sklearn.neighbors import KNeighborsClassifier\n",
    "m1=Ml_Model(X,y,scaling=True,balance=True)\n",
    "clf=KNeighborsClassifier(p=1.5,n_jobs=-1,n_neighbors=5,weights=\"distance\") \n",
    "m1.pass_classifier(clf)\n",
    "m1.fit_method_and_score()\n",
    "m1.classification_report()\n",
    "m1.validation()\n",
    "m1.visualization()"
   ]
  },
  {
   "cell_type": "raw",
   "metadata": {},
   "source": []
  },
  {
   "cell_type": "markdown",
   "metadata": {
    "ExecuteTime": {
     "end_time": "2021-06-02T05:02:35.533793Z",
     "start_time": "2021-06-02T05:02:35.525798Z"
    }
   },
   "source": [
    "\n",
    "<b> Nomination List</b>: [\"QDA\",\"SVM\",\"LDA\",\"Lg\",\"MLP\",\"KNN\"] "
   ]
  },
  {
   "cell_type": "code",
   "execution_count": null,
   "metadata": {},
   "outputs": [],
   "source": []
  },
  {
   "cell_type": "code",
   "execution_count": 237,
   "metadata": {
    "ExecuteTime": {
     "end_time": "2021-06-02T05:11:08.634879Z",
     "start_time": "2021-06-02T05:11:07.346341Z"
    }
   },
   "outputs": [
    {
     "name": "stdout",
     "output_type": "stream",
     "text": [
      "\u001b[34m\n",
      "\n",
      "Accuracy \n",
      "\u001b[0m\n",
      "List of possible Accuracy Score:\n",
      " [0.9925, 1.0, 1.0, 0.9925, 1.0, 1.0, 1.0, 1.0, 0.9925, 1.0, 1.0, 1.0, 0.9925, 1.0, 1.0, 1.0, 1.0, 0.9925]\n",
      "\n",
      "Maximum Accuracy Score That can be obtained from this model is: 100.0 %\n",
      "\n",
      "Minimum Accuracy Score: 99.25 %\n",
      "\n",
      "Average Accuracy Score That can be obtained from this model is:: 0.9979166666666666\n",
      "\n",
      "Median Accuracy Score That can be obtained from this model is:: 1.0\n",
      "\n",
      "Standard Deviation is: 0.003359274061791041\n",
      "\u001b[34m\n",
      "\n",
      "Recall \n",
      "\u001b[0m\n",
      "List of possible Recall Score:\n",
      " [0.9828, 1.0, 1.0, 0.9828, 1.0, 1.0, 1.0, 1.0, 1.0, 1.0, 1.0, 1.0, 0.9828, 1.0, 1.0, 1.0, 1.0, 1.0]\n",
      "\n",
      "Maximum Recall Score That can be obtained from this model is: 100.0 %\n",
      "\n",
      "Minimum Recall Score: 98.28 %\n",
      "\n",
      "Average Recall Score That can be obtained from this model is:: 0.9971333333333333\n",
      "\n",
      "Median Recall Score That can be obtained from this model is:: 1.0\n",
      "\n",
      "Standard Deviation is: 0.006410061535499394\n",
      "\u001b[34m\n",
      "\n",
      "Precision \n",
      "\u001b[0m\n",
      "List of possible Precision Score:\n",
      " [1.0, 1.0, 1.0, 1.0, 1.0, 1.0, 1.0, 1.0, 0.9831, 1.0, 1.0, 1.0, 1.0, 1.0, 1.0, 1.0, 1.0, 0.9831]\n",
      "\n",
      "Maximum Precision Score That can be obtained from this model is: 100.0 %\n",
      "\n",
      "Minimum Precision Score: 98.31 %\n",
      "\n",
      "Average Precision Score That can be obtained from this model is:: 0.9981222222222222\n",
      "\n",
      "Median Precision Score That can be obtained from this model is:: 1.0\n",
      "\n",
      "Standard Deviation is: 0.005311157600912299\n",
      "\u001b[34m\n",
      "\n",
      "F1-Score \n",
      "\u001b[0m\n",
      "List of possible F1-Score Score:\n",
      " [0.9913, 1.0, 1.0, 0.9913, 1.0, 1.0, 1.0, 1.0, 0.9915, 1.0, 1.0, 1.0, 0.9913, 1.0, 1.0, 1.0, 1.0, 0.9915]\n",
      "\n",
      "Maximum F1-Score Score That can be obtained from this model is: 100.0 %\n",
      "\n",
      "Minimum F1-Score Score: 99.13 %\n",
      "\n",
      "Average F1-Score Score That can be obtained from this model is:: 0.9976055555555554\n",
      "\n",
      "Median F1-Score Score That can be obtained from this model is:: 1.0\n",
      "\n",
      "Standard Deviation is: 0.003861270979903759\n"
     ]
    },
    {
     "data": {
      "image/png": "[encoded data removed]",
      "text/plain": [
       "<Figure size 432x288 with 1 Axes>"
      ]
     },
     "metadata": {
      "needs_background": "light"
     },
     "output_type": "display_data"
    }
   ],
   "source": [
    "recall=m1.validation(\"Recall\")[1]\n",
    "recall_list.append(recall)\n",
    "\n",
    "names.append(\"KNN\")\n",
    "\n",
    "ax = fig.add_subplot(111)\n",
    "plt.boxplot(recall_list,labels=names)\n",
    "# ax.xticks(labels=names)\n",
    "# plt.show()\n",
    "# # plt.boxplot(recall_list)\n",
    "# plt.ylim([np.min(recall_list),np.max(recall_list)+0.001])\n",
    "\n",
    "# plt.yticks(np.arange(np.min(recall_list), np.max(recall_list), 0.0001))\n",
    "\n",
    "\n",
    "plt.show()"
   ]
  },
  {
   "cell_type": "markdown",
   "metadata": {},
   "source": [
    "## Decision Tree "
   ]
  },
  {
   "cell_type": "code",
   "execution_count": null,
   "metadata": {
    "ExecuteTime": {
     "end_time": "2021-06-01T13:39:32.809509Z",
     "start_time": "2021-06-01T13:38:23.643Z"
    }
   },
   "outputs": [],
   "source": [
    "from sklearn.tree import DecisionTreeClassifier\n",
    "m1=Ml_Model(X,y,balance=True)\n",
    "clf=DecisionTreeClassifier(max_leaf_nodes=6,max_depth=4,max_features=2,)\n",
    "m1.pass_classifier(clf)\n",
    "m1.fit_method_and_score()\n",
    "m1.classification_report()\n",
    "m1.validation()\n",
    "m1.visualization()"
   ]
  },
  {
   "cell_type": "markdown",
   "metadata": {},
   "source": [
    "### Extra Experiments By Prunings"
   ]
  },
  {
   "cell_type": "code",
   "execution_count": null,
   "metadata": {
    "ExecuteTime": {
     "end_time": "2021-06-01T13:39:32.812505Z",
     "start_time": "2021-06-01T13:38:23.649Z"
    }
   },
   "outputs": [],
   "source": [
    "X_train_dc=m1.train_test_split_obj()[0]\n",
    "X_test_dc=m1.train_test_split_obj()[1]\n",
    "y_train_dc=m1.train_test_split_obj()[2]\n",
    "y_test_dc=m1.train_test_split_obj()[3]\n"
   ]
  },
  {
   "cell_type": "code",
   "execution_count": null,
   "metadata": {
    "ExecuteTime": {
     "end_time": "2021-06-01T13:39:32.815504Z",
     "start_time": "2021-06-01T13:38:23.656Z"
    }
   },
   "outputs": [],
   "source": [
    "Dc=DecisionTreeClassifier()\n",
    "Dc.fit(X_train_dc,y_train_dc)"
   ]
  },
  {
   "cell_type": "code",
   "execution_count": null,
   "metadata": {
    "ExecuteTime": {
     "end_time": "2021-06-01T13:39:32.818504Z",
     "start_time": "2021-06-01T13:38:23.663Z"
    }
   },
   "outputs": [],
   "source": [
    "from sklearn import tree\n",
    "plt.figure(figsize=(10,15))\n",
    "tree.plot_tree(Dc,filled=True)\n",
    "plt.show()"
   ]
  },
  {
   "cell_type": "code",
   "execution_count": null,
   "metadata": {
    "ExecuteTime": {
     "end_time": "2021-06-01T13:39:32.821502Z",
     "start_time": "2021-06-01T13:38:23.670Z"
    }
   },
   "outputs": [],
   "source": [
    "path=Dc.cost_complexity_pruning_path(X_train_dc,y_train_dc)\n",
    "ccp_alphas, impurities = path.ccp_alphas, path.impurities"
   ]
  },
  {
   "cell_type": "code",
   "execution_count": null,
   "metadata": {
    "ExecuteTime": {
     "end_time": "2021-06-01T13:39:32.824500Z",
     "start_time": "2021-06-01T13:38:23.675Z"
    }
   },
   "outputs": [],
   "source": [
    "ccp_alphas"
   ]
  },
  {
   "cell_type": "code",
   "execution_count": null,
   "metadata": {
    "ExecuteTime": {
     "end_time": "2021-06-01T13:39:32.827499Z",
     "start_time": "2021-06-01T13:38:23.680Z"
    }
   },
   "outputs": [],
   "source": [
    "clfs = []\n",
    "for ccp_alpha in ccp_alphas:\n",
    "    clf = DecisionTreeClassifier(random_state=0, ccp_alpha=ccp_alpha,)\n",
    "    clf.fit(X_train, y_train)\n",
    "    clfs.append(clf)\n",
    "print(\"Number of nodes in the last tree is: {} with ccp_alpha: {}\".format(\n",
    "      clfs[-1].tree_.node_count, ccp_alphas[-1]))"
   ]
  },
  {
   "cell_type": "code",
   "execution_count": null,
   "metadata": {
    "ExecuteTime": {
     "end_time": "2021-06-01T13:39:32.830499Z",
     "start_time": "2021-06-01T13:38:23.686Z"
    }
   },
   "outputs": [],
   "source": [
    "train_scores = [clf.score(X_train, y_train) for clf in clfs]\n",
    "test_scores = [clf.score(X_test, y_test) for clf in clfs]\n",
    "\n",
    "fig, ax = plt.subplots()\n",
    "ax.set_xlabel(\"alpha\")\n",
    "ax.set_ylabel(\"accuracy\")\n",
    "ax.set_title(\"Accuracy vs alpha for training and testing sets\")\n",
    "ax.plot(ccp_alphas, train_scores, marker='o', label=\"train\",\n",
    "        drawstyle=\"steps-post\")\n",
    "ax.plot(ccp_alphas, test_scores, marker='o', label=\"test\",\n",
    "        drawstyle=\"steps-post\")\n",
    "ax.legend()\n",
    "plt.show()"
   ]
  },
  {
   "cell_type": "code",
   "execution_count": null,
   "metadata": {
    "ExecuteTime": {
     "end_time": "2021-06-01T13:39:32.833494Z",
     "start_time": "2021-06-01T13:38:23.693Z"
    }
   },
   "outputs": [],
   "source": [
    "m1=Ml_Model(X,y,balance=True)\n",
    "clf=DecisionTreeClassifier(ccp_alpha=0.14)\n",
    "m1.pass_classifier(clf)\n",
    "m1.fit_method_and_score()\n",
    "m1.classification_report()\n",
    "m1.validation()\n",
    "m1.visualization()"
   ]
  },
  {
   "cell_type": "code",
   "execution_count": null,
   "metadata": {
    "ExecuteTime": {
     "end_time": "2021-06-01T13:39:32.836496Z",
     "start_time": "2021-06-01T13:38:23.699Z"
    }
   },
   "outputs": [],
   "source": [
    "from sklearn import tree\n",
    "plt.figure(figsize=(10,15))\n",
    "test=DecisionTreeClassifier(ccp_alpha=0.14)\n",
    "test.fit(X_train_dc,y_train_dc)\n",
    "tree.plot_tree(test,filled=True)\n",
    "plt.show()"
   ]
  },
  {
   "cell_type": "markdown",
   "metadata": {},
   "source": [
    "## Random Forest"
   ]
  },
  {
   "cell_type": "code",
   "execution_count": null,
   "metadata": {
    "ExecuteTime": {
     "end_time": "2021-06-01T13:39:32.838492Z",
     "start_time": "2021-06-01T13:38:23.707Z"
    }
   },
   "outputs": [],
   "source": [
    "\n",
    "from sklearn.ensemble import RandomForestClassifier\n",
    "m1=Ml_Model(X,y)\n",
    "clf=RandomForestClassifier(n_estimators=50,max_leaf_nodes=30)\n",
    "m1.pass_classifier(clf)\n",
    "m1.fit_method_and_score()\n",
    "m1.classification_report()\n",
    "m1.validation()\n",
    "m1.visualization()\n"
   ]
  },
  {
   "cell_type": "code",
   "execution_count": null,
   "metadata": {},
   "outputs": [],
   "source": []
  },
  {
   "cell_type": "code",
   "execution_count": null,
   "metadata": {},
   "outputs": [],
   "source": []
  }
 ],
 "metadata": {
  "kernelspec": {
   "display_name": "Python 3",
   "language": "python",
   "name": "python3"
  },
  "language_info": {
   "codemirror_mode": {
    "name": "ipython",
    "version": 3
   },
   "file_extension": ".py",
   "mimetype": "text/x-python",
   "name": "python",
   "nbconvert_exporter": "python",
   "pygments_lexer": "ipython3",
   "version": "3.8.5"
  },
  "toc": {
   "base_numbering": 1,
   "nav_menu": {},
   "number_sections": true,
   "sideBar": true,
   "skip_h1_title": false,
   "title_cell": "Table of Contents",
   "title_sidebar": "Contents",
   "toc_cell": false,
   "toc_position": {},
   "toc_section_display": true,
   "toc_window_display": true
  }
 },
 "nbformat": 4,
 "nbformat_minor": 4
}
