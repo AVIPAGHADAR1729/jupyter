{
 "cells": [
  {
   "cell_type": "code",
   "execution_count": 1,
   "metadata": {
    "ExecuteTime": {
     "end_time": "2021-05-20T13:46:58.455254Z",
     "start_time": "2021-05-20T13:46:46.350869Z"
    }
   },
   "outputs": [],
   "source": [
    "import pandas as pd \n",
    "import numpy as np\n",
    "import matplotlib.pyplot as plt\n",
    "import seaborn as sns\n"
   ]
  },
  {
   "cell_type": "code",
   "execution_count": 2,
   "metadata": {
    "ExecuteTime": {
     "end_time": "2021-05-20T13:46:58.542530Z",
     "start_time": "2021-05-20T13:46:58.459258Z"
    }
   },
   "outputs": [
    {
     "data": {
      "text/html": [
       "<div>\n",
       "<style scoped>\n",
       "    .dataframe tbody tr th:only-of-type {\n",
       "        vertical-align: middle;\n",
       "    }\n",
       "\n",
       "    .dataframe tbody tr th {\n",
       "        vertical-align: top;\n",
       "    }\n",
       "\n",
       "    .dataframe thead th {\n",
       "        text-align: right;\n",
       "    }\n",
       "</style>\n",
       "<table border=\"1\" class=\"dataframe\">\n",
       "  <thead>\n",
       "    <tr style=\"text-align: right;\">\n",
       "      <th></th>\n",
       "      <th>Pregnancies</th>\n",
       "      <th>Gender</th>\n",
       "      <th>Glucose</th>\n",
       "      <th>BloodPressure</th>\n",
       "      <th>SkinThickness</th>\n",
       "      <th>Insulin</th>\n",
       "      <th>BMI</th>\n",
       "      <th>DiabetesPedigreeFunction</th>\n",
       "      <th>Age</th>\n",
       "      <th>Outcome</th>\n",
       "      <th>CalorieIntake</th>\n",
       "      <th>Exercise</th>\n",
       "      <th>SleepDuration</th>\n",
       "    </tr>\n",
       "  </thead>\n",
       "  <tbody>\n",
       "    <tr>\n",
       "      <th>0</th>\n",
       "      <td>0</td>\n",
       "      <td>M</td>\n",
       "      <td>148</td>\n",
       "      <td>72</td>\n",
       "      <td>35</td>\n",
       "      <td>0</td>\n",
       "      <td>33.6</td>\n",
       "      <td>0.627</td>\n",
       "      <td>50</td>\n",
       "      <td>1</td>\n",
       "      <td>2508.3</td>\n",
       "      <td>No</td>\n",
       "      <td>6</td>\n",
       "    </tr>\n",
       "    <tr>\n",
       "      <th>1</th>\n",
       "      <td>1</td>\n",
       "      <td>F</td>\n",
       "      <td>85</td>\n",
       "      <td>66</td>\n",
       "      <td>29</td>\n",
       "      <td>0</td>\n",
       "      <td>26.6</td>\n",
       "      <td>0.351</td>\n",
       "      <td>31</td>\n",
       "      <td>0</td>\n",
       "      <td>2760.0</td>\n",
       "      <td>Evening</td>\n",
       "      <td>8</td>\n",
       "    </tr>\n",
       "    <tr>\n",
       "      <th>2</th>\n",
       "      <td>0</td>\n",
       "      <td>M</td>\n",
       "      <td>183</td>\n",
       "      <td>64</td>\n",
       "      <td>0</td>\n",
       "      <td>0</td>\n",
       "      <td>23.3</td>\n",
       "      <td>0.672</td>\n",
       "      <td>32</td>\n",
       "      <td>1</td>\n",
       "      <td>6480.0</td>\n",
       "      <td>Morning</td>\n",
       "      <td>8</td>\n",
       "    </tr>\n",
       "    <tr>\n",
       "      <th>3</th>\n",
       "      <td>1</td>\n",
       "      <td>F</td>\n",
       "      <td>89</td>\n",
       "      <td>66</td>\n",
       "      <td>23</td>\n",
       "      <td>94</td>\n",
       "      <td>28.1</td>\n",
       "      <td>0.167</td>\n",
       "      <td>21</td>\n",
       "      <td>0</td>\n",
       "      <td>NaN</td>\n",
       "      <td>Evening</td>\n",
       "      <td>8</td>\n",
       "    </tr>\n",
       "    <tr>\n",
       "      <th>4</th>\n",
       "      <td>0</td>\n",
       "      <td>M</td>\n",
       "      <td>137</td>\n",
       "      <td>40</td>\n",
       "      <td>35</td>\n",
       "      <td>168</td>\n",
       "      <td>43.1</td>\n",
       "      <td>2.288</td>\n",
       "      <td>33</td>\n",
       "      <td>1</td>\n",
       "      <td>1970.0</td>\n",
       "      <td>No</td>\n",
       "      <td>9</td>\n",
       "    </tr>\n",
       "  </tbody>\n",
       "</table>\n",
       "</div>"
      ],
      "text/plain": [
       "   Pregnancies Gender  Glucose  BloodPressure  SkinThickness  Insulin   BMI  \\\n",
       "0            0      M      148             72             35        0  33.6   \n",
       "1            1      F       85             66             29        0  26.6   \n",
       "2            0      M      183             64              0        0  23.3   \n",
       "3            1      F       89             66             23       94  28.1   \n",
       "4            0      M      137             40             35      168  43.1   \n",
       "\n",
       "   DiabetesPedigreeFunction  Age  Outcome  CalorieIntake Exercise  \\\n",
       "0                     0.627   50        1         2508.3       No   \n",
       "1                     0.351   31        0         2760.0  Evening   \n",
       "2                     0.672   32        1         6480.0  Morning   \n",
       "3                     0.167   21        0            NaN  Evening   \n",
       "4                     2.288   33        1         1970.0       No   \n",
       "\n",
       "   SleepDuration  \n",
       "0              6  \n",
       "1              8  \n",
       "2              8  \n",
       "3              8  \n",
       "4              9  "
      ]
     },
     "execution_count": 2,
     "metadata": {},
     "output_type": "execute_result"
    }
   ],
   "source": [
    "diabetes_df=pd.read_csv(\"diabetes.csv\")\n",
    "diabetes_df.head()"
   ]
  },
  {
   "cell_type": "code",
   "execution_count": 3,
   "metadata": {
    "ExecuteTime": {
     "end_time": "2021-05-20T13:46:58.612471Z",
     "start_time": "2021-05-20T13:46:58.547510Z"
    }
   },
   "outputs": [
    {
     "data": {
      "text/html": [
       "<div>\n",
       "<style scoped>\n",
       "    .dataframe tbody tr th:only-of-type {\n",
       "        vertical-align: middle;\n",
       "    }\n",
       "\n",
       "    .dataframe tbody tr th {\n",
       "        vertical-align: top;\n",
       "    }\n",
       "\n",
       "    .dataframe thead th {\n",
       "        text-align: right;\n",
       "    }\n",
       "</style>\n",
       "<table border=\"1\" class=\"dataframe\">\n",
       "  <thead>\n",
       "    <tr style=\"text-align: right;\">\n",
       "      <th></th>\n",
       "      <th>Pregnancies</th>\n",
       "      <th>Gender</th>\n",
       "      <th>Glucose</th>\n",
       "      <th>BloodPressure</th>\n",
       "      <th>SkinThickness</th>\n",
       "      <th>Insulin</th>\n",
       "      <th>BMI</th>\n",
       "      <th>DiabetesPedigreeFunction</th>\n",
       "      <th>Age</th>\n",
       "      <th>CalorieIntake</th>\n",
       "      <th>Exercise</th>\n",
       "      <th>SleepDuration</th>\n",
       "      <th>Outcome</th>\n",
       "    </tr>\n",
       "  </thead>\n",
       "  <tbody>\n",
       "    <tr>\n",
       "      <th>0</th>\n",
       "      <td>0</td>\n",
       "      <td>M</td>\n",
       "      <td>148</td>\n",
       "      <td>72</td>\n",
       "      <td>35</td>\n",
       "      <td>0</td>\n",
       "      <td>33.6</td>\n",
       "      <td>0.627</td>\n",
       "      <td>50</td>\n",
       "      <td>2508.3</td>\n",
       "      <td>No</td>\n",
       "      <td>6</td>\n",
       "      <td>1</td>\n",
       "    </tr>\n",
       "    <tr>\n",
       "      <th>1</th>\n",
       "      <td>1</td>\n",
       "      <td>F</td>\n",
       "      <td>85</td>\n",
       "      <td>66</td>\n",
       "      <td>29</td>\n",
       "      <td>0</td>\n",
       "      <td>26.6</td>\n",
       "      <td>0.351</td>\n",
       "      <td>31</td>\n",
       "      <td>2760.0</td>\n",
       "      <td>Evening</td>\n",
       "      <td>8</td>\n",
       "      <td>0</td>\n",
       "    </tr>\n",
       "    <tr>\n",
       "      <th>2</th>\n",
       "      <td>0</td>\n",
       "      <td>M</td>\n",
       "      <td>183</td>\n",
       "      <td>64</td>\n",
       "      <td>0</td>\n",
       "      <td>0</td>\n",
       "      <td>23.3</td>\n",
       "      <td>0.672</td>\n",
       "      <td>32</td>\n",
       "      <td>6480.0</td>\n",
       "      <td>Morning</td>\n",
       "      <td>8</td>\n",
       "      <td>1</td>\n",
       "    </tr>\n",
       "    <tr>\n",
       "      <th>3</th>\n",
       "      <td>1</td>\n",
       "      <td>F</td>\n",
       "      <td>89</td>\n",
       "      <td>66</td>\n",
       "      <td>23</td>\n",
       "      <td>94</td>\n",
       "      <td>28.1</td>\n",
       "      <td>0.167</td>\n",
       "      <td>21</td>\n",
       "      <td>NaN</td>\n",
       "      <td>Evening</td>\n",
       "      <td>8</td>\n",
       "      <td>0</td>\n",
       "    </tr>\n",
       "    <tr>\n",
       "      <th>4</th>\n",
       "      <td>0</td>\n",
       "      <td>M</td>\n",
       "      <td>137</td>\n",
       "      <td>40</td>\n",
       "      <td>35</td>\n",
       "      <td>168</td>\n",
       "      <td>43.1</td>\n",
       "      <td>2.288</td>\n",
       "      <td>33</td>\n",
       "      <td>1970.0</td>\n",
       "      <td>No</td>\n",
       "      <td>9</td>\n",
       "      <td>1</td>\n",
       "    </tr>\n",
       "  </tbody>\n",
       "</table>\n",
       "</div>"
      ],
      "text/plain": [
       "   Pregnancies Gender  Glucose  BloodPressure  SkinThickness  Insulin   BMI  \\\n",
       "0            0      M      148             72             35        0  33.6   \n",
       "1            1      F       85             66             29        0  26.6   \n",
       "2            0      M      183             64              0        0  23.3   \n",
       "3            1      F       89             66             23       94  28.1   \n",
       "4            0      M      137             40             35      168  43.1   \n",
       "\n",
       "   DiabetesPedigreeFunction  Age  CalorieIntake Exercise  SleepDuration  \\\n",
       "0                     0.627   50         2508.3       No              6   \n",
       "1                     0.351   31         2760.0  Evening              8   \n",
       "2                     0.672   32         6480.0  Morning              8   \n",
       "3                     0.167   21            NaN  Evening              8   \n",
       "4                     2.288   33         1970.0       No              9   \n",
       "\n",
       "   Outcome  \n",
       "0        1  \n",
       "1        0  \n",
       "2        1  \n",
       "3        0  \n",
       "4        1  "
      ]
     },
     "execution_count": 3,
     "metadata": {},
     "output_type": "execute_result"
    }
   ],
   "source": [
    "l1=[col  for col in diabetes_df.columns if col!=\"Outcome\"]\n",
    "l1.append(\"Outcome\")\n",
    "diabetes_df=diabetes_df[l1]\n",
    "diabetes_df.head()"
   ]
  },
  {
   "cell_type": "markdown",
   "metadata": {},
   "source": [
    "## Data Clean\n"
   ]
  },
  {
   "cell_type": "code",
   "execution_count": 4,
   "metadata": {
    "ExecuteTime": {
     "end_time": "2021-05-20T13:46:58.683649Z",
     "start_time": "2021-05-20T13:46:58.618467Z"
    }
   },
   "outputs": [],
   "source": [
    "def data_clean(df=None):\n",
    "        df[\"Exercise\"]=df[\"Exercise\"].replace({\"No\":1,\"Evening\":2,\"Morning\":3,\"Both\":4}).astype(int)\n",
    "        df[\"Gender\"]=df[\"Gender\"].replace({\"M\":1,\"F\":0}).astype(int)\n",
    "        df[\"CalorieIntake\"].fillna(df[\"CalorieIntake\"].median(),inplace=True)\n",
    "        return df\n",
    "    \n",
    "    \n",
    "diabetes_df_clean=data_clean(diabetes_df)"
   ]
  },
  {
   "cell_type": "code",
   "execution_count": 5,
   "metadata": {
    "ExecuteTime": {
     "end_time": "2021-05-20T13:46:58.788395Z",
     "start_time": "2021-05-20T13:46:58.687629Z"
    }
   },
   "outputs": [
    {
     "data": {
      "text/html": [
       "<div>\n",
       "<style scoped>\n",
       "    .dataframe tbody tr th:only-of-type {\n",
       "        vertical-align: middle;\n",
       "    }\n",
       "\n",
       "    .dataframe tbody tr th {\n",
       "        vertical-align: top;\n",
       "    }\n",
       "\n",
       "    .dataframe thead th {\n",
       "        text-align: right;\n",
       "    }\n",
       "</style>\n",
       "<table border=\"1\" class=\"dataframe\">\n",
       "  <thead>\n",
       "    <tr style=\"text-align: right;\">\n",
       "      <th></th>\n",
       "      <th>Pregnancies</th>\n",
       "      <th>Gender</th>\n",
       "      <th>Glucose</th>\n",
       "      <th>BloodPressure</th>\n",
       "      <th>SkinThickness</th>\n",
       "      <th>Insulin</th>\n",
       "      <th>BMI</th>\n",
       "      <th>DiabetesPedigreeFunction</th>\n",
       "      <th>Age</th>\n",
       "      <th>CalorieIntake</th>\n",
       "      <th>Exercise</th>\n",
       "      <th>SleepDuration</th>\n",
       "      <th>Outcome</th>\n",
       "    </tr>\n",
       "  </thead>\n",
       "  <tbody>\n",
       "    <tr>\n",
       "      <th>0</th>\n",
       "      <td>0</td>\n",
       "      <td>1</td>\n",
       "      <td>148</td>\n",
       "      <td>72</td>\n",
       "      <td>35</td>\n",
       "      <td>0</td>\n",
       "      <td>33.6</td>\n",
       "      <td>0.627</td>\n",
       "      <td>50</td>\n",
       "      <td>2508.3</td>\n",
       "      <td>1</td>\n",
       "      <td>6</td>\n",
       "      <td>1</td>\n",
       "    </tr>\n",
       "    <tr>\n",
       "      <th>1</th>\n",
       "      <td>1</td>\n",
       "      <td>0</td>\n",
       "      <td>85</td>\n",
       "      <td>66</td>\n",
       "      <td>29</td>\n",
       "      <td>0</td>\n",
       "      <td>26.6</td>\n",
       "      <td>0.351</td>\n",
       "      <td>31</td>\n",
       "      <td>2760.0</td>\n",
       "      <td>2</td>\n",
       "      <td>8</td>\n",
       "      <td>0</td>\n",
       "    </tr>\n",
       "    <tr>\n",
       "      <th>2</th>\n",
       "      <td>0</td>\n",
       "      <td>1</td>\n",
       "      <td>183</td>\n",
       "      <td>64</td>\n",
       "      <td>0</td>\n",
       "      <td>0</td>\n",
       "      <td>23.3</td>\n",
       "      <td>0.672</td>\n",
       "      <td>32</td>\n",
       "      <td>6480.0</td>\n",
       "      <td>3</td>\n",
       "      <td>8</td>\n",
       "      <td>1</td>\n",
       "    </tr>\n",
       "    <tr>\n",
       "      <th>3</th>\n",
       "      <td>1</td>\n",
       "      <td>0</td>\n",
       "      <td>89</td>\n",
       "      <td>66</td>\n",
       "      <td>23</td>\n",
       "      <td>94</td>\n",
       "      <td>28.1</td>\n",
       "      <td>0.167</td>\n",
       "      <td>21</td>\n",
       "      <td>2893.0</td>\n",
       "      <td>2</td>\n",
       "      <td>8</td>\n",
       "      <td>0</td>\n",
       "    </tr>\n",
       "    <tr>\n",
       "      <th>4</th>\n",
       "      <td>0</td>\n",
       "      <td>1</td>\n",
       "      <td>137</td>\n",
       "      <td>40</td>\n",
       "      <td>35</td>\n",
       "      <td>168</td>\n",
       "      <td>43.1</td>\n",
       "      <td>2.288</td>\n",
       "      <td>33</td>\n",
       "      <td>1970.0</td>\n",
       "      <td>1</td>\n",
       "      <td>9</td>\n",
       "      <td>1</td>\n",
       "    </tr>\n",
       "  </tbody>\n",
       "</table>\n",
       "</div>"
      ],
      "text/plain": [
       "   Pregnancies  Gender  Glucose  BloodPressure  SkinThickness  Insulin   BMI  \\\n",
       "0            0       1      148             72             35        0  33.6   \n",
       "1            1       0       85             66             29        0  26.6   \n",
       "2            0       1      183             64              0        0  23.3   \n",
       "3            1       0       89             66             23       94  28.1   \n",
       "4            0       1      137             40             35      168  43.1   \n",
       "\n",
       "   DiabetesPedigreeFunction  Age  CalorieIntake  Exercise  SleepDuration  \\\n",
       "0                     0.627   50         2508.3         1              6   \n",
       "1                     0.351   31         2760.0         2              8   \n",
       "2                     0.672   32         6480.0         3              8   \n",
       "3                     0.167   21         2893.0         2              8   \n",
       "4                     2.288   33         1970.0         1              9   \n",
       "\n",
       "   Outcome  \n",
       "0        1  \n",
       "1        0  \n",
       "2        1  \n",
       "3        0  \n",
       "4        1  "
      ]
     },
     "execution_count": 5,
     "metadata": {},
     "output_type": "execute_result"
    }
   ],
   "source": [
    "diabetes_df_clean.head()"
   ]
  },
  {
   "cell_type": "code",
   "execution_count": 6,
   "metadata": {
    "ExecuteTime": {
     "end_time": "2021-05-20T13:46:58.867366Z",
     "start_time": "2021-05-20T13:46:58.792394Z"
    }
   },
   "outputs": [],
   "source": [
    "continue_feature=['Glucose',                 # part1 \n",
    " 'BloodPressure',\n",
    " 'SkinThickness',\n",
    " 'Insulin',\n",
    " 'BMI',\n",
    " 'DiabetesPedigreeFunction',\n",
    " 'Age',\n",
    " 'CalorieIntake',\n",
    " 'Outcome']  \n",
    "\n",
    "Lda_df=diabetes_df_clean"
   ]
  },
  {
   "cell_type": "code",
   "execution_count": 7,
   "metadata": {
    "ExecuteTime": {
     "end_time": "2021-05-20T13:47:02.191957Z",
     "start_time": "2021-05-20T13:46:58.871344Z"
    }
   },
   "outputs": [],
   "source": [
    "X=Lda_df.iloc[:,:-1]\n",
    "y=Lda_df.iloc[:,-1]\n",
    "from sklearn.model_selection import train_test_split\n",
    "X_train,X_test,y_train,y_test=train_test_split(X,y)"
   ]
  },
  {
   "cell_type": "code",
   "execution_count": null,
   "metadata": {},
   "outputs": [],
   "source": []
  },
  {
   "cell_type": "markdown",
   "metadata": {
    "ExecuteTime": {
     "end_time": "2021-05-20T05:46:38.313722Z",
     "start_time": "2021-05-20T05:46:38.308728Z"
    }
   },
   "source": [
    "## Visuliazation Of Data by LDA\n"
   ]
  },
  {
   "cell_type": "code",
   "execution_count": null,
   "metadata": {},
   "outputs": [],
   "source": []
  },
  {
   "cell_type": "code",
   "execution_count": 11,
   "metadata": {
    "ExecuteTime": {
     "end_time": "2021-05-20T13:48:14.534594Z",
     "start_time": "2021-05-20T13:48:13.985259Z"
    }
   },
   "outputs": [],
   "source": [
    "from sklearn.discriminant_analysis import LinearDiscriminantAnalysis\n",
    "clf1=LinearDiscriminantAnalysis(\"eigen\")\n",
    "\n",
    "X_r1=clf1.fit(X,y).transform(X)\n",
    "l2=np.arange(0,len(X_r1))\n",
    "\n",
    "lda_df=pd.DataFrame(data=np.column_stack([X_r1,diabetes_df_clean[\"Outcome\"],l2]),columns=[\"X_r1\",\"Outcome\",\"l2\"])"
   ]
  },
  {
   "cell_type": "code",
   "execution_count": 12,
   "metadata": {
    "ExecuteTime": {
     "end_time": "2021-05-20T13:48:16.280121Z",
     "start_time": "2021-05-20T13:48:15.193153Z"
    }
   },
   "outputs": [
    {
     "data": {
      "text/plain": [
       "<seaborn.axisgrid.FacetGrid at 0x26494712190>"
      ]
     },
     "execution_count": 12,
     "metadata": {},
     "output_type": "execute_result"
    },
    {
     "data": {
      "image/png": "[encoded data removed]",
      "text/plain": [
       "<Figure size 413.25x360 with 1 Axes>"
      ]
     },
     "metadata": {
      "needs_background": "light"
     },
     "output_type": "display_data"
    }
   ],
   "source": [
    "sns.displot(x=lda_df[\"X_r1\"],hue=lda_df[\"Outcome\"])"
   ]
  },
  {
   "cell_type": "code",
   "execution_count": 13,
   "metadata": {
    "ExecuteTime": {
     "end_time": "2021-05-20T13:48:17.383810Z",
     "start_time": "2021-05-20T13:48:16.748618Z"
    },
    "scrolled": true
   },
   "outputs": [
    {
     "data": {
      "text/plain": [
       "<AxesSubplot:xlabel='l2', ylabel='X_r1'>"
      ]
     },
     "execution_count": 13,
     "metadata": {},
     "output_type": "execute_result"
    },
    {
     "data": {
      "image/png": "[encoded data removed]",
      "text/plain": [
       "<Figure size 432x288 with 1 Axes>"
      ]
     },
     "metadata": {
      "needs_background": "light"
     },
     "output_type": "display_data"
    }
   ],
   "source": [
    "sns.scatterplot(x=lda_df[\"l2\"],y=lda_df[\"X_r1\"],hue=lda_df[\"Outcome\"])"
   ]
  },
  {
   "cell_type": "markdown",
   "metadata": {},
   "source": [
    "## PCA"
   ]
  },
  {
   "cell_type": "code",
   "execution_count": 14,
   "metadata": {
    "ExecuteTime": {
     "end_time": "2021-05-20T13:50:59.992459Z",
     "start_time": "2021-05-20T13:50:59.530044Z"
    }
   },
   "outputs": [],
   "source": [
    "from sklearn.decomposition import PCA\n",
    "pca=PCA(n_components=2,)\n",
    "X_embedded=pca.fit_transform(X)\n",
    "\n",
    "pca_df=pd.DataFrame(data=X_embedded,columns=[\"x1\",\"x2\"])\n",
    "pca_df[\"Outcome\"]=y"
   ]
  },
  {
   "cell_type": "code",
   "execution_count": 15,
   "metadata": {
    "ExecuteTime": {
     "end_time": "2021-05-20T13:51:00.511162Z",
     "start_time": "2021-05-20T13:50:59.995458Z"
    },
    "scrolled": true
   },
   "outputs": [
    {
     "data": {
      "text/plain": [
       "<AxesSubplot:xlabel='x1', ylabel='x2'>"
      ]
     },
     "execution_count": 15,
     "metadata": {},
     "output_type": "execute_result"
    },
    {
     "data": {
      "image/png": "[encoded data removed]",
      "text/plain": [
       "<Figure size 432x288 with 1 Axes>"
      ]
     },
     "metadata": {
      "needs_background": "light"
     },
     "output_type": "display_data"
    }
   ],
   "source": [
    "sns.scatterplot(data=pca_df,x='x1',y=\"x2\",hue=\"Outcome\")"
   ]
  },
  {
   "cell_type": "markdown",
   "metadata": {},
   "source": [
    "### classfication using LDA"
   ]
  },
  {
   "cell_type": "code",
   "execution_count": 16,
   "metadata": {
    "ExecuteTime": {
     "end_time": "2021-05-20T13:51:00.548142Z",
     "start_time": "2021-05-20T13:51:00.516161Z"
    },
    "scrolled": true
   },
   "outputs": [
    {
     "data": {
      "text/plain": [
       "0.9270833333333334"
      ]
     },
     "execution_count": 16,
     "metadata": {},
     "output_type": "execute_result"
    }
   ],
   "source": [
    "from sklearn.discriminant_analysis import LinearDiscriminantAnalysis\n",
    "clf=LinearDiscriminantAnalysis()\n",
    "clf.fit(X_train,y_train)\n",
    "clf.score(X_test,y_test)"
   ]
  },
  {
   "cell_type": "markdown",
   "metadata": {},
   "source": [
    "## T-SNE"
   ]
  },
  {
   "cell_type": "code",
   "execution_count": 17,
   "metadata": {
    "ExecuteTime": {
     "end_time": "2021-05-20T13:51:30.620241Z",
     "start_time": "2021-05-20T13:51:00.556137Z"
    }
   },
   "outputs": [
    {
     "data": {
      "text/plain": [
       "(768, 2)"
      ]
     },
     "execution_count": 17,
     "metadata": {},
     "output_type": "execute_result"
    }
   ],
   "source": [
    "from sklearn.manifold import TSNE\n",
    "X_embedded = TSNE(n_components=2,perplexity=30.0,n_iter=5000).fit_transform(X)\n",
    "X_embedded.shape"
   ]
  },
  {
   "cell_type": "code",
   "execution_count": 18,
   "metadata": {
    "ExecuteTime": {
     "end_time": "2021-05-20T13:51:30.633233Z",
     "start_time": "2021-05-20T13:51:30.623240Z"
    }
   },
   "outputs": [],
   "source": [
    "t_sne_df=pd.DataFrame(data=X_embedded,columns=[\"x1\",\"x2\"])\n",
    "t_sne_df[\"Outcome\"]=y"
   ]
  },
  {
   "cell_type": "code",
   "execution_count": 19,
   "metadata": {
    "ExecuteTime": {
     "end_time": "2021-05-20T13:51:31.023952Z",
     "start_time": "2021-05-20T13:51:30.637230Z"
    }
   },
   "outputs": [
    {
     "data": {
      "text/html": [
       "<div>\n",
       "<style scoped>\n",
       "    .dataframe tbody tr th:only-of-type {\n",
       "        vertical-align: middle;\n",
       "    }\n",
       "\n",
       "    .dataframe tbody tr th {\n",
       "        vertical-align: top;\n",
       "    }\n",
       "\n",
       "    .dataframe thead th {\n",
       "        text-align: right;\n",
       "    }\n",
       "</style>\n",
       "<table border=\"1\" class=\"dataframe\">\n",
       "  <thead>\n",
       "    <tr style=\"text-align: right;\">\n",
       "      <th></th>\n",
       "      <th>x1</th>\n",
       "      <th>x2</th>\n",
       "      <th>Outcome</th>\n",
       "    </tr>\n",
       "  </thead>\n",
       "  <tbody>\n",
       "    <tr>\n",
       "      <th>0</th>\n",
       "      <td>-9.271338</td>\n",
       "      <td>-51.583462</td>\n",
       "      <td>1</td>\n",
       "    </tr>\n",
       "    <tr>\n",
       "      <th>1</th>\n",
       "      <td>24.225845</td>\n",
       "      <td>-35.897560</td>\n",
       "      <td>0</td>\n",
       "    </tr>\n",
       "    <tr>\n",
       "      <th>2</th>\n",
       "      <td>5.310433</td>\n",
       "      <td>30.411150</td>\n",
       "      <td>1</td>\n",
       "    </tr>\n",
       "    <tr>\n",
       "      <th>3</th>\n",
       "      <td>29.512152</td>\n",
       "      <td>-10.663396</td>\n",
       "      <td>0</td>\n",
       "    </tr>\n",
       "    <tr>\n",
       "      <th>4</th>\n",
       "      <td>-24.885244</td>\n",
       "      <td>-31.481060</td>\n",
       "      <td>1</td>\n",
       "    </tr>\n",
       "    <tr>\n",
       "      <th>...</th>\n",
       "      <td>...</td>\n",
       "      <td>...</td>\n",
       "      <td>...</td>\n",
       "    </tr>\n",
       "    <tr>\n",
       "      <th>763</th>\n",
       "      <td>25.058882</td>\n",
       "      <td>-13.074069</td>\n",
       "      <td>0</td>\n",
       "    </tr>\n",
       "    <tr>\n",
       "      <th>764</th>\n",
       "      <td>-22.100613</td>\n",
       "      <td>53.925674</td>\n",
       "      <td>0</td>\n",
       "    </tr>\n",
       "    <tr>\n",
       "      <th>765</th>\n",
       "      <td>-25.228222</td>\n",
       "      <td>51.722927</td>\n",
       "      <td>0</td>\n",
       "    </tr>\n",
       "    <tr>\n",
       "      <th>766</th>\n",
       "      <td>15.358672</td>\n",
       "      <td>38.616653</td>\n",
       "      <td>1</td>\n",
       "    </tr>\n",
       "    <tr>\n",
       "      <th>767</th>\n",
       "      <td>11.350364</td>\n",
       "      <td>-34.420692</td>\n",
       "      <td>0</td>\n",
       "    </tr>\n",
       "  </tbody>\n",
       "</table>\n",
       "<p>768 rows × 3 columns</p>\n",
       "</div>"
      ],
      "text/plain": [
       "            x1         x2  Outcome\n",
       "0    -9.271338 -51.583462        1\n",
       "1    24.225845 -35.897560        0\n",
       "2     5.310433  30.411150        1\n",
       "3    29.512152 -10.663396        0\n",
       "4   -24.885244 -31.481060        1\n",
       "..         ...        ...      ...\n",
       "763  25.058882 -13.074069        0\n",
       "764 -22.100613  53.925674        0\n",
       "765 -25.228222  51.722927        0\n",
       "766  15.358672  38.616653        1\n",
       "767  11.350364 -34.420692        0\n",
       "\n",
       "[768 rows x 3 columns]"
      ]
     },
     "execution_count": 19,
     "metadata": {},
     "output_type": "execute_result"
    }
   ],
   "source": [
    "t_sne_df"
   ]
  },
  {
   "cell_type": "code",
   "execution_count": 20,
   "metadata": {
    "ExecuteTime": {
     "end_time": "2021-05-20T13:51:31.610901Z",
     "start_time": "2021-05-20T13:51:31.027951Z"
    },
    "scrolled": true
   },
   "outputs": [
    {
     "data": {
      "text/plain": [
       "<AxesSubplot:xlabel='x1', ylabel='x2'>"
      ]
     },
     "execution_count": 20,
     "metadata": {},
     "output_type": "execute_result"
    },
    {
     "data": {
      "image/png": "[encoded data removed]",
      "text/plain": [
       "<Figure size 432x288 with 1 Axes>"
      ]
     },
     "metadata": {
      "needs_background": "light"
     },
     "output_type": "display_data"
    }
   ],
   "source": [
    "sns.scatterplot(data=t_sne_df,x='x1',y=\"x2\",hue='Outcome')"
   ]
  },
  {
   "cell_type": "code",
   "execution_count": null,
   "metadata": {},
   "outputs": [],
   "source": []
  },
  {
   "cell_type": "markdown",
   "metadata": {},
   "source": [
    "## General Class For ml model validation"
   ]
  },
  {
   "cell_type": "code",
   "execution_count": 34,
   "metadata": {
    "ExecuteTime": {
     "end_time": "2021-05-20T14:03:39.981066Z",
     "start_time": "2021-05-20T14:03:39.949069Z"
    }
   },
   "outputs": [],
   "source": [
    "class Ml_Model(object):\n",
    "\n",
    "    def __init__(self, *arg, scaling=False,balance=False,Oversampling=False):\n",
    "        import numpy as np\n",
    "        self.X = arg[0]\n",
    "        self.y = arg[1]\n",
    "        if (balance):\n",
    "            if(!Oversampling):\n",
    "            from imblearn.under_sampling import RandomUnderSampler\n",
    "            b=RandomUnderSampler(sampling_strategy=1)\n",
    "            from imblearn.over_sampling import RandomOverSampler\n",
    "             \n",
    "        if not scaling:\n",
    "            from sklearn.model_selection import train_test_split\n",
    "            from sklearn.preprocessing import StandardScaler\n",
    "            self.X_train, self.X_test, self.y_train, self.y_test = train_test_split(\n",
    "                                          self.X, self.y)\n",
    "\n",
    "        else:\n",
    "            from sklearn.model_selection import train_test_split\n",
    "            from sklearn.preprocessing import StandardScaler\n",
    "            self.X_train, self.X_test, self.y_train, self.y_test = train_test_split(\n",
    "                                              self.X, self.y)\n",
    "\n",
    "            sc = StandardScaler()\n",
    "            self.X_train = sc.fit_transform(self.X_train)\n",
    "            self.X_test = sc.transform(self.X_test)\n",
    "\n",
    "  \n",
    "    def pass_classifier(self, clf=None):\n",
    "        self.clf = clf\n",
    "        print(clf)\n",
    "\n",
    "        return self.clf\n",
    "\n",
    "    def fit_method_and_score(self):\n",
    "        \n",
    "        clf.fit(self.X_train, self.y_train)\n",
    "        return clf.score(self.X_test, self.y_test)\n",
    "\n",
    "    def classification_report(self):\n",
    "        self.y_pred = self.clf.predict(self.X_test)\n",
    "        from sklearn.metrics import classification_report\n",
    "        return print(classification_report(self.y_test, self.y_pred))\n",
    "    \n",
    "    \n",
    "\n",
    "    def validation(self):\n",
    "\n",
    "        from sklearn.model_selection import StratifiedKFold\n",
    "        from sklearn.metrics import f1_score\n",
    "        from sklearn.metrics import recall_score\n",
    "        from sklearn.metrics import accuracy_score\n",
    "        from sklearn.metrics import precision_score\n",
    "        from colorama import Fore, Back, Style\n",
    "    \n",
    "        lst_accu_stratified = []\n",
    "        lst_recall_stratified = []\n",
    "        lst_precision_stratified = []\n",
    "\n",
    "        lst_f1_score_stratified = []\n",
    "        x = 0\n",
    "        skf = StratifiedKFold(n_splits=18, shuffle=True, random_state=1)\n",
    "        for train_index, test_index in skf.split(self.X, self.y):\n",
    "            x_train_fold, x_test_fold = self.X.loc[train_index,\n",
    "                                                   :], self.X.loc[test_index, :]\n",
    "            y_train_fold, y_test_fold = self.y[train_index], self.y[test_index]\n",
    "            self.clf.fit(x_train_fold, y_train_fold)\n",
    "            y_pre = clf.predict(self.X_test)\n",
    "#                 print(classification_report(self.y_test,y_pre))\n",
    "\n",
    "            lst_accu_stratified.append(round(accuracy_score(self.y_test, y_pre),4))\n",
    "            lst_recall_stratified.append(round(recall_score(self.y_test, y_pre),4))\n",
    "            lst_f1_score_stratified.append(round(f1_score(self.y_test, y_pre),4))\n",
    "            lst_precision_stratified.append(round(precision_score(self.y_test, y_pre),4))\n",
    "\n",
    "        for i, j in zip([\"Accuracy\", \"Recall\", \"Precision\", \"F1-Score\"], [lst_accu_stratified, lst_recall_stratified, lst_precision_stratified, lst_f1_score_stratified]):\n",
    "            \n",
    "            print(Fore.BLUE+f\"\\n\\n{i} \")\n",
    "            print(Style.RESET_ALL)\n",
    "\n",
    "            print(f'List of possible {i} Score:\\n',j)\n",
    "\n",
    "            print(f'\\nMaximum {i} Score That can be obtained from this model is:',max(j)*100, '%')\n",
    "            print(f'\\nMinimum {i} Score:',min(j)*100, '%')\n",
    "            print(f'\\nAverage {i} Score That can be obtained from this model is::', np.mean(j))\n",
    "            print(f'\\nMedian {i} Score That can be obtained from this model is::', np.median(j))\n",
    "            print('\\nStandard Deviation is:', np.std(j))\n",
    "\n",
    "        return None\n",
    "    "
   ]
  },
  {
   "cell_type": "markdown",
   "metadata": {},
   "source": [
    "## LDA "
   ]
  },
  {
   "cell_type": "code",
   "execution_count": null,
   "metadata": {},
   "outputs": [],
   "source": []
  },
  {
   "cell_type": "code",
   "execution_count": 35,
   "metadata": {
    "ExecuteTime": {
     "end_time": "2021-05-20T14:03:42.450125Z",
     "start_time": "2021-05-20T14:03:42.022147Z"
    }
   },
   "outputs": [
    {
     "name": "stdout",
     "output_type": "stream",
     "text": [
      "LinearDiscriminantAnalysis()\n",
      "              precision    recall  f1-score   support\n",
      "\n",
      "           0       0.90      0.99      0.95       122\n",
      "           1       0.98      0.81      0.89        70\n",
      "\n",
      "    accuracy                           0.93       192\n",
      "   macro avg       0.94      0.90      0.92       192\n",
      "weighted avg       0.93      0.93      0.93       192\n",
      "\n",
      "\u001b[34m\n",
      "\n",
      "Accuracy \n",
      "\u001b[0m\n",
      "List of possible Accuracy Score:\n",
      " [0.9167, 0.9219, 0.9219, 0.9219, 0.9271, 0.9219, 0.9271, 0.9219, 0.9271, 0.9219, 0.9219, 0.9271, 0.9167, 0.9323, 0.9167, 0.9219, 0.9323, 0.9323]\n",
      "\n",
      "Maximum Accuracy Score That can be obtained from this model is: 93.23 %\n",
      "\n",
      "Minimum Accuracy Score: 91.67 %\n",
      "\n",
      "Average Accuracy Score That can be obtained from this model is:: 0.9239222222222223\n",
      "\n",
      "Median Accuracy Score That can be obtained from this model is:: 0.9219\n",
      "\n",
      "Standard Deviation is: 0.004944981244269076\n",
      "\u001b[34m\n",
      "\n",
      "Recall \n",
      "\u001b[0m\n",
      "List of possible Recall Score:\n",
      " [0.7857, 0.8, 0.8, 0.8, 0.8143, 0.8, 0.8143, 0.8, 0.8143, 0.8, 0.8, 0.8143, 0.7857, 0.8286, 0.7857, 0.8, 0.8286, 0.8286]\n",
      "\n",
      "Maximum Recall Score That can be obtained from this model is: 82.86 %\n",
      "\n",
      "Minimum Recall Score: 78.57 %\n",
      "\n",
      "Average Recall Score That can be obtained from this model is:: 0.8055611111111111\n",
      "\n",
      "Median Recall Score That can be obtained from this model is:: 0.8\n",
      "\n",
      "Standard Deviation is: 0.01359869842173994\n",
      "\u001b[34m\n",
      "\n",
      "Precision \n",
      "\u001b[0m\n",
      "List of possible Precision Score:\n",
      " [0.9821, 0.9825, 0.9825, 0.9825, 0.9828, 0.9825, 0.9828, 0.9825, 0.9828, 0.9825, 0.9825, 0.9828, 0.9821, 0.9831, 0.9821, 0.9825, 0.9831, 0.9831]\n",
      "\n",
      "Maximum Precision Score That can be obtained from this model is: 98.31 %\n",
      "\n",
      "Minimum Precision Score: 98.21 %\n",
      "\n",
      "Average Precision Score That can be obtained from this model is:: 0.9826000000000001\n",
      "\n",
      "Median Precision Score That can be obtained from this model is:: 0.9825\n",
      "\n",
      "Standard Deviation is: 0.000310912635102956\n",
      "\u001b[34m\n",
      "\n",
      "F1-Score \n",
      "\u001b[0m\n",
      "List of possible F1-Score Score:\n",
      " [0.873, 0.8819, 0.8819, 0.8819, 0.8906, 0.8819, 0.8906, 0.8819, 0.8906, 0.8819, 0.8819, 0.8906, 0.873, 0.8992, 0.873, 0.8819, 0.8992, 0.8992]\n",
      "\n",
      "Maximum F1-Score Score That can be obtained from this model is: 89.92 %\n",
      "\n",
      "Minimum F1-Score Score: 87.3 %\n",
      "\n",
      "Average F1-Score Score That can be obtained from this model is:: 0.8852333333333333\n",
      "\n",
      "Median F1-Score Score That can be obtained from this model is:: 0.8819\n",
      "\n",
      "Standard Deviation is: 0.00829410768089142\n"
     ]
    }
   ],
   "source": [
    "\n",
    "m1=Ml_Model(X,y,True)\n",
    "clf=LinearDiscriminantAnalysis()\n",
    "m1.pass_classifier(clf)\n",
    "m1.fit_method_and_score()\n",
    "m1.classification_report()\n",
    "m1.validation()"
   ]
  },
  {
   "cell_type": "markdown",
   "metadata": {},
   "source": [
    "## QDA"
   ]
  },
  {
   "cell_type": "code",
   "execution_count": 36,
   "metadata": {
    "ExecuteTime": {
     "end_time": "2021-05-20T14:04:01.525768Z",
     "start_time": "2021-05-20T14:04:01.125050Z"
    }
   },
   "outputs": [
    {
     "name": "stdout",
     "output_type": "stream",
     "text": [
      "QuadraticDiscriminantAnalysis()\n",
      "              precision    recall  f1-score   support\n",
      "\n",
      "           0       0.97      0.98      0.97       128\n",
      "           1       0.95      0.94      0.94        64\n",
      "\n",
      "    accuracy                           0.96       192\n",
      "   macro avg       0.96      0.96      0.96       192\n",
      "weighted avg       0.96      0.96      0.96       192\n",
      "\n",
      "\u001b[34m\n",
      "\n",
      "Accuracy \n",
      "\u001b[0m\n",
      "List of possible Accuracy Score:\n",
      " [0.9635, 0.9635, 0.9635, 0.9635, 0.9635, 0.9635, 0.9635, 0.9635, 0.974, 0.9688, 0.9635, 0.9635, 0.9635, 0.9635, 0.9635, 0.9635, 0.9635, 0.9635]\n",
      "\n",
      "Maximum Accuracy Score That can be obtained from this model is: 97.39999999999999 %\n",
      "\n",
      "Minimum Accuracy Score: 96.35000000000001 %\n",
      "\n",
      "Average Accuracy Score That can be obtained from this model is:: 0.9643777777777779\n",
      "\n",
      "Median Accuracy Score That can be obtained from this model is:: 0.9635\n",
      "\n",
      "Standard Deviation is: 0.002629650495483192\n",
      "\u001b[34m\n",
      "\n",
      "Recall \n",
      "\u001b[0m\n",
      "List of possible Recall Score:\n",
      " [0.9375, 0.9375, 0.9375, 0.9375, 0.9375, 0.9375, 0.9375, 0.9375, 0.9688, 0.9531, 0.9375, 0.9375, 0.9375, 0.9375, 0.9375, 0.9375, 0.9375, 0.9375]\n",
      "\n",
      "Maximum Recall Score That can be obtained from this model is: 96.88 %\n",
      "\n",
      "Minimum Recall Score: 93.75 %\n",
      "\n",
      "Average Recall Score That can be obtained from this model is:: 0.9401055555555556\n",
      "\n",
      "Median Recall Score That can be obtained from this model is:: 0.9375\n",
      "\n",
      "Standard Deviation is: 0.007820377386618609\n",
      "\u001b[34m\n",
      "\n",
      "Precision \n",
      "\u001b[0m\n",
      "List of possible Precision Score:\n",
      " [0.9524, 0.9524, 0.9524, 0.9524, 0.9524, 0.9524, 0.9524, 0.9524, 0.9538, 0.9531, 0.9524, 0.9524, 0.9524, 0.9524, 0.9524, 0.9524, 0.9524, 0.9524]\n",
      "\n",
      "Maximum Precision Score That can be obtained from this model is: 95.38 %\n",
      "\n",
      "Minimum Precision Score: 95.24000000000001 %\n",
      "\n",
      "Average Precision Score That can be obtained from this model is:: 0.9525166666666668\n",
      "\n",
      "Median Precision Score That can be obtained from this model is:: 0.9524\n",
      "\n",
      "Standard Deviation is: 0.0003499999999999841\n",
      "\u001b[34m\n",
      "\n",
      "F1-Score \n",
      "\u001b[0m\n",
      "List of possible F1-Score Score:\n",
      " [0.9449, 0.9449, 0.9449, 0.9449, 0.9449, 0.9449, 0.9449, 0.9449, 0.9612, 0.9531, 0.9449, 0.9449, 0.9449, 0.9449, 0.9449, 0.9449, 0.9449, 0.9449]\n",
      "\n",
      "Maximum F1-Score Score That can be obtained from this model is: 96.12 %\n",
      "\n",
      "Minimum F1-Score Score: 94.49 %\n",
      "\n",
      "Average F1-Score Score That can be obtained from this model is:: 0.9462611111111112\n",
      "\n",
      "Median F1-Score Score That can be obtained from this model is:: 0.9449\n",
      "\n",
      "Standard Deviation is: 0.0040796430792804815\n"
     ]
    }
   ],
   "source": [
    "from sklearn.discriminant_analysis import QuadraticDiscriminantAnalysis\n",
    "m1=Ml_Model(X,y)\n",
    "clf=QuadraticDiscriminantAnalysis()\n",
    "m1.pass_classifier(clf)\n",
    "m1.fit_method_and_score()\n",
    "m1.classification_report()\n",
    "m1.validation()"
   ]
  },
  {
   "cell_type": "markdown",
   "metadata": {},
   "source": [
    "## SVM"
   ]
  },
  {
   "cell_type": "code",
   "execution_count": 37,
   "metadata": {
    "ExecuteTime": {
     "end_time": "2021-05-20T14:04:20.164616Z",
     "start_time": "2021-05-20T14:04:18.936595Z"
    }
   },
   "outputs": [
    {
     "name": "stdout",
     "output_type": "stream",
     "text": [
      "SVC(C=5)\n",
      "              precision    recall  f1-score   support\n",
      "\n",
      "           0       0.91      0.97      0.94       130\n",
      "           1       0.93      0.81      0.86        62\n",
      "\n",
      "    accuracy                           0.92       192\n",
      "   macro avg       0.92      0.89      0.90       192\n",
      "weighted avg       0.92      0.92      0.92       192\n",
      "\n",
      "\u001b[34m\n",
      "\n",
      "Accuracy \n",
      "\u001b[0m\n",
      "List of possible Accuracy Score:\n",
      " [0.9167, 0.9115, 0.9167, 0.9167, 0.9167, 0.9167, 0.9167, 0.9167, 0.9167, 0.9115, 0.9167, 0.9115, 0.9167, 0.9115, 0.9167, 0.9167, 0.9167, 0.9167]\n",
      "\n",
      "Maximum Accuracy Score That can be obtained from this model is: 91.67 %\n",
      "\n",
      "Minimum Accuracy Score: 91.14999999999999 %\n",
      "\n",
      "Average Accuracy Score That can be obtained from this model is:: 0.9155444444444445\n",
      "\n",
      "Median Accuracy Score That can be obtained from this model is:: 0.9167\n",
      "\n",
      "Standard Deviation is: 0.0021618464901360475\n",
      "\u001b[34m\n",
      "\n",
      "Recall \n",
      "\u001b[0m\n",
      "List of possible Recall Score:\n",
      " [0.7903, 0.7903, 0.7903, 0.7903, 0.7903, 0.7903, 0.7903, 0.7903, 0.7903, 0.7903, 0.7903, 0.7903, 0.7903, 0.7903, 0.7903, 0.7903, 0.7903, 0.7903]\n",
      "\n",
      "Maximum Recall Score That can be obtained from this model is: 79.03 %\n",
      "\n",
      "Minimum Recall Score: 79.03 %\n",
      "\n",
      "Average Recall Score That can be obtained from this model is:: 0.7903\n",
      "\n",
      "Median Recall Score That can be obtained from this model is:: 0.7903\n",
      "\n",
      "Standard Deviation is: 0.0\n",
      "\u001b[34m\n",
      "\n",
      "Precision \n",
      "\u001b[0m\n",
      "List of possible Precision Score:\n",
      " [0.9423, 0.9245, 0.9423, 0.9423, 0.9423, 0.9423, 0.9423, 0.9423, 0.9423, 0.9245, 0.9423, 0.9245, 0.9423, 0.9245, 0.9423, 0.9423, 0.9423, 0.9423]\n",
      "\n",
      "Maximum Precision Score That can be obtained from this model is: 94.23 %\n",
      "\n",
      "Minimum Precision Score: 92.45 %\n",
      "\n",
      "Average Precision Score That can be obtained from this model is:: 0.9383444444444444\n",
      "\n",
      "Median Precision Score That can be obtained from this model is:: 0.9423\n",
      "\n",
      "Standard Deviation is: 0.007400166831619588\n",
      "\u001b[34m\n",
      "\n",
      "F1-Score \n",
      "\u001b[0m\n",
      "List of possible F1-Score Score:\n",
      " [0.8596, 0.8522, 0.8596, 0.8596, 0.8596, 0.8596, 0.8596, 0.8596, 0.8596, 0.8522, 0.8596, 0.8522, 0.8596, 0.8522, 0.8596, 0.8596, 0.8596, 0.8596]\n",
      "\n",
      "Maximum F1-Score Score That can be obtained from this model is: 85.96000000000001 %\n",
      "\n",
      "Minimum F1-Score Score: 85.22 %\n",
      "\n",
      "Average F1-Score Score That can be obtained from this model is:: 0.8579555555555556\n",
      "\n",
      "Median F1-Score Score That can be obtained from this model is:: 0.8596\n",
      "\n",
      "Standard Deviation is: 0.0030764738513474935\n"
     ]
    }
   ],
   "source": [
    "from sklearn.svm import SVC\n",
    "m1=Ml_Model(X,y)\n",
    "clf=SVC(C=5)\n",
    "m1.pass_classifier(clf)\n",
    "m1.fit_method_and_score()\n",
    "m1.classification_report()\n",
    "m1.validation()"
   ]
  },
  {
   "cell_type": "markdown",
   "metadata": {},
   "source": [
    "## Logistics Regression"
   ]
  },
  {
   "cell_type": "code",
   "execution_count": 38,
   "metadata": {
    "ExecuteTime": {
     "end_time": "2021-05-20T14:04:29.684840Z",
     "start_time": "2021-05-20T14:04:27.994440Z"
    },
    "collapsed": true
   },
   "outputs": [
    {
     "name": "stdout",
     "output_type": "stream",
     "text": [
      "LogisticRegression()\n",
      "              precision    recall  f1-score   support\n",
      "\n",
      "           0       0.95      0.99      0.97       131\n",
      "           1       0.98      0.89      0.93        61\n",
      "\n",
      "    accuracy                           0.96       192\n",
      "   macro avg       0.97      0.94      0.95       192\n",
      "weighted avg       0.96      0.96      0.96       192\n",
      "\n"
     ]
    },
    {
     "name": "stderr",
     "output_type": "stream",
     "text": [
      "C:\\Users\\nikhil\\anaconda3\\lib\\site-packages\\sklearn\\linear_model\\_logistic.py:763: ConvergenceWarning: lbfgs failed to converge (status=1):\n",
      "STOP: TOTAL NO. of ITERATIONS REACHED LIMIT.\n",
      "\n",
      "Increase the number of iterations (max_iter) or scale the data as shown in:\n",
      "    https://scikit-learn.org/stable/modules/preprocessing.html\n",
      "Please also refer to the documentation for alternative solver options:\n",
      "    https://scikit-learn.org/stable/modules/linear_model.html#logistic-regression\n",
      "  n_iter_i = _check_optimize_result(\n",
      "C:\\Users\\nikhil\\anaconda3\\lib\\site-packages\\sklearn\\linear_model\\_logistic.py:763: ConvergenceWarning: lbfgs failed to converge (status=1):\n",
      "STOP: TOTAL NO. of ITERATIONS REACHED LIMIT.\n",
      "\n",
      "Increase the number of iterations (max_iter) or scale the data as shown in:\n",
      "    https://scikit-learn.org/stable/modules/preprocessing.html\n",
      "Please also refer to the documentation for alternative solver options:\n",
      "    https://scikit-learn.org/stable/modules/linear_model.html#logistic-regression\n",
      "  n_iter_i = _check_optimize_result(\n",
      "C:\\Users\\nikhil\\anaconda3\\lib\\site-packages\\sklearn\\linear_model\\_logistic.py:763: ConvergenceWarning: lbfgs failed to converge (status=1):\n",
      "STOP: TOTAL NO. of ITERATIONS REACHED LIMIT.\n",
      "\n",
      "Increase the number of iterations (max_iter) or scale the data as shown in:\n",
      "    https://scikit-learn.org/stable/modules/preprocessing.html\n",
      "Please also refer to the documentation for alternative solver options:\n",
      "    https://scikit-learn.org/stable/modules/linear_model.html#logistic-regression\n",
      "  n_iter_i = _check_optimize_result(\n",
      "C:\\Users\\nikhil\\anaconda3\\lib\\site-packages\\sklearn\\linear_model\\_logistic.py:763: ConvergenceWarning: lbfgs failed to converge (status=1):\n",
      "STOP: TOTAL NO. of ITERATIONS REACHED LIMIT.\n",
      "\n",
      "Increase the number of iterations (max_iter) or scale the data as shown in:\n",
      "    https://scikit-learn.org/stable/modules/preprocessing.html\n",
      "Please also refer to the documentation for alternative solver options:\n",
      "    https://scikit-learn.org/stable/modules/linear_model.html#logistic-regression\n",
      "  n_iter_i = _check_optimize_result(\n",
      "C:\\Users\\nikhil\\anaconda3\\lib\\site-packages\\sklearn\\linear_model\\_logistic.py:763: ConvergenceWarning: lbfgs failed to converge (status=1):\n",
      "STOP: TOTAL NO. of ITERATIONS REACHED LIMIT.\n",
      "\n",
      "Increase the number of iterations (max_iter) or scale the data as shown in:\n",
      "    https://scikit-learn.org/stable/modules/preprocessing.html\n",
      "Please also refer to the documentation for alternative solver options:\n",
      "    https://scikit-learn.org/stable/modules/linear_model.html#logistic-regression\n",
      "  n_iter_i = _check_optimize_result(\n",
      "C:\\Users\\nikhil\\anaconda3\\lib\\site-packages\\sklearn\\linear_model\\_logistic.py:763: ConvergenceWarning: lbfgs failed to converge (status=1):\n",
      "STOP: TOTAL NO. of ITERATIONS REACHED LIMIT.\n",
      "\n",
      "Increase the number of iterations (max_iter) or scale the data as shown in:\n",
      "    https://scikit-learn.org/stable/modules/preprocessing.html\n",
      "Please also refer to the documentation for alternative solver options:\n",
      "    https://scikit-learn.org/stable/modules/linear_model.html#logistic-regression\n",
      "  n_iter_i = _check_optimize_result(\n",
      "C:\\Users\\nikhil\\anaconda3\\lib\\site-packages\\sklearn\\linear_model\\_logistic.py:763: ConvergenceWarning: lbfgs failed to converge (status=1):\n",
      "STOP: TOTAL NO. of ITERATIONS REACHED LIMIT.\n",
      "\n",
      "Increase the number of iterations (max_iter) or scale the data as shown in:\n",
      "    https://scikit-learn.org/stable/modules/preprocessing.html\n",
      "Please also refer to the documentation for alternative solver options:\n",
      "    https://scikit-learn.org/stable/modules/linear_model.html#logistic-regression\n",
      "  n_iter_i = _check_optimize_result(\n",
      "C:\\Users\\nikhil\\anaconda3\\lib\\site-packages\\sklearn\\linear_model\\_logistic.py:763: ConvergenceWarning: lbfgs failed to converge (status=1):\n",
      "STOP: TOTAL NO. of ITERATIONS REACHED LIMIT.\n",
      "\n",
      "Increase the number of iterations (max_iter) or scale the data as shown in:\n",
      "    https://scikit-learn.org/stable/modules/preprocessing.html\n",
      "Please also refer to the documentation for alternative solver options:\n",
      "    https://scikit-learn.org/stable/modules/linear_model.html#logistic-regression\n",
      "  n_iter_i = _check_optimize_result(\n",
      "C:\\Users\\nikhil\\anaconda3\\lib\\site-packages\\sklearn\\linear_model\\_logistic.py:763: ConvergenceWarning: lbfgs failed to converge (status=1):\n",
      "STOP: TOTAL NO. of ITERATIONS REACHED LIMIT.\n",
      "\n",
      "Increase the number of iterations (max_iter) or scale the data as shown in:\n",
      "    https://scikit-learn.org/stable/modules/preprocessing.html\n",
      "Please also refer to the documentation for alternative solver options:\n",
      "    https://scikit-learn.org/stable/modules/linear_model.html#logistic-regression\n",
      "  n_iter_i = _check_optimize_result(\n",
      "C:\\Users\\nikhil\\anaconda3\\lib\\site-packages\\sklearn\\linear_model\\_logistic.py:763: ConvergenceWarning: lbfgs failed to converge (status=1):\n",
      "STOP: TOTAL NO. of ITERATIONS REACHED LIMIT.\n",
      "\n",
      "Increase the number of iterations (max_iter) or scale the data as shown in:\n",
      "    https://scikit-learn.org/stable/modules/preprocessing.html\n",
      "Please also refer to the documentation for alternative solver options:\n",
      "    https://scikit-learn.org/stable/modules/linear_model.html#logistic-regression\n",
      "  n_iter_i = _check_optimize_result(\n",
      "C:\\Users\\nikhil\\anaconda3\\lib\\site-packages\\sklearn\\linear_model\\_logistic.py:763: ConvergenceWarning: lbfgs failed to converge (status=1):\n",
      "STOP: TOTAL NO. of ITERATIONS REACHED LIMIT.\n",
      "\n",
      "Increase the number of iterations (max_iter) or scale the data as shown in:\n",
      "    https://scikit-learn.org/stable/modules/preprocessing.html\n",
      "Please also refer to the documentation for alternative solver options:\n",
      "    https://scikit-learn.org/stable/modules/linear_model.html#logistic-regression\n",
      "  n_iter_i = _check_optimize_result(\n",
      "C:\\Users\\nikhil\\anaconda3\\lib\\site-packages\\sklearn\\linear_model\\_logistic.py:763: ConvergenceWarning: lbfgs failed to converge (status=1):\n",
      "STOP: TOTAL NO. of ITERATIONS REACHED LIMIT.\n",
      "\n",
      "Increase the number of iterations (max_iter) or scale the data as shown in:\n",
      "    https://scikit-learn.org/stable/modules/preprocessing.html\n",
      "Please also refer to the documentation for alternative solver options:\n",
      "    https://scikit-learn.org/stable/modules/linear_model.html#logistic-regression\n",
      "  n_iter_i = _check_optimize_result(\n",
      "C:\\Users\\nikhil\\anaconda3\\lib\\site-packages\\sklearn\\linear_model\\_logistic.py:763: ConvergenceWarning: lbfgs failed to converge (status=1):\n",
      "STOP: TOTAL NO. of ITERATIONS REACHED LIMIT.\n",
      "\n",
      "Increase the number of iterations (max_iter) or scale the data as shown in:\n",
      "    https://scikit-learn.org/stable/modules/preprocessing.html\n",
      "Please also refer to the documentation for alternative solver options:\n",
      "    https://scikit-learn.org/stable/modules/linear_model.html#logistic-regression\n",
      "  n_iter_i = _check_optimize_result(\n",
      "C:\\Users\\nikhil\\anaconda3\\lib\\site-packages\\sklearn\\linear_model\\_logistic.py:763: ConvergenceWarning: lbfgs failed to converge (status=1):\n",
      "STOP: TOTAL NO. of ITERATIONS REACHED LIMIT.\n",
      "\n",
      "Increase the number of iterations (max_iter) or scale the data as shown in:\n",
      "    https://scikit-learn.org/stable/modules/preprocessing.html\n",
      "Please also refer to the documentation for alternative solver options:\n",
      "    https://scikit-learn.org/stable/modules/linear_model.html#logistic-regression\n",
      "  n_iter_i = _check_optimize_result(\n",
      "C:\\Users\\nikhil\\anaconda3\\lib\\site-packages\\sklearn\\linear_model\\_logistic.py:763: ConvergenceWarning: lbfgs failed to converge (status=1):\n",
      "STOP: TOTAL NO. of ITERATIONS REACHED LIMIT.\n",
      "\n",
      "Increase the number of iterations (max_iter) or scale the data as shown in:\n",
      "    https://scikit-learn.org/stable/modules/preprocessing.html\n",
      "Please also refer to the documentation for alternative solver options:\n",
      "    https://scikit-learn.org/stable/modules/linear_model.html#logistic-regression\n",
      "  n_iter_i = _check_optimize_result(\n",
      "C:\\Users\\nikhil\\anaconda3\\lib\\site-packages\\sklearn\\linear_model\\_logistic.py:763: ConvergenceWarning: lbfgs failed to converge (status=1):\n",
      "STOP: TOTAL NO. of ITERATIONS REACHED LIMIT.\n",
      "\n",
      "Increase the number of iterations (max_iter) or scale the data as shown in:\n",
      "    https://scikit-learn.org/stable/modules/preprocessing.html\n",
      "Please also refer to the documentation for alternative solver options:\n",
      "    https://scikit-learn.org/stable/modules/linear_model.html#logistic-regression\n",
      "  n_iter_i = _check_optimize_result(\n",
      "C:\\Users\\nikhil\\anaconda3\\lib\\site-packages\\sklearn\\linear_model\\_logistic.py:763: ConvergenceWarning: lbfgs failed to converge (status=1):\n",
      "STOP: TOTAL NO. of ITERATIONS REACHED LIMIT.\n",
      "\n",
      "Increase the number of iterations (max_iter) or scale the data as shown in:\n",
      "    https://scikit-learn.org/stable/modules/preprocessing.html\n",
      "Please also refer to the documentation for alternative solver options:\n",
      "    https://scikit-learn.org/stable/modules/linear_model.html#logistic-regression\n",
      "  n_iter_i = _check_optimize_result(\n"
     ]
    },
    {
     "name": "stdout",
     "output_type": "stream",
     "text": [
      "\u001b[34m\n",
      "\n",
      "Accuracy \n",
      "\u001b[0m\n",
      "List of possible Accuracy Score:\n",
      " [0.9635, 0.9531, 0.9323, 0.9635, 0.9688, 0.9375, 0.9115, 0.9688, 0.849, 0.9583, 0.9271, 0.9531, 0.9583, 0.9635, 0.8802, 0.9375, 0.9688, 0.901]\n",
      "\n",
      "Maximum Accuracy Score That can be obtained from this model is: 96.88 %\n",
      "\n",
      "Minimum Accuracy Score: 84.89999999999999 %\n",
      "\n",
      "Average Accuracy Score That can be obtained from this model is:: 0.9386555555555556\n",
      "\n",
      "Median Accuracy Score That can be obtained from this model is:: 0.9531\n",
      "\n",
      "Standard Deviation is: 0.03295959179598596\n",
      "\u001b[34m\n",
      "\n",
      "Recall \n",
      "\u001b[0m\n",
      "List of possible Recall Score:\n",
      " [0.9016, 0.918, 0.8689, 0.918, 0.918, 0.8852, 0.8361, 0.918, 0.7869, 0.918, 0.8033, 0.9016, 0.918, 0.918, 0.7377, 0.8852, 0.918, 0.7213]\n",
      "\n",
      "Maximum Recall Score That can be obtained from this model is: 91.8 %\n",
      "\n",
      "Minimum Recall Score: 72.13000000000001 %\n",
      "\n",
      "Average Recall Score That can be obtained from this model is:: 0.8706555555555554\n",
      "\n",
      "Median Recall Score That can be obtained from this model is:: 0.9016\n",
      "\n",
      "Standard Deviation is: 0.0636847114238245\n",
      "\u001b[34m\n",
      "\n",
      "Precision \n",
      "\u001b[0m\n",
      "List of possible Precision Score:\n",
      " [0.9821, 0.9333, 0.9138, 0.9655, 0.9825, 0.9153, 0.8793, 0.9825, 0.75, 0.9492, 0.9608, 0.9483, 0.9492, 0.9655, 0.8654, 0.9153, 0.9825, 0.9565]\n",
      "\n",
      "Maximum Precision Score That can be obtained from this model is: 98.25 %\n",
      "\n",
      "Minimum Precision Score: 75.0 %\n",
      "\n",
      "Average Precision Score That can be obtained from this model is:: 0.9331666666666667\n",
      "\n",
      "Median Precision Score That can be obtained from this model is:: 0.9492\n",
      "\n",
      "Standard Deviation is: 0.0557252087379571\n",
      "\u001b[34m\n",
      "\n",
      "F1-Score \n",
      "\u001b[0m\n",
      "List of possible F1-Score Score:\n",
      " [0.9402, 0.9256, 0.8908, 0.9412, 0.9492, 0.9, 0.8571, 0.9492, 0.768, 0.9333, 0.875, 0.9244, 0.9333, 0.9412, 0.7965, 0.9, 0.9492, 0.8224]\n",
      "\n",
      "Maximum F1-Score Score That can be obtained from this model is: 94.92 %\n",
      "\n",
      "Minimum F1-Score Score: 76.8 %\n",
      "\n",
      "Average F1-Score Score That can be obtained from this model is:: 0.8998111111111111\n",
      "\n",
      "Median F1-Score Score That can be obtained from this model is:: 0.925\n",
      "\n",
      "Standard Deviation is: 0.053979809897249646\n"
     ]
    },
    {
     "name": "stderr",
     "output_type": "stream",
     "text": [
      "C:\\Users\\nikhil\\anaconda3\\lib\\site-packages\\sklearn\\linear_model\\_logistic.py:763: ConvergenceWarning: lbfgs failed to converge (status=1):\n",
      "STOP: TOTAL NO. of ITERATIONS REACHED LIMIT.\n",
      "\n",
      "Increase the number of iterations (max_iter) or scale the data as shown in:\n",
      "    https://scikit-learn.org/stable/modules/preprocessing.html\n",
      "Please also refer to the documentation for alternative solver options:\n",
      "    https://scikit-learn.org/stable/modules/linear_model.html#logistic-regression\n",
      "  n_iter_i = _check_optimize_result(\n",
      "C:\\Users\\nikhil\\anaconda3\\lib\\site-packages\\sklearn\\linear_model\\_logistic.py:763: ConvergenceWarning: lbfgs failed to converge (status=1):\n",
      "STOP: TOTAL NO. of ITERATIONS REACHED LIMIT.\n",
      "\n",
      "Increase the number of iterations (max_iter) or scale the data as shown in:\n",
      "    https://scikit-learn.org/stable/modules/preprocessing.html\n",
      "Please also refer to the documentation for alternative solver options:\n",
      "    https://scikit-learn.org/stable/modules/linear_model.html#logistic-regression\n",
      "  n_iter_i = _check_optimize_result(\n"
     ]
    }
   ],
   "source": [
    "from sklearn.linear_model import LogisticRegression\n",
    "\n",
    "m1=Ml_Model(X,y,True)\n",
    "clf=LogisticRegression(max_iter=100)\n",
    "m1.pass_classifier(clf)\n",
    "m1.fit_method_and_score()\n",
    "m1.classification_report()\n",
    "m1.validation()"
   ]
  },
  {
   "cell_type": "markdown",
   "metadata": {},
   "source": [
    "## MLP Classifier"
   ]
  },
  {
   "cell_type": "code",
   "execution_count": null,
   "metadata": {},
   "outputs": [],
   "source": []
  },
  {
   "cell_type": "code",
   "execution_count": 39,
   "metadata": {
    "ExecuteTime": {
     "end_time": "2021-05-20T14:05:02.362875Z",
     "start_time": "2021-05-20T14:04:54.420482Z"
    }
   },
   "outputs": [
    {
     "name": "stdout",
     "output_type": "stream",
     "text": [
      "MLPClassifier()\n",
      "              precision    recall  f1-score   support\n",
      "\n",
      "           0       0.74      0.97      0.84       117\n",
      "           1       0.90      0.47      0.61        75\n",
      "\n",
      "    accuracy                           0.77       192\n",
      "   macro avg       0.82      0.72      0.73       192\n",
      "weighted avg       0.80      0.77      0.75       192\n",
      "\n",
      "\u001b[34m\n",
      "\n",
      "Accuracy \n",
      "\u001b[0m\n",
      "List of possible Accuracy Score:\n",
      " [0.6354, 0.7656, 0.7031, 0.6354, 0.8802, 0.8125, 0.8854, 0.7969, 0.8594, 0.8698, 0.6667, 0.849, 0.8385, 0.6823, 0.8385, 0.849, 0.8333, 0.9062]\n",
      "\n",
      "Maximum Accuracy Score That can be obtained from this model is: 90.62 %\n",
      "\n",
      "Minimum Accuracy Score: 63.54 %\n",
      "\n",
      "Average Accuracy Score That can be obtained from this model is:: 0.7948444444444445\n",
      "\n",
      "Median Accuracy Score That can be obtained from this model is:: 0.8359000000000001\n",
      "\n",
      "Standard Deviation is: 0.08766993797586126\n",
      "\u001b[34m\n",
      "\n",
      "Recall \n",
      "\u001b[0m\n",
      "List of possible Recall Score:\n",
      " [1.0, 0.4267, 0.24, 0.96, 0.84, 0.5333, 0.7867, 0.5067, 0.8933, 0.7467, 0.9867, 0.6533, 0.6533, 0.1867, 0.6533, 0.64, 0.5867, 0.76]\n",
      "\n",
      "Maximum Recall Score That can be obtained from this model is: 100.0 %\n",
      "\n",
      "Minimum Recall Score: 18.67 %\n",
      "\n",
      "Average Recall Score That can be obtained from this model is:: 0.6696333333333334\n",
      "\n",
      "Median Recall Score That can be obtained from this model is:: 0.6533\n",
      "\n",
      "Standard Deviation is: 0.22746968784629062\n",
      "\u001b[34m\n",
      "\n",
      "Precision \n",
      "\u001b[0m\n",
      "List of possible Precision Score:\n",
      " [0.5172, 0.9412, 1.0, 0.518, 0.8514, 0.9756, 0.9077, 0.95, 0.7791, 0.9032, 0.5401, 0.9423, 0.9074, 1.0, 0.9074, 0.96, 0.9778, 1.0]\n",
      "\n",
      "Maximum Precision Score That can be obtained from this model is: 100.0 %\n",
      "\n",
      "Minimum Precision Score: 51.72 %\n",
      "\n",
      "Average Precision Score That can be obtained from this model is:: 0.8654666666666667\n",
      "\n",
      "Median Precision Score That can be obtained from this model is:: 0.92445\n",
      "\n",
      "Standard Deviation is: 0.16142330136080796\n",
      "\u001b[34m\n",
      "\n",
      "F1-Score \n",
      "\u001b[0m\n",
      "List of possible F1-Score Score:\n",
      " [0.6818, 0.5872, 0.3871, 0.6729, 0.8456, 0.6897, 0.8429, 0.6609, 0.8323, 0.8175, 0.6981, 0.7717, 0.7597, 0.3146, 0.7597, 0.768, 0.7333, 0.8636]\n",
      "\n",
      "Maximum F1-Score Score That can be obtained from this model is: 86.36 %\n",
      "\n",
      "Minimum F1-Score Score: 31.46 %\n",
      "\n",
      "Average F1-Score Score That can be obtained from this model is:: 0.7048111111111112\n",
      "\n",
      "Median F1-Score Score That can be obtained from this model is:: 0.7464999999999999\n",
      "\n",
      "Standard Deviation is: 0.14513349367962697\n"
     ]
    }
   ],
   "source": [
    "from sklearn.neural_network import MLPClassifier\n",
    "\n",
    "m1=Ml_Model(X,y)\n",
    "clf=MLPClassifier()\n",
    "m1.pass_classifier(clf)\n",
    "m1.fit_method_and_score()\n",
    "m1.classification_report()\n",
    "m1.validation()"
   ]
  },
  {
   "cell_type": "markdown",
   "metadata": {},
   "source": [
    "<h2> <a href=\"https://scikit-learn.org/stable/modules/generated/sklearn.neighbors.KNeighborsClassifier.html\">KNN Algorithms</a> </h2>"
   ]
  },
  {
   "cell_type": "code",
   "execution_count": null,
   "metadata": {},
   "outputs": [],
   "source": []
  },
  {
   "cell_type": "code",
   "execution_count": 59,
   "metadata": {
    "ExecuteTime": {
     "end_time": "2021-05-20T14:30:35.397231Z",
     "start_time": "2021-05-20T14:30:34.556590Z"
    }
   },
   "outputs": [
    {
     "name": "stdout",
     "output_type": "stream",
     "text": [
      "KNeighborsClassifier(n_jobs=-1, p=1.5)\n",
      "              precision    recall  f1-score   support\n",
      "\n",
      "           0       0.93      0.97      0.95       131\n",
      "           1       0.93      0.84      0.88        61\n",
      "\n",
      "    accuracy                           0.93       192\n",
      "   macro avg       0.93      0.90      0.91       192\n",
      "weighted avg       0.93      0.93      0.93       192\n",
      "\n",
      "\u001b[34m\n",
      "\n",
      "Accuracy \n",
      "\u001b[0m\n",
      "List of possible Accuracy Score:\n",
      " [0.9531, 0.9531, 0.9531, 0.9531, 0.9479, 0.9479, 0.9531, 0.9479, 0.9583, 0.9479, 0.9479, 0.9427, 0.9531, 0.9531, 0.9583, 0.9531, 0.9583, 0.9427]\n",
      "\n",
      "Maximum Accuracy Score That can be obtained from this model is: 95.83 %\n",
      "\n",
      "Minimum Accuracy Score: 94.27 %\n",
      "\n",
      "Average Accuracy Score That can be obtained from this model is:: 0.9513666666666665\n",
      "\n",
      "Median Accuracy Score That can be obtained from this model is:: 0.9531\n",
      "\n",
      "Standard Deviation is: 0.004585968939178636\n",
      "\u001b[34m\n",
      "\n",
      "Recall \n",
      "\u001b[0m\n",
      "List of possible Recall Score:\n",
      " [0.8852, 0.8689, 0.8852, 0.8852, 0.8689, 0.8361, 0.8852, 0.8525, 0.8852, 0.8689, 0.8689, 0.8689, 0.8689, 0.8852, 0.9016, 0.8852, 0.9016, 0.8689]\n",
      "\n",
      "Maximum Recall Score That can be obtained from this model is: 90.16 %\n",
      "\n",
      "Minimum Recall Score: 83.61 %\n",
      "\n",
      "Average Recall Score That can be obtained from this model is:: 0.8761388888888889\n",
      "\n",
      "Median Recall Score That can be obtained from this model is:: 0.87705\n",
      "\n",
      "Standard Deviation is: 0.015634688601130525\n",
      "\u001b[34m\n",
      "\n",
      "Precision \n",
      "\u001b[0m\n",
      "List of possible Precision Score:\n",
      " [0.9643, 0.9815, 0.9643, 0.9643, 0.9636, 1.0, 0.9643, 0.9811, 0.9818, 0.9636, 0.9636, 0.9464, 0.9815, 0.9643, 0.9649, 0.9643, 0.9649, 0.9464]\n",
      "\n",
      "Maximum Precision Score That can be obtained from this model is: 100.0 %\n",
      "\n",
      "Minimum Precision Score: 94.64 %\n",
      "\n",
      "Average Precision Score That can be obtained from this model is:: 0.9680611111111111\n",
      "\n",
      "Median Precision Score That can be obtained from this model is:: 0.9643\n",
      "\n",
      "Standard Deviation is: 0.01256768956442091\n",
      "\u001b[34m\n",
      "\n",
      "F1-Score \n",
      "\u001b[0m\n",
      "List of possible F1-Score Score:\n",
      " [0.9231, 0.9217, 0.9231, 0.9231, 0.9138, 0.9107, 0.9231, 0.9123, 0.931, 0.9138, 0.9138, 0.906, 0.9217, 0.9231, 0.9322, 0.9231, 0.9322, 0.906]\n",
      "\n",
      "Maximum F1-Score Score That can be obtained from this model is: 93.22 %\n",
      "\n",
      "Minimum F1-Score Score: 90.60000000000001 %\n",
      "\n",
      "Average F1-Score Score That can be obtained from this model is:: 0.9196555555555554\n",
      "\n",
      "Median F1-Score Score That can be obtained from this model is:: 0.9224\n",
      "\n",
      "Standard Deviation is: 0.007934049142932593\n"
     ]
    }
   ],
   "source": [
    "from sklearn.neighbors import KNeighborsClassifier\n",
    "m1=Ml_Model(X,y,)\n",
    "clf=KNeighborsClassifier(p=1.5,n_jobs=-1,n_neighbors=5) \n",
    "\n",
    "m1.pass_classifier(clf)\n",
    "m1.fit_method_and_score()\n",
    "m1.classification_report()\n",
    "m1.validation()"
   ]
  },
  {
   "cell_type": "markdown",
   "metadata": {},
   "source": [
    "## Decision Tree "
   ]
  },
  {
   "cell_type": "code",
   "execution_count": 56,
   "metadata": {
    "ExecuteTime": {
     "end_time": "2021-05-20T14:29:37.003333Z",
     "start_time": "2021-05-20T14:29:36.619664Z"
    }
   },
   "outputs": [
    {
     "name": "stdout",
     "output_type": "stream",
     "text": [
      "DecisionTreeClassifier(max_leaf_nodes=10)\n",
      "              precision    recall  f1-score   support\n",
      "\n",
      "           0       0.99      0.99      0.99       119\n",
      "           1       0.99      0.99      0.99        73\n",
      "\n",
      "    accuracy                           0.99       192\n",
      "   macro avg       0.99      0.99      0.99       192\n",
      "weighted avg       0.99      0.99      0.99       192\n",
      "\n",
      "\u001b[34m\n",
      "\n",
      "Accuracy \n",
      "\u001b[0m\n",
      "List of possible Accuracy Score:\n",
      " [1.0, 0.9948, 1.0, 1.0, 1.0, 0.9948, 1.0, 1.0, 1.0, 1.0, 1.0, 1.0, 1.0, 1.0, 1.0, 0.9896, 1.0, 1.0]\n",
      "\n",
      "Maximum Accuracy Score That can be obtained from this model is: 100.0 %\n",
      "\n",
      "Minimum Accuracy Score: 98.96000000000001 %\n",
      "\n",
      "Average Accuracy Score That can be obtained from this model is:: 0.9988444444444444\n",
      "\n",
      "Median Accuracy Score That can be obtained from this model is:: 1.0\n",
      "\n",
      "Standard Deviation is: 0.0027709248801362284\n",
      "\u001b[34m\n",
      "\n",
      "Recall \n",
      "\u001b[0m\n",
      "List of possible Recall Score:\n",
      " [1.0, 1.0, 1.0, 1.0, 1.0, 0.9863, 1.0, 1.0, 1.0, 1.0, 1.0, 1.0, 1.0, 1.0, 1.0, 0.9863, 1.0, 1.0]\n",
      "\n",
      "Maximum Recall Score That can be obtained from this model is: 100.0 %\n",
      "\n",
      "Minimum Recall Score: 98.63 %\n",
      "\n",
      "Average Recall Score That can be obtained from this model is:: 0.9984777777777778\n",
      "\n",
      "Median Recall Score That can be obtained from this model is:: 1.0\n",
      "\n",
      "Standard Deviation is: 0.00430549462322477\n",
      "\u001b[34m\n",
      "\n",
      "Precision \n",
      "\u001b[0m\n",
      "List of possible Precision Score:\n",
      " [1.0, 0.9865, 1.0, 1.0, 1.0, 1.0, 1.0, 1.0, 1.0, 1.0, 1.0, 1.0, 1.0, 1.0, 1.0, 0.9863, 1.0, 1.0]\n",
      "\n",
      "Maximum Precision Score That can be obtained from this model is: 100.0 %\n",
      "\n",
      "Minimum Precision Score: 98.63 %\n",
      "\n",
      "Average Precision Score That can be obtained from this model is:: 0.9984888888888889\n",
      "\n",
      "Median Precision Score That can be obtained from this model is:: 1.0\n",
      "\n",
      "Standard Deviation is: 0.004274197636059751\n",
      "\u001b[34m\n",
      "\n",
      "F1-Score \n",
      "\u001b[0m\n",
      "List of possible F1-Score Score:\n",
      " [1.0, 0.9932, 1.0, 1.0, 1.0, 0.9931, 1.0, 1.0, 1.0, 1.0, 1.0, 1.0, 1.0, 1.0, 1.0, 0.9863, 1.0, 1.0]\n",
      "\n",
      "Maximum F1-Score Score That can be obtained from this model is: 100.0 %\n",
      "\n",
      "Minimum F1-Score Score: 98.63 %\n",
      "\n",
      "Average F1-Score Score That can be obtained from this model is:: 0.9984777777777778\n",
      "\n",
      "Median F1-Score Score That can be obtained from this model is:: 1.0\n",
      "\n",
      "Standard Deviation is: 0.003650198709287488\n"
     ]
    }
   ],
   "source": [
    "from sklearn.tree import DecisionTreeClassifier\n",
    "m1=Ml_Model(X,y)\n",
    "clf=DecisionTreeClassifier(max_leaf_nodes=10)\n",
    "m1.pass_classifier(clf)\n",
    "m1.fit_method_and_score()\n",
    "m1.classification_report()\n",
    "m1.validation()"
   ]
  },
  {
   "cell_type": "markdown",
   "metadata": {},
   "source": [
    "## Random Forest"
   ]
  },
  {
   "cell_type": "code",
   "execution_count": 42,
   "metadata": {
    "ExecuteTime": {
     "end_time": "2021-05-20T14:06:10.092506Z",
     "start_time": "2021-05-20T14:06:05.469980Z"
    }
   },
   "outputs": [
    {
     "name": "stdout",
     "output_type": "stream",
     "text": [
      "RandomForestClassifier(max_leaf_nodes=30, n_estimators=50)\n",
      "              precision    recall  f1-score   support\n",
      "\n",
      "           0       0.98      1.00      0.99       130\n",
      "           1       1.00      0.97      0.98        62\n",
      "\n",
      "    accuracy                           0.99       192\n",
      "   macro avg       0.99      0.98      0.99       192\n",
      "weighted avg       0.99      0.99      0.99       192\n",
      "\n",
      "\u001b[34m\n",
      "\n",
      "Accuracy \n",
      "\u001b[0m\n",
      "List of possible Accuracy Score:\n",
      " [1.0, 0.9948, 1.0, 1.0, 1.0, 0.9948, 1.0, 1.0, 1.0, 1.0, 1.0, 1.0, 1.0, 1.0, 1.0, 1.0, 1.0, 1.0]\n",
      "\n",
      "Maximum Accuracy Score That can be obtained from this model is: 100.0 %\n",
      "\n",
      "Minimum Accuracy Score: 99.48 %\n",
      "\n",
      "Average Accuracy Score That can be obtained from this model is:: 0.9994222222222222\n",
      "\n",
      "Median Accuracy Score That can be obtained from this model is:: 1.0\n",
      "\n",
      "Standard Deviation is: 0.0016342023387422376\n",
      "\u001b[34m\n",
      "\n",
      "Recall \n",
      "\u001b[0m\n",
      "List of possible Recall Score:\n",
      " [1.0, 0.9839, 1.0, 1.0, 1.0, 0.9839, 1.0, 1.0, 1.0, 1.0, 1.0, 1.0, 1.0, 1.0, 1.0, 1.0, 1.0, 1.0]\n",
      "\n",
      "Maximum Recall Score That can be obtained from this model is: 100.0 %\n",
      "\n",
      "Minimum Recall Score: 98.39 %\n",
      "\n",
      "Average Recall Score That can be obtained from this model is:: 0.9982111111111112\n",
      "\n",
      "Median Recall Score That can be obtained from this model is:: 1.0\n",
      "\n",
      "Standard Deviation is: 0.005059741856490408\n",
      "\u001b[34m\n",
      "\n",
      "Precision \n",
      "\u001b[0m\n",
      "List of possible Precision Score:\n",
      " [1.0, 1.0, 1.0, 1.0, 1.0, 1.0, 1.0, 1.0, 1.0, 1.0, 1.0, 1.0, 1.0, 1.0, 1.0, 1.0, 1.0, 1.0]\n",
      "\n",
      "Maximum Precision Score That can be obtained from this model is: 100.0 %\n",
      "\n",
      "Minimum Precision Score: 100.0 %\n",
      "\n",
      "Average Precision Score That can be obtained from this model is:: 1.0\n",
      "\n",
      "Median Precision Score That can be obtained from this model is:: 1.0\n",
      "\n",
      "Standard Deviation is: 0.0\n",
      "\u001b[34m\n",
      "\n",
      "F1-Score \n",
      "\u001b[0m\n",
      "List of possible F1-Score Score:\n",
      " [1.0, 0.9919, 1.0, 1.0, 1.0, 0.9919, 1.0, 1.0, 1.0, 1.0, 1.0, 1.0, 1.0, 1.0, 1.0, 1.0, 1.0, 1.0]\n",
      "\n",
      "Maximum F1-Score Score That can be obtained from this model is: 100.0 %\n",
      "\n",
      "Minimum F1-Score Score: 99.19 %\n",
      "\n",
      "Average F1-Score Score That can be obtained from this model is:: 0.9991000000000001\n",
      "\n",
      "Median F1-Score Score That can be obtained from this model is:: 1.0\n",
      "\n",
      "Standard Deviation is: 0.0025455844122715702\n"
     ]
    }
   ],
   "source": [
    "from sklearn.ensemble import RandomForestClassifier\n",
    "m1=Ml_Model(X,y)\n",
    "clf=RandomForestClassifier(n_estimators=50,max_leaf_nodes=30)\n",
    "m1.pass_classifier(clf)\n",
    "m1.fit_method_and_score()\n",
    "m1.classification_report()\n",
    "m1.validation()\n"
   ]
  },
  {
   "cell_type": "code",
   "execution_count": null,
   "metadata": {},
   "outputs": [],
   "source": []
  }
 ],
 "metadata": {
  "kernelspec": {
   "display_name": "Python 3",
   "language": "python",
   "name": "python3"
  },
  "language_info": {
   "codemirror_mode": {
    "name": "ipython",
    "version": 3
   },
   "file_extension": ".py",
   "mimetype": "text/x-python",
   "name": "python",
   "nbconvert_exporter": "python",
   "pygments_lexer": "ipython3",
   "version": "3.8.5"
  },
  "toc": {
   "base_numbering": 1,
   "nav_menu": {},
   "number_sections": true,
   "sideBar": true,
   "skip_h1_title": false,
   "title_cell": "Table of Contents",
   "title_sidebar": "Contents",
   "toc_cell": false,
   "toc_position": {},
   "toc_section_display": true,
   "toc_window_display": true
  }
 },
 "nbformat": 4,
 "nbformat_minor": 4
}
