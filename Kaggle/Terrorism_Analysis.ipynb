{
 "cells": [
  {
   "cell_type": "code",
   "execution_count": 1,
   "metadata": {
    "ExecuteTime": {
     "end_time": "2020-10-21T17:57:55.577079Z",
     "start_time": "2020-10-21T17:57:20.460621Z"
    }
   },
   "outputs": [],
   "source": [
    "import pandas as pd \n",
    "import numpy as np\n",
    "import matplotlib.pyplot as plt\n",
    "import seaborn as sns\n",
    "import gmplot \n",
    "import gmaps\n",
    "import random"
   ]
  },
  {
   "cell_type": "code",
   "execution_count": null,
   "metadata": {
    "ExecuteTime": {
     "end_time": "2020-08-05T03:52:05.510390Z",
     "start_time": "2020-08-05T03:52:03.530451Z"
    }
   },
   "outputs": [],
   "source": []
  },
  {
   "cell_type": "code",
   "execution_count": 2,
   "metadata": {
    "ExecuteTime": {
     "end_time": "2020-08-05T05:07:31.405173Z",
     "start_time": "2020-08-05T05:07:29.235176Z"
    }
   },
   "outputs": [],
   "source": [
    "df=pd.read_csv(\"../data/terrorismData.csv\")"
   ]
  },
  {
   "cell_type": "code",
   "execution_count": 3,
   "metadata": {
    "ExecuteTime": {
     "end_time": "2020-08-05T05:07:33.425422Z",
     "start_time": "2020-08-05T05:07:33.170338Z"
    }
   },
   "outputs": [],
   "source": [
    "df.head()\n",
    "df.dropna(inplace=True)"
   ]
  },
  {
   "cell_type": "code",
   "execution_count": 4,
   "metadata": {
    "ExecuteTime": {
     "end_time": "2020-08-05T05:07:35.705306Z",
     "start_time": "2020-08-05T05:07:35.545260Z"
    }
   },
   "outputs": [
    {
     "name": "stdout",
     "output_type": "stream",
     "text": [
      "<class 'pandas.core.frame.DataFrame'>\n",
      "Int64Index: 105572 entries, 5 to 181690\n",
      "Data columns (total 17 columns):\n",
      " #   Column       Non-Null Count   Dtype  \n",
      "---  ------       --------------   -----  \n",
      " 0   Year         105572 non-null  int64  \n",
      " 1   Month        105572 non-null  int64  \n",
      " 2   Day          105572 non-null  int64  \n",
      " 3   Country      105572 non-null  object \n",
      " 4   State        105572 non-null  object \n",
      " 5   Region       105572 non-null  object \n",
      " 6   City         105572 non-null  object \n",
      " 7   Latitude     105572 non-null  float64\n",
      " 8   Longitude    105572 non-null  float64\n",
      " 9   AttackType   105572 non-null  object \n",
      " 10  Killed       105572 non-null  float64\n",
      " 11  Wounded      105572 non-null  float64\n",
      " 12  Target       105572 non-null  object \n",
      " 13  Summary      105572 non-null  object \n",
      " 14  Group        105572 non-null  object \n",
      " 15  Target_type  105572 non-null  object \n",
      " 16  Weapon_type  105572 non-null  object \n",
      "dtypes: float64(4), int64(3), object(10)\n",
      "memory usage: 14.5+ MB\n"
     ]
    }
   ],
   "source": [
    "df.info()"
   ]
  },
  {
   "cell_type": "code",
   "execution_count": null,
   "metadata": {
    "ExecuteTime": {
     "start_time": "2020-08-05T05:21:37.726Z"
    }
   },
   "outputs": [],
   "source": [
    "gmap2 = gmplot.GoogleMapPlotter(30.3164945, \n",
    "                                78.03219179999999, 13) \n",
    "\n",
    "latitude_list =list(df['Latitude'].dropna())\n",
    "longitude_list =list(df['Longitude'].dropna())\n",
    "gmap2.scatter( latitude_list, longitude_list, 'yellow', \n",
    "                              size = 40, marker = True )   \n",
    "\n",
    "    \n",
    "gmap2.draw( \"C:\\\\Users\\\\nikhil\\\\Desktop\\\\map12.html\" ) \n"
   ]
  },
  {
   "cell_type": "code",
   "execution_count": 31,
   "metadata": {
    "ExecuteTime": {
     "end_time": "2020-08-05T05:04:17.324949Z",
     "start_time": "2020-08-05T05:04:17.309814Z"
    }
   },
   "outputs": [
    {
     "data": {
      "text/plain": [
       "177135"
      ]
     },
     "execution_count": 31,
     "metadata": {},
     "output_type": "execute_result"
    }
   ],
   "source": [
    "len(latitude_list)"
   ]
  },
  {
   "cell_type": "code",
   "execution_count": 32,
   "metadata": {
    "ExecuteTime": {
     "end_time": "2020-08-05T05:04:19.375052Z",
     "start_time": "2020-08-05T05:04:19.359893Z"
    }
   },
   "outputs": [
    {
     "data": {
      "text/plain": [
       "177135"
      ]
     },
     "execution_count": 32,
     "metadata": {},
     "output_type": "execute_result"
    }
   ],
   "source": [
    "len(latitude_list)\n"
   ]
  },
  {
   "cell_type": "code",
   "execution_count": 26,
   "metadata": {
    "ExecuteTime": {
     "end_time": "2020-08-05T05:03:10.704675Z",
     "start_time": "2020-08-05T05:03:04.874942Z"
    }
   },
   "outputs": [
    {
     "data": {
      "image/png": "[encoded data removed]",
      "text/plain": [
       "<Figure size 432x288 with 1 Axes>"
      ]
     },
     "metadata": {
      "needs_background": "light"
     },
     "output_type": "display_data"
    }
   ],
   "source": []
  },
  {
   "cell_type": "code",
   "execution_count": 2,
   "metadata": {
    "ExecuteTime": {
     "end_time": "2020-10-21T17:58:57.366427Z",
     "start_time": "2020-10-21T17:58:32.136591Z"
    }
   },
   "outputs": [],
   "source": [
    "df= pd.read_csv('../data/us-accidents-2019/US_Accidents_2019.csv')"
   ]
  },
  {
   "cell_type": "code",
   "execution_count": 3,
   "metadata": {
    "ExecuteTime": {
     "end_time": "2020-10-21T17:59:02.152086Z",
     "start_time": "2020-10-21T17:59:01.261316Z"
    }
   },
   "outputs": [
    {
     "data": {
      "text/html": [
       "<div>\n",
       "<style scoped>\n",
       "    .dataframe tbody tr th:only-of-type {\n",
       "        vertical-align: middle;\n",
       "    }\n",
       "\n",
       "    .dataframe tbody tr th {\n",
       "        vertical-align: top;\n",
       "    }\n",
       "\n",
       "    .dataframe thead th {\n",
       "        text-align: right;\n",
       "    }\n",
       "</style>\n",
       "<table border=\"1\" class=\"dataframe\">\n",
       "  <thead>\n",
       "    <tr style=\"text-align: right;\">\n",
       "      <th></th>\n",
       "      <th>ID</th>\n",
       "      <th>Source</th>\n",
       "      <th>TMC</th>\n",
       "      <th>Severity</th>\n",
       "      <th>Start_Time</th>\n",
       "      <th>End_Time</th>\n",
       "      <th>Start_Lat</th>\n",
       "      <th>Start_Lng</th>\n",
       "      <th>End_Lat</th>\n",
       "      <th>End_Lng</th>\n",
       "      <th>...</th>\n",
       "      <th>Station</th>\n",
       "      <th>Stop</th>\n",
       "      <th>Traffic_Calming</th>\n",
       "      <th>Traffic_Signal</th>\n",
       "      <th>Turning_Loop</th>\n",
       "      <th>Sunrise_Sunset</th>\n",
       "      <th>Civil_Twilight</th>\n",
       "      <th>Nautical_Twilight</th>\n",
       "      <th>Astronomical_Twilight</th>\n",
       "      <th>dt</th>\n",
       "    </tr>\n",
       "  </thead>\n",
       "  <tbody>\n",
       "    <tr>\n",
       "      <th>0</th>\n",
       "      <td>A-641507</td>\n",
       "      <td>MapQuest</td>\n",
       "      <td>406.0</td>\n",
       "      <td>3</td>\n",
       "      <td>2019-12-26 17:09:52</td>\n",
       "      <td>2020-01-10 11:00:00</td>\n",
       "      <td>40.884850</td>\n",
       "      <td>-95.800362</td>\n",
       "      <td>NaN</td>\n",
       "      <td>NaN</td>\n",
       "      <td>...</td>\n",
       "      <td>False</td>\n",
       "      <td>False</td>\n",
       "      <td>False</td>\n",
       "      <td>False</td>\n",
       "      <td>False</td>\n",
       "      <td>Night</td>\n",
       "      <td>Day</td>\n",
       "      <td>Day</td>\n",
       "      <td>Day</td>\n",
       "      <td>2019-12-26</td>\n",
       "    </tr>\n",
       "    <tr>\n",
       "      <th>1</th>\n",
       "      <td>A-641508</td>\n",
       "      <td>MapQuest</td>\n",
       "      <td>406.0</td>\n",
       "      <td>3</td>\n",
       "      <td>2019-12-26 17:10:32</td>\n",
       "      <td>2020-01-10 11:00:00</td>\n",
       "      <td>40.889641</td>\n",
       "      <td>-95.798630</td>\n",
       "      <td>NaN</td>\n",
       "      <td>NaN</td>\n",
       "      <td>...</td>\n",
       "      <td>False</td>\n",
       "      <td>False</td>\n",
       "      <td>False</td>\n",
       "      <td>False</td>\n",
       "      <td>False</td>\n",
       "      <td>Night</td>\n",
       "      <td>Day</td>\n",
       "      <td>Day</td>\n",
       "      <td>Day</td>\n",
       "      <td>2019-12-26</td>\n",
       "    </tr>\n",
       "    <tr>\n",
       "      <th>2</th>\n",
       "      <td>A-740291</td>\n",
       "      <td>MapQuest</td>\n",
       "      <td>201.0</td>\n",
       "      <td>3</td>\n",
       "      <td>2019-12-31 23:49:36</td>\n",
       "      <td>2020-01-01 01:27:09</td>\n",
       "      <td>42.313499</td>\n",
       "      <td>-83.091225</td>\n",
       "      <td>NaN</td>\n",
       "      <td>NaN</td>\n",
       "      <td>...</td>\n",
       "      <td>False</td>\n",
       "      <td>False</td>\n",
       "      <td>False</td>\n",
       "      <td>False</td>\n",
       "      <td>False</td>\n",
       "      <td>Night</td>\n",
       "      <td>Night</td>\n",
       "      <td>Night</td>\n",
       "      <td>Night</td>\n",
       "      <td>2019-12-31</td>\n",
       "    </tr>\n",
       "    <tr>\n",
       "      <th>3</th>\n",
       "      <td>A-740293</td>\n",
       "      <td>MapQuest</td>\n",
       "      <td>201.0</td>\n",
       "      <td>2</td>\n",
       "      <td>2019-12-31 23:50:02</td>\n",
       "      <td>2020-01-01 01:24:06</td>\n",
       "      <td>42.398125</td>\n",
       "      <td>-83.109009</td>\n",
       "      <td>NaN</td>\n",
       "      <td>NaN</td>\n",
       "      <td>...</td>\n",
       "      <td>False</td>\n",
       "      <td>False</td>\n",
       "      <td>False</td>\n",
       "      <td>False</td>\n",
       "      <td>False</td>\n",
       "      <td>Night</td>\n",
       "      <td>Night</td>\n",
       "      <td>Night</td>\n",
       "      <td>Night</td>\n",
       "      <td>2019-12-31</td>\n",
       "    </tr>\n",
       "    <tr>\n",
       "      <th>4</th>\n",
       "      <td>A-740358</td>\n",
       "      <td>MapQuest</td>\n",
       "      <td>201.0</td>\n",
       "      <td>2</td>\n",
       "      <td>2019-12-31 23:29:03</td>\n",
       "      <td>2020-01-01 02:31:31</td>\n",
       "      <td>39.754967</td>\n",
       "      <td>-75.276283</td>\n",
       "      <td>NaN</td>\n",
       "      <td>NaN</td>\n",
       "      <td>...</td>\n",
       "      <td>False</td>\n",
       "      <td>False</td>\n",
       "      <td>False</td>\n",
       "      <td>False</td>\n",
       "      <td>False</td>\n",
       "      <td>Night</td>\n",
       "      <td>Night</td>\n",
       "      <td>Night</td>\n",
       "      <td>Night</td>\n",
       "      <td>2019-12-31</td>\n",
       "    </tr>\n",
       "  </tbody>\n",
       "</table>\n",
       "<p>5 rows × 50 columns</p>\n",
       "</div>"
      ],
      "text/plain": [
       "         ID    Source    TMC  Severity           Start_Time  \\\n",
       "0  A-641507  MapQuest  406.0         3  2019-12-26 17:09:52   \n",
       "1  A-641508  MapQuest  406.0         3  2019-12-26 17:10:32   \n",
       "2  A-740291  MapQuest  201.0         3  2019-12-31 23:49:36   \n",
       "3  A-740293  MapQuest  201.0         2  2019-12-31 23:50:02   \n",
       "4  A-740358  MapQuest  201.0         2  2019-12-31 23:29:03   \n",
       "\n",
       "              End_Time  Start_Lat  Start_Lng  End_Lat  End_Lng  ...  Station  \\\n",
       "0  2020-01-10 11:00:00  40.884850 -95.800362      NaN      NaN  ...    False   \n",
       "1  2020-01-10 11:00:00  40.889641 -95.798630      NaN      NaN  ...    False   \n",
       "2  2020-01-01 01:27:09  42.313499 -83.091225      NaN      NaN  ...    False   \n",
       "3  2020-01-01 01:24:06  42.398125 -83.109009      NaN      NaN  ...    False   \n",
       "4  2020-01-01 02:31:31  39.754967 -75.276283      NaN      NaN  ...    False   \n",
       "\n",
       "    Stop  Traffic_Calming Traffic_Signal Turning_Loop Sunrise_Sunset  \\\n",
       "0  False            False          False        False          Night   \n",
       "1  False            False          False        False          Night   \n",
       "2  False            False          False        False          Night   \n",
       "3  False            False          False        False          Night   \n",
       "4  False            False          False        False          Night   \n",
       "\n",
       "  Civil_Twilight Nautical_Twilight Astronomical_Twilight          dt  \n",
       "0            Day               Day                   Day  2019-12-26  \n",
       "1            Day               Day                   Day  2019-12-26  \n",
       "2          Night             Night                 Night  2019-12-31  \n",
       "3          Night             Night                 Night  2019-12-31  \n",
       "4          Night             Night                 Night  2019-12-31  \n",
       "\n",
       "[5 rows x 50 columns]"
      ]
     },
     "execution_count": 3,
     "metadata": {},
     "output_type": "execute_result"
    }
   ],
   "source": [
    "df.head()"
   ]
  },
  {
   "cell_type": "code",
   "execution_count": 5,
   "metadata": {
    "ExecuteTime": {
     "end_time": "2020-10-21T17:59:40.598263Z",
     "start_time": "2020-10-21T17:59:40.588288Z"
    }
   },
   "outputs": [
    {
     "data": {
      "text/plain": [
       "(953733, 50)"
      ]
     },
     "execution_count": 5,
     "metadata": {},
     "output_type": "execute_result"
    }
   ],
   "source": [
    "df.shape\n"
   ]
  },
  {
   "cell_type": "code",
   "execution_count": null,
   "metadata": {},
   "outputs": [],
   "source": []
  }
 ],
 "metadata": {
  "kernelspec": {
   "display_name": "Python 3",
   "language": "python",
   "name": "python3"
  },
  "language_info": {
   "codemirror_mode": {
    "name": "ipython",
    "version": 3
   },
   "file_extension": ".py",
   "mimetype": "text/x-python",
   "name": "python",
   "nbconvert_exporter": "python",
   "pygments_lexer": "ipython3",
   "version": "3.7.6"
  },
  "toc": {
   "base_numbering": 1,
   "nav_menu": {},
   "number_sections": true,
   "sideBar": true,
   "skip_h1_title": false,
   "title_cell": "Table of Contents",
   "title_sidebar": "Contents",
   "toc_cell": false,
   "toc_position": {},
   "toc_section_display": true,
   "toc_window_display": false
  }
 },
 "nbformat": 4,
 "nbformat_minor": 4
}
