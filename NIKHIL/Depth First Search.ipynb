{
 "cells": [
  {
   "cell_type": "code",
   "execution_count": 1,
   "metadata": {
    "ExecuteTime": {
     "end_time": "2020-10-23T05:25:24.044597Z",
     "start_time": "2020-10-23T05:25:22.915918Z"
    }
   },
   "outputs": [],
   "source": [
    "class Node(object):\n",
    "    def __init__(self, name):\n",
    "        self.name = name\n",
    "\n",
    "    def get_name(self):\n",
    "        return self.name\n",
    "\n",
    "    def __str__(self):\n",
    "        return self.name"
   ]
  },
  {
   "cell_type": "code",
   "execution_count": 2,
   "metadata": {
    "ExecuteTime": {
     "end_time": "2020-10-23T05:25:24.228382Z",
     "start_time": "2020-10-23T05:25:24.044597Z"
    }
   },
   "outputs": [],
   "source": [
    "class Edge(object):\n",
    "    def __init__(self, src, dest):\n",
    "        self.src = src\n",
    "        self.dest = dest\n",
    "\n",
    "    def get_src(self):\n",
    "        return self.src\n",
    "\n",
    "    def get_dest(self):\n",
    "        return self.dest\n",
    "\n",
    "    def __str__(self):\n",
    "        return self.src.get_name()+\"-->\"+self.dest.get_name()"
   ]
  },
  {
   "cell_type": "code",
   "execution_count": 3,
   "metadata": {
    "ExecuteTime": {
     "end_time": "2020-10-23T05:25:24.529824Z",
     "start_time": "2020-10-23T05:25:24.234378Z"
    }
   },
   "outputs": [],
   "source": [
    "class Diagraph(object):\n",
    "    def __init__(self):\n",
    "        self.edges = {}\n",
    "\n",
    "    def addNode(self, node):\n",
    "        if node in self.edges:\n",
    "            raise ValueError(\"duplicates Node\")\n",
    "        else:\n",
    "            self.edges[node] = []\n",
    "\n",
    "    def addEdge(self, edge):\n",
    "        src = edge.get_src()\n",
    "        dest = edge.get_dest()\n",
    "        if not ((src in self.edges) and (dest in self.edges)):\n",
    "            raise ValueError(\"Node not in Graph\")\n",
    "        else:\n",
    "            self.edges[src].append(dest)\n",
    "\n",
    "    def hashnode(self, node):\n",
    "        return node in self.edges\n",
    "\n",
    "    def getNode(self, name):\n",
    "        for i in self.edges:\n",
    "            if (i.get_name() == name):\n",
    "                return i\n",
    "        raise NameError(name)\n",
    "\n",
    "    def Adjacent_Node(self, name):\n",
    "        for i in self.edges:\n",
    "            if(i.get_name() == name):\n",
    "                return  [j.get_name() for j in self.edges[i]]\n",
    "        raise NameError(name)\n",
    "        \n",
    "    def childrenof(self, node):\n",
    "        return self.edges[node]\n",
    "    \n",
    "    def totalNode(self):\n",
    "        l1 = []\n",
    "        for i in self.edges.keys():\n",
    "            l1.append(i.get_name())\n",
    "        return l1\n",
    "\n",
    "    def __str__(self):\n",
    "        result = ''\n",
    "        for src in self.edges:\n",
    "            for dest in self.edges[src]:\n",
    "                result = result+src.get_name()+'->'+dest.get_name()+'\\n'\n",
    "        return result[:]"
   ]
  },
  {
   "cell_type": "code",
   "execution_count": 4,
   "metadata": {
    "ExecuteTime": {
     "end_time": "2020-10-23T05:25:24.725012Z",
     "start_time": "2020-10-23T05:25:24.533803Z"
    }
   },
   "outputs": [],
   "source": [
    "class Graph(Diagraph):\n",
    "    def addEdge(self, edge):\n",
    "        Diagraph.addEdge(self, edge)\n",
    "        rev = Edge(edge.get_dest(), edge.get_src())\n",
    "        Diagraph.addEdge(self, rev)"
   ]
  },
  {
   "cell_type": "code",
   "execution_count": 5,
   "metadata": {
    "ExecuteTime": {
     "end_time": "2020-10-23T05:25:24.868620Z",
     "start_time": "2020-10-23T05:25:24.728010Z"
    }
   },
   "outputs": [],
   "source": [
    "def Buildgraph(graphtype):\n",
    "    g = graphtype()\n",
    "    for i in ['A', 'B', 'C', 'D', 'E', 'F']:\n",
    "        g.addNode(Node(i))\n",
    "    g.addEdge(Edge(g.getNode('A'), g.getNode('B')))\n",
    "    g.addEdge(Edge(g.getNode('A'), g.getNode('C')))\n",
    "    g.addEdge(Edge(g.getNode('B'), g.getNode('D')))\n",
    "    g.addEdge(Edge(g.getNode('C'), g.getNode('E')))\n",
    "    g.addEdge(Edge(g.getNode('C'), g.getNode('D')))\n",
    "    g.addEdge(Edge(g.getNode('D'), g.getNode('F')))\n",
    "    return g"
   ]
  },
  {
   "cell_type": "code",
   "execution_count": 6,
   "metadata": {
    "ExecuteTime": {
     "end_time": "2020-10-23T05:25:25.463628Z",
     "start_time": "2020-10-23T05:25:24.871582Z"
    }
   },
   "outputs": [
    {
     "name": "stdout",
     "output_type": "stream",
     "text": [
      "A->B\n",
      "A->C\n",
      "B->A\n",
      "B->D\n",
      "C->A\n",
      "C->E\n",
      "C->D\n",
      "D->B\n",
      "D->C\n",
      "D->F\n",
      "E->C\n",
      "F->D\n",
      "\n"
     ]
    }
   ],
   "source": [
    "g=Buildgraph(Graph)\n",
    "print(g)"
   ]
  },
  {
   "cell_type": "code",
   "execution_count": 7,
   "metadata": {
    "ExecuteTime": {
     "end_time": "2020-10-23T05:25:25.510697Z",
     "start_time": "2020-10-23T05:25:25.467626Z"
    }
   },
   "outputs": [],
   "source": [
    "def DFS(graph,start,end,path,shortest):\n",
    "    path=path+[start]\n",
    "    if start==end:\n",
    "        return path\n",
    "    for node in graph.childrenof(start):\n",
    "        if node not in path:\n",
    "            if shortest== None or len(path)<len(shortest):\n",
    "                newpath=DFS(graph, node ,end, path, shortest)\n",
    "                if newpath !=None:\n",
    "                    shortest=newpath\n",
    "    return shortest\n",
    "        "
   ]
  },
  {
   "cell_type": "code",
   "execution_count": null,
   "metadata": {},
   "outputs": [],
   "source": []
  },
  {
   "cell_type": "code",
   "execution_count": 8,
   "metadata": {
    "ExecuteTime": {
     "end_time": "2020-10-23T05:25:25.666886Z",
     "start_time": "2020-10-23T05:25:25.518695Z"
    }
   },
   "outputs": [],
   "source": [
    "def shortestpath(graph,start,end):\n",
    "    \n",
    "    return  DFS(graph,start,end,[],None)"
   ]
  },
  {
   "cell_type": "code",
   "execution_count": 12,
   "metadata": {
    "ExecuteTime": {
     "end_time": "2020-10-23T05:32:33.954169Z",
     "start_time": "2020-10-23T05:32:33.943172Z"
    }
   },
   "outputs": [],
   "source": [
    "def testSp(source,destination):\n",
    "    g=Buildgraph(Graph)\n",
    "    sp=shortestpath(g,g.getNode(source),g.getNode(destination))\n",
    "    if sp!=None:\n",
    "        print(\"Shortest Path from\",source,\"to\",destination)\n",
    "        for i in sp:\n",
    "            print(i.get_name(),end=\" \")\n",
    "\n",
    "    "
   ]
  },
  {
   "cell_type": "code",
   "execution_count": 13,
   "metadata": {
    "ExecuteTime": {
     "end_time": "2020-10-23T05:32:35.666221Z",
     "start_time": "2020-10-23T05:32:35.406585Z"
    }
   },
   "outputs": [
    {
     "name": "stdout",
     "output_type": "stream",
     "text": [
      "Shortest Path from F to E\n",
      "F D C E None\n"
     ]
    }
   ],
   "source": [
    "print(testSp('F','E'))"
   ]
  },
  {
   "cell_type": "code",
   "execution_count": null,
   "metadata": {},
   "outputs": [],
   "source": []
  },
  {
   "cell_type": "code",
   "execution_count": 15,
   "metadata": {
    "ExecuteTime": {
     "end_time": "2020-10-23T05:33:14.772658Z",
     "start_time": "2020-10-23T05:33:14.741119Z"
    },
    "scrolled": true
   },
   "outputs": [
    {
     "name": "stdout",
     "output_type": "stream",
     "text": [
      "Shortest Path from F to E\n",
      "F D C E "
     ]
    }
   ],
   "source": [
    "def BFS(graph, start, end, toPrint = False):\n",
    "    \n",
    "    initPath = [start]\n",
    "    pathQueue = [initPath]\n",
    "    while len(pathQueue) != 0:\n",
    "        #Get and remove oldest element in pathQueue\n",
    "        tmpPath = pathQueue.pop(0)\n",
    "        if toPrint:\n",
    "            print('Current BFS path:', printPath(tmpPath))\n",
    "        lastNode = tmpPath[-1]\n",
    "        if lastNode == end:\n",
    "            return tmpPath\n",
    "        for nextNode in graph.childrenOf(lastNode):\n",
    "            if nextNode not in tmpPath:\n",
    "                newPath = tmpPath + [nextNode]\n",
    "                pathQueue.append(newPath)\n",
    "    return None\n",
    "\n",
    "def shortestPath(graph, start, end, toPrint = False):\n",
    "    \n",
    "    return BFS(graph, start, end, toPrint)\n",
    "    \n",
    "print(testSp1('F', 'E'))"
   ]
  },
  {
   "cell_type": "code",
   "execution_count": null,
   "metadata": {},
   "outputs": [],
   "source": []
  }
 ],
 "metadata": {
  "kernelspec": {
   "display_name": "Python 3",
   "language": "python",
   "name": "python3"
  },
  "language_info": {
   "codemirror_mode": {
    "name": "ipython",
    "version": 3
   },
   "file_extension": ".py",
   "mimetype": "text/x-python",
   "name": "python",
   "nbconvert_exporter": "python",
   "pygments_lexer": "ipython3",
   "version": "3.7.6"
  },
  "toc": {
   "base_numbering": 1,
   "nav_menu": {},
   "number_sections": true,
   "sideBar": true,
   "skip_h1_title": false,
   "title_cell": "Table of Contents",
   "title_sidebar": "Contents",
   "toc_cell": false,
   "toc_position": {},
   "toc_section_display": true,
   "toc_window_display": false
  }
 },
 "nbformat": 4,
 "nbformat_minor": 4
}
