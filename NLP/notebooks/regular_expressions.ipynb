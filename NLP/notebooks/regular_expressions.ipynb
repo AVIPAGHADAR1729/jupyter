{
 "cells": [
  {
   "cell_type": "code",
   "execution_count": 3,
   "metadata": {
    "ExecuteTime": {
     "end_time": "2021-05-08T05:32:13.606497Z",
     "start_time": "2021-05-08T05:32:13.601498Z"
    }
   },
   "outputs": [],
   "source": [
    "with open('../data/fruit_data_with_colors.txt','r') as f:\n",
    "#     for i in f.readlines():\n",
    "     lines = f.read().splitlines()"
   ]
  },
  {
   "cell_type": "markdown",
   "metadata": {},
   "source": [
    "# use case 1: txt file to csv by regx"
   ]
  },
  {
   "cell_type": "code",
   "execution_count": 4,
   "metadata": {
    "ExecuteTime": {
     "end_time": "2021-05-08T05:32:14.781641Z",
     "start_time": "2021-05-08T05:32:14.758641Z"
    }
   },
   "outputs": [
    {
     "data": {
      "text/plain": [
       "['fruit_label\\tfruit_name\\tfruit_subtype\\tmass\\twidth\\theight\\tcolor_score',\n",
       " '1\\tapple\\tgranny_smith\\t192\\t8.4\\t7.3\\t0.55',\n",
       " '1\\tapple\\tgranny_smith\\t180\\t8.0\\t6.8\\t0.59',\n",
       " '1\\tapple\\tgranny_smith\\t176\\t7.4\\t7.2\\t0.60',\n",
       " '2\\tmandarin\\tmandarin\\t86 \\t6.2\\t4.7\\t0.80',\n",
       " '2\\tmandarin\\tmandarin\\t84 \\t6.0\\t4.6\\t0.79',\n",
       " '2\\tmandarin\\tmandarin\\t80 \\t5.8\\t4.3\\t0.77',\n",
       " '2\\tmandarin\\tmandarin\\t80 \\t5.9 \\t4.3\\t0.81',\n",
       " '2\\tmandarin\\tmandarin\\t76\\t5.8\\t4.0\\t0.81',\n",
       " '1\\tapple\\tbraeburn\\t178\\t7.1\\t7.8\\t0.92',\n",
       " '1\\tapple\\tbraeburn\\t172\\t7.4\\t7.0\\t0.89',\n",
       " '1\\tapple\\tbraeburn\\t166\\t6.9\\t7.3\\t0.93',\n",
       " '1\\tapple\\tbraeburn\\t172\\t7.1\\t7.6\\t0.92',\n",
       " '1\\tapple\\tbraeburn\\t154\\t7.0\\t7.1\\t0.88',\n",
       " '1\\tapple\\tgolden_delicious\\t164\\t7.3\\t7.7\\t0.70',\n",
       " '1\\tapple\\tgolden_delicious\\t152\\t7.6\\t7.3\\t0.69',\n",
       " '1\\tapple\\tgolden_delicious\\t156\\t7.7\\t7.1\\t0.69',\n",
       " '1\\tapple\\tgolden_delicious\\t156\\t7.6\\t7.5\\t0.67',\n",
       " '1\\tapple\\tgolden_delicious\\t168\\t7.5\\t7.6\\t0.73',\n",
       " '1\\tapple\\tcripps_pink\\t162\\t7.5\\t7.1\\t0.83',\n",
       " '1\\tapple\\tcripps_pink\\t162\\t7.4\\t7.2\\t0.85',\n",
       " '1\\tapple\\tcripps_pink\\t160\\t7.5\\t7.5\\t0.86',\n",
       " '1\\tapple\\tcripps_pink\\t156\\t7.4\\t7.4\\t0.84',\n",
       " '1\\tapple\\tcripps_pink\\t140\\t7.3\\t7.1\\t0.87',\n",
       " '1\\tapple\\tcripps_pink\\t170\\t7.6\\t7.9\\t0.88',\n",
       " '3\\torange\\tspanish_jumbo\\t342\\t9.0\\t9.4\\t0.75',\n",
       " '3\\torange\\tspanish_jumbo\\t356\\t9.2\\t9.2\\t0.75',\n",
       " '3\\torange\\tspanish_jumbo\\t362\\t9.6\\t9.2\\t0.74',\n",
       " '3\\torange\\tselected_seconds\\t204\\t7.5\\t9.2\\t0.77',\n",
       " '3\\torange\\tselected_seconds\\t140\\t6.7\\t7.1\\t0.72',\n",
       " '3\\torange\\tselected_seconds\\t160\\t7.0\\t7.4\\t0.81',\n",
       " '3\\torange\\tselected_seconds\\t158\\t7.1\\t7.5\\t0.79',\n",
       " '3\\torange\\tselected_seconds\\t210\\t7.8\\t8.0\\t0.82',\n",
       " '3\\torange\\tselected_seconds\\t164\\t7.2\\t7.0\\t0.80',\n",
       " '3\\torange\\tturkey_navel\\t190\\t7.5\\t8.1\\t0.74',\n",
       " '3\\torange\\tturkey_navel\\t142\\t7.6\\t7.8\\t0.75',\n",
       " '3\\torange\\tturkey_navel\\t150\\t7.1\\t7.9\\t0.75',\n",
       " '3\\torange\\tturkey_navel\\t160\\t7.1\\t7.6\\t0.76',\n",
       " '3\\torange\\tturkey_navel\\t154\\t7.3\\t7.3\\t0.79',\n",
       " '3\\torange\\tturkey_navel\\t158\\t7.2\\t7.8\\t0.77',\n",
       " '3\\torange\\tturkey_navel\\t144\\t6.8\\t7.4\\t0.75',\n",
       " '3\\torange\\tturkey_navel\\t154\\t7.1\\t7.5\\t0.78',\n",
       " '3\\torange\\tturkey_navel\\t180\\t7.6\\t8.2\\t0.79',\n",
       " '3\\torange\\tturkey_navel\\t154\\t7.2\\t7.2\\t0.82',\n",
       " '4\\tlemon\\tspanish_belsan\\t194\\t7.2\\t10.3\\t0.70',\n",
       " '4\\tlemon\\tspanish_belsan\\t200\\t7.3\\t10.5\\t0.72',\n",
       " '4\\tlemon\\tspanish_belsan\\t186\\t7.2\\t9.2\\t0.72',\n",
       " '4\\tlemon\\tspanish_belsan\\t216\\t7.3\\t10.2\\t0.71',\n",
       " '4\\tlemon\\tspanish_belsan\\t196\\t7.3\\t9.7\\t0.72',\n",
       " '4\\tlemon\\tspanish_belsan\\t174\\t7.3\\t10.1\\t0.72',\n",
       " '4\\tlemon\\tunknown\\t132\\t5.8\\t8.7\\t0.73',\n",
       " '4\\tlemon\\tunknown\\t130\\t6.0\\t8.2\\t0.71',\n",
       " '4\\tlemon\\tunknown\\t116\\t6.0\\t7.5\\t0.72',\n",
       " '4\\tlemon\\tunknown\\t118\\t5.9\\t8.0\\t0.72',\n",
       " '4\\tlemon\\tunknown\\t120\\t6.0\\t8.4\\t0.74',\n",
       " '4\\tlemon\\tunknown\\t116\\t6.1\\t8.5\\t0.71',\n",
       " '4\\tlemon\\tunknown\\t116\\t6.3\\t7.7\\t0.72',\n",
       " '4\\tlemon\\tunknown\\t116\\t5.9\\t8.1\\t0.73',\n",
       " '4\\tlemon\\tunknown\\t152\\t6.5\\t8.5\\t0.72',\n",
       " '4\\tlemon\\tunknown\\t118\\t6.1\\t8.1\\t0.70']"
      ]
     },
     "execution_count": 4,
     "metadata": {},
     "output_type": "execute_result"
    }
   ],
   "source": [
    "import pandas as pd\n",
    "import re \n",
    "lines"
   ]
  },
  {
   "cell_type": "code",
   "execution_count": 32,
   "metadata": {
    "ExecuteTime": {
     "end_time": "2021-04-10T16:23:24.380466Z",
     "start_time": "2021-04-10T16:23:24.348470Z"
    },
    "code_folding": []
   },
   "outputs": [
    {
     "name": "stdout",
     "output_type": "stream",
     "text": [
      "fruit_label,fruit_name,fruit_subtype,mass,width,height,color_score\n",
      "1,apple,granny_smith,192,8.4,7.3,0.55\n",
      "1,apple,granny_smith,180,8.0,6.8,0.59\n",
      "1,apple,granny_smith,176,7.4,7.2,0.60\n",
      "2,mandarin,mandarin,86,6.2,4.7,0.80\n",
      "2,mandarin,mandarin,84,6.0,4.6,0.79\n",
      "2,mandarin,mandarin,80,5.8,4.3,0.77\n",
      "2,mandarin,mandarin,80,5.9,4.3,0.81\n",
      "2,mandarin,mandarin,76,5.8,4.0,0.81\n",
      "1,apple,braeburn,178,7.1,7.8,0.92\n",
      "1,apple,braeburn,172,7.4,7.0,0.89\n",
      "1,apple,braeburn,166,6.9,7.3,0.93\n",
      "1,apple,braeburn,172,7.1,7.6,0.92\n",
      "1,apple,braeburn,154,7.0,7.1,0.88\n",
      "1,apple,golden_delicious,164,7.3,7.7,0.70\n",
      "1,apple,golden_delicious,152,7.6,7.3,0.69\n",
      "1,apple,golden_delicious,156,7.7,7.1,0.69\n",
      "1,apple,golden_delicious,156,7.6,7.5,0.67\n",
      "1,apple,golden_delicious,168,7.5,7.6,0.73\n",
      "1,apple,cripps_pink,162,7.5,7.1,0.83\n",
      "1,apple,cripps_pink,162,7.4,7.2,0.85\n",
      "1,apple,cripps_pink,160,7.5,7.5,0.86\n",
      "1,apple,cripps_pink,156,7.4,7.4,0.84\n",
      "1,apple,cripps_pink,140,7.3,7.1,0.87\n",
      "1,apple,cripps_pink,170,7.6,7.9,0.88\n",
      "3,orange,spanish_jumbo,342,9.0,9.4,0.75\n",
      "3,orange,spanish_jumbo,356,9.2,9.2,0.75\n",
      "3,orange,spanish_jumbo,362,9.6,9.2,0.74\n",
      "3,orange,selected_seconds,204,7.5,9.2,0.77\n",
      "3,orange,selected_seconds,140,6.7,7.1,0.72\n",
      "3,orange,selected_seconds,160,7.0,7.4,0.81\n",
      "3,orange,selected_seconds,158,7.1,7.5,0.79\n",
      "3,orange,selected_seconds,210,7.8,8.0,0.82\n",
      "3,orange,selected_seconds,164,7.2,7.0,0.80\n",
      "3,orange,turkey_navel,190,7.5,8.1,0.74\n",
      "3,orange,turkey_navel,142,7.6,7.8,0.75\n",
      "3,orange,turkey_navel,150,7.1,7.9,0.75\n",
      "3,orange,turkey_navel,160,7.1,7.6,0.76\n",
      "3,orange,turkey_navel,154,7.3,7.3,0.79\n",
      "3,orange,turkey_navel,158,7.2,7.8,0.77\n",
      "3,orange,turkey_navel,144,6.8,7.4,0.75\n",
      "3,orange,turkey_navel,154,7.1,7.5,0.78\n",
      "3,orange,turkey_navel,180,7.6,8.2,0.79\n",
      "3,orange,turkey_navel,154,7.2,7.2,0.82\n",
      "4,lemon,spanish_belsan,194,7.2,10.3,0.70\n",
      "4,lemon,spanish_belsan,200,7.3,10.5,0.72\n",
      "4,lemon,spanish_belsan,186,7.2,9.2,0.72\n",
      "4,lemon,spanish_belsan,216,7.3,10.2,0.71\n",
      "4,lemon,spanish_belsan,196,7.3,9.7,0.72\n",
      "4,lemon,spanish_belsan,174,7.3,10.1,0.72\n",
      "4,lemon,unknown,132,5.8,8.7,0.73\n",
      "4,lemon,unknown,130,6.0,8.2,0.71\n",
      "4,lemon,unknown,116,6.0,7.5,0.72\n",
      "4,lemon,unknown,118,5.9,8.0,0.72\n",
      "4,lemon,unknown,120,6.0,8.4,0.74\n",
      "4,lemon,unknown,116,6.1,8.5,0.71\n",
      "4,lemon,unknown,116,6.3,7.7,0.72\n",
      "4,lemon,unknown,116,5.9,8.1,0.73\n",
      "4,lemon,unknown,152,6.5,8.5,0.72\n",
      "4,lemon,unknown,118,6.1,8.1,0.70\n"
     ]
    }
   ],
   "source": [
    "with open(\"../data/fruit_data_with_colors1.csv\",\"+w\") as f1:\n",
    "    for i in lines:\n",
    "        print(re.sub(r\"\\s+\",\",\",i))\n",
    "        f1.write(re.sub(r\"\\s+\",\",\",i)+\"\\n\")"
   ]
  },
  {
   "cell_type": "code",
   "execution_count": null,
   "metadata": {},
   "outputs": [],
   "source": []
  },
  {
   "cell_type": "code",
   "execution_count": 33,
   "metadata": {
    "ExecuteTime": {
     "end_time": "2021-04-10T16:23:25.129566Z",
     "start_time": "2021-04-10T16:23:25.097569Z"
    }
   },
   "outputs": [],
   "source": [
    "df=pd.read_csv(\"../data/fruit_data_with_colors1.csv\")"
   ]
  },
  {
   "cell_type": "code",
   "execution_count": 35,
   "metadata": {
    "ExecuteTime": {
     "end_time": "2021-04-10T16:23:39.701265Z",
     "start_time": "2021-04-10T16:23:39.613254Z"
    }
   },
   "outputs": [
    {
     "name": "stdout",
     "output_type": "stream",
     "text": [
      "<class 'pandas.core.frame.DataFrame'>\n",
      "RangeIndex: 59 entries, 0 to 58\n",
      "Data columns (total 7 columns):\n",
      " #   Column         Non-Null Count  Dtype  \n",
      "---  ------         --------------  -----  \n",
      " 0   fruit_label    59 non-null     int64  \n",
      " 1   fruit_name     59 non-null     object \n",
      " 2   fruit_subtype  59 non-null     object \n",
      " 3   mass           59 non-null     int64  \n",
      " 4   width          59 non-null     float64\n",
      " 5   height         59 non-null     float64\n",
      " 6   color_score    59 non-null     float64\n",
      "dtypes: float64(3), int64(2), object(2)\n",
      "memory usage: 3.4+ KB\n"
     ]
    }
   ],
   "source": [
    "df.info()"
   ]
  },
  {
   "cell_type": "code",
   "execution_count": 39,
   "metadata": {
    "ExecuteTime": {
     "end_time": "2021-04-10T16:31:36.925654Z",
     "start_time": "2021-04-10T16:31:36.900899Z"
    }
   },
   "outputs": [
    {
     "data": {
      "text/plain": [
       "'n'"
      ]
     },
     "execution_count": 39,
     "metadata": {},
     "output_type": "execute_result"
    }
   ],
   "source": [
    "str1=\"nikhil shingadiya\"\n",
    "m=re.match(r'n',str1,re.M|re.I)\n",
    "m.()"
   ]
  },
  {
   "cell_type": "markdown",
   "metadata": {
    "ExecuteTime": {
     "end_time": "2021-04-14T09:12:07.962703Z",
     "start_time": "2021-04-14T09:12:07.946705Z"
    }
   },
   "source": [
    "## practice "
   ]
  },
  {
   "cell_type": "code",
   "execution_count": 3,
   "metadata": {
    "ExecuteTime": {
     "end_time": "2021-04-14T09:18:16.216951Z",
     "start_time": "2021-04-14T09:18:16.208951Z"
    }
   },
   "outputs": [],
   "source": [
    "vancour='''\n",
    "Vancouver is definitely one of my favorite cities in the world. I love how you can be in the city doing normal urban things one second and then, two minutes later, you’re out in the wilderness hiking beautiful mountains. Vancouver really does have the best of both worlds.\n",
    "\n",
    "From the art scene, food scene, microbrew, and markets on Granville Island, incredible urban parts to get lost in, and everything in between, Vancouver is a city you should devote lots of time to visiting. Don’t rush your visit. There are few places I’d live but Vancouver is one of them. The city is rich with history, awesome Japanese food, incredible music, parks, and high quality of life.'''"
   ]
  },
  {
   "cell_type": "code",
   "execution_count": 4,
   "metadata": {
    "ExecuteTime": {
     "end_time": "2021-04-14T09:18:26.582286Z",
     "start_time": "2021-04-14T09:18:26.551734Z"
    }
   },
   "outputs": [
    {
     "data": {
      "text/plain": [
       "str"
      ]
     },
     "execution_count": 4,
     "metadata": {},
     "output_type": "execute_result"
    }
   ],
   "source": [
    "type(vancour)"
   ]
  },
  {
   "cell_type": "code",
   "execution_count": 33,
   "metadata": {
    "ExecuteTime": {
     "end_time": "2021-04-14T09:36:44.852126Z",
     "start_time": "2021-04-14T09:36:44.844147Z"
    }
   },
   "outputs": [],
   "source": [
    "pattern=re.compile(r'ra')\n"
   ]
  },
  {
   "cell_type": "code",
   "execution_count": 34,
   "metadata": {
    "ExecuteTime": {
     "end_time": "2021-04-14T09:36:45.463445Z",
     "start_time": "2021-04-14T09:36:45.455465Z"
    }
   },
   "outputs": [],
   "source": [
    "matches=pattern.finditer(vancour)"
   ]
  },
  {
   "cell_type": "code",
   "execution_count": 35,
   "metadata": {
    "ExecuteTime": {
     "end_time": "2021-04-14T09:36:45.992555Z",
     "start_time": "2021-04-14T09:36:45.984555Z"
    }
   },
   "outputs": [
    {
     "name": "stdout",
     "output_type": "stream",
     "text": [
      "<re.Match object; span=(334, 336), match='ra'>\n"
     ]
    }
   ],
   "source": [
    "for i in matches:\n",
    "    print(i)"
   ]
  },
  {
   "cell_type": "code",
   "execution_count": 32,
   "metadata": {
    "ExecuteTime": {
     "end_time": "2021-04-14T09:36:39.584820Z",
     "start_time": "2021-04-14T09:36:39.568817Z"
    }
   },
   "outputs": [
    {
     "data": {
      "text/plain": [
       "'ra'"
      ]
     },
     "execution_count": 32,
     "metadata": {},
     "output_type": "execute_result"
    }
   ],
   "source": [
    "vancour[334:336]\n"
   ]
  },
  {
   "cell_type": "code",
   "execution_count": null,
   "metadata": {},
   "outputs": [],
   "source": [
    "\n"
   ]
  }
 ],
 "metadata": {
  "kernelspec": {
   "display_name": "Python 3",
   "language": "python",
   "name": "python3"
  },
  "language_info": {
   "codemirror_mode": {
    "name": "ipython",
    "version": 3
   },
   "file_extension": ".py",
   "mimetype": "text/x-python",
   "name": "python",
   "nbconvert_exporter": "python",
   "pygments_lexer": "ipython3",
   "version": "3.8.5"
  },
  "latex_envs": {
   "LaTeX_envs_menu_present": true,
   "autoclose": false,
   "autocomplete": true,
   "bibliofile": "biblio.bib",
   "cite_by": "apalike",
   "current_citInitial": 1,
   "eqLabelWithNumbers": true,
   "eqNumInitial": 1,
   "hotkeys": {
    "equation": "Ctrl-E",
    "itemize": "Ctrl-I"
   },
   "labels_anchors": false,
   "latex_user_defs": false,
   "report_style_numbering": false,
   "user_envs_cfg": false
  },
  "toc": {
   "base_numbering": 1,
   "nav_menu": {},
   "number_sections": true,
   "sideBar": true,
   "skip_h1_title": false,
   "title_cell": "Table of Contents",
   "title_sidebar": "Contents",
   "toc_cell": false,
   "toc_position": {},
   "toc_section_display": true,
   "toc_window_display": false
  }
 },
 "nbformat": 4,
 "nbformat_minor": 4
}
