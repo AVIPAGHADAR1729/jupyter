{
 "cells": [
  {
   "cell_type": "code",
   "execution_count": null,
   "metadata": {},
   "outputs": [],
   "source": []
  },
  {
   "cell_type": "code",
   "execution_count": 1,
   "metadata": {
    "ExecuteTime": {
     "end_time": "2020-11-18T07:48:38.812694Z",
     "start_time": "2020-11-18T07:48:38.789707Z"
    }
   },
   "outputs": [],
   "source": [
    "l1=[1,1,23]"
   ]
  },
  {
   "cell_type": "code",
   "execution_count": 7,
   "metadata": {
    "ExecuteTime": {
     "end_time": "2020-11-18T07:49:59.734410Z",
     "start_time": "2020-11-18T07:49:59.726417Z"
    }
   },
   "outputs": [
    {
     "name": "stdout",
     "output_type": "stream",
     "text": [
      "1\n",
      "1\n",
      "23\n"
     ]
    },
    {
     "data": {
      "text/plain": [
       "[None, None, None]"
      ]
     },
     "execution_count": 7,
     "metadata": {},
     "output_type": "execute_result"
    }
   ],
   "source": [
    "[print(i) for i in l1]"
   ]
  },
  {
   "cell_type": "code",
   "execution_count": 13,
   "metadata": {
    "ExecuteTime": {
     "end_time": "2020-05-30T05:31:11.347413Z",
     "start_time": "2020-05-30T05:31:11.332324Z"
    }
   },
   "outputs": [],
   "source": [
    "import os\n",
    "from twilio.rest import Client\n",
    "v = \"nikhil\""
   ]
  },
  {
   "cell_type": "markdown",
   "metadata": {},
   "source": []
  },
  {
   "cell_type": "code",
   "execution_count": 8,
   "metadata": {
    "ExecuteTime": {
     "end_time": "2020-05-30T05:29:13.444467Z",
     "start_time": "2020-05-30T05:29:13.437614Z"
    }
   },
   "outputs": [],
   "source": [
    "account_sid = \"AC0653208164ca570d4c955c85ecc7a32f\"\n",
    "auth_token = \"259ddfba2f453ce945a898f724f7602f\""
   ]
  },
  {
   "cell_type": "code",
   "execution_count": 9,
   "metadata": {
    "ExecuteTime": {
     "end_time": "2020-05-30T05:29:13.617147Z",
     "start_time": "2020-05-30T05:29:13.446600Z"
    }
   },
   "outputs": [],
   "source": [
    "client = Client(account_sid, auth_token)"
   ]
  },
  {
   "cell_type": "code",
   "execution_count": 10,
   "metadata": {
    "ExecuteTime": {
     "end_time": "2020-05-30T05:29:13.888048Z",
     "start_time": "2020-05-30T05:29:13.872416Z"
    }
   },
   "outputs": [],
   "source": [
    "fw = 'whatsapp:+918945342378'\n",
    "tw = 'whatsapp:+917096190887'"
   ]
  },
  {
   "cell_type": "code",
   "execution_count": 11,
   "metadata": {
    "ExecuteTime": {
     "end_time": "2020-05-30T05:29:18.134640Z",
     "start_time": "2020-05-30T05:29:14.561767Z"
    }
   },
   "outputs": [
    {
     "ename": "TwilioRestException",
     "evalue": "HTTP 400 error: Unable to create record: Twilio could not find a Channel with the specified From address",
     "output_type": "error",
     "traceback": [
      "\u001b[1;31m---------------------------------------------------------------------------\u001b[0m",
      "\u001b[1;31mTwilioRestException\u001b[0m                       Traceback (most recent call last)",
      "\u001b[1;32m<ipython-input-11-25e835a925d3>\u001b[0m in \u001b[0;36m<module>\u001b[1;34m\u001b[0m\n\u001b[1;32m----> 1\u001b[1;33m \u001b[0mclient\u001b[0m\u001b[1;33m.\u001b[0m\u001b[0mmessages\u001b[0m\u001b[1;33m.\u001b[0m\u001b[0mcreate\u001b[0m\u001b[1;33m(\u001b[0m\u001b[0mbody\u001b[0m\u001b[1;33m=\u001b[0m\u001b[1;34m\"hi,nikhil\"\u001b[0m\u001b[1;33m,\u001b[0m\u001b[0mfrom_\u001b[0m\u001b[1;33m=\u001b[0m\u001b[0mfw\u001b[0m\u001b[1;33m,\u001b[0m\u001b[0mto\u001b[0m\u001b[1;33m=\u001b[0m\u001b[0mtw\u001b[0m\u001b[1;33m)\u001b[0m\u001b[1;33m\u001b[0m\u001b[1;33m\u001b[0m\u001b[0m\n\u001b[0m",
      "\u001b[1;32m~\\anaconda3\\lib\\site-packages\\twilio\\rest\\api\\v2010\\account\\message\\__init__.py\u001b[0m in \u001b[0;36mcreate\u001b[1;34m(self, to, status_callback, application_sid, max_price, provide_feedback, attempt, validity_period, force_delivery, content_retention, address_retention, smart_encoded, persistent_action, from_, messaging_service_sid, body, media_url)\u001b[0m\n\u001b[0;32m     87\u001b[0m         })\n\u001b[0;32m     88\u001b[0m \u001b[1;33m\u001b[0m\u001b[0m\n\u001b[1;32m---> 89\u001b[1;33m         \u001b[0mpayload\u001b[0m \u001b[1;33m=\u001b[0m \u001b[0mself\u001b[0m\u001b[1;33m.\u001b[0m\u001b[0m_version\u001b[0m\u001b[1;33m.\u001b[0m\u001b[0mcreate\u001b[0m\u001b[1;33m(\u001b[0m\u001b[0mmethod\u001b[0m\u001b[1;33m=\u001b[0m\u001b[1;34m'POST'\u001b[0m\u001b[1;33m,\u001b[0m \u001b[0muri\u001b[0m\u001b[1;33m=\u001b[0m\u001b[0mself\u001b[0m\u001b[1;33m.\u001b[0m\u001b[0m_uri\u001b[0m\u001b[1;33m,\u001b[0m \u001b[0mdata\u001b[0m\u001b[1;33m=\u001b[0m\u001b[0mdata\u001b[0m\u001b[1;33m,\u001b[0m \u001b[1;33m)\u001b[0m\u001b[1;33m\u001b[0m\u001b[1;33m\u001b[0m\u001b[0m\n\u001b[0m\u001b[0;32m     90\u001b[0m \u001b[1;33m\u001b[0m\u001b[0m\n\u001b[0;32m     91\u001b[0m         \u001b[1;32mreturn\u001b[0m \u001b[0mMessageInstance\u001b[0m\u001b[1;33m(\u001b[0m\u001b[0mself\u001b[0m\u001b[1;33m.\u001b[0m\u001b[0m_version\u001b[0m\u001b[1;33m,\u001b[0m \u001b[0mpayload\u001b[0m\u001b[1;33m,\u001b[0m \u001b[0maccount_sid\u001b[0m\u001b[1;33m=\u001b[0m\u001b[0mself\u001b[0m\u001b[1;33m.\u001b[0m\u001b[0m_solution\u001b[0m\u001b[1;33m[\u001b[0m\u001b[1;34m'account_sid'\u001b[0m\u001b[1;33m]\u001b[0m\u001b[1;33m,\u001b[0m \u001b[1;33m)\u001b[0m\u001b[1;33m\u001b[0m\u001b[1;33m\u001b[0m\u001b[0m\n",
      "\u001b[1;32m~\\anaconda3\\lib\\site-packages\\twilio\\base\\version.py\u001b[0m in \u001b[0;36mcreate\u001b[1;34m(self, method, uri, params, data, headers, auth, timeout, allow_redirects)\u001b[0m\n\u001b[0;32m    208\u001b[0m \u001b[1;33m\u001b[0m\u001b[0m\n\u001b[0;32m    209\u001b[0m         \u001b[1;32mif\u001b[0m \u001b[0mresponse\u001b[0m\u001b[1;33m.\u001b[0m\u001b[0mstatus_code\u001b[0m \u001b[1;33m<\u001b[0m \u001b[1;36m200\u001b[0m \u001b[1;32mor\u001b[0m \u001b[0mresponse\u001b[0m\u001b[1;33m.\u001b[0m\u001b[0mstatus_code\u001b[0m \u001b[1;33m>=\u001b[0m \u001b[1;36m300\u001b[0m\u001b[1;33m:\u001b[0m\u001b[1;33m\u001b[0m\u001b[1;33m\u001b[0m\u001b[0m\n\u001b[1;32m--> 210\u001b[1;33m             \u001b[1;32mraise\u001b[0m \u001b[0mself\u001b[0m\u001b[1;33m.\u001b[0m\u001b[0mexception\u001b[0m\u001b[1;33m(\u001b[0m\u001b[0mmethod\u001b[0m\u001b[1;33m,\u001b[0m \u001b[0muri\u001b[0m\u001b[1;33m,\u001b[0m \u001b[0mresponse\u001b[0m\u001b[1;33m,\u001b[0m \u001b[1;34m'Unable to create record'\u001b[0m\u001b[1;33m)\u001b[0m\u001b[1;33m\u001b[0m\u001b[1;33m\u001b[0m\u001b[0m\n\u001b[0m\u001b[0;32m    211\u001b[0m \u001b[1;33m\u001b[0m\u001b[0m\n\u001b[0;32m    212\u001b[0m         \u001b[1;32mreturn\u001b[0m \u001b[0mjson\u001b[0m\u001b[1;33m.\u001b[0m\u001b[0mloads\u001b[0m\u001b[1;33m(\u001b[0m\u001b[0mresponse\u001b[0m\u001b[1;33m.\u001b[0m\u001b[0mtext\u001b[0m\u001b[1;33m)\u001b[0m\u001b[1;33m\u001b[0m\u001b[1;33m\u001b[0m\u001b[0m\n",
      "\u001b[1;31mTwilioRestException\u001b[0m: HTTP 400 error: Unable to create record: Twilio could not find a Channel with the specified From address"
     ]
    }
   ],
   "source": [
    "client.messages.create(body=\"hi,nikhil\", from_=fw, to=tw)"
   ]
  },
  {
   "cell_type": "code",
   "execution_count": null,
   "metadata": {
    "ExecuteTime": {
     "end_time": "2020-05-30T05:29:18.134640Z",
     "start_time": "2020-05-30T05:29:15.102Z"
    }
   },
   "outputs": [],
   "source": [
    "print(\"nikhil\")"
   ]
  },
  {
   "cell_type": "code",
   "execution_count": 12,
   "metadata": {
    "ExecuteTime": {
     "end_time": "2020-05-30T05:29:38.230334Z",
     "start_time": "2020-05-30T05:29:38.214843Z"
    }
   },
   "outputs": [],
   "source": [
    "l1 = [1, 2, 3, 4]"
   ]
  },
  {
   "cell_type": "code",
   "execution_count": 11,
   "metadata": {
    "ExecuteTime": {
     "end_time": "2020-07-31T03:54:46.806515Z",
     "start_time": "2020-07-31T03:54:46.786342Z"
    }
   },
   "outputs": [],
   "source": [
    "def fun(*boy):\n",
    "    print(boy[1])\n",
    "    "
   ]
  },
  {
   "cell_type": "code",
   "execution_count": 12,
   "metadata": {
    "ExecuteTime": {
     "end_time": "2020-07-31T03:54:47.406501Z",
     "start_time": "2020-07-31T03:54:47.386319Z"
    }
   },
   "outputs": [
    {
     "name": "stdout",
     "output_type": "stream",
     "text": [
      "sdf\n"
     ]
    }
   ],
   "source": [
    "fun(\"nikhil\",\"sdf\")"
   ]
  },
  {
   "cell_type": "code",
   "execution_count": 18,
   "metadata": {
    "ExecuteTime": {
     "end_time": "2020-07-31T03:57:49.665421Z",
     "start_time": "2020-07-31T03:57:49.635116Z"
    }
   },
   "outputs": [
    {
     "ename": "SyntaxError",
     "evalue": "invalid syntax (<ipython-input-18-78856991385b>, line 1)",
     "output_type": "error",
     "traceback": [
      "\u001b[1;36m  File \u001b[1;32m\"<ipython-input-18-78856991385b>\"\u001b[1;36m, line \u001b[1;32m1\u001b[0m\n\u001b[1;33m    def func_kwargs(**kwargs,arg):\u001b[0m\n\u001b[1;37m                               ^\u001b[0m\n\u001b[1;31mSyntaxError\u001b[0m\u001b[1;31m:\u001b[0m invalid syntax\n"
     ]
    }
   ],
   "source": [
    "def func_kwargs(**kwargs,arg):\n",
    "    print('kwargs: ', kwargs)\n",
    "    print('type: ', type(kwargs))\n",
    "\n",
    "func_kwargs(key1=4, key3=3,6)\n",
    "\n"
   ]
  },
  {
   "cell_type": "code",
   "execution_count": 19,
   "metadata": {
    "ExecuteTime": {
     "end_time": "2020-07-31T03:58:17.404936Z",
     "start_time": "2020-07-31T03:58:17.379710Z"
    }
   },
   "outputs": [
    {
     "name": "stdout",
     "output_type": "stream",
     "text": [
      "arg1:  0\n",
      "arg2:  1\n",
      "kwargs:  {'key1': 1}\n"
     ]
    }
   ],
   "source": [
    "def func_kwargs_positional(arg1, arg2, **kwargs):\n",
    "    print('arg1: ', arg1)\n",
    "    print('arg2: ', arg2)\n",
    "    print('kwargs: ', kwargs)\n",
    "\n",
    "func_kwargs_positional(0, 1, key1=1)"
   ]
  },
  {
   "cell_type": "code",
   "execution_count": 20,
   "metadata": {
    "ExecuteTime": {
     "end_time": "2020-07-31T04:36:35.785412Z",
     "start_time": "2020-07-31T04:36:35.555336Z"
    }
   },
   "outputs": [],
   "source": [
    "l1=[1,2,3]\n"
   ]
  },
  {
   "cell_type": "code",
   "execution_count": 23,
   "metadata": {
    "ExecuteTime": {
     "end_time": "2020-07-31T04:37:41.875175Z",
     "start_time": "2020-07-31T04:37:41.845244Z"
    }
   },
   "outputs": [],
   "source": [
    "l1.insert(1,5)"
   ]
  },
  {
   "cell_type": "code",
   "execution_count": 28,
   "metadata": {
    "ExecuteTime": {
     "end_time": "2020-07-31T04:38:35.744831Z",
     "start_time": "2020-07-31T04:38:35.724772Z"
    }
   },
   "outputs": [
    {
     "data": {
      "text/plain": [
       "3"
      ]
     },
     "execution_count": 28,
     "metadata": {},
     "output_type": "execute_result"
    }
   ],
   "source": [
    "l1.pop(2)\n",
    "\n"
   ]
  },
  {
   "cell_type": "code",
   "execution_count": 29,
   "metadata": {
    "ExecuteTime": {
     "end_time": "2020-07-31T04:38:37.394602Z",
     "start_time": "2020-07-31T04:38:37.364756Z"
    }
   },
   "outputs": [
    {
     "data": {
      "text/plain": [
       "[1, 5, 2]"
      ]
     },
     "execution_count": 29,
     "metadata": {},
     "output_type": "execute_result"
    }
   ],
   "source": [
    "l1"
   ]
  },
  {
   "cell_type": "code",
   "execution_count": 30,
   "metadata": {
    "ExecuteTime": {
     "end_time": "2020-07-31T04:38:54.394398Z",
     "start_time": "2020-07-31T04:38:54.384281Z"
    }
   },
   "outputs": [],
   "source": [
    "del l1[0]"
   ]
  },
  {
   "cell_type": "code",
   "execution_count": 31,
   "metadata": {
    "ExecuteTime": {
     "end_time": "2020-07-31T04:38:56.764418Z",
     "start_time": "2020-07-31T04:38:56.739341Z"
    }
   },
   "outputs": [
    {
     "data": {
      "text/plain": [
       "[5, 2]"
      ]
     },
     "execution_count": 31,
     "metadata": {},
     "output_type": "execute_result"
    }
   ],
   "source": [
    "l1"
   ]
  },
  {
   "cell_type": "code",
   "execution_count": 32,
   "metadata": {
    "ExecuteTime": {
     "end_time": "2020-07-31T04:39:09.614140Z",
     "start_time": "2020-07-31T04:39:09.584147Z"
    }
   },
   "outputs": [],
   "source": [
    "l1.remove(2)"
   ]
  },
  {
   "cell_type": "code",
   "execution_count": 33,
   "metadata": {
    "ExecuteTime": {
     "end_time": "2020-07-31T04:39:13.883999Z",
     "start_time": "2020-07-31T04:39:13.854168Z"
    }
   },
   "outputs": [
    {
     "data": {
      "text/plain": [
       "[5]"
      ]
     },
     "execution_count": 33,
     "metadata": {},
     "output_type": "execute_result"
    }
   ],
   "source": [
    "l1"
   ]
  },
  {
   "cell_type": "code",
   "execution_count": null,
   "metadata": {
    "ExecuteTime": {
     "end_time": "2020-07-31T04:49:20.094532Z",
     "start_time": "2020-07-31T04:49:20.068461Z"
    }
   },
   "outputs": [],
   "source": [
    "l1=[4,3,5,6,7]"
   ]
  },
  {
   "cell_type": "code",
   "execution_count": 41,
   "metadata": {
    "ExecuteTime": {
     "end_time": "2020-07-31T04:49:58.337648Z",
     "start_time": "2020-07-31T04:49:58.317640Z"
    }
   },
   "outputs": [
    {
     "data": {
      "text/plain": [
       "[3, 4, 5, 6, 7]"
      ]
     },
     "execution_count": 41,
     "metadata": {},
     "output_type": "execute_result"
    }
   ],
   "source": [
    "sorted(l1)"
   ]
  },
  {
   "cell_type": "code",
   "execution_count": 42,
   "metadata": {
    "ExecuteTime": {
     "end_time": "2020-07-31T04:50:11.697437Z",
     "start_time": "2020-07-31T04:50:11.667920Z"
    }
   },
   "outputs": [
    {
     "data": {
      "text/plain": [
       "[4, 3, 5, 6, 7]"
      ]
     },
     "execution_count": 42,
     "metadata": {},
     "output_type": "execute_result"
    }
   ],
   "source": [
    "l1"
   ]
  },
  {
   "cell_type": "code",
   "execution_count": 48,
   "metadata": {
    "ExecuteTime": {
     "end_time": "2020-07-31T05:03:55.779712Z",
     "start_time": "2020-07-31T05:03:55.759831Z"
    }
   },
   "outputs": [],
   "source": [
    "l2=l1.copy()"
   ]
  },
  {
   "cell_type": "code",
   "execution_count": 50,
   "metadata": {
    "ExecuteTime": {
     "end_time": "2020-07-31T05:04:04.749635Z",
     "start_time": "2020-07-31T05:04:04.734837Z"
    }
   },
   "outputs": [
    {
     "data": {
      "text/plain": [
       "([7, 6, 5, 4, 3], [7, 6, 5, 4, 3])"
      ]
     },
     "execution_count": 50,
     "metadata": {},
     "output_type": "execute_result"
    }
   ],
   "source": [
    "l2,l1"
   ]
  },
  {
   "cell_type": "code",
   "execution_count": 51,
   "metadata": {
    "ExecuteTime": {
     "end_time": "2020-07-31T05:04:13.169979Z",
     "start_time": "2020-07-31T05:04:13.149562Z"
    }
   },
   "outputs": [],
   "source": []
  },
  {
   "cell_type": "code",
   "execution_count": 52,
   "metadata": {
    "ExecuteTime": {
     "end_time": "2020-07-31T05:04:16.489466Z",
     "start_time": "2020-07-31T05:04:16.454715Z"
    }
   },
   "outputs": [
    {
     "data": {
      "text/plain": [
       "[7, 6, 5, 4, 3]"
      ]
     },
     "execution_count": 52,
     "metadata": {},
     "output_type": "execute_result"
    }
   ],
   "source": [
    "l2"
   ]
  },
  {
   "cell_type": "code",
   "execution_count": 53,
   "metadata": {
    "ExecuteTime": {
     "end_time": "2020-07-31T05:04:19.344727Z",
     "start_time": "2020-07-31T05:04:19.329485Z"
    }
   },
   "outputs": [
    {
     "data": {
      "text/plain": [
       "[7, 6, 5, 4]"
      ]
     },
     "execution_count": 53,
     "metadata": {},
     "output_type": "execute_result"
    }
   ],
   "source": [
    "l1"
   ]
  },
  {
   "cell_type": "code",
   "execution_count": 54,
   "metadata": {
    "ExecuteTime": {
     "end_time": "2020-07-31T05:12:44.075141Z",
     "start_time": "2020-07-31T05:12:44.060515Z"
    }
   },
   "outputs": [],
   "source": [
    "l1=(3,4,5)"
   ]
  },
  {
   "cell_type": "code",
   "execution_count": 55,
   "metadata": {
    "ExecuteTime": {
     "end_time": "2020-07-31T05:12:47.375336Z",
     "start_time": "2020-07-31T05:12:47.275170Z"
    }
   },
   "outputs": [
    {
     "data": {
      "text/plain": [
       "3"
      ]
     },
     "execution_count": 55,
     "metadata": {},
     "output_type": "execute_result"
    }
   ],
   "source": [
    "l1[0]"
   ]
  },
  {
   "cell_type": "code",
   "execution_count": 56,
   "metadata": {
    "ExecuteTime": {
     "end_time": "2020-07-31T05:12:54.275198Z",
     "start_time": "2020-07-31T05:12:53.819805Z"
    }
   },
   "outputs": [
    {
     "ename": "TypeError",
     "evalue": "'tuple' object does not support item assignment",
     "output_type": "error",
     "traceback": [
      "\u001b[1;31m---------------------------------------------------------------------------\u001b[0m",
      "\u001b[1;31mTypeError\u001b[0m                                 Traceback (most recent call last)",
      "\u001b[1;32m<ipython-input-56-f8b216f3e9e9>\u001b[0m in \u001b[0;36m<module>\u001b[1;34m\u001b[0m\n\u001b[1;32m----> 1\u001b[1;33m \u001b[0ml1\u001b[0m\u001b[1;33m[\u001b[0m\u001b[1;36m0\u001b[0m\u001b[1;33m]\u001b[0m\u001b[1;33m=\u001b[0m\u001b[1;36m8\u001b[0m\u001b[1;33m\u001b[0m\u001b[1;33m\u001b[0m\u001b[0m\n\u001b[0m",
      "\u001b[1;31mTypeError\u001b[0m: 'tuple' object does not support item assignment"
     ]
    }
   ],
   "source": [
    "l1[0]=8"
   ]
  },
  {
   "cell_type": "code",
   "execution_count": 63,
   "metadata": {
    "ExecuteTime": {
     "end_time": "2020-07-31T05:18:42.073019Z",
     "start_time": "2020-07-31T05:18:42.063381Z"
    }
   },
   "outputs": [],
   "source": [
    "\n",
    "dic1={\"nik\":1,\"hji\":2}"
   ]
  },
  {
   "cell_type": "code",
   "execution_count": 71,
   "metadata": {
    "ExecuteTime": {
     "end_time": "2020-07-31T05:19:40.342442Z",
     "start_time": "2020-07-31T05:19:40.322514Z"
    }
   },
   "outputs": [],
   "source": [
    "dic1.update({\"jio\":5})"
   ]
  },
  {
   "cell_type": "code",
   "execution_count": 72,
   "metadata": {
    "ExecuteTime": {
     "end_time": "2020-07-31T05:19:40.797773Z",
     "start_time": "2020-07-31T05:19:40.782677Z"
    }
   },
   "outputs": [
    {
     "data": {
      "text/plain": [
       "{'nik': 2, 'hji': 2, 'vio': 3, 'jio': 5}"
      ]
     },
     "execution_count": 72,
     "metadata": {},
     "output_type": "execute_result"
    }
   ],
   "source": [
    "dic1"
   ]
  },
  {
   "cell_type": "code",
   "execution_count": 73,
   "metadata": {
    "ExecuteTime": {
     "end_time": "2020-07-31T05:24:04.420785Z",
     "start_time": "2020-07-31T05:24:04.380690Z"
    }
   },
   "outputs": [],
   "source": [
    "set1={3,41,23}"
   ]
  },
  {
   "cell_type": "code",
   "execution_count": 76,
   "metadata": {
    "ExecuteTime": {
     "end_time": "2020-07-31T05:24:49.090638Z",
     "start_time": "2020-07-31T05:24:49.073015Z"
    }
   },
   "outputs": [],
   "source": [
    "set2={78,45,23}\n",
    "set3={49,12,45}"
   ]
  },
  {
   "cell_type": "code",
   "execution_count": 78,
   "metadata": {
    "ExecuteTime": {
     "end_time": "2020-07-31T05:25:00.625474Z",
     "start_time": "2020-07-31T05:25:00.610190Z"
    }
   },
   "outputs": [
    {
     "data": {
      "text/plain": [
       "False"
      ]
     },
     "execution_count": 78,
     "metadata": {},
     "output_type": "execute_result"
    }
   ],
   "source": [
    "set1.isdisjoint(set2)"
   ]
  },
  {
   "cell_type": "code",
   "execution_count": 81,
   "metadata": {
    "ExecuteTime": {
     "end_time": "2020-07-31T05:26:20.959751Z",
     "start_time": "2020-07-31T05:26:20.939622Z"
    }
   },
   "outputs": [
    {
     "data": {
      "text/plain": [
       "{3, 23, 41, 45, 78}"
      ]
     },
     "execution_count": 81,
     "metadata": {},
     "output_type": "execute_result"
    }
   ],
   "source": [
    "set1.union(s2)"
   ]
  },
  {
   "cell_type": "code",
   "execution_count": 82,
   "metadata": {
    "ExecuteTime": {
     "end_time": "2020-07-31T05:26:32.974562Z",
     "start_time": "2020-07-31T05:26:32.959436Z"
    }
   },
   "outputs": [
    {
     "data": {
      "text/plain": [
       "{3, 23, 41}"
      ]
     },
     "execution_count": 82,
     "metadata": {},
     "output_type": "execute_result"
    }
   ],
   "source": [
    "set1"
   ]
  },
  {
   "cell_type": "code",
   "execution_count": 84,
   "metadata": {
    "ExecuteTime": {
     "end_time": "2020-07-31T05:28:14.548539Z",
     "start_time": "2020-07-31T05:28:14.518688Z"
    }
   },
   "outputs": [],
   "source": [
    "set1.symmetric_difference_update(set2)"
   ]
  },
  {
   "cell_type": "code",
   "execution_count": 85,
   "metadata": {
    "ExecuteTime": {
     "end_time": "2020-07-31T05:28:18.578522Z",
     "start_time": "2020-07-31T05:28:18.548700Z"
    }
   },
   "outputs": [
    {
     "data": {
      "text/plain": [
       "{3, 41, 45, 78}"
      ]
     },
     "execution_count": 85,
     "metadata": {},
     "output_type": "execute_result"
    }
   ],
   "source": [
    "set1"
   ]
  },
  {
   "cell_type": "code",
   "execution_count": 38,
   "metadata": {
    "ExecuteTime": {
     "end_time": "2020-08-12T06:24:46.140237Z",
     "start_time": "2020-08-12T06:24:21.759626Z"
    }
   },
   "outputs": [
    {
     "name": "stdout",
     "output_type": "stream",
     "text": [
      "1\n",
      "4\n",
      "lrbbmqb cd r owkk\n",
      "lrbbmqbabowkkab\n",
      "['lrbbmqb', 'cd', 'r', 'owkk']\n",
      "[0]\n",
      "[0, 1]\n",
      "[0, 1, 9]\n",
      "1\n"
     ]
    }
   ],
   "source": [
    "T=int(input())\n",
    "Test_Case_word=[]\n",
    "l1=[]\n",
    "for i in range(T):\n",
    "    Z=int(input())\n",
    "    word_list=input()\n",
    "    sub1=input()\n",
    "    word_list=list(word_list.split(\" \"))\n",
    "    print(word_list)\n",
    "    x = 1\n",
    "    l1 = []\n",
    "    for i in range(Z):\n",
    "        inde = sub1.find(word_list[i])\n",
    "        if inde != -1:\n",
    "            if(len(l1) != 0 and inde < l1[-1]):\n",
    "                x = 0\n",
    "                break\n",
    "            else:\n",
    "                \n",
    "                l1.append(inde)\n",
    "                print(l1)\n",
    "               \n",
    "    if(x == 0):\n",
    "        print(0)\n",
    "    else:\n",
    "        print(1)\n",
    "        x=0\n",
    "  \n",
    "    "
   ]
  },
  {
   "cell_type": "code",
   "execution_count": null,
   "metadata": {
    "ExecuteTime": {
     "end_time": "2020-08-12T05:47:43.981617Z",
     "start_time": "2020-08-12T05:47:43.945641Z"
    }
   },
   "outputs": [],
   "source": [
    "2\n",
    "4\n",
    "lrbbmqb cd r owkk\n",
    "lrbbmqbabowkkab\n",
    "1\n",
    "10\n",
    "scd rjmowfrx jybldbe sarcbyne dyggxxp lorel nmpa qfwkho kmcoqhnw kuewhsqmgb\n",
    "dyggxxp"
   ]
  },
  {
   "cell_type": "code",
   "execution_count": 43,
   "metadata": {
    "ExecuteTime": {
     "end_time": "2020-08-12T08:28:39.633551Z",
     "start_time": "2020-08-12T08:28:21.450088Z"
    },
    "scrolled": false
   },
   "outputs": [
    {
     "name": "stdout",
     "output_type": "stream",
     "text": [
      "1\n",
      "10\n",
      "mlnozjk qp rjxkitzyxa bhhki q oendtomfg wdwf gpxiq kuytdlcgde htaciohor\n",
      "mlnozjkkuytdlcgde\n",
      "[6, 16]\n",
      "[6, 16]\n",
      "1\n"
     ]
    }
   ],
   "source": [
    "T=int(input())\n",
    "Test_Case_word=[]\n",
    "l1=[]\n",
    "for i in range(T):\n",
    "    Z=int(input())\n",
    "    word_list=input()\n",
    "    sub1=input()\n",
    "    word_list=list(word_list.split(\" \"))\n",
    "    \n",
    "    x = 1\n",
    "    my_dict={}\n",
    "    for i in range(Z):\n",
    "        inde = sub1.find(word_list[i])\n",
    "        if(inde!=-1):\n",
    "            my_dict[word_list[i]]=inde+len(word_list[i])-1\n",
    "        \n",
    "    l1=list(my_dict.values())\n",
    "    print(l1)\n",
    "    \n",
    "    print(sorted(l1))\n",
    "    \n",
    "    if(l1 ==sorted(l1)):\n",
    "        print(1)\n",
    "    else:\n",
    "        print(0)"
   ]
  },
  {
   "cell_type": "code",
   "execution_count": null,
   "metadata": {},
   "outputs": [],
   "source": [
    "n=int(input())\n",
    "for _ in range(n):\n",
    "    length=int(input())\n",
    "    dic=input().split()\n",
    "    s=input()\n",
    "    l,fl='',''\n",
    "    for i in s:\n",
    "        l+=i\n",
    "        if l in dic:\n",
    "            fl+=l\n",
    "            l=''\n",
    "    if len(fl)==len(s):\n",
    "        print(1)\n",
    "    else:\n",
    "        print(1)\n"
   ]
  }
 ],
 "metadata": {
  "kernelspec": {
   "display_name": "Python 3",
   "language": "python",
   "name": "python3"
  },
  "language_info": {
   "codemirror_mode": {
    "name": "ipython",
    "version": 3
   },
   "file_extension": ".py",
   "mimetype": "text/x-python",
   "name": "python",
   "nbconvert_exporter": "python",
   "pygments_lexer": "ipython3",
   "version": "3.7.9"
  },
  "toc": {
   "base_numbering": 1,
   "nav_menu": {},
   "number_sections": true,
   "sideBar": true,
   "skip_h1_title": true,
   "title_cell": "Table of Contents",
   "title_sidebar": "Contents",
   "toc_cell": false,
   "toc_position": {
    "height": "446px",
    "left": "537px",
    "top": "111.133px",
    "width": "172px"
   },
   "toc_section_display": true,
   "toc_window_display": false
  }
 },
 "nbformat": 4,
 "nbformat_minor": 4
}
