{
 "cells": [
  {
   "cell_type": "code",
   "execution_count": 51,
   "id": "opened-serve",
   "metadata": {
    "ExecuteTime": {
     "end_time": "2021-02-01T19:08:51.170503Z",
     "start_time": "2021-02-01T19:08:14.425437Z"
    }
   },
   "outputs": [
    {
     "data": {
      "text/plain": [
       "<selenium.webdriver.remote.webelement.WebElement (session=\"2b7b4cd43219c58e64113c359c36ba24\", element=\"fbe1de62-5e60-4a05-915e-b7af40d03cfa\")>"
      ]
     },
     "execution_count": 51,
     "metadata": {},
     "output_type": "execute_result"
    }
   ],
   "source": [
    "import time\n",
    "from selenium import webdriver\n",
    "from selenium import webdriver\n",
    "from lxml import etree\n",
    "import lxml.html\n",
    "from selenium.webdriver.chrome.service import Service\n",
    "import requests\n",
    "\n",
    "response = requests.get('https://curiositystream.com/login')\n",
    "\n",
    "tree = lxml.html.fromstring(response.text)\n",
    "\n",
    "service = Service('chromedriver')\n",
    "service.start()\n",
    "\n",
    "driver = webdriver.Remote(service.service_url)\n",
    "driver.get('https://curiositystream.com/login');\n",
    "import time\n",
    "time.sleep(30)\n",
    "username = driver.find_element_by_xpath('/html/body/div[1]/div/div[2]/div/div[1]/form/div[1]/input')\n",
    "username.send_keys('adrift1969@hotmail.com')\n",
    "password=driver.find_element_by_xpath('/html/body/div[1]/div/div[2]/div/div[1]/form/div[2]/div/input')\n",
    "password.send_keys('Melissa0468')\n",
    "# driver.find_element_by_name(\"q\").send_keys(\"javatpoint\")  \n",
    "# time.sleep(5) # Let the user actually see something!\n",
    "# driver.find_element_by_name(\"btnK\").send_keys(Keys.ENTER)  \n",
    "# driver.quit()\n",
    "btn=driver.find_element_by_xpath('/html/body/div[1]/div/div[2]/div/div[1]/form/div[4]/button')\n",
    "btn.click()\n",
    "\n",
    "# fill_form=x.find_element_by_id(\"login-email\")\n",
    "username"
   ]
  },
  {
   "cell_type": "code",
   "execution_count": null,
   "id": "discrete-microwave",
   "metadata": {},
   "outputs": [],
   "source": []
  },
  {
   "cell_type": "code",
   "execution_count": 31,
   "id": "cleared-coach",
   "metadata": {
    "ExecuteTime": {
     "end_time": "2021-02-01T18:42:41.575507Z",
     "start_time": "2021-02-01T18:42:40.320193Z"
    }
   },
   "outputs": [
    {
     "name": "stdout",
     "output_type": "stream",
     "text": [
      "<!doctype html><html lang=\"en\"><head><meta charset=\"utf-8\"/><meta name=\"viewport\" content=\"width=device-width,initial-scale=1,minimum-scale=1,maximum-scale=1\"/><meta name=\"fragment\" content=\"!\"/><meta name=\"twitter:card\" content=\"summary\"/><meta name=\"twitter:site\" content=\"@CuriosityStream\"/><meta name=\"twitter:creator\" content=\"@CuriosityStream\"/><meta property=\"fb:app_id\" content=\"1501924433435139\"/><meta name=\"p:domain_verify\" content=\"b3e6e9490387d4cbc11a0d86ff81de8c\"/><meta name=\"apple-itunes-app\" content=\"app-id=971830624\"/><meta name=\"apple-mobile-web-app-capable\" content=\"yes\"/><meta name=\"p:domain_verify\" content=\"b3e6e9490387d4cbc11a0d86ff81de8c\"/><script src=\"https://www.google.com/recaptcha/api.js?render=explicit\" async defer=\"defer\"></script><script data-ad-client=\"ca-pub-4459824862908155\" async src=\"https://pagead2.googlesyndication.com/pagead/js/adsbygoogle.js\"></script><script>// Queue experiments until app is loaded and can flush the queue\n",
      "      window.experimentsQueue = []; // Array of experiment ids\n",
      "\n",
      "      // Placeholders\n",
      "      window.enableExperiment = experimentId =>\n",
      "        experimentsQueue.push(experimentId);\n",
      "      window.setExperimentData = data => (window.experimentData = data);</script><script>!function(e,a,t,n,c,g,o){e.GoogleAnalyticsObject=c,e.ga=e.ga||function(){(e.ga.q=e.ga.q||[]).push(arguments)},e.ga.l=1*new Date,g=a.createElement(t),o=a.getElementsByTagName(t)[0],g.async=1,g.src=\"https://www.google-analytics.com/analytics.js\",o.parentNode.insertBefore(g,o)}(window,document,\"script\",0,\"ga\"),ga(\"create\",\"UA-58402650-1\",\"auto\"),ga(\"require\",\"GTM-MHSQCLT\")</script><link rel=\"preload\" href=\"https://fonts.googleapis.com/css?family=Roboto:400,400i,700,700i\" as=\"font\"/><link rel=\"apple-touch-icon\" sizes=\"180x180\" href=\"/static/media/apple-touch-icon.png\"/><link rel=\"icon\" type=\"image/png\" href=\"/favicon-32x32.png\" sizes=\"32x32\"/><link rel=\"icon\" type=\"image/png\" href=\"/favicon-16x16.png\" sizes=\"16x16\"/><link rel=\"manifest\" href=\"/manifest.json\"/><link rel=\"search\" type=\"application/opensearchdescription+xml\" title=\"CuriosityStream\" href=\"/opensearch.xml\"/><link rel=\"mask-icon\" href=\"/safari-pinned-tab.svg\" color=\"#fbbd4c\"/><meta name=\"theme-color\" content=\"#161E37\"/><script>dataLayer=[]</script><script>var _urconfig={sid:\"dfdb09c3-e50a-4787-880f-2ac65b952c86\",aip:0,usePageProtocol:!1};!function(e,t){var a=e.createElement(t),c=e.getElementsByTagName(t)[0];a.src=\"https://hit.uptrendsdata.com/rum.min.js\",a.async=\"async\",c.parentNode.insertBefore(a,c)}(document,\"script\")</script><script>!function(e,o,s,a,t,n,c){e[t]||(e.GlobalSnowplowNamespace=e.GlobalSnowplowNamespace||[],e.GlobalSnowplowNamespace.push(t),e[t]=function(){(e[t].q=e[t].q||[]).push(arguments)},e[t].q=e[t].q||[],n=o.createElement(s),c=o.getElementsByTagName(s)[0],n.async=1,n.src=\"//cdn.jsdelivr.net/gh/snowplow/sp-js-assets@2.10.0/sp.js\",c.parentNode.insertBefore(n,c))}(window,document,\"script\",0,\"snowplow\"),window.snowplow(\"newTracker\",\"cf\",\"sp.curiositystream.com\",{appId:\"web-app\",bufferSize:10,maxPostBytes:5e4,maxLocalStorageQueueSize:5e4,eventMethod:\"post\",useLocalStorage:!0,namespace:\"curiositystream.com\",sessionCookieTimeout:8100,cookieDomain:\".curiositystream.com\"})</script><script async=\"async\" src=\"https://recirculation.spot.im/spot/sp_0cA1kmrk\"/><style>.async-hide{opacity:0!important}</style><script>!function(e,n,a,c,t,d,s,i,l){n.className+=\" \"+a,d.end=s=function(){n.className=n.className.replace(RegExp(\" ?\"+a),\"\")},(e[c]=e[c]||[]).hide=d,setTimeout(function(){s(),d.end=null},4e3)}(window,document.documentElement,\"async-hide\",\"dataLayer\",0,{\"GTM-NLPQ3G\":!0})</script><script>!function(e,t,a,n,g){e[n]=e[n]||[],e[n].push({\"gtm.start\":(new Date).getTime(),event:\"gtm.js\"});var m=t.getElementsByTagName(a)[0],r=t.createElement(a);r.async=!0,r.src=\"//www.googletagmanager.com/gtm.js?id=GTM-NLPQ3G\",m.parentNode.insertBefore(r,m)}(window,document,\"script\",\"dataLayer\")</script></head><body class=\"hide-help\"><div id=\"root\"></div><div id=\"portal\"></div><script type=\"text/javascript\" src=\"https://js.stripe.com/v3/\"></script><script>!function(t,h,e,j,s,n){t.hj=t.hj||function(){(t.hj.q=t.hj.q||[]).push(arguments)},t._hjSettings={hjid:271876,hjsv:6},s=h.getElementsByTagName(\"head\")[0],(n=h.createElement(\"script\")).async=1,n.src=\"https://static.hotjar.com/c/hotjar-\"+t._hjSettings.hjid+\".js?sv=\"+t._hjSettings.hjsv,s.appendChild(n)}(window,document)</script><script src=\"https://player.vimeo.com/api/player.js\" async></script><img src=\"https://assets.myadmessenger.com/onepixel.gif?source=A4&campaign=Curiosity_Stream_Sep_19\"/><script type=\"text/javascript\" src=\"https://unpkg.com/@umds/object-assign@4.1.1-beta.24/object-assign.min.js\"></script><script type=\"text/javascript\" src=\"https://unpkg.com/react@16.13.1/umd/react.production.min.js\"></script><script type=\"text/javascript\" src=\"https://unpkg.com/react-dom@16.13.1/umd/react-dom.production.min.js\"></script><script type=\"text/javascript\" src=\"https://unpkg.com/redux@4.0.5/dist/redux.min.js\"></script><script type=\"text/javascript\" src=\"https://unpkg.com/react-redux@7.2.0/dist/react-redux.min.js\"></script><script type=\"text/javascript\" src=\"https://unpkg.com/history@4.10.1/umd/history.min.js\"></script><script type=\"text/javascript\" src=\"https://unpkg.com/prop-types@15.7.2/prop-types.min.js\"></script><script type=\"text/javascript\" src=\"https://unpkg.com/react-router@5.1.2/umd/react-router.min.js\"></script><script type=\"text/javascript\" src=\"https://unpkg.com/lodash@4.17.19/lodash.min.js\"></script><script type=\"text/javascript\" src=\"https://unpkg.com/axios@0.19.2/dist/axios.min.js\"></script><script type=\"text/javascript\" src=\"https://unpkg.com/react-side-effect@1.2.0/lib/index.umd.min.js\"></script><script type=\"text/javascript\" src=\"https://unpkg.com/react-lifecycles-compat@3.0.4/react-lifecycles-compat.min.js\"></script><script type=\"text/javascript\" src=\"/static/js/main.933ea9a3.js\"></script><script type=\"text/javascript\" src=\"/static/js/vendors~main.a38ebe15.chunk.js\"></script></body></html>\n"
     ]
    }
   ],
   "source": [
    "import requests\n",
    "\n",
    "response = requests.get('https://curiositystream.com/login')\n",
    "print(response.text)"
   ]
  },
  {
   "cell_type": "code",
   "execution_count": null,
   "id": "engaged-correction",
   "metadata": {},
   "outputs": [],
   "source": []
  }
 ],
 "metadata": {
  "kernelspec": {
   "display_name": "Python 3",
   "language": "python",
   "name": "python3"
  },
  "language_info": {
   "codemirror_mode": {
    "name": "ipython",
    "version": 3
   },
   "file_extension": ".py",
   "mimetype": "text/x-python",
   "name": "python",
   "nbconvert_exporter": "python",
   "pygments_lexer": "ipython3",
   "version": "3.7.9"
  },
  "toc": {
   "base_numbering": 1,
   "nav_menu": {},
   "number_sections": true,
   "sideBar": true,
   "skip_h1_title": false,
   "title_cell": "Table of Contents",
   "title_sidebar": "Contents",
   "toc_cell": false,
   "toc_position": {},
   "toc_section_display": true,
   "toc_window_display": false
  }
 },
 "nbformat": 4,
 "nbformat_minor": 5
}
