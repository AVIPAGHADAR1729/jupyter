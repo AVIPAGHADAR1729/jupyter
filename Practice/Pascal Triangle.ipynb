{
 "cells": [
  {
   "cell_type": "code",
   "execution_count": 15,
   "metadata": {
    "ExecuteTime": {
     "end_time": "2020-09-16T12:29:24.484665Z",
     "start_time": "2020-09-16T12:29:24.469499Z"
    }
   },
   "outputs": [],
   "source": [
    "def facto(n):\n",
    "    if(n==1 or n==0):\n",
    "        return 1 \n",
    "    \n",
    "    else:\n",
    "        return n*facto(n-1)\n",
    "        "
   ]
  },
  {
   "cell_type": "code",
   "execution_count": 16,
   "metadata": {
    "ExecuteTime": {
     "end_time": "2020-09-16T12:29:24.904497Z",
     "start_time": "2020-09-16T12:29:24.884162Z"
    }
   },
   "outputs": [],
   "source": [
    "def selection(n,k):\n",
    "        return facto(n) // (facto(n-k) * facto(k))"
   ]
  },
  {
   "cell_type": "code",
   "execution_count": 102,
   "metadata": {
    "ExecuteTime": {
     "end_time": "2020-09-16T12:57:16.624217Z",
     "start_time": "2020-09-16T12:57:16.594025Z"
    }
   },
   "outputs": [],
   "source": [
    "def Pascal_Triangle(n):\n",
    "    for j in range(n):\n",
    "        print(\"  \"*(n-j-1),end=\"\")\n",
    "        for i in range(j+1):\n",
    "            print((selection(j,i)),end=\" \")\n",
    "            print(\" \"*(n-j-1),end=\" \")\n",
    "        print()"
   ]
  },
  {
   "cell_type": "code",
   "execution_count": 103,
   "metadata": {
    "ExecuteTime": {
     "end_time": "2020-09-16T12:57:17.059120Z",
     "start_time": "2020-09-16T12:57:17.033968Z"
    }
   },
   "outputs": [
    {
     "name": "stdout",
     "output_type": "stream",
     "text": [
      "                  1           \n",
      "                1          1          \n",
      "              1         2         1         \n",
      "            1        3        3        1        \n",
      "          1       4       6       4       1       \n",
      "        1      5      10      10      5      1      \n",
      "      1     6     15     20     15     6     1     \n",
      "    1    7    21    35    35    21    7    1    \n",
      "  1   8   28   56   70   56   28   8   1   \n",
      "1  9  36  84  126  126  84  36  9  1  \n"
     ]
    }
   ],
   "source": [
    "Pascal_Triangle(10)"
   ]
  },
  {
   "cell_type": "code",
   "execution_count": null,
   "metadata": {},
   "outputs": [],
   "source": []
  },
  {
   "cell_type": "code",
   "execution_count": null,
   "metadata": {},
   "outputs": [],
   "source": []
  }
 ],
 "metadata": {
  "kernelspec": {
   "display_name": "Python 3",
   "language": "python",
   "name": "python3"
  },
  "language_info": {
   "codemirror_mode": {
    "name": "ipython",
    "version": 3
   },
   "file_extension": ".py",
   "mimetype": "text/x-python",
   "name": "python",
   "nbconvert_exporter": "python",
   "pygments_lexer": "ipython3",
   "version": "3.7.6"
  },
  "toc": {
   "base_numbering": 1,
   "nav_menu": {},
   "number_sections": true,
   "sideBar": true,
   "skip_h1_title": false,
   "title_cell": "Table of Contents",
   "title_sidebar": "Contents",
   "toc_cell": false,
   "toc_position": {},
   "toc_section_display": true,
   "toc_window_display": false
  }
 },
 "nbformat": 4,
 "nbformat_minor": 4
}
