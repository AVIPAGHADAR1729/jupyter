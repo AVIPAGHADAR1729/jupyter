{
 "cells": [
  {
   "cell_type": "code",
   "execution_count": 6,
   "metadata": {
    "ExecuteTime": {
     "end_time": "2020-10-21T15:32:54.190788Z",
     "start_time": "2020-10-21T15:32:54.174809Z"
    }
   },
   "outputs": [],
   "source": [
    "def fun(N):\n",
    "    for x in range(2,int(N**0.5)+1):\n",
    "        if N%x==0:\n",
    "            return [x]+fun(N//x)\n",
    "            \n",
    "\n",
    "    return [N]"
   ]
  },
  {
   "cell_type": "code",
   "execution_count": 41,
   "metadata": {
    "ExecuteTime": {
     "end_time": "2020-10-21T16:52:27.815831Z",
     "start_time": "2020-10-21T16:52:27.804837Z"
    }
   },
   "outputs": [
    {
     "name": "stdout",
     "output_type": "stream",
     "text": [
      "False\n"
     ]
    }
   ],
   "source": [
    "from functools import reduce\n",
    "\n",
    "def IsPrime(N):\n",
    "\n",
    "    for a in range(2,int(N**0.5)):\n",
    "        if N%a==0 :\n",
    "            return False\n",
    "    \n",
    "    return True\n",
    "\n",
    "print(IsPrime(36))"
   ]
  },
  {
   "cell_type": "code",
   "execution_count": 15,
   "metadata": {
    "ExecuteTime": {
     "end_time": "2020-10-21T16:06:13.268239Z",
     "start_time": "2020-10-21T16:06:11.245030Z"
    }
   },
   "outputs": [
    {
     "name": "stdout",
     "output_type": "stream",
     "text": [
      "36\n",
      "{2: 2, 3: 2}\n",
      "[2, 6]\n",
      "12\n"
     ]
    }
   ],
   "source": [
    "def f(dt):\n",
    "    #print(dt)\n",
    "    print([ a**dt[a]-a**(dt[a]-1) for a in dt])\n",
    "    return ([ a**dt[a]-a**(dt[a]-1) for a in dt])\n",
    "\n",
    "\n",
    "#f({'a':1,'b':3,'c':1})\n",
    "#f({7:2,2:2})\n",
    "\n",
    "def phi(N):\n",
    "\n",
    "    if len(fun(N))==1 :\n",
    "        if N==1:\n",
    "            return 0\n",
    "        elif IsPrime(N):\n",
    "            return N-1\n",
    "    else:\n",
    "        A={}\n",
    "        l1=fun(N)\n",
    "        for a in l1:\n",
    "            A[a]=l1.count(a)\n",
    "        print(A)\n",
    "        #print(reduce(lambda x,y: x*y,f(A)))\n",
    "        return reduce(lambda x,y: x*y,f(A))\n",
    "        \n",
    "        \n",
    "\n",
    "inp=int(input())\n",
    "print(phi(inp))\n",
    "  "
   ]
  },
  {
   "cell_type": "code",
   "execution_count": 38,
   "metadata": {
    "ExecuteTime": {
     "end_time": "2020-10-21T16:50:05.907307Z",
     "start_time": "2020-10-21T16:50:05.897317Z"
    }
   },
   "outputs": [
    {
     "data": {
      "text/plain": [
       "True"
      ]
     },
     "execution_count": 38,
     "metadata": {},
     "output_type": "execute_result"
    }
   ],
   "source": [
    "IsPrime(36)"
   ]
  },
  {
   "cell_type": "code",
   "execution_count": 11,
   "metadata": {
    "ExecuteTime": {
     "end_time": "2020-10-21T15:50:02.813523Z",
     "start_time": "2020-10-21T15:50:02.787750Z"
    }
   },
   "outputs": [
    {
     "data": {
      "text/plain": [
       "[2, 2, 3]"
      ]
     },
     "execution_count": 11,
     "metadata": {},
     "output_type": "execute_result"
    }
   ],
   "source": [
    "fun(12)"
   ]
  },
  {
   "cell_type": "code",
   "execution_count": null,
   "metadata": {},
   "outputs": [],
   "source": []
  },
  {
   "cell_type": "code",
   "execution_count": null,
   "metadata": {},
   "outputs": [],
   "source": []
  },
  {
   "cell_type": "code",
   "execution_count": null,
   "metadata": {},
   "outputs": [],
   "source": []
  },
  {
   "cell_type": "code",
   "execution_count": null,
   "metadata": {},
   "outputs": [],
   "source": []
  },
  {
   "cell_type": "code",
   "execution_count": null,
   "metadata": {},
   "outputs": [],
   "source": []
  },
  {
   "cell_type": "markdown",
   "metadata": {},
   "source": [
    "<b> GCD method through phi </b>"
   ]
  },
  {
   "cell_type": "code",
   "execution_count": null,
   "metadata": {},
   "outputs": [],
   "source": [
    "def IsPrime(N):\n",
    "\n",
    "    for a in range(2,int(N**0.5)):\n",
    "        if N%a==0 :\n",
    "            return False\n",
    "    \n",
    "    return True\n",
    "\n",
    "print(IsPrime(36))"
   ]
  },
  {
   "cell_type": "code",
   "execution_count": 17,
   "metadata": {
    "ExecuteTime": {
     "end_time": "2020-10-21T16:40:07.341439Z",
     "start_time": "2020-10-21T16:40:07.331448Z"
    }
   },
   "outputs": [
    {
     "name": "stdout",
     "output_type": "stream",
     "text": [
      "The gcd of 60 and 48 is : 2\n"
     ]
    }
   ],
   "source": [
    "def hcfnaive(a,b): \n",
    "    if(b==0): \n",
    "        return a \n",
    "    else: \n",
    "        return hcfnaive(b,a%b) \n",
    "  \n",
    "# a = 16\n",
    "# b= 2\n",
    "  \n",
    "# # prints 12 \n",
    "# print (\"The gcd of 60 and 48 is : \",end=\"\") \n",
    "# print (hcfnaive(b,a))"
   ]
  },
  {
   "cell_type": "code",
   "execution_count": 42,
   "metadata": {
    "ExecuteTime": {
     "end_time": "2020-10-21T16:53:38.876339Z",
     "start_time": "2020-10-21T16:53:38.864345Z"
    }
   },
   "outputs": [],
   "source": [
    "def phi_L(N):\n",
    "    \n",
    "    if N==1:\n",
    "            return 0\n",
    "    elif IsPrime(N):\n",
    "            return N-1\n",
    "    else:\n",
    "        x=1\n",
    "\n",
    "        for i in range (2,N):\n",
    "            if(hcfnaive(i,N)==1):\n",
    "                x=x+1\n",
    "    return x\n",
    "            \n",
    "      "
   ]
  },
  {
   "cell_type": "code",
   "execution_count": 43,
   "metadata": {
    "ExecuteTime": {
     "end_time": "2020-10-21T16:53:41.731185Z",
     "start_time": "2020-10-21T16:53:39.520115Z"
    }
   },
   "outputs": [
    {
     "name": "stdout",
     "output_type": "stream",
     "text": [
      "36\n",
      "12\n"
     ]
    }
   ],
   "source": [
    "inp=int(input())\n",
    "print(phi_L(inp))"
   ]
  },
  {
   "cell_type": "code",
   "execution_count": null,
   "metadata": {},
   "outputs": [],
   "source": []
  }
 ],
 "metadata": {
  "kernelspec": {
   "display_name": "Python 3",
   "language": "python",
   "name": "python3"
  },
  "language_info": {
   "codemirror_mode": {
    "name": "ipython",
    "version": 3
   },
   "file_extension": ".py",
   "mimetype": "text/x-python",
   "name": "python",
   "nbconvert_exporter": "python",
   "pygments_lexer": "ipython3",
   "version": "3.7.6"
  },
  "toc": {
   "base_numbering": 1,
   "nav_menu": {},
   "number_sections": true,
   "sideBar": true,
   "skip_h1_title": false,
   "title_cell": "Table of Contents",
   "title_sidebar": "Contents",
   "toc_cell": false,
   "toc_position": {},
   "toc_section_display": true,
   "toc_window_display": false
  }
 },
 "nbformat": 4,
 "nbformat_minor": 4
}
