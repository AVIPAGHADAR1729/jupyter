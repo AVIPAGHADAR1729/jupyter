{
 "cells": [
  {
   "cell_type": "code",
   "execution_count": 1,
   "metadata": {
    "ExecuteTime": {
     "end_time": "2020-08-18T07:43:10.470285Z",
     "start_time": "2020-08-18T07:43:10.439101Z"
    }
   },
   "outputs": [],
   "source": [
    "def B(n1):\n",
    "    a=1\n",
    "    for i in range(n1):\n",
    "        a=a+1\n",
    "    print(a)"
   ]
  },
  {
   "cell_type": "code",
   "execution_count": 2,
   "metadata": {
    "ExecuteTime": {
     "end_time": "2020-08-18T07:43:11.933748Z",
     "start_time": "2020-08-18T07:43:11.911606Z"
    }
   },
   "outputs": [],
   "source": [
    "def A(n):\n",
    "    a=1\n",
    "    for i in range(n):\n",
    "        b=a+1\n",
    "        c=b+1\n",
    "        d=c+1\n",
    "        e=d+1\n",
    "        f=e+1\n",
    "        g=f+1\n",
    "        h=g+1\n",
    "        i=h+1\n",
    "        j=i+1\n",
    "        k=j+1\n",
    "        print(k)   "
   ]
  },
  {
   "cell_type": "code",
   "execution_count": 15,
   "metadata": {
    "ExecuteTime": {
     "end_time": "2020-08-18T07:45:50.407660Z",
     "start_time": "2020-08-18T07:45:50.392040Z"
    }
   },
   "outputs": [
    {
     "name": "stdout",
     "output_type": "stream",
     "text": [
      "11\n"
     ]
    }
   ],
   "source": [
    "B(10) # p=0.4 B>A"
   ]
  },
  {
   "cell_type": "code",
   "execution_count": 19,
   "metadata": {
    "ExecuteTime": {
     "end_time": "2020-08-18T07:46:11.074966Z",
     "start_time": "2020-08-18T07:46:11.059341Z"
    }
   },
   "outputs": [
    {
     "name": "stdout",
     "output_type": "stream",
     "text": [
      "11\n"
     ]
    }
   ],
   "source": [
    "A(1) # p=1.66 A>B"
   ]
  },
  {
   "cell_type": "code",
   "execution_count": 4,
   "metadata": {
    "ExecuteTime": {
     "end_time": "2020-08-29T04:50:53.772639Z",
     "start_time": "2020-08-29T04:50:53.752580Z"
    }
   },
   "outputs": [
    {
     "name": "stdout",
     "output_type": "stream",
     "text": [
      "fio\n",
      "mkknknd\n"
     ]
    }
   ],
   "source": [
    "try:\n",
    "    print(2/0)\n",
    "except:\n",
    "    print('fio')\n",
    "else:\n",
    "    print('dbcjdb')\n",
    "finally:\n",
    "    print('mkknknd')"
   ]
  },
  {
   "cell_type": "code",
   "execution_count": null,
   "metadata": {},
   "outputs": [],
   "source": []
  },
  {
   "cell_type": "code",
   "execution_count": null,
   "metadata": {},
   "outputs": [],
   "source": []
  }
 ],
 "metadata": {
  "kernelspec": {
   "display_name": "Python 3",
   "language": "python",
   "name": "python3"
  },
  "language_info": {
   "codemirror_mode": {
    "name": "ipython",
    "version": 3
   },
   "file_extension": ".py",
   "mimetype": "text/x-python",
   "name": "python",
   "nbconvert_exporter": "python",
   "pygments_lexer": "ipython3",
   "version": "3.7.6"
  },
  "toc": {
   "base_numbering": 1,
   "nav_menu": {},
   "number_sections": true,
   "sideBar": true,
   "skip_h1_title": false,
   "title_cell": "Table of Contents",
   "title_sidebar": "Contents",
   "toc_cell": false,
   "toc_position": {},
   "toc_section_display": true,
   "toc_window_display": false
  }
 },
 "nbformat": 4,
 "nbformat_minor": 4
}
