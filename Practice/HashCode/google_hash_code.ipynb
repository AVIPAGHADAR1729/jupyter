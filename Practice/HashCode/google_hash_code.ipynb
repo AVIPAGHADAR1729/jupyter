{
 "cells": [
  {
   "cell_type": "code",
   "execution_count": 1,
   "id": "adequate-johns",
   "metadata": {
    "ExecuteTime": {
     "end_time": "2021-02-25T19:44:36.687025Z",
     "start_time": "2021-02-25T19:44:36.605074Z"
    }
   },
   "outputs": [],
   "source": [
    "file=open('a.txt')"
   ]
  },
  {
   "cell_type": "code",
   "execution_count": 2,
   "id": "confidential-latin",
   "metadata": {
    "ExecuteTime": {
     "end_time": "2021-02-25T19:44:48.111454Z",
     "start_time": "2021-02-25T19:44:48.107453Z"
    }
   },
   "outputs": [],
   "source": [
    "f=file.readlines()"
   ]
  },
  {
   "cell_type": "code",
   "execution_count": 3,
   "id": "drawn-comparative",
   "metadata": {
    "ExecuteTime": {
     "end_time": "2021-02-25T19:45:02.704069Z",
     "start_time": "2021-02-25T19:45:02.695091Z"
    }
   },
   "outputs": [
    {
     "name": "stdout",
     "output_type": "stream",
     "text": [
      "6 4 5 2 1000\n",
      "\n",
      "2 0 rue-de-londres 1\n",
      "\n",
      "0 1 rue-d-amsterdam 1\n",
      "\n",
      "3 1 rue-d-athenes 1\n",
      "\n",
      "2 3 rue-de-rome 2\n",
      "\n",
      "1 2 rue-de-moscou 3\n",
      "\n",
      "4 rue-de-londres rue-d-amsterdam rue-de-moscou rue-de-rome\n",
      "\n",
      "3 rue-d-athenes rue-de-moscou rue-de-londres\n",
      "\n"
     ]
    }
   ],
   "source": [
    "for i in f:\n",
    "    print(i)"
   ]
  }
 ],
 "metadata": {
  "kernelspec": {
   "display_name": "Python 3",
   "language": "python",
   "name": "python3"
  },
  "language_info": {
   "codemirror_mode": {
    "name": "ipython",
    "version": 3
   },
   "file_extension": ".py",
   "mimetype": "text/x-python",
   "name": "python",
   "nbconvert_exporter": "python",
   "pygments_lexer": "ipython3",
   "version": "3.7.9"
  },
  "toc": {
   "base_numbering": 1,
   "nav_menu": {},
   "number_sections": true,
   "sideBar": true,
   "skip_h1_title": false,
   "title_cell": "Table of Contents",
   "title_sidebar": "Contents",
   "toc_cell": false,
   "toc_position": {},
   "toc_section_display": true,
   "toc_window_display": false
  }
 },
 "nbformat": 4,
 "nbformat_minor": 5
}
