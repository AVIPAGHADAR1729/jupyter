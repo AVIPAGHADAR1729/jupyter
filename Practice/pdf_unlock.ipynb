{
 "cells": [
  {
   "cell_type": "code",
   "execution_count": 3,
   "id": "helpful-railway",
   "metadata": {
    "ExecuteTime": {
     "end_time": "2021-02-22T13:22:31.581685Z",
     "start_time": "2021-02-22T13:22:30.118525Z"
    }
   },
   "outputs": [
    {
     "ename": "PasswordError",
     "evalue": "<_io.BytesIO object at 0x0000021C5FB87E28>: invalid password",
     "output_type": "error",
     "traceback": [
      "\u001b[1;31m---------------------------------------------------------------------------\u001b[0m",
      "\u001b[1;31mPasswordError\u001b[0m                             Traceback (most recent call last)",
      "\u001b[1;32m<ipython-input-3-790189d3ec15>\u001b[0m in \u001b[0;36m<module>\u001b[1;34m\u001b[0m\n\u001b[0;32m      1\u001b[0m \u001b[1;32mimport\u001b[0m \u001b[0mpikepdf\u001b[0m\u001b[1;33m\u001b[0m\u001b[1;33m\u001b[0m\u001b[0m\n\u001b[0;32m      2\u001b[0m \u001b[1;33m\u001b[0m\u001b[0m\n\u001b[1;32m----> 3\u001b[1;33m \u001b[0mpdf\u001b[0m \u001b[1;33m=\u001b[0m \u001b[0mpikepdf\u001b[0m\u001b[1;33m.\u001b[0m\u001b[0mopen\u001b[0m\u001b[1;33m(\u001b[0m\u001b[1;34m'../../../Python Scripts/Automobile Engineering volume 1 textbook by Dr. kirpal Singh.pdf'\u001b[0m\u001b[1;33m,\u001b[0m\u001b[0mallow_overwriting_input\u001b[0m\u001b[1;33m=\u001b[0m\u001b[1;32mTrue\u001b[0m\u001b[1;33m)\u001b[0m\u001b[1;33m\u001b[0m\u001b[1;33m\u001b[0m\u001b[0m\n\u001b[0m\u001b[0;32m      4\u001b[0m \u001b[0mpdf\u001b[0m\u001b[1;33m.\u001b[0m\u001b[0msave\u001b[0m\u001b[1;33m(\u001b[0m\u001b[1;34m'extractable.pdf'\u001b[0m\u001b[1;33m)\u001b[0m\u001b[1;33m\u001b[0m\u001b[1;33m\u001b[0m\u001b[0m\n",
      "\u001b[1;32m~\\Anaconda3\\lib\\site-packages\\pikepdf\\_methods.py\u001b[0m in \u001b[0;36mopen\u001b[1;34m(filename_or_stream, password, hex_password, ignore_xref_streams, suppress_warnings, attempt_recovery, inherit_page_attributes, access_mode, allow_overwriting_input)\u001b[0m\n\u001b[0;32m    913\u001b[0m             \u001b[0mattempt_recovery\u001b[0m\u001b[1;33m=\u001b[0m\u001b[0mattempt_recovery\u001b[0m\u001b[1;33m,\u001b[0m\u001b[1;33m\u001b[0m\u001b[1;33m\u001b[0m\u001b[0m\n\u001b[0;32m    914\u001b[0m             \u001b[0minherit_page_attributes\u001b[0m\u001b[1;33m=\u001b[0m\u001b[0minherit_page_attributes\u001b[0m\u001b[1;33m,\u001b[0m\u001b[1;33m\u001b[0m\u001b[1;33m\u001b[0m\u001b[0m\n\u001b[1;32m--> 915\u001b[1;33m             \u001b[0maccess_mode\u001b[0m\u001b[1;33m=\u001b[0m\u001b[0maccess_mode\u001b[0m\u001b[1;33m,\u001b[0m\u001b[1;33m\u001b[0m\u001b[1;33m\u001b[0m\u001b[0m\n\u001b[0m\u001b[0;32m    916\u001b[0m         )\n\u001b[0;32m    917\u001b[0m         \u001b[0msetattr\u001b[0m\u001b[1;33m(\u001b[0m\u001b[0mpdf\u001b[0m\u001b[1;33m,\u001b[0m \u001b[1;34m'_tmp_stream'\u001b[0m\u001b[1;33m,\u001b[0m \u001b[0mtmp_stream\u001b[0m\u001b[1;33m)\u001b[0m\u001b[1;33m\u001b[0m\u001b[1;33m\u001b[0m\u001b[0m\n",
      "\u001b[1;31mPasswordError\u001b[0m: <_io.BytesIO object at 0x0000021C5FB87E28>: invalid password"
     ]
    }
   ],
   "source": [
    "import pikepdf\n",
    "\n",
    "pdf = pikepdf.open('../../../Python Scripts/Automobile Engineering volume 1 textbook by Dr. kirpal Singh.pdf',allow_overwriting_input=True)\n",
    "pdf.save('extractable.pdf')"
   ]
  },
  {
   "cell_type": "code",
   "execution_count": 8,
   "id": "supreme-detector",
   "metadata": {
    "ExecuteTime": {
     "end_time": "2021-02-22T13:43:43.083784Z",
     "start_time": "2021-02-22T13:43:43.004829Z"
    }
   },
   "outputs": [
    {
     "name": "stdout",
     "output_type": "stream",
     "text": [
      "Securing an existing document...\n",
      "Replacing the content stream, use Flate compression...\n"
     ]
    },
    {
     "ename": "Exception",
     "evalue": "MappingManager file not found: ../../../Python Scripts/my_stream.txt",
     "output_type": "error",
     "traceback": [
      "\u001b[1;31m---------------------------------------------------------------------------\u001b[0m",
      "\u001b[1;31mException\u001b[0m                                 Traceback (most recent call last)",
      "\u001b[1;32m<ipython-input-8-018a64f76646>\u001b[0m in \u001b[0;36m<module>\u001b[1;34m\u001b[0m\n\u001b[0;32m    128\u001b[0m \u001b[1;33m\u001b[0m\u001b[0m\n\u001b[0;32m    129\u001b[0m \u001b[1;32mif\u001b[0m \u001b[0m__name__\u001b[0m \u001b[1;33m==\u001b[0m \u001b[1;34m'__main__'\u001b[0m\u001b[1;33m:\u001b[0m\u001b[1;33m\u001b[0m\u001b[1;33m\u001b[0m\u001b[0m\n\u001b[1;32m--> 130\u001b[1;33m     \u001b[0mmain\u001b[0m\u001b[1;33m(\u001b[0m\u001b[1;33m)\u001b[0m\u001b[1;33m\u001b[0m\u001b[1;33m\u001b[0m\u001b[0m\n\u001b[0m",
      "\u001b[1;32m<ipython-input-8-018a64f76646>\u001b[0m in \u001b[0;36mmain\u001b[1;34m()\u001b[0m\n\u001b[0;32m     39\u001b[0m \u001b[1;33m\u001b[0m\u001b[0m\n\u001b[0;32m     40\u001b[0m         \u001b[1;31m# Embed a custom stream (file mystream.txt) using Flate compression.\u001b[0m\u001b[1;33m\u001b[0m\u001b[1;33m\u001b[0m\u001b[1;33m\u001b[0m\u001b[0m\n\u001b[1;32m---> 41\u001b[1;33m         \u001b[0membed_file\u001b[0m \u001b[1;33m=\u001b[0m \u001b[0mMappedFile\u001b[0m\u001b[1;33m(\u001b[0m\u001b[0minput_path\u001b[0m \u001b[1;33m+\u001b[0m \u001b[1;34m\"my_stream.txt\"\u001b[0m\u001b[1;33m)\u001b[0m\u001b[1;33m\u001b[0m\u001b[1;33m\u001b[0m\u001b[0m\n\u001b[0m\u001b[0;32m     42\u001b[0m         \u001b[0mmystm\u001b[0m \u001b[1;33m=\u001b[0m \u001b[0mFilterReader\u001b[0m\u001b[1;33m(\u001b[0m\u001b[0membed_file\u001b[0m\u001b[1;33m)\u001b[0m\u001b[1;33m\u001b[0m\u001b[1;33m\u001b[0m\u001b[0m\n\u001b[0;32m     43\u001b[0m         page_dict.Put(\"Contents\", doc.CreateIndirectStream(\n",
      "\u001b[1;32m~\\Anaconda3\\lib\\site-packages\\PDFNetPython3\\PDFNetPython.py\u001b[0m in \u001b[0;36m__init__\u001b[1;34m(self, filename)\u001b[0m\n\u001b[0;32m   3216\u001b[0m \u001b[1;33m\u001b[0m\u001b[0m\n\u001b[0;32m   3217\u001b[0m     \u001b[1;32mdef\u001b[0m \u001b[0m__init__\u001b[0m\u001b[1;33m(\u001b[0m\u001b[0mself\u001b[0m\u001b[1;33m,\u001b[0m \u001b[0mfilename\u001b[0m\u001b[1;33m)\u001b[0m\u001b[1;33m:\u001b[0m\u001b[1;33m\u001b[0m\u001b[1;33m\u001b[0m\u001b[0m\n\u001b[1;32m-> 3218\u001b[1;33m         \u001b[0mthis\u001b[0m \u001b[1;33m=\u001b[0m \u001b[0m_PDFNetPython\u001b[0m\u001b[1;33m.\u001b[0m\u001b[0mnew_MappedFile\u001b[0m\u001b[1;33m(\u001b[0m\u001b[0mfilename\u001b[0m\u001b[1;33m)\u001b[0m\u001b[1;33m\u001b[0m\u001b[1;33m\u001b[0m\u001b[0m\n\u001b[0m\u001b[0;32m   3219\u001b[0m         \u001b[1;32mtry\u001b[0m\u001b[1;33m:\u001b[0m\u001b[1;33m\u001b[0m\u001b[1;33m\u001b[0m\u001b[0m\n\u001b[0;32m   3220\u001b[0m             \u001b[0mself\u001b[0m\u001b[1;33m.\u001b[0m\u001b[0mthis\u001b[0m\u001b[1;33m.\u001b[0m\u001b[0mappend\u001b[0m\u001b[1;33m(\u001b[0m\u001b[0mthis\u001b[0m\u001b[1;33m)\u001b[0m\u001b[1;33m\u001b[0m\u001b[1;33m\u001b[0m\u001b[0m\n",
      "\u001b[1;31mException\u001b[0m: MappingManager file not found: ../../../Python Scripts/my_stream.txt"
     ]
    }
   ],
   "source": [
    "from PDFNetPython3 import *\n",
    "import sys\n",
    "import site\n",
    "site.addsitedir(\"../../../PDFNetC/Lib\")\n",
    "\n",
    "# ---------------------------------------------------------------------------------------\n",
    "# This sample shows encryption support in PDFNet. The sample reads an encrypted document and\n",
    "# sets a new SecurityHandler. The sample also illustrates how password protection can\n",
    "# be removed from an existing PDF document.\n",
    "# ---------------------------------------------------------------------------------------\n",
    "\n",
    "\n",
    "def main():\n",
    "    PDFNet.Initialize()\n",
    "\n",
    "    # Relative path to the folder containing the test files.\n",
    "    input_path=\"../../../Python Scripts/\"\n",
    "    output_path = \"../../../Python Scripts/\"\n",
    "\n",
    "    # Example 1:\n",
    "    # secure a PDF document with password protection and adjust permissions\n",
    "\n",
    "    # Open the test file\n",
    "    print(\"Securing an existing document...\")\n",
    "\n",
    "    doc = PDFDoc(input_path + \"Automobile Engineering volume 1 textbook by Dr. kirpal Singh.pdf\")\n",
    "    doc.InitSecurityHandler()\n",
    "\n",
    "    # Perform some operation on the document. In this case we use low level SDF API\n",
    "    # to replace the content stream of the first page with contents of file 'my_stream.txt'\n",
    "    if True:    # Optional\n",
    "        print(\"Replacing the content stream, use Flate compression...\")\n",
    "\n",
    "        # Get the page dictionary using the following path: trailer/Root/Pages/Kids/0\n",
    "        page_dict = (doc.GetTrailer().Get(\"Root\").Value()\n",
    "                     .Get(\"Pages\").Value()\n",
    "                     .Get(\"Kids\").Value()\n",
    "                     .GetAt(0))\n",
    "\n",
    "        # Embed a custom stream (file mystream.txt) using Flate compression.\n",
    "        embed_file = MappedFile(input_path + \"my_stream.txt\")\n",
    "        mystm = FilterReader(embed_file)\n",
    "        page_dict.Put(\"Contents\", doc.CreateIndirectStream(\n",
    "            mystm, FlateEncode(Filter())))\n",
    "\n",
    "    # encrypt the document\n",
    "\n",
    "    # Apply a new security handler with given security settings.\n",
    "    # In order to open saved PDF you will need a user password 'test'.\n",
    "    new_handler = SecurityHandler()\n",
    "\n",
    "    # Set a new password required to open a document\n",
    "    user_password = \"test\"\n",
    "    new_handler.ChangeUserPassword(user_password)\n",
    "\n",
    "    # Set permissions\n",
    "    new_handler.SetPermission(SecurityHandler.e_print, True)\n",
    "    new_handler.SetPermission(SecurityHandler.e_extract_content, False)\n",
    "\n",
    "    # Note: document takes the ownership of new_handler.\n",
    "    doc.SetSecurityHandler(new_handler)\n",
    "\n",
    "    # save the changes.\n",
    "    print(\"Saving modified file...\")\n",
    "    doc.Save(output_path + \"secured.pdf\", 0)\n",
    "    doc.Close()\n",
    "\n",
    "    # Example 2:\n",
    "    # Opens an encrypted PDF document and removes its security.\n",
    "\n",
    "    doc = PDFDoc(output_path + \"secured.pdf\")\n",
    "\n",
    "    # If the document is encrypted prompt for the password\n",
    "    if not doc.InitSecurityHandler():\n",
    "        success = False\n",
    "        print(\"The password is: test\")\n",
    "        count = 0\n",
    "        while count < 3:\n",
    "            print(\"A password required to open the document.\")\n",
    "            if sys.version_info.major >= 3:\n",
    "                password = input(\"Please enter the password: \\n\")\n",
    "            else:\n",
    "                password = raw_input(\"Please enter the password: \\n\")\n",
    "\n",
    "            if doc.InitStdSecurityHandler(password, len(password)):\n",
    "                success = True\n",
    "                print(\"The password is correct.\")\n",
    "                break\n",
    "            elif count < 3:\n",
    "                print(\"The password is incorrect, please try again\")\n",
    "            count = count + 1\n",
    "\n",
    "        if not success:\n",
    "            print(\"Document authentication error....\")\n",
    "            return\n",
    "\n",
    "        hdlr = doc.GetSecurityHandler()\n",
    "        print(\"Document Open Password: \" + str(hdlr.IsUserPasswordRequired()))\n",
    "        print(\"Permissions Password: \" + str(hdlr.IsMasterPasswordRequired()))\n",
    "        print((\"Permissions: \"\n",
    "               + \"\\n\\tHas 'owner' permissions: \" +\n",
    "               str(hdlr.GetPermission(SecurityHandler.e_owner))\n",
    "               + \"\\n\\tOpen and decrypt the document: \" +\n",
    "               str(hdlr.GetPermission(SecurityHandler.e_doc_open))\n",
    "               + \"\\n\\tAllow content extraction: \" +\n",
    "               str(hdlr.GetPermission(SecurityHandler.e_extract_content))\n",
    "               + \"\\n\\tAllow full document editing: \" +\n",
    "               str(hdlr.GetPermission(SecurityHandler.e_doc_modify))\n",
    "               + \"\\n\\tAllow printing: \" +\n",
    "               str(hdlr.GetPermission(SecurityHandler.e_print))\n",
    "               + \"\\n\\tAllow high resolution printing: \" +\n",
    "               str(hdlr.GetPermission(SecurityHandler.e_print_high))\n",
    "               + \"\\n\\tAllow annotation editing: \" +\n",
    "               str(hdlr.GetPermission(SecurityHandler.e_mod_annot))\n",
    "               + \"\\n\\tAllow form fill: \" +\n",
    "               str(hdlr.GetPermission(SecurityHandler.e_fill_forms))\n",
    "               + \"\\n\\tAllow content extraction for accessibility: \" +\n",
    "               str(hdlr.GetPermission(SecurityHandler.e_access_support))\n",
    "               + \"\\n\\tAllow document assembly: \" + str(hdlr.GetPermission(SecurityHandler.e_assemble_doc))))\n",
    "\n",
    "    # remove all security on the document\n",
    "    doc.RemoveSecurity()\n",
    "    doc.Save(output_path + \"not_secured.pdf\", 0)\n",
    "    doc.Close()\n",
    "\n",
    "    print(\"Test completed.\")\n",
    "\n",
    "\n",
    "if __name__ == '__main__':\n",
    "    main()"
   ]
  },
  {
   "cell_type": "code",
   "execution_count": null,
   "id": "expanded-silicon",
   "metadata": {},
   "outputs": [],
   "source": []
  }
 ],
 "metadata": {
  "kernelspec": {
   "display_name": "Python 3",
   "language": "python",
   "name": "python3"
  },
  "language_info": {
   "codemirror_mode": {
    "name": "ipython",
    "version": 3
   },
   "file_extension": ".py",
   "mimetype": "text/x-python",
   "name": "python",
   "nbconvert_exporter": "python",
   "pygments_lexer": "ipython3",
   "version": "3.7.9"
  },
  "toc": {
   "base_numbering": 1,
   "nav_menu": {},
   "number_sections": true,
   "sideBar": true,
   "skip_h1_title": false,
   "title_cell": "Table of Contents",
   "title_sidebar": "Contents",
   "toc_cell": false,
   "toc_position": {},
   "toc_section_display": true,
   "toc_window_display": false
  }
 },
 "nbformat": 4,
 "nbformat_minor": 5
}
