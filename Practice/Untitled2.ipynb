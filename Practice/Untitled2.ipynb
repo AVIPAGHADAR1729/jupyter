{
 "cells": [
  {
   "cell_type": "code",
   "execution_count": 57,
   "id": "transsexual-literacy",
   "metadata": {
    "ExecuteTime": {
     "end_time": "2021-02-27T11:42:32.035473Z",
     "start_time": "2021-02-27T11:42:32.031476Z"
    }
   },
   "outputs": [],
   "source": [
    "import pandas as pd \n",
    "import numpy as np "
   ]
  },
  {
   "cell_type": "code",
   "execution_count": 80,
   "id": "exposed-tuesday",
   "metadata": {
    "ExecuteTime": {
     "end_time": "2021-02-27T11:47:54.528877Z",
     "start_time": "2021-02-27T11:47:54.522881Z"
    }
   },
   "outputs": [],
   "source": [
    "l1=['ab','effg','hjj','klllh','m','n','abbc']\n",
    "\n",
    "\n",
    "df=pd.DataFrame(data={'messsage':l1})\n",
    "\n",
    "df['messsage']=list(df['messsage'][ df['messsage'].apply(lambda x:len(x)).sort_values(ascending=False).index])\n",
    "\n",
    "df"
   ]
  },
  {
   "cell_type": "code",
   "execution_count": 90,
   "id": "streaming-performer",
   "metadata": {
    "ExecuteTime": {
     "end_time": "2021-02-27T11:53:40.033622Z",
     "start_time": "2021-02-27T11:53:40.026644Z"
    }
   },
   "outputs": [],
   "source": [
    "l1=['ab','effg','hjj','klllh','m','n','abbc']\n",
    "\n",
    "\n",
    "df=pd.DataFrame(data={'messages':l1})"
   ]
  },
  {
   "cell_type": "code",
   "execution_count": 91,
   "id": "curious-collapse",
   "metadata": {
    "ExecuteTime": {
     "end_time": "2021-02-27T11:53:40.702577Z",
     "start_time": "2021-02-27T11:53:40.591173Z"
    }
   },
   "outputs": [],
   "source": [
    "df.sort_values(by='messages', key=lambda x: x.str.len(),ascending=False,inplace=True)"
   ]
  },
  {
   "cell_type": "code",
   "execution_count": 92,
   "id": "nutritional-assistant",
   "metadata": {
    "ExecuteTime": {
     "end_time": "2021-02-27T11:53:43.804753Z",
     "start_time": "2021-02-27T11:53:43.791744Z"
    }
   },
   "outputs": [
    {
     "data": {
      "text/html": [
       "<div>\n",
       "<style scoped>\n",
       "    .dataframe tbody tr th:only-of-type {\n",
       "        vertical-align: middle;\n",
       "    }\n",
       "\n",
       "    .dataframe tbody tr th {\n",
       "        vertical-align: top;\n",
       "    }\n",
       "\n",
       "    .dataframe thead th {\n",
       "        text-align: right;\n",
       "    }\n",
       "</style>\n",
       "<table border=\"1\" class=\"dataframe\">\n",
       "  <thead>\n",
       "    <tr style=\"text-align: right;\">\n",
       "      <th></th>\n",
       "      <th>messages</th>\n",
       "    </tr>\n",
       "  </thead>\n",
       "  <tbody>\n",
       "    <tr>\n",
       "      <th>3</th>\n",
       "      <td>klllh</td>\n",
       "    </tr>\n",
       "    <tr>\n",
       "      <th>1</th>\n",
       "      <td>effg</td>\n",
       "    </tr>\n",
       "    <tr>\n",
       "      <th>6</th>\n",
       "      <td>abbc</td>\n",
       "    </tr>\n",
       "    <tr>\n",
       "      <th>2</th>\n",
       "      <td>hjj</td>\n",
       "    </tr>\n",
       "    <tr>\n",
       "      <th>0</th>\n",
       "      <td>ab</td>\n",
       "    </tr>\n",
       "    <tr>\n",
       "      <th>4</th>\n",
       "      <td>m</td>\n",
       "    </tr>\n",
       "    <tr>\n",
       "      <th>5</th>\n",
       "      <td>n</td>\n",
       "    </tr>\n",
       "  </tbody>\n",
       "</table>\n",
       "</div>"
      ],
      "text/plain": [
       "  messages\n",
       "3    klllh\n",
       "1     effg\n",
       "6     abbc\n",
       "2      hjj\n",
       "0       ab\n",
       "4        m\n",
       "5        n"
      ]
     },
     "execution_count": 92,
     "metadata": {},
     "output_type": "execute_result"
    }
   ],
   "source": [
    "df"
   ]
  },
  {
   "cell_type": "code",
   "execution_count": null,
   "id": "freelance-wales",
   "metadata": {},
   "outputs": [],
   "source": []
  }
 ],
 "metadata": {
  "kernelspec": {
   "display_name": "Python 3",
   "language": "python",
   "name": "python3"
  },
  "language_info": {
   "codemirror_mode": {
    "name": "ipython",
    "version": 3
   },
   "file_extension": ".py",
   "mimetype": "text/x-python",
   "name": "python",
   "nbconvert_exporter": "python",
   "pygments_lexer": "ipython3",
   "version": "3.7.9"
  },
  "toc": {
   "base_numbering": 1,
   "nav_menu": {},
   "number_sections": true,
   "sideBar": true,
   "skip_h1_title": false,
   "title_cell": "Table of Contents",
   "title_sidebar": "Contents",
   "toc_cell": false,
   "toc_position": {},
   "toc_section_display": true,
   "toc_window_display": false
  }
 },
 "nbformat": 4,
 "nbformat_minor": 5
}
