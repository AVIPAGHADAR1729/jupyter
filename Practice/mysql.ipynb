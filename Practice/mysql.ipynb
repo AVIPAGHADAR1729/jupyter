{
 "cells": [
  {
   "cell_type": "code",
   "execution_count": 22,
   "id": "approved-request",
   "metadata": {
    "ExecuteTime": {
     "end_time": "2021-03-03T09:11:23.085389Z",
     "start_time": "2021-03-03T09:11:23.080391Z"
    }
   },
   "outputs": [],
   "source": [
    "import mysql.connector"
   ]
  },
  {
   "cell_type": "code",
   "execution_count": 23,
   "id": "close-rating",
   "metadata": {
    "ExecuteTime": {
     "end_time": "2021-03-03T09:11:23.878946Z",
     "start_time": "2021-03-03T09:11:23.750022Z"
    }
   },
   "outputs": [],
   "source": [
    "mydb = mysql.connector.connect(\n",
    "  host=\"localhost\",\n",
    "  port=3306,\n",
    "  user=\"root\",\n",
    "  password=\"nikhil1234?\",\n",
    "  database=\"customer_review\",\n",
    "  auth_plugin='mysql_native_password')"
   ]
  },
  {
   "cell_type": "code",
   "execution_count": 24,
   "id": "trained-electric",
   "metadata": {
    "ExecuteTime": {
     "end_time": "2021-03-03T09:11:24.441187Z",
     "start_time": "2021-03-03T09:11:24.434204Z"
    }
   },
   "outputs": [],
   "source": [
    "sql=\"select * from customers_feedback;\"\n",
    "cursor = mydb.cursor()"
   ]
  },
  {
   "cell_type": "code",
   "execution_count": 25,
   "id": "naked-cuisine",
   "metadata": {
    "ExecuteTime": {
     "end_time": "2021-03-03T09:11:25.027221Z",
     "start_time": "2021-03-03T09:11:25.020224Z"
    }
   },
   "outputs": [],
   "source": [
    "cursor.execute(sql)"
   ]
  },
  {
   "cell_type": "code",
   "execution_count": 26,
   "id": "orange-distribution",
   "metadata": {
    "ExecuteTime": {
     "end_time": "2021-03-03T09:11:25.543805Z",
     "start_time": "2021-03-03T09:11:25.537811Z"
    }
   },
   "outputs": [],
   "source": [
    "x=cursor.fetchall()"
   ]
  },
  {
   "cell_type": "code",
   "execution_count": 27,
   "id": "medieval-potential",
   "metadata": {
    "ExecuteTime": {
     "end_time": "2021-03-03T09:11:26.146225Z",
     "start_time": "2021-03-03T09:11:26.139228Z"
    }
   },
   "outputs": [
    {
     "name": "stdout",
     "output_type": "stream",
     "text": [
      "[(1, 23, 'Disagree', 'Strongly disagree', 'Neutral', 'Agree', 'Neutral', 'Agree', 'Strongly agree', 'Agree', '45 minutes', 'Yes'), (2, 23, 'Strongly disagree', 'Strongly disagree', 'Strongly disagree', 'Strongly disagree', 'Strongly disagree', 'Strongly disagree', 'Strongly disagree', 'Strongly disagree', 'More than 60 minutes', 'Yes'), (3, 34, 'Strongly disagree', 'Strongly disagree', 'Strongly disagree', 'Strongly disagree', 'Strongly disagree', 'Strongly disagree', 'Strongly disagree', 'Strongly disagree', '45 minutes', 'No')]\n"
     ]
    }
   ],
   "source": [
    "print(x)"
   ]
  },
  {
   "cell_type": "code",
   "execution_count": 28,
   "id": "spiritual-witness",
   "metadata": {
    "ExecuteTime": {
     "end_time": "2021-03-03T09:11:26.739068Z",
     "start_time": "2021-03-03T09:11:26.735072Z"
    }
   },
   "outputs": [],
   "source": [
    "num_fields = len(cursor.description)\n",
    "field_names = [i[0] for i in cursor.description]"
   ]
  },
  {
   "cell_type": "code",
   "execution_count": 30,
   "id": "extended-synthetic",
   "metadata": {
    "ExecuteTime": {
     "end_time": "2021-03-03T10:32:52.239577Z",
     "start_time": "2021-03-03T10:32:52.178613Z"
    }
   },
   "outputs": [
    {
     "data": {
      "text/plain": [
       "'customer_id'"
      ]
     },
     "execution_count": 30,
     "metadata": {},
     "output_type": "execute_result"
    }
   ],
   "source": [
    "field_names[0]"
   ]
  },
  {
   "cell_type": "code",
   "execution_count": null,
   "id": "banned-bulletin",
   "metadata": {},
   "outputs": [],
   "source": []
  }
 ],
 "metadata": {
  "kernelspec": {
   "display_name": "Python 3",
   "language": "python",
   "name": "python3"
  },
  "language_info": {
   "codemirror_mode": {
    "name": "ipython",
    "version": 3
   },
   "file_extension": ".py",
   "mimetype": "text/x-python",
   "name": "python",
   "nbconvert_exporter": "python",
   "pygments_lexer": "ipython3",
   "version": "3.7.9"
  },
  "toc": {
   "base_numbering": 1,
   "nav_menu": {},
   "number_sections": true,
   "sideBar": true,
   "skip_h1_title": false,
   "title_cell": "Table of Contents",
   "title_sidebar": "Contents",
   "toc_cell": false,
   "toc_position": {},
   "toc_section_display": true,
   "toc_window_display": false
  }
 },
 "nbformat": 4,
 "nbformat_minor": 5
}
