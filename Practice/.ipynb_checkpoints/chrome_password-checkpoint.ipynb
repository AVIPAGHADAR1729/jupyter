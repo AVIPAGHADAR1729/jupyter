{
 "cells": [
  {
   "cell_type": "code",
   "execution_count": 23,
   "id": "weekly-duration",
   "metadata": {
    "ExecuteTime": {
     "end_time": "2021-02-28T15:02:28.008770Z",
     "start_time": "2021-02-28T15:02:28.001755Z"
    }
   },
   "outputs": [
    {
     "ename": "SyntaxError",
     "evalue": "invalid syntax (<ipython-input-23-97452f124b3c>, line 1)",
     "output_type": "error",
     "traceback": [
      "\u001b[1;36m  File \u001b[1;32m\"<ipython-input-23-97452f124b3c>\"\u001b[1;36m, line \u001b[1;32m1\u001b[0m\n\u001b[1;33m    conda install ipykernel --name Python3\u001b[0m\n\u001b[1;37m                ^\u001b[0m\n\u001b[1;31mSyntaxError\u001b[0m\u001b[1;31m:\u001b[0m invalid syntax\n"
     ]
    }
   ],
   "source": [
    "conda install ipykernel --name Python3\n",
    "python -m ipykernel install"
   ]
  },
  {
   "cell_type": "code",
   "execution_count": 22,
   "id": "weighted-stable",
   "metadata": {
    "ExecuteTime": {
     "end_time": "2021-02-28T15:01:07.959638Z",
     "start_time": "2021-02-28T15:01:07.924657Z"
    }
   },
   "outputs": [
    {
     "name": "stderr",
     "output_type": "stream",
     "text": [
      "usage: ipykernel_launcher.py [-h] [-o {csv,json}] [-d]\n",
      "ipykernel_launcher.py: error: unrecognized arguments: -f C:\\Users\\nikhil\\AppData\\Roaming\\jupyter\\runtime\\kernel-16f5ca18-ef70-4a7f-9e96-a84e00340864.json\n"
     ]
    },
    {
     "ename": "SystemExit",
     "evalue": "2",
     "output_type": "error",
     "traceback": [
      "An exception has occurred, use %tb to see the full traceback.\n",
      "\u001b[1;31mSystemExit\u001b[0m\u001b[1;31m:\u001b[0m 2\n"
     ]
    }
   ],
   "source": [
    "import argparse\n",
    "import json\n",
    "import csv\n",
    "import sqlite3\n",
    "import sys\n",
    "import os\n",
    "\n",
    "try:\n",
    "    import win32crypt\n",
    "except:\n",
    "    pass\n",
    "\n",
    "\n",
    "def args_parser():\n",
    "\n",
    "    parser = argparse.ArgumentParser(\n",
    "        description=\"Retrieve Google Chrome Passwords\")\n",
    "    parser.add_argument(\"-o\", \"--output\", choices=['csv', 'json'],\n",
    "                        help=\"Output passwords to [ CSV | JSON ] format.\")\n",
    "    parser.add_argument(\n",
    "        \"-d\", \"--dump\", help=\"Dump passwords to stdout. \", action=\"store_true\")\n",
    "\n",
    "    args = parser.parse_args()\n",
    "    if args.dump:\n",
    "        for data in main():\n",
    "            print(data)\n",
    "    if args.output == 'csv':\n",
    "        output_csv(main())\n",
    "        return\n",
    "\n",
    "    if args.output == 'json':\n",
    "        output_json(main())\n",
    "        return\n",
    "\n",
    "    else:\n",
    "        parser.print_help()\n",
    "\n",
    "\n",
    "def main():\n",
    "    info_list = []\n",
    "    path = getpath()\n",
    "    try:\n",
    "        connection = sqlite3.connect(path + \"Login Data\")\n",
    "        with connection:\n",
    "            cursor = connection.cursor()\n",
    "            v = cursor.execute(\n",
    "                'SELECT action_url, username_value, password_value FROM logins')\n",
    "            value = v.fetchall()\n",
    "\n",
    "        if (os.name == \"posix\") and (sys.platform == \"darwin\"):\n",
    "            print(\"Mac OSX not supported.\")\n",
    "            sys.exit(0)\n",
    "\n",
    "        for origin_url, username, password in value:\n",
    "            if os.name == 'nt':\n",
    "                password = win32crypt.CryptUnprotectData(\n",
    "                    password, None, None, None, 0)[1]\n",
    "\n",
    "            if password:\n",
    "                info_list.append({\n",
    "                    'origin_url': origin_url,\n",
    "                    'username': username,\n",
    "                    'password': str(password)\n",
    "                })\n",
    "\n",
    "    except sqlite3.OperationalError as e:\n",
    "        e = str(e)\n",
    "        if (e == 'database is locked'):\n",
    "            print('[!] Make sure Google Chrome is not running in the background')\n",
    "        elif (e == 'no such table: logins'):\n",
    "            print('[!] Something wrong with the database name')\n",
    "        elif (e == 'unable to open database file'):\n",
    "            print('[!] Something wrong with the database path')\n",
    "        else:\n",
    "            print(e)\n",
    "        sys.exit(0)\n",
    "\n",
    "    return info_list\n",
    "\n",
    "\n",
    "def getpath():\n",
    "\n",
    "    if os.name == \"nt\":\n",
    "        # This is the Windows Path\n",
    "        PathName = os.getenv('localappdata') + \\\n",
    "            '\\\\Google\\\\Chrome\\\\User Data\\\\Default\\\\'\n",
    "    elif os.name == \"posix\":\n",
    "        PathName = os.getenv('HOME')\n",
    "        if sys.platform == \"darwin\":\n",
    "            # This is the OS X Path\n",
    "            PathName += '/Library/Application Support/Google/Chrome/Default/'\n",
    "        else:\n",
    "            # This is the Linux Path\n",
    "            PathName += '/.config/google-chrome/Default/'\n",
    "    if not os.path.isdir(PathName):\n",
    "        print('[!] Chrome Doesn\\'t exists')\n",
    "        sys.exit(0)\n",
    "\n",
    "    return PathName\n",
    "\n",
    "\n",
    "def output_csv(info):\n",
    "    try:\n",
    "        with open('chromepass-passwords.csv', 'wb') as csv_file:\n",
    "            csv_file.write('origin_url,username,password \\n'.encode('utf-8'))\n",
    "            for data in info:\n",
    "                csv_file.write(('%s, %s, %s \\n' % (data['origin_url'], data[\n",
    "                    'username'], data['password'])).encode('utf-8'))\n",
    "        print(\"Data written to chromepass-passwords.csv\")\n",
    "    except EnvironmentError:\n",
    "        print('EnvironmentError: cannot write data')\n",
    "\n",
    "\n",
    "def output_json(info):\n",
    "    try:\n",
    "        with open('chromepass-passwords.json', 'w') as json_file:\n",
    "            json.dump({'password_items': info}, json_file)\n",
    "            print(\"Data written to chromepass-passwords.json\")\n",
    "    except EnvironmentError:\n",
    "        print('EnvironmentError: cannot write data')\n",
    "\n",
    "\n",
    "if __name__ == '__main__':\n",
    "    args_parser()\n"
   ]
  },
  {
   "cell_type": "code",
   "execution_count": 19,
   "id": "sharing-consideration",
   "metadata": {
    "ExecuteTime": {
     "end_time": "2021-02-28T14:03:53.954423Z",
     "start_time": "2021-02-28T14:03:53.645933Z"
    }
   },
   "outputs": [
    {
     "name": "stdout",
     "output_type": "stream",
     "text": [
      "Opened database successfully\n",
      "Table created successfully\n"
     ]
    }
   ],
   "source": [
    "import sqlite3\n",
    "\n",
    "conn = sqlite3.connect('nik.db')\n",
    "print (\"Opened database successfully\")\n",
    "\n",
    "conn.execute('''CREATE TABLE COMPANY\n",
    "         (ID INT PRIMARY KEY     NOT NULL,\n",
    "         NAME           TEXT    NOT NULL,\n",
    "         AGE            INT     NOT NULL,\n",
    "         ADDRESS        CHAR(50),\n",
    "         SALARY         REAL);''')\n",
    "print (\"Table created successfully\")\n",
    "\n",
    "conn.close()"
   ]
  },
  {
   "cell_type": "code",
   "execution_count": null,
   "id": "manual-seventh",
   "metadata": {},
   "outputs": [],
   "source": []
  }
 ],
 "metadata": {
  "kernelspec": {
   "display_name": "Python 3",
   "language": "python",
   "name": "python3"
  },
  "language_info": {
   "codemirror_mode": {
    "name": "ipython",
    "version": 3
   },
   "file_extension": ".py",
   "mimetype": "text/x-python",
   "name": "python",
   "nbconvert_exporter": "python",
   "pygments_lexer": "ipython3",
   "version": "3.7.9"
  },
  "toc": {
   "base_numbering": 1,
   "nav_menu": {},
   "number_sections": true,
   "sideBar": true,
   "skip_h1_title": false,
   "title_cell": "Table of Contents",
   "title_sidebar": "Contents",
   "toc_cell": false,
   "toc_position": {},
   "toc_section_display": true,
   "toc_window_display": false
  }
 },
 "nbformat": 4,
 "nbformat_minor": 5
}
