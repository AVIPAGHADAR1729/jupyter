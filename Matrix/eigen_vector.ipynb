{
 "cells": [
  {
   "cell_type": "code",
   "execution_count": 9,
   "metadata": {
    "ExecuteTime": {
     "end_time": "2020-09-02T11:24:35.777168Z",
     "start_time": "2020-09-02T11:24:35.761543Z"
    }
   },
   "outputs": [],
   "source": [
    "import numpy as np \n",
    "import matplotlib.pyplot as plt"
   ]
  },
  {
   "cell_type": "code",
   "execution_count": 3,
   "metadata": {
    "ExecuteTime": {
     "end_time": "2020-09-02T11:23:58.613866Z",
     "start_time": "2020-09-02T11:23:58.598242Z"
    }
   },
   "outputs": [],
   "source": [
    "A=np.array([[1,2],[4,3]])"
   ]
  },
  {
   "cell_type": "code",
   "execution_count": 4,
   "metadata": {
    "ExecuteTime": {
     "end_time": "2020-09-02T11:24:00.657666Z",
     "start_time": "2020-09-02T11:23:59.854972Z"
    }
   },
   "outputs": [],
   "source": [
    "k,B=np.linalg.eig(A)"
   ]
  },
  {
   "cell_type": "code",
   "execution_count": 30,
   "metadata": {
    "ExecuteTime": {
     "end_time": "2020-09-02T11:33:46.095357Z",
     "start_time": "2020-09-02T11:33:46.079733Z"
    }
   },
   "outputs": [],
   "source": []
  },
  {
   "cell_type": "code",
   "execution_count": 31,
   "metadata": {
    "ExecuteTime": {
     "end_time": "2020-09-02T11:33:46.603807Z",
     "start_time": "2020-09-02T11:33:46.572556Z"
    }
   },
   "outputs": [
    {
     "data": {
      "text/plain": [
       "array([[1, 1],\n",
       "       [0, 8]])"
      ]
     },
     "execution_count": 31,
     "metadata": {},
     "output_type": "execute_result"
    }
   ],
   "source": [
    "B"
   ]
  },
  {
   "cell_type": "code",
   "execution_count": 7,
   "metadata": {
    "ExecuteTime": {
     "end_time": "2020-09-02T11:24:03.387858Z",
     "start_time": "2020-09-02T11:24:03.372256Z"
    }
   },
   "outputs": [
    {
     "data": {
      "text/plain": [
       "(array([1., 2.]),\n",
       " array([[1.        , 0.70710678],\n",
       "        [0.        , 0.70710678]]))"
      ]
     },
     "execution_count": 7,
     "metadata": {},
     "output_type": "execute_result"
    }
   ],
   "source": [
    "np.linalg.eig(B)"
   ]
  },
  {
   "cell_type": "code",
   "execution_count": null,
   "metadata": {
    "ExecuteTime": {
     "end_time": "2020-09-02T10:52:04.406462Z",
     "start_time": "2020-09-02T10:52:00.486386Z"
    },
    "code_folding": [
     0
    ]
   },
   "outputs": [],
   "source": [
    "#import numpy as np\n",
    "import matplotlib.pyplot as plt\n",
    "M = np.array([[1,1],[-2,2],[4,-7]])\n",
    "\n",
    "print(\"vector:1\")\n",
    "print(M[0,:])\n",
    "# print(\"vector:2\")\n",
    "# print(M[1,:])\n",
    "rows,cols = M.T.shape\n",
    "print(cols)\n",
    "\n",
    "for i,l in enumerate(range(0,cols)):\n",
    "    print(\"Iteration: {}-{}\".format(i,l))\n",
    "    print(\"vector:{}\".format(i))\n",
    "    print(M[i,:])\n",
    "    v1 = [0,0],[M[i,0],M[i,1]]\n",
    "    # v1 = [M[i,0]],[M[i,1]]\n",
    "    print(v1)\n",
    "    plt.figure(i)\n",
    "    plt.plot(v1)\n",
    "    plt.show()"
   ]
  },
  {
   "cell_type": "code",
   "execution_count": 8,
   "metadata": {
    "ExecuteTime": {
     "end_time": "2020-09-02T11:24:12.818775Z",
     "start_time": "2020-09-02T11:24:07.595358Z"
    }
   },
   "outputs": [],
   "source": [
    "%matplotlib qt "
   ]
  },
  {
   "cell_type": "code",
   "execution_count": 17,
   "metadata": {
    "ExecuteTime": {
     "end_time": "2020-09-02T10:56:02.245189Z",
     "start_time": "2020-09-02T10:56:02.229561Z"
    }
   },
   "outputs": [],
   "source": [
    "import matplotlib.artist as Df\n"
   ]
  },
  {
   "cell_type": "code",
   "execution_count": 42,
   "metadata": {
    "ExecuteTime": {
     "end_time": "2020-09-02T11:37:24.463362Z",
     "start_time": "2020-09-02T11:37:24.432155Z"
    }
   },
   "outputs": [],
   "source": [
    "A=np.array([[1,2],[4,3]])\n",
    "B =np.array([[1,1],[0,8]])"
   ]
  },
  {
   "cell_type": "code",
   "execution_count": 67,
   "metadata": {
    "ExecuteTime": {
     "end_time": "2020-09-02T11:48:41.043720Z",
     "start_time": "2020-09-02T11:48:40.849668Z"
    }
   },
   "outputs": [],
   "source": [
    "\n",
    "fig = plt.figure()\n",
    "ax = fig.add_subplot(1, 2, 1)\n",
    "x,y = np.meshgrid(np.linspace(-5,5,8),np.linspace(-5,5,8))\n",
    "u=np.array([[1,2],[4,3]])\n",
    "\n",
    "\n",
    "ax.quiver(x,y,u)\n",
    "plt.grid()\n",
    "ax= fig.add_subplot(1,2,2)\n",
    "ax.quiver(x,y,headwidth=3.0,headlength=3.0)\n",
    "fig.subplots_adjust(hspace=1.5, wspace=0.4)\n",
    "plt.grid()\n",
    "plt.show()"
   ]
  },
  {
   "cell_type": "code",
   "execution_count": 35,
   "metadata": {
    "ExecuteTime": {
     "end_time": "2020-09-02T11:08:37.479596Z",
     "start_time": "2020-09-02T11:08:37.463966Z"
    }
   },
   "outputs": [
    {
     "data": {
      "text/plain": [
       "<matplotlib.quiver.Quiver at 0x1bbedd8fe48>"
      ]
     },
     "execution_count": 35,
     "metadata": {},
     "output_type": "execute_result"
    }
   ],
   "source": []
  },
  {
   "cell_type": "code",
   "execution_count": 36,
   "metadata": {
    "ExecuteTime": {
     "end_time": "2020-09-02T10:38:40.291245Z",
     "start_time": "2020-09-02T10:38:40.269065Z"
    }
   },
   "outputs": [],
   "source": [
    "xx, yy = np.meshgrid(xvalues, yvalues)"
   ]
  },
  {
   "cell_type": "code",
   "execution_count": 37,
   "metadata": {
    "ExecuteTime": {
     "end_time": "2020-09-02T10:38:43.751613Z",
     "start_time": "2020-09-02T10:38:43.735983Z"
    }
   },
   "outputs": [
    {
     "data": {
      "text/plain": [
       "array([[0, 1, 2, 3, 4],\n",
       "       [0, 1, 2, 3, 4],\n",
       "       [0, 1, 2, 3, 4],\n",
       "       [0, 1, 2, 3, 4],\n",
       "       [0, 1, 2, 3, 4]])"
      ]
     },
     "execution_count": 37,
     "metadata": {},
     "output_type": "execute_result"
    }
   ],
   "source": [
    "xx"
   ]
  },
  {
   "cell_type": "code",
   "execution_count": null,
   "metadata": {},
   "outputs": [],
   "source": []
  }
 ],
 "metadata": {
  "kernelspec": {
   "display_name": "Python 3",
   "language": "python",
   "name": "python3"
  },
  "language_info": {
   "codemirror_mode": {
    "name": "ipython",
    "version": 3
   },
   "file_extension": ".py",
   "mimetype": "text/x-python",
   "name": "python",
   "nbconvert_exporter": "python",
   "pygments_lexer": "ipython3",
   "version": "3.7.6"
  },
  "toc": {
   "base_numbering": 1,
   "nav_menu": {},
   "number_sections": true,
   "sideBar": true,
   "skip_h1_title": false,
   "title_cell": "Table of Contents",
   "title_sidebar": "Contents",
   "toc_cell": false,
   "toc_position": {},
   "toc_section_display": true,
   "toc_window_display": false
  }
 },
 "nbformat": 4,
 "nbformat_minor": 4
}
