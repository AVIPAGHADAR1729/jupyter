{
 "cells": [
  {
   "cell_type": "code",
   "execution_count": 1,
   "metadata": {
    "ExecuteTime": {
     "end_time": "2020-11-17T12:41:37.884194Z",
     "start_time": "2020-11-17T12:41:35.667970Z"
    }
   },
   "outputs": [],
   "source": [
    "import pandas as pd \n",
    "import numpy as np\n",
    "import matplotlib.pylab as plt\n",
    "import seaborn as sns\n",
    "import warnings \n",
    "warnings.simplefilter('ignore')"
   ]
  },
  {
   "cell_type": "code",
   "execution_count": 2,
   "metadata": {
    "ExecuteTime": {
     "end_time": "2020-11-17T12:41:38.823455Z",
     "start_time": "2020-11-17T12:41:38.660951Z"
    }
   },
   "outputs": [
    {
     "data": {
      "text/html": [
       "<div>\n",
       "<style scoped>\n",
       "    .dataframe tbody tr th:only-of-type {\n",
       "        vertical-align: middle;\n",
       "    }\n",
       "\n",
       "    .dataframe tbody tr th {\n",
       "        vertical-align: top;\n",
       "    }\n",
       "\n",
       "    .dataframe thead th {\n",
       "        text-align: right;\n",
       "    }\n",
       "</style>\n",
       "<table border=\"1\" class=\"dataframe\">\n",
       "  <thead>\n",
       "    <tr style=\"text-align: right;\">\n",
       "      <th></th>\n",
       "      <th>Unnamed: 0</th>\n",
       "      <th>App</th>\n",
       "      <th>Category</th>\n",
       "      <th>Rating</th>\n",
       "      <th>Reviews</th>\n",
       "      <th>Size</th>\n",
       "      <th>Installs</th>\n",
       "      <th>Type</th>\n",
       "      <th>Price</th>\n",
       "      <th>Content Rating</th>\n",
       "      <th>Genres</th>\n",
       "      <th>Last Updated</th>\n",
       "      <th>Current Ver</th>\n",
       "      <th>Android Ver</th>\n",
       "    </tr>\n",
       "  </thead>\n",
       "  <tbody>\n",
       "    <tr>\n",
       "      <th>0</th>\n",
       "      <td>0</td>\n",
       "      <td>Photo Editor &amp; Candy Camera &amp; Grid &amp; ScrapBook</td>\n",
       "      <td>ART_AND_DESIGN</td>\n",
       "      <td>4.1</td>\n",
       "      <td>159</td>\n",
       "      <td>19.0</td>\n",
       "      <td>10,000+</td>\n",
       "      <td>Free</td>\n",
       "      <td>0</td>\n",
       "      <td>Everyone</td>\n",
       "      <td>Art &amp; Design</td>\n",
       "      <td>January 7, 2018</td>\n",
       "      <td>1.0.0</td>\n",
       "      <td>4.0.3 and up</td>\n",
       "    </tr>\n",
       "    <tr>\n",
       "      <th>1</th>\n",
       "      <td>1</td>\n",
       "      <td>Coloring book moana</td>\n",
       "      <td>ART_AND_DESIGN</td>\n",
       "      <td>3.9</td>\n",
       "      <td>967</td>\n",
       "      <td>14.0</td>\n",
       "      <td>500,000+</td>\n",
       "      <td>Free</td>\n",
       "      <td>0</td>\n",
       "      <td>Everyone</td>\n",
       "      <td>Art &amp; Design;Pretend Play</td>\n",
       "      <td>January 15, 2018</td>\n",
       "      <td>2.0.0</td>\n",
       "      <td>4.0.3 and up</td>\n",
       "    </tr>\n",
       "    <tr>\n",
       "      <th>2</th>\n",
       "      <td>2</td>\n",
       "      <td>U Launcher Lite – FREE Live Cool Themes, Hide ...</td>\n",
       "      <td>ART_AND_DESIGN</td>\n",
       "      <td>4.7</td>\n",
       "      <td>87510</td>\n",
       "      <td>8.7</td>\n",
       "      <td>5,000,000+</td>\n",
       "      <td>Free</td>\n",
       "      <td>0</td>\n",
       "      <td>Everyone</td>\n",
       "      <td>Art &amp; Design</td>\n",
       "      <td>August 1, 2018</td>\n",
       "      <td>1.2.4</td>\n",
       "      <td>4.0.3 and up</td>\n",
       "    </tr>\n",
       "    <tr>\n",
       "      <th>3</th>\n",
       "      <td>3</td>\n",
       "      <td>Sketch - Draw &amp; Paint</td>\n",
       "      <td>ART_AND_DESIGN</td>\n",
       "      <td>4.5</td>\n",
       "      <td>215644</td>\n",
       "      <td>25.0</td>\n",
       "      <td>50,000,000+</td>\n",
       "      <td>Free</td>\n",
       "      <td>0</td>\n",
       "      <td>Teen</td>\n",
       "      <td>Art &amp; Design</td>\n",
       "      <td>June 8, 2018</td>\n",
       "      <td>Varies with device</td>\n",
       "      <td>4.2 and up</td>\n",
       "    </tr>\n",
       "    <tr>\n",
       "      <th>4</th>\n",
       "      <td>4</td>\n",
       "      <td>Pixel Draw - Number Art Coloring Book</td>\n",
       "      <td>ART_AND_DESIGN</td>\n",
       "      <td>4.3</td>\n",
       "      <td>967</td>\n",
       "      <td>2.8</td>\n",
       "      <td>100,000+</td>\n",
       "      <td>Free</td>\n",
       "      <td>0</td>\n",
       "      <td>Everyone</td>\n",
       "      <td>Art &amp; Design;Creativity</td>\n",
       "      <td>June 20, 2018</td>\n",
       "      <td>1.1</td>\n",
       "      <td>4.4 and up</td>\n",
       "    </tr>\n",
       "  </tbody>\n",
       "</table>\n",
       "</div>"
      ],
      "text/plain": [
       "   Unnamed: 0                                                App  \\\n",
       "0           0     Photo Editor & Candy Camera & Grid & ScrapBook   \n",
       "1           1                                Coloring book moana   \n",
       "2           2  U Launcher Lite – FREE Live Cool Themes, Hide ...   \n",
       "3           3                              Sketch - Draw & Paint   \n",
       "4           4              Pixel Draw - Number Art Coloring Book   \n",
       "\n",
       "         Category  Rating  Reviews  Size     Installs  Type Price  \\\n",
       "0  ART_AND_DESIGN     4.1      159  19.0      10,000+  Free     0   \n",
       "1  ART_AND_DESIGN     3.9      967  14.0     500,000+  Free     0   \n",
       "2  ART_AND_DESIGN     4.7    87510   8.7   5,000,000+  Free     0   \n",
       "3  ART_AND_DESIGN     4.5   215644  25.0  50,000,000+  Free     0   \n",
       "4  ART_AND_DESIGN     4.3      967   2.8     100,000+  Free     0   \n",
       "\n",
       "  Content Rating                     Genres      Last Updated  \\\n",
       "0       Everyone               Art & Design   January 7, 2018   \n",
       "1       Everyone  Art & Design;Pretend Play  January 15, 2018   \n",
       "2       Everyone               Art & Design    August 1, 2018   \n",
       "3           Teen               Art & Design      June 8, 2018   \n",
       "4       Everyone    Art & Design;Creativity     June 20, 2018   \n",
       "\n",
       "          Current Ver   Android Ver  \n",
       "0               1.0.0  4.0.3 and up  \n",
       "1               2.0.0  4.0.3 and up  \n",
       "2               1.2.4  4.0.3 and up  \n",
       "3  Varies with device    4.2 and up  \n",
       "4                 1.1    4.4 and up  "
      ]
     },
     "execution_count": 2,
     "metadata": {},
     "output_type": "execute_result"
    }
   ],
   "source": [
    "apps =pd.read_csv(\"../data/apps.csv\")\n",
    "apps.head()"
   ]
  },
  {
   "cell_type": "code",
   "execution_count": 120,
   "metadata": {
    "ExecuteTime": {
     "end_time": "2020-06-25T16:01:10.899357Z",
     "start_time": "2020-06-25T16:01:10.805602Z"
    }
   },
   "outputs": [
    {
     "name": "stdout",
     "output_type": "stream",
     "text": [
      "<class 'pandas.core.frame.DataFrame'>\n",
      "RangeIndex: 9659 entries, 0 to 9658\n",
      "Data columns (total 14 columns):\n",
      " #   Column          Non-Null Count  Dtype  \n",
      "---  ------          --------------  -----  \n",
      " 0   index           9659 non-null   int64  \n",
      " 1   App             9659 non-null   object \n",
      " 2   Category        9659 non-null   object \n",
      " 3   Rating          8196 non-null   float64\n",
      " 4   Reviews         9659 non-null   int64  \n",
      " 5   Size            8432 non-null   float64\n",
      " 6   Installs        9659 non-null   int32  \n",
      " 7   Type            9659 non-null   object \n",
      " 8   Price           9659 non-null   float64\n",
      " 9   Content Rating  9659 non-null   object \n",
      " 10  Genres          9659 non-null   object \n",
      " 11  Last Updated    9659 non-null   object \n",
      " 12  Current Ver     9651 non-null   object \n",
      " 13  Android Ver     9657 non-null   object \n",
      "dtypes: float64(3), int32(1), int64(2), object(8)\n",
      "memory usage: 1018.8+ KB\n"
     ]
    }
   ],
   "source": [
    "apps.info()"
   ]
  },
  {
   "cell_type": "code",
   "execution_count": 107,
   "metadata": {
    "ExecuteTime": {
     "end_time": "2020-06-25T13:29:00.396312Z",
     "start_time": "2020-06-25T13:29:00.318127Z"
    }
   },
   "outputs": [],
   "source": [
    "# Cleaning and Converting column in appropriate data type\n",
    "\n",
    "#Cleaning\n",
    "\n",
    "#installs column [\"+\",\",\"] occuring (i.e 10,000+) \n",
    "apps['Installs']=apps['Installs'].str.replace(\"+\",\"\")\n",
    "apps['Installs']=apps['Installs'].str.replace(\",\",\"\")\n",
    "\n",
    "apps.rename({\"Unnamed: 0\":\"index\"}, axis=\"columns\", inplace=True)\n",
    "\n",
    "#Price column in $ occur(i.e $4.00)\n",
    "apps['Price']=apps['Price'].str.replace(\"$\",\"\")\n",
    "\n",
    "#Converting data type (object to numeric data)\n",
    "apps['Installs']=apps['Installs'].astype(int)\n",
    "apps['Price']=apps['Price'].astype(float)"
   ]
  },
  {
   "cell_type": "code",
   "execution_count": 121,
   "metadata": {
    "ExecuteTime": {
     "end_time": "2020-06-25T16:01:58.821929Z",
     "start_time": "2020-06-25T16:01:58.775093Z"
    }
   },
   "outputs": [
    {
     "name": "stdout",
     "output_type": "stream",
     "text": [
      "<class 'pandas.core.frame.DataFrame'>\n",
      "RangeIndex: 9659 entries, 0 to 9658\n",
      "Data columns (total 14 columns):\n",
      " #   Column          Non-Null Count  Dtype  \n",
      "---  ------          --------------  -----  \n",
      " 0   index           9659 non-null   int64  \n",
      " 1   App             9659 non-null   object \n",
      " 2   Category        9659 non-null   object \n",
      " 3   Rating          8196 non-null   float64\n",
      " 4   Reviews         9659 non-null   int64  \n",
      " 5   Size            8432 non-null   float64\n",
      " 6   Installs        9659 non-null   int32  \n",
      " 7   Type            9659 non-null   object \n",
      " 8   Price           9659 non-null   float64\n",
      " 9   Content Rating  9659 non-null   object \n",
      " 10  Genres          9659 non-null   object \n",
      " 11  Last Updated    9659 non-null   object \n",
      " 12  Current Ver     9651 non-null   object \n",
      " 13  Android Ver     9657 non-null   object \n",
      "dtypes: float64(3), int32(1), int64(2), object(8)\n",
      "memory usage: 1018.8+ KB\n"
     ]
    }
   ],
   "source": [
    "apps.info()"
   ]
  },
  {
   "cell_type": "code",
   "execution_count": null,
   "metadata": {
    "ExecuteTime": {
     "end_time": "2020-06-25T11:26:37.516521Z",
     "start_time": "2020-06-25T11:26:37.500897Z"
    }
   },
   "outputs": [],
   "source": [
    "# In This Analysis in Mostly We focus Below\n",
    "columns=[\"App\",\"Category\",\"Rating\",\"Size\",\"Installs\",\"Price\",\"Reviews\"]\n"
   ]
  },
  {
   "cell_type": "markdown",
   "metadata": {
    "ExecuteTime": {
     "end_time": "2020-06-25T07:54:47.884932Z",
     "start_time": "2020-06-25T07:54:47.862786Z"
    }
   },
   "source": [
    "<b> we need Analyze Category wise apps frequency  </b>"
   ]
  },
  {
   "cell_type": "code",
   "execution_count": 102,
   "metadata": {
    "ExecuteTime": {
     "end_time": "2020-06-25T13:27:09.919017Z",
     "start_time": "2020-06-25T13:27:09.887808Z"
    },
    "code_folding": []
   },
   "outputs": [
    {
     "data": {
      "text/plain": [
       "array(['ART_AND_DESIGN', 'AUTO_AND_VEHICLES', 'BEAUTY',\n",
       "       'BOOKS_AND_REFERENCE', 'BUSINESS', 'COMICS', 'COMMUNICATION',\n",
       "       'DATING', 'EDUCATION', 'ENTERTAINMENT', 'EVENTS', 'FINANCE',\n",
       "       'FOOD_AND_DRINK', 'HEALTH_AND_FITNESS', 'HOUSE_AND_HOME',\n",
       "       'LIBRARIES_AND_DEMO', 'LIFESTYLE', 'GAME', 'FAMILY', 'MEDICAL',\n",
       "       'SOCIAL', 'SHOPPING', 'PHOTOGRAPHY', 'SPORTS', 'TRAVEL_AND_LOCAL',\n",
       "       'TOOLS', 'PERSONALIZATION', 'PRODUCTIVITY', 'PARENTING', 'WEATHER',\n",
       "       'VIDEO_PLAYERS', 'NEWS_AND_MAGAZINES', 'MAPS_AND_NAVIGATION'],\n",
       "      dtype=object)"
      ]
     },
     "execution_count": 102,
     "metadata": {},
     "output_type": "execute_result"
    }
   ],
   "source": [
    "#1.we need Analyze Category wise apps frequency\n",
    "Unique_Category = apps['Category'].unique()\n",
    "Unique_Category"
   ]
  },
  {
   "cell_type": "code",
   "execution_count": 68,
   "metadata": {
    "ExecuteTime": {
     "end_time": "2020-06-25T12:30:59.967253Z",
     "start_time": "2020-06-25T12:30:59.851388Z"
    }
   },
   "outputs": [
    {
     "data": {
      "text/html": [
       "<div>\n",
       "<style scoped>\n",
       "    .dataframe tbody tr th:only-of-type {\n",
       "        vertical-align: middle;\n",
       "    }\n",
       "\n",
       "    .dataframe tbody tr th {\n",
       "        vertical-align: top;\n",
       "    }\n",
       "\n",
       "    .dataframe thead th {\n",
       "        text-align: right;\n",
       "    }\n",
       "</style>\n",
       "<table border=\"1\" class=\"dataframe\">\n",
       "  <thead>\n",
       "    <tr style=\"text-align: right;\">\n",
       "      <th></th>\n",
       "      <th>count</th>\n",
       "    </tr>\n",
       "  </thead>\n",
       "  <tbody>\n",
       "    <tr>\n",
       "      <th>FAMILY</th>\n",
       "      <td>1832</td>\n",
       "    </tr>\n",
       "    <tr>\n",
       "      <th>GAME</th>\n",
       "      <td>959</td>\n",
       "    </tr>\n",
       "    <tr>\n",
       "      <th>TOOLS</th>\n",
       "      <td>827</td>\n",
       "    </tr>\n",
       "    <tr>\n",
       "      <th>BUSINESS</th>\n",
       "      <td>420</td>\n",
       "    </tr>\n",
       "    <tr>\n",
       "      <th>MEDICAL</th>\n",
       "      <td>395</td>\n",
       "    </tr>\n",
       "    <tr>\n",
       "      <th>PERSONALIZATION</th>\n",
       "      <td>376</td>\n",
       "    </tr>\n",
       "    <tr>\n",
       "      <th>PRODUCTIVITY</th>\n",
       "      <td>374</td>\n",
       "    </tr>\n",
       "    <tr>\n",
       "      <th>LIFESTYLE</th>\n",
       "      <td>369</td>\n",
       "    </tr>\n",
       "    <tr>\n",
       "      <th>FINANCE</th>\n",
       "      <td>345</td>\n",
       "    </tr>\n",
       "    <tr>\n",
       "      <th>SPORTS</th>\n",
       "      <td>325</td>\n",
       "    </tr>\n",
       "    <tr>\n",
       "      <th>COMMUNICATION</th>\n",
       "      <td>315</td>\n",
       "    </tr>\n",
       "    <tr>\n",
       "      <th>HEALTH_AND_FITNESS</th>\n",
       "      <td>288</td>\n",
       "    </tr>\n",
       "    <tr>\n",
       "      <th>PHOTOGRAPHY</th>\n",
       "      <td>281</td>\n",
       "    </tr>\n",
       "    <tr>\n",
       "      <th>NEWS_AND_MAGAZINES</th>\n",
       "      <td>254</td>\n",
       "    </tr>\n",
       "    <tr>\n",
       "      <th>SOCIAL</th>\n",
       "      <td>239</td>\n",
       "    </tr>\n",
       "    <tr>\n",
       "      <th>BOOKS_AND_REFERENCE</th>\n",
       "      <td>222</td>\n",
       "    </tr>\n",
       "    <tr>\n",
       "      <th>TRAVEL_AND_LOCAL</th>\n",
       "      <td>219</td>\n",
       "    </tr>\n",
       "    <tr>\n",
       "      <th>SHOPPING</th>\n",
       "      <td>202</td>\n",
       "    </tr>\n",
       "    <tr>\n",
       "      <th>DATING</th>\n",
       "      <td>171</td>\n",
       "    </tr>\n",
       "    <tr>\n",
       "      <th>VIDEO_PLAYERS</th>\n",
       "      <td>163</td>\n",
       "    </tr>\n",
       "    <tr>\n",
       "      <th>MAPS_AND_NAVIGATION</th>\n",
       "      <td>131</td>\n",
       "    </tr>\n",
       "    <tr>\n",
       "      <th>EDUCATION</th>\n",
       "      <td>119</td>\n",
       "    </tr>\n",
       "    <tr>\n",
       "      <th>FOOD_AND_DRINK</th>\n",
       "      <td>112</td>\n",
       "    </tr>\n",
       "    <tr>\n",
       "      <th>ENTERTAINMENT</th>\n",
       "      <td>102</td>\n",
       "    </tr>\n",
       "    <tr>\n",
       "      <th>AUTO_AND_VEHICLES</th>\n",
       "      <td>85</td>\n",
       "    </tr>\n",
       "    <tr>\n",
       "      <th>LIBRARIES_AND_DEMO</th>\n",
       "      <td>84</td>\n",
       "    </tr>\n",
       "    <tr>\n",
       "      <th>WEATHER</th>\n",
       "      <td>79</td>\n",
       "    </tr>\n",
       "    <tr>\n",
       "      <th>HOUSE_AND_HOME</th>\n",
       "      <td>74</td>\n",
       "    </tr>\n",
       "    <tr>\n",
       "      <th>ART_AND_DESIGN</th>\n",
       "      <td>64</td>\n",
       "    </tr>\n",
       "    <tr>\n",
       "      <th>EVENTS</th>\n",
       "      <td>64</td>\n",
       "    </tr>\n",
       "    <tr>\n",
       "      <th>PARENTING</th>\n",
       "      <td>60</td>\n",
       "    </tr>\n",
       "    <tr>\n",
       "      <th>COMICS</th>\n",
       "      <td>56</td>\n",
       "    </tr>\n",
       "    <tr>\n",
       "      <th>BEAUTY</th>\n",
       "      <td>53</td>\n",
       "    </tr>\n",
       "  </tbody>\n",
       "</table>\n",
       "</div>"
      ],
      "text/plain": [
       "                     count\n",
       "FAMILY                1832\n",
       "GAME                   959\n",
       "TOOLS                  827\n",
       "BUSINESS               420\n",
       "MEDICAL                395\n",
       "PERSONALIZATION        376\n",
       "PRODUCTIVITY           374\n",
       "LIFESTYLE              369\n",
       "FINANCE                345\n",
       "SPORTS                 325\n",
       "COMMUNICATION          315\n",
       "HEALTH_AND_FITNESS     288\n",
       "PHOTOGRAPHY            281\n",
       "NEWS_AND_MAGAZINES     254\n",
       "SOCIAL                 239\n",
       "BOOKS_AND_REFERENCE    222\n",
       "TRAVEL_AND_LOCAL       219\n",
       "SHOPPING               202\n",
       "DATING                 171\n",
       "VIDEO_PLAYERS          163\n",
       "MAPS_AND_NAVIGATION    131\n",
       "EDUCATION              119\n",
       "FOOD_AND_DRINK         112\n",
       "ENTERTAINMENT          102\n",
       "AUTO_AND_VEHICLES       85\n",
       "LIBRARIES_AND_DEMO      84\n",
       "WEATHER                 79\n",
       "HOUSE_AND_HOME          74\n",
       "ART_AND_DESIGN          64\n",
       "EVENTS                  64\n",
       "PARENTING               60\n",
       "COMICS                  56\n",
       "BEAUTY                  53"
      ]
     },
     "execution_count": 68,
     "metadata": {},
     "output_type": "execute_result"
    }
   ],
   "source": [
    "Frequency_Category = apps['Category'].value_counts().to_frame()  # Value_Count\n",
    "Frequency_Category.rename({\"Category\": \"count\"}, axis=1,inplace=True)\n",
    "Frequency_Category"
   ]
  },
  {
   "cell_type": "code",
   "execution_count": 69,
   "metadata": {
    "ExecuteTime": {
     "end_time": "2020-06-25T12:31:01.797022Z",
     "start_time": "2020-06-25T12:31:01.217523Z"
    }
   },
   "outputs": [
    {
     "data": {
      "image/png": "[encoded data removed]",
      "text/plain": [
       "<Figure size 864x288 with 1 Axes>"
      ]
     },
     "metadata": {
      "needs_background": "light"
     },
     "output_type": "display_data"
    }
   ],
   "source": [
    "\n",
    "#plot\n",
    "plt.figure(figsize=(12, 4))\n",
    "plt.bar(Frequency_Category.index,Frequency_Category['count'])\n",
    "plt.xticks(rotation=90)\n",
    "plt.show()\n",
    "\n",
    "\n"
   ]
  },
  {
   "cell_type": "markdown",
   "metadata": {},
   "source": [
    "<b> we need Analyze Ratings less 3 Rating and paid app(less_performance) </b>"
   ]
  },
  {
   "cell_type": "code",
   "execution_count": 124,
   "metadata": {
    "ExecuteTime": {
     "end_time": "2020-06-25T16:03:37.411861Z",
     "start_time": "2020-06-25T16:03:37.318107Z"
    }
   },
   "outputs": [
    {
     "data": {
      "text/html": [
       "<div>\n",
       "<style scoped>\n",
       "    .dataframe tbody tr th:only-of-type {\n",
       "        vertical-align: middle;\n",
       "    }\n",
       "\n",
       "    .dataframe tbody tr th {\n",
       "        vertical-align: top;\n",
       "    }\n",
       "\n",
       "    .dataframe thead th {\n",
       "        text-align: right;\n",
       "    }\n",
       "</style>\n",
       "<table border=\"1\" class=\"dataframe\">\n",
       "  <thead>\n",
       "    <tr style=\"text-align: right;\">\n",
       "      <th></th>\n",
       "      <th>App</th>\n",
       "      <th>Rating</th>\n",
       "      <th>Price</th>\n",
       "      <th>Type</th>\n",
       "      <th>Installs</th>\n",
       "      <th>Reviews</th>\n",
       "      <th>Total_Earning</th>\n",
       "      <th>per_rating_paid(by people)</th>\n",
       "    </tr>\n",
       "  </thead>\n",
       "  <tbody>\n",
       "    <tr>\n",
       "      <th>4401</th>\n",
       "      <td>I am extremely Rich</td>\n",
       "      <td>2.9</td>\n",
       "      <td>379.99</td>\n",
       "      <td>Paid</td>\n",
       "      <td>1000</td>\n",
       "      <td>41</td>\n",
       "      <td>379990.0</td>\n",
       "      <td>131031.034483</td>\n",
       "    </tr>\n",
       "    <tr>\n",
       "      <th>8882</th>\n",
       "      <td>Advanced EX for HYUNDAI</td>\n",
       "      <td>2.7</td>\n",
       "      <td>4.99</td>\n",
       "      <td>Paid</td>\n",
       "      <td>5000</td>\n",
       "      <td>168</td>\n",
       "      <td>24950.0</td>\n",
       "      <td>9240.740741</td>\n",
       "    </tr>\n",
       "    <tr>\n",
       "      <th>8892</th>\n",
       "      <td>Advanced EX for RENAULT</td>\n",
       "      <td>2.8</td>\n",
       "      <td>4.99</td>\n",
       "      <td>Paid</td>\n",
       "      <td>5000</td>\n",
       "      <td>130</td>\n",
       "      <td>24950.0</td>\n",
       "      <td>8910.714286</td>\n",
       "    </tr>\n",
       "    <tr>\n",
       "      <th>8890</th>\n",
       "      <td>Advanced EX for NISSAN</td>\n",
       "      <td>2.9</td>\n",
       "      <td>4.99</td>\n",
       "      <td>Paid</td>\n",
       "      <td>5000</td>\n",
       "      <td>164</td>\n",
       "      <td>24950.0</td>\n",
       "      <td>8603.448276</td>\n",
       "    </tr>\n",
       "    <tr>\n",
       "      <th>4729</th>\n",
       "      <td>Ai-Ball AV Recorder</td>\n",
       "      <td>2.7</td>\n",
       "      <td>2.99</td>\n",
       "      <td>Paid</td>\n",
       "      <td>5000</td>\n",
       "      <td>90</td>\n",
       "      <td>14950.0</td>\n",
       "      <td>5537.037037</td>\n",
       "    </tr>\n",
       "    <tr>\n",
       "      <th>1797</th>\n",
       "      <td>InfantRisk Center HCP</td>\n",
       "      <td>2.6</td>\n",
       "      <td>9.99</td>\n",
       "      <td>Paid</td>\n",
       "      <td>1000</td>\n",
       "      <td>41</td>\n",
       "      <td>9990.0</td>\n",
       "      <td>3842.307692</td>\n",
       "    </tr>\n",
       "    <tr>\n",
       "      <th>4679</th>\n",
       "      <td>BringGo AU &amp; NZ</td>\n",
       "      <td>2.8</td>\n",
       "      <td>0.99</td>\n",
       "      <td>Paid</td>\n",
       "      <td>10000</td>\n",
       "      <td>440</td>\n",
       "      <td>9900.0</td>\n",
       "      <td>3535.714286</td>\n",
       "    </tr>\n",
       "    <tr>\n",
       "      <th>8884</th>\n",
       "      <td>Remote EX for NISSAN</td>\n",
       "      <td>2.3</td>\n",
       "      <td>1.49</td>\n",
       "      <td>Paid</td>\n",
       "      <td>5000</td>\n",
       "      <td>223</td>\n",
       "      <td>7450.0</td>\n",
       "      <td>3239.130435</td>\n",
       "    </tr>\n",
       "    <tr>\n",
       "      <th>5806</th>\n",
       "      <td>SkyTest BU/GU Lite</td>\n",
       "      <td>2.9</td>\n",
       "      <td>17.99</td>\n",
       "      <td>Paid</td>\n",
       "      <td>500</td>\n",
       "      <td>28</td>\n",
       "      <td>8995.0</td>\n",
       "      <td>3101.724138</td>\n",
       "    </tr>\n",
       "    <tr>\n",
       "      <th>407</th>\n",
       "      <td>Calculator</td>\n",
       "      <td>2.6</td>\n",
       "      <td>6.99</td>\n",
       "      <td>Paid</td>\n",
       "      <td>1000</td>\n",
       "      <td>57</td>\n",
       "      <td>6990.0</td>\n",
       "      <td>2688.461538</td>\n",
       "    </tr>\n",
       "    <tr>\n",
       "      <th>8887</th>\n",
       "      <td>Advanced EX for MITSUBISHI</td>\n",
       "      <td>2.9</td>\n",
       "      <td>4.99</td>\n",
       "      <td>Paid</td>\n",
       "      <td>1000</td>\n",
       "      <td>33</td>\n",
       "      <td>4990.0</td>\n",
       "      <td>1720.689655</td>\n",
       "    </tr>\n",
       "    <tr>\n",
       "      <th>1762</th>\n",
       "      <td>VeinSeek</td>\n",
       "      <td>2.5</td>\n",
       "      <td>3.99</td>\n",
       "      <td>Paid</td>\n",
       "      <td>1000</td>\n",
       "      <td>79</td>\n",
       "      <td>3990.0</td>\n",
       "      <td>1596.000000</td>\n",
       "    </tr>\n",
       "    <tr>\n",
       "      <th>4925</th>\n",
       "      <td>BA Pro Financial Calculator</td>\n",
       "      <td>2.4</td>\n",
       "      <td>1.99</td>\n",
       "      <td>Paid</td>\n",
       "      <td>1000</td>\n",
       "      <td>36</td>\n",
       "      <td>1990.0</td>\n",
       "      <td>829.166667</td>\n",
       "    </tr>\n",
       "    <tr>\n",
       "      <th>3294</th>\n",
       "      <td>G-Playlists</td>\n",
       "      <td>1.8</td>\n",
       "      <td>1.49</td>\n",
       "      <td>Paid</td>\n",
       "      <td>1000</td>\n",
       "      <td>53</td>\n",
       "      <td>1490.0</td>\n",
       "      <td>827.777778</td>\n",
       "    </tr>\n",
       "    <tr>\n",
       "      <th>6916</th>\n",
       "      <td>CV-RECORD Pro</td>\n",
       "      <td>2.3</td>\n",
       "      <td>0.99</td>\n",
       "      <td>Paid</td>\n",
       "      <td>1000</td>\n",
       "      <td>42</td>\n",
       "      <td>990.0</td>\n",
       "      <td>430.434783</td>\n",
       "    </tr>\n",
       "    <tr>\n",
       "      <th>5912</th>\n",
       "      <td>Bitcoin BX Thailand PRO</td>\n",
       "      <td>1.7</td>\n",
       "      <td>4.99</td>\n",
       "      <td>Paid</td>\n",
       "      <td>100</td>\n",
       "      <td>21</td>\n",
       "      <td>499.0</td>\n",
       "      <td>293.529412</td>\n",
       "    </tr>\n",
       "    <tr>\n",
       "      <th>6599</th>\n",
       "      <td>SharedCare™ Co-parenting</td>\n",
       "      <td>2.0</td>\n",
       "      <td>4.59</td>\n",
       "      <td>Paid</td>\n",
       "      <td>100</td>\n",
       "      <td>23</td>\n",
       "      <td>459.0</td>\n",
       "      <td>229.500000</td>\n",
       "    </tr>\n",
       "    <tr>\n",
       "      <th>4515</th>\n",
       "      <td>iScore5 AP Psych</td>\n",
       "      <td>2.9</td>\n",
       "      <td>4.99</td>\n",
       "      <td>Paid</td>\n",
       "      <td>100</td>\n",
       "      <td>10</td>\n",
       "      <td>499.0</td>\n",
       "      <td>172.068966</td>\n",
       "    </tr>\n",
       "    <tr>\n",
       "      <th>5204</th>\n",
       "      <td>CSCS BG (в български)</td>\n",
       "      <td>2.4</td>\n",
       "      <td>3.99</td>\n",
       "      <td>Paid</td>\n",
       "      <td>100</td>\n",
       "      <td>7</td>\n",
       "      <td>399.0</td>\n",
       "      <td>166.250000</td>\n",
       "    </tr>\n",
       "    <tr>\n",
       "      <th>4986</th>\n",
       "      <td>Truck Driving Test Class 3 BC</td>\n",
       "      <td>1.0</td>\n",
       "      <td>1.49</td>\n",
       "      <td>Paid</td>\n",
       "      <td>50</td>\n",
       "      <td>1</td>\n",
       "      <td>74.5</td>\n",
       "      <td>74.500000</td>\n",
       "    </tr>\n",
       "    <tr>\n",
       "      <th>3268</th>\n",
       "      <td>Speech Therapy: F</td>\n",
       "      <td>1.0</td>\n",
       "      <td>2.99</td>\n",
       "      <td>Paid</td>\n",
       "      <td>10</td>\n",
       "      <td>1</td>\n",
       "      <td>29.9</td>\n",
       "      <td>29.900000</td>\n",
       "    </tr>\n",
       "    <tr>\n",
       "      <th>7476</th>\n",
       "      <td>Interactive NPC DM Tool</td>\n",
       "      <td>2.8</td>\n",
       "      <td>0.99</td>\n",
       "      <td>Paid</td>\n",
       "      <td>50</td>\n",
       "      <td>5</td>\n",
       "      <td>49.5</td>\n",
       "      <td>17.678571</td>\n",
       "    </tr>\n",
       "  </tbody>\n",
       "</table>\n",
       "</div>"
      ],
      "text/plain": [
       "                                App  Rating   Price  Type  Installs  Reviews  \\\n",
       "4401            I am extremely Rich     2.9  379.99  Paid      1000       41   \n",
       "8882        Advanced EX for HYUNDAI     2.7    4.99  Paid      5000      168   \n",
       "8892        Advanced EX for RENAULT     2.8    4.99  Paid      5000      130   \n",
       "8890         Advanced EX for NISSAN     2.9    4.99  Paid      5000      164   \n",
       "4729            Ai-Ball AV Recorder     2.7    2.99  Paid      5000       90   \n",
       "1797          InfantRisk Center HCP     2.6    9.99  Paid      1000       41   \n",
       "4679                BringGo AU & NZ     2.8    0.99  Paid     10000      440   \n",
       "8884           Remote EX for NISSAN     2.3    1.49  Paid      5000      223   \n",
       "5806             SkyTest BU/GU Lite     2.9   17.99  Paid       500       28   \n",
       "407                      Calculator     2.6    6.99  Paid      1000       57   \n",
       "8887     Advanced EX for MITSUBISHI     2.9    4.99  Paid      1000       33   \n",
       "1762                       VeinSeek     2.5    3.99  Paid      1000       79   \n",
       "4925    BA Pro Financial Calculator     2.4    1.99  Paid      1000       36   \n",
       "3294                    G-Playlists     1.8    1.49  Paid      1000       53   \n",
       "6916                  CV-RECORD Pro     2.3    0.99  Paid      1000       42   \n",
       "5912        Bitcoin BX Thailand PRO     1.7    4.99  Paid       100       21   \n",
       "6599       SharedCare™ Co-parenting     2.0    4.59  Paid       100       23   \n",
       "4515               iScore5 AP Psych     2.9    4.99  Paid       100       10   \n",
       "5204          CSCS BG (в български)     2.4    3.99  Paid       100        7   \n",
       "4986  Truck Driving Test Class 3 BC     1.0    1.49  Paid        50        1   \n",
       "3268              Speech Therapy: F     1.0    2.99  Paid        10        1   \n",
       "7476        Interactive NPC DM Tool     2.8    0.99  Paid        50        5   \n",
       "\n",
       "      Total_Earning  per_rating_paid(by people)  \n",
       "4401       379990.0               131031.034483  \n",
       "8882        24950.0                 9240.740741  \n",
       "8892        24950.0                 8910.714286  \n",
       "8890        24950.0                 8603.448276  \n",
       "4729        14950.0                 5537.037037  \n",
       "1797         9990.0                 3842.307692  \n",
       "4679         9900.0                 3535.714286  \n",
       "8884         7450.0                 3239.130435  \n",
       "5806         8995.0                 3101.724138  \n",
       "407          6990.0                 2688.461538  \n",
       "8887         4990.0                 1720.689655  \n",
       "1762         3990.0                 1596.000000  \n",
       "4925         1990.0                  829.166667  \n",
       "3294         1490.0                  827.777778  \n",
       "6916          990.0                  430.434783  \n",
       "5912          499.0                  293.529412  \n",
       "6599          459.0                  229.500000  \n",
       "4515          499.0                  172.068966  \n",
       "5204          399.0                  166.250000  \n",
       "4986           74.5                   74.500000  \n",
       "3268           29.9                   29.900000  \n",
       "7476           49.5                   17.678571  "
      ]
     },
     "execution_count": 124,
     "metadata": {},
     "output_type": "execute_result"
    }
   ],
   "source": [
    "#selecting useful colunmn \n",
    "less_performance=apps.loc[0:,['App','Rating','Price','Type','Installs','Reviews']].dropna() #here not count None value \n",
    "\n",
    "c1=less_performance['Rating']<3\n",
    "c2=less_performance['Type']=='Paid'\n",
    "less_performance=less_performance[c1 & c2 ]\n",
    "\n",
    "\n",
    "#Total Earning individiual app\n",
    "less_performance[\"Total_Earning\"]=less_performance['Price']*less_performance['Installs']\n",
    "\n",
    "\n",
    "# per rating public paid Money (i.e Here Below Table You See \"I am extremely Rich\" app  earn 131031$ per ratings so here\n",
    "# public Lost big ,public paid big amount this app get only 1 rate it's worst app)\n",
    "\n",
    "less_performance['per_rating_paid(by people)']=less_performance[\"Total_Earning\"]/less_performance[\"Rating\"]\n",
    "less_performance.sort_values(by='per_rating_paid(by people)',ascending=False,inplace=True)\n",
    "less_performance"
   ]
  },
  {
   "cell_type": "code",
   "execution_count": 125,
   "metadata": {
    "ExecuteTime": {
     "end_time": "2020-06-25T16:03:42.496319Z",
     "start_time": "2020-06-25T16:03:41.649569Z"
    }
   },
   "outputs": [
    {
     "data": {
      "image/png": "[encoded data removed]",
      "text/plain": [
       "<Figure size 864x360 with 3 Axes>"
      ]
     },
     "metadata": {
      "needs_background": "light"
     },
     "output_type": "display_data"
    }
   ],
   "source": [
    "## ploting \n",
    "plt.figure(figsize=(12,5))\n",
    "plt.suptitle(\"App vs Paid(by People per rating)\")\n",
    "\n",
    "#plot 1\n",
    "plt.subplot(131) #subplot give us better Visualization\n",
    "less_performance1=less_performance[0:4]\n",
    "plt.bar(less_performance1['App'],less_performance1['per_rating_paid(by people)'])\n",
    "plt.xticks(rotation=90)\n",
    "\n",
    "#plot 2\n",
    "plt.subplot(132)\n",
    "less_performance2=less_performance[4:12]\n",
    "plt.bar(less_performance2['App'],less_performance2['per_rating_paid(by people)'])\n",
    "plt.xticks(rotation=90)\n",
    "\n",
    "#plot 3\n",
    "plt.subplot(133)\n",
    "less_performance3=less_performance[12:]\n",
    "plt.bar(less_performance3['App'],less_performance3['per_rating_paid(by people)'])\n",
    "plt.xticks(rotation=90)\n",
    "\n",
    "plt.show()"
   ]
  },
  {
   "cell_type": "markdown",
   "metadata": {},
   "source": [
    "<b> Now we Comapare rating between free and paid app via Boxplot</b>\n"
   ]
  },
  {
   "cell_type": "code",
   "execution_count": 117,
   "metadata": {
    "ExecuteTime": {
     "end_time": "2020-06-25T15:57:32.613132Z",
     "start_time": "2020-06-25T15:57:32.581883Z"
    }
   },
   "outputs": [],
   "source": [
    "%matplotlib inline"
   ]
  },
  {
   "cell_type": "code",
   "execution_count": 119,
   "metadata": {
    "ExecuteTime": {
     "end_time": "2020-06-25T15:57:45.444169Z",
     "start_time": "2020-06-25T15:57:45.011782Z"
    }
   },
   "outputs": [
    {
     "data": {
      "text/plain": [
       "<matplotlib.axes._subplots.AxesSubplot at 0x2534e342d08>"
      ]
     },
     "execution_count": 119,
     "metadata": {},
     "output_type": "execute_result"
    },
    {
     "data": {
      "image/png": "[encoded data removed]",
      "text/plain": [
       "<Figure size 864x360 with 1 Axes>"
      ]
     },
     "metadata": {
      "needs_background": "light"
     },
     "output_type": "display_data"
    }
   ],
   "source": [
    "plt.figure(figsize=(12,5))\n",
    "sns.boxplot('Type','Rating',data=apps) \n",
    "# sns.boxplot('Type','Rating',data=apps,showfliers=False) without  outliers"
   ]
  },
  {
   "cell_type": "code",
   "execution_count": 73,
   "metadata": {
    "ExecuteTime": {
     "end_time": "2020-06-25T12:31:04.988779Z",
     "start_time": "2020-06-25T12:31:04.973153Z"
    }
   },
   "outputs": [],
   "source": [
    "#above plot you can see paid app Median slightly up.mid 50 % paid app get 4.1 to 4.60  rating while free mid 50% app \n",
    "#get 4 to 4.5 ratings here outliers not include "
   ]
  },
  {
   "cell_type": "markdown",
   "metadata": {},
   "source": [
    "<b> Now we make plot size vs Rating (bar) </b>"
   ]
  },
  {
   "cell_type": "code",
   "execution_count": 126,
   "metadata": {
    "ExecuteTime": {
     "end_time": "2020-06-25T16:04:44.986432Z",
     "start_time": "2020-06-25T16:04:38.180864Z"
    }
   },
   "outputs": [
    {
     "data": {
      "text/plain": [
       "<Figure size 936x360 with 0 Axes>"
      ]
     },
     "metadata": {},
     "output_type": "display_data"
    },
    {
     "data": {
      "image/png": "[encoded data removed]",
      "text/plain": [
       "<Figure size 432x432 with 3 Axes>"
      ]
     },
     "metadata": {
      "needs_background": "light"
     },
     "output_type": "display_data"
    }
   ],
   "source": [
    "plt.figure(figsize=(13,5))\n",
    "Rate_Size=apps[apps['Size']<30].dropna() #None Value not Count\n",
    "sns.jointplot(data=Rate_Size,x='Rating', y='Size',kind='kde')\n",
    "# sns.boxplot(apps['Rating'],apps['Size'],showfliers=False)\n",
    "plt.xticks(rotation=90)\n",
    "plt.show()\n",
    "# Here Below plot you can see  4 Mb to 10Mb size give us best Performance 4 to 4.5 Rates "
   ]
  },
  {
   "cell_type": "code",
   "execution_count": 97,
   "metadata": {
    "ExecuteTime": {
     "end_time": "2020-06-25T13:22:16.526178Z",
     "start_time": "2020-06-25T13:22:16.510554Z"
    }
   },
   "outputs": [],
   "source": []
  },
  {
   "cell_type": "code",
   "execution_count": null,
   "metadata": {},
   "outputs": [],
   "source": []
  }
 ],
 "metadata": {
  "kernelspec": {
   "display_name": "Python 3",
   "language": "python",
   "name": "python3"
  },
  "language_info": {
   "codemirror_mode": {
    "name": "ipython",
    "version": 3
   },
   "file_extension": ".py",
   "mimetype": "text/x-python",
   "name": "python",
   "nbconvert_exporter": "python",
   "pygments_lexer": "ipython3",
   "version": "3.7.6"
  },
  "toc": {
   "base_numbering": 1,
   "nav_menu": {},
   "number_sections": true,
   "sideBar": true,
   "skip_h1_title": false,
   "title_cell": "Table of Contents",
   "title_sidebar": "Contents",
   "toc_cell": false,
   "toc_position": {},
   "toc_section_display": true,
   "toc_window_display": false
  }
 },
 "nbformat": 4,
 "nbformat_minor": 4
}
