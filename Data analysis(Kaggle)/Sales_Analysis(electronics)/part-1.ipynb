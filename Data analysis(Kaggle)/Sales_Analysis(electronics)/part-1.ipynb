{
 "cells": [
  {
   "cell_type": "code",
   "execution_count": 1,
   "metadata": {
    "ExecuteTime": {
     "end_time": "2020-11-26T15:40:54.666425Z",
     "start_time": "2020-11-26T15:40:16.124660Z"
    }
   },
   "outputs": [],
   "source": [
    "import pandas as pd \n",
    "import seaborn as sns\n",
    "import matplotlib.pylab as plt \n",
    "import statsmodels.api as st \n",
    "import numpy as np\n",
    "import plotly.express as px\n",
    "import warnings \n",
    "warnings.simplefilter('ignore')"
   ]
  },
  {
   "cell_type": "code",
   "execution_count": 2,
   "metadata": {
    "ExecuteTime": {
     "end_time": "2020-11-26T15:40:55.005847Z",
     "start_time": "2020-11-26T15:40:54.666425Z"
    }
   },
   "outputs": [],
   "source": [
    "sales_april=pd.read_csv('../../data/Sales_Data_electronics/Sales_April_2019.csv')\n",
    "sales_april_ori=sales_april # for storing original data \n"
   ]
  },
  {
   "cell_type": "code",
   "execution_count": 3,
   "metadata": {
    "ExecuteTime": {
     "end_time": "2020-11-26T15:40:55.126777Z",
     "start_time": "2020-11-26T15:40:55.011843Z"
    }
   },
   "outputs": [
    {
     "data": {
      "text/html": [
       "<div>\n",
       "<style scoped>\n",
       "    .dataframe tbody tr th:only-of-type {\n",
       "        vertical-align: middle;\n",
       "    }\n",
       "\n",
       "    .dataframe tbody tr th {\n",
       "        vertical-align: top;\n",
       "    }\n",
       "\n",
       "    .dataframe thead th {\n",
       "        text-align: right;\n",
       "    }\n",
       "</style>\n",
       "<table border=\"1\" class=\"dataframe\">\n",
       "  <thead>\n",
       "    <tr style=\"text-align: right;\">\n",
       "      <th></th>\n",
       "      <th>Order ID</th>\n",
       "      <th>Product</th>\n",
       "      <th>Quantity Ordered</th>\n",
       "      <th>Price Each</th>\n",
       "      <th>Order Date</th>\n",
       "      <th>Purchase Address</th>\n",
       "    </tr>\n",
       "  </thead>\n",
       "  <tbody>\n",
       "    <tr>\n",
       "      <th>0</th>\n",
       "      <td>176558</td>\n",
       "      <td>USB-C Charging Cable</td>\n",
       "      <td>2</td>\n",
       "      <td>11.95</td>\n",
       "      <td>04/19/19 08:46</td>\n",
       "      <td>917 1st St, Dallas, TX 75001</td>\n",
       "    </tr>\n",
       "    <tr>\n",
       "      <th>1</th>\n",
       "      <td>NaN</td>\n",
       "      <td>NaN</td>\n",
       "      <td>NaN</td>\n",
       "      <td>NaN</td>\n",
       "      <td>NaN</td>\n",
       "      <td>NaN</td>\n",
       "    </tr>\n",
       "    <tr>\n",
       "      <th>2</th>\n",
       "      <td>176559</td>\n",
       "      <td>Bose SoundSport Headphones</td>\n",
       "      <td>1</td>\n",
       "      <td>99.99</td>\n",
       "      <td>04/07/19 22:30</td>\n",
       "      <td>682 Chestnut St, Boston, MA 02215</td>\n",
       "    </tr>\n",
       "    <tr>\n",
       "      <th>3</th>\n",
       "      <td>176560</td>\n",
       "      <td>Google Phone</td>\n",
       "      <td>1</td>\n",
       "      <td>600</td>\n",
       "      <td>04/12/19 14:38</td>\n",
       "      <td>669 Spruce St, Los Angeles, CA 90001</td>\n",
       "    </tr>\n",
       "    <tr>\n",
       "      <th>4</th>\n",
       "      <td>176560</td>\n",
       "      <td>Wired Headphones</td>\n",
       "      <td>1</td>\n",
       "      <td>11.99</td>\n",
       "      <td>04/12/19 14:38</td>\n",
       "      <td>669 Spruce St, Los Angeles, CA 90001</td>\n",
       "    </tr>\n",
       "    <tr>\n",
       "      <th>5</th>\n",
       "      <td>176561</td>\n",
       "      <td>Wired Headphones</td>\n",
       "      <td>1</td>\n",
       "      <td>11.99</td>\n",
       "      <td>04/30/19 09:27</td>\n",
       "      <td>333 8th St, Los Angeles, CA 90001</td>\n",
       "    </tr>\n",
       "    <tr>\n",
       "      <th>6</th>\n",
       "      <td>176562</td>\n",
       "      <td>USB-C Charging Cable</td>\n",
       "      <td>1</td>\n",
       "      <td>11.95</td>\n",
       "      <td>04/29/19 13:03</td>\n",
       "      <td>381 Wilson St, San Francisco, CA 94016</td>\n",
       "    </tr>\n",
       "    <tr>\n",
       "      <th>7</th>\n",
       "      <td>176563</td>\n",
       "      <td>Bose SoundSport Headphones</td>\n",
       "      <td>1</td>\n",
       "      <td>99.99</td>\n",
       "      <td>04/02/19 07:46</td>\n",
       "      <td>668 Center St, Seattle, WA 98101</td>\n",
       "    </tr>\n",
       "    <tr>\n",
       "      <th>8</th>\n",
       "      <td>176564</td>\n",
       "      <td>USB-C Charging Cable</td>\n",
       "      <td>1</td>\n",
       "      <td>11.95</td>\n",
       "      <td>04/12/19 10:58</td>\n",
       "      <td>790 Ridge St, Atlanta, GA 30301</td>\n",
       "    </tr>\n",
       "    <tr>\n",
       "      <th>9</th>\n",
       "      <td>176565</td>\n",
       "      <td>Macbook Pro Laptop</td>\n",
       "      <td>1</td>\n",
       "      <td>1700</td>\n",
       "      <td>04/24/19 10:38</td>\n",
       "      <td>915 Willow St, San Francisco, CA 94016</td>\n",
       "    </tr>\n",
       "  </tbody>\n",
       "</table>\n",
       "</div>"
      ],
      "text/plain": [
       "  Order ID                     Product Quantity Ordered Price Each  \\\n",
       "0   176558        USB-C Charging Cable                2      11.95   \n",
       "1      NaN                         NaN              NaN        NaN   \n",
       "2   176559  Bose SoundSport Headphones                1      99.99   \n",
       "3   176560                Google Phone                1        600   \n",
       "4   176560            Wired Headphones                1      11.99   \n",
       "5   176561            Wired Headphones                1      11.99   \n",
       "6   176562        USB-C Charging Cable                1      11.95   \n",
       "7   176563  Bose SoundSport Headphones                1      99.99   \n",
       "8   176564        USB-C Charging Cable                1      11.95   \n",
       "9   176565          Macbook Pro Laptop                1       1700   \n",
       "\n",
       "       Order Date                        Purchase Address  \n",
       "0  04/19/19 08:46            917 1st St, Dallas, TX 75001  \n",
       "1             NaN                                     NaN  \n",
       "2  04/07/19 22:30       682 Chestnut St, Boston, MA 02215  \n",
       "3  04/12/19 14:38    669 Spruce St, Los Angeles, CA 90001  \n",
       "4  04/12/19 14:38    669 Spruce St, Los Angeles, CA 90001  \n",
       "5  04/30/19 09:27       333 8th St, Los Angeles, CA 90001  \n",
       "6  04/29/19 13:03  381 Wilson St, San Francisco, CA 94016  \n",
       "7  04/02/19 07:46        668 Center St, Seattle, WA 98101  \n",
       "8  04/12/19 10:58         790 Ridge St, Atlanta, GA 30301  \n",
       "9  04/24/19 10:38  915 Willow St, San Francisco, CA 94016  "
      ]
     },
     "execution_count": 3,
     "metadata": {},
     "output_type": "execute_result"
    }
   ],
   "source": [
    "#looking columns \n",
    "sales_april.head(10)"
   ]
  },
  {
   "cell_type": "code",
   "execution_count": 4,
   "metadata": {
    "ExecuteTime": {
     "end_time": "2020-11-26T15:40:55.177748Z",
     "start_time": "2020-11-26T15:40:55.129776Z"
    }
   },
   "outputs": [
    {
     "data": {
      "text/plain": [
       "(18383, 6)"
      ]
     },
     "execution_count": 4,
     "metadata": {},
     "output_type": "execute_result"
    }
   ],
   "source": [
    "#shape\n",
    "sales_april.shape"
   ]
  },
  {
   "cell_type": "code",
   "execution_count": 5,
   "metadata": {
    "ExecuteTime": {
     "end_time": "2020-11-26T15:40:55.359490Z",
     "start_time": "2020-11-26T15:40:55.181746Z"
    }
   },
   "outputs": [
    {
     "name": "stdout",
     "output_type": "stream",
     "text": [
      "<class 'pandas.core.frame.DataFrame'>\n",
      "RangeIndex: 18383 entries, 0 to 18382\n",
      "Data columns (total 6 columns):\n",
      " #   Column            Non-Null Count  Dtype \n",
      "---  ------            --------------  ----- \n",
      " 0   Order ID          18324 non-null  object\n",
      " 1   Product           18324 non-null  object\n",
      " 2   Quantity Ordered  18324 non-null  object\n",
      " 3   Price Each        18324 non-null  object\n",
      " 4   Order Date        18324 non-null  object\n",
      " 5   Purchase Address  18324 non-null  object\n",
      "dtypes: object(6)\n",
      "memory usage: 861.8+ KB\n"
     ]
    }
   ],
   "source": [
    "#info data  \n",
    "sales_april.info()"
   ]
  },
  {
   "cell_type": "code",
   "execution_count": null,
   "metadata": {
    "ExecuteTime": {
     "end_time": "2020-11-25T05:04:29.155833Z",
     "start_time": "2020-11-25T05:04:29.142840Z"
    }
   },
   "outputs": [],
   "source": []
  },
  {
   "cell_type": "code",
   "execution_count": 6,
   "metadata": {
    "ExecuteTime": {
     "end_time": "2020-11-26T15:40:56.147137Z",
     "start_time": "2020-11-26T15:40:55.363488Z"
    },
    "scrolled": true
   },
   "outputs": [
    {
     "data": {
      "image/png": "[encoded data removed]",
      "text/plain": [
       "<Figure size 432x288 with 1 Axes>"
      ]
     },
     "metadata": {
      "needs_background": "light"
     },
     "output_type": "display_data"
    }
   ],
   "source": [
    "# visuliazation of null data\n",
    "name_column=[]\n",
    "sum_null=[]\n",
    "for i in sales_april.columns:\n",
    "    x=(sum(sales_april['Order ID'].isnull()))\n",
    "    name_column.append(i)\n",
    "    sum_null.append(x)\n",
    "plt.bar(name_column,sum_null)\n",
    "plt.xticks(rotation=60)\n",
    "plt.show()"
   ]
  },
  {
   "cell_type": "code",
   "execution_count": 7,
   "metadata": {
    "ExecuteTime": {
     "end_time": "2020-11-26T15:40:56.167125Z",
     "start_time": "2020-11-26T15:40:56.152134Z"
    }
   },
   "outputs": [],
   "source": [
    "# if we drop nan value than we loss information \n",
    "null_value_sum=sales_april.isnull().sum()"
   ]
  },
  {
   "cell_type": "code",
   "execution_count": 8,
   "metadata": {
    "ExecuteTime": {
     "end_time": "2020-11-26T15:40:56.300617Z",
     "start_time": "2020-11-26T15:40:56.174121Z"
    }
   },
   "outputs": [
    {
     "data": {
      "text/plain": [
       "0.32094870260566827"
      ]
     },
     "execution_count": 8,
     "metadata": {},
     "output_type": "execute_result"
    }
   ],
   "source": [
    "(sum(null_value_sum)/sales_april.size)*100 "
   ]
  },
  {
   "cell_type": "code",
   "execution_count": 9,
   "metadata": {
    "ExecuteTime": {
     "end_time": "2020-11-26T15:40:57.010076Z",
     "start_time": "2020-11-26T15:40:56.304616Z"
    }
   },
   "outputs": [],
   "source": [
    "# we loss 0.32 % of data after the droping  the null values it's neglible \n",
    "sales_april=sales_april.dropna()"
   ]
  },
  {
   "cell_type": "code",
   "execution_count": 10,
   "metadata": {
    "ExecuteTime": {
     "end_time": "2020-11-26T15:40:57.025068Z",
     "start_time": "2020-11-26T15:40:57.014055Z"
    }
   },
   "outputs": [
    {
     "data": {
      "text/plain": [
       "(18324, 6)"
      ]
     },
     "execution_count": 10,
     "metadata": {},
     "output_type": "execute_result"
    }
   ],
   "source": [
    "#left data\n",
    "\n",
    "sales_april.shape"
   ]
  },
  {
   "cell_type": "code",
   "execution_count": 11,
   "metadata": {
    "ExecuteTime": {
     "end_time": "2020-11-26T15:40:57.143032Z",
     "start_time": "2020-11-26T15:40:57.028047Z"
    }
   },
   "outputs": [
    {
     "data": {
      "text/html": [
       "<div>\n",
       "<style scoped>\n",
       "    .dataframe tbody tr th:only-of-type {\n",
       "        vertical-align: middle;\n",
       "    }\n",
       "\n",
       "    .dataframe tbody tr th {\n",
       "        vertical-align: top;\n",
       "    }\n",
       "\n",
       "    .dataframe thead th {\n",
       "        text-align: right;\n",
       "    }\n",
       "</style>\n",
       "<table border=\"1\" class=\"dataframe\">\n",
       "  <thead>\n",
       "    <tr style=\"text-align: right;\">\n",
       "      <th></th>\n",
       "      <th>Order ID</th>\n",
       "      <th>Product</th>\n",
       "      <th>Quantity Ordered</th>\n",
       "      <th>Price Each</th>\n",
       "      <th>Order Date</th>\n",
       "      <th>Purchase Address</th>\n",
       "    </tr>\n",
       "  </thead>\n",
       "  <tbody>\n",
       "    <tr>\n",
       "      <th>0</th>\n",
       "      <td>176558</td>\n",
       "      <td>USB-C Charging Cable</td>\n",
       "      <td>2</td>\n",
       "      <td>11.95</td>\n",
       "      <td>04/19/19 08:46</td>\n",
       "      <td>917 1st St, Dallas, TX 75001</td>\n",
       "    </tr>\n",
       "    <tr>\n",
       "      <th>2</th>\n",
       "      <td>176559</td>\n",
       "      <td>Bose SoundSport Headphones</td>\n",
       "      <td>1</td>\n",
       "      <td>99.99</td>\n",
       "      <td>04/07/19 22:30</td>\n",
       "      <td>682 Chestnut St, Boston, MA 02215</td>\n",
       "    </tr>\n",
       "    <tr>\n",
       "      <th>3</th>\n",
       "      <td>176560</td>\n",
       "      <td>Google Phone</td>\n",
       "      <td>1</td>\n",
       "      <td>600</td>\n",
       "      <td>04/12/19 14:38</td>\n",
       "      <td>669 Spruce St, Los Angeles, CA 90001</td>\n",
       "    </tr>\n",
       "    <tr>\n",
       "      <th>4</th>\n",
       "      <td>176560</td>\n",
       "      <td>Wired Headphones</td>\n",
       "      <td>1</td>\n",
       "      <td>11.99</td>\n",
       "      <td>04/12/19 14:38</td>\n",
       "      <td>669 Spruce St, Los Angeles, CA 90001</td>\n",
       "    </tr>\n",
       "    <tr>\n",
       "      <th>5</th>\n",
       "      <td>176561</td>\n",
       "      <td>Wired Headphones</td>\n",
       "      <td>1</td>\n",
       "      <td>11.99</td>\n",
       "      <td>04/30/19 09:27</td>\n",
       "      <td>333 8th St, Los Angeles, CA 90001</td>\n",
       "    </tr>\n",
       "  </tbody>\n",
       "</table>\n",
       "</div>"
      ],
      "text/plain": [
       "  Order ID                     Product Quantity Ordered Price Each  \\\n",
       "0   176558        USB-C Charging Cable                2      11.95   \n",
       "2   176559  Bose SoundSport Headphones                1      99.99   \n",
       "3   176560                Google Phone                1        600   \n",
       "4   176560            Wired Headphones                1      11.99   \n",
       "5   176561            Wired Headphones                1      11.99   \n",
       "\n",
       "       Order Date                      Purchase Address  \n",
       "0  04/19/19 08:46          917 1st St, Dallas, TX 75001  \n",
       "2  04/07/19 22:30     682 Chestnut St, Boston, MA 02215  \n",
       "3  04/12/19 14:38  669 Spruce St, Los Angeles, CA 90001  \n",
       "4  04/12/19 14:38  669 Spruce St, Los Angeles, CA 90001  \n",
       "5  04/30/19 09:27     333 8th St, Los Angeles, CA 90001  "
      ]
     },
     "execution_count": 11,
     "metadata": {},
     "output_type": "execute_result"
    }
   ],
   "source": [
    "sales_april.head()"
   ]
  },
  {
   "cell_type": "markdown",
   "metadata": {},
   "source": [
    "<b> <h2> Cleaning data </h2> </b>"
   ]
  },
  {
   "cell_type": "code",
   "execution_count": 12,
   "metadata": {
    "ExecuteTime": {
     "end_time": "2020-11-26T15:40:57.281099Z",
     "start_time": "2020-11-26T15:40:57.147030Z"
    }
   },
   "outputs": [],
   "source": [
    "# cleaning column and seperate appropriate colums\n",
    "i=sales_april[sales_april['Quantity Ordered']=='Quantity Ordered'].index \n",
    "# here we look sales_april['Quantity Ordered'].unique() we find  'Quantity Ordered' so it's noise (order id etc in row)\n",
    "sales_april.drop(i,axis=0,inplace=True) "
   ]
  },
  {
   "cell_type": "code",
   "execution_count": 13,
   "metadata": {
    "ExecuteTime": {
     "end_time": "2020-11-26T15:40:57.461383Z",
     "start_time": "2020-11-26T15:40:57.283058Z"
    }
   },
   "outputs": [],
   "source": [
    "#convert to object to int or float respectivly columns \n",
    "sales_april['Quantity Ordered']=sales_april['Quantity Ordered'].astype(int) \n",
    "sales_april['Price Each']=sales_april['Price Each'].astype(float) "
   ]
  },
  {
   "cell_type": "code",
   "execution_count": 14,
   "metadata": {
    "ExecuteTime": {
     "end_time": "2020-11-26T15:40:57.590426Z",
     "start_time": "2020-11-26T15:40:57.465363Z"
    }
   },
   "outputs": [],
   "source": [
    "# seperate columns time or date from orderdate\n",
    "sales_april['Order Date']=sales_april['Order Date'].str.split(' ')"
   ]
  },
  {
   "cell_type": "code",
   "execution_count": 15,
   "metadata": {
    "ExecuteTime": {
     "end_time": "2020-11-26T15:40:57.693528Z",
     "start_time": "2020-11-26T15:40:57.593405Z"
    }
   },
   "outputs": [],
   "source": [
    "sales_april['ord_date']=sales_april['Order Date'].apply(lambda x : x[0])\n",
    "sales_april['ord_time']=sales_april['Order Date'].apply(lambda x : x[1])"
   ]
  },
  {
   "cell_type": "code",
   "execution_count": 16,
   "metadata": {
    "ExecuteTime": {
     "end_time": "2020-11-26T15:40:57.929289Z",
     "start_time": "2020-11-26T15:40:57.696529Z"
    }
   },
   "outputs": [],
   "source": [
    "sales_april['ord_date_day']=sales_april['ord_date'].str.split('/').apply(lambda x:int(x[1]))\n",
    "sales_april['ord_date_month']=sales_april['ord_date'].str.split('/').apply(lambda x:int(x[0]))"
   ]
  },
  {
   "cell_type": "code",
   "execution_count": 17,
   "metadata": {
    "ExecuteTime": {
     "end_time": "2020-11-26T15:40:58.056729Z",
     "start_time": "2020-11-26T15:40:57.932287Z"
    }
   },
   "outputs": [],
   "source": [
    "sales_april['ord_time']=sales_april['ord_time'].str.split(':').apply(lambda x :round(float(x[0])+float(x[1])/60,2))\n"
   ]
  },
  {
   "cell_type": "code",
   "execution_count": 18,
   "metadata": {
    "ExecuteTime": {
     "end_time": "2020-11-26T15:40:58.159576Z",
     "start_time": "2020-11-26T15:40:58.059728Z"
    }
   },
   "outputs": [
    {
     "data": {
      "text/html": [
       "<div>\n",
       "<style scoped>\n",
       "    .dataframe tbody tr th:only-of-type {\n",
       "        vertical-align: middle;\n",
       "    }\n",
       "\n",
       "    .dataframe tbody tr th {\n",
       "        vertical-align: top;\n",
       "    }\n",
       "\n",
       "    .dataframe thead th {\n",
       "        text-align: right;\n",
       "    }\n",
       "</style>\n",
       "<table border=\"1\" class=\"dataframe\">\n",
       "  <thead>\n",
       "    <tr style=\"text-align: right;\">\n",
       "      <th></th>\n",
       "      <th>Order ID</th>\n",
       "      <th>Product</th>\n",
       "      <th>Quantity Ordered</th>\n",
       "      <th>Price Each</th>\n",
       "      <th>Order Date</th>\n",
       "      <th>Purchase Address</th>\n",
       "      <th>ord_date</th>\n",
       "      <th>ord_time</th>\n",
       "      <th>ord_date_day</th>\n",
       "      <th>ord_date_month</th>\n",
       "    </tr>\n",
       "  </thead>\n",
       "  <tbody>\n",
       "    <tr>\n",
       "      <th>0</th>\n",
       "      <td>176558</td>\n",
       "      <td>USB-C Charging Cable</td>\n",
       "      <td>2</td>\n",
       "      <td>11.95</td>\n",
       "      <td>[04/19/19, 08:46]</td>\n",
       "      <td>917 1st St, Dallas, TX 75001</td>\n",
       "      <td>04/19/19</td>\n",
       "      <td>8.77</td>\n",
       "      <td>19</td>\n",
       "      <td>4</td>\n",
       "    </tr>\n",
       "    <tr>\n",
       "      <th>2</th>\n",
       "      <td>176559</td>\n",
       "      <td>Bose SoundSport Headphones</td>\n",
       "      <td>1</td>\n",
       "      <td>99.99</td>\n",
       "      <td>[04/07/19, 22:30]</td>\n",
       "      <td>682 Chestnut St, Boston, MA 02215</td>\n",
       "      <td>04/07/19</td>\n",
       "      <td>22.50</td>\n",
       "      <td>7</td>\n",
       "      <td>4</td>\n",
       "    </tr>\n",
       "    <tr>\n",
       "      <th>3</th>\n",
       "      <td>176560</td>\n",
       "      <td>Google Phone</td>\n",
       "      <td>1</td>\n",
       "      <td>600.00</td>\n",
       "      <td>[04/12/19, 14:38]</td>\n",
       "      <td>669 Spruce St, Los Angeles, CA 90001</td>\n",
       "      <td>04/12/19</td>\n",
       "      <td>14.63</td>\n",
       "      <td>12</td>\n",
       "      <td>4</td>\n",
       "    </tr>\n",
       "    <tr>\n",
       "      <th>4</th>\n",
       "      <td>176560</td>\n",
       "      <td>Wired Headphones</td>\n",
       "      <td>1</td>\n",
       "      <td>11.99</td>\n",
       "      <td>[04/12/19, 14:38]</td>\n",
       "      <td>669 Spruce St, Los Angeles, CA 90001</td>\n",
       "      <td>04/12/19</td>\n",
       "      <td>14.63</td>\n",
       "      <td>12</td>\n",
       "      <td>4</td>\n",
       "    </tr>\n",
       "    <tr>\n",
       "      <th>5</th>\n",
       "      <td>176561</td>\n",
       "      <td>Wired Headphones</td>\n",
       "      <td>1</td>\n",
       "      <td>11.99</td>\n",
       "      <td>[04/30/19, 09:27]</td>\n",
       "      <td>333 8th St, Los Angeles, CA 90001</td>\n",
       "      <td>04/30/19</td>\n",
       "      <td>9.45</td>\n",
       "      <td>30</td>\n",
       "      <td>4</td>\n",
       "    </tr>\n",
       "    <tr>\n",
       "      <th>6</th>\n",
       "      <td>176562</td>\n",
       "      <td>USB-C Charging Cable</td>\n",
       "      <td>1</td>\n",
       "      <td>11.95</td>\n",
       "      <td>[04/29/19, 13:03]</td>\n",
       "      <td>381 Wilson St, San Francisco, CA 94016</td>\n",
       "      <td>04/29/19</td>\n",
       "      <td>13.05</td>\n",
       "      <td>29</td>\n",
       "      <td>4</td>\n",
       "    </tr>\n",
       "    <tr>\n",
       "      <th>7</th>\n",
       "      <td>176563</td>\n",
       "      <td>Bose SoundSport Headphones</td>\n",
       "      <td>1</td>\n",
       "      <td>99.99</td>\n",
       "      <td>[04/02/19, 07:46]</td>\n",
       "      <td>668 Center St, Seattle, WA 98101</td>\n",
       "      <td>04/02/19</td>\n",
       "      <td>7.77</td>\n",
       "      <td>2</td>\n",
       "      <td>4</td>\n",
       "    </tr>\n",
       "    <tr>\n",
       "      <th>8</th>\n",
       "      <td>176564</td>\n",
       "      <td>USB-C Charging Cable</td>\n",
       "      <td>1</td>\n",
       "      <td>11.95</td>\n",
       "      <td>[04/12/19, 10:58]</td>\n",
       "      <td>790 Ridge St, Atlanta, GA 30301</td>\n",
       "      <td>04/12/19</td>\n",
       "      <td>10.97</td>\n",
       "      <td>12</td>\n",
       "      <td>4</td>\n",
       "    </tr>\n",
       "    <tr>\n",
       "      <th>9</th>\n",
       "      <td>176565</td>\n",
       "      <td>Macbook Pro Laptop</td>\n",
       "      <td>1</td>\n",
       "      <td>1700.00</td>\n",
       "      <td>[04/24/19, 10:38]</td>\n",
       "      <td>915 Willow St, San Francisco, CA 94016</td>\n",
       "      <td>04/24/19</td>\n",
       "      <td>10.63</td>\n",
       "      <td>24</td>\n",
       "      <td>4</td>\n",
       "    </tr>\n",
       "    <tr>\n",
       "      <th>10</th>\n",
       "      <td>176566</td>\n",
       "      <td>Wired Headphones</td>\n",
       "      <td>1</td>\n",
       "      <td>11.99</td>\n",
       "      <td>[04/08/19, 14:05]</td>\n",
       "      <td>83 7th St, Boston, MA 02215</td>\n",
       "      <td>04/08/19</td>\n",
       "      <td>14.08</td>\n",
       "      <td>8</td>\n",
       "      <td>4</td>\n",
       "    </tr>\n",
       "  </tbody>\n",
       "</table>\n",
       "</div>"
      ],
      "text/plain": [
       "   Order ID                     Product  Quantity Ordered  Price Each  \\\n",
       "0    176558        USB-C Charging Cable                 2       11.95   \n",
       "2    176559  Bose SoundSport Headphones                 1       99.99   \n",
       "3    176560                Google Phone                 1      600.00   \n",
       "4    176560            Wired Headphones                 1       11.99   \n",
       "5    176561            Wired Headphones                 1       11.99   \n",
       "6    176562        USB-C Charging Cable                 1       11.95   \n",
       "7    176563  Bose SoundSport Headphones                 1       99.99   \n",
       "8    176564        USB-C Charging Cable                 1       11.95   \n",
       "9    176565          Macbook Pro Laptop                 1     1700.00   \n",
       "10   176566            Wired Headphones                 1       11.99   \n",
       "\n",
       "           Order Date                        Purchase Address  ord_date  \\\n",
       "0   [04/19/19, 08:46]            917 1st St, Dallas, TX 75001  04/19/19   \n",
       "2   [04/07/19, 22:30]       682 Chestnut St, Boston, MA 02215  04/07/19   \n",
       "3   [04/12/19, 14:38]    669 Spruce St, Los Angeles, CA 90001  04/12/19   \n",
       "4   [04/12/19, 14:38]    669 Spruce St, Los Angeles, CA 90001  04/12/19   \n",
       "5   [04/30/19, 09:27]       333 8th St, Los Angeles, CA 90001  04/30/19   \n",
       "6   [04/29/19, 13:03]  381 Wilson St, San Francisco, CA 94016  04/29/19   \n",
       "7   [04/02/19, 07:46]        668 Center St, Seattle, WA 98101  04/02/19   \n",
       "8   [04/12/19, 10:58]         790 Ridge St, Atlanta, GA 30301  04/12/19   \n",
       "9   [04/24/19, 10:38]  915 Willow St, San Francisco, CA 94016  04/24/19   \n",
       "10  [04/08/19, 14:05]             83 7th St, Boston, MA 02215  04/08/19   \n",
       "\n",
       "    ord_time  ord_date_day  ord_date_month  \n",
       "0       8.77            19               4  \n",
       "2      22.50             7               4  \n",
       "3      14.63            12               4  \n",
       "4      14.63            12               4  \n",
       "5       9.45            30               4  \n",
       "6      13.05            29               4  \n",
       "7       7.77             2               4  \n",
       "8      10.97            12               4  \n",
       "9      10.63            24               4  \n",
       "10     14.08             8               4  "
      ]
     },
     "execution_count": 18,
     "metadata": {},
     "output_type": "execute_result"
    }
   ],
   "source": [
    "sales_april.head(10)\n",
    "#note we are not making year columns because all the data in\n",
    "# year same but month diffrent (it's april but outside sales data have diffrent month)"
   ]
  },
  {
   "cell_type": "code",
   "execution_count": 19,
   "metadata": {
    "ExecuteTime": {
     "end_time": "2020-11-26T15:40:58.304243Z",
     "start_time": "2020-11-26T15:40:58.163573Z"
    }
   },
   "outputs": [],
   "source": [
    "# now we seperate address columns\n",
    "sales_april['Purchase Address']=sales_april['Purchase Address'].str.split(',')"
   ]
  },
  {
   "cell_type": "code",
   "execution_count": 20,
   "metadata": {
    "ExecuteTime": {
     "end_time": "2020-11-26T15:40:58.420175Z",
     "start_time": "2020-11-26T15:40:58.309239Z"
    }
   },
   "outputs": [],
   "source": [
    "sales_april['area_in_city']=sales_april['Purchase Address'].apply(lambda x :x[0])\n",
    "sales_april['city']=sales_april['Purchase Address'].apply(lambda x: x[1])\n",
    "sales_april['state_zip']=sales_april['Purchase Address'].apply(lambda x :x[2])"
   ]
  },
  {
   "cell_type": "markdown",
   "metadata": {},
   "source": [
    "<u><b><h2> now we build the cleaning data pipeline(function )</h2></b>  </u>"
   ]
  },
  {
   "cell_type": "code",
   "execution_count": 21,
   "metadata": {
    "ExecuteTime": {
     "end_time": "2020-11-26T15:40:58.550100Z",
     "start_time": "2020-11-26T15:40:58.426171Z"
    }
   },
   "outputs": [],
   "source": [
    "def cleaning_data(df):\n",
    "    \n",
    "    df=df.dropna()\n",
    "    # cleaning column and seperate appropriate colums\n",
    "    i = df[df['Quantity Ordered'] == 'Quantity Ordered'].index\n",
    "    # here we look df['Quantity Ordered'].unique() we find  'Quantity Ordered' so it's noise (order id etc in row)\n",
    "    df.drop(i, axis=0, inplace=True)\n",
    "    \n",
    "    #convert to object to int or float respectivly columns \n",
    "    df['Quantity Ordered']=df['Quantity Ordered'].astype(int) \n",
    "    df['Price Each']=df['Price Each'].astype(float) \n",
    "    \n",
    "    # seperate columns time or date from orderdate\n",
    "    df['Order Date']=df['Order Date'].str.split(' ')\n",
    "    df['ord_date']=df['Order Date'].apply(lambda x : x[0]) # date \n",
    "    df['ord_time']=df['Order Date'].apply(lambda x : x[1]) # time\n",
    "    df['ord_date_day']=df['ord_date'].str.split('/').apply(lambda x:int(x[1]))  #day\n",
    "    \n",
    "    df['ord_date_month']=df['ord_date'].str.split('/').apply(lambda x:int(x[0])) # month\n",
    "    \n",
    "    #time convert minute to hour \n",
    "    df['ord_time']=df['ord_time'].str.split(':').apply(lambda x :round(float(x[0])+float(x[1])/60,2))\n",
    "    # now we seperate address columns\n",
    "    df['Purchase Address']=df['Purchase Address'].str.split(',')\n",
    "    df['area_in_city']=df['Purchase Address'].apply(lambda x :x[0]) # area and street\n",
    "    df['city']=df['Purchase Address'].apply(lambda x: x[1])  #city\n",
    "    df['state_zip']=df['Purchase Address'].apply(lambda x :x[2]) # stae_zip\n",
    "    \n",
    "    return df"
   ]
  },
  {
   "cell_type": "code",
   "execution_count": 22,
   "metadata": {
    "ExecuteTime": {
     "end_time": "2020-11-26T15:40:59.083969Z",
     "start_time": "2020-11-26T15:40:58.561095Z"
    },
    "scrolled": true
   },
   "outputs": [],
   "source": [
    "sales_april_clean=cleaning_data(sales_april_ori) # our data is clean "
   ]
  },
  {
   "cell_type": "code",
   "execution_count": 23,
   "metadata": {
    "ExecuteTime": {
     "end_time": "2020-11-26T15:40:59.138092Z",
     "start_time": "2020-11-26T15:40:59.090106Z"
    }
   },
   "outputs": [
    {
     "data": {
      "text/html": [
       "<div>\n",
       "<style scoped>\n",
       "    .dataframe tbody tr th:only-of-type {\n",
       "        vertical-align: middle;\n",
       "    }\n",
       "\n",
       "    .dataframe tbody tr th {\n",
       "        vertical-align: top;\n",
       "    }\n",
       "\n",
       "    .dataframe thead th {\n",
       "        text-align: right;\n",
       "    }\n",
       "</style>\n",
       "<table border=\"1\" class=\"dataframe\">\n",
       "  <thead>\n",
       "    <tr style=\"text-align: right;\">\n",
       "      <th></th>\n",
       "      <th>Order ID</th>\n",
       "      <th>Product</th>\n",
       "      <th>Quantity Ordered</th>\n",
       "      <th>Price Each</th>\n",
       "      <th>Order Date</th>\n",
       "      <th>Purchase Address</th>\n",
       "      <th>ord_date</th>\n",
       "      <th>ord_time</th>\n",
       "      <th>ord_date_day</th>\n",
       "      <th>ord_date_month</th>\n",
       "      <th>area_in_city</th>\n",
       "      <th>city</th>\n",
       "      <th>state_zip</th>\n",
       "    </tr>\n",
       "  </thead>\n",
       "  <tbody>\n",
       "    <tr>\n",
       "      <th>0</th>\n",
       "      <td>176558</td>\n",
       "      <td>USB-C Charging Cable</td>\n",
       "      <td>2</td>\n",
       "      <td>11.95</td>\n",
       "      <td>[04/19/19, 08:46]</td>\n",
       "      <td>[917 1st St,  Dallas,  TX 75001]</td>\n",
       "      <td>04/19/19</td>\n",
       "      <td>8.77</td>\n",
       "      <td>19</td>\n",
       "      <td>4</td>\n",
       "      <td>917 1st St</td>\n",
       "      <td>Dallas</td>\n",
       "      <td>TX 75001</td>\n",
       "    </tr>\n",
       "    <tr>\n",
       "      <th>2</th>\n",
       "      <td>176559</td>\n",
       "      <td>Bose SoundSport Headphones</td>\n",
       "      <td>1</td>\n",
       "      <td>99.99</td>\n",
       "      <td>[04/07/19, 22:30]</td>\n",
       "      <td>[682 Chestnut St,  Boston,  MA 02215]</td>\n",
       "      <td>04/07/19</td>\n",
       "      <td>22.50</td>\n",
       "      <td>7</td>\n",
       "      <td>4</td>\n",
       "      <td>682 Chestnut St</td>\n",
       "      <td>Boston</td>\n",
       "      <td>MA 02215</td>\n",
       "    </tr>\n",
       "    <tr>\n",
       "      <th>3</th>\n",
       "      <td>176560</td>\n",
       "      <td>Google Phone</td>\n",
       "      <td>1</td>\n",
       "      <td>600.00</td>\n",
       "      <td>[04/12/19, 14:38]</td>\n",
       "      <td>[669 Spruce St,  Los Angeles,  CA 90001]</td>\n",
       "      <td>04/12/19</td>\n",
       "      <td>14.63</td>\n",
       "      <td>12</td>\n",
       "      <td>4</td>\n",
       "      <td>669 Spruce St</td>\n",
       "      <td>Los Angeles</td>\n",
       "      <td>CA 90001</td>\n",
       "    </tr>\n",
       "    <tr>\n",
       "      <th>4</th>\n",
       "      <td>176560</td>\n",
       "      <td>Wired Headphones</td>\n",
       "      <td>1</td>\n",
       "      <td>11.99</td>\n",
       "      <td>[04/12/19, 14:38]</td>\n",
       "      <td>[669 Spruce St,  Los Angeles,  CA 90001]</td>\n",
       "      <td>04/12/19</td>\n",
       "      <td>14.63</td>\n",
       "      <td>12</td>\n",
       "      <td>4</td>\n",
       "      <td>669 Spruce St</td>\n",
       "      <td>Los Angeles</td>\n",
       "      <td>CA 90001</td>\n",
       "    </tr>\n",
       "    <tr>\n",
       "      <th>5</th>\n",
       "      <td>176561</td>\n",
       "      <td>Wired Headphones</td>\n",
       "      <td>1</td>\n",
       "      <td>11.99</td>\n",
       "      <td>[04/30/19, 09:27]</td>\n",
       "      <td>[333 8th St,  Los Angeles,  CA 90001]</td>\n",
       "      <td>04/30/19</td>\n",
       "      <td>9.45</td>\n",
       "      <td>30</td>\n",
       "      <td>4</td>\n",
       "      <td>333 8th St</td>\n",
       "      <td>Los Angeles</td>\n",
       "      <td>CA 90001</td>\n",
       "    </tr>\n",
       "  </tbody>\n",
       "</table>\n",
       "</div>"
      ],
      "text/plain": [
       "  Order ID                     Product  Quantity Ordered  Price Each  \\\n",
       "0   176558        USB-C Charging Cable                 2       11.95   \n",
       "2   176559  Bose SoundSport Headphones                 1       99.99   \n",
       "3   176560                Google Phone                 1      600.00   \n",
       "4   176560            Wired Headphones                 1       11.99   \n",
       "5   176561            Wired Headphones                 1       11.99   \n",
       "\n",
       "          Order Date                          Purchase Address  ord_date  \\\n",
       "0  [04/19/19, 08:46]          [917 1st St,  Dallas,  TX 75001]  04/19/19   \n",
       "2  [04/07/19, 22:30]     [682 Chestnut St,  Boston,  MA 02215]  04/07/19   \n",
       "3  [04/12/19, 14:38]  [669 Spruce St,  Los Angeles,  CA 90001]  04/12/19   \n",
       "4  [04/12/19, 14:38]  [669 Spruce St,  Los Angeles,  CA 90001]  04/12/19   \n",
       "5  [04/30/19, 09:27]     [333 8th St,  Los Angeles,  CA 90001]  04/30/19   \n",
       "\n",
       "   ord_time  ord_date_day  ord_date_month     area_in_city          city  \\\n",
       "0      8.77            19               4       917 1st St        Dallas   \n",
       "2     22.50             7               4  682 Chestnut St        Boston   \n",
       "3     14.63            12               4    669 Spruce St   Los Angeles   \n",
       "4     14.63            12               4    669 Spruce St   Los Angeles   \n",
       "5      9.45            30               4       333 8th St   Los Angeles   \n",
       "\n",
       "   state_zip  \n",
       "0   TX 75001  \n",
       "2   MA 02215  \n",
       "3   CA 90001  \n",
       "4   CA 90001  \n",
       "5   CA 90001  "
      ]
     },
     "execution_count": 23,
     "metadata": {},
     "output_type": "execute_result"
    }
   ],
   "source": [
    "sales_april_clean.head()"
   ]
  },
  {
   "cell_type": "code",
   "execution_count": null,
   "metadata": {},
   "outputs": [],
   "source": []
  },
  {
   "cell_type": "code",
   "execution_count": null,
   "metadata": {},
   "outputs": [],
   "source": []
  },
  {
   "cell_type": "code",
   "execution_count": 24,
   "metadata": {
    "ExecuteTime": {
     "end_time": "2020-11-26T15:40:59.230827Z",
     "start_time": "2020-11-26T15:40:59.147075Z"
    }
   },
   "outputs": [],
   "source": [
    "# now we are starting EDA analysis \n",
    "# before we perform any analysis on this data we need to ask question to this dataset\n"
   ]
  },
  {
   "cell_type": "code",
   "execution_count": 25,
   "metadata": {
    "ExecuteTime": {
     "end_time": "2020-11-26T15:40:59.341836Z",
     "start_time": "2020-11-26T15:40:59.234825Z"
    }
   },
   "outputs": [],
   "source": [
    "# which product is maximum  sold  by shop ?\n",
    "# which product is minimum  sold  by shop ?\n",
    "# which day shop got maximum order ?\n",
    "# which day shop got minimum order ?\n",
    "# which time shop got maximum order(24 hours ) ?\n",
    "# which time shop got minimum order(24 hours ) ?\n",
    "# which state(zip) bought  maximum e-devices from this shop and with area?\n",
    "# which city bought maximum e-devices from this shop and with area?\n",
    "# which things price is maximum with which day those  sold maximum ?\n",
    "# which things price is maximum with which state  those  sold maximum ?\n",
    "# which things price is maximum with which area and city those  sold maximum ?\n",
    "# which city bought maximum e-devices from this shop and with area?\n",
    "# which city ordered maximum e-devices and which day ?\n",
    "# which city ordered maximum e-devices and which time ?"
   ]
  },
  {
   "cell_type": "code",
   "execution_count": 26,
   "metadata": {
    "ExecuteTime": {
     "end_time": "2020-11-26T15:40:59.495174Z",
     "start_time": "2020-11-26T15:40:59.345833Z"
    }
   },
   "outputs": [
    {
     "data": {
      "text/html": [
       "<div>\n",
       "<style scoped>\n",
       "    .dataframe tbody tr th:only-of-type {\n",
       "        vertical-align: middle;\n",
       "    }\n",
       "\n",
       "    .dataframe tbody tr th {\n",
       "        vertical-align: top;\n",
       "    }\n",
       "\n",
       "    .dataframe thead th {\n",
       "        text-align: right;\n",
       "    }\n",
       "</style>\n",
       "<table border=\"1\" class=\"dataframe\">\n",
       "  <thead>\n",
       "    <tr style=\"text-align: right;\">\n",
       "      <th></th>\n",
       "      <th>Product</th>\n",
       "      <th>Quantity Ordered</th>\n",
       "    </tr>\n",
       "  </thead>\n",
       "  <tbody>\n",
       "    <tr>\n",
       "      <th>0</th>\n",
       "      <td>AAA Batteries (4-pack)</td>\n",
       "      <td>2936</td>\n",
       "    </tr>\n",
       "    <tr>\n",
       "      <th>1</th>\n",
       "      <td>AA Batteries (4-pack)</td>\n",
       "      <td>2822</td>\n",
       "    </tr>\n",
       "    <tr>\n",
       "      <th>2</th>\n",
       "      <td>Lightning Charging Cable</td>\n",
       "      <td>2371</td>\n",
       "    </tr>\n",
       "    <tr>\n",
       "      <th>3</th>\n",
       "      <td>USB-C Charging Cable</td>\n",
       "      <td>2270</td>\n",
       "    </tr>\n",
       "    <tr>\n",
       "      <th>4</th>\n",
       "      <td>Wired Headphones</td>\n",
       "      <td>2066</td>\n",
       "    </tr>\n",
       "    <tr>\n",
       "      <th>5</th>\n",
       "      <td>Apple Airpods Headphones</td>\n",
       "      <td>1525</td>\n",
       "    </tr>\n",
       "    <tr>\n",
       "      <th>6</th>\n",
       "      <td>Bose SoundSport Headphones</td>\n",
       "      <td>1288</td>\n",
       "    </tr>\n",
       "    <tr>\n",
       "      <th>7</th>\n",
       "      <td>27in FHD Monitor</td>\n",
       "      <td>737</td>\n",
       "    </tr>\n",
       "    <tr>\n",
       "      <th>8</th>\n",
       "      <td>iPhone</td>\n",
       "      <td>695</td>\n",
       "    </tr>\n",
       "    <tr>\n",
       "      <th>9</th>\n",
       "      <td>34in Ultrawide Monitor</td>\n",
       "      <td>653</td>\n",
       "    </tr>\n",
       "    <tr>\n",
       "      <th>10</th>\n",
       "      <td>Google Phone</td>\n",
       "      <td>581</td>\n",
       "    </tr>\n",
       "    <tr>\n",
       "      <th>11</th>\n",
       "      <td>27in 4K Gaming Monitor</td>\n",
       "      <td>565</td>\n",
       "    </tr>\n",
       "    <tr>\n",
       "      <th>12</th>\n",
       "      <td>Flatscreen TV</td>\n",
       "      <td>459</td>\n",
       "    </tr>\n",
       "    <tr>\n",
       "      <th>13</th>\n",
       "      <td>Macbook Pro Laptop</td>\n",
       "      <td>455</td>\n",
       "    </tr>\n",
       "    <tr>\n",
       "      <th>14</th>\n",
       "      <td>20in Monitor</td>\n",
       "      <td>395</td>\n",
       "    </tr>\n",
       "    <tr>\n",
       "      <th>15</th>\n",
       "      <td>ThinkPad Laptop</td>\n",
       "      <td>392</td>\n",
       "    </tr>\n",
       "    <tr>\n",
       "      <th>16</th>\n",
       "      <td>Vareebadd Phone</td>\n",
       "      <td>220</td>\n",
       "    </tr>\n",
       "    <tr>\n",
       "      <th>17</th>\n",
       "      <td>LG Dryer</td>\n",
       "      <td>77</td>\n",
       "    </tr>\n",
       "    <tr>\n",
       "      <th>18</th>\n",
       "      <td>LG Washing Machine</td>\n",
       "      <td>61</td>\n",
       "    </tr>\n",
       "  </tbody>\n",
       "</table>\n",
       "</div>"
      ],
      "text/plain": [
       "                       Product  Quantity Ordered\n",
       "0       AAA Batteries (4-pack)              2936\n",
       "1        AA Batteries (4-pack)              2822\n",
       "2     Lightning Charging Cable              2371\n",
       "3         USB-C Charging Cable              2270\n",
       "4             Wired Headphones              2066\n",
       "5     Apple Airpods Headphones              1525\n",
       "6   Bose SoundSport Headphones              1288\n",
       "7             27in FHD Monitor               737\n",
       "8                       iPhone               695\n",
       "9       34in Ultrawide Monitor               653\n",
       "10                Google Phone               581\n",
       "11      27in 4K Gaming Monitor               565\n",
       "12               Flatscreen TV               459\n",
       "13          Macbook Pro Laptop               455\n",
       "14                20in Monitor               395\n",
       "15             ThinkPad Laptop               392\n",
       "16             Vareebadd Phone               220\n",
       "17                    LG Dryer                77\n",
       "18          LG Washing Machine                61"
      ]
     },
     "execution_count": 26,
     "metadata": {},
     "output_type": "execute_result"
    }
   ],
   "source": [
    "# which product is maximum  sold  by shop ?\n",
    "# which product is minimum  sold  by shop ?\n",
    "\n",
    "df=sales_april_clean.groupby(['Product'],as_index=False).agg({'Quantity Ordered':sum})\n",
    "df=df.sort_values(by='Quantity Ordered',ascending=False)\n",
    "df.reset_index(0,inplace=True,drop=True)\n",
    "df"
   ]
  },
  {
   "cell_type": "code",
   "execution_count": 27,
   "metadata": {
    "ExecuteTime": {
     "end_time": "2020-11-26T15:41:00.358069Z",
     "start_time": "2020-11-26T15:40:59.498167Z"
    }
   },
   "outputs": [
    {
     "data": {
      "image/png": "[encoded data removed]",
      "text/plain": [
       "<Figure size 864x576 with 1 Axes>"
      ]
     },
     "metadata": {
      "needs_background": "light"
     },
     "output_type": "display_data"
    }
   ],
   "source": [
    "# sns.set_style(\"ticks\")\n",
    "\n",
    "# plt.rcParams[\"figure.figsize\"] = (10,5)\n",
    "plt.figure(figsize=(12,8))\n",
    "\n",
    "ax=sns.barplot('Quantity Ordered','Product',data=df,palette= 'tab20')\n",
    "for p in ax.patches:\n",
    "    point= p.xy\n",
    "    ax.text(p.get_width(),point[1]+0.45,p.get_width())\n",
    "\n",
    "    \n",
    "\n",
    "\n"
   ]
  },
  {
   "cell_type": "code",
   "execution_count": 28,
   "metadata": {
    "ExecuteTime": {
     "end_time": "2020-11-26T15:41:00.369065Z",
     "start_time": "2020-11-26T15:41:00.361066Z"
    }
   },
   "outputs": [
    {
     "data": {
      "text/plain": [
       "\"conclusion := AAA Batteries (4-pack) ,AA  Batteries (4-pack) maximum sold  \\nReason: This battery size is most often used in small devices such as laser pointers, \\nLED penlights, powered computer styluses, glucose meters, \\nand small headphone amplifiers and LG Washing Machine less sold because \\nManufacturer Warranty: 2 years on product and 10 years on motor\\n\\nanother things here is here Usb cable highly use that's means here  people use  maximum mobile phone and laptop usesabs\\nfor jobs and social media \\n\\nwiredheadphone 2066 quantity it's indicate here people likes  introvert behaviour \\nand near future  people is  suffer from anxity and depression \\n\""
      ]
     },
     "execution_count": 28,
     "metadata": {},
     "output_type": "execute_result"
    }
   ],
   "source": [
    "'''conclusion := AAA Batteries (4-pack) ,AA  Batteries (4-pack) maximum sold  \n",
    "Reason: This battery size is most often used in small devices such as laser pointers, \n",
    "LED penlights, powered computer styluses, glucose meters, \n",
    "and small headphone amplifiers and LG Washing Machine less sold because \n",
    "Manufacturer Warranty: 2 years on product and 10 years on motor\n",
    "\n",
    "another things here is here Usb cable highly use that's means here  people use  maximum mobile phone and laptop usesabs\n",
    "for jobs and social media \n",
    "\n",
    "wiredheadphone 2066 quantity it's indicate here people likes  introvert behaviour \n",
    "and near future  people is  suffer from anxity and depression \n",
    "'''\n"
   ]
  },
  {
   "cell_type": "code",
   "execution_count": 29,
   "metadata": {
    "ExecuteTime": {
     "end_time": "2020-11-26T15:41:00.533780Z",
     "start_time": "2020-11-26T15:41:00.372064Z"
    }
   },
   "outputs": [
    {
     "data": {
      "text/html": [
       "<div>\n",
       "<style scoped>\n",
       "    .dataframe tbody tr th:only-of-type {\n",
       "        vertical-align: middle;\n",
       "    }\n",
       "\n",
       "    .dataframe tbody tr th {\n",
       "        vertical-align: top;\n",
       "    }\n",
       "\n",
       "    .dataframe thead th {\n",
       "        text-align: right;\n",
       "    }\n",
       "</style>\n",
       "<table border=\"1\" class=\"dataframe\">\n",
       "  <thead>\n",
       "    <tr style=\"text-align: right;\">\n",
       "      <th></th>\n",
       "      <th>ord_date_day</th>\n",
       "      <th>Quantity Ordered</th>\n",
       "    </tr>\n",
       "  </thead>\n",
       "  <tbody>\n",
       "    <tr>\n",
       "      <th>0</th>\n",
       "      <td>19</td>\n",
       "      <td>627</td>\n",
       "    </tr>\n",
       "    <tr>\n",
       "      <th>1</th>\n",
       "      <td>15</td>\n",
       "      <td>635</td>\n",
       "    </tr>\n",
       "    <tr>\n",
       "      <th>2</th>\n",
       "      <td>22</td>\n",
       "      <td>641</td>\n",
       "    </tr>\n",
       "    <tr>\n",
       "      <th>3</th>\n",
       "      <td>7</td>\n",
       "      <td>641</td>\n",
       "    </tr>\n",
       "    <tr>\n",
       "      <th>4</th>\n",
       "      <td>25</td>\n",
       "      <td>654</td>\n",
       "    </tr>\n",
       "    <tr>\n",
       "      <th>5</th>\n",
       "      <td>26</td>\n",
       "      <td>659</td>\n",
       "    </tr>\n",
       "    <tr>\n",
       "      <th>6</th>\n",
       "      <td>20</td>\n",
       "      <td>663</td>\n",
       "    </tr>\n",
       "    <tr>\n",
       "      <th>7</th>\n",
       "      <td>2</td>\n",
       "      <td>663</td>\n",
       "    </tr>\n",
       "    <tr>\n",
       "      <th>8</th>\n",
       "      <td>23</td>\n",
       "      <td>670</td>\n",
       "    </tr>\n",
       "    <tr>\n",
       "      <th>9</th>\n",
       "      <td>28</td>\n",
       "      <td>673</td>\n",
       "    </tr>\n",
       "    <tr>\n",
       "      <th>10</th>\n",
       "      <td>8</td>\n",
       "      <td>674</td>\n",
       "    </tr>\n",
       "    <tr>\n",
       "      <th>11</th>\n",
       "      <td>29</td>\n",
       "      <td>674</td>\n",
       "    </tr>\n",
       "    <tr>\n",
       "      <th>12</th>\n",
       "      <td>5</td>\n",
       "      <td>675</td>\n",
       "    </tr>\n",
       "    <tr>\n",
       "      <th>13</th>\n",
       "      <td>16</td>\n",
       "      <td>681</td>\n",
       "    </tr>\n",
       "    <tr>\n",
       "      <th>14</th>\n",
       "      <td>3</td>\n",
       "      <td>685</td>\n",
       "    </tr>\n",
       "    <tr>\n",
       "      <th>15</th>\n",
       "      <td>9</td>\n",
       "      <td>689</td>\n",
       "    </tr>\n",
       "    <tr>\n",
       "      <th>16</th>\n",
       "      <td>6</td>\n",
       "      <td>695</td>\n",
       "    </tr>\n",
       "    <tr>\n",
       "      <th>17</th>\n",
       "      <td>12</td>\n",
       "      <td>696</td>\n",
       "    </tr>\n",
       "    <tr>\n",
       "      <th>18</th>\n",
       "      <td>27</td>\n",
       "      <td>698</td>\n",
       "    </tr>\n",
       "    <tr>\n",
       "      <th>19</th>\n",
       "      <td>30</td>\n",
       "      <td>698</td>\n",
       "    </tr>\n",
       "    <tr>\n",
       "      <th>20</th>\n",
       "      <td>10</td>\n",
       "      <td>699</td>\n",
       "    </tr>\n",
       "    <tr>\n",
       "      <th>21</th>\n",
       "      <td>14</td>\n",
       "      <td>702</td>\n",
       "    </tr>\n",
       "    <tr>\n",
       "      <th>22</th>\n",
       "      <td>24</td>\n",
       "      <td>702</td>\n",
       "    </tr>\n",
       "    <tr>\n",
       "      <th>23</th>\n",
       "      <td>11</td>\n",
       "      <td>702</td>\n",
       "    </tr>\n",
       "    <tr>\n",
       "      <th>24</th>\n",
       "      <td>1</td>\n",
       "      <td>702</td>\n",
       "    </tr>\n",
       "    <tr>\n",
       "      <th>25</th>\n",
       "      <td>4</td>\n",
       "      <td>710</td>\n",
       "    </tr>\n",
       "    <tr>\n",
       "      <th>26</th>\n",
       "      <td>13</td>\n",
       "      <td>729</td>\n",
       "    </tr>\n",
       "    <tr>\n",
       "      <th>27</th>\n",
       "      <td>17</td>\n",
       "      <td>733</td>\n",
       "    </tr>\n",
       "    <tr>\n",
       "      <th>28</th>\n",
       "      <td>18</td>\n",
       "      <td>737</td>\n",
       "    </tr>\n",
       "    <tr>\n",
       "      <th>29</th>\n",
       "      <td>21</td>\n",
       "      <td>761</td>\n",
       "    </tr>\n",
       "  </tbody>\n",
       "</table>\n",
       "</div>"
      ],
      "text/plain": [
       "   ord_date_day  Quantity Ordered\n",
       "0            19               627\n",
       "1            15               635\n",
       "2            22               641\n",
       "3             7               641\n",
       "4            25               654\n",
       "5            26               659\n",
       "6            20               663\n",
       "7             2               663\n",
       "8            23               670\n",
       "9            28               673\n",
       "10            8               674\n",
       "11           29               674\n",
       "12            5               675\n",
       "13           16               681\n",
       "14            3               685\n",
       "15            9               689\n",
       "16            6               695\n",
       "17           12               696\n",
       "18           27               698\n",
       "19           30               698\n",
       "20           10               699\n",
       "21           14               702\n",
       "22           24               702\n",
       "23           11               702\n",
       "24            1               702\n",
       "25            4               710\n",
       "26           13               729\n",
       "27           17               733\n",
       "28           18               737\n",
       "29           21               761"
      ]
     },
     "execution_count": 29,
     "metadata": {},
     "output_type": "execute_result"
    }
   ],
   "source": [
    "# which day shop got maximum order ?\n",
    "# which day shop got minimum order ?\n",
    "\n",
    "df=sales_april_clean.groupby(['ord_date_day'],as_index=False).agg({'Quantity Ordered':sum})\n",
    "df=df.sort_values(by='Quantity Ordered')\n",
    "df.reset_index(0,inplace=True,drop=True)\n",
    "df['ord_date_day']=df['ord_date_day'].astype(str) \n",
    "df"
   ]
  },
  {
   "cell_type": "code",
   "execution_count": 30,
   "metadata": {
    "ExecuteTime": {
     "end_time": "2020-11-26T15:41:01.247452Z",
     "start_time": "2020-11-26T15:41:00.540757Z"
    }
   },
   "outputs": [
    {
     "data": {
      "image/png": "[encoded data removed]",
      "text/plain": [
       "<Figure size 864x576 with 1 Axes>"
      ]
     },
     "metadata": {
      "needs_background": "light"
     },
     "output_type": "display_data"
    }
   ],
   "source": [
    "plt.figure(figsize=(12,8))\n",
    "\n",
    "ax=sns.barplot('Quantity Ordered','ord_date_day',data=df,palette= 'Blues',orient='h')\n",
    "\n"
   ]
  },
  {
   "cell_type": "code",
   "execution_count": 31,
   "metadata": {
    "ExecuteTime": {
     "end_time": "2020-11-26T15:41:01.263443Z",
     "start_time": "2020-11-26T15:41:01.255447Z"
    }
   },
   "outputs": [
    {
     "data": {
      "text/plain": [
       "\"Easter Sunday:\\nEaster falls on a spring Sunday that varies from year to year. \\nEaster is recognized as a flag day but has not been a federal holiday due to falling always on a Sunday,\\nwhich is a non-working day for federal and state employees. However, many companies, including banks, malls,\\nshopping centers and most private retail stores that normally open on Sundays are closed on Easter. \\nEaster is a Christian holiday celebrating the resurrection of Jesus Christ. For Christians, Easter is a day of religious services and the gathering of family. Many Americans follow old traditions of coloring hard-boiled eggs and giving children baskets of candy.\\nNote: april 19 is normal day may be sad day i don't know  \""
      ]
     },
     "execution_count": 31,
     "metadata": {},
     "output_type": "execute_result"
    }
   ],
   "source": [
    "'''The following is a compilation of American federal holidays, federal observances, state holidays and other \n",
    "common patriotic and national observances and commemorations that apply to the United States during Sunday, 2019-04-21:'''\n",
    "\n",
    "'''Easter Sunday:\n",
    "Easter falls on a spring Sunday that varies from year to year. \n",
    "Easter is recognized as a flag day but has not been a federal holiday due to falling always on a Sunday,\n",
    "which is a non-working day for federal and state employees. However, many companies, including banks, malls,\n",
    "shopping centers and most private retail stores that normally open on Sundays are closed on Easter. \n",
    "Easter is a Christian holiday celebrating the resurrection of Jesus Christ. For Christians, Easter is a day of religious services and the gathering of family. Many Americans follow old traditions of coloring hard-boiled eggs and giving children baskets of candy.\n",
    "Note: april 19 is normal day may be sad day i don't know  '''"
   ]
  },
  {
   "cell_type": "code",
   "execution_count": 32,
   "metadata": {
    "ExecuteTime": {
     "end_time": "2020-11-26T15:41:02.030769Z",
     "start_time": "2020-11-26T15:41:01.266442Z"
    }
   },
   "outputs": [
    {
     "data": {
      "text/plain": [
       "(array([ 0,  1,  2,  3,  4,  5,  6,  7,  8,  9, 10, 11, 12, 13, 14, 15, 16,\n",
       "        17, 18, 19, 20, 21, 22, 23, 24]),\n",
       " [Text(0, 0, '0.0'),\n",
       "  Text(1, 0, '1.0'),\n",
       "  Text(2, 0, '2.0'),\n",
       "  Text(3, 0, '3.0'),\n",
       "  Text(4, 0, '4.0'),\n",
       "  Text(5, 0, '5.0'),\n",
       "  Text(6, 0, '6.0'),\n",
       "  Text(7, 0, '7.0'),\n",
       "  Text(8, 0, '8.0'),\n",
       "  Text(9, 0, '9.0'),\n",
       "  Text(10, 0, '10.0'),\n",
       "  Text(11, 0, '11.0'),\n",
       "  Text(12, 0, '12.0'),\n",
       "  Text(13, 0, '13.0'),\n",
       "  Text(14, 0, '14.0'),\n",
       "  Text(15, 0, '15.0'),\n",
       "  Text(16, 0, '16.0'),\n",
       "  Text(17, 0, '17.0'),\n",
       "  Text(18, 0, '18.0'),\n",
       "  Text(19, 0, '19.0'),\n",
       "  Text(20, 0, '20.0'),\n",
       "  Text(21, 0, '21.0'),\n",
       "  Text(22, 0, '22.0'),\n",
       "  Text(23, 0, '23.0'),\n",
       "  Text(24, 0, '24.0')])"
      ]
     },
     "execution_count": 32,
     "metadata": {},
     "output_type": "execute_result"
    },
    {
     "data": {
      "image/png": "[encoded data removed]",
      "text/plain": [
       "<Figure size 432x288 with 1 Axes>"
      ]
     },
     "metadata": {
      "needs_background": "light"
     },
     "output_type": "display_data"
    }
   ],
   "source": [
    "# which time shop got maximum order(24 hours ) ?\n",
    "# which time shop got minimum order(24 hours ) ?\n",
    "df=sales_april_clean\n",
    "l1=round(df['ord_time'],0)\n",
    "sns.countplot(sorted(l1))\n",
    "plt.xticks(rotation=90)"
   ]
  },
  {
   "cell_type": "code",
   "execution_count": null,
   "metadata": {},
   "outputs": [],
   "source": [
    "# which state(zip) bought  maximum e-devices from this shop and with area?"
   ]
  },
  {
   "cell_type": "code",
   "execution_count": null,
   "metadata": {},
   "outputs": [],
   "source": []
  }
 ],
 "metadata": {
  "kernelspec": {
   "display_name": "Python 3",
   "language": "python",
   "name": "python3"
  },
  "language_info": {
   "codemirror_mode": {
    "name": "ipython",
    "version": 3
   },
   "file_extension": ".py",
   "mimetype": "text/x-python",
   "name": "python",
   "nbconvert_exporter": "python",
   "pygments_lexer": "ipython3",
   "version": "3.7.9"
  },
  "toc": {
   "base_numbering": 1,
   "nav_menu": {
    "height": "172px",
    "width": "254px"
   },
   "number_sections": true,
   "sideBar": true,
   "skip_h1_title": false,
   "title_cell": "Table of Contents",
   "title_sidebar": "Contents",
   "toc_cell": false,
   "toc_position": {},
   "toc_section_display": true,
   "toc_window_display": false
  }
 },
 "nbformat": 4,
 "nbformat_minor": 4
}
