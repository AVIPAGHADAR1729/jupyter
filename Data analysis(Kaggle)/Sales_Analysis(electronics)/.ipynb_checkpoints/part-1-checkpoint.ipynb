{
 "cells": [
  {
   "cell_type": "code",
   "execution_count": 25,
   "metadata": {
    "ExecuteTime": {
     "end_time": "2020-11-25T15:09:21.032939Z",
     "start_time": "2020-11-25T15:09:21.023945Z"
    }
   },
   "outputs": [],
   "source": [
    "import pandas as pd \n",
    "import seaborn as sns\n",
    "import matplotlib.pylab as plt \n",
    "import statsmodels.api as st \n",
    "import numpy as np\n",
    "import plotly.express as px\n",
    "import warnings \n",
    "warnings.simplefilter('ignore')"
   ]
  },
  {
   "cell_type": "code",
   "execution_count": 26,
   "metadata": {
    "ExecuteTime": {
     "end_time": "2020-11-25T15:09:21.231204Z",
     "start_time": "2020-11-25T15:09:21.038935Z"
    }
   },
   "outputs": [],
   "source": [
    "sales_april=pd.read_csv('../../data/Sales_Data_electronics/Sales_April_2019.csv')\n",
    "sales_april_ori=sales_april # for storing original data \n"
   ]
  },
  {
   "cell_type": "code",
   "execution_count": 27,
   "metadata": {
    "ExecuteTime": {
     "end_time": "2020-11-25T15:09:21.272166Z",
     "start_time": "2020-11-25T15:09:21.239183Z"
    }
   },
   "outputs": [
    {
     "data": {
      "text/html": [
       "<div>\n",
       "<style scoped>\n",
       "    .dataframe tbody tr th:only-of-type {\n",
       "        vertical-align: middle;\n",
       "    }\n",
       "\n",
       "    .dataframe tbody tr th {\n",
       "        vertical-align: top;\n",
       "    }\n",
       "\n",
       "    .dataframe thead th {\n",
       "        text-align: right;\n",
       "    }\n",
       "</style>\n",
       "<table border=\"1\" class=\"dataframe\">\n",
       "  <thead>\n",
       "    <tr style=\"text-align: right;\">\n",
       "      <th></th>\n",
       "      <th>Order ID</th>\n",
       "      <th>Product</th>\n",
       "      <th>Quantity Ordered</th>\n",
       "      <th>Price Each</th>\n",
       "      <th>Order Date</th>\n",
       "      <th>Purchase Address</th>\n",
       "    </tr>\n",
       "  </thead>\n",
       "  <tbody>\n",
       "    <tr>\n",
       "      <th>0</th>\n",
       "      <td>176558</td>\n",
       "      <td>USB-C Charging Cable</td>\n",
       "      <td>2</td>\n",
       "      <td>11.95</td>\n",
       "      <td>04/19/19 08:46</td>\n",
       "      <td>917 1st St, Dallas, TX 75001</td>\n",
       "    </tr>\n",
       "    <tr>\n",
       "      <th>1</th>\n",
       "      <td>NaN</td>\n",
       "      <td>NaN</td>\n",
       "      <td>NaN</td>\n",
       "      <td>NaN</td>\n",
       "      <td>NaN</td>\n",
       "      <td>NaN</td>\n",
       "    </tr>\n",
       "    <tr>\n",
       "      <th>2</th>\n",
       "      <td>176559</td>\n",
       "      <td>Bose SoundSport Headphones</td>\n",
       "      <td>1</td>\n",
       "      <td>99.99</td>\n",
       "      <td>04/07/19 22:30</td>\n",
       "      <td>682 Chestnut St, Boston, MA 02215</td>\n",
       "    </tr>\n",
       "    <tr>\n",
       "      <th>3</th>\n",
       "      <td>176560</td>\n",
       "      <td>Google Phone</td>\n",
       "      <td>1</td>\n",
       "      <td>600</td>\n",
       "      <td>04/12/19 14:38</td>\n",
       "      <td>669 Spruce St, Los Angeles, CA 90001</td>\n",
       "    </tr>\n",
       "    <tr>\n",
       "      <th>4</th>\n",
       "      <td>176560</td>\n",
       "      <td>Wired Headphones</td>\n",
       "      <td>1</td>\n",
       "      <td>11.99</td>\n",
       "      <td>04/12/19 14:38</td>\n",
       "      <td>669 Spruce St, Los Angeles, CA 90001</td>\n",
       "    </tr>\n",
       "    <tr>\n",
       "      <th>5</th>\n",
       "      <td>176561</td>\n",
       "      <td>Wired Headphones</td>\n",
       "      <td>1</td>\n",
       "      <td>11.99</td>\n",
       "      <td>04/30/19 09:27</td>\n",
       "      <td>333 8th St, Los Angeles, CA 90001</td>\n",
       "    </tr>\n",
       "    <tr>\n",
       "      <th>6</th>\n",
       "      <td>176562</td>\n",
       "      <td>USB-C Charging Cable</td>\n",
       "      <td>1</td>\n",
       "      <td>11.95</td>\n",
       "      <td>04/29/19 13:03</td>\n",
       "      <td>381 Wilson St, San Francisco, CA 94016</td>\n",
       "    </tr>\n",
       "    <tr>\n",
       "      <th>7</th>\n",
       "      <td>176563</td>\n",
       "      <td>Bose SoundSport Headphones</td>\n",
       "      <td>1</td>\n",
       "      <td>99.99</td>\n",
       "      <td>04/02/19 07:46</td>\n",
       "      <td>668 Center St, Seattle, WA 98101</td>\n",
       "    </tr>\n",
       "    <tr>\n",
       "      <th>8</th>\n",
       "      <td>176564</td>\n",
       "      <td>USB-C Charging Cable</td>\n",
       "      <td>1</td>\n",
       "      <td>11.95</td>\n",
       "      <td>04/12/19 10:58</td>\n",
       "      <td>790 Ridge St, Atlanta, GA 30301</td>\n",
       "    </tr>\n",
       "    <tr>\n",
       "      <th>9</th>\n",
       "      <td>176565</td>\n",
       "      <td>Macbook Pro Laptop</td>\n",
       "      <td>1</td>\n",
       "      <td>1700</td>\n",
       "      <td>04/24/19 10:38</td>\n",
       "      <td>915 Willow St, San Francisco, CA 94016</td>\n",
       "    </tr>\n",
       "  </tbody>\n",
       "</table>\n",
       "</div>"
      ],
      "text/plain": [
       "  Order ID                     Product Quantity Ordered Price Each  \\\n",
       "0   176558        USB-C Charging Cable                2      11.95   \n",
       "1      NaN                         NaN              NaN        NaN   \n",
       "2   176559  Bose SoundSport Headphones                1      99.99   \n",
       "3   176560                Google Phone                1        600   \n",
       "4   176560            Wired Headphones                1      11.99   \n",
       "5   176561            Wired Headphones                1      11.99   \n",
       "6   176562        USB-C Charging Cable                1      11.95   \n",
       "7   176563  Bose SoundSport Headphones                1      99.99   \n",
       "8   176564        USB-C Charging Cable                1      11.95   \n",
       "9   176565          Macbook Pro Laptop                1       1700   \n",
       "\n",
       "       Order Date                        Purchase Address  \n",
       "0  04/19/19 08:46            917 1st St, Dallas, TX 75001  \n",
       "1             NaN                                     NaN  \n",
       "2  04/07/19 22:30       682 Chestnut St, Boston, MA 02215  \n",
       "3  04/12/19 14:38    669 Spruce St, Los Angeles, CA 90001  \n",
       "4  04/12/19 14:38    669 Spruce St, Los Angeles, CA 90001  \n",
       "5  04/30/19 09:27       333 8th St, Los Angeles, CA 90001  \n",
       "6  04/29/19 13:03  381 Wilson St, San Francisco, CA 94016  \n",
       "7  04/02/19 07:46        668 Center St, Seattle, WA 98101  \n",
       "8  04/12/19 10:58         790 Ridge St, Atlanta, GA 30301  \n",
       "9  04/24/19 10:38  915 Willow St, San Francisco, CA 94016  "
      ]
     },
     "execution_count": 27,
     "metadata": {},
     "output_type": "execute_result"
    }
   ],
   "source": [
    "#looking columns \n",
    "sales_april.head(10)"
   ]
  },
  {
   "cell_type": "code",
   "execution_count": 28,
   "metadata": {
    "ExecuteTime": {
     "end_time": "2020-11-25T15:09:21.365119Z",
     "start_time": "2020-11-25T15:09:21.276161Z"
    }
   },
   "outputs": [
    {
     "data": {
      "text/plain": [
       "(18383, 6)"
      ]
     },
     "execution_count": 28,
     "metadata": {},
     "output_type": "execute_result"
    }
   ],
   "source": [
    "#shape\n",
    "sales_april.shape"
   ]
  },
  {
   "cell_type": "code",
   "execution_count": 29,
   "metadata": {
    "ExecuteTime": {
     "end_time": "2020-11-25T15:09:21.464588Z",
     "start_time": "2020-11-25T15:09:21.369117Z"
    }
   },
   "outputs": [
    {
     "name": "stdout",
     "output_type": "stream",
     "text": [
      "<class 'pandas.core.frame.DataFrame'>\n",
      "RangeIndex: 18383 entries, 0 to 18382\n",
      "Data columns (total 6 columns):\n",
      " #   Column            Non-Null Count  Dtype \n",
      "---  ------            --------------  ----- \n",
      " 0   Order ID          18324 non-null  object\n",
      " 1   Product           18324 non-null  object\n",
      " 2   Quantity Ordered  18324 non-null  object\n",
      " 3   Price Each        18324 non-null  object\n",
      " 4   Order Date        18324 non-null  object\n",
      " 5   Purchase Address  18324 non-null  object\n",
      "dtypes: object(6)\n",
      "memory usage: 861.8+ KB\n"
     ]
    }
   ],
   "source": [
    "#info data  \n",
    "sales_april.info()"
   ]
  },
  {
   "cell_type": "code",
   "execution_count": null,
   "metadata": {
    "ExecuteTime": {
     "end_time": "2020-11-25T05:04:29.155833Z",
     "start_time": "2020-11-25T05:04:29.142840Z"
    }
   },
   "outputs": [],
   "source": []
  },
  {
   "cell_type": "code",
   "execution_count": 30,
   "metadata": {
    "ExecuteTime": {
     "end_time": "2020-11-25T15:09:21.838899Z",
     "start_time": "2020-11-25T15:09:21.468566Z"
    },
    "scrolled": true
   },
   "outputs": [
    {
     "data": {
      "image/png": "[encoded data removed]",
      "text/plain": [
       "<Figure size 432x288 with 1 Axes>"
      ]
     },
     "metadata": {
      "needs_background": "light"
     },
     "output_type": "display_data"
    }
   ],
   "source": [
    "# visuliazation of null data\n",
    "name_column=[]\n",
    "sum_null=[]\n",
    "for i in sales_april.columns:\n",
    "    x=(sum(sales_april['Order ID'].isnull()))\n",
    "    name_column.append(i)\n",
    "    sum_null.append(x)\n",
    "plt.bar(name_column,sum_null)\n",
    "plt.xticks(rotation=60)\n",
    "plt.show()"
   ]
  },
  {
   "cell_type": "code",
   "execution_count": 31,
   "metadata": {
    "ExecuteTime": {
     "end_time": "2020-11-25T15:09:21.862869Z",
     "start_time": "2020-11-25T15:09:21.842878Z"
    }
   },
   "outputs": [],
   "source": [
    "# if we drop nan value than we loss information \n",
    "null_value_sum=sales_april.isnull().sum()"
   ]
  },
  {
   "cell_type": "code",
   "execution_count": 32,
   "metadata": {
    "ExecuteTime": {
     "end_time": "2020-11-25T15:09:21.960972Z",
     "start_time": "2020-11-25T15:09:21.867864Z"
    }
   },
   "outputs": [
    {
     "data": {
      "text/plain": [
       "0.32094870260566827"
      ]
     },
     "execution_count": 32,
     "metadata": {},
     "output_type": "execute_result"
    }
   ],
   "source": [
    "(sum(null_value_sum)/sales_april.size)*100 "
   ]
  },
  {
   "cell_type": "code",
   "execution_count": 33,
   "metadata": {
    "ExecuteTime": {
     "end_time": "2020-11-25T15:09:22.074991Z",
     "start_time": "2020-11-25T15:09:21.965967Z"
    }
   },
   "outputs": [],
   "source": [
    "# we loss 0.32 % of data after the droping  the null values it's neglible \n",
    "sales_april=sales_april.dropna()"
   ]
  },
  {
   "cell_type": "code",
   "execution_count": 34,
   "metadata": {
    "ExecuteTime": {
     "end_time": "2020-11-25T15:09:22.172163Z",
     "start_time": "2020-11-25T15:09:22.077996Z"
    }
   },
   "outputs": [
    {
     "data": {
      "text/plain": [
       "(18324, 6)"
      ]
     },
     "execution_count": 34,
     "metadata": {},
     "output_type": "execute_result"
    }
   ],
   "source": [
    "#left data\n",
    "\n",
    "sales_april.shape"
   ]
  },
  {
   "cell_type": "code",
   "execution_count": 35,
   "metadata": {
    "ExecuteTime": {
     "end_time": "2020-11-25T15:09:22.283916Z",
     "start_time": "2020-11-25T15:09:22.175158Z"
    }
   },
   "outputs": [
    {
     "data": {
      "text/html": [
       "<div>\n",
       "<style scoped>\n",
       "    .dataframe tbody tr th:only-of-type {\n",
       "        vertical-align: middle;\n",
       "    }\n",
       "\n",
       "    .dataframe tbody tr th {\n",
       "        vertical-align: top;\n",
       "    }\n",
       "\n",
       "    .dataframe thead th {\n",
       "        text-align: right;\n",
       "    }\n",
       "</style>\n",
       "<table border=\"1\" class=\"dataframe\">\n",
       "  <thead>\n",
       "    <tr style=\"text-align: right;\">\n",
       "      <th></th>\n",
       "      <th>Order ID</th>\n",
       "      <th>Product</th>\n",
       "      <th>Quantity Ordered</th>\n",
       "      <th>Price Each</th>\n",
       "      <th>Order Date</th>\n",
       "      <th>Purchase Address</th>\n",
       "    </tr>\n",
       "  </thead>\n",
       "  <tbody>\n",
       "    <tr>\n",
       "      <th>0</th>\n",
       "      <td>176558</td>\n",
       "      <td>USB-C Charging Cable</td>\n",
       "      <td>2</td>\n",
       "      <td>11.95</td>\n",
       "      <td>04/19/19 08:46</td>\n",
       "      <td>917 1st St, Dallas, TX 75001</td>\n",
       "    </tr>\n",
       "    <tr>\n",
       "      <th>2</th>\n",
       "      <td>176559</td>\n",
       "      <td>Bose SoundSport Headphones</td>\n",
       "      <td>1</td>\n",
       "      <td>99.99</td>\n",
       "      <td>04/07/19 22:30</td>\n",
       "      <td>682 Chestnut St, Boston, MA 02215</td>\n",
       "    </tr>\n",
       "    <tr>\n",
       "      <th>3</th>\n",
       "      <td>176560</td>\n",
       "      <td>Google Phone</td>\n",
       "      <td>1</td>\n",
       "      <td>600</td>\n",
       "      <td>04/12/19 14:38</td>\n",
       "      <td>669 Spruce St, Los Angeles, CA 90001</td>\n",
       "    </tr>\n",
       "    <tr>\n",
       "      <th>4</th>\n",
       "      <td>176560</td>\n",
       "      <td>Wired Headphones</td>\n",
       "      <td>1</td>\n",
       "      <td>11.99</td>\n",
       "      <td>04/12/19 14:38</td>\n",
       "      <td>669 Spruce St, Los Angeles, CA 90001</td>\n",
       "    </tr>\n",
       "    <tr>\n",
       "      <th>5</th>\n",
       "      <td>176561</td>\n",
       "      <td>Wired Headphones</td>\n",
       "      <td>1</td>\n",
       "      <td>11.99</td>\n",
       "      <td>04/30/19 09:27</td>\n",
       "      <td>333 8th St, Los Angeles, CA 90001</td>\n",
       "    </tr>\n",
       "  </tbody>\n",
       "</table>\n",
       "</div>"
      ],
      "text/plain": [
       "  Order ID                     Product Quantity Ordered Price Each  \\\n",
       "0   176558        USB-C Charging Cable                2      11.95   \n",
       "2   176559  Bose SoundSport Headphones                1      99.99   \n",
       "3   176560                Google Phone                1        600   \n",
       "4   176560            Wired Headphones                1      11.99   \n",
       "5   176561            Wired Headphones                1      11.99   \n",
       "\n",
       "       Order Date                      Purchase Address  \n",
       "0  04/19/19 08:46          917 1st St, Dallas, TX 75001  \n",
       "2  04/07/19 22:30     682 Chestnut St, Boston, MA 02215  \n",
       "3  04/12/19 14:38  669 Spruce St, Los Angeles, CA 90001  \n",
       "4  04/12/19 14:38  669 Spruce St, Los Angeles, CA 90001  \n",
       "5  04/30/19 09:27     333 8th St, Los Angeles, CA 90001  "
      ]
     },
     "execution_count": 35,
     "metadata": {},
     "output_type": "execute_result"
    }
   ],
   "source": [
    "sales_april.head()"
   ]
  },
  {
   "cell_type": "markdown",
   "metadata": {},
   "source": [
    "<b> <h2> Cleaning data </h2> </b>"
   ]
  },
  {
   "cell_type": "code",
   "execution_count": 36,
   "metadata": {
    "ExecuteTime": {
     "end_time": "2020-11-25T15:09:22.377361Z",
     "start_time": "2020-11-25T15:09:22.286911Z"
    }
   },
   "outputs": [],
   "source": [
    "# cleaning column and seperate appropriate colums\n",
    "i=sales_april[sales_april['Quantity Ordered']=='Quantity Ordered'].index \n",
    "# here we look sales_april['Quantity Ordered'].unique() we find  'Quantity Ordered' so it's noise (order id etc in row)\n",
    "sales_april.drop(i,axis=0,inplace=True) "
   ]
  },
  {
   "cell_type": "code",
   "execution_count": 37,
   "metadata": {
    "ExecuteTime": {
     "end_time": "2020-11-25T15:09:22.497971Z",
     "start_time": "2020-11-25T15:09:22.381366Z"
    }
   },
   "outputs": [],
   "source": [
    "#convert to object to int or float respectivly columns \n",
    "sales_april['Quantity Ordered']=sales_april['Quantity Ordered'].astype(int) \n",
    "sales_april['Price Each']=sales_april['Price Each'].astype(float) "
   ]
  },
  {
   "cell_type": "code",
   "execution_count": 38,
   "metadata": {
    "ExecuteTime": {
     "end_time": "2020-11-25T15:09:22.628634Z",
     "start_time": "2020-11-25T15:09:22.500988Z"
    }
   },
   "outputs": [],
   "source": [
    "# seperate columns time or date from orderdate\n",
    "sales_april['Order Date']=sales_april['Order Date'].str.split(' ')"
   ]
  },
  {
   "cell_type": "code",
   "execution_count": 39,
   "metadata": {
    "ExecuteTime": {
     "end_time": "2020-11-25T15:09:22.729550Z",
     "start_time": "2020-11-25T15:09:22.631638Z"
    }
   },
   "outputs": [],
   "source": [
    "sales_april['ord_date']=sales_april['Order Date'].apply(lambda x : x[0])\n",
    "sales_april['ord_time']=sales_april['Order Date'].apply(lambda x : x[1])"
   ]
  },
  {
   "cell_type": "code",
   "execution_count": 40,
   "metadata": {
    "ExecuteTime": {
     "end_time": "2020-11-25T15:09:22.943650Z",
     "start_time": "2020-11-25T15:09:22.733545Z"
    }
   },
   "outputs": [],
   "source": [
    "sales_april['ord_date_day']=sales_april['ord_date'].str.split('/').apply(lambda x:int(x[1]))\n",
    "sales_april['ord_date_month']=sales_april['ord_date'].str.split('/').apply(lambda x:int(x[0]))"
   ]
  },
  {
   "cell_type": "code",
   "execution_count": 41,
   "metadata": {
    "ExecuteTime": {
     "end_time": "2020-11-25T15:09:23.039499Z",
     "start_time": "2020-11-25T15:09:22.947608Z"
    }
   },
   "outputs": [],
   "source": [
    "sales_april['ord_time']=sales_april['ord_time'].str.split(':').apply(lambda x :round(float(x[0])+float(x[1])/60,2))\n"
   ]
  },
  {
   "cell_type": "code",
   "execution_count": 42,
   "metadata": {
    "ExecuteTime": {
     "end_time": "2020-11-25T15:09:23.103017Z",
     "start_time": "2020-11-25T15:09:23.042463Z"
    }
   },
   "outputs": [
    {
     "data": {
      "text/html": [
       "<div>\n",
       "<style scoped>\n",
       "    .dataframe tbody tr th:only-of-type {\n",
       "        vertical-align: middle;\n",
       "    }\n",
       "\n",
       "    .dataframe tbody tr th {\n",
       "        vertical-align: top;\n",
       "    }\n",
       "\n",
       "    .dataframe thead th {\n",
       "        text-align: right;\n",
       "    }\n",
       "</style>\n",
       "<table border=\"1\" class=\"dataframe\">\n",
       "  <thead>\n",
       "    <tr style=\"text-align: right;\">\n",
       "      <th></th>\n",
       "      <th>Order ID</th>\n",
       "      <th>Product</th>\n",
       "      <th>Quantity Ordered</th>\n",
       "      <th>Price Each</th>\n",
       "      <th>Order Date</th>\n",
       "      <th>Purchase Address</th>\n",
       "      <th>ord_date</th>\n",
       "      <th>ord_time</th>\n",
       "      <th>ord_date_day</th>\n",
       "      <th>ord_date_month</th>\n",
       "    </tr>\n",
       "  </thead>\n",
       "  <tbody>\n",
       "    <tr>\n",
       "      <th>0</th>\n",
       "      <td>176558</td>\n",
       "      <td>USB-C Charging Cable</td>\n",
       "      <td>2</td>\n",
       "      <td>11.95</td>\n",
       "      <td>[04/19/19, 08:46]</td>\n",
       "      <td>917 1st St, Dallas, TX 75001</td>\n",
       "      <td>04/19/19</td>\n",
       "      <td>8.77</td>\n",
       "      <td>19</td>\n",
       "      <td>4</td>\n",
       "    </tr>\n",
       "    <tr>\n",
       "      <th>2</th>\n",
       "      <td>176559</td>\n",
       "      <td>Bose SoundSport Headphones</td>\n",
       "      <td>1</td>\n",
       "      <td>99.99</td>\n",
       "      <td>[04/07/19, 22:30]</td>\n",
       "      <td>682 Chestnut St, Boston, MA 02215</td>\n",
       "      <td>04/07/19</td>\n",
       "      <td>22.50</td>\n",
       "      <td>7</td>\n",
       "      <td>4</td>\n",
       "    </tr>\n",
       "    <tr>\n",
       "      <th>3</th>\n",
       "      <td>176560</td>\n",
       "      <td>Google Phone</td>\n",
       "      <td>1</td>\n",
       "      <td>600.00</td>\n",
       "      <td>[04/12/19, 14:38]</td>\n",
       "      <td>669 Spruce St, Los Angeles, CA 90001</td>\n",
       "      <td>04/12/19</td>\n",
       "      <td>14.63</td>\n",
       "      <td>12</td>\n",
       "      <td>4</td>\n",
       "    </tr>\n",
       "    <tr>\n",
       "      <th>4</th>\n",
       "      <td>176560</td>\n",
       "      <td>Wired Headphones</td>\n",
       "      <td>1</td>\n",
       "      <td>11.99</td>\n",
       "      <td>[04/12/19, 14:38]</td>\n",
       "      <td>669 Spruce St, Los Angeles, CA 90001</td>\n",
       "      <td>04/12/19</td>\n",
       "      <td>14.63</td>\n",
       "      <td>12</td>\n",
       "      <td>4</td>\n",
       "    </tr>\n",
       "    <tr>\n",
       "      <th>5</th>\n",
       "      <td>176561</td>\n",
       "      <td>Wired Headphones</td>\n",
       "      <td>1</td>\n",
       "      <td>11.99</td>\n",
       "      <td>[04/30/19, 09:27]</td>\n",
       "      <td>333 8th St, Los Angeles, CA 90001</td>\n",
       "      <td>04/30/19</td>\n",
       "      <td>9.45</td>\n",
       "      <td>30</td>\n",
       "      <td>4</td>\n",
       "    </tr>\n",
       "    <tr>\n",
       "      <th>6</th>\n",
       "      <td>176562</td>\n",
       "      <td>USB-C Charging Cable</td>\n",
       "      <td>1</td>\n",
       "      <td>11.95</td>\n",
       "      <td>[04/29/19, 13:03]</td>\n",
       "      <td>381 Wilson St, San Francisco, CA 94016</td>\n",
       "      <td>04/29/19</td>\n",
       "      <td>13.05</td>\n",
       "      <td>29</td>\n",
       "      <td>4</td>\n",
       "    </tr>\n",
       "    <tr>\n",
       "      <th>7</th>\n",
       "      <td>176563</td>\n",
       "      <td>Bose SoundSport Headphones</td>\n",
       "      <td>1</td>\n",
       "      <td>99.99</td>\n",
       "      <td>[04/02/19, 07:46]</td>\n",
       "      <td>668 Center St, Seattle, WA 98101</td>\n",
       "      <td>04/02/19</td>\n",
       "      <td>7.77</td>\n",
       "      <td>2</td>\n",
       "      <td>4</td>\n",
       "    </tr>\n",
       "    <tr>\n",
       "      <th>8</th>\n",
       "      <td>176564</td>\n",
       "      <td>USB-C Charging Cable</td>\n",
       "      <td>1</td>\n",
       "      <td>11.95</td>\n",
       "      <td>[04/12/19, 10:58]</td>\n",
       "      <td>790 Ridge St, Atlanta, GA 30301</td>\n",
       "      <td>04/12/19</td>\n",
       "      <td>10.97</td>\n",
       "      <td>12</td>\n",
       "      <td>4</td>\n",
       "    </tr>\n",
       "    <tr>\n",
       "      <th>9</th>\n",
       "      <td>176565</td>\n",
       "      <td>Macbook Pro Laptop</td>\n",
       "      <td>1</td>\n",
       "      <td>1700.00</td>\n",
       "      <td>[04/24/19, 10:38]</td>\n",
       "      <td>915 Willow St, San Francisco, CA 94016</td>\n",
       "      <td>04/24/19</td>\n",
       "      <td>10.63</td>\n",
       "      <td>24</td>\n",
       "      <td>4</td>\n",
       "    </tr>\n",
       "    <tr>\n",
       "      <th>10</th>\n",
       "      <td>176566</td>\n",
       "      <td>Wired Headphones</td>\n",
       "      <td>1</td>\n",
       "      <td>11.99</td>\n",
       "      <td>[04/08/19, 14:05]</td>\n",
       "      <td>83 7th St, Boston, MA 02215</td>\n",
       "      <td>04/08/19</td>\n",
       "      <td>14.08</td>\n",
       "      <td>8</td>\n",
       "      <td>4</td>\n",
       "    </tr>\n",
       "  </tbody>\n",
       "</table>\n",
       "</div>"
      ],
      "text/plain": [
       "   Order ID                     Product  Quantity Ordered  Price Each  \\\n",
       "0    176558        USB-C Charging Cable                 2       11.95   \n",
       "2    176559  Bose SoundSport Headphones                 1       99.99   \n",
       "3    176560                Google Phone                 1      600.00   \n",
       "4    176560            Wired Headphones                 1       11.99   \n",
       "5    176561            Wired Headphones                 1       11.99   \n",
       "6    176562        USB-C Charging Cable                 1       11.95   \n",
       "7    176563  Bose SoundSport Headphones                 1       99.99   \n",
       "8    176564        USB-C Charging Cable                 1       11.95   \n",
       "9    176565          Macbook Pro Laptop                 1     1700.00   \n",
       "10   176566            Wired Headphones                 1       11.99   \n",
       "\n",
       "           Order Date                        Purchase Address  ord_date  \\\n",
       "0   [04/19/19, 08:46]            917 1st St, Dallas, TX 75001  04/19/19   \n",
       "2   [04/07/19, 22:30]       682 Chestnut St, Boston, MA 02215  04/07/19   \n",
       "3   [04/12/19, 14:38]    669 Spruce St, Los Angeles, CA 90001  04/12/19   \n",
       "4   [04/12/19, 14:38]    669 Spruce St, Los Angeles, CA 90001  04/12/19   \n",
       "5   [04/30/19, 09:27]       333 8th St, Los Angeles, CA 90001  04/30/19   \n",
       "6   [04/29/19, 13:03]  381 Wilson St, San Francisco, CA 94016  04/29/19   \n",
       "7   [04/02/19, 07:46]        668 Center St, Seattle, WA 98101  04/02/19   \n",
       "8   [04/12/19, 10:58]         790 Ridge St, Atlanta, GA 30301  04/12/19   \n",
       "9   [04/24/19, 10:38]  915 Willow St, San Francisco, CA 94016  04/24/19   \n",
       "10  [04/08/19, 14:05]             83 7th St, Boston, MA 02215  04/08/19   \n",
       "\n",
       "    ord_time  ord_date_day  ord_date_month  \n",
       "0       8.77            19               4  \n",
       "2      22.50             7               4  \n",
       "3      14.63            12               4  \n",
       "4      14.63            12               4  \n",
       "5       9.45            30               4  \n",
       "6      13.05            29               4  \n",
       "7       7.77             2               4  \n",
       "8      10.97            12               4  \n",
       "9      10.63            24               4  \n",
       "10     14.08             8               4  "
      ]
     },
     "execution_count": 42,
     "metadata": {},
     "output_type": "execute_result"
    }
   ],
   "source": [
    "sales_april.head(10)\n",
    "#note we are not making year columns because all the data in\n",
    "# year same but month diffrent (it's april but outside sales data have diffrent month)"
   ]
  },
  {
   "cell_type": "code",
   "execution_count": 43,
   "metadata": {
    "ExecuteTime": {
     "end_time": "2020-11-25T15:09:23.217184Z",
     "start_time": "2020-11-25T15:09:23.109995Z"
    }
   },
   "outputs": [],
   "source": [
    "# now we seperate address columns\n",
    "sales_april['Purchase Address']=sales_april['Purchase Address'].str.split(',')"
   ]
  },
  {
   "cell_type": "code",
   "execution_count": 44,
   "metadata": {
    "ExecuteTime": {
     "end_time": "2020-11-25T15:09:23.340848Z",
     "start_time": "2020-11-25T15:09:23.220178Z"
    }
   },
   "outputs": [],
   "source": [
    "sales_april['area_in_city']=sales_april['Purchase Address'].apply(lambda x :x[0])\n",
    "sales_april['city']=sales_april['Purchase Address'].apply(lambda x: x[1])\n",
    "sales_april['state_zip']=sales_april['Purchase Address'].apply(lambda x :x[2])"
   ]
  },
  {
   "cell_type": "markdown",
   "metadata": {},
   "source": [
    "<u><b><h2> now we build the cleaning data pipeline(function )</h2></b>  </u>"
   ]
  },
  {
   "cell_type": "code",
   "execution_count": 45,
   "metadata": {
    "ExecuteTime": {
     "end_time": "2020-11-25T15:09:23.412799Z",
     "start_time": "2020-11-25T15:09:23.343803Z"
    }
   },
   "outputs": [],
   "source": [
    "def cleaning_data(df):\n",
    "    \n",
    "    df=df.dropna()\n",
    "    # cleaning column and seperate appropriate colums\n",
    "    i = df[df['Quantity Ordered'] == 'Quantity Ordered'].index\n",
    "    # here we look df['Quantity Ordered'].unique() we find  'Quantity Ordered' so it's noise (order id etc in row)\n",
    "    df.drop(i, axis=0, inplace=True)\n",
    "    \n",
    "    #convert to object to int or float respectivly columns \n",
    "    df['Quantity Ordered']=df['Quantity Ordered'].astype(int) \n",
    "    df['Price Each']=df['Price Each'].astype(float) \n",
    "    \n",
    "    # seperate columns time or date from orderdate\n",
    "    df['Order Date']=df['Order Date'].str.split(' ')\n",
    "    df['ord_date']=df['Order Date'].apply(lambda x : x[0]) # date \n",
    "    df['ord_time']=df['Order Date'].apply(lambda x : x[1]) # time\n",
    "    df['ord_date_day']=df['ord_date'].str.split('/').apply(lambda x:int(x[1]))  #day\n",
    "    \n",
    "    df['ord_date_month']=df['ord_date'].str.split('/').apply(lambda x:int(x[0])) # month\n",
    "    \n",
    "    #time convert minute to hour \n",
    "    df['ord_time']=df['ord_time'].str.split(':').apply(lambda x :round(float(x[0])+float(x[1])/60,2))\n",
    "    # now we seperate address columns\n",
    "    df['Purchase Address']=df['Purchase Address'].str.split(',')\n",
    "    df['area_in_city']=df['Purchase Address'].apply(lambda x :x[0]) # area and street\n",
    "    df['city']=df['Purchase Address'].apply(lambda x: x[1])  #city\n",
    "    df['state_zip']=df['Purchase Address'].apply(lambda x :x[2]) # stae_zip\n",
    "    \n",
    "    return df"
   ]
  },
  {
   "cell_type": "code",
   "execution_count": 46,
   "metadata": {
    "ExecuteTime": {
     "end_time": "2020-11-25T15:09:24.115597Z",
     "start_time": "2020-11-25T15:09:23.416794Z"
    },
    "scrolled": true
   },
   "outputs": [],
   "source": [
    "sales_april_clean=cleaning_data(sales_april_ori) # our data is clean "
   ]
  },
  {
   "cell_type": "code",
   "execution_count": 47,
   "metadata": {
    "ExecuteTime": {
     "end_time": "2020-11-25T15:09:24.168478Z",
     "start_time": "2020-11-25T15:09:24.115597Z"
    }
   },
   "outputs": [
    {
     "data": {
      "text/html": [
       "<div>\n",
       "<style scoped>\n",
       "    .dataframe tbody tr th:only-of-type {\n",
       "        vertical-align: middle;\n",
       "    }\n",
       "\n",
       "    .dataframe tbody tr th {\n",
       "        vertical-align: top;\n",
       "    }\n",
       "\n",
       "    .dataframe thead th {\n",
       "        text-align: right;\n",
       "    }\n",
       "</style>\n",
       "<table border=\"1\" class=\"dataframe\">\n",
       "  <thead>\n",
       "    <tr style=\"text-align: right;\">\n",
       "      <th></th>\n",
       "      <th>Order ID</th>\n",
       "      <th>Product</th>\n",
       "      <th>Quantity Ordered</th>\n",
       "      <th>Price Each</th>\n",
       "      <th>Order Date</th>\n",
       "      <th>Purchase Address</th>\n",
       "      <th>ord_date</th>\n",
       "      <th>ord_time</th>\n",
       "      <th>ord_date_day</th>\n",
       "      <th>ord_date_month</th>\n",
       "      <th>area_in_city</th>\n",
       "      <th>city</th>\n",
       "      <th>state_zip</th>\n",
       "    </tr>\n",
       "  </thead>\n",
       "  <tbody>\n",
       "    <tr>\n",
       "      <th>0</th>\n",
       "      <td>176558</td>\n",
       "      <td>USB-C Charging Cable</td>\n",
       "      <td>2</td>\n",
       "      <td>11.95</td>\n",
       "      <td>[04/19/19, 08:46]</td>\n",
       "      <td>[917 1st St,  Dallas,  TX 75001]</td>\n",
       "      <td>04/19/19</td>\n",
       "      <td>8.77</td>\n",
       "      <td>19</td>\n",
       "      <td>4</td>\n",
       "      <td>917 1st St</td>\n",
       "      <td>Dallas</td>\n",
       "      <td>TX 75001</td>\n",
       "    </tr>\n",
       "    <tr>\n",
       "      <th>2</th>\n",
       "      <td>176559</td>\n",
       "      <td>Bose SoundSport Headphones</td>\n",
       "      <td>1</td>\n",
       "      <td>99.99</td>\n",
       "      <td>[04/07/19, 22:30]</td>\n",
       "      <td>[682 Chestnut St,  Boston,  MA 02215]</td>\n",
       "      <td>04/07/19</td>\n",
       "      <td>22.50</td>\n",
       "      <td>7</td>\n",
       "      <td>4</td>\n",
       "      <td>682 Chestnut St</td>\n",
       "      <td>Boston</td>\n",
       "      <td>MA 02215</td>\n",
       "    </tr>\n",
       "    <tr>\n",
       "      <th>3</th>\n",
       "      <td>176560</td>\n",
       "      <td>Google Phone</td>\n",
       "      <td>1</td>\n",
       "      <td>600.00</td>\n",
       "      <td>[04/12/19, 14:38]</td>\n",
       "      <td>[669 Spruce St,  Los Angeles,  CA 90001]</td>\n",
       "      <td>04/12/19</td>\n",
       "      <td>14.63</td>\n",
       "      <td>12</td>\n",
       "      <td>4</td>\n",
       "      <td>669 Spruce St</td>\n",
       "      <td>Los Angeles</td>\n",
       "      <td>CA 90001</td>\n",
       "    </tr>\n",
       "    <tr>\n",
       "      <th>4</th>\n",
       "      <td>176560</td>\n",
       "      <td>Wired Headphones</td>\n",
       "      <td>1</td>\n",
       "      <td>11.99</td>\n",
       "      <td>[04/12/19, 14:38]</td>\n",
       "      <td>[669 Spruce St,  Los Angeles,  CA 90001]</td>\n",
       "      <td>04/12/19</td>\n",
       "      <td>14.63</td>\n",
       "      <td>12</td>\n",
       "      <td>4</td>\n",
       "      <td>669 Spruce St</td>\n",
       "      <td>Los Angeles</td>\n",
       "      <td>CA 90001</td>\n",
       "    </tr>\n",
       "    <tr>\n",
       "      <th>5</th>\n",
       "      <td>176561</td>\n",
       "      <td>Wired Headphones</td>\n",
       "      <td>1</td>\n",
       "      <td>11.99</td>\n",
       "      <td>[04/30/19, 09:27]</td>\n",
       "      <td>[333 8th St,  Los Angeles,  CA 90001]</td>\n",
       "      <td>04/30/19</td>\n",
       "      <td>9.45</td>\n",
       "      <td>30</td>\n",
       "      <td>4</td>\n",
       "      <td>333 8th St</td>\n",
       "      <td>Los Angeles</td>\n",
       "      <td>CA 90001</td>\n",
       "    </tr>\n",
       "  </tbody>\n",
       "</table>\n",
       "</div>"
      ],
      "text/plain": [
       "  Order ID                     Product  Quantity Ordered  Price Each  \\\n",
       "0   176558        USB-C Charging Cable                 2       11.95   \n",
       "2   176559  Bose SoundSport Headphones                 1       99.99   \n",
       "3   176560                Google Phone                 1      600.00   \n",
       "4   176560            Wired Headphones                 1       11.99   \n",
       "5   176561            Wired Headphones                 1       11.99   \n",
       "\n",
       "          Order Date                          Purchase Address  ord_date  \\\n",
       "0  [04/19/19, 08:46]          [917 1st St,  Dallas,  TX 75001]  04/19/19   \n",
       "2  [04/07/19, 22:30]     [682 Chestnut St,  Boston,  MA 02215]  04/07/19   \n",
       "3  [04/12/19, 14:38]  [669 Spruce St,  Los Angeles,  CA 90001]  04/12/19   \n",
       "4  [04/12/19, 14:38]  [669 Spruce St,  Los Angeles,  CA 90001]  04/12/19   \n",
       "5  [04/30/19, 09:27]     [333 8th St,  Los Angeles,  CA 90001]  04/30/19   \n",
       "\n",
       "   ord_time  ord_date_day  ord_date_month     area_in_city          city  \\\n",
       "0      8.77            19               4       917 1st St        Dallas   \n",
       "2     22.50             7               4  682 Chestnut St        Boston   \n",
       "3     14.63            12               4    669 Spruce St   Los Angeles   \n",
       "4     14.63            12               4    669 Spruce St   Los Angeles   \n",
       "5      9.45            30               4       333 8th St   Los Angeles   \n",
       "\n",
       "   state_zip  \n",
       "0   TX 75001  \n",
       "2   MA 02215  \n",
       "3   CA 90001  \n",
       "4   CA 90001  \n",
       "5   CA 90001  "
      ]
     },
     "execution_count": 47,
     "metadata": {},
     "output_type": "execute_result"
    }
   ],
   "source": [
    "sales_april_clean.head()"
   ]
  },
  {
   "cell_type": "code",
   "execution_count": null,
   "metadata": {},
   "outputs": [],
   "source": [
    "# now we are starting EDA analysis \n",
    "# before we perform any analysis on this data we need to ask question to this dataset\n"
   ]
  },
  {
   "cell_type": "code",
   "execution_count": null,
   "metadata": {},
   "outputs": [],
   "source": [
    "# which product is maximum  sold  by shop ?\n",
    "# which product is minmum  sold  by shop ?\n",
    "# which day shop got maximum order ?\n",
    "# which day shop got minimum order ?\n",
    "# which time shop got maximum order(24 hours ) ?\n",
    "# which time shop got minimum order(24 hours ) ?\n",
    "# which state(zip) bought  maximum e-devices from this shop and with area?\n",
    "# which city bought maximum e-devices from this shop and with area?\n",
    "# which things price is maximum with which day those  sold maximum ?\n",
    "# which things price is maximum with which state  those  sold maximum ?\n",
    "# which things price is maximum with which area and city those  sold maximum ?\n",
    "# which city bought maximum e-devices from this shop and with area?\n",
    "# which city ordered maximum e-devices and which day ?\n",
    "# which city ordered maximum e-devices and which time ?"
   ]
  }
 ],
 "metadata": {
  "kernelspec": {
   "display_name": "Python 3",
   "language": "python",
   "name": "python3"
  },
  "language_info": {
   "codemirror_mode": {
    "name": "ipython",
    "version": 3
   },
   "file_extension": ".py",
   "mimetype": "text/x-python",
   "name": "python",
   "nbconvert_exporter": "python",
   "pygments_lexer": "ipython3",
   "version": "3.7.6"
  },
  "toc": {
   "base_numbering": 1,
   "nav_menu": {},
   "number_sections": true,
   "sideBar": true,
   "skip_h1_title": false,
   "title_cell": "Table of Contents",
   "title_sidebar": "Contents",
   "toc_cell": false,
   "toc_position": {},
   "toc_section_display": true,
   "toc_window_display": false
  }
 },
 "nbformat": 4,
 "nbformat_minor": 4
}
