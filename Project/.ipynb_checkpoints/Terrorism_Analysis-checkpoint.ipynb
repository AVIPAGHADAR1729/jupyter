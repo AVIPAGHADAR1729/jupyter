{
 "cells": [
  {
   "cell_type": "code",
   "execution_count": null,
   "metadata": {
    "ExecuteTime": {
     "start_time": "2020-10-21T17:57:14.570Z"
    }
   },
   "outputs": [],
   "source": [
    "import pandas as pd \n",
    "import numpy as np\n",
    "import matplotlib.pyplot as plt\n",
    "import seaborn as sns\n",
    "import gmplot \n",
    "import gmaps\n",
    "import random"
   ]
  },
  {
   "cell_type": "code",
   "execution_count": null,
   "metadata": {
    "ExecuteTime": {
     "end_time": "2020-08-05T03:52:05.510390Z",
     "start_time": "2020-08-05T03:52:03.530451Z"
    }
   },
   "outputs": [],
   "source": []
  },
  {
   "cell_type": "code",
   "execution_count": 2,
   "metadata": {
    "ExecuteTime": {
     "end_time": "2020-08-05T05:07:31.405173Z",
     "start_time": "2020-08-05T05:07:29.235176Z"
    }
   },
   "outputs": [],
   "source": [
    "df=pd.read_csv(\"../data/terrorismData.csv\")"
   ]
  },
  {
   "cell_type": "code",
   "execution_count": 3,
   "metadata": {
    "ExecuteTime": {
     "end_time": "2020-08-05T05:07:33.425422Z",
     "start_time": "2020-08-05T05:07:33.170338Z"
    }
   },
   "outputs": [],
   "source": [
    "df.head()\n",
    "df.dropna(inplace=True)"
   ]
  },
  {
   "cell_type": "code",
   "execution_count": 4,
   "metadata": {
    "ExecuteTime": {
     "end_time": "2020-08-05T05:07:35.705306Z",
     "start_time": "2020-08-05T05:07:35.545260Z"
    }
   },
   "outputs": [
    {
     "name": "stdout",
     "output_type": "stream",
     "text": [
      "<class 'pandas.core.frame.DataFrame'>\n",
      "Int64Index: 105572 entries, 5 to 181690\n",
      "Data columns (total 17 columns):\n",
      " #   Column       Non-Null Count   Dtype  \n",
      "---  ------       --------------   -----  \n",
      " 0   Year         105572 non-null  int64  \n",
      " 1   Month        105572 non-null  int64  \n",
      " 2   Day          105572 non-null  int64  \n",
      " 3   Country      105572 non-null  object \n",
      " 4   State        105572 non-null  object \n",
      " 5   Region       105572 non-null  object \n",
      " 6   City         105572 non-null  object \n",
      " 7   Latitude     105572 non-null  float64\n",
      " 8   Longitude    105572 non-null  float64\n",
      " 9   AttackType   105572 non-null  object \n",
      " 10  Killed       105572 non-null  float64\n",
      " 11  Wounded      105572 non-null  float64\n",
      " 12  Target       105572 non-null  object \n",
      " 13  Summary      105572 non-null  object \n",
      " 14  Group        105572 non-null  object \n",
      " 15  Target_type  105572 non-null  object \n",
      " 16  Weapon_type  105572 non-null  object \n",
      "dtypes: float64(4), int64(3), object(10)\n",
      "memory usage: 14.5+ MB\n"
     ]
    }
   ],
   "source": [
    "df.info()"
   ]
  },
  {
   "cell_type": "code",
   "execution_count": null,
   "metadata": {
    "ExecuteTime": {
     "start_time": "2020-08-05T05:21:37.726Z"
    }
   },
   "outputs": [],
   "source": [
    "gmap2 = gmplot.GoogleMapPlotter(30.3164945, \n",
    "                                78.03219179999999, 13) \n",
    "\n",
    "latitude_list =list(df['Latitude'].dropna())\n",
    "longitude_list =list(df['Longitude'].dropna())\n",
    "gmap2.scatter( latitude_list, longitude_list, 'yellow', \n",
    "                              size = 40, marker = True )   \n",
    "\n",
    "    \n",
    "gmap2.draw( \"C:\\\\Users\\\\nikhil\\\\Desktop\\\\map12.html\" ) \n"
   ]
  },
  {
   "cell_type": "code",
   "execution_count": 31,
   "metadata": {
    "ExecuteTime": {
     "end_time": "2020-08-05T05:04:17.324949Z",
     "start_time": "2020-08-05T05:04:17.309814Z"
    }
   },
   "outputs": [
    {
     "data": {
      "text/plain": [
       "177135"
      ]
     },
     "execution_count": 31,
     "metadata": {},
     "output_type": "execute_result"
    }
   ],
   "source": [
    "len(latitude_list)"
   ]
  },
  {
   "cell_type": "code",
   "execution_count": 32,
   "metadata": {
    "ExecuteTime": {
     "end_time": "2020-08-05T05:04:19.375052Z",
     "start_time": "2020-08-05T05:04:19.359893Z"
    }
   },
   "outputs": [
    {
     "data": {
      "text/plain": [
       "177135"
      ]
     },
     "execution_count": 32,
     "metadata": {},
     "output_type": "execute_result"
    }
   ],
   "source": [
    "len(latitude_list)\n"
   ]
  },
  {
   "cell_type": "code",
   "execution_count": 26,
   "metadata": {
    "ExecuteTime": {
     "end_time": "2020-08-05T05:03:10.704675Z",
     "start_time": "2020-08-05T05:03:04.874942Z"
    }
   },
   "outputs": [
    {
     "data": {
      "image/png": "[encoded data removed]",
      "text/plain": [
       "<Figure size 432x288 with 1 Axes>"
      ]
     },
     "metadata": {
      "needs_background": "light"
     },
     "output_type": "display_data"
    }
   ],
   "source": []
  },
  {
   "cell_type": "code",
   "execution_count": null,
   "metadata": {},
   "outputs": [],
   "source": [
    "import "
   ]
  }
 ],
 "metadata": {
  "kernelspec": {
   "display_name": "Python 3",
   "language": "python",
   "name": "python3"
  },
  "language_info": {
   "codemirror_mode": {
    "name": "ipython",
    "version": 3
   },
   "file_extension": ".py",
   "mimetype": "text/x-python",
   "name": "python",
   "nbconvert_exporter": "python",
   "pygments_lexer": "ipython3",
   "version": "3.7.6"
  },
  "toc": {
   "base_numbering": 1,
   "nav_menu": {},
   "number_sections": true,
   "sideBar": true,
   "skip_h1_title": false,
   "title_cell": "Table of Contents",
   "title_sidebar": "Contents",
   "toc_cell": false,
   "toc_position": {},
   "toc_section_display": true,
   "toc_window_display": false
  }
 },
 "nbformat": 4,
 "nbformat_minor": 4
}
