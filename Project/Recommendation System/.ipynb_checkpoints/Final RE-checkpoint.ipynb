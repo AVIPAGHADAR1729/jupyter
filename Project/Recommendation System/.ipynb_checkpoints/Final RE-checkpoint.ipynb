{
 "cells": [
  {
   "cell_type": "code",
   "execution_count": 4,
   "metadata": {
    "ExecuteTime": {
     "end_time": "2020-11-17T12:13:37.598660Z",
     "start_time": "2020-11-17T12:13:37.592666Z"
    }
   },
   "outputs": [],
   "source": [
    "#import library \n",
    "\n",
    "import pandas as pd \n",
    "import numpy as np\n",
    "import matplotlib.pyplot as plt\n",
    "import seaborn as sns\n",
    "import warnings\n",
    "warnings.filterwarnings(\"ignore\") \n",
    "from sklearn.linear_model import LinearRegression\n",
    "import statsmodels.formula.api as smf\n",
    "\n"
   ]
  },
  {
   "cell_type": "markdown",
   "metadata": {},
   "source": [
    "# Part 1"
   ]
  },
  {
   "cell_type": "markdown",
   "metadata": {
    "ExecuteTime": {
     "end_time": "2020-11-08T04:48:48.775557Z",
     "start_time": "2020-11-08T04:48:48.759557Z"
    }
   },
   "source": [
    "<b> <h2> Part 1 we will build RE system on small dataset </h2> </b>"
   ]
  },
  {
   "cell_type": "code",
   "execution_count": 5,
   "metadata": {
    "ExecuteTime": {
     "end_time": "2020-11-17T12:13:37.776557Z",
     "start_time": "2020-11-17T12:13:37.610671Z"
    }
   },
   "outputs": [
    {
     "data": {
      "text/html": [
       "<div>\n",
       "<style scoped>\n",
       "    .dataframe tbody tr th:only-of-type {\n",
       "        vertical-align: middle;\n",
       "    }\n",
       "\n",
       "    .dataframe tbody tr th {\n",
       "        vertical-align: top;\n",
       "    }\n",
       "\n",
       "    .dataframe thead th {\n",
       "        text-align: right;\n",
       "    }\n",
       "</style>\n",
       "<table border=\"1\" class=\"dataframe\">\n",
       "  <thead>\n",
       "    <tr style=\"text-align: right;\">\n",
       "      <th></th>\n",
       "      <th>week</th>\n",
       "      <th>show_type</th>\n",
       "      <th>title</th>\n",
       "      <th>ori_country</th>\n",
       "      <th>genre</th>\n",
       "      <th>release_date</th>\n",
       "      <th>is_NF_Ori</th>\n",
       "      <th>imdb_rating</th>\n",
       "      <th>rt_rating</th>\n",
       "      <th>country_chart</th>\n",
       "      <th>show_link</th>\n",
       "      <th>Continent</th>\n",
       "    </tr>\n",
       "  </thead>\n",
       "  <tbody>\n",
       "    <tr>\n",
       "      <th>0</th>\n",
       "      <td>37</td>\n",
       "      <td>Movie</td>\n",
       "      <td>Unbroken</td>\n",
       "      <td>USA</td>\n",
       "      <td>Drama</td>\n",
       "      <td>2014-12-25</td>\n",
       "      <td>False</td>\n",
       "      <td>72%</td>\n",
       "      <td>51%</td>\n",
       "      <td>IND</td>\n",
       "      <td>https://flixpatrol.com/title/unbroken</td>\n",
       "      <td>ASI</td>\n",
       "    </tr>\n",
       "    <tr>\n",
       "      <th>1</th>\n",
       "      <td>37</td>\n",
       "      <td>TV Show</td>\n",
       "      <td>Masaba Masaba</td>\n",
       "      <td>India</td>\n",
       "      <td>Comedy</td>\n",
       "      <td>2020-08-28</td>\n",
       "      <td>True</td>\n",
       "      <td>68%</td>\n",
       "      <td>NaN</td>\n",
       "      <td>IND</td>\n",
       "      <td>https://flixpatrol.com/title/masaba-masaba</td>\n",
       "      <td>ASI</td>\n",
       "    </tr>\n",
       "    <tr>\n",
       "      <th>2</th>\n",
       "      <td>36</td>\n",
       "      <td>Movie</td>\n",
       "      <td>Class of '83</td>\n",
       "      <td>India</td>\n",
       "      <td>Drama</td>\n",
       "      <td>2020-08-21</td>\n",
       "      <td>False</td>\n",
       "      <td>NaN</td>\n",
       "      <td>20%</td>\n",
       "      <td>IND</td>\n",
       "      <td>https://flixpatrol.com/title/class-of-83</td>\n",
       "      <td>ASI</td>\n",
       "    </tr>\n",
       "    <tr>\n",
       "      <th>3</th>\n",
       "      <td>36</td>\n",
       "      <td>TV Show</td>\n",
       "      <td>Masaba Masaba</td>\n",
       "      <td>India</td>\n",
       "      <td>Comedy</td>\n",
       "      <td>2020-08-28</td>\n",
       "      <td>True</td>\n",
       "      <td>68%</td>\n",
       "      <td>NaN</td>\n",
       "      <td>IND</td>\n",
       "      <td>https://flixpatrol.com/title/masaba-masaba</td>\n",
       "      <td>ASI</td>\n",
       "    </tr>\n",
       "    <tr>\n",
       "      <th>4</th>\n",
       "      <td>35</td>\n",
       "      <td>Movie</td>\n",
       "      <td>Class of '83</td>\n",
       "      <td>India</td>\n",
       "      <td>Drama</td>\n",
       "      <td>2020-08-21</td>\n",
       "      <td>False</td>\n",
       "      <td>NaN</td>\n",
       "      <td>20%</td>\n",
       "      <td>IND</td>\n",
       "      <td>https://flixpatrol.com/title/class-of-83</td>\n",
       "      <td>ASI</td>\n",
       "    </tr>\n",
       "    <tr>\n",
       "      <th>5</th>\n",
       "      <td>35</td>\n",
       "      <td>TV Show</td>\n",
       "      <td>Lucifer</td>\n",
       "      <td>USA</td>\n",
       "      <td>Superhero</td>\n",
       "      <td>2016-01-25</td>\n",
       "      <td>True</td>\n",
       "      <td>83%</td>\n",
       "      <td>87%</td>\n",
       "      <td>IND</td>\n",
       "      <td>https://flixpatrol.com/title/lucifer</td>\n",
       "      <td>ASI</td>\n",
       "    </tr>\n",
       "    <tr>\n",
       "      <th>6</th>\n",
       "      <td>34</td>\n",
       "      <td>Movie</td>\n",
       "      <td>Gunjan Saxena: The Kargil Girl</td>\n",
       "      <td>India</td>\n",
       "      <td>War</td>\n",
       "      <td>2020-08-12</td>\n",
       "      <td>False</td>\n",
       "      <td>31%</td>\n",
       "      <td>100%</td>\n",
       "      <td>IND</td>\n",
       "      <td>https://flixpatrol.com/title/gunjan-saxena-the...</td>\n",
       "      <td>ASI</td>\n",
       "    </tr>\n",
       "    <tr>\n",
       "      <th>7</th>\n",
       "      <td>34</td>\n",
       "      <td>TV Show</td>\n",
       "      <td>Dark Desire</td>\n",
       "      <td>Mexico</td>\n",
       "      <td>Drama</td>\n",
       "      <td>2020-07-15</td>\n",
       "      <td>True</td>\n",
       "      <td>75%</td>\n",
       "      <td>NaN</td>\n",
       "      <td>IND</td>\n",
       "      <td>https://flixpatrol.com/title/dark-desire</td>\n",
       "      <td>ASI</td>\n",
       "    </tr>\n",
       "    <tr>\n",
       "      <th>8</th>\n",
       "      <td>33</td>\n",
       "      <td>Movie</td>\n",
       "      <td>Raat Akeli Hai</td>\n",
       "      <td>India</td>\n",
       "      <td>Crime</td>\n",
       "      <td>2020-07-31</td>\n",
       "      <td>False</td>\n",
       "      <td>78%</td>\n",
       "      <td>NaN</td>\n",
       "      <td>IND</td>\n",
       "      <td>https://flixpatrol.com/title/raat-akeli-hai</td>\n",
       "      <td>ASI</td>\n",
       "    </tr>\n",
       "    <tr>\n",
       "      <th>9</th>\n",
       "      <td>33</td>\n",
       "      <td>TV Show</td>\n",
       "      <td>Dark Desire</td>\n",
       "      <td>Mexico</td>\n",
       "      <td>Drama</td>\n",
       "      <td>2020-07-15</td>\n",
       "      <td>True</td>\n",
       "      <td>75%</td>\n",
       "      <td>NaN</td>\n",
       "      <td>IND</td>\n",
       "      <td>https://flixpatrol.com/title/dark-desire</td>\n",
       "      <td>ASI</td>\n",
       "    </tr>\n",
       "  </tbody>\n",
       "</table>\n",
       "</div>"
      ],
      "text/plain": [
       "   week show_type                           title ori_country      genre  \\\n",
       "0    37     Movie                        Unbroken         USA      Drama   \n",
       "1    37   TV Show                   Masaba Masaba       India     Comedy   \n",
       "2    36     Movie                    Class of '83       India      Drama   \n",
       "3    36   TV Show                   Masaba Masaba       India     Comedy   \n",
       "4    35     Movie                    Class of '83       India      Drama   \n",
       "5    35   TV Show                         Lucifer         USA  Superhero   \n",
       "6    34     Movie  Gunjan Saxena: The Kargil Girl       India        War   \n",
       "7    34   TV Show                     Dark Desire      Mexico      Drama   \n",
       "8    33     Movie                  Raat Akeli Hai       India      Crime   \n",
       "9    33   TV Show                     Dark Desire      Mexico      Drama   \n",
       "\n",
       "  release_date  is_NF_Ori imdb_rating rt_rating country_chart  \\\n",
       "0   2014-12-25      False         72%       51%           IND   \n",
       "1   2020-08-28       True         68%       NaN           IND   \n",
       "2   2020-08-21      False         NaN       20%           IND   \n",
       "3   2020-08-28       True         68%       NaN           IND   \n",
       "4   2020-08-21      False         NaN       20%           IND   \n",
       "5   2016-01-25       True         83%       87%           IND   \n",
       "6   2020-08-12      False         31%      100%           IND   \n",
       "7   2020-07-15       True         75%       NaN           IND   \n",
       "8   2020-07-31      False         78%       NaN           IND   \n",
       "9   2020-07-15       True         75%       NaN           IND   \n",
       "\n",
       "                                           show_link Continent  \n",
       "0              https://flixpatrol.com/title/unbroken       ASI  \n",
       "1         https://flixpatrol.com/title/masaba-masaba       ASI  \n",
       "2           https://flixpatrol.com/title/class-of-83       ASI  \n",
       "3         https://flixpatrol.com/title/masaba-masaba       ASI  \n",
       "4           https://flixpatrol.com/title/class-of-83       ASI  \n",
       "5               https://flixpatrol.com/title/lucifer       ASI  \n",
       "6  https://flixpatrol.com/title/gunjan-saxena-the...       ASI  \n",
       "7           https://flixpatrol.com/title/dark-desire       ASI  \n",
       "8        https://flixpatrol.com/title/raat-akeli-hai       ASI  \n",
       "9           https://flixpatrol.com/title/dark-desire       ASI  "
      ]
     },
     "execution_count": 5,
     "metadata": {},
     "output_type": "execute_result"
    }
   ],
   "source": [
    "#read small csv file (indian country movie dataset)\n",
    "\n",
    "movie_ind_ori=pd.read_csv('../../data/country_movies/IND_NF.csv')\n",
    "movie_ind=movie_ind_ori.copy()\n",
    "movie_ind_ori.head(10)"
   ]
  },
  {
   "cell_type": "code",
   "execution_count": 6,
   "metadata": {
    "ExecuteTime": {
     "end_time": "2020-11-17T12:13:37.883496Z",
     "start_time": "2020-11-17T12:13:37.781555Z"
    }
   },
   "outputs": [
    {
     "data": {
      "text/plain": [
       "(48, 12)"
      ]
     },
     "execution_count": 6,
     "metadata": {},
     "output_type": "execute_result"
    }
   ],
   "source": [
    "movie_ind.shape"
   ]
  },
  {
   "cell_type": "code",
   "execution_count": 7,
   "metadata": {
    "ExecuteTime": {
     "end_time": "2020-11-17T12:13:38.010424Z",
     "start_time": "2020-11-17T12:13:37.889492Z"
    }
   },
   "outputs": [
    {
     "name": "stdout",
     "output_type": "stream",
     "text": [
      "<class 'pandas.core.frame.DataFrame'>\n",
      "RangeIndex: 48 entries, 0 to 47\n",
      "Data columns (total 12 columns):\n",
      " #   Column         Non-Null Count  Dtype \n",
      "---  ------         --------------  ----- \n",
      " 0   week           48 non-null     int64 \n",
      " 1   show_type      48 non-null     object\n",
      " 2   title          48 non-null     object\n",
      " 3   ori_country    48 non-null     object\n",
      " 4   genre          48 non-null     object\n",
      " 5   release_date   48 non-null     object\n",
      " 6   is_NF_Ori      48 non-null     bool  \n",
      " 7   imdb_rating    40 non-null     object\n",
      " 8   rt_rating      34 non-null     object\n",
      " 9   country_chart  48 non-null     object\n",
      " 10  show_link      48 non-null     object\n",
      " 11  Continent      48 non-null     object\n",
      "dtypes: bool(1), int64(1), object(10)\n",
      "memory usage: 4.3+ KB\n"
     ]
    }
   ],
   "source": [
    "movie_ind.info()"
   ]
  },
  {
   "cell_type": "code",
   "execution_count": 8,
   "metadata": {
    "ExecuteTime": {
     "end_time": "2020-11-17T12:13:38.111536Z",
     "start_time": "2020-11-17T12:13:38.015423Z"
    }
   },
   "outputs": [],
   "source": [
    "%matplotlib inline"
   ]
  },
  {
   "cell_type": "code",
   "execution_count": 9,
   "metadata": {
    "ExecuteTime": {
     "end_time": "2020-11-17T12:13:38.754598Z",
     "start_time": "2020-11-17T12:13:38.115535Z"
    }
   },
   "outputs": [
    {
     "data": {
      "image/png": "[encoded data removed]",
      "text/plain": [
       "<Figure size 1440x720 with 1 Axes>"
      ]
     },
     "metadata": {
      "needs_background": "light"
     },
     "output_type": "display_data"
    }
   ],
   "source": [
    "nan_columns = []\n",
    "nan_values = []\n",
    "\n",
    "for column in movie_ind.columns:\n",
    "    \n",
    "    nan_columns.append(column)\n",
    "    nan_values.append(movie_ind[column].isnull().sum())\n",
    "    \n",
    "\n",
    "fig, ax = plt.subplots(figsize=(20,10))\n",
    "plt.bar(nan_columns, nan_values)\n",
    "plt.show()"
   ]
  },
  {
   "cell_type": "markdown",
   "metadata": {},
   "source": [
    "<b> <h2> Visualiazation </h2> </b>"
   ]
  },
  {
   "cell_type": "code",
   "execution_count": 10,
   "metadata": {
    "ExecuteTime": {
     "end_time": "2020-11-17T12:13:38.768575Z",
     "start_time": "2020-11-17T12:13:38.757578Z"
    }
   },
   "outputs": [
    {
     "data": {
      "text/plain": [
       "array(['72%', '68%', nan, '68%', nan, '83%', '31%', '75%', '78%', '75%',\n",
       "       '78%', '83%', '62%', '69%', nan, '69%', '82%', '87%', nan, '87%',\n",
       "       '66%', '87%', '66%', '87%', '35%', '87%', '35%', '84%', nan, '70%',\n",
       "       nan, nan, nan, '84%', '54%', '78%', '28%', '78%', '70%', '78%',\n",
       "       '70%', '42%', '55%', '84%', '78%', '84%', '78%', '84%'],\n",
       "      dtype=object)"
      ]
     },
     "execution_count": 10,
     "metadata": {},
     "output_type": "execute_result"
    }
   ],
   "source": [
    "movie_ind.imdb_rating.values"
   ]
  },
  {
   "cell_type": "code",
   "execution_count": 11,
   "metadata": {
    "ExecuteTime": {
     "end_time": "2020-11-17T12:13:38.918197Z",
     "start_time": "2020-11-17T12:13:38.772572Z"
    },
    "scrolled": true
   },
   "outputs": [
    {
     "data": {
      "text/plain": [
       "Index(['week', 'show_type', 'title', 'ori_country', 'genre', 'release_date',\n",
       "       'is_NF_Ori', 'imdb_rating', 'rt_rating', 'country_chart', 'show_link',\n",
       "       'Continent'],\n",
       "      dtype='object')"
      ]
     },
     "execution_count": 11,
     "metadata": {},
     "output_type": "execute_result"
    }
   ],
   "source": [
    "movie_ind.columns\n"
   ]
  },
  {
   "cell_type": "code",
   "execution_count": 12,
   "metadata": {
    "ExecuteTime": {
     "end_time": "2020-11-17T12:13:39.040792Z",
     "start_time": "2020-11-17T12:13:38.924174Z"
    }
   },
   "outputs": [],
   "source": [
    "movie_ind=movie_ind.loc[:,['week','show_type','title','ori_country','genre','release_date','imdb_rating','rt_rating','is_NF_Ori']]\n",
    "movie_ind['imdb_rating']=movie_ind['imdb_rating'].apply(lambda x :np.nan if pd.isnull(x) else float(x[0:-1]))\n",
    "movie_ind['rt_rating']=movie_ind['rt_rating'].apply(lambda x :    np.nan if pd.isnull(x) else float(x[0:-1]))\n"
   ]
  },
  {
   "cell_type": "code",
   "execution_count": 13,
   "metadata": {
    "ExecuteTime": {
     "end_time": "2020-11-17T12:13:39.609965Z",
     "start_time": "2020-11-17T12:13:39.047805Z"
    }
   },
   "outputs": [
    {
     "data": {
      "text/plain": [
       "<matplotlib.axes._subplots.AxesSubplot at 0x23fbaa597c8>"
      ]
     },
     "execution_count": 13,
     "metadata": {},
     "output_type": "execute_result"
    },
    {
     "data": {
      "image/png": "[encoded data removed]",
      "text/plain": [
       "<Figure size 432x288 with 1 Axes>"
      ]
     },
     "metadata": {
      "needs_background": "light"
     },
     "output_type": "display_data"
    }
   ],
   "source": [
    "sns.distplot(movie_ind['imdb_rating'])"
   ]
  },
  {
   "cell_type": "code",
   "execution_count": 14,
   "metadata": {
    "ExecuteTime": {
     "end_time": "2020-11-17T12:13:39.626936Z",
     "start_time": "2020-11-17T12:13:39.614944Z"
    }
   },
   "outputs": [],
   "source": [
    "\n",
    "movie_ind_no_null=movie_ind.dropna()"
   ]
  },
  {
   "cell_type": "code",
   "execution_count": 15,
   "metadata": {
    "ExecuteTime": {
     "end_time": "2020-11-17T12:13:39.780037Z",
     "start_time": "2020-11-17T12:13:39.630935Z"
    }
   },
   "outputs": [
    {
     "data": {
      "text/plain": [
       "array(['Movie', 'TV Show'], dtype=object)"
      ]
     },
     "execution_count": 15,
     "metadata": {},
     "output_type": "execute_result"
    }
   ],
   "source": [
    "movie_ind_no_null['show_type'].unique()"
   ]
  },
  {
   "cell_type": "code",
   "execution_count": 16,
   "metadata": {
    "ExecuteTime": {
     "end_time": "2020-11-17T12:13:40.205640Z",
     "start_time": "2020-11-17T12:13:39.784037Z"
    }
   },
   "outputs": [
    {
     "data": {
      "text/plain": [
       "<matplotlib.axes._subplots.AxesSubplot at 0x23fbaa486c8>"
      ]
     },
     "execution_count": 16,
     "metadata": {},
     "output_type": "execute_result"
    },
    {
     "data": {
      "image/png": "[encoded data removed]",
      "text/plain": [
       "<Figure size 432x288 with 1 Axes>"
      ]
     },
     "metadata": {
      "needs_background": "light"
     },
     "output_type": "display_data"
    }
   ],
   "source": [
    "sns.boxplot('show_type','imdb_rating',data=movie_ind_no_null)"
   ]
  },
  {
   "cell_type": "code",
   "execution_count": 17,
   "metadata": {
    "ExecuteTime": {
     "end_time": "2020-11-17T12:13:40.503473Z",
     "start_time": "2020-11-17T12:13:40.208639Z"
    }
   },
   "outputs": [
    {
     "data": {
      "image/png": "[encoded data removed]",
      "text/plain": [
       "<Figure size 432x288 with 1 Axes>"
      ]
     },
     "metadata": {
      "needs_background": "light"
     },
     "output_type": "display_data"
    }
   ],
   "source": [
    "sns.countplot(movie_ind_no_null['genre']).set_xticklabels(movie_ind_no_null['genre'],rotation=60)\n",
    "plt.show()"
   ]
  },
  {
   "cell_type": "code",
   "execution_count": 18,
   "metadata": {
    "ExecuteTime": {
     "end_time": "2020-11-17T12:13:41.243832Z",
     "start_time": "2020-11-17T12:13:40.506470Z"
    }
   },
   "outputs": [
    {
     "data": {
      "image/png": "[encoded data removed]",
      "text/plain": [
       "<Figure size 432x288 with 1 Axes>"
      ]
     },
     "metadata": {
      "needs_background": "light"
     },
     "output_type": "display_data"
    }
   ],
   "source": [
    "sns.boxplot(movie_ind_no_null['genre'],movie_ind_no_null['imdb_rating']).set_xticklabels(movie_ind_no_null['genre'],rotation=60)\n",
    "plt.show()"
   ]
  },
  {
   "cell_type": "code",
   "execution_count": 19,
   "metadata": {
    "ExecuteTime": {
     "end_time": "2020-11-17T12:13:41.264309Z",
     "start_time": "2020-11-17T12:13:41.247547Z"
    }
   },
   "outputs": [
    {
     "data": {
      "text/plain": [
       "array(['USA', 'India', 'United Kingdom', 'Germany', 'Spain', 'Italy'],\n",
       "      dtype=object)"
      ]
     },
     "execution_count": 19,
     "metadata": {},
     "output_type": "execute_result"
    }
   ],
   "source": [
    "movie_ind_no_null['ori_country'].unique()"
   ]
  },
  {
   "cell_type": "code",
   "execution_count": 20,
   "metadata": {
    "ExecuteTime": {
     "end_time": "2020-11-17T12:13:41.406819Z",
     "start_time": "2020-11-17T12:13:41.267610Z"
    }
   },
   "outputs": [],
   "source": [
    "%matplotlib inline"
   ]
  },
  {
   "cell_type": "code",
   "execution_count": 21,
   "metadata": {
    "ExecuteTime": {
     "end_time": "2020-11-17T12:13:41.790545Z",
     "start_time": "2020-11-17T12:13:41.410817Z"
    }
   },
   "outputs": [
    {
     "data": {
      "text/plain": [
       "[Text(0, 0, 'USA'),\n",
       " Text(0, 0, 'India'),\n",
       " Text(0, 0, 'United Kingdom'),\n",
       " Text(0, 0, 'Germany'),\n",
       " Text(0, 0, 'Spain'),\n",
       " Text(0, 0, 'Italy')]"
      ]
     },
     "execution_count": 21,
     "metadata": {},
     "output_type": "execute_result"
    },
    {
     "data": {
      "image/png": "[encoded data removed]",
      "text/plain": [
       "<Figure size 432x288 with 1 Axes>"
      ]
     },
     "metadata": {
      "needs_background": "light"
     },
     "output_type": "display_data"
    }
   ],
   "source": [
    "sns.countplot(movie_ind_no_null['ori_country']).set_xticklabels(movie_ind_no_null['ori_country'].unique(),rotation=60)"
   ]
  },
  {
   "cell_type": "code",
   "execution_count": 22,
   "metadata": {
    "ExecuteTime": {
     "end_time": "2020-11-17T12:13:42.218297Z",
     "start_time": "2020-11-17T12:13:41.793540Z"
    }
   },
   "outputs": [
    {
     "data": {
      "image/png": "[encoded data removed]",
      "text/plain": [
       "<Figure size 432x288 with 1 Axes>"
      ]
     },
     "metadata": {
      "needs_background": "light"
     },
     "output_type": "display_data"
    }
   ],
   "source": [
    "sns.boxplot(movie_ind_no_null['ori_country'],movie_ind_no_null['imdb_rating']).set_xticklabels(movie_ind_no_null['ori_country'].unique(),rotation=60)\n",
    "plt.show()"
   ]
  },
  {
   "cell_type": "code",
   "execution_count": 23,
   "metadata": {
    "ExecuteTime": {
     "end_time": "2020-11-17T12:13:42.505340Z",
     "start_time": "2020-11-17T12:13:42.221297Z"
    }
   },
   "outputs": [
    {
     "data": {
      "text/plain": [
       "<matplotlib.axes._subplots.AxesSubplot at 0x23fb9863348>"
      ]
     },
     "execution_count": 23,
     "metadata": {},
     "output_type": "execute_result"
    },
    {
     "data": {
      "image/png": "[encoded data removed]",
      "text/plain": [
       "<Figure size 432x288 with 1 Axes>"
      ]
     },
     "metadata": {
      "needs_background": "light"
     },
     "output_type": "display_data"
    }
   ],
   "source": [
    "sns.countplot(movie_ind_no_null['is_NF_Ori'])"
   ]
  },
  {
   "cell_type": "code",
   "execution_count": 24,
   "metadata": {
    "ExecuteTime": {
     "end_time": "2020-11-17T12:13:42.793176Z",
     "start_time": "2020-11-17T12:13:42.508337Z"
    }
   },
   "outputs": [
    {
     "data": {
      "text/plain": [
       "<matplotlib.axes._subplots.AxesSubplot at 0x23fba6b6f08>"
      ]
     },
     "execution_count": 24,
     "metadata": {},
     "output_type": "execute_result"
    },
    {
     "data": {
      "image/png": "[encoded data removed]",
      "text/plain": [
       "<Figure size 432x288 with 1 Axes>"
      ]
     },
     "metadata": {
      "needs_background": "light"
     },
     "output_type": "display_data"
    }
   ],
   "source": [
    "sns.boxplot('is_NF_Ori','imdb_rating',data=movie_ind_no_null)"
   ]
  },
  {
   "cell_type": "code",
   "execution_count": 25,
   "metadata": {
    "ExecuteTime": {
     "end_time": "2020-11-17T12:13:43.026043Z",
     "start_time": "2020-11-17T12:13:42.797172Z"
    }
   },
   "outputs": [
    {
     "data": {
      "text/plain": [
       "<matplotlib.axes._subplots.AxesSubplot at 0x23fbac70c08>"
      ]
     },
     "execution_count": 25,
     "metadata": {},
     "output_type": "execute_result"
    },
    {
     "data": {
      "image/png": "[encoded data removed]",
      "text/plain": [
       "<Figure size 432x288 with 1 Axes>"
      ]
     },
     "metadata": {
      "needs_background": "light"
     },
     "output_type": "display_data"
    }
   ],
   "source": [
    "sns.boxplot(movie_ind_no_null['imdb_rating'])"
   ]
  },
  {
   "cell_type": "code",
   "execution_count": 26,
   "metadata": {
    "ExecuteTime": {
     "end_time": "2020-11-17T12:13:43.283895Z",
     "start_time": "2020-11-17T12:13:43.029059Z"
    },
    "scrolled": true
   },
   "outputs": [
    {
     "data": {
      "text/plain": [
       "<matplotlib.axes._subplots.AxesSubplot at 0x23fba050048>"
      ]
     },
     "execution_count": 26,
     "metadata": {},
     "output_type": "execute_result"
    },
    {
     "data": {
      "image/png": "[encoded data removed]",
      "text/plain": [
       "<Figure size 432x288 with 1 Axes>"
      ]
     },
     "metadata": {
      "needs_background": "light"
     },
     "output_type": "display_data"
    }
   ],
   "source": [
    "sns.boxplot(movie_ind_no_null['rt_rating'])"
   ]
  },
  {
   "cell_type": "code",
   "execution_count": 27,
   "metadata": {
    "ExecuteTime": {
     "end_time": "2020-11-17T12:13:43.591718Z",
     "start_time": "2020-11-17T12:13:43.286892Z"
    }
   },
   "outputs": [
    {
     "data": {
      "text/plain": [
       "<matplotlib.axes._subplots.AxesSubplot at 0x23fba5ee088>"
      ]
     },
     "execution_count": 27,
     "metadata": {},
     "output_type": "execute_result"
    },
    {
     "data": {
      "image/png": "[encoded data removed]",
      "text/plain": [
       "<Figure size 432x288 with 1 Axes>"
      ]
     },
     "metadata": {
      "needs_background": "light"
     },
     "output_type": "display_data"
    }
   ],
   "source": [
    "sns.distplot(movie_ind_no_null['imdb_rating'])"
   ]
  },
  {
   "cell_type": "code",
   "execution_count": 28,
   "metadata": {
    "ExecuteTime": {
     "end_time": "2020-11-17T12:13:44.081424Z",
     "start_time": "2020-11-17T12:13:43.594720Z"
    },
    "scrolled": true
   },
   "outputs": [
    {
     "data": {
      "text/plain": [
       "<matplotlib.axes._subplots.AxesSubplot at 0x23fba667cc8>"
      ]
     },
     "execution_count": 28,
     "metadata": {},
     "output_type": "execute_result"
    },
    {
     "data": {
      "image/png": "[encoded data removed]",
      "text/plain": [
       "<Figure size 432x288 with 1 Axes>"
      ]
     },
     "metadata": {
      "needs_background": "light"
     },
     "output_type": "display_data"
    }
   ],
   "source": [
    "sns.distplot(movie_ind_no_null['rt_rating'])"
   ]
  },
  {
   "cell_type": "markdown",
   "metadata": {
    "ExecuteTime": {
     "end_time": "2020-11-08T05:45:54.165888Z",
     "start_time": "2020-11-08T05:45:54.149894Z"
    }
   },
   "source": [
    "<b> <h2>Purpose: Handle missing data (imdb_rating and rt_rating ) </h2> </b>"
   ]
  },
  {
   "cell_type": "markdown",
   "metadata": {
    "ExecuteTime": {
     "end_time": "2020-11-08T05:51:35.688514Z",
     "start_time": "2020-11-08T05:51:35.672516Z"
    }
   },
   "source": [
    "<ul> <li> <b> How can we  fill missing value ?  </b> </li>\n",
    "<br>\n",
    "    <li> <b> Ans:Prediction (Regression)</b> </li>\n",
    "<br>\n",
    "    <li> <b> More Explaination below Building Pipeline Section </b> </li> </ul>"
   ]
  },
  {
   "cell_type": "code",
   "execution_count": 29,
   "metadata": {
    "ExecuteTime": {
     "end_time": "2020-11-17T12:13:45.846942Z",
     "start_time": "2020-11-17T12:13:44.085406Z"
    }
   },
   "outputs": [
    {
     "data": {
      "text/plain": [
       "<seaborn.axisgrid.JointGrid at 0x23fbb4623c8>"
      ]
     },
     "execution_count": 29,
     "metadata": {},
     "output_type": "execute_result"
    },
    {
     "data": {
      "image/png": "[encoded data removed]",
      "text/plain": [
       "<Figure size 432x432 with 3 Axes>"
      ]
     },
     "metadata": {
      "needs_background": "light"
     },
     "output_type": "display_data"
    }
   ],
   "source": [
    "sns.jointplot('imdb_rating','rt_rating',kind='reg',data=movie_ind_no_null,order=2)\n"
   ]
  },
  {
   "cell_type": "code",
   "execution_count": 30,
   "metadata": {
    "ExecuteTime": {
     "end_time": "2020-11-17T12:13:46.566427Z",
     "start_time": "2020-11-17T12:13:45.850720Z"
    }
   },
   "outputs": [
    {
     "data": {
      "text/html": [
       "<table class=\"simpletable\">\n",
       "<caption>OLS Regression Results</caption>\n",
       "<tr>\n",
       "  <th>Dep. Variable:</th>        <td>rt_rating</td>    <th>  R-squared:         </th> <td>   0.280</td>\n",
       "</tr>\n",
       "<tr>\n",
       "  <th>Model:</th>                   <td>OLS</td>       <th>  Adj. R-squared:    </th> <td>   0.252</td>\n",
       "</tr>\n",
       "<tr>\n",
       "  <th>Method:</th>             <td>Least Squares</td>  <th>  F-statistic:       </th> <td>   9.745</td>\n",
       "</tr>\n",
       "<tr>\n",
       "  <th>Date:</th>             <td>Tue, 17 Nov 2020</td> <th>  Prob (F-statistic):</th>  <td>0.00450</td>\n",
       "</tr>\n",
       "<tr>\n",
       "  <th>Time:</th>                 <td>17:43:46</td>     <th>  Log-Likelihood:    </th> <td> -121.49</td>\n",
       "</tr>\n",
       "<tr>\n",
       "  <th>No. Observations:</th>      <td>    27</td>      <th>  AIC:               </th> <td>   247.0</td>\n",
       "</tr>\n",
       "<tr>\n",
       "  <th>Df Residuals:</th>          <td>    25</td>      <th>  BIC:               </th> <td>   249.6</td>\n",
       "</tr>\n",
       "<tr>\n",
       "  <th>Df Model:</th>              <td>     1</td>      <th>                     </th>     <td> </td>   \n",
       "</tr>\n",
       "<tr>\n",
       "  <th>Covariance Type:</th>      <td>nonrobust</td>    <th>                     </th>     <td> </td>   \n",
       "</tr>\n",
       "</table>\n",
       "<table class=\"simpletable\">\n",
       "<tr>\n",
       "           <td></td>              <th>coef</th>     <th>std err</th>      <th>t</th>      <th>P>|t|</th>  <th>[0.025</th>    <th>0.975]</th>  \n",
       "</tr>\n",
       "<tr>\n",
       "  <th>Intercept</th>           <td>   34.3644</td> <td>   13.985</td> <td>    2.457</td> <td> 0.021</td> <td>    5.562</td> <td>   63.167</td>\n",
       "</tr>\n",
       "<tr>\n",
       "  <th>I(imdb_rating ** 2)</th> <td>    0.0073</td> <td>    0.002</td> <td>    3.122</td> <td> 0.004</td> <td>    0.002</td> <td>    0.012</td>\n",
       "</tr>\n",
       "</table>\n",
       "<table class=\"simpletable\">\n",
       "<tr>\n",
       "  <th>Omnibus:</th>       <td> 1.739</td> <th>  Durbin-Watson:     </th> <td>   1.812</td>\n",
       "</tr>\n",
       "<tr>\n",
       "  <th>Prob(Omnibus):</th> <td> 0.419</td> <th>  Jarque-Bera (JB):  </th> <td>   0.593</td>\n",
       "</tr>\n",
       "<tr>\n",
       "  <th>Skew:</th>          <td> 0.001</td> <th>  Prob(JB):          </th> <td>   0.743</td>\n",
       "</tr>\n",
       "<tr>\n",
       "  <th>Kurtosis:</th>      <td> 3.726</td> <th>  Cond. No.          </th> <td>1.92e+04</td>\n",
       "</tr>\n",
       "</table><br/><br/>Warnings:<br/>[1] Standard Errors assume that the covariance matrix of the errors is correctly specified.<br/>[2] The condition number is large, 1.92e+04. This might indicate that there are<br/>strong multicollinearity or other numerical problems."
      ],
      "text/plain": [
       "<class 'statsmodels.iolib.summary.Summary'>\n",
       "\"\"\"\n",
       "                            OLS Regression Results                            \n",
       "==============================================================================\n",
       "Dep. Variable:              rt_rating   R-squared:                       0.280\n",
       "Model:                            OLS   Adj. R-squared:                  0.252\n",
       "Method:                 Least Squares   F-statistic:                     9.745\n",
       "Date:                Tue, 17 Nov 2020   Prob (F-statistic):            0.00450\n",
       "Time:                        17:43:46   Log-Likelihood:                -121.49\n",
       "No. Observations:                  27   AIC:                             247.0\n",
       "Df Residuals:                      25   BIC:                             249.6\n",
       "Df Model:                           1                                         \n",
       "Covariance Type:            nonrobust                                         \n",
       "=======================================================================================\n",
       "                          coef    std err          t      P>|t|      [0.025      0.975]\n",
       "---------------------------------------------------------------------------------------\n",
       "Intercept              34.3644     13.985      2.457      0.021       5.562      63.167\n",
       "I(imdb_rating ** 2)     0.0073      0.002      3.122      0.004       0.002       0.012\n",
       "==============================================================================\n",
       "Omnibus:                        1.739   Durbin-Watson:                   1.812\n",
       "Prob(Omnibus):                  0.419   Jarque-Bera (JB):                0.593\n",
       "Skew:                           0.001   Prob(JB):                        0.743\n",
       "Kurtosis:                       3.726   Cond. No.                     1.92e+04\n",
       "==============================================================================\n",
       "\n",
       "Warnings:\n",
       "[1] Standard Errors assume that the covariance matrix of the errors is correctly specified.\n",
       "[2] The condition number is large, 1.92e+04. This might indicate that there are\n",
       "strong multicollinearity or other numerical problems.\n",
       "\"\"\""
      ]
     },
     "execution_count": 30,
     "metadata": {},
     "output_type": "execute_result"
    }
   ],
   "source": [
    "model=smf.ols('rt_rating~I(imdb_rating**2)',data=movie_ind_no_null).fit()\n",
    "model.summary()"
   ]
  },
  {
   "cell_type": "code",
   "execution_count": 31,
   "metadata": {
    "ExecuteTime": {
     "end_time": "2020-11-17T12:13:48.092664Z",
     "start_time": "2020-11-17T12:13:46.577419Z"
    }
   },
   "outputs": [
    {
     "data": {
      "text/plain": [
       "<seaborn.axisgrid.JointGrid at 0x23fbb5b3d88>"
      ]
     },
     "execution_count": 31,
     "metadata": {},
     "output_type": "execute_result"
    },
    {
     "data": {
      "image/png": "[encoded data removed]",
      "text/plain": [
       "<Figure size 432x432 with 3 Axes>"
      ]
     },
     "metadata": {
      "needs_background": "light"
     },
     "output_type": "display_data"
    }
   ],
   "source": [
    "sns.jointplot('rt_rating','imdb_rating',kind='reg',data=movie_ind_no_null,order=1)\n"
   ]
  },
  {
   "cell_type": "code",
   "execution_count": 32,
   "metadata": {
    "ExecuteTime": {
     "end_time": "2020-11-17T12:13:48.158625Z",
     "start_time": "2020-11-17T12:13:48.102658Z"
    }
   },
   "outputs": [
    {
     "data": {
      "text/html": [
       "<table class=\"simpletable\">\n",
       "<caption>OLS Regression Results</caption>\n",
       "<tr>\n",
       "  <th>Dep. Variable:</th>       <td>imdb_rating</td>   <th>  R-squared:         </th> <td>   0.225</td>\n",
       "</tr>\n",
       "<tr>\n",
       "  <th>Model:</th>                   <td>OLS</td>       <th>  Adj. R-squared:    </th> <td>   0.194</td>\n",
       "</tr>\n",
       "<tr>\n",
       "  <th>Method:</th>             <td>Least Squares</td>  <th>  F-statistic:       </th> <td>   7.276</td>\n",
       "</tr>\n",
       "<tr>\n",
       "  <th>Date:</th>             <td>Tue, 17 Nov 2020</td> <th>  Prob (F-statistic):</th>  <td>0.0123</td> \n",
       "</tr>\n",
       "<tr>\n",
       "  <th>Time:</th>                 <td>17:43:48</td>     <th>  Log-Likelihood:    </th> <td> -106.82</td>\n",
       "</tr>\n",
       "<tr>\n",
       "  <th>No. Observations:</th>      <td>    27</td>      <th>  AIC:               </th> <td>   217.6</td>\n",
       "</tr>\n",
       "<tr>\n",
       "  <th>Df Residuals:</th>          <td>    25</td>      <th>  BIC:               </th> <td>   220.2</td>\n",
       "</tr>\n",
       "<tr>\n",
       "  <th>Df Model:</th>              <td>     1</td>      <th>                     </th>     <td> </td>   \n",
       "</tr>\n",
       "<tr>\n",
       "  <th>Covariance Type:</th>      <td>nonrobust</td>    <th>                     </th>     <td> </td>   \n",
       "</tr>\n",
       "</table>\n",
       "<table class=\"simpletable\">\n",
       "<tr>\n",
       "          <td></td>             <th>coef</th>     <th>std err</th>      <th>t</th>      <th>P>|t|</th>  <th>[0.025</th>    <th>0.975]</th>  \n",
       "</tr>\n",
       "<tr>\n",
       "  <th>Intercept</th>         <td>   53.7224</td> <td>    7.893</td> <td>    6.807</td> <td> 0.000</td> <td>   37.467</td> <td>   69.977</td>\n",
       "</tr>\n",
       "<tr>\n",
       "  <th>I(rt_rating ** 1)</th> <td>    0.2659</td> <td>    0.099</td> <td>    2.697</td> <td> 0.012</td> <td>    0.063</td> <td>    0.469</td>\n",
       "</tr>\n",
       "</table>\n",
       "<table class=\"simpletable\">\n",
       "<tr>\n",
       "  <th>Omnibus:</th>       <td>29.692</td> <th>  Durbin-Watson:     </th> <td>   2.126</td>\n",
       "</tr>\n",
       "<tr>\n",
       "  <th>Prob(Omnibus):</th> <td> 0.000</td> <th>  Jarque-Bera (JB):  </th> <td>  65.382</td>\n",
       "</tr>\n",
       "<tr>\n",
       "  <th>Skew:</th>          <td>-2.214</td> <th>  Prob(JB):          </th> <td>6.35e-15</td>\n",
       "</tr>\n",
       "<tr>\n",
       "  <th>Kurtosis:</th>      <td> 9.205</td> <th>  Cond. No.          </th> <td>    250.</td>\n",
       "</tr>\n",
       "</table><br/><br/>Warnings:<br/>[1] Standard Errors assume that the covariance matrix of the errors is correctly specified."
      ],
      "text/plain": [
       "<class 'statsmodels.iolib.summary.Summary'>\n",
       "\"\"\"\n",
       "                            OLS Regression Results                            \n",
       "==============================================================================\n",
       "Dep. Variable:            imdb_rating   R-squared:                       0.225\n",
       "Model:                            OLS   Adj. R-squared:                  0.194\n",
       "Method:                 Least Squares   F-statistic:                     7.276\n",
       "Date:                Tue, 17 Nov 2020   Prob (F-statistic):             0.0123\n",
       "Time:                        17:43:48   Log-Likelihood:                -106.82\n",
       "No. Observations:                  27   AIC:                             217.6\n",
       "Df Residuals:                      25   BIC:                             220.2\n",
       "Df Model:                           1                                         \n",
       "Covariance Type:            nonrobust                                         \n",
       "=====================================================================================\n",
       "                        coef    std err          t      P>|t|      [0.025      0.975]\n",
       "-------------------------------------------------------------------------------------\n",
       "Intercept            53.7224      7.893      6.807      0.000      37.467      69.977\n",
       "I(rt_rating ** 1)     0.2659      0.099      2.697      0.012       0.063       0.469\n",
       "==============================================================================\n",
       "Omnibus:                       29.692   Durbin-Watson:                   2.126\n",
       "Prob(Omnibus):                  0.000   Jarque-Bera (JB):               65.382\n",
       "Skew:                          -2.214   Prob(JB):                     6.35e-15\n",
       "Kurtosis:                       9.205   Cond. No.                         250.\n",
       "==============================================================================\n",
       "\n",
       "Warnings:\n",
       "[1] Standard Errors assume that the covariance matrix of the errors is correctly specified.\n",
       "\"\"\""
      ]
     },
     "execution_count": 32,
     "metadata": {},
     "output_type": "execute_result"
    }
   ],
   "source": [
    "model1=smf.ols('imdb_rating~I(rt_rating**1)',data=movie_ind_no_null).fit()\n",
    "model1.summary()"
   ]
  },
  {
   "cell_type": "markdown",
   "metadata": {},
   "source": [
    "# Building Pipelines"
   ]
  },
  {
   "cell_type": "markdown",
   "metadata": {},
   "source": [
    "<b>  <h2> Data Cleaning Part </h2> </b> "
   ]
  },
  {
   "cell_type": "code",
   "execution_count": 33,
   "metadata": {
    "ExecuteTime": {
     "end_time": "2020-11-17T12:13:48.284650Z",
     "start_time": "2020-11-17T12:13:48.161625Z"
    }
   },
   "outputs": [],
   "source": [
    "def clean_data(movie_ind):\n",
    "    \n",
    "        movie_ind=movie_ind.loc[:,['week','show_type','title','ori_country','genre','release_date','imdb_rating','rt_rating','is_NF_Ori']]\n",
    "        movie_ind['imdb_rating']=movie_ind['imdb_rating'].apply(lambda x :np.nan if pd.isnull(x) else( float(x[0:-1])))\n",
    "        movie_ind['rt_rating']=movie_ind['rt_rating'].apply(lambda x :    np.nan if pd.isnull(x) else(float(x[0:-1])))\n",
    "        \n",
    "        return movie_ind"
   ]
  },
  {
   "cell_type": "code",
   "execution_count": 34,
   "metadata": {
    "ExecuteTime": {
     "end_time": "2020-11-17T12:13:48.435572Z",
     "start_time": "2020-11-17T12:13:48.288646Z"
    }
   },
   "outputs": [
    {
     "data": {
      "text/html": [
       "<div>\n",
       "<style scoped>\n",
       "    .dataframe tbody tr th:only-of-type {\n",
       "        vertical-align: middle;\n",
       "    }\n",
       "\n",
       "    .dataframe tbody tr th {\n",
       "        vertical-align: top;\n",
       "    }\n",
       "\n",
       "    .dataframe thead th {\n",
       "        text-align: right;\n",
       "    }\n",
       "</style>\n",
       "<table border=\"1\" class=\"dataframe\">\n",
       "  <thead>\n",
       "    <tr style=\"text-align: right;\">\n",
       "      <th></th>\n",
       "      <th>week</th>\n",
       "      <th>show_type</th>\n",
       "      <th>title</th>\n",
       "      <th>ori_country</th>\n",
       "      <th>genre</th>\n",
       "      <th>release_date</th>\n",
       "      <th>imdb_rating</th>\n",
       "      <th>rt_rating</th>\n",
       "      <th>is_NF_Ori</th>\n",
       "    </tr>\n",
       "  </thead>\n",
       "  <tbody>\n",
       "    <tr>\n",
       "      <th>0</th>\n",
       "      <td>37</td>\n",
       "      <td>Movie</td>\n",
       "      <td>Unbroken</td>\n",
       "      <td>USA</td>\n",
       "      <td>Drama</td>\n",
       "      <td>2014-12-25</td>\n",
       "      <td>72.0</td>\n",
       "      <td>51.0</td>\n",
       "      <td>False</td>\n",
       "    </tr>\n",
       "    <tr>\n",
       "      <th>1</th>\n",
       "      <td>37</td>\n",
       "      <td>TV Show</td>\n",
       "      <td>Masaba Masaba</td>\n",
       "      <td>India</td>\n",
       "      <td>Comedy</td>\n",
       "      <td>2020-08-28</td>\n",
       "      <td>68.0</td>\n",
       "      <td>NaN</td>\n",
       "      <td>True</td>\n",
       "    </tr>\n",
       "    <tr>\n",
       "      <th>2</th>\n",
       "      <td>36</td>\n",
       "      <td>Movie</td>\n",
       "      <td>Class of '83</td>\n",
       "      <td>India</td>\n",
       "      <td>Drama</td>\n",
       "      <td>2020-08-21</td>\n",
       "      <td>NaN</td>\n",
       "      <td>20.0</td>\n",
       "      <td>False</td>\n",
       "    </tr>\n",
       "    <tr>\n",
       "      <th>3</th>\n",
       "      <td>36</td>\n",
       "      <td>TV Show</td>\n",
       "      <td>Masaba Masaba</td>\n",
       "      <td>India</td>\n",
       "      <td>Comedy</td>\n",
       "      <td>2020-08-28</td>\n",
       "      <td>68.0</td>\n",
       "      <td>NaN</td>\n",
       "      <td>True</td>\n",
       "    </tr>\n",
       "    <tr>\n",
       "      <th>4</th>\n",
       "      <td>35</td>\n",
       "      <td>Movie</td>\n",
       "      <td>Class of '83</td>\n",
       "      <td>India</td>\n",
       "      <td>Drama</td>\n",
       "      <td>2020-08-21</td>\n",
       "      <td>NaN</td>\n",
       "      <td>20.0</td>\n",
       "      <td>False</td>\n",
       "    </tr>\n",
       "  </tbody>\n",
       "</table>\n",
       "</div>"
      ],
      "text/plain": [
       "   week show_type          title ori_country   genre release_date  \\\n",
       "0    37     Movie       Unbroken         USA   Drama   2014-12-25   \n",
       "1    37   TV Show  Masaba Masaba       India  Comedy   2020-08-28   \n",
       "2    36     Movie   Class of '83       India   Drama   2020-08-21   \n",
       "3    36   TV Show  Masaba Masaba       India  Comedy   2020-08-28   \n",
       "4    35     Movie   Class of '83       India   Drama   2020-08-21   \n",
       "\n",
       "   imdb_rating  rt_rating  is_NF_Ori  \n",
       "0         72.0       51.0      False  \n",
       "1         68.0        NaN       True  \n",
       "2          NaN       20.0      False  \n",
       "3         68.0        NaN       True  \n",
       "4          NaN       20.0      False  "
      ]
     },
     "execution_count": 34,
     "metadata": {},
     "output_type": "execute_result"
    }
   ],
   "source": [
    "movie_ind_c=clean_data(movie_ind_ori)\n",
    "\n",
    "movie_ind_c.head()"
   ]
  },
  {
   "cell_type": "markdown",
   "metadata": {
    "ExecuteTime": {
     "end_time": "2020-11-08T06:09:26.566035Z",
     "start_time": "2020-11-08T06:09:26.550017Z"
    }
   },
   "source": [
    "<b> <h2> fill the missing values </h2> </b> "
   ]
  },
  {
   "cell_type": "code",
   "execution_count": 35,
   "metadata": {
    "ExecuteTime": {
     "end_time": "2020-11-17T12:13:48.550496Z",
     "start_time": "2020-11-17T12:13:48.439560Z"
    }
   },
   "outputs": [],
   "source": [
    "def missing_valuefill(df):\n",
    "    \n",
    "    df_final=df.loc[~df.title.duplicated(keep='first')] #remove duplicate title rows\n",
    " \n",
    "    model=smf.ols('rt_rating~I(imdb_rating**2)',data=df).fit()\n",
    "    model1=smf.ols('imdb_rating~I(rt_rating**1)',data=df).fit()\n",
    "    predict_imdb_rt=pd.DataFrame({'rt_predict':model.predict(df['imdb_rating']),\n",
    "                              'imdb_predict':model1.predict(df['rt_rating'])})\n",
    "    \n",
    "    #Above dataframe help to fill a missing value into our dataset \n",
    "    \n",
    "    df_final['imdb_rating'].fillna(predict_imdb_rt['imdb_predict'],inplace=True)\n",
    "    df_final['rt_rating'].fillna(predict_imdb_rt['rt_predict'],inplace=True) \n",
    "    df_final=round(df_final,0)\n",
    "    df_final=df_final.dropna() # if still any none value left then drop it\n",
    "    \n",
    "    df_final.reset_index(drop=True,inplace=True)\n",
    "    return df_final\n",
    "              "
   ]
  },
  {
   "cell_type": "code",
   "execution_count": 36,
   "metadata": {
    "ExecuteTime": {
     "end_time": "2020-11-17T12:13:48.809608Z",
     "start_time": "2020-11-17T12:13:48.554495Z"
    }
   },
   "outputs": [],
   "source": [
    "complete_movie_ind=missing_valuefill(movie_ind_c)"
   ]
  },
  {
   "cell_type": "markdown",
   "metadata": {
    "ExecuteTime": {
     "end_time": "2020-11-08T06:20:49.368445Z",
     "start_time": "2020-11-08T06:20:49.352450Z"
    }
   },
   "source": [
    "<h2> <b> we will prepare data for Recommandation algo  </b> </h2>"
   ]
  },
  {
   "cell_type": "code",
   "execution_count": 37,
   "metadata": {
    "ExecuteTime": {
     "end_time": "2020-11-17T12:13:48.852584Z",
     "start_time": "2020-11-17T12:13:48.812607Z"
    }
   },
   "outputs": [],
   "source": [
    "def prepare_data(data):\n",
    "    col=['show_type','ori_country','genre','is_NF_Ori']\n",
    "    data['merge_word'] = data[col].values.tolist()\n",
    "    \n",
    "    return data\n"
   ]
  },
  {
   "cell_type": "code",
   "execution_count": 38,
   "metadata": {
    "ExecuteTime": {
     "end_time": "2020-11-17T12:13:49.019538Z",
     "start_time": "2020-11-17T12:13:48.857583Z"
    }
   },
   "outputs": [
    {
     "data": {
      "text/html": [
       "<div>\n",
       "<style scoped>\n",
       "    .dataframe tbody tr th:only-of-type {\n",
       "        vertical-align: middle;\n",
       "    }\n",
       "\n",
       "    .dataframe tbody tr th {\n",
       "        vertical-align: top;\n",
       "    }\n",
       "\n",
       "    .dataframe thead th {\n",
       "        text-align: right;\n",
       "    }\n",
       "</style>\n",
       "<table border=\"1\" class=\"dataframe\">\n",
       "  <thead>\n",
       "    <tr style=\"text-align: right;\">\n",
       "      <th></th>\n",
       "      <th>week</th>\n",
       "      <th>show_type</th>\n",
       "      <th>title</th>\n",
       "      <th>ori_country</th>\n",
       "      <th>genre</th>\n",
       "      <th>release_date</th>\n",
       "      <th>imdb_rating</th>\n",
       "      <th>rt_rating</th>\n",
       "      <th>is_NF_Ori</th>\n",
       "      <th>merge_word</th>\n",
       "    </tr>\n",
       "  </thead>\n",
       "  <tbody>\n",
       "    <tr>\n",
       "      <th>0</th>\n",
       "      <td>37</td>\n",
       "      <td>Movie</td>\n",
       "      <td>Unbroken</td>\n",
       "      <td>USA</td>\n",
       "      <td>Drama</td>\n",
       "      <td>2014-12-25</td>\n",
       "      <td>72.0</td>\n",
       "      <td>51.0</td>\n",
       "      <td>False</td>\n",
       "      <td>[Movie, USA, Drama, False]</td>\n",
       "    </tr>\n",
       "    <tr>\n",
       "      <th>1</th>\n",
       "      <td>37</td>\n",
       "      <td>TV Show</td>\n",
       "      <td>Masaba Masaba</td>\n",
       "      <td>India</td>\n",
       "      <td>Comedy</td>\n",
       "      <td>2020-08-28</td>\n",
       "      <td>68.0</td>\n",
       "      <td>68.0</td>\n",
       "      <td>True</td>\n",
       "      <td>[TV Show, India, Comedy, True]</td>\n",
       "    </tr>\n",
       "    <tr>\n",
       "      <th>2</th>\n",
       "      <td>36</td>\n",
       "      <td>Movie</td>\n",
       "      <td>Class of '83</td>\n",
       "      <td>India</td>\n",
       "      <td>Drama</td>\n",
       "      <td>2020-08-21</td>\n",
       "      <td>59.0</td>\n",
       "      <td>20.0</td>\n",
       "      <td>False</td>\n",
       "      <td>[Movie, India, Drama, False]</td>\n",
       "    </tr>\n",
       "    <tr>\n",
       "      <th>3</th>\n",
       "      <td>35</td>\n",
       "      <td>TV Show</td>\n",
       "      <td>Lucifer</td>\n",
       "      <td>USA</td>\n",
       "      <td>Superhero</td>\n",
       "      <td>2016-01-25</td>\n",
       "      <td>83.0</td>\n",
       "      <td>87.0</td>\n",
       "      <td>True</td>\n",
       "      <td>[TV Show, USA, Superhero, True]</td>\n",
       "    </tr>\n",
       "    <tr>\n",
       "      <th>4</th>\n",
       "      <td>34</td>\n",
       "      <td>Movie</td>\n",
       "      <td>Gunjan Saxena: The Kargil Girl</td>\n",
       "      <td>India</td>\n",
       "      <td>War</td>\n",
       "      <td>2020-08-12</td>\n",
       "      <td>31.0</td>\n",
       "      <td>100.0</td>\n",
       "      <td>False</td>\n",
       "      <td>[Movie, India, War, False]</td>\n",
       "    </tr>\n",
       "  </tbody>\n",
       "</table>\n",
       "</div>"
      ],
      "text/plain": [
       "   week show_type                           title ori_country      genre  \\\n",
       "0    37     Movie                        Unbroken         USA      Drama   \n",
       "1    37   TV Show                   Masaba Masaba       India     Comedy   \n",
       "2    36     Movie                    Class of '83       India      Drama   \n",
       "3    35   TV Show                         Lucifer         USA  Superhero   \n",
       "4    34     Movie  Gunjan Saxena: The Kargil Girl       India        War   \n",
       "\n",
       "  release_date  imdb_rating  rt_rating  is_NF_Ori  \\\n",
       "0   2014-12-25         72.0       51.0      False   \n",
       "1   2020-08-28         68.0       68.0       True   \n",
       "2   2020-08-21         59.0       20.0      False   \n",
       "3   2016-01-25         83.0       87.0       True   \n",
       "4   2020-08-12         31.0      100.0      False   \n",
       "\n",
       "                        merge_word  \n",
       "0       [Movie, USA, Drama, False]  \n",
       "1   [TV Show, India, Comedy, True]  \n",
       "2     [Movie, India, Drama, False]  \n",
       "3  [TV Show, USA, Superhero, True]  \n",
       "4       [Movie, India, War, False]  "
      ]
     },
     "execution_count": 38,
     "metadata": {},
     "output_type": "execute_result"
    }
   ],
   "source": [
    "data_ready=prepare_data(complete_movie_ind)\n",
    "data_ready.head()"
   ]
  },
  {
   "cell_type": "markdown",
   "metadata": {
    "ExecuteTime": {
     "end_time": "2020-11-08T06:30:12.964395Z",
     "start_time": "2020-11-08T06:30:12.948397Z"
    }
   },
   "source": [
    "<b> Main Part Of RE  </b> \n",
    "<ul> \n",
    "<br>\n",
    "    <li> <b> Question is how much movie A similar to movie B in terms of rank ? </b> </li>\n",
    "<br>\n",
    "    <li> <b> find n &#10006; n matrix (n=movie)</b> </li>\n",
    "<br>\n",
    "    <li> <b> Below pseudo_rank function  will  calculate above n &#10006; n matrix </b> </li>\n",
    "    \n",
    "</ul>\n",
    "    "
   ]
  },
  {
   "cell_type": "code",
   "execution_count": 39,
   "metadata": {
    "ExecuteTime": {
     "end_time": "2020-11-17T12:13:49.162965Z",
     "start_time": "2020-11-17T12:13:49.022532Z"
    }
   },
   "outputs": [],
   "source": [
    "def pseudo_rank(data_movie):\n",
    "    matrix=[]\n",
    "    for i in range (data_movie.shape[0]) :\n",
    "        s=data_movie.loc[i,['merge_word']].values[0]\n",
    "        n1=data_movie.loc[i,['title']].values\n",
    "\n",
    "        l1=[]\n",
    "        for j in range(data_movie.shape[0]):\n",
    "\n",
    "            u= data_movie.loc[j,['merge_word']].values[0]\n",
    "            m=0\n",
    "            if(s[2]==u[2]):\n",
    "                n2=data_movie.loc[j,['title']].values\n",
    "                p1=float(data_movie.loc[j,['imdb_rating']])\n",
    "                p2=float(data_movie.loc[j,['rt_rating']])\n",
    "                m=1+((p1+p2)/100)\n",
    "                if(s[3]):\n",
    "                    m+=0.4\n",
    "\n",
    "            l1.append(round(m,2))\n",
    "        matrix.append(l1)\n",
    "    matrix=np.array(matrix)\n",
    "    n1=list(data_movie['title'])\n",
    "    df_final=pd.DataFrame(data=matrix,index=n1,columns=n1)\n",
    "    return df_final"
   ]
  },
  {
   "cell_type": "code",
   "execution_count": 40,
   "metadata": {
    "ExecuteTime": {
     "end_time": "2020-11-17T12:13:50.852958Z",
     "start_time": "2020-11-17T12:13:49.169962Z"
    }
   },
   "outputs": [],
   "source": [
    "final_data=pseudo_rank(data_ready)"
   ]
  },
  {
   "cell_type": "code",
   "execution_count": 41,
   "metadata": {
    "ExecuteTime": {
     "end_time": "2020-11-17T12:13:50.939691Z",
     "start_time": "2020-11-17T12:13:50.854958Z"
    }
   },
   "outputs": [
    {
     "data": {
      "text/html": [
       "<div>\n",
       "<style scoped>\n",
       "    .dataframe tbody tr th:only-of-type {\n",
       "        vertical-align: middle;\n",
       "    }\n",
       "\n",
       "    .dataframe tbody tr th {\n",
       "        vertical-align: top;\n",
       "    }\n",
       "\n",
       "    .dataframe thead th {\n",
       "        text-align: right;\n",
       "    }\n",
       "</style>\n",
       "<table border=\"1\" class=\"dataframe\">\n",
       "  <thead>\n",
       "    <tr style=\"text-align: right;\">\n",
       "      <th></th>\n",
       "      <th>Unbroken</th>\n",
       "      <th>Masaba Masaba</th>\n",
       "      <th>Class of '83</th>\n",
       "      <th>Lucifer</th>\n",
       "      <th>Gunjan Saxena: The Kargil Girl</th>\n",
       "      <th>Dark Desire</th>\n",
       "      <th>Raat Akeli Hai</th>\n",
       "      <th>The Umbrella Academy</th>\n",
       "      <th>The Kissing Booth 2</th>\n",
       "      <th>Indian Matchmaking</th>\n",
       "      <th>...</th>\n",
       "      <th>Space Force</th>\n",
       "      <th>Betaal</th>\n",
       "      <th>Money Heist</th>\n",
       "      <th>Love Aaj Kal</th>\n",
       "      <th>Never Have I Ever</th>\n",
       "      <th>Mrs. Serial Killer</th>\n",
       "      <th>Extraction</th>\n",
       "      <th>Too Hot to Handle</th>\n",
       "      <th>Love. Wedding. Repeat</th>\n",
       "      <th>Money Heist: The Phenomenon</th>\n",
       "    </tr>\n",
       "  </thead>\n",
       "  <tbody>\n",
       "    <tr>\n",
       "      <th>Unbroken</th>\n",
       "      <td>2.23</td>\n",
       "      <td>0.00</td>\n",
       "      <td>1.79</td>\n",
       "      <td>0.0</td>\n",
       "      <td>0.00</td>\n",
       "      <td>2.51</td>\n",
       "      <td>0.00</td>\n",
       "      <td>0.00</td>\n",
       "      <td>0.0</td>\n",
       "      <td>0.00</td>\n",
       "      <td>...</td>\n",
       "      <td>0.00</td>\n",
       "      <td>0.00</td>\n",
       "      <td>0.00</td>\n",
       "      <td>1.71</td>\n",
       "      <td>0.00</td>\n",
       "      <td>0.00</td>\n",
       "      <td>0.00</td>\n",
       "      <td>0.00</td>\n",
       "      <td>0.00</td>\n",
       "      <td>0.00</td>\n",
       "    </tr>\n",
       "    <tr>\n",
       "      <th>Masaba Masaba</th>\n",
       "      <td>0.00</td>\n",
       "      <td>2.76</td>\n",
       "      <td>0.00</td>\n",
       "      <td>0.0</td>\n",
       "      <td>0.00</td>\n",
       "      <td>0.00</td>\n",
       "      <td>0.00</td>\n",
       "      <td>0.00</td>\n",
       "      <td>0.0</td>\n",
       "      <td>0.00</td>\n",
       "      <td>...</td>\n",
       "      <td>2.51</td>\n",
       "      <td>0.00</td>\n",
       "      <td>0.00</td>\n",
       "      <td>0.00</td>\n",
       "      <td>3.16</td>\n",
       "      <td>0.00</td>\n",
       "      <td>0.00</td>\n",
       "      <td>0.00</td>\n",
       "      <td>2.29</td>\n",
       "      <td>0.00</td>\n",
       "    </tr>\n",
       "    <tr>\n",
       "      <th>Class of '83</th>\n",
       "      <td>2.23</td>\n",
       "      <td>0.00</td>\n",
       "      <td>1.79</td>\n",
       "      <td>0.0</td>\n",
       "      <td>0.00</td>\n",
       "      <td>2.51</td>\n",
       "      <td>0.00</td>\n",
       "      <td>0.00</td>\n",
       "      <td>0.0</td>\n",
       "      <td>0.00</td>\n",
       "      <td>...</td>\n",
       "      <td>0.00</td>\n",
       "      <td>0.00</td>\n",
       "      <td>0.00</td>\n",
       "      <td>1.71</td>\n",
       "      <td>0.00</td>\n",
       "      <td>0.00</td>\n",
       "      <td>0.00</td>\n",
       "      <td>0.00</td>\n",
       "      <td>0.00</td>\n",
       "      <td>0.00</td>\n",
       "    </tr>\n",
       "    <tr>\n",
       "      <th>Lucifer</th>\n",
       "      <td>0.00</td>\n",
       "      <td>0.00</td>\n",
       "      <td>0.00</td>\n",
       "      <td>3.1</td>\n",
       "      <td>0.00</td>\n",
       "      <td>0.00</td>\n",
       "      <td>0.00</td>\n",
       "      <td>3.05</td>\n",
       "      <td>0.0</td>\n",
       "      <td>0.00</td>\n",
       "      <td>...</td>\n",
       "      <td>0.00</td>\n",
       "      <td>0.00</td>\n",
       "      <td>0.00</td>\n",
       "      <td>0.00</td>\n",
       "      <td>0.00</td>\n",
       "      <td>0.00</td>\n",
       "      <td>0.00</td>\n",
       "      <td>0.00</td>\n",
       "      <td>0.00</td>\n",
       "      <td>0.00</td>\n",
       "    </tr>\n",
       "    <tr>\n",
       "      <th>Gunjan Saxena: The Kargil Girl</th>\n",
       "      <td>0.00</td>\n",
       "      <td>0.00</td>\n",
       "      <td>0.00</td>\n",
       "      <td>0.0</td>\n",
       "      <td>2.31</td>\n",
       "      <td>0.00</td>\n",
       "      <td>0.00</td>\n",
       "      <td>0.00</td>\n",
       "      <td>0.0</td>\n",
       "      <td>0.00</td>\n",
       "      <td>...</td>\n",
       "      <td>0.00</td>\n",
       "      <td>0.00</td>\n",
       "      <td>0.00</td>\n",
       "      <td>0.00</td>\n",
       "      <td>0.00</td>\n",
       "      <td>0.00</td>\n",
       "      <td>0.00</td>\n",
       "      <td>0.00</td>\n",
       "      <td>0.00</td>\n",
       "      <td>0.00</td>\n",
       "    </tr>\n",
       "    <tr>\n",
       "      <th>Dark Desire</th>\n",
       "      <td>2.63</td>\n",
       "      <td>0.00</td>\n",
       "      <td>2.19</td>\n",
       "      <td>0.0</td>\n",
       "      <td>0.00</td>\n",
       "      <td>2.91</td>\n",
       "      <td>0.00</td>\n",
       "      <td>0.00</td>\n",
       "      <td>0.0</td>\n",
       "      <td>0.00</td>\n",
       "      <td>...</td>\n",
       "      <td>0.00</td>\n",
       "      <td>0.00</td>\n",
       "      <td>0.00</td>\n",
       "      <td>2.11</td>\n",
       "      <td>0.00</td>\n",
       "      <td>0.00</td>\n",
       "      <td>0.00</td>\n",
       "      <td>0.00</td>\n",
       "      <td>0.00</td>\n",
       "      <td>0.00</td>\n",
       "    </tr>\n",
       "    <tr>\n",
       "      <th>Raat Akeli Hai</th>\n",
       "      <td>0.00</td>\n",
       "      <td>0.00</td>\n",
       "      <td>0.00</td>\n",
       "      <td>0.0</td>\n",
       "      <td>0.00</td>\n",
       "      <td>0.00</td>\n",
       "      <td>2.57</td>\n",
       "      <td>0.00</td>\n",
       "      <td>0.0</td>\n",
       "      <td>0.00</td>\n",
       "      <td>...</td>\n",
       "      <td>0.00</td>\n",
       "      <td>0.00</td>\n",
       "      <td>0.00</td>\n",
       "      <td>0.00</td>\n",
       "      <td>0.00</td>\n",
       "      <td>0.00</td>\n",
       "      <td>0.00</td>\n",
       "      <td>0.00</td>\n",
       "      <td>0.00</td>\n",
       "      <td>0.00</td>\n",
       "    </tr>\n",
       "    <tr>\n",
       "      <th>The Umbrella Academy</th>\n",
       "      <td>0.00</td>\n",
       "      <td>0.00</td>\n",
       "      <td>0.00</td>\n",
       "      <td>3.1</td>\n",
       "      <td>0.00</td>\n",
       "      <td>0.00</td>\n",
       "      <td>0.00</td>\n",
       "      <td>3.05</td>\n",
       "      <td>0.0</td>\n",
       "      <td>0.00</td>\n",
       "      <td>...</td>\n",
       "      <td>0.00</td>\n",
       "      <td>0.00</td>\n",
       "      <td>0.00</td>\n",
       "      <td>0.00</td>\n",
       "      <td>0.00</td>\n",
       "      <td>0.00</td>\n",
       "      <td>0.00</td>\n",
       "      <td>0.00</td>\n",
       "      <td>0.00</td>\n",
       "      <td>0.00</td>\n",
       "    </tr>\n",
       "    <tr>\n",
       "      <th>The Kissing Booth 2</th>\n",
       "      <td>0.00</td>\n",
       "      <td>0.00</td>\n",
       "      <td>0.00</td>\n",
       "      <td>0.0</td>\n",
       "      <td>0.00</td>\n",
       "      <td>0.00</td>\n",
       "      <td>0.00</td>\n",
       "      <td>0.00</td>\n",
       "      <td>2.3</td>\n",
       "      <td>0.00</td>\n",
       "      <td>...</td>\n",
       "      <td>0.00</td>\n",
       "      <td>0.00</td>\n",
       "      <td>0.00</td>\n",
       "      <td>0.00</td>\n",
       "      <td>0.00</td>\n",
       "      <td>0.00</td>\n",
       "      <td>0.00</td>\n",
       "      <td>0.00</td>\n",
       "      <td>0.00</td>\n",
       "      <td>0.00</td>\n",
       "    </tr>\n",
       "    <tr>\n",
       "      <th>Indian Matchmaking</th>\n",
       "      <td>0.00</td>\n",
       "      <td>0.00</td>\n",
       "      <td>0.00</td>\n",
       "      <td>0.0</td>\n",
       "      <td>0.00</td>\n",
       "      <td>0.00</td>\n",
       "      <td>0.00</td>\n",
       "      <td>0.00</td>\n",
       "      <td>0.0</td>\n",
       "      <td>2.38</td>\n",
       "      <td>...</td>\n",
       "      <td>0.00</td>\n",
       "      <td>0.00</td>\n",
       "      <td>0.00</td>\n",
       "      <td>0.00</td>\n",
       "      <td>0.00</td>\n",
       "      <td>0.00</td>\n",
       "      <td>0.00</td>\n",
       "      <td>1.79</td>\n",
       "      <td>0.00</td>\n",
       "      <td>0.00</td>\n",
       "    </tr>\n",
       "    <tr>\n",
       "      <th>MILF</th>\n",
       "      <td>0.00</td>\n",
       "      <td>2.36</td>\n",
       "      <td>0.00</td>\n",
       "      <td>0.0</td>\n",
       "      <td>0.00</td>\n",
       "      <td>0.00</td>\n",
       "      <td>0.00</td>\n",
       "      <td>0.00</td>\n",
       "      <td>0.0</td>\n",
       "      <td>0.00</td>\n",
       "      <td>...</td>\n",
       "      <td>2.11</td>\n",
       "      <td>0.00</td>\n",
       "      <td>0.00</td>\n",
       "      <td>0.00</td>\n",
       "      <td>2.76</td>\n",
       "      <td>0.00</td>\n",
       "      <td>0.00</td>\n",
       "      <td>0.00</td>\n",
       "      <td>1.89</td>\n",
       "      <td>0.00</td>\n",
       "    </tr>\n",
       "    <tr>\n",
       "      <th>The Old Guard</th>\n",
       "      <td>0.00</td>\n",
       "      <td>0.00</td>\n",
       "      <td>0.00</td>\n",
       "      <td>3.1</td>\n",
       "      <td>0.00</td>\n",
       "      <td>0.00</td>\n",
       "      <td>0.00</td>\n",
       "      <td>3.05</td>\n",
       "      <td>0.0</td>\n",
       "      <td>0.00</td>\n",
       "      <td>...</td>\n",
       "      <td>0.00</td>\n",
       "      <td>0.00</td>\n",
       "      <td>0.00</td>\n",
       "      <td>0.00</td>\n",
       "      <td>0.00</td>\n",
       "      <td>0.00</td>\n",
       "      <td>0.00</td>\n",
       "      <td>0.00</td>\n",
       "      <td>0.00</td>\n",
       "      <td>0.00</td>\n",
       "    </tr>\n",
       "    <tr>\n",
       "      <th>Dark</th>\n",
       "      <td>0.00</td>\n",
       "      <td>0.00</td>\n",
       "      <td>0.00</td>\n",
       "      <td>0.0</td>\n",
       "      <td>0.00</td>\n",
       "      <td>0.00</td>\n",
       "      <td>0.00</td>\n",
       "      <td>0.00</td>\n",
       "      <td>0.0</td>\n",
       "      <td>0.00</td>\n",
       "      <td>...</td>\n",
       "      <td>0.00</td>\n",
       "      <td>0.00</td>\n",
       "      <td>0.00</td>\n",
       "      <td>0.00</td>\n",
       "      <td>0.00</td>\n",
       "      <td>0.00</td>\n",
       "      <td>0.00</td>\n",
       "      <td>0.00</td>\n",
       "      <td>0.00</td>\n",
       "      <td>0.00</td>\n",
       "    </tr>\n",
       "    <tr>\n",
       "      <th>Bulbbul</th>\n",
       "      <td>0.00</td>\n",
       "      <td>0.00</td>\n",
       "      <td>0.00</td>\n",
       "      <td>0.0</td>\n",
       "      <td>0.00</td>\n",
       "      <td>0.00</td>\n",
       "      <td>0.00</td>\n",
       "      <td>0.00</td>\n",
       "      <td>0.0</td>\n",
       "      <td>0.00</td>\n",
       "      <td>...</td>\n",
       "      <td>0.00</td>\n",
       "      <td>2.46</td>\n",
       "      <td>0.00</td>\n",
       "      <td>0.00</td>\n",
       "      <td>0.00</td>\n",
       "      <td>0.00</td>\n",
       "      <td>0.00</td>\n",
       "      <td>0.00</td>\n",
       "      <td>0.00</td>\n",
       "      <td>0.00</td>\n",
       "    </tr>\n",
       "    <tr>\n",
       "      <th>365 Days</th>\n",
       "      <td>0.00</td>\n",
       "      <td>0.00</td>\n",
       "      <td>0.00</td>\n",
       "      <td>0.0</td>\n",
       "      <td>0.00</td>\n",
       "      <td>0.00</td>\n",
       "      <td>0.00</td>\n",
       "      <td>0.00</td>\n",
       "      <td>1.9</td>\n",
       "      <td>0.00</td>\n",
       "      <td>...</td>\n",
       "      <td>0.00</td>\n",
       "      <td>0.00</td>\n",
       "      <td>0.00</td>\n",
       "      <td>0.00</td>\n",
       "      <td>0.00</td>\n",
       "      <td>0.00</td>\n",
       "      <td>0.00</td>\n",
       "      <td>0.00</td>\n",
       "      <td>0.00</td>\n",
       "      <td>0.00</td>\n",
       "    </tr>\n",
       "    <tr>\n",
       "      <th>13 Reasons Why</th>\n",
       "      <td>2.63</td>\n",
       "      <td>0.00</td>\n",
       "      <td>2.19</td>\n",
       "      <td>0.0</td>\n",
       "      <td>0.00</td>\n",
       "      <td>2.91</td>\n",
       "      <td>0.00</td>\n",
       "      <td>0.00</td>\n",
       "      <td>0.0</td>\n",
       "      <td>0.00</td>\n",
       "      <td>...</td>\n",
       "      <td>0.00</td>\n",
       "      <td>0.00</td>\n",
       "      <td>0.00</td>\n",
       "      <td>2.11</td>\n",
       "      <td>0.00</td>\n",
       "      <td>0.00</td>\n",
       "      <td>0.00</td>\n",
       "      <td>0.00</td>\n",
       "      <td>0.00</td>\n",
       "      <td>0.00</td>\n",
       "    </tr>\n",
       "    <tr>\n",
       "      <th>Malang</th>\n",
       "      <td>0.00</td>\n",
       "      <td>0.00</td>\n",
       "      <td>0.00</td>\n",
       "      <td>0.0</td>\n",
       "      <td>0.00</td>\n",
       "      <td>0.00</td>\n",
       "      <td>0.00</td>\n",
       "      <td>0.00</td>\n",
       "      <td>0.0</td>\n",
       "      <td>0.00</td>\n",
       "      <td>...</td>\n",
       "      <td>0.00</td>\n",
       "      <td>0.00</td>\n",
       "      <td>2.77</td>\n",
       "      <td>0.00</td>\n",
       "      <td>0.00</td>\n",
       "      <td>0.00</td>\n",
       "      <td>2.38</td>\n",
       "      <td>0.00</td>\n",
       "      <td>0.00</td>\n",
       "      <td>0.00</td>\n",
       "    </tr>\n",
       "    <tr>\n",
       "      <th>Space Force</th>\n",
       "      <td>0.00</td>\n",
       "      <td>2.76</td>\n",
       "      <td>0.00</td>\n",
       "      <td>0.0</td>\n",
       "      <td>0.00</td>\n",
       "      <td>0.00</td>\n",
       "      <td>0.00</td>\n",
       "      <td>0.00</td>\n",
       "      <td>0.0</td>\n",
       "      <td>0.00</td>\n",
       "      <td>...</td>\n",
       "      <td>2.51</td>\n",
       "      <td>0.00</td>\n",
       "      <td>0.00</td>\n",
       "      <td>0.00</td>\n",
       "      <td>3.16</td>\n",
       "      <td>0.00</td>\n",
       "      <td>0.00</td>\n",
       "      <td>0.00</td>\n",
       "      <td>2.29</td>\n",
       "      <td>0.00</td>\n",
       "    </tr>\n",
       "    <tr>\n",
       "      <th>Betaal</th>\n",
       "      <td>0.00</td>\n",
       "      <td>0.00</td>\n",
       "      <td>0.00</td>\n",
       "      <td>0.0</td>\n",
       "      <td>0.00</td>\n",
       "      <td>0.00</td>\n",
       "      <td>0.00</td>\n",
       "      <td>0.00</td>\n",
       "      <td>0.0</td>\n",
       "      <td>0.00</td>\n",
       "      <td>...</td>\n",
       "      <td>0.00</td>\n",
       "      <td>2.86</td>\n",
       "      <td>0.00</td>\n",
       "      <td>0.00</td>\n",
       "      <td>0.00</td>\n",
       "      <td>0.00</td>\n",
       "      <td>0.00</td>\n",
       "      <td>0.00</td>\n",
       "      <td>0.00</td>\n",
       "      <td>0.00</td>\n",
       "    </tr>\n",
       "    <tr>\n",
       "      <th>Money Heist</th>\n",
       "      <td>0.00</td>\n",
       "      <td>0.00</td>\n",
       "      <td>0.00</td>\n",
       "      <td>0.0</td>\n",
       "      <td>0.00</td>\n",
       "      <td>0.00</td>\n",
       "      <td>0.00</td>\n",
       "      <td>0.00</td>\n",
       "      <td>0.0</td>\n",
       "      <td>0.00</td>\n",
       "      <td>...</td>\n",
       "      <td>0.00</td>\n",
       "      <td>0.00</td>\n",
       "      <td>3.17</td>\n",
       "      <td>0.00</td>\n",
       "      <td>0.00</td>\n",
       "      <td>0.00</td>\n",
       "      <td>2.78</td>\n",
       "      <td>0.00</td>\n",
       "      <td>0.00</td>\n",
       "      <td>0.00</td>\n",
       "    </tr>\n",
       "    <tr>\n",
       "      <th>Love Aaj Kal</th>\n",
       "      <td>2.23</td>\n",
       "      <td>0.00</td>\n",
       "      <td>1.79</td>\n",
       "      <td>0.0</td>\n",
       "      <td>0.00</td>\n",
       "      <td>2.51</td>\n",
       "      <td>0.00</td>\n",
       "      <td>0.00</td>\n",
       "      <td>0.0</td>\n",
       "      <td>0.00</td>\n",
       "      <td>...</td>\n",
       "      <td>0.00</td>\n",
       "      <td>0.00</td>\n",
       "      <td>0.00</td>\n",
       "      <td>1.71</td>\n",
       "      <td>0.00</td>\n",
       "      <td>0.00</td>\n",
       "      <td>0.00</td>\n",
       "      <td>0.00</td>\n",
       "      <td>0.00</td>\n",
       "      <td>0.00</td>\n",
       "    </tr>\n",
       "    <tr>\n",
       "      <th>Never Have I Ever</th>\n",
       "      <td>0.00</td>\n",
       "      <td>2.76</td>\n",
       "      <td>0.00</td>\n",
       "      <td>0.0</td>\n",
       "      <td>0.00</td>\n",
       "      <td>0.00</td>\n",
       "      <td>0.00</td>\n",
       "      <td>0.00</td>\n",
       "      <td>0.0</td>\n",
       "      <td>0.00</td>\n",
       "      <td>...</td>\n",
       "      <td>2.51</td>\n",
       "      <td>0.00</td>\n",
       "      <td>0.00</td>\n",
       "      <td>0.00</td>\n",
       "      <td>3.16</td>\n",
       "      <td>0.00</td>\n",
       "      <td>0.00</td>\n",
       "      <td>0.00</td>\n",
       "      <td>2.29</td>\n",
       "      <td>0.00</td>\n",
       "    </tr>\n",
       "    <tr>\n",
       "      <th>Mrs. Serial Killer</th>\n",
       "      <td>0.00</td>\n",
       "      <td>0.00</td>\n",
       "      <td>0.00</td>\n",
       "      <td>0.0</td>\n",
       "      <td>0.00</td>\n",
       "      <td>0.00</td>\n",
       "      <td>0.00</td>\n",
       "      <td>0.00</td>\n",
       "      <td>0.0</td>\n",
       "      <td>0.00</td>\n",
       "      <td>...</td>\n",
       "      <td>0.00</td>\n",
       "      <td>0.00</td>\n",
       "      <td>0.00</td>\n",
       "      <td>0.00</td>\n",
       "      <td>0.00</td>\n",
       "      <td>2.08</td>\n",
       "      <td>0.00</td>\n",
       "      <td>0.00</td>\n",
       "      <td>0.00</td>\n",
       "      <td>0.00</td>\n",
       "    </tr>\n",
       "    <tr>\n",
       "      <th>Extraction</th>\n",
       "      <td>0.00</td>\n",
       "      <td>0.00</td>\n",
       "      <td>0.00</td>\n",
       "      <td>0.0</td>\n",
       "      <td>0.00</td>\n",
       "      <td>0.00</td>\n",
       "      <td>0.00</td>\n",
       "      <td>0.00</td>\n",
       "      <td>0.0</td>\n",
       "      <td>0.00</td>\n",
       "      <td>...</td>\n",
       "      <td>0.00</td>\n",
       "      <td>0.00</td>\n",
       "      <td>3.17</td>\n",
       "      <td>0.00</td>\n",
       "      <td>0.00</td>\n",
       "      <td>0.00</td>\n",
       "      <td>2.78</td>\n",
       "      <td>0.00</td>\n",
       "      <td>0.00</td>\n",
       "      <td>0.00</td>\n",
       "    </tr>\n",
       "    <tr>\n",
       "      <th>Too Hot to Handle</th>\n",
       "      <td>0.00</td>\n",
       "      <td>0.00</td>\n",
       "      <td>0.00</td>\n",
       "      <td>0.0</td>\n",
       "      <td>0.00</td>\n",
       "      <td>0.00</td>\n",
       "      <td>0.00</td>\n",
       "      <td>0.00</td>\n",
       "      <td>0.0</td>\n",
       "      <td>2.78</td>\n",
       "      <td>...</td>\n",
       "      <td>0.00</td>\n",
       "      <td>0.00</td>\n",
       "      <td>0.00</td>\n",
       "      <td>0.00</td>\n",
       "      <td>0.00</td>\n",
       "      <td>0.00</td>\n",
       "      <td>0.00</td>\n",
       "      <td>2.19</td>\n",
       "      <td>0.00</td>\n",
       "      <td>0.00</td>\n",
       "    </tr>\n",
       "    <tr>\n",
       "      <th>Love. Wedding. Repeat</th>\n",
       "      <td>0.00</td>\n",
       "      <td>2.76</td>\n",
       "      <td>0.00</td>\n",
       "      <td>0.0</td>\n",
       "      <td>0.00</td>\n",
       "      <td>0.00</td>\n",
       "      <td>0.00</td>\n",
       "      <td>0.00</td>\n",
       "      <td>0.0</td>\n",
       "      <td>0.00</td>\n",
       "      <td>...</td>\n",
       "      <td>2.51</td>\n",
       "      <td>0.00</td>\n",
       "      <td>0.00</td>\n",
       "      <td>0.00</td>\n",
       "      <td>3.16</td>\n",
       "      <td>0.00</td>\n",
       "      <td>0.00</td>\n",
       "      <td>0.00</td>\n",
       "      <td>2.29</td>\n",
       "      <td>0.00</td>\n",
       "    </tr>\n",
       "    <tr>\n",
       "      <th>Money Heist: The Phenomenon</th>\n",
       "      <td>0.00</td>\n",
       "      <td>0.00</td>\n",
       "      <td>0.00</td>\n",
       "      <td>0.0</td>\n",
       "      <td>0.00</td>\n",
       "      <td>0.00</td>\n",
       "      <td>0.00</td>\n",
       "      <td>0.00</td>\n",
       "      <td>0.0</td>\n",
       "      <td>0.00</td>\n",
       "      <td>...</td>\n",
       "      <td>0.00</td>\n",
       "      <td>0.00</td>\n",
       "      <td>0.00</td>\n",
       "      <td>0.00</td>\n",
       "      <td>0.00</td>\n",
       "      <td>0.00</td>\n",
       "      <td>0.00</td>\n",
       "      <td>0.00</td>\n",
       "      <td>0.00</td>\n",
       "      <td>2.97</td>\n",
       "    </tr>\n",
       "  </tbody>\n",
       "</table>\n",
       "<p>27 rows × 27 columns</p>\n",
       "</div>"
      ],
      "text/plain": [
       "                                Unbroken  Masaba Masaba  Class of '83  \\\n",
       "Unbroken                            2.23           0.00          1.79   \n",
       "Masaba Masaba                       0.00           2.76          0.00   \n",
       "Class of '83                        2.23           0.00          1.79   \n",
       "Lucifer                             0.00           0.00          0.00   \n",
       "Gunjan Saxena: The Kargil Girl      0.00           0.00          0.00   \n",
       "Dark Desire                         2.63           0.00          2.19   \n",
       "Raat Akeli Hai                      0.00           0.00          0.00   \n",
       "The Umbrella Academy                0.00           0.00          0.00   \n",
       "The Kissing Booth 2                 0.00           0.00          0.00   \n",
       "Indian Matchmaking                  0.00           0.00          0.00   \n",
       "MILF                                0.00           2.36          0.00   \n",
       "The Old Guard                       0.00           0.00          0.00   \n",
       "Dark                                0.00           0.00          0.00   \n",
       "Bulbbul                             0.00           0.00          0.00   \n",
       "365 Days                            0.00           0.00          0.00   \n",
       "13 Reasons Why                      2.63           0.00          2.19   \n",
       "Malang                              0.00           0.00          0.00   \n",
       "Space Force                         0.00           2.76          0.00   \n",
       "Betaal                              0.00           0.00          0.00   \n",
       "Money Heist                         0.00           0.00          0.00   \n",
       "Love Aaj Kal                        2.23           0.00          1.79   \n",
       "Never Have I Ever                   0.00           2.76          0.00   \n",
       "Mrs. Serial Killer                  0.00           0.00          0.00   \n",
       "Extraction                          0.00           0.00          0.00   \n",
       "Too Hot to Handle                   0.00           0.00          0.00   \n",
       "Love. Wedding. Repeat               0.00           2.76          0.00   \n",
       "Money Heist: The Phenomenon         0.00           0.00          0.00   \n",
       "\n",
       "                                Lucifer  Gunjan Saxena: The Kargil Girl  \\\n",
       "Unbroken                            0.0                            0.00   \n",
       "Masaba Masaba                       0.0                            0.00   \n",
       "Class of '83                        0.0                            0.00   \n",
       "Lucifer                             3.1                            0.00   \n",
       "Gunjan Saxena: The Kargil Girl      0.0                            2.31   \n",
       "Dark Desire                         0.0                            0.00   \n",
       "Raat Akeli Hai                      0.0                            0.00   \n",
       "The Umbrella Academy                3.1                            0.00   \n",
       "The Kissing Booth 2                 0.0                            0.00   \n",
       "Indian Matchmaking                  0.0                            0.00   \n",
       "MILF                                0.0                            0.00   \n",
       "The Old Guard                       3.1                            0.00   \n",
       "Dark                                0.0                            0.00   \n",
       "Bulbbul                             0.0                            0.00   \n",
       "365 Days                            0.0                            0.00   \n",
       "13 Reasons Why                      0.0                            0.00   \n",
       "Malang                              0.0                            0.00   \n",
       "Space Force                         0.0                            0.00   \n",
       "Betaal                              0.0                            0.00   \n",
       "Money Heist                         0.0                            0.00   \n",
       "Love Aaj Kal                        0.0                            0.00   \n",
       "Never Have I Ever                   0.0                            0.00   \n",
       "Mrs. Serial Killer                  0.0                            0.00   \n",
       "Extraction                          0.0                            0.00   \n",
       "Too Hot to Handle                   0.0                            0.00   \n",
       "Love. Wedding. Repeat               0.0                            0.00   \n",
       "Money Heist: The Phenomenon         0.0                            0.00   \n",
       "\n",
       "                                Dark Desire  Raat Akeli Hai  \\\n",
       "Unbroken                               2.51            0.00   \n",
       "Masaba Masaba                          0.00            0.00   \n",
       "Class of '83                           2.51            0.00   \n",
       "Lucifer                                0.00            0.00   \n",
       "Gunjan Saxena: The Kargil Girl         0.00            0.00   \n",
       "Dark Desire                            2.91            0.00   \n",
       "Raat Akeli Hai                         0.00            2.57   \n",
       "The Umbrella Academy                   0.00            0.00   \n",
       "The Kissing Booth 2                    0.00            0.00   \n",
       "Indian Matchmaking                     0.00            0.00   \n",
       "MILF                                   0.00            0.00   \n",
       "The Old Guard                          0.00            0.00   \n",
       "Dark                                   0.00            0.00   \n",
       "Bulbbul                                0.00            0.00   \n",
       "365 Days                               0.00            0.00   \n",
       "13 Reasons Why                         2.91            0.00   \n",
       "Malang                                 0.00            0.00   \n",
       "Space Force                            0.00            0.00   \n",
       "Betaal                                 0.00            0.00   \n",
       "Money Heist                            0.00            0.00   \n",
       "Love Aaj Kal                           2.51            0.00   \n",
       "Never Have I Ever                      0.00            0.00   \n",
       "Mrs. Serial Killer                     0.00            0.00   \n",
       "Extraction                             0.00            0.00   \n",
       "Too Hot to Handle                      0.00            0.00   \n",
       "Love. Wedding. Repeat                  0.00            0.00   \n",
       "Money Heist: The Phenomenon            0.00            0.00   \n",
       "\n",
       "                                The Umbrella Academy  The Kissing Booth 2  \\\n",
       "Unbroken                                        0.00                  0.0   \n",
       "Masaba Masaba                                   0.00                  0.0   \n",
       "Class of '83                                    0.00                  0.0   \n",
       "Lucifer                                         3.05                  0.0   \n",
       "Gunjan Saxena: The Kargil Girl                  0.00                  0.0   \n",
       "Dark Desire                                     0.00                  0.0   \n",
       "Raat Akeli Hai                                  0.00                  0.0   \n",
       "The Umbrella Academy                            3.05                  0.0   \n",
       "The Kissing Booth 2                             0.00                  2.3   \n",
       "Indian Matchmaking                              0.00                  0.0   \n",
       "MILF                                            0.00                  0.0   \n",
       "The Old Guard                                   3.05                  0.0   \n",
       "Dark                                            0.00                  0.0   \n",
       "Bulbbul                                         0.00                  0.0   \n",
       "365 Days                                        0.00                  1.9   \n",
       "13 Reasons Why                                  0.00                  0.0   \n",
       "Malang                                          0.00                  0.0   \n",
       "Space Force                                     0.00                  0.0   \n",
       "Betaal                                          0.00                  0.0   \n",
       "Money Heist                                     0.00                  0.0   \n",
       "Love Aaj Kal                                    0.00                  0.0   \n",
       "Never Have I Ever                               0.00                  0.0   \n",
       "Mrs. Serial Killer                              0.00                  0.0   \n",
       "Extraction                                      0.00                  0.0   \n",
       "Too Hot to Handle                               0.00                  0.0   \n",
       "Love. Wedding. Repeat                           0.00                  0.0   \n",
       "Money Heist: The Phenomenon                     0.00                  0.0   \n",
       "\n",
       "                                Indian Matchmaking  ...  Space Force  Betaal  \\\n",
       "Unbroken                                      0.00  ...         0.00    0.00   \n",
       "Masaba Masaba                                 0.00  ...         2.51    0.00   \n",
       "Class of '83                                  0.00  ...         0.00    0.00   \n",
       "Lucifer                                       0.00  ...         0.00    0.00   \n",
       "Gunjan Saxena: The Kargil Girl                0.00  ...         0.00    0.00   \n",
       "Dark Desire                                   0.00  ...         0.00    0.00   \n",
       "Raat Akeli Hai                                0.00  ...         0.00    0.00   \n",
       "The Umbrella Academy                          0.00  ...         0.00    0.00   \n",
       "The Kissing Booth 2                           0.00  ...         0.00    0.00   \n",
       "Indian Matchmaking                            2.38  ...         0.00    0.00   \n",
       "MILF                                          0.00  ...         2.11    0.00   \n",
       "The Old Guard                                 0.00  ...         0.00    0.00   \n",
       "Dark                                          0.00  ...         0.00    0.00   \n",
       "Bulbbul                                       0.00  ...         0.00    2.46   \n",
       "365 Days                                      0.00  ...         0.00    0.00   \n",
       "13 Reasons Why                                0.00  ...         0.00    0.00   \n",
       "Malang                                        0.00  ...         0.00    0.00   \n",
       "Space Force                                   0.00  ...         2.51    0.00   \n",
       "Betaal                                        0.00  ...         0.00    2.86   \n",
       "Money Heist                                   0.00  ...         0.00    0.00   \n",
       "Love Aaj Kal                                  0.00  ...         0.00    0.00   \n",
       "Never Have I Ever                             0.00  ...         2.51    0.00   \n",
       "Mrs. Serial Killer                            0.00  ...         0.00    0.00   \n",
       "Extraction                                    0.00  ...         0.00    0.00   \n",
       "Too Hot to Handle                             2.78  ...         0.00    0.00   \n",
       "Love. Wedding. Repeat                         0.00  ...         2.51    0.00   \n",
       "Money Heist: The Phenomenon                   0.00  ...         0.00    0.00   \n",
       "\n",
       "                                Money Heist  Love Aaj Kal  Never Have I Ever  \\\n",
       "Unbroken                               0.00          1.71               0.00   \n",
       "Masaba Masaba                          0.00          0.00               3.16   \n",
       "Class of '83                           0.00          1.71               0.00   \n",
       "Lucifer                                0.00          0.00               0.00   \n",
       "Gunjan Saxena: The Kargil Girl         0.00          0.00               0.00   \n",
       "Dark Desire                            0.00          2.11               0.00   \n",
       "Raat Akeli Hai                         0.00          0.00               0.00   \n",
       "The Umbrella Academy                   0.00          0.00               0.00   \n",
       "The Kissing Booth 2                    0.00          0.00               0.00   \n",
       "Indian Matchmaking                     0.00          0.00               0.00   \n",
       "MILF                                   0.00          0.00               2.76   \n",
       "The Old Guard                          0.00          0.00               0.00   \n",
       "Dark                                   0.00          0.00               0.00   \n",
       "Bulbbul                                0.00          0.00               0.00   \n",
       "365 Days                               0.00          0.00               0.00   \n",
       "13 Reasons Why                         0.00          2.11               0.00   \n",
       "Malang                                 2.77          0.00               0.00   \n",
       "Space Force                            0.00          0.00               3.16   \n",
       "Betaal                                 0.00          0.00               0.00   \n",
       "Money Heist                            3.17          0.00               0.00   \n",
       "Love Aaj Kal                           0.00          1.71               0.00   \n",
       "Never Have I Ever                      0.00          0.00               3.16   \n",
       "Mrs. Serial Killer                     0.00          0.00               0.00   \n",
       "Extraction                             3.17          0.00               0.00   \n",
       "Too Hot to Handle                      0.00          0.00               0.00   \n",
       "Love. Wedding. Repeat                  0.00          0.00               3.16   \n",
       "Money Heist: The Phenomenon            0.00          0.00               0.00   \n",
       "\n",
       "                                Mrs. Serial Killer  Extraction  \\\n",
       "Unbroken                                      0.00        0.00   \n",
       "Masaba Masaba                                 0.00        0.00   \n",
       "Class of '83                                  0.00        0.00   \n",
       "Lucifer                                       0.00        0.00   \n",
       "Gunjan Saxena: The Kargil Girl                0.00        0.00   \n",
       "Dark Desire                                   0.00        0.00   \n",
       "Raat Akeli Hai                                0.00        0.00   \n",
       "The Umbrella Academy                          0.00        0.00   \n",
       "The Kissing Booth 2                           0.00        0.00   \n",
       "Indian Matchmaking                            0.00        0.00   \n",
       "MILF                                          0.00        0.00   \n",
       "The Old Guard                                 0.00        0.00   \n",
       "Dark                                          0.00        0.00   \n",
       "Bulbbul                                       0.00        0.00   \n",
       "365 Days                                      0.00        0.00   \n",
       "13 Reasons Why                                0.00        0.00   \n",
       "Malang                                        0.00        2.38   \n",
       "Space Force                                   0.00        0.00   \n",
       "Betaal                                        0.00        0.00   \n",
       "Money Heist                                   0.00        2.78   \n",
       "Love Aaj Kal                                  0.00        0.00   \n",
       "Never Have I Ever                             0.00        0.00   \n",
       "Mrs. Serial Killer                            2.08        0.00   \n",
       "Extraction                                    0.00        2.78   \n",
       "Too Hot to Handle                             0.00        0.00   \n",
       "Love. Wedding. Repeat                         0.00        0.00   \n",
       "Money Heist: The Phenomenon                   0.00        0.00   \n",
       "\n",
       "                                Too Hot to Handle  Love. Wedding. Repeat  \\\n",
       "Unbroken                                     0.00                   0.00   \n",
       "Masaba Masaba                                0.00                   2.29   \n",
       "Class of '83                                 0.00                   0.00   \n",
       "Lucifer                                      0.00                   0.00   \n",
       "Gunjan Saxena: The Kargil Girl               0.00                   0.00   \n",
       "Dark Desire                                  0.00                   0.00   \n",
       "Raat Akeli Hai                               0.00                   0.00   \n",
       "The Umbrella Academy                         0.00                   0.00   \n",
       "The Kissing Booth 2                          0.00                   0.00   \n",
       "Indian Matchmaking                           1.79                   0.00   \n",
       "MILF                                         0.00                   1.89   \n",
       "The Old Guard                                0.00                   0.00   \n",
       "Dark                                         0.00                   0.00   \n",
       "Bulbbul                                      0.00                   0.00   \n",
       "365 Days                                     0.00                   0.00   \n",
       "13 Reasons Why                               0.00                   0.00   \n",
       "Malang                                       0.00                   0.00   \n",
       "Space Force                                  0.00                   2.29   \n",
       "Betaal                                       0.00                   0.00   \n",
       "Money Heist                                  0.00                   0.00   \n",
       "Love Aaj Kal                                 0.00                   0.00   \n",
       "Never Have I Ever                            0.00                   2.29   \n",
       "Mrs. Serial Killer                           0.00                   0.00   \n",
       "Extraction                                   0.00                   0.00   \n",
       "Too Hot to Handle                            2.19                   0.00   \n",
       "Love. Wedding. Repeat                        0.00                   2.29   \n",
       "Money Heist: The Phenomenon                  0.00                   0.00   \n",
       "\n",
       "                                Money Heist: The Phenomenon  \n",
       "Unbroken                                               0.00  \n",
       "Masaba Masaba                                          0.00  \n",
       "Class of '83                                           0.00  \n",
       "Lucifer                                                0.00  \n",
       "Gunjan Saxena: The Kargil Girl                         0.00  \n",
       "Dark Desire                                            0.00  \n",
       "Raat Akeli Hai                                         0.00  \n",
       "The Umbrella Academy                                   0.00  \n",
       "The Kissing Booth 2                                    0.00  \n",
       "Indian Matchmaking                                     0.00  \n",
       "MILF                                                   0.00  \n",
       "The Old Guard                                          0.00  \n",
       "Dark                                                   0.00  \n",
       "Bulbbul                                                0.00  \n",
       "365 Days                                               0.00  \n",
       "13 Reasons Why                                         0.00  \n",
       "Malang                                                 0.00  \n",
       "Space Force                                            0.00  \n",
       "Betaal                                                 0.00  \n",
       "Money Heist                                            0.00  \n",
       "Love Aaj Kal                                           0.00  \n",
       "Never Have I Ever                                      0.00  \n",
       "Mrs. Serial Killer                                     0.00  \n",
       "Extraction                                             0.00  \n",
       "Too Hot to Handle                                      0.00  \n",
       "Love. Wedding. Repeat                                  0.00  \n",
       "Money Heist: The Phenomenon                            2.97  \n",
       "\n",
       "[27 rows x 27 columns]"
      ]
     },
     "execution_count": 41,
     "metadata": {},
     "output_type": "execute_result"
    }
   ],
   "source": [
    "final_data"
   ]
  },
  {
   "cell_type": "code",
   "execution_count": 42,
   "metadata": {
    "ExecuteTime": {
     "end_time": "2020-11-17T12:13:51.109657Z",
     "start_time": "2020-11-17T12:13:50.942687Z"
    }
   },
   "outputs": [
    {
     "name": "stdout",
     "output_type": "stream",
     "text": [
      "\u001b[1mBelow list is total movie and Tv show (list is small because we have not large data)\u001b[0m\n",
      "\n",
      "Index(['Unbroken', 'Masaba Masaba', 'Class of '83', 'Lucifer',\n",
      "       'Gunjan Saxena: The Kargil Girl', 'Dark Desire', 'Raat Akeli Hai',\n",
      "       'The Umbrella Academy', 'The Kissing Booth 2', 'Indian Matchmaking',\n",
      "       'MILF', 'The Old Guard', 'Dark', 'Bulbbul', '365 Days',\n",
      "       '13 Reasons Why', 'Malang', 'Space Force', 'Betaal', 'Money Heist',\n",
      "       'Love Aaj Kal', 'Never Have I Ever', 'Mrs. Serial Killer', 'Extraction',\n",
      "       'Too Hot to Handle', 'Love. Wedding. Repeat',\n",
      "       'Money Heist: The Phenomenon'],\n",
      "      dtype='object')\n"
     ]
    }
   ],
   "source": [
    "from termcolor import colored\n",
    "print(colored('Below list is total movie and Tv show (list is small because we have not large data)', attrs=['bold']))\n",
    "print()\n",
    "print(final_data.index)"
   ]
  },
  {
   "cell_type": "markdown",
   "metadata": {
    "ExecuteTime": {
     "end_time": "2020-11-08T13:35:36.097884Z",
     "start_time": "2020-11-08T13:35:36.073739Z"
    }
   },
   "source": [
    "<h2> <b> This fuction help to find out similar movie </b> </h2>"
   ]
  },
  {
   "cell_type": "code",
   "execution_count": 43,
   "metadata": {
    "ExecuteTime": {
     "end_time": "2020-11-17T12:13:51.192611Z",
     "start_time": "2020-11-17T12:13:51.116656Z"
    }
   },
   "outputs": [],
   "source": [
    "def movie_re(similar_movie_list,data_ready):\n",
    "    print(\"Note: please do not make any spelling mistake to enter movie name or Tv show name  just copy and paste from above list \\n \")\n",
    "    x=input(\"Enter movie or TV show From above list := \")\n",
    "    \n",
    "    df=final_data.loc[x,:].to_frame()\n",
    "    df=df.sort_values(by=x,ascending=False,axis=0)\n",
    "    df=df.loc[df[x]>0.3]\n",
    "    df['title'] = df.index\n",
    "    df.reset_index(0,drop=True, inplace=True)\n",
    "    df= pd.merge(df, data_ready.loc[:,['title','show_type']],how='inner', on=['title'])\n",
    "    df.drop(df.loc[df['title']==x].index, inplace=True)\n",
    "    df.reset_index(0,drop=True,inplace=True)\n",
    "    df=df[['title','show_type',x]]\n",
    "    \n",
    "    return df\n",
    "    \n",
    "    "
   ]
  },
  {
   "cell_type": "code",
   "execution_count": 44,
   "metadata": {
    "ExecuteTime": {
     "end_time": "2020-11-17T12:14:07.332776Z",
     "start_time": "2020-11-17T12:13:51.195609Z"
    }
   },
   "outputs": [
    {
     "name": "stdout",
     "output_type": "stream",
     "text": [
      "Note: please do not make any spelling mistake to enter movie name or Tv show name  just copy and paste from above list \n",
      " \n",
      "Enter movie or TV show From above list := 365 Days\n"
     ]
    },
    {
     "data": {
      "text/html": [
       "<div>\n",
       "<style scoped>\n",
       "    .dataframe tbody tr th:only-of-type {\n",
       "        vertical-align: middle;\n",
       "    }\n",
       "\n",
       "    .dataframe tbody tr th {\n",
       "        vertical-align: top;\n",
       "    }\n",
       "\n",
       "    .dataframe thead th {\n",
       "        text-align: right;\n",
       "    }\n",
       "</style>\n",
       "<table border=\"1\" class=\"dataframe\">\n",
       "  <thead>\n",
       "    <tr style=\"text-align: right;\">\n",
       "      <th></th>\n",
       "      <th>title</th>\n",
       "      <th>show_type</th>\n",
       "      <th>365 Days</th>\n",
       "    </tr>\n",
       "  </thead>\n",
       "  <tbody>\n",
       "    <tr>\n",
       "      <th>0</th>\n",
       "      <td>The Kissing Booth 2</td>\n",
       "      <td>Movie</td>\n",
       "      <td>1.9</td>\n",
       "    </tr>\n",
       "  </tbody>\n",
       "</table>\n",
       "</div>"
      ],
      "text/plain": [
       "                 title show_type  365 Days\n",
       "0  The Kissing Booth 2     Movie       1.9"
      ]
     },
     "execution_count": 44,
     "metadata": {},
     "output_type": "execute_result"
    }
   ],
   "source": [
    "#similar movie \n",
    "movie_re(final_data,data_ready)"
   ]
  },
  {
   "cell_type": "markdown",
   "metadata": {},
   "source": [
    "# Part 2"
   ]
  },
  {
   "cell_type": "markdown",
   "metadata": {
    "ExecuteTime": {
     "end_time": "2020-11-08T12:42:46.001835Z",
     "start_time": "2020-11-08T12:42:45.985832Z"
    }
   },
   "source": [
    "<b><i> Note :</i> below two commented  cell use for combine csv file(reason:Country movies folder have diffrent csv each and every country so we need to combine those csv file and create large Dataset). <br> <i> Instruction :</i> user don't need to run this code user can go below csv file and get country_movies_combine csv </b>"
   ]
  },
  {
   "cell_type": "code",
   "execution_count": 45,
   "metadata": {
    "ExecuteTime": {
     "end_time": "2020-11-17T12:14:07.341768Z",
     "start_time": "2020-11-17T12:14:07.336771Z"
    }
   },
   "outputs": [],
   "source": [
    "# import os\n",
    "# import glob\n",
    "# import pandas as pd\n",
    "# # os.chdir(\"../data/country_movies\")\n",
    "# os.chdir(\"../data/country_movies\")\n"
   ]
  },
  {
   "cell_type": "code",
   "execution_count": 46,
   "metadata": {
    "ExecuteTime": {
     "end_time": "2020-11-17T12:14:07.453870Z",
     "start_time": "2020-11-17T12:14:07.345767Z"
    }
   },
   "outputs": [],
   "source": [
    "# extension = 'csv'\n",
    "# all_filenames = [i for i in glob.glob('*.{}'.format(extension))]\n",
    "# combined_csv = pd.concat([pd.read_csv(f) for f in all_filenames ])\n",
    "# #export to csv\n",
    "# combined_csv.to_csv( \"combined_csv.csv\", index=False, encoding='utf-8-sig')\n"
   ]
  },
  {
   "cell_type": "code",
   "execution_count": 47,
   "metadata": {
    "ExecuteTime": {
     "end_time": "2020-11-17T12:14:07.838430Z",
     "start_time": "2020-11-17T12:14:07.456849Z"
    }
   },
   "outputs": [],
   "source": [
    "#Read file \n",
    "combined_csv=pd.read_csv('../../data/country_movies/country_movie_combine.csv')"
   ]
  },
  {
   "cell_type": "code",
   "execution_count": 48,
   "metadata": {
    "ExecuteTime": {
     "end_time": "2020-11-17T12:14:07.888286Z",
     "start_time": "2020-11-17T12:14:07.841409Z"
    }
   },
   "outputs": [
    {
     "data": {
      "text/html": [
       "<div>\n",
       "<style scoped>\n",
       "    .dataframe tbody tr th:only-of-type {\n",
       "        vertical-align: middle;\n",
       "    }\n",
       "\n",
       "    .dataframe tbody tr th {\n",
       "        vertical-align: top;\n",
       "    }\n",
       "\n",
       "    .dataframe thead th {\n",
       "        text-align: right;\n",
       "    }\n",
       "</style>\n",
       "<table border=\"1\" class=\"dataframe\">\n",
       "  <thead>\n",
       "    <tr style=\"text-align: right;\">\n",
       "      <th></th>\n",
       "      <th>week</th>\n",
       "      <th>show_type</th>\n",
       "      <th>title</th>\n",
       "      <th>ori_country</th>\n",
       "      <th>genre</th>\n",
       "      <th>release_date</th>\n",
       "      <th>is_NF_Ori</th>\n",
       "      <th>imdb_rating</th>\n",
       "      <th>rt_rating</th>\n",
       "      <th>country_chart</th>\n",
       "      <th>show_link</th>\n",
       "      <th>Continent</th>\n",
       "      <th>Continent/the-letter-for-the-king-2020</th>\n",
       "      <th>EUR</th>\n",
       "      <th>rel_yr</th>\n",
       "      <th>rel_mt</th>\n",
       "    </tr>\n",
       "  </thead>\n",
       "  <tbody>\n",
       "    <tr>\n",
       "      <th>0</th>\n",
       "      <td>37</td>\n",
       "      <td>Movie</td>\n",
       "      <td>#Alive</td>\n",
       "      <td>South Korea</td>\n",
       "      <td>Horror</td>\n",
       "      <td>2020-09-08</td>\n",
       "      <td>False</td>\n",
       "      <td>62%</td>\n",
       "      <td>86%</td>\n",
       "      <td>ARE</td>\n",
       "      <td>https://flixpatrol.com/title/alive-2020</td>\n",
       "      <td>ASI</td>\n",
       "      <td>NaN</td>\n",
       "      <td>NaN</td>\n",
       "      <td>NaN</td>\n",
       "      <td>NaN</td>\n",
       "    </tr>\n",
       "    <tr>\n",
       "      <th>1</th>\n",
       "      <td>37</td>\n",
       "      <td>TV Show</td>\n",
       "      <td>Away</td>\n",
       "      <td>USA</td>\n",
       "      <td>Science Fiction</td>\n",
       "      <td>2020-09-04</td>\n",
       "      <td>True</td>\n",
       "      <td>71%</td>\n",
       "      <td>73%</td>\n",
       "      <td>ARE</td>\n",
       "      <td>https://flixpatrol.com/title/away-2020</td>\n",
       "      <td>ASI</td>\n",
       "      <td>NaN</td>\n",
       "      <td>NaN</td>\n",
       "      <td>NaN</td>\n",
       "      <td>NaN</td>\n",
       "    </tr>\n",
       "    <tr>\n",
       "      <th>2</th>\n",
       "      <td>36</td>\n",
       "      <td>Movie</td>\n",
       "      <td>Skyscraper</td>\n",
       "      <td>USA</td>\n",
       "      <td>Action</td>\n",
       "      <td>2018-07-04</td>\n",
       "      <td>False</td>\n",
       "      <td>61%</td>\n",
       "      <td>48%</td>\n",
       "      <td>ARE</td>\n",
       "      <td>https://flixpatrol.com/title/skyscraper</td>\n",
       "      <td>ASI</td>\n",
       "      <td>NaN</td>\n",
       "      <td>NaN</td>\n",
       "      <td>NaN</td>\n",
       "      <td>NaN</td>\n",
       "    </tr>\n",
       "    <tr>\n",
       "      <th>3</th>\n",
       "      <td>36</td>\n",
       "      <td>TV Show</td>\n",
       "      <td>Lucifer</td>\n",
       "      <td>USA</td>\n",
       "      <td>Superhero</td>\n",
       "      <td>2016-01-25</td>\n",
       "      <td>True</td>\n",
       "      <td>83%</td>\n",
       "      <td>87%</td>\n",
       "      <td>ARE</td>\n",
       "      <td>https://flixpatrol.com/title/lucifer</td>\n",
       "      <td>ASI</td>\n",
       "      <td>NaN</td>\n",
       "      <td>NaN</td>\n",
       "      <td>NaN</td>\n",
       "      <td>NaN</td>\n",
       "    </tr>\n",
       "    <tr>\n",
       "      <th>4</th>\n",
       "      <td>35</td>\n",
       "      <td>Movie</td>\n",
       "      <td>Project Power</td>\n",
       "      <td>USA</td>\n",
       "      <td>Action</td>\n",
       "      <td>2020-08-14</td>\n",
       "      <td>True</td>\n",
       "      <td>61%</td>\n",
       "      <td>63%</td>\n",
       "      <td>ARE</td>\n",
       "      <td>https://flixpatrol.com/title/project-power</td>\n",
       "      <td>ASI</td>\n",
       "      <td>NaN</td>\n",
       "      <td>NaN</td>\n",
       "      <td>NaN</td>\n",
       "      <td>NaN</td>\n",
       "    </tr>\n",
       "    <tr>\n",
       "      <th>5</th>\n",
       "      <td>35</td>\n",
       "      <td>TV Show</td>\n",
       "      <td>Lucifer</td>\n",
       "      <td>USA</td>\n",
       "      <td>Superhero</td>\n",
       "      <td>2016-01-25</td>\n",
       "      <td>True</td>\n",
       "      <td>83%</td>\n",
       "      <td>87%</td>\n",
       "      <td>ARE</td>\n",
       "      <td>https://flixpatrol.com/title/lucifer</td>\n",
       "      <td>ASI</td>\n",
       "      <td>NaN</td>\n",
       "      <td>NaN</td>\n",
       "      <td>NaN</td>\n",
       "      <td>NaN</td>\n",
       "    </tr>\n",
       "    <tr>\n",
       "      <th>6</th>\n",
       "      <td>37</td>\n",
       "      <td>Movie</td>\n",
       "      <td>The Emoji Movie</td>\n",
       "      <td>USA</td>\n",
       "      <td>Animated</td>\n",
       "      <td>2017-07-28</td>\n",
       "      <td>False</td>\n",
       "      <td>14%</td>\n",
       "      <td>8%</td>\n",
       "      <td>ARG</td>\n",
       "      <td>https://flixpatrol.com/title/the-emoji-movie</td>\n",
       "      <td>AME</td>\n",
       "      <td>NaN</td>\n",
       "      <td>NaN</td>\n",
       "      <td>NaN</td>\n",
       "      <td>NaN</td>\n",
       "    </tr>\n",
       "    <tr>\n",
       "      <th>7</th>\n",
       "      <td>37</td>\n",
       "      <td>TV Show</td>\n",
       "      <td>Cobra Kai</td>\n",
       "      <td>USA</td>\n",
       "      <td>Action</td>\n",
       "      <td>2018-05-02</td>\n",
       "      <td>False</td>\n",
       "      <td>88%</td>\n",
       "      <td>94%</td>\n",
       "      <td>ARG</td>\n",
       "      <td>https://flixpatrol.com/title/cobra-kai</td>\n",
       "      <td>AME</td>\n",
       "      <td>NaN</td>\n",
       "      <td>NaN</td>\n",
       "      <td>NaN</td>\n",
       "      <td>NaN</td>\n",
       "    </tr>\n",
       "    <tr>\n",
       "      <th>8</th>\n",
       "      <td>36</td>\n",
       "      <td>Movie</td>\n",
       "      <td>The Emoji Movie</td>\n",
       "      <td>USA</td>\n",
       "      <td>Animated</td>\n",
       "      <td>2017-07-28</td>\n",
       "      <td>False</td>\n",
       "      <td>14%</td>\n",
       "      <td>8%</td>\n",
       "      <td>ARG</td>\n",
       "      <td>https://flixpatrol.com/title/the-emoji-movie</td>\n",
       "      <td>AME</td>\n",
       "      <td>NaN</td>\n",
       "      <td>NaN</td>\n",
       "      <td>NaN</td>\n",
       "      <td>NaN</td>\n",
       "    </tr>\n",
       "    <tr>\n",
       "      <th>9</th>\n",
       "      <td>36</td>\n",
       "      <td>TV Show</td>\n",
       "      <td>Cobra Kai</td>\n",
       "      <td>USA</td>\n",
       "      <td>Action</td>\n",
       "      <td>2018-05-02</td>\n",
       "      <td>False</td>\n",
       "      <td>88%</td>\n",
       "      <td>94%</td>\n",
       "      <td>ARG</td>\n",
       "      <td>https://flixpatrol.com/title/cobra-kai</td>\n",
       "      <td>AME</td>\n",
       "      <td>NaN</td>\n",
       "      <td>NaN</td>\n",
       "      <td>NaN</td>\n",
       "      <td>NaN</td>\n",
       "    </tr>\n",
       "  </tbody>\n",
       "</table>\n",
       "</div>"
      ],
      "text/plain": [
       "   week show_type            title  ori_country            genre release_date  \\\n",
       "0    37     Movie           #Alive  South Korea           Horror   2020-09-08   \n",
       "1    37   TV Show             Away          USA  Science Fiction   2020-09-04   \n",
       "2    36     Movie       Skyscraper          USA           Action   2018-07-04   \n",
       "3    36   TV Show          Lucifer          USA        Superhero   2016-01-25   \n",
       "4    35     Movie    Project Power          USA           Action   2020-08-14   \n",
       "5    35   TV Show          Lucifer          USA        Superhero   2016-01-25   \n",
       "6    37     Movie  The Emoji Movie          USA         Animated   2017-07-28   \n",
       "7    37   TV Show        Cobra Kai          USA           Action   2018-05-02   \n",
       "8    36     Movie  The Emoji Movie          USA         Animated   2017-07-28   \n",
       "9    36   TV Show        Cobra Kai          USA           Action   2018-05-02   \n",
       "\n",
       "   is_NF_Ori imdb_rating rt_rating country_chart  \\\n",
       "0      False         62%       86%           ARE   \n",
       "1       True         71%       73%           ARE   \n",
       "2      False         61%       48%           ARE   \n",
       "3       True         83%       87%           ARE   \n",
       "4       True         61%       63%           ARE   \n",
       "5       True         83%       87%           ARE   \n",
       "6      False         14%        8%           ARG   \n",
       "7      False         88%       94%           ARG   \n",
       "8      False         14%        8%           ARG   \n",
       "9      False         88%       94%           ARG   \n",
       "\n",
       "                                      show_link Continent  \\\n",
       "0       https://flixpatrol.com/title/alive-2020       ASI   \n",
       "1        https://flixpatrol.com/title/away-2020       ASI   \n",
       "2       https://flixpatrol.com/title/skyscraper       ASI   \n",
       "3          https://flixpatrol.com/title/lucifer       ASI   \n",
       "4    https://flixpatrol.com/title/project-power       ASI   \n",
       "5          https://flixpatrol.com/title/lucifer       ASI   \n",
       "6  https://flixpatrol.com/title/the-emoji-movie       AME   \n",
       "7        https://flixpatrol.com/title/cobra-kai       AME   \n",
       "8  https://flixpatrol.com/title/the-emoji-movie       AME   \n",
       "9        https://flixpatrol.com/title/cobra-kai       AME   \n",
       "\n",
       "  Continent/the-letter-for-the-king-2020  EUR  rel_yr  rel_mt  \n",
       "0                                    NaN  NaN     NaN     NaN  \n",
       "1                                    NaN  NaN     NaN     NaN  \n",
       "2                                    NaN  NaN     NaN     NaN  \n",
       "3                                    NaN  NaN     NaN     NaN  \n",
       "4                                    NaN  NaN     NaN     NaN  \n",
       "5                                    NaN  NaN     NaN     NaN  \n",
       "6                                    NaN  NaN     NaN     NaN  \n",
       "7                                    NaN  NaN     NaN     NaN  \n",
       "8                                    NaN  NaN     NaN     NaN  \n",
       "9                                    NaN  NaN     NaN     NaN  "
      ]
     },
     "execution_count": 48,
     "metadata": {},
     "output_type": "execute_result"
    }
   ],
   "source": [
    "combined_csv=combined_csv.reset_index(level=0,drop=True)\n",
    "combined_csv.head(10)"
   ]
  },
  {
   "cell_type": "markdown",
   "metadata": {
    "ExecuteTime": {
     "end_time": "2020-11-08T12:57:37.947876Z",
     "start_time": "2020-11-08T12:57:37.931877Z"
    }
   },
   "source": [
    "<b>  <h2> Data Cleaning Part </h2> </b> "
   ]
  },
  {
   "cell_type": "code",
   "execution_count": 49,
   "metadata": {
    "ExecuteTime": {
     "end_time": "2020-11-17T12:14:08.001410Z",
     "start_time": "2020-11-17T12:14:07.891288Z"
    }
   },
   "outputs": [],
   "source": [
    "# helper Function for cleaning data\n",
    "def fun(x):\n",
    "    if(x == None or x==0):\n",
    "        return np.nan\n",
    "    elif(isinstance(x,int)):\n",
    "        return x \n",
    "    else:\n",
    "        try:\n",
    "            if '%' in x:\n",
    "                return float(x[0:-1])\n",
    "        except TypeError:\n",
    "            \n",
    "             return float(x)"
   ]
  },
  {
   "cell_type": "code",
   "execution_count": 50,
   "metadata": {
    "ExecuteTime": {
     "end_time": "2020-11-17T12:14:08.111606Z",
     "start_time": "2020-11-17T12:14:08.005409Z"
    }
   },
   "outputs": [],
   "source": [
    "def clean_data(movie_ind):\n",
    "    \n",
    "        movie_ind=movie_ind.loc[:,['week','show_type','title','ori_country','genre','release_date','imdb_rating','rt_rating','is_NF_Ori']]\n",
    "        movie_ind['imdb_rating']=movie_ind['imdb_rating'].apply(lambda x : fun(x))\n",
    "        movie_ind['rt_rating']=movie_ind['rt_rating'].apply(lambda x :    fun(x))\n",
    "        \n",
    "        return movie_ind"
   ]
  },
  {
   "cell_type": "code",
   "execution_count": 51,
   "metadata": {
    "ExecuteTime": {
     "end_time": "2020-11-17T12:14:08.313681Z",
     "start_time": "2020-11-17T12:14:08.115584Z"
    }
   },
   "outputs": [],
   "source": [
    "df=clean_data(combined_csv)"
   ]
  },
  {
   "cell_type": "code",
   "execution_count": 52,
   "metadata": {
    "ExecuteTime": {
     "end_time": "2020-11-17T12:14:08.378322Z",
     "start_time": "2020-11-17T12:14:08.317678Z"
    }
   },
   "outputs": [],
   "source": [
    "# checking the  how much null value\n",
    "nan_columns = []\n",
    "nan_values = []\n",
    "def check_nan(movie_ind):\n",
    "    for column in movie_ind.columns:\n",
    "\n",
    "        nan_columns.append(column)\n",
    "        nan_values.append(movie_ind[column].isnull().sum())\n",
    "\n",
    "\n",
    "    fig, ax = plt.subplots(figsize=(20,10))\n",
    "    plt.bar(nan_columns, nan_values)\n",
    "    plt.show()"
   ]
  },
  {
   "cell_type": "code",
   "execution_count": 53,
   "metadata": {
    "ExecuteTime": {
     "end_time": "2020-11-17T12:14:08.970298Z",
     "start_time": "2020-11-17T12:14:08.381323Z"
    }
   },
   "outputs": [
    {
     "data": {
      "image/png": "[encoded data removed]",
      "text/plain": [
       "<Figure size 1440x720 with 1 Axes>"
      ]
     },
     "metadata": {
      "needs_background": "light"
     },
     "output_type": "display_data"
    }
   ],
   "source": [
    "check_nan(df)"
   ]
  },
  {
   "cell_type": "code",
   "execution_count": 54,
   "metadata": {
    "ExecuteTime": {
     "end_time": "2020-11-17T12:14:09.004284Z",
     "start_time": "2020-11-17T12:14:08.973296Z"
    }
   },
   "outputs": [
    {
     "data": {
      "text/html": [
       "<div>\n",
       "<style scoped>\n",
       "    .dataframe tbody tr th:only-of-type {\n",
       "        vertical-align: middle;\n",
       "    }\n",
       "\n",
       "    .dataframe tbody tr th {\n",
       "        vertical-align: top;\n",
       "    }\n",
       "\n",
       "    .dataframe thead th {\n",
       "        text-align: right;\n",
       "    }\n",
       "</style>\n",
       "<table border=\"1\" class=\"dataframe\">\n",
       "  <thead>\n",
       "    <tr style=\"text-align: right;\">\n",
       "      <th></th>\n",
       "      <th>week</th>\n",
       "      <th>show_type</th>\n",
       "      <th>title</th>\n",
       "      <th>ori_country</th>\n",
       "      <th>genre</th>\n",
       "      <th>release_date</th>\n",
       "      <th>imdb_rating</th>\n",
       "      <th>rt_rating</th>\n",
       "      <th>is_NF_Ori</th>\n",
       "    </tr>\n",
       "  </thead>\n",
       "  <tbody>\n",
       "    <tr>\n",
       "      <th>0</th>\n",
       "      <td>37</td>\n",
       "      <td>Movie</td>\n",
       "      <td>#Alive</td>\n",
       "      <td>South Korea</td>\n",
       "      <td>Horror</td>\n",
       "      <td>2020-09-08</td>\n",
       "      <td>62.0</td>\n",
       "      <td>86.0</td>\n",
       "      <td>False</td>\n",
       "    </tr>\n",
       "    <tr>\n",
       "      <th>1</th>\n",
       "      <td>37</td>\n",
       "      <td>TV Show</td>\n",
       "      <td>Away</td>\n",
       "      <td>USA</td>\n",
       "      <td>Science Fiction</td>\n",
       "      <td>2020-09-04</td>\n",
       "      <td>71.0</td>\n",
       "      <td>73.0</td>\n",
       "      <td>True</td>\n",
       "    </tr>\n",
       "    <tr>\n",
       "      <th>2</th>\n",
       "      <td>36</td>\n",
       "      <td>Movie</td>\n",
       "      <td>Skyscraper</td>\n",
       "      <td>USA</td>\n",
       "      <td>Action</td>\n",
       "      <td>2018-07-04</td>\n",
       "      <td>61.0</td>\n",
       "      <td>48.0</td>\n",
       "      <td>False</td>\n",
       "    </tr>\n",
       "    <tr>\n",
       "      <th>3</th>\n",
       "      <td>36</td>\n",
       "      <td>TV Show</td>\n",
       "      <td>Lucifer</td>\n",
       "      <td>USA</td>\n",
       "      <td>Superhero</td>\n",
       "      <td>2016-01-25</td>\n",
       "      <td>83.0</td>\n",
       "      <td>87.0</td>\n",
       "      <td>True</td>\n",
       "    </tr>\n",
       "    <tr>\n",
       "      <th>4</th>\n",
       "      <td>35</td>\n",
       "      <td>Movie</td>\n",
       "      <td>Project Power</td>\n",
       "      <td>USA</td>\n",
       "      <td>Action</td>\n",
       "      <td>2020-08-14</td>\n",
       "      <td>61.0</td>\n",
       "      <td>63.0</td>\n",
       "      <td>True</td>\n",
       "    </tr>\n",
       "  </tbody>\n",
       "</table>\n",
       "</div>"
      ],
      "text/plain": [
       "   week show_type          title  ori_country            genre release_date  \\\n",
       "0    37     Movie         #Alive  South Korea           Horror   2020-09-08   \n",
       "1    37   TV Show           Away          USA  Science Fiction   2020-09-04   \n",
       "2    36     Movie     Skyscraper          USA           Action   2018-07-04   \n",
       "3    36   TV Show        Lucifer          USA        Superhero   2016-01-25   \n",
       "4    35     Movie  Project Power          USA           Action   2020-08-14   \n",
       "\n",
       "   imdb_rating  rt_rating  is_NF_Ori  \n",
       "0         62.0       86.0      False  \n",
       "1         71.0       73.0       True  \n",
       "2         61.0       48.0      False  \n",
       "3         83.0       87.0       True  \n",
       "4         61.0       63.0       True  "
      ]
     },
     "execution_count": 54,
     "metadata": {},
     "output_type": "execute_result"
    }
   ],
   "source": [
    "df.head()"
   ]
  },
  {
   "cell_type": "markdown",
   "metadata": {},
   "source": [
    "<b> <h2> fill the missing values </h2> </b> "
   ]
  },
  {
   "cell_type": "code",
   "execution_count": 55,
   "metadata": {
    "ExecuteTime": {
     "end_time": "2020-11-17T12:14:09.117320Z",
     "start_time": "2020-11-17T12:14:09.010275Z"
    }
   },
   "outputs": [],
   "source": [
    "def missing_valuefill(df):\n",
    "    df_final=df.copy() # copy original data \n",
    "    col=['title','ori_country','genre','imdb_rating','rt_rating']\n",
    "    df=df.dropna(subset=col)\n",
    "    #drop nan value for build prediction  model to predict the missing imdb and review rating \n",
    "    \n",
    "    df=df.groupby('title',as_index=False)['imdb_rating','rt_rating'].median()\n",
    "    #  Here  same movie is review by imdb and rt _rating diffrent week so we need to  grouping movie  by their title \n",
    "    # and take a median value \n",
    "    \n",
    "    model=smf.ols('rt_rating~I(imdb_rating**2)',data=df).fit() # regression analysis \n",
    "    model1=smf.ols('imdb_rating~I(rt_rating**1)',data=df).fit()\n",
    "    predict_imdb_rt=pd.DataFrame({'rt_predict':model.predict(df['imdb_rating']),\n",
    "                              'imdb_predict':model1.predict(df['rt_rating'])})\n",
    "    \n",
    "    df_final['imdb_rating'].fillna(predict_imdb_rt['imdb_predict'],inplace=True) # fill nan value by model\n",
    "    df_final['rt_rating'].fillna(predict_imdb_rt['rt_predict'],inplace=True) \n",
    "    df_final=round(df_final,0)\n",
    "    df_final=df_final.dropna()\n",
    "    df_final.reset_index(drop=True,inplace=True)\n",
    "    \n",
    "    return df_final"
   ]
  },
  {
   "cell_type": "code",
   "execution_count": 56,
   "metadata": {
    "ExecuteTime": {
     "end_time": "2020-11-17T12:14:09.647251Z",
     "start_time": "2020-11-17T12:14:09.120320Z"
    }
   },
   "outputs": [
    {
     "data": {
      "text/html": [
       "<div>\n",
       "<style scoped>\n",
       "    .dataframe tbody tr th:only-of-type {\n",
       "        vertical-align: middle;\n",
       "    }\n",
       "\n",
       "    .dataframe tbody tr th {\n",
       "        vertical-align: top;\n",
       "    }\n",
       "\n",
       "    .dataframe thead th {\n",
       "        text-align: right;\n",
       "    }\n",
       "</style>\n",
       "<table border=\"1\" class=\"dataframe\">\n",
       "  <thead>\n",
       "    <tr style=\"text-align: right;\">\n",
       "      <th></th>\n",
       "      <th>show_type</th>\n",
       "      <th>title</th>\n",
       "      <th>ori_country</th>\n",
       "      <th>genre</th>\n",
       "      <th>is_NF_Ori</th>\n",
       "      <th>imdb_rating</th>\n",
       "      <th>rt_rating</th>\n",
       "    </tr>\n",
       "  </thead>\n",
       "  <tbody>\n",
       "    <tr>\n",
       "      <th>0</th>\n",
       "      <td>Documentary</td>\n",
       "      <td>Becoming</td>\n",
       "      <td>USA</td>\n",
       "      <td>Documentary</td>\n",
       "      <td>True</td>\n",
       "      <td>64.0</td>\n",
       "      <td>92.0</td>\n",
       "    </tr>\n",
       "    <tr>\n",
       "      <th>1</th>\n",
       "      <td>Documentary</td>\n",
       "      <td>Have a Good Trip: Adventures in Psychedelics</td>\n",
       "      <td>USA</td>\n",
       "      <td>Documentary</td>\n",
       "      <td>True</td>\n",
       "      <td>73.0</td>\n",
       "      <td>47.0</td>\n",
       "    </tr>\n",
       "    <tr>\n",
       "      <th>2</th>\n",
       "      <td>Documentary</td>\n",
       "      <td>Money Heist: The Phenomenon</td>\n",
       "      <td>Spain</td>\n",
       "      <td>Documentary</td>\n",
       "      <td>True</td>\n",
       "      <td>78.0</td>\n",
       "      <td>59.5</td>\n",
       "    </tr>\n",
       "    <tr>\n",
       "      <th>3</th>\n",
       "      <td>Documentary TV</td>\n",
       "      <td>Down to Earth with Zac Efron</td>\n",
       "      <td>USA</td>\n",
       "      <td>Documentary</td>\n",
       "      <td>True</td>\n",
       "      <td>82.0</td>\n",
       "      <td>67.0</td>\n",
       "    </tr>\n",
       "    <tr>\n",
       "      <th>4</th>\n",
       "      <td>Documentary TV</td>\n",
       "      <td>Fear City: New York vs The Mafia</td>\n",
       "      <td>USA</td>\n",
       "      <td>Documentary</td>\n",
       "      <td>True</td>\n",
       "      <td>79.0</td>\n",
       "      <td>67.0</td>\n",
       "    </tr>\n",
       "  </tbody>\n",
       "</table>\n",
       "</div>"
      ],
      "text/plain": [
       "        show_type                                         title ori_country  \\\n",
       "0     Documentary                                      Becoming         USA   \n",
       "1     Documentary  Have a Good Trip: Adventures in Psychedelics         USA   \n",
       "2     Documentary                   Money Heist: The Phenomenon       Spain   \n",
       "3  Documentary TV                  Down to Earth with Zac Efron         USA   \n",
       "4  Documentary TV              Fear City: New York vs The Mafia         USA   \n",
       "\n",
       "         genre  is_NF_Ori  imdb_rating  rt_rating  \n",
       "0  Documentary       True         64.0       92.0  \n",
       "1  Documentary       True         73.0       47.0  \n",
       "2  Documentary       True         78.0       59.5  \n",
       "3  Documentary       True         82.0       67.0  \n",
       "4  Documentary       True         79.0       67.0  "
      ]
     },
     "execution_count": 56,
     "metadata": {},
     "output_type": "execute_result"
    }
   ],
   "source": [
    "m=missing_valuefill(df)\n",
    "m=m.groupby(['show_type','title','ori_country','genre','is_NF_Ori'],as_index=False)['imdb_rating','rt_rating'].median()\n",
    "# Here same movie is review by imdb and rt _rating diffrent week so we need to  grouping movie  by their title \n",
    "m.reset_index(0,drop=True,inplace=True)\n",
    "m.head()"
   ]
  },
  {
   "cell_type": "markdown",
   "metadata": {},
   "source": [
    "<h2> <b> we will prepare data for Recommandation algo  </b> </h2>\n",
    "<br>\n",
    "<b> Main Part Of RE (for Large dataset)  </b> \n",
    "<ul> \n",
    "<br>\n",
    "    <li> <b> Question is how much movie A similar to movie B in terms of rank ? </b> </li>\n",
    "<br>\n",
    "    <li> <b> find n &#10006; n matrix (n=movie)</b> </li>\n",
    "<br>\n",
    "    <li> <b> Below pseudo_rank function  will  calculate above n &#10006; n matrix </b> </li>\n",
    "    \n",
    "</ul>"
   ]
  },
  {
   "cell_type": "code",
   "execution_count": 57,
   "metadata": {
    "ExecuteTime": {
     "end_time": "2020-11-17T12:14:09.660226Z",
     "start_time": "2020-11-17T12:14:09.650233Z"
    }
   },
   "outputs": [],
   "source": [
    "def prepare_data(data):\n",
    "    col=['show_type','ori_country','genre','is_NF_Ori']\n",
    "    data['merge_word'] = data[col].values.tolist()\n",
    "    \n",
    "    return data"
   ]
  },
  {
   "cell_type": "code",
   "execution_count": 58,
   "metadata": {
    "ExecuteTime": {
     "end_time": "2020-11-17T12:14:09.802221Z",
     "start_time": "2020-11-17T12:14:09.665223Z"
    }
   },
   "outputs": [],
   "source": [
    "# pd.set_option('display.max_rows', 500)"
   ]
  },
  {
   "cell_type": "code",
   "execution_count": 59,
   "metadata": {
    "ExecuteTime": {
     "end_time": "2020-11-17T12:14:09.947383Z",
     "start_time": "2020-11-17T12:14:09.806218Z"
    }
   },
   "outputs": [
    {
     "data": {
      "text/html": [
       "<div>\n",
       "<style scoped>\n",
       "    .dataframe tbody tr th:only-of-type {\n",
       "        vertical-align: middle;\n",
       "    }\n",
       "\n",
       "    .dataframe tbody tr th {\n",
       "        vertical-align: top;\n",
       "    }\n",
       "\n",
       "    .dataframe thead th {\n",
       "        text-align: right;\n",
       "    }\n",
       "</style>\n",
       "<table border=\"1\" class=\"dataframe\">\n",
       "  <thead>\n",
       "    <tr style=\"text-align: right;\">\n",
       "      <th></th>\n",
       "      <th>show_type</th>\n",
       "      <th>title</th>\n",
       "      <th>ori_country</th>\n",
       "      <th>genre</th>\n",
       "      <th>is_NF_Ori</th>\n",
       "      <th>imdb_rating</th>\n",
       "      <th>rt_rating</th>\n",
       "      <th>merge_word</th>\n",
       "    </tr>\n",
       "  </thead>\n",
       "  <tbody>\n",
       "    <tr>\n",
       "      <th>0</th>\n",
       "      <td>Documentary</td>\n",
       "      <td>Becoming</td>\n",
       "      <td>USA</td>\n",
       "      <td>Documentary</td>\n",
       "      <td>True</td>\n",
       "      <td>64.0</td>\n",
       "      <td>92.0</td>\n",
       "      <td>[Documentary, USA, Documentary, True]</td>\n",
       "    </tr>\n",
       "    <tr>\n",
       "      <th>1</th>\n",
       "      <td>Documentary</td>\n",
       "      <td>Have a Good Trip: Adventures in Psychedelics</td>\n",
       "      <td>USA</td>\n",
       "      <td>Documentary</td>\n",
       "      <td>True</td>\n",
       "      <td>73.0</td>\n",
       "      <td>47.0</td>\n",
       "      <td>[Documentary, USA, Documentary, True]</td>\n",
       "    </tr>\n",
       "    <tr>\n",
       "      <th>2</th>\n",
       "      <td>Documentary</td>\n",
       "      <td>Money Heist: The Phenomenon</td>\n",
       "      <td>Spain</td>\n",
       "      <td>Documentary</td>\n",
       "      <td>True</td>\n",
       "      <td>78.0</td>\n",
       "      <td>59.5</td>\n",
       "      <td>[Documentary, Spain, Documentary, True]</td>\n",
       "    </tr>\n",
       "    <tr>\n",
       "      <th>3</th>\n",
       "      <td>Documentary TV</td>\n",
       "      <td>Down to Earth with Zac Efron</td>\n",
       "      <td>USA</td>\n",
       "      <td>Documentary</td>\n",
       "      <td>True</td>\n",
       "      <td>82.0</td>\n",
       "      <td>67.0</td>\n",
       "      <td>[Documentary TV, USA, Documentary, True]</td>\n",
       "    </tr>\n",
       "    <tr>\n",
       "      <th>4</th>\n",
       "      <td>Documentary TV</td>\n",
       "      <td>Fear City: New York vs The Mafia</td>\n",
       "      <td>USA</td>\n",
       "      <td>Documentary</td>\n",
       "      <td>True</td>\n",
       "      <td>79.0</td>\n",
       "      <td>67.0</td>\n",
       "      <td>[Documentary TV, USA, Documentary, True]</td>\n",
       "    </tr>\n",
       "  </tbody>\n",
       "</table>\n",
       "</div>"
      ],
      "text/plain": [
       "        show_type                                         title ori_country  \\\n",
       "0     Documentary                                      Becoming         USA   \n",
       "1     Documentary  Have a Good Trip: Adventures in Psychedelics         USA   \n",
       "2     Documentary                   Money Heist: The Phenomenon       Spain   \n",
       "3  Documentary TV                  Down to Earth with Zac Efron         USA   \n",
       "4  Documentary TV              Fear City: New York vs The Mafia         USA   \n",
       "\n",
       "         genre  is_NF_Ori  imdb_rating  rt_rating  \\\n",
       "0  Documentary       True         64.0       92.0   \n",
       "1  Documentary       True         73.0       47.0   \n",
       "2  Documentary       True         78.0       59.5   \n",
       "3  Documentary       True         82.0       67.0   \n",
       "4  Documentary       True         79.0       67.0   \n",
       "\n",
       "                                 merge_word  \n",
       "0     [Documentary, USA, Documentary, True]  \n",
       "1     [Documentary, USA, Documentary, True]  \n",
       "2   [Documentary, Spain, Documentary, True]  \n",
       "3  [Documentary TV, USA, Documentary, True]  \n",
       "4  [Documentary TV, USA, Documentary, True]  "
      ]
     },
     "execution_count": 59,
     "metadata": {},
     "output_type": "execute_result"
    }
   ],
   "source": [
    "data_ready=prepare_data(m)\n",
    "data_ready.head()"
   ]
  },
  {
   "cell_type": "code",
   "execution_count": 60,
   "metadata": {
    "ExecuteTime": {
     "end_time": "2020-11-17T12:14:10.077527Z",
     "start_time": "2020-11-17T12:14:09.951363Z"
    }
   },
   "outputs": [],
   "source": [
    "def pseudo_probability(data_movie):\n",
    "    matrix=[]\n",
    "    for i in range (data_movie.shape[0]) :\n",
    "        s=data_movie.loc[i,['merge_word']].values[0]\n",
    "        n1=data_movie.loc[i,['title']].values\n",
    "\n",
    "        l1=[]\n",
    "        for j in range(data_movie.shape[0]):\n",
    "\n",
    "            u= data_movie.loc[j,['merge_word']].values[0]\n",
    "            m=0\n",
    "            if(s[2]==u[2]):\n",
    "                n2=data_movie.loc[j,['title']].values\n",
    "                p1=float(data_movie.loc[j,['imdb_rating']])\n",
    "                p2=float(data_movie.loc[j,['rt_rating']])\n",
    "                m=1+((p1+p2)/100)\n",
    "                \n",
    "                if(s[3]):\n",
    "                    m+=0.4\n",
    "\n",
    "            l1.append(round(m,4))\n",
    "        matrix.append(l1)\n",
    "    matrix=np.array(matrix)\n",
    "    n1=list(data_movie['title'])\n",
    "    df_final=pd.DataFrame(data=matrix,index=n1,columns=n1)\n",
    "    return df_final"
   ]
  },
  {
   "cell_type": "code",
   "execution_count": 61,
   "metadata": {
    "ExecuteTime": {
     "end_time": "2020-11-17T12:15:46.617295Z",
     "start_time": "2020-11-17T12:14:10.081523Z"
    }
   },
   "outputs": [],
   "source": [
    "final_data=pseudo_probability(data_ready)"
   ]
  },
  {
   "cell_type": "code",
   "execution_count": 62,
   "metadata": {
    "ExecuteTime": {
     "end_time": "2020-11-17T12:15:46.625249Z",
     "start_time": "2020-11-17T12:15:46.620252Z"
    }
   },
   "outputs": [],
   "source": [
    "#final_data.head()"
   ]
  },
  {
   "cell_type": "code",
   "execution_count": 63,
   "metadata": {
    "ExecuteTime": {
     "end_time": "2020-11-17T12:15:47.086034Z",
     "start_time": "2020-11-17T12:15:46.630246Z"
    }
   },
   "outputs": [
    {
     "name": "stdout",
     "output_type": "stream",
     "text": [
      "['Becoming', 'Have a Good Trip: Adventures in Psychedelics', 'Money Heist: The Phenomenon', 'Down to Earth with Zac Efron', 'Fear City: New York vs The Mafia', 'Jeffrey Epstein: Filthy Rich', 'Pandemic: How to Prevent an Outbreak', 'The Last Dance', 'Tiger King: Murder, Mayhem and Madness', '#Alive', '12 Strong', '17 Again', '2 Guns', '365 Days', '47 Meters Down: Uncaged', '6 Underground', '8 Mile', 'A Million Ways to Die in the West', 'A Quiet Place', 'A Simple Favor', 'A Star is Born', 'Aftermath', 'American Assassin', 'Angel Has Fallen', 'Anna', 'Aquaman', \"Assassin's Creed\", 'Baby Driver', 'Bad Boys for Life', 'Battleship', 'Bee Movie', 'Black and Blue', 'Blockers', 'Blood Father', 'Bulbbul', 'Bumblebee', 'Catch Me If You Can', 'Central Intelligence', 'Charlie and the Chocolate Factory', \"Child's Play\", \"Class of '83\", 'Code 8', 'Coffee & Kareem', 'Cold Pursuit', 'Contagion', 'Crazy Rich Asians', 'Dangerous Lies', 'Deadpool 2', 'Death Wish', 'Desperados', 'Despicable Me', 'Despicable Me 2', 'Doctor Sleep', 'Edge of Tomorrow', 'Escape Plan', 'Eurovision Song Contest: The Story of Fire Saga', 'Extraction', 'Fantastic Beasts: The Crimes of Grindelwald', 'Fantastic Four', 'Faster', 'Feel the Beat', 'Fifty Shades Freed', 'Focus', 'Furious 7', 'G.I. Joe: The Rise of Cobra', 'Geostorm', 'Get Hard', 'Get Out', 'Gifted', 'Godzilla: King of the Monsters', 'Going in Style', 'Grown Ups', 'Gunjan Saxena: The Kargil Girl', 'Hancock', 'Harry Potter and the Chamber of Secrets', 'Hotel Transylvania 3: Summer Vacation', \"I'm Thinking of Ending Things\", 'Independence Day: Resurgence', 'Intuition', 'It: Chapter 2', 'Jack Reacher', 'John Wick: Chapter Two', 'Johnny English Reborn', 'Johnny English Strikes Again', 'Joker', 'Journey 2: The Mysterious Island', 'Jumanji: The Next Level', 'Jumanji: Welcome to the Jungle', 'Jurassic World: Fallen Kingdom', 'Justice League', 'Killerman', 'King Arthur: Legend of the Sword', 'Life of the Party', 'London Has Fallen', 'Lost Bullet', 'Lost Girls', 'Love Aaj Kal', 'Love, Guaranteed', 'Love. Wedding. Repeat', 'MILF', 'Mad Max: Fury Road', 'Mamma Mia: Here We Go Again!', 'Mary Queen of Scots', 'Mercury Rising', 'Mile 22', 'Miracle in Cell No. 7', 'Mission: Impossible - Fallout', 'Mortal Engines', 'Night School', 'Norbit', 'Overboard', 'Parasite', 'Parker', 'Patriots Day', 'Pitch Perfect 3', 'Project Power', 'Rampage', 'Ready Player One', 'Robin Hood', 'Rumor Has It...', 'Safe House', 'Santana', 'Sergio', 'Shrek', 'Sicario: Day Of The Soldado', 'Sing', 'Skyscraper', 'Smallfoot', 'Space Jam', 'Spenser Confidential', 'Spider-Man: Homecoming', 'Suicide Squad', 'Tag', 'Ted', 'The Addams Family', 'The Angry Birds Movie 2', 'The Crimes That Bind', 'The Emoji Movie', 'The Equalizer', 'The Equalizer 2', 'The Fate of the Furious', 'The First Purge', 'The Foreigner', 'The Grinch', 'The Grinch', 'The Intern', 'The Kissing Booth 2', 'The Kitchen', 'The Lorax', 'The Lovebirds', 'The Mask', 'The Meg', 'The Mummy', 'The Occupant', 'The Old Guard', 'The Platform', 'The Secret Life of Pets', 'The Sleepover', 'The Son of Bigfoot', 'The Tuxedo', 'The Willoughbys', 'The Wrong Missy', 'Tigertail', 'Time to Hunt', 'Train to Busan', 'Truth or Dare', 'Ultras', 'Unbroken', 'Uncut Gems', 'Vacation', 'Venom', 'War for the Planet of the Apes', 'Wind River', 'Wonder', 'Wonder Park', 'Wonder Woman', 'Work It', 'X-Men: Apocalypse', 'Zodiac', '13 Reasons Why', 'After Life', 'Alexa & Katie', 'All American', 'Almost Happy', 'Avatar: The Last Airbender', 'Away', 'Biohackers', 'Brooklyn Nine-Nine', 'Cable Girls', 'Cobra Kai', 'Control Z', 'Curon', 'Cursed', 'Dark', 'Dark Desire', 'Dead to Me', 'Dirty John', 'Dynasty', 'Elite', 'Fauda', 'Floor is Lava', 'Freud', 'Good Girls', 'Gotham', 'Greenleaf', 'Hollywood', 'How to Sell Drugs Online (Fast)', 'Into the Night', 'Itaewon Class', 'Locked Up', 'Love is Blind', 'Lucifer', 'Marcella', 'Masaba Masaba', 'Modern Family', 'Money Heist', 'Never Have I Ever', 'Outer Banks', 'Ozark', 'Reality Z', 'Rick and Morty', 'Selling Sunset', 'Snowpiercer', 'Space Force', 'Summertime', 'Sweet Magnolias', 'The 100', 'The Blacklist', 'The Boss Baby: Back in Business', 'The House of Flowers', 'The Letter for the King', 'The Order', 'The Sinner', 'The Umbrella Academy', 'The Woods', 'Too Hot to Handle', 'Toy Boy', 'Undercover', 'Unorthodox', 'Unsolved Mysteries', 'Valeria', 'Warrior Nun', 'White Lines']\n"
     ]
    }
   ],
   "source": [
    "print(list(final_data.index))"
   ]
  },
  {
   "cell_type": "markdown",
   "metadata": {
    "ExecuteTime": {
     "end_time": "2020-11-08T13:39:19.571277Z",
     "start_time": "2020-11-08T13:39:19.563277Z"
    }
   },
   "source": [
    "<h2> <b> This fuction help to find out similar movies (RE) </b> </h2>"
   ]
  },
  {
   "cell_type": "code",
   "execution_count": 64,
   "metadata": {
    "ExecuteTime": {
     "end_time": "2020-11-17T12:15:47.191104Z",
     "start_time": "2020-11-17T12:15:47.090028Z"
    }
   },
   "outputs": [],
   "source": [
    "def movie_re(similar_movie_list,data_ready):\n",
    "    print(\"Note: please do not make any spelling mistake to enter movie name or Tv show name  just copy and paste from above list \\n \")\n",
    "    x=input(\"Enter movie or TV show from  the above list := \")\n",
    "    \n",
    "    df=final_data.loc[x,:].to_frame()\n",
    "    df=df.sort_values(by=x,ascending=False,axis=0)\n",
    "    df=df.loc[df[x]>0.3]\n",
    "    df['title'] = df.index\n",
    "    df.reset_index(0,drop=True, inplace=True)\n",
    "    df= pd.merge(df, data_ready.loc[:,['title','show_type']],how='inner', on=['title'])\n",
    "    df.drop(df.loc[df['title']==x].index, inplace=True)\n",
    "    df.reset_index(0,drop=True,inplace=True)\n",
    "    \n",
    "    df=df[['title','show_type',x]]\n",
    "    \n",
    "    return df"
   ]
  },
  {
   "cell_type": "code",
   "execution_count": 65,
   "metadata": {
    "ExecuteTime": {
     "end_time": "2020-11-17T12:15:59.580574Z",
     "start_time": "2020-11-17T12:15:47.194104Z"
    }
   },
   "outputs": [
    {
     "name": "stdout",
     "output_type": "stream",
     "text": [
      "Note: please do not make any spelling mistake to enter movie name or Tv show name  just copy and paste from above list \n",
      " \n",
      "Enter movie or TV show from  the above list := Toy Boy\n"
     ]
    },
    {
     "data": {
      "text/html": [
       "<div>\n",
       "<style scoped>\n",
       "    .dataframe tbody tr th:only-of-type {\n",
       "        vertical-align: middle;\n",
       "    }\n",
       "\n",
       "    .dataframe tbody tr th {\n",
       "        vertical-align: top;\n",
       "    }\n",
       "\n",
       "    .dataframe thead th {\n",
       "        text-align: right;\n",
       "    }\n",
       "</style>\n",
       "<table border=\"1\" class=\"dataframe\">\n",
       "  <thead>\n",
       "    <tr style=\"text-align: right;\">\n",
       "      <th></th>\n",
       "      <th>title</th>\n",
       "      <th>show_type</th>\n",
       "      <th>Toy Boy</th>\n",
       "    </tr>\n",
       "  </thead>\n",
       "  <tbody>\n",
       "    <tr>\n",
       "      <th>0</th>\n",
       "      <td>Uncut Gems</td>\n",
       "      <td>Movie</td>\n",
       "      <td>3.13</td>\n",
       "    </tr>\n",
       "    <tr>\n",
       "      <th>1</th>\n",
       "      <td>Elite</td>\n",
       "      <td>TV Show</td>\n",
       "      <td>3.13</td>\n",
       "    </tr>\n",
       "    <tr>\n",
       "      <th>2</th>\n",
       "      <td>The Blacklist</td>\n",
       "      <td>TV Show</td>\n",
       "      <td>3.12</td>\n",
       "    </tr>\n",
       "    <tr>\n",
       "      <th>3</th>\n",
       "      <td>The Sinner</td>\n",
       "      <td>TV Show</td>\n",
       "      <td>3.10</td>\n",
       "    </tr>\n",
       "    <tr>\n",
       "      <th>4</th>\n",
       "      <td>Zodiac</td>\n",
       "      <td>Movie</td>\n",
       "      <td>3.06</td>\n",
       "    </tr>\n",
       "    <tr>\n",
       "      <th>5</th>\n",
       "      <td>Ozark</td>\n",
       "      <td>TV Show</td>\n",
       "      <td>3.05</td>\n",
       "    </tr>\n",
       "    <tr>\n",
       "      <th>6</th>\n",
       "      <td>Wind River</td>\n",
       "      <td>Movie</td>\n",
       "      <td>3.04</td>\n",
       "    </tr>\n",
       "    <tr>\n",
       "      <th>7</th>\n",
       "      <td>Undercover</td>\n",
       "      <td>TV Show</td>\n",
       "      <td>3.03</td>\n",
       "    </tr>\n",
       "    <tr>\n",
       "      <th>8</th>\n",
       "      <td>A Simple Favor</td>\n",
       "      <td>Movie</td>\n",
       "      <td>2.97</td>\n",
       "    </tr>\n",
       "    <tr>\n",
       "      <th>9</th>\n",
       "      <td>The Woods</td>\n",
       "      <td>TV Show</td>\n",
       "      <td>2.93</td>\n",
       "    </tr>\n",
       "    <tr>\n",
       "      <th>10</th>\n",
       "      <td>Marcella</td>\n",
       "      <td>TV Show</td>\n",
       "      <td>2.79</td>\n",
       "    </tr>\n",
       "    <tr>\n",
       "      <th>11</th>\n",
       "      <td>Sicario: Day Of The Soldado</td>\n",
       "      <td>Movie</td>\n",
       "      <td>2.78</td>\n",
       "    </tr>\n",
       "    <tr>\n",
       "      <th>12</th>\n",
       "      <td>White Lines</td>\n",
       "      <td>TV Show</td>\n",
       "      <td>2.65</td>\n",
       "    </tr>\n",
       "    <tr>\n",
       "      <th>13</th>\n",
       "      <td>Intuition</td>\n",
       "      <td>Movie</td>\n",
       "      <td>2.65</td>\n",
       "    </tr>\n",
       "    <tr>\n",
       "      <th>14</th>\n",
       "      <td>Focus</td>\n",
       "      <td>Movie</td>\n",
       "      <td>2.62</td>\n",
       "    </tr>\n",
       "    <tr>\n",
       "      <th>15</th>\n",
       "      <td>The Occupant</td>\n",
       "      <td>Movie</td>\n",
       "      <td>2.53</td>\n",
       "    </tr>\n",
       "    <tr>\n",
       "      <th>16</th>\n",
       "      <td>Lost Bullet</td>\n",
       "      <td>Movie</td>\n",
       "      <td>2.52</td>\n",
       "    </tr>\n",
       "    <tr>\n",
       "      <th>17</th>\n",
       "      <td>The Crimes That Bind</td>\n",
       "      <td>Movie</td>\n",
       "      <td>2.49</td>\n",
       "    </tr>\n",
       "    <tr>\n",
       "      <th>18</th>\n",
       "      <td>Spenser Confidential</td>\n",
       "      <td>Movie</td>\n",
       "      <td>2.48</td>\n",
       "    </tr>\n",
       "    <tr>\n",
       "      <th>19</th>\n",
       "      <td>Parker</td>\n",
       "      <td>Movie</td>\n",
       "      <td>2.42</td>\n",
       "    </tr>\n",
       "    <tr>\n",
       "      <th>20</th>\n",
       "      <td>The Kitchen</td>\n",
       "      <td>Movie</td>\n",
       "      <td>2.13</td>\n",
       "    </tr>\n",
       "  </tbody>\n",
       "</table>\n",
       "</div>"
      ],
      "text/plain": [
       "                          title show_type  Toy Boy\n",
       "0                    Uncut Gems     Movie     3.13\n",
       "1                         Elite   TV Show     3.13\n",
       "2                 The Blacklist   TV Show     3.12\n",
       "3                    The Sinner   TV Show     3.10\n",
       "4                        Zodiac     Movie     3.06\n",
       "5                         Ozark   TV Show     3.05\n",
       "6                    Wind River     Movie     3.04\n",
       "7                    Undercover   TV Show     3.03\n",
       "8                A Simple Favor     Movie     2.97\n",
       "9                     The Woods   TV Show     2.93\n",
       "10                     Marcella   TV Show     2.79\n",
       "11  Sicario: Day Of The Soldado     Movie     2.78\n",
       "12                  White Lines   TV Show     2.65\n",
       "13                    Intuition     Movie     2.65\n",
       "14                        Focus     Movie     2.62\n",
       "15                 The Occupant     Movie     2.53\n",
       "16                  Lost Bullet     Movie     2.52\n",
       "17         The Crimes That Bind     Movie     2.49\n",
       "18         Spenser Confidential     Movie     2.48\n",
       "19                       Parker     Movie     2.42\n",
       "20                  The Kitchen     Movie     2.13"
      ]
     },
     "execution_count": 65,
     "metadata": {},
     "output_type": "execute_result"
    }
   ],
   "source": [
    "movie_re(final_data,data_ready)"
   ]
  },
  {
   "cell_type": "code",
   "execution_count": null,
   "metadata": {},
   "outputs": [],
   "source": []
  }
 ],
 "metadata": {
  "kernelspec": {
   "display_name": "Python 3",
   "language": "python",
   "name": "python3"
  },
  "language_info": {
   "codemirror_mode": {
    "name": "ipython",
    "version": 3
   },
   "file_extension": ".py",
   "mimetype": "text/x-python",
   "name": "python",
   "nbconvert_exporter": "python",
   "pygments_lexer": "ipython3",
   "version": "3.8.5"
  },
  "toc": {
   "base_numbering": 1,
   "nav_menu": {
    "height": "247px",
    "width": "324px"
   },
   "number_sections": true,
   "sideBar": true,
   "skip_h1_title": false,
   "title_cell": "Table of Contents",
   "title_sidebar": "Contents",
   "toc_cell": false,
   "toc_position": {
    "height": "445px",
    "left": "39px",
    "top": "110.047px",
    "width": "165px"
   },
   "toc_section_display": true,
   "toc_window_display": true
  }
 },
 "nbformat": 4,
 "nbformat_minor": 4
}
