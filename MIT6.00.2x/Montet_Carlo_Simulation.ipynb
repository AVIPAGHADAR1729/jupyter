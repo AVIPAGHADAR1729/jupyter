{
 "cells": [
  {
   "cell_type": "code",
   "execution_count": 4,
   "metadata": {
    "ExecuteTime": {
     "end_time": "2020-06-03T17:43:02.233205Z",
     "start_time": "2020-06-03T17:43:02.224843Z"
    }
   },
   "outputs": [],
   "source": [
    " import random"
   ]
  },
  {
   "cell_type": "code",
   "execution_count": 5,
   "metadata": {
    "ExecuteTime": {
     "end_time": "2020-06-03T17:43:02.702848Z",
     "start_time": "2020-06-03T17:43:02.689958Z"
    }
   },
   "outputs": [],
   "source": [
    "def fun(m1):\n",
    "    z=''\n",
    "    for i in m1:\n",
    "        z=z+str(i)\n",
    "    if(z=='rrr' or z=='bbb'):\n",
    "        return True\n",
    "    return False"
   ]
  },
  {
   "cell_type": "code",
   "execution_count": null,
   "metadata": {},
   "outputs": [],
   "source": []
  },
  {
   "cell_type": "code",
   "execution_count": 6,
   "metadata": {
    "ExecuteTime": {
     "end_time": "2020-06-03T17:43:03.610728Z",
     "start_time": "2020-06-03T17:43:03.584751Z"
    }
   },
   "outputs": [],
   "source": [
    "def noReplacementSimulation(numTrials):\n",
    "    '''\n",
    "    Runs numTrials trials of a Monte Carlo simulation\n",
    "    of drawing 3 balls out of a bucket containing\n",
    "    3 red and 3 green balls. Balls are not replaced once\n",
    "    drawn. Returns the a decimal - the fraction of times 3 \n",
    "    balls of the same color were drawn.\n",
    "    '''\n",
    "\n",
    "    # Your code here\n",
    "   \n",
    "    v=0\n",
    "    \n",
    "    for i in range(numTrials):\n",
    "        m = []\n",
    "        l1 = ['r', 'r', 'r', 'b', 'b', 'b']\n",
    "        for i in range(3):\n",
    "            x = random.choice(l1)\n",
    "            m.append(x)\n",
    "            l1.pop(l1.index(x))\n",
    "        if(fun(m)):\n",
    "            v=v+1\n",
    "    p=float(v)/float(numTrials)       \n",
    "    return p\n",
    "    "
   ]
  },
  {
   "cell_type": "code",
   "execution_count": 10,
   "metadata": {
    "ExecuteTime": {
     "end_time": "2020-06-03T17:43:39.894852Z",
     "start_time": "2020-06-03T17:43:33.332409Z"
    }
   },
   "outputs": [
    {
     "name": "stdout",
     "output_type": "stream",
     "text": [
      "0.100232\n"
     ]
    }
   ],
   "source": [
    "print(noReplacementSimulation(500000))\n",
    "\n"
   ]
  },
  {
   "cell_type": "code",
   "execution_count": null,
   "metadata": {
    "ExecuteTime": {
     "end_time": "2020-06-01T09:44:36.652322Z",
     "start_time": "2020-06-01T09:44:36.633381Z"
    }
   },
   "outputs": [],
   "source": []
  },
  {
   "cell_type": "code",
   "execution_count": 198,
   "metadata": {
    "ExecuteTime": {
     "end_time": "2020-06-01T13:54:31.406286Z",
     "start_time": "2020-06-01T13:54:31.395560Z"
    }
   },
   "outputs": [],
   "source": [
    "def bio(l1):\n",
    "    a=0\n",
    "    for i in range(len(l1)):\n",
    "        if(a<l1[i]):\n",
    "            a=l1[i]\n",
    "    return a"
   ]
  },
  {
   "cell_type": "code",
   "execution_count": 207,
   "metadata": {
    "ExecuteTime": {
     "end_time": "2020-06-01T13:57:41.789063Z",
     "start_time": "2020-06-01T13:57:41.765152Z"
    }
   },
   "outputs": [],
   "source": [
    "def fx(l1,b):\n",
    "    for i in range(b):\n",
    "        c=bio(l1)\n",
    "        print(c)\n",
    "        l1.remove(c)\n",
    "        print(l1)"
   ]
  },
  {
   "cell_type": "code",
   "execution_count": 208,
   "metadata": {
    "ExecuteTime": {
     "end_time": "2020-06-01T13:57:43.807878Z",
     "start_time": "2020-06-01T13:57:43.786400Z"
    }
   },
   "outputs": [
    {
     "name": "stdout",
     "output_type": "stream",
     "text": [
      "10\n",
      "[5, 6, 2, 3, 4]\n",
      "6\n",
      "[5, 2, 3, 4]\n"
     ]
    }
   ],
   "source": [
    "l1=[5,6,2,3,4,10]\n",
    "(fx(l1,2))"
   ]
  },
  {
   "cell_type": "code",
   "execution_count": null,
   "metadata": {},
   "outputs": [],
   "source": []
  },
  {
   "cell_type": "code",
   "execution_count": null,
   "metadata": {},
   "outputs": [],
   "source": []
  }
 ],
 "metadata": {
  "kernelspec": {
   "display_name": "Python 3",
   "language": "python",
   "name": "python3"
  },
  "language_info": {
   "codemirror_mode": {
    "name": "ipython",
    "version": 3
   },
   "file_extension": ".py",
   "mimetype": "text/x-python",
   "name": "python",
   "nbconvert_exporter": "python",
   "pygments_lexer": "ipython3",
   "version": "3.7.6"
  },
  "toc": {
   "base_numbering": 1,
   "nav_menu": {},
   "number_sections": true,
   "sideBar": true,
   "skip_h1_title": false,
   "title_cell": "Table of Contents",
   "title_sidebar": "Contents",
   "toc_cell": false,
   "toc_position": {},
   "toc_section_display": true,
   "toc_window_display": false
  }
 },
 "nbformat": 4,
 "nbformat_minor": 4
}
