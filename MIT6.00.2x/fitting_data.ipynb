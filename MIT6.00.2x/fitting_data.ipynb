{
 "cells": [
  {
   "cell_type": "code",
   "execution_count": 6,
   "metadata": {
    "ExecuteTime": {
     "end_time": "2020-06-08T13:03:07.793489Z",
     "start_time": "2020-06-08T13:03:07.787724Z"
    }
   },
   "outputs": [],
   "source": [
    "import pylab, random"
   ]
  },
  {
   "cell_type": "code",
   "execution_count": 8,
   "metadata": {
    "ExecuteTime": {
     "end_time": "2020-06-08T13:05:17.016200Z",
     "start_time": "2020-06-08T13:05:16.949321Z"
    }
   },
   "outputs": [
    {
     "ename": "FileNotFoundError",
     "evalue": "[Errno 2] No such file or directory: 'springData.txt'",
     "output_type": "error",
     "traceback": [
      "\u001b[1;31m---------------------------------------------------------------------------\u001b[0m",
      "\u001b[1;31mFileNotFoundError\u001b[0m                         Traceback (most recent call last)",
      "\u001b[1;32m<ipython-input-8-90f06113ee54>\u001b[0m in \u001b[0;36m<module>\u001b[1;34m\u001b[0m\n\u001b[0;32m     21\u001b[0m     \u001b[0mpylab\u001b[0m\u001b[1;33m.\u001b[0m\u001b[0mylabel\u001b[0m\u001b[1;33m(\u001b[0m\u001b[1;34m'Distance (meters)'\u001b[0m\u001b[1;33m)\u001b[0m\u001b[1;33m\u001b[0m\u001b[1;33m\u001b[0m\u001b[0m\n\u001b[0;32m     22\u001b[0m \u001b[1;33m\u001b[0m\u001b[0m\n\u001b[1;32m---> 23\u001b[1;33m \u001b[0mplotData\u001b[0m\u001b[1;33m(\u001b[0m\u001b[1;34m'springData.txt'\u001b[0m\u001b[1;33m)\u001b[0m\u001b[1;33m\u001b[0m\u001b[1;33m\u001b[0m\u001b[0m\n\u001b[0m\u001b[0;32m     24\u001b[0m \u001b[0mpylab\u001b[0m\u001b[1;33m.\u001b[0m\u001b[0mshow\u001b[0m\u001b[1;33m(\u001b[0m\u001b[1;33m)\u001b[0m\u001b[1;33m\u001b[0m\u001b[1;33m\u001b[0m\u001b[0m\n",
      "\u001b[1;32m<ipython-input-8-90f06113ee54>\u001b[0m in \u001b[0;36mplotData\u001b[1;34m(fileName)\u001b[0m\n\u001b[0;32m     12\u001b[0m \u001b[1;33m\u001b[0m\u001b[0m\n\u001b[0;32m     13\u001b[0m \u001b[1;32mdef\u001b[0m \u001b[0mplotData\u001b[0m\u001b[1;33m(\u001b[0m\u001b[0mfileName\u001b[0m\u001b[1;33m)\u001b[0m\u001b[1;33m:\u001b[0m\u001b[1;33m\u001b[0m\u001b[1;33m\u001b[0m\u001b[0m\n\u001b[1;32m---> 14\u001b[1;33m     \u001b[0mxVals\u001b[0m\u001b[1;33m,\u001b[0m \u001b[0myVals\u001b[0m \u001b[1;33m=\u001b[0m \u001b[0mgetData\u001b[0m\u001b[1;33m(\u001b[0m\u001b[0mfileName\u001b[0m\u001b[1;33m)\u001b[0m\u001b[1;33m\u001b[0m\u001b[1;33m\u001b[0m\u001b[0m\n\u001b[0m\u001b[0;32m     15\u001b[0m     \u001b[0mxVals\u001b[0m \u001b[1;33m=\u001b[0m \u001b[0mpylab\u001b[0m\u001b[1;33m.\u001b[0m\u001b[0marray\u001b[0m\u001b[1;33m(\u001b[0m\u001b[0mxVals\u001b[0m\u001b[1;33m)\u001b[0m\u001b[1;33m\u001b[0m\u001b[1;33m\u001b[0m\u001b[0m\n\u001b[0;32m     16\u001b[0m     \u001b[0myVals\u001b[0m \u001b[1;33m=\u001b[0m \u001b[0mpylab\u001b[0m\u001b[1;33m.\u001b[0m\u001b[0marray\u001b[0m\u001b[1;33m(\u001b[0m\u001b[0myVals\u001b[0m\u001b[1;33m)\u001b[0m\u001b[1;33m\u001b[0m\u001b[1;33m\u001b[0m\u001b[0m\n",
      "\u001b[1;32m<ipython-input-8-90f06113ee54>\u001b[0m in \u001b[0;36mgetData\u001b[1;34m(fileName)\u001b[0m\n\u001b[0;32m      1\u001b[0m \u001b[1;32mdef\u001b[0m \u001b[0mgetData\u001b[0m\u001b[1;33m(\u001b[0m\u001b[0mfileName\u001b[0m\u001b[1;33m)\u001b[0m\u001b[1;33m:\u001b[0m\u001b[1;33m\u001b[0m\u001b[1;33m\u001b[0m\u001b[0m\n\u001b[1;32m----> 2\u001b[1;33m     \u001b[0mdataFile\u001b[0m \u001b[1;33m=\u001b[0m \u001b[0mopen\u001b[0m\u001b[1;33m(\u001b[0m\u001b[0mfileName\u001b[0m\u001b[1;33m,\u001b[0m \u001b[1;34m'r'\u001b[0m\u001b[1;33m)\u001b[0m\u001b[1;33m\u001b[0m\u001b[1;33m\u001b[0m\u001b[0m\n\u001b[0m\u001b[0;32m      3\u001b[0m     \u001b[0mdistances\u001b[0m \u001b[1;33m=\u001b[0m \u001b[1;33m[\u001b[0m\u001b[1;33m]\u001b[0m\u001b[1;33m\u001b[0m\u001b[1;33m\u001b[0m\u001b[0m\n\u001b[0;32m      4\u001b[0m     \u001b[0mmasses\u001b[0m \u001b[1;33m=\u001b[0m \u001b[1;33m[\u001b[0m\u001b[1;33m]\u001b[0m\u001b[1;33m\u001b[0m\u001b[1;33m\u001b[0m\u001b[0m\n\u001b[0;32m      5\u001b[0m     \u001b[0mdiscardHeader\u001b[0m \u001b[1;33m=\u001b[0m \u001b[0mdataFile\u001b[0m\u001b[1;33m.\u001b[0m\u001b[0mreadline\u001b[0m\u001b[1;33m(\u001b[0m\u001b[1;33m)\u001b[0m\u001b[1;33m\u001b[0m\u001b[1;33m\u001b[0m\u001b[0m\n",
      "\u001b[1;31mFileNotFoundError\u001b[0m: [Errno 2] No such file or directory: 'springData.txt'"
     ]
    }
   ],
   "source": [
    "def getData(fileName):\n",
    "    dataFile = open(fileName, 'r')\n",
    "    distances = []\n",
    "    masses = []\n",
    "    discardHeader = dataFile.readline()\n",
    "    for line in dataFile:\n",
    "        d, m = line.split()\n",
    "        distances.append(float(d))\n",
    "        masses.append(float(m))\n",
    "    dataFile.close()\n",
    "    return (masses, distances)\n",
    "\n",
    "def plotData(fileName):\n",
    "    xVals, yVals = getData(fileName)\n",
    "    xVals = pylab.array(xVals)\n",
    "    yVals = pylab.array(yVals)\n",
    "    xVals = xVals*9.81 # convert mass to force (F = mg)\n",
    "    pylab.plot(xVals, yVals, 'bo', label = 'Measured displacements')\n",
    "    pylab.title('Measured Displacement of Spring')\n",
    "    pylab.xlabel('Force (Newtons)')\n",
    "    pylab.ylabel('Distance (meters)')\n",
    "\n",
    "plotData('springData.txt')\n",
    "pylab.show()\n"
   ]
  },
  {
   "cell_type": "code",
   "execution_count": null,
   "metadata": {},
   "outputs": [],
   "source": [
    "def testErrors(ntrials=10000,npts=100):\n",
    "    results = [0] * ntrials\n",
    "    for i in range(ntrials):\n",
    "        s = 0   # sum of random points\n",
    "        for j in range(npts):\n",
    "            s += random.triangular(-1,1)\n",
    "        results[i] =s\n",
    "    # plot results in a histogram\n",
    "    pylab.hist(results,bins=50)\n",
    "    pylab.title('Sum of 100 random points -- Triangular PDF (10,000 trials)')\n",
    "    pylab.xlabel('Sum')\n",
    "    pylab.ylabel('Number of trials')\n",
    "\n",
    "##testErrors()\n",
    "##pylab.show()\n"
   ]
  },
  {
   "cell_type": "code",
   "execution_count": null,
   "metadata": {},
   "outputs": [],
   "source": [
    "def fitData(fileName):\n",
    "    xVals, yVals = getData(fileName)\n",
    "    xVals = pylab.array(xVals)\n",
    "    yVals = pylab.array(yVals)\n",
    "    xVals = xVals*9.81  # convert mass to force (F = mg)\n",
    "    pylab.plot(xVals, yVals, 'bo', label = 'Measured points')\n",
    "    pylab.title('Measured Displacement of Spring')\n",
    "    pylab.xlabel('Force (Newtons)')\n",
    "    pylab.ylabel('Distance (meters)')\n",
    "    a,b = pylab.polyfit(xVals, yVals, 1)  # fit y = ax + b\n",
    "    # use line equation to graph predicted values\n",
    "    estYVals = a*xVals + b\n",
    "    k = 1/a\n",
    "    pylab.plot(xVals, estYVals, label = 'Linear fit, k = '\n",
    "               + str(round(k, 5)))\n",
    "    pylab.legend(loc = 'best')\n",
    "\n",
    "##fitData('springData.txt')\n",
    "##pylab.show()\n"
   ]
  },
  {
   "cell_type": "code",
   "execution_count": null,
   "metadata": {},
   "outputs": [],
   "source": [
    "def fitData1(fileName):\n",
    "    xVals, yVals = getData(fileName)\n",
    "    xVals = pylab.array(xVals)\n",
    "    yVals = pylab.array(yVals)\n",
    "    xVals = xVals*9.81  # convert mass to force (F = mg)\n",
    "    pylab.plot(xVals, yVals, 'bo', label = 'Measured displacements')\n",
    "    pylab.title('Measured Displacement of Spring')\n",
    "    pylab.xlabel('|Force| (Newtons)')\n",
    "    pylab.ylabel('Distance (meters)')\n",
    "    a,b = pylab.polyfit(xVals, yVals, 1)\n",
    "    estYVals = a*xVals + b\n",
    "    pylab.plot(xVals, estYVals, label = 'Linear fit')\n",
    "    a,b,c,d = pylab.polyfit(xVals, yVals, 3)\n",
    "    estYVals = a*(xVals**3) + b*xVals**2 + c*xVals + d\n",
    "    pylab.plot(xVals, estYVals, label = 'Cubic fit')\n",
    "    pylab.legend(loc = 'best')\n",
    "\n",
    "##fitData1('springData.txt')\n",
    "##pylab.show()\n"
   ]
  },
  {
   "cell_type": "code",
   "execution_count": null,
   "metadata": {},
   "outputs": [],
   "source": []
  },
  {
   "cell_type": "code",
   "execution_count": null,
   "metadata": {},
   "outputs": [],
   "source": [
    "def fitData2(fileName):\n",
    "    xVals, yVals = getData(fileName)\n",
    "    extX = pylab.array(xVals + [1.05, 1.1, 1.15, 1.2, 1.25])\n",
    "    xVals = pylab.array(xVals)\n",
    "    yVals = pylab.array(yVals)\n",
    "    xVals = xVals*9.81  # convert mass to force (F = mg)\n",
    "    extX = extX*9.81    # convert mass to force (F = mg)\n",
    "    pylab.plot(xVals, yVals, 'bo', label = 'Measured displacements')\n",
    "    pylab.title('Measured Displacement of Spring')\n",
    "    pylab.xlabel('|Force| (Newtons)')\n",
    "    pylab.ylabel('Distance (meters)')\n",
    "    a,b = pylab.polyfit(xVals, yVals, 1)\n",
    "    estYVals = a*extX + b\n",
    "    pylab.plot(extX, estYVals, label = 'Linear fit')\n",
    "    a,b,c,d = pylab.polyfit(xVals, yVals, 3)\n",
    "    estYVals = a*(extX**3) + b*extX**2 + c*extX + d\n",
    "    pylab.plot(extX, estYVals, label = 'Cubic fit')\n",
    "    pylab.legend(loc = 'best')\n",
    "\n",
    "##fitData2('springData.txt')\n",
    "##pylab.show()"
   ]
  },
  {
   "cell_type": "code",
   "execution_count": null,
   "metadata": {},
   "outputs": [],
   "source": [
    "def fitData3(fileName):\n",
    "    xVals, yVals = getData(fileName)\n",
    "    xVals = pylab.array(xVals[:-6])\n",
    "    yVals = pylab.array(yVals[:-6])\n",
    "    xVals = xVals*9.81  # convert mass to force (F = mg)\n",
    "    pylab.plot(xVals, yVals, 'bo', label = 'Measured points')\n",
    "    pylab.title('Measured Displacement of Spring')\n",
    "    pylab.xlabel('Force (Newtons)')\n",
    "    pylab.ylabel('Distance (meters)')\n",
    "    a,b = pylab.polyfit(xVals, yVals, 1)  # fix y = ax + b\n",
    "    # use line equation to graph predicted values\n",
    "    estYVals = a*xVals + b\n",
    "    k = 1/a\n",
    "    pylab.plot(xVals, estYVals, label = 'Linear fit, k = '\n",
    "               + str(round(k, 5)))\n",
    "    pylab.legend(loc = 'best')\n",
    "\n",
    "##fitData3('springData.txt')\n",
    "##pylab.show()\n"
   ]
  },
  {
   "cell_type": "code",
   "execution_count": null,
   "metadata": {},
   "outputs": [],
   "source": [
    "def getTrajectoryData(fileName):\n",
    "    dataFile = open(fileName, 'r')\n",
    "    distances = []\n",
    "    heights1, heights2, heights3, heights4 = [],[],[],[]\n",
    "    discardHeader = dataFile.readline()\n",
    "    for line in dataFile:\n",
    "        d, h1, h2, h3, h4 = line.split()\n",
    "        distances.append(float(d))\n",
    "        heights1.append(float(h1))\n",
    "        heights2.append(float(h2))\n",
    "        heights3.append(float(h3))\n",
    "        heights4.append(float(h4))\n",
    "    dataFile.close()\n",
    "    return (distances, [heights1, heights2, heights3, heights4])\n",
    "\n",
    "def tryFits(fName):\n",
    "    distances, heights = getTrajectoryData(fName)\n",
    "    distances = pylab.array(distances)*36\n",
    "    totHeights = pylab.array([0]*len(distances))\n",
    "    for h in heights:\n",
    "        totHeights = totHeights + pylab.array(h)\n",
    "    pylab.title('Trajectory of Projectile (Mean of 4 Trials)')\n",
    "    pylab.xlabel('Inches from Launch Point')\n",
    "    pylab.ylabel('Inches Above Launch Point')\n",
    "    meanHeights = totHeights/float(len(heights))\n",
    "    pylab.plot(distances, meanHeights, 'bo')\n",
    "    a,b = pylab.polyfit(distances, meanHeights, 1)\n",
    "    altitudes = a*distances + b\n",
    "    pylab.plot(distances, altitudes, 'r',\n",
    "               label = 'Linear Fit')\n",
    "    a,b,c = pylab.polyfit(distances, meanHeights, 2)\n",
    "    altitudes = a*(distances**2) + b*distances + c\n",
    "    pylab.plot(distances, altitudes, 'g',\n",
    "               label = 'Quadratic Fit')\n",
    "    pylab.legend()\n",
    "\n",
    "##tryFits('launcherData.txt')\n",
    "##pylab.show()\n"
   ]
  },
  {
   "cell_type": "code",
   "execution_count": 5,
   "metadata": {
    "ExecuteTime": {
     "end_time": "2020-06-08T13:02:21.928611Z",
     "start_time": "2020-06-08T13:02:21.796462Z"
    }
   },
   "outputs": [],
   "source": [
    "def rSquare(measured, estimated):\n",
    "    \"\"\"measured: one dimensional array of measured values\n",
    "       estimate: one dimensional array of predicted values\"\"\"\n",
    "    SEE = ((estimated - measured)**2).sum()\n",
    "    mMean = measured.sum()/float(len(measured))\n",
    "    MV = ((mMean - measured)**2).sum()\n",
    "    return 1 - SEE/MV\n",
    "\n",
    "\n",
    "def tryFits1(fName):\n",
    "    distances, heights = getTrajectoryData(fName)\n",
    "    distances = pylab.array(distances)*36\n",
    "    totHeights = pylab.array([0]*len(distances))\n",
    "    for h in heights:\n",
    "        totHeights = totHeights + pylab.array(h)\n",
    "    pylab.title('Trajectory of Projectile (Mean of 4 Trials)')\n",
    "    pylab.xlabel('Inches from Launch Point')\n",
    "    pylab.ylabel('Inches Above Launch Point')\n",
    "    meanHeights = totHeights/float(len(heights))\n",
    "    pylab.plot(distances, meanHeights, 'bo')\n",
    "    a, b = pylab.polyfit(distances, meanHeights, 1)\n",
    "    altitudes = a*distances + b\n",
    "    pylab.plot(distances, altitudes, 'r',\n",
    "               label='Linear Fit' + ', R2 = '\n",
    "               + str(round(rSquare(meanHeights, altitudes), 4)))\n",
    "    a, b, c = pylab.polyfit(distances, meanHeights, 2)\n",
    "    altitudes = a*(distances**2) + b*distances + c\n",
    "    pylab.plot(distances, altitudes, 'g',\n",
    "               label='Quadratic Fit' + ', R2 = '\n",
    "               + str(round(rSquare(meanHeights, altitudes), 4)))\n",
    "    pylab.legend()\n",
    "\n",
    "\n",
    "# tryFits1('launcherData.txt')\n",
    "pylab.show()"
   ]
  },
  {
   "cell_type": "code",
   "execution_count": null,
   "metadata": {},
   "outputs": [],
   "source": []
  }
 ],
 "metadata": {
  "kernelspec": {
   "display_name": "Python 3",
   "language": "python",
   "name": "python3"
  },
  "language_info": {
   "codemirror_mode": {
    "name": "ipython",
    "version": 3
   },
   "file_extension": ".py",
   "mimetype": "text/x-python",
   "name": "python",
   "nbconvert_exporter": "python",
   "pygments_lexer": "ipython3",
   "version": "3.7.6"
  },
  "toc": {
   "base_numbering": 1,
   "nav_menu": {},
   "number_sections": true,
   "sideBar": true,
   "skip_h1_title": false,
   "title_cell": "Table of Contents",
   "title_sidebar": "Contents",
   "toc_cell": false,
   "toc_position": {},
   "toc_section_display": true,
   "toc_window_display": false
  }
 },
 "nbformat": 4,
 "nbformat_minor": 4
}
