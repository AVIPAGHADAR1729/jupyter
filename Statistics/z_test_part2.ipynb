{
 "cells": [
  {
   "cell_type": "code",
   "execution_count": 5,
   "metadata": {
    "ExecuteTime": {
     "end_time": "2020-07-21T10:16:19.292880Z",
     "start_time": "2020-07-21T10:16:19.259095Z"
    }
   },
   "outputs": [],
   "source": [
    "import numpy as np\n",
    "import statsmodels.api as sm\n",
    "import statsmodels.stats as ss\n",
    "import scipy.stats as st \n",
    "import seaborn as sns"
   ]
  },
  {
   "cell_type": "markdown",
   "metadata": {},
   "source": [
    "<b> Example 1: Death Penalty </b>\n",
    "<p> n=1000 </p>\n",
    "<p> H0=0.64 belive in death penalty  </p>\n",
    "<p> ha!=64 change in rate </p>\n",
    "<p> phat=675 </p>"
   ]
  },
  {
   "cell_type": "code",
   "execution_count": 24,
   "metadata": {
    "ExecuteTime": {
     "end_time": "2020-07-21T10:32:05.673383Z",
     "start_time": "2020-07-21T10:32:05.656765Z"
    }
   },
   "outputs": [],
   "source": [
    "n=1000\n",
    "phat=675/n\n",
    "pnull=0.64"
   ]
  },
  {
   "cell_type": "code",
   "execution_count": 25,
   "metadata": {
    "ExecuteTime": {
     "end_time": "2020-07-21T10:32:06.623102Z",
     "start_time": "2020-07-21T10:32:06.603528Z"
    }
   },
   "outputs": [
    {
     "data": {
      "text/plain": [
       "(2.363058523195224, 0.009062403575344683)"
      ]
     },
     "execution_count": 25,
     "metadata": {},
     "output_type": "execute_result"
    }
   ],
   "source": [
    "sm.stats.proportions_ztest(phat * n, n, pnull, alternative='larger')"
   ]
  },
  {
   "cell_type": "code",
   "execution_count": 22,
   "metadata": {
    "ExecuteTime": {
     "end_time": "2020-07-21T10:31:28.253219Z",
     "start_time": "2020-07-21T10:31:28.223441Z"
    }
   },
   "outputs": [
    {
     "ename": "AttributeError",
     "evalue": "module 'statsmodels.api' has no attribute 'proportions_ztest'",
     "output_type": "error",
     "traceback": [
      "\u001b[1;31m---------------------------------------------------------------------------\u001b[0m",
      "\u001b[1;31mAttributeError\u001b[0m                            Traceback (most recent call last)",
      "\u001b[1;32m<ipython-input-22-87fc66f2446a>\u001b[0m in \u001b[0;36m<module>\u001b[1;34m\u001b[0m\n\u001b[1;32m----> 1\u001b[1;33m \u001b[0msm\u001b[0m\u001b[1;33m.\u001b[0m\u001b[0mproportions_ztest\u001b[0m\u001b[1;33m(\u001b[0m\u001b[0mphat\u001b[0m\u001b[1;33m*\u001b[0m\u001b[0mn\u001b[0m\u001b[1;33m,\u001b[0m\u001b[0mn\u001b[0m\u001b[1;33m,\u001b[0m\u001b[0mpnull\u001b[0m\u001b[1;33m)\u001b[0m\u001b[1;33m\u001b[0m\u001b[1;33m\u001b[0m\u001b[0m\n\u001b[0m",
      "\u001b[1;31mAttributeError\u001b[0m: module 'statsmodels.api' has no attribute 'proportions_ztest'"
     ]
    }
   ],
   "source": [
    "sm.proportions_ztest(phat*n,n,pnull)"
   ]
  },
  {
   "cell_type": "code",
   "execution_count": null,
   "metadata": {},
   "outputs": [],
   "source": [
    "# fail to reject the null hypothesis"
   ]
  },
  {
   "cell_type": "markdown",
   "metadata": {},
   "source": [
    "<b>Difference in Population Proportions </b>"
   ]
  },
  {
   "cell_type": "markdown",
   "metadata": {
    "ExecuteTime": {
     "end_time": "2020-07-21T08:08:38.045337Z",
     "start_time": "2020-07-21T08:08:38.029714Z"
    }
   },
   "source": [
    "<p> A nutritionist claims that the proportion of individuals who have at most an eighth-grade\n",
    "education and consume more than the USDA’s\n",
    "recommended daily allowance of 300 mg of cholesterol is higher than the proportion of individuals \n",
    "who have at least some college and consume too much cholesterol.\n",
    "In interviews with 320 individuals who have at most an eighth-grade education, \n",
    "she determined that 114 of them consumed too much cholesterol. \n",
    "In interviews with 350 individuals with at least some college, \n",
    "she determined that 112 of them consumed too much cholesterol per day.</p>"
   ]
  },
  {
   "cell_type": "code",
   "execution_count": 14,
   "metadata": {
    "ExecuteTime": {
     "end_time": "2020-07-21T08:05:44.863066Z",
     "start_time": "2020-07-21T08:05:44.847431Z"
    }
   },
   "outputs": [],
   "source": [
    "#H0: p1=p2\n",
    "#H1:p1>p2"
   ]
  },
  {
   "cell_type": "code",
   "execution_count": 15,
   "metadata": {
    "ExecuteTime": {
     "end_time": "2020-07-21T08:05:45.643032Z",
     "start_time": "2020-07-21T08:05:45.611784Z"
    }
   },
   "outputs": [],
   "source": [
    "n1 = 320\n",
    "x1=114\n",
    "p1 = 114/320\n",
    "n2 = 350\n",
    "x2=112\n",
    "p2 = 112/350\n",
    "p=(x1+x2)/(n1+n2)"
   ]
  },
  {
   "cell_type": "code",
   "execution_count": 16,
   "metadata": {
    "ExecuteTime": {
     "end_time": "2020-07-21T08:05:47.247037Z",
     "start_time": "2020-07-21T08:05:47.215809Z"
    }
   },
   "outputs": [
    {
     "data": {
      "text/plain": [
       "0.03656783864309892"
      ]
     },
     "execution_count": 16,
     "metadata": {},
     "output_type": "execute_result"
    }
   ],
   "source": [
    "se=np.sqrt(p*(1-p)*((1/n1)+(1/n2)))\n",
    "se"
   ]
  },
  {
   "cell_type": "code",
   "execution_count": 17,
   "metadata": {
    "ExecuteTime": {
     "end_time": "2020-07-21T08:05:51.474332Z",
     "start_time": "2020-07-21T08:05:51.443084Z"
    }
   },
   "outputs": [],
   "source": [
    "z_score=(p1-p2)/se"
   ]
  },
  {
   "cell_type": "code",
   "execution_count": 18,
   "metadata": {
    "ExecuteTime": {
     "end_time": "2020-07-21T08:05:52.232994Z",
     "start_time": "2020-07-21T08:05:52.201738Z"
    }
   },
   "outputs": [
    {
     "data": {
      "text/plain": [
       "0.9913082464019541"
      ]
     },
     "execution_count": 18,
     "metadata": {},
     "output_type": "execute_result"
    }
   ],
   "source": [
    "z_score"
   ]
  },
  {
   "cell_type": "code",
   "execution_count": 21,
   "metadata": {
    "ExecuteTime": {
     "end_time": "2020-07-21T08:06:48.634896Z",
     "start_time": "2020-07-21T08:06:48.612756Z"
    }
   },
   "outputs": [
    {
     "data": {
      "text/plain": [
       "0.16076754376205837"
      ]
     },
     "execution_count": 21,
     "metadata": {},
     "output_type": "execute_result"
    }
   ],
   "source": [
    "p_value=1-st.norm.cdf(z_score)\n",
    "p_value"
   ]
  },
  {
   "cell_type": "code",
   "execution_count": 23,
   "metadata": {
    "ExecuteTime": {
     "end_time": "2020-07-21T08:11:13.964459Z",
     "start_time": "2020-07-21T08:11:13.948833Z"
    },
    "code_folding": [
     0
    ]
   },
   "outputs": [],
   "source": [
    "# Do Not Reject the Null Hypothesis H0: p1 = p2. \n"
   ]
  },
  {
   "cell_type": "markdown",
   "metadata": {},
   "source": [
    "\n",
    "<p> T -Test one population mean </p>"
   ]
  },
  {
   "cell_type": "markdown",
   "metadata": {},
   "source": [
    "<p> Cell phones and cell phone plans can be very expensive, so consumers must think carefully when choosing a cell phone and service. This decision is as much about choosing the right cellular company as it is about choosing the right phone. Many people use the data/Internet capabilities of a phone as much as, if not more than, they use voice capability. The data service of a cell company is therefore an important factor in this decision. In the following example, a student named Melanie from Los Angeles applies what she learned in her statistics class to help her make a decision about buying a data plan for her smartphone.\n",
    "\n",
    "Melanie read an advertisement from the Cell Phone Giants (CPG, for short, and yes, we’re using a fictitious company name) that she thinks is too good to be true. The CPG ad states that customers in Los Angeles get average data download speeds of 4 Mbps. With this speed, the ad claims, it takes, on average, only 12 seconds to download a typical 3-minute song from iTunes.\n",
    "\n",
    "Only 12 seconds on average to download a 3-minute song from iTunes! Melanie has her doubts about this claim, so she gathers data to test it. She asks a friend who uses the CPG plan to download a song, and it takes 13 seconds to download a 3-minute song using the CPG network. Melanie decides to gather more evidence. She uses her friend’s phone and times the download of the same 3-minute song from various locations in Los Angeles. She gets a mean download time of 13.5 seconds for her sample of downloads.\n",
    "\n",
    "What can Melanie conclude? Her sample has a mean download time that is greater than 12 seconds. Isn’t this evidence that the CPG claim is wrong? Why is a hypothesis test necessary? Isn’t the conclusion clear?\n",
    "sample size=45 Assume\n",
    "he standard deviation for the sample is 3.2 seconds</p>"
   ]
  },
  {
   "cell_type": "code",
   "execution_count": 34,
   "metadata": {
    "ExecuteTime": {
     "end_time": "2020-07-21T08:57:57.821275Z",
     "start_time": "2020-07-21T08:57:57.774405Z"
    },
    "code_folding": [
     0
    ]
   },
   "outputs": [],
   "source": [
    "#data\n",
    "n=45\n",
    "mu=12\n",
    "x_bar=13.5\n",
    "sd=3.2\n",
    "l1=np.random.normal(mu,sd,n)\n",
    "\n"
   ]
  },
  {
   "cell_type": "code",
   "execution_count": 35,
   "metadata": {
    "ExecuteTime": {
     "end_time": "2020-07-21T09:00:35.783295Z",
     "start_time": "2020-07-21T09:00:35.745513Z"
    },
    "code_folding": [
     0
    ]
   },
   "outputs": [],
   "source": [
    "#H0:mu=12\n",
    "#H1:mu>12"
   ]
  },
  {
   "cell_type": "code",
   "execution_count": 43,
   "metadata": {
    "ExecuteTime": {
     "end_time": "2020-07-21T09:03:43.794855Z",
     "start_time": "2020-07-21T09:03:43.779249Z"
    },
    "code_folding": [
     0
    ]
   },
   "outputs": [
    {
     "data": {
      "text/plain": [
       "3.1444705933590793"
      ]
     },
     "execution_count": 43,
     "metadata": {},
     "output_type": "execute_result"
    }
   ],
   "source": [
    "#t_score\n",
    "se=sd/np.sqrt(n)\n",
    "t_score=(x_bar-mu)/se\n",
    "t_score"
   ]
  },
  {
   "cell_type": "code",
   "execution_count": 44,
   "metadata": {
    "ExecuteTime": {
     "end_time": "2020-07-21T09:03:44.752652Z",
     "start_time": "2020-07-21T09:03:43.801365Z"
    },
    "code_folding": [
     0
    ]
   },
   "outputs": [
    {
     "data": {
      "text/plain": [
       "0.0014894980970822091"
      ]
     },
     "execution_count": 44,
     "metadata": {},
     "output_type": "execute_result"
    }
   ],
   "source": [
    "# p_value\n",
    "p_value=(1-st.t.cdf(t_score,df=n-1))\n",
    "p_value"
   ]
  },
  {
   "cell_type": "markdown",
   "metadata": {},
   "source": [
    "<p> Melanie’s data is very unlikely if µ = 12. The probability is essentially zero (P-value = 0.0015). This means we will rarely see sample means greater than 13.5 if µ = 12. So we reject the null and accept the alternative hypothesis. In other words, this sample provides strong evidence that CPG has overstated the speed of its data download capability.</p>"
   ]
  },
  {
   "cell_type": "markdown",
   "metadata": {},
   "source": [
    "<p> <b> One population mean in z test </b></p>"
   ]
  },
  {
   "cell_type": "markdown",
   "metadata": {},
   "source": [
    "<p> Sacramento County high school seniors have an average SAT score of 1,020. From a random sample of 144Sacramento High School students we find the average SAT score to be 1,100 with a standard deviation of144.We want to know if these high school students are representative of the overall population. What are our</p>"
   ]
  },
  {
   "cell_type": "code",
   "execution_count": 29,
   "metadata": {
    "ExecuteTime": {
     "end_time": "2020-07-21T11:59:46.226207Z",
     "start_time": "2020-07-21T11:59:46.210579Z"
    }
   },
   "outputs": [],
   "source": [
    "#data:\n",
    "mu=1020\n",
    "n=144\n",
    "sd=144\n",
    "x_bar=1100"
   ]
  },
  {
   "cell_type": "code",
   "execution_count": 1,
   "metadata": {
    "ExecuteTime": {
     "end_time": "2020-07-21T10:13:26.934388Z",
     "start_time": "2020-07-21T10:13:26.918786Z"
    }
   },
   "outputs": [],
   "source": [
    "#H0:mu=1020\n",
    "#H1:mu!=1020"
   ]
  },
  {
   "cell_type": "code",
   "execution_count": 30,
   "metadata": {
    "ExecuteTime": {
     "end_time": "2020-07-21T11:59:59.443928Z",
     "start_time": "2020-07-21T11:59:59.428304Z"
    }
   },
   "outputs": [
    {
     "data": {
      "text/plain": [
       "6.666666666666667"
      ]
     },
     "execution_count": 30,
     "metadata": {},
     "output_type": "execute_result"
    }
   ],
   "source": [
    "se=sd/np.sqrt(n)\n",
    "z_score=(x_bar-mu)/se\n",
    "z_score\n"
   ]
  },
  {
   "cell_type": "code",
   "execution_count": 31,
   "metadata": {
    "ExecuteTime": {
     "end_time": "2020-07-21T12:00:03.177589Z",
     "start_time": "2020-07-21T12:00:03.146383Z"
    }
   },
   "outputs": [
    {
     "data": {
      "text/plain": [
       "(6.820658219792423, 9.062431527346309e-12)"
      ]
     },
     "execution_count": 31,
     "metadata": {},
     "output_type": "execute_result"
    }
   ],
   "source": [
    "l1=np.random.normal(x_bar,sd,n)\n",
    "p_value=1-st.norm.cdf(z_score)\n",
    "sm.stats.ztest(l1,value=mu)"
   ]
  },
  {
   "cell_type": "code",
   "execution_count": 18,
   "metadata": {
    "ExecuteTime": {
     "end_time": "2020-07-21T10:23:49.689979Z",
     "start_time": "2020-07-21T10:23:49.658787Z"
    }
   },
   "outputs": [
    {
     "data": {
      "text/plain": [
       "1.308397834520747e-11"
      ]
     },
     "execution_count": 18,
     "metadata": {},
     "output_type": "execute_result"
    }
   ],
   "source": [
    "#H0 reject the null hypothesis\n",
    "p_value"
   ]
  },
  {
   "cell_type": "markdown",
   "metadata": {
    "ExecuteTime": {
     "end_time": "2020-07-21T10:27:49.481179Z",
     "start_time": "2020-07-21T10:27:49.451205Z"
    }
   },
   "source": [
    "<p> <b> Difference in Population Means</b> </p>"
   ]
  },
  {
   "cell_type": "code",
   "execution_count": null,
   "metadata": {},
   "outputs": [],
   "source": [
    "#sm.stats.ztest(females[\"BMXBMI\"].dropna(), male[\"BMXBMI\"].dropna())"
   ]
  }
 ],
 "metadata": {
  "kernelspec": {
   "display_name": "Python 3",
   "language": "python",
   "name": "python3"
  },
  "language_info": {
   "codemirror_mode": {
    "name": "ipython",
    "version": 3
   },
   "file_extension": ".py",
   "mimetype": "text/x-python",
   "name": "python",
   "nbconvert_exporter": "python",
   "pygments_lexer": "ipython3",
   "version": "3.7.6"
  },
  "toc": {
   "base_numbering": 1,
   "nav_menu": {},
   "number_sections": true,
   "sideBar": true,
   "skip_h1_title": false,
   "title_cell": "Table of Contents",
   "title_sidebar": "Contents",
   "toc_cell": false,
   "toc_position": {},
   "toc_section_display": true,
   "toc_window_display": false
  }
 },
 "nbformat": 4,
 "nbformat_minor": 4
}
