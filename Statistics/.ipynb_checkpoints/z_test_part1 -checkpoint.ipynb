{
 "cells": [
  {
   "cell_type": "code",
   "execution_count": 1,
   "metadata": {
    "ExecuteTime": {
     "end_time": "2021-02-10T12:13:38.150312Z",
     "start_time": "2021-02-10T12:13:25.368952Z"
    }
   },
   "outputs": [],
   "source": [
    "import numpy as np\n",
    "import seaborn as sns\n",
    "import matplotlib.pylab as plt\n",
    "import warnings\n",
    "warnings.filterwarnings(\"ignore\")\n",
    "import scipy.stats as st \n",
    "import statsmodels.stats.weightstats as ze"
   ]
  },
  {
   "cell_type": "markdown",
   "metadata": {},
   "source": [
    "<b> One sample Mean </b>"
   ]
  },
  {
   "cell_type": "code",
   "execution_count": 2,
   "metadata": {
    "ExecuteTime": {
     "end_time": "2021-02-10T12:13:38.174297Z",
     "start_time": "2021-02-10T12:13:38.157306Z"
    }
   },
   "outputs": [
    {
     "data": {
      "text/plain": [
       "'The level of calcium in the blood of healthy, \\nyoung adults varies with a mean of 9.5 mg per deciliter and a SD of 0.4. \\nA clinic in rural Illinois measures the blood calcium level of 180 healthy pregnant women and finds x= 9.57mg.\\nIs this an indication that the mean calcium level in this population differs from 9.5mg? '"
      ]
     },
     "execution_count": 2,
     "metadata": {},
     "output_type": "execute_result"
    }
   ],
   "source": [
    "#example 1)\n",
    "'''The level of calcium in the blood of healthy, \n",
    "young adults varies with a mean of 9.5 mg per deciliter and a SD of 0.4. \n",
    "A clinic in rural Illinois measures the blood calcium level of 180 healthy pregnant women and finds x= 9.57mg.\n",
    "Is this an indication that the mean calcium level in this population differs from 9.5mg? '''"
   ]
  },
  {
   "cell_type": "code",
   "execution_count": 3,
   "metadata": {
    "ExecuteTime": {
     "end_time": "2021-02-10T12:13:38.439145Z",
     "start_time": "2021-02-10T12:13:38.179294Z"
    }
   },
   "outputs": [
    {
     "name": "stdout",
     "output_type": "stream",
     "text": [
      "Standar of  error mean: 0.029814239699997195\n",
      "Margin of  error mean: 0.0584359098119945\n",
      "Confidence_Interval: (9.558435909811994, 9.441564090188006)\n",
      "std interval: (1.96, -1.96)\n",
      "Z_score: 2.3478713763747887\n",
      "two tailed test -P value 0.0188\n",
      "one tailed test -P value 0.0094\n",
      "Null hypothesis reject\n"
     ]
    }
   ],
   "source": [
    "mu=9.5 #H0 and H1!=9.5 alpha=0.05\n",
    "sample_size=180\n",
    "population_std=0.4\n",
    "sample_mean=9.57\n",
    "#hypothesis test\n",
    "alpha=0.05\n",
    "z_score=(sample_mean-mu)/np.sqrt(population_std**2/sample_size)\n",
    "#confidence interval Best estimate +/-Margin of error mean\n",
    "me=1.96*(population_std/np.sqrt(sample_size))\n",
    "se=(population_std/np.sqrt(sample_size))\n",
    "print(\"Standar of  error mean:\",se)\n",
    "print(\"Margin of  error mean:\",me)\n",
    "cf=(mu+me,mu-me)\n",
    "stcf=((1.96,-1.96))\n",
    "print(\"Confidence_Interval:\",cf)\n",
    "print(\"std interval:\",stcf)\n",
    "print(\"Z_score:\",z_score)\n",
    "z_score=abs(z_score)\n",
    "#here 9.57 is not in interval cf so reject Null Hypothesis\n",
    "p_value=(round(1-st.norm.cdf(z_score),4))\n",
    "print(\"two tailed test -P value\",2*p_value)\n",
    "print(\"one tailed test -P value\", p_value)\n",
    "if(p_value<0.05):\n",
    "    print(\"Null hypothesis reject\")\n",
    "else:\n",
    "    print(\"fail to reject the Null Hypothesis\")\n"
   ]
  },
  {
   "cell_type": "code",
   "execution_count": 4,
   "metadata": {
    "ExecuteTime": {
     "end_time": "2021-02-10T12:13:38.602051Z",
     "start_time": "2021-02-10T12:13:38.446142Z"
    }
   },
   "outputs": [
    {
     "data": {
      "text/plain": [
       "'Mike gave the SAT math test to a simple random sample of 500 seniors from Illinois. \\nThese students had a mean score of 461 (x).  \\nIs this good evidence that the mean for all Illinois seniors is > 450. std=  100'"
      ]
     },
     "execution_count": 4,
     "metadata": {},
     "output_type": "execute_result"
    }
   ],
   "source": [
    "'''Mike gave the SAT math test to a simple random sample of 500 seniors from Illinois. \n",
    "These students had a mean score of 461 (x).  \n",
    "Is this good evidence that the mean for all Illinois seniors is > 450. std=  100'''"
   ]
  },
  {
   "cell_type": "code",
   "execution_count": 5,
   "metadata": {
    "ExecuteTime": {
     "end_time": "2021-02-10T12:13:38.770956Z",
     "start_time": "2021-02-10T12:13:38.607049Z"
    }
   },
   "outputs": [
    {
     "name": "stdout",
     "output_type": "stream",
     "text": [
      "Standar of  error mean: 4.47213595499958\n",
      "Margin of  error mean: 8.765386471799175\n",
      "Confidence_Interval: (458.76538647179916, 441.23461352820084)\n",
      "std interval: (1.96, -1.96)\n",
      "Z_score: 2.4596747752497685\n",
      "two tailed test -P value 0.014\n",
      "one tailed test -P value 0.007\n",
      "Null hypothesis reject\n"
     ]
    }
   ],
   "source": [
    "mu=450 #H0 mu<=450  and H1>450 alpha=0.05\n",
    "sample_size=500\n",
    "population_std=100\n",
    "sample_mean=461\n",
    "#hypothesis test\n",
    "alpha=0.05\n",
    "z_score=(sample_mean-mu)/np.sqrt(population_std**2/sample_size)\n",
    "#confidence interval Best estimate +/- Margin of error mean\n",
    "me=1.96*(population_std/np.sqrt(sample_size))\n",
    "se=(population_std/np.sqrt(sample_size))\n",
    "print(\"Standar of  error mean:\",se)\n",
    "print(\"Margin of  error mean:\",me)\n",
    "cf=(mu+me,mu-me)\n",
    "stcf=((1.96,-1.96))\n",
    "print(\"Confidence_Interval:\",cf)\n",
    "print(\"std interval:\",stcf)\n",
    "print(\"Z_score:\",z_score)\n",
    "z_score=abs(z_score)\n",
    "#here 9.57 is not in interval cf so reject Null Hypothesis\n",
    "p_value=(round(1-st.norm.cdf(z_score),4))\n",
    "print(\"two tailed test -P value\",2*p_value)\n",
    "print(\"one tailed test -P value\", p_value)\n",
    "if(p_value<0.05):\n",
    "    print(\"Null hypothesis reject\")\n",
    "else:\n",
    "    print(\"fail to reject the Null Hypothesis\")\n"
   ]
  },
  {
   "cell_type": "code",
   "execution_count": 6,
   "metadata": {
    "ExecuteTime": {
     "end_time": "2021-02-10T12:13:38.877895Z",
     "start_time": "2021-02-10T12:13:38.776952Z"
    }
   },
   "outputs": [
    {
     "data": {
      "text/plain": [
       "' \\nMendenhall and Sincich, p.  45:  \\nHumerous bones from the same species ofanimal have approximately the same length-to-width ratios. \\nIt is known thatSpecies A has a mean ratio of 8.5. \\nSuppose that 41 fossil humerous boneswere unearthed at a site where Species A is known to have flourished. \\n(Weassume that all bones are from the same species.)  \\nThe length-to-width ratiosof these bones has sample mean 9.26  and  sample standard deviation 1.20.\\nCan we conclude that these bones belong to Species A? \\nPerform a level 0.05z-test to check'"
      ]
     },
     "execution_count": 6,
     "metadata": {},
     "output_type": "execute_result"
    }
   ],
   "source": [
    "''' \n",
    "Mendenhall and Sincich, p.  45:  \n",
    "Humerous bones from the same species ofanimal have approximately the same length-to-width ratios. \n",
    "It is known thatSpecies A has a mean ratio of 8.5. \n",
    "Suppose that 41 fossil humerous boneswere unearthed at a site where Species A is known to have flourished. \n",
    "(Weassume that all bones are from the same species.)  \n",
    "The length-to-width ratiosof these bones has sample mean 9.26  and  sample standard deviation 1.20.\n",
    "Can we conclude that these bones belong to Species A? \n",
    "Perform a level 0.05z-test to check'''"
   ]
  },
  {
   "cell_type": "code",
   "execution_count": 8,
   "metadata": {
    "ExecuteTime": {
     "end_time": "2021-02-10T12:14:54.405239Z",
     "start_time": "2021-02-10T12:14:54.364262Z"
    }
   },
   "outputs": [
    {
     "name": "stdout",
     "output_type": "stream",
     "text": [
      "Standar of  error mean: 0.18740851426632726\n",
      "Margin of  error mean: 0.36732068796200146\n",
      "Confidence_Interval: (8.867320687962001, 8.132679312037999)\n",
      "std interval: (1.96, -1.96)\n",
      "Z_score: 4.055312017040803\n",
      "two tailed test -P value 2.0\n",
      "one tailed test -P value 1.0\n",
      "fail to reject the Null Hypothesis\n"
     ]
    }
   ],
   "source": [
    "mu=8.5 #H0 mu=8.5  and H1!=8.5 alpha=0.05\n",
    "sample_size=41\n",
    "population_std=1.20 #we assume \n",
    "sample_mean=9.26\n",
    "#hypothesis test\n",
    "alpha=0.05\n",
    "z_score=(sample_mean-mu)/np.sqrt(population_std**2/sample_size)\n",
    "#confidence interval Best estimate +/- Margin error mean\n",
    "me=1.96*(population_std/np.sqrt(sample_size))\n",
    "se=(population_std/np.sqrt(sample_size))\n",
    "print(\"Standar of  error mean:\",se)\n",
    "print(\"Margin of  error mean:\",me)\n",
    "cf=(mu+me,mu-me)\n",
    "stcf=((1.96,-1.96))\n",
    "print(\"Confidence_Interval:\",cf)\n",
    "print(\"std interval:\",stcf)\n",
    "print(\"Z_score:\",z_score)\n",
    "z_score=abs(z_score)\n",
    "p_value=(round(1-st.norm.cdf(z_score,41),10))\n",
    "print(\"two tailed test -P value\",2*p_value)\n",
    "print(\"one tailed test -P value\", p_value)\n",
    "if(p_value<0.05):\n",
    "    print(\"Null hypothesis reject\")\n",
    "else:\n",
    "    print(\"fail to reject the Null Hypothesis\")\n"
   ]
  },
  {
   "cell_type": "markdown",
   "metadata": {},
   "source": [
    "<b>z test proportion example</b>\n"
   ]
  },
  {
   "cell_type": "code",
   "execution_count": null,
   "metadata": {
    "ExecuteTime": {
     "end_time": "2021-02-10T12:13:39.278022Z",
     "start_time": "2021-02-10T12:13:25.396Z"
    }
   },
   "outputs": [],
   "source": [
    "'''A survey claims that 9 out of 10 doctors recommend aspirin for their patients with headaches. To test this claim, \n",
    "a random sample of 100 doctors is obtained. \n",
    "Of these 100 doctors, 82 indicate that they recommend aspirin. Is this claim accurate? Use alpha = 0.05.'''"
   ]
  },
  {
   "cell_type": "code",
   "execution_count": null,
   "metadata": {
    "ExecuteTime": {
     "end_time": "2021-02-10T12:13:39.281020Z",
     "start_time": "2021-02-10T12:13:25.401Z"
    }
   },
   "outputs": [],
   "source": [
    "Population_proption=9/10\n",
    "sample_proportion=82/100\n",
    "sample_size=100\n",
    "alpha=0.05\n",
    "# H0 No diffrence  p0=0.9\n",
    "# H1 diffrence occur p0!=0\n",
    "z_score=(sample_proportion-Population_proption)/np.sqrt(Population_proption*(1-Population_proption)/sample_size)\n",
    "se=np.sqrt(Population_proption*(1-Population_proption)/sample_size)\n",
    "me=1.96*se\n",
    "mu=Population_proption\n",
    "print(\"Standar of  error mean:\",se)\n",
    "print(\"Margin of  error mean:\",me)\n",
    "cf=(mu+me,mu-me)\n",
    "stcf=((1.96,-1.96))\n",
    "print(\"Confidence_Interval:\",cf)\n",
    "print(\"std interval:\",stcf)\n",
    "print(\"Z_score:\",z_score)\n",
    "z_score=abs(z_score)\n",
    "p_value=(round(1-st.norm.cdf(z_score),10))\n",
    "print(\"two tailed test -P value\",2*p_value)\n",
    "print(\"one tailed test -P value\", p_value)\n",
    "if(p_value<0.05):\n",
    "    print(\"Null hypothesis reject\")\n",
    "else:\n",
    "    print(\"fail to reject the Null Hypothesis\")\n",
    "print(st.norm.ppf(0.90))"
   ]
  },
  {
   "cell_type": "markdown",
   "metadata": {},
   "source": [
    "<b> Two sample Mean </b>"
   ]
  },
  {
   "cell_type": "code",
   "execution_count": null,
   "metadata": {
    "ExecuteTime": {
     "end_time": "2021-02-10T12:13:39.284022Z",
     "start_time": "2021-02-10T12:13:25.405Z"
    }
   },
   "outputs": [],
   "source": [
    "'''The amount of a certain trace element in blood is known\n",
    "to vary with a standard deviation of 14.1 ppm (parts per million) for male blood donors and 9.5 ppm for female donors. \n",
    "Random samples of 75 male and 50 female donors  yield concentration means of 28 and 33 ppm, respectively. \n",
    "What is the likelihood that the population means of concentrations of the element are the same for men and women?'''\n"
   ]
  },
  {
   "cell_type": "code",
   "execution_count": null,
   "metadata": {
    "ExecuteTime": {
     "end_time": "2021-02-10T12:13:39.287020Z",
     "start_time": "2021-02-10T12:13:25.409Z"
    }
   },
   "outputs": [],
   "source": [
    "mu1=28 \n",
    "mu2=33\n",
    "n1=75\n",
    "n2=50\n",
    "std1=14.1\n",
    "std2=9.5\n",
    "#H0 No diffrence between two means mu1=mu2\n",
    "#H1 Diffrence Occur mu1!=mu2\n",
    "alpha =0.05\n",
    "se=np.sqrt((std1**2/n1)+(std2**2/n2))\n",
    "z_score=(mu1-mu2)/se\n",
    "mu=mu1-mu2\n",
    "me=1.96*(population_std/np.sqrt(sample_size))\n",
    "se=(population_std/np.sqrt(sample_size))\n",
    "print(\"Standar of  error mean:\",se)\n",
    "print(\"Margin of  error mean:\",me)\n",
    "cf=(mu+me,mu-me)\n",
    "stcf=((1.96,-1.96))\n",
    "print(\"Confidence_Interval:\",cf)\n",
    "print(\"std interval:\",stcf)\n",
    "print(\"Z_score:\",z_score)\n",
    "z_score=abs(z_score)\n",
    "p_value=(round(1-st.norm.cdf(z_score),10))\n",
    "print(\"two tailed test -P value\",2*p_value)\n",
    "print(\"one tailed test -P value\", p_value)\n",
    "if(p_value<0.05):\n",
    "    print(\"Null hypothesis reject\")\n",
    "else:\n",
    "    print(\"fail to reject the Null Hypothesis\")\n"
   ]
  },
  {
   "cell_type": "code",
   "execution_count": null,
   "metadata": {
    "ExecuteTime": {
     "end_time": "2021-02-10T12:13:39.290015Z",
     "start_time": "2021-02-10T12:13:25.414Z"
    }
   },
   "outputs": [],
   "source": [
    "# practice "
   ]
  },
  {
   "cell_type": "code",
   "execution_count": null,
   "metadata": {
    "ExecuteTime": {
     "end_time": "2021-02-10T12:13:39.292014Z",
     "start_time": "2021-02-10T12:13:25.422Z"
    }
   },
   "outputs": [],
   "source": [
    "#population mean=31\n",
    "#population std=6\n",
    "ages=np.random.normal(31,6,50)\n",
    "sns.distplot(ages,bins=7)\n",
    "std=6"
   ]
  },
  {
   "cell_type": "code",
   "execution_count": null,
   "metadata": {
    "ExecuteTime": {
     "end_time": "2021-02-10T12:13:39.295013Z",
     "start_time": "2021-02-10T12:13:25.427Z"
    }
   },
   "outputs": [],
   "source": [
    "import random\n",
    "random.seed(78)\n",
    "sampling_ages=[]\n",
    "for i in range(0,50):\n",
    "    n = random.randint(23,30)\n",
    "    sampling_ages.append(n)\n",
    "x_bar=np.mean(sampling_ages)\n",
    "x_bar"
   ]
  },
  {
   "cell_type": "code",
   "execution_count": null,
   "metadata": {
    "ExecuteTime": {
     "end_time": "2021-02-10T12:13:39.298014Z",
     "start_time": "2021-02-10T12:13:25.435Z"
    }
   },
   "outputs": [],
   "source": [
    "print(st.skew(ages))\n",
    "print(st.kurtosis(ages))\n"
   ]
  },
  {
   "cell_type": "code",
   "execution_count": null,
   "metadata": {
    "ExecuteTime": {
     "end_time": "2021-02-10T12:13:39.300012Z",
     "start_time": "2021-02-10T12:13:25.439Z"
    }
   },
   "outputs": [],
   "source": [
    "#H0: indian marriage age mu=31\n",
    "#H1:mu not equal 31"
   ]
  },
  {
   "cell_type": "code",
   "execution_count": null,
   "metadata": {
    "ExecuteTime": {
     "end_time": "2021-02-10T12:13:39.304010Z",
     "start_time": "2021-02-10T12:13:25.442Z"
    }
   },
   "outputs": [],
   "source": [
    "#alpha level=0.05\n",
    "z=(x_bar-31)/(np.sqrt(std**2/50))\n",
    "print(z)\n",
    "print(sampling_ages)\n",
    "z_score,p_value=ze.ztest(sampling_ages,value=31,ddof=0) #value=True population mean\n",
    "# ze.zconfint(ages,value=0,ddof=0)\n"
   ]
  },
  {
   "cell_type": "code",
   "execution_count": null,
   "metadata": {
    "ExecuteTime": {
     "end_time": "2021-02-10T12:13:39.307005Z",
     "start_time": "2021-02-10T12:13:25.453Z"
    }
   },
   "outputs": [],
   "source": [
    "print(z_score)\n",
    "print(p_value)"
   ]
  },
  {
   "cell_type": "code",
   "execution_count": null,
   "metadata": {},
   "outputs": [],
   "source": []
  },
  {
   "cell_type": "code",
   "execution_count": null,
   "metadata": {},
   "outputs": [],
   "source": []
  },
  {
   "cell_type": "code",
   "execution_count": null,
   "metadata": {},
   "outputs": [],
   "source": []
  },
  {
   "cell_type": "code",
   "execution_count": null,
   "metadata": {},
   "outputs": [],
   "source": []
  },
  {
   "cell_type": "code",
   "execution_count": null,
   "metadata": {},
   "outputs": [],
   "source": []
  },
  {
   "cell_type": "code",
   "execution_count": null,
   "metadata": {},
   "outputs": [],
   "source": []
  },
  {
   "cell_type": "code",
   "execution_count": null,
   "metadata": {},
   "outputs": [],
   "source": []
  }
 ],
 "metadata": {
  "kernelspec": {
   "display_name": "Python 3",
   "language": "python",
   "name": "python3"
  },
  "language_info": {
   "codemirror_mode": {
    "name": "ipython",
    "version": 3
   },
   "file_extension": ".py",
   "mimetype": "text/x-python",
   "name": "python",
   "nbconvert_exporter": "python",
   "pygments_lexer": "ipython3",
   "version": "3.7.9"
  },
  "toc": {
   "base_numbering": 1,
   "nav_menu": {},
   "number_sections": true,
   "sideBar": true,
   "skip_h1_title": false,
   "title_cell": "Table of Contents",
   "title_sidebar": "Contents",
   "toc_cell": false,
   "toc_position": {},
   "toc_section_display": true,
   "toc_window_display": false
  }
 },
 "nbformat": 4,
 "nbformat_minor": 4
}
