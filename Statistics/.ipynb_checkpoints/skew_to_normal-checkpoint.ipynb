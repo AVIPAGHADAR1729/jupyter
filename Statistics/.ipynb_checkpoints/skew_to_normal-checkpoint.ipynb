{
 "cells": [
  {
   "cell_type": "code",
   "execution_count": 1,
   "metadata": {
    "ExecuteTime": {
     "end_time": "2021-02-10T12:16:51.754052Z",
     "start_time": "2021-02-10T12:16:38.490755Z"
    }
   },
   "outputs": [],
   "source": [
    "import pandas as pd \n",
    "import numpy as np\n",
    "import matplotlib.pyplot as plt\n",
    "import seaborn as sns\n",
    "import warnings\n",
    "warnings.filterwarnings(\"ignore\", category=DeprecationWarning) \n",
    "from sklearn.linear_model import LinearRegression\n",
    "import statsmodels.formula.api as smf\n",
    "import scipy as sm \n",
    "from statsmodels.stats.anova import anova_lm\n",
    "import scipy.stats as st "
   ]
  },
  {
   "cell_type": "code",
   "execution_count": 2,
   "metadata": {
    "ExecuteTime": {
     "end_time": "2021-02-10T12:16:51.772031Z",
     "start_time": "2021-02-10T12:16:51.754052Z"
    }
   },
   "outputs": [],
   "source": [
    "def skew_to_normal(data, col):\n",
    "    power = 1\n",
    "    divide = data[col].max()/3\n",
    "    i = 1\n",
    "    if(data[col].skew() < -1):\n",
    "        reach_mean = data[col].mean()\n",
    "        new_mean = np.mean(data[col].apply(lambda x: (x/divide)**power))\n",
    "        while i < 20:\n",
    "            c = reach_mean/new_mean\n",
    "            if(c <= 1):\n",
    "                break\n",
    "            else:\n",
    "                new_mean = np.mean(data[col].apply(lambda x: (x/divide)**power))\n",
    "                power += 0.2\n",
    "                i = i+1\n",
    "        normal_list = data[col].apply(lambda x: (x/divide)**power)\n",
    "        return (normal_list, power, divide, f'formul =(x/{divide})**{power}') \n",
    "    \n",
    "    else:\n",
    "        normal_list=np.log(data[col])\n",
    "        return (normal_list, \"use natural log tansformation\") \n",
    "    "
   ]
  },
  {
   "cell_type": "code",
   "execution_count": 3,
   "metadata": {
    "ExecuteTime": {
     "end_time": "2021-02-10T12:16:52.060978Z",
     "start_time": "2021-02-10T12:16:51.776027Z"
    }
   },
   "outputs": [],
   "source": [
    "l1=st.skewnorm.rvs(-9, size=100)"
   ]
  },
  {
   "cell_type": "code",
   "execution_count": 4,
   "metadata": {
    "ExecuteTime": {
     "end_time": "2021-02-10T12:16:52.275814Z",
     "start_time": "2021-02-10T12:16:52.063918Z"
    }
   },
   "outputs": [],
   "source": [
    "data_frame=pd.DataFrame(l1,columns=['skew_data'])\n"
   ]
  },
  {
   "cell_type": "code",
   "execution_count": 5,
   "metadata": {
    "ExecuteTime": {
     "end_time": "2021-02-10T12:16:52.971161Z",
     "start_time": "2021-02-10T12:16:52.278810Z"
    }
   },
   "outputs": [
    {
     "name": "stderr",
     "output_type": "stream",
     "text": [
      "C:\\Users\\nikhil\\Anaconda3\\lib\\site-packages\\seaborn\\distributions.py:2557: FutureWarning: `distplot` is a deprecated function and will be removed in a future version. Please adapt your code to use either `displot` (a figure-level function with similar flexibility) or `histplot` (an axes-level function for histograms).\n",
      "  warnings.warn(msg, FutureWarning)\n"
     ]
    },
    {
     "data": {
      "text/plain": [
       "-1.042185137580722"
      ]
     },
     "execution_count": 5,
     "metadata": {},
     "output_type": "execute_result"
    },
    {
     "data": {
      "image/png": "[encoded data removed]",
      "text/plain": [
       "<Figure size 432x288 with 1 Axes>"
      ]
     },
     "metadata": {
      "needs_background": "light"
     },
     "output_type": "display_data"
    }
   ],
   "source": [
    "sns.distplot(l1)\n",
    "st.skew(l1)"
   ]
  },
  {
   "cell_type": "code",
   "execution_count": 6,
   "metadata": {
    "ExecuteTime": {
     "end_time": "2021-02-10T12:16:53.007140Z",
     "start_time": "2021-02-10T12:16:52.974159Z"
    }
   },
   "outputs": [
    {
     "data": {
      "text/html": [
       "<div>\n",
       "<style scoped>\n",
       "    .dataframe tbody tr th:only-of-type {\n",
       "        vertical-align: middle;\n",
       "    }\n",
       "\n",
       "    .dataframe tbody tr th {\n",
       "        vertical-align: top;\n",
       "    }\n",
       "\n",
       "    .dataframe thead th {\n",
       "        text-align: right;\n",
       "    }\n",
       "</style>\n",
       "<table border=\"1\" class=\"dataframe\">\n",
       "  <thead>\n",
       "    <tr style=\"text-align: right;\">\n",
       "      <th></th>\n",
       "      <th>skew_data</th>\n",
       "    </tr>\n",
       "  </thead>\n",
       "  <tbody>\n",
       "    <tr>\n",
       "      <th>0</th>\n",
       "      <td>-1.103082</td>\n",
       "    </tr>\n",
       "    <tr>\n",
       "      <th>1</th>\n",
       "      <td>-0.606145</td>\n",
       "    </tr>\n",
       "    <tr>\n",
       "      <th>2</th>\n",
       "      <td>-0.095993</td>\n",
       "    </tr>\n",
       "    <tr>\n",
       "      <th>3</th>\n",
       "      <td>-0.585279</td>\n",
       "    </tr>\n",
       "    <tr>\n",
       "      <th>4</th>\n",
       "      <td>-0.689321</td>\n",
       "    </tr>\n",
       "    <tr>\n",
       "      <th>...</th>\n",
       "      <td>...</td>\n",
       "    </tr>\n",
       "    <tr>\n",
       "      <th>95</th>\n",
       "      <td>-0.794350</td>\n",
       "    </tr>\n",
       "    <tr>\n",
       "      <th>96</th>\n",
       "      <td>-0.847250</td>\n",
       "    </tr>\n",
       "    <tr>\n",
       "      <th>97</th>\n",
       "      <td>-0.217465</td>\n",
       "    </tr>\n",
       "    <tr>\n",
       "      <th>98</th>\n",
       "      <td>-0.965248</td>\n",
       "    </tr>\n",
       "    <tr>\n",
       "      <th>99</th>\n",
       "      <td>-0.415839</td>\n",
       "    </tr>\n",
       "  </tbody>\n",
       "</table>\n",
       "<p>100 rows × 1 columns</p>\n",
       "</div>"
      ],
      "text/plain": [
       "    skew_data\n",
       "0   -1.103082\n",
       "1   -0.606145\n",
       "2   -0.095993\n",
       "3   -0.585279\n",
       "4   -0.689321\n",
       "..        ...\n",
       "95  -0.794350\n",
       "96  -0.847250\n",
       "97  -0.217465\n",
       "98  -0.965248\n",
       "99  -0.415839\n",
       "\n",
       "[100 rows x 1 columns]"
      ]
     },
     "execution_count": 6,
     "metadata": {},
     "output_type": "execute_result"
    }
   ],
   "source": [
    "data_frame"
   ]
  },
  {
   "cell_type": "code",
   "execution_count": 8,
   "metadata": {
    "ExecuteTime": {
     "end_time": "2021-02-10T12:17:44.370144Z",
     "start_time": "2021-02-10T12:17:44.355151Z"
    }
   },
   "outputs": [
    {
     "data": {
      "text/plain": [
       "(0    -32.303989\n",
       " 1    -17.751081\n",
       " 2     -2.811162\n",
       " 3    -17.140029\n",
       " 4    -20.186921\n",
       "         ...    \n",
       " 95   -23.262708\n",
       " 96   -24.811900\n",
       " 97    -6.368510\n",
       " 98   -28.267478\n",
       " 99   -12.177940\n",
       " Name: skew_data, Length: 100, dtype: float64,\n",
       " 1,\n",
       " 0.03414693550255847,\n",
       " 'formul =(x/0.03414693550255847)**1')"
      ]
     },
     "execution_count": 8,
     "metadata": {},
     "output_type": "execute_result"
    }
   ],
   "source": [
    "l1=skew_to_normal(data_frame,'skew_data')\n",
    "l1"
   ]
  },
  {
   "cell_type": "code",
   "execution_count": 55,
   "metadata": {
    "ExecuteTime": {
     "end_time": "2020-10-09T11:16:41.666857Z",
     "start_time": "2020-10-09T11:16:41.637133Z"
    }
   },
   "outputs": [
    {
     "data": {
      "text/plain": [
       "-0.6409439618297321"
      ]
     },
     "execution_count": 55,
     "metadata": {},
     "output_type": "execute_result"
    }
   ],
   "source": [
    "st.skew(l1[0])"
   ]
  },
  {
   "cell_type": "code",
   "execution_count": null,
   "metadata": {},
   "outputs": [],
   "source": []
  }
 ],
 "metadata": {
  "kernelspec": {
   "display_name": "Python 3",
   "language": "python",
   "name": "python3"
  },
  "language_info": {
   "codemirror_mode": {
    "name": "ipython",
    "version": 3
   },
   "file_extension": ".py",
   "mimetype": "text/x-python",
   "name": "python",
   "nbconvert_exporter": "python",
   "pygments_lexer": "ipython3",
   "version": "3.7.9"
  },
  "toc": {
   "base_numbering": 1,
   "nav_menu": {},
   "number_sections": true,
   "sideBar": true,
   "skip_h1_title": false,
   "title_cell": "Table of Contents",
   "title_sidebar": "Contents",
   "toc_cell": false,
   "toc_position": {},
   "toc_section_display": true,
   "toc_window_display": false
  }
 },
 "nbformat": 4,
 "nbformat_minor": 4
}
