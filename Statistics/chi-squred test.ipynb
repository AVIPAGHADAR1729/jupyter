{
 "cells": [
  {
   "cell_type": "code",
   "execution_count": 4,
   "metadata": {
    "ExecuteTime": {
     "end_time": "2021-01-19T11:22:15.154360Z",
     "start_time": "2021-01-19T11:22:09.650579Z"
    }
   },
   "outputs": [],
   "source": [
    "import pandas as pd \n",
    "import numpy as np\n",
    "import seaborn as sns\n",
    "import matplotlib.pyplot as plt\n",
    "import scipy.stats as st \n",
    "import warnings\n",
    "warnings.filterwarnings(\"ignore\")"
   ]
  },
  {
   "cell_type": "markdown",
   "metadata": {},
   "source": [
    "<b> Example:1 </b>"
   ]
  },
  {
   "cell_type": "code",
   "execution_count": 5,
   "metadata": {
    "ExecuteTime": {
     "end_time": "2021-01-19T11:22:15.183981Z",
     "start_time": "2021-01-19T11:22:15.154360Z"
    }
   },
   "outputs": [
    {
     "data": {
      "text/plain": [
       "'      Science,\\tMath,\\tArt\\nMale         20,      30,    15\\nFemale       20,      15,    30 \\n'"
      ]
     },
     "execution_count": 5,
     "metadata": {},
     "output_type": "execute_result"
    }
   ],
   "source": [
    "\n",
    "'''      Science,\tMath,\tArt\n",
    "Male         20,      30,    15\n",
    "Female       20,      15,    30 \n",
    "'''"
   ]
  },
  {
   "cell_type": "markdown",
   "metadata": {},
   "source": [
    "<b> Question:is Subject prefernce independent from the gender ? </b>"
   ]
  },
  {
   "cell_type": "code",
   "execution_count": null,
   "metadata": {},
   "outputs": [],
   "source": []
  },
  {
   "cell_type": "code",
   "execution_count": 6,
   "metadata": {
    "ExecuteTime": {
     "end_time": "2021-01-19T11:22:15.345255Z",
     "start_time": "2021-01-19T11:22:15.188967Z"
    }
   },
   "outputs": [],
   "source": [
    "df=pd.DataFrame({'Science':[20,20],'Math':[30,15],'Art':[15,30]},index=['Male','Female'])"
   ]
  },
  {
   "cell_type": "code",
   "execution_count": 46,
   "metadata": {
    "ExecuteTime": {
     "end_time": "2021-01-19T11:24:11.899975Z",
     "start_time": "2021-01-19T11:24:11.872749Z"
    }
   },
   "outputs": [
    {
     "data": {
      "text/html": [
       "<div>\n",
       "<style scoped>\n",
       "    .dataframe tbody tr th:only-of-type {\n",
       "        vertical-align: middle;\n",
       "    }\n",
       "\n",
       "    .dataframe tbody tr th {\n",
       "        vertical-align: top;\n",
       "    }\n",
       "\n",
       "    .dataframe thead th {\n",
       "        text-align: right;\n",
       "    }\n",
       "</style>\n",
       "<table border=\"1\" class=\"dataframe\">\n",
       "  <thead>\n",
       "    <tr style=\"text-align: right;\">\n",
       "      <th></th>\n",
       "      <th>Science</th>\n",
       "      <th>Math</th>\n",
       "      <th>Art</th>\n",
       "    </tr>\n",
       "  </thead>\n",
       "  <tbody>\n",
       "    <tr>\n",
       "      <th>Male</th>\n",
       "      <td>20</td>\n",
       "      <td>30</td>\n",
       "      <td>15</td>\n",
       "    </tr>\n",
       "    <tr>\n",
       "      <th>Female</th>\n",
       "      <td>20</td>\n",
       "      <td>15</td>\n",
       "      <td>30</td>\n",
       "    </tr>\n",
       "  </tbody>\n",
       "</table>\n",
       "</div>"
      ],
      "text/plain": [
       "        Science  Math  Art\n",
       "Male         20    30   15\n",
       "Female       20    15   30"
      ]
     },
     "execution_count": 46,
     "metadata": {},
     "output_type": "execute_result"
    }
   ],
   "source": [
    "df"
   ]
  },
  {
   "cell_type": "code",
   "execution_count": 7,
   "metadata": {
    "ExecuteTime": {
     "end_time": "2021-01-19T11:22:15.530464Z",
     "start_time": "2021-01-19T11:22:15.345625Z"
    }
   },
   "outputs": [
    {
     "data": {
      "text/plain": [
       "(10.0,\n",
       " 0.006737946999085468,\n",
       " 2,\n",
       " array([[20. , 22.5, 22.5],\n",
       "        [20. , 22.5, 22.5]]))"
      ]
     },
     "execution_count": 7,
     "metadata": {},
     "output_type": "execute_result"
    }
   ],
   "source": [
    "\n",
    "stat, p, dof, expected = st.chi2_contingency(df,correction=True)\n",
    "stat, p, dof, expected"
   ]
  },
  {
   "cell_type": "code",
   "execution_count": 8,
   "metadata": {
    "ExecuteTime": {
     "end_time": "2021-01-19T11:22:15.704502Z",
     "start_time": "2021-01-19T11:22:15.530727Z"
    }
   },
   "outputs": [],
   "source": [
    "prob = 0.95\n",
    "critical = st.chi2.ppf(prob, dof)"
   ]
  },
  {
   "cell_type": "code",
   "execution_count": 9,
   "metadata": {
    "ExecuteTime": {
     "end_time": "2021-01-19T11:22:15.917946Z",
     "start_time": "2021-01-19T11:22:15.704502Z"
    }
   },
   "outputs": [
    {
     "data": {
      "text/plain": [
       "5.991464547107979"
      ]
     },
     "execution_count": 9,
     "metadata": {},
     "output_type": "execute_result"
    }
   ],
   "source": [
    "critical"
   ]
  },
  {
   "cell_type": "code",
   "execution_count": 10,
   "metadata": {
    "ExecuteTime": {
     "end_time": "2021-01-19T11:22:16.094600Z",
     "start_time": "2021-01-19T11:22:15.917946Z"
    }
   },
   "outputs": [
    {
     "name": "stdout",
     "output_type": "stream",
     "text": [
      "significance=0.050, p=0.007\n",
      "Dependent (reject H0)\n"
     ]
    }
   ],
   "source": [
    "alpha = 1.0 - prob\n",
    "print('significance=%.3f, p=%.3f' % (alpha, p))\n",
    "if p <= alpha:\n",
    "    print('Dependent (reject H0)')\n",
    "else:\n",
    "    print('Independent (fail to reject H0)')"
   ]
  },
  {
   "cell_type": "code",
   "execution_count": 11,
   "metadata": {
    "ExecuteTime": {
     "end_time": "2021-01-19T11:22:16.250239Z",
     "start_time": "2021-01-19T11:22:16.094600Z"
    }
   },
   "outputs": [],
   "source": [
    "table = [[10, 20, 30],\n",
    "          [6,  9,  17]]\n",
    "\n"
   ]
  },
  {
   "cell_type": "code",
   "execution_count": 12,
   "metadata": {
    "ExecuteTime": {
     "end_time": "2021-01-19T11:22:16.410965Z",
     "start_time": "2021-01-19T11:22:16.250239Z"
    }
   },
   "outputs": [
    {
     "data": {
      "text/plain": [
       "(0.27157465150403504,\n",
       " 0.873028283380073,\n",
       " 2,\n",
       " array([[10.43478261, 18.91304348, 30.65217391],\n",
       "        [ 5.56521739, 10.08695652, 16.34782609]]))"
      ]
     },
     "execution_count": 12,
     "metadata": {},
     "output_type": "execute_result"
    }
   ],
   "source": [
    "stat, p, dof, expected = st.chi2_contingency(table,correction=True)\n",
    "stat, p, dof, expected"
   ]
  },
  {
   "cell_type": "code",
   "execution_count": 13,
   "metadata": {
    "ExecuteTime": {
     "end_time": "2021-01-19T11:22:16.554933Z",
     "start_time": "2021-01-19T11:22:16.410965Z"
    }
   },
   "outputs": [
    {
     "name": "stdout",
     "output_type": "stream",
     "text": [
      "significance=0.050, p=0.873\n",
      "Independent (fail to reject H0)\n"
     ]
    }
   ],
   "source": [
    "alpha = 1.0 - prob\n",
    "print('significance=%.3f, p=%.3f' % (alpha, p))\n",
    "if p <= alpha:\n",
    "    print('Dependent (reject H0)')\n",
    "else:\n",
    "    print('Independent (fail to reject H0)')"
   ]
  },
  {
   "cell_type": "markdown",
   "metadata": {},
   "source": [
    "<b> when we have expected frequency available below method use </b>"
   ]
  },
  {
   "cell_type": "code",
   "execution_count": 14,
   "metadata": {
    "ExecuteTime": {
     "end_time": "2021-01-19T11:22:16.767961Z",
     "start_time": "2021-01-19T11:22:16.554933Z"
    }
   },
   "outputs": [
    {
     "data": {
      "text/plain": [
       "(3, 2)"
      ]
     },
     "execution_count": 14,
     "metadata": {},
     "output_type": "execute_result"
    }
   ],
   "source": [
    "table1=np.array(table)\n",
    "table1=table1.reshape(3,2)\n",
    "table1.shape\n"
   ]
  },
  {
   "cell_type": "code",
   "execution_count": 15,
   "metadata": {
    "ExecuteTime": {
     "end_time": "2021-01-19T11:22:16.851260Z",
     "start_time": "2021-01-19T11:22:16.767961Z"
    }
   },
   "outputs": [],
   "source": [
    "chisq,p=st.chisquare(table1)"
   ]
  },
  {
   "cell_type": "code",
   "execution_count": 16,
   "metadata": {
    "ExecuteTime": {
     "end_time": "2021-01-19T11:22:17.027222Z",
     "start_time": "2021-01-19T11:22:16.851260Z"
    }
   },
   "outputs": [
    {
     "data": {
      "text/plain": [
       "(array([17.18367347,  7.58139535]), array([0.00018561, 0.02257984]))"
      ]
     },
     "execution_count": 16,
     "metadata": {},
     "output_type": "execute_result"
    }
   ],
   "source": [
    "chisq,p"
   ]
  },
  {
   "cell_type": "code",
   "execution_count": 17,
   "metadata": {
    "ExecuteTime": {
     "end_time": "2021-01-19T11:22:17.211149Z",
     "start_time": "2021-01-19T11:22:17.027222Z"
    }
   },
   "outputs": [
    {
     "data": {
      "text/plain": [
       "Power_divergenceResult(statistic=2.0109589041095894, pvalue=0.8476265939155094)"
      ]
     },
     "execution_count": 17,
     "metadata": {},
     "output_type": "execute_result"
    }
   ],
   "source": [
    "\n",
    "\n",
    "st.chisquare([16, 18, 16, 14, 12, 12], f_exp=[14.6, 14.6, 14.6, 14.6, 14.6, 14.6])\n",
    "#if not expected then fill this value by mean value"
   ]
  },
  {
   "cell_type": "code",
   "execution_count": 18,
   "metadata": {
    "ExecuteTime": {
     "end_time": "2021-01-19T11:22:17.373124Z",
     "start_time": "2021-01-19T11:22:17.211149Z"
    }
   },
   "outputs": [],
   "source": [
    "Drug=pd.DataFrame({'X-Drug':[10,20,15],'Y-Drug':[25,16,20]},index=['A','B','C'])"
   ]
  },
  {
   "cell_type": "code",
   "execution_count": 19,
   "metadata": {
    "ExecuteTime": {
     "end_time": "2021-01-19T11:22:17.531302Z",
     "start_time": "2021-01-19T11:22:17.379316Z"
    },
    "scrolled": true
   },
   "outputs": [
    {
     "data": {
      "text/html": [
       "<div>\n",
       "<style scoped>\n",
       "    .dataframe tbody tr th:only-of-type {\n",
       "        vertical-align: middle;\n",
       "    }\n",
       "\n",
       "    .dataframe tbody tr th {\n",
       "        vertical-align: top;\n",
       "    }\n",
       "\n",
       "    .dataframe thead th {\n",
       "        text-align: right;\n",
       "    }\n",
       "</style>\n",
       "<table border=\"1\" class=\"dataframe\">\n",
       "  <thead>\n",
       "    <tr style=\"text-align: right;\">\n",
       "      <th></th>\n",
       "      <th>X-Drug</th>\n",
       "      <th>Y-Drug</th>\n",
       "    </tr>\n",
       "  </thead>\n",
       "  <tbody>\n",
       "    <tr>\n",
       "      <th>A</th>\n",
       "      <td>10</td>\n",
       "      <td>25</td>\n",
       "    </tr>\n",
       "    <tr>\n",
       "      <th>B</th>\n",
       "      <td>20</td>\n",
       "      <td>16</td>\n",
       "    </tr>\n",
       "    <tr>\n",
       "      <th>C</th>\n",
       "      <td>15</td>\n",
       "      <td>20</td>\n",
       "    </tr>\n",
       "  </tbody>\n",
       "</table>\n",
       "</div>"
      ],
      "text/plain": [
       "   X-Drug  Y-Drug\n",
       "A      10      25\n",
       "B      20      16\n",
       "C      15      20"
      ]
     },
     "execution_count": 19,
     "metadata": {},
     "output_type": "execute_result"
    }
   ],
   "source": [
    "Drug # here value indicates the weights looses by drugs Man:A,B,C"
   ]
  },
  {
   "cell_type": "code",
   "execution_count": 20,
   "metadata": {
    "ExecuteTime": {
     "end_time": "2021-01-19T11:22:18.858045Z",
     "start_time": "2021-01-19T11:22:17.531302Z"
    },
    "scrolled": true
   },
   "outputs": [
    {
     "data": {
      "text/plain": [
       "<AxesSubplot:>"
      ]
     },
     "execution_count": 20,
     "metadata": {},
     "output_type": "execute_result"
    },
    {
     "data": {
      "image/png": "[encoded data removed]",
      "text/plain": [
       "<Figure size 432x288 with 1 Axes>"
      ]
     },
     "metadata": {
      "needs_background": "light"
     },
     "output_type": "display_data"
    }
   ],
   "source": [
    "\n",
    "Drug.T.plot(kind='barh', stacked=True)"
   ]
  },
  {
   "cell_type": "markdown",
   "metadata": {},
   "source": [
    "<b> Question: here man loose weights it is independents from the diffrents drugs </b>\n",
    "    "
   ]
  },
  {
   "cell_type": "markdown",
   "metadata": {},
   "source": [
    "\n",
    "<b> Method:1</b>"
   ]
  },
  {
   "cell_type": "code",
   "execution_count": 21,
   "metadata": {
    "ExecuteTime": {
     "end_time": "2021-01-19T11:22:18.866048Z",
     "start_time": "2021-01-19T11:22:18.858045Z"
    }
   },
   "outputs": [],
   "source": [
    "#H0: xdrug=ydrugs equal of weights loss\n",
    "# H1:  xdrug != ydrugs not equal "
   ]
  },
  {
   "cell_type": "code",
   "execution_count": 22,
   "metadata": {
    "ExecuteTime": {
     "end_time": "2021-01-19T11:22:19.011291Z",
     "start_time": "2021-01-19T11:22:18.866048Z"
    }
   },
   "outputs": [
    {
     "data": {
      "text/plain": [
       "(5.292797872032844,\n",
       " 0.07090609124006292,\n",
       " 2,\n",
       " array([[14.85849057, 20.14150943],\n",
       "        [15.28301887, 20.71698113],\n",
       "        [14.85849057, 20.14150943]]))"
      ]
     },
     "execution_count": 22,
     "metadata": {},
     "output_type": "execute_result"
    }
   ],
   "source": [
    "chis, p, dof, expected = st.chi2_contingency(Drug,correction=True)\n",
    "chis, p, dof, expected"
   ]
  },
  {
   "cell_type": "code",
   "execution_count": 23,
   "metadata": {
    "ExecuteTime": {
     "end_time": "2021-01-19T11:22:19.124674Z",
     "start_time": "2021-01-19T11:22:19.011743Z"
    }
   },
   "outputs": [
    {
     "data": {
      "text/html": [
       "<div>\n",
       "<style scoped>\n",
       "    .dataframe tbody tr th:only-of-type {\n",
       "        vertical-align: middle;\n",
       "    }\n",
       "\n",
       "    .dataframe tbody tr th {\n",
       "        vertical-align: top;\n",
       "    }\n",
       "\n",
       "    .dataframe thead th {\n",
       "        text-align: right;\n",
       "    }\n",
       "</style>\n",
       "<table border=\"1\" class=\"dataframe\">\n",
       "  <thead>\n",
       "    <tr style=\"text-align: right;\">\n",
       "      <th></th>\n",
       "      <th>X</th>\n",
       "      <th>Y</th>\n",
       "    </tr>\n",
       "  </thead>\n",
       "  <tbody>\n",
       "    <tr>\n",
       "      <th>A</th>\n",
       "      <td>14.858491</td>\n",
       "      <td>20.141509</td>\n",
       "    </tr>\n",
       "    <tr>\n",
       "      <th>B</th>\n",
       "      <td>15.283019</td>\n",
       "      <td>20.716981</td>\n",
       "    </tr>\n",
       "    <tr>\n",
       "      <th>C</th>\n",
       "      <td>14.858491</td>\n",
       "      <td>20.141509</td>\n",
       "    </tr>\n",
       "  </tbody>\n",
       "</table>\n",
       "</div>"
      ],
      "text/plain": [
       "           X          Y\n",
       "A  14.858491  20.141509\n",
       "B  15.283019  20.716981\n",
       "C  14.858491  20.141509"
      ]
     },
     "execution_count": 23,
     "metadata": {},
     "output_type": "execute_result"
    }
   ],
   "source": [
    "expected=pd.DataFrame({'X':expected[:,0],'Y':expected[:,1]},index=['A','B','C'])\n",
    "expected"
   ]
  },
  {
   "cell_type": "code",
   "execution_count": 24,
   "metadata": {
    "ExecuteTime": {
     "end_time": "2021-01-19T11:22:19.555002Z",
     "start_time": "2021-01-19T11:22:19.124674Z"
    }
   },
   "outputs": [
    {
     "data": {
      "text/plain": [
       "<AxesSubplot:>"
      ]
     },
     "execution_count": 24,
     "metadata": {},
     "output_type": "execute_result"
    },
    {
     "data": {
      "image/png": "[encoded data removed]",
      "text/plain": [
       "<Figure size 432x288 with 1 Axes>"
      ]
     },
     "metadata": {
      "needs_background": "light"
     },
     "output_type": "display_data"
    }
   ],
   "source": [
    "expected.T.plot(kind='barh', stacked=True)"
   ]
  },
  {
   "cell_type": "code",
   "execution_count": 25,
   "metadata": {
    "ExecuteTime": {
     "end_time": "2021-01-19T11:22:19.573103Z",
     "start_time": "2021-01-19T11:22:19.557438Z"
    }
   },
   "outputs": [],
   "source": [
    "prob = 0.95\n",
    "critical = st.chi2.ppf(prob, dof)"
   ]
  },
  {
   "cell_type": "code",
   "execution_count": 26,
   "metadata": {
    "ExecuteTime": {
     "end_time": "2021-01-19T11:22:19.723546Z",
     "start_time": "2021-01-19T11:22:19.573103Z"
    }
   },
   "outputs": [
    {
     "data": {
      "text/plain": [
       "5.991464547107979"
      ]
     },
     "execution_count": 26,
     "metadata": {},
     "output_type": "execute_result"
    }
   ],
   "source": [
    "critical"
   ]
  },
  {
   "cell_type": "code",
   "execution_count": 27,
   "metadata": {
    "ExecuteTime": {
     "end_time": "2021-01-19T11:22:19.880185Z",
     "start_time": "2021-01-19T11:22:19.723546Z"
    }
   },
   "outputs": [
    {
     "name": "stdout",
     "output_type": "stream",
     "text": [
      "significance=0.050, p=0.071\n",
      "Independent (fail to reject H0)\n"
     ]
    }
   ],
   "source": [
    "alpha = 1.0 - prob\n",
    "print('significance=%.3f, p=%.3f' % (alpha, p))\n",
    "if p <= alpha:\n",
    "    print('Dependent (reject H0)')\n",
    "else:\n",
    "    print('Independent (fail to reject H0)')"
   ]
  },
  {
   "cell_type": "code",
   "execution_count": 28,
   "metadata": {
    "ExecuteTime": {
     "end_time": "2021-01-19T11:22:20.044038Z",
     "start_time": "2021-01-19T11:22:19.881544Z"
    }
   },
   "outputs": [],
   "source": [
    "#conclusion : boths  drugs effect the same in terms of weightlosabss\n"
   ]
  },
  {
   "cell_type": "markdown",
   "metadata": {},
   "source": [
    "<b> Method:2</b>"
   ]
  },
  {
   "cell_type": "code",
   "execution_count": 29,
   "metadata": {
    "ExecuteTime": {
     "end_time": "2021-01-19T11:22:20.241382Z",
     "start_time": "2021-01-19T11:22:20.044038Z"
    }
   },
   "outputs": [
    {
     "data": {
      "text/html": [
       "<div>\n",
       "<style scoped>\n",
       "    .dataframe tbody tr th:only-of-type {\n",
       "        vertical-align: middle;\n",
       "    }\n",
       "\n",
       "    .dataframe tbody tr th {\n",
       "        vertical-align: top;\n",
       "    }\n",
       "\n",
       "    .dataframe thead th {\n",
       "        text-align: right;\n",
       "    }\n",
       "</style>\n",
       "<table border=\"1\" class=\"dataframe\">\n",
       "  <thead>\n",
       "    <tr style=\"text-align: right;\">\n",
       "      <th></th>\n",
       "      <th>X-Drug</th>\n",
       "      <th>Y-Drug</th>\n",
       "      <th>R-sum</th>\n",
       "    </tr>\n",
       "  </thead>\n",
       "  <tbody>\n",
       "    <tr>\n",
       "      <th>A</th>\n",
       "      <td>10</td>\n",
       "      <td>25</td>\n",
       "      <td>35</td>\n",
       "    </tr>\n",
       "    <tr>\n",
       "      <th>B</th>\n",
       "      <td>20</td>\n",
       "      <td>16</td>\n",
       "      <td>36</td>\n",
       "    </tr>\n",
       "    <tr>\n",
       "      <th>C</th>\n",
       "      <td>15</td>\n",
       "      <td>20</td>\n",
       "      <td>35</td>\n",
       "    </tr>\n",
       "    <tr>\n",
       "      <th>Total</th>\n",
       "      <td>45</td>\n",
       "      <td>61</td>\n",
       "      <td>106</td>\n",
       "    </tr>\n",
       "  </tbody>\n",
       "</table>\n",
       "</div>"
      ],
      "text/plain": [
       "       X-Drug  Y-Drug  R-sum\n",
       "A          10      25     35\n",
       "B          20      16     36\n",
       "C          15      20     35\n",
       "Total      45      61    106"
      ]
     },
     "execution_count": 29,
     "metadata": {},
     "output_type": "execute_result"
    }
   ],
   "source": [
    "Drug['R-sum']=Drug.sum(axis=1)\n",
    "Drug.loc['Total']=Drug.sum(axis=0)\n",
    "Drug"
   ]
  },
  {
   "cell_type": "code",
   "execution_count": 30,
   "metadata": {
    "ExecuteTime": {
     "end_time": "2021-01-19T11:22:20.354456Z",
     "start_time": "2021-01-19T11:22:20.241382Z"
    }
   },
   "outputs": [],
   "source": [
    "for i in Drug.columns:\n",
    "       Drug[i+'expected'] =Drug.loc[:, 'R-sum']*Drug.loc['Total', i]/Drug.loc['Total', 'R-sum']"
   ]
  },
  {
   "cell_type": "code",
   "execution_count": 31,
   "metadata": {
    "ExecuteTime": {
     "end_time": "2021-01-19T11:22:20.525911Z",
     "start_time": "2021-01-19T11:22:20.354456Z"
    }
   },
   "outputs": [
    {
     "data": {
      "text/html": [
       "<div>\n",
       "<style scoped>\n",
       "    .dataframe tbody tr th:only-of-type {\n",
       "        vertical-align: middle;\n",
       "    }\n",
       "\n",
       "    .dataframe tbody tr th {\n",
       "        vertical-align: top;\n",
       "    }\n",
       "\n",
       "    .dataframe thead th {\n",
       "        text-align: right;\n",
       "    }\n",
       "</style>\n",
       "<table border=\"1\" class=\"dataframe\">\n",
       "  <thead>\n",
       "    <tr style=\"text-align: right;\">\n",
       "      <th></th>\n",
       "      <th>X-Drug</th>\n",
       "      <th>Y-Drug</th>\n",
       "      <th>R-sum</th>\n",
       "      <th>X-Drugexpected</th>\n",
       "      <th>Y-Drugexpected</th>\n",
       "      <th>R-sumexpected</th>\n",
       "    </tr>\n",
       "  </thead>\n",
       "  <tbody>\n",
       "    <tr>\n",
       "      <th>A</th>\n",
       "      <td>10</td>\n",
       "      <td>25</td>\n",
       "      <td>35</td>\n",
       "      <td>14.858491</td>\n",
       "      <td>20.141509</td>\n",
       "      <td>35.0</td>\n",
       "    </tr>\n",
       "    <tr>\n",
       "      <th>B</th>\n",
       "      <td>20</td>\n",
       "      <td>16</td>\n",
       "      <td>36</td>\n",
       "      <td>15.283019</td>\n",
       "      <td>20.716981</td>\n",
       "      <td>36.0</td>\n",
       "    </tr>\n",
       "    <tr>\n",
       "      <th>C</th>\n",
       "      <td>15</td>\n",
       "      <td>20</td>\n",
       "      <td>35</td>\n",
       "      <td>14.858491</td>\n",
       "      <td>20.141509</td>\n",
       "      <td>35.0</td>\n",
       "    </tr>\n",
       "    <tr>\n",
       "      <th>Total</th>\n",
       "      <td>45</td>\n",
       "      <td>61</td>\n",
       "      <td>106</td>\n",
       "      <td>45.000000</td>\n",
       "      <td>61.000000</td>\n",
       "      <td>106.0</td>\n",
       "    </tr>\n",
       "  </tbody>\n",
       "</table>\n",
       "</div>"
      ],
      "text/plain": [
       "       X-Drug  Y-Drug  R-sum  X-Drugexpected  Y-Drugexpected  R-sumexpected\n",
       "A          10      25     35       14.858491       20.141509           35.0\n",
       "B          20      16     36       15.283019       20.716981           36.0\n",
       "C          15      20     35       14.858491       20.141509           35.0\n",
       "Total      45      61    106       45.000000       61.000000          106.0"
      ]
     },
     "execution_count": 31,
     "metadata": {},
     "output_type": "execute_result"
    }
   ],
   "source": [
    "Drug"
   ]
  },
  {
   "cell_type": "code",
   "execution_count": 32,
   "metadata": {
    "ExecuteTime": {
     "end_time": "2021-01-19T11:22:20.715869Z",
     "start_time": "2021-01-19T11:22:20.525911Z"
    }
   },
   "outputs": [],
   "source": [
    "chiq=0\n",
    "for i, j in zip(['X-Drug', 'Y-Drug'], ['X-Drugexpected', 'Y-Drugexpected']):\n",
    "        chiq=chiq+((Drug.loc[:,i]-Drug.loc[:,j])**2/Drug.loc[:,j]).sum()"
   ]
  },
  {
   "cell_type": "code",
   "execution_count": 33,
   "metadata": {
    "ExecuteTime": {
     "end_time": "2021-01-19T11:22:20.881875Z",
     "start_time": "2021-01-19T11:22:20.715869Z"
    }
   },
   "outputs": [
    {
     "data": {
      "text/plain": [
       "5.292797872032844"
      ]
     },
     "execution_count": 33,
     "metadata": {},
     "output_type": "execute_result"
    }
   ],
   "source": [
    "chiq"
   ]
  },
  {
   "cell_type": "code",
   "execution_count": 34,
   "metadata": {
    "ExecuteTime": {
     "end_time": "2021-01-19T11:22:21.051453Z",
     "start_time": "2021-01-19T11:22:20.881875Z"
    }
   },
   "outputs": [
    {
     "data": {
      "text/plain": [
       "2"
      ]
     },
     "execution_count": 34,
     "metadata": {},
     "output_type": "execute_result"
    }
   ],
   "source": [
    "dof"
   ]
  },
  {
   "cell_type": "code",
   "execution_count": 35,
   "metadata": {
    "ExecuteTime": {
     "end_time": "2021-01-19T11:22:21.205567Z",
     "start_time": "2021-01-19T11:22:21.051453Z"
    }
   },
   "outputs": [
    {
     "data": {
      "text/plain": [
       "2"
      ]
     },
     "execution_count": 35,
     "metadata": {},
     "output_type": "execute_result"
    }
   ],
   "source": [
    "dof"
   ]
  },
  {
   "cell_type": "code",
   "execution_count": null,
   "metadata": {},
   "outputs": [],
   "source": []
  },
  {
   "cell_type": "code",
   "execution_count": 36,
   "metadata": {
    "ExecuteTime": {
     "end_time": "2021-01-19T11:22:21.613825Z",
     "start_time": "2021-01-19T11:22:21.205567Z"
    }
   },
   "outputs": [],
   "source": [
    "#import Data\n",
    "data_train=pd.read_csv('../data/Car_train-data.csv')"
   ]
  },
  {
   "cell_type": "code",
   "execution_count": 37,
   "metadata": {
    "ExecuteTime": {
     "end_time": "2021-01-19T11:22:22.097871Z",
     "start_time": "2021-01-19T11:22:21.613825Z"
    }
   },
   "outputs": [
    {
     "data": {
      "text/plain": [
       "<AxesSubplot:xlabel='Fuel_Type', ylabel='count'>"
      ]
     },
     "execution_count": 37,
     "metadata": {},
     "output_type": "execute_result"
    },
    {
     "data": {
      "image/png": "[encoded data removed]",
      "text/plain": [
       "<Figure size 432x288 with 1 Axes>"
      ]
     },
     "metadata": {
      "needs_background": "light"
     },
     "output_type": "display_data"
    }
   ],
   "source": [
    "sns.countplot(data_train['Fuel_Type'])"
   ]
  },
  {
   "cell_type": "code",
   "execution_count": null,
   "metadata": {},
   "outputs": [],
   "source": []
  },
  {
   "cell_type": "code",
   "execution_count": 38,
   "metadata": {
    "ExecuteTime": {
     "end_time": "2021-01-19T11:22:22.269922Z",
     "start_time": "2021-01-19T11:22:22.098805Z"
    }
   },
   "outputs": [
    {
     "data": {
      "text/plain": [
       "<AxesSubplot:xlabel='Transmission', ylabel='count'>"
      ]
     },
     "execution_count": 38,
     "metadata": {},
     "output_type": "execute_result"
    },
    {
     "data": {
      "image/png": "[encoded data removed]",
      "text/plain": [
       "<Figure size 432x288 with 1 Axes>"
      ]
     },
     "metadata": {
      "needs_background": "light"
     },
     "output_type": "display_data"
    }
   ],
   "source": [
    "sns.countplot(data_train['Transmission'])"
   ]
  },
  {
   "cell_type": "markdown",
   "metadata": {
    "ExecuteTime": {
     "end_time": "2020-09-26T08:17:31.365838Z",
     "start_time": "2020-09-26T08:17:31.334581Z"
    }
   },
   "source": [
    "<b> Transmission affect on the seats </b>"
   ]
  },
  {
   "cell_type": "code",
   "execution_count": 39,
   "metadata": {
    "ExecuteTime": {
     "end_time": "2021-01-19T11:22:22.468060Z",
     "start_time": "2021-01-19T11:22:22.269922Z"
    }
   },
   "outputs": [
    {
     "data": {
      "text/html": [
       "<div>\n",
       "<style scoped>\n",
       "    .dataframe tbody tr th:only-of-type {\n",
       "        vertical-align: middle;\n",
       "    }\n",
       "\n",
       "    .dataframe tbody tr th {\n",
       "        vertical-align: top;\n",
       "    }\n",
       "\n",
       "    .dataframe thead th {\n",
       "        text-align: right;\n",
       "    }\n",
       "</style>\n",
       "<table border=\"1\" class=\"dataframe\">\n",
       "  <thead>\n",
       "    <tr style=\"text-align: right;\">\n",
       "      <th>Transmission</th>\n",
       "      <th>Automatic</th>\n",
       "      <th>Manual</th>\n",
       "    </tr>\n",
       "    <tr>\n",
       "      <th>Seats</th>\n",
       "      <th></th>\n",
       "      <th></th>\n",
       "    </tr>\n",
       "  </thead>\n",
       "  <tbody>\n",
       "    <tr>\n",
       "      <th>0.0</th>\n",
       "      <td>1</td>\n",
       "      <td>0</td>\n",
       "    </tr>\n",
       "    <tr>\n",
       "      <th>2.0</th>\n",
       "      <td>15</td>\n",
       "      <td>1</td>\n",
       "    </tr>\n",
       "    <tr>\n",
       "      <th>4.0</th>\n",
       "      <td>62</td>\n",
       "      <td>37</td>\n",
       "    </tr>\n",
       "    <tr>\n",
       "      <th>5.0</th>\n",
       "      <td>1422</td>\n",
       "      <td>3592</td>\n",
       "    </tr>\n",
       "    <tr>\n",
       "      <th>6.0</th>\n",
       "      <td>4</td>\n",
       "      <td>27</td>\n",
       "    </tr>\n",
       "    <tr>\n",
       "      <th>7.0</th>\n",
       "      <td>201</td>\n",
       "      <td>473</td>\n",
       "    </tr>\n",
       "    <tr>\n",
       "      <th>8.0</th>\n",
       "      <td>6</td>\n",
       "      <td>128</td>\n",
       "    </tr>\n",
       "    <tr>\n",
       "      <th>9.0</th>\n",
       "      <td>0</td>\n",
       "      <td>3</td>\n",
       "    </tr>\n",
       "    <tr>\n",
       "      <th>10.0</th>\n",
       "      <td>0</td>\n",
       "      <td>5</td>\n",
       "    </tr>\n",
       "  </tbody>\n",
       "</table>\n",
       "</div>"
      ],
      "text/plain": [
       "Transmission  Automatic  Manual\n",
       "Seats                          \n",
       "0.0                   1       0\n",
       "2.0                  15       1\n",
       "4.0                  62      37\n",
       "5.0                1422    3592\n",
       "6.0                   4      27\n",
       "7.0                 201     473\n",
       "8.0                   6     128\n",
       "9.0                   0       3\n",
       "10.0                  0       5"
      ]
     },
     "execution_count": 39,
     "metadata": {},
     "output_type": "execute_result"
    }
   ],
   "source": [
    "Tr_se=pd.crosstab(data_train['Seats'],data_train['Transmission'])\n",
    "Tr_se"
   ]
  },
  {
   "cell_type": "code",
   "execution_count": 40,
   "metadata": {
    "ExecuteTime": {
     "end_time": "2021-01-19T11:22:22.618179Z",
     "start_time": "2021-01-19T11:22:22.468060Z"
    }
   },
   "outputs": [],
   "source": [
    "Tr_se.drop(Tr_se[(Tr_se['Automatic']< 5) | (Tr_se['Manual']<5)].index,inplace=True)\n",
    "\n",
    "m=list(Tr_se.index)"
   ]
  },
  {
   "cell_type": "code",
   "execution_count": 41,
   "metadata": {
    "ExecuteTime": {
     "end_time": "2021-01-19T11:22:22.961042Z",
     "start_time": "2021-01-19T11:22:22.618179Z"
    }
   },
   "outputs": [
    {
     "data": {
      "text/html": [
       "<div>\n",
       "<style scoped>\n",
       "    .dataframe tbody tr th:only-of-type {\n",
       "        vertical-align: middle;\n",
       "    }\n",
       "\n",
       "    .dataframe tbody tr th {\n",
       "        vertical-align: top;\n",
       "    }\n",
       "\n",
       "    .dataframe thead th {\n",
       "        text-align: right;\n",
       "    }\n",
       "</style>\n",
       "<table border=\"1\" class=\"dataframe\">\n",
       "  <thead>\n",
       "    <tr style=\"text-align: right;\">\n",
       "      <th>Transmission</th>\n",
       "      <th>Automatic</th>\n",
       "      <th>Manual</th>\n",
       "    </tr>\n",
       "    <tr>\n",
       "      <th>Seats</th>\n",
       "      <th></th>\n",
       "      <th></th>\n",
       "    </tr>\n",
       "  </thead>\n",
       "  <tbody>\n",
       "    <tr>\n",
       "      <th>4.0</th>\n",
       "      <td>62</td>\n",
       "      <td>37</td>\n",
       "    </tr>\n",
       "    <tr>\n",
       "      <th>5.0</th>\n",
       "      <td>1422</td>\n",
       "      <td>3592</td>\n",
       "    </tr>\n",
       "    <tr>\n",
       "      <th>7.0</th>\n",
       "      <td>201</td>\n",
       "      <td>473</td>\n",
       "    </tr>\n",
       "    <tr>\n",
       "      <th>8.0</th>\n",
       "      <td>6</td>\n",
       "      <td>128</td>\n",
       "    </tr>\n",
       "  </tbody>\n",
       "</table>\n",
       "</div>"
      ],
      "text/plain": [
       "Transmission  Automatic  Manual\n",
       "Seats                          \n",
       "4.0                  62      37\n",
       "5.0                1422    3592\n",
       "7.0                 201     473\n",
       "8.0                   6     128"
      ]
     },
     "execution_count": 41,
     "metadata": {},
     "output_type": "execute_result"
    }
   ],
   "source": [
    "Tr_se"
   ]
  },
  {
   "cell_type": "code",
   "execution_count": 42,
   "metadata": {
    "ExecuteTime": {
     "end_time": "2021-01-19T11:22:23.103727Z",
     "start_time": "2021-01-19T11:22:22.961042Z"
    }
   },
   "outputs": [],
   "source": [
    "chi,p,dof,expected=st.chi2_contingency(Tr_se,correction=True)"
   ]
  },
  {
   "cell_type": "code",
   "execution_count": 43,
   "metadata": {
    "ExecuteTime": {
     "end_time": "2021-01-19T11:22:23.259356Z",
     "start_time": "2021-01-19T11:22:23.103727Z"
    }
   },
   "outputs": [
    {
     "data": {
      "text/plain": [
       "(95.02434441010487,\n",
       " 1.824246787245479e-20,\n",
       " 3,\n",
       " array([[  28.27377132,   70.72622868],\n",
       "        [1431.9665597 , 3582.0334403 ],\n",
       "        [ 192.49011991,  481.50988009],\n",
       "        [  38.26954906,   95.73045094]]))"
      ]
     },
     "execution_count": 43,
     "metadata": {},
     "output_type": "execute_result"
    }
   ],
   "source": [
    "chi,p,dof,expected"
   ]
  },
  {
   "cell_type": "code",
   "execution_count": 44,
   "metadata": {
    "ExecuteTime": {
     "end_time": "2021-01-19T11:22:23.450540Z",
     "start_time": "2021-01-19T11:22:23.264264Z"
    }
   },
   "outputs": [
    {
     "data": {
      "text/plain": [
       "7.814727903251179"
      ]
     },
     "execution_count": 44,
     "metadata": {},
     "output_type": "execute_result"
    }
   ],
   "source": [
    "prob=0.95\n",
    "critical=st.chi2.ppf(prob,dof)\n",
    "critical"
   ]
  },
  {
   "cell_type": "code",
   "execution_count": 45,
   "metadata": {
    "ExecuteTime": {
     "end_time": "2021-01-19T11:22:23.570656Z",
     "start_time": "2021-01-19T11:22:23.450540Z"
    }
   },
   "outputs": [
    {
     "data": {
      "text/html": [
       "<div>\n",
       "<style scoped>\n",
       "    .dataframe tbody tr th:only-of-type {\n",
       "        vertical-align: middle;\n",
       "    }\n",
       "\n",
       "    .dataframe tbody tr th {\n",
       "        vertical-align: top;\n",
       "    }\n",
       "\n",
       "    .dataframe thead th {\n",
       "        text-align: right;\n",
       "    }\n",
       "</style>\n",
       "<table border=\"1\" class=\"dataframe\">\n",
       "  <thead>\n",
       "    <tr style=\"text-align: right;\">\n",
       "      <th></th>\n",
       "      <th>Automatic</th>\n",
       "      <th>Manual</th>\n",
       "    </tr>\n",
       "  </thead>\n",
       "  <tbody>\n",
       "    <tr>\n",
       "      <th>4.0</th>\n",
       "      <td>28.273771</td>\n",
       "      <td>70.726229</td>\n",
       "    </tr>\n",
       "    <tr>\n",
       "      <th>5.0</th>\n",
       "      <td>1431.966560</td>\n",
       "      <td>3582.033440</td>\n",
       "    </tr>\n",
       "    <tr>\n",
       "      <th>7.0</th>\n",
       "      <td>192.490120</td>\n",
       "      <td>481.509880</td>\n",
       "    </tr>\n",
       "    <tr>\n",
       "      <th>8.0</th>\n",
       "      <td>38.269549</td>\n",
       "      <td>95.730451</td>\n",
       "    </tr>\n",
       "  </tbody>\n",
       "</table>\n",
       "</div>"
      ],
      "text/plain": [
       "       Automatic       Manual\n",
       "4.0    28.273771    70.726229\n",
       "5.0  1431.966560  3582.033440\n",
       "7.0   192.490120   481.509880\n",
       "8.0    38.269549    95.730451"
      ]
     },
     "execution_count": 45,
     "metadata": {},
     "output_type": "execute_result"
    }
   ],
   "source": [
    "expected=pd.DataFrame({'Automatic':expected[:,0],'Manual':expected[:,1]},index=m)\n",
    "expected"
   ]
  },
  {
   "cell_type": "code",
   "execution_count": null,
   "metadata": {},
   "outputs": [],
   "source": []
  },
  {
   "cell_type": "code",
   "execution_count": null,
   "metadata": {},
   "outputs": [],
   "source": []
  }
 ],
 "metadata": {
  "kernelspec": {
   "display_name": "Python 3",
   "language": "python",
   "name": "python3"
  },
  "language_info": {
   "codemirror_mode": {
    "name": "ipython",
    "version": 3
   },
   "file_extension": ".py",
   "mimetype": "text/x-python",
   "name": "python",
   "nbconvert_exporter": "python",
   "pygments_lexer": "ipython3",
   "version": "3.7.9"
  },
  "latex_envs": {
   "LaTeX_envs_menu_present": true,
   "autoclose": false,
   "autocomplete": true,
   "bibliofile": "biblio.bib",
   "cite_by": "apalike",
   "current_citInitial": 1,
   "eqLabelWithNumbers": true,
   "eqNumInitial": 1,
   "hotkeys": {
    "equation": "Ctrl-E",
    "itemize": "Ctrl-I"
   },
   "labels_anchors": false,
   "latex_user_defs": false,
   "report_style_numbering": false,
   "user_envs_cfg": false
  },
  "toc": {
   "base_numbering": 1,
   "nav_menu": {},
   "number_sections": true,
   "sideBar": true,
   "skip_h1_title": false,
   "title_cell": "Table of Contents",
   "title_sidebar": "Contents",
   "toc_cell": false,
   "toc_position": {},
   "toc_section_display": true,
   "toc_window_display": false
  }
 },
 "nbformat": 4,
 "nbformat_minor": 4
}
