{
 "cells": [
  {
   "cell_type": "code",
   "execution_count": 2,
   "metadata": {
    "ExecuteTime": {
     "end_time": "2020-10-09T10:53:20.596388Z",
     "start_time": "2020-10-09T10:53:03.276233Z"
    }
   },
   "outputs": [],
   "source": [
    "import pandas as pd \n",
    "import numpy as np\n",
    "import matplotlib.pyplot as plt\n",
    "import seaborn as sns\n",
    "import warnings\n",
    "warnings.filterwarnings(\"ignore\", category=DeprecationWarning) \n",
    "from sklearn.linear_model import LinearRegression\n",
    "import statsmodels.formula.api as smf\n",
    "import scipy as sm \n",
    "from statsmodels.stats.anova import anova_lm\n",
    "import scipy.stats as st "
   ]
  },
  {
   "cell_type": "code",
   "execution_count": 56,
   "metadata": {
    "ExecuteTime": {
     "end_time": "2020-10-09T11:17:58.388006Z",
     "start_time": "2020-10-09T11:17:58.362662Z"
    }
   },
   "outputs": [],
   "source": [
    "def skew_to_normal(data, col):\n",
    "    power = 1\n",
    "    divide = data[col].max()/3\n",
    "    i = 1\n",
    "    if(data[col].skew() < -1):\n",
    "        reach_mean = data[col].mean()\n",
    "        new_mean = np.mean(data[col].apply(lambda x: (x/divide)**power))\n",
    "        while i < 20:\n",
    "            c = reach_mean/new_mean\n",
    "            if(c <= 1):\n",
    "                break\n",
    "            else:\n",
    "                new_mean = np.mean(data[col].apply(lambda x: (x/divide)**power))\n",
    "                power += 0.2\n",
    "                i = i+1\n",
    "        normal_list = data[col].apply(lambda x: (x/divide)**power)\n",
    "        return (normal_list, power, divide, f'formul =(x/{divide})**{power}') \n",
    "    \n",
    "    else:\n",
    "        normal_list=np.log(data[col])\n",
    "        return (normal_list, \"use natural log tansformation\") \n",
    "    "
   ]
  },
  {
   "cell_type": "code",
   "execution_count": 57,
   "metadata": {
    "ExecuteTime": {
     "end_time": "2020-10-09T11:17:58.977843Z",
     "start_time": "2020-10-09T11:17:58.968034Z"
    }
   },
   "outputs": [],
   "source": [
    "l1=st.skewnorm.rvs(-9, size=100)"
   ]
  },
  {
   "cell_type": "code",
   "execution_count": 43,
   "metadata": {
    "ExecuteTime": {
     "end_time": "2020-10-09T11:15:18.245995Z",
     "start_time": "2020-10-09T11:15:18.237801Z"
    }
   },
   "outputs": [],
   "source": [
    "data_frame=pd.DataFrame(l1,columns=['skew_data'])\n"
   ]
  },
  {
   "cell_type": "code",
   "execution_count": 58,
   "metadata": {
    "ExecuteTime": {
     "end_time": "2020-10-09T11:18:06.788048Z",
     "start_time": "2020-10-09T11:18:06.402630Z"
    }
   },
   "outputs": [
    {
     "data": {
      "text/plain": [
       "-1.0344925296482597"
      ]
     },
     "execution_count": 58,
     "metadata": {},
     "output_type": "execute_result"
    },
    {
     "data": {
      "image/png": "[encoded data removed]",
      "text/plain": [
       "<Figure size 432x288 with 1 Axes>"
      ]
     },
     "metadata": {
      "needs_background": "light"
     },
     "output_type": "display_data"
    }
   ],
   "source": [
    "sns.distplot(l1)\n",
    "st.skew(l1)"
   ]
  },
  {
   "cell_type": "code",
   "execution_count": 45,
   "metadata": {
    "ExecuteTime": {
     "end_time": "2020-10-09T11:15:19.406268Z",
     "start_time": "2020-10-09T11:15:19.376016Z"
    }
   },
   "outputs": [
    {
     "data": {
      "text/html": [
       "<div>\n",
       "<style scoped>\n",
       "    .dataframe tbody tr th:only-of-type {\n",
       "        vertical-align: middle;\n",
       "    }\n",
       "\n",
       "    .dataframe tbody tr th {\n",
       "        vertical-align: top;\n",
       "    }\n",
       "\n",
       "    .dataframe thead th {\n",
       "        text-align: right;\n",
       "    }\n",
       "</style>\n",
       "<table border=\"1\" class=\"dataframe\">\n",
       "  <thead>\n",
       "    <tr style=\"text-align: right;\">\n",
       "      <th></th>\n",
       "      <th>skew_data</th>\n",
       "    </tr>\n",
       "  </thead>\n",
       "  <tbody>\n",
       "    <tr>\n",
       "      <th>0</th>\n",
       "      <td>-0.937671</td>\n",
       "    </tr>\n",
       "    <tr>\n",
       "      <th>1</th>\n",
       "      <td>-0.474199</td>\n",
       "    </tr>\n",
       "    <tr>\n",
       "      <th>2</th>\n",
       "      <td>-0.789358</td>\n",
       "    </tr>\n",
       "    <tr>\n",
       "      <th>3</th>\n",
       "      <td>-0.224891</td>\n",
       "    </tr>\n",
       "    <tr>\n",
       "      <th>4</th>\n",
       "      <td>-0.787612</td>\n",
       "    </tr>\n",
       "    <tr>\n",
       "      <th>...</th>\n",
       "      <td>...</td>\n",
       "    </tr>\n",
       "    <tr>\n",
       "      <th>95</th>\n",
       "      <td>-0.558663</td>\n",
       "    </tr>\n",
       "    <tr>\n",
       "      <th>96</th>\n",
       "      <td>-0.232715</td>\n",
       "    </tr>\n",
       "    <tr>\n",
       "      <th>97</th>\n",
       "      <td>-1.212555</td>\n",
       "    </tr>\n",
       "    <tr>\n",
       "      <th>98</th>\n",
       "      <td>-1.199225</td>\n",
       "    </tr>\n",
       "    <tr>\n",
       "      <th>99</th>\n",
       "      <td>-0.112733</td>\n",
       "    </tr>\n",
       "  </tbody>\n",
       "</table>\n",
       "<p>100 rows × 1 columns</p>\n",
       "</div>"
      ],
      "text/plain": [
       "    skew_data\n",
       "0   -0.937671\n",
       "1   -0.474199\n",
       "2   -0.789358\n",
       "3   -0.224891\n",
       "4   -0.787612\n",
       "..        ...\n",
       "95  -0.558663\n",
       "96  -0.232715\n",
       "97  -1.212555\n",
       "98  -1.199225\n",
       "99  -0.112733\n",
       "\n",
       "[100 rows x 1 columns]"
      ]
     },
     "execution_count": 45,
     "metadata": {},
     "output_type": "execute_result"
    }
   ],
   "source": [
    "data_frame"
   ]
  },
  {
   "cell_type": "code",
   "execution_count": 53,
   "metadata": {
    "ExecuteTime": {
     "end_time": "2020-10-09T11:16:33.445840Z",
     "start_time": "2020-10-09T11:16:33.416999Z"
    }
   },
   "outputs": [
    {
     "data": {
      "text/plain": [
       "pandas.core.series.Series"
      ]
     },
     "execution_count": 53,
     "metadata": {},
     "output_type": "execute_result"
    }
   ],
   "source": [
    "l1=skew_to_normal(data_frame,'skew_data')\n",
    "type(l1[0])"
   ]
  },
  {
   "cell_type": "code",
   "execution_count": 55,
   "metadata": {
    "ExecuteTime": {
     "end_time": "2020-10-09T11:16:41.666857Z",
     "start_time": "2020-10-09T11:16:41.637133Z"
    }
   },
   "outputs": [
    {
     "data": {
      "text/plain": [
       "-0.6409439618297321"
      ]
     },
     "execution_count": 55,
     "metadata": {},
     "output_type": "execute_result"
    }
   ],
   "source": [
    "st.skew(l1[0])"
   ]
  },
  {
   "cell_type": "code",
   "execution_count": null,
   "metadata": {},
   "outputs": [],
   "source": []
  }
 ],
 "metadata": {
  "kernelspec": {
   "display_name": "Python 3",
   "language": "python",
   "name": "python3"
  },
  "language_info": {
   "codemirror_mode": {
    "name": "ipython",
    "version": 3
   },
   "file_extension": ".py",
   "mimetype": "text/x-python",
   "name": "python",
   "nbconvert_exporter": "python",
   "pygments_lexer": "ipython3",
   "version": "3.7.6"
  },
  "toc": {
   "base_numbering": 1,
   "nav_menu": {},
   "number_sections": true,
   "sideBar": true,
   "skip_h1_title": false,
   "title_cell": "Table of Contents",
   "title_sidebar": "Contents",
   "toc_cell": false,
   "toc_position": {},
   "toc_section_display": true,
   "toc_window_display": false
  }
 },
 "nbformat": 4,
 "nbformat_minor": 4
}
