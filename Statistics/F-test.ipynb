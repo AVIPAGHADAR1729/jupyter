{
 "cells": [
  {
   "cell_type": "code",
   "execution_count": 1,
   "metadata": {
    "ExecuteTime": {
     "end_time": "2020-09-19T13:58:14.932429Z",
     "start_time": "2020-09-19T13:58:02.802404Z"
    }
   },
   "outputs": [],
   "source": [
    "import numpy as np\n",
    "import pandas as pd "
   ]
  },
  {
   "cell_type": "code",
   "execution_count": 3,
   "metadata": {
    "ExecuteTime": {
     "end_time": "2020-09-19T13:59:34.072812Z",
     "start_time": "2020-09-19T13:59:34.047797Z"
    }
   },
   "outputs": [],
   "source": [
    "X=np.random.randint(23,67,20)\n",
    "Y=np.random.randint(34,89,20)"
   ]
  },
  {
   "cell_type": "code",
   "execution_count": 14,
   "metadata": {
    "ExecuteTime": {
     "end_time": "2020-09-19T14:01:46.793548Z",
     "start_time": "2020-09-19T14:01:46.773473Z"
    }
   },
   "outputs": [],
   "source": [
    "df=pd.DataFrame(name=X,Y)"
   ]
  },
  {
   "cell_type": "code",
   "execution_count": 15,
   "metadata": {
    "ExecuteTime": {
     "end_time": "2020-09-19T14:01:47.248853Z",
     "start_time": "2020-09-19T14:01:47.203744Z"
    }
   },
   "outputs": [
    {
     "data": {
      "text/html": [
       "<div>\n",
       "<style scoped>\n",
       "    .dataframe tbody tr th:only-of-type {\n",
       "        vertical-align: middle;\n",
       "    }\n",
       "\n",
       "    .dataframe tbody tr th {\n",
       "        vertical-align: top;\n",
       "    }\n",
       "\n",
       "    .dataframe thead th {\n",
       "        text-align: right;\n",
       "    }\n",
       "</style>\n",
       "<table border=\"1\" class=\"dataframe\">\n",
       "  <thead>\n",
       "    <tr style=\"text-align: right;\">\n",
       "      <th></th>\n",
       "      <th>0</th>\n",
       "      <th>1</th>\n",
       "      <th>2</th>\n",
       "      <th>3</th>\n",
       "      <th>4</th>\n",
       "      <th>5</th>\n",
       "      <th>6</th>\n",
       "      <th>7</th>\n",
       "      <th>8</th>\n",
       "      <th>9</th>\n",
       "      <th>10</th>\n",
       "      <th>11</th>\n",
       "      <th>12</th>\n",
       "      <th>13</th>\n",
       "      <th>14</th>\n",
       "      <th>15</th>\n",
       "      <th>16</th>\n",
       "      <th>17</th>\n",
       "      <th>18</th>\n",
       "      <th>19</th>\n",
       "    </tr>\n",
       "  </thead>\n",
       "  <tbody>\n",
       "    <tr>\n",
       "      <th>0</th>\n",
       "      <td>36</td>\n",
       "      <td>50</td>\n",
       "      <td>58</td>\n",
       "      <td>43</td>\n",
       "      <td>24</td>\n",
       "      <td>51</td>\n",
       "      <td>41</td>\n",
       "      <td>26</td>\n",
       "      <td>41</td>\n",
       "      <td>48</td>\n",
       "      <td>61</td>\n",
       "      <td>53</td>\n",
       "      <td>32</td>\n",
       "      <td>66</td>\n",
       "      <td>40</td>\n",
       "      <td>55</td>\n",
       "      <td>36</td>\n",
       "      <td>49</td>\n",
       "      <td>54</td>\n",
       "      <td>38</td>\n",
       "    </tr>\n",
       "    <tr>\n",
       "      <th>1</th>\n",
       "      <td>85</td>\n",
       "      <td>61</td>\n",
       "      <td>80</td>\n",
       "      <td>66</td>\n",
       "      <td>72</td>\n",
       "      <td>48</td>\n",
       "      <td>75</td>\n",
       "      <td>75</td>\n",
       "      <td>47</td>\n",
       "      <td>66</td>\n",
       "      <td>46</td>\n",
       "      <td>88</td>\n",
       "      <td>78</td>\n",
       "      <td>70</td>\n",
       "      <td>71</td>\n",
       "      <td>72</td>\n",
       "      <td>76</td>\n",
       "      <td>60</td>\n",
       "      <td>79</td>\n",
       "      <td>62</td>\n",
       "    </tr>\n",
       "  </tbody>\n",
       "</table>\n",
       "</div>"
      ],
      "text/plain": [
       "    0   1   2   3   4   5   6   7   8   9  10  11  12  13  14  15  16  17  18  \\\n",
       "0  36  50  58  43  24  51  41  26  41  48  61  53  32  66  40  55  36  49  54   \n",
       "1  85  61  80  66  72  48  75  75  47  66  46  88  78  70  71  72  76  60  79   \n",
       "\n",
       "   19  \n",
       "0  38  \n",
       "1  62  "
      ]
     },
     "execution_count": 15,
     "metadata": {},
     "output_type": "execute_result"
    }
   ],
   "source": [
    "df.head()"
   ]
  },
  {
   "cell_type": "code",
   "execution_count": null,
   "metadata": {},
   "outputs": [],
   "source": []
  }
 ],
 "metadata": {
  "kernelspec": {
   "display_name": "Python 3",
   "language": "python",
   "name": "python3"
  },
  "language_info": {
   "codemirror_mode": {
    "name": "ipython",
    "version": 3
   },
   "file_extension": ".py",
   "mimetype": "text/x-python",
   "name": "python",
   "nbconvert_exporter": "python",
   "pygments_lexer": "ipython3",
   "version": "3.7.6"
  },
  "toc": {
   "base_numbering": 1,
   "nav_menu": {},
   "number_sections": true,
   "sideBar": true,
   "skip_h1_title": false,
   "title_cell": "Table of Contents",
   "title_sidebar": "Contents",
   "toc_cell": false,
   "toc_position": {},
   "toc_section_display": true,
   "toc_window_display": false
  }
 },
 "nbformat": 4,
 "nbformat_minor": 4
}
