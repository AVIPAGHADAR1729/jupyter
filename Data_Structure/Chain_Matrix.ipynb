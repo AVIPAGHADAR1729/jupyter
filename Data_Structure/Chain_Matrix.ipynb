{
 "cells": [
  {
   "cell_type": "code",
   "execution_count": 1,
   "metadata": {
    "ExecuteTime": {
     "end_time": "2020-10-23T05:27:09.070644Z",
     "start_time": "2020-10-23T05:27:09.006680Z"
    }
   },
   "outputs": [
    {
     "name": "stdout",
     "output_type": "stream",
     "text": [
      "i  1  j  2  k  1 -->   m 1 1  + m 2 2  + p 0 p 1 p 2  =  0 + 0 + 6  | total  6\n",
      "loop k end\n",
      "i  2  j  3  k  2 -->   m 2 2  + m 3 3  + p 1 p 2 p 3  =  0 + 0 + 24  | total  24\n",
      "loop k end\n",
      "i  3  j  4  k  3 -->   m 3 3  + m 4 4  + p 2 p 3 p 4  =  0 + 0 + 60  | total  60\n",
      "loop k end\n",
      "i  1  j  3  k  1 -->   m 1 1  + m 2 3  + p 0 p 1 p 3  =  0 + 24 + 8  | total  32\n",
      "i  1  j  3  k  2 -->   m 1 2  + m 3 3  + p 0 p 2 p 3  =  6 + 0 + 12  | total  18\n",
      "loop k end\n",
      "i  2  j  4  k  2 -->   m 2 2  + m 3 4  + p 1 p 2 p 4  =  0 + 60 + 30  | total  90\n",
      "i  2  j  4  k  3 -->   m 2 3  + m 4 4  + p 1 p 3 p 4  =  24 + 0 + 40  | total  64\n",
      "loop k end\n",
      "i  1  j  4  k  1 -->   m 1 1  + m 2 4  + p 0 p 1 p 4  =  0 + 64 + 10  | total  74\n",
      "i  1  j  4  k  2 -->   m 1 2  + m 3 4  + p 0 p 2 p 4  =  6 + 60 + 15  | total  81\n",
      "i  1  j  4  k  3 -->   m 1 3  + m 4 4  + p 0 p 3 p 4  =  18 + 0 + 20  | total  38\n",
      "loop k end\n",
      "[[0, 0, 0, 0, 0], [0, 0, 6, 18, 38], [0, 0, 0, 24, 64], [0, 0, 0, 0, 60], [0, 0, 0, 0, 0]]\n",
      "Minimum number of multiplications is 38\n"
     ]
    }
   ],
   "source": [
    "import sys\n",
    "def chain_matrix(p,l):\n",
    "    n=l\n",
    "    m=[[0 for i in range(l)] for j in range(l)]\n",
    "    for x in range(2,l):\n",
    "        for y in range(1,l-x+1):\n",
    "            i=y\n",
    "            j=x+y-1\n",
    "            m[i][j]=sys.maxsize\n",
    "            for k in range(i, j):                 \n",
    "                q = m[i][k] + m[k + 1][j] + p[i-1]*p[k]*p[j] \n",
    "                print(\"i \",i,\" j \",j,\" k \",k,\"-->  \", \"m\",i,k,\" + m\",k+1,j,\" + p\",i-1,\"p\",k,\"p\",j,\" = \",m[i][k] ,\"+\",\n",
    "                      m[k + 1][j] ,\"+\", p[i-1]*p[k]*p[j],\" | total \",q)\n",
    "                if q < m[i][j]: \n",
    "                    m[i][j] = q\n",
    "            print(\"loop k end\") \n",
    "    print(m)\n",
    "    return m[1][n-1] \n",
    "\n",
    "arr = [1,2,3,4,5] \n",
    "size = len(arr)  \n",
    "print(\"Minimum number of multiplications is \" +str(chain_matrix(arr, size))) \n"
   ]
  },
  {
   "cell_type": "code",
   "execution_count": null,
   "metadata": {},
   "outputs": [],
   "source": []
  }
 ],
 "metadata": {
  "kernelspec": {
   "display_name": "Python 3",
   "language": "python",
   "name": "python3"
  },
  "language_info": {
   "codemirror_mode": {
    "name": "ipython",
    "version": 3
   },
   "file_extension": ".py",
   "mimetype": "text/x-python",
   "name": "python",
   "nbconvert_exporter": "python",
   "pygments_lexer": "ipython3",
   "version": "3.7.6"
  },
  "toc": {
   "base_numbering": 1,
   "nav_menu": {},
   "number_sections": true,
   "sideBar": true,
   "skip_h1_title": false,
   "title_cell": "Table of Contents",
   "title_sidebar": "Contents",
   "toc_cell": false,
   "toc_position": {},
   "toc_section_display": true,
   "toc_window_display": false
  }
 },
 "nbformat": 4,
 "nbformat_minor": 4
}
