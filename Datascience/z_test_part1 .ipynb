{
 "cells": [
  {
   "cell_type": "code",
   "execution_count": 1,
   "metadata": {
    "ExecuteTime": {
     "end_time": "2020-07-14T06:44:12.504702Z",
     "start_time": "2020-07-14T06:43:53.041193Z"
    }
   },
   "outputs": [],
   "source": [
    "import numpy as np\n",
    "import seaborn as sns\n",
    "import matplotlib.pylab as plt\n",
    "import warnings\n",
    "warnings.filterwarnings(\"ignore\")\n",
    "import scipy.stats as st \n",
    "import statsmodels.stats.weightstats as ze"
   ]
  },
  {
   "cell_type": "markdown",
   "metadata": {},
   "source": [
    "<b> One sample Mean </b>"
   ]
  },
  {
   "cell_type": "code",
   "execution_count": 58,
   "metadata": {
    "ExecuteTime": {
     "end_time": "2020-07-13T05:43:52.626485Z",
     "start_time": "2020-07-13T05:43:52.601224Z"
    }
   },
   "outputs": [],
   "source": [
    "#example 1)\n",
    "'''The level of calcium in the blood of healthy, \n",
    "young adults varies with a mean of 9.5 mg per deciliter and a SD of 0.4. \n",
    "A clinic in rural Illinois measures the blood calcium level of 180 healthy pregnant women and finds x= 9.57mg.\n",
    "Is this an indication that the mean calcium level in this population differs from 9.5mg? '''"
   ]
  },
  {
   "cell_type": "code",
   "execution_count": null,
   "metadata": {
    "ExecuteTime": {
     "start_time": "2020-07-14T06:40:41.155Z"
    }
   },
   "outputs": [],
   "source": [
    "mu=9.5 #H0 and H1!=9.5 alpha=0.05\n",
    "sample_size=180\n",
    "population_std=0.4\n",
    "sample_mean=9.57\n",
    "#hypothesis test\n",
    "alpha=0.05\n",
    "z_score=(sample_mean-mu)/np.sqrt(population_std**2/sample_size)\n",
    "#confidence interval Best estimate +/-Margin of error mean\n",
    "me=1.96*(population_std/np.sqrt(sample_size))\n",
    "se=(population_std/np.sqrt(sample_size))\n",
    "print(\"Standar of  error mean:\",se)\n",
    "print(\"Margin of  error mean:\",me)\n",
    "cf=(mu+me,mu-me)\n",
    "stcf=((1.96,-1.96))\n",
    "print(\"Confidence_Interval:\",cf)\n",
    "print(\"std interval:\",stcf)\n",
    "print(\"Z_score:\",z_score)\n",
    "z_score=abs(z_score)\n",
    "#here 9.57 is not in interval cf so reject Null Hypothesis\n",
    "p_value=(round(1-st.norm.cdf(z_score),4))\n",
    "print(\"two tailed test -P value\",2*p_value)\n",
    "print(\"one tailed test -P value\", p_value)\n",
    "if(p_value<0.05):\n",
    "    print(\"Null hypothesis reject\")\n",
    "else:\n",
    "    print(\"fail to reject the Null Hypothesis\")\n"
   ]
  },
  {
   "cell_type": "code",
   "execution_count": null,
   "metadata": {},
   "outputs": [],
   "source": [
    "'''Mike gave the SAT math test to a simple random sample of 500 seniors from Illinois. \n",
    "These students had a mean score of 461 (x).  \n",
    "Is this good evidence that the mean for all Illinois seniors is > 450. std=  100'''"
   ]
  },
  {
   "cell_type": "code",
   "execution_count": 152,
   "metadata": {
    "ExecuteTime": {
     "end_time": "2020-07-13T16:42:52.727731Z",
     "start_time": "2020-07-13T16:42:52.527080Z"
    }
   },
   "outputs": [
    {
     "name": "stdout",
     "output_type": "stream",
     "text": [
      "Margin of  error mean: 8.765386471799175\n",
      "Confidence_Interval: (458.76538647179916, 441.23461352820084)\n",
      "std interval: (1.96, -1.96)\n",
      "Z_score: 2.4596747752497685\n",
      "two tailed test -P value 0.014\n",
      "one tailed test -P value 0.007\n",
      "Null hypothesis reject\n"
     ]
    }
   ],
   "source": [
    "mu=450 #H0 mu<=450  and H1>450 alpha=0.05\n",
    "sample_size=500\n",
    "population_std=100\n",
    "sample_mean=461\n",
    "#hypothesis test\n",
    "alpha=0.05\n",
    "z_score=(sample_mean-mu)/np.sqrt(population_std**2/sample_size)\n",
    "#confidence interval Best estimate +/- Margin of error mean\n",
    "me=1.96*(population_std/np.sqrt(sample_size))\n",
    "se=(population_std/np.sqrt(sample_size))\n",
    "print(\"Standar of  error mean:\",se)\n",
    "print(\"Margin of  error mean:\",me)\n",
    "cf=(mu+me,mu-me)\n",
    "stcf=((1.96,-1.96))\n",
    "print(\"Confidence_Interval:\",cf)\n",
    "print(\"std interval:\",stcf)\n",
    "print(\"Z_score:\",z_score)\n",
    "z_score=abs(z_score)\n",
    "#here 9.57 is not in interval cf so reject Null Hypothesis\n",
    "p_value=(round(1-st.norm.cdf(z_score),4))\n",
    "print(\"two tailed test -P value\",2*p_value)\n",
    "print(\"one tailed test -P value\", p_value)\n",
    "if(p_value<0.05):\n",
    "    print(\"Null hypothesis reject\")\n",
    "else:\n",
    "    print(\"fail to reject the Null Hypothesis\")\n"
   ]
  },
  {
   "cell_type": "code",
   "execution_count": null,
   "metadata": {},
   "outputs": [],
   "source": [
    "''' \n",
    "Mendenhall and Sincich, p.  45:  \n",
    "Humerous bones from the same species ofanimal have approximately the same length-to-width ratios. \n",
    "It is known thatSpecies A has a mean ratio of 8.5. \n",
    "Suppose that 41 fossil humerous boneswere unearthed at a site where Species A is known to have flourished. \n",
    "(Weassume that all bones are from the same species.)  \n",
    "The length-to-width ratiosof these bones has sample mean 9.26  and  sample standard deviation 1.20.\n",
    "Can we conclude that these bones belong to Species A? \n",
    "Perform a level 0.05z-test to check'''"
   ]
  },
  {
   "cell_type": "code",
   "execution_count": null,
   "metadata": {
    "ExecuteTime": {
     "start_time": "2020-07-14T06:40:51.315Z"
    }
   },
   "outputs": [],
   "source": [
    "mu=8.5 #H0 mu=8.5  and H1!=8.5 alpha=0.05\n",
    "sample_size=41\n",
    "population_std=1.20 #we assume \n",
    "sample_mean=9.26\n",
    "#hypothesis test\n",
    "alpha=0.05\n",
    "z_score=(sample_mean-mu)/np.sqrt(population_std**2/sample_size)\n",
    "#confidence interval Best estimate +/- Margin error mean\n",
    "me=1.96*(population_std/np.sqrt(sample_size))\n",
    "se=(population_std/np.sqrt(sample_size))\n",
    "print(\"Standar of  error mean:\",se)\n",
    "print(\"Margin of  error mean:\",me)\n",
    "cf=(mu+me,mu-me)\n",
    "stcf=((1.96,-1.96))\n",
    "print(\"Confidence_Interval:\",cf)\n",
    "print(\"std interval:\",stcf)\n",
    "print(\"Z_score:\",z_score)\n",
    "z_score=abs(z_score)\n",
    "p_value=(round(1-st.norm.cdf(z_score,df=41),10))\n",
    "print(\"two tailed test -P value\",2*p_value)\n",
    "print(\"one tailed test -P value\", p_value)\n",
    "if(p_value<0.05):\n",
    "    print(\"Null hypothesis reject\")\n",
    "else:\n",
    "    print(\"fail to reject the Null Hypothesis\")\n"
   ]
  },
  {
   "cell_type": "markdown",
   "metadata": {},
   "source": [
    "<b>z test proportion example</b>\n"
   ]
  },
  {
   "cell_type": "code",
   "execution_count": null,
   "metadata": {},
   "outputs": [],
   "source": [
    "'''A survey claims that 9 out of 10 doctors recommend aspirin for their patients with headaches. To test this claim, \n",
    "a random sample of 100 doctors is obtained. \n",
    "Of these 100 doctors, 82 indicate that they recommend aspirin. Is this claim accurate? Use alpha = 0.05.'''"
   ]
  },
  {
   "cell_type": "code",
   "execution_count": 4,
   "metadata": {
    "ExecuteTime": {
     "end_time": "2020-07-14T06:47:19.936349Z",
     "start_time": "2020-07-14T06:47:19.840387Z"
    }
   },
   "outputs": [
    {
     "name": "stdout",
     "output_type": "stream",
     "text": [
      "Standar of  error mean: 0.03\n",
      "Margin of  error mean: 0.0588\n",
      "Confidence_Interval: (0.9588, 0.8412000000000001)\n",
      "std interval: (1.96, -1.96)\n",
      "Z_score: -2.666666666666669\n",
      "two tailed test -P value 0.0076607612\n",
      "one tailed test -P value 0.0038303806\n",
      "Null hypothesis reject\n",
      "1.2815515655446004\n"
     ]
    }
   ],
   "source": [
    "Population_proption=9/10\n",
    "sample_proportion=82/100\n",
    "sample_size=100\n",
    "alpha=0.05\n",
    "# H0 No diffrence  p0=0.9\n",
    "# H1 diffrence occur p0!=0\n",
    "z_score=(sample_proportion-Population_proption)/np.sqrt(Population_proption*(1-Population_proption)/sample_size)\n",
    "se=np.sqrt(Population_proption*(1-Population_proption)/sample_size)\n",
    "me=1.96*se\n",
    "mu=Population_proption\n",
    "print(\"Standar of  error mean:\",se)\n",
    "print(\"Margin of  error mean:\",me)\n",
    "cf=(mu+me,mu-me)\n",
    "stcf=((1.96,-1.96))\n",
    "print(\"Confidence_Interval:\",cf)\n",
    "print(\"std interval:\",stcf)\n",
    "print(\"Z_score:\",z_score)\n",
    "z_score=abs(z_score)\n",
    "p_value=(round(1-st.norm.cdf(z_score),10))\n",
    "print(\"two tailed test -P value\",2*p_value)\n",
    "print(\"one tailed test -P value\", p_value)\n",
    "if(p_value<0.05):\n",
    "    print(\"Null hypothesis reject\")\n",
    "else:\n",
    "    print(\"fail to reject the Null Hypothesis\")\n",
    "print(st.norm.ppf(0.90))"
   ]
  },
  {
   "cell_type": "markdown",
   "metadata": {},
   "source": [
    "<b> Two sample Mean </b>"
   ]
  },
  {
   "cell_type": "code",
   "execution_count": null,
   "metadata": {},
   "outputs": [],
   "source": [
    "'''The amount of a certain trace element in blood is known\n",
    "to vary with a standard deviation of 14.1 ppm (parts per million) for male blood donors and 9.5 ppm for female donors. \n",
    "Random samples of 75 male and 50 female donors  yield concentration means of 28 and 33 ppm, respectively. \n",
    "What is the likelihood that the population means of concentrations of the element are the same for men and women?'''\n"
   ]
  },
  {
   "cell_type": "code",
   "execution_count": 163,
   "metadata": {
    "ExecuteTime": {
     "end_time": "2020-07-13T17:20:12.173644Z",
     "start_time": "2020-07-13T17:20:12.073382Z"
    }
   },
   "outputs": [
    {
     "name": "stdout",
     "output_type": "stream",
     "text": [
      "Standar of  error mean: 0.04\n",
      "Margin of  error mean: 0.0784\n",
      "Confidence_Interval: (-4.9216, -5.0784)\n",
      "std interval: (1.96, -1.96)\n",
      "Z_score: -2.368684181472862\n",
      "two tailed test -P value 0.0178514896\n",
      "one tailed test -P value 0.0089257448\n",
      "Null hypothesis reject\n"
     ]
    }
   ],
   "source": [
    "mu1=28 \n",
    "mu2=33\n",
    "n1=75\n",
    "n2=50\n",
    "std1=14.1\n",
    "std2=9.5\n",
    "#H0 No diffrence between two means mu1=mu2\n",
    "#H1 Diffrence Occur mu1!=mu2\n",
    "alpha =0.05\n",
    "se=np.sqrt((std1**2/n1)+(std2**2/n2))\n",
    "z_score=(mu1-mu2)/se\n",
    "mu=mu1-mu2\n",
    "me=1.96*(population_std/np.sqrt(sample_size))\n",
    "se=(population_std/np.sqrt(sample_size))\n",
    "print(\"Standar of  error mean:\",se)\n",
    "print(\"Margin of  error mean:\",me)\n",
    "cf=(mu+me,mu-me)\n",
    "stcf=((1.96,-1.96))\n",
    "print(\"Confidence_Interval:\",cf)\n",
    "print(\"std interval:\",stcf)\n",
    "print(\"Z_score:\",z_score)\n",
    "z_score=abs(z_score)\n",
    "p_value=(round(1-st.norm.cdf(z_score),10))\n",
    "print(\"two tailed test -P value\",2*p_value)\n",
    "print(\"one tailed test -P value\", p_value)\n",
    "if(p_value<0.05):\n",
    "    print(\"Null hypothesis reject\")\n",
    "else:\n",
    "    print(\"fail to reject the Null Hypothesis\")\n"
   ]
  },
  {
   "cell_type": "code",
   "execution_count": null,
   "metadata": {},
   "outputs": [],
   "source": [
    "# practice "
   ]
  },
  {
   "cell_type": "code",
   "execution_count": null,
   "metadata": {},
   "outputs": [],
   "source": [
    "#population mean=31\n",
    "#population std=6\n",
    "ages=np.random.normal(31,6,50)\n",
    "sns.distplot(ages,bins=7)\n",
    "std=6"
   ]
  },
  {
   "cell_type": "code",
   "execution_count": null,
   "metadata": {},
   "outputs": [],
   "source": [
    "import random\n",
    "random.seed(78)\n",
    "sampling_ages=[]\n",
    "for i in range(0,50):\n",
    "    n = random.randint(23,30)\n",
    "    sampling_ages.append(n)\n",
    "x_bar=np.mean(sampling_ages)\n",
    "x_bar"
   ]
  },
  {
   "cell_type": "code",
   "execution_count": null,
   "metadata": {},
   "outputs": [],
   "source": [
    "print(st.skew(ages))\n",
    "print(st.kurtosis(ages))\n"
   ]
  },
  {
   "cell_type": "code",
   "execution_count": null,
   "metadata": {},
   "outputs": [],
   "source": [
    "#H0: indian marriage age mu=31\n",
    "#H1:mu not equal 31"
   ]
  },
  {
   "cell_type": "code",
   "execution_count": null,
   "metadata": {},
   "outputs": [],
   "source": [
    "#alpha level=0.05\n",
    "z=(x_bar-31)/(np.sqrt(std**2/50))\n",
    "print(z)\n",
    "print(sampling_ages)\n",
    "z_score,p_value=ze.ztest(sampling_ages,value=31,ddof=0) #value=True population mean\n",
    "# ze.zconfint(ages,value=0,ddof=0)\n"
   ]
  },
  {
   "cell_type": "code",
   "execution_count": null,
   "metadata": {},
   "outputs": [],
   "source": [
    "print(z_score)\n",
    "print(p_value)"
   ]
  },
  {
   "cell_type": "code",
   "execution_count": 5,
   "metadata": {
    "ExecuteTime": {
     "end_time": "2020-07-17T06:23:18.491359Z",
     "start_time": "2020-07-17T06:23:18.481360Z"
    }
   },
   "outputs": [],
   "source": [
    "l1\n",
    "for i in range(7): \n",
    "    \n",
    "    l1.append(i)"
   ]
  },
  {
   "cell_type": "code",
   "execution_count": 6,
   "metadata": {
    "ExecuteTime": {
     "end_time": "2020-07-17T06:23:20.413516Z",
     "start_time": "2020-07-17T06:23:20.403516Z"
    }
   },
   "outputs": [
    {
     "data": {
      "text/plain": [
       "[6, 0, 1, 2, 3, 4, 5, 6, 0, 1, 2, 3, 4, 5, 6]"
      ]
     },
     "execution_count": 6,
     "metadata": {},
     "output_type": "execute_result"
    }
   ],
   "source": [
    "l1"
   ]
  },
  {
   "cell_type": "code",
   "execution_count": null,
   "metadata": {},
   "outputs": [],
   "source": []
  }
 ],
 "metadata": {
  "kernelspec": {
   "display_name": "Python 3",
   "language": "python",
   "name": "python3"
  },
  "language_info": {
   "codemirror_mode": {
    "name": "ipython",
    "version": 3
   },
   "file_extension": ".py",
   "mimetype": "text/x-python",
   "name": "python",
   "nbconvert_exporter": "python",
   "pygments_lexer": "ipython3",
   "version": "3.7.6"
  },
  "toc": {
   "base_numbering": 1,
   "nav_menu": {},
   "number_sections": true,
   "sideBar": true,
   "skip_h1_title": false,
   "title_cell": "Table of Contents",
   "title_sidebar": "Contents",
   "toc_cell": false,
   "toc_position": {},
   "toc_section_display": true,
   "toc_window_display": false
  }
 },
 "nbformat": 4,
 "nbformat_minor": 4
}
