{
 "cells": [
  {
   "cell_type": "code",
   "execution_count": 50,
   "metadata": {
    "ExecuteTime": {
     "end_time": "2020-06-21T12:10:17.302825Z",
     "start_time": "2020-06-21T12:10:17.287510Z"
    }
   },
   "outputs": [],
   "source": [
    "import random\n",
    "import seaborn as sns\n",
    "import matplotlib.pyplot  as plt\n",
    "import numpy as np"
   ]
  },
  {
   "cell_type": "code",
   "execution_count": 51,
   "metadata": {
    "ExecuteTime": {
     "end_time": "2020-06-21T12:10:17.907696Z",
     "start_time": "2020-06-21T12:10:17.837473Z"
    }
   },
   "outputs": [],
   "source": [
    "mu=5\n",
    "sigma=6\n",
    "Observations=[random.normalvariate(mu,sigma) for _ in range(10000)]\n"
   ]
  },
  {
   "cell_type": "code",
   "execution_count": 55,
   "metadata": {
    "ExecuteTime": {
     "end_time": "2020-06-21T12:11:05.647860Z",
     "start_time": "2020-06-21T12:11:05.048152Z"
    }
   },
   "outputs": [
    {
     "data": {
      "image/png": "[encoded data removed]",
      "text/plain": [
       "<Figure size 432x288 with 1 Axes>"
      ]
     },
     "metadata": {
      "needs_background": "light"
     },
     "output_type": "display_data"
    }
   ],
   "source": [
    "sns.distplot(Observations)\n",
    "plt.axvline(x=mu,color='g',ls='--')\n",
    "plt.axvline(np.mean(Observations) + np.std(Observations), 0, .59, color = 'r')\n",
    "plt.axvline(np.mean(Observations) - np.std(Observations), 0, .59, color = 'r')\n",
    "\n",
    "plt.axvline(np.mean(Observations) + (np.std(Observations) * 2), 0, .15, color = 'y')\n",
    "plt.axvline(np.mean(Observations) - (np.std(Observations) * 2), 0, .15, color = 'y')\n",
    "plt.grid()\n",
    "# plt.text(0,0,'Mean',rotation=0)\n",
    "plt.xlabel(\"Sampling Mean\")\n",
    "plt.legend([f\"mean={mu}\",f\"sigma={sigma}\"])\n",
    "plt.show()"
   ]
  },
  {
   "cell_type": "code",
   "execution_count": 60,
   "metadata": {
    "ExecuteTime": {
     "end_time": "2020-06-21T13:37:40.865103Z",
     "start_time": "2020-06-21T13:37:40.680569Z"
    }
   },
   "outputs": [],
   "source": [
    "np.random.seed(123)\n",
    "sample=[np.random.normal(100,1) for _ in range(3)]\n"
   ]
  },
  {
   "cell_type": "code",
   "execution_count": 61,
   "metadata": {
    "ExecuteTime": {
     "end_time": "2020-06-21T13:37:41.212857Z",
     "start_time": "2020-06-21T13:37:41.181617Z"
    }
   },
   "outputs": [
    {
     "data": {
      "text/plain": [
       "[98.91436939669944, 100.99734544658358, 100.28297849805199]"
      ]
     },
     "execution_count": 61,
     "metadata": {},
     "output_type": "execute_result"
    }
   ],
   "source": [
    "sample"
   ]
  },
  {
   "cell_type": "code",
   "execution_count": 67,
   "metadata": {
    "ExecuteTime": {
     "end_time": "2020-06-21T13:42:09.740385Z",
     "start_time": "2020-06-21T13:42:09.709094Z"
    }
   },
   "outputs": [],
   "source": [
    "population=np.arange(1,101)"
   ]
  },
  {
   "cell_type": "code",
   "execution_count": 74,
   "metadata": {
    "ExecuteTime": {
     "end_time": "2020-06-21T13:44:38.461241Z",
     "start_time": "2020-06-21T13:44:38.429982Z"
    }
   },
   "outputs": [],
   "source": [
    "np.random.seed(123)\n",
    "sample=[np.random.choice(population) for _ in range(10)]"
   ]
  },
  {
   "cell_type": "code",
   "execution_count": 75,
   "metadata": {
    "ExecuteTime": {
     "end_time": "2020-06-21T13:44:39.009279Z",
     "start_time": "2020-06-21T13:44:38.978028Z"
    }
   },
   "outputs": [
    {
     "data": {
      "text/plain": [
       "[67, 93, 99, 18, 84, 58, 87, 98, 97, 48]"
      ]
     },
     "execution_count": 75,
     "metadata": {},
     "output_type": "execute_result"
    }
   ],
   "source": [
    "sample"
   ]
  },
  {
   "cell_type": "code",
   "execution_count": null,
   "metadata": {},
   "outputs": [],
   "source": [
    "import numpy as np\n",
    "np.random.seed(123)\n",
    "population=np.arange(1,101)\n",
    "np.random.seed(123)\n",
    "sample=[np.random.choice(population) for _ in range(10)]\n",
    "print(sample)"
   ]
  },
  {
   "cell_type": "code",
   "execution_count": null,
   "metadata": {},
   "outputs": [],
   "source": [
    "import numpy as np\n",
    "np.random.seed(123)\n",
    "sample=[np.random.normal(100,1) for _ in range(3)]\n",
    "print(sample)\n"
   ]
  }
 ],
 "metadata": {
  "kernelspec": {
   "display_name": "Python 3",
   "language": "python",
   "name": "python3"
  },
  "language_info": {
   "codemirror_mode": {
    "name": "ipython",
    "version": 3
   },
   "file_extension": ".py",
   "mimetype": "text/x-python",
   "name": "python",
   "nbconvert_exporter": "python",
   "pygments_lexer": "ipython3",
   "version": "3.7.6"
  },
  "toc": {
   "base_numbering": 1,
   "nav_menu": {},
   "number_sections": true,
   "sideBar": true,
   "skip_h1_title": false,
   "title_cell": "Table of Contents",
   "title_sidebar": "Contents",
   "toc_cell": false,
   "toc_position": {},
   "toc_section_display": true,
   "toc_window_display": false
  }
 },
 "nbformat": 4,
 "nbformat_minor": 4
}
