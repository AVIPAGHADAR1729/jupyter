{
 "cells": [
  {
   "cell_type": "code",
   "execution_count": 2,
   "metadata": {
    "ExecuteTime": {
     "end_time": "2020-07-13T04:46:16.360001Z",
     "start_time": "2020-07-13T04:45:37.439677Z"
    }
   },
   "outputs": [],
   "source": [
    "import numpy as np\n",
    "import seaborn as sns\n",
    "import matplotlib.pylab as plt\n",
    "import warnings\n",
    "warnings.filterwarnings(\"ignore\")\n",
    "import scipy.stats as st \n",
    "import statsmodels.stats.weightstats as ze"
   ]
  },
  {
   "cell_type": "code",
   "execution_count": 66,
   "metadata": {
    "ExecuteTime": {
     "end_time": "2020-07-13T05:47:03.521714Z",
     "start_time": "2020-07-13T05:47:01.446687Z"
    }
   },
   "outputs": [
    {
     "data": {
      "image/png": "[encoded data removed]",
      "text/plain": [
       "<Figure size 432x288 with 1 Axes>"
      ]
     },
     "metadata": {
      "needs_background": "light"
     },
     "output_type": "display_data"
    }
   ],
   "source": [
    "\n",
    "#population mean=31\n",
    "#population std=6\n",
    "ages=np.random.normal(31,6,50)\n",
    "sns.distplot(ages,bins=7)\n",
    "std=6"
   ]
  },
  {
   "cell_type": "code",
   "execution_count": 106,
   "metadata": {
    "ExecuteTime": {
     "end_time": "2020-07-13T07:39:40.203650Z",
     "start_time": "2020-07-13T07:39:40.183532Z"
    }
   },
   "outputs": [
    {
     "data": {
      "text/plain": [
       "26.46"
      ]
     },
     "execution_count": 106,
     "metadata": {},
     "output_type": "execute_result"
    }
   ],
   "source": [
    "import random\n",
    "random.seed(78)\n",
    "sampling_ages=[]\n",
    "for i in range(0,50):\n",
    "    n = random.randint(23,30)\n",
    "    sampling_ages.append(n)\n",
    "x_bar=np.mean(sampling_ages)\n",
    "x_bar"
   ]
  },
  {
   "cell_type": "code",
   "execution_count": 104,
   "metadata": {
    "ExecuteTime": {
     "end_time": "2020-07-13T07:39:28.443659Z",
     "start_time": "2020-07-13T07:39:28.423647Z"
    },
    "scrolled": true
   },
   "outputs": [
    {
     "name": "stdout",
     "output_type": "stream",
     "text": [
      "0.4803669358665989\n",
      "-0.3509976705007265\n"
     ]
    }
   ],
   "source": [
    "print(st.skew(ages))\n",
    "print(st.kurtosis(ages))\n",
    "\n"
   ]
  },
  {
   "cell_type": "code",
   "execution_count": 70,
   "metadata": {
    "ExecuteTime": {
     "end_time": "2020-07-13T06:03:21.091709Z",
     "start_time": "2020-07-13T06:03:21.082098Z"
    },
    "scrolled": true
   },
   "outputs": [],
   "source": [
    "#H0: indian marriage age mu=31\n",
    "#H1:mu not equal 31"
   ]
  },
  {
   "cell_type": "code",
   "execution_count": 107,
   "metadata": {
    "ExecuteTime": {
     "end_time": "2020-07-13T07:40:00.933681Z",
     "start_time": "2020-07-13T07:40:00.913554Z"
    }
   },
   "outputs": [
    {
     "name": "stdout",
     "output_type": "stream",
     "text": [
      "-5.3504413109782085\n",
      "[26, 24, 27, 27, 29, 23, 25, 29, 26, 30, 29, 23, 26, 25, 28, 29, 28, 29, 25, 25, 28, 28, 23, 26, 24, 26, 25, 30, 27, 25, 27, 25, 29, 24, 23, 24, 30, 28, 26, 29, 24, 29, 29, 26, 25, 23, 28, 28, 27, 24]\n"
     ]
    }
   ],
   "source": [
    "#alpha level=0.05\n",
    "z=(x_bar-31)/(np.sqrt(std**2/50))\n",
    "print(z)\n",
    "print(sampling_ages)\n",
    "z_score,p_value=ze.ztest(sampling_ages,value=31,ddof=0) #value=True population mean\n",
    "# ze.zconfint(ages,value=0,ddof=0)\n"
   ]
  },
  {
   "cell_type": "code",
   "execution_count": 108,
   "metadata": {
    "ExecuteTime": {
     "end_time": "2020-07-13T07:40:03.703412Z",
     "start_time": "2020-07-13T07:40:03.663440Z"
    }
   },
   "outputs": [
    {
     "name": "stdout",
     "output_type": "stream",
     "text": [
      "-15.019614761979875\n",
      "5.462425016080948e-51\n"
     ]
    }
   ],
   "source": [
    "print(z_score)\n",
    "print(p_value)"
   ]
  },
  {
   "cell_type": "code",
   "execution_count": 58,
   "metadata": {
    "ExecuteTime": {
     "end_time": "2020-07-13T05:43:52.626485Z",
     "start_time": "2020-07-13T05:43:52.601224Z"
    }
   },
   "outputs": [],
   "source": [
    "#example 1)\n",
    "'''The level of calcium in the blood of healthy, \n",
    "young adults varies with a mean of 9.5 mg per deciliter and a SD of 0.4. \n",
    "A clinic in rural Illinois measures the blood calcium level of 180 healthy pregnant women and finds x= 9.57mg.\n",
    "Is this an indication that the mean calcium level in this population differs from 9.5mg? '''"
   ]
  },
  {
   "cell_type": "code",
   "execution_count": 146,
   "metadata": {
    "ExecuteTime": {
     "end_time": "2020-07-13T10:43:10.466688Z",
     "start_time": "2020-07-13T10:43:10.416599Z"
    }
   },
   "outputs": [
    {
     "name": "stdout",
     "output_type": "stream",
     "text": [
      "standard error mean: 0.0584359098119945\n",
      "Confidence_Interval: (9.558435909811994, 9.441564090188006)\n",
      "std interval: (1.96, -1.96)\n",
      "Z_score: 2.3478713763747887\n",
      "two tailed test -P value 0.0188\n",
      "one tailed test -P value 0.0094\n",
      "Null hypothesis reject\n"
     ]
    }
   ],
   "source": [
    "mu=9.5 #H0 and H1!=9.5 alpha=0.05\n",
    "sample_size=180\n",
    "population_std=0.4\n",
    "sample_mean=9.57\n",
    "#hypothesis test\n",
    "alpha=0.05\n",
    "z_score=(sample_mean-mu)/np.sqrt(population_std**2/sample_size)\n",
    "#confidence interval Best estimate +/- standard error mean\n",
    "se=1.96*(population_std/np.sqrt(sample_size))\n",
    "print(\"standard error mean:\",se)\n",
    "cf=(mu+se,mu-se)\n",
    "stcf=((1.96,-1.96))\n",
    "print(\"Confidence_Interval:\",cf)\n",
    "print(\"std interval:\",stcf)\n",
    "print(\"Z_score:\",z_score)\n",
    "\n",
    "#here 9.57 is not in interval cf so reject Null Hypothesis\n",
    "p_value=(round(1-st.norm.cdf(z_score),4))\n",
    "print(\"two tailed test -P value\",2*p_value)\n",
    "print(\"one tailed test -P value\", p_value)\n",
    "if(p_value<0.05):\n",
    "    print(\"Null hypothesis reject\")\n",
    "else:\n",
    "    print(\"fail to reject the Null Hypothesis\")\n"
   ]
  },
  {
   "cell_type": "code",
   "execution_count": null,
   "metadata": {},
   "outputs": [],
   "source": [
    "'''Mike gave the SAT math test to a simple random sample of 500 seniors from Illinois. \n",
    "These students had a mean score of 461 (x).  \n",
    "Is this good evidence that the mean for all Illinois seniors is > 450. std=  100'''"
   ]
  },
  {
   "cell_type": "code",
   "execution_count": 147,
   "metadata": {
    "ExecuteTime": {
     "end_time": "2020-07-13T10:43:13.916805Z",
     "start_time": "2020-07-13T10:43:13.886573Z"
    }
   },
   "outputs": [
    {
     "name": "stdout",
     "output_type": "stream",
     "text": [
      "standard error mean: 8.765386471799175\n",
      "Confidence_Interval: (458.76538647179916, 441.23461352820084)\n",
      "std interval: (1.96, -1.96)\n",
      "Z_score: 2.4596747752497685\n",
      "two tailed test -P value 0.014\n",
      "one tailed test -P value 0.007\n",
      "Null hypothesis reject\n"
     ]
    }
   ],
   "source": [
    "mu=450 #H0 mu<=450  and H1>450 alpha=0.05\n",
    "sample_size=500\n",
    "population_std=100\n",
    "sample_mean=461\n",
    "#hypothesis test\n",
    "alpha=0.05\n",
    "z_score=(sample_mean-mu)/np.sqrt(population_std**2/sample_size)\n",
    "#confidence interval Best estimate +/- standard error mean\n",
    "se=1.96*(population_std/np.sqrt(sample_size))\n",
    "print(\"standard error mean:\",se)\n",
    "cf=(mu+se,mu-se)\n",
    "stcf=((1.96,-1.96))\n",
    "print(\"Confidence_Interval:\",cf)\n",
    "print(\"std interval:\",stcf)\n",
    "print(\"Z_score:\",z_score)\n",
    "\n",
    "#here 9.57 is not in interval cf so reject Null Hypothesis\n",
    "p_value=(round(1-st.norm.cdf(z_score),4))\n",
    "print(\"two tailed test -P value\",2*p_value)\n",
    "print(\"one tailed test -P value\", p_value)\n",
    "if(p_value<0.05):\n",
    "    print(\"Null hypothesis reject\")\n",
    "else:\n",
    "    print(\"fail to reject the Null Hypothesis\")\n"
   ]
  },
  {
   "cell_type": "code",
   "execution_count": null,
   "metadata": {},
   "outputs": [],
   "source": [
    "''' \n",
    "Mendenhall and Sincich, p.  45:  \n",
    "Humerous bones from the same species ofanimal have approximately the same length-to-width ratios. \n",
    "It is known thatSpecies A has a mean ratio of 8.5. \n",
    "Suppose that 41 fossil humerous boneswere unearthed at a site where Species A is known to have flourished. \n",
    "(Weassume that all bones are from the same species.)  \n",
    "The length-to-width ratiosof these bones has sample mean 9.26  and  sample standard deviation 1.20.\n",
    "Can we conclude that these bones belong to Species A? \n",
    "Perform a level 0.05z-test to check'''"
   ]
  },
  {
   "cell_type": "code",
   "execution_count": 149,
   "metadata": {
    "ExecuteTime": {
     "end_time": "2020-07-13T11:26:51.213415Z",
     "start_time": "2020-07-13T11:26:51.188581Z"
    }
   },
   "outputs": [
    {
     "name": "stdout",
     "output_type": "stream",
     "text": [
      "standard error mean: 0.36732068796200146\n",
      "Confidence_Interval: (8.867320687962001, 8.132679312037999)\n",
      "std interval: (1.96, -1.96)\n",
      "Z_score: 4.055312017040803\n",
      "two tailed test -P value 5.00674e-05\n",
      "one tailed test -P value 2.50337e-05\n",
      "Null hypothesis reject\n"
     ]
    }
   ],
   "source": [
    "mu=8.5 #H0 mu=8.5  and H1!=8.5 alpha=0.05\n",
    "sample_size=41\n",
    "population_std=1.20\n",
    "sample_mean=9.26\n",
    "#hypothesis test\n",
    "alpha=0.05\n",
    "z_score=(sample_mean-mu)/np.sqrt(population_std**2/sample_size)\n",
    "#confidence interval Best estimate +/- standard error mean\n",
    "se=1.96*(population_std/np.sqrt(sample_size))\n",
    "print(\"standard error mean:\",se)\n",
    "cf=(mu+se,mu-se)\n",
    "stcf=((1.96,-1.96))\n",
    "print(\"Confidence_Interval:\",cf)\n",
    "print(\"std interval:\",stcf)\n",
    "print(\"Z_score:\",z_score)\n",
    "\n",
    "#here 9.57 is not in interval cf so reject Null Hypothesis\n",
    "p_value=(round(1-st.norm.cdf(z_score),10))\n",
    "print(\"two tailed test -P value\",2*p_value)\n",
    "print(\"one tailed test -P value\", p_value)\n",
    "if(p_value<0.05):\n",
    "    print(\"Null hypothesis reject\")\n",
    "else:\n",
    "    print(\"fail to reject the Null Hypothesis\")\n"
   ]
  },
  {
   "cell_type": "code",
   "execution_count": null,
   "metadata": {},
   "outputs": [],
   "source": []
  }
 ],
 "metadata": {
  "kernelspec": {
   "display_name": "Python 3",
   "language": "python",
   "name": "python3"
  },
  "language_info": {
   "codemirror_mode": {
    "name": "ipython",
    "version": 3
   },
   "file_extension": ".py",
   "mimetype": "text/x-python",
   "name": "python",
   "nbconvert_exporter": "python",
   "pygments_lexer": "ipython3",
   "version": "3.7.6"
  },
  "toc": {
   "base_numbering": 1,
   "nav_menu": {},
   "number_sections": true,
   "sideBar": true,
   "skip_h1_title": false,
   "title_cell": "Table of Contents",
   "title_sidebar": "Contents",
   "toc_cell": false,
   "toc_position": {},
   "toc_section_display": true,
   "toc_window_display": false
  }
 },
 "nbformat": 4,
 "nbformat_minor": 4
}
