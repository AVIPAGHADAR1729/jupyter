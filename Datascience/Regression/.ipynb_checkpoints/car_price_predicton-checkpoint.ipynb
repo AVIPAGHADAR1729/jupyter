{
 "cells": [
  {
   "cell_type": "code",
   "execution_count": 219,
   "metadata": {
    "ExecuteTime": {
     "end_time": "2020-09-05T09:53:12.568598Z",
     "start_time": "2020-09-05T09:53:12.343542Z"
    },
    "code_folding": []
   },
   "outputs": [],
   "source": [
    "#imprt Libraries\n",
    "import pandas as pd \n",
    "import numpy as np\n",
    "import seaborn as sns\n",
    "import warnings\n",
    "warnings.filterwarnings('ignore')\n",
    "import matplotlib.pyplot as plt\n",
    "import statsmodels.api as sm\n",
    "import matplotlib.pyplot as plt \n",
    "from statsmodels.sandbox.regression.predstd import wls_prediction_std"
   ]
  },
  {
   "cell_type": "code",
   "execution_count": 220,
   "metadata": {
    "ExecuteTime": {
     "end_time": "2020-09-05T09:53:16.203381Z",
     "start_time": "2020-09-05T09:53:15.408381Z"
    },
    "code_folding": []
   },
   "outputs": [],
   "source": [
    "#import Data\n",
    "data_train=pd.read_csv('../../data/Car_train-data.csv')"
   ]
  },
  {
   "cell_type": "code",
   "execution_count": 221,
   "metadata": {
    "ExecuteTime": {
     "end_time": "2020-09-05T09:53:19.508470Z",
     "start_time": "2020-09-05T09:53:19.448737Z"
    },
    "code_folding": [],
    "scrolled": true
   },
   "outputs": [
    {
     "data": {
      "text/html": [
       "<div>\n",
       "<style scoped>\n",
       "    .dataframe tbody tr th:only-of-type {\n",
       "        vertical-align: middle;\n",
       "    }\n",
       "\n",
       "    .dataframe tbody tr th {\n",
       "        vertical-align: top;\n",
       "    }\n",
       "\n",
       "    .dataframe thead th {\n",
       "        text-align: right;\n",
       "    }\n",
       "</style>\n",
       "<table border=\"1\" class=\"dataframe\">\n",
       "  <thead>\n",
       "    <tr style=\"text-align: right;\">\n",
       "      <th></th>\n",
       "      <th>Unnamed: 0</th>\n",
       "      <th>Name</th>\n",
       "      <th>Location</th>\n",
       "      <th>Year</th>\n",
       "      <th>Kilometers_Driven</th>\n",
       "      <th>Fuel_Type</th>\n",
       "      <th>Transmission</th>\n",
       "      <th>Owner_Type</th>\n",
       "      <th>Mileage</th>\n",
       "      <th>Engine</th>\n",
       "      <th>Power</th>\n",
       "      <th>Seats</th>\n",
       "      <th>New_Price</th>\n",
       "      <th>Price</th>\n",
       "    </tr>\n",
       "  </thead>\n",
       "  <tbody>\n",
       "    <tr>\n",
       "      <th>0</th>\n",
       "      <td>0</td>\n",
       "      <td>Maruti Wagon R LXI CNG</td>\n",
       "      <td>Mumbai</td>\n",
       "      <td>2010</td>\n",
       "      <td>72000</td>\n",
       "      <td>CNG</td>\n",
       "      <td>Manual</td>\n",
       "      <td>First</td>\n",
       "      <td>26.6 km/kg</td>\n",
       "      <td>998 CC</td>\n",
       "      <td>58.16 bhp</td>\n",
       "      <td>5.0</td>\n",
       "      <td>NaN</td>\n",
       "      <td>1.75</td>\n",
       "    </tr>\n",
       "    <tr>\n",
       "      <th>1</th>\n",
       "      <td>1</td>\n",
       "      <td>Hyundai Creta 1.6 CRDi SX Option</td>\n",
       "      <td>Pune</td>\n",
       "      <td>2015</td>\n",
       "      <td>41000</td>\n",
       "      <td>Diesel</td>\n",
       "      <td>Manual</td>\n",
       "      <td>First</td>\n",
       "      <td>19.67 kmpl</td>\n",
       "      <td>1582 CC</td>\n",
       "      <td>126.2 bhp</td>\n",
       "      <td>5.0</td>\n",
       "      <td>NaN</td>\n",
       "      <td>12.50</td>\n",
       "    </tr>\n",
       "    <tr>\n",
       "      <th>2</th>\n",
       "      <td>2</td>\n",
       "      <td>Honda Jazz V</td>\n",
       "      <td>Chennai</td>\n",
       "      <td>2011</td>\n",
       "      <td>46000</td>\n",
       "      <td>Petrol</td>\n",
       "      <td>Manual</td>\n",
       "      <td>First</td>\n",
       "      <td>18.2 kmpl</td>\n",
       "      <td>1199 CC</td>\n",
       "      <td>88.7 bhp</td>\n",
       "      <td>5.0</td>\n",
       "      <td>8.61 Lakh</td>\n",
       "      <td>4.50</td>\n",
       "    </tr>\n",
       "    <tr>\n",
       "      <th>3</th>\n",
       "      <td>3</td>\n",
       "      <td>Maruti Ertiga VDI</td>\n",
       "      <td>Chennai</td>\n",
       "      <td>2012</td>\n",
       "      <td>87000</td>\n",
       "      <td>Diesel</td>\n",
       "      <td>Manual</td>\n",
       "      <td>First</td>\n",
       "      <td>20.77 kmpl</td>\n",
       "      <td>1248 CC</td>\n",
       "      <td>88.76 bhp</td>\n",
       "      <td>7.0</td>\n",
       "      <td>NaN</td>\n",
       "      <td>6.00</td>\n",
       "    </tr>\n",
       "    <tr>\n",
       "      <th>4</th>\n",
       "      <td>4</td>\n",
       "      <td>Audi A4 New 2.0 TDI Multitronic</td>\n",
       "      <td>Coimbatore</td>\n",
       "      <td>2013</td>\n",
       "      <td>40670</td>\n",
       "      <td>Diesel</td>\n",
       "      <td>Automatic</td>\n",
       "      <td>Second</td>\n",
       "      <td>15.2 kmpl</td>\n",
       "      <td>1968 CC</td>\n",
       "      <td>140.8 bhp</td>\n",
       "      <td>5.0</td>\n",
       "      <td>NaN</td>\n",
       "      <td>17.74</td>\n",
       "    </tr>\n",
       "  </tbody>\n",
       "</table>\n",
       "</div>"
      ],
      "text/plain": [
       "   Unnamed: 0                              Name    Location  Year  \\\n",
       "0           0            Maruti Wagon R LXI CNG      Mumbai  2010   \n",
       "1           1  Hyundai Creta 1.6 CRDi SX Option        Pune  2015   \n",
       "2           2                      Honda Jazz V     Chennai  2011   \n",
       "3           3                 Maruti Ertiga VDI     Chennai  2012   \n",
       "4           4   Audi A4 New 2.0 TDI Multitronic  Coimbatore  2013   \n",
       "\n",
       "   Kilometers_Driven Fuel_Type Transmission Owner_Type     Mileage   Engine  \\\n",
       "0              72000       CNG       Manual      First  26.6 km/kg   998 CC   \n",
       "1              41000    Diesel       Manual      First  19.67 kmpl  1582 CC   \n",
       "2              46000    Petrol       Manual      First   18.2 kmpl  1199 CC   \n",
       "3              87000    Diesel       Manual      First  20.77 kmpl  1248 CC   \n",
       "4              40670    Diesel    Automatic     Second   15.2 kmpl  1968 CC   \n",
       "\n",
       "       Power  Seats  New_Price  Price  \n",
       "0  58.16 bhp    5.0        NaN   1.75  \n",
       "1  126.2 bhp    5.0        NaN  12.50  \n",
       "2   88.7 bhp    5.0  8.61 Lakh   4.50  \n",
       "3  88.76 bhp    7.0        NaN   6.00  \n",
       "4  140.8 bhp    5.0        NaN  17.74  "
      ]
     },
     "execution_count": 221,
     "metadata": {},
     "output_type": "execute_result"
    }
   ],
   "source": [
    "#Data Look\n",
    "data_train.head()"
   ]
  },
  {
   "cell_type": "markdown",
   "metadata": {},
   "source": [
    "<b> <p style=\"color:#289e00\">Data Clean Part </p> </b>"
   ]
  },
  {
   "cell_type": "code",
   "execution_count": 222,
   "metadata": {
    "ExecuteTime": {
     "end_time": "2020-09-05T09:53:24.128312Z",
     "start_time": "2020-09-05T09:53:24.048293Z"
    }
   },
   "outputs": [],
   "source": [
    "data_train=data_train.iloc[:,1:]"
   ]
  },
  {
   "cell_type": "code",
   "execution_count": 223,
   "metadata": {
    "ExecuteTime": {
     "end_time": "2020-09-05T09:53:24.758327Z",
     "start_time": "2020-09-05T09:53:24.718298Z"
    },
    "scrolled": true
   },
   "outputs": [
    {
     "name": "stdout",
     "output_type": "stream",
     "text": [
      "<class 'pandas.core.frame.DataFrame'>\n",
      "RangeIndex: 6019 entries, 0 to 6018\n",
      "Data columns (total 13 columns):\n",
      " #   Column             Non-Null Count  Dtype  \n",
      "---  ------             --------------  -----  \n",
      " 0   Name               6019 non-null   object \n",
      " 1   Location           6019 non-null   object \n",
      " 2   Year               6019 non-null   int64  \n",
      " 3   Kilometers_Driven  6019 non-null   int64  \n",
      " 4   Fuel_Type          6019 non-null   object \n",
      " 5   Transmission       6019 non-null   object \n",
      " 6   Owner_Type         6019 non-null   object \n",
      " 7   Mileage            6017 non-null   object \n",
      " 8   Engine             5983 non-null   object \n",
      " 9   Power              5983 non-null   object \n",
      " 10  Seats              5977 non-null   float64\n",
      " 11  New_Price          824 non-null    object \n",
      " 12  Price              6019 non-null   float64\n",
      "dtypes: float64(2), int64(2), object(9)\n",
      "memory usage: 611.4+ KB\n"
     ]
    }
   ],
   "source": [
    "data_train.info()"
   ]
  },
  {
   "cell_type": "code",
   "execution_count": 246,
   "metadata": {
    "ExecuteTime": {
     "end_time": "2020-09-05T10:04:59.068345Z",
     "start_time": "2020-09-05T10:04:59.038646Z"
    }
   },
   "outputs": [],
   "source": [
    "#selection of important columns\n",
    "data_train_c=data_train.iloc[:,[2,3,4,5,7,8,9,10,12]]"
   ]
  },
  {
   "cell_type": "code",
   "execution_count": 247,
   "metadata": {
    "ExecuteTime": {
     "end_time": "2020-09-05T10:04:59.863363Z",
     "start_time": "2020-09-05T10:04:59.828698Z"
    }
   },
   "outputs": [],
   "source": [
    "#firstly we need to Clean the data for This Dataframe\n",
    "data_train_c.replace({' ':np.nan,'null':np.nan},inplace=True)\n",
    "data_train_c=data_train_c.dropna()"
   ]
  },
  {
   "cell_type": "markdown",
   "metadata": {
    "ExecuteTime": {
     "end_time": "2020-08-20T11:41:04.813056Z",
     "start_time": "2020-08-20T11:41:04.752982Z"
    }
   },
   "source": [
    "<b> <p style=\"color:red\">Waring: Again we need to check Every column in does not exists any  unknown things i.e \"null\" ,'None','NA' and 'none' etc. Because dropna Can't remove string null like 'null'. if you are not remove this thing then  error will be occur in ahead data maniplution </p> </b>"
   ]
  },
  {
   "cell_type": "code",
   "execution_count": 248,
   "metadata": {
    "ExecuteTime": {
     "end_time": "2020-09-05T10:05:02.368531Z",
     "start_time": "2020-09-05T10:05:02.328491Z"
    }
   },
   "outputs": [
    {
     "name": "stdout",
     "output_type": "stream",
     "text": [
      "[2010 2015 2011 2012 2013 2016 2018 2014 2017 2007 2009 2008 2019 2006\n",
      " 2005 2004 2002 2000 2003 1999 2001 1998]\n",
      "[72000 41000 46000 ... 45004 70602 27365]\n",
      "['CNG' 'Diesel' 'Petrol' 'LPG']\n",
      "['Manual' 'Automatic']\n",
      "['26.6 km/kg' '19.67 kmpl' '18.2 kmpl' '20.77 kmpl' '15.2 kmpl'\n",
      " '21.1 km/kg' '23.08 kmpl' '11.36 kmpl' '20.54 kmpl' '22.3 kmpl'\n",
      " '21.56 kmpl' '16.8 kmpl' '25.2 kmpl' '12.7 kmpl' '0.0 kmpl' '13.5 kmpl'\n",
      " '25.8 kmpl' '28.4 kmpl' '20.45 kmpl' '14.84 kmpl' '22.69 kmpl'\n",
      " '23.65 kmpl' '13.53 kmpl' '18.5 kmpl' '14.4 kmpl' '20.92 kmpl'\n",
      " '17.5 kmpl' '12.8 kmpl' '19.01 kmpl' '14.53 kmpl' '11.18 kmpl'\n",
      " '12.4 kmpl' '16.09 kmpl' '14.0 kmpl' '24.3 kmpl' '18.15 kmpl'\n",
      " '11.74 kmpl' '22.07 kmpl' '19.7 kmpl' '25.4 kmpl' '25.32 kmpl'\n",
      " '14.62 kmpl' '14.28 kmpl' '14.9 kmpl' '11.25 kmpl' '24.4 kmpl'\n",
      " '16.55 kmpl' '17.11 kmpl' '22.9 kmpl' '17.8 kmpl' '18.9 kmpl'\n",
      " '15.04 kmpl' '25.17 kmpl' '20.36 kmpl' '13.29 kmpl' '13.68 kmpl'\n",
      " '20.0 kmpl' '15.8 kmpl' '25.0 kmpl' '16.4 kmpl' '24.52 kmpl' '22.1 kmpl'\n",
      " '8.5 kmpl' '15.1 kmpl' '16.95 kmpl' '19.64 kmpl' '16.5 kmpl' '18.53 kmpl'\n",
      " '17.57 kmpl' '18.0 kmpl' '23.2 kmpl' '16.73 kmpl' '17.0 kmpl' '13.0 kmpl'\n",
      " '17.68 kmpl' '22.7 kmpl' '16.2 kmpl' '15.26 kmpl' '23.0 kmpl'\n",
      " '19.83 kmpl' '14.94 kmpl' '17.71 kmpl' '14.74 kmpl' '16.0 kmpl'\n",
      " '22.32 kmpl' '12.99 kmpl' '23.3 kmpl' '19.15 kmpl' '10.8 kmpl'\n",
      " '15.0 kmpl' '22.0 kmpl' '21.9 kmpl' '12.05 kmpl' '11.7 kmpl' '21.21 kmpl'\n",
      " '20.73 kmpl' '21.1 kmpl' '24.07 kmpl' '19.0 kmpl' '20.58 kmpl'\n",
      " '19.27 kmpl' '11.5 kmpl' '18.6 kmpl' '21.14 kmpl' '11.05 kmpl'\n",
      " '21.76 kmpl' '7.81 kmpl' '21.66 kmpl' '17.2 kmpl' '20.63 kmpl'\n",
      " '19.4 kmpl' '14.8 kmpl' '26.0 kmpl' '20.4 kmpl' '21.5 kmpl' '15.3 kmpl'\n",
      " '17.9 kmpl' '16.6 kmpl' '22.54 kmpl' '25.44 kmpl' '13.7 kmpl'\n",
      " '22.48 kmpl' '12.9 kmpl' '19.98 kmpl' '21.4 kmpl' '19.81 kmpl'\n",
      " '15.4 kmpl' '25.47 kmpl' '19.87 kmpl' '17.45 kmpl' '14.7 kmpl'\n",
      " '15.64 kmpl' '15.73 kmpl' '23.59 kmpl' '27.4 kmpl' '20.46 kmpl'\n",
      " '15.29 kmpl' '20.51 kmpl' '11.8 kmpl' '14.3 kmpl' '14.67 kmpl'\n",
      " '17.19 kmpl' '21.03 kmpl' '22.5 kmpl' '16.82 kmpl' '11.72 kmpl'\n",
      " '17.4 kmpl' '17.05 kmpl' '24.0 kmpl' '28.09 kmpl' '20.5 kmpl' '13.1 kmpl'\n",
      " '19.91 kmpl' '18.7 kmpl' '16.38 kmpl' '11.57 kmpl' '17.3 kmpl'\n",
      " '22.95 kmpl' '18.88 kmpl' '23.4 kmpl' '22.74 kmpl' '12.07 kmpl'\n",
      " '17.1 kmpl' '18.48 kmpl' '16.47 kmpl' '23.1 kmpl' '14.07 kmpl'\n",
      " '16.02 kmpl' '19.3 kmpl' '17.7 kmpl' '9.52 kmpl' '14.75 kmpl'\n",
      " '26.3 km/kg' '11.3 kmpl' '21.12 kmpl' '21.02 kmpl' '14.45 kmpl'\n",
      " '19.33 kmpl' '13.8 kmpl' '24.7 kmpl' '11.0 kmpl' '11.07 kmpl' '16.1 kmpl'\n",
      " '21.43 kmpl' '14.21 kmpl' '18.86 kmpl' '16.07 kmpl' '13.49 kmpl'\n",
      " '20.38 kmpl' '12.0 kmpl' '17.01 kmpl' '13.2 kmpl' '20.37 kmpl'\n",
      " '15.1 km/kg' '15.96 kmpl' '14.16 kmpl' '13.17 kmpl' '27.62 kmpl'\n",
      " '25.1 kmpl' '15.17 kmpl' '11.33 kmpl' '17.92 kmpl' '12.55 kmpl'\n",
      " '12.6 kmpl' '17.72 kmpl' '18.16 kmpl' '15.68 kmpl' '15.5 kmpl'\n",
      " '12.1 kmpl' '14.83 kmpl' '17.6 kmpl' '14.6 kmpl' '14.66 kmpl'\n",
      " '10.93 kmpl' '20.68 kmpl' '9.9 kmpl' '21.13 kmpl' '20.14 kmpl'\n",
      " '19.2 kmpl' '27.3 kmpl' '16.36 kmpl' '26.59 kmpl' '12.5 kmpl' '13.6 kmpl'\n",
      " '15.06 kmpl' '10.13 kmpl' '17.21 kmpl' '15.97 kmpl' '10.5 kmpl'\n",
      " '14.69 kmpl' '23.9 kmpl' '19.1 kmpl' '21.27 kmpl' '15.9 kmpl' '20.7 kmpl'\n",
      " '14.1 kmpl' '20.89 kmpl' '18.12 kmpl' '12.3 kmpl' '19.71 kmpl'\n",
      " '9.43 kmpl' '13.4 kmpl' '13.14 kmpl' '18.1 kmpl' '22.77 kmpl'\n",
      " '14.49 kmpl' '12.39 kmpl' '10.91 kmpl' '20.85 kmpl' '15.63 kmpl'\n",
      " '27.39 kmpl' '18.3 kmpl' '16.78 kmpl' '25.5 kmpl' '10.0 kmpl'\n",
      " '13.73 kmpl' '24.2 kmpl' '14.02 kmpl' '26.83 km/kg' '16.77 kmpl'\n",
      " '24.5 kmpl' '20.34 kmpl' '21.7 kmpl' '9.7 kmpl' '14.33 kmpl' '21.64 kmpl'\n",
      " '13.2 km/kg' '19.16 kmpl' '16.93 kmpl' '9.0 kmpl' '26.2 km/kg'\n",
      " '16.3 kmpl' '12.62 kmpl' '17.3 km/kg' '20.64 kmpl' '14.24 kmpl'\n",
      " '18.06 kmpl' '10.2 kmpl' '10.1 kmpl' '18.25 kmpl' '13.93 kmpl'\n",
      " '25.83 kmpl' '8.6 kmpl' '13.24 kmpl' '17.09 kmpl' '23.84 kmpl'\n",
      " '8.45 kmpl' '19.6 kmpl' '19.5 kmpl' '20.3 kmpl' '16.05 kmpl' '11.2 kmpl'\n",
      " '27.03 kmpl' '18.78 kmpl' '12.35 kmpl' '14.59 kmpl' '17.32 kmpl'\n",
      " '14.95 kmpl' '13.22 kmpl' '23.03 kmpl' '33.44 km/kg' '15.6 kmpl'\n",
      " '19.12 kmpl' '10.98 kmpl' '33.54 km/kg' '16.46 kmpl' '18.4 kmpl'\n",
      " '11.1 kmpl' '13.01 kmpl' '18.8 kmpl' '16.52 kmpl' '18.44 kmpl'\n",
      " '19.49 kmpl' '23.5 kmpl' '23.8 kmpl' '12.65 kmpl' '20.65 kmpl'\n",
      " '21.72 kmpl' '12.19 kmpl' '26.1 kmpl' '18.33 kmpl' '12.81 kmpl'\n",
      " '17.5 km/kg' '17.06 kmpl' '17.67 kmpl' '19.34 kmpl' '8.3 kmpl'\n",
      " '16.96 kmpl' '11.79 kmpl' '20.86 kmpl' '16.98 kmpl' '11.68 kmpl'\n",
      " '15.74 kmpl' '15.7 kmpl' '18.49 kmpl' '10.9 kmpl' '19.59 kmpl'\n",
      " '11.4 kmpl' '13.06 kmpl' '21.0 kmpl' '15.15 kmpl' '16.9 kmpl'\n",
      " '18.23 kmpl' '25.0 km/kg' '17.16 kmpl' '17.43 kmpl' '19.08 kmpl'\n",
      " '18.56 kmpl' '11.9 kmpl' '24.6 km/kg' '21.79 kmpl' '12.95 kmpl'\n",
      " '25.6 kmpl' '13.45 km/kg' '26.21 kmpl' '13.58 kmpl' '16.25 kmpl'\n",
      " '10.4 kmpl' '17.44 kmpl' '19.2 km/kg' '22.71 kmpl' '17.54 kmpl'\n",
      " '22.1 km/kg' '17.0 km/kg' '15.87 kmpl' '9.5 kmpl' '11.56 kmpl'\n",
      " '14.39 kmpl' '19.09 kmpl' '17.85 kmpl' '31.79 km/kg' '18.18 kmpl'\n",
      " '21.19 kmpl' '21.8 kmpl' '15.42 kmpl' '14.47 kmpl' '19.69 kmpl'\n",
      " '12.83 kmpl' '8.0 kmpl' '22.8 km/kg' '12.63 kmpl' '14.57 kmpl'\n",
      " '27.28 kmpl' '15.41 kmpl' '32.26 km/kg' '18.19 kmpl' '13.33 kmpl'\n",
      " '16.7 kmpl' '17.84 kmpl' '20.0 km/kg' '23.19 kmpl' '11.49 kmpl'\n",
      " '18.51 kmpl' '13.44 kmpl' '8.7 kmpl' '8.77 kmpl' '17.97 kmpl'\n",
      " '23.57 kmpl' '12.37 kmpl' '9.1 kmpl' '12.51 kmpl' '19.44 kmpl'\n",
      " '21.38 kmpl' '16.51 kmpl' '24.8 kmpl' '14.42 kmpl' '14.53 km/kg'\n",
      " '26.8 kmpl' '24.04 kmpl' '9.8 kmpl' '19.68 kmpl' '21.4 km/kg' '21.2 kmpl'\n",
      " '19.72 kmpl' '14.2 kmpl' '12.98 kmpl' '23.01 kmpl' '16.12 kmpl'\n",
      " '9.3 kmpl' '15.85 kmpl' '17.88 kmpl' '10.6 kmpl' '11.78 kmpl' '7.94 kmpl'\n",
      " '25.01 kmpl' '8.1 kmpl' '13.9 kmpl' '11.62 kmpl' '20.62 kmpl'\n",
      " '15.11 kmpl' '10.37 kmpl' '18.59 kmpl' '9.74 kmpl' '14.81 kmpl'\n",
      " '8.2 kmpl' '12.97 kmpl' '7.5 kmpl' '30.46 km/kg' '6.4 kmpl' '12.85 kmpl'\n",
      " '18.69 kmpl' '17.24 kmpl']\n",
      "['998 CC' '1582 CC' '1199 CC' '1248 CC' '1968 CC' '814 CC' '1461 CC'\n",
      " '2755 CC' '1598 CC' '1462 CC' '1497 CC' '2179 CC' '2477 CC' '1498 CC'\n",
      " '2143 CC' '1995 CC' '1984 CC' '1197 CC' '2494 CC' '1798 CC' '2696 CC'\n",
      " '2698 CC' '1061 CC' '1198 CC' '2987 CC' '796 CC' '624 CC' '1999 CC'\n",
      " '1991 CC' '2694 CC' '1120 CC' '2498 CC' '799 CC' '2393 CC' '1399 CC'\n",
      " '1796 CC' '2148 CC' '1396 CC' '1950 CC' '4806 CC' '1998 CC' '1086 CC'\n",
      " '1193 CC' '2982 CC' '1493 CC' '2967 CC' '2993 CC' '1196 CC' '1799 CC'\n",
      " '2497 CC' '2354 CC' '1373 CC' '2996 CC' '1591 CC' '2894 CC' '5461 CC'\n",
      " '1595 CC' '936 CC' '1997 CC' '1896 CC' '1390 CC' '1364 CC' '2199 CC'\n",
      " '993 CC' '999 CC' '1405 CC' '2956 CC' '1794 CC' '995 CC' '2496 CC'\n",
      " '1599 CC' '2400 CC' '1495 CC' '2523 CC' '793 CC' '4134 CC' '1596 CC'\n",
      " '1395 CC' '2953 CC' '1586 CC' '2362 CC' '1496 CC' '1368 CC' '1298 CC'\n",
      " '1956 CC' '1299 CC' '3498 CC' '2835 CC' '1150 CC' '3198 CC' '1343 CC'\n",
      " '1499 CC' '1186 CC' '1590 CC' '2609 CC' '2499 CC' '2446 CC' '1978 CC'\n",
      " '2360 CC' '3436 CC' '2198 CC' '4367 CC' '2706 CC' '1422 CC' '2979 CC'\n",
      " '1969 CC' '1489 CC' '2489 CC' '1242 CC' '1388 CC' '1172 CC' '2495 CC'\n",
      " '1194 CC' '3200 CC' '1781 CC' '1341 CC' '2773 CC' '3597 CC' '1985 CC'\n",
      " '2147 CC' '1047 CC' '2999 CC' '2995 CC' '2997 CC' '1948 CC' '2359 CC'\n",
      " '4395 CC' '2349 CC' '2720 CC' '1468 CC' '3197 CC' '2487 CC' '1597 CC'\n",
      " '2771 CC' '4951 CC' '970 CC' '2925 CC' '2200 CC' '5000 CC' '2149 CC'\n",
      " '5998 CC' '2092 CC' '5204 CC' '2112 CC' '1797 CC']\n",
      "['58.16 bhp' '126.2 bhp' '88.7 bhp' '88.76 bhp' '140.8 bhp' '55.2 bhp'\n",
      " '63.1 bhp' '171.5 bhp' '103.6 bhp' '74 bhp' '103.25 bhp' '116.3 bhp'\n",
      " '187.7 bhp' '115 bhp' '175.56 bhp' '98.6 bhp' '83.8 bhp' '167.62 bhp'\n",
      " '190 bhp' '88.5 bhp' '177.01 bhp' '80 bhp' '67.1 bhp' '102 bhp'\n",
      " '108.45 bhp' '138.1 bhp' '184 bhp' '179.5 bhp' '103.5 bhp' '64 bhp'\n",
      " '82 bhp' '254.8 bhp' '73.9 bhp' '46.3 bhp' '37.5 bhp' '77 bhp' '82.9 bhp'\n",
      " '149.92 bhp' '138.03 bhp' '112.2 bhp' '163.7 bhp' '71 bhp' '105 bhp'\n",
      " '174.33 bhp' '75 bhp' '103.2 bhp' '53.3 bhp' '78.9 bhp' '147.6 bhp'\n",
      " '147.8 bhp' '68 bhp' '186 bhp' '170 bhp' '69 bhp' '140 bhp' '78 bhp'\n",
      " '194 bhp' '500 bhp' '108.5 bhp' '86.8 bhp' '187.74 bhp' 'null bhp'\n",
      " '132 bhp' '86.7 bhp' '73.94 bhp' '117.3 bhp' '218 bhp' '168.5 bhp'\n",
      " '89.84 bhp' '110 bhp' '90 bhp' '82.85 bhp' '67 bhp' '241.4 bhp' '35 bhp'\n",
      " '270.9 bhp' '126.32 bhp' '73 bhp' '130 bhp' '100.6 bhp' '150 bhp'\n",
      " '75.94 bhp' '215 bhp' '107.3 bhp' '37.48 bhp' '120 bhp' '178 bhp'\n",
      " '152 bhp' '91.1 bhp' '85.80 bhp' '362.07 bhp' '121.3 bhp' '143 bhp'\n",
      " '81.80 bhp' '171 bhp' '76.8 bhp' '103.52 bhp' '444 bhp' '362.9 bhp'\n",
      " '67.06 bhp' '120.7 bhp' '258 bhp' '81.86 bhp' '112 bhp' '88.73 bhp'\n",
      " '57.6 bhp' '157.75 bhp' '102.5 bhp' '201.1 bhp' '83.1 bhp' '68.05 bhp'\n",
      " '88.50 bhp' '106 bhp' '100 bhp' '81.83 bhp' '85 bhp' '64.1 bhp'\n",
      " '177.5 bhp' '246.7 bhp' '177.46 bhp' '65 bhp' '67.04 bhp' '189.08 bhp'\n",
      " '53.5 bhp' '194.3 bhp' '70 bhp' '183 bhp' '254.79 bhp' '66.1 bhp'\n",
      " '76 bhp' '60 bhp' '123.24 bhp' '47.3 bhp' '118 bhp' '88.8 bhp' '177 bhp'\n",
      " '136 bhp' '201.15 bhp' '93.7 bhp' '177.6 bhp' '313 bhp' '245 bhp'\n",
      " '125 bhp' '141 bhp' '227 bhp' '62 bhp' '141.1 bhp' '83.14 bhp' '192 bhp'\n",
      " '67.05 bhp' '47 bhp' '235 bhp' '37 bhp' '87.2 bhp' '203 bhp' '204 bhp'\n",
      " '246.74 bhp' '122 bhp' '282 bhp' '181 bhp' '224 bhp' '94 bhp' '367 bhp'\n",
      " '98.79 bhp' '62.1 bhp' '174.3 bhp' '114 bhp' '335.2 bhp' '169 bhp'\n",
      " '191.34 bhp' '108.49 bhp' '138.02 bhp' '156 bhp' '187.4 bhp' '66 bhp'\n",
      " '103.3 bhp' '164.7 bhp' '79.4 bhp' '198.5 bhp' '154 bhp' '73.8 bhp'\n",
      " '181.43 bhp' '85.8 bhp' '207.8 bhp' '108.4 bhp' '88 bhp' '63 bhp'\n",
      " '82.5 bhp' '364.9 bhp' '107.2 bhp' '113.98 bhp' '126.3 bhp' '185 bhp'\n",
      " '237.4 bhp' '99.6 bhp' '66.7 bhp' '160 bhp' '306 bhp' '98.59 bhp'\n",
      " '92.7 bhp' '147.51 bhp' '197.2 bhp' '167.6 bhp' '165 bhp' '110.4 bhp'\n",
      " '73.97 bhp' '147.9 bhp' '99 bhp' '116.6 bhp' '148 bhp' '34.2 bhp'\n",
      " '155 bhp' '197 bhp' '108.62 bhp' '118.3 bhp' '38.4 bhp' '241.38 bhp'\n",
      " '153.86 bhp' '163.5 bhp' '226.6 bhp' '84.8 bhp' '53.64 bhp' '158.2 bhp'\n",
      " '69.01 bhp' '181.03 bhp' '58.2 bhp' '104.68 bhp' '126.24 bhp' '73.75 bhp'\n",
      " '158 bhp' '130.2 bhp' '57.5 bhp' '97.7 bhp' '121.4 bhp' '98.96 bhp'\n",
      " '174.5 bhp' '308 bhp' '121.36 bhp' '138 bhp' '265 bhp' '84 bhp' '321 bhp'\n",
      " '91.72 bhp' '65.3 bhp' '88.2 bhp' '93 bhp' '35.5 bhp' '86.79 bhp'\n",
      " '157.7 bhp' '40.3 bhp' '91.7 bhp' '180 bhp' '114.4 bhp' '158.8 bhp'\n",
      " '157.8 bhp' '123.7 bhp' '56.3 bhp' '189 bhp' '104 bhp' '210 bhp'\n",
      " '270.88 bhp' '142 bhp' '255 bhp' '236 bhp' '167.7 bhp' '148.31 bhp'\n",
      " '80.46 bhp' '138.08 bhp' '250 bhp' '74.9 bhp' '91.2 bhp' '102.57 bhp'\n",
      " '97.6 bhp' '102.53 bhp' '240 bhp' '254 bhp' '112.4 bhp' '73.74 bhp'\n",
      " '108.495 bhp' '116.9 bhp' '101 bhp' '320 bhp' '70.02 bhp' '261.49 bhp'\n",
      " '105.5 bhp' '550 bhp' '168.7 bhp' '55.23 bhp' '94.68 bhp' '152.88 bhp'\n",
      " '163.2 bhp' '203.2 bhp' '241 bhp' '95 bhp' '200 bhp' '271.23 bhp'\n",
      " '63.12 bhp' '85.7 bhp' '308.43 bhp' '118.6 bhp' '199.3 bhp' '83.83 bhp'\n",
      " '55 bhp' '83 bhp' '300 bhp' '201 bhp' '262.6 bhp' '163 bhp' '58.33 bhp'\n",
      " '86.76 bhp' '76.9 bhp' '174.57 bhp' '301.73 bhp' '68.1 bhp' '162 bhp'\n",
      " '394.3 bhp' '80.9 bhp' '147.5 bhp' '272 bhp' '340 bhp' '120.33 bhp'\n",
      " '82.4 bhp' '231.1 bhp' '335.3 bhp' '333 bhp' '198.25 bhp' '224.34 bhp'\n",
      " '402 bhp' '261 bhp' '61 bhp' '144 bhp' '71.01 bhp' '271.72 bhp' '134 bhp'\n",
      " '135.1 bhp' '92 bhp' '64.08 bhp' '261.5 bhp' '123.37 bhp' '175.67 bhp'\n",
      " '53 bhp' '110.5 bhp' '178.4 bhp' '193.1 bhp' '395 bhp' '48.21 bhp'\n",
      " '450 bhp' '421 bhp' '89.75 bhp' '387.3 bhp' '130.3 bhp' '281.61 bhp'\n",
      " '52.8 bhp' '139.01 bhp' '208 bhp' '503 bhp' '168 bhp' '98.82 bhp'\n",
      " '139.07 bhp' '83.11 bhp' '74.93 bhp' '382 bhp' '74.96 bhp' '552 bhp'\n",
      " '127 bhp' '560 bhp' '116.4 bhp' '161.6 bhp' '488.1 bhp' '103 bhp'\n",
      " '181.04 bhp']\n",
      "[ 5.  7.  8.  4.  6.  2. 10.  9.  0.]\n",
      "[ 1.75 12.5   4.5  ...  2.27 17.56  7.43]\n"
     ]
    }
   ],
   "source": [
    "# How To check Above Instruction\n",
    "for i in data_train_c.columns:\n",
    "     print(data_train_c[i].unique()) #unique value for each column"
   ]
  },
  {
   "cell_type": "code",
   "execution_count": 249,
   "metadata": {
    "ExecuteTime": {
     "end_time": "2020-09-05T10:05:03.218377Z",
     "start_time": "2020-09-05T10:05:03.168314Z"
    }
   },
   "outputs": [],
   "source": [
    "# Here you can see 'null bhp' occur so it's replace by np.nan and then drop this raw\n",
    "data_train_c.replace({'null bhp':np.nan,'null km/kg':np.nan,'null CC':np.nan},inplace=True)\n",
    "data_train_c=data_train_c.dropna()"
   ]
  },
  {
   "cell_type": "markdown",
   "metadata": {},
   "source": [
    "<b> <p style=\"color:#289e00\">Data Maniplution Part </p> </b>"
   ]
  },
  {
   "cell_type": "code",
   "execution_count": 250,
   "metadata": {
    "ExecuteTime": {
     "end_time": "2020-09-05T10:05:04.538444Z",
     "start_time": "2020-09-05T10:05:04.413582Z"
    },
    "code_folding": [
     0,
     2
    ]
   },
   "outputs": [],
   "source": [
    "#remove extenation  km/kg ,bhp, CC from below column and convert string into float Value\n",
    "l1=['Mileage','Engine','Power']\n",
    "for i in l1:\n",
    "    data_train_c[i]=data_train_c[i].str.split(\" \").apply(lambda x:x[0])\n",
    "    data_train_c[i] = data_train_c[i].str.strip()\n",
    "    data_train_c[i] = data_train_c[i].astype(float)\n"
   ]
  },
  {
   "cell_type": "code",
   "execution_count": 251,
   "metadata": {
    "ExecuteTime": {
     "end_time": "2020-09-05T10:05:06.238423Z",
     "start_time": "2020-09-05T10:05:06.198537Z"
    },
    "code_folding": []
   },
   "outputs": [
    {
     "data": {
      "text/html": [
       "<div>\n",
       "<style scoped>\n",
       "    .dataframe tbody tr th:only-of-type {\n",
       "        vertical-align: middle;\n",
       "    }\n",
       "\n",
       "    .dataframe tbody tr th {\n",
       "        vertical-align: top;\n",
       "    }\n",
       "\n",
       "    .dataframe thead th {\n",
       "        text-align: right;\n",
       "    }\n",
       "</style>\n",
       "<table border=\"1\" class=\"dataframe\">\n",
       "  <thead>\n",
       "    <tr style=\"text-align: right;\">\n",
       "      <th></th>\n",
       "      <th>Year</th>\n",
       "      <th>Kilometers_Driven</th>\n",
       "      <th>Fuel_Type</th>\n",
       "      <th>Transmission</th>\n",
       "      <th>Mileage</th>\n",
       "      <th>Engine</th>\n",
       "      <th>Power</th>\n",
       "      <th>Seats</th>\n",
       "      <th>Price</th>\n",
       "    </tr>\n",
       "  </thead>\n",
       "  <tbody>\n",
       "    <tr>\n",
       "      <th>0</th>\n",
       "      <td>2010</td>\n",
       "      <td>72000</td>\n",
       "      <td>CNG</td>\n",
       "      <td>Manual</td>\n",
       "      <td>26.60</td>\n",
       "      <td>998.0</td>\n",
       "      <td>58.16</td>\n",
       "      <td>5.0</td>\n",
       "      <td>1.75</td>\n",
       "    </tr>\n",
       "    <tr>\n",
       "      <th>1</th>\n",
       "      <td>2015</td>\n",
       "      <td>41000</td>\n",
       "      <td>Diesel</td>\n",
       "      <td>Manual</td>\n",
       "      <td>19.67</td>\n",
       "      <td>1582.0</td>\n",
       "      <td>126.20</td>\n",
       "      <td>5.0</td>\n",
       "      <td>12.50</td>\n",
       "    </tr>\n",
       "    <tr>\n",
       "      <th>2</th>\n",
       "      <td>2011</td>\n",
       "      <td>46000</td>\n",
       "      <td>Petrol</td>\n",
       "      <td>Manual</td>\n",
       "      <td>18.20</td>\n",
       "      <td>1199.0</td>\n",
       "      <td>88.70</td>\n",
       "      <td>5.0</td>\n",
       "      <td>4.50</td>\n",
       "    </tr>\n",
       "    <tr>\n",
       "      <th>3</th>\n",
       "      <td>2012</td>\n",
       "      <td>87000</td>\n",
       "      <td>Diesel</td>\n",
       "      <td>Manual</td>\n",
       "      <td>20.77</td>\n",
       "      <td>1248.0</td>\n",
       "      <td>88.76</td>\n",
       "      <td>7.0</td>\n",
       "      <td>6.00</td>\n",
       "    </tr>\n",
       "    <tr>\n",
       "      <th>4</th>\n",
       "      <td>2013</td>\n",
       "      <td>40670</td>\n",
       "      <td>Diesel</td>\n",
       "      <td>Automatic</td>\n",
       "      <td>15.20</td>\n",
       "      <td>1968.0</td>\n",
       "      <td>140.80</td>\n",
       "      <td>5.0</td>\n",
       "      <td>17.74</td>\n",
       "    </tr>\n",
       "  </tbody>\n",
       "</table>\n",
       "</div>"
      ],
      "text/plain": [
       "   Year  Kilometers_Driven Fuel_Type Transmission  Mileage  Engine   Power  \\\n",
       "0  2010              72000       CNG       Manual    26.60   998.0   58.16   \n",
       "1  2015              41000    Diesel       Manual    19.67  1582.0  126.20   \n",
       "2  2011              46000    Petrol       Manual    18.20  1199.0   88.70   \n",
       "3  2012              87000    Diesel       Manual    20.77  1248.0   88.76   \n",
       "4  2013              40670    Diesel    Automatic    15.20  1968.0  140.80   \n",
       "\n",
       "   Seats  Price  \n",
       "0    5.0   1.75  \n",
       "1    5.0  12.50  \n",
       "2    5.0   4.50  \n",
       "3    7.0   6.00  \n",
       "4    5.0  17.74  "
      ]
     },
     "execution_count": 251,
     "metadata": {},
     "output_type": "execute_result"
    }
   ],
   "source": [
    "#Data Look \n",
    "data_train_c.head()"
   ]
  },
  {
   "cell_type": "code",
   "execution_count": 252,
   "metadata": {
    "ExecuteTime": {
     "end_time": "2020-09-05T10:05:11.448593Z",
     "start_time": "2020-09-05T10:05:11.428649Z"
    }
   },
   "outputs": [
    {
     "data": {
      "text/plain": [
       "array(['CNG', 'Diesel', 'Petrol', 'LPG'], dtype=object)"
      ]
     },
     "execution_count": 252,
     "metadata": {},
     "output_type": "execute_result"
    }
   ],
   "source": [
    "data_train_c.Fuel_Type.unique()"
   ]
  },
  {
   "cell_type": "code",
   "execution_count": 253,
   "metadata": {
    "ExecuteTime": {
     "end_time": "2020-09-05T10:05:12.488685Z",
     "start_time": "2020-09-05T10:05:12.458444Z"
    }
   },
   "outputs": [],
   "source": [
    "#Fule_Type column is Categorical data so we need to convert into numeric order for Better Price prediction \n",
    "data_train_c.Fuel_Type.replace({'Petrol':1,'CNG':3,'Diesel':2,'LPG':4},inplace=True)"
   ]
  },
  {
   "cell_type": "code",
   "execution_count": 254,
   "metadata": {
    "ExecuteTime": {
     "end_time": "2020-09-05T10:05:13.188384Z",
     "start_time": "2020-09-05T10:05:13.158663Z"
    }
   },
   "outputs": [
    {
     "name": "stdout",
     "output_type": "stream",
     "text": [
      "<class 'pandas.core.frame.DataFrame'>\n",
      "Int64Index: 5872 entries, 0 to 6018\n",
      "Data columns (total 9 columns):\n",
      " #   Column             Non-Null Count  Dtype  \n",
      "---  ------             --------------  -----  \n",
      " 0   Year               5872 non-null   int64  \n",
      " 1   Kilometers_Driven  5872 non-null   int64  \n",
      " 2   Fuel_Type          5872 non-null   int64  \n",
      " 3   Transmission       5872 non-null   object \n",
      " 4   Mileage            5872 non-null   float64\n",
      " 5   Engine             5872 non-null   float64\n",
      " 6   Power              5872 non-null   float64\n",
      " 7   Seats              5872 non-null   float64\n",
      " 8   Price              5872 non-null   float64\n",
      "dtypes: float64(5), int64(3), object(1)\n",
      "memory usage: 458.8+ KB\n"
     ]
    }
   ],
   "source": [
    "data_train_c.info()"
   ]
  },
  {
   "cell_type": "code",
   "execution_count": 255,
   "metadata": {
    "ExecuteTime": {
     "end_time": "2020-09-05T10:05:13.873506Z",
     "start_time": "2020-09-05T10:05:13.858273Z"
    }
   },
   "outputs": [
    {
     "data": {
      "text/plain": [
       "array(['Manual', 'Automatic'], dtype=object)"
      ]
     },
     "execution_count": 255,
     "metadata": {},
     "output_type": "execute_result"
    }
   ],
   "source": [
    "data_train_c.Transmission.unique()"
   ]
  },
  {
   "cell_type": "code",
   "execution_count": 256,
   "metadata": {
    "ExecuteTime": {
     "end_time": "2020-09-05T10:05:16.258232Z",
     "start_time": "2020-09-05T10:05:16.228183Z"
    }
   },
   "outputs": [],
   "source": [
    "# Above thing apply in Transmission column\n",
    "data_train_c.Transmission.replace({'Manual':1,'Automatic':2},inplace=True)"
   ]
  },
  {
   "cell_type": "code",
   "execution_count": 236,
   "metadata": {
    "ExecuteTime": {
     "end_time": "2020-09-05T09:53:49.948322Z",
     "start_time": "2020-09-05T09:53:49.908440Z"
    }
   },
   "outputs": [
    {
     "data": {
      "text/html": [
       "<div>\n",
       "<style scoped>\n",
       "    .dataframe tbody tr th:only-of-type {\n",
       "        vertical-align: middle;\n",
       "    }\n",
       "\n",
       "    .dataframe tbody tr th {\n",
       "        vertical-align: top;\n",
       "    }\n",
       "\n",
       "    .dataframe thead th {\n",
       "        text-align: right;\n",
       "    }\n",
       "</style>\n",
       "<table border=\"1\" class=\"dataframe\">\n",
       "  <thead>\n",
       "    <tr style=\"text-align: right;\">\n",
       "      <th></th>\n",
       "      <th>Year</th>\n",
       "      <th>Kilometers_Driven</th>\n",
       "      <th>Fuel_Type</th>\n",
       "      <th>Transmission</th>\n",
       "      <th>Mileage</th>\n",
       "      <th>Engine</th>\n",
       "      <th>Power</th>\n",
       "      <th>Seats</th>\n",
       "      <th>Price</th>\n",
       "    </tr>\n",
       "  </thead>\n",
       "  <tbody>\n",
       "    <tr>\n",
       "      <th>0</th>\n",
       "      <td>2010</td>\n",
       "      <td>72000</td>\n",
       "      <td>3</td>\n",
       "      <td>1</td>\n",
       "      <td>26.60</td>\n",
       "      <td>998.0</td>\n",
       "      <td>58.16</td>\n",
       "      <td>5.0</td>\n",
       "      <td>1.75</td>\n",
       "    </tr>\n",
       "    <tr>\n",
       "      <th>1</th>\n",
       "      <td>2015</td>\n",
       "      <td>41000</td>\n",
       "      <td>2</td>\n",
       "      <td>1</td>\n",
       "      <td>19.67</td>\n",
       "      <td>1582.0</td>\n",
       "      <td>126.20</td>\n",
       "      <td>5.0</td>\n",
       "      <td>12.50</td>\n",
       "    </tr>\n",
       "    <tr>\n",
       "      <th>2</th>\n",
       "      <td>2011</td>\n",
       "      <td>46000</td>\n",
       "      <td>1</td>\n",
       "      <td>1</td>\n",
       "      <td>18.20</td>\n",
       "      <td>1199.0</td>\n",
       "      <td>88.70</td>\n",
       "      <td>5.0</td>\n",
       "      <td>4.50</td>\n",
       "    </tr>\n",
       "    <tr>\n",
       "      <th>3</th>\n",
       "      <td>2012</td>\n",
       "      <td>87000</td>\n",
       "      <td>2</td>\n",
       "      <td>1</td>\n",
       "      <td>20.77</td>\n",
       "      <td>1248.0</td>\n",
       "      <td>88.76</td>\n",
       "      <td>7.0</td>\n",
       "      <td>6.00</td>\n",
       "    </tr>\n",
       "    <tr>\n",
       "      <th>4</th>\n",
       "      <td>2013</td>\n",
       "      <td>40670</td>\n",
       "      <td>2</td>\n",
       "      <td>2</td>\n",
       "      <td>15.20</td>\n",
       "      <td>1968.0</td>\n",
       "      <td>140.80</td>\n",
       "      <td>5.0</td>\n",
       "      <td>17.74</td>\n",
       "    </tr>\n",
       "  </tbody>\n",
       "</table>\n",
       "</div>"
      ],
      "text/plain": [
       "   Year  Kilometers_Driven  Fuel_Type  Transmission  Mileage  Engine   Power  \\\n",
       "0  2010              72000          3             1    26.60   998.0   58.16   \n",
       "1  2015              41000          2             1    19.67  1582.0  126.20   \n",
       "2  2011              46000          1             1    18.20  1199.0   88.70   \n",
       "3  2012              87000          2             1    20.77  1248.0   88.76   \n",
       "4  2013              40670          2             2    15.20  1968.0  140.80   \n",
       "\n",
       "   Seats  Price  \n",
       "0    5.0   1.75  \n",
       "1    5.0  12.50  \n",
       "2    5.0   4.50  \n",
       "3    7.0   6.00  \n",
       "4    5.0  17.74  "
      ]
     },
     "execution_count": 236,
     "metadata": {},
     "output_type": "execute_result"
    }
   ],
   "source": [
    "data_train_c.head()"
   ]
  },
  {
   "cell_type": "code",
   "execution_count": 237,
   "metadata": {
    "ExecuteTime": {
     "end_time": "2020-09-05T09:53:51.167208Z",
     "start_time": "2020-09-05T09:53:51.128421Z"
    }
   },
   "outputs": [
    {
     "name": "stdout",
     "output_type": "stream",
     "text": [
      "<class 'pandas.core.frame.DataFrame'>\n",
      "Int64Index: 5872 entries, 0 to 6018\n",
      "Data columns (total 9 columns):\n",
      " #   Column             Non-Null Count  Dtype  \n",
      "---  ------             --------------  -----  \n",
      " 0   Year               5872 non-null   int64  \n",
      " 1   Kilometers_Driven  5872 non-null   int64  \n",
      " 2   Fuel_Type          5872 non-null   int64  \n",
      " 3   Transmission       5872 non-null   int64  \n",
      " 4   Mileage            5872 non-null   float64\n",
      " 5   Engine             5872 non-null   float64\n",
      " 6   Power              5872 non-null   float64\n",
      " 7   Seats              5872 non-null   float64\n",
      " 8   Price              5872 non-null   float64\n",
      "dtypes: float64(5), int64(4)\n",
      "memory usage: 458.8 KB\n"
     ]
    }
   ],
   "source": [
    "data_train_c.info()"
   ]
  },
  {
   "cell_type": "code",
   "execution_count": 258,
   "metadata": {
    "ExecuteTime": {
     "end_time": "2020-09-05T10:05:35.283375Z",
     "start_time": "2020-09-05T10:05:35.188714Z"
    }
   },
   "outputs": [
    {
     "name": "stdout",
     "output_type": "stream",
     "text": [
      "Year\n",
      "count    5872.000000\n",
      "mean     2013.477691\n",
      "std         3.164568\n",
      "min      1998.000000\n",
      "25%      2012.000000\n",
      "50%      2014.000000\n",
      "75%      2016.000000\n",
      "max      2019.000000\n",
      "Name: Year, dtype: float64\n",
      "Kilometers_Driven\n",
      "count    5.872000e+03\n",
      "mean     5.831700e+04\n",
      "std      9.216941e+04\n",
      "min      1.710000e+02\n",
      "25%      3.342250e+04\n",
      "50%      5.260900e+04\n",
      "75%      7.240275e+04\n",
      "max      6.500000e+06\n",
      "Name: Kilometers_Driven, dtype: float64\n",
      "Fuel_Type\n",
      "count    5872.000000\n",
      "mean        1.560627\n",
      "std         0.524712\n",
      "min         1.000000\n",
      "25%         1.000000\n",
      "50%         2.000000\n",
      "75%         2.000000\n",
      "max         4.000000\n",
      "Name: Fuel_Type, dtype: float64\n",
      "Transmission\n",
      "count    5872.000000\n",
      "mean        1.289850\n",
      "std         0.453731\n",
      "min         1.000000\n",
      "25%         1.000000\n",
      "50%         1.000000\n",
      "75%         2.000000\n",
      "max         2.000000\n",
      "Name: Transmission, dtype: float64\n",
      "Mileage\n",
      "count    5872.000000\n",
      "mean       18.277839\n",
      "std         4.365657\n",
      "min         0.000000\n",
      "25%        15.260000\n",
      "50%        18.200000\n",
      "75%        21.100000\n",
      "max        33.540000\n",
      "Name: Mileage, dtype: float64\n",
      "Engine\n",
      "count    5872.000000\n",
      "mean     1625.745572\n",
      "std       601.641783\n",
      "min       624.000000\n",
      "25%      1198.000000\n",
      "50%      1495.500000\n",
      "75%      1991.000000\n",
      "max      5998.000000\n",
      "Name: Engine, dtype: float64\n",
      "Power\n",
      "count    5872.000000\n",
      "mean      113.276894\n",
      "std        53.881892\n",
      "min        34.200000\n",
      "25%        75.000000\n",
      "50%        97.700000\n",
      "75%       138.100000\n",
      "max       560.000000\n",
      "Name: Power, dtype: float64\n",
      "Seats\n",
      "count    5872.000000\n",
      "mean        5.283719\n",
      "std         0.805081\n",
      "min         2.000000\n",
      "25%         5.000000\n",
      "50%         5.000000\n",
      "75%         5.000000\n",
      "max        10.000000\n",
      "Name: Seats, dtype: float64\n",
      "Price\n",
      "count    5872.000000\n",
      "mean        9.603919\n",
      "std        11.249453\n",
      "min         0.440000\n",
      "25%         3.517500\n",
      "50%         5.750000\n",
      "75%        10.000000\n",
      "max       160.000000\n",
      "Name: Price, dtype: float64\n"
     ]
    }
   ],
   "source": [
    "'''Before we apply first step  look our  data range  menas  we need to check range  of column  values \n",
    "so we will be visualize easily our plot with Price column value'''\n",
    "for i in data_train_c.columns:\n",
    "    print(i)\n",
    "    print(data_train_c[i].describe())"
   ]
  },
  {
   "cell_type": "code",
   "execution_count": 259,
   "metadata": {
    "ExecuteTime": {
     "end_time": "2020-09-05T10:05:36.053421Z",
     "start_time": "2020-09-05T10:05:36.028228Z"
    }
   },
   "outputs": [],
   "source": [
    "''' Here 'Kilometers_Driven' in High value data so we need to convert high value to lower value\n",
    "therfore we easily compare with  price value '''\n",
    "data_train_c['KM_Drlog_form'] = np.log(data_train_c['Kilometers_Driven'])\n",
    "\n"
   ]
  },
  {
   "cell_type": "markdown",
   "metadata": {},
   "source": [
    "<i><big> <p style=\"color:#9e009e\"> Linear Regression</big> </i> </p>\n",
    "<br>\n",
    "<b> Our Target Variable is Price </b>"
   ]
  },
  {
   "cell_type": "markdown",
   "metadata": {
    "ExecuteTime": {
     "end_time": "2020-08-20T10:52:39.347860Z",
     "start_time": "2020-08-20T10:52:39.338189Z"
    }
   },
   "source": [
    "<b> step1: we need to find relationship between Independent variable(IV) vs Dependent variable(DI) </b>"
   ]
  },
  {
   "cell_type": "code",
   "execution_count": 291,
   "metadata": {
    "ExecuteTime": {
     "end_time": "2020-09-05T10:18:16.348438Z",
     "start_time": "2020-09-05T10:18:16.328630Z"
    }
   },
   "outputs": [],
   "source": [
    "%matplotlib inline"
   ]
  },
  {
   "cell_type": "markdown",
   "metadata": {},
   "source": [
    "<b> Now we will see our relationship between IV and DI </b>"
   ]
  },
  {
   "cell_type": "code",
   "execution_count": 261,
   "metadata": {
    "ExecuteTime": {
     "end_time": "2020-09-05T10:06:00.628380Z",
     "start_time": "2020-09-05T10:05:57.158446Z"
    },
    "code_folding": [],
    "scrolled": false
   },
   "outputs": [
    {
     "data": {
      "image/png": "[encoded data removed]",
      "text/plain": [
       "<Figure size 1800x180 with 10 Axes>"
      ]
     },
     "metadata": {
      "needs_background": "light"
     },
     "output_type": "display_data"
    }
   ],
   "source": [
    "#Scatter plot\n",
    "g = sns.PairGrid(data_train_c,\n",
    "\n",
    "                 x_vars=data_train_c.columns,\n",
    "\n",
    "                 y_vars=['Price'])\n",
    "g = g.map(plt.scatter)"
   ]
  },
  {
   "cell_type": "code",
   "execution_count": 267,
   "metadata": {
    "ExecuteTime": {
     "end_time": "2020-09-05T10:08:06.918586Z",
     "start_time": "2020-09-05T10:08:06.838475Z"
    }
   },
   "outputs": [
    {
     "data": {
      "text/html": [
       "<div>\n",
       "<style scoped>\n",
       "    .dataframe tbody tr th:only-of-type {\n",
       "        vertical-align: middle;\n",
       "    }\n",
       "\n",
       "    .dataframe tbody tr th {\n",
       "        vertical-align: top;\n",
       "    }\n",
       "\n",
       "    .dataframe thead th {\n",
       "        text-align: right;\n",
       "    }\n",
       "</style>\n",
       "<table border=\"1\" class=\"dataframe\">\n",
       "  <thead>\n",
       "    <tr style=\"text-align: right;\">\n",
       "      <th></th>\n",
       "      <th>Year</th>\n",
       "      <th>Kilometers_Driven</th>\n",
       "      <th>Fuel_Type</th>\n",
       "      <th>Transmission</th>\n",
       "      <th>Mileage</th>\n",
       "      <th>Engine</th>\n",
       "      <th>Power</th>\n",
       "      <th>Seats</th>\n",
       "      <th>Price</th>\n",
       "      <th>KM_Drlog_form</th>\n",
       "    </tr>\n",
       "  </thead>\n",
       "  <tbody>\n",
       "    <tr>\n",
       "      <th>0</th>\n",
       "      <td>2010</td>\n",
       "      <td>2010.0</td>\n",
       "      <td>3</td>\n",
       "      <td>1</td>\n",
       "      <td>26.60</td>\n",
       "      <td>998.0</td>\n",
       "      <td>58.16</td>\n",
       "      <td>5.0</td>\n",
       "      <td>1.75</td>\n",
       "      <td>7.605890</td>\n",
       "    </tr>\n",
       "    <tr>\n",
       "      <th>1</th>\n",
       "      <td>2015</td>\n",
       "      <td>2015.0</td>\n",
       "      <td>2</td>\n",
       "      <td>1</td>\n",
       "      <td>19.67</td>\n",
       "      <td>1582.0</td>\n",
       "      <td>126.20</td>\n",
       "      <td>5.0</td>\n",
       "      <td>12.50</td>\n",
       "      <td>7.608374</td>\n",
       "    </tr>\n",
       "    <tr>\n",
       "      <th>2</th>\n",
       "      <td>2011</td>\n",
       "      <td>2011.0</td>\n",
       "      <td>1</td>\n",
       "      <td>1</td>\n",
       "      <td>18.20</td>\n",
       "      <td>1199.0</td>\n",
       "      <td>88.70</td>\n",
       "      <td>5.0</td>\n",
       "      <td>4.50</td>\n",
       "      <td>7.606387</td>\n",
       "    </tr>\n",
       "    <tr>\n",
       "      <th>3</th>\n",
       "      <td>2012</td>\n",
       "      <td>2012.0</td>\n",
       "      <td>2</td>\n",
       "      <td>1</td>\n",
       "      <td>20.77</td>\n",
       "      <td>1248.0</td>\n",
       "      <td>88.76</td>\n",
       "      <td>7.0</td>\n",
       "      <td>6.00</td>\n",
       "      <td>7.606885</td>\n",
       "    </tr>\n",
       "    <tr>\n",
       "      <th>4</th>\n",
       "      <td>2013</td>\n",
       "      <td>2013.0</td>\n",
       "      <td>2</td>\n",
       "      <td>2</td>\n",
       "      <td>15.20</td>\n",
       "      <td>1968.0</td>\n",
       "      <td>140.80</td>\n",
       "      <td>5.0</td>\n",
       "      <td>17.74</td>\n",
       "      <td>7.607381</td>\n",
       "    </tr>\n",
       "    <tr>\n",
       "      <th>...</th>\n",
       "      <td>...</td>\n",
       "      <td>...</td>\n",
       "      <td>...</td>\n",
       "      <td>...</td>\n",
       "      <td>...</td>\n",
       "      <td>...</td>\n",
       "      <td>...</td>\n",
       "      <td>...</td>\n",
       "      <td>...</td>\n",
       "      <td>...</td>\n",
       "    </tr>\n",
       "    <tr>\n",
       "      <th>6014</th>\n",
       "      <td>2014</td>\n",
       "      <td>2014.0</td>\n",
       "      <td>2</td>\n",
       "      <td>1</td>\n",
       "      <td>28.40</td>\n",
       "      <td>1248.0</td>\n",
       "      <td>74.00</td>\n",
       "      <td>5.0</td>\n",
       "      <td>4.75</td>\n",
       "      <td>7.607878</td>\n",
       "    </tr>\n",
       "    <tr>\n",
       "      <th>6015</th>\n",
       "      <td>2015</td>\n",
       "      <td>2015.0</td>\n",
       "      <td>2</td>\n",
       "      <td>1</td>\n",
       "      <td>24.40</td>\n",
       "      <td>1120.0</td>\n",
       "      <td>71.00</td>\n",
       "      <td>5.0</td>\n",
       "      <td>4.00</td>\n",
       "      <td>7.608374</td>\n",
       "    </tr>\n",
       "    <tr>\n",
       "      <th>6016</th>\n",
       "      <td>2012</td>\n",
       "      <td>2012.0</td>\n",
       "      <td>2</td>\n",
       "      <td>1</td>\n",
       "      <td>14.00</td>\n",
       "      <td>2498.0</td>\n",
       "      <td>112.00</td>\n",
       "      <td>8.0</td>\n",
       "      <td>2.90</td>\n",
       "      <td>7.606885</td>\n",
       "    </tr>\n",
       "    <tr>\n",
       "      <th>6017</th>\n",
       "      <td>2013</td>\n",
       "      <td>2013.0</td>\n",
       "      <td>1</td>\n",
       "      <td>1</td>\n",
       "      <td>18.90</td>\n",
       "      <td>998.0</td>\n",
       "      <td>67.10</td>\n",
       "      <td>5.0</td>\n",
       "      <td>2.65</td>\n",
       "      <td>7.607381</td>\n",
       "    </tr>\n",
       "    <tr>\n",
       "      <th>6018</th>\n",
       "      <td>2011</td>\n",
       "      <td>2011.0</td>\n",
       "      <td>2</td>\n",
       "      <td>1</td>\n",
       "      <td>25.44</td>\n",
       "      <td>936.0</td>\n",
       "      <td>57.60</td>\n",
       "      <td>5.0</td>\n",
       "      <td>2.50</td>\n",
       "      <td>7.606387</td>\n",
       "    </tr>\n",
       "  </tbody>\n",
       "</table>\n",
       "<p>5770 rows × 10 columns</p>\n",
       "</div>"
      ],
      "text/plain": [
       "      Year  Kilometers_Driven  Fuel_Type  Transmission  Mileage  Engine  \\\n",
       "0     2010             2010.0          3             1    26.60   998.0   \n",
       "1     2015             2015.0          2             1    19.67  1582.0   \n",
       "2     2011             2011.0          1             1    18.20  1199.0   \n",
       "3     2012             2012.0          2             1    20.77  1248.0   \n",
       "4     2013             2013.0          2             2    15.20  1968.0   \n",
       "...    ...                ...        ...           ...      ...     ...   \n",
       "6014  2014             2014.0          2             1    28.40  1248.0   \n",
       "6015  2015             2015.0          2             1    24.40  1120.0   \n",
       "6016  2012             2012.0          2             1    14.00  2498.0   \n",
       "6017  2013             2013.0          1             1    18.90   998.0   \n",
       "6018  2011             2011.0          2             1    25.44   936.0   \n",
       "\n",
       "       Power  Seats  Price  KM_Drlog_form  \n",
       "0      58.16    5.0   1.75       7.605890  \n",
       "1     126.20    5.0  12.50       7.608374  \n",
       "2      88.70    5.0   4.50       7.606387  \n",
       "3      88.76    7.0   6.00       7.606885  \n",
       "4     140.80    5.0  17.74       7.607381  \n",
       "...      ...    ...    ...            ...  \n",
       "6014   74.00    5.0   4.75       7.607878  \n",
       "6015   71.00    5.0   4.00       7.608374  \n",
       "6016  112.00    8.0   2.90       7.606885  \n",
       "6017   67.10    5.0   2.65       7.607381  \n",
       "6018   57.60    5.0   2.50       7.606387  \n",
       "\n",
       "[5770 rows x 10 columns]"
      ]
     },
     "execution_count": 267,
     "metadata": {},
     "output_type": "execute_result"
    }
   ],
   "source": [
    "#remove one outlier  because this outlier distract our model we can see this thing our above sctter plot\n",
    "b=data_train_c['Kilometers_Driven'].max()\n",
    "data_train_c['Kilometers_Driven']=data_train_c[data_train_c['Kilometers_Driven']!=b] \n",
    "data_train_c['KM_Drlog_form'] = np.log(data_train_c['Kilometers_Driven'])\n",
    "data_train_c.dropna()"
   ]
  },
  {
   "cell_type": "code",
   "execution_count": 268,
   "metadata": {
    "ExecuteTime": {
     "end_time": "2020-09-05T10:08:08.988703Z",
     "start_time": "2020-09-05T10:08:07.678414Z"
    }
   },
   "outputs": [
    {
     "data": {
      "text/plain": [
       "<matplotlib.axes._subplots.AxesSubplot at 0x1981c76b8c8>"
      ]
     },
     "execution_count": 268,
     "metadata": {},
     "output_type": "execute_result"
    },
    {
     "data": {
      "image/png": "[encoded data removed]",
      "text/plain": [
       "<Figure size 432x288 with 2 Axes>"
      ]
     },
     "metadata": {
      "needs_background": "light"
     },
     "output_type": "display_data"
    }
   ],
   "source": [
    "#Heatmap relationship all columns\n",
    "sns.heatmap(data=data_train_c.corr(), annot = True)"
   ]
  },
  {
   "cell_type": "code",
   "execution_count": 269,
   "metadata": {
    "ExecuteTime": {
     "end_time": "2020-09-05T10:08:09.008625Z",
     "start_time": "2020-09-05T10:08:08.988703Z"
    }
   },
   "outputs": [
    {
     "data": {
      "text/plain": [
       "Index(['Year', 'Kilometers_Driven', 'Fuel_Type', 'Transmission', 'Mileage',\n",
       "       'Engine', 'Power', 'Seats', 'Price', 'KM_Drlog_form'],\n",
       "      dtype='object')"
      ]
     },
     "execution_count": 269,
     "metadata": {},
     "output_type": "execute_result"
    }
   ],
   "source": [
    "data_train_c.columns"
   ]
  },
  {
   "cell_type": "code",
   "execution_count": 270,
   "metadata": {
    "ExecuteTime": {
     "end_time": "2020-09-05T10:08:09.238566Z",
     "start_time": "2020-09-05T10:08:09.168545Z"
    }
   },
   "outputs": [
    {
     "name": "stdout",
     "output_type": "stream",
     "text": [
      "                            OLS Regression Results                            \n",
      "==============================================================================\n",
      "Dep. Variable:                  Price   R-squared:                       0.083\n",
      "Model:                            OLS   Adj. R-squared:                  0.083\n",
      "Method:                 Least Squares   F-statistic:                     525.4\n",
      "Date:                Sat, 05 Sep 2020   Prob (F-statistic):          2.31e-111\n",
      "Time:                        15:38:09   Log-Likelihood:                -21771.\n",
      "No. Observations:                5770   AIC:                         4.355e+04\n",
      "Df Residuals:                    5768   BIC:                         4.356e+04\n",
      "Df Model:                           1                                         \n",
      "Covariance Type:            nonrobust                                         \n",
      "=====================================================================================\n",
      "                        coef    std err          t      P>|t|      [0.025      0.975]\n",
      "-------------------------------------------------------------------------------------\n",
      "Intercept         -2051.3755     89.904    -22.817      0.000   -2227.621   -1875.130\n",
      "Kilometers_Driven     1.0236      0.045     22.922      0.000       0.936       1.111\n",
      "==============================================================================\n",
      "Omnibus:                     4264.563   Durbin-Watson:                   2.008\n",
      "Prob(Omnibus):                  0.000   Jarque-Bera (JB):            93518.853\n",
      "Skew:                           3.347   Prob(JB):                         0.00\n",
      "Kurtosis:                      21.552   Cond. No.                     1.31e+06\n",
      "==============================================================================\n",
      "\n",
      "Warnings:\n",
      "[1] Standard Errors assume that the covariance matrix of the errors is correctly specified.\n",
      "[2] The condition number is large, 1.31e+06. This might indicate that there are\n",
      "strong multicollinearity or other numerical problems.\n"
     ]
    }
   ],
   "source": [
    "model=sm.OLS.from_formula('Price~Kilometers_Driven',data=data_train_c)\n",
    "res=model.fit()\n",
    "print(res.summary())"
   ]
  },
  {
   "cell_type": "code",
   "execution_count": 298,
   "metadata": {
    "ExecuteTime": {
     "end_time": "2020-09-05T10:22:15.798598Z",
     "start_time": "2020-09-05T10:22:15.518704Z"
    },
    "scrolled": true
   },
   "outputs": [
    {
     "name": "stdout",
     "output_type": "stream",
     "text": [
      "                            OLS Regression Results                            \n",
      "==============================================================================\n",
      "Dep. Variable:                  Price   R-squared:                       0.721\n",
      "Model:                            OLS   Adj. R-squared:                  0.720\n",
      "Method:                 Least Squares   F-statistic:                     930.0\n",
      "Date:                Sat, 05 Sep 2020   Prob (F-statistic):               0.00\n",
      "Time:                        15:52:15   Log-Likelihood:                -18338.\n",
      "No. Observations:                5770   AIC:                         3.671e+04\n",
      "Df Residuals:                    5753   BIC:                         3.682e+04\n",
      "Df Model:                          16                                         \n",
      "Covariance Type:            nonrobust                                         \n",
      "========================================================================================\n",
      "                           coef    std err          t      P>|t|      [0.025      0.975]\n",
      "----------------------------------------------------------------------------------------\n",
      "Intercept             4.368e+06    2.9e+05     15.079      0.000     3.8e+06    4.94e+06\n",
      "C(Transmission)[T.2]     2.5431      0.233     10.924      0.000       2.087       2.999\n",
      "C(Fuel_Type)[T.2]        3.1994      0.219     14.629      0.000       2.771       3.628\n",
      "C(Fuel_Type)[T.3]        3.2646      0.828      3.945      0.000       1.642       4.887\n",
      "C(Fuel_Type)[T.4]        5.4955      1.845      2.978      0.003       1.878       9.113\n",
      "C(Seats)[T.4.0]        -13.5467      1.819     -7.445      0.000     -17.114      -9.980\n",
      "C(Seats)[T.5.0]        -18.8739      1.746    -10.811      0.000     -22.296     -15.451\n",
      "C(Seats)[T.6.0]        -19.8703      2.083     -9.538      0.000     -23.954     -15.786\n",
      "C(Seats)[T.7.0]        -20.3815      1.760    -11.577      0.000     -23.833     -16.930\n",
      "C(Seats)[T.8.0]        -19.7894      1.845    -10.729      0.000     -23.405     -16.173\n",
      "C(Seats)[T.9.0]        -21.7853      3.803     -5.728      0.000     -29.241     -14.330\n",
      "C(Seats)[T.10.0]       -18.4880      3.425     -5.398      0.000     -25.202     -11.774\n",
      "Power                    0.1293      0.004     34.351      0.000       0.122       0.137\n",
      "Engine                  -0.0004      0.000     -1.020      0.308      -0.001       0.000\n",
      "Mileage                 -0.2274      0.031     -7.396      0.000      -0.288      -0.167\n",
      "KM_Drlog_form        -6.614e+05   4.38e+04    -15.086      0.000   -7.47e+05   -5.75e+05\n",
      "Year                   329.7359     21.789     15.133      0.000     287.020     372.451\n",
      "==============================================================================\n",
      "Omnibus:                     4592.327   Durbin-Watson:                   2.029\n",
      "Prob(Omnibus):                  0.000   Jarque-Bera (JB):           503965.536\n",
      "Skew:                           3.126   Prob(JB):                         0.00\n",
      "Kurtosis:                      48.355   Cond. No.                     1.00e+10\n",
      "==============================================================================\n",
      "\n",
      "Warnings:\n",
      "[1] Standard Errors assume that the covariance matrix of the errors is correctly specified.\n",
      "[2] The condition number is large,  1e+10. This might indicate that there are\n",
      "strong multicollinearity or other numerical problems.\n"
     ]
    }
   ],
   "source": [
    "\n",
    "model=sm.OLS.from_formula('Price~Power+Engine+C(Transmission)+Mileage+C(Fuel_Type)+KM_Drlog_form+Year+C(Seats)',data=data_train_c)\n",
    "res=model.fit()\n",
    "print(res.summary())"
   ]
  },
  {
   "cell_type": "code",
   "execution_count": 185,
   "metadata": {
    "ExecuteTime": {
     "end_time": "2020-09-05T09:32:22.358246Z",
     "start_time": "2020-09-05T09:32:22.188177Z"
    },
    "code_folding": [
     0
    ]
   },
   "outputs": [],
   "source": [
    "#It's opetional you can use next _cell method \n",
    "df = pd.DataFrame() \n",
    "\n",
    "for i in ['Power','Engine','Transmission','Mileage','Mileage','Fuel_Type','KM_Drlog_form','Year','Seats']:\n",
    "    df[i]=data_train_c[i]\n",
    "df['Pre_Price']=res.predict(df)\n",
    "df['Orignal_Price']=data_train_c['Price']"
   ]
  },
  {
   "cell_type": "code",
   "execution_count": 274,
   "metadata": {
    "ExecuteTime": {
     "end_time": "2020-09-05T10:10:40.738664Z",
     "start_time": "2020-09-05T10:10:40.718674Z"
    }
   },
   "outputs": [],
   "source": [
    "Pre_Price=res.predict()"
   ]
  },
  {
   "cell_type": "code",
   "execution_count": 273,
   "metadata": {
    "ExecuteTime": {
     "end_time": "2020-09-05T10:08:53.548717Z",
     "start_time": "2020-09-05T10:08:53.488277Z"
    }
   },
   "outputs": [
    {
     "data": {
      "text/html": [
       "<div>\n",
       "<style scoped>\n",
       "    .dataframe tbody tr th:only-of-type {\n",
       "        vertical-align: middle;\n",
       "    }\n",
       "\n",
       "    .dataframe tbody tr th {\n",
       "        vertical-align: top;\n",
       "    }\n",
       "\n",
       "    .dataframe thead th {\n",
       "        text-align: right;\n",
       "    }\n",
       "</style>\n",
       "<table border=\"1\" class=\"dataframe\">\n",
       "  <thead>\n",
       "    <tr style=\"text-align: right;\">\n",
       "      <th></th>\n",
       "      <th>Power</th>\n",
       "      <th>Engine</th>\n",
       "      <th>Transmission</th>\n",
       "      <th>Mileage</th>\n",
       "      <th>Fuel_Type</th>\n",
       "      <th>KM_Drlog_form</th>\n",
       "      <th>Year</th>\n",
       "      <th>Seats</th>\n",
       "      <th>Pre_Price</th>\n",
       "      <th>Orignal_Price</th>\n",
       "    </tr>\n",
       "  </thead>\n",
       "  <tbody>\n",
       "    <tr>\n",
       "      <th>0</th>\n",
       "      <td>58.16</td>\n",
       "      <td>998.0</td>\n",
       "      <td>1</td>\n",
       "      <td>26.60</td>\n",
       "      <td>3</td>\n",
       "      <td>7.605890</td>\n",
       "      <td>2010</td>\n",
       "      <td>5.0</td>\n",
       "      <td>-2.669483</td>\n",
       "      <td>1.75</td>\n",
       "    </tr>\n",
       "    <tr>\n",
       "      <th>1</th>\n",
       "      <td>126.20</td>\n",
       "      <td>1582.0</td>\n",
       "      <td>1</td>\n",
       "      <td>19.67</td>\n",
       "      <td>2</td>\n",
       "      <td>7.608374</td>\n",
       "      <td>2015</td>\n",
       "      <td>5.0</td>\n",
       "      <td>13.066085</td>\n",
       "      <td>12.50</td>\n",
       "    </tr>\n",
       "    <tr>\n",
       "      <th>2</th>\n",
       "      <td>88.70</td>\n",
       "      <td>1199.0</td>\n",
       "      <td>1</td>\n",
       "      <td>18.20</td>\n",
       "      <td>1</td>\n",
       "      <td>7.606387</td>\n",
       "      <td>2011</td>\n",
       "      <td>5.0</td>\n",
       "      <td>0.687152</td>\n",
       "      <td>4.50</td>\n",
       "    </tr>\n",
       "    <tr>\n",
       "      <th>3</th>\n",
       "      <td>88.76</td>\n",
       "      <td>1248.0</td>\n",
       "      <td>1</td>\n",
       "      <td>20.77</td>\n",
       "      <td>2</td>\n",
       "      <td>7.606885</td>\n",
       "      <td>2012</td>\n",
       "      <td>7.0</td>\n",
       "      <td>2.903540</td>\n",
       "      <td>6.00</td>\n",
       "    </tr>\n",
       "    <tr>\n",
       "      <th>4</th>\n",
       "      <td>140.80</td>\n",
       "      <td>1968.0</td>\n",
       "      <td>2</td>\n",
       "      <td>15.20</td>\n",
       "      <td>2</td>\n",
       "      <td>7.607381</td>\n",
       "      <td>2013</td>\n",
       "      <td>5.0</td>\n",
       "      <td>15.812881</td>\n",
       "      <td>17.74</td>\n",
       "    </tr>\n",
       "    <tr>\n",
       "      <th>...</th>\n",
       "      <td>...</td>\n",
       "      <td>...</td>\n",
       "      <td>...</td>\n",
       "      <td>...</td>\n",
       "      <td>...</td>\n",
       "      <td>...</td>\n",
       "      <td>...</td>\n",
       "      <td>...</td>\n",
       "      <td>...</td>\n",
       "      <td>...</td>\n",
       "    </tr>\n",
       "    <tr>\n",
       "      <th>6014</th>\n",
       "      <td>74.00</td>\n",
       "      <td>1248.0</td>\n",
       "      <td>1</td>\n",
       "      <td>28.40</td>\n",
       "      <td>2</td>\n",
       "      <td>7.607878</td>\n",
       "      <td>2014</td>\n",
       "      <td>5.0</td>\n",
       "      <td>2.966742</td>\n",
       "      <td>4.75</td>\n",
       "    </tr>\n",
       "    <tr>\n",
       "      <th>6015</th>\n",
       "      <td>71.00</td>\n",
       "      <td>1120.0</td>\n",
       "      <td>1</td>\n",
       "      <td>24.40</td>\n",
       "      <td>2</td>\n",
       "      <td>7.608374</td>\n",
       "      <td>2015</td>\n",
       "      <td>5.0</td>\n",
       "      <td>5.002547</td>\n",
       "      <td>4.00</td>\n",
       "    </tr>\n",
       "    <tr>\n",
       "      <th>6016</th>\n",
       "      <td>112.00</td>\n",
       "      <td>2498.0</td>\n",
       "      <td>1</td>\n",
       "      <td>14.00</td>\n",
       "      <td>2</td>\n",
       "      <td>7.606885</td>\n",
       "      <td>2012</td>\n",
       "      <td>8.0</td>\n",
       "      <td>7.395805</td>\n",
       "      <td>2.90</td>\n",
       "    </tr>\n",
       "    <tr>\n",
       "      <th>6017</th>\n",
       "      <td>67.10</td>\n",
       "      <td>998.0</td>\n",
       "      <td>1</td>\n",
       "      <td>18.90</td>\n",
       "      <td>1</td>\n",
       "      <td>7.607381</td>\n",
       "      <td>2013</td>\n",
       "      <td>5.0</td>\n",
       "      <td>-0.160963</td>\n",
       "      <td>2.65</td>\n",
       "    </tr>\n",
       "    <tr>\n",
       "      <th>6018</th>\n",
       "      <td>57.60</td>\n",
       "      <td>936.0</td>\n",
       "      <td>1</td>\n",
       "      <td>25.44</td>\n",
       "      <td>2</td>\n",
       "      <td>7.606387</td>\n",
       "      <td>2011</td>\n",
       "      <td>5.0</td>\n",
       "      <td>-1.582978</td>\n",
       "      <td>2.50</td>\n",
       "    </tr>\n",
       "  </tbody>\n",
       "</table>\n",
       "<p>5872 rows × 10 columns</p>\n",
       "</div>"
      ],
      "text/plain": [
       "       Power  Engine  Transmission  Mileage  Fuel_Type  KM_Drlog_form  Year  \\\n",
       "0      58.16   998.0             1    26.60          3       7.605890  2010   \n",
       "1     126.20  1582.0             1    19.67          2       7.608374  2015   \n",
       "2      88.70  1199.0             1    18.20          1       7.606387  2011   \n",
       "3      88.76  1248.0             1    20.77          2       7.606885  2012   \n",
       "4     140.80  1968.0             2    15.20          2       7.607381  2013   \n",
       "...      ...     ...           ...      ...        ...            ...   ...   \n",
       "6014   74.00  1248.0             1    28.40          2       7.607878  2014   \n",
       "6015   71.00  1120.0             1    24.40          2       7.608374  2015   \n",
       "6016  112.00  2498.0             1    14.00          2       7.606885  2012   \n",
       "6017   67.10   998.0             1    18.90          1       7.607381  2013   \n",
       "6018   57.60   936.0             1    25.44          2       7.606387  2011   \n",
       "\n",
       "      Seats  Pre_Price  Orignal_Price  \n",
       "0       5.0  -2.669483           1.75  \n",
       "1       5.0  13.066085          12.50  \n",
       "2       5.0   0.687152           4.50  \n",
       "3       7.0   2.903540           6.00  \n",
       "4       5.0  15.812881          17.74  \n",
       "...     ...        ...            ...  \n",
       "6014    5.0   2.966742           4.75  \n",
       "6015    5.0   5.002547           4.00  \n",
       "6016    8.0   7.395805           2.90  \n",
       "6017    5.0  -0.160963           2.65  \n",
       "6018    5.0  -1.582978           2.50  \n",
       "\n",
       "[5872 rows x 10 columns]"
      ]
     },
     "execution_count": 273,
     "metadata": {},
     "output_type": "execute_result"
    }
   ],
   "source": [
    "df"
   ]
  },
  {
   "cell_type": "code",
   "execution_count": 275,
   "metadata": {
    "ExecuteTime": {
     "end_time": "2020-09-05T10:10:49.538331Z",
     "start_time": "2020-09-05T10:10:48.168582Z"
    },
    "code_folding": []
   },
   "outputs": [
    {
     "data": {
      "text/plain": [
       "<matplotlib.axes._subplots.AxesSubplot at 0x1981a137248>"
      ]
     },
     "execution_count": 275,
     "metadata": {},
     "output_type": "execute_result"
    },
    {
     "data": {
      "image/png": "[encoded data removed]",
      "text/plain": [
       "<Figure size 432x288 with 2 Axes>"
      ]
     },
     "metadata": {
      "needs_background": "light"
     },
     "output_type": "display_data"
    }
   ],
   "source": [
    "# if we want relation again pre_price vs all independent variable \n",
    "sns.heatmap(data=df.corr(), annot = True)"
   ]
  },
  {
   "cell_type": "markdown",
   "metadata": {},
   "source": [
    "<b> Now we want to visualize our model Price and Orginal Price </b>"
   ]
  },
  {
   "cell_type": "code",
   "execution_count": 284,
   "metadata": {
    "ExecuteTime": {
     "end_time": "2020-09-05T10:15:03.408252Z",
     "start_time": "2020-09-05T10:15:03.368631Z"
    }
   },
   "outputs": [],
   "source": [
    "prstd, iv_l, iv_u = wls_prediction_std(res)"
   ]
  },
  {
   "cell_type": "code",
   "execution_count": 285,
   "metadata": {
    "ExecuteTime": {
     "end_time": "2020-09-05T10:15:04.119800Z",
     "start_time": "2020-09-05T10:15:04.098670Z"
    }
   },
   "outputs": [],
   "source": [
    "n=len(df)"
   ]
  },
  {
   "cell_type": "code",
   "execution_count": 289,
   "metadata": {
    "ExecuteTime": {
     "end_time": "2020-09-05T10:17:44.368577Z",
     "start_time": "2020-09-05T10:17:44.348689Z"
    }
   },
   "outputs": [],
   "source": [
    "#Common Variable for Comapare our Orginal Price vs Predicted Price \n",
    "Time= np.linspace(0, 1000, 100)"
   ]
  },
  {
   "cell_type": "code",
   "execution_count": 306,
   "metadata": {
    "ExecuteTime": {
     "end_time": "2020-09-05T10:27:59.443303Z",
     "start_time": "2020-09-05T10:27:59.258467Z"
    }
   },
   "outputs": [
    {
     "data": {
      "text/plain": [
       "Text(0, 0.5, 'Predict vs Orginal(Price)')"
      ]
     },
     "execution_count": 306,
     "metadata": {},
     "output_type": "execute_result"
    }
   ],
   "source": [
    "# Here We Can see Variation Upper bound and Lower Bound line\n",
    "fig, ax = plt.subplots(figsize=(30,10 ))\n",
    "ax.plot(Time, df['Orignal_Price'][:100], 'o', label=\"True\")\n",
    "ax.plot(Time, df['Pre_Price'][:100], '*-', label=\"OLS\")\n",
    "ax.plot(Time, iv_u[:100], 'r--',label='Lower_Bound')\n",
    "ax.plot(Time, iv_l[:100], 'g--',label='Upper_Bound')\n",
    "ax.legend(loc='best')\n",
    "plt.xlabel('Common_Variable')\n",
    "plt.ylabel('Predict vs Orginal(Price)')"
   ]
  },
  {
   "cell_type": "code",
   "execution_count": null,
   "metadata": {},
   "outputs": [],
   "source": []
  }
 ],
 "metadata": {
  "kernelspec": {
   "display_name": "Python 3",
   "language": "python",
   "name": "python3"
  },
  "language_info": {
   "codemirror_mode": {
    "name": "ipython",
    "version": 3
   },
   "file_extension": ".py",
   "mimetype": "text/x-python",
   "name": "python",
   "nbconvert_exporter": "python",
   "pygments_lexer": "ipython3",
   "version": "3.7.6"
  },
  "toc": {
   "base_numbering": 1,
   "nav_menu": {},
   "number_sections": true,
   "sideBar": true,
   "skip_h1_title": false,
   "title_cell": "Table of Contents",
   "title_sidebar": "Contents",
   "toc_cell": false,
   "toc_position": {},
   "toc_section_display": true,
   "toc_window_display": false
  }
 },
 "nbformat": 4,
 "nbformat_minor": 4
}
