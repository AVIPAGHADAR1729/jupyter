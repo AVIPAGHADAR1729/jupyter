{
 "cells": [
  {
   "cell_type": "code",
   "execution_count": 3,
   "metadata": {
    "ExecuteTime": {
     "end_time": "2020-07-15T13:14:54.022597Z",
     "start_time": "2020-07-15T13:14:50.829601Z"
    }
   },
   "outputs": [],
   "source": [
    "import scipy.stats as st\n",
    "import statsmodels.api as sm\n",
    "import statsmodels.stats.weightstats as ze\n",
    "import numpy as np\n",
    "import seaborn as sns\n",
    "import matplotlib.pylab as plt\n",
    "import warnings\n",
    "warnings.filterwarnings(\"ignore\")"
   ]
  },
  {
   "cell_type": "code",
   "execution_count": null,
   "metadata": {},
   "outputs": [],
   "source": [
    "'''Sample question: your company wants to improve sales. \n",
    "Past sales data indicate that the average sale was $100 per transaction. After training your sales force, \n",
    "recent sales data (taken from a sample of 25 salesmen) indicates an average sale of $130, \n",
    "with a standard deviation of $15. Did the training work? Test your hypothesis at a 5% alpha level.\n",
    "'''"
   ]
  },
  {
   "cell_type": "code",
   "execution_count": 95,
   "metadata": {
    "ExecuteTime": {
     "end_time": "2020-07-14T11:59:18.681824Z",
     "start_time": "2020-07-14T11:59:18.606691Z"
    },
    "code_folding": []
   },
   "outputs": [],
   "source": [
    "#useful Data\n",
    "Population_mean=100 \n",
    "sample_mean=130\n",
    "sample_size=25\n",
    "sample_std=15"
   ]
  },
  {
   "cell_type": "code",
   "execution_count": null,
   "metadata": {
    "ExecuteTime": {
     "end_time": "2020-07-14T06:28:27.564332Z",
     "start_time": "2020-07-14T06:28:26.912000Z"
    },
    "code_folding": [],
    "scrolled": true
   },
   "outputs": [],
   "source": [
    "# t-Test\n",
    "#H0 :in Population mean no diffrence  mu=100\n",
    "#H1:in Population mean diffrence occur mu!=100\n",
    "# one Tailed Test \n",
    "alpha=0.05 #signification level\n",
    "se=sample_std/np.sqrt(sample_size)\n",
    "print(\"Standard error of mean:\",se)\n",
    "me=st.t.ppf(0.95,df=sample_size-1)*se\n",
    "print(\"margin of error:\",me)\n",
    "stcf=st.t.ppf(0.95,df=sample_size-1)\n",
    "stcf=(-stcf,stcf)\n",
    "print(\"Standard Confidence Interval:\",stcf)\n",
    "t_score=(sample_mean-Population_mean)/se\n",
    "\n",
    "\n",
    "cf=(Population_mean-me,Population_mean+me)\n",
    "print(\"Actual Confidence interval:\",cf)\n",
    "print(\"t-Test_Score:\",t_score)\n",
    "t_score=abs(t_score)\n",
    "p_value=(1-st.t.cdf(t_score,df=(sample_size-1)))\n",
    "print(\"P-value: two tailed test:\",2*p_value)\n",
    "print('P-value: one tailed test',p_value)\n",
    "\n",
    "\n",
    "if(p_value<0.05):\n",
    "    print(\"Null Hypothesis reject(one tailed test)\")\n",
    "else:\n",
    "    print(\"we fail to reject Null Hypothesis(one tailed test)\")\n",
    "\n",
    "\n",
    "    "
   ]
  },
  {
   "cell_type": "markdown",
   "metadata": {},
   "source": [
    "<b> Two Sample Mean (Diffrent Mean)</b>\n",
    "\n"
   ]
  },
  {
   "cell_type": "code",
   "execution_count": null,
   "metadata": {},
   "outputs": [],
   "source": [
    "'''Let’s suppose that a student wants to figure out if biology professors or English professors know more memes.\n",
    "The student writes a meme quiz and springs it on 14 unsuspecting biology professors and 18 unsuspecting English professors during office hours.'''"
   ]
  },
  {
   "cell_type": "code",
   "execution_count": 4,
   "metadata": {
    "ExecuteTime": {
     "end_time": "2020-07-14T07:56:19.830433Z",
     "start_time": "2020-07-14T07:56:19.799186Z"
    }
   },
   "outputs": [],
   "source": [
    "biology =[3, 7, 11, 0, 7, 0, 4, 5, 6, 2, 4, 7, 2, 9]\n",
    "english =[8, 5, 4, 10, 4, 5, 7, 2, 6, 1, 2, 7, 0, 6, 4, 12, 5, 2]"
   ]
  },
  {
   "cell_type": "markdown",
   "metadata": {},
   "source": [
    "<b> Normally Data Distribute or not</b>"
   ]
  },
  {
   "cell_type": "markdown",
   "metadata": {},
   "source": [
    "<b> Method 1:skewness</b>"
   ]
  },
  {
   "cell_type": "code",
   "execution_count": 89,
   "metadata": {
    "ExecuteTime": {
     "end_time": "2020-07-14T11:16:43.613924Z",
     "start_time": "2020-07-14T11:16:43.582677Z"
    }
   },
   "outputs": [
    {
     "name": "stdout",
     "output_type": "stream",
     "text": [
      "biology skewness 0.1841172836475505\n",
      "english skewness 0.48482133398713123\n"
     ]
    }
   ],
   "source": [
    "print(\"biology skewness\",st.skew(biology))\n",
    "print(\"english skewness\",st.skew(english))"
   ]
  },
  {
   "cell_type": "markdown",
   "metadata": {},
   "source": [
    "   <ul>\n",
    "   <li> If the skewness is between -0.5 and 0.5, the data are fairly symmetrical.</li>\n",
    "   <li> If the skewness is between -1 and -0.5(negatively skewed) or between 0.5 and 1(positively skewed), the data are moderately skewed.</li>\n",
    "   <li> If the skewness is less than -1(negatively skewed) or greater than 1(positively skewed), the data are highly skewed</li>\n",
    "    </ul>"
   ]
  },
  {
   "cell_type": "markdown",
   "metadata": {},
   "source": [
    "<b> Method 2: Q-Q plot</b>"
   ]
  },
  {
   "cell_type": "code",
   "execution_count": 92,
   "metadata": {
    "ExecuteTime": {
     "end_time": "2020-07-14T11:47:44.129472Z",
     "start_time": "2020-07-14T11:47:43.806520Z"
    }
   },
   "outputs": [
    {
     "data": {
      "image/png": "[encoded data removed]",
      "text/plain": [
       "<Figure size 432x288 with 1 Axes>"
      ]
     },
     "metadata": {
      "needs_background": "light"
     },
     "output_type": "display_data"
    }
   ],
   "source": [
    "sm.qqplot(np.array(english),line='r')\n",
    "plt.show()"
   ]
  },
  {
   "cell_type": "code",
   "execution_count": 93,
   "metadata": {
    "ExecuteTime": {
     "end_time": "2020-07-14T11:47:47.626318Z",
     "start_time": "2020-07-14T11:47:47.341091Z"
    }
   },
   "outputs": [
    {
     "data": {
      "image/png": "[encoded data removed]",
      "text/plain": [
       "<Figure size 432x288 with 1 Axes>"
      ]
     },
     "metadata": {
      "needs_background": "light"
     },
     "output_type": "display_data"
    }
   ],
   "source": [
    "sm.qqplot(np.array(biology),line='r')\n",
    "plt.show()"
   ]
  },
  {
   "cell_type": "markdown",
   "metadata": {},
   "source": [
    "<b> Optional 2 sample quantile Compare </b>"
   ]
  },
  {
   "cell_type": "code",
   "execution_count": 90,
   "metadata": {
    "ExecuteTime": {
     "end_time": "2020-07-14T11:21:41.880490Z",
     "start_time": "2020-07-14T11:21:41.864854Z"
    },
    "code_folding": [
     3
    ]
   },
   "outputs": [],
   "source": [
    "x=0\n",
    "q_list=[]\n",
    "m=(1/len(biology))\n",
    "for i in range(len(biology)):\n",
    "    x = round(np.quantile(english,m),3)\n",
    "    m=m+(1/len(biology))\n",
    "    q_list.append(x)"
   ]
  },
  {
   "cell_type": "code",
   "execution_count": 82,
   "metadata": {
    "ExecuteTime": {
     "end_time": "2020-07-14T11:09:54.535607Z",
     "start_time": "2020-07-14T11:09:54.181433Z"
    },
    "scrolled": true
   },
   "outputs": [
    {
     "data": {
      "image/png": "[encoded data removed]",
      "text/plain": [
       "<Figure size 432x288 with 1 Axes>"
      ]
     },
     "metadata": {
      "needs_background": "light"
     },
     "output_type": "display_data"
    }
   ],
   "source": [
    "sm.qqplot_2samples(np.array(q_list),np.array(biology),line='45')\n",
    "# sm.qqplot(np.array(biology))\n",
    "plt.show()"
   ]
  },
  {
   "cell_type": "markdown",
   "metadata": {
    "ExecuteTime": {
     "end_time": "2020-07-14T11:22:31.074805Z",
     "start_time": "2020-07-14T11:22:31.059180Z"
    }
   },
   "source": [
    "<b> Method 3:Histogram </b>"
   ]
  },
  {
   "cell_type": "code",
   "execution_count": 32,
   "metadata": {
    "ExecuteTime": {
     "end_time": "2020-07-14T08:31:26.363288Z",
     "start_time": "2020-07-14T08:31:25.751399Z"
    }
   },
   "outputs": [
    {
     "data": {
      "text/plain": [
       "<matplotlib.axes._subplots.AxesSubplot at 0x1fc56706088>"
      ]
     },
     "execution_count": 32,
     "metadata": {},
     "output_type": "execute_result"
    },
    {
     "data": {
      "image/png": "[encoded data removed]",
      "text/plain": [
       "<Figure size 432x288 with 1 Axes>"
      ]
     },
     "metadata": {
      "needs_background": "light"
     },
     "output_type": "display_data"
    }
   ],
   "source": [
    "sns.distplot(english)"
   ]
  },
  {
   "cell_type": "code",
   "execution_count": 83,
   "metadata": {
    "ExecuteTime": {
     "end_time": "2020-07-14T11:10:07.860389Z",
     "start_time": "2020-07-14T11:10:06.040017Z"
    }
   },
   "outputs": [
    {
     "data": {
      "text/plain": [
       "<matplotlib.axes._subplots.AxesSubplot at 0x1fc5f047f08>"
      ]
     },
     "execution_count": 83,
     "metadata": {},
     "output_type": "execute_result"
    },
    {
     "data": {
      "image/png": "[encoded data removed]",
      "text/plain": [
       "<Figure size 432x288 with 1 Axes>"
      ]
     },
     "metadata": {
      "needs_background": "light"
     },
     "output_type": "display_data"
    }
   ],
   "source": [
    "sns.distplot(biology)"
   ]
  },
  {
   "cell_type": "code",
   "execution_count": null,
   "metadata": {
    "ExecuteTime": {
     "end_time": "2020-07-14T12:04:08.926618Z",
     "start_time": "2020-07-14T12:04:08.916655Z"
    }
   },
   "outputs": [],
   "source": [
    "#useful data\n",
    "b_mean=np.mean(biology)\n",
    "e_mean=np.mean(english)\n",
    "b_std=np.std(biology)\n",
    "e_std=np.std(english)\n",
    "b_n1=len(biology)\n",
    "e_n2=len(english)"
   ]
  },
  {
   "cell_type": "code",
   "execution_count": null,
   "metadata": {
    "ExecuteTime": {
     "end_time": "2020-07-14T13:34:42.743886Z",
     "start_time": "2020-07-14T13:34:42.693556Z"
    },
    "code_folding": [],
    "scrolled": false
   },
   "outputs": [],
   "source": [
    "# t-test \n",
    "# H0 both professor equally know about memes\n",
    "#H1 Not equallity \n",
    "# two tailed test\n",
    "\n",
    "alpha=0.05\n",
    "\n",
    "t_star=st.t.ppf(0.975,df=b_n1+e_n2-2)\n",
    "\n",
    "print(\"T Star:\",t_star)\n",
    "# Here 2 sample standard deviation  equally like so here used pooled approach\n",
    "se=((b_n1-1)*(b_std**2)+(e_std**2)*(e_n2-1))/(b_n1+e_n2-1)\n",
    "\n",
    "se=np.sqrt(se)*np.sqrt((1/b_n1)+(1/e_n2))\n",
    "print(\"standard error of mean:\",se)\n",
    "\n",
    "me=t_star*se\n",
    "print(\"Marign of erro:\",me)\n",
    "stcf=(-t_star,t_star)\n",
    "print(\"standard Confidence Interval:\",stcf)\n",
    "x=(b_mean-e_mean)\n",
    "cf=(x-me,x+me)\n",
    "\n",
    "print(\"Actual Confidence Interval:\",cf)\n",
    "t_score=(b_mean-e_mean)/se\n",
    "print(\"T Score\",t_score)\n",
    "p_value=2*(1-st.t.cdf(abs(t_score),df=b_n1+e_n2-2)) \n",
    "print(\"P_value:\",p_value)\n",
    "if(p_value<0.05):\n",
    "    print(\"Null Hypothesis reject\")\n",
    "else:\n",
    "    print(\"Fail to reject Null Hypothesis\")"
   ]
  },
  {
   "cell_type": "code",
   "execution_count": 137,
   "metadata": {
    "ExecuteTime": {
     "end_time": "2020-07-14T13:37:05.328434Z",
     "start_time": "2020-07-14T13:37:05.313841Z"
    },
    "code_folding": []
   },
   "outputs": [
    {
     "data": {
      "text/plain": [
       "(-0.18941702498737376, 0.42552086143675766, 30.0)"
      ]
     },
     "execution_count": 137,
     "metadata": {},
     "output_type": "execute_result"
    }
   ],
   "source": [
    "# another method  \n",
    "ze.ttest_ind(biology,english,usevar='pooled',alternative='smaller')\n"
   ]
  },
  {
   "cell_type": "markdown",
   "metadata": {},
   "source": [
    "<b> Paired data </b>"
   ]
  },
  {
   "cell_type": "code",
   "execution_count": null,
   "metadata": {},
   "outputs": [],
   "source": [
    "'''A cross-over trial investigated whether eating oat bran lowered serum cholesterol levels.\n",
    "Fourteen (14) individuals were randomly assigned a diet that included either oat branor corn flakes.\n",
    "After two weeks on the initial diet,  serum cholesterol were measured and the participants were then “crossed-over” to the alternate diet.\n",
    "After two-weeks on the second diet, cholesterol levels were once again recorded. Data appear below. The variable CORNFLK in the table represents cholesterol level (mmol/L) of the participant on the corn flake diet. \n",
    "The variable OATBRAN represents the participant’s cholesterol on the oat bran diet.'''"
   ]
  },
  {
   "cell_type": "code",
   "execution_count": 1,
   "metadata": {
    "ExecuteTime": {
     "end_time": "2020-07-15T13:14:33.911684Z",
     "start_time": "2020-07-15T13:14:33.873982Z"
    }
   },
   "outputs": [],
   "source": [
    "Cornflik = []\n",
    "st = \"4.616.425.404.543.983.825.014.343.804.565.353.892.254.24\"\n",
    "st2 = '3.845.575.854.803.682.964.413.723.493.845.263.731.844.14'\n",
    "\n",
    "\n",
    "i = 0\n",
    "Oatbran = []\n",
    "diff=[]\n",
    "while(i < len(st)):\n",
    "    Cornflik.append(float(st[i:i+4]))\n",
    "    Oatbran.append(float(st2[i:i+4]))\n",
    "    diff.append(float(st[i:i+4])-float(st2[i:i+4]))\n",
    "    i = i+4"
   ]
  },
  {
   "cell_type": "code",
   "execution_count": 4,
   "metadata": {
    "ExecuteTime": {
     "end_time": "2020-07-15T13:15:09.960016Z",
     "start_time": "2020-07-15T13:15:09.906622Z"
    }
   },
   "outputs": [
    {
     "name": "stdout",
     "output_type": "stream",
     "text": [
      "-0.15922138878441658\n",
      "-0.14577438633188927\n",
      "-0.5297280351041539\n"
     ]
    }
   ],
   "source": [
    "#step 1:Data Random sampling or not\n",
    "#here Indivual Person select so data random sampling\n",
    "#step 2:Data Normal Distributed  or note\n",
    "print(st.skew(Cornflik))\n",
    "print(st.skew(Oatbran))\n",
    "print(st.skew(diff))"
   ]
  },
  {
   "cell_type": "code",
   "execution_count": 39,
   "metadata": {
    "ExecuteTime": {
     "end_time": "2020-07-15T04:41:06.810133Z",
     "start_time": "2020-07-15T04:41:06.479034Z"
    }
   },
   "outputs": [
    {
     "data": {
      "text/plain": [
       "<matplotlib.axes._subplots.AxesSubplot at 0x16e40408488>"
      ]
     },
     "execution_count": 39,
     "metadata": {},
     "output_type": "execute_result"
    },
    {
     "data": {
      "image/png": "[encoded data removed]",
      "text/plain": [
       "<Figure size 432x288 with 1 Axes>"
      ]
     },
     "metadata": {
      "needs_background": "light"
     },
     "output_type": "display_data"
    }
   ],
   "source": [
    "sns.distplot(Cornflik) "
   ]
  },
  {
   "cell_type": "code",
   "execution_count": 28,
   "metadata": {
    "ExecuteTime": {
     "end_time": "2020-07-15T04:51:43.585253Z",
     "start_time": "2020-07-15T04:51:43.253120Z"
    }
   },
   "outputs": [
    {
     "data": {
      "text/plain": [
       "<matplotlib.axes._subplots.AxesSubplot at 0x1959d9c4e88>"
      ]
     },
     "execution_count": 28,
     "metadata": {},
     "output_type": "execute_result"
    },
    {
     "data": {
      "image/png": "[encoded data removed]",
      "text/plain": [
       "<Figure size 432x288 with 1 Axes>"
      ]
     },
     "metadata": {
      "needs_background": "light"
     },
     "output_type": "display_data"
    }
   ],
   "source": [
    "sns.distplot(Oatbran)"
   ]
  },
  {
   "cell_type": "code",
   "execution_count": 5,
   "metadata": {
    "ExecuteTime": {
     "end_time": "2020-07-15T13:15:45.724410Z",
     "start_time": "2020-07-15T13:15:44.372468Z"
    }
   },
   "outputs": [
    {
     "data": {
      "text/plain": [
       "<matplotlib.axes._subplots.AxesSubplot at 0x1d27efbad88>"
      ]
     },
     "execution_count": 5,
     "metadata": {},
     "output_type": "execute_result"
    },
    {
     "data": {
      "image/png": "[encoded data removed]",
      "text/plain": [
       "<Figure size 432x288 with 1 Axes>"
      ]
     },
     "metadata": {
      "needs_background": "light"
     },
     "output_type": "display_data"
    }
   ],
   "source": [
    "sns.distplot(diff)"
   ]
  },
  {
   "cell_type": "code",
   "execution_count": null,
   "metadata": {},
   "outputs": [],
   "source": [
    "#Here Data look fairly Normal Distributed\n"
   ]
  },
  {
   "cell_type": "code",
   "execution_count": 8,
   "metadata": {
    "ExecuteTime": {
     "end_time": "2020-07-15T13:26:54.486000Z",
     "start_time": "2020-07-15T13:26:54.463852Z"
    },
    "code_folding": []
   },
   "outputs": [],
   "source": [
    "#Collecting Data for test\n",
    "C_mean=np.mean(Cornflik)\n",
    "O_mean=np.mean(Oatbran)\n",
    "sd=np.std(diff)\n",
    "C_sample_size=len(Cornflik)\n",
    "O_sample_size=len(Oatbran)"
   ]
  },
  {
   "cell_type": "code",
   "execution_count": 18,
   "metadata": {
    "ExecuteTime": {
     "end_time": "2020-07-15T13:56:12.296136Z",
     "start_time": "2020-07-15T13:56:12.264840Z"
    }
   },
   "outputs": [
    {
     "name": "stdout",
     "output_type": "stream",
     "text": [
      "T-Star: 1.7709333959867988\n",
      "Standard Confidence Interval: (-1.7709333959867988, 1.7709333959867988)\n",
      "Standard error of the mean: 0.10455165977966205\n",
      "T-Score: 3.4706014578998468\n",
      "p-value: 0.002070553436829936\n",
      "Margin error of the mean: 0.18515402590965332\n",
      "Actual Confidence Interval: (0.17770311694749055, 0.5480111687667972)\n",
      "Null Hypothesis reject\n"
     ]
    }
   ],
   "source": [
    "# H0 There Is No Diffrence C_mean=O_mean\n",
    "# H1 There Is Diffrence C_mean > O_mean\n",
    "t_star = st.t.ppf(1-0.05, df=C_sample_size-1)\n",
    "alpha = 0.05\n",
    "# one tailed test\n",
    "print(\"T-Star:\", t_star)\n",
    "stcf = (-t_star, t_star)\n",
    "\n",
    "print(\"Standard Confidence Interval:\", stcf)\n",
    "se = sd/np.sqrt(C_sample_size)\n",
    "print(\"Standard error of the mean:\", se)\n",
    "me = t_star*se\n",
    "\n",
    "t_score = (C_mean-O_mean)/se\n",
    "print(\"T-Score:\", t_score)\n",
    "p_value = 1-st.t.cdf(t_score, df=C_sample_size-1)\n",
    "print(\"p-value:\", p_value)\n",
    "\n",
    "print(\"Margin error of the mean:\", me)\n",
    "cf = ((C_mean-O_mean)-me, (C_mean-O_mean)+me)\n",
    "print(\"Actual Confidence Interval:\", cf)\n",
    "if(p_value < 0.05):\n",
    "    print(\"Null Hypothesis reject\")\n",
    "else:\n",
    "    print(\"Fail to reject Null Hypothesis\")"
   ]
  },
  {
   "cell_type": "code",
   "execution_count": 47,
   "metadata": {
    "ExecuteTime": {
     "end_time": "2020-07-15T07:23:45.608495Z",
     "start_time": "2020-07-15T07:23:45.291794Z"
    },
    "code_folding": []
   },
   "outputs": [
    {
     "name": "stdout",
     "output_type": "stream",
     "text": [
      "T_Star: 1.7056179197592727\n",
      "Standard Confidence Interval: (-1.7056179197592727, 1.7056179197592727)\n",
      "standard error of mean: 0.3692657792748202\n",
      "Margin of error: 0.6298263302850056\n",
      "T_Score: 0.9826449219576701\n",
      "Actual Confidence Interval: (-0.2669691874278617, 0.9926834731421494)\n",
      "Fail to reject Null Hypothesis\n"
     ]
    }
   ],
   "source": [
    "#Here my Mistakes because of here i Was treate data like independent data(Please do not go this test) \n",
    "#H0 There Is No Diffrence C_mean=O_mean\n",
    "#H1 There Is Diffrence C_mean > O_mean\n",
    "alpha=0.05\n",
    "# one tailed test\n",
    "t_star=st.t.ppf(0.95,df=C_sample_size+O_sample_size-2)\n",
    "print(\"T_Star:\",t_star)\n",
    "stcf=(-t_star,t_star)\n",
    "print(\"Standard Confidence Interval:\",stcf)\n",
    "se=((C_sample_size-1)*(C_std**2)+(O_std**2)*(O_sample_size-1))/(C_sample_size+O_sample_size-2)\n",
    "\n",
    "se=np.sqrt(se)*np.sqrt((1/C_sample_size)+(1/O_sample_size))\n",
    "print(\"standard error of mean:\",se)\n",
    "print(\"Margin of error:\",t_star*se)\n",
    "me=t_star*se\n",
    "\n",
    "t_score=(C_mean-O_mean)/se\n",
    "print(\"T_Score:\",t_score)\n",
    "t_score=abs(t_score)\n",
    "\n",
    "cf=((C_mean-O_mean)-me, (C_mean-O_mean)+me)\n",
    "print(\"Actual Confidence Interval:\",cf)\n",
    "P_value=1-st.t.cdf(t_score,df=C_sample_size+O_sample_size-2)\n",
    "if(P_value<0.05):\n",
    "    print(\"Null Hypothesis reject\")\n",
    "else:\n",
    "    print(\"Fail to reject Null Hypothesis\")\n",
    "    "
   ]
  },
  {
   "cell_type": "code",
   "execution_count": 45,
   "metadata": {
    "ExecuteTime": {
     "end_time": "2020-07-15T06:37:16.799449Z",
     "start_time": "2020-07-15T06:37:16.761678Z"
    }
   },
   "outputs": [
    {
     "data": {
      "text/plain": [
       "28"
      ]
     },
     "execution_count": 45,
     "metadata": {},
     "output_type": "execute_result"
    }
   ],
   "source": []
  },
  {
   "cell_type": "code",
   "execution_count": null,
   "metadata": {},
   "outputs": [],
   "source": []
  }
 ],
 "metadata": {
  "kernelspec": {
   "display_name": "Python 3",
   "language": "python",
   "name": "python3"
  },
  "language_info": {
   "codemirror_mode": {
    "name": "ipython",
    "version": 3
   },
   "file_extension": ".py",
   "mimetype": "text/x-python",
   "name": "python",
   "nbconvert_exporter": "python",
   "pygments_lexer": "ipython3",
   "version": "3.7.6"
  },
  "toc": {
   "base_numbering": 1,
   "nav_menu": {},
   "number_sections": true,
   "sideBar": true,
   "skip_h1_title": false,
   "title_cell": "Table of Contents",
   "title_sidebar": "Contents",
   "toc_cell": false,
   "toc_position": {},
   "toc_section_display": true,
   "toc_window_display": false
  }
 },
 "nbformat": 4,
 "nbformat_minor": 4
}
