{
 "cells": [
  {
   "cell_type": "code",
   "execution_count": 96,
   "metadata": {
    "ExecuteTime": {
     "end_time": "2020-07-14T11:59:43.226961Z",
     "start_time": "2020-07-14T11:59:43.171817Z"
    }
   },
   "outputs": [],
   "source": [
    "import scipy.stats as st\n",
    "import statsmodels.api as sm\n",
    "import statsmodels.stats.weightstats as ze\n",
    "import numpy as np\n",
    "import seaborn as sns\n",
    "import matplotlib.pylab as plt\n",
    "import warnings\n",
    "warnings.filterwarnings(\"ignore\")"
   ]
  },
  {
   "cell_type": "code",
   "execution_count": null,
   "metadata": {},
   "outputs": [],
   "source": [
    "'''Sample question: your company wants to improve sales. \n",
    "Past sales data indicate that the average sale was $100 per transaction. After training your sales force, \n",
    "recent sales data (taken from a sample of 25 salesmen) indicates an average sale of $130, \n",
    "with a standard deviation of $15. Did the training work? Test your hypothesis at a 5% alpha level.\n",
    "'''"
   ]
  },
  {
   "cell_type": "code",
   "execution_count": 95,
   "metadata": {
    "ExecuteTime": {
     "end_time": "2020-07-14T11:59:18.681824Z",
     "start_time": "2020-07-14T11:59:18.606691Z"
    },
    "code_folding": [
     0
    ]
   },
   "outputs": [],
   "source": [
    "#useful Data\n",
    "Population_mean=100 \n",
    "sample_mean=130\n",
    "sample_size=25\n",
    "sample_std=15"
   ]
  },
  {
   "cell_type": "code",
   "execution_count": null,
   "metadata": {
    "ExecuteTime": {
     "end_time": "2020-07-14T06:28:27.564332Z",
     "start_time": "2020-07-14T06:28:26.912000Z"
    },
    "code_folding": [
     0
    ],
    "scrolled": true
   },
   "outputs": [],
   "source": [
    "# t-Test\n",
    "#H0 :in Population mean no diffrence  mu=100\n",
    "#H1:in Population mean diffrence occur mu!=100\n",
    "# one Tailed Test \n",
    "alpha=0.05 #signification level\n",
    "se=sample_std/np.sqrt(sample_size)\n",
    "print(\"Standard error of mean:\",se)\n",
    "me=st.t.ppf(0.95,df=sample_size-1)*se\n",
    "print(\"margin of error:\",me)\n",
    "stcf=st.t.ppf(0.95,df=sample_size-1)\n",
    "stcf=(-stcf,stcf)\n",
    "print(\"Standard Confidence Interval:\",stcf)\n",
    "t_score=(sample_mean-Population_mean)/se\n",
    "\n",
    "\n",
    "cf=(Population_mean-me,Population_mean+me)\n",
    "print(\"Actual Confidence interval:\",cf)\n",
    "print(\"t-Test_Score:\",t_score)\n",
    "t_score=abs(t_score)\n",
    "p_value=(1-st.t.cdf(t_score,df=(sample_size-1)))\n",
    "print(\"P-value: two tailed test:\",2*p_value)\n",
    "print('P-value: one tailed test',p_value)\n",
    "\n",
    "\n",
    "if(p_value<0.05):\n",
    "    print(\"Null Hypothesis reject(one tailed test)\")\n",
    "else:\n",
    "    print(\"we fail to reject Null Hypothesis(one tailed test)\")\n",
    "\n",
    "\n",
    "    "
   ]
  },
  {
   "cell_type": "markdown",
   "metadata": {},
   "source": [
    "<b> Two Sample Mean </b>\n",
    "\n"
   ]
  },
  {
   "cell_type": "code",
   "execution_count": null,
   "metadata": {},
   "outputs": [],
   "source": [
    "'''Let’s suppose that a student wants to figure out if biology professors or English professors know more memes.\n",
    "The student writes a meme quiz and springs it on 14 unsuspecting biology professors and 18 unsuspecting English professors during office hours.'''"
   ]
  },
  {
   "cell_type": "code",
   "execution_count": 4,
   "metadata": {
    "ExecuteTime": {
     "end_time": "2020-07-14T07:56:19.830433Z",
     "start_time": "2020-07-14T07:56:19.799186Z"
    }
   },
   "outputs": [],
   "source": [
    "biology =[3, 7, 11, 0, 7, 0, 4, 5, 6, 2, 4, 7, 2, 9]\n",
    "english =[8, 5, 4, 10, 4, 5, 7, 2, 6, 1, 2, 7, 0, 6, 4, 12, 5, 2]"
   ]
  },
  {
   "cell_type": "markdown",
   "metadata": {},
   "source": [
    "<b> Normally Data Distribute or not</b>"
   ]
  },
  {
   "cell_type": "markdown",
   "metadata": {},
   "source": [
    "<b> Method 1:skewness</b>"
   ]
  },
  {
   "cell_type": "code",
   "execution_count": 89,
   "metadata": {
    "ExecuteTime": {
     "end_time": "2020-07-14T11:16:43.613924Z",
     "start_time": "2020-07-14T11:16:43.582677Z"
    }
   },
   "outputs": [
    {
     "name": "stdout",
     "output_type": "stream",
     "text": [
      "biology skewness 0.1841172836475505\n",
      "english skewness 0.48482133398713123\n"
     ]
    }
   ],
   "source": [
    "print(\"biology skewness\",st.skew(biology))\n",
    "print(\"english skewness\",st.skew(english))"
   ]
  },
  {
   "cell_type": "markdown",
   "metadata": {},
   "source": [
    "   <ul>\n",
    "   <li> If the skewness is between -0.5 and 0.5, the data are fairly symmetrical.</li>\n",
    "   <li> If the skewness is between -1 and -0.5(negatively skewed) or between 0.5 and 1(positively skewed), the data are moderately skewed.</li>\n",
    "   <li> If the skewness is less than -1(negatively skewed) or greater than 1(positively skewed), the data are highly skewed</li>\n",
    "    </ul>"
   ]
  },
  {
   "cell_type": "markdown",
   "metadata": {},
   "source": [
    "<b> Method 2: Q-Q plot</b>"
   ]
  },
  {
   "cell_type": "code",
   "execution_count": 92,
   "metadata": {
    "ExecuteTime": {
     "end_time": "2020-07-14T11:47:44.129472Z",
     "start_time": "2020-07-14T11:47:43.806520Z"
    }
   },
   "outputs": [
    {
     "data": {
      "image/png": "[encoded data removed]",
      "text/plain": [
       "<Figure size 432x288 with 1 Axes>"
      ]
     },
     "metadata": {
      "needs_background": "light"
     },
     "output_type": "display_data"
    }
   ],
   "source": [
    "sm.qqplot(np.array(english),line='r')\n",
    "plt.show()"
   ]
  },
  {
   "cell_type": "code",
   "execution_count": 93,
   "metadata": {
    "ExecuteTime": {
     "end_time": "2020-07-14T11:47:47.626318Z",
     "start_time": "2020-07-14T11:47:47.341091Z"
    }
   },
   "outputs": [
    {
     "data": {
      "image/png": "[encoded data removed]",
      "text/plain": [
       "<Figure size 432x288 with 1 Axes>"
      ]
     },
     "metadata": {
      "needs_background": "light"
     },
     "output_type": "display_data"
    }
   ],
   "source": [
    "sm.qqplot(np.array(biology),line='r')\n",
    "plt.show()"
   ]
  },
  {
   "cell_type": "markdown",
   "metadata": {},
   "source": [
    "<b> Optional 2 sample quantile Compare </b>"
   ]
  },
  {
   "cell_type": "code",
   "execution_count": 90,
   "metadata": {
    "ExecuteTime": {
     "end_time": "2020-07-14T11:21:41.880490Z",
     "start_time": "2020-07-14T11:21:41.864854Z"
    },
    "code_folding": [
     3
    ]
   },
   "outputs": [],
   "source": [
    "x=0\n",
    "q_list=[]\n",
    "m=(1/len(biology))\n",
    "for i in range(len(biology)):\n",
    "    x = round(np.quantile(english,m),3)\n",
    "    m=m+(1/len(biology))\n",
    "    q_list.append(x)"
   ]
  },
  {
   "cell_type": "code",
   "execution_count": 82,
   "metadata": {
    "ExecuteTime": {
     "end_time": "2020-07-14T11:09:54.535607Z",
     "start_time": "2020-07-14T11:09:54.181433Z"
    },
    "scrolled": true
   },
   "outputs": [
    {
     "data": {
      "image/png": "[encoded data removed]",
      "text/plain": [
       "<Figure size 432x288 with 1 Axes>"
      ]
     },
     "metadata": {
      "needs_background": "light"
     },
     "output_type": "display_data"
    }
   ],
   "source": [
    "sm.qqplot_2samples(np.array(q_list),np.array(biology),line='45')\n",
    "# sm.qqplot(np.array(biology))\n",
    "plt.show()"
   ]
  },
  {
   "cell_type": "markdown",
   "metadata": {
    "ExecuteTime": {
     "end_time": "2020-07-14T11:22:31.074805Z",
     "start_time": "2020-07-14T11:22:31.059180Z"
    }
   },
   "source": [
    "<b> Method 3:Histogram </b>"
   ]
  },
  {
   "cell_type": "code",
   "execution_count": 32,
   "metadata": {
    "ExecuteTime": {
     "end_time": "2020-07-14T08:31:26.363288Z",
     "start_time": "2020-07-14T08:31:25.751399Z"
    }
   },
   "outputs": [
    {
     "data": {
      "text/plain": [
       "<matplotlib.axes._subplots.AxesSubplot at 0x1fc56706088>"
      ]
     },
     "execution_count": 32,
     "metadata": {},
     "output_type": "execute_result"
    },
    {
     "data": {
      "image/png": "[encoded data removed]",
      "text/plain": [
       "<Figure size 432x288 with 1 Axes>"
      ]
     },
     "metadata": {
      "needs_background": "light"
     },
     "output_type": "display_data"
    }
   ],
   "source": [
    "sns.distplot(english)"
   ]
  },
  {
   "cell_type": "code",
   "execution_count": 83,
   "metadata": {
    "ExecuteTime": {
     "end_time": "2020-07-14T11:10:07.860389Z",
     "start_time": "2020-07-14T11:10:06.040017Z"
    }
   },
   "outputs": [
    {
     "data": {
      "text/plain": [
       "<matplotlib.axes._subplots.AxesSubplot at 0x1fc5f047f08>"
      ]
     },
     "execution_count": 83,
     "metadata": {},
     "output_type": "execute_result"
    },
    {
     "data": {
      "image/png": "[encoded data removed]",
      "text/plain": [
       "<Figure size 432x288 with 1 Axes>"
      ]
     },
     "metadata": {
      "needs_background": "light"
     },
     "output_type": "display_data"
    }
   ],
   "source": [
    "sns.distplot(biology)"
   ]
  },
  {
   "cell_type": "code",
   "execution_count": null,
   "metadata": {
    "ExecuteTime": {
     "end_time": "2020-07-14T12:04:08.926618Z",
     "start_time": "2020-07-14T12:04:08.916655Z"
    }
   },
   "outputs": [],
   "source": [
    "#useful data\n",
    "b_mean=np.mean(biology)\n",
    "e_mean=np.mean(english)\n",
    "b_std=np.std(biology)\n",
    "e_std=np.std(english)\n",
    "b_n1=len(biology)\n",
    "e_n2=len(english)"
   ]
  },
  {
   "cell_type": "code",
   "execution_count": null,
   "metadata": {
    "ExecuteTime": {
     "end_time": "2020-07-14T13:34:42.743886Z",
     "start_time": "2020-07-14T13:34:42.693556Z"
    },
    "code_folding": [
     0
    ],
    "scrolled": false
   },
   "outputs": [],
   "source": [
    "# t-test \n",
    "# H0 both professor equally know about memes\n",
    "#H1 Not equallity \n",
    "# two tailed test\n",
    "\n",
    "alpha=0.05\n",
    "\n",
    "t_star=st.t.ppf(0.975,df=b_n1+e_n2-2)\n",
    "\n",
    "print(\"T Star:\",t_star)\n",
    "# Here 2 sample standard deviation  equally like so here used pooled approach\n",
    "se=((b_n1-1)*(b_std**2)+(e_std**2)*(e_n2-1))/(b_n1+e_n2-1)\n",
    "\n",
    "se=np.sqrt(se)*np.sqrt((1/b_n1)+(1/e_n2))\n",
    "print(\"standard error of mean:\",se)\n",
    "\n",
    "me=t_star*se\n",
    "print(\"Marign of erro:\",me)\n",
    "stcf=(-t_star,t_star)\n",
    "print(\"standard Confidence Interval:\",stcf)\n",
    "x=(b_mean-e_mean)\n",
    "cf=(x-me,x+me)\n",
    "\n",
    "print(\"Actual Confidence Interval:\",cf)\n",
    "t_score=(b_mean-e_mean)/se\n",
    "print(\"T Score\",t_score)\n",
    "p_value=2*(1-st.t.cdf(abs(t_score),df=b_n1+e_n2-2)) \n",
    "print(\"P_value:\",p_value)\n",
    "if(p_value<0.05):\n",
    "    print(\"Null Hypothesis reject\")\n",
    "else:\n",
    "    print(\"Fail to reject Null Hypothesis\")"
   ]
  },
  {
   "cell_type": "code",
   "execution_count": 137,
   "metadata": {
    "ExecuteTime": {
     "end_time": "2020-07-14T13:37:05.328434Z",
     "start_time": "2020-07-14T13:37:05.313841Z"
    },
    "code_folding": [
     0
    ]
   },
   "outputs": [
    {
     "data": {
      "text/plain": [
       "(-0.18941702498737376, 0.42552086143675766, 30.0)"
      ]
     },
     "execution_count": 137,
     "metadata": {},
     "output_type": "execute_result"
    }
   ],
   "source": [
    "# another method  \n",
    "ze.ttest_ind(biology,english,usevar='pooled',alternative='smaller')\n"
   ]
  },
  {
   "cell_type": "markdown",
   "metadata": {},
   "source": [
    "<b> Paired data </b>"
   ]
  },
  {
   "cell_type": "code",
   "execution_count": null,
   "metadata": {},
   "outputs": [],
   "source": [
    "'''A cross-over trial investigated whether eating oat bran lowered serum cholesterol levels.\n",
    "Fourteen (14) individuals were randomly assigned a diet that included either oat branor corn flakes.\n",
    "After two weeks on the initial diet,  serum cholesterol were measured and the participants were then “crossed-over” to the alternate diet.\n",
    "After two-weeks on the second diet, cholesterol levels were once again recorded. Data appear below. The variable CORNFLK in the table represents cholesterol level (mmol/L) of the participant on the corn flake diet. \n",
    "The variable OATBRAN represents the participant’s cholesterol on the oat bran diet.'''"
   ]
  },
  {
   "cell_type": "code",
   "execution_count": 172,
   "metadata": {
    "ExecuteTime": {
     "end_time": "2020-07-14T15:53:21.380037Z",
     "start_time": "2020-07-14T15:53:21.364946Z"
    }
   },
   "outputs": [],
   "source": [
    "l1=[]\n",
    "st=\"4.616.425.404.543.983.825.014.343.804.565.353.892.254.24\"\n",
    "i=0\n",
    "while(i<len(st)):\n",
    "     l1.append(float(st[i:i+4]))\n",
    "     i=i+4"
   ]
  },
  {
   "cell_type": "code",
   "execution_count": 173,
   "metadata": {
    "ExecuteTime": {
     "end_time": "2020-07-14T15:53:25.815152Z",
     "start_time": "2020-07-14T15:53:25.605176Z"
    }
   },
   "outputs": [
    {
     "data": {
      "text/plain": [
       "[4.61,\n",
       " 6.42,\n",
       " 5.4,\n",
       " 4.54,\n",
       " 3.98,\n",
       " 3.82,\n",
       " 5.01,\n",
       " 4.34,\n",
       " 3.8,\n",
       " 4.56,\n",
       " 5.35,\n",
       " 3.89,\n",
       " 2.25,\n",
       " 4.24]"
      ]
     },
     "execution_count": 173,
     "metadata": {},
     "output_type": "execute_result"
    }
   ],
   "source": [
    "l1"
   ]
  },
  {
   "cell_type": "code",
   "execution_count": null,
   "metadata": {},
   "outputs": [],
   "source": []
  }
 ],
 "metadata": {
  "kernelspec": {
   "display_name": "Python 3",
   "language": "python",
   "name": "python3"
  },
  "language_info": {
   "codemirror_mode": {
    "name": "ipython",
    "version": 3
   },
   "file_extension": ".py",
   "mimetype": "text/x-python",
   "name": "python",
   "nbconvert_exporter": "python",
   "pygments_lexer": "ipython3",
   "version": "3.7.6"
  },
  "toc": {
   "base_numbering": 1,
   "nav_menu": {},
   "number_sections": true,
   "sideBar": true,
   "skip_h1_title": false,
   "title_cell": "Table of Contents",
   "title_sidebar": "Contents",
   "toc_cell": false,
   "toc_position": {},
   "toc_section_display": true,
   "toc_window_display": false
  }
 },
 "nbformat": 4,
 "nbformat_minor": 4
}
