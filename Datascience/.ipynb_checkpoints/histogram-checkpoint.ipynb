{
 "cells": [
  {
   "cell_type": "code",
   "execution_count": 12,
   "metadata": {
    "ExecuteTime": {
     "end_time": "2020-05-31T08:12:30.852772Z",
     "start_time": "2020-05-31T08:12:30.705794Z"
    }
   },
   "outputs": [],
   "source": [
    "import matplotlib.pylab as plt\n",
    "import statistics as st \n",
    "import random"
   ]
  },
  {
   "cell_type": "code",
   "execution_count": 4,
   "metadata": {
    "ExecuteTime": {
     "end_time": "2020-05-31T08:04:20.771294Z",
     "start_time": "2020-05-31T08:04:17.864102Z"
    }
   },
   "outputs": [],
   "source": [
    "%matplotlib qt"
   ]
  },
  {
   "cell_type": "code",
   "execution_count": 5,
   "metadata": {
    "ExecuteTime": {
     "end_time": "2020-05-31T08:04:26.161124Z",
     "start_time": "2020-05-31T08:04:20.771294Z"
    }
   },
   "outputs": [],
   "source": [
    "x = [1, 1, 2, 3, 3, 5, 7, 8, 9, 10,\n",
    "     10, 11, 11, 13, 13, 15, 16, 17, 18, 18,\n",
    "     18, 19, 20, 21, 21, 23, 24, 24, 25, 25,\n",
    "     25, 25, 26, 26, 26, 27, 27, 27, 27, 27,\n",
    "     29, 30, 30, 31, 33, 34, 34, 34, 35, 36,\n",
    "     36, 37, 37, 38, 38, 39, 40, 41, 41, 42,\n",
    "     43, 44, 45, 45, 46, 47, 48, 48, 49, 50,\n",
    "     51, 52, 53, 54, 55, 55, 56, 57, 58, 60,\n",
    "     61, 63, 64, 65, 66, 68, 70, 71, 72, 74,\n",
    "     75, 77, 81, 83, 84, 87, 89, 90, 90, 91\n",
    "     ]\n"
   ]
  },
  {
   "cell_type": "code",
   "execution_count": null,
   "metadata": {},
   "outputs": [],
   "source": [
    "sampleSizes = range(10, 500, 50)"
   ]
  },
  {
   "cell_type": "code",
   "execution_count": null,
   "metadata": {
    "ExecuteTime": {
     "start_time": "2020-05-31T08:15:39.741Z"
    }
   },
   "outputs": [],
   "source": [
    "l1=[]\n",
    "for i in range (10000):\n",
    "    sampled_list = random.sample(x, 10)\n",
    "    l1.append(st.mean(sampled_list))\n",
    "    \n",
    "l1  "
   ]
  },
  {
   "cell_type": "code",
   "execution_count": null,
   "metadata": {},
   "outputs": [],
   "source": []
  },
  {
   "cell_type": "code",
   "execution_count": 18,
   "metadata": {
    "ExecuteTime": {
     "end_time": "2020-05-31T08:14:06.802928Z",
     "start_time": "2020-05-31T08:14:06.471395Z"
    }
   },
   "outputs": [],
   "source": [
    "plt.figure()\n",
    "plt.hist(l1, bins=10)\n",
    "# plt.xticks(x)\n",
    "plt.xticks(rotation=90)\n",
    "plt.show()"
   ]
  },
  {
   "cell_type": "code",
   "execution_count": null,
   "metadata": {},
   "outputs": [],
   "source": []
  }
 ],
 "metadata": {
  "kernelspec": {
   "display_name": "Python 3",
   "language": "python",
   "name": "python3"
  },
  "language_info": {
   "codemirror_mode": {
    "name": "ipython",
    "version": 3
   },
   "file_extension": ".py",
   "mimetype": "text/x-python",
   "name": "python",
   "nbconvert_exporter": "python",
   "pygments_lexer": "ipython3",
   "version": "3.7.6"
  },
  "toc": {
   "base_numbering": 1,
   "nav_menu": {},
   "number_sections": true,
   "sideBar": true,
   "skip_h1_title": false,
   "title_cell": "Table of Contents",
   "title_sidebar": "Contents",
   "toc_cell": false,
   "toc_position": {},
   "toc_section_display": true,
   "toc_window_display": false
  }
 },
 "nbformat": 4,
 "nbformat_minor": 4
}
