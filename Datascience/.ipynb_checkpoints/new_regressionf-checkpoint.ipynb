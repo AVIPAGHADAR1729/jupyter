{
 "cells": [
  {
   "cell_type": "code",
   "execution_count": 1,
   "metadata": {},
   "outputs": [],
   "source": [
    "import numpy as np\n",
    "import scipy as sc\n",
    "from scipy import interpolate\n",
    "import matplotlib.pyplot as plt\n",
    "import sklearn.linear_model \n",
    "from sklearn.metrics import r2_score\n",
    "import statistics as st\n",
    "from sklearn.preprocessing import PolynomialFeatures\n",
    "from sklearn.linear_model import LinearRegression\n",
    "lm=LinearRegression()"
   ]
  },
  {
   "cell_type": "code",
   "execution_count": 2,
   "metadata": {},
   "outputs": [
    {
     "name": "stdout",
     "output_type": "stream",
     "text": [
      "(10, 2)\n"
     ]
    },
    {
     "data": {
      "text/html": [
       "<div>\n",
       "<style scoped>\n",
       "    .dataframe tbody tr th:only-of-type {\n",
       "        vertical-align: middle;\n",
       "    }\n",
       "\n",
       "    .dataframe tbody tr th {\n",
       "        vertical-align: top;\n",
       "    }\n",
       "\n",
       "    .dataframe thead th {\n",
       "        text-align: right;\n",
       "    }\n",
       "</style>\n",
       "<table border=\"1\" class=\"dataframe\">\n",
       "  <thead>\n",
       "    <tr style=\"text-align: right;\">\n",
       "      <th></th>\n",
       "      <th>Day</th>\n",
       "      <th>profit</th>\n",
       "    </tr>\n",
       "  </thead>\n",
       "  <tbody>\n",
       "    <tr>\n",
       "      <th>0</th>\n",
       "      <td>1</td>\n",
       "      <td>13</td>\n",
       "    </tr>\n",
       "    <tr>\n",
       "      <th>1</th>\n",
       "      <td>2</td>\n",
       "      <td>17</td>\n",
       "    </tr>\n",
       "    <tr>\n",
       "      <th>2</th>\n",
       "      <td>3</td>\n",
       "      <td>73</td>\n",
       "    </tr>\n",
       "    <tr>\n",
       "      <th>3</th>\n",
       "      <td>4</td>\n",
       "      <td>96</td>\n",
       "    </tr>\n",
       "    <tr>\n",
       "      <th>4</th>\n",
       "      <td>5</td>\n",
       "      <td>124</td>\n",
       "    </tr>\n",
       "    <tr>\n",
       "      <th>5</th>\n",
       "      <td>6</td>\n",
       "      <td>220</td>\n",
       "    </tr>\n",
       "    <tr>\n",
       "      <th>6</th>\n",
       "      <td>7</td>\n",
       "      <td>210</td>\n",
       "    </tr>\n",
       "    <tr>\n",
       "      <th>7</th>\n",
       "      <td>8</td>\n",
       "      <td>228</td>\n",
       "    </tr>\n",
       "    <tr>\n",
       "      <th>8</th>\n",
       "      <td>9</td>\n",
       "      <td>250</td>\n",
       "    </tr>\n",
       "    <tr>\n",
       "      <th>9</th>\n",
       "      <td>10</td>\n",
       "      <td>285</td>\n",
       "    </tr>\n",
       "  </tbody>\n",
       "</table>\n",
       "</div>"
      ],
      "text/plain": [
       "   Day  profit\n",
       "0    1      13\n",
       "1    2      17\n",
       "2    3      73\n",
       "3    4      96\n",
       "4    5     124\n",
       "5    6     220\n",
       "6    7     210\n",
       "7    8     228\n",
       "8    9     250\n",
       "9   10     285"
      ]
     },
     "execution_count": 2,
     "metadata": {},
     "output_type": "execute_result"
    }
   ],
   "source": [
    "import pandas as pd\n",
    "shop=pd.read_csv('../../../Documents/regression1.csv')\n",
    "print(shop.shape)\n",
    "mind=shop\n",
    "\n",
    "shop.iloc[5,1]=220\n",
    "shop"
   ]
  },
  {
   "cell_type": "code",
   "execution_count": 3,
   "metadata": {},
   "outputs": [],
   "source": [
    "%matplotlib qt"
   ]
  },
  {
   "cell_type": "code",
   "execution_count": 4,
   "metadata": {},
   "outputs": [],
   "source": [
    "slop=[]\n",
    "intersect=[]\n",
    "for i in range(0,10):\n",
    "    m1=shop.drop(i, axis=0)\n",
    "    X = m1[\"Day\"].values.reshape(-1,1)\n",
    "    Y= m1['profit'].values.reshape(-1,1)\n",
    "    lm.fit(X,Y)\n",
    "#     k=lm.predict(X)\n",
    "#     plt.figure()\n",
    "#     plt.scatter(X,Y)\n",
    "#     plt.plot(X,k)\n",
    "    slop.append(lm.coef_.tolist())\n",
    "    intersect.append(lm.intercept_.tolist())"
   ]
  },
  {
   "cell_type": "code",
   "execution_count": 5,
   "metadata": {},
   "outputs": [
    {
     "name": "stdout",
     "output_type": "stream",
     "text": [
      "nik\n",
      "[32.550000000000004, 30.811290322580657, 32.130882352941164, 31.916666666666668, 31.99459459459459, 31.718918918918913, 31.85833333333334, 32.21176470588236, 32.85483870967741, 32.98333333333334]\n",
      "[-28.30000000000001, -14.888709677419456, -25.31176470588227, -23.083333333333343, -23.081081081081066, -28.691891891891856, -24.80000000000004, -25.105882352941222, -27.258064516128968, -28.138888888888943]\n"
     ]
    }
   ],
   "source": [
    "p=[]\n",
    "q=[]\n",
    "for i in range(len(slop)):\n",
    "    p.append(slop[i][0][0])\n",
    "    q.append(intersect[i][0])\n",
    "print(\"nik\") \n",
    "print(p)\n",
    "print(q)"
   ]
  },
  {
   "cell_type": "code",
   "execution_count": 6,
   "metadata": {},
   "outputs": [
    {
     "name": "stdout",
     "output_type": "stream",
     "text": [
      "0.6213810925480995 4.06932075919516\n"
     ]
    }
   ],
   "source": [
    "fm=st.stdev(p)\n",
    "fi=st.stdev(q)\n",
    "print(fm,fi)"
   ]
  },
  {
   "cell_type": "code",
   "execution_count": null,
   "metadata": {},
   "outputs": [],
   "source": []
  },
  {
   "cell_type": "code",
   "execution_count": 7,
   "metadata": {},
   "outputs": [
    {
     "name": "stdout",
     "output_type": "stream",
     "text": [
      "   Day  profit\n",
      "0    1      13\n",
      "1    2      17\n",
      "2    3      73\n",
      "3    4      96\n",
      "4    5     124\n",
      "5    6     220\n",
      "6    7     210\n",
      "7    8     228\n",
      "8    9     250\n",
      "9   10     285\n"
     ]
    }
   ],
   "source": [
    "print(shop)\n"
   ]
  },
  {
   "cell_type": "code",
   "execution_count": 8,
   "metadata": {},
   "outputs": [
    {
     "name": "stdout",
     "output_type": "stream",
     "text": [
      "(10, 1)\n",
      "[[32.07272727]] [-24.8]\n",
      "0.9560854186416361\n"
     ]
    }
   ],
   "source": [
    "X=shop[\"Day\"].values.reshape(-1,1)\n",
    "Y=shop['profit'].values.reshape(-1,1)\n",
    "lm.fit(X,Y)\n",
    "y_predict=lm.predict(X)\n",
    "print(X.shape)\n",
    "print(lm.coef_,lm.intercept_)\n",
    "coefficient_of_dermination = r2_score(Y, 32.07272727*X-24.8)\n",
    "print(coefficient_of_dermination)\n"
   ]
  },
  {
   "cell_type": "code",
   "execution_count": 9,
   "metadata": {},
   "outputs": [],
   "source": [
    "l1=[]\n",
    "l2=[]\n",
    "def mstd(m,l1):\n",
    "    sum=0\n",
    "    for i in l1:\n",
    "        sum=sum +(i-m)**2\n",
    "    return ((sum)/len(l1))**0.5\n"
   ]
  },
  {
   "cell_type": "code",
   "execution_count": 10,
   "metadata": {},
   "outputs": [
    {
     "name": "stdout",
     "output_type": "stream",
     "text": [
      "[32.550000000000004, 30.811290322580657, 32.130882352941164, 31.916666666666668, 31.99459459459459, 31.718918918918913, 31.85833333333334, 32.21176470588236, 32.85483870967741, 32.98333333333334]\n",
      "[-28.30000000000001, -14.888709677419456, -25.31176470588227, -23.083333333333343, -23.081081081081066, -28.691891891891856, -24.80000000000004, -25.105882352941222, -27.258064516128968, -28.138888888888943]\n"
     ]
    }
   ],
   "source": [
    "print(p)\n",
    "print(q)"
   ]
  },
  {
   "cell_type": "code",
   "execution_count": 11,
   "metadata": {},
   "outputs": [
    {
     "name": "stdout",
     "output_type": "stream",
     "text": [
      "0.6213810925480995 4.06932075919516\n"
     ]
    }
   ],
   "source": [
    "fm=st.stdev(p)\n",
    "fi=st.stdev(q)\n",
    "print(fm,fi)"
   ]
  },
  {
   "cell_type": "code",
   "execution_count": 12,
   "metadata": {},
   "outputs": [],
   "source": [
    "import random\n"
   ]
  },
  {
   "cell_type": "code",
   "execution_count": 13,
   "metadata": {},
   "outputs": [],
   "source": [
    "l4=[]\n",
    "\n",
    "def si(std_s,std_i,num_trials,k):\n",
    "    sum=0\n",
    "    for i in range (num_trials):\n",
    "        sum=sum+(( 32.103062293792846-random.uniform(0,std_s))*k-24.865961644756716-random.uniform(0,10.06903065077034))\n",
    "   \n",
    "    x=sum/num_trials\n",
    "    sum=0\n",
    "#     for i in range (num_trials):\n",
    "#         sum=sum+((32.07272727+random.uniform(0,std_s))*k-24.8-random.uniform(0,10.06903065077034))\n",
    "#     x=(sum/num_trials)\n",
    "#     sum=0\n",
    "#     for i in range (num_trials):\n",
    "#         sum=sum+((32.07272727-random.uniform(0,std_s))*k-24.8+random.uniform(0,10.06903065077034))\n",
    "#     x=x+(sum/num_trials)\n",
    "#     sum=0\n",
    "#     for i in range (num_trials):\n",
    "#         sum=sum+((32.07272727+random.uniform(0,std_s))*k-24.8+random.uniform(0,10.06903065077034))\n",
    "#     x=x+(sum/num_trials)\n",
    "#     sum=0\n",
    "    return (x)\n",
    "  "
   ]
  },
  {
   "cell_type": "code",
   "execution_count": 14,
   "metadata": {},
   "outputs": [
    {
     "name": "stdout",
     "output_type": "stream",
     "text": [
      "[319.8132110045573, 351.73733040508563, 383.2643002768596, 415.2072487072604, 447.0831750347456, 478.86563349515706, 510.73357663676893, 542.4464987515915, 574.0728454196479, 606.0930283988137, 637.6712299054334, 669.5267463406728, 701.3629306845471, 732.9968394847714, 765.0224222890835, 796.6272733007338, 828.5006090002098, 860.465690569558, 892.1321332209028]\n",
      "[[328.        ]\n",
      " [360.07272727]\n",
      " [392.14545455]\n",
      " [424.21818182]\n",
      " [456.29090909]\n",
      " [488.36363636]\n",
      " [520.43636364]\n",
      " [552.50909091]\n",
      " [584.58181818]\n",
      " [616.65454545]\n",
      " [648.72727273]\n",
      " [680.8       ]\n",
      " [712.87272727]\n",
      " [744.94545455]\n",
      " [777.01818182]\n",
      " [809.09090909]\n",
      " [841.16363636]\n",
      " [873.23636364]\n",
      " [905.30909091]]\n"
     ]
    }
   ],
   "source": [
    "l1=[]\n",
    "l2=[]\n",
    "for  i in range(11,30):\n",
    "  l1.append(i)\n",
    "  l2.append((si(fm, fi,2000,i)))\n",
    "print(l2)\n",
    "# print(l1)\n",
    "# print(l2)\n",
    "plt.scatter(X,Y)\n",
    "plt.plot(X,y_predict)\n",
    "\n",
    "plt.xlabel(\"Day\")\n",
    "plt.ylabel(\"profit\")\n",
    "plt.scatter(l1,l2,color='g')\n",
    "y_new=lm.predict(np.reshape(l1,(-1,1)))\n",
    "print(y_new)\n",
    "plt.plot(l1,y_new)\n",
    "plt.show()\n"
   ]
  },
  {
   "cell_type": "code",
   "execution_count": null,
   "metadata": {},
   "outputs": [],
   "source": []
  },
  {
   "cell_type": "markdown",
   "metadata": {},
   "source": [
    "## Extra info"
   ]
  },
  {
   "cell_type": "code",
   "execution_count": 15,
   "metadata": {},
   "outputs": [
    {
     "name": "stdout",
     "output_type": "stream",
     "text": [
      "mean slop  32.103062293792846\n",
      "std slop 0.6213810925480995\n",
      "mean  intercept  -24.865961644756716\n",
      "std intercept 4.06932075919516\n"
     ]
    }
   ],
   "source": [
    "# X=shop[\"Day\"].values.reshape(-1,1)\n",
    "# Y=shop['profit'].values.reshape(-1,1)\n",
    "# coefficient_of_dermination = r2_score(Y, 37.42857143*X-42.14285714)\n",
    "# print(coefficient_of_dermination)\n",
    "\n",
    "print(\"mean slop \",st.mean(p))\n",
    "print(\"std slop\",st.stdev(p))\n",
    "print(\"mean  intercept \",st.mean(q))\n",
    "print(\"std intercept\",st.stdev(q))\n",
    "# print(\"Std X\",st.stdev(mind[\"Day\"].values))\n",
    "# print(\"Mean X\",st.mean(mind[\"Day\"].values))\n",
    "# print(\"Std Y\",st.stdev(mind[\"profit\"].values))\n",
    "# print(\"Mean Y\",st.mean(mind[\"profit\"].values))"
   ]
  },
  {
   "cell_type": "code",
   "execution_count": null,
   "metadata": {},
   "outputs": [],
   "source": []
  }
 ],
 "metadata": {
  "kernelspec": {
   "display_name": "Python 3",
   "language": "python",
   "name": "python3"
  },
  "language_info": {
   "codemirror_mode": {
    "name": "ipython",
    "version": 3
   },
   "file_extension": ".py",
   "mimetype": "text/x-python",
   "name": "python",
   "nbconvert_exporter": "python",
   "pygments_lexer": "ipython3",
   "version": "3.7.6"
  }
 },
 "nbformat": 4,
 "nbformat_minor": 4
}
