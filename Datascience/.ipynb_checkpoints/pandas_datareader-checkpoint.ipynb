{
 "cells": [
  {
   "cell_type": "code",
   "execution_count": 1,
   "metadata": {
    "ExecuteTime": {
     "end_time": "2020-06-17T15:25:53.624154Z",
     "start_time": "2020-06-17T15:25:50.559212Z"
    }
   },
   "outputs": [
    {
     "name": "stderr",
     "output_type": "stream",
     "text": [
      "C:\\Users\\nikhil\\anaconda3\\lib\\site-packages\\pandas_datareader\\compat\\__init__.py:7: FutureWarning: pandas.util.testing is deprecated. Use the functions in the public API at pandas.testing instead.\n",
      "  from pandas.util.testing import assert_frame_equal\n"
     ]
    }
   ],
   "source": [
    "import pandas as pd\n",
    "import pandas_datareader as data\n",
    "import seaborn as sns"
   ]
  },
  {
   "cell_type": "code",
   "execution_count": 2,
   "metadata": {
    "ExecuteTime": {
     "end_time": "2020-06-17T15:25:55.497619Z",
     "start_time": "2020-06-17T15:25:53.624154Z"
    }
   },
   "outputs": [],
   "source": [
    "yahoo = data.DataReader(\"AAPL\",\n",
    "                       start='2020-06-1',\n",
    "                       end='2020-06-17',\n",
    "                       data_source='yahoo')"
   ]
  },
  {
   "cell_type": "code",
   "execution_count": 3,
   "metadata": {
    "ExecuteTime": {
     "end_time": "2020-06-17T15:25:55.544473Z",
     "start_time": "2020-06-17T15:25:55.497619Z"
    }
   },
   "outputs": [
    {
     "data": {
      "text/html": [
       "<div>\n",
       "<style scoped>\n",
       "    .dataframe tbody tr th:only-of-type {\n",
       "        vertical-align: middle;\n",
       "    }\n",
       "\n",
       "    .dataframe tbody tr th {\n",
       "        vertical-align: top;\n",
       "    }\n",
       "\n",
       "    .dataframe thead th {\n",
       "        text-align: right;\n",
       "    }\n",
       "</style>\n",
       "<table border=\"1\" class=\"dataframe\">\n",
       "  <thead>\n",
       "    <tr style=\"text-align: right;\">\n",
       "      <th></th>\n",
       "      <th>High</th>\n",
       "      <th>Low</th>\n",
       "      <th>Open</th>\n",
       "      <th>Close</th>\n",
       "      <th>Volume</th>\n",
       "      <th>Adj Close</th>\n",
       "    </tr>\n",
       "    <tr>\n",
       "      <th>Date</th>\n",
       "      <th></th>\n",
       "      <th></th>\n",
       "      <th></th>\n",
       "      <th></th>\n",
       "      <th></th>\n",
       "      <th></th>\n",
       "    </tr>\n",
       "  </thead>\n",
       "  <tbody>\n",
       "    <tr>\n",
       "      <th>2020-06-01</th>\n",
       "      <td>322.350006</td>\n",
       "      <td>317.209991</td>\n",
       "      <td>317.750000</td>\n",
       "      <td>321.850006</td>\n",
       "      <td>20197800</td>\n",
       "      <td>321.850006</td>\n",
       "    </tr>\n",
       "    <tr>\n",
       "      <th>2020-06-02</th>\n",
       "      <td>323.440002</td>\n",
       "      <td>318.929993</td>\n",
       "      <td>320.750000</td>\n",
       "      <td>323.339996</td>\n",
       "      <td>21910700</td>\n",
       "      <td>323.339996</td>\n",
       "    </tr>\n",
       "    <tr>\n",
       "      <th>2020-06-03</th>\n",
       "      <td>326.200012</td>\n",
       "      <td>322.299988</td>\n",
       "      <td>324.660004</td>\n",
       "      <td>325.119995</td>\n",
       "      <td>26122800</td>\n",
       "      <td>325.119995</td>\n",
       "    </tr>\n",
       "    <tr>\n",
       "      <th>2020-06-04</th>\n",
       "      <td>325.619995</td>\n",
       "      <td>320.779999</td>\n",
       "      <td>324.390015</td>\n",
       "      <td>322.320007</td>\n",
       "      <td>21890100</td>\n",
       "      <td>322.320007</td>\n",
       "    </tr>\n",
       "    <tr>\n",
       "      <th>2020-06-05</th>\n",
       "      <td>331.750000</td>\n",
       "      <td>323.230011</td>\n",
       "      <td>323.350006</td>\n",
       "      <td>331.500000</td>\n",
       "      <td>34312600</td>\n",
       "      <td>331.500000</td>\n",
       "    </tr>\n",
       "    <tr>\n",
       "      <th>2020-06-08</th>\n",
       "      <td>333.600006</td>\n",
       "      <td>327.320007</td>\n",
       "      <td>330.250000</td>\n",
       "      <td>333.459991</td>\n",
       "      <td>23913600</td>\n",
       "      <td>333.459991</td>\n",
       "    </tr>\n",
       "    <tr>\n",
       "      <th>2020-06-09</th>\n",
       "      <td>345.609985</td>\n",
       "      <td>332.010010</td>\n",
       "      <td>332.140015</td>\n",
       "      <td>343.989990</td>\n",
       "      <td>36928100</td>\n",
       "      <td>343.989990</td>\n",
       "    </tr>\n",
       "    <tr>\n",
       "      <th>2020-06-10</th>\n",
       "      <td>354.769989</td>\n",
       "      <td>346.089996</td>\n",
       "      <td>347.899994</td>\n",
       "      <td>352.839996</td>\n",
       "      <td>41662900</td>\n",
       "      <td>352.839996</td>\n",
       "    </tr>\n",
       "    <tr>\n",
       "      <th>2020-06-11</th>\n",
       "      <td>351.059998</td>\n",
       "      <td>335.480011</td>\n",
       "      <td>349.309998</td>\n",
       "      <td>335.899994</td>\n",
       "      <td>50415600</td>\n",
       "      <td>335.899994</td>\n",
       "    </tr>\n",
       "    <tr>\n",
       "      <th>2020-06-12</th>\n",
       "      <td>347.799988</td>\n",
       "      <td>334.220001</td>\n",
       "      <td>344.720001</td>\n",
       "      <td>338.799988</td>\n",
       "      <td>50001500</td>\n",
       "      <td>338.799988</td>\n",
       "    </tr>\n",
       "    <tr>\n",
       "      <th>2020-06-15</th>\n",
       "      <td>345.679993</td>\n",
       "      <td>332.579987</td>\n",
       "      <td>333.250000</td>\n",
       "      <td>342.989990</td>\n",
       "      <td>34702200</td>\n",
       "      <td>342.989990</td>\n",
       "    </tr>\n",
       "    <tr>\n",
       "      <th>2020-06-16</th>\n",
       "      <td>353.200012</td>\n",
       "      <td>344.720001</td>\n",
       "      <td>351.459991</td>\n",
       "      <td>352.079987</td>\n",
       "      <td>41276300</td>\n",
       "      <td>352.079987</td>\n",
       "    </tr>\n",
       "    <tr>\n",
       "      <th>2020-06-17</th>\n",
       "      <td>355.369995</td>\n",
       "      <td>352.329987</td>\n",
       "      <td>355.149994</td>\n",
       "      <td>353.029999</td>\n",
       "      <td>11702679</td>\n",
       "      <td>353.029999</td>\n",
       "    </tr>\n",
       "  </tbody>\n",
       "</table>\n",
       "</div>"
      ],
      "text/plain": [
       "                  High         Low        Open       Close    Volume  \\\n",
       "Date                                                                   \n",
       "2020-06-01  322.350006  317.209991  317.750000  321.850006  20197800   \n",
       "2020-06-02  323.440002  318.929993  320.750000  323.339996  21910700   \n",
       "2020-06-03  326.200012  322.299988  324.660004  325.119995  26122800   \n",
       "2020-06-04  325.619995  320.779999  324.390015  322.320007  21890100   \n",
       "2020-06-05  331.750000  323.230011  323.350006  331.500000  34312600   \n",
       "2020-06-08  333.600006  327.320007  330.250000  333.459991  23913600   \n",
       "2020-06-09  345.609985  332.010010  332.140015  343.989990  36928100   \n",
       "2020-06-10  354.769989  346.089996  347.899994  352.839996  41662900   \n",
       "2020-06-11  351.059998  335.480011  349.309998  335.899994  50415600   \n",
       "2020-06-12  347.799988  334.220001  344.720001  338.799988  50001500   \n",
       "2020-06-15  345.679993  332.579987  333.250000  342.989990  34702200   \n",
       "2020-06-16  353.200012  344.720001  351.459991  352.079987  41276300   \n",
       "2020-06-17  355.369995  352.329987  355.149994  353.029999  11702679   \n",
       "\n",
       "             Adj Close  \n",
       "Date                    \n",
       "2020-06-01  321.850006  \n",
       "2020-06-02  323.339996  \n",
       "2020-06-03  325.119995  \n",
       "2020-06-04  322.320007  \n",
       "2020-06-05  331.500000  \n",
       "2020-06-08  333.459991  \n",
       "2020-06-09  343.989990  \n",
       "2020-06-10  352.839996  \n",
       "2020-06-11  335.899994  \n",
       "2020-06-12  338.799988  \n",
       "2020-06-15  342.989990  \n",
       "2020-06-16  352.079987  \n",
       "2020-06-17  353.029999  "
      ]
     },
     "execution_count": 3,
     "metadata": {},
     "output_type": "execute_result"
    }
   ],
   "source": [
    "yahoo"
   ]
  },
  {
   "cell_type": "code",
   "execution_count": 4,
   "metadata": {
    "ExecuteTime": {
     "end_time": "2020-06-17T15:25:55.846194Z",
     "start_time": "2020-06-17T15:25:55.544473Z"
    }
   },
   "outputs": [
    {
     "ename": "SyntaxError",
     "evalue": "unexpected EOF while parsing (<ipython-input-4-8e984fe26415>, line 1)",
     "output_type": "error",
     "traceback": [
      "\u001b[1;36m  File \u001b[1;32m\"<ipython-input-4-8e984fe26415>\"\u001b[1;36m, line \u001b[1;32m1\u001b[0m\n\u001b[1;33m    sns.barplot('Open','Close',data=yahoo).set_xticklabels(\u001b[0m\n\u001b[1;37m                                                           ^\u001b[0m\n\u001b[1;31mSyntaxError\u001b[0m\u001b[1;31m:\u001b[0m unexpected EOF while parsing\n"
     ]
    }
   ],
   "source": []
  },
  {
   "cell_type": "code",
   "execution_count": null,
   "metadata": {},
   "outputs": [],
   "source": []
  }
 ],
 "metadata": {
  "kernelspec": {
   "display_name": "Python 3",
   "language": "python",
   "name": "python3"
  },
  "language_info": {
   "codemirror_mode": {
    "name": "ipython",
    "version": 3
   },
   "file_extension": ".py",
   "mimetype": "text/x-python",
   "name": "python",
   "nbconvert_exporter": "python",
   "pygments_lexer": "ipython3",
   "version": "3.7.6"
  },
  "toc": {
   "base_numbering": 1,
   "nav_menu": {},
   "number_sections": true,
   "sideBar": true,
   "skip_h1_title": false,
   "title_cell": "Table of Contents",
   "title_sidebar": "Contents",
   "toc_cell": false,
   "toc_position": {},
   "toc_section_display": true,
   "toc_window_display": false
  }
 },
 "nbformat": 4,
 "nbformat_minor": 4
}
