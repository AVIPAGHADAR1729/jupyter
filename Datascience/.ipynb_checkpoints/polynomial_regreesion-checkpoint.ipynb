{
 "cells": [
  {
   "cell_type": "code",
   "execution_count": null,
   "metadata": {},
   "outputs": [],
   "source": [
    "import numpy as np\n",
    "import scipy as sc\n",
    "from scipy import interpolate\n",
    "import matplotlib.pyplot as plt\n",
    "import sklearn.linear_model \n",
    "from sklearn.metrics import r2_score\n",
    "import statistics as st\n",
    "from sklearn.preprocessing import PolynomialFeatures\n",
    "from sklearn.linear_model import LinearRegression\n",
    "lm=LinearRegression()"
   ]
  },
  {
   "cell_type": "code",
   "execution_count": 1,
   "metadata": {},
   "outputs": [
    {
     "name": "stdout",
     "output_type": "stream",
     "text": [
      "(10, 2)\n"
     ]
    }
   ],
   "source": [
    "import pandas as pd\n",
    "shop=pd.read_csv('../../../Documents/regression1.csv')\n",
    "print(shop.shape)\n",
    "shop=shop[0:10]\n"
   ]
  },
  {
   "cell_type": "code",
   "execution_count": null,
   "metadata": {},
   "outputs": [],
   "source": []
  },
  {
   "cell_type": "code",
   "execution_count": null,
   "metadata": {},
   "outputs": [],
   "source": [
    "b=np.reshape(shop[\"Day\"].values,(-1,))\n",
    "c=np.reshape(shop[\"profit\"].values,(-1,))\n",
    "l1=np.linspace(1,10,100)\n",
    "x=3\n",
    "p1=np.polyfit(b,c,x)\n",
    "\n",
    "plt.figure()\n",
    "plt.title(\"curve\")\n",
    "print(p1)\n",
    "plt.scatter(b,c,color='b')\n",
    "plt.xlabel(\"Day\")\n",
    "plt.legend(str(x))\n",
    "plt.ylabel(\"profit\")\n",
    "plt.plot(l1,np.polyval(p1,l1),color='g')\n"
   ]
  },
  {
   "cell_type": "code",
   "execution_count": null,
   "metadata": {},
   "outputs": [],
   "source": [
    "f = np.poly1d(p1)\n",
    "x_new = np.linspace(1, 10, 10)\n",
    "y_new=f(x_new)\n",
    "plt.figure()\n",
    "plt.title(\"predict curve\")\n",
    "plt.xlabel(\"Day\")\n",
    "plt.ylabel(\"profit\")\n",
    "plt.plot(x_new,y_new)\n",
    "print(y_new)\n",
    "print(Y.reshape(1,-1))\n",
    "plt.show()\n"
   ]
  },
  {
   "cell_type": "code",
   "execution_count": null,
   "metadata": {},
   "outputs": [],
   "source": []
  },
  {
   "cell_type": "code",
   "execution_count": null,
   "metadata": {},
   "outputs": [],
   "source": []
  },
  {
   "cell_type": "code",
   "execution_count": null,
   "metadata": {},
   "outputs": [],
   "source": []
  },
  {
   "cell_type": "code",
   "execution_count": null,
   "metadata": {},
   "outputs": [],
   "source": []
  },
  {
   "cell_type": "code",
   "execution_count": null,
   "metadata": {},
   "outputs": [],
   "source": []
  }
 ],
 "metadata": {
  "kernelspec": {
   "display_name": "Python 3",
   "language": "python",
   "name": "python3"
  },
  "language_info": {
   "codemirror_mode": {
    "name": "ipython",
    "version": 3
   },
   "file_extension": ".py",
   "mimetype": "text/x-python",
   "name": "python",
   "nbconvert_exporter": "python",
   "pygments_lexer": "ipython3",
   "version": "3.7.6"
  }
 },
 "nbformat": 4,
 "nbformat_minor": 4
}
